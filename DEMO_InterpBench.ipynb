{
 "cells": [
  {
   "cell_type": "markdown",
   "metadata": {},
   "source": [
    "<a target=\"_blank\" href=\"https://colab.research.google.com/github/FlyingPumba/circuits-benchmark/blob/main/DEMO_InterpBench.ipynb\">\n",
    "  <img src=\"https://colab.research.google.com/assets/colab-badge.svg\" alt=\"Open In Colab\"/>\n",
    "</a>"
   ]
  },
  {
   "cell_type": "markdown",
   "metadata": {
    "id": "yTiizkq4yLT-"
   },
   "source": [
    "### Code to setup InterpBench"
   ]
  },
  {
   "cell_type": "code",
   "execution_count": 1,
   "metadata": {
    "colab": {
     "base_uri": "https://localhost:8080/"
    },
    "collapsed": true,
    "id": "AlpyHCFwcAnW",
    "outputId": "a93dc065-bed5-405e-fe39-fd2e98e06811"
   },
   "outputs": [
    {
     "name": "stdout",
     "output_type": "stream",
     "text": [
      "zsh:1: command not found: apt-get\n"
     ]
    }
   ],
   "source": [
    "import os\n",
    "import sys\n",
    "!apt-get update -q && apt-get install -y --no-install-recommends libgl1-mesa-glx graphviz graphviz-dev git-lfs"
   ]
  },
  {
   "cell_type": "code",
   "execution_count": 2,
   "metadata": {
    "colab": {
     "base_uri": "https://localhost:8080/",
     "height": 1000
    },
    "id": "EO-1XlpMzDo0",
    "outputId": "89fb92b3-28cf-4e15-e178-102656ddc330"
   },
   "outputs": [
    {
     "name": "stdout",
     "output_type": "stream",
     "text": [
      "Cloning into 'circuits-benchmark'...\n",
      "remote: Enumerating objects: 4667, done.\u001B[K\n",
      "remote: Counting objects: 100% (838/838), done.\u001B[K\n",
      "remote: Compressing objects: 100% (284/284), done.\u001B[K\n",
      "remote: Total 4667 (delta 579), reused 796 (delta 552), pack-reused 3829\u001B[K\n",
      "Receiving objects: 100% (4667/4667), 19.30 MiB | 15.25 MiB/s, done.\n",
      "Resolving deltas: 100% (3271/3271), done.\n",
      "Submodule 'submodules/Automatic-Circuit-Discovery' (https://github.com/FlyingPumba/Automatic-Circuit-Discovery.git) registered for path 'submodules/Automatic-Circuit-Discovery'\n",
      "Submodule 'submodules/iit' (https://github.com/cybershiptrooper/iit.git) registered for path 'submodules/iit'\n",
      "Submodule 'submodules/tracr' (https://github.com/FlyingPumba/tracr.git) registered for path 'submodules/tracr'\n",
      "Cloning into '/Users/cybershiptrooper/src/interpretability/MATS/circuits-benchmark/circuits-benchmark/submodules/Automatic-Circuit-Discovery'...\n",
      "remote: Enumerating objects: 9802, done.        \n",
      "remote: Counting objects: 100% (4036/4036), done.        \n",
      "remote: Compressing objects: 100% (893/893), done.        \n",
      "^Cceiving objects:  95% (9312/9802), 28.78 MiB | 14.37 MiB/s\n",
      "warning: Clone succeeded, but checkout failed.\n",
      "You can inspect what was checked out with 'git status'\n",
      "and retry with 'git restore --source=HEAD :/'\n",
      "\n",
      "/Users/cybershiptrooper/src/interpretability/MATS/circuits-benchmark/circuits-benchmark\n"
     ]
    },
    {
     "name": "stderr",
     "output_type": "stream",
     "text": [
      "/Users/cybershiptrooper/src/interpretability/MATS/.iit/lib/python3.11/site-packages/IPython/core/magics/osm.py:417: UserWarning: This is now an optional IPython functionality, setting dhist requires you to install the `pickleshare` library.\n",
      "  self.shell.db['dhist'] = compress_dhist(dhist)[-100:]\n"
     ]
    },
    {
     "name": "stdout",
     "output_type": "stream",
     "text": [
      "Obtaining file:///Users/cybershiptrooper/src/interpretability/MATS/circuits-benchmark/circuits-benchmark\n",
      "  Installing build dependencies ... \u001B[?25ldone\n",
      "\u001B[?25h  Checking if build backend supports build_editable ... \u001B[?25ldone\n",
      "\u001B[?25h  Getting requirements to build editable ... \u001B[?25ldone\n",
      "\u001B[?25h  Preparing editable metadata (pyproject.toml) ... \u001B[?25ldone\n",
      "\u001B[?25hCollecting auto-circuit@ git+https://github.com/FlyingPumba/auto-circuit.git (from circuits-benchmark==0.1.0)\n",
      "  Cloning https://github.com/FlyingPumba/auto-circuit.git to /private/var/folders/_k/_46xyqdj165bdcyw79k6758w0000gn/T/pip-install-rxied_6v/auto-circuit_17bad68c6f7443fdbdacefd732f72115\n",
      "  Running command git clone --filter=blob:none --quiet https://github.com/FlyingPumba/auto-circuit.git /private/var/folders/_k/_46xyqdj165bdcyw79k6758w0000gn/T/pip-install-rxied_6v/auto-circuit_17bad68c6f7443fdbdacefd732f72115\n",
      "  Resolved https://github.com/FlyingPumba/auto-circuit.git to commit 0df108df03533690d8d161529f823ba26b00af3a\n",
      "  Installing build dependencies ... \u001B[?25ldone\n",
      "\u001B[?25h  Getting requirements to build wheel ... \u001B[?25ldone\n",
      "\u001B[?25h  Preparing metadata (pyproject.toml) ... \u001B[?25ldone\n",
      "\u001B[?25hRequirement already satisfied: argparse-dataclass<3.0.0,>=2.0.0 in /Users/cybershiptrooper/src/interpretability/MATS/.iit/lib/python3.11/site-packages (from circuits-benchmark==0.1.0) (2.0.0)\n",
      "Requirement already satisfied: chex<0.2.0,>=0.1.85 in /Users/cybershiptrooper/src/interpretability/MATS/.iit/lib/python3.11/site-packages (from circuits-benchmark==0.1.0) (0.1.86)\n",
      "Requirement already satisfied: cloudpickle<4.0.0,>=3.0.0 in /Users/cybershiptrooper/src/interpretability/MATS/.iit/lib/python3.11/site-packages (from circuits-benchmark==0.1.0) (3.0.0)\n",
      "Requirement already satisfied: cmapy<0.7.0,>=0.6.6 in /Users/cybershiptrooper/src/interpretability/MATS/.iit/lib/python3.11/site-packages (from circuits-benchmark==0.1.0) (0.6.6)\n",
      "Requirement already satisfied: dataframe-image<0.3.0,>=0.2.3 in /Users/cybershiptrooper/src/interpretability/MATS/.iit/lib/python3.11/site-packages (from circuits-benchmark==0.1.0) (0.2.3)\n",
      "Requirement already satisfied: datasets<3.0,>=2.17 in /Users/cybershiptrooper/src/interpretability/MATS/.iit/lib/python3.11/site-packages (from circuits-benchmark==0.1.0) (2.18.0)\n",
      "Requirement already satisfied: dm-haiku<0.0.12,>=0.0.11 in /Users/cybershiptrooper/src/interpretability/MATS/.iit/lib/python3.11/site-packages (from circuits-benchmark==0.1.0) (0.0.11)\n",
      "Requirement already satisfied: einops<0.7.0,>=0.6.1 in /Users/cybershiptrooper/src/interpretability/MATS/.iit/lib/python3.11/site-packages (from circuits-benchmark==0.1.0) (0.6.1)\n",
      "Requirement already satisfied: huggingface-hub<0.21,>=0.20 in /Users/cybershiptrooper/src/interpretability/MATS/.iit/lib/python3.11/site-packages (from circuits-benchmark==0.1.0) (0.20.3)\n",
      "Requirement already satisfied: ipython<9.0.0,>=8.24.0 in /Users/cybershiptrooper/src/interpretability/MATS/.iit/lib/python3.11/site-packages (from circuits-benchmark==0.1.0) (8.25.0)\n",
      "Requirement already satisfied: kaleido==0.2.1 in /Users/cybershiptrooper/src/interpretability/MATS/.iit/lib/python3.11/site-packages (from circuits-benchmark==0.1.0) (0.2.1)\n",
      "Collecting matplotlib==3.8.1 (from circuits-benchmark==0.1.0)\n",
      "  Downloading matplotlib-3.8.1-cp311-cp311-macosx_11_0_arm64.whl (7.5 MB)\n",
      "\u001B[2K     \u001B[90m━━━━━━━━━━━━━━━━━━━━━━━━━━━━━━━━━━━━━━━━\u001B[0m \u001B[32m7.5/7.5 MB\u001B[0m \u001B[31m10.5 MB/s\u001B[0m eta \u001B[36m0:00:00\u001B[0m00:01\u001B[0m00:01\u001B[0m\n",
      "\u001B[?25hRequirement already satisfied: mlcroissant<2.0.0,>=1.0.5 in /Users/cybershiptrooper/src/interpretability/MATS/.iit/lib/python3.11/site-packages (from circuits-benchmark==0.1.0) (1.0.5)\n",
      "Requirement already satisfied: networkx<4.0,>=3.1 in /Users/cybershiptrooper/src/interpretability/MATS/.iit/lib/python3.11/site-packages (from circuits-benchmark==0.1.0) (3.3)\n",
      "Requirement already satisfied: numpy<2.0,>=1.26 in /Users/cybershiptrooper/src/interpretability/MATS/.iit/lib/python3.11/site-packages (from circuits-benchmark==0.1.0) (1.26.4)\n",
      "Requirement already satisfied: pandas<3.0,>=2.2 in /Users/cybershiptrooper/src/interpretability/MATS/.iit/lib/python3.11/site-packages (from circuits-benchmark==0.1.0) (2.2.2)\n",
      "Requirement already satisfied: plotly<6.0.0,>=5.12.0 in /Users/cybershiptrooper/src/interpretability/MATS/.iit/lib/python3.11/site-packages (from circuits-benchmark==0.1.0) (5.22.0)\n",
      "Requirement already satisfied: pygraphviz<2.0,>=1.11 in /Users/cybershiptrooper/src/interpretability/MATS/.iit/lib/python3.11/site-packages (from circuits-benchmark==0.1.0) (1.12)\n",
      "Requirement already satisfied: tokenizers<0.16.0,>=0.15.0 in /Users/cybershiptrooper/src/interpretability/MATS/.iit/lib/python3.11/site-packages (from circuits-benchmark==0.1.0) (0.15.2)\n",
      "Requirement already satisfied: torch>=2.2.0 in /Users/cybershiptrooper/src/interpretability/MATS/.iit/lib/python3.11/site-packages (from circuits-benchmark==0.1.0) (2.3.1)\n",
      "Requirement already satisfied: torchtyping<0.2.0,>=0.1.4 in /Users/cybershiptrooper/src/interpretability/MATS/.iit/lib/python3.11/site-packages (from circuits-benchmark==0.1.0) (0.1.4)\n",
      "Requirement already satisfied: torchvision<0.19.0,>=0.18.0 in /Users/cybershiptrooper/src/interpretability/MATS/.iit/lib/python3.11/site-packages (from circuits-benchmark==0.1.0) (0.18.1)\n",
      "Requirement already satisfied: tqdm<5.0,>=4.66 in /Users/cybershiptrooper/src/interpretability/MATS/.iit/lib/python3.11/site-packages (from circuits-benchmark==0.1.0) (4.66.4)\n",
      "Requirement already satisfied: transformer-lens==1.14.0 in /Users/cybershiptrooper/src/interpretability/MATS/.iit/lib/python3.11/site-packages (from circuits-benchmark==0.1.0) (1.14.0)\n",
      "Requirement already satisfied: transformers<5.0,>=4.37 in /Users/cybershiptrooper/src/interpretability/MATS/.iit/lib/python3.11/site-packages (from circuits-benchmark==0.1.0) (4.39.3)\n",
      "Requirement already satisfied: typer<0.10.0,>=0.9.0 in /Users/cybershiptrooper/src/interpretability/MATS/.iit/lib/python3.11/site-packages (from circuits-benchmark==0.1.0) (0.9.4)\n",
      "Requirement already satisfied: wandb<0.17,>=0.16 in /Users/cybershiptrooper/src/interpretability/MATS/.iit/lib/python3.11/site-packages (from circuits-benchmark==0.1.0) (0.16.6)\n",
      "Requirement already satisfied: contourpy>=1.0.1 in /Users/cybershiptrooper/src/interpretability/MATS/.iit/lib/python3.11/site-packages (from matplotlib==3.8.1->circuits-benchmark==0.1.0) (1.2.1)\n",
      "Requirement already satisfied: cycler>=0.10 in /Users/cybershiptrooper/src/interpretability/MATS/.iit/lib/python3.11/site-packages (from matplotlib==3.8.1->circuits-benchmark==0.1.0) (0.12.1)\n",
      "Requirement already satisfied: fonttools>=4.22.0 in /Users/cybershiptrooper/src/interpretability/MATS/.iit/lib/python3.11/site-packages (from matplotlib==3.8.1->circuits-benchmark==0.1.0) (4.53.0)\n",
      "Requirement already satisfied: kiwisolver>=1.3.1 in /Users/cybershiptrooper/src/interpretability/MATS/.iit/lib/python3.11/site-packages (from matplotlib==3.8.1->circuits-benchmark==0.1.0) (1.4.5)\n",
      "Requirement already satisfied: packaging>=20.0 in /Users/cybershiptrooper/src/interpretability/MATS/.iit/lib/python3.11/site-packages (from matplotlib==3.8.1->circuits-benchmark==0.1.0) (24.1)\n",
      "Requirement already satisfied: pillow>=8 in /Users/cybershiptrooper/src/interpretability/MATS/.iit/lib/python3.11/site-packages (from matplotlib==3.8.1->circuits-benchmark==0.1.0) (10.3.0)\n",
      "Requirement already satisfied: pyparsing>=2.3.1 in /Users/cybershiptrooper/src/interpretability/MATS/.iit/lib/python3.11/site-packages (from matplotlib==3.8.1->circuits-benchmark==0.1.0) (3.1.2)\n",
      "Requirement already satisfied: python-dateutil>=2.7 in /Users/cybershiptrooper/src/interpretability/MATS/.iit/lib/python3.11/site-packages (from matplotlib==3.8.1->circuits-benchmark==0.1.0) (2.9.0.post0)\n",
      "Requirement already satisfied: accelerate>=0.23.0 in /Users/cybershiptrooper/src/interpretability/MATS/.iit/lib/python3.11/site-packages (from transformer-lens==1.14.0->circuits-benchmark==0.1.0) (0.31.0)\n",
      "Requirement already satisfied: beartype<0.15.0,>=0.14.1 in /Users/cybershiptrooper/src/interpretability/MATS/.iit/lib/python3.11/site-packages (from transformer-lens==1.14.0->circuits-benchmark==0.1.0) (0.14.1)\n",
      "Requirement already satisfied: better-abc<0.0.4,>=0.0.3 in /Users/cybershiptrooper/src/interpretability/MATS/.iit/lib/python3.11/site-packages (from transformer-lens==1.14.0->circuits-benchmark==0.1.0) (0.0.3)\n",
      "Requirement already satisfied: fancy-einsum>=0.0.3 in /Users/cybershiptrooper/src/interpretability/MATS/.iit/lib/python3.11/site-packages (from transformer-lens==1.14.0->circuits-benchmark==0.1.0) (0.0.3)\n",
      "Requirement already satisfied: jaxtyping>=0.2.11 in /Users/cybershiptrooper/src/interpretability/MATS/.iit/lib/python3.11/site-packages (from transformer-lens==1.14.0->circuits-benchmark==0.1.0) (0.2.22)\n",
      "Requirement already satisfied: rich>=12.6.0 in /Users/cybershiptrooper/src/interpretability/MATS/.iit/lib/python3.11/site-packages (from transformer-lens==1.14.0->circuits-benchmark==0.1.0) (13.7.1)\n",
      "Requirement already satisfied: typing-extensions in /Users/cybershiptrooper/src/interpretability/MATS/.iit/lib/python3.11/site-packages (from transformer-lens==1.14.0->circuits-benchmark==0.1.0) (4.12.2)\n",
      "Requirement already satisfied: absl-py>=0.9.0 in /Users/cybershiptrooper/src/interpretability/MATS/.iit/lib/python3.11/site-packages (from chex<0.2.0,>=0.1.85->circuits-benchmark==0.1.0) (2.1.0)\n",
      "Requirement already satisfied: jax>=0.4.16 in /Users/cybershiptrooper/src/interpretability/MATS/.iit/lib/python3.11/site-packages (from chex<0.2.0,>=0.1.85->circuits-benchmark==0.1.0) (0.4.30)\n",
      "Requirement already satisfied: jaxlib>=0.1.37 in /Users/cybershiptrooper/src/interpretability/MATS/.iit/lib/python3.11/site-packages (from chex<0.2.0,>=0.1.85->circuits-benchmark==0.1.0) (0.4.30)\n",
      "Requirement already satisfied: toolz>=0.9.0 in /Users/cybershiptrooper/src/interpretability/MATS/.iit/lib/python3.11/site-packages (from chex<0.2.0,>=0.1.85->circuits-benchmark==0.1.0) (0.12.1)\n",
      "Requirement already satisfied: opencv-python>=3.3 in /Users/cybershiptrooper/src/interpretability/MATS/.iit/lib/python3.11/site-packages (from cmapy<0.7.0,>=0.6.6->circuits-benchmark==0.1.0) (4.10.0.84)\n",
      "Requirement already satisfied: nbconvert>=5 in /Users/cybershiptrooper/src/interpretability/MATS/.iit/lib/python3.11/site-packages (from dataframe-image<0.3.0,>=0.2.3->circuits-benchmark==0.1.0) (7.16.4)\n",
      "Requirement already satisfied: aiohttp in /Users/cybershiptrooper/src/interpretability/MATS/.iit/lib/python3.11/site-packages (from dataframe-image<0.3.0,>=0.2.3->circuits-benchmark==0.1.0) (3.9.5)\n",
      "Requirement already satisfied: requests in /Users/cybershiptrooper/src/interpretability/MATS/.iit/lib/python3.11/site-packages (from dataframe-image<0.3.0,>=0.2.3->circuits-benchmark==0.1.0) (2.32.3)\n",
      "Requirement already satisfied: mistune in /Users/cybershiptrooper/src/interpretability/MATS/.iit/lib/python3.11/site-packages (from dataframe-image<0.3.0,>=0.2.3->circuits-benchmark==0.1.0) (3.0.2)\n",
      "Requirement already satisfied: lxml in /Users/cybershiptrooper/src/interpretability/MATS/.iit/lib/python3.11/site-packages (from dataframe-image<0.3.0,>=0.2.3->circuits-benchmark==0.1.0) (4.9.4)\n",
      "Requirement already satisfied: beautifulsoup4 in /Users/cybershiptrooper/src/interpretability/MATS/.iit/lib/python3.11/site-packages (from dataframe-image<0.3.0,>=0.2.3->circuits-benchmark==0.1.0) (4.12.3)\n",
      "Requirement already satisfied: cssutils in /Users/cybershiptrooper/src/interpretability/MATS/.iit/lib/python3.11/site-packages (from dataframe-image<0.3.0,>=0.2.3->circuits-benchmark==0.1.0) (2.11.1)\n",
      "Requirement already satisfied: html2image in /Users/cybershiptrooper/src/interpretability/MATS/.iit/lib/python3.11/site-packages (from dataframe-image<0.3.0,>=0.2.3->circuits-benchmark==0.1.0) (2.0.4.3)\n",
      "Requirement already satisfied: filelock in /Users/cybershiptrooper/src/interpretability/MATS/.iit/lib/python3.11/site-packages (from datasets<3.0,>=2.17->circuits-benchmark==0.1.0) (3.15.1)\n",
      "Requirement already satisfied: pyarrow>=12.0.0 in /Users/cybershiptrooper/src/interpretability/MATS/.iit/lib/python3.11/site-packages (from datasets<3.0,>=2.17->circuits-benchmark==0.1.0) (16.1.0)\n",
      "Requirement already satisfied: pyarrow-hotfix in /Users/cybershiptrooper/src/interpretability/MATS/.iit/lib/python3.11/site-packages (from datasets<3.0,>=2.17->circuits-benchmark==0.1.0) (0.6)\n",
      "Requirement already satisfied: dill<0.3.9,>=0.3.0 in /Users/cybershiptrooper/src/interpretability/MATS/.iit/lib/python3.11/site-packages (from datasets<3.0,>=2.17->circuits-benchmark==0.1.0) (0.3.8)\n",
      "Requirement already satisfied: xxhash in /Users/cybershiptrooper/src/interpretability/MATS/.iit/lib/python3.11/site-packages (from datasets<3.0,>=2.17->circuits-benchmark==0.1.0) (3.4.1)\n",
      "Requirement already satisfied: multiprocess in /Users/cybershiptrooper/src/interpretability/MATS/.iit/lib/python3.11/site-packages (from datasets<3.0,>=2.17->circuits-benchmark==0.1.0) (0.70.16)\n",
      "Requirement already satisfied: fsspec[http]<=2024.2.0,>=2023.1.0 in /Users/cybershiptrooper/src/interpretability/MATS/.iit/lib/python3.11/site-packages (from datasets<3.0,>=2.17->circuits-benchmark==0.1.0) (2024.2.0)\n",
      "Requirement already satisfied: pyyaml>=5.1 in /Users/cybershiptrooper/src/interpretability/MATS/.iit/lib/python3.11/site-packages (from datasets<3.0,>=2.17->circuits-benchmark==0.1.0) (6.0.1)\n",
      "Requirement already satisfied: jmp>=0.0.2 in /Users/cybershiptrooper/src/interpretability/MATS/.iit/lib/python3.11/site-packages (from dm-haiku<0.0.12,>=0.0.11->circuits-benchmark==0.1.0) (0.0.4)\n",
      "Requirement already satisfied: tabulate>=0.8.9 in /Users/cybershiptrooper/src/interpretability/MATS/.iit/lib/python3.11/site-packages (from dm-haiku<0.0.12,>=0.0.11->circuits-benchmark==0.1.0) (0.9.0)\n",
      "Requirement already satisfied: flax>=0.7.1 in /Users/cybershiptrooper/src/interpretability/MATS/.iit/lib/python3.11/site-packages (from dm-haiku<0.0.12,>=0.0.11->circuits-benchmark==0.1.0) (0.8.4)\n",
      "Requirement already satisfied: decorator in /Users/cybershiptrooper/src/interpretability/MATS/.iit/lib/python3.11/site-packages (from ipython<9.0.0,>=8.24.0->circuits-benchmark==0.1.0) (5.1.1)\n",
      "Requirement already satisfied: jedi>=0.16 in /Users/cybershiptrooper/src/interpretability/MATS/.iit/lib/python3.11/site-packages (from ipython<9.0.0,>=8.24.0->circuits-benchmark==0.1.0) (0.19.1)\n",
      "Requirement already satisfied: matplotlib-inline in /Users/cybershiptrooper/src/interpretability/MATS/.iit/lib/python3.11/site-packages (from ipython<9.0.0,>=8.24.0->circuits-benchmark==0.1.0) (0.1.7)\n",
      "Requirement already satisfied: prompt-toolkit<3.1.0,>=3.0.41 in /Users/cybershiptrooper/src/interpretability/MATS/.iit/lib/python3.11/site-packages (from ipython<9.0.0,>=8.24.0->circuits-benchmark==0.1.0) (3.0.47)\n",
      "Requirement already satisfied: pygments>=2.4.0 in /Users/cybershiptrooper/src/interpretability/MATS/.iit/lib/python3.11/site-packages (from ipython<9.0.0,>=8.24.0->circuits-benchmark==0.1.0) (2.18.0)\n",
      "Requirement already satisfied: stack-data in /Users/cybershiptrooper/src/interpretability/MATS/.iit/lib/python3.11/site-packages (from ipython<9.0.0,>=8.24.0->circuits-benchmark==0.1.0) (0.6.3)\n",
      "Requirement already satisfied: traitlets>=5.13.0 in /Users/cybershiptrooper/src/interpretability/MATS/.iit/lib/python3.11/site-packages (from ipython<9.0.0,>=8.24.0->circuits-benchmark==0.1.0) (5.14.3)\n",
      "Requirement already satisfied: pexpect>4.3 in /Users/cybershiptrooper/src/interpretability/MATS/.iit/lib/python3.11/site-packages (from ipython<9.0.0,>=8.24.0->circuits-benchmark==0.1.0) (4.9.0)\n",
      "Requirement already satisfied: etils[epath]>=1.7.0 in /Users/cybershiptrooper/src/interpretability/MATS/.iit/lib/python3.11/site-packages (from mlcroissant<2.0.0,>=1.0.5->circuits-benchmark==0.1.0) (1.7.0)\n",
      "Requirement already satisfied: jsonpath-rw in /Users/cybershiptrooper/src/interpretability/MATS/.iit/lib/python3.11/site-packages (from mlcroissant<2.0.0,>=1.0.5->circuits-benchmark==0.1.0) (1.4.0)\n",
      "Requirement already satisfied: pandas-stubs in /Users/cybershiptrooper/src/interpretability/MATS/.iit/lib/python3.11/site-packages (from mlcroissant<2.0.0,>=1.0.5->circuits-benchmark==0.1.0) (2.2.2.240603)\n",
      "Requirement already satisfied: rdflib in /Users/cybershiptrooper/src/interpretability/MATS/.iit/lib/python3.11/site-packages (from mlcroissant<2.0.0,>=1.0.5->circuits-benchmark==0.1.0) (7.0.0)\n",
      "Requirement already satisfied: pytz>=2020.1 in /Users/cybershiptrooper/src/interpretability/MATS/.iit/lib/python3.11/site-packages (from pandas<3.0,>=2.2->circuits-benchmark==0.1.0) (2024.1)\n",
      "Requirement already satisfied: tzdata>=2022.7 in /Users/cybershiptrooper/src/interpretability/MATS/.iit/lib/python3.11/site-packages (from pandas<3.0,>=2.2->circuits-benchmark==0.1.0) (2024.1)\n",
      "Requirement already satisfied: tenacity>=6.2.0 in /Users/cybershiptrooper/src/interpretability/MATS/.iit/lib/python3.11/site-packages (from plotly<6.0.0,>=5.12.0->circuits-benchmark==0.1.0) (8.4.1)\n",
      "Requirement already satisfied: sympy in /Users/cybershiptrooper/src/interpretability/MATS/.iit/lib/python3.11/site-packages (from torch>=2.2.0->circuits-benchmark==0.1.0) (1.12.1)\n",
      "Requirement already satisfied: jinja2 in /Users/cybershiptrooper/src/interpretability/MATS/.iit/lib/python3.11/site-packages (from torch>=2.2.0->circuits-benchmark==0.1.0) (3.1.4)\n",
      "Requirement already satisfied: typeguard>=2.11.1 in /Users/cybershiptrooper/src/interpretability/MATS/.iit/lib/python3.11/site-packages (from torchtyping<0.2.0,>=0.1.4->circuits-benchmark==0.1.0) (4.3.0)\n",
      "Requirement already satisfied: regex!=2019.12.17 in /Users/cybershiptrooper/src/interpretability/MATS/.iit/lib/python3.11/site-packages (from transformers<5.0,>=4.37->circuits-benchmark==0.1.0) (2024.5.15)\n",
      "Requirement already satisfied: safetensors>=0.4.1 in /Users/cybershiptrooper/src/interpretability/MATS/.iit/lib/python3.11/site-packages (from transformers<5.0,>=4.37->circuits-benchmark==0.1.0) (0.4.3)\n",
      "Requirement already satisfied: click<9.0.0,>=7.1.1 in /Users/cybershiptrooper/src/interpretability/MATS/.iit/lib/python3.11/site-packages (from typer<0.10.0,>=0.9.0->circuits-benchmark==0.1.0) (8.1.7)\n",
      "Requirement already satisfied: GitPython!=3.1.29,>=1.0.0 in /Users/cybershiptrooper/src/interpretability/MATS/.iit/lib/python3.11/site-packages (from wandb<0.17,>=0.16->circuits-benchmark==0.1.0) (3.1.43)\n",
      "Requirement already satisfied: psutil>=5.0.0 in /Users/cybershiptrooper/src/interpretability/MATS/.iit/lib/python3.11/site-packages (from wandb<0.17,>=0.16->circuits-benchmark==0.1.0) (6.0.0)\n",
      "Requirement already satisfied: sentry-sdk>=1.0.0 in /Users/cybershiptrooper/src/interpretability/MATS/.iit/lib/python3.11/site-packages (from wandb<0.17,>=0.16->circuits-benchmark==0.1.0) (2.5.1)\n",
      "Requirement already satisfied: docker-pycreds>=0.4.0 in /Users/cybershiptrooper/src/interpretability/MATS/.iit/lib/python3.11/site-packages (from wandb<0.17,>=0.16->circuits-benchmark==0.1.0) (0.4.0)\n",
      "Requirement already satisfied: setproctitle in /Users/cybershiptrooper/src/interpretability/MATS/.iit/lib/python3.11/site-packages (from wandb<0.17,>=0.16->circuits-benchmark==0.1.0) (1.3.3)\n",
      "Requirement already satisfied: setuptools in /Users/cybershiptrooper/src/interpretability/MATS/.iit/lib/python3.11/site-packages (from wandb<0.17,>=0.16->circuits-benchmark==0.1.0) (70.0.0)\n",
      "Requirement already satisfied: appdirs>=1.4.3 in /Users/cybershiptrooper/src/interpretability/MATS/.iit/lib/python3.11/site-packages (from wandb<0.17,>=0.16->circuits-benchmark==0.1.0) (1.4.4)\n",
      "Requirement already satisfied: protobuf!=4.21.0,<5,>=3.19.0 in /Users/cybershiptrooper/src/interpretability/MATS/.iit/lib/python3.11/site-packages (from wandb<0.17,>=0.16->circuits-benchmark==0.1.0) (4.25.3)\n",
      "Requirement already satisfied: blobfile==2.0.2 in /Users/cybershiptrooper/src/interpretability/MATS/.iit/lib/python3.11/site-packages (from auto-circuit@ git+https://github.com/FlyingPumba/auto-circuit.git->circuits-benchmark==0.1.0) (2.0.2)\n",
      "Requirement already satisfied: ordered-set<5.0.0,>=4.1.0 in /Users/cybershiptrooper/src/interpretability/MATS/.iit/lib/python3.11/site-packages (from auto-circuit@ git+https://github.com/FlyingPumba/auto-circuit.git->circuits-benchmark==0.1.0) (4.1.0)\n",
      "Requirement already satisfied: tracr-pypi==1.0.0 in /Users/cybershiptrooper/src/interpretability/MATS/.iit/lib/python3.11/site-packages (from auto-circuit@ git+https://github.com/FlyingPumba/auto-circuit.git->circuits-benchmark==0.1.0) (1.0.0)\n",
      "Requirement already satisfied: vscode-tqdm==4.66.2 in /Users/cybershiptrooper/src/interpretability/MATS/.iit/lib/python3.11/site-packages (from auto-circuit@ git+https://github.com/FlyingPumba/auto-circuit.git->circuits-benchmark==0.1.0) (4.66.2)\n",
      "Requirement already satisfied: word2word<2.0.0,>=1.0.0 in /Users/cybershiptrooper/src/interpretability/MATS/.iit/lib/python3.11/site-packages (from auto-circuit@ git+https://github.com/FlyingPumba/auto-circuit.git->circuits-benchmark==0.1.0) (1.0.0)\n",
      "Requirement already satisfied: pycryptodomex~=3.8 in /Users/cybershiptrooper/src/interpretability/MATS/.iit/lib/python3.11/site-packages (from blobfile==2.0.2->auto-circuit@ git+https://github.com/FlyingPumba/auto-circuit.git->circuits-benchmark==0.1.0) (3.20.0)\n",
      "Requirement already satisfied: urllib3<3,>=1.25.3 in /Users/cybershiptrooper/src/interpretability/MATS/.iit/lib/python3.11/site-packages (from blobfile==2.0.2->auto-circuit@ git+https://github.com/FlyingPumba/auto-circuit.git->circuits-benchmark==0.1.0) (2.2.2)\n",
      "Requirement already satisfied: six>=1.4.0 in /Users/cybershiptrooper/src/interpretability/MATS/.iit/lib/python3.11/site-packages (from docker-pycreds>=0.4.0->wandb<0.17,>=0.16->circuits-benchmark==0.1.0) (1.16.0)\n",
      "Requirement already satisfied: importlib_resources in /Users/cybershiptrooper/src/interpretability/MATS/.iit/lib/python3.11/site-packages (from etils[epath]>=1.7.0->mlcroissant<2.0.0,>=1.0.5->circuits-benchmark==0.1.0) (6.4.0)\n",
      "Requirement already satisfied: zipp in /Users/cybershiptrooper/src/interpretability/MATS/.iit/lib/python3.11/site-packages (from etils[epath]>=1.7.0->mlcroissant<2.0.0,>=1.0.5->circuits-benchmark==0.1.0) (3.19.2)\n"
     ]
    }
   ],
   "source": [
    "!git clone --recurse-submodules https://github.com/FlyingPumba/circuits-benchmark.git\n",
    "%cd circuits-benchmark\n",
    "!pip install -e ."
   ]
  },
  {
   "cell_type": "markdown",
   "metadata": {
    "id": "moVDFeLF0uID"
   },
   "source": [
    "### Load model from InterpBench"
   ]
  },
  {
   "cell_type": "code",
   "metadata": {
    "id": "1q4dLqTiRnGQ",
    "ExecuteTime": {
     "end_time": "2024-07-03T09:16:20.310030Z",
     "start_time": "2024-07-03T09:16:20.283009Z"
    }
   },
   "source": [
    "%load_ext autoreload\n",
    "%autoreload 2\n",
    "\n",
    "import pickle\n",
    "import torch\n",
    "import os"
   ],
   "outputs": [
    {
     "name": "stdout",
     "output_type": "stream",
     "text": [
      "The autoreload extension is already loaded. To reload it, use:\n",
      "  %reload_ext autoreload\n"
     ]
    }
   ],
   "execution_count": 30
  },
  {
   "cell_type": "code",
   "metadata": {
    "id": "oz2CAN7f0W8p",
    "ExecuteTime": {
     "end_time": "2024-07-03T08:56:59.311300Z",
     "start_time": "2024-07-03T08:56:59.271849Z"
    }
   },
   "source": [
    "import circuits_benchmark.benchmark.cases.case_3 as case_3\n",
    "\n",
    "task = case_3.Case3()\n",
    "task_idx = task.get_name()"
   ],
   "outputs": [],
   "execution_count": 4
  },
  {
   "cell_type": "code",
   "metadata": {
    "colab": {
     "base_uri": "https://localhost:8080/"
    },
    "id": "ymbfV1H8W72N",
    "outputId": "ad9c7086-a912-4ba6-cd5a-35a80ab5de8d",
    "ExecuteTime": {
     "end_time": "2024-07-03T08:57:01.755472Z",
     "start_time": "2024-07-03T08:57:00.296579Z"
    }
   },
   "source": [
    "from circuits_benchmark.utils.ll_model_loader.ll_model_loader_factory import get_ll_model_loader\n",
    "\n",
    "ll_model_loader = get_ll_model_loader(task, interp_bench=True)\n",
    "hl_ll_corr, model = ll_model_loader.load_ll_model_and_correspondence(device='cuda' if torch.cuda.is_available() else 'cpu')"
   ],
   "outputs": [],
   "execution_count": 5
  },
  {
   "cell_type": "code",
   "metadata": {
    "colab": {
     "base_uri": "https://localhost:8080/"
    },
    "id": "IjPVxm992rWf",
    "outputId": "eb099196-0a0e-4d67-c0a4-6f81c473144b",
    "ExecuteTime": {
     "end_time": "2024-07-03T08:57:02.714928Z",
     "start_time": "2024-07-03T08:57:02.675267Z"
    }
   },
   "source": [
    "# turn off grads\n",
    "model.eval()\n",
    "model.requires_grad_(False)\n",
    "torch.set_grad_enabled(False)"
   ],
   "outputs": [
    {
     "data": {
      "text/plain": [
       "<torch.autograd.grad_mode.set_grad_enabled at 0x7fecafb92d10>"
      ]
     },
     "execution_count": 6,
     "metadata": {},
     "output_type": "execute_result"
    }
   ],
   "execution_count": 6
  },
  {
   "cell_type": "markdown",
   "metadata": {
    "id": "Pd7ccm2J0yxR"
   },
   "source": [
    "### Run evaluations"
   ]
  },
  {
   "cell_type": "code",
   "metadata": {
    "id": "LOwafLTd1uz6",
    "ExecuteTime": {
     "end_time": "2024-07-03T09:16:28.090424Z",
     "start_time": "2024-07-03T09:16:28.050347Z"
    }
   },
   "source": [
    "# load high level model\n",
    "from circuits_benchmark.utils.iit.iit_hl_model import IITHLModel\n",
    "from circuits_benchmark.transformers.hooked_tracr_transformer import HookedTracrTransformer\n",
    "\n",
    "# Prepare HL model\n",
    "hl_model = task.get_hl_model()\n",
    "if isinstance(hl_model, HookedTracrTransformer):\n",
    "    hl_model = IITHLModel(hl_model, eval_mode=True)\n",
    "\n",
    "# Build model pair\n",
    "model_pair = task.build_model_pair(\n",
    "  ll_model=model,\n",
    "  hl_model=hl_model,\n",
    ")"
   ],
   "outputs": [
    {
     "name": "stdout",
     "output_type": "stream",
     "text": [
      "Moving model to device:  cpu\n",
      "{'hook_embed': HookPoint(), 'hook_pos_embed': HookPoint(), 'blocks.0.attn.hook_k': HookPoint(), 'blocks.0.attn.hook_q': HookPoint(), 'blocks.0.attn.hook_v': HookPoint(), 'blocks.0.attn.hook_z': HookPoint(), 'blocks.0.attn.hook_attn_scores': HookPoint(), 'blocks.0.attn.hook_pattern': HookPoint(), 'blocks.0.attn.hook_result': HookPoint(), 'blocks.0.mlp.hook_pre': HookPoint(), 'blocks.0.mlp.hook_post': HookPoint(), 'blocks.0.hook_attn_in': HookPoint(), 'blocks.0.hook_q_input': HookPoint(), 'blocks.0.hook_k_input': HookPoint(), 'blocks.0.hook_v_input': HookPoint(), 'blocks.0.hook_mlp_in': HookPoint(), 'blocks.0.hook_attn_out': HookPoint(), 'blocks.0.hook_mlp_out': HookPoint(), 'blocks.0.hook_resid_pre': HookPoint(), 'blocks.0.hook_resid_mid': HookPoint(), 'blocks.0.hook_resid_post': HookPoint(), 'blocks.1.attn.hook_k': HookPoint(), 'blocks.1.attn.hook_q': HookPoint(), 'blocks.1.attn.hook_v': HookPoint(), 'blocks.1.attn.hook_z': HookPoint(), 'blocks.1.attn.hook_attn_scores': HookPoint(), 'blocks.1.attn.hook_pattern': HookPoint(), 'blocks.1.attn.hook_result': HookPoint(), 'blocks.1.mlp.hook_pre': HookPoint(), 'blocks.1.mlp.hook_post': HookPoint(), 'blocks.1.hook_attn_in': HookPoint(), 'blocks.1.hook_q_input': HookPoint(), 'blocks.1.hook_k_input': HookPoint(), 'blocks.1.hook_v_input': HookPoint(), 'blocks.1.hook_mlp_in': HookPoint(), 'blocks.1.hook_attn_out': HookPoint(), 'blocks.1.hook_mlp_out': HookPoint(), 'blocks.1.hook_resid_pre': HookPoint(), 'blocks.1.hook_resid_mid': HookPoint(), 'blocks.1.hook_resid_post': HookPoint()}\n",
      "dict_keys([TracrHLNode(name: blocks.0.mlp.hook_post,\n",
      " label: is_x_3,\n",
      " classes: 0,\n",
      " index: [:]\n",
      "), TracrHLNode(name: blocks.1.attn.hook_result,\n",
      " label: frac_prevs_1,\n",
      " classes: 0,\n",
      " index: [:, :, 0, :]\n",
      ")])\n"
     ]
    }
   ],
   "execution_count": 31
  },
  {
   "metadata": {
    "ExecuteTime": {
     "end_time": "2024-07-03T08:57:17.812057Z",
     "start_time": "2024-07-03T08:57:07.801081Z"
    }
   },
   "cell_type": "code",
   "source": [
    "from circuits_benchmark.commands.evaluation.iit.iit_eval import get_node_effects\n",
    "\n",
    "max_len = 100 # make this smaller or larger to include more or less datapoints\n",
    "node_effects, eval_metrics = get_node_effects(case=task, model_pair=model_pair, max_len=max_len, use_mean_cache=True)"
   ],
   "outputs": [
    {
     "name": "stderr",
     "output_type": "stream",
     "text": [
      "100%|██████████| 40/40 [00:05<00:00,  6.91it/s]\n",
      "100%|██████████| 40/40 [00:01<00:00, 21.67it/s]\n",
      "100%|██████████| 1/1 [00:00<00:00, 126.95it/s]\n",
      "100%|██████████| 1/1 [00:00<00:00, 14.07it/s]\n",
      "100%|██████████| 1/1 [00:00<00:00, 104.11it/s]\n"
     ]
    }
   ],
   "execution_count": 8
  },
  {
   "cell_type": "code",
   "metadata": {
    "ExecuteTime": {
     "end_time": "2024-07-03T08:57:22.967814Z",
     "start_time": "2024-07-03T08:57:22.932875Z"
    }
   },
   "source": [
    "node_effects"
   ],
   "outputs": [
    {
     "data": {
      "text/plain": [
       "                                 node          status  resample_ablate_effect  \\\n",
       "0  blocks.0.attn.hook_result, head  0  not_in_circuit                     0.0   \n",
       "1  blocks.0.attn.hook_result, head  1  not_in_circuit                     0.0   \n",
       "2  blocks.0.attn.hook_result, head  2  not_in_circuit                     0.0   \n",
       "3  blocks.0.attn.hook_result, head  3  not_in_circuit                     0.0   \n",
       "4  blocks.1.attn.hook_result, head  0  not_in_circuit                     0.0   \n",
       "5  blocks.1.attn.hook_result, head  1  not_in_circuit                     0.0   \n",
       "6  blocks.1.attn.hook_result, head  3  not_in_circuit                     0.0   \n",
       "7              blocks.1.mlp.hook_post  not_in_circuit                     0.0   \n",
       "8              blocks.0.mlp.hook_post      in_circuit                     1.0   \n",
       "9  blocks.1.attn.hook_result, head  2      in_circuit                     1.0   \n",
       "\n",
       "   mean_ablate_effect  \n",
       "0                 0.0  \n",
       "1                 0.0  \n",
       "2                 0.0  \n",
       "3                 0.0  \n",
       "4                 0.0  \n",
       "5                 0.0  \n",
       "6                 0.0  \n",
       "7                 0.0  \n",
       "8                 0.0  \n",
       "9                 0.0  "
      ],
      "text/html": [
       "<div>\n",
       "<style scoped>\n",
       "    .dataframe tbody tr th:only-of-type {\n",
       "        vertical-align: middle;\n",
       "    }\n",
       "\n",
       "    .dataframe tbody tr th {\n",
       "        vertical-align: top;\n",
       "    }\n",
       "\n",
       "    .dataframe thead th {\n",
       "        text-align: right;\n",
       "    }\n",
       "</style>\n",
       "<table border=\"1\" class=\"dataframe\">\n",
       "  <thead>\n",
       "    <tr style=\"text-align: right;\">\n",
       "      <th></th>\n",
       "      <th>node</th>\n",
       "      <th>status</th>\n",
       "      <th>resample_ablate_effect</th>\n",
       "      <th>mean_ablate_effect</th>\n",
       "    </tr>\n",
       "  </thead>\n",
       "  <tbody>\n",
       "    <tr>\n",
       "      <th>0</th>\n",
       "      <td>blocks.0.attn.hook_result, head  0</td>\n",
       "      <td>not_in_circuit</td>\n",
       "      <td>0.0</td>\n",
       "      <td>0.0</td>\n",
       "    </tr>\n",
       "    <tr>\n",
       "      <th>1</th>\n",
       "      <td>blocks.0.attn.hook_result, head  1</td>\n",
       "      <td>not_in_circuit</td>\n",
       "      <td>0.0</td>\n",
       "      <td>0.0</td>\n",
       "    </tr>\n",
       "    <tr>\n",
       "      <th>2</th>\n",
       "      <td>blocks.0.attn.hook_result, head  2</td>\n",
       "      <td>not_in_circuit</td>\n",
       "      <td>0.0</td>\n",
       "      <td>0.0</td>\n",
       "    </tr>\n",
       "    <tr>\n",
       "      <th>3</th>\n",
       "      <td>blocks.0.attn.hook_result, head  3</td>\n",
       "      <td>not_in_circuit</td>\n",
       "      <td>0.0</td>\n",
       "      <td>0.0</td>\n",
       "    </tr>\n",
       "    <tr>\n",
       "      <th>4</th>\n",
       "      <td>blocks.1.attn.hook_result, head  0</td>\n",
       "      <td>not_in_circuit</td>\n",
       "      <td>0.0</td>\n",
       "      <td>0.0</td>\n",
       "    </tr>\n",
       "    <tr>\n",
       "      <th>5</th>\n",
       "      <td>blocks.1.attn.hook_result, head  1</td>\n",
       "      <td>not_in_circuit</td>\n",
       "      <td>0.0</td>\n",
       "      <td>0.0</td>\n",
       "    </tr>\n",
       "    <tr>\n",
       "      <th>6</th>\n",
       "      <td>blocks.1.attn.hook_result, head  3</td>\n",
       "      <td>not_in_circuit</td>\n",
       "      <td>0.0</td>\n",
       "      <td>0.0</td>\n",
       "    </tr>\n",
       "    <tr>\n",
       "      <th>7</th>\n",
       "      <td>blocks.1.mlp.hook_post</td>\n",
       "      <td>not_in_circuit</td>\n",
       "      <td>0.0</td>\n",
       "      <td>0.0</td>\n",
       "    </tr>\n",
       "    <tr>\n",
       "      <th>8</th>\n",
       "      <td>blocks.0.mlp.hook_post</td>\n",
       "      <td>in_circuit</td>\n",
       "      <td>1.0</td>\n",
       "      <td>0.0</td>\n",
       "    </tr>\n",
       "    <tr>\n",
       "      <th>9</th>\n",
       "      <td>blocks.1.attn.hook_result, head  2</td>\n",
       "      <td>in_circuit</td>\n",
       "      <td>1.0</td>\n",
       "      <td>0.0</td>\n",
       "    </tr>\n",
       "  </tbody>\n",
       "</table>\n",
       "</div>"
      ]
     },
     "execution_count": 9,
     "metadata": {},
     "output_type": "execute_result"
    }
   ],
   "execution_count": 9
  },
  {
   "cell_type": "code",
   "metadata": {
    "ExecuteTime": {
     "end_time": "2024-07-03T08:57:32.371841Z",
     "start_time": "2024-07-03T08:57:32.343813Z"
    }
   },
   "source": [
    "print(eval_metrics)"
   ],
   "outputs": [
    {
     "name": "stdout",
     "output_type": "stream",
     "text": [
      "val/iit_loss: 0.0001\n",
      "val/IIA: 100.00%\n",
      "val/accuracy: 100.00%\n",
      "val/strict_accuracy: 100.00%\n"
     ]
    }
   ],
   "execution_count": 10
  },
  {
   "cell_type": "markdown",
   "metadata": {},
   "source": [
    "### Run ACDC"
   ]
  },
  {
   "cell_type": "code",
   "metadata": {
    "ExecuteTime": {
     "end_time": "2024-07-03T09:16:31.867022Z",
     "start_time": "2024-07-03T09:16:31.835617Z"
    }
   },
   "source": [
    "from circuits_benchmark.commands.algorithms.acdc import ACDCRunner, ACDCConfig\n",
    "\n",
    "config = ACDCConfig(threshold=0.01)\n",
    "acdc_runner = ACDCRunner(task, config=config)\n",
    "acdc_runner.config"
   ],
   "outputs": [
    {
     "data": {
      "text/plain": [
       "ACDCConfig(threshold=0.01, data_size=1000, include_mlp=False, next_token=False, use_pos_embed=False, indices_mode=('reverse',), names_mode=('normal',), torch_num_threads=0, max_num_epochs=100000, single_step=False, abs_value_threshold=False, online_cache_cpu=True, corrupted_cache_cpu=True, zero_ablation=False, using_wandb=False, wandb_entity_name=None, wandb_group_name=None, wandb_project_name=None, wandb_run_name=None, wandb_dir='/tmp/wandb', wandb_mode='online', seed=42, output_dir='/home/ivan/src/circuits-benchmark/results', same_size=False, device='cpu', testing=False)"
      ]
     },
     "execution_count": 32,
     "metadata": {},
     "output_type": "execute_result"
    }
   ],
   "execution_count": 32
  },
  {
   "cell_type": "code",
   "metadata": {
    "ExecuteTime": {
     "end_time": "2024-07-03T09:16:36.957255Z",
     "start_time": "2024-07-03T09:16:33.809905Z"
    }
   },
   "source": [
    "# Prepare data\n",
    "data_size = acdc_runner.config.data_size\n",
    "clean_inputs = task.get_clean_data(max_samples=data_size).get_inputs()\n",
    "corrupted_inputs = task.get_corrupted_data(max_samples=data_size).get_inputs()\n",
    "\n",
    "# Prepare validation metric\n",
    "metric_name = \"kl\" if model_pair.hl_model.is_categorical() else \"l2\"\n",
    "validation_metric = task.get_validation_metric(model, clean_inputs, metric_name=metric_name)\n",
    "\n",
    "output_dir = \"./results/acdc_3/weight_100_100_40/threshold_0.025\"\n",
    "os.makedirs(output_dir, exist_ok=True)\n",
    "\n",
    "acdc_circuit = acdc_runner.run(\n",
    "    tl_model=model,\n",
    "    clean_dataset=clean_inputs,\n",
    "    corrupt_dataset=corrupted_inputs,\n",
    "    validation_metric=validation_metric,\n",
    "    output_dir=output_dir\n",
    ")"
   ],
   "outputs": [
    {
     "name": "stderr",
     "output_type": "stream",
     "text": [
      "WARNING:root:cache_all is deprecated and will eventually be removed, use add_caching_hooks or run_with_cache\n",
      "WARNING:root:cache_all is deprecated and will eventually be removed, use add_caching_hooks or run_with_cache\n"
     ]
    },
    {
     "name": "stdout",
     "output_type": "stream",
     "text": [
      "dict_keys(['blocks.1.hook_resid_post', 'blocks.1.hook_mlp_out', 'blocks.1.hook_mlp_in', 'blocks.1.attn.hook_result', 'blocks.1.attn.hook_q', 'blocks.1.hook_q_input', 'blocks.1.attn.hook_k', 'blocks.1.hook_k_input', 'blocks.1.attn.hook_v', 'blocks.1.hook_v_input', 'blocks.0.hook_mlp_out', 'blocks.0.hook_mlp_in', 'blocks.0.attn.hook_result', 'blocks.0.attn.hook_q', 'blocks.0.hook_q_input', 'blocks.0.attn.hook_k', 'blocks.0.hook_k_input', 'blocks.0.attn.hook_v', 'blocks.0.hook_v_input', 'blocks.0.hook_resid_pre'])\n",
      "blocks.1.hook_resid_post\n",
      "blocks.1.hook_mlp_out\n",
      "blocks.1.mlp.hook_post\n",
      "blocks.1.mlp.hook_pre\n",
      "blocks.1.hook_mlp_in\n",
      "blocks.1.hook_resid_mid\n",
      "blocks.1.hook_attn_out\n",
      "blocks.1.attn.hook_result\n",
      "blocks.1.attn.hook_z\n",
      "blocks.1.attn.hook_pattern\n",
      "blocks.1.attn.hook_attn_scores\n",
      "blocks.1.attn.hook_v\n",
      "blocks.1.attn.hook_k\n",
      "blocks.1.attn.hook_q\n",
      "blocks.1.hook_v_input\n",
      "blocks.1.hook_k_input\n",
      "blocks.1.hook_q_input\n",
      "blocks.1.hook_resid_pre\n",
      "blocks.0.hook_resid_post\n",
      "blocks.0.hook_mlp_out\n",
      "blocks.0.mlp.hook_post\n",
      "blocks.0.mlp.hook_pre\n",
      "blocks.0.hook_mlp_in\n",
      "blocks.0.hook_resid_mid\n",
      "blocks.0.hook_attn_out\n",
      "blocks.0.attn.hook_result\n",
      "blocks.0.attn.hook_z\n",
      "blocks.0.attn.hook_pattern\n",
      "blocks.0.attn.hook_attn_scores\n",
      "blocks.0.attn.hook_v\n",
      "blocks.0.attn.hook_k\n",
      "blocks.0.attn.hook_q\n",
      "blocks.0.hook_v_input\n",
      "blocks.0.hook_k_input\n",
      "blocks.0.hook_q_input\n",
      "blocks.0.hook_resid_pre\n",
      "hook_pos_embed\n",
      "hook_embed\n",
      "self.current_node=TLACDCInterpNode(blocks.1.hook_resid_post, [:])\n",
      "Adding sender hooks...\n",
      "Done corrupting things\n",
      "Adding sender hooks...\n",
      "No edge 134\n",
      "No edge 134\n",
      "New metric: 0.0022855105344206095\n",
      "\n",
      "Node: cur_parent=TLACDCInterpNode(blocks.1.hook_mlp_out, [:]) (self.current_node=TLACDCInterpNode(blocks.1.hook_resid_post, [:]))\n",
      "\n",
      "Metric after removing connection to blocks.1.hook_mlp_out [:] is 0.00222469842992723 (and current metric 0.0022855105344206095)\n",
      "Result is -6.081210449337959e-05...so removing connection\n",
      "No edge 133\n",
      "\n",
      "Node: cur_parent=TLACDCInterpNode(blocks.1.attn.hook_result, [:, :, 3]) (self.current_node=TLACDCInterpNode(blocks.1.hook_resid_post, [:]))\n",
      "\n",
      "Metric after removing connection to blocks.1.attn.hook_result [:, :, 3] is 0.002767161000519991 (and current metric 0.00222469842992723)\n",
      "Result is 0.000542462570592761...so removing connection\n",
      "\n",
      "Node: cur_parent=TLACDCInterpNode(blocks.1.attn.hook_result, [:, :, 2]) (self.current_node=TLACDCInterpNode(blocks.1.hook_resid_post, [:]))\n",
      "\n",
      "Metric after removing connection to blocks.1.attn.hook_result [:, :, 2] is 0.16091065108776093 (and current metric 0.002767161000519991)\n",
      "Result is 0.15814349008724093...so keeping connection\n",
      "\n",
      "Node: cur_parent=TLACDCInterpNode(blocks.1.attn.hook_result, [:, :, 1]) (self.current_node=TLACDCInterpNode(blocks.1.hook_resid_post, [:]))\n",
      "\n",
      "Metric after removing connection to blocks.1.attn.hook_result [:, :, 1] is 0.0026778955943882465 (and current metric 0.002767161000519991)\n",
      "Result is -8.926540613174438e-05...so removing connection\n",
      "\n",
      "Node: cur_parent=TLACDCInterpNode(blocks.1.attn.hook_result, [:, :, 0]) (self.current_node=TLACDCInterpNode(blocks.1.hook_resid_post, [:]))\n",
      "\n",
      "Metric after removing connection to blocks.1.attn.hook_result [:, :, 0] is 0.0020910906605422497 (and current metric 0.0026778955943882465)\n",
      "Result is -0.0005868049338459969...so removing connection\n",
      "No edge 130\n",
      "\n",
      "Node: cur_parent=TLACDCInterpNode(blocks.0.hook_mlp_out, [:]) (self.current_node=TLACDCInterpNode(blocks.1.hook_resid_post, [:]))\n",
      "\n",
      "Metric after removing connection to blocks.0.hook_mlp_out [:] is 0.0021464566234499216 (and current metric 0.0020910906605422497)\n",
      "Result is 5.536596290767193e-05...so removing connection\n",
      "No edge 129\n",
      "\n",
      "Node: cur_parent=TLACDCInterpNode(blocks.0.attn.hook_result, [:, :, 3]) (self.current_node=TLACDCInterpNode(blocks.1.hook_resid_post, [:]))\n",
      "\n",
      "Metric after removing connection to blocks.0.attn.hook_result [:, :, 3] is 0.0020991582423448563 (and current metric 0.0021464566234499216)\n",
      "Result is -4.7298381105065346e-05...so removing connection\n",
      "\n",
      "Node: cur_parent=TLACDCInterpNode(blocks.0.attn.hook_result, [:, :, 2]) (self.current_node=TLACDCInterpNode(blocks.1.hook_resid_post, [:]))\n",
      "\n",
      "Metric after removing connection to blocks.0.attn.hook_result [:, :, 2] is 0.00216032937169075 (and current metric 0.0020991582423448563)\n",
      "Result is 6.117112934589386e-05...so removing connection\n",
      "\n",
      "Node: cur_parent=TLACDCInterpNode(blocks.0.attn.hook_result, [:, :, 1]) (self.current_node=TLACDCInterpNode(blocks.1.hook_resid_post, [:]))\n",
      "\n",
      "Metric after removing connection to blocks.0.attn.hook_result [:, :, 1] is 0.0021904597524553537 (and current metric 0.00216032937169075)\n",
      "Result is 3.0130380764603615e-05...so removing connection\n",
      "\n",
      "Node: cur_parent=TLACDCInterpNode(blocks.0.attn.hook_result, [:, :, 0]) (self.current_node=TLACDCInterpNode(blocks.1.hook_resid_post, [:]))\n",
      "\n",
      "Metric after removing connection to blocks.0.attn.hook_result [:, :, 0] is 0.0022401942405849695 (and current metric 0.0021904597524553537)\n",
      "Result is 4.9734488129615784e-05...so removing connection\n",
      "No edge 125\n",
      "\n",
      "Node: cur_parent=TLACDCInterpNode(blocks.0.hook_resid_pre, [:]) (self.current_node=TLACDCInterpNode(blocks.1.hook_resid_post, [:]))\n",
      "\n",
      "Metric after removing connection to blocks.0.hook_resid_pre [:] is 0.0027777431532740593 (and current metric 0.0022401942405849695)\n",
      "Result is 0.0005375489126890898...so removing connection\n",
      "No edge 124\n",
      "We moved to  blocks.1.hook_mlp_out[:]\n",
      "No edge 124\n",
      "No edge 124\n",
      "But it's bad\n",
      "We moved to  blocks.1.hook_mlp_in[:]\n",
      "No edge 124\n",
      "No edge 114\n",
      "But it's bad\n",
      "We moved to  blocks.1.attn.hook_result[:, :, 3]\n",
      "No edge 114\n",
      "No edge 114\n",
      "But it's bad\n",
      "We moved to  blocks.1.attn.hook_result[:, :, 2]\n",
      "No edge 114\n",
      "0 --------------------------------------------------\n",
      "No edge 114\n",
      "114\n",
      "No edge 114\n",
      "New metric: 0.0027777431532740593\n",
      "No edge 114\n",
      "No edge 114\n",
      "No edge 114\n",
      "We moved to  blocks.1.attn.hook_result[:, :, 1]\n",
      "No edge 114\n",
      "No edge 114\n",
      "But it's bad\n",
      "We moved to  blocks.1.attn.hook_result[:, :, 0]\n",
      "No edge 114\n",
      "No edge 114\n",
      "But it's bad\n",
      "We moved to  blocks.1.attn.hook_v[:, :, 3]\n",
      "No edge 114\n",
      "No edge 113\n",
      "But it's bad\n",
      "We moved to  blocks.1.attn.hook_v[:, :, 2]\n",
      "No edge 113\n",
      "1 --------------------------------------------------\n",
      "No edge 113\n",
      "113\n",
      "No edge 113\n",
      "New metric: 0.0027777431532740593\n",
      "\n",
      "Node: cur_parent=TLACDCInterpNode(blocks.1.hook_v_input, [:, :, 2]) (self.current_node=TLACDCInterpNode(blocks.1.attn.hook_v, [:, :, 2]))\n",
      "\n",
      "Metric after removing connection to blocks.1.hook_v_input [:, :, 2] is 0.1530768871307373 (and current metric 0.0027777431532740593)\n",
      "Result is 0.15029914397746325...so keeping connection\n",
      "No edge 113\n",
      "We moved to  blocks.1.attn.hook_v[:, :, 1]\n",
      "No edge 113\n",
      "No edge 112\n",
      "But it's bad\n",
      "We moved to  blocks.1.attn.hook_v[:, :, 0]\n",
      "No edge 112\n",
      "No edge 111\n",
      "But it's bad\n",
      "We moved to  blocks.1.attn.hook_k[:, :, 3]\n",
      "No edge 111\n",
      "No edge 110\n",
      "But it's bad\n",
      "We moved to  blocks.1.attn.hook_k[:, :, 2]\n",
      "No edge 110\n",
      "2 --------------------------------------------------\n",
      "No edge 110\n",
      "110\n",
      "No edge 110\n",
      "New metric: 0.0027777431532740593\n",
      "\n",
      "Node: cur_parent=TLACDCInterpNode(blocks.1.hook_k_input, [:, :, 2]) (self.current_node=TLACDCInterpNode(blocks.1.attn.hook_k, [:, :, 2]))\n",
      "\n",
      "Metric after removing connection to blocks.1.hook_k_input [:, :, 2] is 0.0023607471957802773 (and current metric 0.0027777431532740593)\n",
      "Result is -0.00041699595749378204...so removing connection\n",
      "No edge 109\n",
      "We moved to  blocks.1.attn.hook_k[:, :, 1]\n",
      "No edge 109\n",
      "No edge 108\n",
      "But it's bad\n",
      "We moved to  blocks.1.attn.hook_k[:, :, 0]\n",
      "No edge 108\n",
      "No edge 107\n",
      "But it's bad\n",
      "We moved to  blocks.1.attn.hook_q[:, :, 3]\n",
      "No edge 107\n",
      "No edge 106\n",
      "But it's bad\n",
      "We moved to  blocks.1.attn.hook_q[:, :, 2]\n",
      "No edge 106\n",
      "3 --------------------------------------------------\n",
      "No edge 106\n",
      "106\n",
      "No edge 106\n",
      "New metric: 0.0023607471957802773\n",
      "\n",
      "Node: cur_parent=TLACDCInterpNode(blocks.1.hook_q_input, [:, :, 2]) (self.current_node=TLACDCInterpNode(blocks.1.attn.hook_q, [:, :, 2]))\n",
      "\n",
      "Metric after removing connection to blocks.1.hook_q_input [:, :, 2] is 0.001867999555543065 (and current metric 0.0023607471957802773)\n",
      "Result is -0.0004927476402372122...so removing connection\n",
      "No edge 105\n",
      "We moved to  blocks.1.attn.hook_q[:, :, 1]\n",
      "No edge 105\n",
      "No edge 104\n",
      "But it's bad\n",
      "We moved to  blocks.1.attn.hook_q[:, :, 0]\n",
      "No edge 104\n",
      "No edge 103\n",
      "But it's bad\n",
      "We moved to  blocks.1.hook_v_input[:, :, 3]\n",
      "No edge 103\n",
      "No edge 97\n",
      "But it's bad\n",
      "We moved to  blocks.1.hook_v_input[:, :, 2]\n",
      "No edge 97\n",
      "4 --------------------------------------------------\n",
      "No edge 97\n",
      "97\n",
      "No edge 97\n",
      "New metric: 0.001867999555543065\n",
      "\n",
      "Node: cur_parent=TLACDCInterpNode(blocks.0.hook_mlp_out, [:]) (self.current_node=TLACDCInterpNode(blocks.1.hook_v_input, [:, :, 2]))\n",
      "\n",
      "Metric after removing connection to blocks.0.hook_mlp_out [:] is 0.14907847344875336 (and current metric 0.001867999555543065)\n",
      "Result is 0.1472104738932103...so keeping connection\n",
      "No edge 97\n",
      "\n",
      "Node: cur_parent=TLACDCInterpNode(blocks.0.attn.hook_result, [:, :, 3]) (self.current_node=TLACDCInterpNode(blocks.1.hook_v_input, [:, :, 2]))\n",
      "\n",
      "Metric after removing connection to blocks.0.attn.hook_result [:, :, 3] is 0.0018437058897688985 (and current metric 0.0018680001376196742)\n",
      "Result is -2.429424785077572e-05...so removing connection\n",
      "\n",
      "Node: cur_parent=TLACDCInterpNode(blocks.0.attn.hook_result, [:, :, 2]) (self.current_node=TLACDCInterpNode(blocks.1.hook_v_input, [:, :, 2]))\n",
      "\n",
      "Metric after removing connection to blocks.0.attn.hook_result [:, :, 2] is 0.0018661270150914788 (and current metric 0.0018437058897688985)\n",
      "Result is 2.2421125322580338e-05...so removing connection\n",
      "\n",
      "Node: cur_parent=TLACDCInterpNode(blocks.0.attn.hook_result, [:, :, 1]) (self.current_node=TLACDCInterpNode(blocks.1.hook_v_input, [:, :, 2]))\n",
      "\n",
      "Metric after removing connection to blocks.0.attn.hook_result [:, :, 1] is 0.002436787122860551 (and current metric 0.0018661270150914788)\n",
      "Result is 0.0005706601077690721...so removing connection\n",
      "\n",
      "Node: cur_parent=TLACDCInterpNode(blocks.0.attn.hook_result, [:, :, 0]) (self.current_node=TLACDCInterpNode(blocks.1.hook_v_input, [:, :, 2]))\n",
      "\n",
      "Metric after removing connection to blocks.0.attn.hook_result [:, :, 0] is 0.0037612116429954767 (and current metric 0.002436787122860551)\n",
      "Result is 0.0013244245201349258...so removing connection\n",
      "No edge 93\n",
      "\n",
      "Node: cur_parent=TLACDCInterpNode(blocks.0.hook_resid_pre, [:]) (self.current_node=TLACDCInterpNode(blocks.1.hook_v_input, [:, :, 2]))\n",
      "\n",
      "Metric after removing connection to blocks.0.hook_resid_pre [:] is 0.001054020132869482 (and current metric 0.0037612116429954767)\n",
      "Result is -0.0027071915101259947...so removing connection\n",
      "No edge 92\n",
      "We moved to  blocks.1.hook_v_input[:, :, 1]\n",
      "No edge 92\n",
      "No edge 86\n",
      "But it's bad\n",
      "We moved to  blocks.1.hook_v_input[:, :, 0]\n",
      "No edge 86\n",
      "No edge 80\n",
      "But it's bad\n",
      "We moved to  blocks.1.hook_k_input[:, :, 3]\n",
      "No edge 80\n",
      "No edge 74\n",
      "But it's bad\n",
      "We moved to  blocks.1.hook_k_input[:, :, 2]\n",
      "No edge 74\n",
      "No edge 68\n",
      "But it's bad\n",
      "We moved to  blocks.1.hook_k_input[:, :, 1]\n",
      "No edge 68\n",
      "No edge 62\n",
      "But it's bad\n",
      "We moved to  blocks.1.hook_k_input[:, :, 0]\n",
      "No edge 62\n",
      "No edge 56\n",
      "But it's bad\n",
      "We moved to  blocks.1.hook_q_input[:, :, 3]\n",
      "No edge 56\n",
      "No edge 50\n",
      "But it's bad\n",
      "We moved to  blocks.1.hook_q_input[:, :, 2]\n",
      "No edge 50\n",
      "No edge 44\n",
      "But it's bad\n",
      "We moved to  blocks.1.hook_q_input[:, :, 1]\n",
      "No edge 44\n",
      "No edge 38\n",
      "But it's bad\n",
      "We moved to  blocks.1.hook_q_input[:, :, 0]\n",
      "No edge 38\n",
      "No edge 32\n",
      "But it's bad\n",
      "We moved to  blocks.0.hook_mlp_out[:]\n",
      "No edge 32\n",
      "5 --------------------------------------------------\n",
      "No edge 32\n",
      "32\n",
      "No edge 32\n",
      "New metric: 0.001054020132869482\n",
      "No edge 32\n",
      "We moved to  blocks.0.hook_mlp_in[:]\n",
      "No edge 32\n",
      "6 --------------------------------------------------\n",
      "No edge 32\n",
      "32\n",
      "No edge 32\n",
      "New metric: 0.001054020132869482\n",
      "\n",
      "Node: cur_parent=TLACDCInterpNode(blocks.0.attn.hook_result, [:, :, 3]) (self.current_node=TLACDCInterpNode(blocks.0.hook_mlp_in, [:]))\n",
      "\n",
      "Metric after removing connection to blocks.0.attn.hook_result [:, :, 3] is 0.0009629328269511461 (and current metric 0.001054020132869482)\n",
      "Result is -9.108730591833591e-05...so removing connection\n",
      "\n",
      "Node: cur_parent=TLACDCInterpNode(blocks.0.attn.hook_result, [:, :, 2]) (self.current_node=TLACDCInterpNode(blocks.0.hook_mlp_in, [:]))\n",
      "\n",
      "Metric after removing connection to blocks.0.attn.hook_result [:, :, 2] is 0.0008860649541020393 (and current metric 0.0009629328269511461)\n",
      "Result is -7.686787284910679e-05...so removing connection\n",
      "\n",
      "Node: cur_parent=TLACDCInterpNode(blocks.0.attn.hook_result, [:, :, 1]) (self.current_node=TLACDCInterpNode(blocks.0.hook_mlp_in, [:]))\n",
      "\n",
      "Metric after removing connection to blocks.0.attn.hook_result [:, :, 1] is 0.00044601867557503283 (and current metric 0.0008860649541020393)\n",
      "Result is -0.0004400462785270065...so removing connection\n",
      "\n",
      "Node: cur_parent=TLACDCInterpNode(blocks.0.attn.hook_result, [:, :, 0]) (self.current_node=TLACDCInterpNode(blocks.0.hook_mlp_in, [:]))\n",
      "\n",
      "Metric after removing connection to blocks.0.attn.hook_result [:, :, 0] is 0.0 (and current metric 0.00044601867557503283)\n",
      "Result is -0.00044601867557503283...so removing connection\n",
      "No edge 28\n",
      "\n",
      "Node: cur_parent=TLACDCInterpNode(blocks.0.hook_resid_pre, [:]) (self.current_node=TLACDCInterpNode(blocks.0.hook_mlp_in, [:]))\n",
      "\n",
      "Metric after removing connection to blocks.0.hook_resid_pre [:] is 0.16061468422412872 (and current metric 0.0)\n",
      "Result is 0.16061468422412872...so keeping connection\n",
      "No edge 28\n",
      "We moved to  blocks.0.attn.hook_result[:, :, 3]\n",
      "No edge 28\n",
      "No edge 28\n",
      "But it's bad\n",
      "We moved to  blocks.0.attn.hook_result[:, :, 2]\n",
      "No edge 28\n",
      "No edge 28\n",
      "But it's bad\n",
      "We moved to  blocks.0.attn.hook_result[:, :, 1]\n",
      "No edge 28\n",
      "No edge 28\n",
      "But it's bad\n",
      "We moved to  blocks.0.attn.hook_result[:, :, 0]\n",
      "No edge 28\n",
      "No edge 28\n",
      "But it's bad\n",
      "We moved to  blocks.0.attn.hook_v[:, :, 3]\n",
      "No edge 28\n",
      "No edge 27\n",
      "But it's bad\n",
      "We moved to  blocks.0.attn.hook_v[:, :, 2]\n",
      "No edge 27\n",
      "No edge 26\n",
      "But it's bad\n",
      "We moved to  blocks.0.attn.hook_v[:, :, 1]\n",
      "No edge 26\n",
      "No edge 25\n",
      "But it's bad\n",
      "We moved to  blocks.0.attn.hook_v[:, :, 0]\n",
      "No edge 25\n",
      "No edge 24\n",
      "But it's bad\n",
      "We moved to  blocks.0.attn.hook_k[:, :, 3]\n",
      "No edge 24\n",
      "No edge 23\n",
      "But it's bad\n",
      "We moved to  blocks.0.attn.hook_k[:, :, 2]\n",
      "No edge 23\n",
      "No edge 22\n",
      "But it's bad\n",
      "We moved to  blocks.0.attn.hook_k[:, :, 1]\n",
      "No edge 22\n",
      "No edge 21\n",
      "But it's bad\n",
      "We moved to  blocks.0.attn.hook_k[:, :, 0]\n",
      "No edge 21\n",
      "No edge 20\n",
      "But it's bad\n",
      "We moved to  blocks.0.attn.hook_q[:, :, 3]\n",
      "No edge 20\n",
      "No edge 19\n",
      "But it's bad\n",
      "We moved to  blocks.0.attn.hook_q[:, :, 2]\n",
      "No edge 19\n",
      "No edge 18\n",
      "But it's bad\n",
      "We moved to  blocks.0.attn.hook_q[:, :, 1]\n",
      "No edge 18\n",
      "No edge 17\n",
      "But it's bad\n",
      "We moved to  blocks.0.attn.hook_q[:, :, 0]\n",
      "No edge 17\n",
      "No edge 16\n",
      "But it's bad\n",
      "We moved to  blocks.0.hook_v_input[:, :, 3]\n",
      "No edge 16\n",
      "No edge 15\n",
      "But it's bad\n",
      "We moved to  blocks.0.hook_v_input[:, :, 2]\n",
      "No edge 15\n",
      "No edge 14\n",
      "But it's bad\n",
      "We moved to  blocks.0.hook_v_input[:, :, 1]\n",
      "No edge 14\n",
      "No edge 13\n",
      "But it's bad\n",
      "We moved to  blocks.0.hook_v_input[:, :, 0]\n",
      "No edge 13\n",
      "No edge 12\n",
      "But it's bad\n",
      "We moved to  blocks.0.hook_k_input[:, :, 3]\n",
      "No edge 12\n",
      "No edge 11\n",
      "But it's bad\n",
      "We moved to  blocks.0.hook_k_input[:, :, 2]\n",
      "No edge 11\n",
      "No edge 10\n",
      "But it's bad\n",
      "We moved to  blocks.0.hook_k_input[:, :, 1]\n",
      "No edge 10\n",
      "No edge 9\n",
      "But it's bad\n",
      "We moved to  blocks.0.hook_k_input[:, :, 0]\n",
      "No edge 9\n",
      "No edge 8\n",
      "But it's bad\n",
      "We moved to  blocks.0.hook_q_input[:, :, 3]\n",
      "No edge 8\n",
      "No edge 7\n",
      "But it's bad\n",
      "We moved to  blocks.0.hook_q_input[:, :, 2]\n",
      "No edge 7\n",
      "No edge 6\n",
      "But it's bad\n",
      "We moved to  blocks.0.hook_q_input[:, :, 1]\n",
      "No edge 6\n",
      "No edge 5\n",
      "But it's bad\n",
      "We moved to  blocks.0.hook_q_input[:, :, 0]\n",
      "No edge 5\n",
      "No edge 4\n",
      "But it's bad\n",
      "We moved to  blocks.0.hook_resid_pre[:]\n",
      "No edge 4\n",
      "7 --------------------------------------------------\n",
      "No edge 4\n",
      "4\n",
      "No edge 4\n",
      "New metric: 0.0\n",
      "We moved to  None\n",
      "No edge 4\n",
      "8 --------------------------------------------------\n",
      "No edge 4\n",
      "4\n"
     ]
    },
    {
     "name": "stderr",
     "output_type": "stream",
     "text": [
      "/home/ivan/.cache/pypoetry/virtualenvs/circuits-benchmark-EYY1cbYR-py3.11/lib/python3.11/site-packages/acdc/TLACDCExperiment.py:897: UserWarning: Finished iterating\n",
      "  warnings.warn(\"Finished iterating\")\n"
     ]
    }
   ],
   "execution_count": 33
  },
  {
   "metadata": {
    "ExecuteTime": {
     "end_time": "2024-07-03T09:16:39.531158Z",
     "start_time": "2024-07-03T09:16:39.503452Z"
    }
   },
   "cell_type": "code",
   "source": [
    "print(acdc_circuit)\n",
    "print(f\"Nodes: {acdc_circuit.nodes}\")\n",
    "print(f\"Edges: {acdc_circuit.edges}\")"
   ],
   "outputs": [
    {
     "name": "stdout",
     "output_type": "stream",
     "text": [
      "Circuit with 7 nodes and 4 edges\n",
      "Nodes: [blocks.1.attn.hook_result[2], blocks.1.hook_resid_post, blocks.1.hook_v_input[2], blocks.1.attn.hook_v[2], blocks.0.hook_mlp_out, blocks.0.hook_resid_pre, blocks.0.hook_mlp_in]\n",
      "Edges: [(blocks.1.attn.hook_result[2], blocks.1.hook_resid_post), (blocks.1.hook_v_input[2], blocks.1.attn.hook_v[2]), (blocks.0.hook_mlp_out, blocks.1.hook_v_input[2]), (blocks.0.hook_resid_pre, blocks.0.hook_mlp_in)]\n"
     ]
    }
   ],
   "execution_count": 34
  },
  {
   "cell_type": "code",
   "metadata": {
    "ExecuteTime": {
     "end_time": "2024-07-03T09:16:43.958017Z",
     "start_time": "2024-07-03T09:16:43.769767Z"
    }
   },
   "source": [
    "# load edges from InterpBench\n",
    "from circuits_benchmark.utils.circuit.circuit_eval import calculate_fpr_and_tpr, build_from_acdc_correspondence\n",
    "from circuits_benchmark.utils.circuit.circuit import Circuit\n",
    "from acdc.TLACDCCorrespondence import TLACDCCorrespondence\n",
    "from huggingface_hub import hf_hub_download\n",
    "\n",
    "# We artificially add the following modules to avoid import errors, since some of the files were pickled before the project was refactored \n",
    "sys.modules[\"circuits_benchmark.transformers.circuit\"] = sys.modules[\"circuits_benchmark.utils.circuit.circuit\"]\n",
    "sys.modules[\"circuits_benchmark.transformers.circuit_node\"] = sys.modules[\"circuits_benchmark.utils.circuit.circuit_node\"]\n",
    "\n",
    "def get_tpr_fpr_for_acdc_circuit(acdc_circuit: Circuit):\n",
    "    edges_file = hf_hub_download(\"cybershiptrooper/InterpBench\", subfolder=task_idx, filename=\"edges.pkl\")\n",
    "    edges = pickle.load(open(edges_file, \"rb\"))\n",
    "\n",
    "    gt_circuit = Circuit()\n",
    "    for edge in edges:\n",
    "        gt_circuit.add_edge(edge[0], edge[1])\n",
    "\n",
    "    full_corr = TLACDCCorrespondence.setup_from_model(model, use_pos_embed=True)\n",
    "    full_circuit = build_from_acdc_correspondence(corr=full_corr)\n",
    "\n",
    "    return calculate_fpr_and_tpr(acdc_circuit, gt_circuit, full_circuit)\n",
    "\n",
    "get_tpr_fpr_for_acdc_circuit(acdc_circuit)"
   ],
   "outputs": [
    {
     "name": "stdout",
     "output_type": "stream",
     "text": [
      "\n",
      "Summary:\n",
      " - Nodes TP rate: 1.0\n",
      " - Nodes FP rate: 0.0\n",
      " - Edges TP rate: 0.3333333333333333\n",
      " - Edges FP rate: 0.0\n"
     ]
    },
    {
     "data": {
      "text/plain": [
       "CircuitEvalResult(nodes=CircuitEvalNodesResult(true_positive={blocks.0.hook_mlp_out, blocks.1.attn.hook_result[2], blocks.1.hook_resid_post}, false_positive=set(), false_negative=set(), true_negative={blocks.1.hook_mlp_out, blocks.1.attn.hook_result[0], blocks.0.attn.hook_result[3], blocks.1.attn.hook_result[3], blocks.0.attn.hook_result[0], blocks.1.attn.hook_result[1], blocks.0.attn.hook_result[1], blocks.0.attn.hook_result[2]}, tpr=1.0, fpr=0.0), edges=CircuitEvalEdgesResult(true_positive={(blocks.0.hook_mlp_out, blocks.1.attn.hook_result[2])}, false_positive=set(), false_negative={(hook_pos_embed, blocks.1.attn.hook_result[2]), (hook_embed, blocks.0.hook_mlp_out)}, true_negative={(blocks.0.attn.hook_result[1], blocks.1.attn.hook_result[3]), (blocks.0.attn.hook_result[1], blocks.1.attn.hook_result[0]), (blocks.0.attn.hook_result[1], blocks.1.attn.hook_result[1]), (blocks.0.attn.hook_result[2], blocks.1.attn.hook_result[3]), (blocks.0.attn.hook_result[2], blocks.1.attn.hook_result[0]), (hook_embed, blocks.1.attn.hook_result[2]), (hook_pos_embed, blocks.1.hook_mlp_out), (blocks.0.attn.hook_result[3], blocks.1.hook_mlp_out), (blocks.0.attn.hook_result[0], blocks.1.attn.hook_result[3]), (blocks.0.attn.hook_result[3], blocks.0.hook_mlp_out), (blocks.0.attn.hook_result[2], blocks.1.attn.hook_result[1]), (hook_pos_embed, blocks.0.hook_mlp_out), (blocks.0.attn.hook_result[0], blocks.1.attn.hook_result[0]), (blocks.0.hook_mlp_out, blocks.1.attn.hook_result[3]), (blocks.0.attn.hook_result[0], blocks.1.attn.hook_result[2]), (hook_embed, blocks.0.attn.hook_result[0]), (blocks.0.hook_mlp_out, blocks.1.attn.hook_result[0]), (blocks.0.attn.hook_result[0], blocks.1.attn.hook_result[1]), (hook_embed, blocks.0.attn.hook_result[1]), (hook_embed, blocks.1.attn.hook_result[3]), (blocks.0.hook_mlp_out, blocks.1.attn.hook_result[1]), (blocks.0.attn.hook_result[1], blocks.1.hook_mlp_out), (hook_embed, blocks.1.attn.hook_result[0]), (blocks.0.attn.hook_result[3], blocks.1.attn.hook_result[2]), (hook_embed, blocks.0.attn.hook_result[2]), (blocks.0.attn.hook_result[1], blocks.0.hook_mlp_out), (hook_embed, blocks.1.attn.hook_result[1]), (blocks.0.attn.hook_result[2], blocks.1.hook_mlp_out), (hook_embed, blocks.0.attn.hook_result[3]), (hook_pos_embed, blocks.0.attn.hook_result[0]), (blocks.1.attn.hook_result[1], blocks.1.hook_mlp_out), (blocks.0.attn.hook_result[2], blocks.0.hook_mlp_out), (blocks.1.attn.hook_result[2], blocks.1.hook_mlp_out), (hook_pos_embed, blocks.1.attn.hook_result[3]), (blocks.0.attn.hook_result[3], blocks.1.attn.hook_result[3]), (blocks.0.attn.hook_result[1], blocks.1.attn.hook_result[2]), (blocks.0.attn.hook_result[0], blocks.1.hook_mlp_out), (hook_pos_embed, blocks.0.attn.hook_result[1]), (blocks.0.attn.hook_result[3], blocks.1.attn.hook_result[0]), (blocks.0.attn.hook_result[0], blocks.0.hook_mlp_out), (hook_pos_embed, blocks.0.attn.hook_result[2]), (hook_pos_embed, blocks.1.attn.hook_result[0]), (blocks.0.hook_mlp_out, blocks.1.hook_mlp_out), (blocks.0.attn.hook_result[2], blocks.1.attn.hook_result[2]), (hook_pos_embed, blocks.1.attn.hook_result[1]), (hook_pos_embed, blocks.0.attn.hook_result[3]), (blocks.1.attn.hook_result[0], blocks.1.hook_mlp_out), (blocks.0.attn.hook_result[3], blocks.1.attn.hook_result[1]), (hook_embed, blocks.1.hook_mlp_out), (blocks.1.attn.hook_result[3], blocks.1.hook_mlp_out)}, tpr=0.3333333333333333, fpr=0.0))"
      ]
     },
     "execution_count": 35,
     "metadata": {},
     "output_type": "execute_result"
    }
   ],
   "execution_count": 35
  }
 ],
 "metadata": {
  "accelerator": "GPU",
  "colab": {
   "gpuType": "T4",
   "provenance": []
  },
  "kernelspec": {
   "display_name": "Python 3 (ipykernel)",
   "name": "python3",
   "language": "python"
  },
  "language_info": {
   "codemirror_mode": {
    "name": "ipython",
    "version": 3
   },
   "file_extension": ".py",
   "mimetype": "text/x-python",
   "name": "python",
   "nbconvert_exporter": "python",
   "pygments_lexer": "ipython3",
   "version": "3.11.4"
  }
 },
 "nbformat": 4,
 "nbformat_minor": 0
}
