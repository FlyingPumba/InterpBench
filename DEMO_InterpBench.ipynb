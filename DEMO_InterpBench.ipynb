{
 "cells": [
  {
   "cell_type": "markdown",
   "metadata": {},
   "source": [
    "<a target=\"_blank\" href=\"https://colab.research.google.com/github/FlyingPumba/circuits-benchmark/blob/main/DEMO_InterpBench.ipynb\">\n",
    "  <img src=\"https://colab.research.google.com/assets/colab-badge.svg\" alt=\"Open In Colab\"/>\n",
    "</a>"
   ]
  },
  {
   "cell_type": "markdown",
   "metadata": {
    "id": "yTiizkq4yLT-"
   },
   "source": [
    "### Code to setup InterpBench"
   ]
  },
  {
   "cell_type": "code",
   "execution_count": 1,
   "metadata": {
    "colab": {
     "base_uri": "https://localhost:8080/"
    },
    "collapsed": true,
    "id": "AlpyHCFwcAnW",
    "outputId": "a93dc065-bed5-405e-fe39-fd2e98e06811"
   },
   "outputs": [
    {
     "name": "stdout",
     "output_type": "stream",
     "text": [
      "zsh:1: command not found: apt-get\n"
     ]
    }
   ],
   "source": [
    "import os\n",
    "import sys\n",
    "!apt-get update -q && apt-get install -y --no-install-recommends libgl1-mesa-glx graphviz graphviz-dev git-lfs"
   ]
  },
  {
   "cell_type": "code",
   "execution_count": 2,
   "metadata": {
    "colab": {
     "base_uri": "https://localhost:8080/",
     "height": 1000
    },
    "id": "EO-1XlpMzDo0",
    "outputId": "89fb92b3-28cf-4e15-e178-102656ddc330"
   },
   "outputs": [
    {
     "name": "stdout",
     "output_type": "stream",
     "text": [
      "Cloning into 'circuits-benchmark'...\n",
      "remote: Enumerating objects: 4667, done.\u001b[K\n",
      "remote: Counting objects: 100% (838/838), done.\u001b[K\n",
      "remote: Compressing objects: 100% (284/284), done.\u001b[K\n",
      "remote: Total 4667 (delta 579), reused 796 (delta 552), pack-reused 3829\u001b[K\n",
      "Receiving objects: 100% (4667/4667), 19.30 MiB | 15.25 MiB/s, done.\n",
      "Resolving deltas: 100% (3271/3271), done.\n",
      "Submodule 'submodules/Automatic-Circuit-Discovery' (https://github.com/FlyingPumba/Automatic-Circuit-Discovery.git) registered for path 'submodules/Automatic-Circuit-Discovery'\n",
      "Submodule 'submodules/iit' (https://github.com/cybershiptrooper/iit.git) registered for path 'submodules/iit'\n",
      "Submodule 'submodules/tracr' (https://github.com/FlyingPumba/tracr.git) registered for path 'submodules/tracr'\n",
      "Cloning into '/Users/cybershiptrooper/src/interpretability/MATS/circuits-benchmark/circuits-benchmark/submodules/Automatic-Circuit-Discovery'...\n",
      "remote: Enumerating objects: 9802, done.        \n",
      "remote: Counting objects: 100% (4036/4036), done.        \n",
      "remote: Compressing objects: 100% (893/893), done.        \n",
      "^Cceiving objects:  95% (9312/9802), 28.78 MiB | 14.37 MiB/s\n",
      "warning: Clone succeeded, but checkout failed.\n",
      "You can inspect what was checked out with 'git status'\n",
      "and retry with 'git restore --source=HEAD :/'\n",
      "\n",
      "/Users/cybershiptrooper/src/interpretability/MATS/circuits-benchmark/circuits-benchmark\n"
     ]
    },
    {
     "name": "stderr",
     "output_type": "stream",
     "text": [
      "/Users/cybershiptrooper/src/interpretability/MATS/.iit/lib/python3.11/site-packages/IPython/core/magics/osm.py:417: UserWarning: This is now an optional IPython functionality, setting dhist requires you to install the `pickleshare` library.\n",
      "  self.shell.db['dhist'] = compress_dhist(dhist)[-100:]\n"
     ]
    },
    {
     "name": "stdout",
     "output_type": "stream",
     "text": [
      "Obtaining file:///Users/cybershiptrooper/src/interpretability/MATS/circuits-benchmark/circuits-benchmark\n",
      "  Installing build dependencies ... \u001b[?25ldone\n",
      "\u001b[?25h  Checking if build backend supports build_editable ... \u001b[?25ldone\n",
      "\u001b[?25h  Getting requirements to build editable ... \u001b[?25ldone\n",
      "\u001b[?25h  Preparing editable metadata (pyproject.toml) ... \u001b[?25ldone\n",
      "\u001b[?25hCollecting auto-circuit@ git+https://github.com/FlyingPumba/auto-circuit.git (from circuits-benchmark==0.1.0)\n",
      "  Cloning https://github.com/FlyingPumba/auto-circuit.git to /private/var/folders/_k/_46xyqdj165bdcyw79k6758w0000gn/T/pip-install-rxied_6v/auto-circuit_17bad68c6f7443fdbdacefd732f72115\n",
      "  Running command git clone --filter=blob:none --quiet https://github.com/FlyingPumba/auto-circuit.git /private/var/folders/_k/_46xyqdj165bdcyw79k6758w0000gn/T/pip-install-rxied_6v/auto-circuit_17bad68c6f7443fdbdacefd732f72115\n",
      "  Resolved https://github.com/FlyingPumba/auto-circuit.git to commit 0df108df03533690d8d161529f823ba26b00af3a\n",
      "  Installing build dependencies ... \u001b[?25ldone\n",
      "\u001b[?25h  Getting requirements to build wheel ... \u001b[?25ldone\n",
      "\u001b[?25h  Preparing metadata (pyproject.toml) ... \u001b[?25ldone\n",
      "\u001b[?25hRequirement already satisfied: argparse-dataclass<3.0.0,>=2.0.0 in /Users/cybershiptrooper/src/interpretability/MATS/.iit/lib/python3.11/site-packages (from circuits-benchmark==0.1.0) (2.0.0)\n",
      "Requirement already satisfied: chex<0.2.0,>=0.1.85 in /Users/cybershiptrooper/src/interpretability/MATS/.iit/lib/python3.11/site-packages (from circuits-benchmark==0.1.0) (0.1.86)\n",
      "Requirement already satisfied: cloudpickle<4.0.0,>=3.0.0 in /Users/cybershiptrooper/src/interpretability/MATS/.iit/lib/python3.11/site-packages (from circuits-benchmark==0.1.0) (3.0.0)\n",
      "Requirement already satisfied: cmapy<0.7.0,>=0.6.6 in /Users/cybershiptrooper/src/interpretability/MATS/.iit/lib/python3.11/site-packages (from circuits-benchmark==0.1.0) (0.6.6)\n",
      "Requirement already satisfied: dataframe-image<0.3.0,>=0.2.3 in /Users/cybershiptrooper/src/interpretability/MATS/.iit/lib/python3.11/site-packages (from circuits-benchmark==0.1.0) (0.2.3)\n",
      "Requirement already satisfied: datasets<3.0,>=2.17 in /Users/cybershiptrooper/src/interpretability/MATS/.iit/lib/python3.11/site-packages (from circuits-benchmark==0.1.0) (2.18.0)\n",
      "Requirement already satisfied: dm-haiku<0.0.12,>=0.0.11 in /Users/cybershiptrooper/src/interpretability/MATS/.iit/lib/python3.11/site-packages (from circuits-benchmark==0.1.0) (0.0.11)\n",
      "Requirement already satisfied: einops<0.7.0,>=0.6.1 in /Users/cybershiptrooper/src/interpretability/MATS/.iit/lib/python3.11/site-packages (from circuits-benchmark==0.1.0) (0.6.1)\n",
      "Requirement already satisfied: huggingface-hub<0.21,>=0.20 in /Users/cybershiptrooper/src/interpretability/MATS/.iit/lib/python3.11/site-packages (from circuits-benchmark==0.1.0) (0.20.3)\n",
      "Requirement already satisfied: ipython<9.0.0,>=8.24.0 in /Users/cybershiptrooper/src/interpretability/MATS/.iit/lib/python3.11/site-packages (from circuits-benchmark==0.1.0) (8.25.0)\n",
      "Requirement already satisfied: kaleido==0.2.1 in /Users/cybershiptrooper/src/interpretability/MATS/.iit/lib/python3.11/site-packages (from circuits-benchmark==0.1.0) (0.2.1)\n",
      "Collecting matplotlib==3.8.1 (from circuits-benchmark==0.1.0)\n",
      "  Downloading matplotlib-3.8.1-cp311-cp311-macosx_11_0_arm64.whl (7.5 MB)\n",
      "\u001b[2K     \u001b[90m━━━━━━━━━━━━━━━━━━━━━━━━━━━━━━━━━━━━━━━━\u001b[0m \u001b[32m7.5/7.5 MB\u001b[0m \u001b[31m10.5 MB/s\u001b[0m eta \u001b[36m0:00:00\u001b[0m00:01\u001b[0m00:01\u001b[0m\n",
      "\u001b[?25hRequirement already satisfied: mlcroissant<2.0.0,>=1.0.5 in /Users/cybershiptrooper/src/interpretability/MATS/.iit/lib/python3.11/site-packages (from circuits-benchmark==0.1.0) (1.0.5)\n",
      "Requirement already satisfied: networkx<4.0,>=3.1 in /Users/cybershiptrooper/src/interpretability/MATS/.iit/lib/python3.11/site-packages (from circuits-benchmark==0.1.0) (3.3)\n",
      "Requirement already satisfied: numpy<2.0,>=1.26 in /Users/cybershiptrooper/src/interpretability/MATS/.iit/lib/python3.11/site-packages (from circuits-benchmark==0.1.0) (1.26.4)\n",
      "Requirement already satisfied: pandas<3.0,>=2.2 in /Users/cybershiptrooper/src/interpretability/MATS/.iit/lib/python3.11/site-packages (from circuits-benchmark==0.1.0) (2.2.2)\n",
      "Requirement already satisfied: plotly<6.0.0,>=5.12.0 in /Users/cybershiptrooper/src/interpretability/MATS/.iit/lib/python3.11/site-packages (from circuits-benchmark==0.1.0) (5.22.0)\n",
      "Requirement already satisfied: pygraphviz<2.0,>=1.11 in /Users/cybershiptrooper/src/interpretability/MATS/.iit/lib/python3.11/site-packages (from circuits-benchmark==0.1.0) (1.12)\n",
      "Requirement already satisfied: tokenizers<0.16.0,>=0.15.0 in /Users/cybershiptrooper/src/interpretability/MATS/.iit/lib/python3.11/site-packages (from circuits-benchmark==0.1.0) (0.15.2)\n",
      "Requirement already satisfied: torch>=2.2.0 in /Users/cybershiptrooper/src/interpretability/MATS/.iit/lib/python3.11/site-packages (from circuits-benchmark==0.1.0) (2.3.1)\n",
      "Requirement already satisfied: torchtyping<0.2.0,>=0.1.4 in /Users/cybershiptrooper/src/interpretability/MATS/.iit/lib/python3.11/site-packages (from circuits-benchmark==0.1.0) (0.1.4)\n",
      "Requirement already satisfied: torchvision<0.19.0,>=0.18.0 in /Users/cybershiptrooper/src/interpretability/MATS/.iit/lib/python3.11/site-packages (from circuits-benchmark==0.1.0) (0.18.1)\n",
      "Requirement already satisfied: tqdm<5.0,>=4.66 in /Users/cybershiptrooper/src/interpretability/MATS/.iit/lib/python3.11/site-packages (from circuits-benchmark==0.1.0) (4.66.4)\n",
      "Requirement already satisfied: transformer-lens==1.14.0 in /Users/cybershiptrooper/src/interpretability/MATS/.iit/lib/python3.11/site-packages (from circuits-benchmark==0.1.0) (1.14.0)\n",
      "Requirement already satisfied: transformers<5.0,>=4.37 in /Users/cybershiptrooper/src/interpretability/MATS/.iit/lib/python3.11/site-packages (from circuits-benchmark==0.1.0) (4.39.3)\n",
      "Requirement already satisfied: typer<0.10.0,>=0.9.0 in /Users/cybershiptrooper/src/interpretability/MATS/.iit/lib/python3.11/site-packages (from circuits-benchmark==0.1.0) (0.9.4)\n",
      "Requirement already satisfied: wandb<0.17,>=0.16 in /Users/cybershiptrooper/src/interpretability/MATS/.iit/lib/python3.11/site-packages (from circuits-benchmark==0.1.0) (0.16.6)\n",
      "Requirement already satisfied: contourpy>=1.0.1 in /Users/cybershiptrooper/src/interpretability/MATS/.iit/lib/python3.11/site-packages (from matplotlib==3.8.1->circuits-benchmark==0.1.0) (1.2.1)\n",
      "Requirement already satisfied: cycler>=0.10 in /Users/cybershiptrooper/src/interpretability/MATS/.iit/lib/python3.11/site-packages (from matplotlib==3.8.1->circuits-benchmark==0.1.0) (0.12.1)\n",
      "Requirement already satisfied: fonttools>=4.22.0 in /Users/cybershiptrooper/src/interpretability/MATS/.iit/lib/python3.11/site-packages (from matplotlib==3.8.1->circuits-benchmark==0.1.0) (4.53.0)\n",
      "Requirement already satisfied: kiwisolver>=1.3.1 in /Users/cybershiptrooper/src/interpretability/MATS/.iit/lib/python3.11/site-packages (from matplotlib==3.8.1->circuits-benchmark==0.1.0) (1.4.5)\n",
      "Requirement already satisfied: packaging>=20.0 in /Users/cybershiptrooper/src/interpretability/MATS/.iit/lib/python3.11/site-packages (from matplotlib==3.8.1->circuits-benchmark==0.1.0) (24.1)\n",
      "Requirement already satisfied: pillow>=8 in /Users/cybershiptrooper/src/interpretability/MATS/.iit/lib/python3.11/site-packages (from matplotlib==3.8.1->circuits-benchmark==0.1.0) (10.3.0)\n",
      "Requirement already satisfied: pyparsing>=2.3.1 in /Users/cybershiptrooper/src/interpretability/MATS/.iit/lib/python3.11/site-packages (from matplotlib==3.8.1->circuits-benchmark==0.1.0) (3.1.2)\n",
      "Requirement already satisfied: python-dateutil>=2.7 in /Users/cybershiptrooper/src/interpretability/MATS/.iit/lib/python3.11/site-packages (from matplotlib==3.8.1->circuits-benchmark==0.1.0) (2.9.0.post0)\n",
      "Requirement already satisfied: accelerate>=0.23.0 in /Users/cybershiptrooper/src/interpretability/MATS/.iit/lib/python3.11/site-packages (from transformer-lens==1.14.0->circuits-benchmark==0.1.0) (0.31.0)\n",
      "Requirement already satisfied: beartype<0.15.0,>=0.14.1 in /Users/cybershiptrooper/src/interpretability/MATS/.iit/lib/python3.11/site-packages (from transformer-lens==1.14.0->circuits-benchmark==0.1.0) (0.14.1)\n",
      "Requirement already satisfied: better-abc<0.0.4,>=0.0.3 in /Users/cybershiptrooper/src/interpretability/MATS/.iit/lib/python3.11/site-packages (from transformer-lens==1.14.0->circuits-benchmark==0.1.0) (0.0.3)\n",
      "Requirement already satisfied: fancy-einsum>=0.0.3 in /Users/cybershiptrooper/src/interpretability/MATS/.iit/lib/python3.11/site-packages (from transformer-lens==1.14.0->circuits-benchmark==0.1.0) (0.0.3)\n",
      "Requirement already satisfied: jaxtyping>=0.2.11 in /Users/cybershiptrooper/src/interpretability/MATS/.iit/lib/python3.11/site-packages (from transformer-lens==1.14.0->circuits-benchmark==0.1.0) (0.2.22)\n",
      "Requirement already satisfied: rich>=12.6.0 in /Users/cybershiptrooper/src/interpretability/MATS/.iit/lib/python3.11/site-packages (from transformer-lens==1.14.0->circuits-benchmark==0.1.0) (13.7.1)\n",
      "Requirement already satisfied: typing-extensions in /Users/cybershiptrooper/src/interpretability/MATS/.iit/lib/python3.11/site-packages (from transformer-lens==1.14.0->circuits-benchmark==0.1.0) (4.12.2)\n",
      "Requirement already satisfied: absl-py>=0.9.0 in /Users/cybershiptrooper/src/interpretability/MATS/.iit/lib/python3.11/site-packages (from chex<0.2.0,>=0.1.85->circuits-benchmark==0.1.0) (2.1.0)\n",
      "Requirement already satisfied: jax>=0.4.16 in /Users/cybershiptrooper/src/interpretability/MATS/.iit/lib/python3.11/site-packages (from chex<0.2.0,>=0.1.85->circuits-benchmark==0.1.0) (0.4.30)\n",
      "Requirement already satisfied: jaxlib>=0.1.37 in /Users/cybershiptrooper/src/interpretability/MATS/.iit/lib/python3.11/site-packages (from chex<0.2.0,>=0.1.85->circuits-benchmark==0.1.0) (0.4.30)\n",
      "Requirement already satisfied: toolz>=0.9.0 in /Users/cybershiptrooper/src/interpretability/MATS/.iit/lib/python3.11/site-packages (from chex<0.2.0,>=0.1.85->circuits-benchmark==0.1.0) (0.12.1)\n",
      "Requirement already satisfied: opencv-python>=3.3 in /Users/cybershiptrooper/src/interpretability/MATS/.iit/lib/python3.11/site-packages (from cmapy<0.7.0,>=0.6.6->circuits-benchmark==0.1.0) (4.10.0.84)\n",
      "Requirement already satisfied: nbconvert>=5 in /Users/cybershiptrooper/src/interpretability/MATS/.iit/lib/python3.11/site-packages (from dataframe-image<0.3.0,>=0.2.3->circuits-benchmark==0.1.0) (7.16.4)\n",
      "Requirement already satisfied: aiohttp in /Users/cybershiptrooper/src/interpretability/MATS/.iit/lib/python3.11/site-packages (from dataframe-image<0.3.0,>=0.2.3->circuits-benchmark==0.1.0) (3.9.5)\n",
      "Requirement already satisfied: requests in /Users/cybershiptrooper/src/interpretability/MATS/.iit/lib/python3.11/site-packages (from dataframe-image<0.3.0,>=0.2.3->circuits-benchmark==0.1.0) (2.32.3)\n",
      "Requirement already satisfied: mistune in /Users/cybershiptrooper/src/interpretability/MATS/.iit/lib/python3.11/site-packages (from dataframe-image<0.3.0,>=0.2.3->circuits-benchmark==0.1.0) (3.0.2)\n",
      "Requirement already satisfied: lxml in /Users/cybershiptrooper/src/interpretability/MATS/.iit/lib/python3.11/site-packages (from dataframe-image<0.3.0,>=0.2.3->circuits-benchmark==0.1.0) (4.9.4)\n",
      "Requirement already satisfied: beautifulsoup4 in /Users/cybershiptrooper/src/interpretability/MATS/.iit/lib/python3.11/site-packages (from dataframe-image<0.3.0,>=0.2.3->circuits-benchmark==0.1.0) (4.12.3)\n",
      "Requirement already satisfied: cssutils in /Users/cybershiptrooper/src/interpretability/MATS/.iit/lib/python3.11/site-packages (from dataframe-image<0.3.0,>=0.2.3->circuits-benchmark==0.1.0) (2.11.1)\n",
      "Requirement already satisfied: html2image in /Users/cybershiptrooper/src/interpretability/MATS/.iit/lib/python3.11/site-packages (from dataframe-image<0.3.0,>=0.2.3->circuits-benchmark==0.1.0) (2.0.4.3)\n",
      "Requirement already satisfied: filelock in /Users/cybershiptrooper/src/interpretability/MATS/.iit/lib/python3.11/site-packages (from datasets<3.0,>=2.17->circuits-benchmark==0.1.0) (3.15.1)\n",
      "Requirement already satisfied: pyarrow>=12.0.0 in /Users/cybershiptrooper/src/interpretability/MATS/.iit/lib/python3.11/site-packages (from datasets<3.0,>=2.17->circuits-benchmark==0.1.0) (16.1.0)\n",
      "Requirement already satisfied: pyarrow-hotfix in /Users/cybershiptrooper/src/interpretability/MATS/.iit/lib/python3.11/site-packages (from datasets<3.0,>=2.17->circuits-benchmark==0.1.0) (0.6)\n",
      "Requirement already satisfied: dill<0.3.9,>=0.3.0 in /Users/cybershiptrooper/src/interpretability/MATS/.iit/lib/python3.11/site-packages (from datasets<3.0,>=2.17->circuits-benchmark==0.1.0) (0.3.8)\n",
      "Requirement already satisfied: xxhash in /Users/cybershiptrooper/src/interpretability/MATS/.iit/lib/python3.11/site-packages (from datasets<3.0,>=2.17->circuits-benchmark==0.1.0) (3.4.1)\n",
      "Requirement already satisfied: multiprocess in /Users/cybershiptrooper/src/interpretability/MATS/.iit/lib/python3.11/site-packages (from datasets<3.0,>=2.17->circuits-benchmark==0.1.0) (0.70.16)\n",
      "Requirement already satisfied: fsspec[http]<=2024.2.0,>=2023.1.0 in /Users/cybershiptrooper/src/interpretability/MATS/.iit/lib/python3.11/site-packages (from datasets<3.0,>=2.17->circuits-benchmark==0.1.0) (2024.2.0)\n",
      "Requirement already satisfied: pyyaml>=5.1 in /Users/cybershiptrooper/src/interpretability/MATS/.iit/lib/python3.11/site-packages (from datasets<3.0,>=2.17->circuits-benchmark==0.1.0) (6.0.1)\n",
      "Requirement already satisfied: jmp>=0.0.2 in /Users/cybershiptrooper/src/interpretability/MATS/.iit/lib/python3.11/site-packages (from dm-haiku<0.0.12,>=0.0.11->circuits-benchmark==0.1.0) (0.0.4)\n",
      "Requirement already satisfied: tabulate>=0.8.9 in /Users/cybershiptrooper/src/interpretability/MATS/.iit/lib/python3.11/site-packages (from dm-haiku<0.0.12,>=0.0.11->circuits-benchmark==0.1.0) (0.9.0)\n",
      "Requirement already satisfied: flax>=0.7.1 in /Users/cybershiptrooper/src/interpretability/MATS/.iit/lib/python3.11/site-packages (from dm-haiku<0.0.12,>=0.0.11->circuits-benchmark==0.1.0) (0.8.4)\n",
      "Requirement already satisfied: decorator in /Users/cybershiptrooper/src/interpretability/MATS/.iit/lib/python3.11/site-packages (from ipython<9.0.0,>=8.24.0->circuits-benchmark==0.1.0) (5.1.1)\n",
      "Requirement already satisfied: jedi>=0.16 in /Users/cybershiptrooper/src/interpretability/MATS/.iit/lib/python3.11/site-packages (from ipython<9.0.0,>=8.24.0->circuits-benchmark==0.1.0) (0.19.1)\n",
      "Requirement already satisfied: matplotlib-inline in /Users/cybershiptrooper/src/interpretability/MATS/.iit/lib/python3.11/site-packages (from ipython<9.0.0,>=8.24.0->circuits-benchmark==0.1.0) (0.1.7)\n",
      "Requirement already satisfied: prompt-toolkit<3.1.0,>=3.0.41 in /Users/cybershiptrooper/src/interpretability/MATS/.iit/lib/python3.11/site-packages (from ipython<9.0.0,>=8.24.0->circuits-benchmark==0.1.0) (3.0.47)\n",
      "Requirement already satisfied: pygments>=2.4.0 in /Users/cybershiptrooper/src/interpretability/MATS/.iit/lib/python3.11/site-packages (from ipython<9.0.0,>=8.24.0->circuits-benchmark==0.1.0) (2.18.0)\n",
      "Requirement already satisfied: stack-data in /Users/cybershiptrooper/src/interpretability/MATS/.iit/lib/python3.11/site-packages (from ipython<9.0.0,>=8.24.0->circuits-benchmark==0.1.0) (0.6.3)\n",
      "Requirement already satisfied: traitlets>=5.13.0 in /Users/cybershiptrooper/src/interpretability/MATS/.iit/lib/python3.11/site-packages (from ipython<9.0.0,>=8.24.0->circuits-benchmark==0.1.0) (5.14.3)\n",
      "Requirement already satisfied: pexpect>4.3 in /Users/cybershiptrooper/src/interpretability/MATS/.iit/lib/python3.11/site-packages (from ipython<9.0.0,>=8.24.0->circuits-benchmark==0.1.0) (4.9.0)\n",
      "Requirement already satisfied: etils[epath]>=1.7.0 in /Users/cybershiptrooper/src/interpretability/MATS/.iit/lib/python3.11/site-packages (from mlcroissant<2.0.0,>=1.0.5->circuits-benchmark==0.1.0) (1.7.0)\n",
      "Requirement already satisfied: jsonpath-rw in /Users/cybershiptrooper/src/interpretability/MATS/.iit/lib/python3.11/site-packages (from mlcroissant<2.0.0,>=1.0.5->circuits-benchmark==0.1.0) (1.4.0)\n",
      "Requirement already satisfied: pandas-stubs in /Users/cybershiptrooper/src/interpretability/MATS/.iit/lib/python3.11/site-packages (from mlcroissant<2.0.0,>=1.0.5->circuits-benchmark==0.1.0) (2.2.2.240603)\n",
      "Requirement already satisfied: rdflib in /Users/cybershiptrooper/src/interpretability/MATS/.iit/lib/python3.11/site-packages (from mlcroissant<2.0.0,>=1.0.5->circuits-benchmark==0.1.0) (7.0.0)\n",
      "Requirement already satisfied: pytz>=2020.1 in /Users/cybershiptrooper/src/interpretability/MATS/.iit/lib/python3.11/site-packages (from pandas<3.0,>=2.2->circuits-benchmark==0.1.0) (2024.1)\n",
      "Requirement already satisfied: tzdata>=2022.7 in /Users/cybershiptrooper/src/interpretability/MATS/.iit/lib/python3.11/site-packages (from pandas<3.0,>=2.2->circuits-benchmark==0.1.0) (2024.1)\n",
      "Requirement already satisfied: tenacity>=6.2.0 in /Users/cybershiptrooper/src/interpretability/MATS/.iit/lib/python3.11/site-packages (from plotly<6.0.0,>=5.12.0->circuits-benchmark==0.1.0) (8.4.1)\n",
      "Requirement already satisfied: sympy in /Users/cybershiptrooper/src/interpretability/MATS/.iit/lib/python3.11/site-packages (from torch>=2.2.0->circuits-benchmark==0.1.0) (1.12.1)\n",
      "Requirement already satisfied: jinja2 in /Users/cybershiptrooper/src/interpretability/MATS/.iit/lib/python3.11/site-packages (from torch>=2.2.0->circuits-benchmark==0.1.0) (3.1.4)\n",
      "Requirement already satisfied: typeguard>=2.11.1 in /Users/cybershiptrooper/src/interpretability/MATS/.iit/lib/python3.11/site-packages (from torchtyping<0.2.0,>=0.1.4->circuits-benchmark==0.1.0) (4.3.0)\n",
      "Requirement already satisfied: regex!=2019.12.17 in /Users/cybershiptrooper/src/interpretability/MATS/.iit/lib/python3.11/site-packages (from transformers<5.0,>=4.37->circuits-benchmark==0.1.0) (2024.5.15)\n",
      "Requirement already satisfied: safetensors>=0.4.1 in /Users/cybershiptrooper/src/interpretability/MATS/.iit/lib/python3.11/site-packages (from transformers<5.0,>=4.37->circuits-benchmark==0.1.0) (0.4.3)\n",
      "Requirement already satisfied: click<9.0.0,>=7.1.1 in /Users/cybershiptrooper/src/interpretability/MATS/.iit/lib/python3.11/site-packages (from typer<0.10.0,>=0.9.0->circuits-benchmark==0.1.0) (8.1.7)\n",
      "Requirement already satisfied: GitPython!=3.1.29,>=1.0.0 in /Users/cybershiptrooper/src/interpretability/MATS/.iit/lib/python3.11/site-packages (from wandb<0.17,>=0.16->circuits-benchmark==0.1.0) (3.1.43)\n",
      "Requirement already satisfied: psutil>=5.0.0 in /Users/cybershiptrooper/src/interpretability/MATS/.iit/lib/python3.11/site-packages (from wandb<0.17,>=0.16->circuits-benchmark==0.1.0) (6.0.0)\n",
      "Requirement already satisfied: sentry-sdk>=1.0.0 in /Users/cybershiptrooper/src/interpretability/MATS/.iit/lib/python3.11/site-packages (from wandb<0.17,>=0.16->circuits-benchmark==0.1.0) (2.5.1)\n",
      "Requirement already satisfied: docker-pycreds>=0.4.0 in /Users/cybershiptrooper/src/interpretability/MATS/.iit/lib/python3.11/site-packages (from wandb<0.17,>=0.16->circuits-benchmark==0.1.0) (0.4.0)\n",
      "Requirement already satisfied: setproctitle in /Users/cybershiptrooper/src/interpretability/MATS/.iit/lib/python3.11/site-packages (from wandb<0.17,>=0.16->circuits-benchmark==0.1.0) (1.3.3)\n",
      "Requirement already satisfied: setuptools in /Users/cybershiptrooper/src/interpretability/MATS/.iit/lib/python3.11/site-packages (from wandb<0.17,>=0.16->circuits-benchmark==0.1.0) (70.0.0)\n",
      "Requirement already satisfied: appdirs>=1.4.3 in /Users/cybershiptrooper/src/interpretability/MATS/.iit/lib/python3.11/site-packages (from wandb<0.17,>=0.16->circuits-benchmark==0.1.0) (1.4.4)\n",
      "Requirement already satisfied: protobuf!=4.21.0,<5,>=3.19.0 in /Users/cybershiptrooper/src/interpretability/MATS/.iit/lib/python3.11/site-packages (from wandb<0.17,>=0.16->circuits-benchmark==0.1.0) (4.25.3)\n",
      "Requirement already satisfied: blobfile==2.0.2 in /Users/cybershiptrooper/src/interpretability/MATS/.iit/lib/python3.11/site-packages (from auto-circuit@ git+https://github.com/FlyingPumba/auto-circuit.git->circuits-benchmark==0.1.0) (2.0.2)\n",
      "Requirement already satisfied: ordered-set<5.0.0,>=4.1.0 in /Users/cybershiptrooper/src/interpretability/MATS/.iit/lib/python3.11/site-packages (from auto-circuit@ git+https://github.com/FlyingPumba/auto-circuit.git->circuits-benchmark==0.1.0) (4.1.0)\n",
      "Requirement already satisfied: tracr-pypi==1.0.0 in /Users/cybershiptrooper/src/interpretability/MATS/.iit/lib/python3.11/site-packages (from auto-circuit@ git+https://github.com/FlyingPumba/auto-circuit.git->circuits-benchmark==0.1.0) (1.0.0)\n",
      "Requirement already satisfied: vscode-tqdm==4.66.2 in /Users/cybershiptrooper/src/interpretability/MATS/.iit/lib/python3.11/site-packages (from auto-circuit@ git+https://github.com/FlyingPumba/auto-circuit.git->circuits-benchmark==0.1.0) (4.66.2)\n",
      "Requirement already satisfied: word2word<2.0.0,>=1.0.0 in /Users/cybershiptrooper/src/interpretability/MATS/.iit/lib/python3.11/site-packages (from auto-circuit@ git+https://github.com/FlyingPumba/auto-circuit.git->circuits-benchmark==0.1.0) (1.0.0)\n",
      "Requirement already satisfied: pycryptodomex~=3.8 in /Users/cybershiptrooper/src/interpretability/MATS/.iit/lib/python3.11/site-packages (from blobfile==2.0.2->auto-circuit@ git+https://github.com/FlyingPumba/auto-circuit.git->circuits-benchmark==0.1.0) (3.20.0)\n",
      "Requirement already satisfied: urllib3<3,>=1.25.3 in /Users/cybershiptrooper/src/interpretability/MATS/.iit/lib/python3.11/site-packages (from blobfile==2.0.2->auto-circuit@ git+https://github.com/FlyingPumba/auto-circuit.git->circuits-benchmark==0.1.0) (2.2.2)\n",
      "Requirement already satisfied: six>=1.4.0 in /Users/cybershiptrooper/src/interpretability/MATS/.iit/lib/python3.11/site-packages (from docker-pycreds>=0.4.0->wandb<0.17,>=0.16->circuits-benchmark==0.1.0) (1.16.0)\n",
      "Requirement already satisfied: importlib_resources in /Users/cybershiptrooper/src/interpretability/MATS/.iit/lib/python3.11/site-packages (from etils[epath]>=1.7.0->mlcroissant<2.0.0,>=1.0.5->circuits-benchmark==0.1.0) (6.4.0)\n",
      "Requirement already satisfied: zipp in /Users/cybershiptrooper/src/interpretability/MATS/.iit/lib/python3.11/site-packages (from etils[epath]>=1.7.0->mlcroissant<2.0.0,>=1.0.5->circuits-benchmark==0.1.0) (3.19.2)\n"
     ]
    }
   ],
   "source": [
    "!git clone --recurse-submodules https://github.com/FlyingPumba/circuits-benchmark.git\n",
    "%cd circuits-benchmark\n",
    "!pip install -e ."
   ]
  },
  {
   "cell_type": "markdown",
   "metadata": {
    "id": "moVDFeLF0uID"
   },
   "source": [
    "### Load model from InterpBench"
   ]
  },
  {
   "cell_type": "code",
   "execution_count": 1,
   "metadata": {
    "ExecuteTime": {
     "end_time": "2024-07-03T09:16:20.310030Z",
     "start_time": "2024-07-03T09:16:20.283009Z"
    },
    "id": "1q4dLqTiRnGQ"
   },
   "outputs": [],
   "source": [
    "%load_ext autoreload\n",
    "%autoreload 2\n",
    "\n",
    "import pickle\n",
    "import torch\n",
    "import os"
   ]
  },
  {
   "cell_type": "code",
   "execution_count": 2,
   "metadata": {
    "ExecuteTime": {
     "end_time": "2024-07-03T08:56:59.311300Z",
     "start_time": "2024-07-03T08:56:59.271849Z"
    },
    "id": "oz2CAN7f0W8p"
   },
   "outputs": [],
   "source": [
    "import circuits_benchmark.benchmark.cases.case_3 as case_3\n",
    "\n",
    "task = case_3.Case3()\n",
    "task_idx = task.get_name()"
   ]
  },
  {
   "cell_type": "code",
   "execution_count": 3,
   "metadata": {
    "ExecuteTime": {
     "end_time": "2024-07-03T08:57:01.755472Z",
     "start_time": "2024-07-03T08:57:00.296579Z"
    },
    "colab": {
     "base_uri": "https://localhost:8080/"
    },
    "id": "ymbfV1H8W72N",
    "outputId": "ad9c7086-a912-4ba6-cd5a-35a80ab5de8d"
   },
   "outputs": [],
   "source": [
    "from circuits_benchmark.utils.ll_model_loader.ll_model_loader_factory import get_ll_model_loader\n",
    "\n",
    "ll_model_loader = get_ll_model_loader(task, interp_bench=True)\n",
    "hl_ll_corr, model = ll_model_loader.load_ll_model_and_correspondence(device='cuda' if torch.cuda.is_available() else 'cpu')"
   ]
  },
  {
   "cell_type": "code",
   "execution_count": 4,
   "metadata": {
    "ExecuteTime": {
     "end_time": "2024-07-03T08:57:02.714928Z",
     "start_time": "2024-07-03T08:57:02.675267Z"
    },
    "colab": {
     "base_uri": "https://localhost:8080/"
    },
    "id": "IjPVxm992rWf",
    "outputId": "eb099196-0a0e-4d67-c0a4-6f81c473144b"
   },
   "outputs": [
    {
     "data": {
      "text/plain": [
       "<torch.autograd.grad_mode.set_grad_enabled at 0x2dcde5710>"
      ]
     },
     "execution_count": 4,
     "metadata": {},
     "output_type": "execute_result"
    }
   ],
   "source": [
    "# turn off grads\n",
    "model.eval()\n",
    "model.requires_grad_(False)\n",
    "torch.set_grad_enabled(False)"
   ]
  },
  {
   "cell_type": "markdown",
   "metadata": {
    "id": "Pd7ccm2J0yxR"
   },
   "source": [
    "### Run evaluations"
   ]
  },
  {
   "cell_type": "code",
   "execution_count": 5,
   "metadata": {
    "ExecuteTime": {
     "end_time": "2024-07-03T09:16:28.090424Z",
     "start_time": "2024-07-03T09:16:28.050347Z"
    },
    "id": "LOwafLTd1uz6"
   },
   "outputs": [
    {
     "name": "stdout",
     "output_type": "stream",
     "text": [
      "Moving model to device:  cpu\n",
      "{'hook_embed': HookPoint(), 'hook_pos_embed': HookPoint(), 'blocks.0.attn.hook_k': HookPoint(), 'blocks.0.attn.hook_q': HookPoint(), 'blocks.0.attn.hook_v': HookPoint(), 'blocks.0.attn.hook_z': HookPoint(), 'blocks.0.attn.hook_attn_scores': HookPoint(), 'blocks.0.attn.hook_pattern': HookPoint(), 'blocks.0.attn.hook_result': HookPoint(), 'blocks.0.mlp.hook_pre': HookPoint(), 'blocks.0.mlp.hook_post': HookPoint(), 'blocks.0.hook_attn_in': HookPoint(), 'blocks.0.hook_q_input': HookPoint(), 'blocks.0.hook_k_input': HookPoint(), 'blocks.0.hook_v_input': HookPoint(), 'blocks.0.hook_mlp_in': HookPoint(), 'blocks.0.hook_attn_out': HookPoint(), 'blocks.0.hook_mlp_out': HookPoint(), 'blocks.0.hook_resid_pre': HookPoint(), 'blocks.0.hook_resid_mid': HookPoint(), 'blocks.0.hook_resid_post': HookPoint(), 'blocks.1.attn.hook_k': HookPoint(), 'blocks.1.attn.hook_q': HookPoint(), 'blocks.1.attn.hook_v': HookPoint(), 'blocks.1.attn.hook_z': HookPoint(), 'blocks.1.attn.hook_attn_scores': HookPoint(), 'blocks.1.attn.hook_pattern': HookPoint(), 'blocks.1.attn.hook_result': HookPoint(), 'blocks.1.mlp.hook_pre': HookPoint(), 'blocks.1.mlp.hook_post': HookPoint(), 'blocks.1.hook_attn_in': HookPoint(), 'blocks.1.hook_q_input': HookPoint(), 'blocks.1.hook_k_input': HookPoint(), 'blocks.1.hook_v_input': HookPoint(), 'blocks.1.hook_mlp_in': HookPoint(), 'blocks.1.hook_attn_out': HookPoint(), 'blocks.1.hook_mlp_out': HookPoint(), 'blocks.1.hook_resid_pre': HookPoint(), 'blocks.1.hook_resid_mid': HookPoint(), 'blocks.1.hook_resid_post': HookPoint()}\n",
      "dict_keys([TracrHLNode(name: blocks.0.mlp.hook_post,\n",
      " label: is_x_3,\n",
      " classes: 0,\n",
      " index: [:]\n",
      "), TracrHLNode(name: blocks.1.attn.hook_result,\n",
      " label: frac_prevs_1,\n",
      " classes: 0,\n",
      " index: [:, :, 0, :]\n",
      ")])\n"
     ]
    }
   ],
   "source": [
    "# load high level model\n",
    "from circuits_benchmark.utils.iit.iit_hl_model import IITHLModel\n",
    "from circuits_benchmark.transformers.hooked_tracr_transformer import HookedTracrTransformer\n",
    "\n",
    "# Prepare HL model\n",
    "hl_model = task.get_hl_model()\n",
    "if isinstance(hl_model, HookedTracrTransformer):\n",
    "    hl_model = IITHLModel(hl_model, eval_mode=True)\n",
    "\n",
    "# Build model pair\n",
    "model_pair = task.build_model_pair(\n",
    "  ll_model=model,\n",
    "  hl_model=hl_model,\n",
    ")"
   ]
  },
  {
   "cell_type": "code",
   "execution_count": 6,
   "metadata": {
    "ExecuteTime": {
     "end_time": "2024-07-03T08:57:17.812057Z",
     "start_time": "2024-07-03T08:57:07.801081Z"
    }
   },
   "outputs": [
    {
     "name": "stderr",
     "output_type": "stream",
     "text": [
      "100%|██████████| 40/40 [00:03<00:00, 10.35it/s]\n",
      "100%|██████████| 40/40 [00:00<00:00, 40.45it/s]\n",
      "100%|██████████| 1/1 [00:00<00:00, 249.44it/s]\n",
      "100%|██████████| 1/1 [00:00<00:00, 21.71it/s]\n",
      "100%|██████████| 1/1 [00:00<00:00, 75.02it/s]\n"
     ]
    }
   ],
   "source": [
    "from circuits_benchmark.commands.evaluation.iit.iit_eval import get_node_effects\n",
    "\n",
    "max_len = 100 # make this smaller or larger to include more or less datapoints\n",
    "node_effects, eval_metrics = get_node_effects(case=task, model_pair=model_pair, max_len=max_len, use_mean_cache=True)"
   ]
  },
  {
   "cell_type": "code",
   "execution_count": 7,
   "metadata": {
    "ExecuteTime": {
     "end_time": "2024-07-03T08:57:22.967814Z",
     "start_time": "2024-07-03T08:57:22.932875Z"
    }
   },
   "outputs": [
    {
     "data": {
      "text/html": [
       "<div>\n",
       "<style scoped>\n",
       "    .dataframe tbody tr th:only-of-type {\n",
       "        vertical-align: middle;\n",
       "    }\n",
       "\n",
       "    .dataframe tbody tr th {\n",
       "        vertical-align: top;\n",
       "    }\n",
       "\n",
       "    .dataframe thead th {\n",
       "        text-align: right;\n",
       "    }\n",
       "</style>\n",
       "<table border=\"1\" class=\"dataframe\">\n",
       "  <thead>\n",
       "    <tr style=\"text-align: right;\">\n",
       "      <th></th>\n",
       "      <th>node</th>\n",
       "      <th>status</th>\n",
       "      <th>resample_ablate_effect</th>\n",
       "      <th>mean_ablate_effect</th>\n",
       "    </tr>\n",
       "  </thead>\n",
       "  <tbody>\n",
       "    <tr>\n",
       "      <th>0</th>\n",
       "      <td>blocks.0.attn.hook_result, head  0</td>\n",
       "      <td>not_in_circuit</td>\n",
       "      <td>0.0</td>\n",
       "      <td>0.000</td>\n",
       "    </tr>\n",
       "    <tr>\n",
       "      <th>1</th>\n",
       "      <td>blocks.0.attn.hook_result, head  1</td>\n",
       "      <td>not_in_circuit</td>\n",
       "      <td>0.0</td>\n",
       "      <td>0.000</td>\n",
       "    </tr>\n",
       "    <tr>\n",
       "      <th>2</th>\n",
       "      <td>blocks.0.attn.hook_result, head  2</td>\n",
       "      <td>not_in_circuit</td>\n",
       "      <td>0.0</td>\n",
       "      <td>0.000</td>\n",
       "    </tr>\n",
       "    <tr>\n",
       "      <th>3</th>\n",
       "      <td>blocks.0.attn.hook_result, head  3</td>\n",
       "      <td>not_in_circuit</td>\n",
       "      <td>0.0</td>\n",
       "      <td>0.000</td>\n",
       "    </tr>\n",
       "    <tr>\n",
       "      <th>4</th>\n",
       "      <td>blocks.1.attn.hook_result, head  0</td>\n",
       "      <td>not_in_circuit</td>\n",
       "      <td>0.0</td>\n",
       "      <td>0.000</td>\n",
       "    </tr>\n",
       "    <tr>\n",
       "      <th>5</th>\n",
       "      <td>blocks.1.attn.hook_result, head  1</td>\n",
       "      <td>not_in_circuit</td>\n",
       "      <td>0.0</td>\n",
       "      <td>0.000</td>\n",
       "    </tr>\n",
       "    <tr>\n",
       "      <th>6</th>\n",
       "      <td>blocks.1.attn.hook_result, head  3</td>\n",
       "      <td>not_in_circuit</td>\n",
       "      <td>0.0</td>\n",
       "      <td>0.000</td>\n",
       "    </tr>\n",
       "    <tr>\n",
       "      <th>7</th>\n",
       "      <td>blocks.1.mlp.hook_post</td>\n",
       "      <td>not_in_circuit</td>\n",
       "      <td>0.0</td>\n",
       "      <td>0.000</td>\n",
       "    </tr>\n",
       "    <tr>\n",
       "      <th>8</th>\n",
       "      <td>blocks.0.mlp.hook_post</td>\n",
       "      <td>in_circuit</td>\n",
       "      <td>1.0</td>\n",
       "      <td>0.800</td>\n",
       "    </tr>\n",
       "    <tr>\n",
       "      <th>9</th>\n",
       "      <td>blocks.1.attn.hook_result, head  2</td>\n",
       "      <td>in_circuit</td>\n",
       "      <td>1.0</td>\n",
       "      <td>0.636</td>\n",
       "    </tr>\n",
       "  </tbody>\n",
       "</table>\n",
       "</div>"
      ],
      "text/plain": [
       "                                 node          status  resample_ablate_effect  \\\n",
       "0  blocks.0.attn.hook_result, head  0  not_in_circuit                     0.0   \n",
       "1  blocks.0.attn.hook_result, head  1  not_in_circuit                     0.0   \n",
       "2  blocks.0.attn.hook_result, head  2  not_in_circuit                     0.0   \n",
       "3  blocks.0.attn.hook_result, head  3  not_in_circuit                     0.0   \n",
       "4  blocks.1.attn.hook_result, head  0  not_in_circuit                     0.0   \n",
       "5  blocks.1.attn.hook_result, head  1  not_in_circuit                     0.0   \n",
       "6  blocks.1.attn.hook_result, head  3  not_in_circuit                     0.0   \n",
       "7              blocks.1.mlp.hook_post  not_in_circuit                     0.0   \n",
       "8              blocks.0.mlp.hook_post      in_circuit                     1.0   \n",
       "9  blocks.1.attn.hook_result, head  2      in_circuit                     1.0   \n",
       "\n",
       "   mean_ablate_effect  \n",
       "0               0.000  \n",
       "1               0.000  \n",
       "2               0.000  \n",
       "3               0.000  \n",
       "4               0.000  \n",
       "5               0.000  \n",
       "6               0.000  \n",
       "7               0.000  \n",
       "8               0.800  \n",
       "9               0.636  "
      ]
     },
     "execution_count": 7,
     "metadata": {},
     "output_type": "execute_result"
    }
   ],
   "source": [
    "node_effects"
   ]
  },
  {
   "cell_type": "code",
   "execution_count": 8,
   "metadata": {
    "ExecuteTime": {
     "end_time": "2024-07-03T08:57:32.371841Z",
     "start_time": "2024-07-03T08:57:32.343813Z"
    }
   },
   "outputs": [
    {
     "name": "stdout",
     "output_type": "stream",
     "text": [
      "val/iit_loss: 0.0001\n",
      "val/IIA: 100.00%\n",
      "val/accuracy: 100.00%\n",
      "val/strict_accuracy: 100.00%\n"
     ]
    }
   ],
   "source": [
    "print(eval_metrics)"
   ]
  },
  {
   "cell_type": "markdown",
   "metadata": {},
   "source": [
    "### Run ACDC"
   ]
  },
  {
   "cell_type": "code",
   "execution_count": 9,
   "metadata": {
    "ExecuteTime": {
     "end_time": "2024-07-03T09:16:31.867022Z",
     "start_time": "2024-07-03T09:16:31.835617Z"
    }
   },
   "outputs": [
    {
     "data": {
      "text/plain": [
       "ACDCConfig(threshold=0.01, data_size=1000, include_mlp=False, next_token=False, use_pos_embed=False, indices_mode=('reverse',), names_mode=('normal',), torch_num_threads=0, max_num_epochs=100000, single_step=False, abs_value_threshold=False, online_cache_cpu=True, corrupted_cache_cpu=True, zero_ablation=False, using_wandb=False, wandb_entity_name=None, wandb_group_name=None, wandb_project_name=None, wandb_run_name=None, wandb_dir='/tmp/wandb', wandb_mode='online', seed=42, output_dir='/Users/cybershiptrooper/src/interpretability/MATS/circuits-benchmark/results', same_size=False, device='cpu', testing=False)"
      ]
     },
     "execution_count": 9,
     "metadata": {},
     "output_type": "execute_result"
    }
   ],
   "source": [
    "from circuits_benchmark.commands.algorithms.acdc import ACDCRunner, ACDCConfig\n",
    "\n",
    "config = ACDCConfig(threshold=0.01)\n",
    "acdc_runner = ACDCRunner(task, config=config)\n",
    "acdc_runner.config"
   ]
  },
  {
   "cell_type": "code",
   "execution_count": 11,
   "metadata": {
    "ExecuteTime": {
     "end_time": "2024-07-03T09:16:36.957255Z",
     "start_time": "2024-07-03T09:16:33.809905Z"
    }
   },
   "outputs": [
    {
     "name": "stdout",
     "output_type": "stream",
     "text": [
      "Moving model to device:  cpu\n"
     ]
    },
    {
     "data": {
      "application/vnd.jupyter.widget-view+json": {
       "model_id": "006ce7a8a923485092dc647e3a15ad7f",
       "version_major": 2,
       "version_minor": 0
      },
      "text/plain": [
       "          | 0/1 [00:00<?, ?it/s]"
      ]
     },
     "metadata": {},
     "output_type": "display_data"
    },
    {
     "data": {
      "application/vnd.jupyter.widget-view+json": {
       "model_id": "ec91b8744c674b91a0aca33d41217270",
       "version_major": 2,
       "version_minor": 0
      },
      "text/plain": [
       "          | 0/110 [00:00<?, ?it/s]"
      ]
     },
     "metadata": {},
     "output_type": "display_data"
    }
   ],
   "source": [
    "# Prepare data\n",
    "data_size = acdc_runner.config.data_size\n",
    "clean_dataset = task.get_clean_data(max_samples=data_size)\n",
    "corrupted_dataset = task.get_corrupted_data(max_samples=data_size)\n",
    "clean_inputs, clean_outputs = clean_dataset.get_inputs(), clean_dataset.get_targets()\n",
    "corrupted_inputs, corrupted_outputs = corrupted_dataset.get_inputs(), corrupted_dataset.get_targets()\n",
    "\n",
    "# Prepare validation metric\n",
    "metric_name = \"kl_div\" if model_pair.hl_model.is_categorical() else \"mse\"\n",
    "\n",
    "acdc_circuit = acdc_runner.run(\n",
    "    tl_model=model,\n",
    "    clean_inputs=clean_inputs,\n",
    "    clean_outputs=clean_outputs,\n",
    "    corrupted_inputs=corrupted_inputs,\n",
    "    corrupted_outputs=corrupted_outputs,\n",
    "    faithfulness_metric=metric_name,\n",
    ")"
   ]
  },
  {
   "cell_type": "code",
   "execution_count": 12,
   "metadata": {
    "ExecuteTime": {
     "end_time": "2024-07-03T09:16:39.531158Z",
     "start_time": "2024-07-03T09:16:39.503452Z"
    }
   },
   "outputs": [
    {
     "name": "stdout",
     "output_type": "stream",
     "text": [
      "Circuit with 6 nodes and 3 edges\n",
      "Nodes: [blocks.0.hook_resid_pre, blocks.0.hook_mlp_in, blocks.1.attn.hook_result[2], blocks.1.hook_resid_post, blocks.0.hook_mlp_out, blocks.1.hook_v_input[2]]\n",
      "Edges: [(blocks.0.hook_resid_pre, blocks.0.hook_mlp_in), (blocks.1.attn.hook_result[2], blocks.1.hook_resid_post), (blocks.0.hook_mlp_out, blocks.1.hook_v_input[2])]\n"
     ]
    }
   ],
   "source": [
    "print(acdc_circuit)\n",
    "print(f\"Nodes: {acdc_circuit.nodes}\")\n",
    "print(f\"Edges: {acdc_circuit.edges}\")"
   ]
  },
  {
   "cell_type": "code",
   "execution_count": 17,
   "metadata": {
    "ExecuteTime": {
     "end_time": "2024-07-03T09:16:43.958017Z",
     "start_time": "2024-07-03T09:16:43.769767Z"
    }
   },
   "outputs": [
    {
     "name": "stdout",
     "output_type": "stream",
     "text": [
      "/Users/cybershiptrooper/.cache/huggingface/hub/models--cybershiptrooper--InterpBench/snapshots/febee0986434191d94d4d65e3c2654cf64165705/3/edges.pkl\n",
      "\n",
      "Summary:\n",
      " - Nodes TP rate: 1.0\n",
      " - Nodes FP rate: 0.0\n",
      " - Edges TP rate: 0.3333333333333333\n",
      " - Edges FP rate: 0.0\n"
     ]
    },
    {
     "data": {
      "text/plain": [
       "CircuitEvalResult(nodes=CircuitEvalNodesResult(true_positive={blocks.1.hook_resid_post, blocks.1.attn.hook_result[2], blocks.0.hook_mlp_out}, false_positive=set(), false_negative=set(), true_negative={blocks.1.hook_mlp_out, blocks.0.attn.hook_result[2], blocks.1.attn.hook_result[1], blocks.1.attn.hook_result[3], blocks.0.attn.hook_result[3], blocks.0.attn.hook_result[0], blocks.1.attn.hook_result[0], blocks.0.attn.hook_result[1]}, tpr=1.0, fpr=0.0), edges=CircuitEvalEdgesResult(true_positive={(blocks.0.hook_mlp_out, blocks.1.attn.hook_result[2])}, false_positive=set(), false_negative={(hook_embed, blocks.0.hook_mlp_out), (hook_pos_embed, blocks.1.attn.hook_result[2])}, true_negative={(hook_embed, blocks.1.attn.hook_result[0]), (hook_embed, blocks.1.attn.hook_result[3]), (hook_embed, blocks.0.attn.hook_result[3]), (blocks.0.hook_mlp_out, blocks.1.attn.hook_result[1]), (blocks.0.attn.hook_result[2], blocks.1.attn.hook_result[0]), (blocks.0.attn.hook_result[2], blocks.1.attn.hook_result[3]), (hook_embed, blocks.1.attn.hook_result[2]), (hook_pos_embed, blocks.0.attn.hook_result[2]), (blocks.0.attn.hook_result[0], blocks.1.attn.hook_result[0]), (blocks.0.hook_mlp_out, blocks.1.hook_mlp_out), (blocks.1.attn.hook_result[3], blocks.1.hook_mlp_out), (blocks.0.attn.hook_result[0], blocks.1.attn.hook_result[3]), (blocks.1.attn.hook_result[0], blocks.1.hook_mlp_out), (hook_pos_embed, blocks.0.attn.hook_result[1]), (blocks.0.attn.hook_result[2], blocks.1.attn.hook_result[2]), (blocks.0.attn.hook_result[3], blocks.1.attn.hook_result[0]), (hook_pos_embed, blocks.0.attn.hook_result[0]), (blocks.0.attn.hook_result[3], blocks.1.attn.hook_result[3]), (blocks.0.attn.hook_result[0], blocks.1.attn.hook_result[2]), (hook_pos_embed, blocks.1.attn.hook_result[0]), (hook_embed, blocks.1.attn.hook_result[1]), (hook_pos_embed, blocks.1.attn.hook_result[3]), (hook_pos_embed, blocks.0.attn.hook_result[3]), (blocks.0.attn.hook_result[1], blocks.1.attn.hook_result[0]), (blocks.0.attn.hook_result[3], blocks.1.attn.hook_result[2]), (hook_embed, blocks.1.hook_mlp_out), (blocks.0.attn.hook_result[1], blocks.1.attn.hook_result[3]), (blocks.0.attn.hook_result[2], blocks.1.attn.hook_result[1]), (blocks.0.attn.hook_result[1], blocks.1.attn.hook_result[2]), (blocks.0.attn.hook_result[0], blocks.1.attn.hook_result[1]), (blocks.0.attn.hook_result[2], blocks.1.hook_mlp_out), (blocks.1.attn.hook_result[2], blocks.1.hook_mlp_out), (blocks.0.attn.hook_result[2], blocks.0.hook_mlp_out), (blocks.0.attn.hook_result[0], blocks.1.hook_mlp_out), (blocks.0.attn.hook_result[3], blocks.1.attn.hook_result[1]), (hook_pos_embed, blocks.1.attn.hook_result[1]), (blocks.0.attn.hook_result[0], blocks.0.hook_mlp_out), (blocks.0.hook_mlp_out, blocks.1.attn.hook_result[0]), (blocks.0.attn.hook_result[3], blocks.1.hook_mlp_out), (blocks.0.hook_mlp_out, blocks.1.attn.hook_result[3]), (hook_pos_embed, blocks.1.hook_mlp_out), (hook_embed, blocks.0.attn.hook_result[2]), (blocks.0.attn.hook_result[3], blocks.0.hook_mlp_out), (blocks.0.attn.hook_result[1], blocks.1.attn.hook_result[1]), (hook_pos_embed, blocks.0.hook_mlp_out), (blocks.1.attn.hook_result[1], blocks.1.hook_mlp_out), (blocks.0.attn.hook_result[1], blocks.1.hook_mlp_out), (blocks.0.attn.hook_result[1], blocks.0.hook_mlp_out), (hook_embed, blocks.0.attn.hook_result[1]), (hook_embed, blocks.0.attn.hook_result[0])}, tpr=0.3333333333333333, fpr=0.0))"
      ]
     },
     "execution_count": 17,
     "metadata": {},
     "output_type": "execute_result"
    }
   ],
   "source": [
    "# load edges from InterpBench\n",
    "from circuits_benchmark.utils.circuit.circuit_eval import calculate_fpr_and_tpr, build_from_acdc_correspondence\n",
    "from circuits_benchmark.utils.circuit.circuit import Circuit\n",
    "from acdc.TLACDCCorrespondence import TLACDCCorrespondence\n",
    "from huggingface_hub import hf_hub_download\n",
    "import sys\n",
    "\n",
    "# We artificially add the following modules to avoid import errors, since some of the files were pickled before the project was refactored \n",
    "sys.modules[\"circuits_benchmark.transformers.circuit\"] = sys.modules[\"circuits_benchmark.utils.circuit.circuit\"]\n",
    "sys.modules[\"circuits_benchmark.transformers.circuit_node\"] = sys.modules[\"circuits_benchmark.utils.circuit.circuit_node\"]\n",
    "\n",
    "def get_tpr_fpr_for_acdc_circuit(acdc_circuit: Circuit):\n",
    "    edges_file = hf_hub_download(\"cybershiptrooper/InterpBench\", subfolder=task_idx, filename=\"edges.pkl\")\n",
    "    print(edges_file)\n",
    "    edges = pickle.load(open(edges_file, \"rb\"))\n",
    "\n",
    "    gt_circuit = Circuit()\n",
    "    for edge in edges:\n",
    "        gt_circuit.add_edge(edge[0], edge[1])\n",
    "\n",
    "    full_corr = TLACDCCorrespondence.setup_from_model(model, use_pos_embed=True)\n",
    "    full_circuit = build_from_acdc_correspondence(corr=full_corr)\n",
    "\n",
    "    return calculate_fpr_and_tpr(acdc_circuit, gt_circuit, full_circuit)\n",
    "\n",
    "get_tpr_fpr_for_acdc_circuit(acdc_circuit)"
   ]
  }
 ],
 "metadata": {
  "accelerator": "GPU",
  "colab": {
   "gpuType": "T4",
   "provenance": []
  },
  "kernelspec": {
   "display_name": "Python 3 (ipykernel)",
   "language": "python",
   "name": "python3"
  },
  "language_info": {
   "codemirror_mode": {
    "name": "ipython",
    "version": 3
   },
   "file_extension": ".py",
   "mimetype": "text/x-python",
   "name": "python",
   "nbconvert_exporter": "python",
   "pygments_lexer": "ipython3",
   "version": "3.11.4"
  }
 },
 "nbformat": 4,
 "nbformat_minor": 0
}
