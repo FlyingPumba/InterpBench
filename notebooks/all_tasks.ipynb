{
 "cells": [
  {
   "cell_type": "markdown",
   "metadata": {},
   "source": [
    "### Setup"
   ]
  },
  {
   "cell_type": "code",
   "execution_count": 1,
   "metadata": {},
   "outputs": [
    {
     "name": "stderr",
     "output_type": "stream",
     "text": [
      "/Users/cybershiptrooper/src/interpretability/MATS/.iit/lib/python3.11/site-packages/tqdm/auto.py:21: TqdmWarning: IProgress not found. Please update jupyter and ipywidgets. See https://ipywidgets.readthedocs.io/en/stable/user_install.html\n",
      "  from .autonotebook import tqdm as notebook_tqdm\n"
     ]
    }
   ],
   "source": [
    "import iit.model_pairs as mp\n",
    "import iit.utils.index as index\n",
    "from circuits_benchmark.utils.get_cases import get_cases\n",
    "from iit_utils import make_iit_hl_model, create_dataset\n",
    "import random\n",
    "from iit_utils.tracr_ll_corrs import get_tracr_ll_corr\n",
    "from argparse import Namespace"
   ]
  },
  {
   "cell_type": "code",
   "execution_count": 2,
   "metadata": {},
   "outputs": [],
   "source": [
    "case = 3\n",
    "\n",
    "args = Namespace(\n",
    "    command='compile', \n",
    "    indices=f'{case}', \n",
    "    output_dir='/Users/cybershiptrooper/src/interpretability/MATS/circuits-benchmark/results', \n",
    "    device='cpu', \n",
    "    seed=1234, \n",
    "    run_tests=False, \n",
    "    tests_atol=1e-05, \n",
    "    fail_on_error=False, \n",
    "    original_args=['compile', f'-i={case}', '-f'])"
   ]
  },
  {
   "cell_type": "code",
   "execution_count": 3,
   "metadata": {},
   "outputs": [],
   "source": [
    "cases = get_cases(args)\n",
    "case = cases[0]\n",
    "if not case.supports_causal_masking():\n",
    "    raise NotImplementedError(f\"Case {case.get_index()} does not support causal masking\")\n",
    "\n",
    "tracr_output = case.build_tracr_model()\n",
    "hl_model = case.build_transformer_lens_model()"
   ]
  },
  {
   "cell_type": "code",
   "execution_count": 4,
   "metadata": {},
   "outputs": [],
   "source": [
    "train_data, test_data = create_dataset(case, hl_model)"
   ]
  },
  {
   "cell_type": "code",
   "execution_count": 15,
   "metadata": {},
   "outputs": [
    {
     "data": {
      "text/plain": [
       "TracrHLNode(name: name,\n",
       " label: label,\n",
       " classes: 10,\n",
       " index: None\n",
       ")"
      ]
     },
     "execution_count": 15,
     "metadata": {},
     "output_type": "execute_result"
    }
   ],
   "source": [
    "from typing import Any\n",
    "\n",
    "\n",
    "class TracrHLNode(mp.HLNode):\n",
    "    label: str\n",
    "\n",
    "    def __init__(self, name, label, num_classes, idx=None):\n",
    "        # type checks\n",
    "        assert isinstance(name, str), ValueError(f\"name is not a string, but {type(name)}\")\n",
    "        assert isinstance(label, str), ValueError(f\"label is not a string, but {type(label)}\")\n",
    "        assert isinstance(num_classes, int), ValueError(f\"num_classes is not an int, but {type(num_classes)}\")\n",
    "        assert idx is None or isinstance(idx, index.TorchIndex), ValueError(f\"index is not a TorchIndex, but {type(index)}\")\n",
    "        super().__init__(name, num_classes, idx)\n",
    "        self.label = label\n",
    "\n",
    "    def get_label(self) -> str:\n",
    "        return self.label\n",
    "\n",
    "    def get_name(self) -> str:\n",
    "        return self.name\n",
    "    \n",
    "    def __hash__(self) -> int:\n",
    "        return super().__hash__() + hash(self.label)\n",
    "    \n",
    "    def __str__(self) -> str:\n",
    "        return super().__str__()\n",
    "    \n",
    "    def __repr__(self) -> str:\n",
    "        return f\"TracrHLNode(name: {self.name},\\n label: {self.label},\\n classes: {self.num_classes},\\n index: {self.index}\\n)\"\n",
    "\n",
    "# test the TracrHLNode\n",
    "node = TracrHLNode('name', 'label', 10)\n",
    "assert node.get_label() == 'label'\n",
    "assert str(node) == node.get_name()\n",
    "assert node.index is None\n",
    "node"
   ]
  },
  {
   "cell_type": "code",
   "execution_count": 6,
   "metadata": {},
   "outputs": [],
   "source": [
    "from tracr.compiler.compiling import TracrOutput\n",
    "from tracr.craft.transformers import MLP, MultiAttentionHead, SeriesWithResiduals\n",
    "import networkx as nx\n",
    "\n",
    "class TracrHLCorrespondence:\n",
    "    \"\"\"\n",
    "    Stores a dictionary that takes tracr graph nodes to HookPoint nodes...\n",
    "    \"\"\"\n",
    "\n",
    "    def __init__(self, graph: nx.DiGraph, craft_model: SeriesWithResiduals):\n",
    "        self.graph = graph\n",
    "        self.craft_model = craft_model\n",
    "\n",
    "        self._dict = dict()\n",
    "        i = 0\n",
    "        for block in craft_model.blocks:\n",
    "            if isinstance(block, MLP):\n",
    "                assert block.fst.output_space == block.snd.input_space\n",
    "                for direction in block.snd.output_space.basis:\n",
    "                    self._dict[direction] = (i, \"mlp\", None)\n",
    "                i += 1\n",
    "            elif isinstance(block, MultiAttentionHead):\n",
    "                for j, sb in enumerate(block.sub_blocks):\n",
    "                    for direction in sb.w_ov.output_space.basis:\n",
    "                        self._dict[direction] = (i, \"attn\", j)\n",
    "                \n",
    "            else:\n",
    "                raise ValueError(f\"Unknown block type {type(block)}\")\n",
    "\n",
    "        \"\"\"\n",
    "    This is not necessary for now, because node names and direction names are equal\n",
    "    \"\"\"\n",
    "        # for name, node in graph.nodes.items():\n",
    "        #   if name in [\"indices\", \"tokens\"]: continue\n",
    "        #   if \"OUTPUT_BASIS\" in node:\n",
    "        #     for direction in node[\"OUTPUT_BASIS\"]:\n",
    "        #       self._dict[direction] = self._unit_output_bases[direction]\n",
    "\n",
    "    @staticmethod\n",
    "    def from_output(tracr_output: TracrOutput):\n",
    "        return TracrHLCorrespondence(tracr_output.graph, tracr_output.craft_model)\n",
    "\n",
    "    def __getitem__(self, key):\n",
    "        return self._dict[key]\n",
    "\n",
    "    def __repr__(self) -> str:\n",
    "        dict_repr = \"\\n\".join([f\"\\t{k.name, k.value}: {v}\" for k, v in self._dict.items()])\n",
    "        return f\"TracrCorrespondence(\\n{dict_repr}\\n)\"\n",
    "\n",
    "    def items(self):\n",
    "        return self._dict.items()"
   ]
  },
  {
   "cell_type": "code",
   "execution_count": 9,
   "metadata": {},
   "outputs": [],
   "source": [
    "from circuits_benchmark.benchmark.benchmark_case import BenchmarkCase\n",
    "\n",
    "class TracrCorr(dict):\n",
    "    def __setattr__(self, __name: TracrHLNode, __value: set[mp.LLNode]) -> None:\n",
    "        assert isinstance(__name, TracrHLNode), ValueError(f\"__name is not a TracrHLNode, but {type(__name)}\")\n",
    "        assert isinstance(__value, set), ValueError(f\"__value is not a set, but {type(__value)}\")\n",
    "        assert all(isinstance(v, mp.LLNode) for v in __value), ValueError(f\"__value contains non-LLNode elements\")\n",
    "        super().__setattr__(__name, __value)\n",
    "\n",
    "    @classmethod\n",
    "    def make_hl_ll_corr(cls,\n",
    "                        tracr_hl_corr: TracrHLCorrespondence,\n",
    "                        tracr_ll_corr: dict[str, set[mp.LLNode]],\n",
    "                        hook_name_style: str=\"tl\"):\n",
    "        def hook_name(loc, style) -> str:\n",
    "            layer, attn_or_mlp, unit = loc\n",
    "            assert attn_or_mlp in [\"attn\", \"mlp\"], ValueError(f\"Unknown attn_or_mlp {attn_or_mlp}\")\n",
    "            if style == \"tl\":\n",
    "                return f\"blocks.{layer}.{attn_or_mlp}.{'hook_result' if attn_or_mlp == 'attn' else 'hook_post'}\"\n",
    "            elif style == \"wrapper\":\n",
    "                return f\"mod.blocks.{loc}.mod.{attn_or_mlp}.hook_point\"\n",
    "            else:\n",
    "                raise ValueError(f\"Unknown style {style}\")\n",
    "\n",
    "        def idx(loc):\n",
    "            _, attn_or_mlp, unit = loc\n",
    "            if isinstance(unit, index.TorchIndex):\n",
    "                return unit\n",
    "            assert attn_or_mlp in [\"attn\", \"mlp\"], ValueError(f\"Unknown attn_or_mlp {attn_or_mlp}\")\n",
    "            if attn_or_mlp == \"attn\":\n",
    "                return index.Ix[:, :, unit, :]\n",
    "            assert unit is None\n",
    "            return index.Ix[[None]]\n",
    "        \n",
    "        if tracr_ll_corr is None:\n",
    "            print(\"WARNING: tracr_ll_corr is None, returning an Identity correspondence using HL Model\")\n",
    "            return cls({\n",
    "                TracrHLNode(hook_name(hl_loc, hook_name_style), \n",
    "                            label=basis_dir.name,\n",
    "                            num_classes=0, # TODO: get num_classes\n",
    "                            idx = idx(hl_loc)): \n",
    "                {\n",
    "                    mp.LLNode(hook_name(hl_loc, hook_name_style), idx(hl_loc), None)\n",
    "                }\n",
    "                for basis_dir, hl_loc in tracr_hl_corr.items()\n",
    "            })\n",
    "\n",
    "        return cls({\n",
    "           TracrHLNode(hook_name(hl_loc, hook_name_style), \n",
    "                            label=basis_dir.name,\n",
    "                            num_classes=0, # TODO: get num_classes\n",
    "                            idx = idx(hl_loc)): \n",
    "                            {\n",
    "                mp.LLNode(hook_name(ll_loc, \"tl\"), idx(ll_loc)) for ll_loc in tracr_ll_corr[basis_dir.name, basis_dir.value]\n",
    "            }\n",
    "            for basis_dir, hl_loc in tracr_hl_corr.items()\n",
    "        })\n",
    "    \n",
    "    @classmethod\n",
    "    def from_case(case: BenchmarkCase, tracr_output: TracrOutput):\n",
    "        tracr_hl_corr = TracrHLCorrespondence.from_output(tracr_output)\n",
    "        tracr_ll_corr = get_tracr_ll_corr(case)\n",
    "        return TracrCorr.make_hl_ll_corr(tracr_hl_corr, tracr_ll_corr)\n",
    "    \n",
    "from collections import namedtuple\n",
    "\n",
    "class TracrEdgeCorr(list[namedtuple]):\n",
    "    EdgeCorr = namedtuple(\"EdgeCorr\", [\"hookpoint\", \"index1\", \"hookpoint2\", \"index2\"])\n",
    "    "
   ]
  },
  {
   "cell_type": "code",
   "execution_count": 16,
   "metadata": {},
   "outputs": [],
   "source": [
    "\n",
    "# this is the graph node -> hl node correspondence\n",
    "tracr_hl_corr = TracrHLCorrespondence.from_output(tracr_output)\n",
    "tracr_ll_corr = get_tracr_ll_corr(case)\n",
    "\n",
    "hl_ll_corr = TracrCorr.make_hl_ll_corr(tracr_hl_corr, tracr_ll_corr)"
   ]
  },
  {
   "cell_type": "code",
   "execution_count": 19,
   "metadata": {},
   "outputs": [
    {
     "name": "stdout",
     "output_type": "stream",
     "text": [
      "{TracrHLNode(name: blocks.0.mlp.hook_post,\n",
      " label: is_x_3,\n",
      " classes: -1,\n",
      " index: [:]\n",
      "): {LLNode(name='blocks.0.mlp.hook_post', index=[:], subspace=None)}, TracrHLNode(name: blocks.1.attn.hook_result,\n",
      " label: frac_prevs_1,\n",
      " classes: -1,\n",
      " index: [:, :, 0, :]\n",
      "): {LLNode(name='blocks.1.attn.hook_result', index=[:, :, 1:3, :], subspace=None)}}\n"
     ]
    }
   ],
   "source": [
    "print(hl_ll_corr)"
   ]
  },
  {
   "cell_type": "code",
   "execution_count": null,
   "metadata": {},
   "outputs": [],
   "source": []
  }
 ],
 "metadata": {
  "kernelspec": {
   "display_name": ".iit",
   "language": "python",
   "name": "python3"
  },
  "language_info": {
   "codemirror_mode": {
    "name": "ipython",
    "version": 3
   },
   "file_extension": ".py",
   "mimetype": "text/x-python",
   "name": "python",
   "nbconvert_exporter": "python",
   "pygments_lexer": "ipython3",
   "version": "3.11.4"
  }
 },
 "nbformat": 4,
 "nbformat_minor": 2
}
