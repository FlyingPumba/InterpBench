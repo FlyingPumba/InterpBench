{
 "cells": [
  {
   "cell_type": "code",
   "execution_count": 1,
   "metadata": {},
   "outputs": [],
   "source": [
    "from utils.realism_helper import *\n",
    "from utils.get_circuit_discovery_scores import get_realism_scores\n",
    "\n",
    "def get_all_algos_scores(weights, mean, same_size):\n",
    "    acdc_realism = get_realism_scores(weight=weights, algorithm='acdc', same_size=same_size)\n",
    "    acdc_best = get_best_score(acdc_realism, mean)\n",
    "\n",
    "    node_sp_realism = get_realism_scores(weight=weights, algorithm='node_sp', same_size=same_size)\n",
    "    node_sp_best = get_best_score(node_sp_realism, mean)\n",
    "\n",
    "    edge_sp_realism = get_realism_scores(weight=weights, algorithm='edge_sp', same_size=same_size)\n",
    "    edge_sp_best = get_best_score(edge_sp_realism, mean)\n",
    "\n",
    "    return acdc_best, node_sp_best, edge_sp_best"
   ]
  },
  {
   "cell_type": "code",
   "execution_count": 2,
   "metadata": {},
   "outputs": [
    {
     "name": "stderr",
     "output_type": "stream",
     "text": [
      "/Users/cybershiptrooper/src/interpretability/MATS/circuits-benchmark/notebooks/utils/get_circuit_discovery_scores.py:27: FutureWarning: The behavior of DataFrame concatenation with empty or all-NA entries is deprecated. In a future version, this will no longer exclude empty or all-NA columns when determining the result dtypes. To retain the old behavior, exclude the relevant entries before the concat operation.\n",
      "  return pd.concat([\n",
      "/Users/cybershiptrooper/src/interpretability/MATS/circuits-benchmark/notebooks/utils/get_circuit_discovery_scores.py:27: FutureWarning: The behavior of DataFrame concatenation with empty or all-NA entries is deprecated. In a future version, this will no longer exclude empty or all-NA columns when determining the result dtypes. To retain the old behavior, exclude the relevant entries before the concat operation.\n",
      "  return pd.concat([\n",
      "/Users/cybershiptrooper/src/interpretability/MATS/circuits-benchmark/notebooks/utils/get_circuit_discovery_scores.py:27: FutureWarning: The behavior of DataFrame concatenation with empty or all-NA entries is deprecated. In a future version, this will no longer exclude empty or all-NA columns when determining the result dtypes. To retain the old behavior, exclude the relevant entries before the concat operation.\n",
      "  return pd.concat([\n"
     ]
    }
   ],
   "source": [
    "same_size = True\n",
    "acdc_510_best, node_sp_510_best, edge_sp_510_best = get_all_algos_scores(weights=\"best\", mean=True, same_size=same_size)\n",
    "acdc_tracr_best, node_sp_tracr_best, edge_sp_tracr_best = get_all_algos_scores(weights=\"tracr\", mean=True, same_size=same_size)\n",
    "acdc_100_best, node_sp_100_best, edge_sp_100_best = get_all_algos_scores(weights=\"100\", mean=True, same_size=same_size)"
   ]
  },
  {
   "cell_type": "code",
   "execution_count": 3,
   "metadata": {},
   "outputs": [],
   "source": [
    "# bad_runs = ['33', '34', '35', '36', '37', '38', '39', '8', '28']\n",
    "\n",
    "# for run in bad_runs:\n",
    "#     if run in acdc_510_best.keys():\n",
    "#         acdc_510_best.pop(run)\n",
    "#     if run in node_sp_510_best.keys():\n",
    "#         node_sp_510_best.pop(run)\n",
    "#     if run in edge_sp_510_best.keys():\n",
    "#         edge_sp_510_best.pop(run)\n",
    "\n",
    "#     if run in acdc_tracr_best.keys():\n",
    "#         acdc_tracr_best.pop(run)\n",
    "#     if run in node_sp_tracr_best.keys():\n",
    "#         node_sp_tracr_best.pop(run)\n",
    "#     if run in edge_sp_tracr_best.keys():\n",
    "#         edge_sp_tracr_best.pop(run)\n",
    "\n",
    "#     if run in acdc_100_best.keys():\n",
    "#         acdc_100_best.pop(run)\n",
    "#     if run in node_sp_100_best.keys():\n",
    "#         node_sp_100_best.pop(run)\n",
    "#     if run in edge_sp_100_best.keys():\n",
    "#         edge_sp_100_best.pop(run)"
   ]
  },
  {
   "cell_type": "code",
   "execution_count": 3,
   "metadata": {},
   "outputs": [],
   "source": [
    "# acdc_tracr_best"
   ]
  },
  {
   "cell_type": "code",
   "execution_count": 5,
   "metadata": {},
   "outputs": [],
   "source": [
    "# scores = {}\n",
    "\n",
    "# for run, group in acdc_tracr.groupby('run'):\n",
    "#     scores[run] = group['score'].max()\n",
    "\n",
    "# scores"
   ]
  },
  {
   "cell_type": "code",
   "execution_count": 6,
   "metadata": {},
   "outputs": [],
   "source": [
    "# import numpy as np\n",
    "# acdc['acdc'] = (combined_tracr['acdc'] + 0.25) / max(combined_tracr['acdc'] + 0.25)"
   ]
  },
  {
   "cell_type": "code",
   "execution_count": 3,
   "metadata": {},
   "outputs": [],
   "source": [
    "# combined_510 = make_combined_realism_df_from_list([\n",
    "#     acdc_510_best, node_sp_510_best, edge_sp_510_best\n",
    "# ], [\"acdc\", \"node_sp\", \"edge_sp\"])\n",
    "\n",
    "# combined_tracr = make_combined_realism_df_from_list([\n",
    "#     acdc_tracr_best, node_sp_tracr_best, edge_sp_tracr_best\n",
    "# ], [\"acdc\", \"node_sp\", \"edge_sp\"])\n",
    "\n",
    "# import matplotlib.pyplot as plt\n",
    "\n",
    "# fig, ax = plt.subplots(1, 2, figsize=(10, 5))\n",
    "\n",
    "# combined_510.boxplot(ax=ax[0],\n",
    "#                     column=[\"acdc\", \"node_sp\", \"edge_sp\"],\n",
    "#                     patch_artist=True,\n",
    "#                     showfliers=True,\n",
    "#                     # whis=[5, 95],\n",
    "#                     )\n",
    "\n",
    "# combined_tracr.boxplot(ax=ax[1],\n",
    "#                     column=[\"acdc\", \"node_sp\", \"edge_sp\"],\n",
    "#                     patch_artist=True,\n",
    "#                     showfliers=True,\n",
    "#                     # whis=[5, 95],\n",
    "#                     )\n",
    "\n",
    "# # make y axis range 0-1 for both plots\n",
    "# ax[0].set_ylim(0, 1.1)\n",
    "# ax[1].set_ylim(0, 1.1)\n",
    "\n",
    "# ax[0].set_title(\"Realism Scores for Weight 510\")\n",
    "# ax[1].set_title(\"Realism Scores for Weight tracr\")"
   ]
  },
  {
   "cell_type": "code",
   "execution_count": 4,
   "metadata": {},
   "outputs": [],
   "source": [
    "acdc_combined = make_combined_realism_df_from_list(\n",
    "    [acdc_tracr_best, acdc_100_best, acdc_510_best],\n",
    "    [\"tracr\", \"Natural\", \"SIIT\"]\n",
    ")"
   ]
  },
  {
   "cell_type": "code",
   "execution_count": 6,
   "metadata": {},
   "outputs": [],
   "source": [
    "# acdc_combined"
   ]
  },
  {
   "cell_type": "code",
   "execution_count": 5,
   "metadata": {},
   "outputs": [],
   "source": [
    "# acdc_510_best, acdc_tracr_best"
   ]
  },
  {
   "cell_type": "code",
   "execution_count": 11,
   "metadata": {},
   "outputs": [],
   "source": [
    "# acdc_combined.sort_values(by='tracr', ascending=False)"
   ]
  },
  {
   "cell_type": "code",
   "execution_count": 12,
   "metadata": {},
   "outputs": [],
   "source": []
  },
  {
   "cell_type": "code",
   "execution_count": 7,
   "metadata": {},
   "outputs": [
    {
     "data": {
      "image/png": "[encoded data removed]",
      "text/plain": [
       "<Figure size 640x480 with 1 Axes>"
      ]
     },
     "metadata": {},
     "output_type": "display_data"
    }
   ],
   "source": [
    "# node_sp_combined = make_combined_realism_df_from_list(\n",
    "#     [node_sp_510_best, node_sp_100_best, node_sp_tracr_best],\n",
    "#     [\"SIIT\", \"Natural\", \"tracr\"]\n",
    "# )\n",
    "\n",
    "# edge_sp_combined = make_combined_realism_df_from_list(\n",
    "#     [edge_sp_510_best, edge_sp_100_best, edge_sp_tracr_best],\n",
    "#     [\"SIIT\", \"Natural\", \"tracr\"]\n",
    "# )\n",
    "import matplotlib.pyplot as plt\n",
    "plt.rcParams.update({'font.size': 16})\n",
    "plt.rcParams.update({'axes.labelsize': 16})\n",
    "plt.rcParams.update({'axes.titlesize': 18})\n",
    "plt.rcParams.update({'xtick.labelsize': 16})\n",
    "plt.rcParams.update({'ytick.labelsize': 16})\n",
    "# fig, ax = plt.subplots(1, 3, figsize=(15, 5))\n",
    "natural_col = acdc_combined[\"Natural\"][pd.DataFrame(acdc_combined[\"Natural\"])[\"Natural\"]!='N/A']\n",
    "siit_col = acdc_combined[\"SIIT\"][pd.DataFrame(acdc_combined[\"SIIT\"])[\"SIIT\"]!='N/A']\n",
    "tracr_col = acdc_combined[\"tracr\"][pd.DataFrame(acdc_combined[\"tracr\"])[\"tracr\"]!='N/A']\n",
    "\n",
    "plt.boxplot([siit_col, natural_col, tracr_col], \n",
    "            patch_artist=True, \n",
    "            showfliers=True,\n",
    "            whis=[5, 95],\n",
    "            # showmeans=True,\n",
    "            # set mean line color\n",
    "            meanprops=dict(linestyle='-', linewidth=2.5, color='g'),\n",
    "            whiskerprops=dict(linestyle='-', linewidth=1, \n",
    "                              # same as box color\n",
    "                              color='dodgerblue'),\n",
    "            medianprops=dict(linestyle='-', linewidth=0.5, color='lightgreen'),\n",
    "            boxprops=dict(linestyle='-', linewidth=0, color='lightblue'),\n",
    "            )\n",
    "\n",
    "# pd.DataFrame(natural_col, columns=[\"Natural\"]).boxplot(column=[\"Natural\"], patch_artist=True, showfliers=True)\n",
    "# acdc_combined.boxplot(column=[\"SIIT\", \"Natural\", \"tracr\"],\n",
    "#                     patch_artist=True,\n",
    "#                     showfliers=True,\n",
    "#                     # whis=[5, 95],\n",
    "#                     )\n",
    "\n",
    "plt.xticks([1, 2, 3], [\"SIIT\", \"Natural\", \"Tracr\"])\n",
    "\n",
    "# plt.title(\"Average accuracy of circuit across ACDC thresholds\")\n",
    "plt.ylabel(\"Accuracy\")\n",
    "plt.savefig(\"plots/realism_plot.pdf\", format='pdf', bbox_inches='tight', dpi=600)"
   ]
  },
  {
   "cell_type": "code",
   "execution_count": null,
   "metadata": {},
   "outputs": [],
   "source": []
  },
  {
   "cell_type": "code",
   "execution_count": null,
   "metadata": {},
   "outputs": [],
   "source": []
  },
  {
   "cell_type": "code",
   "execution_count": null,
   "metadata": {},
   "outputs": [],
   "source": []
  }
 ],
 "metadata": {
  "kernelspec": {
   "display_name": ".iit",
   "language": "python",
   "name": "python3"
  },
  "language_info": {
   "codemirror_mode": {
    "name": "ipython",
    "version": 3
   },
   "file_extension": ".py",
   "mimetype": "text/x-python",
   "name": "python",
   "nbconvert_exporter": "python",
   "pygments_lexer": "ipython3",
   "version": "3.11.4"
  }
 },
 "nbformat": 4,
 "nbformat_minor": 2
}
