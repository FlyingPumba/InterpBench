{
 "cells": [
  {
   "cell_type": "code",
   "execution_count": 24,
   "metadata": {},
   "outputs": [
    {
     "name": "stdout",
     "output_type": "stream",
     "text": [
      "The autoreload extension is already loaded. To reload it, use:\n",
      "  %reload_ext autoreload\n"
     ]
    }
   ],
   "source": [
    "%load_ext autoreload\n",
    "%autoreload 2\n",
    "import pickle\n",
    "import torch\n",
    "from transformer_lens import HookedTransformerConfig, HookedTransformer\n",
    "from transformer_lens import HookedTransformer\n",
    "from circuits_benchmark.utils.get_cases import get_cases\n",
    "\n",
    "task = get_cases(indices=['11'])[0]\n",
    "task_idx = task.get_index()"
   ]
  },
  {
   "cell_type": "code",
   "execution_count": 25,
   "metadata": {},
   "outputs": [
    {
     "data": {
      "text/plain": [
       "<All keys matched successfully>"
      ]
     },
     "execution_count": 25,
     "metadata": {},
     "output_type": "execute_result"
    }
   ],
   "source": [
    "dir_name = f\"../InterpBench/{task_idx}\"\n",
    "cfg_dict = pickle.load(open(f\"{dir_name}/ll_model_cfg.pkl\", \"rb\"))\n",
    "cfg = HookedTransformerConfig.from_dict(cfg_dict)\n",
    "cfg.device = \"cuda\" if torch.cuda.is_available() else \"cpu\"\n",
    "model = HookedTransformer(cfg)\n",
    "weights = torch.load(f\"{dir_name}/ll_model.pth\", map_location=cfg.device)\n",
    "model.load_state_dict(weights)"
   ]
  },
  {
   "cell_type": "code",
   "execution_count": 26,
   "metadata": {},
   "outputs": [
    {
     "data": {
      "text/plain": [
       "<torch.autograd.grad_mode.set_grad_enabled at 0x301fb2050>"
      ]
     },
     "execution_count": 26,
     "metadata": {},
     "output_type": "execute_result"
    }
   ],
   "source": [
    "# turn off grads\n",
    "model.eval()\n",
    "model.requires_grad_(False)\n",
    "torch.set_grad_enabled(False)"
   ]
  },
  {
   "cell_type": "code",
   "execution_count": 27,
   "metadata": {},
   "outputs": [],
   "source": [
    "# load high level model\n",
    "from circuits_benchmark.utils.iit import make_iit_hl_model\n",
    "import circuits_benchmark.utils.iit.correspondence as correspondence\n",
    "import iit.model_pairs as mp\n",
    "\n",
    "def make_model_pair(benchmark_case):\n",
    "    hl_model = benchmark_case.build_transformer_lens_model()\n",
    "    hl_model = make_iit_hl_model(hl_model, eval_mode=True)\n",
    "    tracr_output = benchmark_case.get_tracr_output()\n",
    "    hl_ll_corr = correspondence.TracrCorrespondence.from_output(\n",
    "            case=benchmark_case, tracr_output=tracr_output\n",
    "        )\n",
    "    model_pair = mp.StrictIITModelPair(hl_model, model, hl_ll_corr)\n",
    "    return model_pair"
   ]
  },
  {
   "cell_type": "code",
   "execution_count": 28,
   "metadata": {},
   "outputs": [],
   "source": [
    "max_len = 100"
   ]
  },
  {
   "cell_type": "code",
   "execution_count": 29,
   "metadata": {},
   "outputs": [
    {
     "name": "stdout",
     "output_type": "stream",
     "text": [
      "Moving model to device:  cpu\n",
      "{'hook_embed': HookPoint(), 'hook_pos_embed': HookPoint(), 'blocks.0.attn.hook_k': HookPoint(), 'blocks.0.attn.hook_q': HookPoint(), 'blocks.0.attn.hook_v': HookPoint(), 'blocks.0.attn.hook_z': HookPoint(), 'blocks.0.attn.hook_attn_scores': HookPoint(), 'blocks.0.attn.hook_pattern': HookPoint(), 'blocks.0.attn.hook_result': HookPoint(), 'blocks.0.mlp.hook_pre': HookPoint(), 'blocks.0.mlp.hook_post': HookPoint(), 'blocks.0.hook_attn_in': HookPoint(), 'blocks.0.hook_q_input': HookPoint(), 'blocks.0.hook_k_input': HookPoint(), 'blocks.0.hook_v_input': HookPoint(), 'blocks.0.hook_mlp_in': HookPoint(), 'blocks.0.hook_attn_out': HookPoint(), 'blocks.0.hook_mlp_out': HookPoint(), 'blocks.0.hook_resid_pre': HookPoint(), 'blocks.0.hook_resid_mid': HookPoint(), 'blocks.0.hook_resid_post': HookPoint(), 'blocks.1.attn.hook_k': HookPoint(), 'blocks.1.attn.hook_q': HookPoint(), 'blocks.1.attn.hook_v': HookPoint(), 'blocks.1.attn.hook_z': HookPoint(), 'blocks.1.attn.hook_attn_scores': HookPoint(), 'blocks.1.attn.hook_pattern': HookPoint(), 'blocks.1.attn.hook_result': HookPoint(), 'blocks.1.mlp.hook_pre': HookPoint(), 'blocks.1.mlp.hook_post': HookPoint(), 'blocks.1.hook_attn_in': HookPoint(), 'blocks.1.hook_q_input': HookPoint(), 'blocks.1.hook_k_input': HookPoint(), 'blocks.1.hook_v_input': HookPoint(), 'blocks.1.hook_mlp_in': HookPoint(), 'blocks.1.hook_attn_out': HookPoint(), 'blocks.1.hook_mlp_out': HookPoint(), 'blocks.1.hook_resid_pre': HookPoint(), 'blocks.1.hook_resid_mid': HookPoint(), 'blocks.1.hook_resid_post': HookPoint()}\n",
      "dict_keys([TracrHLNode(name: blocks.0.mlp.hook_post,\n",
      " label: map_6,\n",
      " classes: 0,\n",
      " index: [:]\n",
      "), TracrHLNode(name: blocks.1.attn.hook_result,\n",
      " label: aggregate_4,\n",
      " classes: 0,\n",
      " index: [:, :, 0, :]\n",
      ")])\n"
     ]
    }
   ],
   "source": [
    "from circuits_benchmark.utils.iit.dataset import get_unique_data\n",
    "\n",
    "model_pair = make_model_pair(task)\n",
    "unique_test_data = get_unique_data(task, max_len=max_len)"
   ]
  },
  {
   "cell_type": "code",
   "execution_count": 30,
   "metadata": {},
   "outputs": [],
   "source": [
    "def collate_fn(batch):\n",
    "    encoded_x = model_pair.hl_model.map_tracr_input_to_tl_input(list(zip(*batch))[0])\n",
    "    return encoded_x\n",
    "\n",
    "loader = torch.utils.data.DataLoader(unique_test_data, batch_size=256, shuffle=False, drop_last=False, collate_fn=collate_fn)"
   ]
  },
  {
   "cell_type": "markdown",
   "metadata": {},
   "source": [
    "### Get the mean activations, norm and variance "
   ]
  },
  {
   "cell_type": "code",
   "execution_count": 8,
   "metadata": {},
   "outputs": [],
   "source": [
    "import utils.node_stats as node_stats"
   ]
  },
  {
   "cell_type": "code",
   "execution_count": 9,
   "metadata": {},
   "outputs": [
    {
     "name": "stderr",
     "output_type": "stream",
     "text": [
      "/Users/cybershiptrooper/src/interpretability/MATS/circuits-benchmark/notebooks/utils/node_stats.py:87: FutureWarning: The behavior of DataFrame concatenation with empty or all-NA entries is deprecated. In a future version, this will no longer exclude empty or all-NA columns when determining the result dtypes. To retain the old behavior, exclude the relevant entries before the concat operation.\n",
      "  node_norms = pd.concat(\n"
     ]
    }
   ],
   "source": [
    "from utils.node_stats import get_node_stats, node_stats_to_df\n",
    "\n",
    "cache_dict = get_node_stats(model_pair, loader)\n",
    "node_norms = node_stats.node_stats_to_df(cache_dict)"
   ]
  },
  {
   "cell_type": "code",
   "execution_count": 10,
   "metadata": {},
   "outputs": [
    {
     "data": {
      "text/html": [
       "<div>\n",
       "<style scoped>\n",
       "    .dataframe tbody tr th:only-of-type {\n",
       "        vertical-align: middle;\n",
       "    }\n",
       "\n",
       "    .dataframe tbody tr th {\n",
       "        vertical-align: top;\n",
       "    }\n",
       "\n",
       "    .dataframe thead th {\n",
       "        text-align: right;\n",
       "    }\n",
       "</style>\n",
       "<table border=\"1\" class=\"dataframe\">\n",
       "  <thead>\n",
       "    <tr style=\"text-align: right;\">\n",
       "      <th></th>\n",
       "      <th>name</th>\n",
       "      <th>in_circuit</th>\n",
       "      <th>norm_cache</th>\n",
       "      <th>norm_std</th>\n",
       "    </tr>\n",
       "  </thead>\n",
       "  <tbody>\n",
       "    <tr>\n",
       "      <th>0</th>\n",
       "      <td>blocks.0.attn.hook_result, head  0</td>\n",
       "      <td>False</td>\n",
       "      <td>0.171328</td>\n",
       "      <td>0.035944</td>\n",
       "    </tr>\n",
       "    <tr>\n",
       "      <th>1</th>\n",
       "      <td>blocks.0.attn.hook_result, head  1</td>\n",
       "      <td>False</td>\n",
       "      <td>0.140061</td>\n",
       "      <td>0.030674</td>\n",
       "    </tr>\n",
       "    <tr>\n",
       "      <th>2</th>\n",
       "      <td>blocks.0.attn.hook_result, head  2</td>\n",
       "      <td>False</td>\n",
       "      <td>0.146607</td>\n",
       "      <td>0.012040</td>\n",
       "    </tr>\n",
       "    <tr>\n",
       "      <th>3</th>\n",
       "      <td>blocks.0.attn.hook_result, head  3</td>\n",
       "      <td>False</td>\n",
       "      <td>0.077289</td>\n",
       "      <td>0.017604</td>\n",
       "    </tr>\n",
       "    <tr>\n",
       "      <th>6</th>\n",
       "      <td>blocks.1.attn.hook_result, head  0</td>\n",
       "      <td>False</td>\n",
       "      <td>1.081345</td>\n",
       "      <td>0.097147</td>\n",
       "    </tr>\n",
       "    <tr>\n",
       "      <th>7</th>\n",
       "      <td>blocks.1.attn.hook_result, head  1</td>\n",
       "      <td>False</td>\n",
       "      <td>0.359874</td>\n",
       "      <td>0.048454</td>\n",
       "    </tr>\n",
       "    <tr>\n",
       "      <th>8</th>\n",
       "      <td>blocks.1.attn.hook_result, head  3</td>\n",
       "      <td>False</td>\n",
       "      <td>1.645881</td>\n",
       "      <td>0.053254</td>\n",
       "    </tr>\n",
       "    <tr>\n",
       "      <th>9</th>\n",
       "      <td>blocks.1.mlp.hook_post</td>\n",
       "      <td>False</td>\n",
       "      <td>1.258341</td>\n",
       "      <td>0.262288</td>\n",
       "    </tr>\n",
       "    <tr>\n",
       "      <th>4</th>\n",
       "      <td>blocks.0.mlp.hook_post</td>\n",
       "      <td>True</td>\n",
       "      <td>1.593136</td>\n",
       "      <td>0.106626</td>\n",
       "    </tr>\n",
       "    <tr>\n",
       "      <th>5</th>\n",
       "      <td>blocks.1.attn.hook_result, head  2</td>\n",
       "      <td>True</td>\n",
       "      <td>4.035510</td>\n",
       "      <td>1.253511</td>\n",
       "    </tr>\n",
       "  </tbody>\n",
       "</table>\n",
       "</div>"
      ],
      "text/plain": [
       "                                 name in_circuit  norm_cache  norm_std\n",
       "0  blocks.0.attn.hook_result, head  0      False    0.171328  0.035944\n",
       "1  blocks.0.attn.hook_result, head  1      False    0.140061  0.030674\n",
       "2  blocks.0.attn.hook_result, head  2      False    0.146607  0.012040\n",
       "3  blocks.0.attn.hook_result, head  3      False    0.077289  0.017604\n",
       "6  blocks.1.attn.hook_result, head  0      False    1.081345  0.097147\n",
       "7  blocks.1.attn.hook_result, head  1      False    0.359874  0.048454\n",
       "8  blocks.1.attn.hook_result, head  3      False    1.645881  0.053254\n",
       "9              blocks.1.mlp.hook_post      False    1.258341  0.262288\n",
       "4              blocks.0.mlp.hook_post       True    1.593136  0.106626\n",
       "5  blocks.1.attn.hook_result, head  2       True    4.035510  1.253511"
      ]
     },
     "execution_count": 10,
     "metadata": {},
     "output_type": "execute_result"
    }
   ],
   "source": [
    "node_norms"
   ]
  },
  {
   "cell_type": "code",
   "execution_count": 11,
   "metadata": {},
   "outputs": [
    {
     "name": "stdout",
     "output_type": "stream",
     "text": [
      "Moving model to device:  cpu\n",
      "{'hook_embed': HookPoint(), 'hook_pos_embed': HookPoint(), 'blocks.0.attn.hook_k': HookPoint(), 'blocks.0.attn.hook_q': HookPoint(), 'blocks.0.attn.hook_v': HookPoint(), 'blocks.0.attn.hook_z': HookPoint(), 'blocks.0.attn.hook_attn_scores': HookPoint(), 'blocks.0.attn.hook_pattern': HookPoint(), 'blocks.0.attn.hook_result': HookPoint(), 'blocks.0.mlp.hook_pre': HookPoint(), 'blocks.0.mlp.hook_post': HookPoint(), 'blocks.0.hook_attn_in': HookPoint(), 'blocks.0.hook_q_input': HookPoint(), 'blocks.0.hook_k_input': HookPoint(), 'blocks.0.hook_v_input': HookPoint(), 'blocks.0.hook_mlp_in': HookPoint(), 'blocks.0.hook_attn_out': HookPoint(), 'blocks.0.hook_mlp_out': HookPoint(), 'blocks.0.hook_resid_pre': HookPoint(), 'blocks.0.hook_resid_mid': HookPoint(), 'blocks.0.hook_resid_post': HookPoint(), 'blocks.1.attn.hook_k': HookPoint(), 'blocks.1.attn.hook_q': HookPoint(), 'blocks.1.attn.hook_v': HookPoint(), 'blocks.1.attn.hook_z': HookPoint(), 'blocks.1.attn.hook_attn_scores': HookPoint(), 'blocks.1.attn.hook_pattern': HookPoint(), 'blocks.1.attn.hook_result': HookPoint(), 'blocks.1.mlp.hook_pre': HookPoint(), 'blocks.1.mlp.hook_post': HookPoint(), 'blocks.1.hook_attn_in': HookPoint(), 'blocks.1.hook_q_input': HookPoint(), 'blocks.1.hook_k_input': HookPoint(), 'blocks.1.hook_v_input': HookPoint(), 'blocks.1.hook_mlp_in': HookPoint(), 'blocks.1.hook_attn_out': HookPoint(), 'blocks.1.hook_mlp_out': HookPoint(), 'blocks.1.hook_resid_pre': HookPoint(), 'blocks.1.hook_resid_mid': HookPoint(), 'blocks.1.hook_resid_post': HookPoint()}\n",
      "dict_keys([TracrHLNode(name: blocks.0.mlp.hook_post,\n",
      " label: is_x_3,\n",
      " classes: 0,\n",
      " index: [:]\n",
      "), TracrHLNode(name: blocks.1.attn.hook_result,\n",
      " label: frac_prevs_1,\n",
      " classes: 0,\n",
      " index: [:, :, 0, :]\n",
      ")])\n"
     ]
    },
    {
     "name": "stderr",
     "output_type": "stream",
     "text": [
      "100%|██████████| 10/10 [00:00<00:00, 12.26it/s]\n",
      "100%|██████████| 10/10 [00:00<00:00, 29.63it/s]\n",
      "100%|██████████| 4/4 [00:00<00:00, 17.97it/s]\n",
      "100%|██████████| 4/4 [00:00<00:00, 59.90it/s]\n"
     ]
    }
   ],
   "source": [
    "import circuits_benchmark.commands.evaluation.iit.iit_eval as eval_node_effect\n",
    "\n",
    "# model_pair = make_model_pair(task)\n",
    "args = eval_node_effect.setup_args_parser(None, True)\n",
    "max_len = 50\n",
    "args.max_len = max_len\n",
    "model_pair = make_model_pair(task)\n",
    "node_effects, eval_metrics = eval_node_effect.get_node_effects(case=task, model_pair=model_pair, args=args, use_mean_cache=False)"
   ]
  },
  {
   "cell_type": "code",
   "execution_count": 12,
   "metadata": {},
   "outputs": [
    {
     "data": {
      "text/html": [
       "<div>\n",
       "<style scoped>\n",
       "    .dataframe tbody tr th:only-of-type {\n",
       "        vertical-align: middle;\n",
       "    }\n",
       "\n",
       "    .dataframe tbody tr th {\n",
       "        vertical-align: top;\n",
       "    }\n",
       "\n",
       "    .dataframe thead th {\n",
       "        text-align: right;\n",
       "    }\n",
       "</style>\n",
       "<table border=\"1\" class=\"dataframe\">\n",
       "  <thead>\n",
       "    <tr style=\"text-align: right;\">\n",
       "      <th></th>\n",
       "      <th>node</th>\n",
       "      <th>status</th>\n",
       "      <th>resample_ablate_effect</th>\n",
       "      <th>zero_ablate_effect</th>\n",
       "    </tr>\n",
       "  </thead>\n",
       "  <tbody>\n",
       "    <tr>\n",
       "      <th>0</th>\n",
       "      <td>blocks.0.attn.hook_result, head  0</td>\n",
       "      <td>not_in_circuit</td>\n",
       "      <td>0.002666</td>\n",
       "      <td>1.000000</td>\n",
       "    </tr>\n",
       "    <tr>\n",
       "      <th>1</th>\n",
       "      <td>blocks.0.attn.hook_result, head  1</td>\n",
       "      <td>not_in_circuit</td>\n",
       "      <td>0.000000</td>\n",
       "      <td>1.000000</td>\n",
       "    </tr>\n",
       "    <tr>\n",
       "      <th>2</th>\n",
       "      <td>blocks.0.attn.hook_result, head  2</td>\n",
       "      <td>not_in_circuit</td>\n",
       "      <td>0.000000</td>\n",
       "      <td>0.758594</td>\n",
       "    </tr>\n",
       "    <tr>\n",
       "      <th>3</th>\n",
       "      <td>blocks.0.attn.hook_result, head  3</td>\n",
       "      <td>not_in_circuit</td>\n",
       "      <td>0.000000</td>\n",
       "      <td>1.000000</td>\n",
       "    </tr>\n",
       "    <tr>\n",
       "      <th>4</th>\n",
       "      <td>blocks.1.attn.hook_result, head  2</td>\n",
       "      <td>not_in_circuit</td>\n",
       "      <td>0.000000</td>\n",
       "      <td>1.000000</td>\n",
       "    </tr>\n",
       "    <tr>\n",
       "      <th>5</th>\n",
       "      <td>blocks.1.attn.hook_result, head  3</td>\n",
       "      <td>not_in_circuit</td>\n",
       "      <td>0.103477</td>\n",
       "      <td>1.000000</td>\n",
       "    </tr>\n",
       "    <tr>\n",
       "      <th>6</th>\n",
       "      <td>blocks.1.mlp.hook_post</td>\n",
       "      <td>not_in_circuit</td>\n",
       "      <td>0.053177</td>\n",
       "      <td>1.000000</td>\n",
       "    </tr>\n",
       "    <tr>\n",
       "      <th>7</th>\n",
       "      <td>blocks.0.mlp.hook_post</td>\n",
       "      <td>in_circuit</td>\n",
       "      <td>1.000000</td>\n",
       "      <td>0.999219</td>\n",
       "    </tr>\n",
       "    <tr>\n",
       "      <th>8</th>\n",
       "      <td>blocks.1.attn.hook_result, head  :2</td>\n",
       "      <td>in_circuit</td>\n",
       "      <td>1.000000</td>\n",
       "      <td>0.977344</td>\n",
       "    </tr>\n",
       "  </tbody>\n",
       "</table>\n",
       "</div>"
      ],
      "text/plain": [
       "                                  node          status  \\\n",
       "0   blocks.0.attn.hook_result, head  0  not_in_circuit   \n",
       "1   blocks.0.attn.hook_result, head  1  not_in_circuit   \n",
       "2   blocks.0.attn.hook_result, head  2  not_in_circuit   \n",
       "3   blocks.0.attn.hook_result, head  3  not_in_circuit   \n",
       "4   blocks.1.attn.hook_result, head  2  not_in_circuit   \n",
       "5   blocks.1.attn.hook_result, head  3  not_in_circuit   \n",
       "6               blocks.1.mlp.hook_post  not_in_circuit   \n",
       "7               blocks.0.mlp.hook_post      in_circuit   \n",
       "8  blocks.1.attn.hook_result, head  :2      in_circuit   \n",
       "\n",
       "   resample_ablate_effect  zero_ablate_effect  \n",
       "0                0.002666            1.000000  \n",
       "1                0.000000            1.000000  \n",
       "2                0.000000            0.758594  \n",
       "3                0.000000            1.000000  \n",
       "4                0.000000            1.000000  \n",
       "5                0.103477            1.000000  \n",
       "6                0.053177            1.000000  \n",
       "7                1.000000            0.999219  \n",
       "8                1.000000            0.977344  "
      ]
     },
     "execution_count": 12,
     "metadata": {},
     "output_type": "execute_result"
    }
   ],
   "source": [
    "node_effects"
   ]
  },
  {
   "cell_type": "code",
   "execution_count": 122,
   "metadata": {},
   "outputs": [
    {
     "data": {
      "text/html": [
       "<div>\n",
       "<style scoped>\n",
       "    .dataframe tbody tr th:only-of-type {\n",
       "        vertical-align: middle;\n",
       "    }\n",
       "\n",
       "    .dataframe tbody tr th {\n",
       "        vertical-align: top;\n",
       "    }\n",
       "\n",
       "    .dataframe thead th {\n",
       "        text-align: right;\n",
       "    }\n",
       "</style>\n",
       "<table border=\"1\" class=\"dataframe\">\n",
       "  <thead>\n",
       "    <tr style=\"text-align: right;\">\n",
       "      <th></th>\n",
       "      <th>node</th>\n",
       "      <th>status</th>\n",
       "      <th>resample_ablate_effect</th>\n",
       "      <th>zero_ablate_effect</th>\n",
       "      <th>norm_cache</th>\n",
       "      <th>norm_std</th>\n",
       "    </tr>\n",
       "  </thead>\n",
       "  <tbody>\n",
       "    <tr>\n",
       "      <th>0</th>\n",
       "      <td>blocks.0.attn.hook_result, head  0</td>\n",
       "      <td>not_in_circuit</td>\n",
       "      <td>0.002666</td>\n",
       "      <td>1.000000</td>\n",
       "      <td>0.961356</td>\n",
       "      <td>0.048892</td>\n",
       "    </tr>\n",
       "    <tr>\n",
       "      <th>1</th>\n",
       "      <td>blocks.0.attn.hook_result, head  1</td>\n",
       "      <td>not_in_circuit</td>\n",
       "      <td>0.000000</td>\n",
       "      <td>1.000000</td>\n",
       "      <td>0.608414</td>\n",
       "      <td>0.037886</td>\n",
       "    </tr>\n",
       "    <tr>\n",
       "      <th>2</th>\n",
       "      <td>blocks.0.attn.hook_result, head  2</td>\n",
       "      <td>not_in_circuit</td>\n",
       "      <td>0.000000</td>\n",
       "      <td>0.758594</td>\n",
       "      <td>0.651837</td>\n",
       "      <td>0.078307</td>\n",
       "    </tr>\n",
       "    <tr>\n",
       "      <th>3</th>\n",
       "      <td>blocks.0.attn.hook_result, head  3</td>\n",
       "      <td>not_in_circuit</td>\n",
       "      <td>0.000000</td>\n",
       "      <td>1.000000</td>\n",
       "      <td>0.632466</td>\n",
       "      <td>0.023356</td>\n",
       "    </tr>\n",
       "    <tr>\n",
       "      <th>4</th>\n",
       "      <td>blocks.1.attn.hook_result, head  2</td>\n",
       "      <td>not_in_circuit</td>\n",
       "      <td>0.000000</td>\n",
       "      <td>1.000000</td>\n",
       "      <td>1.031157</td>\n",
       "      <td>0.103031</td>\n",
       "    </tr>\n",
       "    <tr>\n",
       "      <th>5</th>\n",
       "      <td>blocks.1.attn.hook_result, head  3</td>\n",
       "      <td>not_in_circuit</td>\n",
       "      <td>0.103477</td>\n",
       "      <td>1.000000</td>\n",
       "      <td>1.609794</td>\n",
       "      <td>0.046769</td>\n",
       "    </tr>\n",
       "    <tr>\n",
       "      <th>6</th>\n",
       "      <td>blocks.1.mlp.hook_post</td>\n",
       "      <td>not_in_circuit</td>\n",
       "      <td>0.053177</td>\n",
       "      <td>1.000000</td>\n",
       "      <td>3.403802</td>\n",
       "      <td>0.167944</td>\n",
       "    </tr>\n",
       "    <tr>\n",
       "      <th>7</th>\n",
       "      <td>blocks.0.mlp.hook_post</td>\n",
       "      <td>in_circuit</td>\n",
       "      <td>1.000000</td>\n",
       "      <td>0.999219</td>\n",
       "      <td>3.991503</td>\n",
       "      <td>0.375723</td>\n",
       "    </tr>\n",
       "    <tr>\n",
       "      <th>8</th>\n",
       "      <td>blocks.1.attn.hook_result, head  :2</td>\n",
       "      <td>in_circuit</td>\n",
       "      <td>1.000000</td>\n",
       "      <td>0.977344</td>\n",
       "      <td>2.152520</td>\n",
       "      <td>0.560006</td>\n",
       "    </tr>\n",
       "  </tbody>\n",
       "</table>\n",
       "</div>"
      ],
      "text/plain": [
       "                                  node          status  \\\n",
       "0   blocks.0.attn.hook_result, head  0  not_in_circuit   \n",
       "1   blocks.0.attn.hook_result, head  1  not_in_circuit   \n",
       "2   blocks.0.attn.hook_result, head  2  not_in_circuit   \n",
       "3   blocks.0.attn.hook_result, head  3  not_in_circuit   \n",
       "4   blocks.1.attn.hook_result, head  2  not_in_circuit   \n",
       "5   blocks.1.attn.hook_result, head  3  not_in_circuit   \n",
       "6               blocks.1.mlp.hook_post  not_in_circuit   \n",
       "7               blocks.0.mlp.hook_post      in_circuit   \n",
       "8  blocks.1.attn.hook_result, head  :2      in_circuit   \n",
       "\n",
       "   resample_ablate_effect  zero_ablate_effect  norm_cache  norm_std  \n",
       "0                0.002666            1.000000    0.961356  0.048892  \n",
       "1                0.000000            1.000000    0.608414  0.037886  \n",
       "2                0.000000            0.758594    0.651837  0.078307  \n",
       "3                0.000000            1.000000    0.632466  0.023356  \n",
       "4                0.000000            1.000000    1.031157  0.103031  \n",
       "5                0.103477            1.000000    1.609794  0.046769  \n",
       "6                0.053177            1.000000    3.403802  0.167944  \n",
       "7                1.000000            0.999219    3.991503  0.375723  \n",
       "8                1.000000            0.977344    2.152520  0.560006  "
      ]
     },
     "execution_count": 122,
     "metadata": {},
     "output_type": "execute_result"
    }
   ],
   "source": [
    "# combine node effects with node_norms\n",
    "import pandas as pd\n",
    "combined_df = pd.merge(node_effects, node_norms, left_on=\"node\", right_on=\"name\", how=\"inner\")\n",
    "combined_df.drop(columns=[\"name\", \"in_circuit\"], inplace=True)\n",
    "combined_df"
   ]
  },
  {
   "cell_type": "code",
   "execution_count": 127,
   "metadata": {},
   "outputs": [
    {
     "data": {
      "application/vnd.plotly.v1+json": {
       "config": {
        "plotlyServerURL": "https://plot.ly"
       },
       "data": [
        {
         "customdata": [
          [
           "blocks.0.attn.hook_result, head  0",
           0.002666049869256229
          ],
          [
           "blocks.0.attn.hook_result, head  1",
           0
          ],
          [
           "blocks.0.attn.hook_result, head  2",
           0
          ],
          [
           "blocks.0.attn.hook_result, head  3",
           0
          ],
          [
           "blocks.1.attn.hook_result, head  2",
           0
          ],
          [
           "blocks.1.attn.hook_result, head  3",
           0.10347671656946487
          ],
          [
           "blocks.1.mlp.hook_post",
           0.053176559938756154
          ]
         ],
         "error_y": {
          "array": [
           0.04889177158474922,
           0.03788578137755394,
           0.0783071368932724,
           0.023356322199106216,
           0.10303069651126862,
           0.04676925390958786,
           0.16794443130493164
          ]
         },
         "hovertemplate": "=not_in_circuit<br>Zero Ablation Effect=%{x}<br>Norm of Node Activation=%{y}<br>node=%{customdata[0]}<br>Resample Ablate Effect=%{customdata[1]}<extra></extra>",
         "legendgroup": "not_in_circuit",
         "marker": {
          "color": "orange",
          "symbol": "circle"
         },
         "mode": "markers",
         "name": "not_in_circuit",
         "orientation": "v",
         "showlegend": true,
         "type": "scatter",
         "x": [
          0.9999999992187499,
          0.9999999992187499,
          0.7585937494073486,
          0.9999999992187499,
          0.9999999992187499,
          0.9999999992187499,
          0.9999999992187499
         ],
         "xaxis": "x",
         "y": [
          0.9613561064004899,
          0.6084139055013656,
          0.651836844086647,
          0.6324659442901611,
          1.0311574053764343,
          1.6097935879230498,
          3.4038023233413695
         ],
         "yaxis": "y"
        },
        {
         "customdata": [
          [
           "blocks.0.mlp.hook_post",
           0.9999999999999981
          ],
          [
           "blocks.1.attn.hook_result, head  :2",
           0.9999999999999981
          ]
         ],
         "error_y": {
          "array": [
           0.3757232129573822,
           0.5600056648254395
          ]
         },
         "hovertemplate": "=in_circuit<br>Zero Ablation Effect=%{x}<br>Norm of Node Activation=%{y}<br>node=%{customdata[0]}<br>Resample Ablate Effect=%{customdata[1]}<extra></extra>",
         "legendgroup": "in_circuit",
         "marker": {
          "color": "green",
          "symbol": "circle"
         },
         "mode": "markers",
         "name": "in_circuit",
         "orientation": "v",
         "showlegend": true,
         "type": "scatter",
         "x": [
          0.9992187492193603,
          0.9773437492364502
         ],
         "xaxis": "x",
         "y": [
          3.9915028691291807,
          2.1525200700759886
         ],
         "yaxis": "y"
        }
       ],
       "layout": {
        "font": {
         "size": 16
        },
        "legend": {
         "title": {
          "text": ""
         },
         "tracegroupgap": 0
        },
        "margin": {
         "b": 70,
         "l": 70,
         "r": 70,
         "t": 70
        },
        "template": {
         "data": {
          "bar": [
           {
            "error_x": {
             "color": "#2a3f5f"
            },
            "error_y": {
             "color": "#2a3f5f"
            },
            "marker": {
             "line": {
              "color": "white",
              "width": 0.5
             },
             "pattern": {
              "fillmode": "overlay",
              "size": 10,
              "solidity": 0.2
             }
            },
            "type": "bar"
           }
          ],
          "barpolar": [
           {
            "marker": {
             "line": {
              "color": "white",
              "width": 0.5
             },
             "pattern": {
              "fillmode": "overlay",
              "size": 10,
              "solidity": 0.2
             }
            },
            "type": "barpolar"
           }
          ],
          "carpet": [
           {
            "aaxis": {
             "endlinecolor": "#2a3f5f",
             "gridcolor": "#C8D4E3",
             "linecolor": "#C8D4E3",
             "minorgridcolor": "#C8D4E3",
             "startlinecolor": "#2a3f5f"
            },
            "baxis": {
             "endlinecolor": "#2a3f5f",
             "gridcolor": "#C8D4E3",
             "linecolor": "#C8D4E3",
             "minorgridcolor": "#C8D4E3",
             "startlinecolor": "#2a3f5f"
            },
            "type": "carpet"
           }
          ],
          "choropleth": [
           {
            "colorbar": {
             "outlinewidth": 0,
             "ticks": ""
            },
            "type": "choropleth"
           }
          ],
          "contour": [
           {
            "colorbar": {
             "outlinewidth": 0,
             "ticks": ""
            },
            "colorscale": [
             [
              0,
              "#0d0887"
             ],
             [
              0.1111111111111111,
              "#46039f"
             ],
             [
              0.2222222222222222,
              "#7201a8"
             ],
             [
              0.3333333333333333,
              "#9c179e"
             ],
             [
              0.4444444444444444,
              "#bd3786"
             ],
             [
              0.5555555555555556,
              "#d8576b"
             ],
             [
              0.6666666666666666,
              "#ed7953"
             ],
             [
              0.7777777777777778,
              "#fb9f3a"
             ],
             [
              0.8888888888888888,
              "#fdca26"
             ],
             [
              1,
              "#f0f921"
             ]
            ],
            "type": "contour"
           }
          ],
          "contourcarpet": [
           {
            "colorbar": {
             "outlinewidth": 0,
             "ticks": ""
            },
            "type": "contourcarpet"
           }
          ],
          "heatmap": [
           {
            "colorbar": {
             "outlinewidth": 0,
             "ticks": ""
            },
            "colorscale": [
             [
              0,
              "#0d0887"
             ],
             [
              0.1111111111111111,
              "#46039f"
             ],
             [
              0.2222222222222222,
              "#7201a8"
             ],
             [
              0.3333333333333333,
              "#9c179e"
             ],
             [
              0.4444444444444444,
              "#bd3786"
             ],
             [
              0.5555555555555556,
              "#d8576b"
             ],
             [
              0.6666666666666666,
              "#ed7953"
             ],
             [
              0.7777777777777778,
              "#fb9f3a"
             ],
             [
              0.8888888888888888,
              "#fdca26"
             ],
             [
              1,
              "#f0f921"
             ]
            ],
            "type": "heatmap"
           }
          ],
          "heatmapgl": [
           {
            "colorbar": {
             "outlinewidth": 0,
             "ticks": ""
            },
            "colorscale": [
             [
              0,
              "#0d0887"
             ],
             [
              0.1111111111111111,
              "#46039f"
             ],
             [
              0.2222222222222222,
              "#7201a8"
             ],
             [
              0.3333333333333333,
              "#9c179e"
             ],
             [
              0.4444444444444444,
              "#bd3786"
             ],
             [
              0.5555555555555556,
              "#d8576b"
             ],
             [
              0.6666666666666666,
              "#ed7953"
             ],
             [
              0.7777777777777778,
              "#fb9f3a"
             ],
             [
              0.8888888888888888,
              "#fdca26"
             ],
             [
              1,
              "#f0f921"
             ]
            ],
            "type": "heatmapgl"
           }
          ],
          "histogram": [
           {
            "marker": {
             "pattern": {
              "fillmode": "overlay",
              "size": 10,
              "solidity": 0.2
             }
            },
            "type": "histogram"
           }
          ],
          "histogram2d": [
           {
            "colorbar": {
             "outlinewidth": 0,
             "ticks": ""
            },
            "colorscale": [
             [
              0,
              "#0d0887"
             ],
             [
              0.1111111111111111,
              "#46039f"
             ],
             [
              0.2222222222222222,
              "#7201a8"
             ],
             [
              0.3333333333333333,
              "#9c179e"
             ],
             [
              0.4444444444444444,
              "#bd3786"
             ],
             [
              0.5555555555555556,
              "#d8576b"
             ],
             [
              0.6666666666666666,
              "#ed7953"
             ],
             [
              0.7777777777777778,
              "#fb9f3a"
             ],
             [
              0.8888888888888888,
              "#fdca26"
             ],
             [
              1,
              "#f0f921"
             ]
            ],
            "type": "histogram2d"
           }
          ],
          "histogram2dcontour": [
           {
            "colorbar": {
             "outlinewidth": 0,
             "ticks": ""
            },
            "colorscale": [
             [
              0,
              "#0d0887"
             ],
             [
              0.1111111111111111,
              "#46039f"
             ],
             [
              0.2222222222222222,
              "#7201a8"
             ],
             [
              0.3333333333333333,
              "#9c179e"
             ],
             [
              0.4444444444444444,
              "#bd3786"
             ],
             [
              0.5555555555555556,
              "#d8576b"
             ],
             [
              0.6666666666666666,
              "#ed7953"
             ],
             [
              0.7777777777777778,
              "#fb9f3a"
             ],
             [
              0.8888888888888888,
              "#fdca26"
             ],
             [
              1,
              "#f0f921"
             ]
            ],
            "type": "histogram2dcontour"
           }
          ],
          "mesh3d": [
           {
            "colorbar": {
             "outlinewidth": 0,
             "ticks": ""
            },
            "type": "mesh3d"
           }
          ],
          "parcoords": [
           {
            "line": {
             "colorbar": {
              "outlinewidth": 0,
              "ticks": ""
             }
            },
            "type": "parcoords"
           }
          ],
          "pie": [
           {
            "automargin": true,
            "type": "pie"
           }
          ],
          "scatter": [
           {
            "fillpattern": {
             "fillmode": "overlay",
             "size": 10,
             "solidity": 0.2
            },
            "type": "scatter"
           }
          ],
          "scatter3d": [
           {
            "line": {
             "colorbar": {
              "outlinewidth": 0,
              "ticks": ""
             }
            },
            "marker": {
             "colorbar": {
              "outlinewidth": 0,
              "ticks": ""
             }
            },
            "type": "scatter3d"
           }
          ],
          "scattercarpet": [
           {
            "marker": {
             "colorbar": {
              "outlinewidth": 0,
              "ticks": ""
             }
            },
            "type": "scattercarpet"
           }
          ],
          "scattergeo": [
           {
            "marker": {
             "colorbar": {
              "outlinewidth": 0,
              "ticks": ""
             }
            },
            "type": "scattergeo"
           }
          ],
          "scattergl": [
           {
            "marker": {
             "colorbar": {
              "outlinewidth": 0,
              "ticks": ""
             }
            },
            "type": "scattergl"
           }
          ],
          "scattermapbox": [
           {
            "marker": {
             "colorbar": {
              "outlinewidth": 0,
              "ticks": ""
             }
            },
            "type": "scattermapbox"
           }
          ],
          "scatterpolar": [
           {
            "marker": {
             "colorbar": {
              "outlinewidth": 0,
              "ticks": ""
             }
            },
            "type": "scatterpolar"
           }
          ],
          "scatterpolargl": [
           {
            "marker": {
             "colorbar": {
              "outlinewidth": 0,
              "ticks": ""
             }
            },
            "type": "scatterpolargl"
           }
          ],
          "scatterternary": [
           {
            "marker": {
             "colorbar": {
              "outlinewidth": 0,
              "ticks": ""
             }
            },
            "type": "scatterternary"
           }
          ],
          "surface": [
           {
            "colorbar": {
             "outlinewidth": 0,
             "ticks": ""
            },
            "colorscale": [
             [
              0,
              "#0d0887"
             ],
             [
              0.1111111111111111,
              "#46039f"
             ],
             [
              0.2222222222222222,
              "#7201a8"
             ],
             [
              0.3333333333333333,
              "#9c179e"
             ],
             [
              0.4444444444444444,
              "#bd3786"
             ],
             [
              0.5555555555555556,
              "#d8576b"
             ],
             [
              0.6666666666666666,
              "#ed7953"
             ],
             [
              0.7777777777777778,
              "#fb9f3a"
             ],
             [
              0.8888888888888888,
              "#fdca26"
             ],
             [
              1,
              "#f0f921"
             ]
            ],
            "type": "surface"
           }
          ],
          "table": [
           {
            "cells": {
             "fill": {
              "color": "#EBF0F8"
             },
             "line": {
              "color": "white"
             }
            },
            "header": {
             "fill": {
              "color": "#C8D4E3"
             },
             "line": {
              "color": "white"
             }
            },
            "type": "table"
           }
          ]
         },
         "layout": {
          "annotationdefaults": {
           "arrowcolor": "#2a3f5f",
           "arrowhead": 0,
           "arrowwidth": 1
          },
          "autotypenumbers": "strict",
          "coloraxis": {
           "colorbar": {
            "outlinewidth": 0,
            "ticks": ""
           }
          },
          "colorscale": {
           "diverging": [
            [
             0,
             "#8e0152"
            ],
            [
             0.1,
             "#c51b7d"
            ],
            [
             0.2,
             "#de77ae"
            ],
            [
             0.3,
             "#f1b6da"
            ],
            [
             0.4,
             "#fde0ef"
            ],
            [
             0.5,
             "#f7f7f7"
            ],
            [
             0.6,
             "#e6f5d0"
            ],
            [
             0.7,
             "#b8e186"
            ],
            [
             0.8,
             "#7fbc41"
            ],
            [
             0.9,
             "#4d9221"
            ],
            [
             1,
             "#276419"
            ]
           ],
           "sequential": [
            [
             0,
             "#0d0887"
            ],
            [
             0.1111111111111111,
             "#46039f"
            ],
            [
             0.2222222222222222,
             "#7201a8"
            ],
            [
             0.3333333333333333,
             "#9c179e"
            ],
            [
             0.4444444444444444,
             "#bd3786"
            ],
            [
             0.5555555555555556,
             "#d8576b"
            ],
            [
             0.6666666666666666,
             "#ed7953"
            ],
            [
             0.7777777777777778,
             "#fb9f3a"
            ],
            [
             0.8888888888888888,
             "#fdca26"
            ],
            [
             1,
             "#f0f921"
            ]
           ],
           "sequentialminus": [
            [
             0,
             "#0d0887"
            ],
            [
             0.1111111111111111,
             "#46039f"
            ],
            [
             0.2222222222222222,
             "#7201a8"
            ],
            [
             0.3333333333333333,
             "#9c179e"
            ],
            [
             0.4444444444444444,
             "#bd3786"
            ],
            [
             0.5555555555555556,
             "#d8576b"
            ],
            [
             0.6666666666666666,
             "#ed7953"
            ],
            [
             0.7777777777777778,
             "#fb9f3a"
            ],
            [
             0.8888888888888888,
             "#fdca26"
            ],
            [
             1,
             "#f0f921"
            ]
           ]
          },
          "colorway": [
           "#636efa",
           "#EF553B",
           "#00cc96",
           "#ab63fa",
           "#FFA15A",
           "#19d3f3",
           "#FF6692",
           "#B6E880",
           "#FF97FF",
           "#FECB52"
          ],
          "font": {
           "color": "#2a3f5f"
          },
          "geo": {
           "bgcolor": "white",
           "lakecolor": "white",
           "landcolor": "white",
           "showlakes": true,
           "showland": true,
           "subunitcolor": "#C8D4E3"
          },
          "hoverlabel": {
           "align": "left"
          },
          "hovermode": "closest",
          "mapbox": {
           "style": "light"
          },
          "paper_bgcolor": "white",
          "plot_bgcolor": "white",
          "polar": {
           "angularaxis": {
            "gridcolor": "#EBF0F8",
            "linecolor": "#EBF0F8",
            "ticks": ""
           },
           "bgcolor": "white",
           "radialaxis": {
            "gridcolor": "#EBF0F8",
            "linecolor": "#EBF0F8",
            "ticks": ""
           }
          },
          "scene": {
           "xaxis": {
            "backgroundcolor": "white",
            "gridcolor": "#DFE8F3",
            "gridwidth": 2,
            "linecolor": "#EBF0F8",
            "showbackground": true,
            "ticks": "",
            "zerolinecolor": "#EBF0F8"
           },
           "yaxis": {
            "backgroundcolor": "white",
            "gridcolor": "#DFE8F3",
            "gridwidth": 2,
            "linecolor": "#EBF0F8",
            "showbackground": true,
            "ticks": "",
            "zerolinecolor": "#EBF0F8"
           },
           "zaxis": {
            "backgroundcolor": "white",
            "gridcolor": "#DFE8F3",
            "gridwidth": 2,
            "linecolor": "#EBF0F8",
            "showbackground": true,
            "ticks": "",
            "zerolinecolor": "#EBF0F8"
           }
          },
          "shapedefaults": {
           "line": {
            "color": "#2a3f5f"
           }
          },
          "ternary": {
           "aaxis": {
            "gridcolor": "#DFE8F3",
            "linecolor": "#A2B1C6",
            "ticks": ""
           },
           "baxis": {
            "gridcolor": "#DFE8F3",
            "linecolor": "#A2B1C6",
            "ticks": ""
           },
           "bgcolor": "white",
           "caxis": {
            "gridcolor": "#DFE8F3",
            "linecolor": "#A2B1C6",
            "ticks": ""
           }
          },
          "title": {
           "x": 0.05
          },
          "xaxis": {
           "automargin": true,
           "gridcolor": "#EBF0F8",
           "linecolor": "#EBF0F8",
           "ticks": "",
           "title": {
            "standoff": 15
           },
           "zerolinecolor": "#EBF0F8",
           "zerolinewidth": 2
          },
          "yaxis": {
           "automargin": true,
           "gridcolor": "#EBF0F8",
           "linecolor": "#EBF0F8",
           "ticks": "",
           "title": {
            "standoff": 15
           },
           "zerolinecolor": "#EBF0F8",
           "zerolinewidth": 2
          }
         }
        },
        "xaxis": {
         "anchor": "y",
         "domain": [
          0,
          1
         ],
         "title": {
          "text": "Zero Ablation Effect"
         }
        },
        "yaxis": {
         "anchor": "x",
         "domain": [
          0,
          1
         ],
         "title": {
          "text": "Norm of Node Activation"
         }
        }
       }
      }
     },
     "metadata": {},
     "output_type": "display_data"
    }
   ],
   "source": [
    "import plotly.express as px\n",
    "\n",
    "fig = px.scatter(combined_df, x=\"zero_ablate_effect\", \n",
    "                 y=\"norm_cache\", color=\"status\",\n",
    "                 error_y=\"norm_std\",\n",
    "                 # color map\n",
    "                 color_discrete_map={\n",
    "                    \"in_circuit\": \"green\",\n",
    "                    \"not_in_circuit\": \"orange\",\n",
    "                 },\n",
    "                 labels={\n",
    "                     \"zero_ablate_effect\": \"Zero Ablation Effect\",\n",
    "                     \"norm_cache\": \"Norm of Node Activation\",\n",
    "                     \"status\": \"\",\n",
    "                     \"resample_ablate_effect\": \"Resample Ablate Effect\",\n",
    "                 },\n",
    "                 hover_data=[\"node\", \"resample_ablate_effect\"],\n",
    "                 # remove background grid and color\n",
    "                 template=\"plotly_white\",\n",
    "                 )\n",
    "\n",
    "# decrease margin\n",
    "fig.update_layout(margin=dict(l=70, r=70, t=70, b=70))\n",
    "# increase font size\n",
    "fig.update_layout(font=dict(size=16))\n",
    "fig.show()\n",
    "# save to file as pdf\n",
    "fig.write_image(f\"node_stats_{task.get_index()}.pdf\")\n"
   ]
  },
  {
   "cell_type": "markdown",
   "metadata": {},
   "source": [
    "### Do logit lens on all nodes in the model"
   ]
  },
  {
   "cell_type": "markdown",
   "metadata": {},
   "source": [
    "0_mlp_out has different ranges for different proportions, this ideally, shouldn't happen!\n",
    "\n",
    "There is no node before it that calculates the fraction, so how does it do this?"
   ]
  },
  {
   "cell_type": "markdown",
   "metadata": {},
   "source": [
    "1. Decompose resid for each layer and get mlp logit lens\n",
    "2. For head results I can do stack_head_results\n",
    "\n",
    "Once I have the activations, I can compare it with (This is SCORE)\n",
    "1. logit diffs for classification\n",
    "2. only true regression output (maybe MSE with label or something)\n",
    "\n",
    "Tuned lens: I just need to take the activations and train a linear layer b/w that and final layer act\n",
    "I have two choices:\n",
    "1. train a map from hook points to pre unembed directly\n",
    "2. train it on decomposed heads and resids\n",
    "\n",
    "Then compute SCORE = unembed(LN(Linear(act))) vs logit diff/something\n",
    "\n",
    "Pearson R coefficient:\n",
    "1. Take the entire dataset, get SCORES for each prompt and calculate pearson R for all\n",
    "\n",
    "Other experiments: \n",
    "1. I need to check if the mean is orthogonal/not to where we write. So I need the cosine similarity between acts. Combined with the fact that resample doesn't do shit, this makes sense. \n",
    "2. I can resample after multipyling the node with 1e-3, 1e-2 ... 10, 100 etc. and see it's effect. I can also do this after doing PCA on it, getting its subspace with max variation, and scaling that."
   ]
  },
  {
   "cell_type": "code",
   "execution_count": 31,
   "metadata": {},
   "outputs": [
    {
     "name": "stdout",
     "output_type": "stream",
     "text": [
      "No layer norm to fold\n"
     ]
    }
   ],
   "source": [
    "if model_pair.hl_model.is_categorical():\n",
    "    # preprocess model for logit lens\n",
    "    model.center_writing_weights(state_dict=model.state_dict())\n",
    "    model.center_unembed(state_dict=model.state_dict())\n",
    "    model.refactor_factored_attn_matrices(state_dict=model.state_dict())\n",
    "try:\n",
    "    model.fold_layer_norm(state_dict=model.state_dict())\n",
    "except:\n",
    "    print(\"No layer norm to fold\")"
   ]
  },
  {
   "cell_type": "code",
   "execution_count": 36,
   "metadata": {},
   "outputs": [],
   "source": [
    "import utils.logit_lens as logit_lens\n",
    "\n",
    "logit_lens_results, labels = logit_lens.do_logit_lens(model_pair, loader)"
   ]
  },
  {
   "cell_type": "code",
   "execution_count": 33,
   "metadata": {},
   "outputs": [
    {
     "data": {
      "text/plain": [
       "dict_keys(['embed', 'pos_embed', '0_mlp_out', '1_mlp_out', 'L0H0', 'L0H1', 'L0H2', 'L0H3', 'L1H0', 'L1H1', 'L1H2', 'L1H3'])"
      ]
     },
     "execution_count": 33,
     "metadata": {},
     "output_type": "execute_result"
    }
   ],
   "source": [
    "logit_lens_results.keys()"
   ]
  },
  {
   "cell_type": "code",
   "execution_count": 66,
   "metadata": {},
   "outputs": [
    {
     "data": {
      "text/plain": [
       "['0_mlp_out', 'L1H0']"
      ]
     },
     "execution_count": 66,
     "metadata": {},
     "output_type": "execute_result"
    }
   ],
   "source": [
    "from iit.utils.node_picker import get_all_individual_nodes_in_circuit\n",
    "\n",
    "nodes = get_all_individual_nodes_in_circuit(model, model_pair.corr)\n",
    "def convert_ll_node_to_str(node: mp.LLNode):\n",
    "    if 'attn' in node.name:\n",
    "        block = node.name.split('.')[1]\n",
    "        head = node.index.as_index[2]\n",
    "        return f\"L{block}H{head}\"\n",
    "    if 'mlp' in node.name:\n",
    "        block = node.name.split('.')[1]\n",
    "        return f\"{block}_mlp_out\"\n",
    "\n",
    "nodes = [convert_ll_node_to_str(node) for node in nodes]\n",
    "nodes"
   ]
  },
  {
   "cell_type": "code",
   "execution_count": 68,
   "metadata": {},
   "outputs": [
    {
     "data": {
      "application/vnd.plotly.v1+json": {
       "config": {
        "plotlyServerURL": "https://plot.ly"
       },
       "data": [
        {
         "mode": "markers",
         "name": "pos 0, corr: 0.46",
         "type": "scatter",
         "x": [
          10.609264373779297,
          6.47166633605957,
          6.47166633605957,
          6.47166633605957,
          0.3233022391796112,
          10.609264373779297,
          0.3233022391796112,
          5.683303356170654,
          0.3233022391796112,
          0.7440273761749268,
          0.7440273761749268,
          0.9071118831634521,
          0.9071118831634521,
          6.892082214355469,
          6.4176459312438965,
          0.9071118831634521,
          0.9071118831634521,
          6.47166633605957,
          0.9071118831634521,
          10.609264373779297,
          6.4176459312438965,
          6.47166633605957,
          6.4176459312438965,
          0.7440273761749268,
          0.9071118831634521,
          0.9071118831634521,
          6.892082214355469,
          0.3233022391796112,
          5.683303356170654,
          6.47166633605957,
          6.47166633605957,
          5.683303356170654,
          6.892082214355469,
          6.892082214355469,
          6.892082214355469,
          10.609264373779297,
          5.683303356170654,
          6.892082214355469,
          6.47166633605957,
          0.9071118831634521,
          6.47166633605957,
          6.47166633605957,
          0.9071118831634521,
          0.7440273761749268,
          0.7440273761749268,
          0.3233022391796112,
          5.683303356170654,
          0.9071118831634521,
          0.9071118831634521,
          6.47166633605957,
          0.3233022391796112,
          0.7440273761749268,
          6.47166633605957,
          0.9071118831634521,
          6.892082214355469,
          6.4176459312438965,
          0.7440273761749268,
          5.683303356170654,
          6.4176459312438965,
          0.7440273761749268,
          0.7440273761749268,
          5.683303356170654,
          0.7440273761749268,
          0.7440273761749268,
          6.4176459312438965,
          5.683303356170654,
          6.892082214355469,
          10.609264373779297,
          0.7440273761749268,
          5.683303356170654,
          10.609264373779297,
          5.683303356170654,
          0.9071118831634521,
          0.7440273761749268,
          10.609264373779297,
          0.9071118831634521,
          10.609264373779297,
          6.892082214355469,
          0.3233022391796112,
          0.7440273761749268,
          6.892082214355469,
          6.4176459312438965,
          6.47166633605957,
          6.892082214355469,
          6.892082214355469,
          6.892082214355469,
          0.7440273761749268,
          6.892082214355469,
          6.4176459312438965,
          0.7440273761749268,
          6.892082214355469,
          5.683303356170654,
          6.4176459312438965,
          10.609264373779297,
          0.9071118831634521,
          6.4176459312438965,
          6.892082214355469,
          6.47166633605957,
          6.892082214355469,
          0.3233022391796112
         ],
         "y": [
          80.41526794433594,
          54.662864685058594,
          54.662864685058594,
          54.662864685058594,
          60.06349182128906,
          80.41526794433594,
          60.06349182128906,
          178.80850219726562,
          60.06349182128906,
          60.06468200683594,
          60.06468200683594,
          74.81859588623047,
          74.81859588623047,
          179.72686767578125,
          178.89230346679688,
          74.81859588623047,
          74.81859588623047,
          54.662864685058594,
          74.81859588623047,
          80.41526794433594,
          178.89230346679688,
          54.662864685058594,
          178.89230346679688,
          60.06468200683594,
          74.81859588623047,
          74.81859588623047,
          179.72686767578125,
          60.06349182128906,
          178.80850219726562,
          54.662864685058594,
          54.662864685058594,
          178.80850219726562,
          179.72686767578125,
          179.72686767578125,
          179.72686767578125,
          80.41526794433594,
          178.80850219726562,
          179.72686767578125,
          54.662864685058594,
          74.81859588623047,
          54.662864685058594,
          54.662864685058594,
          74.81859588623047,
          60.06468200683594,
          60.06468200683594,
          60.06349182128906,
          178.80850219726562,
          74.81859588623047,
          74.81859588623047,
          54.662864685058594,
          60.06349182128906,
          60.06468200683594,
          54.662864685058594,
          74.81859588623047,
          179.72686767578125,
          178.89230346679688,
          60.06468200683594,
          178.80850219726562,
          178.89230346679688,
          60.06468200683594,
          60.06468200683594,
          178.80850219726562,
          60.06468200683594,
          60.06468200683594,
          178.89230346679688,
          178.80850219726562,
          179.72686767578125,
          80.41526794433594,
          60.06468200683594,
          178.80850219726562,
          80.41526794433594,
          178.80850219726562,
          74.81859588623047,
          60.06468200683594,
          80.41526794433594,
          74.81859588623047,
          80.41526794433594,
          179.72686767578125,
          60.06349182128906,
          60.06468200683594,
          179.72686767578125,
          178.89230346679688,
          54.662864685058594,
          179.72686767578125,
          179.72686767578125,
          179.72686767578125,
          60.06468200683594,
          179.72686767578125,
          178.89230346679688,
          60.06468200683594,
          179.72686767578125,
          178.80850219726562,
          178.89230346679688,
          80.41526794433594,
          74.81859588623047,
          178.89230346679688,
          179.72686767578125,
          54.662864685058594,
          179.72686767578125,
          60.06349182128906
         ]
        },
        {
         "mode": "markers",
         "name": "pos 1, corr: 0.41",
         "type": "scatter",
         "x": [
          1.394575834274292,
          7.042481422424316,
          7.042481422424316,
          7.042481422424316,
          10.620086669921875,
          10.56645393371582,
          7.258820533752441,
          0.8215407133102417,
          7.258820533752441,
          6.317028999328613,
          6.436101913452148,
          5.638801574707031,
          6.999997615814209,
          6.638923168182373,
          1.0536879301071167,
          6.38912296295166,
          1.4147940874099731,
          1.3805241584777832,
          6.999997615814209,
          6.555050373077393,
          6.563662052154541,
          7.042481422424316,
          7.2635674476623535,
          6.317028999328613,
          1.4147940874099731,
          6.999997615814209,
          6.546137809753418,
          0.7461074590682983,
          0.8215407133102417,
          5.734625339508057,
          10.660197257995605,
          5.957635879516602,
          10.630316734313965,
          7.211435317993164,
          1.287246823310852,
          6.4208903312683105,
          7.203368186950684,
          6.546137809753418,
          5.734625339508057,
          0.9087429046630859,
          1.3805241584777832,
          6.398777961730957,
          6.219918251037598,
          1.2252662181854248,
          6.436101913452148,
          1.1151727437973022,
          1.3193329572677612,
          1.180625319480896,
          10.676586151123047,
          10.660197257995605,
          6.69334602355957,
          1.2252662181854248,
          1.1227266788482666,
          6.219918251037598,
          6.638923168182373,
          7.2635674476623535,
          1.2252662181854248,
          10.62999439239502,
          1.0536879301071167,
          1.3283970355987549,
          0.9469735026359558,
          1.3193329572677612,
          0.9469735026359558,
          0.9469735026359558,
          10.657821655273438,
          1.0982918739318848,
          6.638923168182373,
          5.868348121643066,
          1.2252662181854248,
          10.62999439239502,
          6.555050373077393,
          1.0982918739318848,
          6.38912296295166,
          7.039259433746338,
          1.0266867876052856,
          1.4147940874099731,
          5.868348121643066,
          7.211435317993164,
          6.69334602355957,
          5.694987773895264,
          1.287246823310852,
          6.694255352020264,
          6.398777961730957,
          10.630316734313965,
          5.957761764526367,
          6.638923168182373,
          6.317028999328613,
          0.8530673980712891,
          6.011395454406738,
          1.3283970355987549,
          1.0689409971237183,
          1.3193329572677612,
          1.275827407836914,
          5.868348121643066,
          6.219918251037598,
          6.011395454406738,
          0.8530673980712891,
          1.3805241584777832,
          6.638923168182373,
          10.620086669921875
         ],
         "y": [
          85.92286682128906,
          183.0366668701172,
          183.0366668701172,
          183.0366668701172,
          82.29417419433594,
          81.79218292236328,
          176.71119689941406,
          64.5102767944336,
          176.71119689941406,
          61.7144660949707,
          182.71136474609375,
          181.58328247070312,
          182.9163055419922,
          179.3809051513672,
          67.21406555175781,
          182.162109375,
          77.0605239868164,
          84.41036987304688,
          182.9163055419922,
          179.41082763671875,
          60.63037109375,
          183.0366668701172,
          180.0041961669922,
          61.7144660949707,
          77.0605239868164,
          182.9163055419922,
          60.53802490234375,
          61.39720153808594,
          64.5102767944336,
          181.75372314453125,
          83.97555541992188,
          179.1873321533203,
          83.43362426757812,
          180.12612915039062,
          83.76543426513672,
          59.758026123046875,
          180.34828186035156,
          60.53802490234375,
          181.75372314453125,
          73.95105743408203,
          84.41036987304688,
          60.54724884033203,
          61.957611083984375,
          82.80142974853516,
          182.71136474609375,
          67.29183959960938,
          83.75975036621094,
          83.02481842041016,
          83.94186401367188,
          83.97555541992188,
          175.97059631347656,
          82.80142974853516,
          68.80517578125,
          61.957611083984375,
          179.3809051513672,
          180.0041961669922,
          82.80142974853516,
          83.38351440429688,
          67.21406555175781,
          73.58641052246094,
          67.08478546142578,
          83.75975036621094,
          67.08478546142578,
          67.08478546142578,
          83.70693969726562,
          67.85005187988281,
          179.3809051513672,
          179.33804321289062,
          82.80142974853516,
          83.38351440429688,
          179.41082763671875,
          67.85005187988281,
          182.162109375,
          183.44505310058594,
          67.87500762939453,
          77.0605239868164,
          179.33804321289062,
          180.12612915039062,
          175.97059631347656,
          182.13058471679688,
          83.76543426513672,
          179.25430297851562,
          60.54724884033203,
          83.43362426757812,
          179.31263732910156,
          179.3809051513672,
          61.7144660949707,
          65.72187805175781,
          179.3701171875,
          73.58641052246094,
          67.92648315429688,
          83.75975036621094,
          83.16757202148438,
          179.33804321289062,
          61.957611083984375,
          179.3701171875,
          65.72187805175781,
          84.41036987304688,
          179.3809051513672,
          82.29417419433594
         ]
        },
        {
         "mode": "markers",
         "name": "pos 2, corr: 0.36",
         "type": "scatter",
         "x": [
          6.099483013153076,
          7.126343727111816,
          1.00390625,
          7.126343727111816,
          10.677921295166016,
          7.133860111236572,
          7.321837902069092,
          6.016476154327393,
          1.320517659187317,
          6.973658561706543,
          6.484940052032471,
          5.723030090332031,
          1.1336904764175415,
          6.460464954376221,
          10.782906532287598,
          7.127742767333984,
          1.3491790294647217,
          6.085956573486328,
          5.718160152435303,
          1.034130573272705,
          5.830280780792236,
          10.765732765197754,
          6.013271331787109,
          1.5940594673156738,
          0.8404844999313354,
          10.760493278503418,
          10.737954139709473,
          6.431888103485107,
          6.6553521156311035,
          7.124459266662598,
          10.703557014465332,
          7.262407302856445,
          7.20229959487915,
          6.4436116218566895,
          0.791759729385376,
          6.242877960205078,
          1.0015678405761719,
          1.255194902420044,
          1.0241367816925049,
          0.746654212474823,
          1.6446975469589233,
          6.976259708404541,
          6.939955711364746,
          5.487605571746826,
          1.282042145729065,
          6.260223388671875,
          1.286608338356018,
          5.956092834472656,
          5.648972988128662,
          6.3879170417785645,
          7.352388858795166,
          6.930068016052246,
          6.163107872009277,
          5.525364398956299,
          7.302602767944336,
          10.760445594787598,
          6.216737270355225,
          7.200021266937256,
          6.482142925262451,
          0.8750120401382446,
          6.0998215675354,
          5.719982624053955,
          1.1124370098114014,
          1.1124370098114014,
          1.0502225160598755,
          6.268498420715332,
          7.302602767944336,
          6.54622745513916,
          1.0795514583587646,
          5.906294345855713,
          1.034130573272705,
          1.233484148979187,
          0.8134651184082031,
          1.1779935359954834,
          1.0449864864349365,
          6.214961051940918,
          6.54622745513916,
          1.2500194311141968,
          6.06723690032959,
          10.808832168579102,
          6.401433944702148,
          1.2315696477890015,
          1.558754324913025,
          5.902507305145264,
          5.970762252807617,
          6.007282257080078,
          5.570976734161377,
          0.8992230892181396,
          7.304845333099365,
          0.8750120401382446,
          10.765861511230469,
          0.8133127093315125,
          10.743289947509766,
          5.901011943817139,
          1.6632373332977295,
          0.9889699220657349,
          10.716114044189453,
          10.777609825134277,
          0.9301623702049255,
          7.2550048828125
         ],
         "y": [
          61.19270706176758,
          183.0174102783203,
          73.94953918457031,
          183.0174102783203,
          82.47606658935547,
          179.90614318847656,
          176.62188720703125,
          175.34913635253906,
          90.7357177734375,
          183.30088806152344,
          182.6508026123047,
          181.56082153320312,
          89.94363403320312,
          60.40422439575195,
          85.30218505859375,
          182.9400634765625,
          77.54290771484375,
          61.33205032348633,
          181.5469512939453,
          75.67632293701172,
          182.13681030273438,
          84.90408325195312,
          178.8240509033203,
          81.62043762207031,
          74.40852355957031,
          84.67094421386719,
          84.7874526977539,
          60.06308364868164,
          175.8092498779297,
          183.0232391357422,
          84.17076873779297,
          180.35244750976562,
          179.89031982421875,
          59.974395751953125,
          83.12007904052734,
          60.052181243896484,
          73.14555358886719,
          75.83023834228516,
          73.77545166015625,
          74.00694274902344,
          82.08135986328125,
          183.21885681152344,
          182.76768493652344,
          181.75042724609375,
          76.94683837890625,
          61.099544525146484,
          76.637451171875,
          60.56798553466797,
          181.50299072265625,
          182.16104125976562,
          176.65626525878906,
          183.14952087402344,
          61.080413818359375,
          181.3728790283203,
          180.0887451171875,
          84.51405334472656,
          182.29055786132812,
          180.21453857421875,
          183.24343872070312,
          71.9248275756836,
          60.62755584716797,
          182.1887969970703,
          88.50814056396484,
          88.50814056396484,
          75.53321075439453,
          61.410274505615234,
          180.0887451171875,
          179.68296813964844,
          88.41900634765625,
          178.86468505859375,
          75.67632293701172,
          75.73330688476562,
          74.4537353515625,
          89.76765441894531,
          70.97576141357422,
          61.492347717285156,
          179.68296813964844,
          90.34638214111328,
          175.370849609375,
          85.19676971435547,
          182.6299285888672,
          89.29911804199219,
          80.1666030883789,
          178.75621032714844,
          179.00738525390625,
          178.8507537841797,
          181.92274475097656,
          69.18785858154297,
          180.5310821533203,
          71.9248275756836,
          85.09011840820312,
          83.09949493408203,
          84.81852722167969,
          179.0558319091797,
          82.6360092163086,
          72.41680908203125,
          82.83634185791016,
          84.94355010986328,
          70.64591217041016,
          176.58547973632812
         ]
        },
        {
         "mode": "markers",
         "name": "pos 3, corr: 0.31",
         "type": "scatter",
         "x": [
          10.876749038696289,
          6.613197326660156,
          1.3669052124023438,
          5.951793670654297,
          6.0347795486450195,
          6.751413822174072,
          1.4942631721496582,
          6.756904125213623,
          6.6482110023498535,
          7.165156841278076,
          1.2987784147262573,
          1.3112201690673828,
          0.809804379940033,
          6.7902350425720215,
          1.3594939708709717,
          1.1918314695358276,
          10.978119850158691,
          10.976534843444824,
          5.893967628479004,
          1.3210529088974,
          1.451602578163147,
          1.1575528383255005,
          6.908716201782227,
          1.3733099699020386,
          1.4576640129089355,
          10.875665664672852,
          6.713471412658691,
          6.6973042488098145,
          1.482060432434082,
          1.1103490591049194,
          1.2095869779586792,
          7.367847919464111,
          7.321503639221191,
          6.611416339874268,
          1.4221656322479248,
          1.4099712371826172,
          6.595583915710449,
          10.927532196044922,
          6.486429691314697,
          7.010672569274902,
          5.772314071655273,
          7.169506549835205,
          7.136662483215332,
          1.431261658668518,
          11.010076522827148,
          1.0180771350860596,
          10.937969207763672,
          1.713881015777588,
          1.282287836074829,
          1.491803526878357,
          0.7943950295448303,
          7.128732204437256,
          1.5741864442825317,
          6.619621753692627,
          0.9044191837310791,
          0.9806374311447144,
          1.4321668148040771,
          7.32073450088501,
          1.1118519306182861,
          7.1845502853393555,
          5.624436855316162,
          1.1474416255950928,
          6.389199256896973,
          5.558229923248291,
          1.198274850845337,
          0.991685688495636,
          10.927351951599121,
          6.701379299163818,
          6.328729629516602,
          6.83722448348999,
          5.8948564529418945,
          6.78468132019043,
          11.017327308654785,
          5.736133098602295,
          1.5490293502807617,
          10.974059104919434,
          7.3435163497924805,
          6.562094688415527,
          10.931438446044922,
          1.0602003335952759,
          6.5801262855529785,
          1.2098811864852905,
          1.4867193698883057,
          1.1646745204925537,
          0.8912550806999207,
          0.8949590921401978,
          11.011429786682129,
          6.772700786590576,
          1.4478464126586914,
          0.8797509670257568,
          10.87020206451416,
          7.119857311248779,
          6.538019180297852,
          10.888138771057129,
          6.478755474090576,
          6.738619327545166,
          6.804704666137695,
          10.893446922302246,
          1.4513684511184692,
          7.3747968673706055
         ],
         "y": [
          86.02213287353516,
          182.3560791015625,
          78.51937866210938,
          181.8531036376953,
          175.37603759765625,
          60.59298324584961,
          88.75132751464844,
          175.91378784179688,
          63.52238845825195,
          183.48252868652344,
          87.0145263671875,
          87.97550964355469,
          88.8959732055664,
          61.86045837402344,
          89.05750274658203,
          76.4333267211914,
          87.0610122680664,
          86.88936614990234,
          181.7246856689453,
          88.70126342773438,
          88.20836639404297,
          73.54103088378906,
          61.65122604370117,
          87.66670989990234,
          80.82147216796875,
          85.7373275756836,
          61.110313415527344,
          175.94091796875,
          87.6051254272461,
          70.7042236328125,
          74.716064453125,
          180.45968627929688,
          180.0262908935547,
          182.51544189453125,
          80.5197982788086,
          78.98348999023438,
          183.03204345703125,
          84.28289794921875,
          182.91000366210938,
          182.8673553466797,
          182.29055786132812,
          183.39646911621094,
          182.95652770996094,
          80.54358673095703,
          87.42801666259766,
          70.32025909423828,
          86.87551879882812,
          84.63021850585938,
          77.43991088867188,
          89.76553344726562,
          69.21528625488281,
          183.34051513671875,
          81.67620849609375,
          63.32229995727539,
          71.01446533203125,
          72.07215118408203,
          80.80502319335938,
          180.34674072265625,
          74.48579406738281,
          183.56129455566406,
          182.2322540283203,
          74.72233581542969,
          62.261775970458984,
          181.37408447265625,
          75.9889907836914,
          70.2176513671875,
          86.31964111328125,
          179.8424072265625,
          61.989112854003906,
          61.00645065307617,
          182.55873107910156,
          62.89678192138672,
          87.20909118652344,
          181.61741638183594,
          89.0503158569336,
          86.81092834472656,
          180.6640167236328,
          182.44715881347656,
          85.17552185058594,
          73.09724426269531,
          182.8061981201172,
          87.89510345458984,
          88.49244689941406,
          72.22435760498047,
          70.31481170654297,
          70.49633026123047,
          87.11454772949219,
          175.42156982421875,
          88.03024291992188,
          70.52813720703125,
          86.08385467529297,
          183.54238891601562,
          182.81234741210938,
          85.76547241210938,
          182.16246032714844,
          63.41716766357422,
          61.649845123291016,
          86.07035827636719,
          87.17005157470703,
          176.6967010498047
         ]
        },
        {
         "mode": "markers",
         "name": "pos 4, corr: 0.39",
         "type": "scatter",
         "x": [
          6.840221405029297,
          1.479456901550293,
          0.8999670147895813,
          1.5127959251403809,
          7.203418731689453,
          10.207366943359375,
          0.9075368046760559,
          6.690382480621338,
          7.7968292236328125,
          2.582479238510132,
          2.624736785888672,
          6.8740410804748535,
          6.702264785766602,
          6.359130859375,
          10.222301483154297,
          6.460123062133789,
          0.981539785861969,
          6.0787248611450195,
          7.860191345214844,
          0.7853237986564636,
          5.920706748962402,
          0.9695993065834045,
          2.318631887435913,
          6.779822826385498,
          5.868782997131348,
          5.8717803955078125,
          10.223432540893555,
          10.31763744354248,
          2.322990894317627,
          10.304183959960938,
          5.869004726409912,
          6.214083671569824,
          2.2018136978149414,
          1.4659390449523926,
          1.1797226667404175,
          6.307180404663086,
          2.2917754650115967,
          2.445012092590332,
          0.8895738124847412,
          5.680724620819092,
          6.290904521942139,
          1.4921740293502808,
          7.73342227935791,
          2.638765811920166,
          2.4643778800964355,
          6.160306453704834,
          1.3902884721755981,
          10.300660133361816,
          7.041240692138672,
          6.236894130706787,
          6.209968566894531,
          6.895916938781738,
          5.898491859436035,
          7.613791465759277,
          10.290305137634277,
          6.164565086364746,
          6.950923442840576,
          7.1882405281066895,
          0.8735149502754211,
          0.804404616355896,
          7.631785869598389,
          2.343095302581787,
          5.620700836181641,
          10.340071678161621,
          1.3875305652618408,
          0.825980007648468,
          6.15396785736084,
          1.5405874252319336,
          3.07305645942688,
          6.436315059661865,
          10.27365779876709,
          10.31040096282959,
          0.8128957748413086,
          7.73354959487915,
          5.98346471786499,
          2.6610050201416016,
          1.5535141229629517,
          7.08491325378418,
          6.1612677574157715,
          2.6493899822235107,
          0.8153405785560608,
          5.769182205200195,
          6.805899620056152,
          7.0336079597473145,
          6.653892517089844,
          8.061588287353516,
          5.915679454803467,
          8.087355613708496,
          2.3554744720458984,
          1.1824781894683838,
          5.923414707183838,
          5.817834377288818,
          1.3218317031860352,
          7.152497291564941,
          7.78021764755249,
          1.361057162284851,
          7.096367359161377,
          6.838883876800537,
          0.8631744384765625,
          6.138316631317139
         ],
         "y": [
          183.02133178710938,
          96.18304443359375,
          76.36053466796875,
          96.66944885253906,
          176.1427459716797,
          83.66776275634766,
          84.01641082763672,
          175.81080627441406,
          183.7390594482422,
          88.89167022705078,
          90.04365539550781,
          182.67018127441406,
          182.16209411621094,
          182.20091247558594,
          84.43476104736328,
          182.0825958251953,
          78.75640106201172,
          182.37538146972656,
          183.4524383544922,
          84.43878936767578,
          60.75486755371094,
          79.3630142211914,
          83.64193725585938,
          182.6919403076172,
          59.50347900390625,
          60.10765075683594,
          84.24141693115234,
          86.5964126586914,
          83.62157440185547,
          88.21363067626953,
          59.67372131347656,
          59.39449691772461,
          82.03753662109375,
          95.89163208007812,
          94.37923431396484,
          174.39112854003906,
          83.61188507080078,
          84.97889709472656,
          76.378662109375,
          58.34325408935547,
          182.5751495361328,
          97.0183334350586,
          183.33145141601562,
          89.90209197998047,
          85.68150329589844,
          182.6293487548828,
          96.4189453125,
          87.90127563476562,
          182.50985717773438,
          182.51370239257812,
          60.21352767944336,
          182.7579803466797,
          59.6334114074707,
          183.23020935058594,
          86.1558837890625,
          60.333518981933594,
          182.8262481689453,
          179.9928436279297,
          74.78460693359375,
          76.13153076171875,
          183.99774169921875,
          83.39347076416016,
          60.200347900390625,
          88.02484893798828,
          95.7132568359375,
          76.62818908691406,
          59.001163482666016,
          96.63673400878906,
          99.50875854492188,
          182.2575225830078,
          87.76383209228516,
          88.27276611328125,
          78.70465850830078,
          183.36474609375,
          60.33143997192383,
          89.60659790039062,
          97.16384887695312,
          182.74273681640625,
          60.180599212646484,
          90.25556182861328,
          77.54705047607422,
          59.57547378540039,
          182.90985107421875,
          183.5570831298828,
          174.84849548339844,
          176.22418212890625,
          60.071372985839844,
          176.68804931640625,
          84.79164123535156,
          94.01765441894531,
          59.74012756347656,
          59.52836990356445,
          96.23455047607422,
          180.0072479248047,
          183.39178466796875,
          95.14680480957031,
          175.95431518554688,
          182.9728546142578,
          82.29170227050781,
          60.05951690673828
         ]
        },
        {
         "mode": "markers",
         "name": "pos 5, corr: 0.29",
         "type": "scatter",
         "x": [
          6.438533782958984,
          5.845891952514648,
          5.751181125640869,
          10.982128143310547,
          7.149582862854004,
          1.7975932359695435,
          7.022432327270508,
          6.122591972351074,
          1.0435088872909546,
          11.049932479858398,
          1.1124632358551025,
          11.029431343078613,
          7.104729652404785,
          7.244029998779297,
          1.2492663860321045,
          1.5776655673980713,
          1.2877508401870728,
          5.699023246765137,
          1.571553349494934,
          1.0874840021133423,
          7.125603199005127,
          1.5968390703201294,
          1.7349538803100586,
          7.148524761199951,
          1.1725494861602783,
          1.267805576324463,
          6.444406986236572,
          6.664133071899414,
          10.993149757385254,
          1.65267813205719,
          1.381842017173767,
          0.9244189262390137,
          6.671929836273193,
          1.1459741592407227,
          1.4118515253067017,
          1.1786162853240967,
          7.17271614074707,
          5.9756855964660645,
          5.755382537841797,
          1.0842610597610474,
          5.8629961013793945,
          1.3234320878982544,
          7.05629825592041,
          6.534612655639648,
          1.2884284257888794,
          11.069761276245117,
          6.952890396118164,
          10.988637924194336,
          1.6189053058624268,
          5.811999320983887,
          10.967952728271484,
          1.1546952724456787,
          6.3529839515686035,
          6.412528038024902,
          6.068359851837158,
          7.145596981048584,
          7.244131565093994,
          10.967966079711914,
          1.1360337734222412,
          7.139285564422607,
          1.5351407527923584,
          11.002737998962402,
          1.6394474506378174,
          6.8538031578063965,
          6.476947784423828,
          7.017099857330322,
          6.586371421813965,
          7.2566938400268555,
          6.289103031158447,
          1.390067458152771,
          1.0511939525604248,
          1.295782208442688,
          6.8762383460998535,
          1.4658743143081665,
          5.831310749053955,
          7.202991485595703,
          5.90167760848999,
          10.981034278869629,
          7.318574905395508,
          6.487479209899902,
          1.466864824295044,
          10.970465660095215,
          7.152775764465332,
          1.025286316871643,
          10.967347145080566,
          0.7952151894569397,
          6.986223220825195,
          10.972411155700684,
          1.57747220993042,
          1.0444391965866089,
          10.88321304321289,
          5.7088117599487305,
          6.930305480957031,
          1.4035053253173828,
          7.0871100425720215,
          1.1530293226242065,
          1.3765636682510376,
          10.929692268371582,
          7.207350254058838,
          6.606707572937012
         ],
         "y": [
          182.75546264648438,
          182.2477569580078,
          182.2171630859375,
          87.49696350097656,
          66.32195281982422,
          93.40968322753906,
          67.67908477783203,
          175.35037231445312,
          71.46724700927734,
          87.81034851074219,
          86.4125747680664,
          87.52672576904297,
          182.81182861328125,
          183.20681762695312,
          75.15055084228516,
          89.81555938720703,
          76.89823150634766,
          182.12734985351562,
          90.24419403076172,
          84.56766510009766,
          183.4620819091797,
          90.39976501464844,
          90.11896514892578,
          183.31613159179688,
          72.6350326538086,
          75.28068542480469,
          182.4512481689453,
          175.8080291748047,
          87.85086059570312,
          90.80740356445312,
          76.98482513427734,
          68.90797424316406,
          174.20925903320312,
          72.94267272949219,
          78.34078979492188,
          78.5780258178711,
          67.71340942382812,
          174.36642456054688,
          182.2139892578125,
          72.95326232910156,
          182.27838134765625,
          75.36210632324219,
          67.92859649658203,
          182.54554748535156,
          73.131591796875,
          88.13406372070312,
          67.52787780761719,
          86.99681854248047,
          91.05081939697266,
          182.22479248046875,
          85.31148529052734,
          73.6491470336914,
          183.03587341308594,
          181.99472045898438,
          174.2841796875,
          66.84651947021484,
          183.3782501220703,
          86.68345642089844,
          74.19346618652344,
          183.3907928466797,
          89.9915771484375,
          87.70938110351562,
          79.25680541992188,
          67.3777084350586,
          182.61007690429688,
          183.28099060058594,
          182.69419860839844,
          183.8119354248047,
          181.83091735839844,
          74.24588775634766,
          70.88816833496094,
          73.05806732177734,
          66.98417663574219,
          89.93407440185547,
          182.45266723632812,
          182.96421813964844,
          182.46578979492188,
          87.4036865234375,
          176.5599365234375,
          182.91371154785156,
          87.87660217285156,
          87.19436645507812,
          183.5188751220703,
          70.65013885498047,
          85.0228500366211,
          70.33784484863281,
          67.12651062011719,
          85.3427963256836,
          89.57879638671875,
          92.34738159179688,
          86.41986083984375,
          182.07803344726562,
          67.68599700927734,
          74.5297622680664,
          67.85939025878906,
          93.4975357055664,
          73.9759292602539,
          86.5962905883789,
          183.72422790527344,
          175.68057250976562
         ]
        },
        {
         "mode": "markers",
         "name": "pos 6, corr: 0.38",
         "type": "scatter",
         "x": [
          7.594910621643066,
          6.1886305809021,
          6.758607864379883,
          6.795172214508057,
          1.421260952949524,
          6.699163436889648,
          6.726735591888428,
          7.109707355499268,
          7.685138702392578,
          6.186387062072754,
          6.710045337677002,
          6.123664379119873,
          10.504842758178711,
          6.245429039001465,
          6.795446395874023,
          1.517513632774353,
          1.2042192220687866,
          6.719329833984375,
          7.594432830810547,
          1.0031256675720215,
          6.773359775543213,
          7.361093997955322,
          10.479714393615723,
          10.531577110290527,
          1.0786895751953125,
          6.74975061416626,
          6.174519062042236,
          1.845544457435608,
          6.963741779327393,
          1.1628650426864624,
          7.488158702850342,
          6.350306987762451,
          7.0484938621521,
          10.462664604187012,
          7.511415004730225,
          2.0620720386505127,
          1.6595494747161865,
          6.975008964538574,
          2.14085054397583,
          5.770945072174072,
          7.650154113769531,
          2.2259364128112793,
          6.748485088348389,
          7.665219783782959,
          1.181881308555603,
          7.550558090209961,
          2.2884504795074463,
          5.982733249664307,
          7.596412181854248,
          7.60370397567749,
          7.776597023010254,
          1.0937005281448364,
          10.506038665771484,
          6.771615505218506,
          1.725108027458191,
          1.836440920829773,
          6.214680194854736,
          10.452644348144531,
          6.752134799957275,
          1.5274763107299805,
          5.922477722167969,
          6.300583362579346,
          10.503832817077637,
          10.475764274597168,
          1.5838432312011719,
          7.425290584564209,
          6.934171199798584,
          1.6816366910934448,
          5.924990177154541,
          1.2865427732467651,
          1.9486805200576782,
          6.741342544555664,
          10.449679374694824,
          6.689602375030518,
          1.2890617847442627,
          2.127596616744995,
          7.6791791915893555,
          6.936540603637695,
          6.9302659034729,
          6.848111152648926,
          7.510023593902588,
          1.1252697706222534,
          1.6434720754623413,
          6.951450347900391,
          6.427154541015625,
          6.491488933563232,
          6.627913475036621,
          7.087715148925781,
          7.623805522918701,
          7.285581111907959,
          7.536381244659424,
          1.1285451650619507,
          10.407873153686523,
          1.941217303276062,
          6.780394554138184,
          2.3167335987091064,
          1.7119499444961548,
          6.763023853302002,
          6.8067779541015625,
          6.3545002937316895
         ],
         "y": [
          183.93670654296875,
          182.49783325195312,
          182.9733123779297,
          67.7019271850586,
          75.5639419555664,
          67.06839752197266,
          67.11548614501953,
          176.08676147460938,
          183.675048828125,
          182.369384765625,
          66.73616790771484,
          182.1463623046875,
          89.08452606201172,
          182.12867736816406,
          182.76344299316406,
          91.19085693359375,
          77.97711944580078,
          182.89512634277344,
          183.879150390625,
          82.69412231445312,
          67.65148162841797,
          183.77108764648438,
          89.416748046875,
          89.39667510986328,
          72.83699035644531,
          67.1099624633789,
          182.22891235351562,
          92.22228240966797,
          183.21617126464844,
          89.82171630859375,
          184.17745971679688,
          174.66876220703125,
          174.51026916503906,
          89.21412658691406,
          183.33535766601562,
          77.21733093261719,
          91.27700805664062,
          175.1304473876953,
          80.33292388916016,
          181.56724548339844,
          183.93597412109375,
          81.08011627197266,
          67.39012145996094,
          183.72235107421875,
          73.70919799804688,
          184.00076293945312,
          82.83973693847656,
          181.99014282226562,
          184.00201416015625,
          183.88587951660156,
          176.40809631347656,
          74.4549789428711,
          89.36400604248047,
          67.49918365478516,
          73.40814971923828,
          93.37962341308594,
          182.30459594726562,
          86.31514739990234,
          66.53553009033203,
          91.07193756103516,
          182.18634033203125,
          182.59654235839844,
          88.837890625,
          88.47935485839844,
          95.2770767211914,
          183.60438537597656,
          65.74181365966797,
          96.01878356933594,
          181.61544799804688,
          74.9093017578125,
          76.34561920166016,
          66.5892105102539,
          86.88066864013672,
          182.32984924316406,
          83.67737579345703,
          88.86981964111328,
          184.1100616455078,
          182.65380859375,
          66.82694244384766,
          183.18435668945312,
          183.76168823242188,
          84.42789459228516,
          91.98368072509766,
          183.5221405029297,
          174.6741180419922,
          174.7757110595703,
          182.65228271484375,
          175.55844116210938,
          183.91409301757812,
          183.08380126953125,
          184.23269653320312,
          75.15548706054688,
          88.0779800415039,
          76.97200775146484,
          67.4491958618164,
          84.42451477050781,
          92.66703033447266,
          182.9457550048828,
          67.26922607421875,
          175.56463623046875
         ]
        },
        {
         "mode": "markers",
         "name": "pos 7, corr: 0.27",
         "type": "scatter",
         "x": [
          1.4853928089141846,
          10.181764602661133,
          2.410198211669922,
          10.10538101196289,
          5.770664215087891,
          1.5798641443252563,
          2.4742095470428467,
          1.6914045810699463,
          7.2628021240234375,
          1.5647103786468506,
          5.546166896820068,
          1.4139741659164429,
          7.060237884521484,
          1.1941633224487305,
          2.3719239234924316,
          1.297298550605774,
          2.533715009689331,
          5.650362968444824,
          1.3517563343048096,
          1.2623907327651978,
          1.1069514751434326,
          6.118114948272705,
          6.089266300201416,
          7.103255748748779,
          0.9183125495910645,
          1.590938687324524,
          6.1190690994262695,
          1.1554111242294312,
          6.148060321807861,
          0.9867456555366516,
          1.1833230257034302,
          1.6862828731536865,
          7.412269115447998,
          2.3312900066375732,
          2.4801223278045654,
          10.190886497497559,
          6.313856601715088,
          7.337345123291016,
          10.219983100891113,
          1.2950708866119385,
          6.421813011169434,
          5.679548263549805,
          1.4943429231643677,
          5.790381908416748,
          1.0062490701675415,
          6.3101887702941895,
          10.126227378845215,
          5.575354099273682,
          10.167128562927246,
          7.1848320960998535,
          7.353673934936523,
          10.205378532409668,
          2.562497615814209,
          1.096326231956482,
          7.422922611236572,
          6.289673805236816,
          7.248068809509277,
          10.134982109069824,
          0.9598662257194519,
          2.5971570014953613,
          1.3433518409729004,
          1.1680552959442139,
          5.394214630126953,
          5.828750133514404,
          5.929642677307129,
          7.016597747802734,
          10.124802589416504,
          7.156121730804443,
          10.210121154785156,
          6.268256187438965,
          1.584329605102539,
          7.015789031982422,
          5.852507591247559,
          6.270753860473633,
          2.472674608230591,
          5.78956937789917,
          1.1297246217727661,
          1.0487297773361206,
          6.160328388214111,
          2.356475591659546,
          10.144095420837402,
          2.5969350337982178,
          5.5259599685668945,
          6.1951470375061035,
          6.60591459274292,
          6.331782817840576,
          6.002281188964844,
          10.185785293579102,
          10.165663719177246,
          6.035828113555908,
          5.684931755065918,
          5.516211986541748,
          1.4451600313186646,
          6.484522819519043,
          5.577098369598389,
          0.9552991390228271,
          1.057657241821289,
          10.103818893432617,
          1.0271493196487427,
          6.52919864654541
         ],
         "y": [
          99.22383117675781,
          85.0771713256836,
          87.9732894897461,
          86.89286041259766,
          182.6516876220703,
          100.18769073486328,
          91.10741424560547,
          97.35173797607422,
          183.1480712890625,
          99.01925659179688,
          181.58059692382812,
          97.9923324584961,
          182.61160278320312,
          79.66646575927734,
          87.48018646240234,
          95.99088287353516,
          90.2059097290039,
          181.88417053222656,
          97.25868225097656,
          96.64274597167969,
          83.66876220703125,
          182.30474853515625,
          62.952091217041016,
          183.08738708496094,
          77.92848205566406,
          99.90705871582031,
          60.95558166503906,
          91.28313446044922,
          62.877777099609375,
          89.0997085571289,
          82.57328033447266,
          98.1676254272461,
          174.9325714111328,
          86.82080078125,
          89.4364242553711,
          82.37056732177734,
          182.42208862304688,
          175.5638885498047,
          85.3294677734375,
          96.65245819091797,
          182.47544860839844,
          181.8470001220703,
          98.33008575439453,
          181.79183959960938,
          79.05408477783203,
          182.5537109375,
          86.067626953125,
          181.4681396484375,
          84.1485595703125,
          183.36520385742188,
          175.85092163085938,
          85.09659576416016,
          90.9632568359375,
          80.56488037109375,
          175.44114685058594,
          182.67164611816406,
          183.19277954101562,
          86.11699676513672,
          77.10033416748047,
          93.39273834228516,
          97.07494354248047,
          81.51457977294922,
          181.0284423828125,
          66.5213851928711,
          61.64160919189453,
          183.1027069091797,
          86.51722717285156,
          183.48487854003906,
          84.79783630371094,
          182.79611206054688,
          98.53108215332031,
          183.71119689941406,
          66.1751480102539,
          181.80349731445312,
          89.06734466552734,
          181.37014770507812,
          96.9415283203125,
          86.6695785522461,
          65.72293090820312,
          89.59630584716797,
          84.75080108642578,
          92.5379638671875,
          181.7168426513672,
          62.55316162109375,
          174.53274536132812,
          62.814937591552734,
          66.42831420898438,
          84.81121826171875,
          85.04670715332031,
          181.60047912597656,
          182.3190460205078,
          181.7345428466797,
          97.32505798339844,
          183.29054260253906,
          181.15676879882812,
          93.92138671875,
          92.17440795898438,
          86.04209899902344,
          81.00321960449219,
          175.43312072753906
         ]
        },
        {
         "mode": "markers",
         "name": "pos 8, corr: 0.47",
         "type": "scatter",
         "x": [
          8.032651901245117,
          11.124648094177246,
          6.805017948150635,
          11.07026195526123,
          8.149761199951172,
          1.0329664945602417,
          2.1390998363494873,
          2.168191909790039,
          8.20888614654541,
          6.7262701988220215,
          8.062689781188965,
          8.037014961242676,
          8.055473327636719,
          6.784873008728027,
          7.8280816078186035,
          7.2791428565979,
          6.752195358276367,
          2.15350079536438,
          1.995392084121704,
          1.2734887599945068,
          6.595685958862305,
          11.15318489074707,
          6.754117488861084,
          0.8594529628753662,
          6.496145248413086,
          2.159959077835083,
          0.8021321892738342,
          2.1446948051452637,
          1.6876248121261597,
          2.036616802215576,
          1.0034359693527222,
          7.467187404632568,
          1.6948169469833374,
          2.1760566234588623,
          6.7487664222717285,
          0.7498558163642883,
          0.8069155812263489,
          11.147506713867188,
          6.768290996551514,
          1.960265040397644,
          8.184255599975586,
          0.834153413772583,
          1.6189348697662354,
          2.0821805000305176,
          2.048943281173706,
          1.6424694061279297,
          8.042800903320312,
          7.334592342376709,
          6.769982814788818,
          11.154906272888184,
          0.47095829248428345,
          8.074884414672852,
          7.359249591827393,
          7.976085186004639,
          8.297697067260742,
          1.6903867721557617,
          7.890670299530029,
          0.5654951333999634,
          11.18027400970459,
          0.9904927015304565,
          6.551784038543701,
          7.453591346740723,
          1.0736466646194458,
          2.0993926525115967,
          7.737462520599365,
          2.0481719970703125,
          6.825904846191406,
          2.086151123046875,
          8.020035743713379,
          2.1365787982940674,
          11.099411964416504,
          7.3160200119018555,
          7.908564567565918,
          7.400691509246826,
          2.1591007709503174,
          8.17895221710205,
          6.784979820251465,
          7.459208011627197,
          2.2974722385406494,
          2.1210546493530273,
          7.759097576141357,
          7.298657417297363,
          8.042795181274414,
          7.915512561798096,
          11.126884460449219,
          6.972397327423096,
          7.778712749481201,
          0.47724631428718567,
          1.6030051708221436,
          6.584408283233643,
          11.052918434143066,
          0.8727046847343445,
          6.573691368103027,
          11.123740196228027,
          2.1591174602508545,
          7.742428302764893,
          7.760719299316406,
          6.742342472076416,
          7.803734302520752,
          7.954799652099609
         ],
         "y": [
          183.95867919921875,
          91.77798461914062,
          183.03927612304688,
          91.16963195800781,
          184.9327850341797,
          61.14793395996094,
          88.88250732421875,
          91.85430908203125,
          184.06381225585938,
          182.77987670898438,
          183.95648193359375,
          183.83226013183594,
          183.5550994873047,
          183.2340850830078,
          66.5873031616211,
          182.84056091308594,
          182.59300231933594,
          89.76886749267578,
          93.45345306396484,
          64.2320556640625,
          182.80404663085938,
          91.84477233886719,
          183.24610900878906,
          78.587646484375,
          182.38902282714844,
          96.00005340576172,
          56.70445251464844,
          90.91637420654297,
          72.34444427490234,
          88.56092834472656,
          73.99765014648438,
          183.65296936035156,
          70.8868179321289,
          91.45845031738281,
          182.4623260498047,
          77.93417358398438,
          82.64237213134766,
          89.37043762207031,
          183.00289916992188,
          92.83960723876953,
          184.3218231201172,
          81.18408966064453,
          97.14148712158203,
          87.62078094482422,
          88.16649627685547,
          72.34732055664062,
          184.0320281982422,
          183.05596923828125,
          183.0563201904297,
          91.91769409179688,
          68.86470794677734,
          184.07933044433594,
          183.80943298339844,
          184.0379638671875,
          176.41575622558594,
          93.30522918701172,
          64.74116516113281,
          53.317047119140625,
          92.08434295654297,
          89.79481506347656,
          182.25039672851562,
          183.54159545898438,
          78.2798843383789,
          90.16938018798828,
          74.49787902832031,
          87.66316223144531,
          182.81195068359375,
          93.62149047851562,
          183.49093627929688,
          88.72300720214844,
          91.49601745605469,
          183.83941650390625,
          183.64016723632812,
          182.92501831054688,
          89.85799407958984,
          183.72071838378906,
          183.10955810546875,
          183.1705780029297,
          89.99993133544922,
          88.57308959960938,
          73.9542007446289,
          183.02870178222656,
          184.12388610839844,
          62.49350357055664,
          89.30455017089844,
          175.20448303222656,
          73.91278839111328,
          68.89733123779297,
          78.43840789794922,
          182.27188110351562,
          90.9522476196289,
          58.082008361816406,
          182.4849395751953,
          92.07217407226562,
          88.33035278320312,
          74.98394775390625,
          74.40898132324219,
          182.93307495117188,
          74.13928985595703,
          62.72441482543945
         ]
        }
       ],
       "layout": {
        "template": {
         "data": {
          "bar": [
           {
            "error_x": {
             "color": "#2a3f5f"
            },
            "error_y": {
             "color": "#2a3f5f"
            },
            "marker": {
             "line": {
              "color": "#E5ECF6",
              "width": 0.5
             },
             "pattern": {
              "fillmode": "overlay",
              "size": 10,
              "solidity": 0.2
             }
            },
            "type": "bar"
           }
          ],
          "barpolar": [
           {
            "marker": {
             "line": {
              "color": "#E5ECF6",
              "width": 0.5
             },
             "pattern": {
              "fillmode": "overlay",
              "size": 10,
              "solidity": 0.2
             }
            },
            "type": "barpolar"
           }
          ],
          "carpet": [
           {
            "aaxis": {
             "endlinecolor": "#2a3f5f",
             "gridcolor": "white",
             "linecolor": "white",
             "minorgridcolor": "white",
             "startlinecolor": "#2a3f5f"
            },
            "baxis": {
             "endlinecolor": "#2a3f5f",
             "gridcolor": "white",
             "linecolor": "white",
             "minorgridcolor": "white",
             "startlinecolor": "#2a3f5f"
            },
            "type": "carpet"
           }
          ],
          "choropleth": [
           {
            "colorbar": {
             "outlinewidth": 0,
             "ticks": ""
            },
            "type": "choropleth"
           }
          ],
          "contour": [
           {
            "colorbar": {
             "outlinewidth": 0,
             "ticks": ""
            },
            "colorscale": [
             [
              0,
              "#0d0887"
             ],
             [
              0.1111111111111111,
              "#46039f"
             ],
             [
              0.2222222222222222,
              "#7201a8"
             ],
             [
              0.3333333333333333,
              "#9c179e"
             ],
             [
              0.4444444444444444,
              "#bd3786"
             ],
             [
              0.5555555555555556,
              "#d8576b"
             ],
             [
              0.6666666666666666,
              "#ed7953"
             ],
             [
              0.7777777777777778,
              "#fb9f3a"
             ],
             [
              0.8888888888888888,
              "#fdca26"
             ],
             [
              1,
              "#f0f921"
             ]
            ],
            "type": "contour"
           }
          ],
          "contourcarpet": [
           {
            "colorbar": {
             "outlinewidth": 0,
             "ticks": ""
            },
            "type": "contourcarpet"
           }
          ],
          "heatmap": [
           {
            "colorbar": {
             "outlinewidth": 0,
             "ticks": ""
            },
            "colorscale": [
             [
              0,
              "#0d0887"
             ],
             [
              0.1111111111111111,
              "#46039f"
             ],
             [
              0.2222222222222222,
              "#7201a8"
             ],
             [
              0.3333333333333333,
              "#9c179e"
             ],
             [
              0.4444444444444444,
              "#bd3786"
             ],
             [
              0.5555555555555556,
              "#d8576b"
             ],
             [
              0.6666666666666666,
              "#ed7953"
             ],
             [
              0.7777777777777778,
              "#fb9f3a"
             ],
             [
              0.8888888888888888,
              "#fdca26"
             ],
             [
              1,
              "#f0f921"
             ]
            ],
            "type": "heatmap"
           }
          ],
          "heatmapgl": [
           {
            "colorbar": {
             "outlinewidth": 0,
             "ticks": ""
            },
            "colorscale": [
             [
              0,
              "#0d0887"
             ],
             [
              0.1111111111111111,
              "#46039f"
             ],
             [
              0.2222222222222222,
              "#7201a8"
             ],
             [
              0.3333333333333333,
              "#9c179e"
             ],
             [
              0.4444444444444444,
              "#bd3786"
             ],
             [
              0.5555555555555556,
              "#d8576b"
             ],
             [
              0.6666666666666666,
              "#ed7953"
             ],
             [
              0.7777777777777778,
              "#fb9f3a"
             ],
             [
              0.8888888888888888,
              "#fdca26"
             ],
             [
              1,
              "#f0f921"
             ]
            ],
            "type": "heatmapgl"
           }
          ],
          "histogram": [
           {
            "marker": {
             "pattern": {
              "fillmode": "overlay",
              "size": 10,
              "solidity": 0.2
             }
            },
            "type": "histogram"
           }
          ],
          "histogram2d": [
           {
            "colorbar": {
             "outlinewidth": 0,
             "ticks": ""
            },
            "colorscale": [
             [
              0,
              "#0d0887"
             ],
             [
              0.1111111111111111,
              "#46039f"
             ],
             [
              0.2222222222222222,
              "#7201a8"
             ],
             [
              0.3333333333333333,
              "#9c179e"
             ],
             [
              0.4444444444444444,
              "#bd3786"
             ],
             [
              0.5555555555555556,
              "#d8576b"
             ],
             [
              0.6666666666666666,
              "#ed7953"
             ],
             [
              0.7777777777777778,
              "#fb9f3a"
             ],
             [
              0.8888888888888888,
              "#fdca26"
             ],
             [
              1,
              "#f0f921"
             ]
            ],
            "type": "histogram2d"
           }
          ],
          "histogram2dcontour": [
           {
            "colorbar": {
             "outlinewidth": 0,
             "ticks": ""
            },
            "colorscale": [
             [
              0,
              "#0d0887"
             ],
             [
              0.1111111111111111,
              "#46039f"
             ],
             [
              0.2222222222222222,
              "#7201a8"
             ],
             [
              0.3333333333333333,
              "#9c179e"
             ],
             [
              0.4444444444444444,
              "#bd3786"
             ],
             [
              0.5555555555555556,
              "#d8576b"
             ],
             [
              0.6666666666666666,
              "#ed7953"
             ],
             [
              0.7777777777777778,
              "#fb9f3a"
             ],
             [
              0.8888888888888888,
              "#fdca26"
             ],
             [
              1,
              "#f0f921"
             ]
            ],
            "type": "histogram2dcontour"
           }
          ],
          "mesh3d": [
           {
            "colorbar": {
             "outlinewidth": 0,
             "ticks": ""
            },
            "type": "mesh3d"
           }
          ],
          "parcoords": [
           {
            "line": {
             "colorbar": {
              "outlinewidth": 0,
              "ticks": ""
             }
            },
            "type": "parcoords"
           }
          ],
          "pie": [
           {
            "automargin": true,
            "type": "pie"
           }
          ],
          "scatter": [
           {
            "fillpattern": {
             "fillmode": "overlay",
             "size": 10,
             "solidity": 0.2
            },
            "type": "scatter"
           }
          ],
          "scatter3d": [
           {
            "line": {
             "colorbar": {
              "outlinewidth": 0,
              "ticks": ""
             }
            },
            "marker": {
             "colorbar": {
              "outlinewidth": 0,
              "ticks": ""
             }
            },
            "type": "scatter3d"
           }
          ],
          "scattercarpet": [
           {
            "marker": {
             "colorbar": {
              "outlinewidth": 0,
              "ticks": ""
             }
            },
            "type": "scattercarpet"
           }
          ],
          "scattergeo": [
           {
            "marker": {
             "colorbar": {
              "outlinewidth": 0,
              "ticks": ""
             }
            },
            "type": "scattergeo"
           }
          ],
          "scattergl": [
           {
            "marker": {
             "colorbar": {
              "outlinewidth": 0,
              "ticks": ""
             }
            },
            "type": "scattergl"
           }
          ],
          "scattermapbox": [
           {
            "marker": {
             "colorbar": {
              "outlinewidth": 0,
              "ticks": ""
             }
            },
            "type": "scattermapbox"
           }
          ],
          "scatterpolar": [
           {
            "marker": {
             "colorbar": {
              "outlinewidth": 0,
              "ticks": ""
             }
            },
            "type": "scatterpolar"
           }
          ],
          "scatterpolargl": [
           {
            "marker": {
             "colorbar": {
              "outlinewidth": 0,
              "ticks": ""
             }
            },
            "type": "scatterpolargl"
           }
          ],
          "scatterternary": [
           {
            "marker": {
             "colorbar": {
              "outlinewidth": 0,
              "ticks": ""
             }
            },
            "type": "scatterternary"
           }
          ],
          "surface": [
           {
            "colorbar": {
             "outlinewidth": 0,
             "ticks": ""
            },
            "colorscale": [
             [
              0,
              "#0d0887"
             ],
             [
              0.1111111111111111,
              "#46039f"
             ],
             [
              0.2222222222222222,
              "#7201a8"
             ],
             [
              0.3333333333333333,
              "#9c179e"
             ],
             [
              0.4444444444444444,
              "#bd3786"
             ],
             [
              0.5555555555555556,
              "#d8576b"
             ],
             [
              0.6666666666666666,
              "#ed7953"
             ],
             [
              0.7777777777777778,
              "#fb9f3a"
             ],
             [
              0.8888888888888888,
              "#fdca26"
             ],
             [
              1,
              "#f0f921"
             ]
            ],
            "type": "surface"
           }
          ],
          "table": [
           {
            "cells": {
             "fill": {
              "color": "#EBF0F8"
             },
             "line": {
              "color": "white"
             }
            },
            "header": {
             "fill": {
              "color": "#C8D4E3"
             },
             "line": {
              "color": "white"
             }
            },
            "type": "table"
           }
          ]
         },
         "layout": {
          "annotationdefaults": {
           "arrowcolor": "#2a3f5f",
           "arrowhead": 0,
           "arrowwidth": 1
          },
          "autotypenumbers": "strict",
          "coloraxis": {
           "colorbar": {
            "outlinewidth": 0,
            "ticks": ""
           }
          },
          "colorscale": {
           "diverging": [
            [
             0,
             "#8e0152"
            ],
            [
             0.1,
             "#c51b7d"
            ],
            [
             0.2,
             "#de77ae"
            ],
            [
             0.3,
             "#f1b6da"
            ],
            [
             0.4,
             "#fde0ef"
            ],
            [
             0.5,
             "#f7f7f7"
            ],
            [
             0.6,
             "#e6f5d0"
            ],
            [
             0.7,
             "#b8e186"
            ],
            [
             0.8,
             "#7fbc41"
            ],
            [
             0.9,
             "#4d9221"
            ],
            [
             1,
             "#276419"
            ]
           ],
           "sequential": [
            [
             0,
             "#0d0887"
            ],
            [
             0.1111111111111111,
             "#46039f"
            ],
            [
             0.2222222222222222,
             "#7201a8"
            ],
            [
             0.3333333333333333,
             "#9c179e"
            ],
            [
             0.4444444444444444,
             "#bd3786"
            ],
            [
             0.5555555555555556,
             "#d8576b"
            ],
            [
             0.6666666666666666,
             "#ed7953"
            ],
            [
             0.7777777777777778,
             "#fb9f3a"
            ],
            [
             0.8888888888888888,
             "#fdca26"
            ],
            [
             1,
             "#f0f921"
            ]
           ],
           "sequentialminus": [
            [
             0,
             "#0d0887"
            ],
            [
             0.1111111111111111,
             "#46039f"
            ],
            [
             0.2222222222222222,
             "#7201a8"
            ],
            [
             0.3333333333333333,
             "#9c179e"
            ],
            [
             0.4444444444444444,
             "#bd3786"
            ],
            [
             0.5555555555555556,
             "#d8576b"
            ],
            [
             0.6666666666666666,
             "#ed7953"
            ],
            [
             0.7777777777777778,
             "#fb9f3a"
            ],
            [
             0.8888888888888888,
             "#fdca26"
            ],
            [
             1,
             "#f0f921"
            ]
           ]
          },
          "colorway": [
           "#636efa",
           "#EF553B",
           "#00cc96",
           "#ab63fa",
           "#FFA15A",
           "#19d3f3",
           "#FF6692",
           "#B6E880",
           "#FF97FF",
           "#FECB52"
          ],
          "font": {
           "color": "#2a3f5f"
          },
          "geo": {
           "bgcolor": "white",
           "lakecolor": "white",
           "landcolor": "#E5ECF6",
           "showlakes": true,
           "showland": true,
           "subunitcolor": "white"
          },
          "hoverlabel": {
           "align": "left"
          },
          "hovermode": "closest",
          "mapbox": {
           "style": "light"
          },
          "paper_bgcolor": "white",
          "plot_bgcolor": "#E5ECF6",
          "polar": {
           "angularaxis": {
            "gridcolor": "white",
            "linecolor": "white",
            "ticks": ""
           },
           "bgcolor": "#E5ECF6",
           "radialaxis": {
            "gridcolor": "white",
            "linecolor": "white",
            "ticks": ""
           }
          },
          "scene": {
           "xaxis": {
            "backgroundcolor": "#E5ECF6",
            "gridcolor": "white",
            "gridwidth": 2,
            "linecolor": "white",
            "showbackground": true,
            "ticks": "",
            "zerolinecolor": "white"
           },
           "yaxis": {
            "backgroundcolor": "#E5ECF6",
            "gridcolor": "white",
            "gridwidth": 2,
            "linecolor": "white",
            "showbackground": true,
            "ticks": "",
            "zerolinecolor": "white"
           },
           "zaxis": {
            "backgroundcolor": "#E5ECF6",
            "gridcolor": "white",
            "gridwidth": 2,
            "linecolor": "white",
            "showbackground": true,
            "ticks": "",
            "zerolinecolor": "white"
           }
          },
          "shapedefaults": {
           "line": {
            "color": "#2a3f5f"
           }
          },
          "ternary": {
           "aaxis": {
            "gridcolor": "white",
            "linecolor": "white",
            "ticks": ""
           },
           "baxis": {
            "gridcolor": "white",
            "linecolor": "white",
            "ticks": ""
           },
           "bgcolor": "#E5ECF6",
           "caxis": {
            "gridcolor": "white",
            "linecolor": "white",
            "ticks": ""
           }
          },
          "title": {
           "x": 0.05
          },
          "xaxis": {
           "automargin": true,
           "gridcolor": "white",
           "linecolor": "white",
           "ticks": "",
           "title": {
            "standoff": 15
           },
           "zerolinecolor": "white",
           "zerolinewidth": 2
          },
          "yaxis": {
           "automargin": true,
           "gridcolor": "white",
           "linecolor": "white",
           "ticks": "",
           "title": {
            "standoff": 15
           },
           "zerolinecolor": "white",
           "zerolinewidth": 2
          }
         }
        },
        "title": {
         "text": "Logit Lens Results for 0_mlp_out (in circuit)"
        },
        "xaxis": {
         "title": {
          "text": "Logit Lens Results"
         }
        },
        "yaxis": {
         "title": {
          "text": "True Logits"
         }
        }
       }
      }
     },
     "metadata": {},
     "output_type": "display_data"
    }
   ],
   "source": [
    "from scipy import stats\n",
    "import plotly.graph_objects as go\n",
    "# k = \"L1H2\"\n",
    "k = \"0_mlp_out\"\n",
    "in_circuit_str = \"in circuit\" if k in nodes else \"not in circuit\"\n",
    "fig = go.Figure()\n",
    "\n",
    "for i in range(logit_lens_results[k].shape[1]):\n",
    "    y = labels[:, i].squeeze().detach().cpu().numpy()\n",
    "    x = logit_lens_results[k][:, i].detach().cpu().numpy()\n",
    "    pearson_corr = stats.pearsonr(x, y)\n",
    "    fig.add_trace(go.Scatter(x=x, y=y, mode='markers', name=f\"pos {i}, corr: {pearson_corr[0]:.2f}\"))\n",
    "\n",
    "fig.update_layout(title=f\"Logit Lens Results for {k} ({in_circuit_str})\", yaxis_title=\"True Logits\", xaxis_title=\"Logit Lens Results\")\n",
    "fig.show()"
   ]
  },
  {
   "cell_type": "code",
   "execution_count": 71,
   "metadata": {},
   "outputs": [
    {
     "data": {
      "application/vnd.plotly.v1+json": {
       "config": {
        "plotlyServerURL": "https://plot.ly"
       },
       "data": [
        {
         "mode": "markers",
         "name": "pos 0, corr: 0.91",
         "type": "scatter",
         "x": [
          -7.150629043579102,
          -0.9930667877197266,
          -0.9930667877197266,
          -0.9930667877197266,
          -7.019844055175781,
          -7.150629043579102,
          -7.019844055175781,
          -7.338605880737305,
          -7.019844055175781,
          0.7440273761749268,
          0.7440273761749268,
          0.9071118831634521,
          0.9071118831634521,
          -8.37632942199707,
          -8.172090530395508,
          0.9071118831634521,
          0.9071118831634521,
          -0.9930667877197266,
          0.9071118831634521,
          -7.150629043579102,
          -8.172090530395508,
          -0.9930667877197266,
          -8.172090530395508,
          0.7440273761749268,
          0.9071118831634521,
          0.9071118831634521,
          -8.37632942199707,
          -7.019844055175781,
          -7.338605880737305,
          -0.9930667877197266,
          -0.9930667877197266,
          -7.338605880737305,
          -8.37632942199707,
          -8.37632942199707,
          -8.37632942199707,
          -7.150629043579102,
          -7.338605880737305,
          -8.37632942199707,
          -0.9930667877197266,
          0.9071118831634521,
          -0.9930667877197266,
          -0.9930667877197266,
          0.9071118831634521,
          0.7440273761749268,
          0.7440273761749268,
          -7.019844055175781,
          -7.338605880737305,
          0.9071118831634521,
          0.9071118831634521,
          -0.9930667877197266,
          -7.019844055175781,
          0.7440273761749268,
          -0.9930667877197266,
          0.9071118831634521,
          -8.37632942199707,
          -8.172090530395508,
          0.7440273761749268,
          -7.338605880737305,
          -8.172090530395508,
          0.7440273761749268,
          0.7440273761749268,
          -7.338605880737305,
          0.7440273761749268,
          0.7440273761749268,
          -8.172090530395508,
          -7.338605880737305,
          -8.37632942199707,
          -7.150629043579102,
          0.7440273761749268,
          -7.338605880737305,
          -7.150629043579102,
          -7.338605880737305,
          0.9071118831634521,
          0.7440273761749268,
          -7.150629043579102,
          0.9071118831634521,
          -7.150629043579102,
          -8.37632942199707,
          -7.019844055175781,
          0.7440273761749268,
          -8.37632942199707,
          -8.172090530395508,
          -0.9930667877197266,
          -8.37632942199707,
          -8.37632942199707,
          -8.37632942199707,
          0.7440273761749268,
          -8.37632942199707,
          -8.172090530395508,
          0.7440273761749268,
          -8.37632942199707,
          -7.338605880737305,
          -8.172090530395508,
          -7.150629043579102,
          0.9071118831634521,
          -8.172090530395508,
          -8.37632942199707,
          -0.9930667877197266,
          -8.37632942199707,
          -7.019844055175781
         ],
         "y": [
          -79.33985900878906,
          22.43845558166504,
          22.43845558166504,
          22.43845558166504,
          -19.855865478515625,
          -79.33985900878906,
          -19.855865478515625,
          -222.63511657714844,
          -19.855865478515625,
          60.06468200683594,
          60.06468200683594,
          74.81859588623047,
          74.81859588623047,
          -223.530517578125,
          -223.0018768310547,
          74.81859588623047,
          74.81859588623047,
          22.43845558166504,
          74.81859588623047,
          -79.33985900878906,
          -223.0018768310547,
          22.43845558166504,
          -223.0018768310547,
          60.06468200683594,
          74.81859588623047,
          74.81859588623047,
          -223.530517578125,
          -19.855865478515625,
          -222.63511657714844,
          22.43845558166504,
          22.43845558166504,
          -222.63511657714844,
          -223.530517578125,
          -223.530517578125,
          -223.530517578125,
          -79.33985900878906,
          -222.63511657714844,
          -223.530517578125,
          22.43845558166504,
          74.81859588623047,
          22.43845558166504,
          22.43845558166504,
          74.81859588623047,
          60.06468200683594,
          60.06468200683594,
          -19.855865478515625,
          -222.63511657714844,
          74.81859588623047,
          74.81859588623047,
          22.43845558166504,
          -19.855865478515625,
          60.06468200683594,
          22.43845558166504,
          74.81859588623047,
          -223.530517578125,
          -223.0018768310547,
          60.06468200683594,
          -222.63511657714844,
          -223.0018768310547,
          60.06468200683594,
          60.06468200683594,
          -222.63511657714844,
          60.06468200683594,
          60.06468200683594,
          -223.0018768310547,
          -222.63511657714844,
          -223.530517578125,
          -79.33985900878906,
          60.06468200683594,
          -222.63511657714844,
          -79.33985900878906,
          -222.63511657714844,
          74.81859588623047,
          60.06468200683594,
          -79.33985900878906,
          74.81859588623047,
          -79.33985900878906,
          -223.530517578125,
          -19.855865478515625,
          60.06468200683594,
          -223.530517578125,
          -223.0018768310547,
          22.43845558166504,
          -223.530517578125,
          -223.530517578125,
          -223.530517578125,
          60.06468200683594,
          -223.530517578125,
          -223.0018768310547,
          60.06468200683594,
          -223.530517578125,
          -222.63511657714844,
          -223.0018768310547,
          -79.33985900878906,
          74.81859588623047,
          -223.0018768310547,
          -223.530517578125,
          22.43845558166504,
          -223.530517578125,
          -19.855865478515625
         ]
        },
        {
         "mode": "markers",
         "name": "pos 1, corr: 0.88",
         "type": "scatter",
         "x": [
          1.394575834274292,
          -8.472087860107422,
          -8.472087860107422,
          -8.472087860107422,
          -7.418080806732178,
          -7.332526683807373,
          -8.577880859375,
          -7.276731491088867,
          -8.577880859375,
          -0.8717318773269653,
          -8.33533000946045,
          -7.549956321716309,
          -8.577921867370605,
          -8.337869644165039,
          1.0536879301071167,
          -8.323197364807129,
          -7.391623497009277,
          1.3805241584777832,
          -8.577921867370605,
          -8.234657287597656,
          -1.081535816192627,
          -8.472087860107422,
          -8.629705429077148,
          -0.8717318773269653,
          -7.391623497009277,
          -8.577921867370605,
          -1.0584253072738647,
          -7.220123767852783,
          -7.276731491088867,
          -7.448030471801758,
          -7.35105562210083,
          -7.533118724822998,
          -7.392649173736572,
          -8.60042953491211,
          1.287246823310852,
          -0.9438894987106323,
          -8.54541015625,
          -1.0584253072738647,
          -7.448030471801758,
          0.9087429046630859,
          1.3805241584777832,
          -0.8631552457809448,
          -0.8240818977355957,
          1.2252662181854248,
          -8.33533000946045,
          1.1151727437973022,
          1.3193329572677612,
          1.180625319480896,
          -7.402304172515869,
          -7.35105562210083,
          -8.314302444458008,
          1.2252662181854248,
          1.1227266788482666,
          -0.8240818977355957,
          -8.337869644165039,
          -8.629705429077148,
          1.2252662181854248,
          -7.368354797363281,
          1.0536879301071167,
          -7.390369415283203,
          0.9469735026359558,
          1.3193329572677612,
          0.9469735026359558,
          0.9469735026359558,
          -7.424644947052002,
          1.0982918739318848,
          -8.337869644165039,
          -7.482374668121338,
          1.2252662181854248,
          -7.368354797363281,
          -8.234657287597656,
          1.0982918739318848,
          -8.323197364807129,
          -8.588804244995117,
          -7.243630409240723,
          -7.391623497009277,
          -7.482374668121338,
          -8.60042953491211,
          -8.314302444458008,
          -7.563957691192627,
          1.287246823310852,
          -8.367016792297363,
          -0.8631552457809448,
          -7.392649173736572,
          -7.5874104499816895,
          -8.337869644165039,
          -0.8717318773269653,
          -7.331103801727295,
          -7.614680290222168,
          -7.390369415283203,
          1.0689409971237183,
          1.3193329572677612,
          1.275827407836914,
          -7.482374668121338,
          -0.8240818977355957,
          -7.614680290222168,
          -7.331103801727295,
          1.3805241584777832,
          -8.337869644165039,
          -7.418080806732178
         ],
         "y": [
          85.92286682128906,
          -224.38925170898438,
          -224.38925170898438,
          -224.38925170898438,
          -78.49610900878906,
          -79.65113067626953,
          -221.24766540527344,
          -18.287996292114258,
          -221.24766540527344,
          24.110904693603516,
          -224.1367950439453,
          -223.24114990234375,
          -224.15621948242188,
          -223.12693786621094,
          67.21406555175781,
          -223.7447967529297,
          -10.83631706237793,
          84.41036987304688,
          -224.15621948242188,
          -223.1084747314453,
          19.12744903564453,
          -224.38925170898438,
          -223.48887634277344,
          24.110904693603516,
          -10.83631706237793,
          -224.15621948242188,
          19.503183364868164,
          -19.261281967163086,
          -18.287996292114258,
          -223.49310302734375,
          -84.7674560546875,
          -222.69805908203125,
          -82.11030578613281,
          -223.60438537597656,
          83.76543426513672,
          20.811384201049805,
          -223.54396057128906,
          19.503183364868164,
          -223.49310302734375,
          73.95105743408203,
          84.41036987304688,
          22.138195037841797,
          25.541576385498047,
          82.80142974853516,
          -224.1367950439453,
          67.29183959960938,
          83.75975036621094,
          83.02481842041016,
          -83.92394256591797,
          -84.7674560546875,
          -220.81851196289062,
          82.80142974853516,
          68.80517578125,
          25.541576385498047,
          -223.12693786621094,
          -223.48887634277344,
          82.80142974853516,
          -82.17782592773438,
          67.21406555175781,
          -11.843635559082031,
          67.08478546142578,
          83.75975036621094,
          67.08478546142578,
          67.08478546142578,
          -82.33216094970703,
          67.85005187988281,
          -223.12693786621094,
          -222.79840087890625,
          82.80142974853516,
          -82.17782592773438,
          -223.1084747314453,
          67.85005187988281,
          -223.7447967529297,
          -224.5417938232422,
          -14.59432601928711,
          -10.83631706237793,
          -222.79840087890625,
          -223.60438537597656,
          -220.81851196289062,
          -223.63568115234375,
          83.76543426513672,
          -223.05288696289062,
          22.138195037841797,
          -82.11030578613281,
          -222.81719970703125,
          -223.12693786621094,
          24.110904693603516,
          -18.245283126831055,
          -222.8534393310547,
          -11.843635559082031,
          67.92648315429688,
          83.75975036621094,
          83.16757202148438,
          -222.79840087890625,
          25.541576385498047,
          -222.8534393310547,
          -18.245283126831055,
          84.41036987304688,
          -223.12693786621094,
          -78.49610900878906
         ]
        },
        {
         "mode": "markers",
         "name": "pos 2, corr: 0.87",
         "type": "scatter",
         "x": [
          -1.0822019577026367,
          -8.82253646850586,
          1.00390625,
          -8.82253646850586,
          -7.563643932342529,
          -8.76841926574707,
          -8.921919822692871,
          -7.872133731842041,
          1.320517659187317,
          -8.820723533630371,
          -8.645071983337402,
          -7.873139381408691,
          1.1336904764175415,
          -1.3586349487304688,
          -7.60782527923584,
          -8.9187650680542,
          -7.6348371505737305,
          -1.0444668531417847,
          -7.914389610290527,
          1.034130573272705,
          -7.852653503417969,
          -7.572328090667725,
          -7.960326194763184,
          -7.694244384765625,
          0.8404844999313354,
          -7.5941033363342285,
          -7.561610221862793,
          -1.3670258522033691,
          -8.572809219360352,
          -8.784812927246094,
          -7.502840518951416,
          -8.847696304321289,
          -8.849818229675293,
          -1.3372840881347656,
          0.791759729385376,
          -1.1060072183609009,
          1.0015678405761719,
          -7.633261680603027,
          1.0241367816925049,
          0.746654212474823,
          -7.675020694732666,
          -8.725226402282715,
          -8.812294006347656,
          -7.900207042694092,
          -7.734090805053711,
          -1.2189741134643555,
          -7.659399032592773,
          -1.0442099571228027,
          -7.841208457946777,
          -8.45417308807373,
          -8.93519401550293,
          -8.892751693725586,
          -1.0797135829925537,
          -7.819123268127441,
          -8.941123962402344,
          -7.637442111968994,
          -8.611143112182617,
          -8.8084716796875,
          -8.633075714111328,
          0.8750120401382446,
          -1.1012848615646362,
          -7.851648807525635,
          1.1124370098114014,
          1.1124370098114014,
          1.0502225160598755,
          -1.1909019947052002,
          -8.941123962402344,
          -8.515544891357422,
          1.0795514583587646,
          -7.822154998779297,
          1.034130573272705,
          -7.660562038421631,
          0.8134651184082031,
          1.1779935359954834,
          -7.546645164489746,
          -1.1933085918426514,
          -8.515544891357422,
          1.2500194311141968,
          -7.943454742431641,
          -7.59943151473999,
          -8.601885795593262,
          1.2315696477890015,
          -7.594696998596191,
          -7.864036560058594,
          -7.900285720825195,
          -7.955517292022705,
          -7.828633785247803,
          -7.610046863555908,
          -8.908411026000977,
          0.8750120401382446,
          -7.592922210693359,
          0.8133127093315125,
          -7.598300933837891,
          -7.819026470184326,
          -7.695015907287598,
          0.9889699220657349,
          -7.61186408996582,
          -7.595545768737793,
          -7.6790642738342285,
          -8.846753120422363
         ],
         "y": [
          24.35919952392578,
          -224.59646606445312,
          73.94953918457031,
          -224.59646606445312,
          -77.79266357421875,
          -223.64572143554688,
          -221.43359375,
          -220.51719665527344,
          90.7357177734375,
          -224.6642303466797,
          -224.31854248046875,
          -223.4375,
          89.94363403320312,
          18.64536476135254,
          -85.14361572265625,
          -224.37521362304688,
          -10.755166053771973,
          25.027280807495117,
          -223.4619903564453,
          75.67632293701172,
          -223.99095153808594,
          -84.62040710449219,
          -222.79591369628906,
          -6.991968154907227,
          74.40852355957031,
          -83.60009002685547,
          -84.90286254882812,
          19.548053741455078,
          -220.95001220703125,
          -224.57363891601562,
          -84.13224792480469,
          -223.77053833007812,
          -223.65350341796875,
          19.685508728027344,
          83.12007904052734,
          20.955856323242188,
          73.14555358886719,
          -11.542555809020996,
          73.77545166015625,
          74.00694274902344,
          -6.341009616851807,
          -224.71449279785156,
          -224.27969360351562,
          -223.64132690429688,
          -11.876855850219727,
          21.701990127563477,
          -11.464442253112793,
          25.365957260131836,
          -223.419921875,
          -224.1025390625,
          -221.45155334472656,
          -224.5296173095703,
          23.817415237426758,
          -223.37709045410156,
          -223.75857543945312,
          -82.22860717773438,
          -224.08799743652344,
          -223.6807098388672,
          -224.63490295410156,
          71.9248275756836,
          23.836593627929688,
          -223.76113891601562,
          88.50814056396484,
          88.50814056396484,
          75.53321075439453,
          22.361642837524414,
          -223.75857543945312,
          -223.40626525878906,
          88.41900634765625,
          -222.7447509765625,
          75.67632293701172,
          -12.104888916015625,
          74.4537353515625,
          89.76765441894531,
          -13.690629005432129,
          22.92876625061035,
          -223.40626525878906,
          90.34638214111328,
          -220.5596160888672,
          -84.58941650390625,
          -224.19383239746094,
          89.29911804199219,
          -6.799753665924072,
          -222.72557067871094,
          -222.86903381347656,
          -222.8130340576172,
          -223.76809692382812,
          -16.808671951293945,
          -223.90980529785156,
          71.9248275756836,
          -84.90354919433594,
          83.09949493408203,
          -84.23912811279297,
          -222.869140625,
          -6.382221221923828,
          72.41680908203125,
          -77.80204772949219,
          -84.64891052246094,
          -16.33316993713379,
          -221.39303588867188
         ]
        },
        {
         "mode": "markers",
         "name": "pos 3, corr: 0.83",
         "type": "scatter",
         "x": [
          -7.658603191375732,
          -8.670836448669434,
          -7.902842044830322,
          -7.982777118682861,
          -7.9509501457214355,
          -1.3011908531188965,
          1.4942631721496582,
          -8.671786308288574,
          -1.2835732698440552,
          -8.966570854187012,
          1.2987784147262573,
          1.3112201690673828,
          0.809804379940033,
          -1.3109591007232666,
          1.3594939708709717,
          -7.986995697021484,
          -7.787542343139648,
          -7.730657577514648,
          -8.0159273147583,
          1.3210529088974,
          1.451602578163147,
          1.1575528383255005,
          -1.4286699295043945,
          1.3733099699020386,
          -7.8961310386657715,
          -7.642326831817627,
          -1.2239292860031128,
          -8.653765678405762,
          1.482060432434082,
          1.1103490591049194,
          1.2095869779586792,
          -8.976591110229492,
          -8.980320930480957,
          -8.675944328308105,
          -7.965624809265137,
          -7.7955403327941895,
          -8.701245307922363,
          -7.732957363128662,
          -8.635095596313477,
          -9.032337188720703,
          -7.904340744018555,
          -8.889567375183105,
          -8.958436012268066,
          -7.976655960083008,
          -7.774839401245117,
          1.0180771350860596,
          -7.747200012207031,
          -7.969831466674805,
          -7.905491828918457,
          1.491803526878357,
          -7.902563571929932,
          -9.022547721862793,
          -7.882218360900879,
          -1.1704373359680176,
          -7.939363956451416,
          -7.897549629211426,
          -8.015130996704102,
          -8.946019172668457,
          -7.972464084625244,
          -8.993179321289062,
          -7.987112522125244,
          -7.8843793869018555,
          -1.1320805549621582,
          -8.045594215393066,
          -7.905007839202881,
          0.991685688495636,
          -7.757497310638428,
          -8.664745330810547,
          -1.110285997390747,
          -1.3399312496185303,
          -7.9894866943359375,
          -1.3426002264022827,
          -7.80473518371582,
          -8.044829368591309,
          1.5490293502807617,
          -7.753119945526123,
          -8.956015586853027,
          -8.72651195526123,
          -7.764193534851074,
          1.0602003335952759,
          -8.728282928466797,
          1.2098811864852905,
          1.4867193698883057,
          1.1646745204925537,
          -7.875361442565918,
          -7.909835338592529,
          -7.731372356414795,
          -8.697669982910156,
          1.4478464126586914,
          0.8797509670257568,
          -7.6367645263671875,
          -8.970561981201172,
          -8.676926612854004,
          -7.689761161804199,
          -8.626961708068848,
          -1.3126397132873535,
          -1.342085838317871,
          -7.649707317352295,
          1.4513684511184692,
          -8.99018669128418
         ],
         "y": [
          -86.06800079345703,
          -224.26104736328125,
          -12.394309997558594,
          -223.83729553222656,
          -220.58607482910156,
          18.77666664123535,
          88.75132751464844,
          -221.02757263183594,
          21.22018051147461,
          -224.7886962890625,
          87.0145263671875,
          87.97550964355469,
          88.8959732055664,
          18.022497177124023,
          89.05750274658203,
          -15.63148021697998,
          -87.03263854980469,
          -86.95048522949219,
          -223.55926513671875,
          88.70126342773438,
          88.20836639404297,
          73.54103088378906,
          16.888198852539062,
          87.66670989990234,
          -11.587601661682129,
          -84.75629425048828,
          19.676475524902344,
          -221.06556701660156,
          87.6051254272461,
          70.7042236328125,
          74.716064453125,
          -223.8759765625,
          -223.76939392089844,
          -224.34860229492188,
          -12.418052673339844,
          -10.88140869140625,
          -224.44097900390625,
          -78.80491638183594,
          -224.37091064453125,
          -224.47412109375,
          -223.82870483398438,
          -224.84959411621094,
          -224.40660095214844,
          -12.077672958374023,
          -87.33918762207031,
          70.32025909423828,
          -87.01311492919922,
          -8.65012264251709,
          -13.341626167297363,
          89.76553344726562,
          -20.381343841552734,
          -224.6439971923828,
          -9.321008682250977,
          22.481224060058594,
          -19.252798080444336,
          -17.323055267333984,
          -12.333733558654785,
          -223.80067443847656,
          -16.791460037231445,
          -224.77142333984375,
          -224.01333618164062,
          -15.682713508605957,
          23.607120513916016,
          -223.4463348388672,
          -14.5263032913208,
          70.2176513671875,
          -84.42373657226562,
          -223.5310821533203,
          23.882932662963867,
          18.35611915588379,
          -224.0406494140625,
          18.996511459350586,
          -86.68571472167969,
          -223.4934844970703,
          89.0503158569336,
          -86.55352020263672,
          -223.9927978515625,
          -224.03759765625,
          -80.42474365234375,
          73.09724426269531,
          -224.3025360107422,
          87.89510345458984,
          88.49244689941406,
          72.22435760498047,
          -19.081111907958984,
          -19.309919357299805,
          -86.84603881835938,
          -220.74000549316406,
          88.03024291992188,
          70.52813720703125,
          -85.9879379272461,
          -224.7264404296875,
          -224.2967071533203,
          -84.43592071533203,
          -223.9348602294922,
          20.142963409423828,
          19.403688430786133,
          -85.83895111083984,
          87.17005157470703,
          -221.5028533935547
         ]
        },
        {
         "mode": "markers",
         "name": "pos 4, corr: 0.86",
         "type": "scatter",
         "x": [
          -9.44809341430664,
          1.479456901550293,
          0.8999670147895813,
          1.5127959251403809,
          -9.5189208984375,
          -8.315147399902344,
          0.9075368046760559,
          -8.92304515838623,
          -9.86655044555664,
          -8.77189826965332,
          -8.822025299072266,
          -9.531620979309082,
          -9.586248397827148,
          -8.85543441772461,
          -8.36648941040039,
          -8.922435760498047,
          0.981539785861969,
          -8.780233383178711,
          -9.881972312927246,
          0.7853237986564636,
          -1.5090837478637695,
          0.9695993065834045,
          -8.717226028442383,
          -9.493330001831055,
          -1.5677202939987183,
          -1.4650262594223022,
          -8.303336143493652,
          -8.446349143981934,
          -8.717679977416992,
          -8.394436836242676,
          -1.4275670051574707,
          -1.6964861154556274,
          -8.727923393249512,
          1.4659390449523926,
          1.1797226667404175,
          -8.751151084899902,
          -8.73927116394043,
          -8.659107208251953,
          0.8895738124847412,
          -1.483693242073059,
          -8.809297561645508,
          1.4921740293502808,
          -9.867046356201172,
          -8.727325439453125,
          -8.719124794006348,
          -8.855501174926758,
          1.3902884721755981,
          -8.435216903686523,
          -9.504669189453125,
          -8.834155082702637,
          -1.7332876920700073,
          -9.59397029876709,
          -1.4692343473434448,
          -9.782711029052734,
          -8.456443786621094,
          -1.6772669553756714,
          -9.566990852355957,
          -9.547781944274902,
          0.8735149502754211,
          0.804404616355896,
          -9.846989631652832,
          -8.676041603088379,
          -1.4093964099884033,
          -8.471606254577637,
          1.3875305652618408,
          0.825980007648468,
          -1.6719691753387451,
          1.5405874252319336,
          -8.798931121826172,
          -8.801056861877441,
          -8.401288986206055,
          -8.40422248840332,
          0.8128957748413086,
          -9.89870834350586,
          -1.5786744356155396,
          -8.698219299316406,
          1.5535141229629517,
          -9.611903190612793,
          -1.6468838453292847,
          -8.760923385620117,
          0.8153405785560608,
          -1.5387462377548218,
          -9.432496070861816,
          -9.530152320861816,
          -8.899165153503418,
          -9.919373512268066,
          -1.450356125831604,
          -9.926782608032227,
          -8.758983612060547,
          1.1824781894683838,
          -1.4965556859970093,
          -1.5214263200759888,
          1.3218317031860352,
          -9.483844757080078,
          -9.841527938842773,
          1.361057162284851,
          -9.506067276000977,
          -9.451428413391113,
          0.8631744384765625,
          -1.6481415033340454
         ],
         "y": [
          -224.51791381835938,
          96.18304443359375,
          76.36053466796875,
          96.66944885253906,
          -221.24098205566406,
          -87.02136993408203,
          84.01641082763672,
          -220.90357971191406,
          -224.81008911132812,
          -12.538172721862793,
          -12.484314918518066,
          -224.30673217773438,
          -224.11614990234375,
          -224.144287109375,
          -85.29666137695312,
          -223.84149169921875,
          78.75640106201172,
          -224.05374145507812,
          -224.70590209960938,
          84.43878936767578,
          19.99234962463379,
          79.3630142211914,
          -16.26839828491211,
          -224.33706665039062,
          18.58785057067871,
          19.935272216796875,
          -85.84048461914062,
          -86.79954528808594,
          -16.426679611206055,
          -93.07536315917969,
          19.841707229614258,
          14.204681396484375,
          -17.297653198242188,
          95.89163208007812,
          94.37923431396484,
          -220.12338256835938,
          -16.7330265045166,
          -14.29653263092041,
          76.378662109375,
          19.90665054321289,
          -224.0887908935547,
          97.0183334350586,
          -224.681884765625,
          -11.959614753723145,
          -14.318941116333008,
          -224.29849243164062,
          96.4189453125,
          -92.6917724609375,
          -224.19302368164062,
          -224.06768798828125,
          14.675094604492188,
          -224.4331817626953,
          19.333967208862305,
          -224.6156463623047,
          -85.35267639160156,
          15.962459564208984,
          -224.43008422851562,
          -223.7106170654297,
          74.78460693359375,
          76.13153076171875,
          -225.1591339111328,
          -16.152109146118164,
          22.319149017333984,
          -92.42208862304688,
          95.7132568359375,
          76.62818908691406,
          14.450980186462402,
          96.63673400878906,
          -5.406385898590088,
          -224.12295532226562,
          -92.92149353027344,
          -93.59295654296875,
          78.70465850830078,
          -224.62815856933594,
          18.265575408935547,
          -10.98047924041748,
          97.16384887695312,
          -224.29037475585938,
          15.791504859924316,
          -11.069507598876953,
          77.54705047607422,
          19.787994384765625,
          -224.40731811523438,
          -224.8546905517578,
          -220.3335723876953,
          -221.23863220214844,
          19.846790313720703,
          -221.49497985839844,
          -15.96229362487793,
          94.01765441894531,
          18.736116409301758,
          19.512094497680664,
          96.23455047607422,
          -223.68370056152344,
          -224.67715454101562,
          95.14680480957031,
          -221.1724090576172,
          -224.48944091796875,
          82.29170227050781,
          15.90815258026123
         ]
        },
        {
         "mode": "markers",
         "name": "pos 5, corr: 0.84",
         "type": "scatter",
         "x": [
          -8.424530029296875,
          -7.838265895843506,
          -7.796393394470215,
          -7.6068115234375,
          -1.2443859577178955,
          1.7975932359695435,
          -1.1844435930252075,
          -7.848977565765381,
          -7.727306365966797,
          -7.633478164672852,
          1.1124632358551025,
          -7.637174129486084,
          -8.861063957214355,
          -8.769115447998047,
          -7.761795997619629,
          1.5776655673980713,
          -7.685968399047852,
          -7.701822757720947,
          1.571553349494934,
          1.0874840021133423,
          -8.748743057250977,
          1.5968390703201294,
          1.7349538803100586,
          -8.791528701782227,
          1.1725494861602783,
          -7.718332767486572,
          -8.378889083862305,
          -8.495299339294434,
          -7.658220291137695,
          1.65267813205719,
          -7.662071228027344,
          -7.6769938468933105,
          -8.50717830657959,
          -7.74778938293457,
          -7.7397003173828125,
          -7.581301689147949,
          -1.2966054677963257,
          -7.750264644622803,
          -7.8121795654296875,
          1.0842610597610474,
          -7.7555975914001465,
          -7.726001262664795,
          -1.1603435277938843,
          -8.487570762634277,
          1.2884284257888794,
          -7.678455829620361,
          -1.112790584564209,
          -7.593761920928955,
          1.6189053058624268,
          -7.754985809326172,
          -7.636854648590088,
          -7.833035945892334,
          -8.389098167419434,
          -8.441139221191406,
          -7.859058380126953,
          -1.2237780094146729,
          -8.848790168762207,
          -7.606215476989746,
          1.1360337734222412,
          -8.850462913513184,
          1.5351407527923584,
          -7.644580364227295,
          -7.792611122131348,
          -1.04078209400177,
          -8.502120018005371,
          -8.781200408935547,
          -8.493512153625488,
          -8.813131332397461,
          -8.464642524719238,
          1.390067458152771,
          -7.68194580078125,
          1.295782208442688,
          -1.0682638883590698,
          1.4658743143081665,
          -7.7418928146362305,
          -8.732864379882812,
          -7.822470664978027,
          -7.645236015319824,
          -8.803200721740723,
          -8.469412803649902,
          1.466864824295044,
          -7.636166095733643,
          -8.73928451538086,
          -7.71758508682251,
          -7.617673397064209,
          -7.7024641036987305,
          -1.044429898262024,
          -7.652106285095215,
          1.57747220993042,
          1.0444391965866089,
          -7.482128620147705,
          -7.795178413391113,
          -1.1153318881988525,
          1.4035053253173828,
          -1.191512942314148,
          1.1530293226242065,
          1.3765636682510376,
          -7.510636329650879,
          -8.84018325805664,
          -8.488846778869629
         ],
         "y": [
          -224.0700225830078,
          -223.60455322265625,
          -223.6995391845703,
          -84.35877990722656,
          20.8686466217041,
          93.40968322753906,
          23.47068977355957,
          -220.39427185058594,
          -15.742877006530762,
          -84.6849365234375,
          86.4125747680664,
          -83.97776794433594,
          -224.11697387695312,
          -224.55384826660156,
          -12.92231273651123,
          89.81555938720703,
          -10.309751510620117,
          -223.57034301757812,
          90.24419403076172,
          84.56766510009766,
          -224.4291229248047,
          90.39976501464844,
          90.11896514892578,
          -224.36207580566406,
          72.6350326538086,
          -12.230687141418457,
          -224.1321563720703,
          -220.8348846435547,
          -85.29421997070312,
          90.80740356445312,
          -10.50344467163086,
          -17.220809936523438,
          -219.94798278808594,
          -14.755288124084473,
          -14.443384170532227,
          -10.668976783752441,
          21.41793441772461,
          -219.77505493164062,
          -223.70889282226562,
          72.95326232910156,
          -223.61923217773438,
          -12.025278091430664,
          23.82312774658203,
          -223.94052124023438,
          73.131591796875,
          -85.62178039550781,
          24.544696807861328,
          -83.77994537353516,
          91.05081939697266,
          -223.58010864257812,
          -77.35088348388672,
          -15.251087188720703,
          -224.32652282714844,
          -223.67788696289062,
          -219.80589294433594,
          21.472131729125977,
          -224.43502807617188,
          -82.2063217163086,
          74.19346618652344,
          -224.52755737304688,
          89.9915771484375,
          -85.05060577392578,
          -10.91726016998291,
          25.959697723388672,
          -223.95774841308594,
          -224.4694366455078,
          -224.33363342285156,
          -224.5982666015625,
          -223.58050537109375,
          74.24588775634766,
          -15.03133773803711,
          73.05806732177734,
          24.970314025878906,
          89.93407440185547,
          -223.70654296875,
          -224.1651153564453,
          -223.701416015625,
          -84.01129150390625,
          -221.25787353515625,
          -224.223388671875,
          87.87660217285156,
          -83.92053985595703,
          -224.44161987304688,
          -15.828453063964844,
          -76.557861328125,
          -19.036724090576172,
          24.374174118041992,
          -77.36939239501953,
          89.57879638671875,
          92.34738159179688,
          -83.51510620117188,
          -223.6035614013672,
          24.8007869720459,
          74.5297622680664,
          23.201208114624023,
          93.4975357055664,
          73.9759292602539,
          -83.3006591796875,
          -224.62818908691406,
          -220.77830505371094
         ]
        },
        {
         "mode": "markers",
         "name": "pos 6, corr: 0.89",
         "type": "scatter",
         "x": [
          -9.38492202758789,
          -8.436494827270508,
          -9.082557678222656,
          -1.2266258001327515,
          1.421260952949524,
          -1.1461145877838135,
          -1.2160485982894897,
          -9.128128051757812,
          -9.427821159362793,
          -8.386096954345703,
          -1.2796839475631714,
          -8.422018051147461,
          -8.125079154968262,
          -8.403214454650879,
          -9.08746337890625,
          1.517513632774353,
          1.2042192220687866,
          -9.002738952636719,
          -9.442593574523926,
          1.0031256675720215,
          -1.2015937566757202,
          -9.390151023864746,
          -8.096319198608398,
          -8.10654067993164,
          1.0786895751953125,
          -1.19156014919281,
          -8.359606742858887,
          1.845544457435608,
          -9.093094825744629,
          1.1628650426864624,
          -9.294601440429688,
          -8.408761978149414,
          -9.133946418762207,
          -8.095074653625488,
          -9.399520874023438,
          -8.227048873901367,
          1.6595494747161865,
          -9.049285888671875,
          -8.378348350524902,
          -8.443744659423828,
          -9.364792823791504,
          -8.329955101013184,
          -1.190853238105774,
          -9.409692764282227,
          1.181881308555603,
          -9.391721725463867,
          -8.3308744430542,
          -8.357340812683105,
          -9.40869140625,
          -9.362750053405762,
          -9.4449462890625,
          1.0937005281448364,
          -8.05397891998291,
          -1.1986149549484253,
          -8.35016918182373,
          1.836440920829773,
          -8.47930908203125,
          -8.044647216796875,
          -1.2937915325164795,
          1.5274763107299805,
          -8.419644355773926,
          -8.369694709777832,
          -8.091756820678711,
          -8.050480842590332,
          1.5838432312011719,
          -9.407632827758789,
          -1.335919737815857,
          1.6816366910934448,
          -8.37697982788086,
          1.2865427732467651,
          -8.308528900146484,
          -1.1934449672698975,
          -8.05684757232666,
          -9.141271591186523,
          1.2890617847442627,
          -8.292547225952148,
          -9.423062324523926,
          -9.163002967834473,
          -1.3068655729293823,
          -9.099658012390137,
          -9.480509757995605,
          1.1252697706222534,
          1.6434720754623413,
          -9.108498573303223,
          -8.42109489440918,
          -8.472450256347656,
          -8.997705459594727,
          -9.156041145324707,
          -9.418900489807129,
          -9.435623168945312,
          -9.358445167541504,
          1.1285451650619507,
          -8.028867721557617,
          -8.333924293518066,
          -1.2135642766952515,
          -8.410943031311035,
          1.7119499444961548,
          -9.038346290588379,
          -1.3115103244781494,
          -8.4615478515625
         ],
         "y": [
          -224.744384765625,
          -223.77064514160156,
          -224.2958221435547,
          23.011388778686523,
          75.5639419555664,
          23.666399002075195,
          22.992765426635742,
          -220.97242736816406,
          -224.51559448242188,
          -223.8380889892578,
          22.382116317749023,
          -223.61705017089844,
          -89.04637908935547,
          -223.8407745361328,
          -224.10475158691406,
          91.19085693359375,
          77.97711944580078,
          -224.1780242919922,
          -224.67996215820312,
          82.69412231445312,
          23.38335418701172,
          -224.7095947265625,
          -90.4938735961914,
          -89.73169708251953,
          72.83699035644531,
          22.909332275390625,
          -223.91563415527344,
          92.22228240966797,
          -224.29359436035156,
          89.82171630859375,
          -224.920654296875,
          -219.98936462402344,
          -220.13758850097656,
          -89.98196411132812,
          -224.36624145507812,
          -15.71010684967041,
          91.27700805664062,
          -220.379638671875,
          -15.827954292297363,
          -223.53981018066406,
          -224.6900177001953,
          -14.887181282043457,
          23.394275665283203,
          -224.5924530029297,
          73.70919799804688,
          -224.87620544433594,
          -13.695650100708008,
          -223.57965087890625,
          -224.735595703125,
          -224.650146484375,
          -221.14089965820312,
          74.4549789428711,
          -90.25328826904297,
          23.23943519592285,
          -21.734968185424805,
          93.37962341308594,
          -223.74745178222656,
          -83.10400390625,
          21.558805465698242,
          91.07193756103516,
          -223.71185302734375,
          -223.800537109375,
          -89.02611541748047,
          -88.41212463378906,
          95.2770767211914,
          -224.67083740234375,
          18.49729347229004,
          96.01878356933594,
          -223.35862731933594,
          74.9093017578125,
          -18.583091735839844,
          22.426570892333984,
          -87.48603820800781,
          -223.90625,
          83.67737579345703,
          -10.995072364807129,
          -224.76290893554688,
          -223.99734497070312,
          19.924585342407227,
          -224.41839599609375,
          -224.7053680419922,
          84.42789459228516,
          91.98368072509766,
          -224.57647705078125,
          -220.00267028808594,
          -220.0569610595703,
          -224.18902587890625,
          -220.68939208984375,
          -224.67950439453125,
          -224.3490753173828,
          -225.01516723632812,
          75.15548706054688,
          -88.29315185546875,
          -18.30600357055664,
          22.93820571899414,
          -13.610546112060547,
          92.66703033447266,
          -224.2228240966797,
          21.70724105834961,
          -220.60574340820312
         ]
        },
        {
         "mode": "markers",
         "name": "pos 7, corr: 0.88",
         "type": "scatter",
         "x": [
          1.4853928089141846,
          -7.913817882537842,
          -8.277545928955078,
          -7.841343879699707,
          -8.348443984985352,
          1.5798641443252563,
          -8.304320335388184,
          1.6914045810699463,
          -9.356525421142578,
          1.5647103786468506,
          -8.373175621032715,
          1.4139741659164429,
          -9.36642837524414,
          1.1941633224487305,
          -8.284061431884766,
          1.297298550605774,
          -8.26781940460205,
          -8.295477867126465,
          1.3517563343048096,
          1.2623907327651978,
          1.1069514751434326,
          -9.004378318786621,
          -1.320343017578125,
          -9.314441680908203,
          0.9183125495910645,
          1.590938687324524,
          -1.2813013792037964,
          1.1554111242294312,
          -1.389542818069458,
          0.9867456555366516,
          1.1833230257034302,
          1.6862828731536865,
          -9.384249687194824,
          -8.251490592956543,
          -8.282127380371094,
          -7.900249481201172,
          -9.00495433807373,
          -9.307877540588379,
          -7.946162700653076,
          1.2950708866119385,
          -8.979409217834473,
          -8.316947937011719,
          1.4943429231643677,
          -8.384381294250488,
          1.0062490701675415,
          -8.998117446899414,
          -7.887940883636475,
          -8.306159973144531,
          -7.9154438972473145,
          -9.289576530456543,
          -9.365082740783691,
          -7.9592413902282715,
          -8.228337287902832,
          1.096326231956482,
          -9.370034217834473,
          -8.970715522766113,
          -9.383252143859863,
          -7.860805034637451,
          0.9598662257194519,
          -8.371970176696777,
          1.3433518409729004,
          1.1680552959442139,
          -8.308283805847168,
          -1.175039291381836,
          -1.308529257774353,
          -9.33703327178955,
          -7.86515474319458,
          -9.357075691223145,
          -7.9550862312316895,
          -8.951714515686035,
          1.584329605102539,
          -9.25135326385498,
          -1.1989421844482422,
          -9.069469451904297,
          -8.245773315429688,
          -8.326619148254395,
          1.1297246217727661,
          1.0487297773361206,
          -1.3072645664215088,
          -8.266589164733887,
          -7.947123050689697,
          -8.33772087097168,
          -8.333975791931152,
          -1.4175240993499756,
          -9.001321792602539,
          -1.4905380010604858,
          -1.203628420829773,
          -7.9377899169921875,
          -7.960019111633301,
          -9.066391944885254,
          -8.323143005371094,
          -8.363359451293945,
          1.4451600313186646,
          -8.988288879394531,
          -8.313582420349121,
          0.9552991390228271,
          1.057657241821289,
          -7.800443172454834,
          1.0271493196487427,
          -9.021535873413086
         ],
         "y": [
          99.22383117675781,
          -85.61751556396484,
          -7.902068138122559,
          -85.04133605957031,
          -224.0290069580078,
          100.18769073486328,
          -6.358506679534912,
          97.35173797607422,
          -224.2768096923828,
          99.01925659179688,
          -223.4565887451172,
          97.9923324584961,
          -224.0631866455078,
          79.66646575927734,
          -8.310318946838379,
          95.99088287353516,
          -6.019826412200928,
          -223.5508575439453,
          97.25868225097656,
          96.64274597167969,
          83.66876220703125,
          -224.00221252441406,
          21.991287231445312,
          -224.3032989501953,
          77.92848205566406,
          99.90705871582031,
          20.820451736450195,
          91.28313446044922,
          22.040199279785156,
          89.0997085571289,
          82.57328033447266,
          98.1676254272461,
          -220.39349365234375,
          -8.871137619018555,
          -7.4011359214782715,
          -77.69561004638672,
          -223.9478759765625,
          -220.6476593017578,
          -86.28559112548828,
          96.65245819091797,
          -223.97813415527344,
          -223.4562530517578,
          98.33008575439453,
          -223.5001220703125,
          79.05408477783203,
          -224.1720733642578,
          -87.07775115966797,
          -223.35142517089844,
          -85.30110168457031,
          -224.41151428222656,
          -220.8892364501953,
          -85.72037506103516,
          -5.062809944152832,
          80.56488037109375,
          -220.61419677734375,
          -224.0802764892578,
          -224.3853759765625,
          -82.903076171875,
          77.10033416748047,
          -5.318874359130859,
          97.07494354248047,
          81.51457977294922,
          -223.1396484375,
          25.397764205932617,
          23.52039909362793,
          -224.44325256347656,
          -88.01378631591797,
          -224.51260375976562,
          -85.12503814697266,
          -224.24806213378906,
          98.53108215332031,
          -224.75482177734375,
          24.495582580566406,
          -223.66929626464844,
          -6.486972332000732,
          -223.2433319091797,
          96.9415283203125,
          86.6695785522461,
          19.298110961914062,
          -10.951906204223633,
          -85.49456024169922,
          -4.783500671386719,
          -223.4702911376953,
          21.118961334228516,
          -220.13584899902344,
          19.737688064575195,
          23.955860137939453,
          -78.04053497314453,
          -86.06586456298828,
          -223.66441345214844,
          -223.907470703125,
          -223.57574462890625,
          97.32505798339844,
          -224.48582458496094,
          -223.20297241210938,
          93.92138671875,
          92.17440795898438,
          -84.00409698486328,
          81.00321960449219,
          -220.72935485839844
         ]
        },
        {
         "mode": "markers",
         "name": "pos 8, corr: 0.87",
         "type": "scatter",
         "x": [
          -8.972147941589355,
          -7.8964643478393555,
          -7.971114158630371,
          -7.840399742126465,
          -8.993802070617676,
          -7.618239879608154,
          2.1390998363494873,
          2.168191909790039,
          -9.069181442260742,
          -7.945213794708252,
          -9.007360458374023,
          -8.99065113067627,
          -9.036003112792969,
          -7.965418338775635,
          -1.2743351459503174,
          -8.697900772094727,
          -7.947137832641602,
          2.15350079536438,
          1.995392084121704,
          -7.771781921386719,
          -7.918095588684082,
          -7.9365620613098145,
          -7.926638126373291,
          -7.681789398193359,
          -7.95961856842041,
          2.159959077835083,
          -7.5853471755981445,
          2.1446948051452637,
          1.6876248121261597,
          2.036616802215576,
          -7.6052680015563965,
          -8.669510841369629,
          1.6948169469833374,
          2.1760566234588623,
          -7.968885898590088,
          -7.519026279449463,
          -7.629614353179932,
          -7.941956520080566,
          -7.9593353271484375,
          1.960265040397644,
          -9.0109224319458,
          -7.585925102233887,
          1.6189348697662354,
          2.0821805000305176,
          2.048943281173706,
          1.6424694061279297,
          -8.944302558898926,
          -8.6015625,
          -7.969043731689453,
          -7.912086009979248,
          -7.674441337585449,
          -9.028800010681152,
          -8.586822509765625,
          -8.953801155090332,
          -9.077710151672363,
          1.6903867721557617,
          -1.3139785528182983,
          -7.595241546630859,
          -7.969401836395264,
          -7.660525798797607,
          -7.956511974334717,
          -8.654343605041504,
          -7.626405715942383,
          2.0993926525115967,
          -1.1679461002349854,
          2.0481719970703125,
          -7.9675374031066895,
          2.086151123046875,
          -8.972472190856934,
          2.1365787982940674,
          -7.905179977416992,
          -8.614850044250488,
          -8.94371509552002,
          -8.737082481384277,
          2.1591007709503174,
          -8.992025375366211,
          -7.995781898498535,
          -8.73951244354248,
          2.2974722385406494,
          2.1210546493530273,
          -1.203338384628296,
          -8.654336929321289,
          -8.969351768493652,
          -1.3091286420822144,
          -7.925146102905273,
          -8.01904296875,
          -1.1008814573287964,
          -7.6649274826049805,
          1.6030051708221436,
          -8.021241188049316,
          -7.798984527587891,
          -7.655333042144775,
          -7.9410929679870605,
          -7.915839672088623,
          2.1591174602508545,
          -1.169582486152649,
          -1.1688827276229858,
          -7.9105424880981445,
          -1.2206534147262573,
          -1.3660391569137573
         ],
         "y": [
          -224.10122680664062,
          -87.71209716796875,
          -223.5223846435547,
          -87.15364837646484,
          -224.7584686279297,
          -20.84197235107422,
          88.88250732421875,
          91.85430908203125,
          -224.18785095214844,
          -223.25634765625,
          -224.17160034179688,
          -224.0347137451172,
          -223.93453979492188,
          -223.61370849609375,
          12.50631046295166,
          -223.53369140625,
          -223.31031799316406,
          89.76886749267578,
          93.45345306396484,
          -21.514101028442383,
          -223.38294982910156,
          -87.97321319580078,
          -223.5447540283203,
          -8.886608123779297,
          -223.26931762695312,
          96.00005340576172,
          -23.69331932067871,
          90.91637420654297,
          72.34444427490234,
          88.56092834472656,
          -12.981117248535156,
          -223.8818817138672,
          70.8868179321289,
          91.45845031738281,
          -223.10897827148438,
          -11.60151195526123,
          -14.288000106811523,
          -80.59015655517578,
          -223.51370239257812,
          92.83960723876953,
          -224.35813903808594,
          -12.028729438781738,
          97.14148712158203,
          87.62078094482422,
          88.16649627685547,
          72.34732055664062,
          -224.14634704589844,
          -223.6453399658203,
          -223.45884704589844,
          -87.8723373413086,
          -19.155521392822266,
          -224.2965087890625,
          -224.153076171875,
          -224.26019287109375,
          -220.59034729003906,
          93.30522918701172,
          8.886094093322754,
          -26.644189834594727,
          -88.24705505371094,
          -4.982519149780273,
          -223.04017639160156,
          -223.9200439453125,
          -10.267226219177246,
          90.16938018798828,
          24.423561096191406,
          87.66316223144531,
          -223.6953887939453,
          93.62149047851562,
          -223.88330078125,
          88.72300720214844,
          -87.968994140625,
          -224.17181396484375,
          -224.10061645507812,
          -223.5800018310547,
          89.85799407958984,
          -224.0439910888672,
          -223.49114990234375,
          -223.71279907226562,
          89.99993133544922,
          88.57308959960938,
          23.2607421875,
          -223.644775390625,
          -224.20362854003906,
          5.749479293823242,
          -80.23295593261719,
          -219.7119140625,
          23.87751007080078,
          -16.012523651123047,
          78.43840789794922,
          -223.114013671875,
          -87.13858032226562,
          -23.481908798217773,
          -223.168212890625,
          -89.19061279296875,
          88.33035278320312,
          25.19489097595215,
          24.21101951599121,
          -223.42343139648438,
          23.079153060913086,
          5.33099365234375
         ]
        }
       ],
       "layout": {
        "template": {
         "data": {
          "bar": [
           {
            "error_x": {
             "color": "#2a3f5f"
            },
            "error_y": {
             "color": "#2a3f5f"
            },
            "marker": {
             "line": {
              "color": "#E5ECF6",
              "width": 0.5
             },
             "pattern": {
              "fillmode": "overlay",
              "size": 10,
              "solidity": 0.2
             }
            },
            "type": "bar"
           }
          ],
          "barpolar": [
           {
            "marker": {
             "line": {
              "color": "#E5ECF6",
              "width": 0.5
             },
             "pattern": {
              "fillmode": "overlay",
              "size": 10,
              "solidity": 0.2
             }
            },
            "type": "barpolar"
           }
          ],
          "carpet": [
           {
            "aaxis": {
             "endlinecolor": "#2a3f5f",
             "gridcolor": "white",
             "linecolor": "white",
             "minorgridcolor": "white",
             "startlinecolor": "#2a3f5f"
            },
            "baxis": {
             "endlinecolor": "#2a3f5f",
             "gridcolor": "white",
             "linecolor": "white",
             "minorgridcolor": "white",
             "startlinecolor": "#2a3f5f"
            },
            "type": "carpet"
           }
          ],
          "choropleth": [
           {
            "colorbar": {
             "outlinewidth": 0,
             "ticks": ""
            },
            "type": "choropleth"
           }
          ],
          "contour": [
           {
            "colorbar": {
             "outlinewidth": 0,
             "ticks": ""
            },
            "colorscale": [
             [
              0,
              "#0d0887"
             ],
             [
              0.1111111111111111,
              "#46039f"
             ],
             [
              0.2222222222222222,
              "#7201a8"
             ],
             [
              0.3333333333333333,
              "#9c179e"
             ],
             [
              0.4444444444444444,
              "#bd3786"
             ],
             [
              0.5555555555555556,
              "#d8576b"
             ],
             [
              0.6666666666666666,
              "#ed7953"
             ],
             [
              0.7777777777777778,
              "#fb9f3a"
             ],
             [
              0.8888888888888888,
              "#fdca26"
             ],
             [
              1,
              "#f0f921"
             ]
            ],
            "type": "contour"
           }
          ],
          "contourcarpet": [
           {
            "colorbar": {
             "outlinewidth": 0,
             "ticks": ""
            },
            "type": "contourcarpet"
           }
          ],
          "heatmap": [
           {
            "colorbar": {
             "outlinewidth": 0,
             "ticks": ""
            },
            "colorscale": [
             [
              0,
              "#0d0887"
             ],
             [
              0.1111111111111111,
              "#46039f"
             ],
             [
              0.2222222222222222,
              "#7201a8"
             ],
             [
              0.3333333333333333,
              "#9c179e"
             ],
             [
              0.4444444444444444,
              "#bd3786"
             ],
             [
              0.5555555555555556,
              "#d8576b"
             ],
             [
              0.6666666666666666,
              "#ed7953"
             ],
             [
              0.7777777777777778,
              "#fb9f3a"
             ],
             [
              0.8888888888888888,
              "#fdca26"
             ],
             [
              1,
              "#f0f921"
             ]
            ],
            "type": "heatmap"
           }
          ],
          "heatmapgl": [
           {
            "colorbar": {
             "outlinewidth": 0,
             "ticks": ""
            },
            "colorscale": [
             [
              0,
              "#0d0887"
             ],
             [
              0.1111111111111111,
              "#46039f"
             ],
             [
              0.2222222222222222,
              "#7201a8"
             ],
             [
              0.3333333333333333,
              "#9c179e"
             ],
             [
              0.4444444444444444,
              "#bd3786"
             ],
             [
              0.5555555555555556,
              "#d8576b"
             ],
             [
              0.6666666666666666,
              "#ed7953"
             ],
             [
              0.7777777777777778,
              "#fb9f3a"
             ],
             [
              0.8888888888888888,
              "#fdca26"
             ],
             [
              1,
              "#f0f921"
             ]
            ],
            "type": "heatmapgl"
           }
          ],
          "histogram": [
           {
            "marker": {
             "pattern": {
              "fillmode": "overlay",
              "size": 10,
              "solidity": 0.2
             }
            },
            "type": "histogram"
           }
          ],
          "histogram2d": [
           {
            "colorbar": {
             "outlinewidth": 0,
             "ticks": ""
            },
            "colorscale": [
             [
              0,
              "#0d0887"
             ],
             [
              0.1111111111111111,
              "#46039f"
             ],
             [
              0.2222222222222222,
              "#7201a8"
             ],
             [
              0.3333333333333333,
              "#9c179e"
             ],
             [
              0.4444444444444444,
              "#bd3786"
             ],
             [
              0.5555555555555556,
              "#d8576b"
             ],
             [
              0.6666666666666666,
              "#ed7953"
             ],
             [
              0.7777777777777778,
              "#fb9f3a"
             ],
             [
              0.8888888888888888,
              "#fdca26"
             ],
             [
              1,
              "#f0f921"
             ]
            ],
            "type": "histogram2d"
           }
          ],
          "histogram2dcontour": [
           {
            "colorbar": {
             "outlinewidth": 0,
             "ticks": ""
            },
            "colorscale": [
             [
              0,
              "#0d0887"
             ],
             [
              0.1111111111111111,
              "#46039f"
             ],
             [
              0.2222222222222222,
              "#7201a8"
             ],
             [
              0.3333333333333333,
              "#9c179e"
             ],
             [
              0.4444444444444444,
              "#bd3786"
             ],
             [
              0.5555555555555556,
              "#d8576b"
             ],
             [
              0.6666666666666666,
              "#ed7953"
             ],
             [
              0.7777777777777778,
              "#fb9f3a"
             ],
             [
              0.8888888888888888,
              "#fdca26"
             ],
             [
              1,
              "#f0f921"
             ]
            ],
            "type": "histogram2dcontour"
           }
          ],
          "mesh3d": [
           {
            "colorbar": {
             "outlinewidth": 0,
             "ticks": ""
            },
            "type": "mesh3d"
           }
          ],
          "parcoords": [
           {
            "line": {
             "colorbar": {
              "outlinewidth": 0,
              "ticks": ""
             }
            },
            "type": "parcoords"
           }
          ],
          "pie": [
           {
            "automargin": true,
            "type": "pie"
           }
          ],
          "scatter": [
           {
            "fillpattern": {
             "fillmode": "overlay",
             "size": 10,
             "solidity": 0.2
            },
            "type": "scatter"
           }
          ],
          "scatter3d": [
           {
            "line": {
             "colorbar": {
              "outlinewidth": 0,
              "ticks": ""
             }
            },
            "marker": {
             "colorbar": {
              "outlinewidth": 0,
              "ticks": ""
             }
            },
            "type": "scatter3d"
           }
          ],
          "scattercarpet": [
           {
            "marker": {
             "colorbar": {
              "outlinewidth": 0,
              "ticks": ""
             }
            },
            "type": "scattercarpet"
           }
          ],
          "scattergeo": [
           {
            "marker": {
             "colorbar": {
              "outlinewidth": 0,
              "ticks": ""
             }
            },
            "type": "scattergeo"
           }
          ],
          "scattergl": [
           {
            "marker": {
             "colorbar": {
              "outlinewidth": 0,
              "ticks": ""
             }
            },
            "type": "scattergl"
           }
          ],
          "scattermapbox": [
           {
            "marker": {
             "colorbar": {
              "outlinewidth": 0,
              "ticks": ""
             }
            },
            "type": "scattermapbox"
           }
          ],
          "scatterpolar": [
           {
            "marker": {
             "colorbar": {
              "outlinewidth": 0,
              "ticks": ""
             }
            },
            "type": "scatterpolar"
           }
          ],
          "scatterpolargl": [
           {
            "marker": {
             "colorbar": {
              "outlinewidth": 0,
              "ticks": ""
             }
            },
            "type": "scatterpolargl"
           }
          ],
          "scatterternary": [
           {
            "marker": {
             "colorbar": {
              "outlinewidth": 0,
              "ticks": ""
             }
            },
            "type": "scatterternary"
           }
          ],
          "surface": [
           {
            "colorbar": {
             "outlinewidth": 0,
             "ticks": ""
            },
            "colorscale": [
             [
              0,
              "#0d0887"
             ],
             [
              0.1111111111111111,
              "#46039f"
             ],
             [
              0.2222222222222222,
              "#7201a8"
             ],
             [
              0.3333333333333333,
              "#9c179e"
             ],
             [
              0.4444444444444444,
              "#bd3786"
             ],
             [
              0.5555555555555556,
              "#d8576b"
             ],
             [
              0.6666666666666666,
              "#ed7953"
             ],
             [
              0.7777777777777778,
              "#fb9f3a"
             ],
             [
              0.8888888888888888,
              "#fdca26"
             ],
             [
              1,
              "#f0f921"
             ]
            ],
            "type": "surface"
           }
          ],
          "table": [
           {
            "cells": {
             "fill": {
              "color": "#EBF0F8"
             },
             "line": {
              "color": "white"
             }
            },
            "header": {
             "fill": {
              "color": "#C8D4E3"
             },
             "line": {
              "color": "white"
             }
            },
            "type": "table"
           }
          ]
         },
         "layout": {
          "annotationdefaults": {
           "arrowcolor": "#2a3f5f",
           "arrowhead": 0,
           "arrowwidth": 1
          },
          "autotypenumbers": "strict",
          "coloraxis": {
           "colorbar": {
            "outlinewidth": 0,
            "ticks": ""
           }
          },
          "colorscale": {
           "diverging": [
            [
             0,
             "#8e0152"
            ],
            [
             0.1,
             "#c51b7d"
            ],
            [
             0.2,
             "#de77ae"
            ],
            [
             0.3,
             "#f1b6da"
            ],
            [
             0.4,
             "#fde0ef"
            ],
            [
             0.5,
             "#f7f7f7"
            ],
            [
             0.6,
             "#e6f5d0"
            ],
            [
             0.7,
             "#b8e186"
            ],
            [
             0.8,
             "#7fbc41"
            ],
            [
             0.9,
             "#4d9221"
            ],
            [
             1,
             "#276419"
            ]
           ],
           "sequential": [
            [
             0,
             "#0d0887"
            ],
            [
             0.1111111111111111,
             "#46039f"
            ],
            [
             0.2222222222222222,
             "#7201a8"
            ],
            [
             0.3333333333333333,
             "#9c179e"
            ],
            [
             0.4444444444444444,
             "#bd3786"
            ],
            [
             0.5555555555555556,
             "#d8576b"
            ],
            [
             0.6666666666666666,
             "#ed7953"
            ],
            [
             0.7777777777777778,
             "#fb9f3a"
            ],
            [
             0.8888888888888888,
             "#fdca26"
            ],
            [
             1,
             "#f0f921"
            ]
           ],
           "sequentialminus": [
            [
             0,
             "#0d0887"
            ],
            [
             0.1111111111111111,
             "#46039f"
            ],
            [
             0.2222222222222222,
             "#7201a8"
            ],
            [
             0.3333333333333333,
             "#9c179e"
            ],
            [
             0.4444444444444444,
             "#bd3786"
            ],
            [
             0.5555555555555556,
             "#d8576b"
            ],
            [
             0.6666666666666666,
             "#ed7953"
            ],
            [
             0.7777777777777778,
             "#fb9f3a"
            ],
            [
             0.8888888888888888,
             "#fdca26"
            ],
            [
             1,
             "#f0f921"
            ]
           ]
          },
          "colorway": [
           "#636efa",
           "#EF553B",
           "#00cc96",
           "#ab63fa",
           "#FFA15A",
           "#19d3f3",
           "#FF6692",
           "#B6E880",
           "#FF97FF",
           "#FECB52"
          ],
          "font": {
           "color": "#2a3f5f"
          },
          "geo": {
           "bgcolor": "white",
           "lakecolor": "white",
           "landcolor": "#E5ECF6",
           "showlakes": true,
           "showland": true,
           "subunitcolor": "white"
          },
          "hoverlabel": {
           "align": "left"
          },
          "hovermode": "closest",
          "mapbox": {
           "style": "light"
          },
          "paper_bgcolor": "white",
          "plot_bgcolor": "#E5ECF6",
          "polar": {
           "angularaxis": {
            "gridcolor": "white",
            "linecolor": "white",
            "ticks": ""
           },
           "bgcolor": "#E5ECF6",
           "radialaxis": {
            "gridcolor": "white",
            "linecolor": "white",
            "ticks": ""
           }
          },
          "scene": {
           "xaxis": {
            "backgroundcolor": "#E5ECF6",
            "gridcolor": "white",
            "gridwidth": 2,
            "linecolor": "white",
            "showbackground": true,
            "ticks": "",
            "zerolinecolor": "white"
           },
           "yaxis": {
            "backgroundcolor": "#E5ECF6",
            "gridcolor": "white",
            "gridwidth": 2,
            "linecolor": "white",
            "showbackground": true,
            "ticks": "",
            "zerolinecolor": "white"
           },
           "zaxis": {
            "backgroundcolor": "#E5ECF6",
            "gridcolor": "white",
            "gridwidth": 2,
            "linecolor": "white",
            "showbackground": true,
            "ticks": "",
            "zerolinecolor": "white"
           }
          },
          "shapedefaults": {
           "line": {
            "color": "#2a3f5f"
           }
          },
          "ternary": {
           "aaxis": {
            "gridcolor": "white",
            "linecolor": "white",
            "ticks": ""
           },
           "baxis": {
            "gridcolor": "white",
            "linecolor": "white",
            "ticks": ""
           },
           "bgcolor": "#E5ECF6",
           "caxis": {
            "gridcolor": "white",
            "linecolor": "white",
            "ticks": ""
           }
          },
          "title": {
           "x": 0.05
          },
          "xaxis": {
           "automargin": true,
           "gridcolor": "white",
           "linecolor": "white",
           "ticks": "",
           "title": {
            "standoff": 15
           },
           "zerolinecolor": "white",
           "zerolinewidth": 2
          },
          "yaxis": {
           "automargin": true,
           "gridcolor": "white",
           "linecolor": "white",
           "ticks": "",
           "title": {
            "standoff": 15
           },
           "zerolinecolor": "white",
           "zerolinewidth": 2
          }
         }
        },
        "title": {
         "text": "Logit Lens Results for 0_mlp_out"
        },
        "xaxis": {
         "title": {
          "text": "Logit Lens Results"
         }
        },
        "yaxis": {
         "title": {
          "text": "True Logits"
         }
        }
       }
      }
     },
     "metadata": {},
     "output_type": "display_data"
    }
   ],
   "source": [
    "if model_pair.hl_model.is_categorical():\n",
    "    logit_lens_per_vocab, per_vocab_labels = logit_lens.do_logit_lens_per_vocab_idx(model_pair, loader)\n",
    "    # k = \"L1H2\"\n",
    "    k = \"0_mlp_out\"\n",
    "    vocab_dim = 1\n",
    "\n",
    "    fig = go.Figure()\n",
    "\n",
    "    for i in range(logit_lens_results[k].shape[1]):\n",
    "        y = per_vocab_labels[vocab_dim][:, i].squeeze().detach().cpu().numpy()\n",
    "        x = logit_lens_per_vocab[k][vocab_dim][:, i].detach().cpu().numpy()\n",
    "        pearson_corr = stats.pearsonr(x, y)\n",
    "        fig.add_trace(go.Scatter(x=x, y=y, mode='markers', name=f\"pos {i}, corr: {pearson_corr[0]:.2f}\"))\n",
    "\n",
    "    fig.update_layout(title=f\"Logit Lens Results for {k}\", yaxis_title=\"True Logits\", xaxis_title=\"Logit Lens Results\")\n",
    "    fig.show()"
   ]
  },
  {
   "cell_type": "code",
   "execution_count": 40,
   "metadata": {},
   "outputs": [],
   "source": [
    "logit_diff_directions = model.unembed.W_U.T # d_model, d_vocab_out\n",
    "# make batch, pos, d_model, d_vocab_out by expanding\n",
    "batch_dims = 10\n",
    "pos_dims = 8\n",
    "logit_diff_directions = logit_diff_directions.unsqueeze(0).unsqueeze(1).expand(\n",
    "    batch_dims, pos_dims, -1, -1\n",
    ")"
   ]
  },
  {
   "cell_type": "code",
   "execution_count": 42,
   "metadata": {},
   "outputs": [
    {
     "data": {
      "text/plain": [
       "torch.Size([10, 8, 5, 12])"
      ]
     },
     "execution_count": 42,
     "metadata": {},
     "output_type": "execute_result"
    }
   ],
   "source": [
    "logit_diff_directions.shape"
   ]
  },
  {
   "cell_type": "code",
   "execution_count": 20,
   "metadata": {},
   "outputs": [
    {
     "name": "stderr",
     "output_type": "stream",
     "text": [
      "/var/folders/_k/_46xyqdj165bdcyw79k6758w0000gn/T/ipykernel_52816/3225757282.py:8: ConstantInputWarning:\n",
      "\n",
      "An input array is constant; the correlation coefficient is not defined.\n",
      "\n"
     ]
    },
    {
     "data": {
      "application/vnd.plotly.v1+json": {
       "config": {
        "plotlyServerURL": "https://plot.ly"
       },
       "data": [
        {
         "coloraxis": "coloraxis",
         "hovertemplate": "Layer/Head: %{x}<br>Position: %{y}<br>Pearson Correlation: %{z}<extra></extra>",
         "name": "0",
         "type": "heatmap",
         "x": [
          "embed",
          "pos_embed",
          "0_mlp_out",
          "1_mlp_out",
          "L0H0",
          "L0H1",
          "L0H2",
          "L0H3",
          "L1H0",
          "L1H1",
          "L1H2",
          "L1H3"
         ],
         "xaxis": "x",
         "y": [
          "0",
          "1",
          "2",
          "3"
         ],
         "yaxis": "y",
         "z": [
          [
           -0.9978882473218427,
           null,
           -0.9912859546217149,
           -0.08934376788977222,
           -0.9884733595871456,
           -0.9686663739821058,
           -0.9533431958838166,
           0.9786561173653471,
           0.9997425072853052,
           0.9931037240757102,
           0.9999993480409664,
           -0.998339124882295
          ],
          [
           -0.7127412230097617,
           null,
           -0.15977038182372857,
           0.8664284885019671,
           -0.9004754021948076,
           -0.6557205092064275,
           -0.8440871601273245,
           0.3683416544121161,
           0.7290764052761376,
           0.9055599354530698,
           0.9999083209711135,
           -0.8519071184571749
          ],
          [
           -0.5502640639786271,
           null,
           0.8875663407628334,
           0.03865848194403911,
           -0.8215537453863115,
           -0.8762974747355237,
           -0.7813023637524805,
           0.31656488795902565,
           0.5674139777859474,
           0.765387112080625,
           0.9999531345520379,
           -0.8492867956512385
          ],
          [
           -0.5753069189434832,
           null,
           -0.050838439148055956,
           0.08001338522794005,
           -0.8091652277187565,
           -0.8237253861116323,
           -0.6617435756122154,
           0.49090652293154835,
           0.5979020199428982,
           0.7434510655681668,
           0.9998869206671028,
           -0.8731736089217057
          ]
         ]
        }
       ],
       "layout": {
        "coloraxis": {
         "colorbar": {
          "title": {
           "text": "Pearson Correlation"
          }
         },
         "colorscale": [
          [
           0,
           "#440154"
          ],
          [
           0.1111111111111111,
           "#482878"
          ],
          [
           0.2222222222222222,
           "#3e4989"
          ],
          [
           0.3333333333333333,
           "#31688e"
          ],
          [
           0.4444444444444444,
           "#26828e"
          ],
          [
           0.5555555555555556,
           "#1f9e89"
          ],
          [
           0.6666666666666666,
           "#35b779"
          ],
          [
           0.7777777777777778,
           "#6ece58"
          ],
          [
           0.8888888888888888,
           "#b5de2b"
          ],
          [
           1,
           "#fde725"
          ]
         ]
        },
        "margin": {
         "t": 60
        },
        "template": {
         "data": {
          "bar": [
           {
            "error_x": {
             "color": "#2a3f5f"
            },
            "error_y": {
             "color": "#2a3f5f"
            },
            "marker": {
             "line": {
              "color": "#E5ECF6",
              "width": 0.5
             },
             "pattern": {
              "fillmode": "overlay",
              "size": 10,
              "solidity": 0.2
             }
            },
            "type": "bar"
           }
          ],
          "barpolar": [
           {
            "marker": {
             "line": {
              "color": "#E5ECF6",
              "width": 0.5
             },
             "pattern": {
              "fillmode": "overlay",
              "size": 10,
              "solidity": 0.2
             }
            },
            "type": "barpolar"
           }
          ],
          "carpet": [
           {
            "aaxis": {
             "endlinecolor": "#2a3f5f",
             "gridcolor": "white",
             "linecolor": "white",
             "minorgridcolor": "white",
             "startlinecolor": "#2a3f5f"
            },
            "baxis": {
             "endlinecolor": "#2a3f5f",
             "gridcolor": "white",
             "linecolor": "white",
             "minorgridcolor": "white",
             "startlinecolor": "#2a3f5f"
            },
            "type": "carpet"
           }
          ],
          "choropleth": [
           {
            "colorbar": {
             "outlinewidth": 0,
             "ticks": ""
            },
            "type": "choropleth"
           }
          ],
          "contour": [
           {
            "colorbar": {
             "outlinewidth": 0,
             "ticks": ""
            },
            "colorscale": [
             [
              0,
              "#0d0887"
             ],
             [
              0.1111111111111111,
              "#46039f"
             ],
             [
              0.2222222222222222,
              "#7201a8"
             ],
             [
              0.3333333333333333,
              "#9c179e"
             ],
             [
              0.4444444444444444,
              "#bd3786"
             ],
             [
              0.5555555555555556,
              "#d8576b"
             ],
             [
              0.6666666666666666,
              "#ed7953"
             ],
             [
              0.7777777777777778,
              "#fb9f3a"
             ],
             [
              0.8888888888888888,
              "#fdca26"
             ],
             [
              1,
              "#f0f921"
             ]
            ],
            "type": "contour"
           }
          ],
          "contourcarpet": [
           {
            "colorbar": {
             "outlinewidth": 0,
             "ticks": ""
            },
            "type": "contourcarpet"
           }
          ],
          "heatmap": [
           {
            "colorbar": {
             "outlinewidth": 0,
             "ticks": ""
            },
            "colorscale": [
             [
              0,
              "#0d0887"
             ],
             [
              0.1111111111111111,
              "#46039f"
             ],
             [
              0.2222222222222222,
              "#7201a8"
             ],
             [
              0.3333333333333333,
              "#9c179e"
             ],
             [
              0.4444444444444444,
              "#bd3786"
             ],
             [
              0.5555555555555556,
              "#d8576b"
             ],
             [
              0.6666666666666666,
              "#ed7953"
             ],
             [
              0.7777777777777778,
              "#fb9f3a"
             ],
             [
              0.8888888888888888,
              "#fdca26"
             ],
             [
              1,
              "#f0f921"
             ]
            ],
            "type": "heatmap"
           }
          ],
          "heatmapgl": [
           {
            "colorbar": {
             "outlinewidth": 0,
             "ticks": ""
            },
            "colorscale": [
             [
              0,
              "#0d0887"
             ],
             [
              0.1111111111111111,
              "#46039f"
             ],
             [
              0.2222222222222222,
              "#7201a8"
             ],
             [
              0.3333333333333333,
              "#9c179e"
             ],
             [
              0.4444444444444444,
              "#bd3786"
             ],
             [
              0.5555555555555556,
              "#d8576b"
             ],
             [
              0.6666666666666666,
              "#ed7953"
             ],
             [
              0.7777777777777778,
              "#fb9f3a"
             ],
             [
              0.8888888888888888,
              "#fdca26"
             ],
             [
              1,
              "#f0f921"
             ]
            ],
            "type": "heatmapgl"
           }
          ],
          "histogram": [
           {
            "marker": {
             "pattern": {
              "fillmode": "overlay",
              "size": 10,
              "solidity": 0.2
             }
            },
            "type": "histogram"
           }
          ],
          "histogram2d": [
           {
            "colorbar": {
             "outlinewidth": 0,
             "ticks": ""
            },
            "colorscale": [
             [
              0,
              "#0d0887"
             ],
             [
              0.1111111111111111,
              "#46039f"
             ],
             [
              0.2222222222222222,
              "#7201a8"
             ],
             [
              0.3333333333333333,
              "#9c179e"
             ],
             [
              0.4444444444444444,
              "#bd3786"
             ],
             [
              0.5555555555555556,
              "#d8576b"
             ],
             [
              0.6666666666666666,
              "#ed7953"
             ],
             [
              0.7777777777777778,
              "#fb9f3a"
             ],
             [
              0.8888888888888888,
              "#fdca26"
             ],
             [
              1,
              "#f0f921"
             ]
            ],
            "type": "histogram2d"
           }
          ],
          "histogram2dcontour": [
           {
            "colorbar": {
             "outlinewidth": 0,
             "ticks": ""
            },
            "colorscale": [
             [
              0,
              "#0d0887"
             ],
             [
              0.1111111111111111,
              "#46039f"
             ],
             [
              0.2222222222222222,
              "#7201a8"
             ],
             [
              0.3333333333333333,
              "#9c179e"
             ],
             [
              0.4444444444444444,
              "#bd3786"
             ],
             [
              0.5555555555555556,
              "#d8576b"
             ],
             [
              0.6666666666666666,
              "#ed7953"
             ],
             [
              0.7777777777777778,
              "#fb9f3a"
             ],
             [
              0.8888888888888888,
              "#fdca26"
             ],
             [
              1,
              "#f0f921"
             ]
            ],
            "type": "histogram2dcontour"
           }
          ],
          "mesh3d": [
           {
            "colorbar": {
             "outlinewidth": 0,
             "ticks": ""
            },
            "type": "mesh3d"
           }
          ],
          "parcoords": [
           {
            "line": {
             "colorbar": {
              "outlinewidth": 0,
              "ticks": ""
             }
            },
            "type": "parcoords"
           }
          ],
          "pie": [
           {
            "automargin": true,
            "type": "pie"
           }
          ],
          "scatter": [
           {
            "fillpattern": {
             "fillmode": "overlay",
             "size": 10,
             "solidity": 0.2
            },
            "type": "scatter"
           }
          ],
          "scatter3d": [
           {
            "line": {
             "colorbar": {
              "outlinewidth": 0,
              "ticks": ""
             }
            },
            "marker": {
             "colorbar": {
              "outlinewidth": 0,
              "ticks": ""
             }
            },
            "type": "scatter3d"
           }
          ],
          "scattercarpet": [
           {
            "marker": {
             "colorbar": {
              "outlinewidth": 0,
              "ticks": ""
             }
            },
            "type": "scattercarpet"
           }
          ],
          "scattergeo": [
           {
            "marker": {
             "colorbar": {
              "outlinewidth": 0,
              "ticks": ""
             }
            },
            "type": "scattergeo"
           }
          ],
          "scattergl": [
           {
            "marker": {
             "colorbar": {
              "outlinewidth": 0,
              "ticks": ""
             }
            },
            "type": "scattergl"
           }
          ],
          "scattermapbox": [
           {
            "marker": {
             "colorbar": {
              "outlinewidth": 0,
              "ticks": ""
             }
            },
            "type": "scattermapbox"
           }
          ],
          "scatterpolar": [
           {
            "marker": {
             "colorbar": {
              "outlinewidth": 0,
              "ticks": ""
             }
            },
            "type": "scatterpolar"
           }
          ],
          "scatterpolargl": [
           {
            "marker": {
             "colorbar": {
              "outlinewidth": 0,
              "ticks": ""
             }
            },
            "type": "scatterpolargl"
           }
          ],
          "scatterternary": [
           {
            "marker": {
             "colorbar": {
              "outlinewidth": 0,
              "ticks": ""
             }
            },
            "type": "scatterternary"
           }
          ],
          "surface": [
           {
            "colorbar": {
             "outlinewidth": 0,
             "ticks": ""
            },
            "colorscale": [
             [
              0,
              "#0d0887"
             ],
             [
              0.1111111111111111,
              "#46039f"
             ],
             [
              0.2222222222222222,
              "#7201a8"
             ],
             [
              0.3333333333333333,
              "#9c179e"
             ],
             [
              0.4444444444444444,
              "#bd3786"
             ],
             [
              0.5555555555555556,
              "#d8576b"
             ],
             [
              0.6666666666666666,
              "#ed7953"
             ],
             [
              0.7777777777777778,
              "#fb9f3a"
             ],
             [
              0.8888888888888888,
              "#fdca26"
             ],
             [
              1,
              "#f0f921"
             ]
            ],
            "type": "surface"
           }
          ],
          "table": [
           {
            "cells": {
             "fill": {
              "color": "#EBF0F8"
             },
             "line": {
              "color": "white"
             }
            },
            "header": {
             "fill": {
              "color": "#C8D4E3"
             },
             "line": {
              "color": "white"
             }
            },
            "type": "table"
           }
          ]
         },
         "layout": {
          "annotationdefaults": {
           "arrowcolor": "#2a3f5f",
           "arrowhead": 0,
           "arrowwidth": 1
          },
          "autotypenumbers": "strict",
          "coloraxis": {
           "colorbar": {
            "outlinewidth": 0,
            "ticks": ""
           }
          },
          "colorscale": {
           "diverging": [
            [
             0,
             "#8e0152"
            ],
            [
             0.1,
             "#c51b7d"
            ],
            [
             0.2,
             "#de77ae"
            ],
            [
             0.3,
             "#f1b6da"
            ],
            [
             0.4,
             "#fde0ef"
            ],
            [
             0.5,
             "#f7f7f7"
            ],
            [
             0.6,
             "#e6f5d0"
            ],
            [
             0.7,
             "#b8e186"
            ],
            [
             0.8,
             "#7fbc41"
            ],
            [
             0.9,
             "#4d9221"
            ],
            [
             1,
             "#276419"
            ]
           ],
           "sequential": [
            [
             0,
             "#0d0887"
            ],
            [
             0.1111111111111111,
             "#46039f"
            ],
            [
             0.2222222222222222,
             "#7201a8"
            ],
            [
             0.3333333333333333,
             "#9c179e"
            ],
            [
             0.4444444444444444,
             "#bd3786"
            ],
            [
             0.5555555555555556,
             "#d8576b"
            ],
            [
             0.6666666666666666,
             "#ed7953"
            ],
            [
             0.7777777777777778,
             "#fb9f3a"
            ],
            [
             0.8888888888888888,
             "#fdca26"
            ],
            [
             1,
             "#f0f921"
            ]
           ],
           "sequentialminus": [
            [
             0,
             "#0d0887"
            ],
            [
             0.1111111111111111,
             "#46039f"
            ],
            [
             0.2222222222222222,
             "#7201a8"
            ],
            [
             0.3333333333333333,
             "#9c179e"
            ],
            [
             0.4444444444444444,
             "#bd3786"
            ],
            [
             0.5555555555555556,
             "#d8576b"
            ],
            [
             0.6666666666666666,
             "#ed7953"
            ],
            [
             0.7777777777777778,
             "#fb9f3a"
            ],
            [
             0.8888888888888888,
             "#fdca26"
            ],
            [
             1,
             "#f0f921"
            ]
           ]
          },
          "colorway": [
           "#636efa",
           "#EF553B",
           "#00cc96",
           "#ab63fa",
           "#FFA15A",
           "#19d3f3",
           "#FF6692",
           "#B6E880",
           "#FF97FF",
           "#FECB52"
          ],
          "font": {
           "color": "#2a3f5f"
          },
          "geo": {
           "bgcolor": "white",
           "lakecolor": "white",
           "landcolor": "#E5ECF6",
           "showlakes": true,
           "showland": true,
           "subunitcolor": "white"
          },
          "hoverlabel": {
           "align": "left"
          },
          "hovermode": "closest",
          "mapbox": {
           "style": "light"
          },
          "paper_bgcolor": "white",
          "plot_bgcolor": "#E5ECF6",
          "polar": {
           "angularaxis": {
            "gridcolor": "white",
            "linecolor": "white",
            "ticks": ""
           },
           "bgcolor": "#E5ECF6",
           "radialaxis": {
            "gridcolor": "white",
            "linecolor": "white",
            "ticks": ""
           }
          },
          "scene": {
           "xaxis": {
            "backgroundcolor": "#E5ECF6",
            "gridcolor": "white",
            "gridwidth": 2,
            "linecolor": "white",
            "showbackground": true,
            "ticks": "",
            "zerolinecolor": "white"
           },
           "yaxis": {
            "backgroundcolor": "#E5ECF6",
            "gridcolor": "white",
            "gridwidth": 2,
            "linecolor": "white",
            "showbackground": true,
            "ticks": "",
            "zerolinecolor": "white"
           },
           "zaxis": {
            "backgroundcolor": "#E5ECF6",
            "gridcolor": "white",
            "gridwidth": 2,
            "linecolor": "white",
            "showbackground": true,
            "ticks": "",
            "zerolinecolor": "white"
           }
          },
          "shapedefaults": {
           "line": {
            "color": "#2a3f5f"
           }
          },
          "ternary": {
           "aaxis": {
            "gridcolor": "white",
            "linecolor": "white",
            "ticks": ""
           },
           "baxis": {
            "gridcolor": "white",
            "linecolor": "white",
            "ticks": ""
           },
           "bgcolor": "#E5ECF6",
           "caxis": {
            "gridcolor": "white",
            "linecolor": "white",
            "ticks": ""
           }
          },
          "title": {
           "x": 0.05
          },
          "xaxis": {
           "automargin": true,
           "gridcolor": "white",
           "linecolor": "white",
           "ticks": "",
           "title": {
            "standoff": 15
           },
           "zerolinecolor": "white",
           "zerolinewidth": 2
          },
          "yaxis": {
           "automargin": true,
           "gridcolor": "white",
           "linecolor": "white",
           "ticks": "",
           "title": {
            "standoff": 15
           },
           "zerolinecolor": "white",
           "zerolinewidth": 2
          }
         }
        },
        "xaxis": {
         "anchor": "y",
         "constrain": "domain",
         "domain": [
          0,
          1
         ],
         "scaleanchor": "y",
         "title": {
          "text": "Layer/Head"
         }
        },
        "yaxis": {
         "anchor": "x",
         "autorange": "reversed",
         "constrain": "domain",
         "domain": [
          0,
          1
         ],
         "title": {
          "text": "Position"
         }
        }
       }
      }
     },
     "metadata": {},
     "output_type": "display_data"
    }
   ],
   "source": [
    "import pandas as pd\n",
    "import plotly.express as px\n",
    "pearson_corrs = {}\n",
    "for k in logit_lens_results.keys():\n",
    "    x = logit_lens_results[k].detach().cpu().numpy()\n",
    "    y = labels.detach().cpu().numpy()\n",
    "    for i in range(x.shape[1]): \n",
    "        pearson_corr = stats.pearsonr(x[:, i], y[:, i])\n",
    "        if k not in pearson_corrs:\n",
    "            pearson_corrs[k] = {}\n",
    "        pearson_corrs[k][str(i)] = pearson_corr.correlation\n",
    "\n",
    "pearson_corrs = pd.DataFrame(pearson_corrs)\n",
    "px.imshow(pearson_corrs, \n",
    "          # set color map\n",
    "            color_continuous_scale=\"Viridis\",\n",
    "            # set axis labels   \n",
    "            labels=dict(y=\"Position\", x=\"Layer/Head\", color=\"Pearson Correlation\"),\n",
    ")"
   ]
  },
  {
   "cell_type": "code",
   "execution_count": 32,
   "metadata": {},
   "outputs": [
    {
     "data": {
      "text/html": [
       "<div>\n",
       "<style scoped>\n",
       "    .dataframe tbody tr th:only-of-type {\n",
       "        vertical-align: middle;\n",
       "    }\n",
       "\n",
       "    .dataframe tbody tr th {\n",
       "        vertical-align: top;\n",
       "    }\n",
       "\n",
       "    .dataframe thead th {\n",
       "        text-align: right;\n",
       "    }\n",
       "</style>\n",
       "<table border=\"1\" class=\"dataframe\">\n",
       "  <thead>\n",
       "    <tr style=\"text-align: right;\">\n",
       "      <th></th>\n",
       "      <th>embed</th>\n",
       "      <th>pos_embed</th>\n",
       "      <th>0_mlp_out</th>\n",
       "      <th>1_mlp_out</th>\n",
       "      <th>L0H0</th>\n",
       "      <th>L0H1</th>\n",
       "      <th>L0H2</th>\n",
       "      <th>L0H3</th>\n",
       "      <th>L1H0</th>\n",
       "      <th>L1H1</th>\n",
       "      <th>L1H2</th>\n",
       "      <th>L1H3</th>\n",
       "    </tr>\n",
       "  </thead>\n",
       "  <tbody>\n",
       "    <tr>\n",
       "      <th>0</th>\n",
       "      <td>0.141054</td>\n",
       "      <td>0.0</td>\n",
       "      <td>0.326435</td>\n",
       "      <td>0.047036</td>\n",
       "      <td>0.043156</td>\n",
       "      <td>0.017481</td>\n",
       "      <td>0.057509</td>\n",
       "      <td>0.017454</td>\n",
       "      <td>0.698715</td>\n",
       "      <td>0.064397</td>\n",
       "      <td>0.017532</td>\n",
       "      <td>0.029497</td>\n",
       "    </tr>\n",
       "    <tr>\n",
       "      <th>1</th>\n",
       "      <td>0.141054</td>\n",
       "      <td>0.0</td>\n",
       "      <td>0.389155</td>\n",
       "      <td>0.044670</td>\n",
       "      <td>0.050453</td>\n",
       "      <td>0.023787</td>\n",
       "      <td>0.100339</td>\n",
       "      <td>0.020985</td>\n",
       "      <td>0.696097</td>\n",
       "      <td>0.079091</td>\n",
       "      <td>0.038061</td>\n",
       "      <td>0.047075</td>\n",
       "    </tr>\n",
       "    <tr>\n",
       "      <th>2</th>\n",
       "      <td>0.141054</td>\n",
       "      <td>0.0</td>\n",
       "      <td>0.407220</td>\n",
       "      <td>0.058867</td>\n",
       "      <td>0.045557</td>\n",
       "      <td>0.026155</td>\n",
       "      <td>0.114847</td>\n",
       "      <td>0.023848</td>\n",
       "      <td>0.710450</td>\n",
       "      <td>0.089134</td>\n",
       "      <td>0.041840</td>\n",
       "      <td>0.050687</td>\n",
       "    </tr>\n",
       "    <tr>\n",
       "      <th>3</th>\n",
       "      <td>0.141054</td>\n",
       "      <td>0.0</td>\n",
       "      <td>0.371703</td>\n",
       "      <td>0.085974</td>\n",
       "      <td>0.056181</td>\n",
       "      <td>0.028328</td>\n",
       "      <td>0.132014</td>\n",
       "      <td>0.021679</td>\n",
       "      <td>0.717134</td>\n",
       "      <td>0.096526</td>\n",
       "      <td>0.052626</td>\n",
       "      <td>0.057512</td>\n",
       "    </tr>\n",
       "  </tbody>\n",
       "</table>\n",
       "</div>"
      ],
      "text/plain": [
       "      embed  pos_embed  0_mlp_out  1_mlp_out      L0H0      L0H1      L0H2  \\\n",
       "0  0.141054        0.0   0.326435   0.047036  0.043156  0.017481  0.057509   \n",
       "1  0.141054        0.0   0.389155   0.044670  0.050453  0.023787  0.100339   \n",
       "2  0.141054        0.0   0.407220   0.058867  0.045557  0.026155  0.114847   \n",
       "3  0.141054        0.0   0.371703   0.085974  0.056181  0.028328  0.132014   \n",
       "\n",
       "       L0H3      L1H0      L1H1      L1H2      L1H3  \n",
       "0  0.017454  0.698715  0.064397  0.017532  0.029497  \n",
       "1  0.020985  0.696097  0.079091  0.038061  0.047075  \n",
       "2  0.023848  0.710450  0.089134  0.041840  0.050687  \n",
       "3  0.021679  0.717134  0.096526  0.052626  0.057512  "
      ]
     },
     "execution_count": 32,
     "metadata": {},
     "output_type": "execute_result"
    }
   ],
   "source": [
    "import pandas as pd\n",
    "stds = {}\n",
    "\n",
    "for k, tensor in logit_lens_results.items():\n",
    "    # calculate std of logit lens results across a position\n",
    "    # std = tensor.std(dim=0).detach().cpu().numpy()\n",
    "    # stds[k] = std\n",
    "    maxes = tensor.max(dim=0).values.detach().cpu().numpy()\n",
    "    mins = tensor.min(dim=0).values.detach().cpu().numpy()\n",
    "    maxminusmin = maxes - mins\n",
    "    stds[k] = maxminusmin\n",
    "\n",
    "stds_df = pd.DataFrame(stds)\n",
    "stds_df"
   ]
  },
  {
   "cell_type": "markdown",
   "metadata": {},
   "source": [
    "### Rough"
   ]
  },
  {
   "cell_type": "code",
   "execution_count": null,
   "metadata": {},
   "outputs": [],
   "source": [
    "# per_layer_residual, layers = cache.decompose_resid(-1, mode=\"mlp\", return_labels=True, pos_slice=slice(1, None, None ))\n",
    "# per_head_residual, attns = cache.stack_head_results(\n",
    "#     layer=-1, pos_slice=slice(1, None, None ), return_labels=True\n",
    "# )\n",
    "\n",
    "# logit_diff_directions = model.unembed.W_U.t().squeeze(0)\n",
    "\n",
    "# per_layer_logit_diff = residual_stack_to_logit_diff(per_layer_residual, cache, logit_diff_directions)\n",
    "# per_head_logit_diff = residual_stack_to_logit_diff(per_head_residual, cache, logit_diff_directions)\n",
    "\n",
    "# mlp_loss = torch.nn.functional.mse_loss(per_layer_logit_diff, labels.squeeze()[:, 1:], reduction=\"none\")\n",
    "# attn_loss = torch.nn.functional.mse_loss(per_head_logit_diff, labels.squeeze()[:, 1:], reduction=\"none\")\n",
    "# # mean everything except dim 0\n",
    "# mlp_loss = mlp_loss.mean(dim=[1, 2])\n",
    "# attn_loss = attn_loss.mean(dim=[1, 2])"
   ]
  },
  {
   "cell_type": "code",
   "execution_count": null,
   "metadata": {},
   "outputs": [],
   "source": [
    "# results = list(zip(layers, mlp_loss)) + (list(zip(attns, attn_loss)))\n",
    "# results"
   ]
  },
  {
   "cell_type": "code",
   "execution_count": null,
   "metadata": {},
   "outputs": [],
   "source": [
    "# head = 7\n",
    "# ex = 0\n",
    "# per_head_logit_diff[head][ex], labels[ex][1:], attns[head], batch[ex][1:]"
   ]
  },
  {
   "cell_type": "code",
   "execution_count": null,
   "metadata": {},
   "outputs": [],
   "source": [
    "# layer = 3\n",
    "# ex = 2\n",
    "# per_layer_logit_diff[layer][ex], labels[ex], layers[layer], batch[ex][1:]"
   ]
  },
  {
   "cell_type": "code",
   "execution_count": null,
   "metadata": {},
   "outputs": [],
   "source": []
  }
 ],
 "metadata": {
  "kernelspec": {
   "display_name": ".iit",
   "language": "python",
   "name": "python3"
  },
  "language_info": {
   "codemirror_mode": {
    "name": "ipython",
    "version": 3
   },
   "file_extension": ".py",
   "mimetype": "text/x-python",
   "name": "python",
   "nbconvert_exporter": "python",
   "pygments_lexer": "ipython3",
   "version": "3.11.4"
  }
 },
 "nbformat": 4,
 "nbformat_minor": 2
}
