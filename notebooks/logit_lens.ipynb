{
 "cells": [
  {
   "cell_type": "code",
   "execution_count": 1,
   "metadata": {},
   "outputs": [],
   "source": [
    "import pickle\n",
    "import torch\n",
    "from transformer_lens import HookedTransformerConfig, HookedTransformer\n",
    "from transformer_lens import HookedTransformer\n",
    "from circuits_benchmark.utils.get_cases import get_cases\n",
    "\n",
    "task = get_cases(indices=['3'])[0]\n",
    "task_idx = task.get_index()"
   ]
  },
  {
   "cell_type": "code",
   "execution_count": 2,
   "metadata": {},
   "outputs": [
    {
     "data": {
      "text/plain": [
       "<All keys matched successfully>"
      ]
     },
     "execution_count": 2,
     "metadata": {},
     "output_type": "execute_result"
    }
   ],
   "source": [
    "dir_name = f\"../InterpBench/{task_idx}\"\n",
    "cfg_dict = pickle.load(open(f\"{dir_name}/ll_model_cfg.pkl\", \"rb\"))\n",
    "cfg = HookedTransformerConfig.from_dict(cfg_dict)\n",
    "cfg.device = \"cuda\" if torch.cuda.is_available() else \"cpu\"\n",
    "model = HookedTransformer(cfg)\n",
    "weights = torch.load(f\"{dir_name}/ll_model.pth\", map_location=cfg.device)\n",
    "model.load_state_dict(weights)"
   ]
  },
  {
   "cell_type": "code",
   "execution_count": 3,
   "metadata": {},
   "outputs": [
    {
     "data": {
      "text/plain": [
       "<torch.autograd.grad_mode.set_grad_enabled at 0x2d2fad110>"
      ]
     },
     "execution_count": 3,
     "metadata": {},
     "output_type": "execute_result"
    }
   ],
   "source": [
    "# turn off grads\n",
    "model.eval()\n",
    "model.requires_grad_(False)\n",
    "torch.set_grad_enabled(False)"
   ]
  },
  {
   "cell_type": "code",
   "execution_count": 4,
   "metadata": {},
   "outputs": [],
   "source": [
    "# load high level model\n",
    "from circuits_benchmark.utils.iit import make_iit_hl_model\n",
    "import circuits_benchmark.utils.iit.correspondence as correspondence\n",
    "import iit.model_pairs as mp\n",
    "\n",
    "def make_model_pair(benchmark_case):\n",
    "    hl_model = benchmark_case.build_transformer_lens_model()\n",
    "    hl_model = make_iit_hl_model(hl_model, eval_mode=True)\n",
    "    tracr_output = benchmark_case.get_tracr_output()\n",
    "    hl_ll_corr = correspondence.TracrCorrespondence.from_output(\n",
    "            case=benchmark_case, tracr_output=tracr_output\n",
    "        )\n",
    "    model_pair = mp.StrictIITModelPair(hl_model, model, hl_ll_corr)\n",
    "    return model_pair"
   ]
  },
  {
   "cell_type": "code",
   "execution_count": 5,
   "metadata": {},
   "outputs": [],
   "source": [
    "max_len = 100"
   ]
  },
  {
   "cell_type": "code",
   "execution_count": 6,
   "metadata": {},
   "outputs": [
    {
     "name": "stdout",
     "output_type": "stream",
     "text": [
      "Moving model to device:  cpu\n",
      "{'hook_embed': HookPoint(), 'hook_pos_embed': HookPoint(), 'blocks.0.attn.hook_k': HookPoint(), 'blocks.0.attn.hook_q': HookPoint(), 'blocks.0.attn.hook_v': HookPoint(), 'blocks.0.attn.hook_z': HookPoint(), 'blocks.0.attn.hook_attn_scores': HookPoint(), 'blocks.0.attn.hook_pattern': HookPoint(), 'blocks.0.attn.hook_result': HookPoint(), 'blocks.0.mlp.hook_pre': HookPoint(), 'blocks.0.mlp.hook_post': HookPoint(), 'blocks.0.hook_attn_in': HookPoint(), 'blocks.0.hook_q_input': HookPoint(), 'blocks.0.hook_k_input': HookPoint(), 'blocks.0.hook_v_input': HookPoint(), 'blocks.0.hook_mlp_in': HookPoint(), 'blocks.0.hook_attn_out': HookPoint(), 'blocks.0.hook_mlp_out': HookPoint(), 'blocks.0.hook_resid_pre': HookPoint(), 'blocks.0.hook_resid_mid': HookPoint(), 'blocks.0.hook_resid_post': HookPoint(), 'blocks.1.attn.hook_k': HookPoint(), 'blocks.1.attn.hook_q': HookPoint(), 'blocks.1.attn.hook_v': HookPoint(), 'blocks.1.attn.hook_z': HookPoint(), 'blocks.1.attn.hook_attn_scores': HookPoint(), 'blocks.1.attn.hook_pattern': HookPoint(), 'blocks.1.attn.hook_result': HookPoint(), 'blocks.1.mlp.hook_pre': HookPoint(), 'blocks.1.mlp.hook_post': HookPoint(), 'blocks.1.hook_attn_in': HookPoint(), 'blocks.1.hook_q_input': HookPoint(), 'blocks.1.hook_k_input': HookPoint(), 'blocks.1.hook_v_input': HookPoint(), 'blocks.1.hook_mlp_in': HookPoint(), 'blocks.1.hook_attn_out': HookPoint(), 'blocks.1.hook_mlp_out': HookPoint(), 'blocks.1.hook_resid_pre': HookPoint(), 'blocks.1.hook_resid_mid': HookPoint(), 'blocks.1.hook_resid_post': HookPoint()}\n",
      "dict_keys([TracrHLNode(name: blocks.0.mlp.hook_post,\n",
      " label: is_x_3,\n",
      " classes: 0,\n",
      " index: [:]\n",
      "), TracrHLNode(name: blocks.1.attn.hook_result,\n",
      " label: frac_prevs_1,\n",
      " classes: 0,\n",
      " index: [:, :, 0, :]\n",
      ")])\n"
     ]
    }
   ],
   "source": [
    "from circuits_benchmark.utils.iit.dataset import get_unique_data\n",
    "\n",
    "model_pair = make_model_pair(task)\n",
    "unique_test_data = get_unique_data(task, max_len=max_len)"
   ]
  },
  {
   "cell_type": "code",
   "execution_count": 7,
   "metadata": {},
   "outputs": [],
   "source": [
    "def collate_fn(batch):\n",
    "    encoded_x = model_pair.hl_model.map_tracr_input_to_tl_input(list(zip(*batch))[0])\n",
    "    return encoded_x\n",
    "\n",
    "loader = torch.utils.data.DataLoader(unique_test_data, batch_size=256, shuffle=False, drop_last=False, collate_fn=collate_fn)"
   ]
  },
  {
   "cell_type": "markdown",
   "metadata": {},
   "source": [
    "### Get the mean activations, norm and variance "
   ]
  },
  {
   "cell_type": "code",
   "execution_count": 8,
   "metadata": {},
   "outputs": [
    {
     "data": {
      "text/plain": [
       "<module 'utils.node_stats' from '/Users/cybershiptrooper/src/interpretability/MATS/circuits-benchmark/notebooks/utils/node_stats.py'>"
      ]
     },
     "execution_count": 8,
     "metadata": {},
     "output_type": "execute_result"
    }
   ],
   "source": [
    "from importlib import reload\n",
    "import utils.node_stats as node_stats\n",
    "reload(node_stats)"
   ]
  },
  {
   "cell_type": "code",
   "execution_count": 9,
   "metadata": {},
   "outputs": [
    {
     "name": "stderr",
     "output_type": "stream",
     "text": [
      "/Users/cybershiptrooper/src/interpretability/MATS/circuits-benchmark/notebooks/utils/node_stats.py:87: FutureWarning: The behavior of DataFrame concatenation with empty or all-NA entries is deprecated. In a future version, this will no longer exclude empty or all-NA columns when determining the result dtypes. To retain the old behavior, exclude the relevant entries before the concat operation.\n",
      "  node_norms = pd.concat(\n"
     ]
    }
   ],
   "source": [
    "from utils.node_stats import get_node_stats, node_stats_to_df\n",
    "\n",
    "cache_dict = get_node_stats(model_pair, loader)\n",
    "node_norms = node_stats.node_stats_to_df(cache_dict)"
   ]
  },
  {
   "cell_type": "code",
   "execution_count": 10,
   "metadata": {},
   "outputs": [
    {
     "data": {
      "text/html": [
       "<div>\n",
       "<style scoped>\n",
       "    .dataframe tbody tr th:only-of-type {\n",
       "        vertical-align: middle;\n",
       "    }\n",
       "\n",
       "    .dataframe tbody tr th {\n",
       "        vertical-align: top;\n",
       "    }\n",
       "\n",
       "    .dataframe thead th {\n",
       "        text-align: right;\n",
       "    }\n",
       "</style>\n",
       "<table border=\"1\" class=\"dataframe\">\n",
       "  <thead>\n",
       "    <tr style=\"text-align: right;\">\n",
       "      <th></th>\n",
       "      <th>name</th>\n",
       "      <th>in_circuit</th>\n",
       "      <th>norm_cache</th>\n",
       "      <th>norm_std</th>\n",
       "    </tr>\n",
       "  </thead>\n",
       "  <tbody>\n",
       "    <tr>\n",
       "      <th>0</th>\n",
       "      <td>blocks.0.attn.hook_result, head  0</td>\n",
       "      <td>False</td>\n",
       "      <td>0.961356</td>\n",
       "      <td>0.048892</td>\n",
       "    </tr>\n",
       "    <tr>\n",
       "      <th>1</th>\n",
       "      <td>blocks.0.attn.hook_result, head  1</td>\n",
       "      <td>False</td>\n",
       "      <td>0.608414</td>\n",
       "      <td>0.037886</td>\n",
       "    </tr>\n",
       "    <tr>\n",
       "      <th>2</th>\n",
       "      <td>blocks.0.attn.hook_result, head  2</td>\n",
       "      <td>False</td>\n",
       "      <td>0.651837</td>\n",
       "      <td>0.078307</td>\n",
       "    </tr>\n",
       "    <tr>\n",
       "      <th>3</th>\n",
       "      <td>blocks.0.attn.hook_result, head  3</td>\n",
       "      <td>False</td>\n",
       "      <td>0.632466</td>\n",
       "      <td>0.023356</td>\n",
       "    </tr>\n",
       "    <tr>\n",
       "      <th>6</th>\n",
       "      <td>blocks.1.attn.hook_result, head  2</td>\n",
       "      <td>False</td>\n",
       "      <td>1.031157</td>\n",
       "      <td>0.103031</td>\n",
       "    </tr>\n",
       "    <tr>\n",
       "      <th>7</th>\n",
       "      <td>blocks.1.attn.hook_result, head  3</td>\n",
       "      <td>False</td>\n",
       "      <td>1.609794</td>\n",
       "      <td>0.046769</td>\n",
       "    </tr>\n",
       "    <tr>\n",
       "      <th>8</th>\n",
       "      <td>blocks.1.mlp.hook_post</td>\n",
       "      <td>False</td>\n",
       "      <td>3.403802</td>\n",
       "      <td>0.167944</td>\n",
       "    </tr>\n",
       "    <tr>\n",
       "      <th>4</th>\n",
       "      <td>blocks.0.mlp.hook_post</td>\n",
       "      <td>True</td>\n",
       "      <td>3.991503</td>\n",
       "      <td>0.375723</td>\n",
       "    </tr>\n",
       "    <tr>\n",
       "      <th>5</th>\n",
       "      <td>blocks.1.attn.hook_result, head  :2</td>\n",
       "      <td>True</td>\n",
       "      <td>2.152520</td>\n",
       "      <td>0.560006</td>\n",
       "    </tr>\n",
       "  </tbody>\n",
       "</table>\n",
       "</div>"
      ],
      "text/plain": [
       "                                  name in_circuit  norm_cache  norm_std\n",
       "0   blocks.0.attn.hook_result, head  0      False    0.961356  0.048892\n",
       "1   blocks.0.attn.hook_result, head  1      False    0.608414  0.037886\n",
       "2   blocks.0.attn.hook_result, head  2      False    0.651837  0.078307\n",
       "3   blocks.0.attn.hook_result, head  3      False    0.632466  0.023356\n",
       "6   blocks.1.attn.hook_result, head  2      False    1.031157  0.103031\n",
       "7   blocks.1.attn.hook_result, head  3      False    1.609794  0.046769\n",
       "8               blocks.1.mlp.hook_post      False    3.403802  0.167944\n",
       "4               blocks.0.mlp.hook_post       True    3.991503  0.375723\n",
       "5  blocks.1.attn.hook_result, head  :2       True    2.152520  0.560006"
      ]
     },
     "execution_count": 10,
     "metadata": {},
     "output_type": "execute_result"
    }
   ],
   "source": [
    "node_norms"
   ]
  },
  {
   "cell_type": "code",
   "execution_count": 11,
   "metadata": {},
   "outputs": [
    {
     "name": "stdout",
     "output_type": "stream",
     "text": [
      "Moving model to device:  cpu\n",
      "{'hook_embed': HookPoint(), 'hook_pos_embed': HookPoint(), 'blocks.0.attn.hook_k': HookPoint(), 'blocks.0.attn.hook_q': HookPoint(), 'blocks.0.attn.hook_v': HookPoint(), 'blocks.0.attn.hook_z': HookPoint(), 'blocks.0.attn.hook_attn_scores': HookPoint(), 'blocks.0.attn.hook_pattern': HookPoint(), 'blocks.0.attn.hook_result': HookPoint(), 'blocks.0.mlp.hook_pre': HookPoint(), 'blocks.0.mlp.hook_post': HookPoint(), 'blocks.0.hook_attn_in': HookPoint(), 'blocks.0.hook_q_input': HookPoint(), 'blocks.0.hook_k_input': HookPoint(), 'blocks.0.hook_v_input': HookPoint(), 'blocks.0.hook_mlp_in': HookPoint(), 'blocks.0.hook_attn_out': HookPoint(), 'blocks.0.hook_mlp_out': HookPoint(), 'blocks.0.hook_resid_pre': HookPoint(), 'blocks.0.hook_resid_mid': HookPoint(), 'blocks.0.hook_resid_post': HookPoint(), 'blocks.1.attn.hook_k': HookPoint(), 'blocks.1.attn.hook_q': HookPoint(), 'blocks.1.attn.hook_v': HookPoint(), 'blocks.1.attn.hook_z': HookPoint(), 'blocks.1.attn.hook_attn_scores': HookPoint(), 'blocks.1.attn.hook_pattern': HookPoint(), 'blocks.1.attn.hook_result': HookPoint(), 'blocks.1.mlp.hook_pre': HookPoint(), 'blocks.1.mlp.hook_post': HookPoint(), 'blocks.1.hook_attn_in': HookPoint(), 'blocks.1.hook_q_input': HookPoint(), 'blocks.1.hook_k_input': HookPoint(), 'blocks.1.hook_v_input': HookPoint(), 'blocks.1.hook_mlp_in': HookPoint(), 'blocks.1.hook_attn_out': HookPoint(), 'blocks.1.hook_mlp_out': HookPoint(), 'blocks.1.hook_resid_pre': HookPoint(), 'blocks.1.hook_resid_mid': HookPoint(), 'blocks.1.hook_resid_post': HookPoint()}\n",
      "dict_keys([TracrHLNode(name: blocks.0.mlp.hook_post,\n",
      " label: is_x_3,\n",
      " classes: 0,\n",
      " index: [:]\n",
      "), TracrHLNode(name: blocks.1.attn.hook_result,\n",
      " label: frac_prevs_1,\n",
      " classes: 0,\n",
      " index: [:, :, 0, :]\n",
      ")])\n"
     ]
    },
    {
     "name": "stderr",
     "output_type": "stream",
     "text": [
      "100%|██████████| 10/10 [00:00<00:00, 12.26it/s]\n",
      "100%|██████████| 10/10 [00:00<00:00, 29.63it/s]\n",
      "100%|██████████| 4/4 [00:00<00:00, 17.97it/s]\n",
      "100%|██████████| 4/4 [00:00<00:00, 59.90it/s]\n"
     ]
    }
   ],
   "source": [
    "import circuits_benchmark.commands.evaluation.iit.iit_eval as eval_node_effect\n",
    "\n",
    "# model_pair = make_model_pair(task)\n",
    "args = eval_node_effect.setup_args_parser(None, True)\n",
    "max_len = 50\n",
    "args.max_len = max_len\n",
    "model_pair = make_model_pair(task)\n",
    "node_effects, eval_metrics = eval_node_effect.get_node_effects(case=task, model_pair=model_pair, args=args, use_mean_cache=False)"
   ]
  },
  {
   "cell_type": "code",
   "execution_count": 12,
   "metadata": {},
   "outputs": [
    {
     "data": {
      "text/html": [
       "<div>\n",
       "<style scoped>\n",
       "    .dataframe tbody tr th:only-of-type {\n",
       "        vertical-align: middle;\n",
       "    }\n",
       "\n",
       "    .dataframe tbody tr th {\n",
       "        vertical-align: top;\n",
       "    }\n",
       "\n",
       "    .dataframe thead th {\n",
       "        text-align: right;\n",
       "    }\n",
       "</style>\n",
       "<table border=\"1\" class=\"dataframe\">\n",
       "  <thead>\n",
       "    <tr style=\"text-align: right;\">\n",
       "      <th></th>\n",
       "      <th>node</th>\n",
       "      <th>status</th>\n",
       "      <th>resample_ablate_effect</th>\n",
       "      <th>zero_ablate_effect</th>\n",
       "    </tr>\n",
       "  </thead>\n",
       "  <tbody>\n",
       "    <tr>\n",
       "      <th>0</th>\n",
       "      <td>blocks.0.attn.hook_result, head  0</td>\n",
       "      <td>not_in_circuit</td>\n",
       "      <td>0.002666</td>\n",
       "      <td>1.000000</td>\n",
       "    </tr>\n",
       "    <tr>\n",
       "      <th>1</th>\n",
       "      <td>blocks.0.attn.hook_result, head  1</td>\n",
       "      <td>not_in_circuit</td>\n",
       "      <td>0.000000</td>\n",
       "      <td>1.000000</td>\n",
       "    </tr>\n",
       "    <tr>\n",
       "      <th>2</th>\n",
       "      <td>blocks.0.attn.hook_result, head  2</td>\n",
       "      <td>not_in_circuit</td>\n",
       "      <td>0.000000</td>\n",
       "      <td>0.758594</td>\n",
       "    </tr>\n",
       "    <tr>\n",
       "      <th>3</th>\n",
       "      <td>blocks.0.attn.hook_result, head  3</td>\n",
       "      <td>not_in_circuit</td>\n",
       "      <td>0.000000</td>\n",
       "      <td>1.000000</td>\n",
       "    </tr>\n",
       "    <tr>\n",
       "      <th>4</th>\n",
       "      <td>blocks.1.attn.hook_result, head  2</td>\n",
       "      <td>not_in_circuit</td>\n",
       "      <td>0.000000</td>\n",
       "      <td>1.000000</td>\n",
       "    </tr>\n",
       "    <tr>\n",
       "      <th>5</th>\n",
       "      <td>blocks.1.attn.hook_result, head  3</td>\n",
       "      <td>not_in_circuit</td>\n",
       "      <td>0.103477</td>\n",
       "      <td>1.000000</td>\n",
       "    </tr>\n",
       "    <tr>\n",
       "      <th>6</th>\n",
       "      <td>blocks.1.mlp.hook_post</td>\n",
       "      <td>not_in_circuit</td>\n",
       "      <td>0.053177</td>\n",
       "      <td>1.000000</td>\n",
       "    </tr>\n",
       "    <tr>\n",
       "      <th>7</th>\n",
       "      <td>blocks.0.mlp.hook_post</td>\n",
       "      <td>in_circuit</td>\n",
       "      <td>1.000000</td>\n",
       "      <td>0.999219</td>\n",
       "    </tr>\n",
       "    <tr>\n",
       "      <th>8</th>\n",
       "      <td>blocks.1.attn.hook_result, head  :2</td>\n",
       "      <td>in_circuit</td>\n",
       "      <td>1.000000</td>\n",
       "      <td>0.977344</td>\n",
       "    </tr>\n",
       "  </tbody>\n",
       "</table>\n",
       "</div>"
      ],
      "text/plain": [
       "                                  node          status  \\\n",
       "0   blocks.0.attn.hook_result, head  0  not_in_circuit   \n",
       "1   blocks.0.attn.hook_result, head  1  not_in_circuit   \n",
       "2   blocks.0.attn.hook_result, head  2  not_in_circuit   \n",
       "3   blocks.0.attn.hook_result, head  3  not_in_circuit   \n",
       "4   blocks.1.attn.hook_result, head  2  not_in_circuit   \n",
       "5   blocks.1.attn.hook_result, head  3  not_in_circuit   \n",
       "6               blocks.1.mlp.hook_post  not_in_circuit   \n",
       "7               blocks.0.mlp.hook_post      in_circuit   \n",
       "8  blocks.1.attn.hook_result, head  :2      in_circuit   \n",
       "\n",
       "   resample_ablate_effect  zero_ablate_effect  \n",
       "0                0.002666            1.000000  \n",
       "1                0.000000            1.000000  \n",
       "2                0.000000            0.758594  \n",
       "3                0.000000            1.000000  \n",
       "4                0.000000            1.000000  \n",
       "5                0.103477            1.000000  \n",
       "6                0.053177            1.000000  \n",
       "7                1.000000            0.999219  \n",
       "8                1.000000            0.977344  "
      ]
     },
     "execution_count": 12,
     "metadata": {},
     "output_type": "execute_result"
    }
   ],
   "source": [
    "node_effects"
   ]
  },
  {
   "cell_type": "code",
   "execution_count": 122,
   "metadata": {},
   "outputs": [
    {
     "data": {
      "text/html": [
       "<div>\n",
       "<style scoped>\n",
       "    .dataframe tbody tr th:only-of-type {\n",
       "        vertical-align: middle;\n",
       "    }\n",
       "\n",
       "    .dataframe tbody tr th {\n",
       "        vertical-align: top;\n",
       "    }\n",
       "\n",
       "    .dataframe thead th {\n",
       "        text-align: right;\n",
       "    }\n",
       "</style>\n",
       "<table border=\"1\" class=\"dataframe\">\n",
       "  <thead>\n",
       "    <tr style=\"text-align: right;\">\n",
       "      <th></th>\n",
       "      <th>node</th>\n",
       "      <th>status</th>\n",
       "      <th>resample_ablate_effect</th>\n",
       "      <th>zero_ablate_effect</th>\n",
       "      <th>norm_cache</th>\n",
       "      <th>norm_std</th>\n",
       "    </tr>\n",
       "  </thead>\n",
       "  <tbody>\n",
       "    <tr>\n",
       "      <th>0</th>\n",
       "      <td>blocks.0.attn.hook_result, head  0</td>\n",
       "      <td>not_in_circuit</td>\n",
       "      <td>0.002666</td>\n",
       "      <td>1.000000</td>\n",
       "      <td>0.961356</td>\n",
       "      <td>0.048892</td>\n",
       "    </tr>\n",
       "    <tr>\n",
       "      <th>1</th>\n",
       "      <td>blocks.0.attn.hook_result, head  1</td>\n",
       "      <td>not_in_circuit</td>\n",
       "      <td>0.000000</td>\n",
       "      <td>1.000000</td>\n",
       "      <td>0.608414</td>\n",
       "      <td>0.037886</td>\n",
       "    </tr>\n",
       "    <tr>\n",
       "      <th>2</th>\n",
       "      <td>blocks.0.attn.hook_result, head  2</td>\n",
       "      <td>not_in_circuit</td>\n",
       "      <td>0.000000</td>\n",
       "      <td>0.758594</td>\n",
       "      <td>0.651837</td>\n",
       "      <td>0.078307</td>\n",
       "    </tr>\n",
       "    <tr>\n",
       "      <th>3</th>\n",
       "      <td>blocks.0.attn.hook_result, head  3</td>\n",
       "      <td>not_in_circuit</td>\n",
       "      <td>0.000000</td>\n",
       "      <td>1.000000</td>\n",
       "      <td>0.632466</td>\n",
       "      <td>0.023356</td>\n",
       "    </tr>\n",
       "    <tr>\n",
       "      <th>4</th>\n",
       "      <td>blocks.1.attn.hook_result, head  2</td>\n",
       "      <td>not_in_circuit</td>\n",
       "      <td>0.000000</td>\n",
       "      <td>1.000000</td>\n",
       "      <td>1.031157</td>\n",
       "      <td>0.103031</td>\n",
       "    </tr>\n",
       "    <tr>\n",
       "      <th>5</th>\n",
       "      <td>blocks.1.attn.hook_result, head  3</td>\n",
       "      <td>not_in_circuit</td>\n",
       "      <td>0.103477</td>\n",
       "      <td>1.000000</td>\n",
       "      <td>1.609794</td>\n",
       "      <td>0.046769</td>\n",
       "    </tr>\n",
       "    <tr>\n",
       "      <th>6</th>\n",
       "      <td>blocks.1.mlp.hook_post</td>\n",
       "      <td>not_in_circuit</td>\n",
       "      <td>0.053177</td>\n",
       "      <td>1.000000</td>\n",
       "      <td>3.403802</td>\n",
       "      <td>0.167944</td>\n",
       "    </tr>\n",
       "    <tr>\n",
       "      <th>7</th>\n",
       "      <td>blocks.0.mlp.hook_post</td>\n",
       "      <td>in_circuit</td>\n",
       "      <td>1.000000</td>\n",
       "      <td>0.999219</td>\n",
       "      <td>3.991503</td>\n",
       "      <td>0.375723</td>\n",
       "    </tr>\n",
       "    <tr>\n",
       "      <th>8</th>\n",
       "      <td>blocks.1.attn.hook_result, head  :2</td>\n",
       "      <td>in_circuit</td>\n",
       "      <td>1.000000</td>\n",
       "      <td>0.977344</td>\n",
       "      <td>2.152520</td>\n",
       "      <td>0.560006</td>\n",
       "    </tr>\n",
       "  </tbody>\n",
       "</table>\n",
       "</div>"
      ],
      "text/plain": [
       "                                  node          status  \\\n",
       "0   blocks.0.attn.hook_result, head  0  not_in_circuit   \n",
       "1   blocks.0.attn.hook_result, head  1  not_in_circuit   \n",
       "2   blocks.0.attn.hook_result, head  2  not_in_circuit   \n",
       "3   blocks.0.attn.hook_result, head  3  not_in_circuit   \n",
       "4   blocks.1.attn.hook_result, head  2  not_in_circuit   \n",
       "5   blocks.1.attn.hook_result, head  3  not_in_circuit   \n",
       "6               blocks.1.mlp.hook_post  not_in_circuit   \n",
       "7               blocks.0.mlp.hook_post      in_circuit   \n",
       "8  blocks.1.attn.hook_result, head  :2      in_circuit   \n",
       "\n",
       "   resample_ablate_effect  zero_ablate_effect  norm_cache  norm_std  \n",
       "0                0.002666            1.000000    0.961356  0.048892  \n",
       "1                0.000000            1.000000    0.608414  0.037886  \n",
       "2                0.000000            0.758594    0.651837  0.078307  \n",
       "3                0.000000            1.000000    0.632466  0.023356  \n",
       "4                0.000000            1.000000    1.031157  0.103031  \n",
       "5                0.103477            1.000000    1.609794  0.046769  \n",
       "6                0.053177            1.000000    3.403802  0.167944  \n",
       "7                1.000000            0.999219    3.991503  0.375723  \n",
       "8                1.000000            0.977344    2.152520  0.560006  "
      ]
     },
     "execution_count": 122,
     "metadata": {},
     "output_type": "execute_result"
    }
   ],
   "source": [
    "# combine node effects with node_norms\n",
    "import pandas as pd\n",
    "combined_df = pd.merge(node_effects, node_norms, left_on=\"node\", right_on=\"name\", how=\"inner\")\n",
    "combined_df.drop(columns=[\"name\", \"in_circuit\"], inplace=True)\n",
    "combined_df"
   ]
  },
  {
   "cell_type": "code",
   "execution_count": 127,
   "metadata": {},
   "outputs": [
    {
     "data": {
      "application/vnd.plotly.v1+json": {
       "config": {
        "plotlyServerURL": "https://plot.ly"
       },
       "data": [
        {
         "customdata": [
          [
           "blocks.0.attn.hook_result, head  0",
           0.002666049869256229
          ],
          [
           "blocks.0.attn.hook_result, head  1",
           0
          ],
          [
           "blocks.0.attn.hook_result, head  2",
           0
          ],
          [
           "blocks.0.attn.hook_result, head  3",
           0
          ],
          [
           "blocks.1.attn.hook_result, head  2",
           0
          ],
          [
           "blocks.1.attn.hook_result, head  3",
           0.10347671656946487
          ],
          [
           "blocks.1.mlp.hook_post",
           0.053176559938756154
          ]
         ],
         "error_y": {
          "array": [
           0.04889177158474922,
           0.03788578137755394,
           0.0783071368932724,
           0.023356322199106216,
           0.10303069651126862,
           0.04676925390958786,
           0.16794443130493164
          ]
         },
         "hovertemplate": "=not_in_circuit<br>Zero Ablation Effect=%{x}<br>Norm of Node Activation=%{y}<br>node=%{customdata[0]}<br>Resample Ablate Effect=%{customdata[1]}<extra></extra>",
         "legendgroup": "not_in_circuit",
         "marker": {
          "color": "orange",
          "symbol": "circle"
         },
         "mode": "markers",
         "name": "not_in_circuit",
         "orientation": "v",
         "showlegend": true,
         "type": "scatter",
         "x": [
          0.9999999992187499,
          0.9999999992187499,
          0.7585937494073486,
          0.9999999992187499,
          0.9999999992187499,
          0.9999999992187499,
          0.9999999992187499
         ],
         "xaxis": "x",
         "y": [
          0.9613561064004899,
          0.6084139055013656,
          0.651836844086647,
          0.6324659442901611,
          1.0311574053764343,
          1.6097935879230498,
          3.4038023233413695
         ],
         "yaxis": "y"
        },
        {
         "customdata": [
          [
           "blocks.0.mlp.hook_post",
           0.9999999999999981
          ],
          [
           "blocks.1.attn.hook_result, head  :2",
           0.9999999999999981
          ]
         ],
         "error_y": {
          "array": [
           0.3757232129573822,
           0.5600056648254395
          ]
         },
         "hovertemplate": "=in_circuit<br>Zero Ablation Effect=%{x}<br>Norm of Node Activation=%{y}<br>node=%{customdata[0]}<br>Resample Ablate Effect=%{customdata[1]}<extra></extra>",
         "legendgroup": "in_circuit",
         "marker": {
          "color": "green",
          "symbol": "circle"
         },
         "mode": "markers",
         "name": "in_circuit",
         "orientation": "v",
         "showlegend": true,
         "type": "scatter",
         "x": [
          0.9992187492193603,
          0.9773437492364502
         ],
         "xaxis": "x",
         "y": [
          3.9915028691291807,
          2.1525200700759886
         ],
         "yaxis": "y"
        }
       ],
       "layout": {
        "font": {
         "size": 16
        },
        "legend": {
         "title": {
          "text": ""
         },
         "tracegroupgap": 0
        },
        "margin": {
         "b": 70,
         "l": 70,
         "r": 70,
         "t": 70
        },
        "template": {
         "data": {
          "bar": [
           {
            "error_x": {
             "color": "#2a3f5f"
            },
            "error_y": {
             "color": "#2a3f5f"
            },
            "marker": {
             "line": {
              "color": "white",
              "width": 0.5
             },
             "pattern": {
              "fillmode": "overlay",
              "size": 10,
              "solidity": 0.2
             }
            },
            "type": "bar"
           }
          ],
          "barpolar": [
           {
            "marker": {
             "line": {
              "color": "white",
              "width": 0.5
             },
             "pattern": {
              "fillmode": "overlay",
              "size": 10,
              "solidity": 0.2
             }
            },
            "type": "barpolar"
           }
          ],
          "carpet": [
           {
            "aaxis": {
             "endlinecolor": "#2a3f5f",
             "gridcolor": "#C8D4E3",
             "linecolor": "#C8D4E3",
             "minorgridcolor": "#C8D4E3",
             "startlinecolor": "#2a3f5f"
            },
            "baxis": {
             "endlinecolor": "#2a3f5f",
             "gridcolor": "#C8D4E3",
             "linecolor": "#C8D4E3",
             "minorgridcolor": "#C8D4E3",
             "startlinecolor": "#2a3f5f"
            },
            "type": "carpet"
           }
          ],
          "choropleth": [
           {
            "colorbar": {
             "outlinewidth": 0,
             "ticks": ""
            },
            "type": "choropleth"
           }
          ],
          "contour": [
           {
            "colorbar": {
             "outlinewidth": 0,
             "ticks": ""
            },
            "colorscale": [
             [
              0,
              "#0d0887"
             ],
             [
              0.1111111111111111,
              "#46039f"
             ],
             [
              0.2222222222222222,
              "#7201a8"
             ],
             [
              0.3333333333333333,
              "#9c179e"
             ],
             [
              0.4444444444444444,
              "#bd3786"
             ],
             [
              0.5555555555555556,
              "#d8576b"
             ],
             [
              0.6666666666666666,
              "#ed7953"
             ],
             [
              0.7777777777777778,
              "#fb9f3a"
             ],
             [
              0.8888888888888888,
              "#fdca26"
             ],
             [
              1,
              "#f0f921"
             ]
            ],
            "type": "contour"
           }
          ],
          "contourcarpet": [
           {
            "colorbar": {
             "outlinewidth": 0,
             "ticks": ""
            },
            "type": "contourcarpet"
           }
          ],
          "heatmap": [
           {
            "colorbar": {
             "outlinewidth": 0,
             "ticks": ""
            },
            "colorscale": [
             [
              0,
              "#0d0887"
             ],
             [
              0.1111111111111111,
              "#46039f"
             ],
             [
              0.2222222222222222,
              "#7201a8"
             ],
             [
              0.3333333333333333,
              "#9c179e"
             ],
             [
              0.4444444444444444,
              "#bd3786"
             ],
             [
              0.5555555555555556,
              "#d8576b"
             ],
             [
              0.6666666666666666,
              "#ed7953"
             ],
             [
              0.7777777777777778,
              "#fb9f3a"
             ],
             [
              0.8888888888888888,
              "#fdca26"
             ],
             [
              1,
              "#f0f921"
             ]
            ],
            "type": "heatmap"
           }
          ],
          "heatmapgl": [
           {
            "colorbar": {
             "outlinewidth": 0,
             "ticks": ""
            },
            "colorscale": [
             [
              0,
              "#0d0887"
             ],
             [
              0.1111111111111111,
              "#46039f"
             ],
             [
              0.2222222222222222,
              "#7201a8"
             ],
             [
              0.3333333333333333,
              "#9c179e"
             ],
             [
              0.4444444444444444,
              "#bd3786"
             ],
             [
              0.5555555555555556,
              "#d8576b"
             ],
             [
              0.6666666666666666,
              "#ed7953"
             ],
             [
              0.7777777777777778,
              "#fb9f3a"
             ],
             [
              0.8888888888888888,
              "#fdca26"
             ],
             [
              1,
              "#f0f921"
             ]
            ],
            "type": "heatmapgl"
           }
          ],
          "histogram": [
           {
            "marker": {
             "pattern": {
              "fillmode": "overlay",
              "size": 10,
              "solidity": 0.2
             }
            },
            "type": "histogram"
           }
          ],
          "histogram2d": [
           {
            "colorbar": {
             "outlinewidth": 0,
             "ticks": ""
            },
            "colorscale": [
             [
              0,
              "#0d0887"
             ],
             [
              0.1111111111111111,
              "#46039f"
             ],
             [
              0.2222222222222222,
              "#7201a8"
             ],
             [
              0.3333333333333333,
              "#9c179e"
             ],
             [
              0.4444444444444444,
              "#bd3786"
             ],
             [
              0.5555555555555556,
              "#d8576b"
             ],
             [
              0.6666666666666666,
              "#ed7953"
             ],
             [
              0.7777777777777778,
              "#fb9f3a"
             ],
             [
              0.8888888888888888,
              "#fdca26"
             ],
             [
              1,
              "#f0f921"
             ]
            ],
            "type": "histogram2d"
           }
          ],
          "histogram2dcontour": [
           {
            "colorbar": {
             "outlinewidth": 0,
             "ticks": ""
            },
            "colorscale": [
             [
              0,
              "#0d0887"
             ],
             [
              0.1111111111111111,
              "#46039f"
             ],
             [
              0.2222222222222222,
              "#7201a8"
             ],
             [
              0.3333333333333333,
              "#9c179e"
             ],
             [
              0.4444444444444444,
              "#bd3786"
             ],
             [
              0.5555555555555556,
              "#d8576b"
             ],
             [
              0.6666666666666666,
              "#ed7953"
             ],
             [
              0.7777777777777778,
              "#fb9f3a"
             ],
             [
              0.8888888888888888,
              "#fdca26"
             ],
             [
              1,
              "#f0f921"
             ]
            ],
            "type": "histogram2dcontour"
           }
          ],
          "mesh3d": [
           {
            "colorbar": {
             "outlinewidth": 0,
             "ticks": ""
            },
            "type": "mesh3d"
           }
          ],
          "parcoords": [
           {
            "line": {
             "colorbar": {
              "outlinewidth": 0,
              "ticks": ""
             }
            },
            "type": "parcoords"
           }
          ],
          "pie": [
           {
            "automargin": true,
            "type": "pie"
           }
          ],
          "scatter": [
           {
            "fillpattern": {
             "fillmode": "overlay",
             "size": 10,
             "solidity": 0.2
            },
            "type": "scatter"
           }
          ],
          "scatter3d": [
           {
            "line": {
             "colorbar": {
              "outlinewidth": 0,
              "ticks": ""
             }
            },
            "marker": {
             "colorbar": {
              "outlinewidth": 0,
              "ticks": ""
             }
            },
            "type": "scatter3d"
           }
          ],
          "scattercarpet": [
           {
            "marker": {
             "colorbar": {
              "outlinewidth": 0,
              "ticks": ""
             }
            },
            "type": "scattercarpet"
           }
          ],
          "scattergeo": [
           {
            "marker": {
             "colorbar": {
              "outlinewidth": 0,
              "ticks": ""
             }
            },
            "type": "scattergeo"
           }
          ],
          "scattergl": [
           {
            "marker": {
             "colorbar": {
              "outlinewidth": 0,
              "ticks": ""
             }
            },
            "type": "scattergl"
           }
          ],
          "scattermapbox": [
           {
            "marker": {
             "colorbar": {
              "outlinewidth": 0,
              "ticks": ""
             }
            },
            "type": "scattermapbox"
           }
          ],
          "scatterpolar": [
           {
            "marker": {
             "colorbar": {
              "outlinewidth": 0,
              "ticks": ""
             }
            },
            "type": "scatterpolar"
           }
          ],
          "scatterpolargl": [
           {
            "marker": {
             "colorbar": {
              "outlinewidth": 0,
              "ticks": ""
             }
            },
            "type": "scatterpolargl"
           }
          ],
          "scatterternary": [
           {
            "marker": {
             "colorbar": {
              "outlinewidth": 0,
              "ticks": ""
             }
            },
            "type": "scatterternary"
           }
          ],
          "surface": [
           {
            "colorbar": {
             "outlinewidth": 0,
             "ticks": ""
            },
            "colorscale": [
             [
              0,
              "#0d0887"
             ],
             [
              0.1111111111111111,
              "#46039f"
             ],
             [
              0.2222222222222222,
              "#7201a8"
             ],
             [
              0.3333333333333333,
              "#9c179e"
             ],
             [
              0.4444444444444444,
              "#bd3786"
             ],
             [
              0.5555555555555556,
              "#d8576b"
             ],
             [
              0.6666666666666666,
              "#ed7953"
             ],
             [
              0.7777777777777778,
              "#fb9f3a"
             ],
             [
              0.8888888888888888,
              "#fdca26"
             ],
             [
              1,
              "#f0f921"
             ]
            ],
            "type": "surface"
           }
          ],
          "table": [
           {
            "cells": {
             "fill": {
              "color": "#EBF0F8"
             },
             "line": {
              "color": "white"
             }
            },
            "header": {
             "fill": {
              "color": "#C8D4E3"
             },
             "line": {
              "color": "white"
             }
            },
            "type": "table"
           }
          ]
         },
         "layout": {
          "annotationdefaults": {
           "arrowcolor": "#2a3f5f",
           "arrowhead": 0,
           "arrowwidth": 1
          },
          "autotypenumbers": "strict",
          "coloraxis": {
           "colorbar": {
            "outlinewidth": 0,
            "ticks": ""
           }
          },
          "colorscale": {
           "diverging": [
            [
             0,
             "#8e0152"
            ],
            [
             0.1,
             "#c51b7d"
            ],
            [
             0.2,
             "#de77ae"
            ],
            [
             0.3,
             "#f1b6da"
            ],
            [
             0.4,
             "#fde0ef"
            ],
            [
             0.5,
             "#f7f7f7"
            ],
            [
             0.6,
             "#e6f5d0"
            ],
            [
             0.7,
             "#b8e186"
            ],
            [
             0.8,
             "#7fbc41"
            ],
            [
             0.9,
             "#4d9221"
            ],
            [
             1,
             "#276419"
            ]
           ],
           "sequential": [
            [
             0,
             "#0d0887"
            ],
            [
             0.1111111111111111,
             "#46039f"
            ],
            [
             0.2222222222222222,
             "#7201a8"
            ],
            [
             0.3333333333333333,
             "#9c179e"
            ],
            [
             0.4444444444444444,
             "#bd3786"
            ],
            [
             0.5555555555555556,
             "#d8576b"
            ],
            [
             0.6666666666666666,
             "#ed7953"
            ],
            [
             0.7777777777777778,
             "#fb9f3a"
            ],
            [
             0.8888888888888888,
             "#fdca26"
            ],
            [
             1,
             "#f0f921"
            ]
           ],
           "sequentialminus": [
            [
             0,
             "#0d0887"
            ],
            [
             0.1111111111111111,
             "#46039f"
            ],
            [
             0.2222222222222222,
             "#7201a8"
            ],
            [
             0.3333333333333333,
             "#9c179e"
            ],
            [
             0.4444444444444444,
             "#bd3786"
            ],
            [
             0.5555555555555556,
             "#d8576b"
            ],
            [
             0.6666666666666666,
             "#ed7953"
            ],
            [
             0.7777777777777778,
             "#fb9f3a"
            ],
            [
             0.8888888888888888,
             "#fdca26"
            ],
            [
             1,
             "#f0f921"
            ]
           ]
          },
          "colorway": [
           "#636efa",
           "#EF553B",
           "#00cc96",
           "#ab63fa",
           "#FFA15A",
           "#19d3f3",
           "#FF6692",
           "#B6E880",
           "#FF97FF",
           "#FECB52"
          ],
          "font": {
           "color": "#2a3f5f"
          },
          "geo": {
           "bgcolor": "white",
           "lakecolor": "white",
           "landcolor": "white",
           "showlakes": true,
           "showland": true,
           "subunitcolor": "#C8D4E3"
          },
          "hoverlabel": {
           "align": "left"
          },
          "hovermode": "closest",
          "mapbox": {
           "style": "light"
          },
          "paper_bgcolor": "white",
          "plot_bgcolor": "white",
          "polar": {
           "angularaxis": {
            "gridcolor": "#EBF0F8",
            "linecolor": "#EBF0F8",
            "ticks": ""
           },
           "bgcolor": "white",
           "radialaxis": {
            "gridcolor": "#EBF0F8",
            "linecolor": "#EBF0F8",
            "ticks": ""
           }
          },
          "scene": {
           "xaxis": {
            "backgroundcolor": "white",
            "gridcolor": "#DFE8F3",
            "gridwidth": 2,
            "linecolor": "#EBF0F8",
            "showbackground": true,
            "ticks": "",
            "zerolinecolor": "#EBF0F8"
           },
           "yaxis": {
            "backgroundcolor": "white",
            "gridcolor": "#DFE8F3",
            "gridwidth": 2,
            "linecolor": "#EBF0F8",
            "showbackground": true,
            "ticks": "",
            "zerolinecolor": "#EBF0F8"
           },
           "zaxis": {
            "backgroundcolor": "white",
            "gridcolor": "#DFE8F3",
            "gridwidth": 2,
            "linecolor": "#EBF0F8",
            "showbackground": true,
            "ticks": "",
            "zerolinecolor": "#EBF0F8"
           }
          },
          "shapedefaults": {
           "line": {
            "color": "#2a3f5f"
           }
          },
          "ternary": {
           "aaxis": {
            "gridcolor": "#DFE8F3",
            "linecolor": "#A2B1C6",
            "ticks": ""
           },
           "baxis": {
            "gridcolor": "#DFE8F3",
            "linecolor": "#A2B1C6",
            "ticks": ""
           },
           "bgcolor": "white",
           "caxis": {
            "gridcolor": "#DFE8F3",
            "linecolor": "#A2B1C6",
            "ticks": ""
           }
          },
          "title": {
           "x": 0.05
          },
          "xaxis": {
           "automargin": true,
           "gridcolor": "#EBF0F8",
           "linecolor": "#EBF0F8",
           "ticks": "",
           "title": {
            "standoff": 15
           },
           "zerolinecolor": "#EBF0F8",
           "zerolinewidth": 2
          },
          "yaxis": {
           "automargin": true,
           "gridcolor": "#EBF0F8",
           "linecolor": "#EBF0F8",
           "ticks": "",
           "title": {
            "standoff": 15
           },
           "zerolinecolor": "#EBF0F8",
           "zerolinewidth": 2
          }
         }
        },
        "xaxis": {
         "anchor": "y",
         "domain": [
          0,
          1
         ],
         "title": {
          "text": "Zero Ablation Effect"
         }
        },
        "yaxis": {
         "anchor": "x",
         "domain": [
          0,
          1
         ],
         "title": {
          "text": "Norm of Node Activation"
         }
        }
       }
      }
     },
     "metadata": {},
     "output_type": "display_data"
    }
   ],
   "source": [
    "import plotly.express as px\n",
    "\n",
    "fig = px.scatter(combined_df, x=\"zero_ablate_effect\", \n",
    "                 y=\"norm_cache\", color=\"status\",\n",
    "                 error_y=\"norm_std\",\n",
    "                 # color map\n",
    "                 color_discrete_map={\n",
    "                    \"in_circuit\": \"green\",\n",
    "                    \"not_in_circuit\": \"orange\",\n",
    "                 },\n",
    "                 labels={\n",
    "                     \"zero_ablate_effect\": \"Zero Ablation Effect\",\n",
    "                     \"norm_cache\": \"Norm of Node Activation\",\n",
    "                     \"status\": \"\",\n",
    "                     \"resample_ablate_effect\": \"Resample Ablate Effect\",\n",
    "                 },\n",
    "                 hover_data=[\"node\", \"resample_ablate_effect\"],\n",
    "                 # remove background grid and color\n",
    "                 template=\"plotly_white\",\n",
    "                 )\n",
    "\n",
    "# decrease margin\n",
    "fig.update_layout(margin=dict(l=70, r=70, t=70, b=70))\n",
    "# increase font size\n",
    "fig.update_layout(font=dict(size=16))\n",
    "fig.show()\n",
    "# save to file as pdf\n",
    "fig.write_image(f\"node_stats_{task.get_index()}.pdf\")\n"
   ]
  },
  {
   "cell_type": "markdown",
   "metadata": {},
   "source": [
    "### Do logit lens on all nodes in the model"
   ]
  },
  {
   "cell_type": "markdown",
   "metadata": {},
   "source": [
    "1. Decompose resid for each layer and get mlp logit lens\n",
    "2. For head results I can do stack_head_results\n",
    "\n",
    "Once I have the activations, I can compare it with (This is SCORE)\n",
    "1. logit diffs for classification\n",
    "2. only true regression output (maybe MSE with label or something)\n",
    "\n",
    "Tuned lens: I just need to take the activations and train a linear layer b/w that and final layer act\n",
    "I have two choices:\n",
    "1. train a map from hook points to pre unembed directly\n",
    "2. train it on decomposed heads and resids\n",
    "\n",
    "Then compute SCORE = unembed(LN(Linear(act))) vs logit diff/something\n",
    "\n",
    "Pearson R coefficient:\n",
    "1. Take the entire dataset, get SCORES for each prompt and calculate pearson R for all\n",
    "\n",
    "Other experiments: \n",
    "1. I need to check if the mean is orthogonal/not to where we write. So I need the cosine similarity between acts. Combined with the fact that resample doesn't do shit, this makes sense. \n",
    "2. I can resample after multipyling the node with 1e-3, 1e-2 ... 10, 100 etc. and see it's effect. I can also do this after doing PCA on it, getting its subspace with max variation, and scaling that."
   ]
  },
  {
   "cell_type": "code",
   "execution_count": 8,
   "metadata": {},
   "outputs": [
    {
     "name": "stdout",
     "output_type": "stream",
     "text": [
      "No layer norm to fold\n"
     ]
    }
   ],
   "source": [
    "if model_pair.hl_model.is_categorical():\n",
    "    # preprocess model for logit lens\n",
    "    model.center_writing_weights(state_dict=model.state_dict())\n",
    "    model.center_unembed(state_dict=model.state_dict())\n",
    "    model.refactor_factored_attn_matrices(state_dict=model.state_dict())\n",
    "try:\n",
    "    model.fold_layer_norm(state_dict=model.state_dict())\n",
    "except:\n",
    "    print(\"No layer norm to fold\")"
   ]
  },
  {
   "cell_type": "code",
   "execution_count": 9,
   "metadata": {},
   "outputs": [
    {
     "name": "stdout",
     "output_type": "stream",
     "text": [
      "torch.Size([100, 4, 12]) torch.Size([4, 100, 4, 12])\n"
     ]
    }
   ],
   "source": [
    "import utils.logit_lens as logit_lens\n",
    "\n",
    "logit_lens_results, labels = logit_lens.do_logit_lens(model_pair, loader)"
   ]
  },
  {
   "cell_type": "code",
   "execution_count": 10,
   "metadata": {},
   "outputs": [
    {
     "data": {
      "text/plain": [
       "dict_keys(['embed', 'pos_embed', '0_mlp_out', '1_mlp_out', 'L0H0', 'L0H1', 'L0H2', 'L0H3', 'L1H0', 'L1H1', 'L1H2', 'L1H3'])"
      ]
     },
     "execution_count": 10,
     "metadata": {},
     "output_type": "execute_result"
    }
   ],
   "source": [
    "logit_lens_results.keys()"
   ]
  },
  {
   "cell_type": "code",
   "execution_count": 42,
   "metadata": {},
   "outputs": [
    {
     "data": {
      "application/vnd.plotly.v1+json": {
       "config": {
        "plotlyServerURL": "https://plot.ly"
       },
       "data": [
        {
         "mode": "markers",
         "name": "pos 0, corr: 0.91",
         "type": "scatter",
         "x": [
          -0.31155723333358765,
          -0.31155723333358765,
          -0.31155723333358765,
          -0.31155723333358765,
          -0.31155723333358765,
          -0.31155723333358765,
          -0.6379919648170471,
          -0.5022430419921875,
          -0.6379919648170471,
          -0.6379919648170471,
          -0.5022430419921875,
          -0.5022430419921875,
          -0.6379919648170471,
          -0.5022430419921875,
          -0.5282846093177795,
          -0.5282846093177795,
          -0.31155723333358765,
          -0.5282846093177795,
          -0.31155723333358765,
          -0.31155723333358765,
          -0.6379919648170471,
          -0.6379919648170471,
          -0.6379919648170471,
          -0.6379919648170471,
          -0.6379919648170471,
          -0.31155723333358765,
          -0.5282846093177795,
          -0.6379919648170471,
          -0.5022430419921875,
          -0.6379919648170471,
          -0.5022430419921875,
          -0.5282846093177795,
          -0.5282846093177795,
          -0.5282846093177795,
          -0.31155723333358765,
          -0.31155723333358765,
          -0.31155723333358765,
          -0.6379919648170471,
          -0.6379919648170471,
          -0.5282846093177795,
          -0.5282846093177795,
          -0.31155723333358765,
          -0.31155723333358765,
          -0.6379919648170471,
          -0.5022430419921875,
          -0.5282846093177795,
          -0.31155723333358765,
          -0.31155723333358765,
          -0.5282846093177795,
          -0.31155723333358765,
          -0.5022430419921875,
          -0.6379919648170471,
          -0.5282846093177795,
          -0.5022430419921875,
          -0.31155723333358765,
          -0.31155723333358765,
          -0.5022430419921875,
          -0.5282846093177795,
          -0.5282846093177795,
          -0.5282846093177795,
          -0.6379919648170471,
          -0.6379919648170471,
          -0.31155723333358765,
          -0.31155723333358765,
          -0.31155723333358765,
          -0.5282846093177795,
          -0.5022430419921875,
          -0.6379919648170471,
          -0.5282846093177795,
          -0.5282846093177795,
          -0.5282846093177795,
          -0.6379919648170471,
          -0.6379919648170471,
          -0.5022430419921875,
          -0.6379919648170471,
          -0.31155723333358765,
          -0.31155723333358765,
          -0.6379919648170471,
          -0.5022430419921875,
          -0.6379919648170471,
          -0.5022430419921875,
          -0.5022430419921875,
          -0.31155723333358765,
          -0.5282846093177795,
          -0.5282846093177795,
          -0.5282846093177795,
          -0.31155723333358765,
          -0.6379919648170471,
          -0.6379919648170471,
          -0.31155723333358765,
          -0.6379919648170471,
          -0.5022430419921875,
          -0.5022430419921875,
          -0.6379919648170471,
          -0.5022430419921875,
          -0.5022430419921875,
          -0.6379919648170471,
          -0.6379919648170471,
          -0.5282846093177795,
          -0.5282846093177795
         ],
         "y": [
          0.9984884262084961,
          0.9984884262084961,
          0.9984884262084961,
          0.9984884262084961,
          0.9984884262084961,
          0.9984884262084961,
          -0.005759522318840027,
          -0.0008622780442237854,
          -0.005759522318840027,
          -0.005759522318840027,
          -0.0008622780442237854,
          -0.0008622780442237854,
          -0.005759522318840027,
          -0.0008622780442237854,
          -0.004708901047706604,
          -0.004708901047706604,
          0.9984884262084961,
          -0.004708901047706604,
          0.9984884262084961,
          0.9984884262084961,
          -0.005759522318840027,
          -0.005759522318840027,
          -0.005759522318840027,
          -0.005759522318840027,
          -0.005759522318840027,
          0.9984884262084961,
          -0.004708901047706604,
          -0.005759522318840027,
          -0.0008622780442237854,
          -0.005759522318840027,
          -0.0008622780442237854,
          -0.004708901047706604,
          -0.004708901047706604,
          -0.004708901047706604,
          0.9984884262084961,
          0.9984884262084961,
          0.9984884262084961,
          -0.005759522318840027,
          -0.005759522318840027,
          -0.004708901047706604,
          -0.004708901047706604,
          0.9984884262084961,
          0.9984884262084961,
          -0.005759522318840027,
          -0.0008622780442237854,
          -0.004708901047706604,
          0.9984884262084961,
          0.9984884262084961,
          -0.004708901047706604,
          0.9984884262084961,
          -0.0008622780442237854,
          -0.005759522318840027,
          -0.004708901047706604,
          -0.0008622780442237854,
          0.9984884262084961,
          0.9984884262084961,
          -0.0008622780442237854,
          -0.004708901047706604,
          -0.004708901047706604,
          -0.004708901047706604,
          -0.005759522318840027,
          -0.005759522318840027,
          0.9984884262084961,
          0.9984884262084961,
          0.9984884262084961,
          -0.004708901047706604,
          -0.0008622780442237854,
          -0.005759522318840027,
          -0.004708901047706604,
          -0.004708901047706604,
          -0.004708901047706604,
          -0.005759522318840027,
          -0.005759522318840027,
          -0.0008622780442237854,
          -0.005759522318840027,
          0.9984884262084961,
          0.9984884262084961,
          -0.005759522318840027,
          -0.0008622780442237854,
          -0.005759522318840027,
          -0.0008622780442237854,
          -0.0008622780442237854,
          0.9984884262084961,
          -0.004708901047706604,
          -0.004708901047706604,
          -0.004708901047706604,
          0.9984884262084961,
          -0.005759522318840027,
          -0.005759522318840027,
          0.9984884262084961,
          -0.005759522318840027,
          -0.0008622780442237854,
          -0.0008622780442237854,
          -0.005759522318840027,
          -0.0008622780442237854,
          -0.0008622780442237854,
          -0.005759522318840027,
          -0.005759522318840027,
          -0.004708901047706604,
          -0.004708901047706604
         ]
        },
        {
         "mode": "markers",
         "name": "pos 1, corr: 0.90",
         "type": "scatter",
         "x": [
          -0.5554038286209106,
          -0.6465676426887512,
          -0.5554038286209106,
          -0.40655189752578735,
          -0.6465676426887512,
          -0.6465676426887512,
          -0.7957070469856262,
          -0.7954143285751343,
          -0.7957070469856262,
          -0.6640251278877258,
          -0.6573356986045837,
          -0.5509967803955078,
          -0.7076812386512756,
          -0.5509967803955078,
          -0.7908728718757629,
          -0.7024621367454529,
          -0.5554038286209106,
          -0.7908728718757629,
          -0.5153596997261047,
          -0.5153596997261047,
          -0.7957070469856262,
          -0.7076812386512756,
          -0.5552589893341064,
          -0.7957070469856262,
          -0.5552589893341064,
          -0.5153596997261047,
          -0.6608415842056274,
          -0.5552589893341064,
          -0.7954143285751343,
          -0.5552589893341064,
          -0.6573356986045837,
          -0.5527341961860657,
          -0.6608415842056274,
          -0.6608415842056274,
          -0.40655189752578735,
          -0.5554038286209106,
          -0.40655189752578735,
          -0.5552589893341064,
          -0.7076812386512756,
          -0.7024621367454529,
          -0.5527341961860657,
          -0.6465676426887512,
          -0.5153596997261047,
          -0.7076812386512756,
          -0.7016178369522095,
          -0.6608415842056274,
          -0.5554038286209106,
          -0.40655189752578735,
          -0.7024621367454529,
          -0.5153596997261047,
          -0.5509967803955078,
          -0.6640251278877258,
          -0.5527341961860657,
          -0.6573356986045837,
          -0.40655189752578735,
          -0.40655189752578735,
          -0.6573356986045837,
          -0.7908728718757629,
          -0.7024621367454529,
          -0.7024621367454529,
          -0.6640251278877258,
          -0.6640251278877258,
          -0.6465676426887512,
          -0.6465676426887512,
          -0.5554038286209106,
          -0.7024621367454529,
          -0.5509967803955078,
          -0.7957070469856262,
          -0.7908728718757629,
          -0.6608415842056274,
          -0.6608415842056274,
          -0.5552589893341064,
          -0.7957070469856262,
          -0.7016178369522095,
          -0.7957070469856262,
          -0.5554038286209106,
          -0.40655189752578735,
          -0.7957070469856262,
          -0.7016178369522095,
          -0.7957070469856262,
          -0.6573356986045837,
          -0.7016178369522095,
          -0.6465676426887512,
          -0.7024621367454529,
          -0.7908728718757629,
          -0.5527341961860657,
          -0.40655189752578735,
          -0.7076812386512756,
          -0.7076812386512756,
          -0.5153596997261047,
          -0.7076812386512756,
          -0.7016178369522095,
          -0.7954143285751343,
          -0.5552589893341064,
          -0.6573356986045837,
          -0.5509967803955078,
          -0.6640251278877258,
          -0.6640251278877258,
          -0.7024621367454529,
          -0.5527341961860657
         ],
         "y": [
          0.4937850832939148,
          0.4984204173088074,
          0.4937850832939148,
          0.9905092716217041,
          0.4984204173088074,
          0.4984204173088074,
          -0.006254769861698151,
          -0.00708036869764328,
          -0.006254769861698151,
          -0.00439935177564621,
          0.002788752317428589,
          0.4983642101287842,
          -0.00789795070886612,
          0.4983642101287842,
          -0.004228517413139343,
          -0.002619929611682892,
          0.4937850832939148,
          -0.004228517413139343,
          0.491720974445343,
          0.491720974445343,
          -0.006254769861698151,
          -0.00789795070886612,
          0.50851970911026,
          -0.006254769861698151,
          0.50851970911026,
          0.491720974445343,
          -0.0020274221897125244,
          0.50851970911026,
          -0.00708036869764328,
          0.50851970911026,
          0.002788752317428589,
          0.49353188276290894,
          -0.0020274221897125244,
          -0.0020274221897125244,
          0.9905092716217041,
          0.4937850832939148,
          0.9905092716217041,
          0.50851970911026,
          -0.00789795070886612,
          -0.002619929611682892,
          0.49353188276290894,
          0.4984204173088074,
          0.491720974445343,
          -0.00789795070886612,
          -0.0029894262552261353,
          -0.0020274221897125244,
          0.4937850832939148,
          0.9905092716217041,
          -0.002619929611682892,
          0.491720974445343,
          0.4983642101287842,
          -0.00439935177564621,
          0.49353188276290894,
          0.002788752317428589,
          0.9905092716217041,
          0.9905092716217041,
          0.002788752317428589,
          -0.004228517413139343,
          -0.002619929611682892,
          -0.002619929611682892,
          -0.00439935177564621,
          -0.00439935177564621,
          0.4984204173088074,
          0.4984204173088074,
          0.4937850832939148,
          -0.002619929611682892,
          0.4983642101287842,
          -0.006254769861698151,
          -0.004228517413139343,
          -0.0020274221897125244,
          -0.0020274221897125244,
          0.50851970911026,
          -0.006254769861698151,
          -0.0029894262552261353,
          -0.006254769861698151,
          0.4937850832939148,
          0.9905092716217041,
          -0.006254769861698151,
          -0.0029894262552261353,
          -0.006254769861698151,
          0.002788752317428589,
          -0.0029894262552261353,
          0.4984204173088074,
          -0.002619929611682892,
          -0.004228517413139343,
          0.49353188276290894,
          0.9905092716217041,
          -0.00789795070886612,
          -0.00789795070886612,
          0.491720974445343,
          -0.00789795070886612,
          -0.0029894262552261353,
          -0.00708036869764328,
          0.50851970911026,
          0.002788752317428589,
          0.4983642101287842,
          -0.00439935177564621,
          -0.00439935177564621,
          -0.002619929611682892,
          0.49353188276290894
         ]
        },
        {
         "mode": "markers",
         "name": "pos 2, corr: 0.89",
         "type": "scatter",
         "x": [
          -0.7331646084785461,
          -0.7356252670288086,
          -0.641703188419342,
          -0.4423179626464844,
          -0.6443845629692078,
          -0.5438291430473328,
          -0.7228143215179443,
          -0.6550487875938416,
          -0.7228143215179443,
          -0.7549411654472351,
          -0.7532322406768799,
          -0.6101675033569336,
          -0.8482757806777954,
          -0.6101675033569336,
          -0.7207680344581604,
          -0.8443917036056519,
          -0.5418944358825684,
          -0.7558427453041077,
          -0.6083537340164185,
          -0.7373392581939697,
          -0.7595055103302002,
          -0.7584919333457947,
          -0.5513598918914795,
          -0.7595055103302002,
          -0.7384842038154602,
          -0.6083537340164185,
          -0.6553897261619568,
          -0.5513598918914795,
          -0.8493517637252808,
          -0.6470851898193359,
          -0.7532322406768799,
          -0.7336560487747192,
          -0.84409499168396,
          -0.7158486843109131,
          -0.4423179626464844,
          -0.641703188419342,
          -0.5355334877967834,
          -0.5513598918914795,
          -0.6551350355148315,
          -0.72017902135849,
          -0.7336560487747192,
          -0.6443845629692078,
          -0.6429584622383118,
          -0.8482757806777954,
          -0.755138099193573,
          -0.84409499168396,
          -0.641703188419342,
          -0.5029408931732178,
          -0.8443917036056519,
          -0.6429584622383118,
          -0.6101675033569336,
          -0.6563205122947693,
          -0.6418787240982056,
          -0.6564136147499084,
          -0.5029408931732178,
          -0.5355334877967834,
          -0.6564136147499084,
          -0.6547142863273621,
          -0.6533944606781006,
          -0.8443917036056519,
          -0.847099244594574,
          -0.847099244594574,
          -0.6112832427024841,
          -0.7356252670288086,
          -0.641703188419342,
          -0.72017902135849,
          -0.6463934779167175,
          -0.7228143215179443,
          -0.7558427453041077,
          -0.7158486843109131,
          -0.6553897261619568,
          -0.7384842038154602,
          -0.6560925841331482,
          -0.755138099193573,
          -0.7595055103302002,
          -0.6094756126403809,
          -0.5029408931732178,
          -0.7228143215179443,
          -0.7198562622070312,
          -0.7595055103302002,
          -0.7532322406768799,
          -0.7198562622070312,
          -0.6112832427024841,
          -0.72017902135849,
          -0.7558427453041077,
          -0.7336560487747192,
          -0.5029408931732178,
          -0.7224171757698059,
          -0.7224171757698059,
          -0.5459465980529785,
          -0.7584919333457947,
          -0.8488357663154602,
          -0.6550487875938416,
          -0.5513598918914795,
          -0.8495378494262695,
          -0.5522090792655945,
          -0.7174308896064758,
          -0.6563205122947693,
          -0.7543525695800781,
          -0.6074804067611694
         ],
         "y": [
          0.32003772258758545,
          0.32761675119400024,
          0.3290252387523651,
          0.9970279932022095,
          0.3335600197315216,
          0.6776421070098877,
          -0.014790721237659454,
          0.33496201038360596,
          -0.014790721237659454,
          -0.01311289519071579,
          -0.004910200834274292,
          0.3297275900840759,
          -0.011500515043735504,
          0.3297275900840759,
          -0.010623730719089508,
          -0.005270875990390778,
          0.6681168079376221,
          -0.006144978106021881,
          0.32441216707229614,
          0.3239796757698059,
          -0.012370727956295013,
          -0.009453147649765015,
          0.6641139388084412,
          -0.012370727956295013,
          0.33306828141212463,
          0.32441216707229614,
          0.3229064345359802,
          0.6641139388084412,
          -0.010678373277187347,
          0.33560505509376526,
          -0.004910200834274292,
          0.3223702609539032,
          -0.013656899333000183,
          -0.008085682988166809,
          0.9970279932022095,
          0.3290252387523651,
          0.6810176372528076,
          0.6641139388084412,
          0.3293061852455139,
          -0.00747380405664444,
          0.3223702609539032,
          0.3335600197315216,
          0.33440789580345154,
          -0.011500515043735504,
          -0.0020959675312042236,
          -0.013656899333000183,
          0.3290252387523651,
          0.6659560799598694,
          -0.005270875990390778,
          0.33440789580345154,
          0.3297275900840759,
          0.32732221484184265,
          0.3306131660938263,
          0.32625913619995117,
          0.6659560799598694,
          0.6810176372528076,
          0.32625913619995117,
          0.3301393687725067,
          0.3249221444129944,
          -0.005270875990390778,
          -0.01924150437116623,
          -0.01924150437116623,
          0.3216463029384613,
          0.32761675119400024,
          0.3290252387523651,
          -0.00747380405664444,
          0.3324447274208069,
          -0.014790721237659454,
          -0.006144978106021881,
          -0.008085682988166809,
          0.3229064345359802,
          0.33306828141212463,
          0.33541178703308105,
          -0.0020959675312042236,
          -0.012370727956295013,
          0.31690263748168945,
          0.6659560799598694,
          -0.014790721237659454,
          -0.005470994859933853,
          -0.012370727956295013,
          -0.004910200834274292,
          -0.005470994859933853,
          0.3216463029384613,
          -0.00747380405664444,
          -0.006144978106021881,
          0.3223702609539032,
          0.6659560799598694,
          -0.012709446251392365,
          -0.012709446251392365,
          0.670693039894104,
          -0.009453147649765015,
          -0.008244737982749939,
          0.33496201038360596,
          0.6641139388084412,
          -0.01495286077260971,
          0.6593119502067566,
          -0.01289205253124237,
          0.32732221484184265,
          -0.001486409455537796,
          0.3251548409461975
         ]
        },
        {
         "mode": "markers",
         "name": "pos 3, corr: 0.87",
         "type": "scatter",
         "x": [
          -0.3838246166706085,
          -0.3863428831100464,
          -0.33863118290901184,
          -0.17020778357982635,
          -0.45193997025489807,
          -0.3679697513580322,
          -0.41252580285072327,
          -0.32845962047576904,
          -0.5417494773864746,
          -0.4212498366832733,
          -0.4196230471134186,
          -0.3828428387641907,
          -0.5399779677391052,
          -0.3365758955478668,
          -0.4227507710456848,
          -0.4678342640399933,
          -0.24435724318027496,
          -0.46656519174575806,
          -0.3385150730609894,
          -0.3401530385017395,
          -0.4089239537715912,
          -0.5364366173744202,
          -0.2956514060497284,
          -0.5389597415924072,
          -0.3283810317516327,
          -0.33073848485946655,
          -0.33339375257492065,
          -0.36558911204338074,
          -0.41139766573905945,
          -0.3262614905834198,
          -0.5401470065116882,
          -0.33639928698539734,
          -0.4664474427700043,
          -0.5381232500076294,
          -0.17627140879631042,
          -0.3799986243247986,
          -0.25469595193862915,
          -0.2538708746433258,
          -0.4478772282600403,
          -0.4650476276874542,
          -0.3267064690589905,
          -0.3406198024749756,
          -0.33747628331184387,
          -0.4265557825565338,
          -0.46606165170669556,
          -0.4213586747646332,
          -0.3228035271167755,
          -0.2571921944618225,
          -0.40774786472320557,
          -0.380918949842453,
          -0.4590460956096649,
          -0.32905346155166626,
          -0.32460644841194153,
          -0.33031025528907776,
          -0.25019532442092896,
          -0.2962900400161743,
          -0.335347056388855,
          -0.3773827850818634,
          -0.4438897371292114,
          -0.42419183254241943,
          -0.4695676565170288,
          -0.4236176908016205,
          -0.3289138078689575,
          -0.3435082733631134,
          -0.4490838050842285,
          -0.42131319642066956,
          -0.3355129361152649,
          -0.4701373875141144,
          -0.407344788312912,
          -0.46435776352882385,
          -0.4481070339679718,
          -0.3835981786251068,
          -0.45073333382606506,
          -0.5381599068641663,
          -0.4699116349220276,
          -0.3273090422153473,
          -0.3740943968296051,
          -0.4250020384788513,
          -0.46707987785339355,
          -0.4256975054740906,
          -0.4653014540672302,
          -0.5419111847877502,
          -0.34149953722953796,
          -0.40956637263298035,
          -0.5352717638015747,
          -0.37993666529655457,
          -0.3010331094264984,
          -0.5394381880760193,
          -0.4682081937789917,
          -0.37129467725753784,
          -0.46778255701065063,
          -0.4098813831806183,
          -0.45424190163612366,
          -0.2478523552417755,
          -0.42179611325263977,
          -0.24981696903705597,
          -0.46732649207115173,
          -0.37943774461746216,
          -0.42177337408065796,
          -0.33466413617134094
         ],
         "y": [
          0.23869773745536804,
          0.23939189314842224,
          0.2344258725643158,
          0.9793767333030701,
          0.2385808527469635,
          0.4869202971458435,
          0.2494114339351654,
          0.5022843480110168,
          -0.010539866983890533,
          -0.0038392022252082825,
          0.0035405009984970093,
          0.25019529461860657,
          -0.003155261278152466,
          0.25496044754981995,
          -0.0032865814864635468,
          -0.003622237592935562,
          0.7399935722351074,
          -0.002897113561630249,
          0.24445870518684387,
          0.24014437198638916,
          0.25204235315322876,
          0.0014169774949550629,
          0.49684932827949524,
          -0.003586910665035248,
          0.504700779914856,
          0.49714845418930054,
          0.246168851852417,
          0.4912142753601074,
          0.2555415630340576,
          0.49862733483314514,
          -0.0021402761340141296,
          0.24738997220993042,
          -0.0063712820410728455,
          -0.005428820848464966,
          0.7497881650924683,
          0.2401399314403534,
          0.49192556738853455,
          0.5007501840591431,
          0.24108681082725525,
          -0.0010650306940078735,
          0.49961715936660767,
          0.2346247434616089,
          0.23961740732192993,
          -0.007997147738933563,
          0.0012722238898277283,
          -0.003187328577041626,
          0.4949966073036194,
          0.4985755383968353,
          0.2481655478477478,
          0.24317830801010132,
          0.24412479996681213,
          0.49690285325050354,
          0.49393683671951294,
          0.4946589767932892,
          0.7456189393997192,
          0.4995056092739105,
          0.2509381175041199,
          0.2412322461605072,
          0.23925510048866272,
          -0.0034439824521541595,
          -0.011933349072933197,
          -0.007448405027389526,
          0.501380980014801,
          0.23415493965148926,
          0.23735880851745605,
          0.0016954690217971802,
          0.2514447569847107,
          -0.01209241896867752,
          0.2490309178829193,
          -0.003553949296474457,
          0.23261219263076782,
          0.2492358684539795,
          0.2430049180984497,
          0.003931090235710144,
          -0.008724592626094818,
          0.4955136179924011,
          0.493252158164978,
          -0.007466413080692291,
          -0.0011985227465629578,
          -0.007514782249927521,
          -0.000977393239736557,
          -0.0018680430948734283,
          0.23789164423942566,
          0.24361133575439453,
          0.0018142461776733398,
          0.24718675017356873,
          0.5038100481033325,
          -0.005031507462263107,
          -0.007424771785736084,
          0.4827560782432556,
          -0.004437550902366638,
          0.2505740523338318,
          0.2413095235824585,
          0.7425169944763184,
          0.0005784034729003906,
          0.7400105595588684,
          -0.009472116827964783,
          0.23887202143669128,
          0.0014300644397735596,
          0.2508487105369568
         ]
        }
       ],
       "layout": {
        "template": {
         "data": {
          "bar": [
           {
            "error_x": {
             "color": "#2a3f5f"
            },
            "error_y": {
             "color": "#2a3f5f"
            },
            "marker": {
             "line": {
              "color": "#E5ECF6",
              "width": 0.5
             },
             "pattern": {
              "fillmode": "overlay",
              "size": 10,
              "solidity": 0.2
             }
            },
            "type": "bar"
           }
          ],
          "barpolar": [
           {
            "marker": {
             "line": {
              "color": "#E5ECF6",
              "width": 0.5
             },
             "pattern": {
              "fillmode": "overlay",
              "size": 10,
              "solidity": 0.2
             }
            },
            "type": "barpolar"
           }
          ],
          "carpet": [
           {
            "aaxis": {
             "endlinecolor": "#2a3f5f",
             "gridcolor": "white",
             "linecolor": "white",
             "minorgridcolor": "white",
             "startlinecolor": "#2a3f5f"
            },
            "baxis": {
             "endlinecolor": "#2a3f5f",
             "gridcolor": "white",
             "linecolor": "white",
             "minorgridcolor": "white",
             "startlinecolor": "#2a3f5f"
            },
            "type": "carpet"
           }
          ],
          "choropleth": [
           {
            "colorbar": {
             "outlinewidth": 0,
             "ticks": ""
            },
            "type": "choropleth"
           }
          ],
          "contour": [
           {
            "colorbar": {
             "outlinewidth": 0,
             "ticks": ""
            },
            "colorscale": [
             [
              0,
              "#0d0887"
             ],
             [
              0.1111111111111111,
              "#46039f"
             ],
             [
              0.2222222222222222,
              "#7201a8"
             ],
             [
              0.3333333333333333,
              "#9c179e"
             ],
             [
              0.4444444444444444,
              "#bd3786"
             ],
             [
              0.5555555555555556,
              "#d8576b"
             ],
             [
              0.6666666666666666,
              "#ed7953"
             ],
             [
              0.7777777777777778,
              "#fb9f3a"
             ],
             [
              0.8888888888888888,
              "#fdca26"
             ],
             [
              1,
              "#f0f921"
             ]
            ],
            "type": "contour"
           }
          ],
          "contourcarpet": [
           {
            "colorbar": {
             "outlinewidth": 0,
             "ticks": ""
            },
            "type": "contourcarpet"
           }
          ],
          "heatmap": [
           {
            "colorbar": {
             "outlinewidth": 0,
             "ticks": ""
            },
            "colorscale": [
             [
              0,
              "#0d0887"
             ],
             [
              0.1111111111111111,
              "#46039f"
             ],
             [
              0.2222222222222222,
              "#7201a8"
             ],
             [
              0.3333333333333333,
              "#9c179e"
             ],
             [
              0.4444444444444444,
              "#bd3786"
             ],
             [
              0.5555555555555556,
              "#d8576b"
             ],
             [
              0.6666666666666666,
              "#ed7953"
             ],
             [
              0.7777777777777778,
              "#fb9f3a"
             ],
             [
              0.8888888888888888,
              "#fdca26"
             ],
             [
              1,
              "#f0f921"
             ]
            ],
            "type": "heatmap"
           }
          ],
          "heatmapgl": [
           {
            "colorbar": {
             "outlinewidth": 0,
             "ticks": ""
            },
            "colorscale": [
             [
              0,
              "#0d0887"
             ],
             [
              0.1111111111111111,
              "#46039f"
             ],
             [
              0.2222222222222222,
              "#7201a8"
             ],
             [
              0.3333333333333333,
              "#9c179e"
             ],
             [
              0.4444444444444444,
              "#bd3786"
             ],
             [
              0.5555555555555556,
              "#d8576b"
             ],
             [
              0.6666666666666666,
              "#ed7953"
             ],
             [
              0.7777777777777778,
              "#fb9f3a"
             ],
             [
              0.8888888888888888,
              "#fdca26"
             ],
             [
              1,
              "#f0f921"
             ]
            ],
            "type": "heatmapgl"
           }
          ],
          "histogram": [
           {
            "marker": {
             "pattern": {
              "fillmode": "overlay",
              "size": 10,
              "solidity": 0.2
             }
            },
            "type": "histogram"
           }
          ],
          "histogram2d": [
           {
            "colorbar": {
             "outlinewidth": 0,
             "ticks": ""
            },
            "colorscale": [
             [
              0,
              "#0d0887"
             ],
             [
              0.1111111111111111,
              "#46039f"
             ],
             [
              0.2222222222222222,
              "#7201a8"
             ],
             [
              0.3333333333333333,
              "#9c179e"
             ],
             [
              0.4444444444444444,
              "#bd3786"
             ],
             [
              0.5555555555555556,
              "#d8576b"
             ],
             [
              0.6666666666666666,
              "#ed7953"
             ],
             [
              0.7777777777777778,
              "#fb9f3a"
             ],
             [
              0.8888888888888888,
              "#fdca26"
             ],
             [
              1,
              "#f0f921"
             ]
            ],
            "type": "histogram2d"
           }
          ],
          "histogram2dcontour": [
           {
            "colorbar": {
             "outlinewidth": 0,
             "ticks": ""
            },
            "colorscale": [
             [
              0,
              "#0d0887"
             ],
             [
              0.1111111111111111,
              "#46039f"
             ],
             [
              0.2222222222222222,
              "#7201a8"
             ],
             [
              0.3333333333333333,
              "#9c179e"
             ],
             [
              0.4444444444444444,
              "#bd3786"
             ],
             [
              0.5555555555555556,
              "#d8576b"
             ],
             [
              0.6666666666666666,
              "#ed7953"
             ],
             [
              0.7777777777777778,
              "#fb9f3a"
             ],
             [
              0.8888888888888888,
              "#fdca26"
             ],
             [
              1,
              "#f0f921"
             ]
            ],
            "type": "histogram2dcontour"
           }
          ],
          "mesh3d": [
           {
            "colorbar": {
             "outlinewidth": 0,
             "ticks": ""
            },
            "type": "mesh3d"
           }
          ],
          "parcoords": [
           {
            "line": {
             "colorbar": {
              "outlinewidth": 0,
              "ticks": ""
             }
            },
            "type": "parcoords"
           }
          ],
          "pie": [
           {
            "automargin": true,
            "type": "pie"
           }
          ],
          "scatter": [
           {
            "fillpattern": {
             "fillmode": "overlay",
             "size": 10,
             "solidity": 0.2
            },
            "type": "scatter"
           }
          ],
          "scatter3d": [
           {
            "line": {
             "colorbar": {
              "outlinewidth": 0,
              "ticks": ""
             }
            },
            "marker": {
             "colorbar": {
              "outlinewidth": 0,
              "ticks": ""
             }
            },
            "type": "scatter3d"
           }
          ],
          "scattercarpet": [
           {
            "marker": {
             "colorbar": {
              "outlinewidth": 0,
              "ticks": ""
             }
            },
            "type": "scattercarpet"
           }
          ],
          "scattergeo": [
           {
            "marker": {
             "colorbar": {
              "outlinewidth": 0,
              "ticks": ""
             }
            },
            "type": "scattergeo"
           }
          ],
          "scattergl": [
           {
            "marker": {
             "colorbar": {
              "outlinewidth": 0,
              "ticks": ""
             }
            },
            "type": "scattergl"
           }
          ],
          "scattermapbox": [
           {
            "marker": {
             "colorbar": {
              "outlinewidth": 0,
              "ticks": ""
             }
            },
            "type": "scattermapbox"
           }
          ],
          "scatterpolar": [
           {
            "marker": {
             "colorbar": {
              "outlinewidth": 0,
              "ticks": ""
             }
            },
            "type": "scatterpolar"
           }
          ],
          "scatterpolargl": [
           {
            "marker": {
             "colorbar": {
              "outlinewidth": 0,
              "ticks": ""
             }
            },
            "type": "scatterpolargl"
           }
          ],
          "scatterternary": [
           {
            "marker": {
             "colorbar": {
              "outlinewidth": 0,
              "ticks": ""
             }
            },
            "type": "scatterternary"
           }
          ],
          "surface": [
           {
            "colorbar": {
             "outlinewidth": 0,
             "ticks": ""
            },
            "colorscale": [
             [
              0,
              "#0d0887"
             ],
             [
              0.1111111111111111,
              "#46039f"
             ],
             [
              0.2222222222222222,
              "#7201a8"
             ],
             [
              0.3333333333333333,
              "#9c179e"
             ],
             [
              0.4444444444444444,
              "#bd3786"
             ],
             [
              0.5555555555555556,
              "#d8576b"
             ],
             [
              0.6666666666666666,
              "#ed7953"
             ],
             [
              0.7777777777777778,
              "#fb9f3a"
             ],
             [
              0.8888888888888888,
              "#fdca26"
             ],
             [
              1,
              "#f0f921"
             ]
            ],
            "type": "surface"
           }
          ],
          "table": [
           {
            "cells": {
             "fill": {
              "color": "#EBF0F8"
             },
             "line": {
              "color": "white"
             }
            },
            "header": {
             "fill": {
              "color": "#C8D4E3"
             },
             "line": {
              "color": "white"
             }
            },
            "type": "table"
           }
          ]
         },
         "layout": {
          "annotationdefaults": {
           "arrowcolor": "#2a3f5f",
           "arrowhead": 0,
           "arrowwidth": 1
          },
          "autotypenumbers": "strict",
          "coloraxis": {
           "colorbar": {
            "outlinewidth": 0,
            "ticks": ""
           }
          },
          "colorscale": {
           "diverging": [
            [
             0,
             "#8e0152"
            ],
            [
             0.1,
             "#c51b7d"
            ],
            [
             0.2,
             "#de77ae"
            ],
            [
             0.3,
             "#f1b6da"
            ],
            [
             0.4,
             "#fde0ef"
            ],
            [
             0.5,
             "#f7f7f7"
            ],
            [
             0.6,
             "#e6f5d0"
            ],
            [
             0.7,
             "#b8e186"
            ],
            [
             0.8,
             "#7fbc41"
            ],
            [
             0.9,
             "#4d9221"
            ],
            [
             1,
             "#276419"
            ]
           ],
           "sequential": [
            [
             0,
             "#0d0887"
            ],
            [
             0.1111111111111111,
             "#46039f"
            ],
            [
             0.2222222222222222,
             "#7201a8"
            ],
            [
             0.3333333333333333,
             "#9c179e"
            ],
            [
             0.4444444444444444,
             "#bd3786"
            ],
            [
             0.5555555555555556,
             "#d8576b"
            ],
            [
             0.6666666666666666,
             "#ed7953"
            ],
            [
             0.7777777777777778,
             "#fb9f3a"
            ],
            [
             0.8888888888888888,
             "#fdca26"
            ],
            [
             1,
             "#f0f921"
            ]
           ],
           "sequentialminus": [
            [
             0,
             "#0d0887"
            ],
            [
             0.1111111111111111,
             "#46039f"
            ],
            [
             0.2222222222222222,
             "#7201a8"
            ],
            [
             0.3333333333333333,
             "#9c179e"
            ],
            [
             0.4444444444444444,
             "#bd3786"
            ],
            [
             0.5555555555555556,
             "#d8576b"
            ],
            [
             0.6666666666666666,
             "#ed7953"
            ],
            [
             0.7777777777777778,
             "#fb9f3a"
            ],
            [
             0.8888888888888888,
             "#fdca26"
            ],
            [
             1,
             "#f0f921"
            ]
           ]
          },
          "colorway": [
           "#636efa",
           "#EF553B",
           "#00cc96",
           "#ab63fa",
           "#FFA15A",
           "#19d3f3",
           "#FF6692",
           "#B6E880",
           "#FF97FF",
           "#FECB52"
          ],
          "font": {
           "color": "#2a3f5f"
          },
          "geo": {
           "bgcolor": "white",
           "lakecolor": "white",
           "landcolor": "#E5ECF6",
           "showlakes": true,
           "showland": true,
           "subunitcolor": "white"
          },
          "hoverlabel": {
           "align": "left"
          },
          "hovermode": "closest",
          "mapbox": {
           "style": "light"
          },
          "paper_bgcolor": "white",
          "plot_bgcolor": "#E5ECF6",
          "polar": {
           "angularaxis": {
            "gridcolor": "white",
            "linecolor": "white",
            "ticks": ""
           },
           "bgcolor": "#E5ECF6",
           "radialaxis": {
            "gridcolor": "white",
            "linecolor": "white",
            "ticks": ""
           }
          },
          "scene": {
           "xaxis": {
            "backgroundcolor": "#E5ECF6",
            "gridcolor": "white",
            "gridwidth": 2,
            "linecolor": "white",
            "showbackground": true,
            "ticks": "",
            "zerolinecolor": "white"
           },
           "yaxis": {
            "backgroundcolor": "#E5ECF6",
            "gridcolor": "white",
            "gridwidth": 2,
            "linecolor": "white",
            "showbackground": true,
            "ticks": "",
            "zerolinecolor": "white"
           },
           "zaxis": {
            "backgroundcolor": "#E5ECF6",
            "gridcolor": "white",
            "gridwidth": 2,
            "linecolor": "white",
            "showbackground": true,
            "ticks": "",
            "zerolinecolor": "white"
           }
          },
          "shapedefaults": {
           "line": {
            "color": "#2a3f5f"
           }
          },
          "ternary": {
           "aaxis": {
            "gridcolor": "white",
            "linecolor": "white",
            "ticks": ""
           },
           "baxis": {
            "gridcolor": "white",
            "linecolor": "white",
            "ticks": ""
           },
           "bgcolor": "#E5ECF6",
           "caxis": {
            "gridcolor": "white",
            "linecolor": "white",
            "ticks": ""
           }
          },
          "title": {
           "x": 0.05
          },
          "xaxis": {
           "automargin": true,
           "gridcolor": "white",
           "linecolor": "white",
           "ticks": "",
           "title": {
            "standoff": 15
           },
           "zerolinecolor": "white",
           "zerolinewidth": 2
          },
          "yaxis": {
           "automargin": true,
           "gridcolor": "white",
           "linecolor": "white",
           "ticks": "",
           "title": {
            "standoff": 15
           },
           "zerolinecolor": "white",
           "zerolinewidth": 2
          }
         }
        },
        "title": {
         "text": "Logit Lens Results for 0_mlp_out"
        },
        "xaxis": {
         "title": {
          "text": "Logit Lens Results"
         }
        },
        "yaxis": {
         "title": {
          "text": "True Logits"
         }
        }
       }
      }
     },
     "metadata": {},
     "output_type": "display_data"
    }
   ],
   "source": [
    "from scipy import stats\n",
    "import plotly.graph_objects as go\n",
    "# k = \"L1H0\"\n",
    "k = \"0_mlp_out\"\n",
    "\n",
    "fig = go.Figure()\n",
    "\n",
    "for i in range(logit_lens_results[k].shape[1]):\n",
    "    y = labels[:, i].squeeze().detach().cpu().numpy()\n",
    "    x = logit_lens_results[k][:, i].detach().cpu().numpy()\n",
    "    pearson_corr = stats.pearsonr(x, y)\n",
    "    fig.add_trace(go.Scatter(x=x, y=y, mode='markers', name=f\"pos {i}, corr: {pearson_corr[0]:.2f}\"))\n",
    "\n",
    "fig.update_layout(title=f\"Logit Lens Results for {k}\", yaxis_title=\"True Logits\", xaxis_title=\"Logit Lens Results\")\n",
    "fig.show()\n",
    "    "
   ]
  },
  {
   "cell_type": "markdown",
   "metadata": {},
   "source": [
    "0_mlp_out has different ranges for different proportions, this ideally, shouldn't happen!\n",
    "\n",
    "There is no node before it that calculates the fraction, so how does it do this?"
   ]
  },
  {
   "cell_type": "code",
   "execution_count": 137,
   "metadata": {},
   "outputs": [
    {
     "name": "stderr",
     "output_type": "stream",
     "text": [
      "/var/folders/_k/_46xyqdj165bdcyw79k6758w0000gn/T/ipykernel_47586/973554268.py:6: ConstantInputWarning:\n",
      "\n",
      "An input array is constant; the correlation coefficient is not defined.\n",
      "\n"
     ]
    },
    {
     "data": {
      "application/vnd.plotly.v1+json": {
       "config": {
        "plotlyServerURL": "https://plot.ly"
       },
       "data": [
        {
         "coloraxis": "coloraxis",
         "hovertemplate": "Layer/Head: %{x}<br>Position: %{y}<br>Pearson Correlation: %{z}<extra></extra>",
         "name": "0",
         "type": "heatmap",
         "x": [
          "embed",
          "pos_embed",
          "0_mlp_out",
          "1_mlp_out",
          "L0H0",
          "L0H1",
          "L0H2",
          "L0H3",
          "L1H0",
          "L1H1",
          "L1H2",
          "L1H3"
         ],
         "xaxis": "x",
         "y": [
          "0",
          "1",
          "2",
          "3"
         ],
         "yaxis": "y",
         "z": [
          [
           -0.0545315747017875,
           null,
           0.9136564034935317,
           0.9876791017332558,
           -0.6400632469412705,
           0.7918609650768995,
           -0.9483906957335542,
           0.8783708559433552,
           0.9992846447151623,
           0.996601710793827,
           -0.6741789140596768,
           0.7255762034259777
          ],
          [
           0.04952320888330048,
           null,
           0.9015565751389935,
           -0.5524921295613294,
           -0.619906893769636,
           0.7719004628722967,
           -0.8928655068260345,
           0.8313975141975343,
           0.997314402798765,
           0.9772009841972231,
           -0.742686841463859,
           0.7025449192333801
          ],
          [
           -0.030569319368650386,
           null,
           0.8934253830655768,
           -0.6008619464843634,
           -0.5695650037791491,
           0.7573485277283611,
           -0.894342112732613,
           0.8213314953528001,
           0.9972518673032824,
           0.9780648588059175,
           -0.755007356597255,
           0.7151406688547364
          ],
          [
           0.034613857876489844,
           null,
           0.8651544783540872,
           -0.6102564203395389,
           -0.5748653061185505,
           0.798674772075241,
           -0.8759136265008907,
           0.7983649257208083,
           0.9968923761147884,
           0.9845715913429378,
           -0.5943410184533052,
           0.8148284836841744
          ]
         ]
        }
       ],
       "layout": {
        "coloraxis": {
         "colorbar": {
          "title": {
           "text": "Pearson Correlation"
          }
         },
         "colorscale": [
          [
           0,
           "#440154"
          ],
          [
           0.1111111111111111,
           "#482878"
          ],
          [
           0.2222222222222222,
           "#3e4989"
          ],
          [
           0.3333333333333333,
           "#31688e"
          ],
          [
           0.4444444444444444,
           "#26828e"
          ],
          [
           0.5555555555555556,
           "#1f9e89"
          ],
          [
           0.6666666666666666,
           "#35b779"
          ],
          [
           0.7777777777777778,
           "#6ece58"
          ],
          [
           0.8888888888888888,
           "#b5de2b"
          ],
          [
           1,
           "#fde725"
          ]
         ]
        },
        "margin": {
         "t": 60
        },
        "template": {
         "data": {
          "bar": [
           {
            "error_x": {
             "color": "#2a3f5f"
            },
            "error_y": {
             "color": "#2a3f5f"
            },
            "marker": {
             "line": {
              "color": "#E5ECF6",
              "width": 0.5
             },
             "pattern": {
              "fillmode": "overlay",
              "size": 10,
              "solidity": 0.2
             }
            },
            "type": "bar"
           }
          ],
          "barpolar": [
           {
            "marker": {
             "line": {
              "color": "#E5ECF6",
              "width": 0.5
             },
             "pattern": {
              "fillmode": "overlay",
              "size": 10,
              "solidity": 0.2
             }
            },
            "type": "barpolar"
           }
          ],
          "carpet": [
           {
            "aaxis": {
             "endlinecolor": "#2a3f5f",
             "gridcolor": "white",
             "linecolor": "white",
             "minorgridcolor": "white",
             "startlinecolor": "#2a3f5f"
            },
            "baxis": {
             "endlinecolor": "#2a3f5f",
             "gridcolor": "white",
             "linecolor": "white",
             "minorgridcolor": "white",
             "startlinecolor": "#2a3f5f"
            },
            "type": "carpet"
           }
          ],
          "choropleth": [
           {
            "colorbar": {
             "outlinewidth": 0,
             "ticks": ""
            },
            "type": "choropleth"
           }
          ],
          "contour": [
           {
            "colorbar": {
             "outlinewidth": 0,
             "ticks": ""
            },
            "colorscale": [
             [
              0,
              "#0d0887"
             ],
             [
              0.1111111111111111,
              "#46039f"
             ],
             [
              0.2222222222222222,
              "#7201a8"
             ],
             [
              0.3333333333333333,
              "#9c179e"
             ],
             [
              0.4444444444444444,
              "#bd3786"
             ],
             [
              0.5555555555555556,
              "#d8576b"
             ],
             [
              0.6666666666666666,
              "#ed7953"
             ],
             [
              0.7777777777777778,
              "#fb9f3a"
             ],
             [
              0.8888888888888888,
              "#fdca26"
             ],
             [
              1,
              "#f0f921"
             ]
            ],
            "type": "contour"
           }
          ],
          "contourcarpet": [
           {
            "colorbar": {
             "outlinewidth": 0,
             "ticks": ""
            },
            "type": "contourcarpet"
           }
          ],
          "heatmap": [
           {
            "colorbar": {
             "outlinewidth": 0,
             "ticks": ""
            },
            "colorscale": [
             [
              0,
              "#0d0887"
             ],
             [
              0.1111111111111111,
              "#46039f"
             ],
             [
              0.2222222222222222,
              "#7201a8"
             ],
             [
              0.3333333333333333,
              "#9c179e"
             ],
             [
              0.4444444444444444,
              "#bd3786"
             ],
             [
              0.5555555555555556,
              "#d8576b"
             ],
             [
              0.6666666666666666,
              "#ed7953"
             ],
             [
              0.7777777777777778,
              "#fb9f3a"
             ],
             [
              0.8888888888888888,
              "#fdca26"
             ],
             [
              1,
              "#f0f921"
             ]
            ],
            "type": "heatmap"
           }
          ],
          "heatmapgl": [
           {
            "colorbar": {
             "outlinewidth": 0,
             "ticks": ""
            },
            "colorscale": [
             [
              0,
              "#0d0887"
             ],
             [
              0.1111111111111111,
              "#46039f"
             ],
             [
              0.2222222222222222,
              "#7201a8"
             ],
             [
              0.3333333333333333,
              "#9c179e"
             ],
             [
              0.4444444444444444,
              "#bd3786"
             ],
             [
              0.5555555555555556,
              "#d8576b"
             ],
             [
              0.6666666666666666,
              "#ed7953"
             ],
             [
              0.7777777777777778,
              "#fb9f3a"
             ],
             [
              0.8888888888888888,
              "#fdca26"
             ],
             [
              1,
              "#f0f921"
             ]
            ],
            "type": "heatmapgl"
           }
          ],
          "histogram": [
           {
            "marker": {
             "pattern": {
              "fillmode": "overlay",
              "size": 10,
              "solidity": 0.2
             }
            },
            "type": "histogram"
           }
          ],
          "histogram2d": [
           {
            "colorbar": {
             "outlinewidth": 0,
             "ticks": ""
            },
            "colorscale": [
             [
              0,
              "#0d0887"
             ],
             [
              0.1111111111111111,
              "#46039f"
             ],
             [
              0.2222222222222222,
              "#7201a8"
             ],
             [
              0.3333333333333333,
              "#9c179e"
             ],
             [
              0.4444444444444444,
              "#bd3786"
             ],
             [
              0.5555555555555556,
              "#d8576b"
             ],
             [
              0.6666666666666666,
              "#ed7953"
             ],
             [
              0.7777777777777778,
              "#fb9f3a"
             ],
             [
              0.8888888888888888,
              "#fdca26"
             ],
             [
              1,
              "#f0f921"
             ]
            ],
            "type": "histogram2d"
           }
          ],
          "histogram2dcontour": [
           {
            "colorbar": {
             "outlinewidth": 0,
             "ticks": ""
            },
            "colorscale": [
             [
              0,
              "#0d0887"
             ],
             [
              0.1111111111111111,
              "#46039f"
             ],
             [
              0.2222222222222222,
              "#7201a8"
             ],
             [
              0.3333333333333333,
              "#9c179e"
             ],
             [
              0.4444444444444444,
              "#bd3786"
             ],
             [
              0.5555555555555556,
              "#d8576b"
             ],
             [
              0.6666666666666666,
              "#ed7953"
             ],
             [
              0.7777777777777778,
              "#fb9f3a"
             ],
             [
              0.8888888888888888,
              "#fdca26"
             ],
             [
              1,
              "#f0f921"
             ]
            ],
            "type": "histogram2dcontour"
           }
          ],
          "mesh3d": [
           {
            "colorbar": {
             "outlinewidth": 0,
             "ticks": ""
            },
            "type": "mesh3d"
           }
          ],
          "parcoords": [
           {
            "line": {
             "colorbar": {
              "outlinewidth": 0,
              "ticks": ""
             }
            },
            "type": "parcoords"
           }
          ],
          "pie": [
           {
            "automargin": true,
            "type": "pie"
           }
          ],
          "scatter": [
           {
            "fillpattern": {
             "fillmode": "overlay",
             "size": 10,
             "solidity": 0.2
            },
            "type": "scatter"
           }
          ],
          "scatter3d": [
           {
            "line": {
             "colorbar": {
              "outlinewidth": 0,
              "ticks": ""
             }
            },
            "marker": {
             "colorbar": {
              "outlinewidth": 0,
              "ticks": ""
             }
            },
            "type": "scatter3d"
           }
          ],
          "scattercarpet": [
           {
            "marker": {
             "colorbar": {
              "outlinewidth": 0,
              "ticks": ""
             }
            },
            "type": "scattercarpet"
           }
          ],
          "scattergeo": [
           {
            "marker": {
             "colorbar": {
              "outlinewidth": 0,
              "ticks": ""
             }
            },
            "type": "scattergeo"
           }
          ],
          "scattergl": [
           {
            "marker": {
             "colorbar": {
              "outlinewidth": 0,
              "ticks": ""
             }
            },
            "type": "scattergl"
           }
          ],
          "scattermapbox": [
           {
            "marker": {
             "colorbar": {
              "outlinewidth": 0,
              "ticks": ""
             }
            },
            "type": "scattermapbox"
           }
          ],
          "scatterpolar": [
           {
            "marker": {
             "colorbar": {
              "outlinewidth": 0,
              "ticks": ""
             }
            },
            "type": "scatterpolar"
           }
          ],
          "scatterpolargl": [
           {
            "marker": {
             "colorbar": {
              "outlinewidth": 0,
              "ticks": ""
             }
            },
            "type": "scatterpolargl"
           }
          ],
          "scatterternary": [
           {
            "marker": {
             "colorbar": {
              "outlinewidth": 0,
              "ticks": ""
             }
            },
            "type": "scatterternary"
           }
          ],
          "surface": [
           {
            "colorbar": {
             "outlinewidth": 0,
             "ticks": ""
            },
            "colorscale": [
             [
              0,
              "#0d0887"
             ],
             [
              0.1111111111111111,
              "#46039f"
             ],
             [
              0.2222222222222222,
              "#7201a8"
             ],
             [
              0.3333333333333333,
              "#9c179e"
             ],
             [
              0.4444444444444444,
              "#bd3786"
             ],
             [
              0.5555555555555556,
              "#d8576b"
             ],
             [
              0.6666666666666666,
              "#ed7953"
             ],
             [
              0.7777777777777778,
              "#fb9f3a"
             ],
             [
              0.8888888888888888,
              "#fdca26"
             ],
             [
              1,
              "#f0f921"
             ]
            ],
            "type": "surface"
           }
          ],
          "table": [
           {
            "cells": {
             "fill": {
              "color": "#EBF0F8"
             },
             "line": {
              "color": "white"
             }
            },
            "header": {
             "fill": {
              "color": "#C8D4E3"
             },
             "line": {
              "color": "white"
             }
            },
            "type": "table"
           }
          ]
         },
         "layout": {
          "annotationdefaults": {
           "arrowcolor": "#2a3f5f",
           "arrowhead": 0,
           "arrowwidth": 1
          },
          "autotypenumbers": "strict",
          "coloraxis": {
           "colorbar": {
            "outlinewidth": 0,
            "ticks": ""
           }
          },
          "colorscale": {
           "diverging": [
            [
             0,
             "#8e0152"
            ],
            [
             0.1,
             "#c51b7d"
            ],
            [
             0.2,
             "#de77ae"
            ],
            [
             0.3,
             "#f1b6da"
            ],
            [
             0.4,
             "#fde0ef"
            ],
            [
             0.5,
             "#f7f7f7"
            ],
            [
             0.6,
             "#e6f5d0"
            ],
            [
             0.7,
             "#b8e186"
            ],
            [
             0.8,
             "#7fbc41"
            ],
            [
             0.9,
             "#4d9221"
            ],
            [
             1,
             "#276419"
            ]
           ],
           "sequential": [
            [
             0,
             "#0d0887"
            ],
            [
             0.1111111111111111,
             "#46039f"
            ],
            [
             0.2222222222222222,
             "#7201a8"
            ],
            [
             0.3333333333333333,
             "#9c179e"
            ],
            [
             0.4444444444444444,
             "#bd3786"
            ],
            [
             0.5555555555555556,
             "#d8576b"
            ],
            [
             0.6666666666666666,
             "#ed7953"
            ],
            [
             0.7777777777777778,
             "#fb9f3a"
            ],
            [
             0.8888888888888888,
             "#fdca26"
            ],
            [
             1,
             "#f0f921"
            ]
           ],
           "sequentialminus": [
            [
             0,
             "#0d0887"
            ],
            [
             0.1111111111111111,
             "#46039f"
            ],
            [
             0.2222222222222222,
             "#7201a8"
            ],
            [
             0.3333333333333333,
             "#9c179e"
            ],
            [
             0.4444444444444444,
             "#bd3786"
            ],
            [
             0.5555555555555556,
             "#d8576b"
            ],
            [
             0.6666666666666666,
             "#ed7953"
            ],
            [
             0.7777777777777778,
             "#fb9f3a"
            ],
            [
             0.8888888888888888,
             "#fdca26"
            ],
            [
             1,
             "#f0f921"
            ]
           ]
          },
          "colorway": [
           "#636efa",
           "#EF553B",
           "#00cc96",
           "#ab63fa",
           "#FFA15A",
           "#19d3f3",
           "#FF6692",
           "#B6E880",
           "#FF97FF",
           "#FECB52"
          ],
          "font": {
           "color": "#2a3f5f"
          },
          "geo": {
           "bgcolor": "white",
           "lakecolor": "white",
           "landcolor": "#E5ECF6",
           "showlakes": true,
           "showland": true,
           "subunitcolor": "white"
          },
          "hoverlabel": {
           "align": "left"
          },
          "hovermode": "closest",
          "mapbox": {
           "style": "light"
          },
          "paper_bgcolor": "white",
          "plot_bgcolor": "#E5ECF6",
          "polar": {
           "angularaxis": {
            "gridcolor": "white",
            "linecolor": "white",
            "ticks": ""
           },
           "bgcolor": "#E5ECF6",
           "radialaxis": {
            "gridcolor": "white",
            "linecolor": "white",
            "ticks": ""
           }
          },
          "scene": {
           "xaxis": {
            "backgroundcolor": "#E5ECF6",
            "gridcolor": "white",
            "gridwidth": 2,
            "linecolor": "white",
            "showbackground": true,
            "ticks": "",
            "zerolinecolor": "white"
           },
           "yaxis": {
            "backgroundcolor": "#E5ECF6",
            "gridcolor": "white",
            "gridwidth": 2,
            "linecolor": "white",
            "showbackground": true,
            "ticks": "",
            "zerolinecolor": "white"
           },
           "zaxis": {
            "backgroundcolor": "#E5ECF6",
            "gridcolor": "white",
            "gridwidth": 2,
            "linecolor": "white",
            "showbackground": true,
            "ticks": "",
            "zerolinecolor": "white"
           }
          },
          "shapedefaults": {
           "line": {
            "color": "#2a3f5f"
           }
          },
          "ternary": {
           "aaxis": {
            "gridcolor": "white",
            "linecolor": "white",
            "ticks": ""
           },
           "baxis": {
            "gridcolor": "white",
            "linecolor": "white",
            "ticks": ""
           },
           "bgcolor": "#E5ECF6",
           "caxis": {
            "gridcolor": "white",
            "linecolor": "white",
            "ticks": ""
           }
          },
          "title": {
           "x": 0.05
          },
          "xaxis": {
           "automargin": true,
           "gridcolor": "white",
           "linecolor": "white",
           "ticks": "",
           "title": {
            "standoff": 15
           },
           "zerolinecolor": "white",
           "zerolinewidth": 2
          },
          "yaxis": {
           "automargin": true,
           "gridcolor": "white",
           "linecolor": "white",
           "ticks": "",
           "title": {
            "standoff": 15
           },
           "zerolinecolor": "white",
           "zerolinewidth": 2
          }
         }
        },
        "xaxis": {
         "anchor": "y",
         "constrain": "domain",
         "domain": [
          0,
          1
         ],
         "scaleanchor": "y",
         "title": {
          "text": "Layer/Head"
         }
        },
        "yaxis": {
         "anchor": "x",
         "autorange": "reversed",
         "constrain": "domain",
         "domain": [
          0,
          1
         ],
         "title": {
          "text": "Position"
         }
        }
       }
      }
     },
     "metadata": {},
     "output_type": "display_data"
    }
   ],
   "source": [
    "pearson_corrs = {}\n",
    "for k in logit_lens_results.keys():\n",
    "    x = logit_lens_results[k].detach().cpu().numpy()\n",
    "    y = labels.detach().cpu().numpy()\n",
    "    for i in range(x.shape[1]): \n",
    "        pearson_corr = stats.pearsonr(x[:, i], y[:, i])\n",
    "        if k not in pearson_corrs:\n",
    "            pearson_corrs[k] = {}\n",
    "        pearson_corrs[k][str(i)] = pearson_corr.correlation\n",
    "\n",
    "pearson_corrs = pd.DataFrame(pearson_corrs)\n",
    "px.imshow(pearson_corrs, \n",
    "          # set color map\n",
    "            color_continuous_scale=\"Viridis\",\n",
    "            # set axis labels   \n",
    "            labels=dict(y=\"Position\", x=\"Layer/Head\", color=\"Pearson Correlation\"),\n",
    ")"
   ]
  },
  {
   "cell_type": "code",
   "execution_count": 32,
   "metadata": {},
   "outputs": [
    {
     "data": {
      "text/html": [
       "<div>\n",
       "<style scoped>\n",
       "    .dataframe tbody tr th:only-of-type {\n",
       "        vertical-align: middle;\n",
       "    }\n",
       "\n",
       "    .dataframe tbody tr th {\n",
       "        vertical-align: top;\n",
       "    }\n",
       "\n",
       "    .dataframe thead th {\n",
       "        text-align: right;\n",
       "    }\n",
       "</style>\n",
       "<table border=\"1\" class=\"dataframe\">\n",
       "  <thead>\n",
       "    <tr style=\"text-align: right;\">\n",
       "      <th></th>\n",
       "      <th>embed</th>\n",
       "      <th>pos_embed</th>\n",
       "      <th>0_mlp_out</th>\n",
       "      <th>1_mlp_out</th>\n",
       "      <th>L0H0</th>\n",
       "      <th>L0H1</th>\n",
       "      <th>L0H2</th>\n",
       "      <th>L0H3</th>\n",
       "      <th>L1H0</th>\n",
       "      <th>L1H1</th>\n",
       "      <th>L1H2</th>\n",
       "      <th>L1H3</th>\n",
       "    </tr>\n",
       "  </thead>\n",
       "  <tbody>\n",
       "    <tr>\n",
       "      <th>0</th>\n",
       "      <td>0.141054</td>\n",
       "      <td>0.0</td>\n",
       "      <td>0.326435</td>\n",
       "      <td>0.047036</td>\n",
       "      <td>0.043156</td>\n",
       "      <td>0.017481</td>\n",
       "      <td>0.057509</td>\n",
       "      <td>0.017454</td>\n",
       "      <td>0.698715</td>\n",
       "      <td>0.064397</td>\n",
       "      <td>0.017532</td>\n",
       "      <td>0.029497</td>\n",
       "    </tr>\n",
       "    <tr>\n",
       "      <th>1</th>\n",
       "      <td>0.141054</td>\n",
       "      <td>0.0</td>\n",
       "      <td>0.389155</td>\n",
       "      <td>0.044670</td>\n",
       "      <td>0.050453</td>\n",
       "      <td>0.023787</td>\n",
       "      <td>0.100339</td>\n",
       "      <td>0.020985</td>\n",
       "      <td>0.696097</td>\n",
       "      <td>0.079091</td>\n",
       "      <td>0.038061</td>\n",
       "      <td>0.047075</td>\n",
       "    </tr>\n",
       "    <tr>\n",
       "      <th>2</th>\n",
       "      <td>0.141054</td>\n",
       "      <td>0.0</td>\n",
       "      <td>0.407220</td>\n",
       "      <td>0.058867</td>\n",
       "      <td>0.045557</td>\n",
       "      <td>0.026155</td>\n",
       "      <td>0.114847</td>\n",
       "      <td>0.023848</td>\n",
       "      <td>0.710450</td>\n",
       "      <td>0.089134</td>\n",
       "      <td>0.041840</td>\n",
       "      <td>0.050687</td>\n",
       "    </tr>\n",
       "    <tr>\n",
       "      <th>3</th>\n",
       "      <td>0.141054</td>\n",
       "      <td>0.0</td>\n",
       "      <td>0.371703</td>\n",
       "      <td>0.085974</td>\n",
       "      <td>0.056181</td>\n",
       "      <td>0.028328</td>\n",
       "      <td>0.132014</td>\n",
       "      <td>0.021679</td>\n",
       "      <td>0.717134</td>\n",
       "      <td>0.096526</td>\n",
       "      <td>0.052626</td>\n",
       "      <td>0.057512</td>\n",
       "    </tr>\n",
       "  </tbody>\n",
       "</table>\n",
       "</div>"
      ],
      "text/plain": [
       "      embed  pos_embed  0_mlp_out  1_mlp_out      L0H0      L0H1      L0H2  \\\n",
       "0  0.141054        0.0   0.326435   0.047036  0.043156  0.017481  0.057509   \n",
       "1  0.141054        0.0   0.389155   0.044670  0.050453  0.023787  0.100339   \n",
       "2  0.141054        0.0   0.407220   0.058867  0.045557  0.026155  0.114847   \n",
       "3  0.141054        0.0   0.371703   0.085974  0.056181  0.028328  0.132014   \n",
       "\n",
       "       L0H3      L1H0      L1H1      L1H2      L1H3  \n",
       "0  0.017454  0.698715  0.064397  0.017532  0.029497  \n",
       "1  0.020985  0.696097  0.079091  0.038061  0.047075  \n",
       "2  0.023848  0.710450  0.089134  0.041840  0.050687  \n",
       "3  0.021679  0.717134  0.096526  0.052626  0.057512  "
      ]
     },
     "execution_count": 32,
     "metadata": {},
     "output_type": "execute_result"
    }
   ],
   "source": [
    "import pandas as pd\n",
    "stds = {}\n",
    "\n",
    "for k, tensor in logit_lens_results.items():\n",
    "    # calculate std of logit lens results across a position\n",
    "    # std = tensor.std(dim=0).detach().cpu().numpy()\n",
    "    # stds[k] = std\n",
    "    maxes = tensor.max(dim=0).values.detach().cpu().numpy()\n",
    "    mins = tensor.min(dim=0).values.detach().cpu().numpy()\n",
    "    maxminusmin = maxes - mins\n",
    "    stds[k] = maxminusmin\n",
    "\n",
    "stds_df = pd.DataFrame(stds)\n",
    "stds_df"
   ]
  },
  {
   "cell_type": "markdown",
   "metadata": {},
   "source": [
    "### Rough"
   ]
  },
  {
   "cell_type": "code",
   "execution_count": null,
   "metadata": {},
   "outputs": [],
   "source": [
    "# per_layer_residual, layers = cache.decompose_resid(-1, mode=\"mlp\", return_labels=True, pos_slice=slice(1, None, None ))\n",
    "# per_head_residual, attns = cache.stack_head_results(\n",
    "#     layer=-1, pos_slice=slice(1, None, None ), return_labels=True\n",
    "# )\n",
    "\n",
    "# logit_diff_directions = model.unembed.W_U.t().squeeze(0)\n",
    "\n",
    "# per_layer_logit_diff = residual_stack_to_logit_diff(per_layer_residual, cache, logit_diff_directions)\n",
    "# per_head_logit_diff = residual_stack_to_logit_diff(per_head_residual, cache, logit_diff_directions)\n",
    "\n",
    "# mlp_loss = torch.nn.functional.mse_loss(per_layer_logit_diff, labels.squeeze()[:, 1:], reduction=\"none\")\n",
    "# attn_loss = torch.nn.functional.mse_loss(per_head_logit_diff, labels.squeeze()[:, 1:], reduction=\"none\")\n",
    "# # mean everything except dim 0\n",
    "# mlp_loss = mlp_loss.mean(dim=[1, 2])\n",
    "# attn_loss = attn_loss.mean(dim=[1, 2])"
   ]
  },
  {
   "cell_type": "code",
   "execution_count": null,
   "metadata": {},
   "outputs": [],
   "source": [
    "# results = list(zip(layers, mlp_loss)) + (list(zip(attns, attn_loss)))\n",
    "# results"
   ]
  },
  {
   "cell_type": "code",
   "execution_count": null,
   "metadata": {},
   "outputs": [],
   "source": [
    "# head = 7\n",
    "# ex = 0\n",
    "# per_head_logit_diff[head][ex], labels[ex][1:], attns[head], batch[ex][1:]"
   ]
  },
  {
   "cell_type": "code",
   "execution_count": null,
   "metadata": {},
   "outputs": [],
   "source": [
    "# layer = 3\n",
    "# ex = 2\n",
    "# per_layer_logit_diff[layer][ex], labels[ex], layers[layer], batch[ex][1:]"
   ]
  },
  {
   "cell_type": "code",
   "execution_count": null,
   "metadata": {},
   "outputs": [],
   "source": []
  }
 ],
 "metadata": {
  "kernelspec": {
   "display_name": ".iit",
   "language": "python",
   "name": "python3"
  },
  "language_info": {
   "codemirror_mode": {
    "name": "ipython",
    "version": 3
   },
   "file_extension": ".py",
   "mimetype": "text/x-python",
   "name": "python",
   "nbconvert_exporter": "python",
   "pygments_lexer": "ipython3",
   "version": "3.11.4"
  }
 },
 "nbformat": 4,
 "nbformat_minor": 2
}
