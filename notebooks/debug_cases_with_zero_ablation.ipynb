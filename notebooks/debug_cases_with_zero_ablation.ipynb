{
 "cells": [
  {
   "cell_type": "code",
   "execution_count": 1,
   "metadata": {},
   "outputs": [],
   "source": [
    "%load_ext autoreload\n",
    "%autoreload 2"
   ]
  },
  {
   "cell_type": "code",
   "execution_count": 2,
   "metadata": {},
   "outputs": [],
   "source": [
    "from circuits_benchmark.utils.get_cases import get_cases\n",
    "from circuits_benchmark.utils.iit.ll_cfg import make_ll_cfg_for_case\n",
    "\n",
    "case_name = \"20\"\n",
    "case = get_cases(indices=[case_name])[0]"
   ]
  },
  {
   "cell_type": "code",
   "execution_count": 3,
   "metadata": {},
   "outputs": [],
   "source": [
    "from circuits_benchmark.utils.ll_model_loader.ll_model_loader_factory import get_ll_model_loader\n",
    "import torch\n",
    "\n",
    "ll_model_loader = get_ll_model_loader(case, interp_bench=True)\n",
    "hl_ll_corr, model = ll_model_loader.load_ll_model_and_correspondence(device='cuda' if torch.cuda.is_available() else 'cpu')"
   ]
  },
  {
   "cell_type": "code",
   "execution_count": 4,
   "metadata": {},
   "outputs": [],
   "source": [
    "from typing import Literal\n",
    "\n",
    "def get_corrupted_thing(\n",
    "    model,\n",
    "    data,\n",
    "    cache_type: Literal[\"mean\", \"zero\", \"resample\"] = \"mean\",\n",
    "    hook_point: str = \"blocks.1.hook_mlp_out\",\n",
    "):\n",
    "    _, cache = model.run_with_cache(data)\n",
    "    corrupted_thing = cache[hook_point]\n",
    "    if cache_type == \"mean\":\n",
    "        mean_cache = corrupted_thing.mean(dim = 0)\n",
    "        # expand to the same shape as corrupted_thing\n",
    "        mean_cache = mean_cache.expand_as(corrupted_thing)\n",
    "        return mean_cache\n",
    "    elif cache_type == \"zero\":\n",
    "        return torch.zeros_like(corrupted_thing)\n",
    "    elif cache_type == \"resample\":\n",
    "        # permute the dimensions of corrupted_thing\n",
    "        idxs = torch.randperm(corrupted_thing.size(0))\n",
    "        return corrupted_thing[idxs]\n",
    "    else:\n",
    "        raise ValueError(f\"Unknown cache type: {cache_type}\")"
   ]
  },
  {
   "cell_type": "code",
   "execution_count": 30,
   "metadata": {},
   "outputs": [
    {
     "name": "stdout",
     "output_type": "stream",
     "text": [
      "tensor([[[0., 0., 0.,  ..., 0., 0., 0.],\n",
      "         [0., 0., 0.,  ..., 0., 0., 0.],\n",
      "         [0., 0., 0.,  ..., 0., 0., 0.],\n",
      "         ...,\n",
      "         [0., 0., 0.,  ..., 0., 0., 0.],\n",
      "         [0., 0., 0.,  ..., 0., 0., 0.],\n",
      "         [0., 0., 0.,  ..., 0., 0., 0.]],\n",
      "\n",
      "        [[0., 0., 0.,  ..., 0., 0., 0.],\n",
      "         [0., 0., 0.,  ..., 0., 0., 0.],\n",
      "         [0., 0., 0.,  ..., 0., 0., 0.],\n",
      "         ...,\n",
      "         [0., 0., 0.,  ..., 0., 0., 0.],\n",
      "         [0., 0., 0.,  ..., 0., 0., 0.],\n",
      "         [0., 0., 0.,  ..., 0., 0., 0.]],\n",
      "\n",
      "        [[0., 0., 0.,  ..., 0., 0., 0.],\n",
      "         [0., 0., 0.,  ..., 0., 0., 0.],\n",
      "         [0., 0., 0.,  ..., 0., 0., 0.],\n",
      "         ...,\n",
      "         [0., 0., 0.,  ..., 0., 0., 0.],\n",
      "         [0., 0., 0.,  ..., 0., 0., 0.],\n",
      "         [0., 0., 0.,  ..., 0., 0., 0.]],\n",
      "\n",
      "        ...,\n",
      "\n",
      "        [[0., 0., 0.,  ..., 0., 0., 0.],\n",
      "         [0., 0., 0.,  ..., 0., 0., 0.],\n",
      "         [0., 0., 0.,  ..., 0., 0., 0.],\n",
      "         ...,\n",
      "         [0., 0., 0.,  ..., 0., 0., 0.],\n",
      "         [0., 0., 0.,  ..., 0., 0., 0.],\n",
      "         [0., 0., 0.,  ..., 0., 0., 0.]],\n",
      "\n",
      "        [[0., 0., 0.,  ..., 0., 0., 0.],\n",
      "         [0., 0., 0.,  ..., 0., 0., 0.],\n",
      "         [0., 0., 0.,  ..., 0., 0., 0.],\n",
      "         ...,\n",
      "         [0., 0., 0.,  ..., 0., 0., 0.],\n",
      "         [0., 0., 0.,  ..., 0., 0., 0.],\n",
      "         [0., 0., 0.,  ..., 0., 0., 0.]],\n",
      "\n",
      "        [[0., 0., 0.,  ..., 0., 0., 0.],\n",
      "         [0., 0., 0.,  ..., 0., 0., 0.],\n",
      "         [0., 0., 0.,  ..., 0., 0., 0.],\n",
      "         ...,\n",
      "         [0., 0., 0.,  ..., 0., 0., 0.],\n",
      "         [0., 0., 0.,  ..., 0., 0., 0.],\n",
      "         [0., 0., 0.,  ..., 0., 0., 0.]]])\n"
     ]
    },
    {
     "name": "stderr",
     "output_type": "stream",
     "text": [
      "/var/folders/_k/_46xyqdj165bdcyw79k6758w0000gn/T/ipykernel_81814/2014925109.py:12: UserWarning: To copy construct from a tensor, it is recommended to use sourceTensor.clone().detach() or sourceTensor.clone().detach().requires_grad_(True), rather than torch.tensor(sourceTensor).\n",
      "  input_tensor = torch.tensor(dataset).to(device=\"cpu\")\n"
     ]
    }
   ],
   "source": [
    "from functools import partial\n",
    "\n",
    "\n",
    "def hook_fn(hook_point_out: torch.Tensor, hook, corrupted_thing: torch.Tensor):\n",
    "    return corrupted_thing\n",
    "\n",
    "\n",
    "def get_logits_for_dataset(model, dataset, corrupted_thing):\n",
    "    hook_point = \"blocks.1.hook_mlp_out\"\n",
    "    with torch.no_grad():\n",
    "        input_tensor = torch.tensor(dataset).to(device=\"cpu\")\n",
    "        output = model(input_tensor)[:, 1:]\n",
    "        argmax_idxs = torch.argmax(output, dim=-1)\n",
    "        ablation_hook = partial(hook_fn, corrupted_thing=corrupted_thing)\n",
    "        manipulated_output = model.run_with_hooks(\n",
    "            input_tensor, fwd_hooks=[(hook_point, ablation_hook)]\n",
    "        )[:, 1:]\n",
    "\n",
    "        labels = output[\n",
    "            torch.arange(output.size(0))[:, None],\n",
    "            torch.arange(output.size(1))[None, :],\n",
    "            argmax_idxs,\n",
    "        ]\n",
    "        manipulated_logit = manipulated_output[\n",
    "            torch.arange(manipulated_output.size(0))[:, None],\n",
    "            torch.arange(manipulated_output.size(1))[None, :],\n",
    "            argmax_idxs,\n",
    "        ]\n",
    "\n",
    "        argmax_after_manipulation = torch.argmax(manipulated_output, dim=-1)\n",
    "\n",
    "    return {\n",
    "        \"labels\": labels,\n",
    "        \"manipulated_logit\": manipulated_logit,\n",
    "        \"argmax_idxs\": argmax_idxs,\n",
    "        \"argmax_after_manipulation\": argmax_after_manipulation,\n",
    "        \"output\": output,\n",
    "        \"manipulated_output\": manipulated_output,\n",
    "    }\n",
    "\n",
    "\n",
    "i = case.get_clean_data(max_samples=100000).get_inputs()\n",
    "corrupted_thing = get_corrupted_thing(model, i, cache_type=\"resample\")\n",
    "resample_outputs = get_logits_for_dataset(model, i, corrupted_thing)"
   ]
  },
  {
   "cell_type": "code",
   "execution_count": 15,
   "metadata": {},
   "outputs": [
    {
     "data": {
      "text/plain": [
       "[<matplotlib.lines.Line2D at 0x308857f90>]"
      ]
     },
     "execution_count": 15,
     "metadata": {},
     "output_type": "execute_result"
    },
    {
     "data": {
      "image/png": "[encoded data removed]",
      "text/plain": [
       "<Figure size 640x480 with 1 Axes>"
      ]
     },
     "metadata": {},
     "output_type": "display_data"
    }
   ],
   "source": [
    "import matplotlib.pyplot as plt\n",
    "import numpy as np\n",
    "\n",
    "labels = np.ravel(resample_outputs[\"labels\"].cpu().numpy())\n",
    "plt.scatter(np.ravel(resample_outputs[\"labels\"].cpu().numpy()), np.ravel(resample_outputs[\"manipulated_logit\"].cpu().numpy()))\n",
    "plt.xlabel(\"Logit at label idx\")\n",
    "plt.ylabel(\"Manipulated Logit at label idx\")\n",
    "plt.plot([labels.min(), labels.max()], [labels.min(), labels.max()], color='r', linestyle='--')"
   ]
  },
  {
   "cell_type": "code",
   "execution_count": 16,
   "metadata": {},
   "outputs": [
    {
     "name": "stdout",
     "output_type": "stream",
     "text": [
      "tensor([-3.0825e+02,  4.8669e-01, -1.3548e+02, -6.1538e-01,  1.6301e-01,\n",
      "        -1.3298e+02, -1.3303e+02, -1.3332e+02, -1.3363e+02]),\n",
      "tensor([-307.9552,    3.2510, -136.3452,  135.2937,  143.9219, -720.5580,\n",
      "        -137.1535, -137.2515, -718.9747]),\n",
      "tensor([0, 1, 0, 1, 1, 0, 0, 0, 0]),\n",
      "tensor([0, 1, 0, 1, 1, 0, 0, 0, 0])\n",
      "tensor([-3.0825e+02,  7.7891e-01, -1.3565e+02, -3.1764e-01,  2.5353e-01,\n",
      "        -3.3735e+00, -5.7561e+00, -1.3298e+02, -1.0063e+01]),\n",
      "tensor([-3.0816e+02, -1.5913e+01, -3.5894e+02, -5.5559e-01,  1.4224e+02,\n",
      "         1.3940e+02,  5.2534e+00, -7.1976e+02,  1.3440e+02]),\n",
      "tensor([0, 1, 0, 1, 1, 1, 1, 0, 1]),\n",
      "tensor([0, 1, 0, 1, 1, 1, 1, 0, 1])\n",
      "tensor([   0.3455, -137.2612, -138.1825, -137.6952, -136.9572, -136.9725,\n",
      "        -137.2393, -136.9858, -137.2055]),\n",
      "tensor([ 6.2865e-01, -1.3722e+02, -1.3708e+02, -7.1939e+02, -7.3372e+02,\n",
      "        -1.3121e+02, -1.3106e+02, -1.3153e+02, -1.3165e+02]),\n",
      "tensor([1, 0, 0, 0, 0, 0, 0, 0, 0]),\n",
      "tensor([1, 0, 0, 0, 0, 0, 0, 0, 0])\n",
      "tensor([-308.5516,    0.4868, -135.4967,   -0.8740, -135.4230, -135.2330,\n",
      "        -135.3031, -135.3451, -135.5227]),\n",
      "tensor([-3.0855e+02,  7.6848e-01, -1.3557e+02, -2.7354e-01, -1.3548e+02,\n",
      "        -1.3510e+02, -1.3526e+02, -1.3534e+02, -1.3559e+02]),\n",
      "tensor([0, 1, 0, 1, 0, 0, 0, 0, 0]),\n",
      "tensor([0, 1, 0, 1, 0, 0, 0, 0, 0])\n",
      "tensor([-308.6049, -308.7917, -307.9885, -308.3968, -308.2986, -307.9334,\n",
      "        -308.0674, -307.9169, -308.3406]),\n",
      "tensor([-665.8259,  -87.2308,  -87.3489, -671.0935,  -85.5641,  -85.1913,\n",
      "         -85.2475, -668.3662,  -85.7308]),\n",
      "tensor([0, 0, 0, 0, 0, 0, 0, 0, 0]),\n",
      "tensor([0, 0, 0, 0, 0, 0, 0, 0, 0])\n",
      "tensor([   0.6387,    0.5379, -136.0891, -136.5030, -135.8612,   -3.7707,\n",
      "        -135.8716,   -8.7677,  -10.0791]),\n",
      "tensor([  -1.8386,  127.6670, -137.8507, -721.3601, -135.8156,  125.7555,\n",
      "        -135.5730,   -8.0707,   -9.5063]),\n",
      "tensor([1, 1, 0, 0, 0, 1, 0, 1, 1]),\n",
      "tensor([1, 1, 0, 0, 0, 1, 0, 1, 1])\n",
      "tensor([   0.3563, -137.2659,    0.3371, -130.2329, -130.1919, -129.9363,\n",
      "        -130.1050, -129.9440, -130.0764]),\n",
      "tensor([ 7.3079e-02, -1.3747e+02,  1.5534e+02, -1.4034e+02, -1.4003e+02,\n",
      "        -1.4021e+02, -1.3969e+02, -1.4000e+02, -1.4017e+02]),\n",
      "tensor([1, 0, 1, 0, 0, 0, 0, 0, 0]),\n",
      "tensor([1, 0, 1, 0, 0, 0, 0, 0, 0])\n",
      "tensor([-3.0825e+02, -3.0820e+02,  2.6870e-01, -1.2922e+02, -1.2906e+02,\n",
      "        -1.2891e+02, -1.2914e+02, -6.9049e+00, -1.2528e+01]),\n",
      "tensor([-3.0866e+02, -3.0843e+02,  5.5252e-01, -1.2913e+02, -1.2888e+02,\n",
      "        -7.5193e+02, -1.2918e+02,  1.5996e+02, -1.2093e+01]),\n",
      "tensor([0, 0, 1, 0, 0, 0, 0, 1, 1]),\n",
      "tensor([0, 0, 1, 0, 0, 0, 0, 1, 1])\n",
      "tensor([-308.3488, -308.6127, -310.1089, -308.8622, -308.6339, -308.6080,\n",
      "        -308.7743,    0.4493, -143.1918]),\n",
      "tensor([-308.7111, -675.6038,  -84.1599, -675.0800,  -84.1362,  -83.8880,\n",
      "         -84.0701,   98.6578, -721.1230]),\n",
      "tensor([0, 0, 0, 0, 0, 0, 0, 1, 0]),\n",
      "tensor([0, 0, 0, 0, 0, 0, 0, 1, 0])\n",
      "tensor([-308.2747, -308.2708, -307.9256, -308.9065, -308.4003,    0.5933,\n",
      "        -140.8910,   -1.6913, -141.1580]),\n",
      "tensor([-308.5764, -309.3357, -699.4641, -695.1292,  -77.0100,  112.8119,\n",
      "        -125.3214,  110.9476, -125.5598]),\n",
      "tensor([0, 0, 0, 0, 0, 1, 0, 1, 0]),\n",
      "tensor([0, 0, 0, 0, 0, 1, 0, 1, 0])\n"
     ]
    }
   ],
   "source": [
    "manipulated_logit = resample_outputs[\"manipulated_logit\"]\n",
    "labels = resample_outputs[\"labels\"]\n",
    "argmax_idxs = resample_outputs[\"argmax_idxs\"]\n",
    "argmax_after_manipulation = resample_outputs[\"argmax_after_manipulation\"]\n",
    "for idx in range(10):\n",
    "    print(f'{labels[idx]},\\n{manipulated_logit[idx]},\\n{argmax_idxs[idx]},\\n{argmax_after_manipulation[idx]}') "
   ]
  },
  {
   "cell_type": "code",
   "execution_count": 17,
   "metadata": {},
   "outputs": [
    {
     "data": {
      "text/plain": [
       "tensor(0.)"
      ]
     },
     "execution_count": 17,
     "metadata": {},
     "output_type": "execute_result"
    }
   ],
   "source": [
    "(~(argmax_after_manipulation == argmax_idxs)).float().mean()"
   ]
  },
  {
   "cell_type": "markdown",
   "metadata": {},
   "source": [
    "### Zero Ablation Effect"
   ]
  },
  {
   "cell_type": "code",
   "execution_count": 18,
   "metadata": {},
   "outputs": [
    {
     "name": "stderr",
     "output_type": "stream",
     "text": [
      "/var/folders/_k/_46xyqdj165bdcyw79k6758w0000gn/T/ipykernel_81814/1307596211.py:11: UserWarning: To copy construct from a tensor, it is recommended to use sourceTensor.clone().detach() or sourceTensor.clone().detach().requires_grad_(True), rather than torch.tensor(sourceTensor).\n",
      "  input_tensor = torch.tensor(dataset).to(device=\"cpu\")\n"
     ]
    }
   ],
   "source": [
    "corrupted_thing = get_corrupted_thing(model, i, cache_type=\"zero\")\n",
    "zero_outputs = get_logits_for_dataset(model, i, corrupted_thing)\n",
    "labels = zero_outputs[\"labels\"]\n",
    "manipulated_logit = zero_outputs[\"manipulated_logit\"]\n",
    "argmax_idxs = zero_outputs[\"argmax_idxs\"]\n",
    "argmax_after_manipulation = zero_outputs[\"argmax_after_manipulation\"]"
   ]
  },
  {
   "cell_type": "code",
   "execution_count": 19,
   "metadata": {},
   "outputs": [
    {
     "data": {
      "text/plain": [
       "[<matplotlib.lines.Line2D at 0x2db2c5250>]"
      ]
     },
     "execution_count": 19,
     "metadata": {},
     "output_type": "execute_result"
    },
    {
     "data": {
      "image/png": "[encoded data removed]",
      "text/plain": [
       "<Figure size 640x480 with 1 Axes>"
      ]
     },
     "metadata": {},
     "output_type": "display_data"
    }
   ],
   "source": [
    "plt.scatter(np.ravel(labels.cpu().numpy()), np.ravel(manipulated_logit.cpu().numpy()))\n",
    "plt.xlabel(\"Logit at label idx\")\n",
    "plt.ylabel(\"Manipulated Logit at label idx\")\n",
    "plt.plot([labels.min(), labels.max()], [labels.min(), labels.max()], color='r', linestyle='--')"
   ]
  },
  {
   "cell_type": "code",
   "execution_count": 20,
   "metadata": {},
   "outputs": [
    {
     "name": "stdout",
     "output_type": "stream",
     "text": [
      "tensor([-3.0825e+02,  4.8669e-01, -1.3548e+02, -6.1538e-01,  1.6301e-01,\n",
      "        -1.3298e+02, -1.3303e+02, -1.3332e+02, -1.3363e+02]),\n",
      "tensor([-177.3976,  486.1591, -228.9359,  485.2714,  495.5654, -229.8769,\n",
      "        -229.7776, -230.0266, -229.9775]),\n",
      "tensor([0, 1, 0, 1, 1, 0, 0, 0, 0]),\n",
      "tensor([0, 1, 0, 1, 1, 0, 0, 0, 0])\n",
      "tensor([-3.0825e+02,  7.7891e-01, -1.3565e+02, -3.1764e-01,  2.5353e-01,\n",
      "        -3.3735e+00, -5.7561e+00, -1.3298e+02, -1.0063e+01]),\n",
      "tensor([-177.3976,  483.6919, -228.4786,  482.8087,  494.6754,  491.4884,\n",
      "         489.4342, -229.5240,  485.9855]),\n",
      "tensor([0, 1, 0, 1, 1, 1, 1, 0, 1]),\n",
      "tensor([0, 1, 0, 1, 1, 1, 1, 0, 1])\n",
      "tensor([   0.3455, -137.2612, -138.1825, -137.6952, -136.9572, -136.9725,\n",
      "        -137.2393, -136.9858, -137.2055]),\n",
      "tensor([ 476.7789, -227.9494, -227.7909, -228.0566, -227.7631, -227.8469,\n",
      "        -227.5850, -228.0658, -228.0921]),\n",
      "tensor([1, 0, 0, 0, 0, 0, 0, 0, 0]),\n",
      "tensor([1, 0, 0, 0, 0, 0, 0, 0, 0])\n",
      "tensor([-308.5516,    0.4868, -135.4967,   -0.8740, -135.4230, -135.2330,\n",
      "        -135.3031, -135.3451, -135.5227]),\n",
      "tensor([-178.1158,  486.1566, -229.0654,  485.1494, -229.1138, -229.0703,\n",
      "        -229.0524, -229.2513, -229.2285]),\n",
      "tensor([0, 1, 0, 1, 0, 0, 0, 0, 0]),\n",
      "tensor([0, 1, 0, 1, 0, 0, 0, 0, 0])\n",
      "tensor([-308.6049, -308.7917, -307.9885, -308.3968, -308.2986, -307.9334,\n",
      "        -308.0674, -307.9169, -308.3406]),\n",
      "tensor([-178.0473, -178.0509, -178.0495, -178.1410, -177.9891, -178.0366,\n",
      "        -177.9126, -177.9251, -178.1684]),\n",
      "tensor([0, 0, 0, 0, 0, 0, 0, 0, 0]),\n",
      "tensor([0, 0, 0, 0, 0, 0, 0, 0, 0])\n",
      "tensor([   0.6387,    0.5379, -136.0891, -136.5030, -135.8612,   -3.7707,\n",
      "        -135.8716,   -8.7677,  -10.0791]),\n",
      "tensor([ 474.3116,  481.7199, -228.3956, -228.5301, -228.2228,  478.1412,\n",
      "        -228.1348,  474.0319,  472.9624]),\n",
      "tensor([1, 1, 0, 0, 0, 1, 0, 1, 1]),\n",
      "tensor([1, 1, 0, 0, 0, 1, 0, 1, 1])\n",
      "tensor([   0.3563, -137.2659,    0.3371, -130.2329, -130.1919, -129.9363,\n",
      "        -130.1050, -129.9440, -130.0764]),\n",
      "tensor([ 476.5065, -228.1581,  508.0745, -230.7507, -230.6414, -230.6286,\n",
      "        -230.5543, -230.7237, -230.6771]),\n",
      "tensor([1, 0, 1, 0, 0, 0, 0, 0, 0]),\n",
      "tensor([1, 0, 1, 0, 0, 0, 0, 0, 0])\n",
      "tensor([-3.0825e+02, -3.0820e+02,  2.6870e-01, -1.2922e+02, -1.2906e+02,\n",
      "        -1.2891e+02, -1.2914e+02, -6.9049e+00, -1.2528e+01]),\n",
      "tensor([-177.8087, -177.8650,  512.2720, -231.0315, -230.6332, -230.9008,\n",
      "        -230.7476,  506.2741,  501.6799]),\n",
      "tensor([0, 0, 1, 0, 0, 0, 0, 1, 1]),\n",
      "tensor([0, 0, 1, 0, 0, 0, 0, 1, 1])\n",
      "tensor([-308.3488, -308.6127, -310.1089, -308.8622, -308.6339, -308.6080,\n",
      "        -308.7743,    0.4493, -143.1918]),\n",
      "tensor([-177.8599, -178.2283, -177.8549, -178.0753, -177.9047, -178.1820,\n",
      "        -177.9075,  451.4572, -226.1010]),\n",
      "tensor([0, 0, 0, 0, 0, 0, 0, 1, 0]),\n",
      "tensor([0, 0, 0, 0, 0, 0, 0, 1, 0])\n",
      "tensor([-308.2747, -308.2708, -307.9256, -308.9065, -308.4003,    0.5933,\n",
      "        -140.8910,   -1.6913, -141.1580]),\n",
      "tensor([-177.9781, -178.0820, -178.1766, -178.2051, -177.9907,  459.1799,\n",
      "        -226.3686,  457.3570, -226.5688]),\n",
      "tensor([0, 0, 0, 0, 0, 1, 0, 1, 0]),\n",
      "tensor([0, 0, 0, 0, 0, 1, 0, 1, 0])\n"
     ]
    }
   ],
   "source": [
    "for idx in range(10):\n",
    "    print(f'{labels[idx]},\\n{manipulated_logit[idx]},\\n{argmax_idxs[idx]},\\n{argmax_after_manipulation[idx]}') "
   ]
  },
  {
   "cell_type": "code",
   "execution_count": 21,
   "metadata": {},
   "outputs": [
    {
     "data": {
      "text/plain": [
       "tensor(0.)"
      ]
     },
     "execution_count": 21,
     "metadata": {},
     "output_type": "execute_result"
    }
   ],
   "source": [
    "(~(argmax_after_manipulation == argmax_idxs)).float().mean()"
   ]
  },
  {
   "cell_type": "markdown",
   "metadata": {},
   "source": [
    "### Look at complete outputs"
   ]
  },
  {
   "cell_type": "code",
   "execution_count": 24,
   "metadata": {},
   "outputs": [
    {
     "data": {
      "text/plain": [
       "(tensor([-135.4796, -684.5783]), tensor([-228.9359, -332.5369]))"
      ]
     },
     "execution_count": 24,
     "metadata": {},
     "output_type": "execute_result"
    }
   ],
   "source": [
    "zero_outputs[\"output\"][0, 2], zero_outputs[\"manipulated_output\"][0, 2]"
   ]
  },
  {
   "cell_type": "code",
   "execution_count": null,
   "metadata": {},
   "outputs": [],
   "source": []
  }
 ],
 "metadata": {
  "kernelspec": {
   "display_name": "Python 3",
   "language": "python",
   "name": "python3"
  },
  "language_info": {
   "codemirror_mode": {
    "name": "ipython",
    "version": 3
   },
   "file_extension": ".py",
   "mimetype": "text/x-python",
   "name": "python",
   "nbconvert_exporter": "python",
   "pygments_lexer": "ipython3",
   "version": "3.11.4"
  }
 },
 "nbformat": 4,
 "nbformat_minor": 2
}
