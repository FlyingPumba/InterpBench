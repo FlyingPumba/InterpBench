{
 "cells": [
  {
   "cell_type": "markdown",
   "metadata": {},
   "source": [
    "Setup"
   ]
  },
  {
   "cell_type": "code",
   "execution_count": 1,
   "metadata": {},
   "outputs": [],
   "source": [
    "import pickle\n",
    "import torch\n",
    "from transformer_lens import HookedTransformerConfig, HookedTransformer\n",
    "from transformer_lens import HookedTransformer\n",
    "from circuits_benchmark.utils.get_cases import get_cases\n",
    "\n",
    "task = get_cases(indices=['3'])[0]\n",
    "task_idx = task.get_index()"
   ]
  },
  {
   "cell_type": "code",
   "execution_count": 2,
   "metadata": {},
   "outputs": [
    {
     "data": {
      "text/plain": [
       "<torch.autograd.grad_mode.set_grad_enabled at 0x2c4e4c290>"
      ]
     },
     "execution_count": 2,
     "metadata": {},
     "output_type": "execute_result"
    }
   ],
   "source": [
    "dir_name = f\"../InterpBench/{task_idx}\"\n",
    "cfg_dict = pickle.load(open(f\"{dir_name}/ll_model_cfg.pkl\", \"rb\"))\n",
    "cfg = HookedTransformerConfig.from_dict(cfg_dict)\n",
    "cfg.device = \"cuda\" if torch.cuda.is_available() else \"cpu\"\n",
    "model = HookedTransformer(cfg)\n",
    "weights = torch.load(f\"{dir_name}/ll_model.pth\", map_location=cfg.device)\n",
    "model.load_state_dict(weights)\n",
    "# turn off grads\n",
    "model.eval()\n",
    "model.requires_grad_(False)\n",
    "torch.set_grad_enabled(False)"
   ]
  },
  {
   "cell_type": "code",
   "execution_count": 3,
   "metadata": {},
   "outputs": [],
   "source": [
    "# load high level model\n",
    "from circuits_benchmark.utils.iit import make_iit_hl_model\n",
    "import circuits_benchmark.utils.iit.correspondence as correspondence\n",
    "import iit.model_pairs as mp\n",
    "\n",
    "def make_model_pair(benchmark_case):\n",
    "    hl_model = benchmark_case.build_transformer_lens_model()\n",
    "    hl_model = make_iit_hl_model(hl_model, eval_mode=True)\n",
    "    tracr_output = benchmark_case.get_tracr_output()\n",
    "    hl_ll_corr = correspondence.TracrCorrespondence.from_output(\n",
    "            case=benchmark_case, tracr_output=tracr_output\n",
    "        )\n",
    "    model_pair = mp.StrictIITModelPair(hl_model, model, hl_ll_corr)\n",
    "    return model_pair"
   ]
  },
  {
   "cell_type": "code",
   "execution_count": 4,
   "metadata": {},
   "outputs": [
    {
     "name": "stdout",
     "output_type": "stream",
     "text": [
      "Moving model to device:  cpu\n",
      "{'hook_embed': HookPoint(), 'hook_pos_embed': HookPoint(), 'blocks.0.attn.hook_k': HookPoint(), 'blocks.0.attn.hook_q': HookPoint(), 'blocks.0.attn.hook_v': HookPoint(), 'blocks.0.attn.hook_z': HookPoint(), 'blocks.0.attn.hook_attn_scores': HookPoint(), 'blocks.0.attn.hook_pattern': HookPoint(), 'blocks.0.attn.hook_result': HookPoint(), 'blocks.0.mlp.hook_pre': HookPoint(), 'blocks.0.mlp.hook_post': HookPoint(), 'blocks.0.hook_attn_in': HookPoint(), 'blocks.0.hook_q_input': HookPoint(), 'blocks.0.hook_k_input': HookPoint(), 'blocks.0.hook_v_input': HookPoint(), 'blocks.0.hook_mlp_in': HookPoint(), 'blocks.0.hook_attn_out': HookPoint(), 'blocks.0.hook_mlp_out': HookPoint(), 'blocks.0.hook_resid_pre': HookPoint(), 'blocks.0.hook_resid_mid': HookPoint(), 'blocks.0.hook_resid_post': HookPoint(), 'blocks.1.attn.hook_k': HookPoint(), 'blocks.1.attn.hook_q': HookPoint(), 'blocks.1.attn.hook_v': HookPoint(), 'blocks.1.attn.hook_z': HookPoint(), 'blocks.1.attn.hook_attn_scores': HookPoint(), 'blocks.1.attn.hook_pattern': HookPoint(), 'blocks.1.attn.hook_result': HookPoint(), 'blocks.1.mlp.hook_pre': HookPoint(), 'blocks.1.mlp.hook_post': HookPoint(), 'blocks.1.hook_attn_in': HookPoint(), 'blocks.1.hook_q_input': HookPoint(), 'blocks.1.hook_k_input': HookPoint(), 'blocks.1.hook_v_input': HookPoint(), 'blocks.1.hook_mlp_in': HookPoint(), 'blocks.1.hook_attn_out': HookPoint(), 'blocks.1.hook_mlp_out': HookPoint(), 'blocks.1.hook_resid_pre': HookPoint(), 'blocks.1.hook_resid_mid': HookPoint(), 'blocks.1.hook_resid_post': HookPoint()}\n",
      "dict_keys([TracrHLNode(name: blocks.0.mlp.hook_post,\n",
      " label: is_x_3,\n",
      " classes: 0,\n",
      " index: [:]\n",
      "), TracrHLNode(name: blocks.1.attn.hook_result,\n",
      " label: frac_prevs_1,\n",
      " classes: 0,\n",
      " index: [:, :, 0, :]\n",
      ")])\n"
     ]
    }
   ],
   "source": [
    "from circuits_benchmark.utils.iit.dataset import get_unique_data\n",
    "\n",
    "max_len = 100\n",
    "model_pair = make_model_pair(task)\n",
    "unique_test_data = get_unique_data(task, max_len=max_len)"
   ]
  },
  {
   "cell_type": "markdown",
   "metadata": {},
   "source": [
    "Resample ablate with 10%, 20% etc. of the activation"
   ]
  },
  {
   "cell_type": "code",
   "execution_count": 5,
   "metadata": {},
   "outputs": [],
   "source": [
    "from iit.model_pairs.nodes import LLNode\n",
    "from typing import Callable\n",
    "from torch import Tensor\n",
    "from transformer_lens.hook_points import HookPoint\n",
    "import iit.utils.eval_ablations as eval_ablations\n",
    "from importlib import reload\n",
    "from circuits_benchmark.utils.iit.dataset import TracrIITDataset\n",
    "import pandas as pd\n",
    "\n",
    "\n",
    "def get_effects_for_scales(\n",
    "    model_pair,\n",
    "    unique_test_data,\n",
    "    hook_maker: Callable[\n",
    "        [mp.BaseModelPair, LLNode, float], Callable[[Tensor, HookPoint], Tensor]\n",
    "    ],\n",
    "    scales=[0.1, 1.0],\n",
    "):\n",
    "    combined_scales_df = pd.DataFrame(\n",
    "        columns=[\"node\", \"status\"] + [f\"scale {scale}\" for scale in scales]\n",
    "    )\n",
    "\n",
    "    for scale in scales:\n",
    "        print(f\"Running scale {scale}\\n\")\n",
    "        test_set = TracrIITDataset(\n",
    "            unique_test_data,\n",
    "            unique_test_data,\n",
    "            model_pair.hl_model,\n",
    "            every_combination=True,\n",
    "        )\n",
    "\n",
    "        hook_maker_for_node = lambda ll_node: hook_maker(model_pair=model_pair, ll_node=ll_node, scale=scale)\n",
    "\n",
    "        causal_effects_not_in_circuit = eval_ablations.check_causal_effect(\n",
    "            model_pair=model_pair,\n",
    "            dataset=test_set,\n",
    "            hook_maker=hook_maker_for_node,\n",
    "            node_type=\"n\",\n",
    "        )\n",
    "\n",
    "        causal_effects_in_circuit = eval_ablations.check_causal_effect(\n",
    "            model_pair=model_pair,\n",
    "            dataset=test_set,\n",
    "            hook_maker=hook_maker_for_node,\n",
    "            node_type=\"individual_c\",\n",
    "        )\n",
    "\n",
    "        causal_effects = eval_ablations.make_dataframe_of_results(\n",
    "            causal_effects_not_in_circuit, causal_effects_in_circuit\n",
    "        )\n",
    "\n",
    "        # change column name causal effect to scale\n",
    "        causal_effects.rename(columns={\"causal effect\": f\"scale {scale}\"}, inplace=True)\n",
    "        combined_scales_df = pd.merge(\n",
    "            combined_scales_df, causal_effects, on=[\"node\", \"status\"], how=\"outer\"\n",
    "        )\n",
    "        # drop columns with nan\n",
    "        combined_scales_df.dropna(axis=1, how=\"all\", inplace=True)\n",
    "    return combined_scales_df"
   ]
  },
  {
   "cell_type": "code",
   "execution_count": 6,
   "metadata": {},
   "outputs": [
    {
     "name": "stdout",
     "output_type": "stream",
     "text": [
      "Running scale 0.0\n",
      "\n"
     ]
    },
    {
     "name": "stderr",
     "output_type": "stream",
     "text": [
      "100%|██████████| 40/40 [00:03<00:00, 12.51it/s]\n",
      "100%|██████████| 40/40 [00:01<00:00, 27.56it/s]\n"
     ]
    },
    {
     "name": "stdout",
     "output_type": "stream",
     "text": [
      "Running scale 0.1\n",
      "\n"
     ]
    },
    {
     "name": "stderr",
     "output_type": "stream",
     "text": [
      "100%|██████████| 40/40 [00:03<00:00, 11.83it/s]\n",
      "100%|██████████| 40/40 [00:01<00:00, 26.53it/s]\n"
     ]
    },
    {
     "name": "stdout",
     "output_type": "stream",
     "text": [
      "Running scale 0.2\n",
      "\n"
     ]
    },
    {
     "name": "stderr",
     "output_type": "stream",
     "text": [
      "100%|██████████| 40/40 [00:03<00:00, 12.50it/s]\n",
      "100%|██████████| 40/40 [00:01<00:00, 28.35it/s]\n"
     ]
    },
    {
     "name": "stdout",
     "output_type": "stream",
     "text": [
      "Running scale 0.5\n",
      "\n"
     ]
    },
    {
     "name": "stderr",
     "output_type": "stream",
     "text": [
      "100%|██████████| 40/40 [00:03<00:00, 12.87it/s]\n",
      "100%|██████████| 40/40 [00:01<00:00, 27.42it/s]\n"
     ]
    },
    {
     "name": "stdout",
     "output_type": "stream",
     "text": [
      "Running scale 0.7\n",
      "\n"
     ]
    },
    {
     "name": "stderr",
     "output_type": "stream",
     "text": [
      "100%|██████████| 40/40 [00:03<00:00, 12.63it/s]\n",
      "100%|██████████| 40/40 [00:01<00:00, 27.93it/s]\n"
     ]
    },
    {
     "name": "stdout",
     "output_type": "stream",
     "text": [
      "Running scale 0.8\n",
      "\n"
     ]
    },
    {
     "name": "stderr",
     "output_type": "stream",
     "text": [
      "100%|██████████| 40/40 [00:03<00:00, 12.78it/s]\n",
      "100%|██████████| 40/40 [00:01<00:00, 27.91it/s]\n"
     ]
    },
    {
     "name": "stdout",
     "output_type": "stream",
     "text": [
      "Running scale 1.0\n",
      "\n"
     ]
    },
    {
     "name": "stderr",
     "output_type": "stream",
     "text": [
      "100%|██████████| 40/40 [00:03<00:00, 12.48it/s]\n",
      "100%|██████████| 40/40 [00:01<00:00, 25.24it/s]\n"
     ]
    },
    {
     "name": "stdout",
     "output_type": "stream",
     "text": [
      "Running scale 1.2\n",
      "\n"
     ]
    },
    {
     "name": "stderr",
     "output_type": "stream",
     "text": [
      "100%|██████████| 40/40 [00:03<00:00, 12.57it/s]\n",
      "100%|██████████| 40/40 [00:01<00:00, 26.44it/s]\n"
     ]
    },
    {
     "name": "stdout",
     "output_type": "stream",
     "text": [
      "Running scale 1.4\n",
      "\n"
     ]
    },
    {
     "name": "stderr",
     "output_type": "stream",
     "text": [
      "100%|██████████| 40/40 [00:03<00:00, 12.52it/s]\n",
      "100%|██████████| 40/40 [00:01<00:00, 26.97it/s]\n"
     ]
    },
    {
     "name": "stdout",
     "output_type": "stream",
     "text": [
      "Running scale 2.0\n",
      "\n"
     ]
    },
    {
     "name": "stderr",
     "output_type": "stream",
     "text": [
      "100%|██████████| 40/40 [00:03<00:00, 12.18it/s]\n",
      "100%|██████████| 40/40 [00:01<00:00, 27.62it/s]\n"
     ]
    },
    {
     "name": "stdout",
     "output_type": "stream",
     "text": [
      "Running scale 5.0\n",
      "\n"
     ]
    },
    {
     "name": "stderr",
     "output_type": "stream",
     "text": [
      "100%|██████████| 40/40 [00:03<00:00, 11.81it/s]\n",
      "100%|██████████| 40/40 [00:01<00:00, 25.91it/s]\n"
     ]
    },
    {
     "name": "stdout",
     "output_type": "stream",
     "text": [
      "Running scale 10.0\n",
      "\n"
     ]
    },
    {
     "name": "stderr",
     "output_type": "stream",
     "text": [
      "100%|██████████| 40/40 [00:03<00:00, 11.49it/s]\n",
      "100%|██████████| 40/40 [00:01<00:00, 26.48it/s]\n"
     ]
    }
   ],
   "source": [
    "def make_ll_ablation_hook_scale_activations(\n",
    "        model_pair, ll_node: LLNode, scale: float\n",
    "    ) -> Callable[[Tensor, HookPoint], Tensor]:\n",
    "        \"\"\"\n",
    "        Resample ablations, but with the patched activations scaled by the given factor.\n",
    "        \"\"\"\n",
    "        if ll_node.subspace is not None:\n",
    "            raise NotImplementedError\n",
    "\n",
    "        def ll_ablation_hook(hook_point_out: Tensor, hook: HookPoint) -> Tensor:\n",
    "            out = hook_point_out.clone()\n",
    "            index = ll_node.index if ll_node.index is not None else index.Ix[[None]]\n",
    "            out[index.as_index] = model_pair.ll_cache[hook.name][index.as_index] * scale\n",
    "            return out\n",
    "\n",
    "        return ll_ablation_hook\n",
    "\n",
    "scales = [0.0, 0.1, 0.2, 0.5, 0.7, 0.8, 1.0, 1.2, 1.4, 2.0, 5.0]\n",
    "combined_scales_df = get_effects_for_scales(model_pair, unique_test_data, \n",
    "                                            hook_maker=make_ll_ablation_hook_scale_activations,\n",
    "                                            scales=scales)"
   ]
  },
  {
   "cell_type": "code",
   "execution_count": 7,
   "metadata": {},
   "outputs": [
    {
     "data": {
      "text/html": [
       "<div>\n",
       "<style scoped>\n",
       "    .dataframe tbody tr th:only-of-type {\n",
       "        vertical-align: middle;\n",
       "    }\n",
       "\n",
       "    .dataframe tbody tr th {\n",
       "        vertical-align: top;\n",
       "    }\n",
       "\n",
       "    .dataframe thead th {\n",
       "        text-align: right;\n",
       "    }\n",
       "</style>\n",
       "<table border=\"1\" class=\"dataframe\">\n",
       "  <thead>\n",
       "    <tr style=\"text-align: right;\">\n",
       "      <th></th>\n",
       "      <th>node</th>\n",
       "      <th>status</th>\n",
       "      <th>scale 0.0</th>\n",
       "      <th>scale 0.1</th>\n",
       "      <th>scale 0.2</th>\n",
       "      <th>scale 0.5</th>\n",
       "      <th>scale 0.7</th>\n",
       "      <th>scale 0.8</th>\n",
       "      <th>scale 1.0</th>\n",
       "      <th>scale 1.2</th>\n",
       "      <th>scale 1.4</th>\n",
       "      <th>scale 2.0</th>\n",
       "      <th>scale 5.0</th>\n",
       "      <th>scale 10.0</th>\n",
       "    </tr>\n",
       "  </thead>\n",
       "  <tbody>\n",
       "    <tr>\n",
       "      <th>0</th>\n",
       "      <td>blocks.0.attn.hook_result, head  0</td>\n",
       "      <td>not_in_circuit</td>\n",
       "      <td>1.000000</td>\n",
       "      <td>0.995730</td>\n",
       "      <td>0.984805</td>\n",
       "      <td>0.424364</td>\n",
       "      <td>0.147599</td>\n",
       "      <td>0.020380</td>\n",
       "      <td>0.005980</td>\n",
       "      <td>0.204187</td>\n",
       "      <td>0.444540</td>\n",
       "      <td>0.806988</td>\n",
       "      <td>0.999700</td>\n",
       "      <td>1.000000</td>\n",
       "    </tr>\n",
       "    <tr>\n",
       "      <th>1</th>\n",
       "      <td>blocks.0.attn.hook_result, head  1</td>\n",
       "      <td>not_in_circuit</td>\n",
       "      <td>1.000000</td>\n",
       "      <td>1.000000</td>\n",
       "      <td>0.988372</td>\n",
       "      <td>0.648860</td>\n",
       "      <td>0.173528</td>\n",
       "      <td>0.018253</td>\n",
       "      <td>0.000000</td>\n",
       "      <td>0.025237</td>\n",
       "      <td>0.223273</td>\n",
       "      <td>0.997539</td>\n",
       "      <td>1.000000</td>\n",
       "      <td>1.000000</td>\n",
       "    </tr>\n",
       "    <tr>\n",
       "      <th>2</th>\n",
       "      <td>blocks.0.attn.hook_result, head  2</td>\n",
       "      <td>not_in_circuit</td>\n",
       "      <td>0.680534</td>\n",
       "      <td>0.588329</td>\n",
       "      <td>0.437677</td>\n",
       "      <td>0.058443</td>\n",
       "      <td>0.035223</td>\n",
       "      <td>0.002068</td>\n",
       "      <td>0.000000</td>\n",
       "      <td>0.003185</td>\n",
       "      <td>0.036501</td>\n",
       "      <td>0.460792</td>\n",
       "      <td>0.900187</td>\n",
       "      <td>0.743509</td>\n",
       "    </tr>\n",
       "    <tr>\n",
       "      <th>3</th>\n",
       "      <td>blocks.0.attn.hook_result, head  3</td>\n",
       "      <td>not_in_circuit</td>\n",
       "      <td>1.000000</td>\n",
       "      <td>1.000000</td>\n",
       "      <td>0.999408</td>\n",
       "      <td>0.635306</td>\n",
       "      <td>0.118211</td>\n",
       "      <td>0.035539</td>\n",
       "      <td>0.000168</td>\n",
       "      <td>0.164127</td>\n",
       "      <td>0.523615</td>\n",
       "      <td>0.990259</td>\n",
       "      <td>1.000000</td>\n",
       "      <td>1.000000</td>\n",
       "    </tr>\n",
       "    <tr>\n",
       "      <th>7</th>\n",
       "      <td>blocks.1.attn.hook_result, head  2</td>\n",
       "      <td>not_in_circuit</td>\n",
       "      <td>1.000000</td>\n",
       "      <td>1.000000</td>\n",
       "      <td>1.000000</td>\n",
       "      <td>1.000000</td>\n",
       "      <td>0.961237</td>\n",
       "      <td>0.536721</td>\n",
       "      <td>0.000000</td>\n",
       "      <td>0.367025</td>\n",
       "      <td>0.964079</td>\n",
       "      <td>1.000000</td>\n",
       "      <td>1.000000</td>\n",
       "      <td>1.000000</td>\n",
       "    </tr>\n",
       "    <tr>\n",
       "      <th>8</th>\n",
       "      <td>blocks.1.attn.hook_result, head  3</td>\n",
       "      <td>not_in_circuit</td>\n",
       "      <td>1.000000</td>\n",
       "      <td>1.000000</td>\n",
       "      <td>1.000000</td>\n",
       "      <td>1.000000</td>\n",
       "      <td>0.722840</td>\n",
       "      <td>0.457345</td>\n",
       "      <td>0.074625</td>\n",
       "      <td>0.354972</td>\n",
       "      <td>0.727884</td>\n",
       "      <td>1.000000</td>\n",
       "      <td>1.000000</td>\n",
       "      <td>1.000000</td>\n",
       "    </tr>\n",
       "    <tr>\n",
       "      <th>9</th>\n",
       "      <td>blocks.1.mlp.hook_post</td>\n",
       "      <td>not_in_circuit</td>\n",
       "      <td>1.000000</td>\n",
       "      <td>1.000000</td>\n",
       "      <td>1.000000</td>\n",
       "      <td>1.000000</td>\n",
       "      <td>0.892223</td>\n",
       "      <td>0.682897</td>\n",
       "      <td>0.027830</td>\n",
       "      <td>0.531765</td>\n",
       "      <td>0.904191</td>\n",
       "      <td>1.000000</td>\n",
       "      <td>1.000000</td>\n",
       "      <td>1.000000</td>\n",
       "    </tr>\n",
       "    <tr>\n",
       "      <th>4</th>\n",
       "      <td>blocks.0.mlp.hook_post</td>\n",
       "      <td>in_circuit</td>\n",
       "      <td>0.995777</td>\n",
       "      <td>0.911988</td>\n",
       "      <td>0.972850</td>\n",
       "      <td>0.933968</td>\n",
       "      <td>0.894231</td>\n",
       "      <td>0.960773</td>\n",
       "      <td>1.000000</td>\n",
       "      <td>1.000000</td>\n",
       "      <td>0.910674</td>\n",
       "      <td>0.951065</td>\n",
       "      <td>0.998301</td>\n",
       "      <td>0.999750</td>\n",
       "    </tr>\n",
       "    <tr>\n",
       "      <th>5</th>\n",
       "      <td>blocks.1.attn.hook_result, head  0</td>\n",
       "      <td>in_circuit</td>\n",
       "      <td>0.947688</td>\n",
       "      <td>0.932320</td>\n",
       "      <td>0.850772</td>\n",
       "      <td>0.879720</td>\n",
       "      <td>0.984155</td>\n",
       "      <td>1.000000</td>\n",
       "      <td>1.000000</td>\n",
       "      <td>1.000000</td>\n",
       "      <td>0.995376</td>\n",
       "      <td>0.933816</td>\n",
       "      <td>0.955799</td>\n",
       "      <td>0.999309</td>\n",
       "    </tr>\n",
       "    <tr>\n",
       "      <th>6</th>\n",
       "      <td>blocks.1.attn.hook_result, head  1</td>\n",
       "      <td>in_circuit</td>\n",
       "      <td>0.920349</td>\n",
       "      <td>0.808206</td>\n",
       "      <td>0.749656</td>\n",
       "      <td>0.532832</td>\n",
       "      <td>0.623412</td>\n",
       "      <td>0.587123</td>\n",
       "      <td>0.616037</td>\n",
       "      <td>0.701412</td>\n",
       "      <td>0.686588</td>\n",
       "      <td>0.807814</td>\n",
       "      <td>0.891579</td>\n",
       "      <td>0.997364</td>\n",
       "    </tr>\n",
       "  </tbody>\n",
       "</table>\n",
       "</div>"
      ],
      "text/plain": [
       "                                 node          status  scale 0.0  scale 0.1  \\\n",
       "0  blocks.0.attn.hook_result, head  0  not_in_circuit   1.000000   0.995730   \n",
       "1  blocks.0.attn.hook_result, head  1  not_in_circuit   1.000000   1.000000   \n",
       "2  blocks.0.attn.hook_result, head  2  not_in_circuit   0.680534   0.588329   \n",
       "3  blocks.0.attn.hook_result, head  3  not_in_circuit   1.000000   1.000000   \n",
       "7  blocks.1.attn.hook_result, head  2  not_in_circuit   1.000000   1.000000   \n",
       "8  blocks.1.attn.hook_result, head  3  not_in_circuit   1.000000   1.000000   \n",
       "9              blocks.1.mlp.hook_post  not_in_circuit   1.000000   1.000000   \n",
       "4              blocks.0.mlp.hook_post      in_circuit   0.995777   0.911988   \n",
       "5  blocks.1.attn.hook_result, head  0      in_circuit   0.947688   0.932320   \n",
       "6  blocks.1.attn.hook_result, head  1      in_circuit   0.920349   0.808206   \n",
       "\n",
       "   scale 0.2  scale 0.5  scale 0.7  scale 0.8  scale 1.0  scale 1.2  \\\n",
       "0   0.984805   0.424364   0.147599   0.020380   0.005980   0.204187   \n",
       "1   0.988372   0.648860   0.173528   0.018253   0.000000   0.025237   \n",
       "2   0.437677   0.058443   0.035223   0.002068   0.000000   0.003185   \n",
       "3   0.999408   0.635306   0.118211   0.035539   0.000168   0.164127   \n",
       "7   1.000000   1.000000   0.961237   0.536721   0.000000   0.367025   \n",
       "8   1.000000   1.000000   0.722840   0.457345   0.074625   0.354972   \n",
       "9   1.000000   1.000000   0.892223   0.682897   0.027830   0.531765   \n",
       "4   0.972850   0.933968   0.894231   0.960773   1.000000   1.000000   \n",
       "5   0.850772   0.879720   0.984155   1.000000   1.000000   1.000000   \n",
       "6   0.749656   0.532832   0.623412   0.587123   0.616037   0.701412   \n",
       "\n",
       "   scale 1.4  scale 2.0  scale 5.0  scale 10.0  \n",
       "0   0.444540   0.806988   0.999700    1.000000  \n",
       "1   0.223273   0.997539   1.000000    1.000000  \n",
       "2   0.036501   0.460792   0.900187    0.743509  \n",
       "3   0.523615   0.990259   1.000000    1.000000  \n",
       "7   0.964079   1.000000   1.000000    1.000000  \n",
       "8   0.727884   1.000000   1.000000    1.000000  \n",
       "9   0.904191   1.000000   1.000000    1.000000  \n",
       "4   0.910674   0.951065   0.998301    0.999750  \n",
       "5   0.995376   0.933816   0.955799    0.999309  \n",
       "6   0.686588   0.807814   0.891579    0.997364  "
      ]
     },
     "execution_count": 7,
     "metadata": {},
     "output_type": "execute_result"
    }
   ],
   "source": [
    "combined_scales_df.rename(columns={\"scale 0.0_y\": \"scale 0.0\"}, inplace=True)\n",
    "combined_scales_df = combined_scales_df.sort_values(by=[\"status\"], ascending=False)\n",
    "combined_scales_df"
   ]
  },
  {
   "cell_type": "code",
   "execution_count": 56,
   "metadata": {},
   "outputs": [],
   "source": [
    "import plotly.graph_objects as go\n",
    "\n",
    "def plot_causal_effect(combined_scales_df, scales, image_name):\n",
    "    fig = go.Figure()\n",
    "    scale_columns = [f\"scale {scale}\" for scale in scales]\n",
    "    for i, row in combined_scales_df.iterrows():\n",
    "        y = [row[col] for col in scale_columns]\n",
    "        x = scales\n",
    "        # plot lines for each node\n",
    "        fig.add_trace(go.Line(x=x, y=y, mode='lines+markers', \n",
    "                            # set color based on status\n",
    "                            line=dict(color=\"green\" if row[\"status\"] == \"in_circuit\" else \"orange\"),\n",
    "                            hovertext=f\"Node: {row['node']}, Status: {row['status']}\",\n",
    "                            # define legend only for color, not for line\n",
    "                            showlegend=False,\n",
    "                            ),\n",
    "                    )\n",
    "    fig.update_layout(xaxis_title=\"Scale\", yaxis_title=\"Causal Effect\")\n",
    "    # make legend for color\n",
    "    fig.add_trace(go.Scatter(x=[None], y=[None], mode='markers', marker=dict(color=\"green\"), name=\"in_circuit\"))\n",
    "    fig.add_trace(go.Scatter(x=[None], y=[None], mode='markers', marker=dict(color=\"orange\"), name=\"not_in_circuit\"))\n",
    "    # make background transparent and remove grid\n",
    "    fig.update_layout(template=\"plotly_white\")\n",
    "    # remove grid\n",
    "    fig.update_xaxes(showgrid=False)\n",
    "    fig.update_yaxes(showgrid=False)\n",
    "    # decrease margin\n",
    "    fig.update_layout(margin=dict(l=70, r=70, t=70, b=70))\n",
    "    # increase font size\n",
    "    fig.update_layout(font=dict(size=16))\n",
    "\n",
    "    fig.show()\n",
    "    # save to file as pdf with same width and height\n",
    "    fig.write_image(f\"{image_name}.pdf\", width=1000, height=400)"
   ]
  },
  {
   "cell_type": "code",
   "execution_count": 57,
   "metadata": {},
   "outputs": [
    {
     "data": {
      "application/vnd.plotly.v1+json": {
       "config": {
        "plotlyServerURL": "https://plot.ly"
       },
       "data": [
        {
         "hovertext": "Node: blocks.0.attn.hook_result, head  0, Status: not_in_circuit",
         "line": {
          "color": "orange"
         },
         "mode": "lines+markers",
         "showlegend": false,
         "type": "scatter",
         "x": [
          0,
          0.1,
          0.2,
          0.5,
          0.7,
          0.8,
          1,
          1.2,
          1.4,
          2,
          5,
          10
         ],
         "y": [
          0.999999999999997,
          0.9957304264833732,
          0.9848048851457324,
          0.42436409332536157,
          0.14759910311827815,
          0.020380022114963873,
          0.005979751059218725,
          0.20418656976728025,
          0.44453967493449525,
          0.8069877702296511,
          0.9996999813183491,
          0.9999999999999969
         ]
        },
        {
         "hovertext": "Node: blocks.0.attn.hook_result, head  1, Status: not_in_circuit",
         "line": {
          "color": "orange"
         },
         "mode": "lines+markers",
         "showlegend": false,
         "type": "scatter",
         "x": [
          0,
          0.1,
          0.2,
          0.5,
          0.7,
          0.8,
          1,
          1.2,
          1.4,
          2,
          5,
          10
         ],
         "y": [
          0.999999999999997,
          0.9999999999999967,
          0.9883715164599292,
          0.6488595755830705,
          0.17352798037862852,
          0.018252863762499558,
          0,
          0.025236847203658486,
          0.22327328988195264,
          0.9975388648622483,
          0.9999999999999971,
          0.9999999999999969
         ]
        },
        {
         "hovertext": "Node: blocks.0.attn.hook_result, head  2, Status: not_in_circuit",
         "line": {
          "color": "orange"
         },
         "mode": "lines+markers",
         "showlegend": false,
         "type": "scatter",
         "x": [
          0,
          0.1,
          0.2,
          0.5,
          0.7,
          0.8,
          1,
          1.2,
          1.4,
          2,
          5,
          10
         ],
         "y": [
          0.6805342550903256,
          0.588329390340093,
          0.4376769341844611,
          0.058443426728076946,
          0.03522331831921924,
          0.002067645414862426,
          0,
          0.0031851505693808848,
          0.03650067182743819,
          0.4607921598394744,
          0.9001871085481735,
          0.7435094423922948
         ]
        },
        {
         "hovertext": "Node: blocks.0.attn.hook_result, head  3, Status: not_in_circuit",
         "line": {
          "color": "orange"
         },
         "mode": "lines+markers",
         "showlegend": false,
         "type": "scatter",
         "x": [
          0,
          0.1,
          0.2,
          0.5,
          0.7,
          0.8,
          1,
          1.2,
          1.4,
          2,
          5,
          10
         ],
         "y": [
          0.999999999999997,
          0.9999999999999967,
          0.9994083320617685,
          0.6353057142754328,
          0.11821124466397404,
          0.03553903954167827,
          0.00016781241746975265,
          0.16412733038480692,
          0.5236153847947915,
          0.990259138431797,
          0.9999999999999971,
          0.9999999999999969
         ]
        },
        {
         "hovertext": "Node: blocks.1.attn.hook_result, head  2, Status: not_in_circuit",
         "line": {
          "color": "orange"
         },
         "mode": "lines+markers",
         "showlegend": false,
         "type": "scatter",
         "x": [
          0,
          0.1,
          0.2,
          0.5,
          0.7,
          0.8,
          1,
          1.2,
          1.4,
          2,
          5,
          10
         ],
         "y": [
          0.999999999999997,
          0.9999999999999967,
          0.9999999999999969,
          0.999999999999997,
          0.9612371648869983,
          0.5367208611788516,
          0,
          0.3670252430840005,
          0.9640790645216627,
          0.9999999999999968,
          0.9999999999999971,
          0.9999999999999969
         ]
        },
        {
         "hovertext": "Node: blocks.1.attn.hook_result, head  3, Status: not_in_circuit",
         "line": {
          "color": "orange"
         },
         "mode": "lines+markers",
         "showlegend": false,
         "type": "scatter",
         "x": [
          0,
          0.1,
          0.2,
          0.5,
          0.7,
          0.8,
          1,
          1.2,
          1.4,
          2,
          5,
          10
         ],
         "y": [
          0.999999999999997,
          0.9999999999999967,
          0.9999999999999969,
          0.999999999999997,
          0.7228399064891168,
          0.4573454801553479,
          0.07462480737661437,
          0.3549724723974098,
          0.7278837105075427,
          0.9999999999999968,
          0.9999999999999971,
          0.9999999999999969
         ]
        },
        {
         "hovertext": "Node: blocks.1.mlp.hook_post, Status: not_in_circuit",
         "line": {
          "color": "orange"
         },
         "mode": "lines+markers",
         "showlegend": false,
         "type": "scatter",
         "x": [
          0,
          0.1,
          0.2,
          0.5,
          0.7,
          0.8,
          1,
          1.2,
          1.4,
          2,
          5,
          10
         ],
         "y": [
          0.999999999999997,
          0.9999999999999967,
          0.9999999999999969,
          0.999999999999997,
          0.8922226945843515,
          0.6828973573561313,
          0.027830335490546632,
          0.5317649522971345,
          0.9041914507061574,
          0.9999999999999968,
          0.9999999999999971,
          0.9999999999999969
         ]
        },
        {
         "hovertext": "Node: blocks.0.mlp.hook_post, Status: in_circuit",
         "line": {
          "color": "green"
         },
         "mode": "lines+markers",
         "showlegend": false,
         "type": "scatter",
         "x": [
          0,
          0.1,
          0.2,
          0.5,
          0.7,
          0.8,
          1,
          1.2,
          1.4,
          2,
          5,
          10
         ],
         "y": [
          0.995777441468838,
          0.9119879085874207,
          0.9728496670936518,
          0.933967985664663,
          0.8942308057909093,
          0.9607731286525045,
          0.9999999999999969,
          0.9999999999999971,
          0.9106737643403009,
          0.9510649707891745,
          0.9983009551407714,
          0.9997500834288637
         ]
        },
        {
         "hovertext": "Node: blocks.1.attn.hook_result, head  0, Status: in_circuit",
         "line": {
          "color": "green"
         },
         "mode": "lines+markers",
         "showlegend": false,
         "type": "scatter",
         "x": [
          0,
          0.1,
          0.2,
          0.5,
          0.7,
          0.8,
          1,
          1.2,
          1.4,
          2,
          5,
          10
         ],
         "y": [
          0.9476878082833994,
          0.9323204318110446,
          0.8507717552975338,
          0.8797199213690697,
          0.9841548201758527,
          0.999999999999997,
          0.9999999999999969,
          0.9999999999999971,
          0.995376024433915,
          0.9338157491062357,
          0.9557988398712584,
          0.9993091661947741
         ]
        },
        {
         "hovertext": "Node: blocks.1.attn.hook_result, head  1, Status: in_circuit",
         "line": {
          "color": "green"
         },
         "mode": "lines+markers",
         "showlegend": false,
         "type": "scatter",
         "x": [
          0,
          0.1,
          0.2,
          0.5,
          0.7,
          0.8,
          1,
          1.2,
          1.4,
          2,
          5,
          10
         ],
         "y": [
          0.9203494193736339,
          0.8082061723228281,
          0.7496562955514982,
          0.5328315905984502,
          0.6234118807930239,
          0.5871232255870629,
          0.6160367558707981,
          0.7014124703704127,
          0.6865884425723574,
          0.807813774689654,
          0.8915791456673492,
          0.9973642857425105
         ]
        },
        {
         "marker": {
          "color": "green"
         },
         "mode": "markers",
         "name": "in_circuit",
         "type": "scatter",
         "x": [
          null
         ],
         "y": [
          null
         ]
        },
        {
         "marker": {
          "color": "orange"
         },
         "mode": "markers",
         "name": "not_in_circuit",
         "type": "scatter",
         "x": [
          null
         ],
         "y": [
          null
         ]
        }
       ],
       "layout": {
        "font": {
         "size": 16
        },
        "margin": {
         "b": 70,
         "l": 70,
         "r": 70,
         "t": 70
        },
        "template": {
         "data": {
          "bar": [
           {
            "error_x": {
             "color": "#2a3f5f"
            },
            "error_y": {
             "color": "#2a3f5f"
            },
            "marker": {
             "line": {
              "color": "white",
              "width": 0.5
             },
             "pattern": {
              "fillmode": "overlay",
              "size": 10,
              "solidity": 0.2
             }
            },
            "type": "bar"
           }
          ],
          "barpolar": [
           {
            "marker": {
             "line": {
              "color": "white",
              "width": 0.5
             },
             "pattern": {
              "fillmode": "overlay",
              "size": 10,
              "solidity": 0.2
             }
            },
            "type": "barpolar"
           }
          ],
          "carpet": [
           {
            "aaxis": {
             "endlinecolor": "#2a3f5f",
             "gridcolor": "#C8D4E3",
             "linecolor": "#C8D4E3",
             "minorgridcolor": "#C8D4E3",
             "startlinecolor": "#2a3f5f"
            },
            "baxis": {
             "endlinecolor": "#2a3f5f",
             "gridcolor": "#C8D4E3",
             "linecolor": "#C8D4E3",
             "minorgridcolor": "#C8D4E3",
             "startlinecolor": "#2a3f5f"
            },
            "type": "carpet"
           }
          ],
          "choropleth": [
           {
            "colorbar": {
             "outlinewidth": 0,
             "ticks": ""
            },
            "type": "choropleth"
           }
          ],
          "contour": [
           {
            "colorbar": {
             "outlinewidth": 0,
             "ticks": ""
            },
            "colorscale": [
             [
              0,
              "#0d0887"
             ],
             [
              0.1111111111111111,
              "#46039f"
             ],
             [
              0.2222222222222222,
              "#7201a8"
             ],
             [
              0.3333333333333333,
              "#9c179e"
             ],
             [
              0.4444444444444444,
              "#bd3786"
             ],
             [
              0.5555555555555556,
              "#d8576b"
             ],
             [
              0.6666666666666666,
              "#ed7953"
             ],
             [
              0.7777777777777778,
              "#fb9f3a"
             ],
             [
              0.8888888888888888,
              "#fdca26"
             ],
             [
              1,
              "#f0f921"
             ]
            ],
            "type": "contour"
           }
          ],
          "contourcarpet": [
           {
            "colorbar": {
             "outlinewidth": 0,
             "ticks": ""
            },
            "type": "contourcarpet"
           }
          ],
          "heatmap": [
           {
            "colorbar": {
             "outlinewidth": 0,
             "ticks": ""
            },
            "colorscale": [
             [
              0,
              "#0d0887"
             ],
             [
              0.1111111111111111,
              "#46039f"
             ],
             [
              0.2222222222222222,
              "#7201a8"
             ],
             [
              0.3333333333333333,
              "#9c179e"
             ],
             [
              0.4444444444444444,
              "#bd3786"
             ],
             [
              0.5555555555555556,
              "#d8576b"
             ],
             [
              0.6666666666666666,
              "#ed7953"
             ],
             [
              0.7777777777777778,
              "#fb9f3a"
             ],
             [
              0.8888888888888888,
              "#fdca26"
             ],
             [
              1,
              "#f0f921"
             ]
            ],
            "type": "heatmap"
           }
          ],
          "heatmapgl": [
           {
            "colorbar": {
             "outlinewidth": 0,
             "ticks": ""
            },
            "colorscale": [
             [
              0,
              "#0d0887"
             ],
             [
              0.1111111111111111,
              "#46039f"
             ],
             [
              0.2222222222222222,
              "#7201a8"
             ],
             [
              0.3333333333333333,
              "#9c179e"
             ],
             [
              0.4444444444444444,
              "#bd3786"
             ],
             [
              0.5555555555555556,
              "#d8576b"
             ],
             [
              0.6666666666666666,
              "#ed7953"
             ],
             [
              0.7777777777777778,
              "#fb9f3a"
             ],
             [
              0.8888888888888888,
              "#fdca26"
             ],
             [
              1,
              "#f0f921"
             ]
            ],
            "type": "heatmapgl"
           }
          ],
          "histogram": [
           {
            "marker": {
             "pattern": {
              "fillmode": "overlay",
              "size": 10,
              "solidity": 0.2
             }
            },
            "type": "histogram"
           }
          ],
          "histogram2d": [
           {
            "colorbar": {
             "outlinewidth": 0,
             "ticks": ""
            },
            "colorscale": [
             [
              0,
              "#0d0887"
             ],
             [
              0.1111111111111111,
              "#46039f"
             ],
             [
              0.2222222222222222,
              "#7201a8"
             ],
             [
              0.3333333333333333,
              "#9c179e"
             ],
             [
              0.4444444444444444,
              "#bd3786"
             ],
             [
              0.5555555555555556,
              "#d8576b"
             ],
             [
              0.6666666666666666,
              "#ed7953"
             ],
             [
              0.7777777777777778,
              "#fb9f3a"
             ],
             [
              0.8888888888888888,
              "#fdca26"
             ],
             [
              1,
              "#f0f921"
             ]
            ],
            "type": "histogram2d"
           }
          ],
          "histogram2dcontour": [
           {
            "colorbar": {
             "outlinewidth": 0,
             "ticks": ""
            },
            "colorscale": [
             [
              0,
              "#0d0887"
             ],
             [
              0.1111111111111111,
              "#46039f"
             ],
             [
              0.2222222222222222,
              "#7201a8"
             ],
             [
              0.3333333333333333,
              "#9c179e"
             ],
             [
              0.4444444444444444,
              "#bd3786"
             ],
             [
              0.5555555555555556,
              "#d8576b"
             ],
             [
              0.6666666666666666,
              "#ed7953"
             ],
             [
              0.7777777777777778,
              "#fb9f3a"
             ],
             [
              0.8888888888888888,
              "#fdca26"
             ],
             [
              1,
              "#f0f921"
             ]
            ],
            "type": "histogram2dcontour"
           }
          ],
          "mesh3d": [
           {
            "colorbar": {
             "outlinewidth": 0,
             "ticks": ""
            },
            "type": "mesh3d"
           }
          ],
          "parcoords": [
           {
            "line": {
             "colorbar": {
              "outlinewidth": 0,
              "ticks": ""
             }
            },
            "type": "parcoords"
           }
          ],
          "pie": [
           {
            "automargin": true,
            "type": "pie"
           }
          ],
          "scatter": [
           {
            "fillpattern": {
             "fillmode": "overlay",
             "size": 10,
             "solidity": 0.2
            },
            "type": "scatter"
           }
          ],
          "scatter3d": [
           {
            "line": {
             "colorbar": {
              "outlinewidth": 0,
              "ticks": ""
             }
            },
            "marker": {
             "colorbar": {
              "outlinewidth": 0,
              "ticks": ""
             }
            },
            "type": "scatter3d"
           }
          ],
          "scattercarpet": [
           {
            "marker": {
             "colorbar": {
              "outlinewidth": 0,
              "ticks": ""
             }
            },
            "type": "scattercarpet"
           }
          ],
          "scattergeo": [
           {
            "marker": {
             "colorbar": {
              "outlinewidth": 0,
              "ticks": ""
             }
            },
            "type": "scattergeo"
           }
          ],
          "scattergl": [
           {
            "marker": {
             "colorbar": {
              "outlinewidth": 0,
              "ticks": ""
             }
            },
            "type": "scattergl"
           }
          ],
          "scattermapbox": [
           {
            "marker": {
             "colorbar": {
              "outlinewidth": 0,
              "ticks": ""
             }
            },
            "type": "scattermapbox"
           }
          ],
          "scatterpolar": [
           {
            "marker": {
             "colorbar": {
              "outlinewidth": 0,
              "ticks": ""
             }
            },
            "type": "scatterpolar"
           }
          ],
          "scatterpolargl": [
           {
            "marker": {
             "colorbar": {
              "outlinewidth": 0,
              "ticks": ""
             }
            },
            "type": "scatterpolargl"
           }
          ],
          "scatterternary": [
           {
            "marker": {
             "colorbar": {
              "outlinewidth": 0,
              "ticks": ""
             }
            },
            "type": "scatterternary"
           }
          ],
          "surface": [
           {
            "colorbar": {
             "outlinewidth": 0,
             "ticks": ""
            },
            "colorscale": [
             [
              0,
              "#0d0887"
             ],
             [
              0.1111111111111111,
              "#46039f"
             ],
             [
              0.2222222222222222,
              "#7201a8"
             ],
             [
              0.3333333333333333,
              "#9c179e"
             ],
             [
              0.4444444444444444,
              "#bd3786"
             ],
             [
              0.5555555555555556,
              "#d8576b"
             ],
             [
              0.6666666666666666,
              "#ed7953"
             ],
             [
              0.7777777777777778,
              "#fb9f3a"
             ],
             [
              0.8888888888888888,
              "#fdca26"
             ],
             [
              1,
              "#f0f921"
             ]
            ],
            "type": "surface"
           }
          ],
          "table": [
           {
            "cells": {
             "fill": {
              "color": "#EBF0F8"
             },
             "line": {
              "color": "white"
             }
            },
            "header": {
             "fill": {
              "color": "#C8D4E3"
             },
             "line": {
              "color": "white"
             }
            },
            "type": "table"
           }
          ]
         },
         "layout": {
          "annotationdefaults": {
           "arrowcolor": "#2a3f5f",
           "arrowhead": 0,
           "arrowwidth": 1
          },
          "autotypenumbers": "strict",
          "coloraxis": {
           "colorbar": {
            "outlinewidth": 0,
            "ticks": ""
           }
          },
          "colorscale": {
           "diverging": [
            [
             0,
             "#8e0152"
            ],
            [
             0.1,
             "#c51b7d"
            ],
            [
             0.2,
             "#de77ae"
            ],
            [
             0.3,
             "#f1b6da"
            ],
            [
             0.4,
             "#fde0ef"
            ],
            [
             0.5,
             "#f7f7f7"
            ],
            [
             0.6,
             "#e6f5d0"
            ],
            [
             0.7,
             "#b8e186"
            ],
            [
             0.8,
             "#7fbc41"
            ],
            [
             0.9,
             "#4d9221"
            ],
            [
             1,
             "#276419"
            ]
           ],
           "sequential": [
            [
             0,
             "#0d0887"
            ],
            [
             0.1111111111111111,
             "#46039f"
            ],
            [
             0.2222222222222222,
             "#7201a8"
            ],
            [
             0.3333333333333333,
             "#9c179e"
            ],
            [
             0.4444444444444444,
             "#bd3786"
            ],
            [
             0.5555555555555556,
             "#d8576b"
            ],
            [
             0.6666666666666666,
             "#ed7953"
            ],
            [
             0.7777777777777778,
             "#fb9f3a"
            ],
            [
             0.8888888888888888,
             "#fdca26"
            ],
            [
             1,
             "#f0f921"
            ]
           ],
           "sequentialminus": [
            [
             0,
             "#0d0887"
            ],
            [
             0.1111111111111111,
             "#46039f"
            ],
            [
             0.2222222222222222,
             "#7201a8"
            ],
            [
             0.3333333333333333,
             "#9c179e"
            ],
            [
             0.4444444444444444,
             "#bd3786"
            ],
            [
             0.5555555555555556,
             "#d8576b"
            ],
            [
             0.6666666666666666,
             "#ed7953"
            ],
            [
             0.7777777777777778,
             "#fb9f3a"
            ],
            [
             0.8888888888888888,
             "#fdca26"
            ],
            [
             1,
             "#f0f921"
            ]
           ]
          },
          "colorway": [
           "#636efa",
           "#EF553B",
           "#00cc96",
           "#ab63fa",
           "#FFA15A",
           "#19d3f3",
           "#FF6692",
           "#B6E880",
           "#FF97FF",
           "#FECB52"
          ],
          "font": {
           "color": "#2a3f5f"
          },
          "geo": {
           "bgcolor": "white",
           "lakecolor": "white",
           "landcolor": "white",
           "showlakes": true,
           "showland": true,
           "subunitcolor": "#C8D4E3"
          },
          "hoverlabel": {
           "align": "left"
          },
          "hovermode": "closest",
          "mapbox": {
           "style": "light"
          },
          "paper_bgcolor": "white",
          "plot_bgcolor": "white",
          "polar": {
           "angularaxis": {
            "gridcolor": "#EBF0F8",
            "linecolor": "#EBF0F8",
            "ticks": ""
           },
           "bgcolor": "white",
           "radialaxis": {
            "gridcolor": "#EBF0F8",
            "linecolor": "#EBF0F8",
            "ticks": ""
           }
          },
          "scene": {
           "xaxis": {
            "backgroundcolor": "white",
            "gridcolor": "#DFE8F3",
            "gridwidth": 2,
            "linecolor": "#EBF0F8",
            "showbackground": true,
            "ticks": "",
            "zerolinecolor": "#EBF0F8"
           },
           "yaxis": {
            "backgroundcolor": "white",
            "gridcolor": "#DFE8F3",
            "gridwidth": 2,
            "linecolor": "#EBF0F8",
            "showbackground": true,
            "ticks": "",
            "zerolinecolor": "#EBF0F8"
           },
           "zaxis": {
            "backgroundcolor": "white",
            "gridcolor": "#DFE8F3",
            "gridwidth": 2,
            "linecolor": "#EBF0F8",
            "showbackground": true,
            "ticks": "",
            "zerolinecolor": "#EBF0F8"
           }
          },
          "shapedefaults": {
           "line": {
            "color": "#2a3f5f"
           }
          },
          "ternary": {
           "aaxis": {
            "gridcolor": "#DFE8F3",
            "linecolor": "#A2B1C6",
            "ticks": ""
           },
           "baxis": {
            "gridcolor": "#DFE8F3",
            "linecolor": "#A2B1C6",
            "ticks": ""
           },
           "bgcolor": "white",
           "caxis": {
            "gridcolor": "#DFE8F3",
            "linecolor": "#A2B1C6",
            "ticks": ""
           }
          },
          "title": {
           "x": 0.05
          },
          "xaxis": {
           "automargin": true,
           "gridcolor": "#EBF0F8",
           "linecolor": "#EBF0F8",
           "ticks": "",
           "title": {
            "standoff": 15
           },
           "zerolinecolor": "#EBF0F8",
           "zerolinewidth": 2
          },
          "yaxis": {
           "automargin": true,
           "gridcolor": "#EBF0F8",
           "linecolor": "#EBF0F8",
           "ticks": "",
           "title": {
            "standoff": 15
           },
           "zerolinecolor": "#EBF0F8",
           "zerolinewidth": 2
          }
         }
        },
        "xaxis": {
         "showgrid": false,
         "title": {
          "text": "Scale"
         }
        },
        "yaxis": {
         "showgrid": false,
         "title": {
          "text": "Causal Effect"
         }
        }
       }
      }
     },
     "metadata": {},
     "output_type": "display_data"
    }
   ],
   "source": [
    "plot_causal_effect(combined_scales_df, scales, f\"causal_effect_scale_{task.get_index()}\")"
   ]
  },
  {
   "cell_type": "markdown",
   "metadata": {},
   "source": [
    "Do PCA and patch only the varying part "
   ]
  },
  {
   "cell_type": "code",
   "execution_count": 10,
   "metadata": {},
   "outputs": [],
   "source": [
    "from iit.utils.node_picker import get_nodes_in_circuit, get_nodes_not_in_circuit, get_all_nodes\n",
    "from sklearn.decomposition import PCA\n",
    "import iit.utils.index as index\n",
    "\n",
    "def find_ll_node_by_name(name, list_of_nodes) -> list:\n",
    "    ll_nodes = []\n",
    "    for node in list_of_nodes:\n",
    "        if node.name == name:\n",
    "            ll_nodes.append(node)\n",
    "    return ll_nodes\n",
    "\n",
    "\n",
    "def collect_activations(model_pair, loader, pos_slice=slice(1, None, None)):\n",
    "    activation_cache = {}\n",
    "    nodes = get_all_nodes(model_pair.ll_model)\n",
    "    pos_idx = index.TorchIndex(((slice(None), pos_slice))) if pos_slice is not None else index.Ix[slice(None)]\n",
    "    for node in nodes:\n",
    "        activation_cache[node] = None\n",
    "    for batch in loader:\n",
    "        _, batch_cache = model_pair.ll_model.run_with_cache(batch)\n",
    "        for k, tensor in batch_cache.items():\n",
    "            ll_node_for_k = find_ll_node_by_name(k, nodes)\n",
    "            if len(ll_node_for_k) > 0:\n",
    "                for node in ll_node_for_k:\n",
    "                    act = tensor[node.index.as_index].cpu()[pos_idx.as_index]\n",
    "                    if activation_cache[node] is None:\n",
    "                        activation_cache[node] = act\n",
    "                    else:\n",
    "                        activation_cache[node] = torch.cat((activation_cache[node], act), dim=0).cpu()\n",
    "    return activation_cache\n",
    "\n",
    "\n",
    "def collect_pca_directions(activation_cache, num_pca_components=2):\n",
    "    pca_dirs = {}\n",
    "\n",
    "    for node, activations in activation_cache.items():\n",
    "        # calculate pca directions for activations\n",
    "        for i in range(activations.shape[1]):\n",
    "            pca = PCA(n_components=num_pca_components)\n",
    "            pca.fit(activations[:, i].detach().numpy())\n",
    "            if pca_dirs.get(node) is None:\n",
    "                pca_dirs[node] = {}\n",
    "            pca_dirs[node][i] = pca.components_\n",
    "    return pca_dirs"
   ]
  },
  {
   "cell_type": "code",
   "execution_count": 11,
   "metadata": {},
   "outputs": [
    {
     "data": {
      "text/plain": [
       "dict_keys([LLNode(name='blocks.0.attn.hook_result', index=[:, :, 0, :], subspace=None), LLNode(name='blocks.0.attn.hook_result', index=[:, :, 1, :], subspace=None), LLNode(name='blocks.0.attn.hook_result', index=[:, :, 2, :], subspace=None), LLNode(name='blocks.0.attn.hook_result', index=[:, :, 3, :], subspace=None), LLNode(name='blocks.0.mlp.hook_post', index=[:], subspace=None), LLNode(name='blocks.1.attn.hook_result', index=[:, :, 0, :], subspace=None), LLNode(name='blocks.1.attn.hook_result', index=[:, :, 1, :], subspace=None), LLNode(name='blocks.1.attn.hook_result', index=[:, :, 2, :], subspace=None), LLNode(name='blocks.1.attn.hook_result', index=[:, :, 3, :], subspace=None), LLNode(name='blocks.1.mlp.hook_post', index=[:], subspace=None)])"
      ]
     },
     "execution_count": 11,
     "metadata": {},
     "output_type": "execute_result"
    }
   ],
   "source": [
    "def collate_fn(batch):\n",
    "    encoded_x = model_pair.hl_model.map_tracr_input_to_tl_input(list(zip(*batch))[0])\n",
    "    return encoded_x\n",
    "\n",
    "loader = torch.utils.data.DataLoader(unique_test_data, batch_size=256, shuffle=False, drop_last=False, collate_fn=collate_fn)\n",
    "\n",
    "activation_cache = collect_activations(model_pair, loader=loader)\n",
    "activation_cache.keys()"
   ]
  },
  {
   "cell_type": "code",
   "execution_count": 42,
   "metadata": {},
   "outputs": [],
   "source": [
    "pca_dirs = collect_pca_directions(activation_cache, num_pca_components=2)"
   ]
  },
  {
   "cell_type": "code",
   "execution_count": 86,
   "metadata": {},
   "outputs": [],
   "source": [
    "from fancy_einsum import einsum\n",
    "\n",
    "\n",
    "def make_ll_ablation_hook_scale_activations_with_variance(\n",
    "    model_pair, ll_node: LLNode, pca_dirs: dict, scale: float, \n",
    "    self_patch: bool = False,\n",
    "    ablate_high_variance: bool = True\n",
    ") -> Callable[[Tensor, HookPoint], Tensor]:\n",
    "    \"\"\"\n",
    "    Resample ablations, but with the patched activations scaled by the given factor, along the PCA directions. Since the PCA directions capture the variance in activations, this may help us to distinguish between constant nodes and nodes whose variance is important for the model. My hypothesis is that constant nodes will have a smaller effect on the model than nodes whose variance is important for any scale provided.\n",
    "\n",
    "    If self_patch is True, the ablation will be done with the activations at the node itself, rather than the activations at the node in the cache. So this is not a resample ablation.  \n",
    "    \"\"\"\n",
    "    if ll_node.subspace is not None:\n",
    "        raise NotImplementedError\n",
    "\n",
    "    def ll_ablation_hook(hook_point_out: Tensor, hook: HookPoint) -> Tensor:\n",
    "        out = hook_point_out.clone()\n",
    "        index = ll_node.index if ll_node.index is not None else index.Ix[[None]]\n",
    "        cached_activation = model_pair.ll_cache[hook.name][index.as_index]\n",
    "        pca_dirs_at_node = pca_dirs[ll_node]\n",
    "        for i in range(0, cached_activation.shape[1]-1):\n",
    "            pca_dirs_at_i = pca_dirs_at_node[i]\n",
    "            components_at_clean_dir = []\n",
    "            for component in range(pca_dirs_at_i.shape[0]):\n",
    "                components_at_clean_dir.append(\n",
    "                    einsum(\n",
    "                        \"batch d_model, d_model -> batch\",\n",
    "                        out[index.as_index][:, i+1],\n",
    "                        torch.tensor(pca_dirs_at_i[component]),\n",
    "                    ).unsqueeze(1)\n",
    "                )\n",
    "            \n",
    "            \n",
    "            if self_patch and ablate_high_variance:\n",
    "                # take the pca direction as the direction to remove\n",
    "                components_to_remove = sum(components_at_clean_dir)\n",
    "                components_to_add = components_to_remove * scale\n",
    "            elif self_patch and not ablate_high_variance:\n",
    "                # take the mean direction as the direction to remove\n",
    "                components_to_remove = out[index.as_index][:, i+1] - sum(components_at_clean_dir) \n",
    "                components_to_add = components_to_remove * scale\n",
    "            elif not self_patch and ablate_high_variance:\n",
    "                components_at_cached_dir = []\n",
    "                components_to_remove = sum(components_at_clean_dir)\n",
    "                for component in range(pca_dirs_at_i.shape[0]):\n",
    "                    components_at_cached_dir.append(\n",
    "                        einsum(\n",
    "                            \"batch d_model, d_model -> batch\",\n",
    "                            cached_activation[:, i+1],\n",
    "                            torch.tensor(pca_dirs_at_i[component]),\n",
    "                        ).unsqueeze(1)\n",
    "                    )\n",
    "                components_to_add = sum(components_at_cached_dir) * scale\n",
    "            elif not self_patch and not ablate_high_variance:\n",
    "                components_at_cached_dir = []\n",
    "                components_to_remove = out[index.as_index][:, i+1] - sum(components_at_clean_dir) \n",
    "                for component in range(pca_dirs_at_i.shape[0]):\n",
    "                    components_at_cached_dir.append(\n",
    "                        einsum(\n",
    "                            \"batch d_model, d_model -> batch\",\n",
    "                            cached_activation[:, i+1],\n",
    "                            torch.tensor(pca_dirs_at_i[component]),\n",
    "                        ).unsqueeze(1)\n",
    "                    )\n",
    "                components_to_add = (cached_activation[:, i+1] - sum(components_at_cached_dir)) * scale\n",
    "\n",
    "            out[index.as_index][:, i+1] = (\n",
    "                out[index.as_index][:, i+1] + components_to_add - components_to_remove\n",
    "            )\n",
    "        return out\n",
    "\n",
    "    return ll_ablation_hook"
   ]
  },
  {
   "cell_type": "code",
   "execution_count": 98,
   "metadata": {},
   "outputs": [],
   "source": [
    "%%capture\n",
    "def hook_maker(model_pair, ll_node: LLNode, scale: float) -> Callable[[Tensor, HookPoint], Tensor]:\n",
    "    return make_ll_ablation_hook_scale_activations_with_variance(model_pair, ll_node, pca_dirs, scale, self_patch=True, ablate_high_variance=False)\n",
    "combined_scales_df_orthogonal = get_effects_for_scales(model_pair, unique_test_data, hook_maker, scales=scales)"
   ]
  },
  {
   "cell_type": "code",
   "execution_count": 100,
   "metadata": {},
   "outputs": [
    {
     "name": "stderr",
     "output_type": "stream",
     "text": [
      "/Users/cybershiptrooper/src/interpretability/MATS/.iit/lib/python3.11/site-packages/plotly/graph_objs/_deprecations.py:378: DeprecationWarning:\n",
      "\n",
      "plotly.graph_objs.Line is deprecated.\n",
      "Please replace it with one of the following more specific types\n",
      "  - plotly.graph_objs.scatter.Line\n",
      "  - plotly.graph_objs.layout.shape.Line\n",
      "  - etc.\n",
      "\n",
      "\n"
     ]
    },
    {
     "data": {
      "application/vnd.plotly.v1+json": {
       "config": {
        "plotlyServerURL": "https://plot.ly"
       },
       "data": [
        {
         "hovertext": "Node: blocks.0.attn.hook_result, head  0, Status: not_in_circuit",
         "line": {
          "color": "orange"
         },
         "mode": "lines+markers",
         "showlegend": false,
         "type": "scatter",
         "x": [
          0,
          0.1,
          0.2,
          0.5,
          0.7,
          0.8,
          1,
          1.2,
          1.4,
          2,
          5,
          10
         ],
         "y": [
          0.9999999999999968,
          0.9999999999999968,
          0.999999999999997,
          0.9999999999999971,
          0.999999999999997,
          0.9765118549521326,
          0,
          0.9764006379061512,
          0.9999999999999969,
          0.9999999999999966,
          0.999999999999997,
          0.9999999999999968
         ]
        },
        {
         "hovertext": "Node: blocks.0.attn.hook_result, head  1, Status: not_in_circuit",
         "line": {
          "color": "orange"
         },
         "mode": "lines+markers",
         "showlegend": false,
         "type": "scatter",
         "x": [
          0,
          0.1,
          0.2,
          0.5,
          0.7,
          0.8,
          1,
          1.2,
          1.4,
          2,
          5,
          10
         ],
         "y": [
          0.799191784377006,
          0.7790416910526494,
          0.801740646679193,
          0.7998091425002254,
          0.7492084287397243,
          0.7005107432876951,
          0,
          0.6846679748396661,
          0.879756073518376,
          0.9999999999999966,
          0.999999999999997,
          0.9999999999999968
         ]
        },
        {
         "hovertext": "Node: blocks.0.attn.hook_result, head  2, Status: not_in_circuit",
         "line": {
          "color": "orange"
         },
         "mode": "lines+markers",
         "showlegend": false,
         "type": "scatter",
         "x": [
          0,
          0.1,
          0.2,
          0.5,
          0.7,
          0.8,
          1,
          1.2,
          1.4,
          2,
          5,
          10
         ],
         "y": [
          0.9465819295830904,
          0.9389623396342828,
          0.8889359187379713,
          0.8625913550644896,
          0.7465165325477509,
          0.4595848084744667,
          0,
          0.526780979609739,
          0.8255665219307234,
          0.9274429558668904,
          0.9828168051218802,
          0.9891914600185631
         ]
        },
        {
         "hovertext": "Node: blocks.0.attn.hook_result, head  3, Status: not_in_circuit",
         "line": {
          "color": "orange"
         },
         "mode": "lines+markers",
         "showlegend": false,
         "type": "scatter",
         "x": [
          0,
          0.1,
          0.2,
          0.5,
          0.7,
          0.8,
          1,
          1.2,
          1.4,
          2,
          5,
          10
         ],
         "y": [
          0.9676243618302762,
          0.9494770775445625,
          0.9301759987978344,
          0.9084104284624667,
          0.7487104100821995,
          0.5448074840221558,
          0,
          0.491725928799592,
          0.7727194161430693,
          0.8297918689227317,
          0.9183092417023205,
          0.9999999999999968
         ]
        },
        {
         "hovertext": "Node: blocks.1.attn.hook_result, head  2, Status: not_in_circuit",
         "line": {
          "color": "orange"
         },
         "mode": "lines+markers",
         "showlegend": false,
         "type": "scatter",
         "x": [
          0,
          0.1,
          0.2,
          0.5,
          0.7,
          0.8,
          1,
          1.2,
          1.4,
          2,
          5,
          10
         ],
         "y": [
          0.9999999999999968,
          0.9999999999999968,
          0.999999999999997,
          0.9999999999999971,
          0.9778320368952087,
          0.6376306459608186,
          0,
          0.24885594918609238,
          0.9957534978351603,
          0.9999999999999966,
          0.999999999999997,
          0.9999999999999968
         ]
        },
        {
         "hovertext": "Node: blocks.1.attn.hook_result, head  3, Status: not_in_circuit",
         "line": {
          "color": "orange"
         },
         "mode": "lines+markers",
         "showlegend": false,
         "type": "scatter",
         "x": [
          0,
          0.1,
          0.2,
          0.5,
          0.7,
          0.8,
          1,
          1.2,
          1.4,
          2,
          5,
          10
         ],
         "y": [
          0.9999999999999968,
          0.9999999999999968,
          0.999999999999997,
          0.9999999999999971,
          0.999999999999997,
          0.7584185062730763,
          0,
          0.5503397702686612,
          0.9999999999999969,
          0.9999999999999966,
          0.999999999999997,
          0.9999999999999968
         ]
        },
        {
         "hovertext": "Node: blocks.1.mlp.hook_post, Status: not_in_circuit",
         "line": {
          "color": "orange"
         },
         "mode": "lines+markers",
         "showlegend": false,
         "type": "scatter",
         "x": [
          0,
          0.1,
          0.2,
          0.5,
          0.7,
          0.8,
          1,
          1.2,
          1.4,
          2,
          5,
          10
         ],
         "y": [
          0.912676438278388,
          0.9126018397231229,
          0.864674627283373,
          0.8382360677364024,
          0.734122189807298,
          0.5837862321919038,
          0,
          0.6417561421797744,
          0.8157463175470588,
          0.8922960917782464,
          0.9872932081043598,
          0.9949316140386676
         ]
        },
        {
         "hovertext": "Node: blocks.0.mlp.hook_post, Status: in_circuit",
         "line": {
          "color": "green"
         },
         "mode": "lines+markers",
         "showlegend": false,
         "type": "scatter",
         "x": [
          0,
          0.1,
          0.2,
          0.5,
          0.7,
          0.8,
          1,
          1.2,
          1.4,
          2,
          5,
          10
         ],
         "y": [
          0.9054012049550746,
          0.9067586619372823,
          0.9056162401333878,
          0.8944823079325848,
          0.8582971200501971,
          0.7212642176319208,
          0,
          0.7837997840302039,
          0.8482874231113678,
          0.9918868174388754,
          0.9796152574093578,
          0.9999999999999968
         ]
        },
        {
         "hovertext": "Node: blocks.1.attn.hook_result, head  0, Status: in_circuit",
         "line": {
          "color": "green"
         },
         "mode": "lines+markers",
         "showlegend": false,
         "type": "scatter",
         "x": [
          0,
          0.1,
          0.2,
          0.5,
          0.7,
          0.8,
          1,
          1.2,
          1.4,
          2,
          5,
          10
         ],
         "y": [
          0.8903936292727378,
          0.864797751618264,
          0.841608425401276,
          0.7158902603668873,
          0.4595497753290512,
          0.11386087873079923,
          0,
          0.32487510182899115,
          0.7292738410414172,
          0.860316108701482,
          0.9815001876999592,
          0.9852191035226241
         ]
        },
        {
         "hovertext": "Node: blocks.1.attn.hook_result, head  1, Status: in_circuit",
         "line": {
          "color": "green"
         },
         "mode": "lines+markers",
         "showlegend": false,
         "type": "scatter",
         "x": [
          0,
          0.1,
          0.2,
          0.5,
          0.7,
          0.8,
          1,
          1.2,
          1.4,
          2,
          5,
          10
         ],
         "y": [
          0.5457916993648173,
          0.5101688933507855,
          0.46956635318462775,
          0.22895519329321545,
          0,
          0,
          0,
          0,
          0.12927668257087796,
          0.5299438417431487,
          0.7211314707491905,
          0.9460261512493422
         ]
        },
        {
         "marker": {
          "color": "green"
         },
         "mode": "markers",
         "name": "in_circuit",
         "type": "scatter",
         "x": [
          null
         ],
         "y": [
          null
         ]
        },
        {
         "marker": {
          "color": "orange"
         },
         "mode": "markers",
         "name": "not_in_circuit",
         "type": "scatter",
         "x": [
          null
         ],
         "y": [
          null
         ]
        }
       ],
       "layout": {
        "font": {
         "size": 16
        },
        "margin": {
         "b": 70,
         "l": 70,
         "r": 70,
         "t": 70
        },
        "template": {
         "data": {
          "bar": [
           {
            "error_x": {
             "color": "#2a3f5f"
            },
            "error_y": {
             "color": "#2a3f5f"
            },
            "marker": {
             "line": {
              "color": "white",
              "width": 0.5
             },
             "pattern": {
              "fillmode": "overlay",
              "size": 10,
              "solidity": 0.2
             }
            },
            "type": "bar"
           }
          ],
          "barpolar": [
           {
            "marker": {
             "line": {
              "color": "white",
              "width": 0.5
             },
             "pattern": {
              "fillmode": "overlay",
              "size": 10,
              "solidity": 0.2
             }
            },
            "type": "barpolar"
           }
          ],
          "carpet": [
           {
            "aaxis": {
             "endlinecolor": "#2a3f5f",
             "gridcolor": "#C8D4E3",
             "linecolor": "#C8D4E3",
             "minorgridcolor": "#C8D4E3",
             "startlinecolor": "#2a3f5f"
            },
            "baxis": {
             "endlinecolor": "#2a3f5f",
             "gridcolor": "#C8D4E3",
             "linecolor": "#C8D4E3",
             "minorgridcolor": "#C8D4E3",
             "startlinecolor": "#2a3f5f"
            },
            "type": "carpet"
           }
          ],
          "choropleth": [
           {
            "colorbar": {
             "outlinewidth": 0,
             "ticks": ""
            },
            "type": "choropleth"
           }
          ],
          "contour": [
           {
            "colorbar": {
             "outlinewidth": 0,
             "ticks": ""
            },
            "colorscale": [
             [
              0,
              "#0d0887"
             ],
             [
              0.1111111111111111,
              "#46039f"
             ],
             [
              0.2222222222222222,
              "#7201a8"
             ],
             [
              0.3333333333333333,
              "#9c179e"
             ],
             [
              0.4444444444444444,
              "#bd3786"
             ],
             [
              0.5555555555555556,
              "#d8576b"
             ],
             [
              0.6666666666666666,
              "#ed7953"
             ],
             [
              0.7777777777777778,
              "#fb9f3a"
             ],
             [
              0.8888888888888888,
              "#fdca26"
             ],
             [
              1,
              "#f0f921"
             ]
            ],
            "type": "contour"
           }
          ],
          "contourcarpet": [
           {
            "colorbar": {
             "outlinewidth": 0,
             "ticks": ""
            },
            "type": "contourcarpet"
           }
          ],
          "heatmap": [
           {
            "colorbar": {
             "outlinewidth": 0,
             "ticks": ""
            },
            "colorscale": [
             [
              0,
              "#0d0887"
             ],
             [
              0.1111111111111111,
              "#46039f"
             ],
             [
              0.2222222222222222,
              "#7201a8"
             ],
             [
              0.3333333333333333,
              "#9c179e"
             ],
             [
              0.4444444444444444,
              "#bd3786"
             ],
             [
              0.5555555555555556,
              "#d8576b"
             ],
             [
              0.6666666666666666,
              "#ed7953"
             ],
             [
              0.7777777777777778,
              "#fb9f3a"
             ],
             [
              0.8888888888888888,
              "#fdca26"
             ],
             [
              1,
              "#f0f921"
             ]
            ],
            "type": "heatmap"
           }
          ],
          "heatmapgl": [
           {
            "colorbar": {
             "outlinewidth": 0,
             "ticks": ""
            },
            "colorscale": [
             [
              0,
              "#0d0887"
             ],
             [
              0.1111111111111111,
              "#46039f"
             ],
             [
              0.2222222222222222,
              "#7201a8"
             ],
             [
              0.3333333333333333,
              "#9c179e"
             ],
             [
              0.4444444444444444,
              "#bd3786"
             ],
             [
              0.5555555555555556,
              "#d8576b"
             ],
             [
              0.6666666666666666,
              "#ed7953"
             ],
             [
              0.7777777777777778,
              "#fb9f3a"
             ],
             [
              0.8888888888888888,
              "#fdca26"
             ],
             [
              1,
              "#f0f921"
             ]
            ],
            "type": "heatmapgl"
           }
          ],
          "histogram": [
           {
            "marker": {
             "pattern": {
              "fillmode": "overlay",
              "size": 10,
              "solidity": 0.2
             }
            },
            "type": "histogram"
           }
          ],
          "histogram2d": [
           {
            "colorbar": {
             "outlinewidth": 0,
             "ticks": ""
            },
            "colorscale": [
             [
              0,
              "#0d0887"
             ],
             [
              0.1111111111111111,
              "#46039f"
             ],
             [
              0.2222222222222222,
              "#7201a8"
             ],
             [
              0.3333333333333333,
              "#9c179e"
             ],
             [
              0.4444444444444444,
              "#bd3786"
             ],
             [
              0.5555555555555556,
              "#d8576b"
             ],
             [
              0.6666666666666666,
              "#ed7953"
             ],
             [
              0.7777777777777778,
              "#fb9f3a"
             ],
             [
              0.8888888888888888,
              "#fdca26"
             ],
             [
              1,
              "#f0f921"
             ]
            ],
            "type": "histogram2d"
           }
          ],
          "histogram2dcontour": [
           {
            "colorbar": {
             "outlinewidth": 0,
             "ticks": ""
            },
            "colorscale": [
             [
              0,
              "#0d0887"
             ],
             [
              0.1111111111111111,
              "#46039f"
             ],
             [
              0.2222222222222222,
              "#7201a8"
             ],
             [
              0.3333333333333333,
              "#9c179e"
             ],
             [
              0.4444444444444444,
              "#bd3786"
             ],
             [
              0.5555555555555556,
              "#d8576b"
             ],
             [
              0.6666666666666666,
              "#ed7953"
             ],
             [
              0.7777777777777778,
              "#fb9f3a"
             ],
             [
              0.8888888888888888,
              "#fdca26"
             ],
             [
              1,
              "#f0f921"
             ]
            ],
            "type": "histogram2dcontour"
           }
          ],
          "mesh3d": [
           {
            "colorbar": {
             "outlinewidth": 0,
             "ticks": ""
            },
            "type": "mesh3d"
           }
          ],
          "parcoords": [
           {
            "line": {
             "colorbar": {
              "outlinewidth": 0,
              "ticks": ""
             }
            },
            "type": "parcoords"
           }
          ],
          "pie": [
           {
            "automargin": true,
            "type": "pie"
           }
          ],
          "scatter": [
           {
            "fillpattern": {
             "fillmode": "overlay",
             "size": 10,
             "solidity": 0.2
            },
            "type": "scatter"
           }
          ],
          "scatter3d": [
           {
            "line": {
             "colorbar": {
              "outlinewidth": 0,
              "ticks": ""
             }
            },
            "marker": {
             "colorbar": {
              "outlinewidth": 0,
              "ticks": ""
             }
            },
            "type": "scatter3d"
           }
          ],
          "scattercarpet": [
           {
            "marker": {
             "colorbar": {
              "outlinewidth": 0,
              "ticks": ""
             }
            },
            "type": "scattercarpet"
           }
          ],
          "scattergeo": [
           {
            "marker": {
             "colorbar": {
              "outlinewidth": 0,
              "ticks": ""
             }
            },
            "type": "scattergeo"
           }
          ],
          "scattergl": [
           {
            "marker": {
             "colorbar": {
              "outlinewidth": 0,
              "ticks": ""
             }
            },
            "type": "scattergl"
           }
          ],
          "scattermapbox": [
           {
            "marker": {
             "colorbar": {
              "outlinewidth": 0,
              "ticks": ""
             }
            },
            "type": "scattermapbox"
           }
          ],
          "scatterpolar": [
           {
            "marker": {
             "colorbar": {
              "outlinewidth": 0,
              "ticks": ""
             }
            },
            "type": "scatterpolar"
           }
          ],
          "scatterpolargl": [
           {
            "marker": {
             "colorbar": {
              "outlinewidth": 0,
              "ticks": ""
             }
            },
            "type": "scatterpolargl"
           }
          ],
          "scatterternary": [
           {
            "marker": {
             "colorbar": {
              "outlinewidth": 0,
              "ticks": ""
             }
            },
            "type": "scatterternary"
           }
          ],
          "surface": [
           {
            "colorbar": {
             "outlinewidth": 0,
             "ticks": ""
            },
            "colorscale": [
             [
              0,
              "#0d0887"
             ],
             [
              0.1111111111111111,
              "#46039f"
             ],
             [
              0.2222222222222222,
              "#7201a8"
             ],
             [
              0.3333333333333333,
              "#9c179e"
             ],
             [
              0.4444444444444444,
              "#bd3786"
             ],
             [
              0.5555555555555556,
              "#d8576b"
             ],
             [
              0.6666666666666666,
              "#ed7953"
             ],
             [
              0.7777777777777778,
              "#fb9f3a"
             ],
             [
              0.8888888888888888,
              "#fdca26"
             ],
             [
              1,
              "#f0f921"
             ]
            ],
            "type": "surface"
           }
          ],
          "table": [
           {
            "cells": {
             "fill": {
              "color": "#EBF0F8"
             },
             "line": {
              "color": "white"
             }
            },
            "header": {
             "fill": {
              "color": "#C8D4E3"
             },
             "line": {
              "color": "white"
             }
            },
            "type": "table"
           }
          ]
         },
         "layout": {
          "annotationdefaults": {
           "arrowcolor": "#2a3f5f",
           "arrowhead": 0,
           "arrowwidth": 1
          },
          "autotypenumbers": "strict",
          "coloraxis": {
           "colorbar": {
            "outlinewidth": 0,
            "ticks": ""
           }
          },
          "colorscale": {
           "diverging": [
            [
             0,
             "#8e0152"
            ],
            [
             0.1,
             "#c51b7d"
            ],
            [
             0.2,
             "#de77ae"
            ],
            [
             0.3,
             "#f1b6da"
            ],
            [
             0.4,
             "#fde0ef"
            ],
            [
             0.5,
             "#f7f7f7"
            ],
            [
             0.6,
             "#e6f5d0"
            ],
            [
             0.7,
             "#b8e186"
            ],
            [
             0.8,
             "#7fbc41"
            ],
            [
             0.9,
             "#4d9221"
            ],
            [
             1,
             "#276419"
            ]
           ],
           "sequential": [
            [
             0,
             "#0d0887"
            ],
            [
             0.1111111111111111,
             "#46039f"
            ],
            [
             0.2222222222222222,
             "#7201a8"
            ],
            [
             0.3333333333333333,
             "#9c179e"
            ],
            [
             0.4444444444444444,
             "#bd3786"
            ],
            [
             0.5555555555555556,
             "#d8576b"
            ],
            [
             0.6666666666666666,
             "#ed7953"
            ],
            [
             0.7777777777777778,
             "#fb9f3a"
            ],
            [
             0.8888888888888888,
             "#fdca26"
            ],
            [
             1,
             "#f0f921"
            ]
           ],
           "sequentialminus": [
            [
             0,
             "#0d0887"
            ],
            [
             0.1111111111111111,
             "#46039f"
            ],
            [
             0.2222222222222222,
             "#7201a8"
            ],
            [
             0.3333333333333333,
             "#9c179e"
            ],
            [
             0.4444444444444444,
             "#bd3786"
            ],
            [
             0.5555555555555556,
             "#d8576b"
            ],
            [
             0.6666666666666666,
             "#ed7953"
            ],
            [
             0.7777777777777778,
             "#fb9f3a"
            ],
            [
             0.8888888888888888,
             "#fdca26"
            ],
            [
             1,
             "#f0f921"
            ]
           ]
          },
          "colorway": [
           "#636efa",
           "#EF553B",
           "#00cc96",
           "#ab63fa",
           "#FFA15A",
           "#19d3f3",
           "#FF6692",
           "#B6E880",
           "#FF97FF",
           "#FECB52"
          ],
          "font": {
           "color": "#2a3f5f"
          },
          "geo": {
           "bgcolor": "white",
           "lakecolor": "white",
           "landcolor": "white",
           "showlakes": true,
           "showland": true,
           "subunitcolor": "#C8D4E3"
          },
          "hoverlabel": {
           "align": "left"
          },
          "hovermode": "closest",
          "mapbox": {
           "style": "light"
          },
          "paper_bgcolor": "white",
          "plot_bgcolor": "white",
          "polar": {
           "angularaxis": {
            "gridcolor": "#EBF0F8",
            "linecolor": "#EBF0F8",
            "ticks": ""
           },
           "bgcolor": "white",
           "radialaxis": {
            "gridcolor": "#EBF0F8",
            "linecolor": "#EBF0F8",
            "ticks": ""
           }
          },
          "scene": {
           "xaxis": {
            "backgroundcolor": "white",
            "gridcolor": "#DFE8F3",
            "gridwidth": 2,
            "linecolor": "#EBF0F8",
            "showbackground": true,
            "ticks": "",
            "zerolinecolor": "#EBF0F8"
           },
           "yaxis": {
            "backgroundcolor": "white",
            "gridcolor": "#DFE8F3",
            "gridwidth": 2,
            "linecolor": "#EBF0F8",
            "showbackground": true,
            "ticks": "",
            "zerolinecolor": "#EBF0F8"
           },
           "zaxis": {
            "backgroundcolor": "white",
            "gridcolor": "#DFE8F3",
            "gridwidth": 2,
            "linecolor": "#EBF0F8",
            "showbackground": true,
            "ticks": "",
            "zerolinecolor": "#EBF0F8"
           }
          },
          "shapedefaults": {
           "line": {
            "color": "#2a3f5f"
           }
          },
          "ternary": {
           "aaxis": {
            "gridcolor": "#DFE8F3",
            "linecolor": "#A2B1C6",
            "ticks": ""
           },
           "baxis": {
            "gridcolor": "#DFE8F3",
            "linecolor": "#A2B1C6",
            "ticks": ""
           },
           "bgcolor": "white",
           "caxis": {
            "gridcolor": "#DFE8F3",
            "linecolor": "#A2B1C6",
            "ticks": ""
           }
          },
          "title": {
           "x": 0.05
          },
          "xaxis": {
           "automargin": true,
           "gridcolor": "#EBF0F8",
           "linecolor": "#EBF0F8",
           "ticks": "",
           "title": {
            "standoff": 15
           },
           "zerolinecolor": "#EBF0F8",
           "zerolinewidth": 2
          },
          "yaxis": {
           "automargin": true,
           "gridcolor": "#EBF0F8",
           "linecolor": "#EBF0F8",
           "ticks": "",
           "title": {
            "standoff": 15
           },
           "zerolinecolor": "#EBF0F8",
           "zerolinewidth": 2
          }
         }
        },
        "xaxis": {
         "showgrid": false,
         "title": {
          "text": "Scale"
         }
        },
        "yaxis": {
         "showgrid": false,
         "title": {
          "text": "Causal Effect"
         }
        }
       }
      }
     },
     "metadata": {},
     "output_type": "display_data"
    }
   ],
   "source": [
    "# sort by status\n",
    "combined_scales_df_orthogonal = combined_scales_df_orthogonal.sort_values(by=\"status\", ascending=False)\n",
    "combined_scales_df_orthogonal.rename(columns={\"scale 0.0_y\": \"scale 0.0\"}, inplace=True)\n",
    "plot_causal_effect(combined_scales_df_orthogonal, scales, f\"causal_effect_scale_orthogonal_{task.get_index()}\")"
   ]
  },
  {
   "cell_type": "code",
   "execution_count": 101,
   "metadata": {},
   "outputs": [],
   "source": [
    "%%capture\n",
    "def hook_maker(model_pair, ll_node: LLNode, scale: float) -> Callable[[Tensor, HookPoint], Tensor]:\n",
    "    return make_ll_ablation_hook_scale_activations_with_variance(model_pair, ll_node, pca_dirs, scale, self_patch=False, ablate_high_variance=False)\n",
    "combined_scales_df_orthogonal = get_effects_for_scales(model_pair, unique_test_data, hook_maker, scales=scales)"
   ]
  },
  {
   "cell_type": "code",
   "execution_count": 102,
   "metadata": {},
   "outputs": [
    {
     "name": "stderr",
     "output_type": "stream",
     "text": [
      "/Users/cybershiptrooper/src/interpretability/MATS/.iit/lib/python3.11/site-packages/plotly/graph_objs/_deprecations.py:378: DeprecationWarning:\n",
      "\n",
      "plotly.graph_objs.Line is deprecated.\n",
      "Please replace it with one of the following more specific types\n",
      "  - plotly.graph_objs.scatter.Line\n",
      "  - plotly.graph_objs.layout.shape.Line\n",
      "  - etc.\n",
      "\n",
      "\n"
     ]
    },
    {
     "data": {
      "application/vnd.plotly.v1+json": {
       "config": {
        "plotlyServerURL": "https://plot.ly"
       },
       "data": [
        {
         "hovertext": "Node: blocks.0.attn.hook_result, head  0, Status: not_in_circuit",
         "line": {
          "color": "orange"
         },
         "mode": "lines+markers",
         "showlegend": false,
         "type": "scatter",
         "x": [
          0,
          0.1,
          0.2,
          0.5,
          0.7,
          0.8,
          1,
          1.2,
          1.4,
          2,
          5,
          10
         ],
         "y": [
          0.9999999999999968,
          0.9999999999999969,
          0.9999999999999966,
          0.999999999999997,
          0.9643436860223054,
          0.821529238639477,
          0.8695462236140172,
          0.7632376490369948,
          0.9445112807497884,
          0.9871865277956494,
          0.9999999999999969,
          0.999999999999997
         ]
        },
        {
         "hovertext": "Node: blocks.0.attn.hook_result, head  1, Status: not_in_circuit",
         "line": {
          "color": "orange"
         },
         "mode": "lines+markers",
         "showlegend": false,
         "type": "scatter",
         "x": [
          0,
          0.1,
          0.2,
          0.5,
          0.7,
          0.8,
          1,
          1.2,
          1.4,
          2,
          5,
          10
         ],
         "y": [
          0.798687153916659,
          0.8122992962298539,
          0.836743118907282,
          0.7726937089267549,
          0.8904934760917257,
          0.9148933850076062,
          0.9363814873556042,
          0.9293902411231056,
          0.9245921096398634,
          0.8870626072143263,
          0.9942477647729995,
          0.9987597425054179
         ]
        },
        {
         "hovertext": "Node: blocks.0.attn.hook_result, head  2, Status: not_in_circuit",
         "line": {
          "color": "orange"
         },
         "mode": "lines+markers",
         "showlegend": false,
         "type": "scatter",
         "x": [
          0,
          0.1,
          0.2,
          0.5,
          0.7,
          0.8,
          1,
          1.2,
          1.4,
          2,
          5,
          10
         ],
         "y": [
          0.9473776567510082,
          0.8928764839374888,
          0.8731685957970804,
          0.8371384754299127,
          0.8511029843818507,
          0.869015802353297,
          0.887899069098744,
          0.8894644696196757,
          0.8997969472901165,
          0.9002916745467278,
          0.9668809873273302,
          0.9822789842739266
         ]
        },
        {
         "hovertext": "Node: blocks.0.attn.hook_result, head  3, Status: not_in_circuit",
         "line": {
          "color": "orange"
         },
         "mode": "lines+markers",
         "showlegend": false,
         "type": "scatter",
         "x": [
          0,
          0.1,
          0.2,
          0.5,
          0.7,
          0.8,
          1,
          1.2,
          1.4,
          2,
          5,
          10
         ],
         "y": [
          0.9667344704087802,
          0.9463029762264574,
          0.8982652920246516,
          0.7926000610225953,
          0.8310849310976244,
          0.8301901083040562,
          0.8126738316215991,
          0.8274532697864627,
          0.841694277515982,
          0.8690109186670366,
          0.9702389737167796,
          0.9948418204230365
         ]
        },
        {
         "hovertext": "Node: blocks.1.attn.hook_result, head  2, Status: not_in_circuit",
         "line": {
          "color": "orange"
         },
         "mode": "lines+markers",
         "showlegend": false,
         "type": "scatter",
         "x": [
          0,
          0.1,
          0.2,
          0.5,
          0.7,
          0.8,
          1,
          1.2,
          1.4,
          2,
          5,
          10
         ],
         "y": [
          0.9999999999999968,
          0.9999999999999969,
          0.9999999999999966,
          0.9934299144349087,
          0.8095693458903209,
          0.6128082615394553,
          0.44860323088975035,
          0.5774741427284654,
          0.7455395487299141,
          0.8692115604159767,
          0.9999999999999969,
          0.999999999999997
         ]
        },
        {
         "hovertext": "Node: blocks.1.attn.hook_result, head  3, Status: not_in_circuit",
         "line": {
          "color": "orange"
         },
         "mode": "lines+markers",
         "showlegend": false,
         "type": "scatter",
         "x": [
          0,
          0.1,
          0.2,
          0.5,
          0.7,
          0.8,
          1,
          1.2,
          1.4,
          2,
          5,
          10
         ],
         "y": [
          0.9999999999999968,
          0.9999999999999969,
          0.9999999999999966,
          0.9987694062019117,
          0.6464210895284398,
          0.5169787005784875,
          0.6662132289992225,
          0.6363942637896761,
          0.6752680440035661,
          0.8849007656003929,
          0.9999999999999969,
          0.999999999999997
         ]
        },
        {
         "hovertext": "Node: blocks.1.mlp.hook_post, Status: not_in_circuit",
         "line": {
          "color": "orange"
         },
         "mode": "lines+markers",
         "showlegend": false,
         "type": "scatter",
         "x": [
          0,
          0.1,
          0.2,
          0.5,
          0.7,
          0.8,
          1,
          1.2,
          1.4,
          2,
          5,
          10
         ],
         "y": [
          0.910979088842553,
          0.9187053708415484,
          0.9469175619637297,
          0.9572275363806073,
          0.9877991500831227,
          0.994434353179692,
          0.9963046155791431,
          0.9964859811418174,
          0.9905414645276047,
          0.9802473156791431,
          0.985563985353479,
          0.9929626528249562
         ]
        },
        {
         "hovertext": "Node: blocks.0.mlp.hook_post, Status: in_circuit",
         "line": {
          "color": "green"
         },
         "mode": "lines+markers",
         "showlegend": false,
         "type": "scatter",
         "x": [
          0,
          0.1,
          0.2,
          0.5,
          0.7,
          0.8,
          1,
          1.2,
          1.4,
          2,
          5,
          10
         ],
         "y": [
          0.9070460137167055,
          0.9214073752099827,
          0.9846073527193598,
          0.9811931014972677,
          0.9869249041746635,
          0.9809587449751113,
          0.982811645941815,
          0.9876556443126596,
          0.9826217750079708,
          0.9943920117285832,
          0.9959968665804447,
          0.9988387904533179
         ]
        },
        {
         "hovertext": "Node: blocks.1.attn.hook_result, head  0, Status: in_circuit",
         "line": {
          "color": "green"
         },
         "mode": "lines+markers",
         "showlegend": false,
         "type": "scatter",
         "x": [
          0,
          0.1,
          0.2,
          0.5,
          0.7,
          0.8,
          1,
          1.2,
          1.4,
          2,
          5,
          10
         ],
         "y": [
          0.8925324457413959,
          0.8251896406686984,
          0.7955765356009538,
          0.8406286051282792,
          0.9597759337920309,
          0.9996498881053659,
          0.999999999999997,
          0.9926939206357753,
          0.9590856664046169,
          0.9052778537324486,
          0.9521376715761838,
          0.9994822907956089
         ]
        },
        {
         "hovertext": "Node: blocks.1.attn.hook_result, head  1, Status: in_circuit",
         "line": {
          "color": "green"
         },
         "mode": "lines+markers",
         "showlegend": false,
         "type": "scatter",
         "x": [
          0,
          0.1,
          0.2,
          0.5,
          0.7,
          0.8,
          1,
          1.2,
          1.4,
          2,
          5,
          10
         ],
         "y": [
          0.5466710023276261,
          0.5154147141051412,
          0.4015614806594829,
          0.2382749331972111,
          0.17745073619676757,
          0.2243538397999269,
          0.18124041805587404,
          0.2168128038434158,
          0.27616677743225054,
          0.429458112749504,
          0.6605677345548752,
          0.9216358926561911
         ]
        },
        {
         "marker": {
          "color": "green"
         },
         "mode": "markers",
         "name": "in_circuit",
         "type": "scatter",
         "x": [
          null
         ],
         "y": [
          null
         ]
        },
        {
         "marker": {
          "color": "orange"
         },
         "mode": "markers",
         "name": "not_in_circuit",
         "type": "scatter",
         "x": [
          null
         ],
         "y": [
          null
         ]
        }
       ],
       "layout": {
        "font": {
         "size": 16
        },
        "margin": {
         "b": 70,
         "l": 70,
         "r": 70,
         "t": 70
        },
        "template": {
         "data": {
          "bar": [
           {
            "error_x": {
             "color": "#2a3f5f"
            },
            "error_y": {
             "color": "#2a3f5f"
            },
            "marker": {
             "line": {
              "color": "white",
              "width": 0.5
             },
             "pattern": {
              "fillmode": "overlay",
              "size": 10,
              "solidity": 0.2
             }
            },
            "type": "bar"
           }
          ],
          "barpolar": [
           {
            "marker": {
             "line": {
              "color": "white",
              "width": 0.5
             },
             "pattern": {
              "fillmode": "overlay",
              "size": 10,
              "solidity": 0.2
             }
            },
            "type": "barpolar"
           }
          ],
          "carpet": [
           {
            "aaxis": {
             "endlinecolor": "#2a3f5f",
             "gridcolor": "#C8D4E3",
             "linecolor": "#C8D4E3",
             "minorgridcolor": "#C8D4E3",
             "startlinecolor": "#2a3f5f"
            },
            "baxis": {
             "endlinecolor": "#2a3f5f",
             "gridcolor": "#C8D4E3",
             "linecolor": "#C8D4E3",
             "minorgridcolor": "#C8D4E3",
             "startlinecolor": "#2a3f5f"
            },
            "type": "carpet"
           }
          ],
          "choropleth": [
           {
            "colorbar": {
             "outlinewidth": 0,
             "ticks": ""
            },
            "type": "choropleth"
           }
          ],
          "contour": [
           {
            "colorbar": {
             "outlinewidth": 0,
             "ticks": ""
            },
            "colorscale": [
             [
              0,
              "#0d0887"
             ],
             [
              0.1111111111111111,
              "#46039f"
             ],
             [
              0.2222222222222222,
              "#7201a8"
             ],
             [
              0.3333333333333333,
              "#9c179e"
             ],
             [
              0.4444444444444444,
              "#bd3786"
             ],
             [
              0.5555555555555556,
              "#d8576b"
             ],
             [
              0.6666666666666666,
              "#ed7953"
             ],
             [
              0.7777777777777778,
              "#fb9f3a"
             ],
             [
              0.8888888888888888,
              "#fdca26"
             ],
             [
              1,
              "#f0f921"
             ]
            ],
            "type": "contour"
           }
          ],
          "contourcarpet": [
           {
            "colorbar": {
             "outlinewidth": 0,
             "ticks": ""
            },
            "type": "contourcarpet"
           }
          ],
          "heatmap": [
           {
            "colorbar": {
             "outlinewidth": 0,
             "ticks": ""
            },
            "colorscale": [
             [
              0,
              "#0d0887"
             ],
             [
              0.1111111111111111,
              "#46039f"
             ],
             [
              0.2222222222222222,
              "#7201a8"
             ],
             [
              0.3333333333333333,
              "#9c179e"
             ],
             [
              0.4444444444444444,
              "#bd3786"
             ],
             [
              0.5555555555555556,
              "#d8576b"
             ],
             [
              0.6666666666666666,
              "#ed7953"
             ],
             [
              0.7777777777777778,
              "#fb9f3a"
             ],
             [
              0.8888888888888888,
              "#fdca26"
             ],
             [
              1,
              "#f0f921"
             ]
            ],
            "type": "heatmap"
           }
          ],
          "heatmapgl": [
           {
            "colorbar": {
             "outlinewidth": 0,
             "ticks": ""
            },
            "colorscale": [
             [
              0,
              "#0d0887"
             ],
             [
              0.1111111111111111,
              "#46039f"
             ],
             [
              0.2222222222222222,
              "#7201a8"
             ],
             [
              0.3333333333333333,
              "#9c179e"
             ],
             [
              0.4444444444444444,
              "#bd3786"
             ],
             [
              0.5555555555555556,
              "#d8576b"
             ],
             [
              0.6666666666666666,
              "#ed7953"
             ],
             [
              0.7777777777777778,
              "#fb9f3a"
             ],
             [
              0.8888888888888888,
              "#fdca26"
             ],
             [
              1,
              "#f0f921"
             ]
            ],
            "type": "heatmapgl"
           }
          ],
          "histogram": [
           {
            "marker": {
             "pattern": {
              "fillmode": "overlay",
              "size": 10,
              "solidity": 0.2
             }
            },
            "type": "histogram"
           }
          ],
          "histogram2d": [
           {
            "colorbar": {
             "outlinewidth": 0,
             "ticks": ""
            },
            "colorscale": [
             [
              0,
              "#0d0887"
             ],
             [
              0.1111111111111111,
              "#46039f"
             ],
             [
              0.2222222222222222,
              "#7201a8"
             ],
             [
              0.3333333333333333,
              "#9c179e"
             ],
             [
              0.4444444444444444,
              "#bd3786"
             ],
             [
              0.5555555555555556,
              "#d8576b"
             ],
             [
              0.6666666666666666,
              "#ed7953"
             ],
             [
              0.7777777777777778,
              "#fb9f3a"
             ],
             [
              0.8888888888888888,
              "#fdca26"
             ],
             [
              1,
              "#f0f921"
             ]
            ],
            "type": "histogram2d"
           }
          ],
          "histogram2dcontour": [
           {
            "colorbar": {
             "outlinewidth": 0,
             "ticks": ""
            },
            "colorscale": [
             [
              0,
              "#0d0887"
             ],
             [
              0.1111111111111111,
              "#46039f"
             ],
             [
              0.2222222222222222,
              "#7201a8"
             ],
             [
              0.3333333333333333,
              "#9c179e"
             ],
             [
              0.4444444444444444,
              "#bd3786"
             ],
             [
              0.5555555555555556,
              "#d8576b"
             ],
             [
              0.6666666666666666,
              "#ed7953"
             ],
             [
              0.7777777777777778,
              "#fb9f3a"
             ],
             [
              0.8888888888888888,
              "#fdca26"
             ],
             [
              1,
              "#f0f921"
             ]
            ],
            "type": "histogram2dcontour"
           }
          ],
          "mesh3d": [
           {
            "colorbar": {
             "outlinewidth": 0,
             "ticks": ""
            },
            "type": "mesh3d"
           }
          ],
          "parcoords": [
           {
            "line": {
             "colorbar": {
              "outlinewidth": 0,
              "ticks": ""
             }
            },
            "type": "parcoords"
           }
          ],
          "pie": [
           {
            "automargin": true,
            "type": "pie"
           }
          ],
          "scatter": [
           {
            "fillpattern": {
             "fillmode": "overlay",
             "size": 10,
             "solidity": 0.2
            },
            "type": "scatter"
           }
          ],
          "scatter3d": [
           {
            "line": {
             "colorbar": {
              "outlinewidth": 0,
              "ticks": ""
             }
            },
            "marker": {
             "colorbar": {
              "outlinewidth": 0,
              "ticks": ""
             }
            },
            "type": "scatter3d"
           }
          ],
          "scattercarpet": [
           {
            "marker": {
             "colorbar": {
              "outlinewidth": 0,
              "ticks": ""
             }
            },
            "type": "scattercarpet"
           }
          ],
          "scattergeo": [
           {
            "marker": {
             "colorbar": {
              "outlinewidth": 0,
              "ticks": ""
             }
            },
            "type": "scattergeo"
           }
          ],
          "scattergl": [
           {
            "marker": {
             "colorbar": {
              "outlinewidth": 0,
              "ticks": ""
             }
            },
            "type": "scattergl"
           }
          ],
          "scattermapbox": [
           {
            "marker": {
             "colorbar": {
              "outlinewidth": 0,
              "ticks": ""
             }
            },
            "type": "scattermapbox"
           }
          ],
          "scatterpolar": [
           {
            "marker": {
             "colorbar": {
              "outlinewidth": 0,
              "ticks": ""
             }
            },
            "type": "scatterpolar"
           }
          ],
          "scatterpolargl": [
           {
            "marker": {
             "colorbar": {
              "outlinewidth": 0,
              "ticks": ""
             }
            },
            "type": "scatterpolargl"
           }
          ],
          "scatterternary": [
           {
            "marker": {
             "colorbar": {
              "outlinewidth": 0,
              "ticks": ""
             }
            },
            "type": "scatterternary"
           }
          ],
          "surface": [
           {
            "colorbar": {
             "outlinewidth": 0,
             "ticks": ""
            },
            "colorscale": [
             [
              0,
              "#0d0887"
             ],
             [
              0.1111111111111111,
              "#46039f"
             ],
             [
              0.2222222222222222,
              "#7201a8"
             ],
             [
              0.3333333333333333,
              "#9c179e"
             ],
             [
              0.4444444444444444,
              "#bd3786"
             ],
             [
              0.5555555555555556,
              "#d8576b"
             ],
             [
              0.6666666666666666,
              "#ed7953"
             ],
             [
              0.7777777777777778,
              "#fb9f3a"
             ],
             [
              0.8888888888888888,
              "#fdca26"
             ],
             [
              1,
              "#f0f921"
             ]
            ],
            "type": "surface"
           }
          ],
          "table": [
           {
            "cells": {
             "fill": {
              "color": "#EBF0F8"
             },
             "line": {
              "color": "white"
             }
            },
            "header": {
             "fill": {
              "color": "#C8D4E3"
             },
             "line": {
              "color": "white"
             }
            },
            "type": "table"
           }
          ]
         },
         "layout": {
          "annotationdefaults": {
           "arrowcolor": "#2a3f5f",
           "arrowhead": 0,
           "arrowwidth": 1
          },
          "autotypenumbers": "strict",
          "coloraxis": {
           "colorbar": {
            "outlinewidth": 0,
            "ticks": ""
           }
          },
          "colorscale": {
           "diverging": [
            [
             0,
             "#8e0152"
            ],
            [
             0.1,
             "#c51b7d"
            ],
            [
             0.2,
             "#de77ae"
            ],
            [
             0.3,
             "#f1b6da"
            ],
            [
             0.4,
             "#fde0ef"
            ],
            [
             0.5,
             "#f7f7f7"
            ],
            [
             0.6,
             "#e6f5d0"
            ],
            [
             0.7,
             "#b8e186"
            ],
            [
             0.8,
             "#7fbc41"
            ],
            [
             0.9,
             "#4d9221"
            ],
            [
             1,
             "#276419"
            ]
           ],
           "sequential": [
            [
             0,
             "#0d0887"
            ],
            [
             0.1111111111111111,
             "#46039f"
            ],
            [
             0.2222222222222222,
             "#7201a8"
            ],
            [
             0.3333333333333333,
             "#9c179e"
            ],
            [
             0.4444444444444444,
             "#bd3786"
            ],
            [
             0.5555555555555556,
             "#d8576b"
            ],
            [
             0.6666666666666666,
             "#ed7953"
            ],
            [
             0.7777777777777778,
             "#fb9f3a"
            ],
            [
             0.8888888888888888,
             "#fdca26"
            ],
            [
             1,
             "#f0f921"
            ]
           ],
           "sequentialminus": [
            [
             0,
             "#0d0887"
            ],
            [
             0.1111111111111111,
             "#46039f"
            ],
            [
             0.2222222222222222,
             "#7201a8"
            ],
            [
             0.3333333333333333,
             "#9c179e"
            ],
            [
             0.4444444444444444,
             "#bd3786"
            ],
            [
             0.5555555555555556,
             "#d8576b"
            ],
            [
             0.6666666666666666,
             "#ed7953"
            ],
            [
             0.7777777777777778,
             "#fb9f3a"
            ],
            [
             0.8888888888888888,
             "#fdca26"
            ],
            [
             1,
             "#f0f921"
            ]
           ]
          },
          "colorway": [
           "#636efa",
           "#EF553B",
           "#00cc96",
           "#ab63fa",
           "#FFA15A",
           "#19d3f3",
           "#FF6692",
           "#B6E880",
           "#FF97FF",
           "#FECB52"
          ],
          "font": {
           "color": "#2a3f5f"
          },
          "geo": {
           "bgcolor": "white",
           "lakecolor": "white",
           "landcolor": "white",
           "showlakes": true,
           "showland": true,
           "subunitcolor": "#C8D4E3"
          },
          "hoverlabel": {
           "align": "left"
          },
          "hovermode": "closest",
          "mapbox": {
           "style": "light"
          },
          "paper_bgcolor": "white",
          "plot_bgcolor": "white",
          "polar": {
           "angularaxis": {
            "gridcolor": "#EBF0F8",
            "linecolor": "#EBF0F8",
            "ticks": ""
           },
           "bgcolor": "white",
           "radialaxis": {
            "gridcolor": "#EBF0F8",
            "linecolor": "#EBF0F8",
            "ticks": ""
           }
          },
          "scene": {
           "xaxis": {
            "backgroundcolor": "white",
            "gridcolor": "#DFE8F3",
            "gridwidth": 2,
            "linecolor": "#EBF0F8",
            "showbackground": true,
            "ticks": "",
            "zerolinecolor": "#EBF0F8"
           },
           "yaxis": {
            "backgroundcolor": "white",
            "gridcolor": "#DFE8F3",
            "gridwidth": 2,
            "linecolor": "#EBF0F8",
            "showbackground": true,
            "ticks": "",
            "zerolinecolor": "#EBF0F8"
           },
           "zaxis": {
            "backgroundcolor": "white",
            "gridcolor": "#DFE8F3",
            "gridwidth": 2,
            "linecolor": "#EBF0F8",
            "showbackground": true,
            "ticks": "",
            "zerolinecolor": "#EBF0F8"
           }
          },
          "shapedefaults": {
           "line": {
            "color": "#2a3f5f"
           }
          },
          "ternary": {
           "aaxis": {
            "gridcolor": "#DFE8F3",
            "linecolor": "#A2B1C6",
            "ticks": ""
           },
           "baxis": {
            "gridcolor": "#DFE8F3",
            "linecolor": "#A2B1C6",
            "ticks": ""
           },
           "bgcolor": "white",
           "caxis": {
            "gridcolor": "#DFE8F3",
            "linecolor": "#A2B1C6",
            "ticks": ""
           }
          },
          "title": {
           "x": 0.05
          },
          "xaxis": {
           "automargin": true,
           "gridcolor": "#EBF0F8",
           "linecolor": "#EBF0F8",
           "ticks": "",
           "title": {
            "standoff": 15
           },
           "zerolinecolor": "#EBF0F8",
           "zerolinewidth": 2
          },
          "yaxis": {
           "automargin": true,
           "gridcolor": "#EBF0F8",
           "linecolor": "#EBF0F8",
           "ticks": "",
           "title": {
            "standoff": 15
           },
           "zerolinecolor": "#EBF0F8",
           "zerolinewidth": 2
          }
         }
        },
        "xaxis": {
         "showgrid": false,
         "title": {
          "text": "Scale"
         }
        },
        "yaxis": {
         "showgrid": false,
         "title": {
          "text": "Causal Effect"
         }
        }
       }
      }
     },
     "metadata": {},
     "output_type": "display_data"
    }
   ],
   "source": [
    "# sort by status\n",
    "combined_scales_df_orthogonal = combined_scales_df_orthogonal.sort_values(by=\"status\", ascending=False)\n",
    "combined_scales_df_orthogonal.rename(columns={\"scale 0.0_y\": \"scale 0.0\"}, inplace=True)\n",
    "plot_causal_effect(combined_scales_df_orthogonal, scales, f\"causal_effect_scale_orthogonal_{task.get_index()}\")"
   ]
  },
  {
   "cell_type": "code",
   "execution_count": 103,
   "metadata": {},
   "outputs": [],
   "source": [
    "%%capture\n",
    "def hook_maker(model_pair, ll_node: LLNode, scale: float) -> Callable[[Tensor, HookPoint], Tensor]:\n",
    "    return make_ll_ablation_hook_scale_activations_with_variance(model_pair, ll_node, pca_dirs, scale, self_patch=True, ablate_high_variance=True)\n",
    "combined_scales_df_orthogonal = get_effects_for_scales(model_pair, unique_test_data, hook_maker, scales=scales)"
   ]
  },
  {
   "cell_type": "code",
   "execution_count": 104,
   "metadata": {},
   "outputs": [
    {
     "name": "stderr",
     "output_type": "stream",
     "text": [
      "/Users/cybershiptrooper/src/interpretability/MATS/.iit/lib/python3.11/site-packages/plotly/graph_objs/_deprecations.py:378: DeprecationWarning:\n",
      "\n",
      "plotly.graph_objs.Line is deprecated.\n",
      "Please replace it with one of the following more specific types\n",
      "  - plotly.graph_objs.scatter.Line\n",
      "  - plotly.graph_objs.layout.shape.Line\n",
      "  - etc.\n",
      "\n",
      "\n"
     ]
    },
    {
     "data": {
      "application/vnd.plotly.v1+json": {
       "config": {
        "plotlyServerURL": "https://plot.ly"
       },
       "data": [
        {
         "hovertext": "Node: blocks.0.attn.hook_result, head  0, Status: not_in_circuit",
         "line": {
          "color": "orange"
         },
         "mode": "lines+markers",
         "showlegend": false,
         "type": "scatter",
         "x": [
          0,
          0.1,
          0.2,
          0.5,
          0.7,
          0.8,
          1,
          1.2,
          1.4,
          2,
          5,
          10
         ],
         "y": [
          0.9999999999999969,
          0.9999999999999969,
          0.999999999999997,
          0.9999999999999969,
          0.977106972772948,
          0.9765634082859825,
          0,
          0.9753333792354149,
          0.9771205384802996,
          0.9999999999999967,
          0.999999999999997,
          0.999999999999997
         ]
        },
        {
         "hovertext": "Node: blocks.0.attn.hook_result, head  1, Status: not_in_circuit",
         "line": {
          "color": "orange"
         },
         "mode": "lines+markers",
         "showlegend": false,
         "type": "scatter",
         "x": [
          0,
          0.1,
          0.2,
          0.5,
          0.7,
          0.8,
          1,
          1.2,
          1.4,
          2,
          5,
          10
         ],
         "y": [
          0.9999999999999969,
          0.9999999999999969,
          0.999999999999997,
          0.8896763155538945,
          0.7242339575627434,
          0.6425911403817837,
          0,
          0.6554712897414801,
          0.7386781394862058,
          0.8129978192894078,
          0.9573920035115988,
          0.9972898799014158
         ]
        },
        {
         "hovertext": "Node: blocks.0.attn.hook_result, head  2, Status: not_in_circuit",
         "line": {
          "color": "orange"
         },
         "mode": "lines+markers",
         "showlegend": false,
         "type": "scatter",
         "x": [
          0,
          0.1,
          0.2,
          0.5,
          0.7,
          0.8,
          1,
          1.2,
          1.4,
          2,
          5,
          10
         ],
         "y": [
          0.8572586713941509,
          0.8618929122521062,
          0.8489874559561271,
          0.7790201483116191,
          0.5910911941634831,
          0.413957716472799,
          0,
          0.3521884939289359,
          0.6121726027249437,
          0.8597795517098643,
          0.9665425355161212,
          0.9780771088408838
         ]
        },
        {
         "hovertext": "Node: blocks.0.attn.hook_result, head  3, Status: not_in_circuit",
         "line": {
          "color": "orange"
         },
         "mode": "lines+markers",
         "showlegend": false,
         "type": "scatter",
         "x": [
          0,
          0.1,
          0.2,
          0.5,
          0.7,
          0.8,
          1,
          1.2,
          1.4,
          2,
          5,
          10
         ],
         "y": [
          0.8265990554086871,
          0.7902484529087502,
          0.7864401994209345,
          0.7196283210033044,
          0.5774822822520063,
          0.48080334989066076,
          0,
          0.4714187512510595,
          0.8683306367806195,
          0.9323863466439035,
          0.999999999999997,
          0.999999999999997
         ]
        },
        {
         "hovertext": "Node: blocks.1.attn.hook_result, head  2, Status: not_in_circuit",
         "line": {
          "color": "orange"
         },
         "mode": "lines+markers",
         "showlegend": false,
         "type": "scatter",
         "x": [
          0,
          0.1,
          0.2,
          0.5,
          0.7,
          0.8,
          1,
          1.2,
          1.4,
          2,
          5,
          10
         ],
         "y": [
          0.3847492597009405,
          0.3699061634729662,
          0.22424092350766484,
          0.17984643781715495,
          0.0755833937537482,
          0,
          0,
          0.03990191030934013,
          0.15881252845745306,
          0.2861120906655098,
          0.58975672574452,
          0.8479337567158358
         ]
        },
        {
         "hovertext": "Node: blocks.1.attn.hook_result, head  3, Status: not_in_circuit",
         "line": {
          "color": "orange"
         },
         "mode": "lines+markers",
         "showlegend": false,
         "type": "scatter",
         "x": [
          0,
          0.1,
          0.2,
          0.5,
          0.7,
          0.8,
          1,
          1.2,
          1.4,
          2,
          5,
          10
         ],
         "y": [
          0.4817980697476655,
          0.4710662152294707,
          0.4352928742800043,
          0.16807198144939456,
          0,
          0,
          0,
          0,
          0.24767335100512533,
          0.646103213598207,
          0.8889386096106605,
          0.9063089586127147
         ]
        },
        {
         "hovertext": "Node: blocks.1.mlp.hook_post, Status: not_in_circuit",
         "line": {
          "color": "orange"
         },
         "mode": "lines+markers",
         "showlegend": false,
         "type": "scatter",
         "x": [
          0,
          0.1,
          0.2,
          0.5,
          0.7,
          0.8,
          1,
          1.2,
          1.4,
          2,
          5,
          10
         ],
         "y": [
          0.9770569046326801,
          0.9702792909019143,
          0.9599695251793474,
          0.900797308418877,
          0.8224943750505813,
          0.7709500088620036,
          0,
          0.7527150158877842,
          0.8481513352542855,
          0.9777408860367764,
          0.999999999999997,
          0.999999999999997
         ]
        },
        {
         "hovertext": "Node: blocks.0.mlp.hook_post, Status: in_circuit",
         "line": {
          "color": "green"
         },
         "mode": "lines+markers",
         "showlegend": false,
         "type": "scatter",
         "x": [
          0,
          0.1,
          0.2,
          0.5,
          0.7,
          0.8,
          1,
          1.2,
          1.4,
          2,
          5,
          10
         ],
         "y": [
          0.866908633767723,
          0.8823329848846235,
          0.8808300470956716,
          0.9068114805247303,
          0.8535881373436339,
          0.8238800689430466,
          0,
          0.8011776130004176,
          0.9465064927616915,
          0.9845005140425717,
          0.9999999999999969,
          0.9999999999999969
         ]
        },
        {
         "hovertext": "Node: blocks.1.attn.hook_result, head  0, Status: in_circuit",
         "line": {
          "color": "green"
         },
         "mode": "lines+markers",
         "showlegend": false,
         "type": "scatter",
         "x": [
          0,
          0.1,
          0.2,
          0.5,
          0.7,
          0.8,
          1,
          1.2,
          1.4,
          2,
          5,
          10
         ],
         "y": [
          0.656054715326012,
          0.6338504506243887,
          0.6185514905354618,
          0.5030922250800214,
          0.29425403343510675,
          0.17831558131621064,
          0,
          0.311430547541133,
          0.5819362438910873,
          0.7880611200599714,
          0.8569396731316915,
          0.8851996254157823
         ]
        },
        {
         "hovertext": "Node: blocks.1.attn.hook_result, head  1, Status: in_circuit",
         "line": {
          "color": "green"
         },
         "mode": "lines+markers",
         "showlegend": false,
         "type": "scatter",
         "x": [
          0,
          0.1,
          0.2,
          0.5,
          0.7,
          0.8,
          1,
          1.2,
          1.4,
          2,
          5,
          10
         ],
         "y": [
          0.39329671279728595,
          0.3783072226201955,
          0.3407269930183851,
          0.15894391526934187,
          0,
          0,
          0,
          0,
          0.20703754165434235,
          0.5154887807496408,
          0.7705256467917669,
          0.8679088804650137
         ]
        },
        {
         "marker": {
          "color": "green"
         },
         "mode": "markers",
         "name": "in_circuit",
         "type": "scatter",
         "x": [
          null
         ],
         "y": [
          null
         ]
        },
        {
         "marker": {
          "color": "orange"
         },
         "mode": "markers",
         "name": "not_in_circuit",
         "type": "scatter",
         "x": [
          null
         ],
         "y": [
          null
         ]
        }
       ],
       "layout": {
        "font": {
         "size": 16
        },
        "margin": {
         "b": 70,
         "l": 70,
         "r": 70,
         "t": 70
        },
        "template": {
         "data": {
          "bar": [
           {
            "error_x": {
             "color": "#2a3f5f"
            },
            "error_y": {
             "color": "#2a3f5f"
            },
            "marker": {
             "line": {
              "color": "white",
              "width": 0.5
             },
             "pattern": {
              "fillmode": "overlay",
              "size": 10,
              "solidity": 0.2
             }
            },
            "type": "bar"
           }
          ],
          "barpolar": [
           {
            "marker": {
             "line": {
              "color": "white",
              "width": 0.5
             },
             "pattern": {
              "fillmode": "overlay",
              "size": 10,
              "solidity": 0.2
             }
            },
            "type": "barpolar"
           }
          ],
          "carpet": [
           {
            "aaxis": {
             "endlinecolor": "#2a3f5f",
             "gridcolor": "#C8D4E3",
             "linecolor": "#C8D4E3",
             "minorgridcolor": "#C8D4E3",
             "startlinecolor": "#2a3f5f"
            },
            "baxis": {
             "endlinecolor": "#2a3f5f",
             "gridcolor": "#C8D4E3",
             "linecolor": "#C8D4E3",
             "minorgridcolor": "#C8D4E3",
             "startlinecolor": "#2a3f5f"
            },
            "type": "carpet"
           }
          ],
          "choropleth": [
           {
            "colorbar": {
             "outlinewidth": 0,
             "ticks": ""
            },
            "type": "choropleth"
           }
          ],
          "contour": [
           {
            "colorbar": {
             "outlinewidth": 0,
             "ticks": ""
            },
            "colorscale": [
             [
              0,
              "#0d0887"
             ],
             [
              0.1111111111111111,
              "#46039f"
             ],
             [
              0.2222222222222222,
              "#7201a8"
             ],
             [
              0.3333333333333333,
              "#9c179e"
             ],
             [
              0.4444444444444444,
              "#bd3786"
             ],
             [
              0.5555555555555556,
              "#d8576b"
             ],
             [
              0.6666666666666666,
              "#ed7953"
             ],
             [
              0.7777777777777778,
              "#fb9f3a"
             ],
             [
              0.8888888888888888,
              "#fdca26"
             ],
             [
              1,
              "#f0f921"
             ]
            ],
            "type": "contour"
           }
          ],
          "contourcarpet": [
           {
            "colorbar": {
             "outlinewidth": 0,
             "ticks": ""
            },
            "type": "contourcarpet"
           }
          ],
          "heatmap": [
           {
            "colorbar": {
             "outlinewidth": 0,
             "ticks": ""
            },
            "colorscale": [
             [
              0,
              "#0d0887"
             ],
             [
              0.1111111111111111,
              "#46039f"
             ],
             [
              0.2222222222222222,
              "#7201a8"
             ],
             [
              0.3333333333333333,
              "#9c179e"
             ],
             [
              0.4444444444444444,
              "#bd3786"
             ],
             [
              0.5555555555555556,
              "#d8576b"
             ],
             [
              0.6666666666666666,
              "#ed7953"
             ],
             [
              0.7777777777777778,
              "#fb9f3a"
             ],
             [
              0.8888888888888888,
              "#fdca26"
             ],
             [
              1,
              "#f0f921"
             ]
            ],
            "type": "heatmap"
           }
          ],
          "heatmapgl": [
           {
            "colorbar": {
             "outlinewidth": 0,
             "ticks": ""
            },
            "colorscale": [
             [
              0,
              "#0d0887"
             ],
             [
              0.1111111111111111,
              "#46039f"
             ],
             [
              0.2222222222222222,
              "#7201a8"
             ],
             [
              0.3333333333333333,
              "#9c179e"
             ],
             [
              0.4444444444444444,
              "#bd3786"
             ],
             [
              0.5555555555555556,
              "#d8576b"
             ],
             [
              0.6666666666666666,
              "#ed7953"
             ],
             [
              0.7777777777777778,
              "#fb9f3a"
             ],
             [
              0.8888888888888888,
              "#fdca26"
             ],
             [
              1,
              "#f0f921"
             ]
            ],
            "type": "heatmapgl"
           }
          ],
          "histogram": [
           {
            "marker": {
             "pattern": {
              "fillmode": "overlay",
              "size": 10,
              "solidity": 0.2
             }
            },
            "type": "histogram"
           }
          ],
          "histogram2d": [
           {
            "colorbar": {
             "outlinewidth": 0,
             "ticks": ""
            },
            "colorscale": [
             [
              0,
              "#0d0887"
             ],
             [
              0.1111111111111111,
              "#46039f"
             ],
             [
              0.2222222222222222,
              "#7201a8"
             ],
             [
              0.3333333333333333,
              "#9c179e"
             ],
             [
              0.4444444444444444,
              "#bd3786"
             ],
             [
              0.5555555555555556,
              "#d8576b"
             ],
             [
              0.6666666666666666,
              "#ed7953"
             ],
             [
              0.7777777777777778,
              "#fb9f3a"
             ],
             [
              0.8888888888888888,
              "#fdca26"
             ],
             [
              1,
              "#f0f921"
             ]
            ],
            "type": "histogram2d"
           }
          ],
          "histogram2dcontour": [
           {
            "colorbar": {
             "outlinewidth": 0,
             "ticks": ""
            },
            "colorscale": [
             [
              0,
              "#0d0887"
             ],
             [
              0.1111111111111111,
              "#46039f"
             ],
             [
              0.2222222222222222,
              "#7201a8"
             ],
             [
              0.3333333333333333,
              "#9c179e"
             ],
             [
              0.4444444444444444,
              "#bd3786"
             ],
             [
              0.5555555555555556,
              "#d8576b"
             ],
             [
              0.6666666666666666,
              "#ed7953"
             ],
             [
              0.7777777777777778,
              "#fb9f3a"
             ],
             [
              0.8888888888888888,
              "#fdca26"
             ],
             [
              1,
              "#f0f921"
             ]
            ],
            "type": "histogram2dcontour"
           }
          ],
          "mesh3d": [
           {
            "colorbar": {
             "outlinewidth": 0,
             "ticks": ""
            },
            "type": "mesh3d"
           }
          ],
          "parcoords": [
           {
            "line": {
             "colorbar": {
              "outlinewidth": 0,
              "ticks": ""
             }
            },
            "type": "parcoords"
           }
          ],
          "pie": [
           {
            "automargin": true,
            "type": "pie"
           }
          ],
          "scatter": [
           {
            "fillpattern": {
             "fillmode": "overlay",
             "size": 10,
             "solidity": 0.2
            },
            "type": "scatter"
           }
          ],
          "scatter3d": [
           {
            "line": {
             "colorbar": {
              "outlinewidth": 0,
              "ticks": ""
             }
            },
            "marker": {
             "colorbar": {
              "outlinewidth": 0,
              "ticks": ""
             }
            },
            "type": "scatter3d"
           }
          ],
          "scattercarpet": [
           {
            "marker": {
             "colorbar": {
              "outlinewidth": 0,
              "ticks": ""
             }
            },
            "type": "scattercarpet"
           }
          ],
          "scattergeo": [
           {
            "marker": {
             "colorbar": {
              "outlinewidth": 0,
              "ticks": ""
             }
            },
            "type": "scattergeo"
           }
          ],
          "scattergl": [
           {
            "marker": {
             "colorbar": {
              "outlinewidth": 0,
              "ticks": ""
             }
            },
            "type": "scattergl"
           }
          ],
          "scattermapbox": [
           {
            "marker": {
             "colorbar": {
              "outlinewidth": 0,
              "ticks": ""
             }
            },
            "type": "scattermapbox"
           }
          ],
          "scatterpolar": [
           {
            "marker": {
             "colorbar": {
              "outlinewidth": 0,
              "ticks": ""
             }
            },
            "type": "scatterpolar"
           }
          ],
          "scatterpolargl": [
           {
            "marker": {
             "colorbar": {
              "outlinewidth": 0,
              "ticks": ""
             }
            },
            "type": "scatterpolargl"
           }
          ],
          "scatterternary": [
           {
            "marker": {
             "colorbar": {
              "outlinewidth": 0,
              "ticks": ""
             }
            },
            "type": "scatterternary"
           }
          ],
          "surface": [
           {
            "colorbar": {
             "outlinewidth": 0,
             "ticks": ""
            },
            "colorscale": [
             [
              0,
              "#0d0887"
             ],
             [
              0.1111111111111111,
              "#46039f"
             ],
             [
              0.2222222222222222,
              "#7201a8"
             ],
             [
              0.3333333333333333,
              "#9c179e"
             ],
             [
              0.4444444444444444,
              "#bd3786"
             ],
             [
              0.5555555555555556,
              "#d8576b"
             ],
             [
              0.6666666666666666,
              "#ed7953"
             ],
             [
              0.7777777777777778,
              "#fb9f3a"
             ],
             [
              0.8888888888888888,
              "#fdca26"
             ],
             [
              1,
              "#f0f921"
             ]
            ],
            "type": "surface"
           }
          ],
          "table": [
           {
            "cells": {
             "fill": {
              "color": "#EBF0F8"
             },
             "line": {
              "color": "white"
             }
            },
            "header": {
             "fill": {
              "color": "#C8D4E3"
             },
             "line": {
              "color": "white"
             }
            },
            "type": "table"
           }
          ]
         },
         "layout": {
          "annotationdefaults": {
           "arrowcolor": "#2a3f5f",
           "arrowhead": 0,
           "arrowwidth": 1
          },
          "autotypenumbers": "strict",
          "coloraxis": {
           "colorbar": {
            "outlinewidth": 0,
            "ticks": ""
           }
          },
          "colorscale": {
           "diverging": [
            [
             0,
             "#8e0152"
            ],
            [
             0.1,
             "#c51b7d"
            ],
            [
             0.2,
             "#de77ae"
            ],
            [
             0.3,
             "#f1b6da"
            ],
            [
             0.4,
             "#fde0ef"
            ],
            [
             0.5,
             "#f7f7f7"
            ],
            [
             0.6,
             "#e6f5d0"
            ],
            [
             0.7,
             "#b8e186"
            ],
            [
             0.8,
             "#7fbc41"
            ],
            [
             0.9,
             "#4d9221"
            ],
            [
             1,
             "#276419"
            ]
           ],
           "sequential": [
            [
             0,
             "#0d0887"
            ],
            [
             0.1111111111111111,
             "#46039f"
            ],
            [
             0.2222222222222222,
             "#7201a8"
            ],
            [
             0.3333333333333333,
             "#9c179e"
            ],
            [
             0.4444444444444444,
             "#bd3786"
            ],
            [
             0.5555555555555556,
             "#d8576b"
            ],
            [
             0.6666666666666666,
             "#ed7953"
            ],
            [
             0.7777777777777778,
             "#fb9f3a"
            ],
            [
             0.8888888888888888,
             "#fdca26"
            ],
            [
             1,
             "#f0f921"
            ]
           ],
           "sequentialminus": [
            [
             0,
             "#0d0887"
            ],
            [
             0.1111111111111111,
             "#46039f"
            ],
            [
             0.2222222222222222,
             "#7201a8"
            ],
            [
             0.3333333333333333,
             "#9c179e"
            ],
            [
             0.4444444444444444,
             "#bd3786"
            ],
            [
             0.5555555555555556,
             "#d8576b"
            ],
            [
             0.6666666666666666,
             "#ed7953"
            ],
            [
             0.7777777777777778,
             "#fb9f3a"
            ],
            [
             0.8888888888888888,
             "#fdca26"
            ],
            [
             1,
             "#f0f921"
            ]
           ]
          },
          "colorway": [
           "#636efa",
           "#EF553B",
           "#00cc96",
           "#ab63fa",
           "#FFA15A",
           "#19d3f3",
           "#FF6692",
           "#B6E880",
           "#FF97FF",
           "#FECB52"
          ],
          "font": {
           "color": "#2a3f5f"
          },
          "geo": {
           "bgcolor": "white",
           "lakecolor": "white",
           "landcolor": "white",
           "showlakes": true,
           "showland": true,
           "subunitcolor": "#C8D4E3"
          },
          "hoverlabel": {
           "align": "left"
          },
          "hovermode": "closest",
          "mapbox": {
           "style": "light"
          },
          "paper_bgcolor": "white",
          "plot_bgcolor": "white",
          "polar": {
           "angularaxis": {
            "gridcolor": "#EBF0F8",
            "linecolor": "#EBF0F8",
            "ticks": ""
           },
           "bgcolor": "white",
           "radialaxis": {
            "gridcolor": "#EBF0F8",
            "linecolor": "#EBF0F8",
            "ticks": ""
           }
          },
          "scene": {
           "xaxis": {
            "backgroundcolor": "white",
            "gridcolor": "#DFE8F3",
            "gridwidth": 2,
            "linecolor": "#EBF0F8",
            "showbackground": true,
            "ticks": "",
            "zerolinecolor": "#EBF0F8"
           },
           "yaxis": {
            "backgroundcolor": "white",
            "gridcolor": "#DFE8F3",
            "gridwidth": 2,
            "linecolor": "#EBF0F8",
            "showbackground": true,
            "ticks": "",
            "zerolinecolor": "#EBF0F8"
           },
           "zaxis": {
            "backgroundcolor": "white",
            "gridcolor": "#DFE8F3",
            "gridwidth": 2,
            "linecolor": "#EBF0F8",
            "showbackground": true,
            "ticks": "",
            "zerolinecolor": "#EBF0F8"
           }
          },
          "shapedefaults": {
           "line": {
            "color": "#2a3f5f"
           }
          },
          "ternary": {
           "aaxis": {
            "gridcolor": "#DFE8F3",
            "linecolor": "#A2B1C6",
            "ticks": ""
           },
           "baxis": {
            "gridcolor": "#DFE8F3",
            "linecolor": "#A2B1C6",
            "ticks": ""
           },
           "bgcolor": "white",
           "caxis": {
            "gridcolor": "#DFE8F3",
            "linecolor": "#A2B1C6",
            "ticks": ""
           }
          },
          "title": {
           "x": 0.05
          },
          "xaxis": {
           "automargin": true,
           "gridcolor": "#EBF0F8",
           "linecolor": "#EBF0F8",
           "ticks": "",
           "title": {
            "standoff": 15
           },
           "zerolinecolor": "#EBF0F8",
           "zerolinewidth": 2
          },
          "yaxis": {
           "automargin": true,
           "gridcolor": "#EBF0F8",
           "linecolor": "#EBF0F8",
           "ticks": "",
           "title": {
            "standoff": 15
           },
           "zerolinecolor": "#EBF0F8",
           "zerolinewidth": 2
          }
         }
        },
        "xaxis": {
         "showgrid": false,
         "title": {
          "text": "Scale"
         }
        },
        "yaxis": {
         "showgrid": false,
         "title": {
          "text": "Causal Effect"
         }
        }
       }
      }
     },
     "metadata": {},
     "output_type": "display_data"
    }
   ],
   "source": [
    "# sort by status\n",
    "combined_scales_df_orthogonal = combined_scales_df_orthogonal.sort_values(by=\"status\", ascending=False)\n",
    "combined_scales_df_orthogonal.rename(columns={\"scale 0.0_y\": \"scale 0.0\"}, inplace=True)\n",
    "plot_causal_effect(combined_scales_df_orthogonal, scales, f\"causal_effect_scale_orthogonal_{task.get_index()}\")"
   ]
  },
  {
   "cell_type": "code",
   "execution_count": 105,
   "metadata": {},
   "outputs": [],
   "source": [
    "%%capture\n",
    "def hook_maker(model_pair, ll_node: LLNode, scale: float) -> Callable[[Tensor, HookPoint], Tensor]:\n",
    "    return make_ll_ablation_hook_scale_activations_with_variance(model_pair, ll_node, pca_dirs, scale, self_patch=False, ablate_high_variance=True)\n",
    "combined_scales_df_orthogonal = get_effects_for_scales(model_pair, unique_test_data, hook_maker, scales=scales)"
   ]
  },
  {
   "cell_type": "code",
   "execution_count": 106,
   "metadata": {},
   "outputs": [
    {
     "name": "stderr",
     "output_type": "stream",
     "text": [
      "/Users/cybershiptrooper/src/interpretability/MATS/.iit/lib/python3.11/site-packages/plotly/graph_objs/_deprecations.py:378: DeprecationWarning:\n",
      "\n",
      "plotly.graph_objs.Line is deprecated.\n",
      "Please replace it with one of the following more specific types\n",
      "  - plotly.graph_objs.scatter.Line\n",
      "  - plotly.graph_objs.layout.shape.Line\n",
      "  - etc.\n",
      "\n",
      "\n"
     ]
    },
    {
     "data": {
      "application/vnd.plotly.v1+json": {
       "config": {
        "plotlyServerURL": "https://plot.ly"
       },
       "data": [
        {
         "hovertext": "Node: blocks.0.attn.hook_result, head  0, Status: not_in_circuit",
         "line": {
          "color": "orange"
         },
         "mode": "lines+markers",
         "showlegend": false,
         "type": "scatter",
         "x": [
          0,
          0.1,
          0.2,
          0.5,
          0.7,
          0.8,
          1,
          1.2,
          1.4,
          2,
          5,
          10
         ],
         "y": [
          0.999999999999997,
          0.9999999999999968,
          0.9759002444380867,
          0.9656168681046791,
          0.9094458607798039,
          0.7638825449553028,
          0.789168542032532,
          0.8169075491970709,
          0.9655339166266559,
          0.9999999999999971,
          0.9763401898662881,
          0.9999999999999967
         ]
        },
        {
         "hovertext": "Node: blocks.0.attn.hook_result, head  1, Status: not_in_circuit",
         "line": {
          "color": "orange"
         },
         "mode": "lines+markers",
         "showlegend": false,
         "type": "scatter",
         "x": [
          0,
          0.1,
          0.2,
          0.5,
          0.7,
          0.8,
          1,
          1.2,
          1.4,
          2,
          5,
          10
         ],
         "y": [
          0.999999999999997,
          0.973505904019885,
          0.9022843767231828,
          0.7821147504882769,
          0.8794162571731923,
          0.8933940397111201,
          0.9319374913260365,
          0.9376507746167271,
          0.9357910213305416,
          0.8941651762180741,
          0.9587333686106779,
          0.9915435076379794
         ]
        },
        {
         "hovertext": "Node: blocks.0.attn.hook_result, head  2, Status: not_in_circuit",
         "line": {
          "color": "orange"
         },
         "mode": "lines+markers",
         "showlegend": false,
         "type": "scatter",
         "x": [
          0,
          0.1,
          0.2,
          0.5,
          0.7,
          0.8,
          1,
          1.2,
          1.4,
          2,
          5,
          10
         ],
         "y": [
          0.8602309560380239,
          0.8447773957480091,
          0.7681138427383905,
          0.830303507385747,
          0.8550674973624692,
          0.8704486796444016,
          0.8775262733516445,
          0.8703758583871521,
          0.883847274970827,
          0.9018054448342664,
          0.9443237370972737,
          0.9830128269992006
         ]
        },
        {
         "hovertext": "Node: blocks.0.attn.hook_result, head  3, Status: not_in_circuit",
         "line": {
          "color": "orange"
         },
         "mode": "lines+markers",
         "showlegend": false,
         "type": "scatter",
         "x": [
          0,
          0.1,
          0.2,
          0.5,
          0.7,
          0.8,
          1,
          1.2,
          1.4,
          2,
          5,
          10
         ],
         "y": [
          0.8280046088323381,
          0.7902544844641808,
          0.7645679168148528,
          0.7336812733920824,
          0.7731457429840541,
          0.7315340414836514,
          0.7709199478610592,
          0.7858172015847174,
          0.8361718830709943,
          0.9424197828485404,
          0.9999999999999968,
          0.9999999999999967
         ]
        },
        {
         "hovertext": "Node: blocks.1.attn.hook_result, head  2, Status: not_in_circuit",
         "line": {
          "color": "orange"
         },
         "mode": "lines+markers",
         "showlegend": false,
         "type": "scatter",
         "x": [
          0,
          0.1,
          0.2,
          0.5,
          0.7,
          0.8,
          1,
          1.2,
          1.4,
          2,
          5,
          10
         ],
         "y": [
          0.381101143992426,
          0.3778160477870029,
          0.36252902515066077,
          0.27388336459772294,
          0.30810994916294693,
          0.34033099346821927,
          0.39634788244446423,
          0.3614381864015794,
          0.38525941145227466,
          0.554762571206089,
          0.758189299296083,
          0.8584120853048524
         ]
        },
        {
         "hovertext": "Node: blocks.1.attn.hook_result, head  3, Status: not_in_circuit",
         "line": {
          "color": "orange"
         },
         "mode": "lines+markers",
         "showlegend": false,
         "type": "scatter",
         "x": [
          0,
          0.1,
          0.2,
          0.5,
          0.7,
          0.8,
          1,
          1.2,
          1.4,
          2,
          5,
          10
         ],
         "y": [
          0.4875694113670398,
          0.4690218448322896,
          0.38700431765184684,
          0.28060613997343076,
          0.2635193709233974,
          0.26507358481646354,
          0.33310132608131815,
          0.4657706928879059,
          0.5030006503637389,
          0.6510933416564246,
          0.908351768459666,
          0.9561630948735889
         ]
        },
        {
         "hovertext": "Node: blocks.1.mlp.hook_post, Status: not_in_circuit",
         "line": {
          "color": "orange"
         },
         "mode": "lines+markers",
         "showlegend": false,
         "type": "scatter",
         "x": [
          0,
          0.1,
          0.2,
          0.5,
          0.7,
          0.8,
          1,
          1.2,
          1.4,
          2,
          5,
          10
         ],
         "y": [
          0.9777892587402446,
          0.9056654420449143,
          0.9234708485422587,
          0.9578278456818796,
          0.9601243220519646,
          0.9892233318643576,
          0.9974617163601881,
          0.9959168125130806,
          0.9809584479259408,
          0.9816780824111626,
          0.9880043522249031,
          0.9873371412573181
         ]
        },
        {
         "hovertext": "Node: blocks.0.mlp.hook_post, Status: in_circuit",
         "line": {
          "color": "green"
         },
         "mode": "lines+markers",
         "showlegend": false,
         "type": "scatter",
         "x": [
          0,
          0.1,
          0.2,
          0.5,
          0.7,
          0.8,
          1,
          1.2,
          1.4,
          2,
          5,
          10
         ],
         "y": [
          0.8662094882999658,
          0.849678837620567,
          0.8719625150840901,
          0.9544779266007701,
          0.9416972891158241,
          0.9847983155017962,
          0.985226815056299,
          0.9722625303274054,
          0.9841536651933264,
          0.9942120574158876,
          0.9976939523117226,
          0.999999999999997
         ]
        },
        {
         "hovertext": "Node: blocks.1.attn.hook_result, head  0, Status: in_circuit",
         "line": {
          "color": "green"
         },
         "mode": "lines+markers",
         "showlegend": false,
         "type": "scatter",
         "x": [
          0,
          0.1,
          0.2,
          0.5,
          0.7,
          0.8,
          1,
          1.2,
          1.4,
          2,
          5,
          10
         ],
         "y": [
          0.6615343679956244,
          0.7108577363867236,
          0.6637958589087318,
          0.6873406543332055,
          0.8071186160144089,
          0.8566218580289924,
          0.9003764144354693,
          0.8835401577714144,
          0.8424116472493383,
          0.8161655732062422,
          0.9286258655740209,
          0.9807033238327201
         ]
        },
        {
         "hovertext": "Node: blocks.1.attn.hook_result, head  1, Status: in_circuit",
         "line": {
          "color": "green"
         },
         "mode": "lines+markers",
         "showlegend": false,
         "type": "scatter",
         "x": [
          0,
          0.1,
          0.2,
          0.5,
          0.7,
          0.8,
          1,
          1.2,
          1.4,
          2,
          5,
          10
         ],
         "y": [
          0.3998118670530113,
          0.37101353742657445,
          0.3411279407504703,
          0.2410819286670179,
          0.21975207443514105,
          0.19404328831763265,
          0.2527664193413711,
          0.41165734386566305,
          0.5105523191694539,
          0.7781218272585819,
          0.9333902362594637,
          0.9583125549238366
         ]
        },
        {
         "marker": {
          "color": "green"
         },
         "mode": "markers",
         "name": "in_circuit",
         "type": "scatter",
         "x": [
          null
         ],
         "y": [
          null
         ]
        },
        {
         "marker": {
          "color": "orange"
         },
         "mode": "markers",
         "name": "not_in_circuit",
         "type": "scatter",
         "x": [
          null
         ],
         "y": [
          null
         ]
        }
       ],
       "layout": {
        "font": {
         "size": 16
        },
        "margin": {
         "b": 70,
         "l": 70,
         "r": 70,
         "t": 70
        },
        "template": {
         "data": {
          "bar": [
           {
            "error_x": {
             "color": "#2a3f5f"
            },
            "error_y": {
             "color": "#2a3f5f"
            },
            "marker": {
             "line": {
              "color": "white",
              "width": 0.5
             },
             "pattern": {
              "fillmode": "overlay",
              "size": 10,
              "solidity": 0.2
             }
            },
            "type": "bar"
           }
          ],
          "barpolar": [
           {
            "marker": {
             "line": {
              "color": "white",
              "width": 0.5
             },
             "pattern": {
              "fillmode": "overlay",
              "size": 10,
              "solidity": 0.2
             }
            },
            "type": "barpolar"
           }
          ],
          "carpet": [
           {
            "aaxis": {
             "endlinecolor": "#2a3f5f",
             "gridcolor": "#C8D4E3",
             "linecolor": "#C8D4E3",
             "minorgridcolor": "#C8D4E3",
             "startlinecolor": "#2a3f5f"
            },
            "baxis": {
             "endlinecolor": "#2a3f5f",
             "gridcolor": "#C8D4E3",
             "linecolor": "#C8D4E3",
             "minorgridcolor": "#C8D4E3",
             "startlinecolor": "#2a3f5f"
            },
            "type": "carpet"
           }
          ],
          "choropleth": [
           {
            "colorbar": {
             "outlinewidth": 0,
             "ticks": ""
            },
            "type": "choropleth"
           }
          ],
          "contour": [
           {
            "colorbar": {
             "outlinewidth": 0,
             "ticks": ""
            },
            "colorscale": [
             [
              0,
              "#0d0887"
             ],
             [
              0.1111111111111111,
              "#46039f"
             ],
             [
              0.2222222222222222,
              "#7201a8"
             ],
             [
              0.3333333333333333,
              "#9c179e"
             ],
             [
              0.4444444444444444,
              "#bd3786"
             ],
             [
              0.5555555555555556,
              "#d8576b"
             ],
             [
              0.6666666666666666,
              "#ed7953"
             ],
             [
              0.7777777777777778,
              "#fb9f3a"
             ],
             [
              0.8888888888888888,
              "#fdca26"
             ],
             [
              1,
              "#f0f921"
             ]
            ],
            "type": "contour"
           }
          ],
          "contourcarpet": [
           {
            "colorbar": {
             "outlinewidth": 0,
             "ticks": ""
            },
            "type": "contourcarpet"
           }
          ],
          "heatmap": [
           {
            "colorbar": {
             "outlinewidth": 0,
             "ticks": ""
            },
            "colorscale": [
             [
              0,
              "#0d0887"
             ],
             [
              0.1111111111111111,
              "#46039f"
             ],
             [
              0.2222222222222222,
              "#7201a8"
             ],
             [
              0.3333333333333333,
              "#9c179e"
             ],
             [
              0.4444444444444444,
              "#bd3786"
             ],
             [
              0.5555555555555556,
              "#d8576b"
             ],
             [
              0.6666666666666666,
              "#ed7953"
             ],
             [
              0.7777777777777778,
              "#fb9f3a"
             ],
             [
              0.8888888888888888,
              "#fdca26"
             ],
             [
              1,
              "#f0f921"
             ]
            ],
            "type": "heatmap"
           }
          ],
          "heatmapgl": [
           {
            "colorbar": {
             "outlinewidth": 0,
             "ticks": ""
            },
            "colorscale": [
             [
              0,
              "#0d0887"
             ],
             [
              0.1111111111111111,
              "#46039f"
             ],
             [
              0.2222222222222222,
              "#7201a8"
             ],
             [
              0.3333333333333333,
              "#9c179e"
             ],
             [
              0.4444444444444444,
              "#bd3786"
             ],
             [
              0.5555555555555556,
              "#d8576b"
             ],
             [
              0.6666666666666666,
              "#ed7953"
             ],
             [
              0.7777777777777778,
              "#fb9f3a"
             ],
             [
              0.8888888888888888,
              "#fdca26"
             ],
             [
              1,
              "#f0f921"
             ]
            ],
            "type": "heatmapgl"
           }
          ],
          "histogram": [
           {
            "marker": {
             "pattern": {
              "fillmode": "overlay",
              "size": 10,
              "solidity": 0.2
             }
            },
            "type": "histogram"
           }
          ],
          "histogram2d": [
           {
            "colorbar": {
             "outlinewidth": 0,
             "ticks": ""
            },
            "colorscale": [
             [
              0,
              "#0d0887"
             ],
             [
              0.1111111111111111,
              "#46039f"
             ],
             [
              0.2222222222222222,
              "#7201a8"
             ],
             [
              0.3333333333333333,
              "#9c179e"
             ],
             [
              0.4444444444444444,
              "#bd3786"
             ],
             [
              0.5555555555555556,
              "#d8576b"
             ],
             [
              0.6666666666666666,
              "#ed7953"
             ],
             [
              0.7777777777777778,
              "#fb9f3a"
             ],
             [
              0.8888888888888888,
              "#fdca26"
             ],
             [
              1,
              "#f0f921"
             ]
            ],
            "type": "histogram2d"
           }
          ],
          "histogram2dcontour": [
           {
            "colorbar": {
             "outlinewidth": 0,
             "ticks": ""
            },
            "colorscale": [
             [
              0,
              "#0d0887"
             ],
             [
              0.1111111111111111,
              "#46039f"
             ],
             [
              0.2222222222222222,
              "#7201a8"
             ],
             [
              0.3333333333333333,
              "#9c179e"
             ],
             [
              0.4444444444444444,
              "#bd3786"
             ],
             [
              0.5555555555555556,
              "#d8576b"
             ],
             [
              0.6666666666666666,
              "#ed7953"
             ],
             [
              0.7777777777777778,
              "#fb9f3a"
             ],
             [
              0.8888888888888888,
              "#fdca26"
             ],
             [
              1,
              "#f0f921"
             ]
            ],
            "type": "histogram2dcontour"
           }
          ],
          "mesh3d": [
           {
            "colorbar": {
             "outlinewidth": 0,
             "ticks": ""
            },
            "type": "mesh3d"
           }
          ],
          "parcoords": [
           {
            "line": {
             "colorbar": {
              "outlinewidth": 0,
              "ticks": ""
             }
            },
            "type": "parcoords"
           }
          ],
          "pie": [
           {
            "automargin": true,
            "type": "pie"
           }
          ],
          "scatter": [
           {
            "fillpattern": {
             "fillmode": "overlay",
             "size": 10,
             "solidity": 0.2
            },
            "type": "scatter"
           }
          ],
          "scatter3d": [
           {
            "line": {
             "colorbar": {
              "outlinewidth": 0,
              "ticks": ""
             }
            },
            "marker": {
             "colorbar": {
              "outlinewidth": 0,
              "ticks": ""
             }
            },
            "type": "scatter3d"
           }
          ],
          "scattercarpet": [
           {
            "marker": {
             "colorbar": {
              "outlinewidth": 0,
              "ticks": ""
             }
            },
            "type": "scattercarpet"
           }
          ],
          "scattergeo": [
           {
            "marker": {
             "colorbar": {
              "outlinewidth": 0,
              "ticks": ""
             }
            },
            "type": "scattergeo"
           }
          ],
          "scattergl": [
           {
            "marker": {
             "colorbar": {
              "outlinewidth": 0,
              "ticks": ""
             }
            },
            "type": "scattergl"
           }
          ],
          "scattermapbox": [
           {
            "marker": {
             "colorbar": {
              "outlinewidth": 0,
              "ticks": ""
             }
            },
            "type": "scattermapbox"
           }
          ],
          "scatterpolar": [
           {
            "marker": {
             "colorbar": {
              "outlinewidth": 0,
              "ticks": ""
             }
            },
            "type": "scatterpolar"
           }
          ],
          "scatterpolargl": [
           {
            "marker": {
             "colorbar": {
              "outlinewidth": 0,
              "ticks": ""
             }
            },
            "type": "scatterpolargl"
           }
          ],
          "scatterternary": [
           {
            "marker": {
             "colorbar": {
              "outlinewidth": 0,
              "ticks": ""
             }
            },
            "type": "scatterternary"
           }
          ],
          "surface": [
           {
            "colorbar": {
             "outlinewidth": 0,
             "ticks": ""
            },
            "colorscale": [
             [
              0,
              "#0d0887"
             ],
             [
              0.1111111111111111,
              "#46039f"
             ],
             [
              0.2222222222222222,
              "#7201a8"
             ],
             [
              0.3333333333333333,
              "#9c179e"
             ],
             [
              0.4444444444444444,
              "#bd3786"
             ],
             [
              0.5555555555555556,
              "#d8576b"
             ],
             [
              0.6666666666666666,
              "#ed7953"
             ],
             [
              0.7777777777777778,
              "#fb9f3a"
             ],
             [
              0.8888888888888888,
              "#fdca26"
             ],
             [
              1,
              "#f0f921"
             ]
            ],
            "type": "surface"
           }
          ],
          "table": [
           {
            "cells": {
             "fill": {
              "color": "#EBF0F8"
             },
             "line": {
              "color": "white"
             }
            },
            "header": {
             "fill": {
              "color": "#C8D4E3"
             },
             "line": {
              "color": "white"
             }
            },
            "type": "table"
           }
          ]
         },
         "layout": {
          "annotationdefaults": {
           "arrowcolor": "#2a3f5f",
           "arrowhead": 0,
           "arrowwidth": 1
          },
          "autotypenumbers": "strict",
          "coloraxis": {
           "colorbar": {
            "outlinewidth": 0,
            "ticks": ""
           }
          },
          "colorscale": {
           "diverging": [
            [
             0,
             "#8e0152"
            ],
            [
             0.1,
             "#c51b7d"
            ],
            [
             0.2,
             "#de77ae"
            ],
            [
             0.3,
             "#f1b6da"
            ],
            [
             0.4,
             "#fde0ef"
            ],
            [
             0.5,
             "#f7f7f7"
            ],
            [
             0.6,
             "#e6f5d0"
            ],
            [
             0.7,
             "#b8e186"
            ],
            [
             0.8,
             "#7fbc41"
            ],
            [
             0.9,
             "#4d9221"
            ],
            [
             1,
             "#276419"
            ]
           ],
           "sequential": [
            [
             0,
             "#0d0887"
            ],
            [
             0.1111111111111111,
             "#46039f"
            ],
            [
             0.2222222222222222,
             "#7201a8"
            ],
            [
             0.3333333333333333,
             "#9c179e"
            ],
            [
             0.4444444444444444,
             "#bd3786"
            ],
            [
             0.5555555555555556,
             "#d8576b"
            ],
            [
             0.6666666666666666,
             "#ed7953"
            ],
            [
             0.7777777777777778,
             "#fb9f3a"
            ],
            [
             0.8888888888888888,
             "#fdca26"
            ],
            [
             1,
             "#f0f921"
            ]
           ],
           "sequentialminus": [
            [
             0,
             "#0d0887"
            ],
            [
             0.1111111111111111,
             "#46039f"
            ],
            [
             0.2222222222222222,
             "#7201a8"
            ],
            [
             0.3333333333333333,
             "#9c179e"
            ],
            [
             0.4444444444444444,
             "#bd3786"
            ],
            [
             0.5555555555555556,
             "#d8576b"
            ],
            [
             0.6666666666666666,
             "#ed7953"
            ],
            [
             0.7777777777777778,
             "#fb9f3a"
            ],
            [
             0.8888888888888888,
             "#fdca26"
            ],
            [
             1,
             "#f0f921"
            ]
           ]
          },
          "colorway": [
           "#636efa",
           "#EF553B",
           "#00cc96",
           "#ab63fa",
           "#FFA15A",
           "#19d3f3",
           "#FF6692",
           "#B6E880",
           "#FF97FF",
           "#FECB52"
          ],
          "font": {
           "color": "#2a3f5f"
          },
          "geo": {
           "bgcolor": "white",
           "lakecolor": "white",
           "landcolor": "white",
           "showlakes": true,
           "showland": true,
           "subunitcolor": "#C8D4E3"
          },
          "hoverlabel": {
           "align": "left"
          },
          "hovermode": "closest",
          "mapbox": {
           "style": "light"
          },
          "paper_bgcolor": "white",
          "plot_bgcolor": "white",
          "polar": {
           "angularaxis": {
            "gridcolor": "#EBF0F8",
            "linecolor": "#EBF0F8",
            "ticks": ""
           },
           "bgcolor": "white",
           "radialaxis": {
            "gridcolor": "#EBF0F8",
            "linecolor": "#EBF0F8",
            "ticks": ""
           }
          },
          "scene": {
           "xaxis": {
            "backgroundcolor": "white",
            "gridcolor": "#DFE8F3",
            "gridwidth": 2,
            "linecolor": "#EBF0F8",
            "showbackground": true,
            "ticks": "",
            "zerolinecolor": "#EBF0F8"
           },
           "yaxis": {
            "backgroundcolor": "white",
            "gridcolor": "#DFE8F3",
            "gridwidth": 2,
            "linecolor": "#EBF0F8",
            "showbackground": true,
            "ticks": "",
            "zerolinecolor": "#EBF0F8"
           },
           "zaxis": {
            "backgroundcolor": "white",
            "gridcolor": "#DFE8F3",
            "gridwidth": 2,
            "linecolor": "#EBF0F8",
            "showbackground": true,
            "ticks": "",
            "zerolinecolor": "#EBF0F8"
           }
          },
          "shapedefaults": {
           "line": {
            "color": "#2a3f5f"
           }
          },
          "ternary": {
           "aaxis": {
            "gridcolor": "#DFE8F3",
            "linecolor": "#A2B1C6",
            "ticks": ""
           },
           "baxis": {
            "gridcolor": "#DFE8F3",
            "linecolor": "#A2B1C6",
            "ticks": ""
           },
           "bgcolor": "white",
           "caxis": {
            "gridcolor": "#DFE8F3",
            "linecolor": "#A2B1C6",
            "ticks": ""
           }
          },
          "title": {
           "x": 0.05
          },
          "xaxis": {
           "automargin": true,
           "gridcolor": "#EBF0F8",
           "linecolor": "#EBF0F8",
           "ticks": "",
           "title": {
            "standoff": 15
           },
           "zerolinecolor": "#EBF0F8",
           "zerolinewidth": 2
          },
          "yaxis": {
           "automargin": true,
           "gridcolor": "#EBF0F8",
           "linecolor": "#EBF0F8",
           "ticks": "",
           "title": {
            "standoff": 15
           },
           "zerolinecolor": "#EBF0F8",
           "zerolinewidth": 2
          }
         }
        },
        "xaxis": {
         "showgrid": false,
         "title": {
          "text": "Scale"
         }
        },
        "yaxis": {
         "showgrid": false,
         "title": {
          "text": "Causal Effect"
         }
        }
       }
      }
     },
     "metadata": {},
     "output_type": "display_data"
    }
   ],
   "source": [
    "# sort by status\n",
    "combined_scales_df_orthogonal = combined_scales_df_orthogonal.sort_values(by=\"status\", ascending=False)\n",
    "combined_scales_df_orthogonal.rename(columns={\"scale 0.0_y\": \"scale 0.0\"}, inplace=True)\n",
    "plot_causal_effect(combined_scales_df_orthogonal, scales, f\"causal_effect_scale_orthogonal_{task.get_index()}\")"
   ]
  },
  {
   "cell_type": "markdown",
   "metadata": {},
   "source": [
    "Check if the PCA dir is orthogonal using logit lens"
   ]
  },
  {
   "cell_type": "code",
   "execution_count": 85,
   "metadata": {},
   "outputs": [
    {
     "data": {
      "text/plain": [
       "{LLNode(name='blocks.0.attn.hook_result', index=[:, :, 0, :], subspace=None): {0: array([[-0.1543014 ,  0.03284107,  0.14567627, -0.1269737 ,  0.6946124 ,\n",
       "           0.24951641,  0.25282773, -0.19772966,  0.31867442,  0.23631977,\n",
       "           0.2914874 , -0.21826585],\n",
       "         [-0.03656477,  0.4434389 , -0.1949604 ,  0.42029554,  0.3295396 ,\n",
       "           0.11560258, -0.26876563,  0.39282045, -0.43194056,  0.03826209,\n",
       "           0.21348502, -0.07246836]], dtype=float32),\n",
       "  1: array([[ 0.15616408, -0.06144751, -0.13153268,  0.10038847, -0.7124758 ,\n",
       "          -0.25488907, -0.2368863 ,  0.17466052, -0.29196116, -0.23861626,\n",
       "          -0.3046295 ,  0.22420558],\n",
       "         [-0.02726392,  0.43676808, -0.19852485,  0.42585406,  0.28905812,\n",
       "           0.10336784, -0.2864966 ,  0.40794384, -0.45174152,  0.02264791,\n",
       "           0.19364206, -0.05392178]], dtype=float32),\n",
       "  2: array([[ 0.15651718, -0.06771581, -0.12850896,  0.09437191, -0.7163007 ,\n",
       "          -0.2561449 , -0.2330011 ,  0.16913734, -0.28568614, -0.23895885,\n",
       "          -0.30737427,  0.22517867],\n",
       "         [-0.02528588,  0.43264064, -0.19613047,  0.4259671 ,  0.28141192,\n",
       "           0.10256019, -0.2920138 ,  0.41341636, -0.45660374,  0.01845675,\n",
       "           0.1880729 , -0.04660114]], dtype=float32),\n",
       "  3: array([[ 0.1569854 , -0.07480286, -0.12582515,  0.08697717, -0.72169346,\n",
       "          -0.25849754, -0.22727858,  0.16108166, -0.27729082, -0.23907636,\n",
       "          -0.31043014,  0.2251301 ],\n",
       "         [-0.02269207,  0.42778355, -0.19378056,  0.426191  ,  0.27102295,\n",
       "           0.10095517, -0.29857612,  0.41971588, -0.4625306 ,  0.01322071,\n",
       "           0.18108419, -0.03796327]], dtype=float32)},\n",
       " LLNode(name='blocks.0.attn.hook_result', index=[:, :, 1, :], subspace=None): {0: array([[-0.12436613,  0.07953221, -0.22139336,  0.517588  , -0.0151352 ,\n",
       "           0.05790871,  0.26778936, -0.02771231,  0.21373731, -0.6869759 ,\n",
       "          -0.23365276, -0.11410702],\n",
       "         [-0.00395138, -0.47246364, -0.25446814, -0.5180646 ,  0.15620188,\n",
       "          -0.12810373,  0.25725746, -0.36990595,  0.15934135, -0.13931854,\n",
       "          -0.02099959, -0.39313614]], dtype=float32),\n",
       "  1: array([[-0.12395806,  0.09792031, -0.21270558,  0.5345519 , -0.01866166,\n",
       "           0.06098941,  0.26079494, -0.01344537,  0.20578437, -0.6815745 ,\n",
       "          -0.23417503, -0.10032471],\n",
       "         [-0.00784841, -0.4648975 , -0.26301253, -0.50176966,  0.16029741,\n",
       "          -0.12934013,  0.27184123, -0.3675901 ,  0.16134916, -0.16314252,\n",
       "          -0.03259266, -0.3971205 ]], dtype=float32),\n",
       "  2: array([[-0.12430795,  0.09401091, -0.21238115,  0.5354662 , -0.02189525,\n",
       "           0.06325968,  0.2572574 , -0.01618163,  0.20994528, -0.6819382 ,\n",
       "          -0.2317288 , -0.10070176],\n",
       "         [ 0.01078831,  0.49436125,  0.25557634,  0.4863718 , -0.12768173,\n",
       "           0.10626033, -0.23420863,  0.3874263 , -0.19734555,  0.16289759,\n",
       "           0.00887975,  0.39434433]], dtype=float32),\n",
       "  3: array([[-0.12319632,  0.12666833, -0.19629352,  0.5640505 , -0.027958  ,\n",
       "           0.06845158,  0.24420534,  0.00940662,  0.19496109, -0.6702801 ,\n",
       "          -0.23208837, -0.07583816],\n",
       "         [-0.02077105, -0.50611603, -0.26249623, -0.4383306 ,  0.10262895,\n",
       "          -0.085372  ,  0.2229344 , -0.40012383,  0.2349438 , -0.20555955,\n",
       "          -0.00705843, -0.39655277]], dtype=float32)},\n",
       " LLNode(name='blocks.0.attn.hook_result', index=[:, :, 2, :], subspace=None): {0: array([[ 0.2508114 , -0.25522298,  0.14418337,  0.3688326 , -0.33607653,\n",
       "          -0.1608552 , -0.00296629, -0.0522957 , -0.3228159 , -0.20884621,\n",
       "           0.50692606,  0.41080722],\n",
       "         [-0.08532646, -0.2706889 , -0.17057708,  0.59917116,  0.25884545,\n",
       "           0.2487723 ,  0.5024207 ,  0.02422997, -0.17778756,  0.07039145,\n",
       "          -0.03933277, -0.33366454]], dtype=float32),\n",
       "  1: array([[ 0.26462168, -0.337247  ,  0.16426374,  0.40367085, -0.16590832,\n",
       "          -0.15317054,  0.11857213,  0.09175481, -0.35181534, -0.13652216,\n",
       "           0.5184746 ,  0.37631628],\n",
       "         [-0.11499242, -0.23485036, -0.16960785,  0.48778835,  0.36995834,\n",
       "           0.25543362,  0.5068955 ,  0.09688137, -0.11520556,  0.13345735,\n",
       "          -0.12043525, -0.3884396 ]], dtype=float32),\n",
       "  2: array([[ 0.26087564, -0.35274342,  0.1602977 ,  0.42068705, -0.13135713,\n",
       "          -0.14303114,  0.14925069,  0.11252254, -0.35666955, -0.12212349,\n",
       "           0.51247615,  0.35697964],\n",
       "         [-0.12661591, -0.2179126 , -0.17265297,  0.45369524,  0.39215782,\n",
       "           0.25901788,  0.5012887 ,  0.10706752, -0.0937921 ,  0.14767085,\n",
       "          -0.14807722, -0.40579784]], dtype=float32),\n",
       "  3: array([[ 0.26040688, -0.36551195,  0.16273834,  0.4216256 , -0.09238817,\n",
       "          -0.1397057 ,  0.17322975,  0.14267528, -0.35782915, -0.10457868,\n",
       "           0.5079328 ,  0.34488496],\n",
       "         [-0.12690304, -0.20908408, -0.15839443,  0.3956827 ,  0.44178826,\n",
       "           0.2479158 ,  0.49794126,  0.15460533, -0.07234934,  0.17536871,\n",
       "          -0.1654592 , -0.40825632]], dtype=float32)},\n",
       " LLNode(name='blocks.0.attn.hook_result', index=[:, :, 3, :], subspace=None): {0: array([[-0.3508356 ,  0.10676499, -0.09036023,  0.6641689 ,  0.39030716,\n",
       "           0.14816853,  0.01835474, -0.10757931, -0.39980692, -0.21005324,\n",
       "          -0.0328703 , -0.15804556],\n",
       "         [ 0.20303915,  0.41886988,  0.00559166,  0.04570889,  0.2637534 ,\n",
       "           0.0531183 ,  0.4258516 , -0.27474013,  0.5630648 , -0.20834604,\n",
       "           0.19693965, -0.22967042]], dtype=float32),\n",
       "  1: array([[-0.37141868,  0.04323296, -0.07420766,  0.65298176,  0.35216805,\n",
       "           0.13984644, -0.0168044 , -0.06868205, -0.4694859 , -0.18052386,\n",
       "          -0.07085803, -0.14724647],\n",
       "         [-0.15646243, -0.43947005,  0.02117309, -0.12777737, -0.31241688,\n",
       "          -0.07160906, -0.40795654,  0.28993508, -0.51255006,  0.23480798,\n",
       "          -0.20481054,  0.22934128]], dtype=float32),\n",
       "  2: array([[-0.37385875,  0.04172216, -0.07925861,  0.6516943 ,  0.3494044 ,\n",
       "           0.13922952, -0.02730966, -0.06667161, -0.4744354 , -0.1785234 ,\n",
       "          -0.0686864 , -0.13843809],\n",
       "         [-0.15445584, -0.42636892,  0.00226692, -0.13447073, -0.3130869 ,\n",
       "          -0.07237872, -0.42907804,  0.28553155, -0.50319433,  0.23406109,\n",
       "          -0.18694094,  0.25383243]], dtype=float32),\n",
       "  3: array([[-0.3941653 , -0.00690265, -0.09793361,  0.62536526,  0.30329597,\n",
       "           0.12794234, -0.11073846, -0.02970659, -0.5378775 , -0.1453218 ,\n",
       "          -0.07779529, -0.07699206],\n",
       "         [-0.0985084 , -0.42435506,  0.00891357, -0.22830558, -0.35998866,\n",
       "          -0.09177572, -0.4256553 ,  0.29083982, -0.42708108,  0.2569293 ,\n",
       "          -0.17053097,  0.27701953]], dtype=float32)},\n",
       " LLNode(name='blocks.0.mlp.hook_post', index=[:], subspace=None): {0: array([[ 0.0246426 ,  0.04939777, -0.02505744, -0.02479013,  0.00553989,\n",
       "          -0.1958946 ,  0.1410647 , -0.13960388, -0.17807022, -0.2288322 ,\n",
       "           0.0366438 ,  0.08913191, -0.07147608,  0.05404526, -0.04043026,\n",
       "          -0.01399994, -0.06682461, -0.22185281,  0.03470116,  0.1026719 ,\n",
       "          -0.28462374, -0.08746918,  0.05279228, -0.02230475,  0.14107232,\n",
       "          -0.00098683,  0.07746351, -0.20027629, -0.16755454,  0.01642887,\n",
       "          -0.09628975, -0.0402891 ,  0.01079817, -0.5277738 ,  0.02841613,\n",
       "           0.08522087,  0.04183763, -0.11382504,  0.061978  ,  0.00623427,\n",
       "           0.17695186,  0.09533413, -0.11141869,  0.00265007, -0.03884928,\n",
       "          -0.1000784 , -0.41200286,  0.11249503],\n",
       "         [ 0.0881626 ,  0.00553301,  0.10267115,  0.1700781 , -0.02549379,\n",
       "          -0.240165  , -0.03448023,  0.32427856, -0.30311105,  0.14159241,\n",
       "          -0.01461513, -0.07978851,  0.26821157,  0.01623147, -0.06441586,\n",
       "           0.15320486,  0.11858502,  0.31807494,  0.04871573, -0.03843834,\n",
       "           0.08133894, -0.00235253,  0.06763416,  0.03513112, -0.04092   ,\n",
       "          -0.00697512, -0.03374951,  0.13671687, -0.18181211, -0.00572694,\n",
       "          -0.3208681 ,  0.00089955,  0.0182388 ,  0.02672689,  0.06793814,\n",
       "          -0.08107727, -0.15859175,  0.04415945,  0.03074692,  0.18058667,\n",
       "          -0.05737095, -0.03802035, -0.23547363,  0.13278078, -0.21537293,\n",
       "           0.09523922, -0.26603115, -0.06062354]], dtype=float32),\n",
       "  1: array([[ 3.4045562e-02,  7.2050452e-02, -2.9342413e-02, -2.7910996e-02,\n",
       "           7.5757755e-03, -1.6982560e-01,  1.8118185e-01, -1.7009915e-01,\n",
       "          -1.6042559e-01, -2.6114395e-01,  4.2965442e-02,  8.5362069e-02,\n",
       "          -6.0089540e-02,  8.7316222e-02, -2.8715558e-02, -2.3843891e-03,\n",
       "          -6.6524073e-02, -2.7658111e-01,  2.8402044e-02,  6.5418690e-02,\n",
       "          -2.7184844e-01, -1.3443278e-01,  9.0353109e-02, -2.8800104e-02,\n",
       "           4.5936842e-02,  1.5487632e-02,  8.2747079e-02, -2.0189002e-01,\n",
       "          -1.4392643e-01,  2.5647687e-02, -8.4626466e-02, -2.8689364e-02,\n",
       "           2.1633241e-02, -4.8630798e-01,  6.2314902e-02,  1.3060504e-01,\n",
       "           3.5987630e-02, -9.8418511e-02,  6.0993772e-02, -4.3875017e-04,\n",
       "           1.7999044e-01,  8.2286328e-02, -7.9131469e-02, -4.6050028e-04,\n",
       "          -2.1685516e-02, -9.8928817e-02, -4.3223265e-01,  6.9377311e-02],\n",
       "         [ 1.2395683e-01,  7.8072548e-03,  1.2919807e-01,  1.7685550e-01,\n",
       "          -2.9104292e-02, -2.1852595e-01, -5.6671813e-02,  3.2986477e-01,\n",
       "          -2.8112650e-01,  1.1155302e-01, -3.1197151e-02, -8.0027208e-02,\n",
       "           2.7017146e-01,  4.1835781e-02, -5.9292428e-02,  1.6653433e-01,\n",
       "           1.3317794e-01,  3.1821114e-01,  3.8006939e-02, -1.6159633e-02,\n",
       "           6.6393770e-02, -1.8680999e-02,  1.1211870e-01,  5.6077883e-02,\n",
       "          -1.4943274e-02,  4.5730439e-03, -3.6548255e-03,  1.5082274e-01,\n",
       "          -1.7186552e-01,  2.8522080e-03, -2.7415934e-01,  9.8291151e-03,\n",
       "           3.2445561e-02, -2.7057324e-02,  1.3245924e-01, -1.2794366e-01,\n",
       "          -1.5654229e-01,  3.4686714e-02,  2.1722659e-02,  1.9752145e-01,\n",
       "          -4.1706339e-02, -3.6517236e-02, -2.3930658e-01,  1.9304180e-01,\n",
       "          -9.3928203e-02,  8.8901259e-02, -2.9377219e-01, -2.4944337e-02]],\n",
       "        dtype=float32),\n",
       "  2: array([[ 0.03955165,  0.07562071, -0.02287346, -0.03409883,  0.00377684,\n",
       "          -0.13999715,  0.2056868 , -0.18281256, -0.15582226, -0.24578926,\n",
       "           0.03820215,  0.0770943 , -0.05416214,  0.09163974, -0.02674832,\n",
       "           0.00893939, -0.06335546, -0.28769183,  0.0296619 ,  0.06332021,\n",
       "          -0.28098372, -0.13855343,  0.09161124, -0.02356834,  0.03489724,\n",
       "           0.0064379 ,  0.0899642 , -0.20413007, -0.14503215,  0.02725071,\n",
       "          -0.08626034, -0.02711618,  0.02103613, -0.50895697,  0.08404445,\n",
       "           0.10720966,  0.02506288, -0.10568775,  0.07152705, -0.00214332,\n",
       "           0.1374254 ,  0.09640368, -0.06730793, -0.00255886, -0.01387797,\n",
       "          -0.1130241 , -0.4112913 ,  0.04388385],\n",
       "         [ 0.14655356,  0.00418496,  0.10184908,  0.20884508, -0.01938729,\n",
       "          -0.1886509 , -0.08024201,  0.33948782, -0.27250662,  0.06903435,\n",
       "          -0.03686425, -0.07344037,  0.25609216,  0.04056252, -0.06488907,\n",
       "           0.1601495 ,  0.13297632,  0.31615528,  0.03692807, -0.01520274,\n",
       "           0.06587632, -0.02265775,  0.09907251,  0.04764616, -0.01550462,\n",
       "           0.00146079, -0.00199094,  0.15512767, -0.17429054,  0.00558902,\n",
       "          -0.265087  ,  0.01265585,  0.02971486, -0.04615444,  0.16298798,\n",
       "          -0.10721583, -0.13086998,  0.03030462,  0.01798017,  0.22090212,\n",
       "          -0.03213541, -0.04219578, -0.2701652 ,  0.20609674, -0.04374843,\n",
       "           0.1100742 , -0.2863187 , -0.01208947]], dtype=float32),\n",
       "  3: array([[ 0.0341899 ,  0.07732666, -0.04345644, -0.07426535,  0.0029277 ,\n",
       "          -0.09785993,  0.15505943, -0.21883859, -0.11319548, -0.21157835,\n",
       "           0.01467095,  0.08581069, -0.08641566,  0.11893464, -0.02375591,\n",
       "          -0.00794618, -0.07680626, -0.2934435 ,  0.03737506,  0.12289938,\n",
       "          -0.29092738, -0.12528783,  0.08111461, -0.02587458,  0.11898292,\n",
       "           0.01371939,  0.09209447, -0.22309755, -0.11910236,  0.03523654,\n",
       "          -0.06438185, -0.03482313,  0.0241394 , -0.5188207 ,  0.10659022,\n",
       "           0.16382411,  0.02369356, -0.11304269,  0.06596082, -0.02291149,\n",
       "           0.16494775,  0.14113711, -0.05079187, -0.01710471, -0.01251598,\n",
       "          -0.13623922, -0.32808694,  0.06724188],\n",
       "         [ 0.1457125 ,  0.01702589,  0.13341418,  0.3125369 , -0.01564216,\n",
       "          -0.15883018, -0.03990105,  0.31850028, -0.232279  ,  0.01858979,\n",
       "          -0.02298972, -0.0571149 ,  0.25345725,  0.07436883, -0.06425568,\n",
       "           0.11456181,  0.12790133,  0.23963504,  0.05530218, -0.00985501,\n",
       "           0.02415321, -0.03082039,  0.10044326,  0.04762169, -0.01041784,\n",
       "           0.00875848, -0.00071048,  0.11728434, -0.16669337,  0.01204171,\n",
       "          -0.23742382,  0.01114274,  0.03898797, -0.12056912,  0.2302753 ,\n",
       "          -0.11698449, -0.09202808,  0.01383049,  0.02738745,  0.2994404 ,\n",
       "          -0.01321852, -0.02580842, -0.24480064,  0.23936456, -0.05599456,\n",
       "           0.09792064, -0.2956411 , -0.01215548]], dtype=float32)},\n",
       " LLNode(name='blocks.1.attn.hook_result', index=[:, :, 0, :], subspace=None): {0: array([[ 0.10229836,  0.21535516,  0.3869684 , -0.6272239 ,  0.01862569,\n",
       "          -0.03005989, -0.11664763, -0.2544403 , -0.46216884,  0.29051244,\n",
       "          -0.12679636, -0.07956892],\n",
       "         [-0.12133458,  0.1639728 , -0.02264191, -0.23591888, -0.22291271,\n",
       "           0.21127698, -0.37844056,  0.35715634,  0.3517556 ,  0.2620406 ,\n",
       "           0.40944815, -0.4207963 ]], dtype=float32),\n",
       "  1: array([[ 0.10483174,  0.21260633,  0.38718733, -0.6227098 ,  0.0229995 ,\n",
       "          -0.03383076, -0.10980272, -0.26122522, -0.46838048,  0.28582755,\n",
       "          -0.13380024, -0.07195815],\n",
       "         [-0.06894211,  0.20241208, -0.03342194, -0.22570874, -0.17297168,\n",
       "           0.21603021, -0.38122863,  0.2992311 ,  0.35212868,  0.28023747,\n",
       "           0.45852423, -0.42187652]], dtype=float32),\n",
       "  2: array([[ 0.1034997 ,  0.2114245 ,  0.3877163 , -0.6230614 ,  0.02180696,\n",
       "          -0.03421241, -0.10936952, -0.26006502, -0.46900323,  0.28516182,\n",
       "          -0.13572644, -0.0715099 ],\n",
       "         [-0.09448913,  0.1854815 , -0.02406313, -0.23762415, -0.19829056,\n",
       "           0.21364209, -0.38158146,  0.3263635 ,  0.34773862,  0.27442682,\n",
       "           0.43309835, -0.42277437]], dtype=float32),\n",
       "  3: array([[ 0.10637925,  0.21159193,  0.38710558, -0.6203997 ,  0.02539365,\n",
       "          -0.03551649, -0.10665369, -0.26472893, -0.4711115 ,  0.2837467 ,\n",
       "          -0.1365978 , -0.06845362],\n",
       "         [-0.10843515,  0.17681167, -0.01604416, -0.24828596, -0.21248928,\n",
       "           0.21171138, -0.38193393,  0.33983797,  0.3415651 ,  0.27254218,\n",
       "           0.41683963, -0.4231288 ]], dtype=float32)},\n",
       " LLNode(name='blocks.1.attn.hook_result', index=[:, :, 1, :], subspace=None): {0: array([[-0.43434036, -0.14196587,  0.33744717,  0.23993179,  0.19198261,\n",
       "           0.32553613, -0.1801368 , -0.14473289, -0.05051002, -0.21500622,\n",
       "          -0.24784686, -0.55975133],\n",
       "         [-0.02856612, -0.27223402, -0.4960047 , -0.16444528,  0.1246056 ,\n",
       "          -0.19766611,  0.14804654, -0.53410274, -0.08309831, -0.40480536,\n",
       "          -0.34136534,  0.05408086]], dtype=float32),\n",
       "  1: array([[-0.4332042 , -0.13595338,  0.34573805,  0.24435343,  0.19010995,\n",
       "           0.32795435, -0.17914525, -0.13529478, -0.04289258, -0.21738726,\n",
       "          -0.23854414, -0.5608148 ],\n",
       "         [-0.03990772, -0.2870301 , -0.49509868, -0.17426486,  0.12693514,\n",
       "          -0.18814322,  0.12174258, -0.5442521 , -0.12920238, -0.34564373,\n",
       "          -0.37359652,  0.04744517]], dtype=float32),\n",
       "  2: array([[-0.43138263, -0.13261546,  0.3446282 ,  0.24832918,  0.19084474,\n",
       "           0.32512257, -0.16969469, -0.13497588, -0.02670422, -0.24211834,\n",
       "          -0.22970833, -0.56093204],\n",
       "         [ 0.03095602,  0.27036503,  0.4919058 ,  0.1594953 , -0.12611586,\n",
       "           0.19585964, -0.15150087,  0.532978  ,  0.07372004,  0.41941473,\n",
       "           0.33687705, -0.04919852]], dtype=float32),\n",
       "  3: array([[-0.43020687, -0.12988448,  0.34586498,  0.25079304,  0.1906393 ,\n",
       "           0.3243761 , -0.16560616, -0.13269667, -0.01850781, -0.25246283,\n",
       "          -0.22399847, -0.56096345],\n",
       "         [ 0.03689914,  0.28228602,  0.49505326,  0.17029072, -0.12667358,\n",
       "           0.19096415, -0.1309212 ,  0.541426  ,  0.11277967,  0.36785784,\n",
       "           0.3628866 , -0.04852745]], dtype=float32)},\n",
       " LLNode(name='blocks.1.attn.hook_result', index=[:, :, 2, :], subspace=None): {0: array([[ 0.20282666,  0.40105   , -0.08584572,  0.03272474,  0.01875075,\n",
       "          -0.33701834, -0.5839842 , -0.28453356, -0.16670014,  0.07024641,\n",
       "           0.38031724,  0.27619782],\n",
       "         [-0.08419852,  0.5478186 ,  0.35300112, -0.1291748 ,  0.13878162,\n",
       "           0.26581362, -0.14691098, -0.31566814,  0.18570016, -0.03648496,\n",
       "          -0.54944324, -0.05156556]], dtype=float32),\n",
       "  1: array([[ 0.1980951 ,  0.37585482, -0.08799456,  0.06138768,  0.00938034,\n",
       "          -0.34343186, -0.58469653, -0.26682764, -0.1566515 ,  0.06481007,\n",
       "           0.39750078,  0.3002216 ],\n",
       "         [ 0.04430585, -0.57840335, -0.30284867,  0.22485684, -0.15581661,\n",
       "          -0.23800908,  0.14145106,  0.34823328, -0.1092563 ,  0.00596764,\n",
       "           0.51926166,  0.13191399]], dtype=float32),\n",
       "  2: array([[ 0.19780381,  0.35991028, -0.09389755,  0.07129211,  0.00462089,\n",
       "          -0.34884784, -0.5818636 , -0.25668332, -0.15648918,  0.0637664 ,\n",
       "           0.41020665,  0.30732208],\n",
       "         [-0.0086999 ,  0.58954394,  0.25132695, -0.30372787,  0.16687766,\n",
       "           0.20867173, -0.1311161 , -0.36727494,  0.03966539,  0.02085901,\n",
       "          -0.48093513, -0.20041284]], dtype=float32),\n",
       "  3: array([[ 0.1973221 ,  0.36481354, -0.09114029,  0.06981668,  0.00587311,\n",
       "          -0.34682277, -0.5832834 , -0.25958797, -0.1552847 ,  0.06360587,\n",
       "           0.40580222,  0.30664936],\n",
       "         [ 0.0027792 ,  0.58308285,  0.2292545 , -0.3367971 ,  0.17034172,\n",
       "           0.2014034 , -0.11438044, -0.36780924,  0.01257355,  0.03097716,\n",
       "          -0.46906215, -0.23437881]], dtype=float32)},\n",
       " LLNode(name='blocks.1.attn.hook_result', index=[:, :, 3, :], subspace=None): {0: array([[ 0.2789116 ,  0.20099999,  0.14387882,  0.49380162, -0.17518687,\n",
       "           0.3035563 ,  0.04011073, -0.20971435,  0.31630874, -0.46212158,\n",
       "          -0.35078758, -0.1103681 ],\n",
       "         [-0.54946625,  0.49188057,  0.32883134, -0.08334167, -0.00149978,\n",
       "          -0.0423922 , -0.08229423,  0.5002892 ,  0.0473204 , -0.14018814,\n",
       "          -0.22063588, -0.10784984]], dtype=float32),\n",
       "  1: array([[ 0.33123577,  0.21789138,  0.04422189,  0.46386194, -0.11446429,\n",
       "           0.3475181 , -0.03790225, -0.23775959,  0.3274678 , -0.46503955,\n",
       "          -0.30584082, -0.1296528 ],\n",
       "         [-0.41534498,  0.11719875,  0.5951808 ,  0.15496992, -0.2991516 ,\n",
       "          -0.19157681,  0.3368686 ,  0.29114375, -0.00554652, -0.07972905,\n",
       "          -0.32096994,  0.0406174 ]], dtype=float32),\n",
       "  2: array([[ 0.3518206 ,  0.21922232,  0.00431267,  0.44944245, -0.09075469,\n",
       "           0.36148632, -0.06631575, -0.24966641,  0.32870096, -0.46145913,\n",
       "          -0.28505868, -0.13512893],\n",
       "         [-0.3625317 ,  0.08127623,  0.602551  ,  0.20257041, -0.32714403,\n",
       "          -0.18040729,  0.36848262,  0.24047172,  0.00748383, -0.09609576,\n",
       "          -0.33621377,  0.0485446 ]], dtype=float32),\n",
       "  3: array([[ 0.352812  ,  0.22502306, -0.00549033,  0.44377246, -0.08284391,\n",
       "           0.36575353, -0.0767301 , -0.24827068,  0.3296707 , -0.46184036,\n",
       "          -0.28052694, -0.13814856],\n",
       "         [-0.43348435,  0.21443607,  0.5774912 ,  0.156906  , -0.26658857,\n",
       "          -0.142256  ,  0.26950258,  0.32563674,  0.03278261, -0.13574645,\n",
       "          -0.3442474 ,  0.00271742]], dtype=float32)},\n",
       " LLNode(name='blocks.1.mlp.hook_post', index=[:], subspace=None): {0: array([[ 0.16178338,  0.0684554 ,  0.19387497, -0.13845645, -0.00075786,\n",
       "          -0.159273  ,  0.04483496,  0.0105507 , -0.05511368, -0.06710668,\n",
       "          -0.03161713,  0.03212258,  0.05137275, -0.14212283,  0.02760658,\n",
       "           0.00596614,  0.22843364, -0.0637607 ,  0.1389707 ,  0.07515473,\n",
       "           0.22729217,  0.23954791,  0.08706775,  0.01687456, -0.05749052,\n",
       "          -0.2869794 , -0.00088268,  0.00596882,  0.4699635 , -0.04586667,\n",
       "          -0.04588177, -0.04192296, -0.2410387 , -0.22544867, -0.15665814,\n",
       "           0.04967085,  0.26211706,  0.07733809,  0.00374944,  0.17977998,\n",
       "          -0.07979257,  0.00762429,  0.1451589 ,  0.00540326, -0.13419008,\n",
       "          -0.10460539,  0.20279968,  0.02179908],\n",
       "         [-0.01165706,  0.01272933, -0.01666975, -0.17619371, -0.00216566,\n",
       "           0.0154478 ,  0.06480646, -0.2121417 ,  0.33684796,  0.00296213,\n",
       "           0.12966998, -0.14237656,  0.02200333, -0.09283229,  0.5490969 ,\n",
       "           0.00536913, -0.04694434, -0.09969513,  0.01048815, -0.15592869,\n",
       "          -0.05513541, -0.02253232,  0.04571226, -0.11473148,  0.02657226,\n",
       "          -0.35534567, -0.18562816, -0.00983697, -0.07699231,  0.14852476,\n",
       "           0.2023866 ,  0.03944178,  0.13029422,  0.22848561, -0.0075188 ,\n",
       "           0.04238934,  0.13138096, -0.11416005, -0.09189978,  0.01243245,\n",
       "          -0.071909  ,  0.00121263, -0.14480299,  0.02489398,  0.06391764,\n",
       "          -0.08404655,  0.14986767,  0.00574613]], dtype=float32),\n",
       "  1: array([[ 1.24161042e-01,  6.55387640e-02,  1.30809858e-01,\n",
       "          -1.81756780e-01, -1.05335237e-02, -1.71799138e-01,\n",
       "           5.18747382e-02,  5.86557090e-02, -3.62449624e-02,\n",
       "          -1.11055247e-01,  1.28209672e-03,  1.20124698e-03,\n",
       "           1.59597080e-02, -2.00807065e-01,  1.30711934e-02,\n",
       "           1.02922507e-02,  2.34020755e-01, -5.82988858e-02,\n",
       "           1.84461579e-01,  9.61086005e-02,  2.50650615e-01,\n",
       "           1.97187573e-01,  3.86546031e-02, -3.39315017e-03,\n",
       "          -4.21516672e-02, -3.72190118e-01, -1.17646325e-02,\n",
       "           6.89416230e-02,  2.69596994e-01, -3.62069607e-02,\n",
       "          -3.80361751e-02, -3.40447314e-02, -2.40514323e-01,\n",
       "          -1.61379039e-01, -1.21934518e-01,  5.61229177e-02,\n",
       "           2.75658190e-01,  6.34002835e-02, -2.06446787e-03,\n",
       "           1.94087893e-01, -2.43594944e-01,  7.80489154e-06,\n",
       "           1.22937396e-01,  4.43574693e-03, -2.47271121e-01,\n",
       "          -1.73372403e-01,  1.63965225e-01,  3.60346660e-02],\n",
       "         [-5.80541901e-02, -4.19463664e-02, -3.33176851e-02,\n",
       "           1.53697193e-01,  4.11846675e-02, -1.36049911e-01,\n",
       "           3.34744826e-02, -2.67014682e-01, -3.62148285e-01,\n",
       "           1.40257210e-01, -2.16579393e-01,  1.68487817e-01,\n",
       "           1.29171293e-02, -1.97121024e-01,  1.21047989e-01,\n",
       "           1.19132630e-03,  1.75131023e-01,  1.87775984e-01,\n",
       "           1.25910670e-01, -1.17054477e-01,  7.01938337e-03,\n",
       "           5.92928343e-02,  1.52667565e-02,  8.19171444e-02,\n",
       "          -1.53180817e-02, -1.84105381e-01,  1.49124309e-01,\n",
       "          -1.05053842e-01,  6.14553355e-02,  1.14700012e-01,\n",
       "           5.16992211e-02, -1.28782779e-01, -1.69505607e-02,\n",
       "          -2.92135268e-01, -1.85454905e-01, -1.91407844e-01,\n",
       "          -8.40866268e-02,  5.79567030e-02,  1.13985896e-01,\n",
       "          -1.48297444e-01,  3.00043106e-01,  1.22359749e-02,\n",
       "          -1.36128172e-01,  1.19721934e-01,  2.39793703e-01,\n",
       "           4.34979051e-02,  1.88954789e-02,  5.71336523e-02]], dtype=float32),\n",
       "  2: array([[ 0.09877913,  0.08488995,  0.09458372, -0.22556172, -0.01421932,\n",
       "          -0.18104339,  0.05297641,  0.10075903,  0.00930607, -0.1297192 ,\n",
       "           0.03271008, -0.02001576,  0.0118623 , -0.21522653, -0.00478593,\n",
       "           0.01489009,  0.17917581, -0.10628816,  0.14454514,  0.10910931,\n",
       "           0.21408752,  0.15753148,  0.04483048, -0.02270076, -0.0393282 ,\n",
       "          -0.38179618, -0.03299244,  0.09207925,  0.22634989, -0.05653213,\n",
       "          -0.04238582, -0.0179728 , -0.22440347, -0.13349648, -0.10971525,\n",
       "           0.08613952,  0.1768958 ,  0.05739443, -0.01889283,  0.15712298,\n",
       "          -0.35194397, -0.0004883 ,  0.12308837, -0.00649802, -0.30942103,\n",
       "          -0.21422936,  0.14388123,  0.02674887],\n",
       "         [-0.02937098, -0.04121821, -0.00512552,  0.1312958 ,  0.03308313,\n",
       "          -0.1684662 ,  0.0616845 , -0.23043501, -0.34612802,  0.08552454,\n",
       "          -0.2280653 ,  0.16673349,  0.00852947, -0.256559  ,  0.03443688,\n",
       "           0.00312016,  0.18485254,  0.2346484 ,  0.12124427, -0.05780639,\n",
       "           0.0649284 ,  0.0736585 ,  0.00938575,  0.12034025, -0.01769805,\n",
       "          -0.20483279,  0.13430323, -0.08993244,  0.12862721,  0.10498101,\n",
       "           0.02894216, -0.11224617, -0.03967472, -0.32030886, -0.20540524,\n",
       "          -0.19220796, -0.03121927,  0.08787329,  0.15368167, -0.07115896,\n",
       "           0.2881679 , -0.00386624, -0.08400983,  0.14003605,  0.2023325 ,\n",
       "           0.02852242, -0.00212874,  0.0819937 ]], dtype=float32),\n",
       "  3: array([[ 0.1099086 ,  0.09099114,  0.08900265, -0.2634374 , -0.02749167,\n",
       "          -0.20434284,  0.08516806,  0.13736269,  0.02444219, -0.14209259,\n",
       "           0.05439394, -0.0539425 ,  0.01850018, -0.20196742, -0.00636739,\n",
       "           0.01498038,  0.11572523, -0.16656068,  0.09724697,  0.12112842,\n",
       "           0.1832295 ,  0.11718017,  0.06122577, -0.07047295, -0.03737278,\n",
       "          -0.35404631, -0.07177445,  0.09789938,  0.24694158, -0.07682924,\n",
       "          -0.04050118,  0.02301274, -0.17869496, -0.1046453 , -0.09565879,\n",
       "           0.1405755 ,  0.09073775,  0.0458895 , -0.06687343,  0.17503116,\n",
       "          -0.3687346 ,  0.00100679,  0.12100137, -0.02124146, -0.3110594 ,\n",
       "          -0.23104058,  0.12355462,  0.01051139],\n",
       "         [-0.01090862, -0.02227015,  0.01327144,  0.10584855,  0.0472219 ,\n",
       "          -0.19864792,  0.03215478, -0.21955965, -0.2928684 ,  0.09679426,\n",
       "          -0.22779983,  0.15891863,  0.02033327, -0.2757894 ,  0.02642679,\n",
       "           0.01468546,  0.18320204,  0.22322316,  0.09711676, -0.07712135,\n",
       "           0.1062376 ,  0.09162544,  0.03132118,  0.14868458, -0.0086622 ,\n",
       "          -0.29347497,  0.14587758, -0.06375477,  0.17361628,  0.13462749,\n",
       "           0.0204026 , -0.1549192 , -0.05632887, -0.29778033, -0.21910156,\n",
       "          -0.19936892, -0.00788647,  0.09266227,  0.17042266, -0.04327512,\n",
       "           0.18164165,  0.00511717, -0.08501358,  0.16530919,  0.16058518,\n",
       "           0.03446423,  0.01145599,  0.08820307]], dtype=float32)}}"
      ]
     },
     "execution_count": 85,
     "metadata": {},
     "output_type": "execute_result"
    }
   ],
   "source": [
    "pca_dirs"
   ]
  },
  {
   "cell_type": "markdown",
   "metadata": {},
   "source": [
    "subtract mean of everything before PCA"
   ]
  },
  {
   "cell_type": "code",
   "execution_count": 96,
   "metadata": {},
   "outputs": [
    {
     "data": {
      "text/plain": [
       "array([[-2.10942375e-15, -1.44328993e-15,  3.27515792e-15],\n",
       "       [-2.16493490e-15,  5.66213743e-15, -1.11022302e-16],\n",
       "       [ 5.72746184e-01,  1.83560645e+00,  5.50009800e-01]])"
      ]
     },
     "execution_count": 96,
     "metadata": {},
     "output_type": "execute_result"
    }
   ],
   "source": [
    "import numpy as np\n",
    "mean_dir = np.array([-4.0, 3.0, -5.0])\n",
    "noise_3by3 = np.random.normal(0, 1, (3, 3)) / 10\n",
    "\n",
    "mean_plus_noise = mean_dir + noise_3by3\n",
    "\n",
    "pca = PCA(n_components=3)\n",
    "pca.fit(mean_plus_noise)\n",
    "\n",
    "pca2 = PCA(n_components=3)\n",
    "pca2.fit(noise_3by3)\n",
    "\n",
    "pca.components_ - pca2.components_"
   ]
  },
  {
   "cell_type": "code",
   "execution_count": null,
   "metadata": {},
   "outputs": [],
   "source": []
  }
 ],
 "metadata": {
  "kernelspec": {
   "display_name": ".iit",
   "language": "python",
   "name": "python3"
  },
  "language_info": {
   "codemirror_mode": {
    "name": "ipython",
    "version": 3
   },
   "file_extension": ".py",
   "mimetype": "text/x-python",
   "name": "python",
   "nbconvert_exporter": "python",
   "pygments_lexer": "ipython3",
   "version": "3.11.4"
  }
 },
 "nbformat": 4,
 "nbformat_minor": 2
}
