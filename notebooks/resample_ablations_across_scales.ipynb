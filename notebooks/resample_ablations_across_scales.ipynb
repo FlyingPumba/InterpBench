{
 "cells": [
  {
   "cell_type": "markdown",
   "metadata": {},
   "source": [
    "Setup"
   ]
  },
  {
   "cell_type": "code",
   "execution_count": 3,
   "metadata": {},
   "outputs": [],
   "source": [
    "import pickle\n",
    "import torch\n",
    "from transformer_lens import HookedTransformerConfig, HookedTransformer\n",
    "from transformer_lens import HookedTransformer\n",
    "from circuits_benchmark.utils.get_cases import get_cases\n",
    "\n",
    "task = get_cases(indices=['11'])[0]\n",
    "task_idx = task.get_index()"
   ]
  },
  {
   "cell_type": "code",
   "execution_count": 4,
   "metadata": {},
   "outputs": [
    {
     "data": {
      "text/plain": [
       "{'J', 'LB', 'TPSI', 'V', 'b', 'no', 'oCLrZaW', 'poiVg'}"
      ]
     },
     "execution_count": 4,
     "metadata": {},
     "output_type": "execute_result"
    }
   ],
   "source": [
    "task.get_vocab()"
   ]
  },
  {
   "cell_type": "code",
   "execution_count": 5,
   "metadata": {},
   "outputs": [
    {
     "data": {
      "text/plain": [
       "<torch.autograd.grad_mode.set_grad_enabled at 0x2bef0a190>"
      ]
     },
     "execution_count": 5,
     "metadata": {},
     "output_type": "execute_result"
    }
   ],
   "source": [
    "dir_name = f\"../InterpBench/{task_idx}\"\n",
    "cfg_dict = pickle.load(open(f\"{dir_name}/ll_model_cfg.pkl\", \"rb\"))\n",
    "cfg = HookedTransformerConfig.from_dict(cfg_dict)\n",
    "cfg.device = \"cuda\" if torch.cuda.is_available() else \"cpu\"\n",
    "model = HookedTransformer(cfg)\n",
    "weights = torch.load(f\"{dir_name}/ll_model.pth\", map_location=cfg.device)\n",
    "model.load_state_dict(weights)\n",
    "# turn off grads\n",
    "model.eval()\n",
    "model.requires_grad_(False)\n",
    "torch.set_grad_enabled(False)"
   ]
  },
  {
   "cell_type": "code",
   "execution_count": 6,
   "metadata": {},
   "outputs": [],
   "source": [
    "# load high level model\n",
    "from circuits_benchmark.utils.iit import make_iit_hl_model\n",
    "import circuits_benchmark.utils.iit.correspondence as correspondence\n",
    "import iit.model_pairs as mp\n",
    "\n",
    "def make_model_pair(benchmark_case):\n",
    "    hl_model = benchmark_case.build_transformer_lens_model()\n",
    "    hl_model = make_iit_hl_model(hl_model, eval_mode=True)\n",
    "    tracr_output = benchmark_case.get_tracr_output()\n",
    "    hl_ll_corr = correspondence.TracrCorrespondence.from_output(\n",
    "            case=benchmark_case, tracr_output=tracr_output\n",
    "        )\n",
    "    model_pair = mp.StrictIITModelPair(hl_model, model, hl_ll_corr)\n",
    "    return model_pair"
   ]
  },
  {
   "cell_type": "code",
   "execution_count": 7,
   "metadata": {},
   "outputs": [
    {
     "name": "stdout",
     "output_type": "stream",
     "text": [
      "Moving model to device:  cpu\n",
      "{'hook_embed': HookPoint(), 'hook_pos_embed': HookPoint(), 'blocks.0.attn.hook_k': HookPoint(), 'blocks.0.attn.hook_q': HookPoint(), 'blocks.0.attn.hook_v': HookPoint(), 'blocks.0.attn.hook_z': HookPoint(), 'blocks.0.attn.hook_attn_scores': HookPoint(), 'blocks.0.attn.hook_pattern': HookPoint(), 'blocks.0.attn.hook_result': HookPoint(), 'blocks.0.mlp.hook_pre': HookPoint(), 'blocks.0.mlp.hook_post': HookPoint(), 'blocks.0.hook_attn_in': HookPoint(), 'blocks.0.hook_q_input': HookPoint(), 'blocks.0.hook_k_input': HookPoint(), 'blocks.0.hook_v_input': HookPoint(), 'blocks.0.hook_mlp_in': HookPoint(), 'blocks.0.hook_attn_out': HookPoint(), 'blocks.0.hook_mlp_out': HookPoint(), 'blocks.0.hook_resid_pre': HookPoint(), 'blocks.0.hook_resid_mid': HookPoint(), 'blocks.0.hook_resid_post': HookPoint(), 'blocks.1.attn.hook_k': HookPoint(), 'blocks.1.attn.hook_q': HookPoint(), 'blocks.1.attn.hook_v': HookPoint(), 'blocks.1.attn.hook_z': HookPoint(), 'blocks.1.attn.hook_attn_scores': HookPoint(), 'blocks.1.attn.hook_pattern': HookPoint(), 'blocks.1.attn.hook_result': HookPoint(), 'blocks.1.mlp.hook_pre': HookPoint(), 'blocks.1.mlp.hook_post': HookPoint(), 'blocks.1.hook_attn_in': HookPoint(), 'blocks.1.hook_q_input': HookPoint(), 'blocks.1.hook_k_input': HookPoint(), 'blocks.1.hook_v_input': HookPoint(), 'blocks.1.hook_mlp_in': HookPoint(), 'blocks.1.hook_attn_out': HookPoint(), 'blocks.1.hook_mlp_out': HookPoint(), 'blocks.1.hook_resid_pre': HookPoint(), 'blocks.1.hook_resid_mid': HookPoint(), 'blocks.1.hook_resid_post': HookPoint()}\n",
      "dict_keys([TracrHLNode(name: blocks.0.mlp.hook_post,\n",
      " label: map_3,\n",
      " classes: 0,\n",
      " index: [:]\n",
      "), TracrHLNode(name: blocks.1.attn.hook_result,\n",
      " label: aggregate_1,\n",
      " classes: 0,\n",
      " index: [:, :, 0, :]\n",
      ")])\n"
     ]
    }
   ],
   "source": [
    "from circuits_benchmark.utils.iit.dataset import get_unique_data\n",
    "\n",
    "max_len = 100\n",
    "model_pair = make_model_pair(task)\n",
    "unique_test_data = get_unique_data(task, max_len=max_len)"
   ]
  },
  {
   "cell_type": "markdown",
   "metadata": {},
   "source": [
    "Resample ablate with 10%, 20% etc. of the activation"
   ]
  },
  {
   "cell_type": "code",
   "execution_count": 5,
   "metadata": {},
   "outputs": [],
   "source": [
    "from iit.model_pairs.nodes import LLNode\n",
    "from typing import Callable\n",
    "from torch import Tensor\n",
    "from transformer_lens.hook_points import HookPoint\n",
    "import iit.utils.eval_ablations as eval_ablations\n",
    "from importlib import reload\n",
    "from circuits_benchmark.utils.iit.dataset import TracrIITDataset\n",
    "import pandas as pd\n",
    "\n",
    "\n",
    "def get_effects_for_scales(\n",
    "    model_pair,\n",
    "    unique_test_data,\n",
    "    hook_maker: Callable[\n",
    "        [mp.BaseModelPair, LLNode, float], Callable[[Tensor, HookPoint], Tensor]\n",
    "    ],\n",
    "    scales=[0.1, 1.0],\n",
    "):\n",
    "    combined_scales_df = pd.DataFrame(\n",
    "        columns=[\"node\", \"status\"] + [f\"scale {scale}\" for scale in scales]\n",
    "    )\n",
    "\n",
    "    for scale in scales:\n",
    "        print(f\"Running scale {scale}\\n\")\n",
    "        test_set = TracrIITDataset(\n",
    "            unique_test_data,\n",
    "            unique_test_data,\n",
    "            model_pair.hl_model,\n",
    "            every_combination=True,\n",
    "        )\n",
    "\n",
    "        hook_maker_for_node = lambda ll_node: hook_maker(model_pair=model_pair, ll_node=ll_node, scale=scale)\n",
    "\n",
    "        causal_effects_not_in_circuit = eval_ablations.check_causal_effect(\n",
    "            model_pair=model_pair,\n",
    "            dataset=test_set,\n",
    "            hook_maker=hook_maker_for_node,\n",
    "            node_type=\"n\",\n",
    "        )\n",
    "\n",
    "        causal_effects_in_circuit = eval_ablations.check_causal_effect(\n",
    "            model_pair=model_pair,\n",
    "            dataset=test_set,\n",
    "            hook_maker=hook_maker_for_node,\n",
    "            node_type=\"individual_c\",\n",
    "        )\n",
    "\n",
    "        causal_effects = eval_ablations.make_dataframe_of_results(\n",
    "            causal_effects_not_in_circuit, causal_effects_in_circuit\n",
    "        )\n",
    "\n",
    "        # change column name causal effect to scale\n",
    "        causal_effects.rename(columns={\"causal effect\": f\"scale {scale}\"}, inplace=True)\n",
    "        combined_scales_df = pd.merge(\n",
    "            combined_scales_df, causal_effects, on=[\"node\", \"status\"], how=\"outer\"\n",
    "        )\n",
    "        # drop columns with nan\n",
    "        combined_scales_df.dropna(axis=1, how=\"all\", inplace=True)\n",
    "    return combined_scales_df"
   ]
  },
  {
   "cell_type": "code",
   "execution_count": 6,
   "metadata": {},
   "outputs": [
    {
     "name": "stdout",
     "output_type": "stream",
     "text": [
      "Running scale 0.0\n",
      "\n"
     ]
    },
    {
     "name": "stderr",
     "output_type": "stream",
     "text": [
      "100%|██████████| 40/40 [00:03<00:00, 12.73it/s]\n",
      "100%|██████████| 40/40 [00:01<00:00, 27.50it/s]\n"
     ]
    },
    {
     "name": "stdout",
     "output_type": "stream",
     "text": [
      "Running scale 0.1\n",
      "\n"
     ]
    },
    {
     "name": "stderr",
     "output_type": "stream",
     "text": [
      "100%|██████████| 40/40 [00:03<00:00, 12.48it/s]\n",
      "100%|██████████| 40/40 [00:01<00:00, 28.52it/s]\n"
     ]
    },
    {
     "name": "stdout",
     "output_type": "stream",
     "text": [
      "Running scale 0.2\n",
      "\n"
     ]
    },
    {
     "name": "stderr",
     "output_type": "stream",
     "text": [
      "100%|██████████| 40/40 [00:03<00:00, 11.74it/s]\n",
      "100%|██████████| 40/40 [00:01<00:00, 23.82it/s]\n"
     ]
    },
    {
     "name": "stdout",
     "output_type": "stream",
     "text": [
      "Running scale 0.5\n",
      "\n"
     ]
    },
    {
     "name": "stderr",
     "output_type": "stream",
     "text": [
      "100%|██████████| 40/40 [00:03<00:00, 11.71it/s]\n",
      "100%|██████████| 40/40 [00:01<00:00, 25.45it/s]\n"
     ]
    },
    {
     "name": "stdout",
     "output_type": "stream",
     "text": [
      "Running scale 0.7\n",
      "\n"
     ]
    },
    {
     "name": "stderr",
     "output_type": "stream",
     "text": [
      "100%|██████████| 40/40 [00:03<00:00, 12.06it/s]\n",
      "100%|██████████| 40/40 [00:01<00:00, 24.76it/s]\n"
     ]
    },
    {
     "name": "stdout",
     "output_type": "stream",
     "text": [
      "Running scale 0.8\n",
      "\n"
     ]
    },
    {
     "name": "stderr",
     "output_type": "stream",
     "text": [
      "100%|██████████| 40/40 [00:03<00:00, 12.46it/s]\n",
      "100%|██████████| 40/40 [00:01<00:00, 27.05it/s]\n"
     ]
    },
    {
     "name": "stdout",
     "output_type": "stream",
     "text": [
      "Running scale 1.0\n",
      "\n"
     ]
    },
    {
     "name": "stderr",
     "output_type": "stream",
     "text": [
      "100%|██████████| 40/40 [00:03<00:00, 11.29it/s]\n",
      "100%|██████████| 40/40 [00:01<00:00, 23.80it/s]\n"
     ]
    },
    {
     "name": "stdout",
     "output_type": "stream",
     "text": [
      "Running scale 1.2\n",
      "\n"
     ]
    },
    {
     "name": "stderr",
     "output_type": "stream",
     "text": [
      "100%|██████████| 40/40 [00:03<00:00, 11.93it/s]\n",
      "100%|██████████| 40/40 [00:01<00:00, 25.58it/s]\n"
     ]
    },
    {
     "name": "stdout",
     "output_type": "stream",
     "text": [
      "Running scale 1.4\n",
      "\n"
     ]
    },
    {
     "name": "stderr",
     "output_type": "stream",
     "text": [
      "100%|██████████| 40/40 [00:03<00:00, 11.84it/s]\n",
      "100%|██████████| 40/40 [00:01<00:00, 24.25it/s]\n"
     ]
    },
    {
     "name": "stdout",
     "output_type": "stream",
     "text": [
      "Running scale 2.0\n",
      "\n"
     ]
    },
    {
     "name": "stderr",
     "output_type": "stream",
     "text": [
      "100%|██████████| 40/40 [00:03<00:00, 11.38it/s]\n",
      "100%|██████████| 40/40 [00:01<00:00, 26.15it/s]\n"
     ]
    },
    {
     "name": "stdout",
     "output_type": "stream",
     "text": [
      "Running scale 5.0\n",
      "\n"
     ]
    },
    {
     "name": "stderr",
     "output_type": "stream",
     "text": [
      "100%|██████████| 40/40 [00:03<00:00, 11.77it/s]\n",
      "100%|██████████| 40/40 [00:01<00:00, 24.60it/s]\n"
     ]
    }
   ],
   "source": [
    "def make_ll_ablation_hook_scale_activations(\n",
    "        model_pair, ll_node: LLNode, scale: float\n",
    "    ) -> Callable[[Tensor, HookPoint], Tensor]:\n",
    "        \"\"\"\n",
    "        Resample ablations, but with the patched activations scaled by the given factor.\n",
    "        \"\"\"\n",
    "        if ll_node.subspace is not None:\n",
    "            raise NotImplementedError\n",
    "\n",
    "        def ll_ablation_hook(hook_point_out: Tensor, hook: HookPoint) -> Tensor:\n",
    "            out = hook_point_out.clone()\n",
    "            index = ll_node.index if ll_node.index is not None else index.Ix[[None]]\n",
    "            out[index.as_index] = model_pair.ll_cache[hook.name][index.as_index] * scale\n",
    "            return out\n",
    "\n",
    "        return ll_ablation_hook\n",
    "\n",
    "scales = [0.0, 0.1, 0.2, 0.5, 0.7, 0.8, 1.0, 1.2, 1.4, 2.0, 5.0]\n",
    "combined_scales_df = get_effects_for_scales(model_pair, unique_test_data, \n",
    "                                            hook_maker=make_ll_ablation_hook_scale_activations,\n",
    "                                            scales=scales)"
   ]
  },
  {
   "cell_type": "code",
   "execution_count": 7,
   "metadata": {},
   "outputs": [
    {
     "data": {
      "text/html": [
       "<div>\n",
       "<style scoped>\n",
       "    .dataframe tbody tr th:only-of-type {\n",
       "        vertical-align: middle;\n",
       "    }\n",
       "\n",
       "    .dataframe tbody tr th {\n",
       "        vertical-align: top;\n",
       "    }\n",
       "\n",
       "    .dataframe thead th {\n",
       "        text-align: right;\n",
       "    }\n",
       "</style>\n",
       "<table border=\"1\" class=\"dataframe\">\n",
       "  <thead>\n",
       "    <tr style=\"text-align: right;\">\n",
       "      <th></th>\n",
       "      <th>node</th>\n",
       "      <th>status</th>\n",
       "      <th>scale 0.0</th>\n",
       "      <th>scale 0.1</th>\n",
       "      <th>scale 0.2</th>\n",
       "      <th>scale 0.5</th>\n",
       "      <th>scale 0.7</th>\n",
       "      <th>scale 0.8</th>\n",
       "      <th>scale 1.0</th>\n",
       "      <th>scale 1.2</th>\n",
       "      <th>scale 1.4</th>\n",
       "      <th>scale 2.0</th>\n",
       "      <th>scale 5.0</th>\n",
       "    </tr>\n",
       "  </thead>\n",
       "  <tbody>\n",
       "    <tr>\n",
       "      <th>0</th>\n",
       "      <td>blocks.0.attn.hook_result, head  0</td>\n",
       "      <td>not_in_circuit</td>\n",
       "      <td>1.000000</td>\n",
       "      <td>0.995730</td>\n",
       "      <td>0.984805</td>\n",
       "      <td>0.424364</td>\n",
       "      <td>0.147599</td>\n",
       "      <td>0.020380</td>\n",
       "      <td>0.005980</td>\n",
       "      <td>0.204187</td>\n",
       "      <td>0.444540</td>\n",
       "      <td>0.806988</td>\n",
       "      <td>0.999700</td>\n",
       "    </tr>\n",
       "    <tr>\n",
       "      <th>1</th>\n",
       "      <td>blocks.0.attn.hook_result, head  1</td>\n",
       "      <td>not_in_circuit</td>\n",
       "      <td>1.000000</td>\n",
       "      <td>1.000000</td>\n",
       "      <td>0.988372</td>\n",
       "      <td>0.648860</td>\n",
       "      <td>0.173528</td>\n",
       "      <td>0.018253</td>\n",
       "      <td>0.000000</td>\n",
       "      <td>0.025237</td>\n",
       "      <td>0.223273</td>\n",
       "      <td>0.997539</td>\n",
       "      <td>1.000000</td>\n",
       "    </tr>\n",
       "    <tr>\n",
       "      <th>2</th>\n",
       "      <td>blocks.0.attn.hook_result, head  2</td>\n",
       "      <td>not_in_circuit</td>\n",
       "      <td>0.680534</td>\n",
       "      <td>0.588329</td>\n",
       "      <td>0.437677</td>\n",
       "      <td>0.058443</td>\n",
       "      <td>0.035223</td>\n",
       "      <td>0.002068</td>\n",
       "      <td>0.000000</td>\n",
       "      <td>0.003185</td>\n",
       "      <td>0.036501</td>\n",
       "      <td>0.460792</td>\n",
       "      <td>0.900187</td>\n",
       "    </tr>\n",
       "    <tr>\n",
       "      <th>3</th>\n",
       "      <td>blocks.0.attn.hook_result, head  3</td>\n",
       "      <td>not_in_circuit</td>\n",
       "      <td>1.000000</td>\n",
       "      <td>1.000000</td>\n",
       "      <td>0.999408</td>\n",
       "      <td>0.635306</td>\n",
       "      <td>0.118211</td>\n",
       "      <td>0.035539</td>\n",
       "      <td>0.000168</td>\n",
       "      <td>0.164127</td>\n",
       "      <td>0.523615</td>\n",
       "      <td>0.990259</td>\n",
       "      <td>1.000000</td>\n",
       "    </tr>\n",
       "    <tr>\n",
       "      <th>7</th>\n",
       "      <td>blocks.1.attn.hook_result, head  2</td>\n",
       "      <td>not_in_circuit</td>\n",
       "      <td>1.000000</td>\n",
       "      <td>1.000000</td>\n",
       "      <td>1.000000</td>\n",
       "      <td>1.000000</td>\n",
       "      <td>0.961237</td>\n",
       "      <td>0.536721</td>\n",
       "      <td>0.000000</td>\n",
       "      <td>0.367025</td>\n",
       "      <td>0.964079</td>\n",
       "      <td>1.000000</td>\n",
       "      <td>1.000000</td>\n",
       "    </tr>\n",
       "    <tr>\n",
       "      <th>8</th>\n",
       "      <td>blocks.1.attn.hook_result, head  3</td>\n",
       "      <td>not_in_circuit</td>\n",
       "      <td>1.000000</td>\n",
       "      <td>1.000000</td>\n",
       "      <td>1.000000</td>\n",
       "      <td>1.000000</td>\n",
       "      <td>0.722840</td>\n",
       "      <td>0.457345</td>\n",
       "      <td>0.074625</td>\n",
       "      <td>0.354972</td>\n",
       "      <td>0.727884</td>\n",
       "      <td>1.000000</td>\n",
       "      <td>1.000000</td>\n",
       "    </tr>\n",
       "    <tr>\n",
       "      <th>9</th>\n",
       "      <td>blocks.1.mlp.hook_post</td>\n",
       "      <td>not_in_circuit</td>\n",
       "      <td>1.000000</td>\n",
       "      <td>1.000000</td>\n",
       "      <td>1.000000</td>\n",
       "      <td>1.000000</td>\n",
       "      <td>0.892223</td>\n",
       "      <td>0.682897</td>\n",
       "      <td>0.027830</td>\n",
       "      <td>0.531765</td>\n",
       "      <td>0.904191</td>\n",
       "      <td>1.000000</td>\n",
       "      <td>1.000000</td>\n",
       "    </tr>\n",
       "    <tr>\n",
       "      <th>4</th>\n",
       "      <td>blocks.0.mlp.hook_post</td>\n",
       "      <td>in_circuit</td>\n",
       "      <td>0.995777</td>\n",
       "      <td>0.911988</td>\n",
       "      <td>0.972850</td>\n",
       "      <td>0.933968</td>\n",
       "      <td>0.894231</td>\n",
       "      <td>0.960773</td>\n",
       "      <td>1.000000</td>\n",
       "      <td>1.000000</td>\n",
       "      <td>0.910674</td>\n",
       "      <td>0.951065</td>\n",
       "      <td>0.998301</td>\n",
       "    </tr>\n",
       "    <tr>\n",
       "      <th>5</th>\n",
       "      <td>blocks.1.attn.hook_result, head  0</td>\n",
       "      <td>in_circuit</td>\n",
       "      <td>0.947688</td>\n",
       "      <td>0.932320</td>\n",
       "      <td>0.850772</td>\n",
       "      <td>0.879720</td>\n",
       "      <td>0.984155</td>\n",
       "      <td>1.000000</td>\n",
       "      <td>1.000000</td>\n",
       "      <td>1.000000</td>\n",
       "      <td>0.995376</td>\n",
       "      <td>0.933816</td>\n",
       "      <td>0.955799</td>\n",
       "    </tr>\n",
       "    <tr>\n",
       "      <th>6</th>\n",
       "      <td>blocks.1.attn.hook_result, head  1</td>\n",
       "      <td>in_circuit</td>\n",
       "      <td>0.920349</td>\n",
       "      <td>0.808206</td>\n",
       "      <td>0.749656</td>\n",
       "      <td>0.532832</td>\n",
       "      <td>0.623412</td>\n",
       "      <td>0.587123</td>\n",
       "      <td>0.616037</td>\n",
       "      <td>0.701412</td>\n",
       "      <td>0.686588</td>\n",
       "      <td>0.807814</td>\n",
       "      <td>0.891579</td>\n",
       "    </tr>\n",
       "  </tbody>\n",
       "</table>\n",
       "</div>"
      ],
      "text/plain": [
       "                                 node          status  scale 0.0  scale 0.1  \\\n",
       "0  blocks.0.attn.hook_result, head  0  not_in_circuit   1.000000   0.995730   \n",
       "1  blocks.0.attn.hook_result, head  1  not_in_circuit   1.000000   1.000000   \n",
       "2  blocks.0.attn.hook_result, head  2  not_in_circuit   0.680534   0.588329   \n",
       "3  blocks.0.attn.hook_result, head  3  not_in_circuit   1.000000   1.000000   \n",
       "7  blocks.1.attn.hook_result, head  2  not_in_circuit   1.000000   1.000000   \n",
       "8  blocks.1.attn.hook_result, head  3  not_in_circuit   1.000000   1.000000   \n",
       "9              blocks.1.mlp.hook_post  not_in_circuit   1.000000   1.000000   \n",
       "4              blocks.0.mlp.hook_post      in_circuit   0.995777   0.911988   \n",
       "5  blocks.1.attn.hook_result, head  0      in_circuit   0.947688   0.932320   \n",
       "6  blocks.1.attn.hook_result, head  1      in_circuit   0.920349   0.808206   \n",
       "\n",
       "   scale 0.2  scale 0.5  scale 0.7  scale 0.8  scale 1.0  scale 1.2  \\\n",
       "0   0.984805   0.424364   0.147599   0.020380   0.005980   0.204187   \n",
       "1   0.988372   0.648860   0.173528   0.018253   0.000000   0.025237   \n",
       "2   0.437677   0.058443   0.035223   0.002068   0.000000   0.003185   \n",
       "3   0.999408   0.635306   0.118211   0.035539   0.000168   0.164127   \n",
       "7   1.000000   1.000000   0.961237   0.536721   0.000000   0.367025   \n",
       "8   1.000000   1.000000   0.722840   0.457345   0.074625   0.354972   \n",
       "9   1.000000   1.000000   0.892223   0.682897   0.027830   0.531765   \n",
       "4   0.972850   0.933968   0.894231   0.960773   1.000000   1.000000   \n",
       "5   0.850772   0.879720   0.984155   1.000000   1.000000   1.000000   \n",
       "6   0.749656   0.532832   0.623412   0.587123   0.616037   0.701412   \n",
       "\n",
       "   scale 1.4  scale 2.0  scale 5.0  \n",
       "0   0.444540   0.806988   0.999700  \n",
       "1   0.223273   0.997539   1.000000  \n",
       "2   0.036501   0.460792   0.900187  \n",
       "3   0.523615   0.990259   1.000000  \n",
       "7   0.964079   1.000000   1.000000  \n",
       "8   0.727884   1.000000   1.000000  \n",
       "9   0.904191   1.000000   1.000000  \n",
       "4   0.910674   0.951065   0.998301  \n",
       "5   0.995376   0.933816   0.955799  \n",
       "6   0.686588   0.807814   0.891579  "
      ]
     },
     "execution_count": 7,
     "metadata": {},
     "output_type": "execute_result"
    }
   ],
   "source": [
    "combined_scales_df.rename(columns={\"scale 0.0_y\": \"scale 0.0\"}, inplace=True)\n",
    "combined_scales_df = combined_scales_df.sort_values(by=[\"status\"], ascending=False)\n",
    "combined_scales_df"
   ]
  },
  {
   "cell_type": "code",
   "execution_count": 33,
   "metadata": {},
   "outputs": [],
   "source": [
    "import plotly.graph_objects as go\n",
    "\n",
    "def plot_causal_effect(combined_scales_df, scales, image_name):\n",
    "    fig = go.Figure()\n",
    "    scale_columns = [f\"scale {scale}\" for scale in scales]\n",
    "    for i, row in combined_scales_df.iterrows():\n",
    "        y = [row[col] for col in scale_columns]\n",
    "        x = scales\n",
    "        # plot lines for each node\n",
    "        fig.add_trace(go.Line(x=x, y=y, mode='lines+markers', \n",
    "                            # set color based on status\n",
    "                            line=dict(color=\"green\" if row[\"status\"] == \"in_circuit\" else \"orange\"),\n",
    "                            hovertext=f\"Node: {row['node']}, Status: {row['status']}\",\n",
    "                            # define legend only for color, not for line\n",
    "                            showlegend=False,\n",
    "                            ),\n",
    "                    )\n",
    "    fig.update_layout(xaxis_title=\"Scale\", yaxis_title=\"Causal Effect\")\n",
    "    # make legend for color\n",
    "    fig.add_trace(go.Scatter(x=[None], y=[None], mode='markers', marker=dict(color=\"green\"), name=\"in_circuit\"))\n",
    "    fig.add_trace(go.Scatter(x=[None], y=[None], mode='markers', marker=dict(color=\"orange\"), name=\"not_in_circuit\"))\n",
    "    # make background transparent and remove grid\n",
    "    fig.update_layout(template=\"plotly_white\")\n",
    "    # remove grid\n",
    "    fig.update_xaxes(showgrid=False)\n",
    "    fig.update_yaxes(showgrid=False)\n",
    "    # decrease margin\n",
    "    fig.update_layout(margin=dict(l=70, r=70, t=70, b=70))\n",
    "    # increase font size\n",
    "    fig.update_layout(font=dict(size=16))\n",
    "    # add title\n",
    "    fig.update_layout(title=image_name)\n",
    "    fig.show()\n",
    "    # save to file as pdf with same width and height\n",
    "    fig.write_image(f\"{image_name}.pdf\", width=1000, height=400)"
   ]
  },
  {
   "cell_type": "code",
   "execution_count": 9,
   "metadata": {},
   "outputs": [
    {
     "name": "stderr",
     "output_type": "stream",
     "text": [
      "/Users/cybershiptrooper/src/interpretability/MATS/.iit/lib/python3.11/site-packages/plotly/graph_objs/_deprecations.py:378: DeprecationWarning:\n",
      "\n",
      "plotly.graph_objs.Line is deprecated.\n",
      "Please replace it with one of the following more specific types\n",
      "  - plotly.graph_objs.scatter.Line\n",
      "  - plotly.graph_objs.layout.shape.Line\n",
      "  - etc.\n",
      "\n",
      "\n"
     ]
    },
    {
     "data": {
      "application/vnd.plotly.v1+json": {
       "config": {
        "plotlyServerURL": "https://plot.ly"
       },
       "data": [
        {
         "hovertext": "Node: blocks.0.attn.hook_result, head  0, Status: not_in_circuit",
         "line": {
          "color": "orange"
         },
         "mode": "lines+markers",
         "showlegend": false,
         "type": "scatter",
         "x": [
          0,
          0.1,
          0.2,
          0.5,
          0.7,
          0.8,
          1,
          1.2,
          1.4,
          2,
          5
         ],
         "y": [
          0.999999999999997,
          0.9957304264833732,
          0.9848048851457324,
          0.42436409332536157,
          0.14759910311827815,
          0.020380022114963873,
          0.005979751059218725,
          0.20418656976728025,
          0.44453967493449525,
          0.8069877702296511,
          0.9996999813183491
         ]
        },
        {
         "hovertext": "Node: blocks.0.attn.hook_result, head  1, Status: not_in_circuit",
         "line": {
          "color": "orange"
         },
         "mode": "lines+markers",
         "showlegend": false,
         "type": "scatter",
         "x": [
          0,
          0.1,
          0.2,
          0.5,
          0.7,
          0.8,
          1,
          1.2,
          1.4,
          2,
          5
         ],
         "y": [
          0.999999999999997,
          0.9999999999999967,
          0.9883715164599292,
          0.6488595755830705,
          0.17352798037862852,
          0.018252863762499558,
          0,
          0.025236847203658486,
          0.22327328988195264,
          0.9975388648622483,
          0.9999999999999971
         ]
        },
        {
         "hovertext": "Node: blocks.0.attn.hook_result, head  2, Status: not_in_circuit",
         "line": {
          "color": "orange"
         },
         "mode": "lines+markers",
         "showlegend": false,
         "type": "scatter",
         "x": [
          0,
          0.1,
          0.2,
          0.5,
          0.7,
          0.8,
          1,
          1.2,
          1.4,
          2,
          5
         ],
         "y": [
          0.6805342550903256,
          0.588329390340093,
          0.4376769341844611,
          0.058443426728076946,
          0.03522331831921924,
          0.002067645414862426,
          0,
          0.0031851505693808848,
          0.03650067182743819,
          0.4607921598394744,
          0.9001871085481735
         ]
        },
        {
         "hovertext": "Node: blocks.0.attn.hook_result, head  3, Status: not_in_circuit",
         "line": {
          "color": "orange"
         },
         "mode": "lines+markers",
         "showlegend": false,
         "type": "scatter",
         "x": [
          0,
          0.1,
          0.2,
          0.5,
          0.7,
          0.8,
          1,
          1.2,
          1.4,
          2,
          5
         ],
         "y": [
          0.999999999999997,
          0.9999999999999967,
          0.9994083320617685,
          0.6353057142754328,
          0.11821124466397404,
          0.03553903954167827,
          0.00016781241746975265,
          0.16412733038480692,
          0.5236153847947915,
          0.990259138431797,
          0.9999999999999971
         ]
        },
        {
         "hovertext": "Node: blocks.1.attn.hook_result, head  2, Status: not_in_circuit",
         "line": {
          "color": "orange"
         },
         "mode": "lines+markers",
         "showlegend": false,
         "type": "scatter",
         "x": [
          0,
          0.1,
          0.2,
          0.5,
          0.7,
          0.8,
          1,
          1.2,
          1.4,
          2,
          5
         ],
         "y": [
          0.999999999999997,
          0.9999999999999967,
          0.9999999999999969,
          0.999999999999997,
          0.9612371648869983,
          0.5367208611788516,
          0,
          0.3670252430840005,
          0.9640790645216627,
          0.9999999999999968,
          0.9999999999999971
         ]
        },
        {
         "hovertext": "Node: blocks.1.attn.hook_result, head  3, Status: not_in_circuit",
         "line": {
          "color": "orange"
         },
         "mode": "lines+markers",
         "showlegend": false,
         "type": "scatter",
         "x": [
          0,
          0.1,
          0.2,
          0.5,
          0.7,
          0.8,
          1,
          1.2,
          1.4,
          2,
          5
         ],
         "y": [
          0.999999999999997,
          0.9999999999999967,
          0.9999999999999969,
          0.999999999999997,
          0.7228399064891168,
          0.4573454801553479,
          0.07462480737661437,
          0.3549724723974098,
          0.7278837105075427,
          0.9999999999999968,
          0.9999999999999971
         ]
        },
        {
         "hovertext": "Node: blocks.1.mlp.hook_post, Status: not_in_circuit",
         "line": {
          "color": "orange"
         },
         "mode": "lines+markers",
         "showlegend": false,
         "type": "scatter",
         "x": [
          0,
          0.1,
          0.2,
          0.5,
          0.7,
          0.8,
          1,
          1.2,
          1.4,
          2,
          5
         ],
         "y": [
          0.999999999999997,
          0.9999999999999967,
          0.9999999999999969,
          0.999999999999997,
          0.8922226945843515,
          0.6828973573561313,
          0.027830335490546632,
          0.5317649522971345,
          0.9041914507061574,
          0.9999999999999968,
          0.9999999999999971
         ]
        },
        {
         "hovertext": "Node: blocks.0.mlp.hook_post, Status: in_circuit",
         "line": {
          "color": "green"
         },
         "mode": "lines+markers",
         "showlegend": false,
         "type": "scatter",
         "x": [
          0,
          0.1,
          0.2,
          0.5,
          0.7,
          0.8,
          1,
          1.2,
          1.4,
          2,
          5
         ],
         "y": [
          0.995777441468838,
          0.9119879085874207,
          0.9728496670936518,
          0.933967985664663,
          0.8942308057909093,
          0.9607731286525045,
          0.9999999999999969,
          0.9999999999999971,
          0.9106737643403009,
          0.9510649707891745,
          0.9983009551407714
         ]
        },
        {
         "hovertext": "Node: blocks.1.attn.hook_result, head  0, Status: in_circuit",
         "line": {
          "color": "green"
         },
         "mode": "lines+markers",
         "showlegend": false,
         "type": "scatter",
         "x": [
          0,
          0.1,
          0.2,
          0.5,
          0.7,
          0.8,
          1,
          1.2,
          1.4,
          2,
          5
         ],
         "y": [
          0.9476878082833994,
          0.9323204318110446,
          0.8507717552975338,
          0.8797199213690697,
          0.9841548201758527,
          0.999999999999997,
          0.9999999999999969,
          0.9999999999999971,
          0.995376024433915,
          0.9338157491062357,
          0.9557988398712584
         ]
        },
        {
         "hovertext": "Node: blocks.1.attn.hook_result, head  1, Status: in_circuit",
         "line": {
          "color": "green"
         },
         "mode": "lines+markers",
         "showlegend": false,
         "type": "scatter",
         "x": [
          0,
          0.1,
          0.2,
          0.5,
          0.7,
          0.8,
          1,
          1.2,
          1.4,
          2,
          5
         ],
         "y": [
          0.9203494193736339,
          0.8082061723228281,
          0.7496562955514982,
          0.5328315905984502,
          0.6234118807930239,
          0.5871232255870629,
          0.6160367558707981,
          0.7014124703704127,
          0.6865884425723574,
          0.807813774689654,
          0.8915791456673492
         ]
        },
        {
         "marker": {
          "color": "green"
         },
         "mode": "markers",
         "name": "in_circuit",
         "type": "scatter",
         "x": [
          null
         ],
         "y": [
          null
         ]
        },
        {
         "marker": {
          "color": "orange"
         },
         "mode": "markers",
         "name": "not_in_circuit",
         "type": "scatter",
         "x": [
          null
         ],
         "y": [
          null
         ]
        }
       ],
       "layout": {
        "font": {
         "size": 16
        },
        "margin": {
         "b": 70,
         "l": 70,
         "r": 70,
         "t": 70
        },
        "template": {
         "data": {
          "bar": [
           {
            "error_x": {
             "color": "#2a3f5f"
            },
            "error_y": {
             "color": "#2a3f5f"
            },
            "marker": {
             "line": {
              "color": "white",
              "width": 0.5
             },
             "pattern": {
              "fillmode": "overlay",
              "size": 10,
              "solidity": 0.2
             }
            },
            "type": "bar"
           }
          ],
          "barpolar": [
           {
            "marker": {
             "line": {
              "color": "white",
              "width": 0.5
             },
             "pattern": {
              "fillmode": "overlay",
              "size": 10,
              "solidity": 0.2
             }
            },
            "type": "barpolar"
           }
          ],
          "carpet": [
           {
            "aaxis": {
             "endlinecolor": "#2a3f5f",
             "gridcolor": "#C8D4E3",
             "linecolor": "#C8D4E3",
             "minorgridcolor": "#C8D4E3",
             "startlinecolor": "#2a3f5f"
            },
            "baxis": {
             "endlinecolor": "#2a3f5f",
             "gridcolor": "#C8D4E3",
             "linecolor": "#C8D4E3",
             "minorgridcolor": "#C8D4E3",
             "startlinecolor": "#2a3f5f"
            },
            "type": "carpet"
           }
          ],
          "choropleth": [
           {
            "colorbar": {
             "outlinewidth": 0,
             "ticks": ""
            },
            "type": "choropleth"
           }
          ],
          "contour": [
           {
            "colorbar": {
             "outlinewidth": 0,
             "ticks": ""
            },
            "colorscale": [
             [
              0,
              "#0d0887"
             ],
             [
              0.1111111111111111,
              "#46039f"
             ],
             [
              0.2222222222222222,
              "#7201a8"
             ],
             [
              0.3333333333333333,
              "#9c179e"
             ],
             [
              0.4444444444444444,
              "#bd3786"
             ],
             [
              0.5555555555555556,
              "#d8576b"
             ],
             [
              0.6666666666666666,
              "#ed7953"
             ],
             [
              0.7777777777777778,
              "#fb9f3a"
             ],
             [
              0.8888888888888888,
              "#fdca26"
             ],
             [
              1,
              "#f0f921"
             ]
            ],
            "type": "contour"
           }
          ],
          "contourcarpet": [
           {
            "colorbar": {
             "outlinewidth": 0,
             "ticks": ""
            },
            "type": "contourcarpet"
           }
          ],
          "heatmap": [
           {
            "colorbar": {
             "outlinewidth": 0,
             "ticks": ""
            },
            "colorscale": [
             [
              0,
              "#0d0887"
             ],
             [
              0.1111111111111111,
              "#46039f"
             ],
             [
              0.2222222222222222,
              "#7201a8"
             ],
             [
              0.3333333333333333,
              "#9c179e"
             ],
             [
              0.4444444444444444,
              "#bd3786"
             ],
             [
              0.5555555555555556,
              "#d8576b"
             ],
             [
              0.6666666666666666,
              "#ed7953"
             ],
             [
              0.7777777777777778,
              "#fb9f3a"
             ],
             [
              0.8888888888888888,
              "#fdca26"
             ],
             [
              1,
              "#f0f921"
             ]
            ],
            "type": "heatmap"
           }
          ],
          "heatmapgl": [
           {
            "colorbar": {
             "outlinewidth": 0,
             "ticks": ""
            },
            "colorscale": [
             [
              0,
              "#0d0887"
             ],
             [
              0.1111111111111111,
              "#46039f"
             ],
             [
              0.2222222222222222,
              "#7201a8"
             ],
             [
              0.3333333333333333,
              "#9c179e"
             ],
             [
              0.4444444444444444,
              "#bd3786"
             ],
             [
              0.5555555555555556,
              "#d8576b"
             ],
             [
              0.6666666666666666,
              "#ed7953"
             ],
             [
              0.7777777777777778,
              "#fb9f3a"
             ],
             [
              0.8888888888888888,
              "#fdca26"
             ],
             [
              1,
              "#f0f921"
             ]
            ],
            "type": "heatmapgl"
           }
          ],
          "histogram": [
           {
            "marker": {
             "pattern": {
              "fillmode": "overlay",
              "size": 10,
              "solidity": 0.2
             }
            },
            "type": "histogram"
           }
          ],
          "histogram2d": [
           {
            "colorbar": {
             "outlinewidth": 0,
             "ticks": ""
            },
            "colorscale": [
             [
              0,
              "#0d0887"
             ],
             [
              0.1111111111111111,
              "#46039f"
             ],
             [
              0.2222222222222222,
              "#7201a8"
             ],
             [
              0.3333333333333333,
              "#9c179e"
             ],
             [
              0.4444444444444444,
              "#bd3786"
             ],
             [
              0.5555555555555556,
              "#d8576b"
             ],
             [
              0.6666666666666666,
              "#ed7953"
             ],
             [
              0.7777777777777778,
              "#fb9f3a"
             ],
             [
              0.8888888888888888,
              "#fdca26"
             ],
             [
              1,
              "#f0f921"
             ]
            ],
            "type": "histogram2d"
           }
          ],
          "histogram2dcontour": [
           {
            "colorbar": {
             "outlinewidth": 0,
             "ticks": ""
            },
            "colorscale": [
             [
              0,
              "#0d0887"
             ],
             [
              0.1111111111111111,
              "#46039f"
             ],
             [
              0.2222222222222222,
              "#7201a8"
             ],
             [
              0.3333333333333333,
              "#9c179e"
             ],
             [
              0.4444444444444444,
              "#bd3786"
             ],
             [
              0.5555555555555556,
              "#d8576b"
             ],
             [
              0.6666666666666666,
              "#ed7953"
             ],
             [
              0.7777777777777778,
              "#fb9f3a"
             ],
             [
              0.8888888888888888,
              "#fdca26"
             ],
             [
              1,
              "#f0f921"
             ]
            ],
            "type": "histogram2dcontour"
           }
          ],
          "mesh3d": [
           {
            "colorbar": {
             "outlinewidth": 0,
             "ticks": ""
            },
            "type": "mesh3d"
           }
          ],
          "parcoords": [
           {
            "line": {
             "colorbar": {
              "outlinewidth": 0,
              "ticks": ""
             }
            },
            "type": "parcoords"
           }
          ],
          "pie": [
           {
            "automargin": true,
            "type": "pie"
           }
          ],
          "scatter": [
           {
            "fillpattern": {
             "fillmode": "overlay",
             "size": 10,
             "solidity": 0.2
            },
            "type": "scatter"
           }
          ],
          "scatter3d": [
           {
            "line": {
             "colorbar": {
              "outlinewidth": 0,
              "ticks": ""
             }
            },
            "marker": {
             "colorbar": {
              "outlinewidth": 0,
              "ticks": ""
             }
            },
            "type": "scatter3d"
           }
          ],
          "scattercarpet": [
           {
            "marker": {
             "colorbar": {
              "outlinewidth": 0,
              "ticks": ""
             }
            },
            "type": "scattercarpet"
           }
          ],
          "scattergeo": [
           {
            "marker": {
             "colorbar": {
              "outlinewidth": 0,
              "ticks": ""
             }
            },
            "type": "scattergeo"
           }
          ],
          "scattergl": [
           {
            "marker": {
             "colorbar": {
              "outlinewidth": 0,
              "ticks": ""
             }
            },
            "type": "scattergl"
           }
          ],
          "scattermapbox": [
           {
            "marker": {
             "colorbar": {
              "outlinewidth": 0,
              "ticks": ""
             }
            },
            "type": "scattermapbox"
           }
          ],
          "scatterpolar": [
           {
            "marker": {
             "colorbar": {
              "outlinewidth": 0,
              "ticks": ""
             }
            },
            "type": "scatterpolar"
           }
          ],
          "scatterpolargl": [
           {
            "marker": {
             "colorbar": {
              "outlinewidth": 0,
              "ticks": ""
             }
            },
            "type": "scatterpolargl"
           }
          ],
          "scatterternary": [
           {
            "marker": {
             "colorbar": {
              "outlinewidth": 0,
              "ticks": ""
             }
            },
            "type": "scatterternary"
           }
          ],
          "surface": [
           {
            "colorbar": {
             "outlinewidth": 0,
             "ticks": ""
            },
            "colorscale": [
             [
              0,
              "#0d0887"
             ],
             [
              0.1111111111111111,
              "#46039f"
             ],
             [
              0.2222222222222222,
              "#7201a8"
             ],
             [
              0.3333333333333333,
              "#9c179e"
             ],
             [
              0.4444444444444444,
              "#bd3786"
             ],
             [
              0.5555555555555556,
              "#d8576b"
             ],
             [
              0.6666666666666666,
              "#ed7953"
             ],
             [
              0.7777777777777778,
              "#fb9f3a"
             ],
             [
              0.8888888888888888,
              "#fdca26"
             ],
             [
              1,
              "#f0f921"
             ]
            ],
            "type": "surface"
           }
          ],
          "table": [
           {
            "cells": {
             "fill": {
              "color": "#EBF0F8"
             },
             "line": {
              "color": "white"
             }
            },
            "header": {
             "fill": {
              "color": "#C8D4E3"
             },
             "line": {
              "color": "white"
             }
            },
            "type": "table"
           }
          ]
         },
         "layout": {
          "annotationdefaults": {
           "arrowcolor": "#2a3f5f",
           "arrowhead": 0,
           "arrowwidth": 1
          },
          "autotypenumbers": "strict",
          "coloraxis": {
           "colorbar": {
            "outlinewidth": 0,
            "ticks": ""
           }
          },
          "colorscale": {
           "diverging": [
            [
             0,
             "#8e0152"
            ],
            [
             0.1,
             "#c51b7d"
            ],
            [
             0.2,
             "#de77ae"
            ],
            [
             0.3,
             "#f1b6da"
            ],
            [
             0.4,
             "#fde0ef"
            ],
            [
             0.5,
             "#f7f7f7"
            ],
            [
             0.6,
             "#e6f5d0"
            ],
            [
             0.7,
             "#b8e186"
            ],
            [
             0.8,
             "#7fbc41"
            ],
            [
             0.9,
             "#4d9221"
            ],
            [
             1,
             "#276419"
            ]
           ],
           "sequential": [
            [
             0,
             "#0d0887"
            ],
            [
             0.1111111111111111,
             "#46039f"
            ],
            [
             0.2222222222222222,
             "#7201a8"
            ],
            [
             0.3333333333333333,
             "#9c179e"
            ],
            [
             0.4444444444444444,
             "#bd3786"
            ],
            [
             0.5555555555555556,
             "#d8576b"
            ],
            [
             0.6666666666666666,
             "#ed7953"
            ],
            [
             0.7777777777777778,
             "#fb9f3a"
            ],
            [
             0.8888888888888888,
             "#fdca26"
            ],
            [
             1,
             "#f0f921"
            ]
           ],
           "sequentialminus": [
            [
             0,
             "#0d0887"
            ],
            [
             0.1111111111111111,
             "#46039f"
            ],
            [
             0.2222222222222222,
             "#7201a8"
            ],
            [
             0.3333333333333333,
             "#9c179e"
            ],
            [
             0.4444444444444444,
             "#bd3786"
            ],
            [
             0.5555555555555556,
             "#d8576b"
            ],
            [
             0.6666666666666666,
             "#ed7953"
            ],
            [
             0.7777777777777778,
             "#fb9f3a"
            ],
            [
             0.8888888888888888,
             "#fdca26"
            ],
            [
             1,
             "#f0f921"
            ]
           ]
          },
          "colorway": [
           "#636efa",
           "#EF553B",
           "#00cc96",
           "#ab63fa",
           "#FFA15A",
           "#19d3f3",
           "#FF6692",
           "#B6E880",
           "#FF97FF",
           "#FECB52"
          ],
          "font": {
           "color": "#2a3f5f"
          },
          "geo": {
           "bgcolor": "white",
           "lakecolor": "white",
           "landcolor": "white",
           "showlakes": true,
           "showland": true,
           "subunitcolor": "#C8D4E3"
          },
          "hoverlabel": {
           "align": "left"
          },
          "hovermode": "closest",
          "mapbox": {
           "style": "light"
          },
          "paper_bgcolor": "white",
          "plot_bgcolor": "white",
          "polar": {
           "angularaxis": {
            "gridcolor": "#EBF0F8",
            "linecolor": "#EBF0F8",
            "ticks": ""
           },
           "bgcolor": "white",
           "radialaxis": {
            "gridcolor": "#EBF0F8",
            "linecolor": "#EBF0F8",
            "ticks": ""
           }
          },
          "scene": {
           "xaxis": {
            "backgroundcolor": "white",
            "gridcolor": "#DFE8F3",
            "gridwidth": 2,
            "linecolor": "#EBF0F8",
            "showbackground": true,
            "ticks": "",
            "zerolinecolor": "#EBF0F8"
           },
           "yaxis": {
            "backgroundcolor": "white",
            "gridcolor": "#DFE8F3",
            "gridwidth": 2,
            "linecolor": "#EBF0F8",
            "showbackground": true,
            "ticks": "",
            "zerolinecolor": "#EBF0F8"
           },
           "zaxis": {
            "backgroundcolor": "white",
            "gridcolor": "#DFE8F3",
            "gridwidth": 2,
            "linecolor": "#EBF0F8",
            "showbackground": true,
            "ticks": "",
            "zerolinecolor": "#EBF0F8"
           }
          },
          "shapedefaults": {
           "line": {
            "color": "#2a3f5f"
           }
          },
          "ternary": {
           "aaxis": {
            "gridcolor": "#DFE8F3",
            "linecolor": "#A2B1C6",
            "ticks": ""
           },
           "baxis": {
            "gridcolor": "#DFE8F3",
            "linecolor": "#A2B1C6",
            "ticks": ""
           },
           "bgcolor": "white",
           "caxis": {
            "gridcolor": "#DFE8F3",
            "linecolor": "#A2B1C6",
            "ticks": ""
           }
          },
          "title": {
           "x": 0.05
          },
          "xaxis": {
           "automargin": true,
           "gridcolor": "#EBF0F8",
           "linecolor": "#EBF0F8",
           "ticks": "",
           "title": {
            "standoff": 15
           },
           "zerolinecolor": "#EBF0F8",
           "zerolinewidth": 2
          },
          "yaxis": {
           "automargin": true,
           "gridcolor": "#EBF0F8",
           "linecolor": "#EBF0F8",
           "ticks": "",
           "title": {
            "standoff": 15
           },
           "zerolinecolor": "#EBF0F8",
           "zerolinewidth": 2
          }
         }
        },
        "xaxis": {
         "showgrid": false,
         "title": {
          "text": "Scale"
         }
        },
        "yaxis": {
         "showgrid": false,
         "title": {
          "text": "Causal Effect"
         }
        }
       }
      }
     },
     "metadata": {},
     "output_type": "display_data"
    }
   ],
   "source": [
    "plot_causal_effect(combined_scales_df, scales, f\"causal_effect_scale_{task.get_index()}\")"
   ]
  },
  {
   "cell_type": "markdown",
   "metadata": {},
   "source": [
    "Do PCA and patch only the varying part "
   ]
  },
  {
   "cell_type": "code",
   "execution_count": 10,
   "metadata": {},
   "outputs": [],
   "source": [
    "from iit.utils.node_picker import get_nodes_in_circuit, get_nodes_not_in_circuit, get_all_nodes\n",
    "from sklearn.decomposition import PCA\n",
    "import iit.utils.index as index\n",
    "\n",
    "def find_ll_node_by_name(name, list_of_nodes) -> list:\n",
    "    ll_nodes = []\n",
    "    for node in list_of_nodes:\n",
    "        if node.name == name:\n",
    "            ll_nodes.append(node)\n",
    "    return ll_nodes\n",
    "\n",
    "\n",
    "def collect_activations(model_pair, loader, pos_slice=slice(1, None, None)):\n",
    "    activation_cache = {}\n",
    "    nodes = get_all_nodes(model_pair.ll_model)\n",
    "    pos_idx = index.TorchIndex(((slice(None), pos_slice))) if pos_slice is not None else index.Ix[slice(None)]\n",
    "    for node in nodes:\n",
    "        activation_cache[node] = None\n",
    "    for batch in loader:\n",
    "        _, batch_cache = model_pair.ll_model.run_with_cache(batch)\n",
    "        for k, tensor in batch_cache.items():\n",
    "            ll_node_for_k = find_ll_node_by_name(k, nodes)\n",
    "            if len(ll_node_for_k) > 0:\n",
    "                for node in ll_node_for_k:\n",
    "                    act = tensor[node.index.as_index].cpu()[pos_idx.as_index]\n",
    "                    if activation_cache[node] is None:\n",
    "                        activation_cache[node] = act\n",
    "                    else:\n",
    "                        activation_cache[node] = torch.cat((activation_cache[node], act), dim=0).cpu()\n",
    "    return activation_cache\n",
    "\n",
    "\n",
    "def collect_pca_directions(activation_cache, num_pca_components=2):\n",
    "    pca_dirs = {}\n",
    "\n",
    "    for node, activations in activation_cache.items():\n",
    "        # calculate pca directions for activations\n",
    "        for i in range(activations.shape[1]):\n",
    "            pca = PCA(n_components=num_pca_components)\n",
    "            activations_to_pca = activations[:, i].detach().numpy()\n",
    "            # center data before pca\n",
    "            activations_to_pca = activations_to_pca - activations_to_pca.mean(axis=0)\n",
    "            pca.fit(activations_to_pca)\n",
    "            if pca_dirs.get(node) is None:\n",
    "                pca_dirs[node] = {}\n",
    "            pca_dirs[node][i] = pca.components_\n",
    "    return pca_dirs"
   ]
  },
  {
   "cell_type": "code",
   "execution_count": 11,
   "metadata": {},
   "outputs": [
    {
     "data": {
      "text/plain": [
       "dict_keys([LLNode(name='blocks.0.attn.hook_result', index=[:, :, 0, :], subspace=None), LLNode(name='blocks.0.attn.hook_result', index=[:, :, 1, :], subspace=None), LLNode(name='blocks.0.attn.hook_result', index=[:, :, 2, :], subspace=None), LLNode(name='blocks.0.attn.hook_result', index=[:, :, 3, :], subspace=None), LLNode(name='blocks.0.mlp.hook_post', index=[:], subspace=None), LLNode(name='blocks.1.attn.hook_result', index=[:, :, 0, :], subspace=None), LLNode(name='blocks.1.attn.hook_result', index=[:, :, 1, :], subspace=None), LLNode(name='blocks.1.attn.hook_result', index=[:, :, 2, :], subspace=None), LLNode(name='blocks.1.attn.hook_result', index=[:, :, 3, :], subspace=None), LLNode(name='blocks.1.mlp.hook_post', index=[:], subspace=None)])"
      ]
     },
     "execution_count": 11,
     "metadata": {},
     "output_type": "execute_result"
    }
   ],
   "source": [
    "def collate_fn(batch):\n",
    "    encoded_x = model_pair.hl_model.map_tracr_input_to_tl_input(list(zip(*batch))[0])\n",
    "    return encoded_x\n",
    "\n",
    "loader = torch.utils.data.DataLoader(unique_test_data, batch_size=256, shuffle=False, drop_last=False, collate_fn=collate_fn)\n",
    "\n",
    "activation_cache = collect_activations(model_pair, loader=loader)\n",
    "activation_cache.keys()"
   ]
  },
  {
   "cell_type": "code",
   "execution_count": 12,
   "metadata": {},
   "outputs": [],
   "source": [
    "pca_dirs = collect_pca_directions(activation_cache, num_pca_components=2)"
   ]
  },
  {
   "cell_type": "code",
   "execution_count": 13,
   "metadata": {},
   "outputs": [],
   "source": [
    "from fancy_einsum import einsum\n",
    "\n",
    "\n",
    "def make_ll_ablation_hook_scale_activations_with_variance(\n",
    "    model_pair, ll_node: LLNode, pca_dirs: dict, scale: float, \n",
    "    self_patch: bool = False,\n",
    "    ablate_high_variance: bool = True\n",
    ") -> Callable[[Tensor, HookPoint], Tensor]:\n",
    "    \"\"\"\n",
    "    Resample ablations, but with the patched activations scaled by the given factor, along the PCA directions. Since the PCA directions capture the variance in activations, this may help us to distinguish between constant nodes and nodes whose variance is important for the model. My hypothesis is that constant nodes will have a smaller effect on the model than nodes whose variance is important for any scale provided.\n",
    "\n",
    "    If self_patch is True, the ablation will be done with the activations at the node itself, rather than the activations at the node in the cache. So this is not a resample ablation.  \n",
    "    \"\"\"\n",
    "    if ll_node.subspace is not None:\n",
    "        raise NotImplementedError\n",
    "\n",
    "    def ll_ablation_hook(hook_point_out: Tensor, hook: HookPoint) -> Tensor:\n",
    "        out = hook_point_out.clone()\n",
    "        index = ll_node.index if ll_node.index is not None else index.Ix[[None]]\n",
    "        cached_activation = model_pair.ll_cache[hook.name][index.as_index]\n",
    "        pca_dirs_at_node = pca_dirs[ll_node]\n",
    "        for i in range(0, cached_activation.shape[1]-1):\n",
    "            pca_dirs_at_i = pca_dirs_at_node[i]\n",
    "            components_at_clean_dir = []\n",
    "            for component in range(pca_dirs_at_i.shape[0]):\n",
    "                components_at_clean_dir.append(\n",
    "                    einsum(\n",
    "                        \"batch d_model, d_model -> batch\",\n",
    "                        out[index.as_index][:, i+1],\n",
    "                        torch.tensor(pca_dirs_at_i[component]),\n",
    "                    ).unsqueeze(1)\n",
    "                )\n",
    "            \n",
    "            \n",
    "            if self_patch and ablate_high_variance:\n",
    "                # take the pca direction as the direction to remove\n",
    "                components_to_remove = sum(components_at_clean_dir)\n",
    "                components_to_add = components_to_remove * scale\n",
    "            elif self_patch and not ablate_high_variance:\n",
    "                # take the mean direction as the direction to remove\n",
    "                components_to_remove = out[index.as_index][:, i+1] - sum(components_at_clean_dir) \n",
    "                components_to_add = components_to_remove * scale\n",
    "            elif not self_patch and ablate_high_variance:\n",
    "                components_at_cached_dir = []\n",
    "                components_to_remove = sum(components_at_clean_dir)\n",
    "                for component in range(pca_dirs_at_i.shape[0]):\n",
    "                    components_at_cached_dir.append(\n",
    "                        einsum(\n",
    "                            \"batch d_model, d_model -> batch\",\n",
    "                            cached_activation[:, i+1],\n",
    "                            torch.tensor(pca_dirs_at_i[component]),\n",
    "                        ).unsqueeze(1)\n",
    "                    )\n",
    "                components_to_add = sum(components_at_cached_dir) * scale\n",
    "            elif not self_patch and not ablate_high_variance:\n",
    "                components_at_cached_dir = []\n",
    "                components_to_remove = out[index.as_index][:, i+1] - sum(components_at_clean_dir) \n",
    "                for component in range(pca_dirs_at_i.shape[0]):\n",
    "                    components_at_cached_dir.append(\n",
    "                        einsum(\n",
    "                            \"batch d_model, d_model -> batch\",\n",
    "                            cached_activation[:, i+1],\n",
    "                            torch.tensor(pca_dirs_at_i[component]),\n",
    "                        ).unsqueeze(1)\n",
    "                    )\n",
    "                components_to_add = (cached_activation[:, i+1] - sum(components_at_cached_dir)) * scale\n",
    "\n",
    "            out[index.as_index][:, i+1] = (\n",
    "                out[index.as_index][:, i+1] + components_to_add - components_to_remove\n",
    "            )\n",
    "            if self_patch and scale == 1:\n",
    "                # should be the same as the original activations\n",
    "                assert torch.allclose(out, hook_point_out, atol=1e-7), (out - hook_point_out).abs().max()\n",
    "        return out\n",
    "\n",
    "    return ll_ablation_hook"
   ]
  },
  {
   "cell_type": "code",
   "execution_count": 24,
   "metadata": {},
   "outputs": [],
   "source": [
    "%%capture\n",
    "combined_scales_df_orthogonal = {}\n",
    "def make_hook(self_patch, ablate_high_variance):\n",
    "    def hook_maker(model_pair, ll_node: LLNode, scale: float) -> Callable[[Tensor, HookPoint], Tensor]:\n",
    "        return make_ll_ablation_hook_scale_activations_with_variance(model_pair, ll_node, pca_dirs, scale, self_patch=self_patch, ablate_high_variance=ablate_high_variance)\n",
    "    return hook_maker\n",
    "\n",
    "for self_patch in [True, False]:\n",
    "    for ablate_high_variance in [True, False]:\n",
    "        hook_maker = make_hook(self_patch, ablate_high_variance)\n",
    "        combined_scales_df_orthogonal[(self_patch, ablate_high_variance)] = get_effects_for_scales(model_pair, unique_test_data, \n",
    "                                            hook_maker=hook_maker,\n",
    "                                            scales=scales)"
   ]
  },
  {
   "cell_type": "code",
   "execution_count": 34,
   "metadata": {},
   "outputs": [
    {
     "name": "stderr",
     "output_type": "stream",
     "text": [
      "/Users/cybershiptrooper/src/interpretability/MATS/.iit/lib/python3.11/site-packages/plotly/graph_objs/_deprecations.py:378: DeprecationWarning:\n",
      "\n",
      "plotly.graph_objs.Line is deprecated.\n",
      "Please replace it with one of the following more specific types\n",
      "  - plotly.graph_objs.scatter.Line\n",
      "  - plotly.graph_objs.layout.shape.Line\n",
      "  - etc.\n",
      "\n",
      "\n"
     ]
    },
    {
     "data": {
      "application/vnd.plotly.v1+json": {
       "config": {
        "plotlyServerURL": "https://plot.ly"
       },
       "data": [
        {
         "hovertext": "Node: blocks.0.attn.hook_result, head  0, Status: not_in_circuit",
         "line": {
          "color": "orange"
         },
         "mode": "lines+markers",
         "showlegend": false,
         "type": "scatter",
         "x": [
          0,
          0.1,
          0.2,
          0.5,
          0.7,
          0.8,
          1,
          1.2,
          1.4,
          2,
          5
         ],
         "y": [
          0.9999999999999968,
          0.9999999999999967,
          0.9999999999999969,
          0.999999999999997,
          0.9771897935147673,
          0.9763304551003249,
          0,
          0.9771403662892294,
          0.9771041827567791,
          0.9999999999999971,
          0.999999999999997
         ]
        },
        {
         "hovertext": "Node: blocks.0.attn.hook_result, head  1, Status: not_in_circuit",
         "line": {
          "color": "orange"
         },
         "mode": "lines+markers",
         "showlegend": false,
         "type": "scatter",
         "x": [
          0,
          0.1,
          0.2,
          0.5,
          0.7,
          0.8,
          1,
          1.2,
          1.4,
          2,
          5
         ],
         "y": [
          0.9999999999999968,
          0.9999999999999967,
          0.9999999999999969,
          0.8907740012791587,
          0.7222346463759075,
          0.6460959826242753,
          0,
          0.6573226912707426,
          0.739931056006194,
          0.8157688827489813,
          0.956009034074234
         ]
        },
        {
         "hovertext": "Node: blocks.0.attn.hook_result, head  2, Status: not_in_circuit",
         "line": {
          "color": "orange"
         },
         "mode": "lines+markers",
         "showlegend": false,
         "type": "scatter",
         "x": [
          0,
          0.1,
          0.2,
          0.5,
          0.7,
          0.8,
          1,
          1.2,
          1.4,
          2,
          5
         ],
         "y": [
          0.8611112984553548,
          0.8634765144505486,
          0.8517500052694104,
          0.7775722072236919,
          0.5842584993596415,
          0.4099348958426533,
          0,
          0.3522163550451445,
          0.6095676822530525,
          0.8581716843352523,
          0.9675107901780527
         ]
        },
        {
         "hovertext": "Node: blocks.0.attn.hook_result, head  3, Status: not_in_circuit",
         "line": {
          "color": "orange"
         },
         "mode": "lines+markers",
         "showlegend": false,
         "type": "scatter",
         "x": [
          0,
          0.1,
          0.2,
          0.5,
          0.7,
          0.8,
          1,
          1.2,
          1.4,
          2,
          5
         ],
         "y": [
          0.8279370671896112,
          0.7909406829971842,
          0.7863751508453908,
          0.7208897296284367,
          0.5747862900760725,
          0.47916701313036714,
          0,
          0.4692867755386097,
          0.8709018618297896,
          0.9316345714158557,
          0.999999999999997
         ]
        },
        {
         "hovertext": "Node: blocks.1.attn.hook_result, head  2, Status: not_in_circuit",
         "line": {
          "color": "orange"
         },
         "mode": "lines+markers",
         "showlegend": false,
         "type": "scatter",
         "x": [
          0,
          0.1,
          0.2,
          0.5,
          0.7,
          0.8,
          1,
          1.2,
          1.4,
          2,
          5
         ],
         "y": [
          0.38208626170536314,
          0.3700361763570887,
          0.2253390493892629,
          0.1797476351339633,
          0.07408521138351984,
          0,
          0,
          0.039361194536378964,
          0.15839122795501515,
          0.2880422553151574,
          0.5856507340641183
         ]
        },
        {
         "hovertext": "Node: blocks.1.attn.hook_result, head  3, Status: not_in_circuit",
         "line": {
          "color": "orange"
         },
         "mode": "lines+markers",
         "showlegend": false,
         "type": "scatter",
         "x": [
          0,
          0.1,
          0.2,
          0.5,
          0.7,
          0.8,
          1,
          1.2,
          1.4,
          2,
          5
         ],
         "y": [
          0.48939849356689913,
          0.4666335962845663,
          0.4356805306954224,
          0.16427426927112002,
          0,
          0,
          0,
          0,
          0.24707243271805826,
          0.6451112712424304,
          0.8901986319424131
         ]
        },
        {
         "hovertext": "Node: blocks.1.mlp.hook_post, Status: not_in_circuit",
         "line": {
          "color": "orange"
         },
         "mode": "lines+markers",
         "showlegend": false,
         "type": "scatter",
         "x": [
          0,
          0.1,
          0.2,
          0.5,
          0.7,
          0.8,
          1,
          1.2,
          1.4,
          2,
          5
         ],
         "y": [
          0.9777225687696366,
          0.9693128785657924,
          0.9597151991274991,
          0.9010077182072059,
          0.8272908730092013,
          0.7668969931653594,
          0,
          0.7523799112835517,
          0.8470791601100506,
          0.9777417100425155,
          0.999999999999997
         ]
        },
        {
         "hovertext": "Node: blocks.0.mlp.hook_post, Status: in_circuit",
         "line": {
          "color": "green"
         },
         "mode": "lines+markers",
         "showlegend": false,
         "type": "scatter",
         "x": [
          0,
          0.1,
          0.2,
          0.5,
          0.7,
          0.8,
          1,
          1.2,
          1.4,
          2,
          5
         ],
         "y": [
          0.8668212362575198,
          0.8793326380349159,
          0.8817036485261334,
          0.9062457039557524,
          0.8525466321425621,
          0.8224713801915211,
          0,
          0.8007152061184979,
          0.9473456660640566,
          0.9852187938207804,
          0.9999999999999971
         ]
        },
        {
         "hovertext": "Node: blocks.1.attn.hook_result, head  0, Status: in_circuit",
         "line": {
          "color": "green"
         },
         "mode": "lines+markers",
         "showlegend": false,
         "type": "scatter",
         "x": [
          0,
          0.1,
          0.2,
          0.5,
          0.7,
          0.8,
          1,
          1.2,
          1.4,
          2,
          5
         ],
         "y": [
          0.657786615204879,
          0.6309945523196764,
          0.623013180237376,
          0.49624995150530093,
          0.28942447981464386,
          0.17469386362688574,
          0,
          0.3060059827551629,
          0.5875336007770885,
          0.7867294480097505,
          0.8560306960569287
         ]
        },
        {
         "hovertext": "Node: blocks.1.attn.hook_result, head  1, Status: in_circuit",
         "line": {
          "color": "green"
         },
         "mode": "lines+markers",
         "showlegend": false,
         "type": "scatter",
         "x": [
          0,
          0.1,
          0.2,
          0.5,
          0.7,
          0.8,
          1,
          1.2,
          1.4,
          2,
          5
         ],
         "y": [
          0.39541267927890633,
          0.378404954547489,
          0.3450211496955284,
          0.15461693841461882,
          0,
          0,
          0,
          0,
          0.20905293052820104,
          0.5130922156743649,
          0.76998829729275
         ]
        },
        {
         "marker": {
          "color": "green"
         },
         "mode": "markers",
         "name": "in_circuit",
         "type": "scatter",
         "x": [
          null
         ],
         "y": [
          null
         ]
        },
        {
         "marker": {
          "color": "orange"
         },
         "mode": "markers",
         "name": "not_in_circuit",
         "type": "scatter",
         "x": [
          null
         ],
         "y": [
          null
         ]
        }
       ],
       "layout": {
        "font": {
         "size": 16
        },
        "margin": {
         "b": 70,
         "l": 70,
         "r": 70,
         "t": 70
        },
        "template": {
         "data": {
          "bar": [
           {
            "error_x": {
             "color": "#2a3f5f"
            },
            "error_y": {
             "color": "#2a3f5f"
            },
            "marker": {
             "line": {
              "color": "white",
              "width": 0.5
             },
             "pattern": {
              "fillmode": "overlay",
              "size": 10,
              "solidity": 0.2
             }
            },
            "type": "bar"
           }
          ],
          "barpolar": [
           {
            "marker": {
             "line": {
              "color": "white",
              "width": 0.5
             },
             "pattern": {
              "fillmode": "overlay",
              "size": 10,
              "solidity": 0.2
             }
            },
            "type": "barpolar"
           }
          ],
          "carpet": [
           {
            "aaxis": {
             "endlinecolor": "#2a3f5f",
             "gridcolor": "#C8D4E3",
             "linecolor": "#C8D4E3",
             "minorgridcolor": "#C8D4E3",
             "startlinecolor": "#2a3f5f"
            },
            "baxis": {
             "endlinecolor": "#2a3f5f",
             "gridcolor": "#C8D4E3",
             "linecolor": "#C8D4E3",
             "minorgridcolor": "#C8D4E3",
             "startlinecolor": "#2a3f5f"
            },
            "type": "carpet"
           }
          ],
          "choropleth": [
           {
            "colorbar": {
             "outlinewidth": 0,
             "ticks": ""
            },
            "type": "choropleth"
           }
          ],
          "contour": [
           {
            "colorbar": {
             "outlinewidth": 0,
             "ticks": ""
            },
            "colorscale": [
             [
              0,
              "#0d0887"
             ],
             [
              0.1111111111111111,
              "#46039f"
             ],
             [
              0.2222222222222222,
              "#7201a8"
             ],
             [
              0.3333333333333333,
              "#9c179e"
             ],
             [
              0.4444444444444444,
              "#bd3786"
             ],
             [
              0.5555555555555556,
              "#d8576b"
             ],
             [
              0.6666666666666666,
              "#ed7953"
             ],
             [
              0.7777777777777778,
              "#fb9f3a"
             ],
             [
              0.8888888888888888,
              "#fdca26"
             ],
             [
              1,
              "#f0f921"
             ]
            ],
            "type": "contour"
           }
          ],
          "contourcarpet": [
           {
            "colorbar": {
             "outlinewidth": 0,
             "ticks": ""
            },
            "type": "contourcarpet"
           }
          ],
          "heatmap": [
           {
            "colorbar": {
             "outlinewidth": 0,
             "ticks": ""
            },
            "colorscale": [
             [
              0,
              "#0d0887"
             ],
             [
              0.1111111111111111,
              "#46039f"
             ],
             [
              0.2222222222222222,
              "#7201a8"
             ],
             [
              0.3333333333333333,
              "#9c179e"
             ],
             [
              0.4444444444444444,
              "#bd3786"
             ],
             [
              0.5555555555555556,
              "#d8576b"
             ],
             [
              0.6666666666666666,
              "#ed7953"
             ],
             [
              0.7777777777777778,
              "#fb9f3a"
             ],
             [
              0.8888888888888888,
              "#fdca26"
             ],
             [
              1,
              "#f0f921"
             ]
            ],
            "type": "heatmap"
           }
          ],
          "heatmapgl": [
           {
            "colorbar": {
             "outlinewidth": 0,
             "ticks": ""
            },
            "colorscale": [
             [
              0,
              "#0d0887"
             ],
             [
              0.1111111111111111,
              "#46039f"
             ],
             [
              0.2222222222222222,
              "#7201a8"
             ],
             [
              0.3333333333333333,
              "#9c179e"
             ],
             [
              0.4444444444444444,
              "#bd3786"
             ],
             [
              0.5555555555555556,
              "#d8576b"
             ],
             [
              0.6666666666666666,
              "#ed7953"
             ],
             [
              0.7777777777777778,
              "#fb9f3a"
             ],
             [
              0.8888888888888888,
              "#fdca26"
             ],
             [
              1,
              "#f0f921"
             ]
            ],
            "type": "heatmapgl"
           }
          ],
          "histogram": [
           {
            "marker": {
             "pattern": {
              "fillmode": "overlay",
              "size": 10,
              "solidity": 0.2
             }
            },
            "type": "histogram"
           }
          ],
          "histogram2d": [
           {
            "colorbar": {
             "outlinewidth": 0,
             "ticks": ""
            },
            "colorscale": [
             [
              0,
              "#0d0887"
             ],
             [
              0.1111111111111111,
              "#46039f"
             ],
             [
              0.2222222222222222,
              "#7201a8"
             ],
             [
              0.3333333333333333,
              "#9c179e"
             ],
             [
              0.4444444444444444,
              "#bd3786"
             ],
             [
              0.5555555555555556,
              "#d8576b"
             ],
             [
              0.6666666666666666,
              "#ed7953"
             ],
             [
              0.7777777777777778,
              "#fb9f3a"
             ],
             [
              0.8888888888888888,
              "#fdca26"
             ],
             [
              1,
              "#f0f921"
             ]
            ],
            "type": "histogram2d"
           }
          ],
          "histogram2dcontour": [
           {
            "colorbar": {
             "outlinewidth": 0,
             "ticks": ""
            },
            "colorscale": [
             [
              0,
              "#0d0887"
             ],
             [
              0.1111111111111111,
              "#46039f"
             ],
             [
              0.2222222222222222,
              "#7201a8"
             ],
             [
              0.3333333333333333,
              "#9c179e"
             ],
             [
              0.4444444444444444,
              "#bd3786"
             ],
             [
              0.5555555555555556,
              "#d8576b"
             ],
             [
              0.6666666666666666,
              "#ed7953"
             ],
             [
              0.7777777777777778,
              "#fb9f3a"
             ],
             [
              0.8888888888888888,
              "#fdca26"
             ],
             [
              1,
              "#f0f921"
             ]
            ],
            "type": "histogram2dcontour"
           }
          ],
          "mesh3d": [
           {
            "colorbar": {
             "outlinewidth": 0,
             "ticks": ""
            },
            "type": "mesh3d"
           }
          ],
          "parcoords": [
           {
            "line": {
             "colorbar": {
              "outlinewidth": 0,
              "ticks": ""
             }
            },
            "type": "parcoords"
           }
          ],
          "pie": [
           {
            "automargin": true,
            "type": "pie"
           }
          ],
          "scatter": [
           {
            "fillpattern": {
             "fillmode": "overlay",
             "size": 10,
             "solidity": 0.2
            },
            "type": "scatter"
           }
          ],
          "scatter3d": [
           {
            "line": {
             "colorbar": {
              "outlinewidth": 0,
              "ticks": ""
             }
            },
            "marker": {
             "colorbar": {
              "outlinewidth": 0,
              "ticks": ""
             }
            },
            "type": "scatter3d"
           }
          ],
          "scattercarpet": [
           {
            "marker": {
             "colorbar": {
              "outlinewidth": 0,
              "ticks": ""
             }
            },
            "type": "scattercarpet"
           }
          ],
          "scattergeo": [
           {
            "marker": {
             "colorbar": {
              "outlinewidth": 0,
              "ticks": ""
             }
            },
            "type": "scattergeo"
           }
          ],
          "scattergl": [
           {
            "marker": {
             "colorbar": {
              "outlinewidth": 0,
              "ticks": ""
             }
            },
            "type": "scattergl"
           }
          ],
          "scattermapbox": [
           {
            "marker": {
             "colorbar": {
              "outlinewidth": 0,
              "ticks": ""
             }
            },
            "type": "scattermapbox"
           }
          ],
          "scatterpolar": [
           {
            "marker": {
             "colorbar": {
              "outlinewidth": 0,
              "ticks": ""
             }
            },
            "type": "scatterpolar"
           }
          ],
          "scatterpolargl": [
           {
            "marker": {
             "colorbar": {
              "outlinewidth": 0,
              "ticks": ""
             }
            },
            "type": "scatterpolargl"
           }
          ],
          "scatterternary": [
           {
            "marker": {
             "colorbar": {
              "outlinewidth": 0,
              "ticks": ""
             }
            },
            "type": "scatterternary"
           }
          ],
          "surface": [
           {
            "colorbar": {
             "outlinewidth": 0,
             "ticks": ""
            },
            "colorscale": [
             [
              0,
              "#0d0887"
             ],
             [
              0.1111111111111111,
              "#46039f"
             ],
             [
              0.2222222222222222,
              "#7201a8"
             ],
             [
              0.3333333333333333,
              "#9c179e"
             ],
             [
              0.4444444444444444,
              "#bd3786"
             ],
             [
              0.5555555555555556,
              "#d8576b"
             ],
             [
              0.6666666666666666,
              "#ed7953"
             ],
             [
              0.7777777777777778,
              "#fb9f3a"
             ],
             [
              0.8888888888888888,
              "#fdca26"
             ],
             [
              1,
              "#f0f921"
             ]
            ],
            "type": "surface"
           }
          ],
          "table": [
           {
            "cells": {
             "fill": {
              "color": "#EBF0F8"
             },
             "line": {
              "color": "white"
             }
            },
            "header": {
             "fill": {
              "color": "#C8D4E3"
             },
             "line": {
              "color": "white"
             }
            },
            "type": "table"
           }
          ]
         },
         "layout": {
          "annotationdefaults": {
           "arrowcolor": "#2a3f5f",
           "arrowhead": 0,
           "arrowwidth": 1
          },
          "autotypenumbers": "strict",
          "coloraxis": {
           "colorbar": {
            "outlinewidth": 0,
            "ticks": ""
           }
          },
          "colorscale": {
           "diverging": [
            [
             0,
             "#8e0152"
            ],
            [
             0.1,
             "#c51b7d"
            ],
            [
             0.2,
             "#de77ae"
            ],
            [
             0.3,
             "#f1b6da"
            ],
            [
             0.4,
             "#fde0ef"
            ],
            [
             0.5,
             "#f7f7f7"
            ],
            [
             0.6,
             "#e6f5d0"
            ],
            [
             0.7,
             "#b8e186"
            ],
            [
             0.8,
             "#7fbc41"
            ],
            [
             0.9,
             "#4d9221"
            ],
            [
             1,
             "#276419"
            ]
           ],
           "sequential": [
            [
             0,
             "#0d0887"
            ],
            [
             0.1111111111111111,
             "#46039f"
            ],
            [
             0.2222222222222222,
             "#7201a8"
            ],
            [
             0.3333333333333333,
             "#9c179e"
            ],
            [
             0.4444444444444444,
             "#bd3786"
            ],
            [
             0.5555555555555556,
             "#d8576b"
            ],
            [
             0.6666666666666666,
             "#ed7953"
            ],
            [
             0.7777777777777778,
             "#fb9f3a"
            ],
            [
             0.8888888888888888,
             "#fdca26"
            ],
            [
             1,
             "#f0f921"
            ]
           ],
           "sequentialminus": [
            [
             0,
             "#0d0887"
            ],
            [
             0.1111111111111111,
             "#46039f"
            ],
            [
             0.2222222222222222,
             "#7201a8"
            ],
            [
             0.3333333333333333,
             "#9c179e"
            ],
            [
             0.4444444444444444,
             "#bd3786"
            ],
            [
             0.5555555555555556,
             "#d8576b"
            ],
            [
             0.6666666666666666,
             "#ed7953"
            ],
            [
             0.7777777777777778,
             "#fb9f3a"
            ],
            [
             0.8888888888888888,
             "#fdca26"
            ],
            [
             1,
             "#f0f921"
            ]
           ]
          },
          "colorway": [
           "#636efa",
           "#EF553B",
           "#00cc96",
           "#ab63fa",
           "#FFA15A",
           "#19d3f3",
           "#FF6692",
           "#B6E880",
           "#FF97FF",
           "#FECB52"
          ],
          "font": {
           "color": "#2a3f5f"
          },
          "geo": {
           "bgcolor": "white",
           "lakecolor": "white",
           "landcolor": "white",
           "showlakes": true,
           "showland": true,
           "subunitcolor": "#C8D4E3"
          },
          "hoverlabel": {
           "align": "left"
          },
          "hovermode": "closest",
          "mapbox": {
           "style": "light"
          },
          "paper_bgcolor": "white",
          "plot_bgcolor": "white",
          "polar": {
           "angularaxis": {
            "gridcolor": "#EBF0F8",
            "linecolor": "#EBF0F8",
            "ticks": ""
           },
           "bgcolor": "white",
           "radialaxis": {
            "gridcolor": "#EBF0F8",
            "linecolor": "#EBF0F8",
            "ticks": ""
           }
          },
          "scene": {
           "xaxis": {
            "backgroundcolor": "white",
            "gridcolor": "#DFE8F3",
            "gridwidth": 2,
            "linecolor": "#EBF0F8",
            "showbackground": true,
            "ticks": "",
            "zerolinecolor": "#EBF0F8"
           },
           "yaxis": {
            "backgroundcolor": "white",
            "gridcolor": "#DFE8F3",
            "gridwidth": 2,
            "linecolor": "#EBF0F8",
            "showbackground": true,
            "ticks": "",
            "zerolinecolor": "#EBF0F8"
           },
           "zaxis": {
            "backgroundcolor": "white",
            "gridcolor": "#DFE8F3",
            "gridwidth": 2,
            "linecolor": "#EBF0F8",
            "showbackground": true,
            "ticks": "",
            "zerolinecolor": "#EBF0F8"
           }
          },
          "shapedefaults": {
           "line": {
            "color": "#2a3f5f"
           }
          },
          "ternary": {
           "aaxis": {
            "gridcolor": "#DFE8F3",
            "linecolor": "#A2B1C6",
            "ticks": ""
           },
           "baxis": {
            "gridcolor": "#DFE8F3",
            "linecolor": "#A2B1C6",
            "ticks": ""
           },
           "bgcolor": "white",
           "caxis": {
            "gridcolor": "#DFE8F3",
            "linecolor": "#A2B1C6",
            "ticks": ""
           }
          },
          "title": {
           "x": 0.05
          },
          "xaxis": {
           "automargin": true,
           "gridcolor": "#EBF0F8",
           "linecolor": "#EBF0F8",
           "ticks": "",
           "title": {
            "standoff": 15
           },
           "zerolinecolor": "#EBF0F8",
           "zerolinewidth": 2
          },
          "yaxis": {
           "automargin": true,
           "gridcolor": "#EBF0F8",
           "linecolor": "#EBF0F8",
           "ticks": "",
           "title": {
            "standoff": 15
           },
           "zerolinecolor": "#EBF0F8",
           "zerolinewidth": 2
          }
         }
        },
        "title": {
         "text": "causal_effect_scale_3_self_patch_ablate_high_variance"
        },
        "xaxis": {
         "showgrid": false,
         "title": {
          "text": "Scale"
         }
        },
        "yaxis": {
         "showgrid": false,
         "title": {
          "text": "Causal Effect"
         }
        }
       }
      }
     },
     "metadata": {},
     "output_type": "display_data"
    },
    {
     "data": {
      "application/vnd.plotly.v1+json": {
       "config": {
        "plotlyServerURL": "https://plot.ly"
       },
       "data": [
        {
         "hovertext": "Node: blocks.0.attn.hook_result, head  0, Status: not_in_circuit",
         "line": {
          "color": "orange"
         },
         "mode": "lines+markers",
         "showlegend": false,
         "type": "scatter",
         "x": [
          0,
          0.1,
          0.2,
          0.5,
          0.7,
          0.8,
          1,
          1.2,
          1.4,
          2,
          5
         ],
         "y": [
          0.999999999999997,
          0.9999999999999968,
          0.9999999999999969,
          0.999999999999997,
          0.999999999999997,
          0.9756603394428425,
          0,
          0.9754484018808754,
          0.9999999999999969,
          0.9999999999999969,
          0.9999999999999971
         ]
        },
        {
         "hovertext": "Node: blocks.0.attn.hook_result, head  1, Status: not_in_circuit",
         "line": {
          "color": "orange"
         },
         "mode": "lines+markers",
         "showlegend": false,
         "type": "scatter",
         "x": [
          0,
          0.1,
          0.2,
          0.5,
          0.7,
          0.8,
          1,
          1.2,
          1.4,
          2,
          5
         ],
         "y": [
          0.800913979617216,
          0.7790619783891183,
          0.79819116469552,
          0.799521985282661,
          0.7499016599464681,
          0.7024073777680842,
          0,
          0.6848766131645093,
          0.8777286872559943,
          0.9999999999999969,
          0.9999999999999971
         ]
        },
        {
         "hovertext": "Node: blocks.0.attn.hook_result, head  2, Status: not_in_circuit",
         "line": {
          "color": "orange"
         },
         "mode": "lines+markers",
         "showlegend": false,
         "type": "scatter",
         "x": [
          0,
          0.1,
          0.2,
          0.5,
          0.7,
          0.8,
          1,
          1.2,
          1.4,
          2,
          5
         ],
         "y": [
          0.946239253566503,
          0.941216920628425,
          0.8917195729443035,
          0.861598002068451,
          0.7447404810836842,
          0.45494601651725786,
          0,
          0.5213024796903679,
          0.823180791868507,
          0.9260032712579606,
          0.9828179055610706
         ]
        },
        {
         "hovertext": "Node: blocks.0.attn.hook_result, head  3, Status: not_in_circuit",
         "line": {
          "color": "orange"
         },
         "mode": "lines+markers",
         "showlegend": false,
         "type": "scatter",
         "x": [
          0,
          0.1,
          0.2,
          0.5,
          0.7,
          0.8,
          1,
          1.2,
          1.4,
          2,
          5
         ],
         "y": [
          0.9671150576646298,
          0.9485128255677931,
          0.9317704608962613,
          0.9093281504134323,
          0.7494606467880577,
          0.5455407279905697,
          0,
          0.4879909641823932,
          0.7714627705891801,
          0.8302993424246728,
          0.9177827216013927
         ]
        },
        {
         "hovertext": "Node: blocks.1.attn.hook_result, head  2, Status: not_in_circuit",
         "line": {
          "color": "orange"
         },
         "mode": "lines+markers",
         "showlegend": false,
         "type": "scatter",
         "x": [
          0,
          0.1,
          0.2,
          0.5,
          0.7,
          0.8,
          1,
          1.2,
          1.4,
          2,
          5
         ],
         "y": [
          0.999999999999997,
          0.9999999999999968,
          0.9999999999999969,
          0.999999999999997,
          0.9772902198438003,
          0.6388737146645548,
          0,
          0.2502490636410867,
          0.9957440349934835,
          0.9999999999999969,
          0.9999999999999971
         ]
        },
        {
         "hovertext": "Node: blocks.1.attn.hook_result, head  3, Status: not_in_circuit",
         "line": {
          "color": "orange"
         },
         "mode": "lines+markers",
         "showlegend": false,
         "type": "scatter",
         "x": [
          0,
          0.1,
          0.2,
          0.5,
          0.7,
          0.8,
          1,
          1.2,
          1.4,
          2,
          5
         ],
         "y": [
          0.999999999999997,
          0.9999999999999968,
          0.9999999999999969,
          0.999999999999997,
          0.999999999999997,
          0.758090858871196,
          0,
          0.5539750054454088,
          0.9999999999999969,
          0.9999999999999969,
          0.9999999999999971
         ]
        },
        {
         "hovertext": "Node: blocks.1.mlp.hook_post, Status: not_in_circuit",
         "line": {
          "color": "orange"
         },
         "mode": "lines+markers",
         "showlegend": false,
         "type": "scatter",
         "x": [
          0,
          0.1,
          0.2,
          0.5,
          0.7,
          0.8,
          1,
          1.2,
          1.4,
          2,
          5
         ],
         "y": [
          0.9111792060393032,
          0.9134356113739849,
          0.8642230042586838,
          0.8357897301766087,
          0.7347075457958627,
          0.5842677606675449,
          0,
          0.6403202823735314,
          0.8160540689893491,
          0.894057172140161,
          0.9862888581746693
         ]
        },
        {
         "hovertext": "Node: blocks.0.mlp.hook_post, Status: in_circuit",
         "line": {
          "color": "green"
         },
         "mode": "lines+markers",
         "showlegend": false,
         "type": "scatter",
         "x": [
          0,
          0.1,
          0.2,
          0.5,
          0.7,
          0.8,
          1,
          1.2,
          1.4,
          2,
          5
         ],
         "y": [
          0.9032621541806087,
          0.9066434053254927,
          0.9067788254693708,
          0.8933192835024747,
          0.8597515137428055,
          0.7229802439399456,
          0,
          0.7859365521302557,
          0.8476767231721825,
          0.991873079345597,
          0.9789817875006487
         ]
        },
        {
         "hovertext": "Node: blocks.1.attn.hook_result, head  0, Status: in_circuit",
         "line": {
          "color": "green"
         },
         "mode": "lines+markers",
         "showlegend": false,
         "type": "scatter",
         "x": [
          0,
          0.1,
          0.2,
          0.5,
          0.7,
          0.8,
          1,
          1.2,
          1.4,
          2,
          5
         ],
         "y": [
          0.8894409037866401,
          0.8656371834106957,
          0.8433624220233115,
          0.7171536813749153,
          0.4611946877792163,
          0.1162928487667988,
          0,
          0.32198111182413575,
          0.728489978980762,
          0.8648393076302637,
          0.9808788514339712
         ]
        },
        {
         "hovertext": "Node: blocks.1.attn.hook_result, head  1, Status: in_circuit",
         "line": {
          "color": "green"
         },
         "mode": "lines+markers",
         "showlegend": false,
         "type": "scatter",
         "x": [
          0,
          0.1,
          0.2,
          0.5,
          0.7,
          0.8,
          1,
          1.2,
          1.4,
          2,
          5
         ],
         "y": [
          0.5472369914892559,
          0.5087608618046523,
          0.4674722315959369,
          0.22556729437950335,
          0,
          0,
          0,
          0,
          0.1275531525647029,
          0.526319850543791,
          0.7213759739241976
         ]
        },
        {
         "marker": {
          "color": "green"
         },
         "mode": "markers",
         "name": "in_circuit",
         "type": "scatter",
         "x": [
          null
         ],
         "y": [
          null
         ]
        },
        {
         "marker": {
          "color": "orange"
         },
         "mode": "markers",
         "name": "not_in_circuit",
         "type": "scatter",
         "x": [
          null
         ],
         "y": [
          null
         ]
        }
       ],
       "layout": {
        "font": {
         "size": 16
        },
        "margin": {
         "b": 70,
         "l": 70,
         "r": 70,
         "t": 70
        },
        "template": {
         "data": {
          "bar": [
           {
            "error_x": {
             "color": "#2a3f5f"
            },
            "error_y": {
             "color": "#2a3f5f"
            },
            "marker": {
             "line": {
              "color": "white",
              "width": 0.5
             },
             "pattern": {
              "fillmode": "overlay",
              "size": 10,
              "solidity": 0.2
             }
            },
            "type": "bar"
           }
          ],
          "barpolar": [
           {
            "marker": {
             "line": {
              "color": "white",
              "width": 0.5
             },
             "pattern": {
              "fillmode": "overlay",
              "size": 10,
              "solidity": 0.2
             }
            },
            "type": "barpolar"
           }
          ],
          "carpet": [
           {
            "aaxis": {
             "endlinecolor": "#2a3f5f",
             "gridcolor": "#C8D4E3",
             "linecolor": "#C8D4E3",
             "minorgridcolor": "#C8D4E3",
             "startlinecolor": "#2a3f5f"
            },
            "baxis": {
             "endlinecolor": "#2a3f5f",
             "gridcolor": "#C8D4E3",
             "linecolor": "#C8D4E3",
             "minorgridcolor": "#C8D4E3",
             "startlinecolor": "#2a3f5f"
            },
            "type": "carpet"
           }
          ],
          "choropleth": [
           {
            "colorbar": {
             "outlinewidth": 0,
             "ticks": ""
            },
            "type": "choropleth"
           }
          ],
          "contour": [
           {
            "colorbar": {
             "outlinewidth": 0,
             "ticks": ""
            },
            "colorscale": [
             [
              0,
              "#0d0887"
             ],
             [
              0.1111111111111111,
              "#46039f"
             ],
             [
              0.2222222222222222,
              "#7201a8"
             ],
             [
              0.3333333333333333,
              "#9c179e"
             ],
             [
              0.4444444444444444,
              "#bd3786"
             ],
             [
              0.5555555555555556,
              "#d8576b"
             ],
             [
              0.6666666666666666,
              "#ed7953"
             ],
             [
              0.7777777777777778,
              "#fb9f3a"
             ],
             [
              0.8888888888888888,
              "#fdca26"
             ],
             [
              1,
              "#f0f921"
             ]
            ],
            "type": "contour"
           }
          ],
          "contourcarpet": [
           {
            "colorbar": {
             "outlinewidth": 0,
             "ticks": ""
            },
            "type": "contourcarpet"
           }
          ],
          "heatmap": [
           {
            "colorbar": {
             "outlinewidth": 0,
             "ticks": ""
            },
            "colorscale": [
             [
              0,
              "#0d0887"
             ],
             [
              0.1111111111111111,
              "#46039f"
             ],
             [
              0.2222222222222222,
              "#7201a8"
             ],
             [
              0.3333333333333333,
              "#9c179e"
             ],
             [
              0.4444444444444444,
              "#bd3786"
             ],
             [
              0.5555555555555556,
              "#d8576b"
             ],
             [
              0.6666666666666666,
              "#ed7953"
             ],
             [
              0.7777777777777778,
              "#fb9f3a"
             ],
             [
              0.8888888888888888,
              "#fdca26"
             ],
             [
              1,
              "#f0f921"
             ]
            ],
            "type": "heatmap"
           }
          ],
          "heatmapgl": [
           {
            "colorbar": {
             "outlinewidth": 0,
             "ticks": ""
            },
            "colorscale": [
             [
              0,
              "#0d0887"
             ],
             [
              0.1111111111111111,
              "#46039f"
             ],
             [
              0.2222222222222222,
              "#7201a8"
             ],
             [
              0.3333333333333333,
              "#9c179e"
             ],
             [
              0.4444444444444444,
              "#bd3786"
             ],
             [
              0.5555555555555556,
              "#d8576b"
             ],
             [
              0.6666666666666666,
              "#ed7953"
             ],
             [
              0.7777777777777778,
              "#fb9f3a"
             ],
             [
              0.8888888888888888,
              "#fdca26"
             ],
             [
              1,
              "#f0f921"
             ]
            ],
            "type": "heatmapgl"
           }
          ],
          "histogram": [
           {
            "marker": {
             "pattern": {
              "fillmode": "overlay",
              "size": 10,
              "solidity": 0.2
             }
            },
            "type": "histogram"
           }
          ],
          "histogram2d": [
           {
            "colorbar": {
             "outlinewidth": 0,
             "ticks": ""
            },
            "colorscale": [
             [
              0,
              "#0d0887"
             ],
             [
              0.1111111111111111,
              "#46039f"
             ],
             [
              0.2222222222222222,
              "#7201a8"
             ],
             [
              0.3333333333333333,
              "#9c179e"
             ],
             [
              0.4444444444444444,
              "#bd3786"
             ],
             [
              0.5555555555555556,
              "#d8576b"
             ],
             [
              0.6666666666666666,
              "#ed7953"
             ],
             [
              0.7777777777777778,
              "#fb9f3a"
             ],
             [
              0.8888888888888888,
              "#fdca26"
             ],
             [
              1,
              "#f0f921"
             ]
            ],
            "type": "histogram2d"
           }
          ],
          "histogram2dcontour": [
           {
            "colorbar": {
             "outlinewidth": 0,
             "ticks": ""
            },
            "colorscale": [
             [
              0,
              "#0d0887"
             ],
             [
              0.1111111111111111,
              "#46039f"
             ],
             [
              0.2222222222222222,
              "#7201a8"
             ],
             [
              0.3333333333333333,
              "#9c179e"
             ],
             [
              0.4444444444444444,
              "#bd3786"
             ],
             [
              0.5555555555555556,
              "#d8576b"
             ],
             [
              0.6666666666666666,
              "#ed7953"
             ],
             [
              0.7777777777777778,
              "#fb9f3a"
             ],
             [
              0.8888888888888888,
              "#fdca26"
             ],
             [
              1,
              "#f0f921"
             ]
            ],
            "type": "histogram2dcontour"
           }
          ],
          "mesh3d": [
           {
            "colorbar": {
             "outlinewidth": 0,
             "ticks": ""
            },
            "type": "mesh3d"
           }
          ],
          "parcoords": [
           {
            "line": {
             "colorbar": {
              "outlinewidth": 0,
              "ticks": ""
             }
            },
            "type": "parcoords"
           }
          ],
          "pie": [
           {
            "automargin": true,
            "type": "pie"
           }
          ],
          "scatter": [
           {
            "fillpattern": {
             "fillmode": "overlay",
             "size": 10,
             "solidity": 0.2
            },
            "type": "scatter"
           }
          ],
          "scatter3d": [
           {
            "line": {
             "colorbar": {
              "outlinewidth": 0,
              "ticks": ""
             }
            },
            "marker": {
             "colorbar": {
              "outlinewidth": 0,
              "ticks": ""
             }
            },
            "type": "scatter3d"
           }
          ],
          "scattercarpet": [
           {
            "marker": {
             "colorbar": {
              "outlinewidth": 0,
              "ticks": ""
             }
            },
            "type": "scattercarpet"
           }
          ],
          "scattergeo": [
           {
            "marker": {
             "colorbar": {
              "outlinewidth": 0,
              "ticks": ""
             }
            },
            "type": "scattergeo"
           }
          ],
          "scattergl": [
           {
            "marker": {
             "colorbar": {
              "outlinewidth": 0,
              "ticks": ""
             }
            },
            "type": "scattergl"
           }
          ],
          "scattermapbox": [
           {
            "marker": {
             "colorbar": {
              "outlinewidth": 0,
              "ticks": ""
             }
            },
            "type": "scattermapbox"
           }
          ],
          "scatterpolar": [
           {
            "marker": {
             "colorbar": {
              "outlinewidth": 0,
              "ticks": ""
             }
            },
            "type": "scatterpolar"
           }
          ],
          "scatterpolargl": [
           {
            "marker": {
             "colorbar": {
              "outlinewidth": 0,
              "ticks": ""
             }
            },
            "type": "scatterpolargl"
           }
          ],
          "scatterternary": [
           {
            "marker": {
             "colorbar": {
              "outlinewidth": 0,
              "ticks": ""
             }
            },
            "type": "scatterternary"
           }
          ],
          "surface": [
           {
            "colorbar": {
             "outlinewidth": 0,
             "ticks": ""
            },
            "colorscale": [
             [
              0,
              "#0d0887"
             ],
             [
              0.1111111111111111,
              "#46039f"
             ],
             [
              0.2222222222222222,
              "#7201a8"
             ],
             [
              0.3333333333333333,
              "#9c179e"
             ],
             [
              0.4444444444444444,
              "#bd3786"
             ],
             [
              0.5555555555555556,
              "#d8576b"
             ],
             [
              0.6666666666666666,
              "#ed7953"
             ],
             [
              0.7777777777777778,
              "#fb9f3a"
             ],
             [
              0.8888888888888888,
              "#fdca26"
             ],
             [
              1,
              "#f0f921"
             ]
            ],
            "type": "surface"
           }
          ],
          "table": [
           {
            "cells": {
             "fill": {
              "color": "#EBF0F8"
             },
             "line": {
              "color": "white"
             }
            },
            "header": {
             "fill": {
              "color": "#C8D4E3"
             },
             "line": {
              "color": "white"
             }
            },
            "type": "table"
           }
          ]
         },
         "layout": {
          "annotationdefaults": {
           "arrowcolor": "#2a3f5f",
           "arrowhead": 0,
           "arrowwidth": 1
          },
          "autotypenumbers": "strict",
          "coloraxis": {
           "colorbar": {
            "outlinewidth": 0,
            "ticks": ""
           }
          },
          "colorscale": {
           "diverging": [
            [
             0,
             "#8e0152"
            ],
            [
             0.1,
             "#c51b7d"
            ],
            [
             0.2,
             "#de77ae"
            ],
            [
             0.3,
             "#f1b6da"
            ],
            [
             0.4,
             "#fde0ef"
            ],
            [
             0.5,
             "#f7f7f7"
            ],
            [
             0.6,
             "#e6f5d0"
            ],
            [
             0.7,
             "#b8e186"
            ],
            [
             0.8,
             "#7fbc41"
            ],
            [
             0.9,
             "#4d9221"
            ],
            [
             1,
             "#276419"
            ]
           ],
           "sequential": [
            [
             0,
             "#0d0887"
            ],
            [
             0.1111111111111111,
             "#46039f"
            ],
            [
             0.2222222222222222,
             "#7201a8"
            ],
            [
             0.3333333333333333,
             "#9c179e"
            ],
            [
             0.4444444444444444,
             "#bd3786"
            ],
            [
             0.5555555555555556,
             "#d8576b"
            ],
            [
             0.6666666666666666,
             "#ed7953"
            ],
            [
             0.7777777777777778,
             "#fb9f3a"
            ],
            [
             0.8888888888888888,
             "#fdca26"
            ],
            [
             1,
             "#f0f921"
            ]
           ],
           "sequentialminus": [
            [
             0,
             "#0d0887"
            ],
            [
             0.1111111111111111,
             "#46039f"
            ],
            [
             0.2222222222222222,
             "#7201a8"
            ],
            [
             0.3333333333333333,
             "#9c179e"
            ],
            [
             0.4444444444444444,
             "#bd3786"
            ],
            [
             0.5555555555555556,
             "#d8576b"
            ],
            [
             0.6666666666666666,
             "#ed7953"
            ],
            [
             0.7777777777777778,
             "#fb9f3a"
            ],
            [
             0.8888888888888888,
             "#fdca26"
            ],
            [
             1,
             "#f0f921"
            ]
           ]
          },
          "colorway": [
           "#636efa",
           "#EF553B",
           "#00cc96",
           "#ab63fa",
           "#FFA15A",
           "#19d3f3",
           "#FF6692",
           "#B6E880",
           "#FF97FF",
           "#FECB52"
          ],
          "font": {
           "color": "#2a3f5f"
          },
          "geo": {
           "bgcolor": "white",
           "lakecolor": "white",
           "landcolor": "white",
           "showlakes": true,
           "showland": true,
           "subunitcolor": "#C8D4E3"
          },
          "hoverlabel": {
           "align": "left"
          },
          "hovermode": "closest",
          "mapbox": {
           "style": "light"
          },
          "paper_bgcolor": "white",
          "plot_bgcolor": "white",
          "polar": {
           "angularaxis": {
            "gridcolor": "#EBF0F8",
            "linecolor": "#EBF0F8",
            "ticks": ""
           },
           "bgcolor": "white",
           "radialaxis": {
            "gridcolor": "#EBF0F8",
            "linecolor": "#EBF0F8",
            "ticks": ""
           }
          },
          "scene": {
           "xaxis": {
            "backgroundcolor": "white",
            "gridcolor": "#DFE8F3",
            "gridwidth": 2,
            "linecolor": "#EBF0F8",
            "showbackground": true,
            "ticks": "",
            "zerolinecolor": "#EBF0F8"
           },
           "yaxis": {
            "backgroundcolor": "white",
            "gridcolor": "#DFE8F3",
            "gridwidth": 2,
            "linecolor": "#EBF0F8",
            "showbackground": true,
            "ticks": "",
            "zerolinecolor": "#EBF0F8"
           },
           "zaxis": {
            "backgroundcolor": "white",
            "gridcolor": "#DFE8F3",
            "gridwidth": 2,
            "linecolor": "#EBF0F8",
            "showbackground": true,
            "ticks": "",
            "zerolinecolor": "#EBF0F8"
           }
          },
          "shapedefaults": {
           "line": {
            "color": "#2a3f5f"
           }
          },
          "ternary": {
           "aaxis": {
            "gridcolor": "#DFE8F3",
            "linecolor": "#A2B1C6",
            "ticks": ""
           },
           "baxis": {
            "gridcolor": "#DFE8F3",
            "linecolor": "#A2B1C6",
            "ticks": ""
           },
           "bgcolor": "white",
           "caxis": {
            "gridcolor": "#DFE8F3",
            "linecolor": "#A2B1C6",
            "ticks": ""
           }
          },
          "title": {
           "x": 0.05
          },
          "xaxis": {
           "automargin": true,
           "gridcolor": "#EBF0F8",
           "linecolor": "#EBF0F8",
           "ticks": "",
           "title": {
            "standoff": 15
           },
           "zerolinecolor": "#EBF0F8",
           "zerolinewidth": 2
          },
          "yaxis": {
           "automargin": true,
           "gridcolor": "#EBF0F8",
           "linecolor": "#EBF0F8",
           "ticks": "",
           "title": {
            "standoff": 15
           },
           "zerolinecolor": "#EBF0F8",
           "zerolinewidth": 2
          }
         }
        },
        "title": {
         "text": "causal_effect_scale_3_self_patch_ablate_mean"
        },
        "xaxis": {
         "showgrid": false,
         "title": {
          "text": "Scale"
         }
        },
        "yaxis": {
         "showgrid": false,
         "title": {
          "text": "Causal Effect"
         }
        }
       }
      }
     },
     "metadata": {},
     "output_type": "display_data"
    },
    {
     "data": {
      "application/vnd.plotly.v1+json": {
       "config": {
        "plotlyServerURL": "https://plot.ly"
       },
       "data": [
        {
         "hovertext": "Node: blocks.0.attn.hook_result, head  0, Status: not_in_circuit",
         "line": {
          "color": "orange"
         },
         "mode": "lines+markers",
         "showlegend": false,
         "type": "scatter",
         "x": [
          0,
          0.1,
          0.2,
          0.5,
          0.7,
          0.8,
          1,
          1.2,
          1.4,
          2,
          5
         ],
         "y": [
          0.9999999999999971,
          0.9999999999999967,
          0.9767185313670272,
          0.9649376239523232,
          0.9088468125122009,
          0.765973292937018,
          0.7884435871449049,
          0.8138868866076804,
          0.9634785647017899,
          0.9999999999999967,
          0.9750722592954921
         ]
        },
        {
         "hovertext": "Node: blocks.0.attn.hook_result, head  1, Status: not_in_circuit",
         "line": {
          "color": "orange"
         },
         "mode": "lines+markers",
         "showlegend": false,
         "type": "scatter",
         "x": [
          0,
          0.1,
          0.2,
          0.5,
          0.7,
          0.8,
          1,
          1.2,
          1.4,
          2,
          5
         ],
         "y": [
          0.9999999999999971,
          0.9751188646901211,
          0.9008391619833521,
          0.7846294270388028,
          0.880498854818844,
          0.886907852385468,
          0.9321706784835265,
          0.9379722011593377,
          0.9355028592731667,
          0.8961299480597494,
          0.9603579092902379
         ]
        },
        {
         "hovertext": "Node: blocks.0.attn.hook_result, head  2, Status: not_in_circuit",
         "line": {
          "color": "orange"
         },
         "mode": "lines+markers",
         "showlegend": false,
         "type": "scatter",
         "x": [
          0,
          0.1,
          0.2,
          0.5,
          0.7,
          0.8,
          1,
          1.2,
          1.4,
          2,
          5
         ],
         "y": [
          0.8583423694868494,
          0.8419591042056294,
          0.7700011963663584,
          0.8268930786559554,
          0.8549842096009215,
          0.8709009933049129,
          0.8807908400572474,
          0.8695981872225951,
          0.885177635341097,
          0.8996049777498911,
          0.9443377171525323
         ]
        },
        {
         "hovertext": "Node: blocks.0.attn.hook_result, head  3, Status: not_in_circuit",
         "line": {
          "color": "orange"
         },
         "mode": "lines+markers",
         "showlegend": false,
         "type": "scatter",
         "x": [
          0,
          0.1,
          0.2,
          0.5,
          0.7,
          0.8,
          1,
          1.2,
          1.4,
          2,
          5
         ],
         "y": [
          0.8257627658622382,
          0.7889922138190557,
          0.7640919914724367,
          0.7329560060000727,
          0.7735976119607539,
          0.7304412149250126,
          0.7714211542167015,
          0.7866823887976765,
          0.8361723504162184,
          0.9457503402841578,
          0.9999999999999969
         ]
        },
        {
         "hovertext": "Node: blocks.1.attn.hook_result, head  2, Status: not_in_circuit",
         "line": {
          "color": "orange"
         },
         "mode": "lines+markers",
         "showlegend": false,
         "type": "scatter",
         "x": [
          0,
          0.1,
          0.2,
          0.5,
          0.7,
          0.8,
          1,
          1.2,
          1.4,
          2,
          5
         ],
         "y": [
          0.3828479889969802,
          0.3810484910124503,
          0.3614643887683276,
          0.2719064081001235,
          0.3064997573443492,
          0.34266982059970996,
          0.3914196642496589,
          0.3599611596973613,
          0.38916369945244933,
          0.5529741607769232,
          0.755258644595773
         ]
        },
        {
         "hovertext": "Node: blocks.1.attn.hook_result, head  3, Status: not_in_circuit",
         "line": {
          "color": "orange"
         },
         "mode": "lines+markers",
         "showlegend": false,
         "type": "scatter",
         "x": [
          0,
          0.1,
          0.2,
          0.5,
          0.7,
          0.8,
          1,
          1.2,
          1.4,
          2,
          5
         ],
         "y": [
          0.4843516686526016,
          0.4640641465028651,
          0.3863615875260244,
          0.27937200004926616,
          0.2656072839210232,
          0.26830054206522347,
          0.3301996112833843,
          0.4640724844787436,
          0.5068175635814584,
          0.6491700073698929,
          0.9137209813846425
         ]
        },
        {
         "hovertext": "Node: blocks.1.mlp.hook_post, Status: not_in_circuit",
         "line": {
          "color": "orange"
         },
         "mode": "lines+markers",
         "showlegend": false,
         "type": "scatter",
         "x": [
          0,
          0.1,
          0.2,
          0.5,
          0.7,
          0.8,
          1,
          1.2,
          1.4,
          2,
          5
         ],
         "y": [
          0.9771644237357395,
          0.9080106767145049,
          0.9238704590561369,
          0.9574669406633345,
          0.9613567534566021,
          0.9883624880943772,
          0.9974524323612757,
          0.9959193054676411,
          0.9809305203895414,
          0.9821617659359171,
          0.9879787771086366
         ]
        },
        {
         "hovertext": "Node: blocks.0.mlp.hook_post, Status: in_circuit",
         "line": {
          "color": "green"
         },
         "mode": "lines+markers",
         "showlegend": false,
         "type": "scatter",
         "x": [
          0,
          0.1,
          0.2,
          0.5,
          0.7,
          0.8,
          1,
          1.2,
          1.4,
          2,
          5
         ],
         "y": [
          0.8664820133690917,
          0.8483264622627394,
          0.8727488189339339,
          0.9538663205621839,
          0.9426764580156283,
          0.9846846065994139,
          0.9851996222774575,
          0.9727524052957619,
          0.9841317534812852,
          0.993516814784102,
          0.9976720368858745
         ]
        },
        {
         "hovertext": "Node: blocks.1.attn.hook_result, head  0, Status: in_circuit",
         "line": {
          "color": "green"
         },
         "mode": "lines+markers",
         "showlegend": false,
         "type": "scatter",
         "x": [
          0,
          0.1,
          0.2,
          0.5,
          0.7,
          0.8,
          1,
          1.2,
          1.4,
          2,
          5
         ],
         "y": [
          0.6602520982052685,
          0.7115557660269821,
          0.6584795450346155,
          0.6905886196546135,
          0.8047344393721966,
          0.8589809805551493,
          0.8977103630482058,
          0.8853672012136617,
          0.8446469666726157,
          0.815755303410321,
          0.9302671993447704
         ]
        },
        {
         "hovertext": "Node: blocks.1.attn.hook_result, head  1, Status: in_circuit",
         "line": {
          "color": "green"
         },
         "mode": "lines+markers",
         "showlegend": false,
         "type": "scatter",
         "x": [
          0,
          0.1,
          0.2,
          0.5,
          0.7,
          0.8,
          1,
          1.2,
          1.4,
          2,
          5
         ],
         "y": [
          0.39498373344650956,
          0.36880891428527157,
          0.3381072762366411,
          0.24259403230487883,
          0.2206542365481439,
          0.19533886411607312,
          0.2505441130936386,
          0.4160406344039306,
          0.5127148219197916,
          0.7763864592094772,
          0.9337548874942941
         ]
        },
        {
         "marker": {
          "color": "green"
         },
         "mode": "markers",
         "name": "in_circuit",
         "type": "scatter",
         "x": [
          null
         ],
         "y": [
          null
         ]
        },
        {
         "marker": {
          "color": "orange"
         },
         "mode": "markers",
         "name": "not_in_circuit",
         "type": "scatter",
         "x": [
          null
         ],
         "y": [
          null
         ]
        }
       ],
       "layout": {
        "font": {
         "size": 16
        },
        "margin": {
         "b": 70,
         "l": 70,
         "r": 70,
         "t": 70
        },
        "template": {
         "data": {
          "bar": [
           {
            "error_x": {
             "color": "#2a3f5f"
            },
            "error_y": {
             "color": "#2a3f5f"
            },
            "marker": {
             "line": {
              "color": "white",
              "width": 0.5
             },
             "pattern": {
              "fillmode": "overlay",
              "size": 10,
              "solidity": 0.2
             }
            },
            "type": "bar"
           }
          ],
          "barpolar": [
           {
            "marker": {
             "line": {
              "color": "white",
              "width": 0.5
             },
             "pattern": {
              "fillmode": "overlay",
              "size": 10,
              "solidity": 0.2
             }
            },
            "type": "barpolar"
           }
          ],
          "carpet": [
           {
            "aaxis": {
             "endlinecolor": "#2a3f5f",
             "gridcolor": "#C8D4E3",
             "linecolor": "#C8D4E3",
             "minorgridcolor": "#C8D4E3",
             "startlinecolor": "#2a3f5f"
            },
            "baxis": {
             "endlinecolor": "#2a3f5f",
             "gridcolor": "#C8D4E3",
             "linecolor": "#C8D4E3",
             "minorgridcolor": "#C8D4E3",
             "startlinecolor": "#2a3f5f"
            },
            "type": "carpet"
           }
          ],
          "choropleth": [
           {
            "colorbar": {
             "outlinewidth": 0,
             "ticks": ""
            },
            "type": "choropleth"
           }
          ],
          "contour": [
           {
            "colorbar": {
             "outlinewidth": 0,
             "ticks": ""
            },
            "colorscale": [
             [
              0,
              "#0d0887"
             ],
             [
              0.1111111111111111,
              "#46039f"
             ],
             [
              0.2222222222222222,
              "#7201a8"
             ],
             [
              0.3333333333333333,
              "#9c179e"
             ],
             [
              0.4444444444444444,
              "#bd3786"
             ],
             [
              0.5555555555555556,
              "#d8576b"
             ],
             [
              0.6666666666666666,
              "#ed7953"
             ],
             [
              0.7777777777777778,
              "#fb9f3a"
             ],
             [
              0.8888888888888888,
              "#fdca26"
             ],
             [
              1,
              "#f0f921"
             ]
            ],
            "type": "contour"
           }
          ],
          "contourcarpet": [
           {
            "colorbar": {
             "outlinewidth": 0,
             "ticks": ""
            },
            "type": "contourcarpet"
           }
          ],
          "heatmap": [
           {
            "colorbar": {
             "outlinewidth": 0,
             "ticks": ""
            },
            "colorscale": [
             [
              0,
              "#0d0887"
             ],
             [
              0.1111111111111111,
              "#46039f"
             ],
             [
              0.2222222222222222,
              "#7201a8"
             ],
             [
              0.3333333333333333,
              "#9c179e"
             ],
             [
              0.4444444444444444,
              "#bd3786"
             ],
             [
              0.5555555555555556,
              "#d8576b"
             ],
             [
              0.6666666666666666,
              "#ed7953"
             ],
             [
              0.7777777777777778,
              "#fb9f3a"
             ],
             [
              0.8888888888888888,
              "#fdca26"
             ],
             [
              1,
              "#f0f921"
             ]
            ],
            "type": "heatmap"
           }
          ],
          "heatmapgl": [
           {
            "colorbar": {
             "outlinewidth": 0,
             "ticks": ""
            },
            "colorscale": [
             [
              0,
              "#0d0887"
             ],
             [
              0.1111111111111111,
              "#46039f"
             ],
             [
              0.2222222222222222,
              "#7201a8"
             ],
             [
              0.3333333333333333,
              "#9c179e"
             ],
             [
              0.4444444444444444,
              "#bd3786"
             ],
             [
              0.5555555555555556,
              "#d8576b"
             ],
             [
              0.6666666666666666,
              "#ed7953"
             ],
             [
              0.7777777777777778,
              "#fb9f3a"
             ],
             [
              0.8888888888888888,
              "#fdca26"
             ],
             [
              1,
              "#f0f921"
             ]
            ],
            "type": "heatmapgl"
           }
          ],
          "histogram": [
           {
            "marker": {
             "pattern": {
              "fillmode": "overlay",
              "size": 10,
              "solidity": 0.2
             }
            },
            "type": "histogram"
           }
          ],
          "histogram2d": [
           {
            "colorbar": {
             "outlinewidth": 0,
             "ticks": ""
            },
            "colorscale": [
             [
              0,
              "#0d0887"
             ],
             [
              0.1111111111111111,
              "#46039f"
             ],
             [
              0.2222222222222222,
              "#7201a8"
             ],
             [
              0.3333333333333333,
              "#9c179e"
             ],
             [
              0.4444444444444444,
              "#bd3786"
             ],
             [
              0.5555555555555556,
              "#d8576b"
             ],
             [
              0.6666666666666666,
              "#ed7953"
             ],
             [
              0.7777777777777778,
              "#fb9f3a"
             ],
             [
              0.8888888888888888,
              "#fdca26"
             ],
             [
              1,
              "#f0f921"
             ]
            ],
            "type": "histogram2d"
           }
          ],
          "histogram2dcontour": [
           {
            "colorbar": {
             "outlinewidth": 0,
             "ticks": ""
            },
            "colorscale": [
             [
              0,
              "#0d0887"
             ],
             [
              0.1111111111111111,
              "#46039f"
             ],
             [
              0.2222222222222222,
              "#7201a8"
             ],
             [
              0.3333333333333333,
              "#9c179e"
             ],
             [
              0.4444444444444444,
              "#bd3786"
             ],
             [
              0.5555555555555556,
              "#d8576b"
             ],
             [
              0.6666666666666666,
              "#ed7953"
             ],
             [
              0.7777777777777778,
              "#fb9f3a"
             ],
             [
              0.8888888888888888,
              "#fdca26"
             ],
             [
              1,
              "#f0f921"
             ]
            ],
            "type": "histogram2dcontour"
           }
          ],
          "mesh3d": [
           {
            "colorbar": {
             "outlinewidth": 0,
             "ticks": ""
            },
            "type": "mesh3d"
           }
          ],
          "parcoords": [
           {
            "line": {
             "colorbar": {
              "outlinewidth": 0,
              "ticks": ""
             }
            },
            "type": "parcoords"
           }
          ],
          "pie": [
           {
            "automargin": true,
            "type": "pie"
           }
          ],
          "scatter": [
           {
            "fillpattern": {
             "fillmode": "overlay",
             "size": 10,
             "solidity": 0.2
            },
            "type": "scatter"
           }
          ],
          "scatter3d": [
           {
            "line": {
             "colorbar": {
              "outlinewidth": 0,
              "ticks": ""
             }
            },
            "marker": {
             "colorbar": {
              "outlinewidth": 0,
              "ticks": ""
             }
            },
            "type": "scatter3d"
           }
          ],
          "scattercarpet": [
           {
            "marker": {
             "colorbar": {
              "outlinewidth": 0,
              "ticks": ""
             }
            },
            "type": "scattercarpet"
           }
          ],
          "scattergeo": [
           {
            "marker": {
             "colorbar": {
              "outlinewidth": 0,
              "ticks": ""
             }
            },
            "type": "scattergeo"
           }
          ],
          "scattergl": [
           {
            "marker": {
             "colorbar": {
              "outlinewidth": 0,
              "ticks": ""
             }
            },
            "type": "scattergl"
           }
          ],
          "scattermapbox": [
           {
            "marker": {
             "colorbar": {
              "outlinewidth": 0,
              "ticks": ""
             }
            },
            "type": "scattermapbox"
           }
          ],
          "scatterpolar": [
           {
            "marker": {
             "colorbar": {
              "outlinewidth": 0,
              "ticks": ""
             }
            },
            "type": "scatterpolar"
           }
          ],
          "scatterpolargl": [
           {
            "marker": {
             "colorbar": {
              "outlinewidth": 0,
              "ticks": ""
             }
            },
            "type": "scatterpolargl"
           }
          ],
          "scatterternary": [
           {
            "marker": {
             "colorbar": {
              "outlinewidth": 0,
              "ticks": ""
             }
            },
            "type": "scatterternary"
           }
          ],
          "surface": [
           {
            "colorbar": {
             "outlinewidth": 0,
             "ticks": ""
            },
            "colorscale": [
             [
              0,
              "#0d0887"
             ],
             [
              0.1111111111111111,
              "#46039f"
             ],
             [
              0.2222222222222222,
              "#7201a8"
             ],
             [
              0.3333333333333333,
              "#9c179e"
             ],
             [
              0.4444444444444444,
              "#bd3786"
             ],
             [
              0.5555555555555556,
              "#d8576b"
             ],
             [
              0.6666666666666666,
              "#ed7953"
             ],
             [
              0.7777777777777778,
              "#fb9f3a"
             ],
             [
              0.8888888888888888,
              "#fdca26"
             ],
             [
              1,
              "#f0f921"
             ]
            ],
            "type": "surface"
           }
          ],
          "table": [
           {
            "cells": {
             "fill": {
              "color": "#EBF0F8"
             },
             "line": {
              "color": "white"
             }
            },
            "header": {
             "fill": {
              "color": "#C8D4E3"
             },
             "line": {
              "color": "white"
             }
            },
            "type": "table"
           }
          ]
         },
         "layout": {
          "annotationdefaults": {
           "arrowcolor": "#2a3f5f",
           "arrowhead": 0,
           "arrowwidth": 1
          },
          "autotypenumbers": "strict",
          "coloraxis": {
           "colorbar": {
            "outlinewidth": 0,
            "ticks": ""
           }
          },
          "colorscale": {
           "diverging": [
            [
             0,
             "#8e0152"
            ],
            [
             0.1,
             "#c51b7d"
            ],
            [
             0.2,
             "#de77ae"
            ],
            [
             0.3,
             "#f1b6da"
            ],
            [
             0.4,
             "#fde0ef"
            ],
            [
             0.5,
             "#f7f7f7"
            ],
            [
             0.6,
             "#e6f5d0"
            ],
            [
             0.7,
             "#b8e186"
            ],
            [
             0.8,
             "#7fbc41"
            ],
            [
             0.9,
             "#4d9221"
            ],
            [
             1,
             "#276419"
            ]
           ],
           "sequential": [
            [
             0,
             "#0d0887"
            ],
            [
             0.1111111111111111,
             "#46039f"
            ],
            [
             0.2222222222222222,
             "#7201a8"
            ],
            [
             0.3333333333333333,
             "#9c179e"
            ],
            [
             0.4444444444444444,
             "#bd3786"
            ],
            [
             0.5555555555555556,
             "#d8576b"
            ],
            [
             0.6666666666666666,
             "#ed7953"
            ],
            [
             0.7777777777777778,
             "#fb9f3a"
            ],
            [
             0.8888888888888888,
             "#fdca26"
            ],
            [
             1,
             "#f0f921"
            ]
           ],
           "sequentialminus": [
            [
             0,
             "#0d0887"
            ],
            [
             0.1111111111111111,
             "#46039f"
            ],
            [
             0.2222222222222222,
             "#7201a8"
            ],
            [
             0.3333333333333333,
             "#9c179e"
            ],
            [
             0.4444444444444444,
             "#bd3786"
            ],
            [
             0.5555555555555556,
             "#d8576b"
            ],
            [
             0.6666666666666666,
             "#ed7953"
            ],
            [
             0.7777777777777778,
             "#fb9f3a"
            ],
            [
             0.8888888888888888,
             "#fdca26"
            ],
            [
             1,
             "#f0f921"
            ]
           ]
          },
          "colorway": [
           "#636efa",
           "#EF553B",
           "#00cc96",
           "#ab63fa",
           "#FFA15A",
           "#19d3f3",
           "#FF6692",
           "#B6E880",
           "#FF97FF",
           "#FECB52"
          ],
          "font": {
           "color": "#2a3f5f"
          },
          "geo": {
           "bgcolor": "white",
           "lakecolor": "white",
           "landcolor": "white",
           "showlakes": true,
           "showland": true,
           "subunitcolor": "#C8D4E3"
          },
          "hoverlabel": {
           "align": "left"
          },
          "hovermode": "closest",
          "mapbox": {
           "style": "light"
          },
          "paper_bgcolor": "white",
          "plot_bgcolor": "white",
          "polar": {
           "angularaxis": {
            "gridcolor": "#EBF0F8",
            "linecolor": "#EBF0F8",
            "ticks": ""
           },
           "bgcolor": "white",
           "radialaxis": {
            "gridcolor": "#EBF0F8",
            "linecolor": "#EBF0F8",
            "ticks": ""
           }
          },
          "scene": {
           "xaxis": {
            "backgroundcolor": "white",
            "gridcolor": "#DFE8F3",
            "gridwidth": 2,
            "linecolor": "#EBF0F8",
            "showbackground": true,
            "ticks": "",
            "zerolinecolor": "#EBF0F8"
           },
           "yaxis": {
            "backgroundcolor": "white",
            "gridcolor": "#DFE8F3",
            "gridwidth": 2,
            "linecolor": "#EBF0F8",
            "showbackground": true,
            "ticks": "",
            "zerolinecolor": "#EBF0F8"
           },
           "zaxis": {
            "backgroundcolor": "white",
            "gridcolor": "#DFE8F3",
            "gridwidth": 2,
            "linecolor": "#EBF0F8",
            "showbackground": true,
            "ticks": "",
            "zerolinecolor": "#EBF0F8"
           }
          },
          "shapedefaults": {
           "line": {
            "color": "#2a3f5f"
           }
          },
          "ternary": {
           "aaxis": {
            "gridcolor": "#DFE8F3",
            "linecolor": "#A2B1C6",
            "ticks": ""
           },
           "baxis": {
            "gridcolor": "#DFE8F3",
            "linecolor": "#A2B1C6",
            "ticks": ""
           },
           "bgcolor": "white",
           "caxis": {
            "gridcolor": "#DFE8F3",
            "linecolor": "#A2B1C6",
            "ticks": ""
           }
          },
          "title": {
           "x": 0.05
          },
          "xaxis": {
           "automargin": true,
           "gridcolor": "#EBF0F8",
           "linecolor": "#EBF0F8",
           "ticks": "",
           "title": {
            "standoff": 15
           },
           "zerolinecolor": "#EBF0F8",
           "zerolinewidth": 2
          },
          "yaxis": {
           "automargin": true,
           "gridcolor": "#EBF0F8",
           "linecolor": "#EBF0F8",
           "ticks": "",
           "title": {
            "standoff": 15
           },
           "zerolinecolor": "#EBF0F8",
           "zerolinewidth": 2
          }
         }
        },
        "title": {
         "text": "causal_effect_scale_3_other_patched_ablate_high_variance"
        },
        "xaxis": {
         "showgrid": false,
         "title": {
          "text": "Scale"
         }
        },
        "yaxis": {
         "showgrid": false,
         "title": {
          "text": "Causal Effect"
         }
        }
       }
      }
     },
     "metadata": {},
     "output_type": "display_data"
    },
    {
     "data": {
      "application/vnd.plotly.v1+json": {
       "config": {
        "plotlyServerURL": "https://plot.ly"
       },
       "data": [
        {
         "hovertext": "Node: blocks.0.attn.hook_result, head  0, Status: not_in_circuit",
         "line": {
          "color": "orange"
         },
         "mode": "lines+markers",
         "showlegend": false,
         "type": "scatter",
         "x": [
          0,
          0.1,
          0.2,
          0.5,
          0.7,
          0.8,
          1,
          1.2,
          1.4,
          2,
          5
         ],
         "y": [
          0.9999999999999968,
          0.9999999999999968,
          0.999999999999997,
          0.9999999999999969,
          0.9649406106724348,
          0.8189462916475818,
          0.8691979525317113,
          0.7640660097985331,
          0.9430659292956964,
          0.9879462701783347,
          0.9999999999999971
         ]
        },
        {
         "hovertext": "Node: blocks.0.attn.hook_result, head  1, Status: not_in_circuit",
         "line": {
          "color": "orange"
         },
         "mode": "lines+markers",
         "showlegend": false,
         "type": "scatter",
         "x": [
          0,
          0.1,
          0.2,
          0.5,
          0.7,
          0.8,
          1,
          1.2,
          1.4,
          2,
          5
         ],
         "y": [
          0.799845708781555,
          0.8124459772052005,
          0.831805009770579,
          0.775690741651751,
          0.8944013576170246,
          0.915201201234988,
          0.9356599162979574,
          0.9289839078837656,
          0.9256518063458165,
          0.8826175278178349,
          0.9937047883798572
         ]
        },
        {
         "hovertext": "Node: blocks.0.attn.hook_result, head  2, Status: not_in_circuit",
         "line": {
          "color": "orange"
         },
         "mode": "lines+markers",
         "showlegend": false,
         "type": "scatter",
         "x": [
          0,
          0.1,
          0.2,
          0.5,
          0.7,
          0.8,
          1,
          1.2,
          1.4,
          2,
          5
         ],
         "y": [
          0.9480617507760982,
          0.8902114617621623,
          0.8735909419999197,
          0.8371664756300528,
          0.8553984763235436,
          0.8653320509064177,
          0.887364499166708,
          0.8872508851323685,
          0.8993734829414469,
          0.9066414876848451,
          0.9697509768545782
         ]
        },
        {
         "hovertext": "Node: blocks.0.attn.hook_result, head  3, Status: not_in_circuit",
         "line": {
          "color": "orange"
         },
         "mode": "lines+markers",
         "showlegend": false,
         "type": "scatter",
         "x": [
          0,
          0.1,
          0.2,
          0.5,
          0.7,
          0.8,
          1,
          1.2,
          1.4,
          2,
          5
         ],
         "y": [
          0.9683385187277043,
          0.9463492584200376,
          0.8994101223647382,
          0.7955587236908455,
          0.8290823676660777,
          0.8290331108522596,
          0.8149636074418171,
          0.8218072664328794,
          0.841515610183892,
          0.8725214386782351,
          0.9696974973024368
         ]
        },
        {
         "hovertext": "Node: blocks.1.attn.hook_result, head  2, Status: not_in_circuit",
         "line": {
          "color": "orange"
         },
         "mode": "lines+markers",
         "showlegend": false,
         "type": "scatter",
         "x": [
          0,
          0.1,
          0.2,
          0.5,
          0.7,
          0.8,
          1,
          1.2,
          1.4,
          2,
          5
         ],
         "y": [
          0.9999999999999968,
          0.9999999999999968,
          0.999999999999997,
          0.993436456505694,
          0.8139276386679157,
          0.6130253133217947,
          0.4433956902470999,
          0.5756988250208919,
          0.7446966455938497,
          0.8716764657225841,
          0.9999999999999971
         ]
        },
        {
         "hovertext": "Node: blocks.1.attn.hook_result, head  3, Status: not_in_circuit",
         "line": {
          "color": "orange"
         },
         "mode": "lines+markers",
         "showlegend": false,
         "type": "scatter",
         "x": [
          0,
          0.1,
          0.2,
          0.5,
          0.7,
          0.8,
          1,
          1.2,
          1.4,
          2,
          5
         ],
         "y": [
          0.9999999999999968,
          0.9999999999999968,
          0.999999999999997,
          0.9987602102565868,
          0.6494624247300751,
          0.517790896918828,
          0.6623822453721808,
          0.6379247103208806,
          0.6766130445312072,
          0.8865735535371241,
          0.9999999999999971
         ]
        },
        {
         "hovertext": "Node: blocks.1.mlp.hook_post, Status: not_in_circuit",
         "line": {
          "color": "orange"
         },
         "mode": "lines+markers",
         "showlegend": false,
         "type": "scatter",
         "x": [
          0,
          0.1,
          0.2,
          0.5,
          0.7,
          0.8,
          1,
          1.2,
          1.4,
          2,
          5
         ],
         "y": [
          0.913480912343576,
          0.9175274254689875,
          0.9466989911422177,
          0.9577814439700405,
          0.9878401362651112,
          0.99368941391975,
          0.9963100898189798,
          0.9964629897961153,
          0.9900924152582843,
          0.9803700606581495,
          0.9857179856101604
         ]
        },
        {
         "hovertext": "Node: blocks.0.mlp.hook_post, Status: in_circuit",
         "line": {
          "color": "green"
         },
         "mode": "lines+markers",
         "showlegend": false,
         "type": "scatter",
         "x": [
          0,
          0.1,
          0.2,
          0.5,
          0.7,
          0.8,
          1,
          1.2,
          1.4,
          2,
          5
         ],
         "y": [
          0.9065142049145136,
          0.9206285317353975,
          0.9845803121704095,
          0.9813364988594134,
          0.9862103715504167,
          0.9816874559630843,
          0.9833924368612507,
          0.9885001785015646,
          0.9834671576638403,
          0.9943956940138046,
          0.9953623921042567
         ]
        },
        {
         "hovertext": "Node: blocks.1.attn.hook_result, head  0, Status: in_circuit",
         "line": {
          "color": "green"
         },
         "mode": "lines+markers",
         "showlegend": false,
         "type": "scatter",
         "x": [
          0,
          0.1,
          0.2,
          0.5,
          0.7,
          0.8,
          1,
          1.2,
          1.4,
          2,
          5
         ],
         "y": [
          0.8914042319403435,
          0.8226997204615709,
          0.8008371972981112,
          0.8431675493581415,
          0.9601392196019028,
          0.9996527520311683,
          0.9999999999999969,
          0.9935817267742583,
          0.9601987520028741,
          0.9057522025019211,
          0.9516783187587088
         ]
        },
        {
         "hovertext": "Node: blocks.1.attn.hook_result, head  1, Status: in_circuit",
         "line": {
          "color": "green"
         },
         "mode": "lines+markers",
         "showlegend": false,
         "type": "scatter",
         "x": [
          0,
          0.1,
          0.2,
          0.5,
          0.7,
          0.8,
          1,
          1.2,
          1.4,
          2,
          5
         ],
         "y": [
          0.5458150888930504,
          0.5155592278395504,
          0.4029878588422033,
          0.23743884126534015,
          0.17509725500267218,
          0.22226575705305313,
          0.18243682207251757,
          0.21784158364375256,
          0.2774122738286075,
          0.4302478854385057,
          0.6595150193454796
         ]
        },
        {
         "marker": {
          "color": "green"
         },
         "mode": "markers",
         "name": "in_circuit",
         "type": "scatter",
         "x": [
          null
         ],
         "y": [
          null
         ]
        },
        {
         "marker": {
          "color": "orange"
         },
         "mode": "markers",
         "name": "not_in_circuit",
         "type": "scatter",
         "x": [
          null
         ],
         "y": [
          null
         ]
        }
       ],
       "layout": {
        "font": {
         "size": 16
        },
        "margin": {
         "b": 70,
         "l": 70,
         "r": 70,
         "t": 70
        },
        "template": {
         "data": {
          "bar": [
           {
            "error_x": {
             "color": "#2a3f5f"
            },
            "error_y": {
             "color": "#2a3f5f"
            },
            "marker": {
             "line": {
              "color": "white",
              "width": 0.5
             },
             "pattern": {
              "fillmode": "overlay",
              "size": 10,
              "solidity": 0.2
             }
            },
            "type": "bar"
           }
          ],
          "barpolar": [
           {
            "marker": {
             "line": {
              "color": "white",
              "width": 0.5
             },
             "pattern": {
              "fillmode": "overlay",
              "size": 10,
              "solidity": 0.2
             }
            },
            "type": "barpolar"
           }
          ],
          "carpet": [
           {
            "aaxis": {
             "endlinecolor": "#2a3f5f",
             "gridcolor": "#C8D4E3",
             "linecolor": "#C8D4E3",
             "minorgridcolor": "#C8D4E3",
             "startlinecolor": "#2a3f5f"
            },
            "baxis": {
             "endlinecolor": "#2a3f5f",
             "gridcolor": "#C8D4E3",
             "linecolor": "#C8D4E3",
             "minorgridcolor": "#C8D4E3",
             "startlinecolor": "#2a3f5f"
            },
            "type": "carpet"
           }
          ],
          "choropleth": [
           {
            "colorbar": {
             "outlinewidth": 0,
             "ticks": ""
            },
            "type": "choropleth"
           }
          ],
          "contour": [
           {
            "colorbar": {
             "outlinewidth": 0,
             "ticks": ""
            },
            "colorscale": [
             [
              0,
              "#0d0887"
             ],
             [
              0.1111111111111111,
              "#46039f"
             ],
             [
              0.2222222222222222,
              "#7201a8"
             ],
             [
              0.3333333333333333,
              "#9c179e"
             ],
             [
              0.4444444444444444,
              "#bd3786"
             ],
             [
              0.5555555555555556,
              "#d8576b"
             ],
             [
              0.6666666666666666,
              "#ed7953"
             ],
             [
              0.7777777777777778,
              "#fb9f3a"
             ],
             [
              0.8888888888888888,
              "#fdca26"
             ],
             [
              1,
              "#f0f921"
             ]
            ],
            "type": "contour"
           }
          ],
          "contourcarpet": [
           {
            "colorbar": {
             "outlinewidth": 0,
             "ticks": ""
            },
            "type": "contourcarpet"
           }
          ],
          "heatmap": [
           {
            "colorbar": {
             "outlinewidth": 0,
             "ticks": ""
            },
            "colorscale": [
             [
              0,
              "#0d0887"
             ],
             [
              0.1111111111111111,
              "#46039f"
             ],
             [
              0.2222222222222222,
              "#7201a8"
             ],
             [
              0.3333333333333333,
              "#9c179e"
             ],
             [
              0.4444444444444444,
              "#bd3786"
             ],
             [
              0.5555555555555556,
              "#d8576b"
             ],
             [
              0.6666666666666666,
              "#ed7953"
             ],
             [
              0.7777777777777778,
              "#fb9f3a"
             ],
             [
              0.8888888888888888,
              "#fdca26"
             ],
             [
              1,
              "#f0f921"
             ]
            ],
            "type": "heatmap"
           }
          ],
          "heatmapgl": [
           {
            "colorbar": {
             "outlinewidth": 0,
             "ticks": ""
            },
            "colorscale": [
             [
              0,
              "#0d0887"
             ],
             [
              0.1111111111111111,
              "#46039f"
             ],
             [
              0.2222222222222222,
              "#7201a8"
             ],
             [
              0.3333333333333333,
              "#9c179e"
             ],
             [
              0.4444444444444444,
              "#bd3786"
             ],
             [
              0.5555555555555556,
              "#d8576b"
             ],
             [
              0.6666666666666666,
              "#ed7953"
             ],
             [
              0.7777777777777778,
              "#fb9f3a"
             ],
             [
              0.8888888888888888,
              "#fdca26"
             ],
             [
              1,
              "#f0f921"
             ]
            ],
            "type": "heatmapgl"
           }
          ],
          "histogram": [
           {
            "marker": {
             "pattern": {
              "fillmode": "overlay",
              "size": 10,
              "solidity": 0.2
             }
            },
            "type": "histogram"
           }
          ],
          "histogram2d": [
           {
            "colorbar": {
             "outlinewidth": 0,
             "ticks": ""
            },
            "colorscale": [
             [
              0,
              "#0d0887"
             ],
             [
              0.1111111111111111,
              "#46039f"
             ],
             [
              0.2222222222222222,
              "#7201a8"
             ],
             [
              0.3333333333333333,
              "#9c179e"
             ],
             [
              0.4444444444444444,
              "#bd3786"
             ],
             [
              0.5555555555555556,
              "#d8576b"
             ],
             [
              0.6666666666666666,
              "#ed7953"
             ],
             [
              0.7777777777777778,
              "#fb9f3a"
             ],
             [
              0.8888888888888888,
              "#fdca26"
             ],
             [
              1,
              "#f0f921"
             ]
            ],
            "type": "histogram2d"
           }
          ],
          "histogram2dcontour": [
           {
            "colorbar": {
             "outlinewidth": 0,
             "ticks": ""
            },
            "colorscale": [
             [
              0,
              "#0d0887"
             ],
             [
              0.1111111111111111,
              "#46039f"
             ],
             [
              0.2222222222222222,
              "#7201a8"
             ],
             [
              0.3333333333333333,
              "#9c179e"
             ],
             [
              0.4444444444444444,
              "#bd3786"
             ],
             [
              0.5555555555555556,
              "#d8576b"
             ],
             [
              0.6666666666666666,
              "#ed7953"
             ],
             [
              0.7777777777777778,
              "#fb9f3a"
             ],
             [
              0.8888888888888888,
              "#fdca26"
             ],
             [
              1,
              "#f0f921"
             ]
            ],
            "type": "histogram2dcontour"
           }
          ],
          "mesh3d": [
           {
            "colorbar": {
             "outlinewidth": 0,
             "ticks": ""
            },
            "type": "mesh3d"
           }
          ],
          "parcoords": [
           {
            "line": {
             "colorbar": {
              "outlinewidth": 0,
              "ticks": ""
             }
            },
            "type": "parcoords"
           }
          ],
          "pie": [
           {
            "automargin": true,
            "type": "pie"
           }
          ],
          "scatter": [
           {
            "fillpattern": {
             "fillmode": "overlay",
             "size": 10,
             "solidity": 0.2
            },
            "type": "scatter"
           }
          ],
          "scatter3d": [
           {
            "line": {
             "colorbar": {
              "outlinewidth": 0,
              "ticks": ""
             }
            },
            "marker": {
             "colorbar": {
              "outlinewidth": 0,
              "ticks": ""
             }
            },
            "type": "scatter3d"
           }
          ],
          "scattercarpet": [
           {
            "marker": {
             "colorbar": {
              "outlinewidth": 0,
              "ticks": ""
             }
            },
            "type": "scattercarpet"
           }
          ],
          "scattergeo": [
           {
            "marker": {
             "colorbar": {
              "outlinewidth": 0,
              "ticks": ""
             }
            },
            "type": "scattergeo"
           }
          ],
          "scattergl": [
           {
            "marker": {
             "colorbar": {
              "outlinewidth": 0,
              "ticks": ""
             }
            },
            "type": "scattergl"
           }
          ],
          "scattermapbox": [
           {
            "marker": {
             "colorbar": {
              "outlinewidth": 0,
              "ticks": ""
             }
            },
            "type": "scattermapbox"
           }
          ],
          "scatterpolar": [
           {
            "marker": {
             "colorbar": {
              "outlinewidth": 0,
              "ticks": ""
             }
            },
            "type": "scatterpolar"
           }
          ],
          "scatterpolargl": [
           {
            "marker": {
             "colorbar": {
              "outlinewidth": 0,
              "ticks": ""
             }
            },
            "type": "scatterpolargl"
           }
          ],
          "scatterternary": [
           {
            "marker": {
             "colorbar": {
              "outlinewidth": 0,
              "ticks": ""
             }
            },
            "type": "scatterternary"
           }
          ],
          "surface": [
           {
            "colorbar": {
             "outlinewidth": 0,
             "ticks": ""
            },
            "colorscale": [
             [
              0,
              "#0d0887"
             ],
             [
              0.1111111111111111,
              "#46039f"
             ],
             [
              0.2222222222222222,
              "#7201a8"
             ],
             [
              0.3333333333333333,
              "#9c179e"
             ],
             [
              0.4444444444444444,
              "#bd3786"
             ],
             [
              0.5555555555555556,
              "#d8576b"
             ],
             [
              0.6666666666666666,
              "#ed7953"
             ],
             [
              0.7777777777777778,
              "#fb9f3a"
             ],
             [
              0.8888888888888888,
              "#fdca26"
             ],
             [
              1,
              "#f0f921"
             ]
            ],
            "type": "surface"
           }
          ],
          "table": [
           {
            "cells": {
             "fill": {
              "color": "#EBF0F8"
             },
             "line": {
              "color": "white"
             }
            },
            "header": {
             "fill": {
              "color": "#C8D4E3"
             },
             "line": {
              "color": "white"
             }
            },
            "type": "table"
           }
          ]
         },
         "layout": {
          "annotationdefaults": {
           "arrowcolor": "#2a3f5f",
           "arrowhead": 0,
           "arrowwidth": 1
          },
          "autotypenumbers": "strict",
          "coloraxis": {
           "colorbar": {
            "outlinewidth": 0,
            "ticks": ""
           }
          },
          "colorscale": {
           "diverging": [
            [
             0,
             "#8e0152"
            ],
            [
             0.1,
             "#c51b7d"
            ],
            [
             0.2,
             "#de77ae"
            ],
            [
             0.3,
             "#f1b6da"
            ],
            [
             0.4,
             "#fde0ef"
            ],
            [
             0.5,
             "#f7f7f7"
            ],
            [
             0.6,
             "#e6f5d0"
            ],
            [
             0.7,
             "#b8e186"
            ],
            [
             0.8,
             "#7fbc41"
            ],
            [
             0.9,
             "#4d9221"
            ],
            [
             1,
             "#276419"
            ]
           ],
           "sequential": [
            [
             0,
             "#0d0887"
            ],
            [
             0.1111111111111111,
             "#46039f"
            ],
            [
             0.2222222222222222,
             "#7201a8"
            ],
            [
             0.3333333333333333,
             "#9c179e"
            ],
            [
             0.4444444444444444,
             "#bd3786"
            ],
            [
             0.5555555555555556,
             "#d8576b"
            ],
            [
             0.6666666666666666,
             "#ed7953"
            ],
            [
             0.7777777777777778,
             "#fb9f3a"
            ],
            [
             0.8888888888888888,
             "#fdca26"
            ],
            [
             1,
             "#f0f921"
            ]
           ],
           "sequentialminus": [
            [
             0,
             "#0d0887"
            ],
            [
             0.1111111111111111,
             "#46039f"
            ],
            [
             0.2222222222222222,
             "#7201a8"
            ],
            [
             0.3333333333333333,
             "#9c179e"
            ],
            [
             0.4444444444444444,
             "#bd3786"
            ],
            [
             0.5555555555555556,
             "#d8576b"
            ],
            [
             0.6666666666666666,
             "#ed7953"
            ],
            [
             0.7777777777777778,
             "#fb9f3a"
            ],
            [
             0.8888888888888888,
             "#fdca26"
            ],
            [
             1,
             "#f0f921"
            ]
           ]
          },
          "colorway": [
           "#636efa",
           "#EF553B",
           "#00cc96",
           "#ab63fa",
           "#FFA15A",
           "#19d3f3",
           "#FF6692",
           "#B6E880",
           "#FF97FF",
           "#FECB52"
          ],
          "font": {
           "color": "#2a3f5f"
          },
          "geo": {
           "bgcolor": "white",
           "lakecolor": "white",
           "landcolor": "white",
           "showlakes": true,
           "showland": true,
           "subunitcolor": "#C8D4E3"
          },
          "hoverlabel": {
           "align": "left"
          },
          "hovermode": "closest",
          "mapbox": {
           "style": "light"
          },
          "paper_bgcolor": "white",
          "plot_bgcolor": "white",
          "polar": {
           "angularaxis": {
            "gridcolor": "#EBF0F8",
            "linecolor": "#EBF0F8",
            "ticks": ""
           },
           "bgcolor": "white",
           "radialaxis": {
            "gridcolor": "#EBF0F8",
            "linecolor": "#EBF0F8",
            "ticks": ""
           }
          },
          "scene": {
           "xaxis": {
            "backgroundcolor": "white",
            "gridcolor": "#DFE8F3",
            "gridwidth": 2,
            "linecolor": "#EBF0F8",
            "showbackground": true,
            "ticks": "",
            "zerolinecolor": "#EBF0F8"
           },
           "yaxis": {
            "backgroundcolor": "white",
            "gridcolor": "#DFE8F3",
            "gridwidth": 2,
            "linecolor": "#EBF0F8",
            "showbackground": true,
            "ticks": "",
            "zerolinecolor": "#EBF0F8"
           },
           "zaxis": {
            "backgroundcolor": "white",
            "gridcolor": "#DFE8F3",
            "gridwidth": 2,
            "linecolor": "#EBF0F8",
            "showbackground": true,
            "ticks": "",
            "zerolinecolor": "#EBF0F8"
           }
          },
          "shapedefaults": {
           "line": {
            "color": "#2a3f5f"
           }
          },
          "ternary": {
           "aaxis": {
            "gridcolor": "#DFE8F3",
            "linecolor": "#A2B1C6",
            "ticks": ""
           },
           "baxis": {
            "gridcolor": "#DFE8F3",
            "linecolor": "#A2B1C6",
            "ticks": ""
           },
           "bgcolor": "white",
           "caxis": {
            "gridcolor": "#DFE8F3",
            "linecolor": "#A2B1C6",
            "ticks": ""
           }
          },
          "title": {
           "x": 0.05
          },
          "xaxis": {
           "automargin": true,
           "gridcolor": "#EBF0F8",
           "linecolor": "#EBF0F8",
           "ticks": "",
           "title": {
            "standoff": 15
           },
           "zerolinecolor": "#EBF0F8",
           "zerolinewidth": 2
          },
          "yaxis": {
           "automargin": true,
           "gridcolor": "#EBF0F8",
           "linecolor": "#EBF0F8",
           "ticks": "",
           "title": {
            "standoff": 15
           },
           "zerolinecolor": "#EBF0F8",
           "zerolinewidth": 2
          }
         }
        },
        "title": {
         "text": "causal_effect_scale_3_other_patched_ablate_mean"
        },
        "xaxis": {
         "showgrid": false,
         "title": {
          "text": "Scale"
         }
        },
        "yaxis": {
         "showgrid": false,
         "title": {
          "text": "Causal Effect"
         }
        }
       }
      }
     },
     "metadata": {},
     "output_type": "display_data"
    }
   ],
   "source": [
    "for key, df in combined_scales_df_orthogonal.items():\n",
    "    df = df.sort_values(by=[\"status\"], ascending=False)\n",
    "    df = df.rename(columns={\"scale 0.0_y\": \"scale 0.0\"})\n",
    "    combined_scales_df_orthogonal[key] = df\n",
    "\n",
    "plot_causal_effect(combined_scales_df_orthogonal[(True, True)], scales, f\"causal_effect_scale_{task.get_index()}_self_patch_ablate_high_variance\")\n",
    "plot_causal_effect(combined_scales_df_orthogonal[(True, False)], scales, f\"causal_effect_scale_{task.get_index()}_self_patch_ablate_mean\")\n",
    "plot_causal_effect(combined_scales_df_orthogonal[(False, True)], scales, f\"causal_effect_scale_{task.get_index()}_other_patched_ablate_high_variance\")\n",
    "plot_causal_effect(combined_scales_df_orthogonal[(False, False)], scales, f\"causal_effect_scale_{task.get_index()}_other_patched_ablate_mean\")"
   ]
  },
  {
   "cell_type": "markdown",
   "metadata": {},
   "source": [
    "Check if the PCA dir is orthogonal using logit lens"
   ]
  },
  {
   "cell_type": "code",
   "execution_count": null,
   "metadata": {},
   "outputs": [],
   "source": []
  },
  {
   "cell_type": "markdown",
   "metadata": {},
   "source": [
    "subtract mean of everything before PCA"
   ]
  },
  {
   "cell_type": "code",
   "execution_count": 99,
   "metadata": {},
   "outputs": [
    {
     "data": {
      "text/plain": [
       "(3.1363800445660672e-15, -0.04011845357182089)"
      ]
     },
     "execution_count": 99,
     "metadata": {},
     "output_type": "execute_result"
    }
   ],
   "source": [
    "import numpy as np\n",
    "from scipy.spatial.transform import Rotation as R\n",
    "mean_dir = np.array([-4.0, 3.0, -5.0, 3.0, 2.0, 1.0])\n",
    "\n",
    "# noise is orthogonal to the mean direction\n",
    "noise_vars = np.random.rand(len(mean_dir))\n",
    "\n",
    "# sample random noise with different variance across dimensions\n",
    "noise_3by3 = np.random.normal(0, 1, (len(mean_dir), len(mean_dir))) *  noise_vars / 10.0\n",
    "\n",
    "mean_plus_noise = mean_dir + noise_3by3\n",
    "\n",
    "pca = PCA(n_components=3)\n",
    "pca.fit(mean_plus_noise)\n",
    "\n",
    "pca2 = PCA(n_components=3)\n",
    "pca2.fit(noise_3by3)\n",
    "\n",
    "np.abs(pca.components_ - pca2.components_).max(), mean_dir @ noise_vars / (np.linalg.norm(mean_dir) * np.linalg.norm(noise_vars))"
   ]
  },
  {
   "cell_type": "code",
   "execution_count": null,
   "metadata": {},
   "outputs": [],
   "source": []
  }
 ],
 "metadata": {
  "kernelspec": {
   "display_name": ".iit",
   "language": "python",
   "name": "python3"
  },
  "language_info": {
   "codemirror_mode": {
    "name": "ipython",
    "version": 3
   },
   "file_extension": ".py",
   "mimetype": "text/x-python",
   "name": "python",
   "nbconvert_exporter": "python",
   "pygments_lexer": "ipython3",
   "version": "3.11.4"
  }
 },
 "nbformat": 4,
 "nbformat_minor": 2
}
