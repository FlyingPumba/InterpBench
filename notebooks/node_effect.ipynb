{
 "cells": [
  {
   "cell_type": "code",
   "execution_count": 1,
   "metadata": {},
   "outputs": [
    {
     "name": "stdout",
     "output_type": "stream",
     "text": [
      "<Runs cybershiptrooper/iit>\n"
     ]
    }
   ],
   "source": [
    "import wandb\n",
    "api = wandb.Api()\n",
    "project = 'iit'\n",
    "group = 'eval'\n",
    "runs = api.runs(f'{project}', filters={\"group\": group, \"state\": \"finished\"})\n",
    "print(runs)"
   ]
  },
  {
   "cell_type": "code",
   "execution_count": 2,
   "metadata": {},
   "outputs": [
    {
     "name": "stdout",
     "output_type": "stream",
     "text": [
      "Downloading files for runs\n",
      "node_effect_8_weight_tracr_accuracy\n"
     ]
    },
    {
     "name": "stderr",
     "output_type": "stream",
     "text": [
      "100%|██████████| 12/12 [00:00<00:00, 16.87it/s]\n"
     ]
    },
    {
     "name": "stdout",
     "output_type": "stream",
     "text": [
      "node_effect_8_weight_510_accuracy\n"
     ]
    },
    {
     "name": "stderr",
     "output_type": "stream",
     "text": [
      "100%|██████████| 12/12 [00:00<00:00, 15.33it/s]\n"
     ]
    },
    {
     "name": "stdout",
     "output_type": "stream",
     "text": [
      "node_effect_24_weight_tracr_kl_div\n"
     ]
    },
    {
     "name": "stderr",
     "output_type": "stream",
     "text": [
      "100%|██████████| 12/12 [00:01<00:00, 10.35it/s]\n"
     ]
    },
    {
     "name": "stdout",
     "output_type": "stream",
     "text": [
      "node_effect_24_weight_510_kl_div\n"
     ]
    },
    {
     "name": "stderr",
     "output_type": "stream",
     "text": [
      "100%|██████████| 12/12 [00:01<00:00,  9.83it/s]\n"
     ]
    },
    {
     "name": "stdout",
     "output_type": "stream",
     "text": [
      "node_effect_8_weight_tracr_kl_div\n"
     ]
    },
    {
     "name": "stderr",
     "output_type": "stream",
     "text": [
      "100%|██████████| 12/12 [00:01<00:00,  9.89it/s]\n"
     ]
    },
    {
     "name": "stdout",
     "output_type": "stream",
     "text": [
      "node_effect_8_weight_510_kl_div\n"
     ]
    },
    {
     "name": "stderr",
     "output_type": "stream",
     "text": [
      "100%|██████████| 12/12 [00:01<00:00,  9.56it/s]\n"
     ]
    },
    {
     "name": "stdout",
     "output_type": "stream",
     "text": [
      "node_effect_24_weight_tracr_accuracy\n"
     ]
    },
    {
     "name": "stderr",
     "output_type": "stream",
     "text": [
      "100%|██████████| 12/12 [00:00<00:00, 15.37it/s]\n"
     ]
    },
    {
     "name": "stdout",
     "output_type": "stream",
     "text": [
      "node_effect_24_weight_510_accuracy\n"
     ]
    },
    {
     "name": "stderr",
     "output_type": "stream",
     "text": [
      "100%|██████████| 12/12 [00:00<00:00, 13.39it/s]\n"
     ]
    },
    {
     "name": "stdout",
     "output_type": "stream",
     "text": [
      "node_effect_4_weight_tracr\n"
     ]
    },
    {
     "name": "stderr",
     "output_type": "stream",
     "text": [
      "100%|██████████| 12/12 [00:01<00:00,  9.72it/s]\n"
     ]
    },
    {
     "name": "stdout",
     "output_type": "stream",
     "text": [
      "node_effect_21_weight_tracr_kl_div\n"
     ]
    },
    {
     "name": "stderr",
     "output_type": "stream",
     "text": [
      "100%|██████████| 12/12 [00:01<00:00, 11.37it/s]\n"
     ]
    },
    {
     "name": "stdout",
     "output_type": "stream",
     "text": [
      "node_effect_21_weight_tracr_accuracy\n"
     ]
    },
    {
     "name": "stderr",
     "output_type": "stream",
     "text": [
      "100%|██████████| 12/12 [00:00<00:00, 16.17it/s]\n"
     ]
    },
    {
     "name": "stdout",
     "output_type": "stream",
     "text": [
      "node_effect_4_weight_510\n"
     ]
    },
    {
     "name": "stderr",
     "output_type": "stream",
     "text": [
      "100%|██████████| 12/12 [00:01<00:00,  9.77it/s]\n"
     ]
    },
    {
     "name": "stdout",
     "output_type": "stream",
     "text": [
      "node_effect_21_weight_510_kl_div\n"
     ]
    },
    {
     "name": "stderr",
     "output_type": "stream",
     "text": [
      "100%|██████████| 13/13 [00:01<00:00, 10.29it/s]\n"
     ]
    },
    {
     "name": "stdout",
     "output_type": "stream",
     "text": [
      "node_effect_21_weight_510_accuracy\n"
     ]
    },
    {
     "name": "stderr",
     "output_type": "stream",
     "text": [
      "100%|██████████| 12/12 [00:00<00:00, 12.42it/s]\n"
     ]
    },
    {
     "name": "stdout",
     "output_type": "stream",
     "text": [
      "node_effect_3_weight_tracr\n"
     ]
    },
    {
     "name": "stderr",
     "output_type": "stream",
     "text": [
      "100%|██████████| 14/14 [00:01<00:00, 11.71it/s]\n"
     ]
    },
    {
     "name": "stdout",
     "output_type": "stream",
     "text": [
      "node_effect_3_weight_510\n"
     ]
    },
    {
     "name": "stderr",
     "output_type": "stream",
     "text": [
      "100%|██████████| 16/16 [00:01<00:00, 13.99it/s]\n"
     ]
    }
   ],
   "source": [
    "from tqdm import tqdm\n",
    "\n",
    "files_to_download = ['results.csv', 'metric_collection.log', 'train_args.log', 'results_kl_div.csv']\n",
    "print(\"Downloading files for runs\")\n",
    "for r in runs:\n",
    "    print(r.name)\n",
    "    # download all the run files in the run directory\n",
    "    for file in tqdm(r.files()):\n",
    "        if any([file.name.endswith(ftd) for ftd in files_to_download]):\n",
    "            file.download(replace=True)"
   ]
  },
  {
   "cell_type": "code",
   "execution_count": 3,
   "metadata": {},
   "outputs": [],
   "source": [
    "import dataframe_image as dfi\n",
    "import os\n",
    "\n",
    "def make_image(results_dict, folder, run, kl_div=False):\n",
    "    # remove unnamed columns from results\n",
    "    images_path = f\"{folder}/results{'_kl_div' if kl_div else ''}.png\"\n",
    "    if make_image and not os.path.exists(images_path):\n",
    "        dfi.export(results_dict[run], images_path)"
   ]
  },
  {
   "cell_type": "code",
   "execution_count": 4,
   "metadata": {},
   "outputs": [],
   "source": [
    "import pandas as pd\n",
    "\n",
    "def walk_wandb_dir_and_get_results(weight: float = 510, make_image: bool = True):\n",
    "    def drop_bad_columns_and_make_image(df, folder, kl_div=False):\n",
    "        df.drop(columns=[c for c in df.columns if 'Unnamed' in c], inplace=True)\n",
    "        if make_image:\n",
    "            images_path = f\"{folder}/results{'_kl_div' if kl_div else ''}.png\"\n",
    "            dfi.export(df, images_path)\n",
    "        return df\n",
    "    \n",
    "    results = {}\n",
    "    results_kl_div = {}\n",
    "    for run in os.listdir('./results/ll_models/'):\n",
    "        folder = os.path.join('./results/ll_models/', run, f'results_{weight}')\n",
    "        result = os.path.join(folder, 'results.csv')\n",
    "        result_kl_div = os.path.join(folder, 'results_kl_div.csv')\n",
    "        if os.path.exists(result):\n",
    "            results[run] = drop_bad_columns_and_make_image(pd.read_csv(result), folder, kl_div=False)\n",
    "        if os.path.exists(result_kl_div):\n",
    "            results_kl_div[run] = drop_bad_columns_and_make_image(pd.read_csv(result_kl_div), folder, kl_div=True)\n",
    "    return results"
   ]
  },
  {
   "cell_type": "code",
   "execution_count": 5,
   "metadata": {},
   "outputs": [],
   "source": [
    "results = walk_wandb_dir_and_get_results()"
   ]
  },
  {
   "cell_type": "code",
   "execution_count": 6,
   "metadata": {},
   "outputs": [],
   "source": [
    "import matplotlib.pyplot as plt\n",
    "\n",
    "\n",
    "def plot_results(\n",
    "    results,\n",
    "    key=\"resample_ablate_effect\",\n",
    "    normalize_by_runs=True,\n",
    "    figsize=(10, 5),\n",
    "):\n",
    "    if normalize_by_runs:\n",
    "        for _, df in results.items():\n",
    "            # normalize the values of the key column by the maximum value in the column\n",
    "            df[key] = df[key] / df[key].max()\n",
    "\n",
    "    # combine dataframes for each run, and add a column for the run name\n",
    "    df_combined = pd.concat([df.assign(run=run) for run, df in results.items()])\n",
    "\n",
    "    # box plot df['resample_ablate_effect'] where df['status] for each df['run'] in the same line\n",
    "    in_circuit_list = [\n",
    "        run_df[1].groupby(\"status\").get_group(\"in_circuit\")\n",
    "        for run_df in df_combined.groupby(\"run\")\n",
    "    ]\n",
    "    not_in_circuit_list = [\n",
    "        run_df[1].groupby(\"status\").get_group(\"not_in_circuit\")\n",
    "        for run_df in df_combined.groupby(\"run\")\n",
    "    ]\n",
    "\n",
    "    columns = results.keys()\n",
    "    plt.figure(figsize=figsize)\n",
    "    plt.title(f\"{key} for different runs\")\n",
    "    c = \"darkcyan\"\n",
    "    plt.boxplot(\n",
    "        [df[key] for df in in_circuit_list],\n",
    "        positions=range(0, len(columns) * 2, 2),\n",
    "        patch_artist=True,\n",
    "        showfliers=False,\n",
    "        boxprops=dict(facecolor=c, color=c),\n",
    "        capprops=dict(color=c),\n",
    "        whiskerprops=dict(color=c),\n",
    "        flierprops=dict(color=c, markeredgecolor=c),\n",
    "        medianprops=dict(color=c),\n",
    "    )\n",
    "\n",
    "    c = \"orangered\"\n",
    "    plt.boxplot(\n",
    "        [df[key] for df in not_in_circuit_list],\n",
    "        positions=range(0, len(columns) * 2, 2),\n",
    "        patch_artist=True,\n",
    "        showfliers=False,\n",
    "        boxprops=dict(facecolor=c, color=c),\n",
    "        capprops=dict(color=c),\n",
    "        whiskerprops=dict(color=c),\n",
    "        flierprops=dict(color=c, markeredgecolor=c),\n",
    "        medianprops=dict(color=c),\n",
    "    )\n",
    "\n",
    "    plt.xticks(\n",
    "        range(0, len(columns) * 2, 2),\n",
    "        [in_circuit_list[i].iloc[0][\"run\"] for i in range(len(columns))],\n",
    "    )"
   ]
  },
  {
   "cell_type": "code",
   "execution_count": 8,
   "metadata": {},
   "outputs": [
    {
     "data": {
      "image/png": "[encoded data removed]",
      "text/plain": [
       "<Figure size 1000x500 with 1 Axes>"
      ]
     },
     "metadata": {},
     "output_type": "display_data"
    }
   ],
   "source": [
    "plot_results(results, \n",
    "             key = \"resample_ablate_effect\",\n",
    "             normalize_by_runs=False)"
   ]
  },
  {
   "cell_type": "code",
   "execution_count": null,
   "metadata": {},
   "outputs": [],
   "source": []
  }
 ],
 "metadata": {
  "kernelspec": {
   "display_name": ".iit",
   "language": "python",
   "name": "python3"
  },
  "language_info": {
   "codemirror_mode": {
    "name": "ipython",
    "version": 3
   },
   "file_extension": ".py",
   "mimetype": "text/x-python",
   "name": "python",
   "nbconvert_exporter": "python",
   "pygments_lexer": "ipython3",
   "version": "3.11.4"
  }
 },
 "nbformat": 4,
 "nbformat_minor": 2
}
