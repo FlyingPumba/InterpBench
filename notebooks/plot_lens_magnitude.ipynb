{
 "cells": [
  {
   "cell_type": "code",
   "execution_count": 29,
   "metadata": {},
   "outputs": [
    {
     "name": "stdout",
     "output_type": "stream",
     "text": [
      "The autoreload extension is already loaded. To reload it, use:\n",
      "  %reload_ext autoreload\n"
     ]
    }
   ],
   "source": [
    "# autoreload\n",
    "%load_ext autoreload\n",
    "%autoreload 2\n"
   ]
  },
  {
   "cell_type": "code",
   "execution_count": 30,
   "metadata": {},
   "outputs": [],
   "source": [
    "import json\n",
    "import torch\n",
    "\n",
    "def get_results_for_case(case_name, dir = \"./interp_results\", tuned_lens=False):\n",
    "    lens_str = \"tuned_lens\" if tuned_lens else \"logit_lens\"\n",
    "    file_path = f\"{dir}/{case_name}/{lens_str}/{lens_str}_results.json\"\n",
    "    with open(file_path, \"r\") as f:\n",
    "        results = json.load(f)\n",
    "        labels = torch.tensor(results[\"labels\"])\n",
    "        logit_lens_results = {k: torch.tensor(v) for k, v in results.items()}\n",
    "        # delete the \"labels\" key from logit_lens_results\n",
    "        del logit_lens_results[\"labels\"]\n",
    "        return labels, logit_lens_results"
   ]
  },
  {
   "cell_type": "code",
   "execution_count": 35,
   "metadata": {},
   "outputs": [],
   "source": [
    "from interp_utils.lens.plot_utils import *\n",
    "from circuits_benchmark.utils.get_cases import get_cases, get_names_of_working_cases\n",
    "\n",
    "case_name = \"3\"\n",
    "case = get_cases(indices=[case_name])[0]\n",
    "tuned_lens = False\n",
    "\n",
    "labels, logit_lens_results = get_results_for_case(case_name, tuned_lens=tuned_lens)"
   ]
  },
  {
   "cell_type": "code",
   "execution_count": 33,
   "metadata": {},
   "outputs": [
    {
     "data": {
      "text/plain": [
       "torch.Size([1000, 9])"
      ]
     },
     "execution_count": 33,
     "metadata": {},
     "output_type": "execute_result"
    }
   ],
   "source": [
    "logit_lens_results['embed'].shape"
   ]
  },
  {
   "cell_type": "code",
   "execution_count": 19,
   "metadata": {},
   "outputs": [
    {
     "data": {
      "application/vnd.plotly.v1+json": {
       "config": {
        "plotlyServerURL": "https://plot.ly"
       },
       "data": [
        {
         "coloraxis": "coloraxis",
         "hovertemplate": "Layer/Head: %{x}<br>Position: %{y}<br>Explained Variance: %{z}<extra></extra>",
         "name": "0",
         "type": "heatmap",
         "x": [
          "embed",
          "pos_embed",
          "0_mlp_out(IC)",
          "1_mlp_out",
          "L0H0",
          "L0H1",
          "L0H2",
          "L0H3",
          "L1H0",
          "L1H1",
          "L1H2(IC)",
          "L1H3"
         ],
         "xaxis": "x",
         "y": [
          "0",
          "1",
          "2",
          "3"
         ],
         "yaxis": "y",
         "z": [
          [
           0.03183889389038086,
           5.960464477539063e-8,
           0.017308473587036133,
           0.00019109249114990234,
           0.0027266740798950195,
           0.0015342235565185547,
           0.003894329071044922,
           0.0025867223739624023,
           0.0360988974571228,
           0.002615690231323242,
           0.9994978308677673,
           0.029438495635986328
          ],
          [
           0.03191936016082764,
           0,
           0.0015590190887451172,
           0.012793660163879395,
           0.0021059513092041016,
           0.0010805130004882812,
           0.0027327537536621094,
           0.0011153817176818848,
           0.035505473613739014,
           0.004563510417938232,
           0.9997960925102234,
           0.026912689208984375
          ],
          [
           0.032134294509887695,
           1.1920928955078125e-7,
           0.020572185516357422,
           0.00037217140197753906,
           0.0026254653930664062,
           0.0017518997192382812,
           0.0022187232971191406,
           0.0016058087348937988,
           0.03488343954086304,
           0.004949629306793213,
           0.9999034404754639,
           0.02538168430328369
          ],
          [
           0.032642245292663574,
           5.960464477539063e-8,
           0.00034332275390625,
           0.002540886402130127,
           0.0029954910278320312,
           0.001714468002319336,
           0.0021065473556518555,
           0.002478957176208496,
           0.03704804182052612,
           0.005896925926208496,
           0.9997087717056274,
           0.025011897087097168
          ]
         ]
        }
       ],
       "layout": {
        "coloraxis": {
         "colorbar": {
          "title": {
           "text": "Explained Variance"
          }
         },
         "colorscale": [
          [
           0,
           "#440154"
          ],
          [
           0.1111111111111111,
           "#482878"
          ],
          [
           0.2222222222222222,
           "#3e4989"
          ],
          [
           0.3333333333333333,
           "#31688e"
          ],
          [
           0.4444444444444444,
           "#26828e"
          ],
          [
           0.5555555555555556,
           "#1f9e89"
          ],
          [
           0.6666666666666666,
           "#35b779"
          ],
          [
           0.7777777777777778,
           "#6ece58"
          ],
          [
           0.8888888888888888,
           "#b5de2b"
          ],
          [
           1,
           "#fde725"
          ]
         ]
        },
        "margin": {
         "b": 0,
         "l": 0,
         "r": 0,
         "t": 1
        },
        "template": {
         "data": {
          "bar": [
           {
            "error_x": {
             "color": "#2a3f5f"
            },
            "error_y": {
             "color": "#2a3f5f"
            },
            "marker": {
             "line": {
              "color": "#E5ECF6",
              "width": 0.5
             },
             "pattern": {
              "fillmode": "overlay",
              "size": 10,
              "solidity": 0.2
             }
            },
            "type": "bar"
           }
          ],
          "barpolar": [
           {
            "marker": {
             "line": {
              "color": "#E5ECF6",
              "width": 0.5
             },
             "pattern": {
              "fillmode": "overlay",
              "size": 10,
              "solidity": 0.2
             }
            },
            "type": "barpolar"
           }
          ],
          "carpet": [
           {
            "aaxis": {
             "endlinecolor": "#2a3f5f",
             "gridcolor": "white",
             "linecolor": "white",
             "minorgridcolor": "white",
             "startlinecolor": "#2a3f5f"
            },
            "baxis": {
             "endlinecolor": "#2a3f5f",
             "gridcolor": "white",
             "linecolor": "white",
             "minorgridcolor": "white",
             "startlinecolor": "#2a3f5f"
            },
            "type": "carpet"
           }
          ],
          "choropleth": [
           {
            "colorbar": {
             "outlinewidth": 0,
             "ticks": ""
            },
            "type": "choropleth"
           }
          ],
          "contour": [
           {
            "colorbar": {
             "outlinewidth": 0,
             "ticks": ""
            },
            "colorscale": [
             [
              0,
              "#0d0887"
             ],
             [
              0.1111111111111111,
              "#46039f"
             ],
             [
              0.2222222222222222,
              "#7201a8"
             ],
             [
              0.3333333333333333,
              "#9c179e"
             ],
             [
              0.4444444444444444,
              "#bd3786"
             ],
             [
              0.5555555555555556,
              "#d8576b"
             ],
             [
              0.6666666666666666,
              "#ed7953"
             ],
             [
              0.7777777777777778,
              "#fb9f3a"
             ],
             [
              0.8888888888888888,
              "#fdca26"
             ],
             [
              1,
              "#f0f921"
             ]
            ],
            "type": "contour"
           }
          ],
          "contourcarpet": [
           {
            "colorbar": {
             "outlinewidth": 0,
             "ticks": ""
            },
            "type": "contourcarpet"
           }
          ],
          "heatmap": [
           {
            "colorbar": {
             "outlinewidth": 0,
             "ticks": ""
            },
            "colorscale": [
             [
              0,
              "#0d0887"
             ],
             [
              0.1111111111111111,
              "#46039f"
             ],
             [
              0.2222222222222222,
              "#7201a8"
             ],
             [
              0.3333333333333333,
              "#9c179e"
             ],
             [
              0.4444444444444444,
              "#bd3786"
             ],
             [
              0.5555555555555556,
              "#d8576b"
             ],
             [
              0.6666666666666666,
              "#ed7953"
             ],
             [
              0.7777777777777778,
              "#fb9f3a"
             ],
             [
              0.8888888888888888,
              "#fdca26"
             ],
             [
              1,
              "#f0f921"
             ]
            ],
            "type": "heatmap"
           }
          ],
          "heatmapgl": [
           {
            "colorbar": {
             "outlinewidth": 0,
             "ticks": ""
            },
            "colorscale": [
             [
              0,
              "#0d0887"
             ],
             [
              0.1111111111111111,
              "#46039f"
             ],
             [
              0.2222222222222222,
              "#7201a8"
             ],
             [
              0.3333333333333333,
              "#9c179e"
             ],
             [
              0.4444444444444444,
              "#bd3786"
             ],
             [
              0.5555555555555556,
              "#d8576b"
             ],
             [
              0.6666666666666666,
              "#ed7953"
             ],
             [
              0.7777777777777778,
              "#fb9f3a"
             ],
             [
              0.8888888888888888,
              "#fdca26"
             ],
             [
              1,
              "#f0f921"
             ]
            ],
            "type": "heatmapgl"
           }
          ],
          "histogram": [
           {
            "marker": {
             "pattern": {
              "fillmode": "overlay",
              "size": 10,
              "solidity": 0.2
             }
            },
            "type": "histogram"
           }
          ],
          "histogram2d": [
           {
            "colorbar": {
             "outlinewidth": 0,
             "ticks": ""
            },
            "colorscale": [
             [
              0,
              "#0d0887"
             ],
             [
              0.1111111111111111,
              "#46039f"
             ],
             [
              0.2222222222222222,
              "#7201a8"
             ],
             [
              0.3333333333333333,
              "#9c179e"
             ],
             [
              0.4444444444444444,
              "#bd3786"
             ],
             [
              0.5555555555555556,
              "#d8576b"
             ],
             [
              0.6666666666666666,
              "#ed7953"
             ],
             [
              0.7777777777777778,
              "#fb9f3a"
             ],
             [
              0.8888888888888888,
              "#fdca26"
             ],
             [
              1,
              "#f0f921"
             ]
            ],
            "type": "histogram2d"
           }
          ],
          "histogram2dcontour": [
           {
            "colorbar": {
             "outlinewidth": 0,
             "ticks": ""
            },
            "colorscale": [
             [
              0,
              "#0d0887"
             ],
             [
              0.1111111111111111,
              "#46039f"
             ],
             [
              0.2222222222222222,
              "#7201a8"
             ],
             [
              0.3333333333333333,
              "#9c179e"
             ],
             [
              0.4444444444444444,
              "#bd3786"
             ],
             [
              0.5555555555555556,
              "#d8576b"
             ],
             [
              0.6666666666666666,
              "#ed7953"
             ],
             [
              0.7777777777777778,
              "#fb9f3a"
             ],
             [
              0.8888888888888888,
              "#fdca26"
             ],
             [
              1,
              "#f0f921"
             ]
            ],
            "type": "histogram2dcontour"
           }
          ],
          "mesh3d": [
           {
            "colorbar": {
             "outlinewidth": 0,
             "ticks": ""
            },
            "type": "mesh3d"
           }
          ],
          "parcoords": [
           {
            "line": {
             "colorbar": {
              "outlinewidth": 0,
              "ticks": ""
             }
            },
            "type": "parcoords"
           }
          ],
          "pie": [
           {
            "automargin": true,
            "type": "pie"
           }
          ],
          "scatter": [
           {
            "fillpattern": {
             "fillmode": "overlay",
             "size": 10,
             "solidity": 0.2
            },
            "type": "scatter"
           }
          ],
          "scatter3d": [
           {
            "line": {
             "colorbar": {
              "outlinewidth": 0,
              "ticks": ""
             }
            },
            "marker": {
             "colorbar": {
              "outlinewidth": 0,
              "ticks": ""
             }
            },
            "type": "scatter3d"
           }
          ],
          "scattercarpet": [
           {
            "marker": {
             "colorbar": {
              "outlinewidth": 0,
              "ticks": ""
             }
            },
            "type": "scattercarpet"
           }
          ],
          "scattergeo": [
           {
            "marker": {
             "colorbar": {
              "outlinewidth": 0,
              "ticks": ""
             }
            },
            "type": "scattergeo"
           }
          ],
          "scattergl": [
           {
            "marker": {
             "colorbar": {
              "outlinewidth": 0,
              "ticks": ""
             }
            },
            "type": "scattergl"
           }
          ],
          "scattermapbox": [
           {
            "marker": {
             "colorbar": {
              "outlinewidth": 0,
              "ticks": ""
             }
            },
            "type": "scattermapbox"
           }
          ],
          "scatterpolar": [
           {
            "marker": {
             "colorbar": {
              "outlinewidth": 0,
              "ticks": ""
             }
            },
            "type": "scatterpolar"
           }
          ],
          "scatterpolargl": [
           {
            "marker": {
             "colorbar": {
              "outlinewidth": 0,
              "ticks": ""
             }
            },
            "type": "scatterpolargl"
           }
          ],
          "scatterternary": [
           {
            "marker": {
             "colorbar": {
              "outlinewidth": 0,
              "ticks": ""
             }
            },
            "type": "scatterternary"
           }
          ],
          "surface": [
           {
            "colorbar": {
             "outlinewidth": 0,
             "ticks": ""
            },
            "colorscale": [
             [
              0,
              "#0d0887"
             ],
             [
              0.1111111111111111,
              "#46039f"
             ],
             [
              0.2222222222222222,
              "#7201a8"
             ],
             [
              0.3333333333333333,
              "#9c179e"
             ],
             [
              0.4444444444444444,
              "#bd3786"
             ],
             [
              0.5555555555555556,
              "#d8576b"
             ],
             [
              0.6666666666666666,
              "#ed7953"
             ],
             [
              0.7777777777777778,
              "#fb9f3a"
             ],
             [
              0.8888888888888888,
              "#fdca26"
             ],
             [
              1,
              "#f0f921"
             ]
            ],
            "type": "surface"
           }
          ],
          "table": [
           {
            "cells": {
             "fill": {
              "color": "#EBF0F8"
             },
             "line": {
              "color": "white"
             }
            },
            "header": {
             "fill": {
              "color": "#C8D4E3"
             },
             "line": {
              "color": "white"
             }
            },
            "type": "table"
           }
          ]
         },
         "layout": {
          "annotationdefaults": {
           "arrowcolor": "#2a3f5f",
           "arrowhead": 0,
           "arrowwidth": 1
          },
          "autotypenumbers": "strict",
          "coloraxis": {
           "colorbar": {
            "outlinewidth": 0,
            "ticks": ""
           }
          },
          "colorscale": {
           "diverging": [
            [
             0,
             "#8e0152"
            ],
            [
             0.1,
             "#c51b7d"
            ],
            [
             0.2,
             "#de77ae"
            ],
            [
             0.3,
             "#f1b6da"
            ],
            [
             0.4,
             "#fde0ef"
            ],
            [
             0.5,
             "#f7f7f7"
            ],
            [
             0.6,
             "#e6f5d0"
            ],
            [
             0.7,
             "#b8e186"
            ],
            [
             0.8,
             "#7fbc41"
            ],
            [
             0.9,
             "#4d9221"
            ],
            [
             1,
             "#276419"
            ]
           ],
           "sequential": [
            [
             0,
             "#0d0887"
            ],
            [
             0.1111111111111111,
             "#46039f"
            ],
            [
             0.2222222222222222,
             "#7201a8"
            ],
            [
             0.3333333333333333,
             "#9c179e"
            ],
            [
             0.4444444444444444,
             "#bd3786"
            ],
            [
             0.5555555555555556,
             "#d8576b"
            ],
            [
             0.6666666666666666,
             "#ed7953"
            ],
            [
             0.7777777777777778,
             "#fb9f3a"
            ],
            [
             0.8888888888888888,
             "#fdca26"
            ],
            [
             1,
             "#f0f921"
            ]
           ],
           "sequentialminus": [
            [
             0,
             "#0d0887"
            ],
            [
             0.1111111111111111,
             "#46039f"
            ],
            [
             0.2222222222222222,
             "#7201a8"
            ],
            [
             0.3333333333333333,
             "#9c179e"
            ],
            [
             0.4444444444444444,
             "#bd3786"
            ],
            [
             0.5555555555555556,
             "#d8576b"
            ],
            [
             0.6666666666666666,
             "#ed7953"
            ],
            [
             0.7777777777777778,
             "#fb9f3a"
            ],
            [
             0.8888888888888888,
             "#fdca26"
            ],
            [
             1,
             "#f0f921"
            ]
           ]
          },
          "colorway": [
           "#636efa",
           "#EF553B",
           "#00cc96",
           "#ab63fa",
           "#FFA15A",
           "#19d3f3",
           "#FF6692",
           "#B6E880",
           "#FF97FF",
           "#FECB52"
          ],
          "font": {
           "color": "#2a3f5f"
          },
          "geo": {
           "bgcolor": "white",
           "lakecolor": "white",
           "landcolor": "#E5ECF6",
           "showlakes": true,
           "showland": true,
           "subunitcolor": "white"
          },
          "hoverlabel": {
           "align": "left"
          },
          "hovermode": "closest",
          "mapbox": {
           "style": "light"
          },
          "paper_bgcolor": "white",
          "plot_bgcolor": "#E5ECF6",
          "polar": {
           "angularaxis": {
            "gridcolor": "white",
            "linecolor": "white",
            "ticks": ""
           },
           "bgcolor": "#E5ECF6",
           "radialaxis": {
            "gridcolor": "white",
            "linecolor": "white",
            "ticks": ""
           }
          },
          "scene": {
           "xaxis": {
            "backgroundcolor": "#E5ECF6",
            "gridcolor": "white",
            "gridwidth": 2,
            "linecolor": "white",
            "showbackground": true,
            "ticks": "",
            "zerolinecolor": "white"
           },
           "yaxis": {
            "backgroundcolor": "#E5ECF6",
            "gridcolor": "white",
            "gridwidth": 2,
            "linecolor": "white",
            "showbackground": true,
            "ticks": "",
            "zerolinecolor": "white"
           },
           "zaxis": {
            "backgroundcolor": "#E5ECF6",
            "gridcolor": "white",
            "gridwidth": 2,
            "linecolor": "white",
            "showbackground": true,
            "ticks": "",
            "zerolinecolor": "white"
           }
          },
          "shapedefaults": {
           "line": {
            "color": "#2a3f5f"
           }
          },
          "ternary": {
           "aaxis": {
            "gridcolor": "white",
            "linecolor": "white",
            "ticks": ""
           },
           "baxis": {
            "gridcolor": "white",
            "linecolor": "white",
            "ticks": ""
           },
           "bgcolor": "#E5ECF6",
           "caxis": {
            "gridcolor": "white",
            "linecolor": "white",
            "ticks": ""
           }
          },
          "title": {
           "x": 0.05
          },
          "xaxis": {
           "automargin": true,
           "gridcolor": "white",
           "linecolor": "white",
           "ticks": "",
           "title": {
            "standoff": 15
           },
           "zerolinecolor": "white",
           "zerolinewidth": 2
          },
          "yaxis": {
           "automargin": true,
           "gridcolor": "white",
           "linecolor": "white",
           "ticks": "",
           "title": {
            "standoff": 15
           },
           "zerolinecolor": "white",
           "zerolinewidth": 2
          }
         }
        },
        "xaxis": {
         "anchor": "y",
         "constrain": "domain",
         "domain": [
          0,
          1
         ],
         "scaleanchor": "y",
         "tickfont": {
          "size": 15
         },
         "title": {
          "text": "Layer/Head"
         }
        },
        "yaxis": {
         "anchor": "x",
         "autorange": "reversed",
         "constrain": "domain",
         "domain": [
          0,
          1
         ],
         "title": {
          "text": "Position"
         }
        }
       }
      }
     },
     "metadata": {},
     "output_type": "display_data"
    },
    {
     "data": {
      "text/plain": [
       "'./interp_results//3/logit_lens/combined_variance_explained.png'"
      ]
     },
     "execution_count": 19,
     "metadata": {},
     "output_type": "execute_result"
    }
   ],
   "source": [
    "plot_explained_variance_combined(\n",
    "    labels=labels,\n",
    "    lens_results=logit_lens_results,\n",
    "    is_categorical=case.is_categorical(),\n",
    "    nodes_in_circuit= [],\n",
    "    abs_corr=True,\n",
    "    tuned_lens=tuned_lens,\n",
    "    case_name=case_name,\n",
    "    show=True\n",
    ")"
   ]
  },
  {
   "cell_type": "code",
   "execution_count": 36,
   "metadata": {},
   "outputs": [
    {
     "data": {
      "application/vnd.plotly.v1+json": {
       "config": {
        "plotlyServerURL": "https://plot.ly"
       },
       "data": [
        {
         "coloraxis": "coloraxis",
         "hovertemplate": "Layer/Head: %{x}<br>Position: %{y}<br>Mean Absolute Error: %{z}<extra></extra>",
         "name": "0",
         "type": "heatmap",
         "x": [
          "embed",
          "pos_embed",
          "0_mlp_out(IC)",
          "1_mlp_out",
          "L0H0",
          "L0H1",
          "L0H2",
          "L0H3",
          "L1H0",
          "L1H1",
          "L1H2(IC)",
          "L1H3"
         ],
         "xaxis": "x",
         "y": [
          "0",
          "1",
          "2",
          "3"
         ],
         "yaxis": "y",
         "z": [
          [
           0.984498918056488,
           1.0346100330352783,
           0.9806513786315918,
           1.0121088027954102,
           1.0082933902740479,
           1.006935477256775,
           1.0092699527740479,
           1.006556510925293,
           0.9936378598213196,
           1.0051343441009521,
           0.2653707265853882,
           0.9126587510108948
          ],
          [
           0.47211530804634094,
           0.503726601600647,
           0.48388004302978516,
           0.5182820558547974,
           0.5115476250648499,
           0.5113759636878967,
           0.5108581185340881,
           0.5098123550415039,
           0.5183513760566711,
           0.509791374206543,
           0.31549718976020813,
           0.3992135524749756
          ],
          [
           0.30177778005599976,
           0.31904855370521545,
           0.3099490702152252,
           0.34907442331314087,
           0.3398439586162567,
           0.3392290771007538,
           0.3382551372051239,
           0.33745309710502625,
           0.3486888110637665,
           0.3385385572910309,
           0.33115097880363464,
           0.2232809215784073
          ],
          [
           0.21216613054275513,
           0.21120554208755493,
           0.22271065413951874,
           0.2641783058643341,
           0.2511162757873535,
           0.25059574842453003,
           0.2501891851425171,
           0.2490532398223877,
           0.2615206241607666,
           0.2502672076225281,
           0.34540003538131714,
           0.1331341564655304
          ]
         ]
        }
       ],
       "layout": {
        "coloraxis": {
         "colorbar": {
          "title": {
           "text": "Mean Absolute Error"
          }
         },
         "colorscale": [
          [
           0,
           "#440154"
          ],
          [
           0.1111111111111111,
           "#482878"
          ],
          [
           0.2222222222222222,
           "#3e4989"
          ],
          [
           0.3333333333333333,
           "#31688e"
          ],
          [
           0.4444444444444444,
           "#26828e"
          ],
          [
           0.5555555555555556,
           "#1f9e89"
          ],
          [
           0.6666666666666666,
           "#35b779"
          ],
          [
           0.7777777777777778,
           "#6ece58"
          ],
          [
           0.8888888888888888,
           "#b5de2b"
          ],
          [
           1,
           "#fde725"
          ]
         ]
        },
        "margin": {
         "b": 0,
         "l": 0,
         "r": 0,
         "t": 1
        },
        "template": {
         "data": {
          "bar": [
           {
            "error_x": {
             "color": "#2a3f5f"
            },
            "error_y": {
             "color": "#2a3f5f"
            },
            "marker": {
             "line": {
              "color": "#E5ECF6",
              "width": 0.5
             },
             "pattern": {
              "fillmode": "overlay",
              "size": 10,
              "solidity": 0.2
             }
            },
            "type": "bar"
           }
          ],
          "barpolar": [
           {
            "marker": {
             "line": {
              "color": "#E5ECF6",
              "width": 0.5
             },
             "pattern": {
              "fillmode": "overlay",
              "size": 10,
              "solidity": 0.2
             }
            },
            "type": "barpolar"
           }
          ],
          "carpet": [
           {
            "aaxis": {
             "endlinecolor": "#2a3f5f",
             "gridcolor": "white",
             "linecolor": "white",
             "minorgridcolor": "white",
             "startlinecolor": "#2a3f5f"
            },
            "baxis": {
             "endlinecolor": "#2a3f5f",
             "gridcolor": "white",
             "linecolor": "white",
             "minorgridcolor": "white",
             "startlinecolor": "#2a3f5f"
            },
            "type": "carpet"
           }
          ],
          "choropleth": [
           {
            "colorbar": {
             "outlinewidth": 0,
             "ticks": ""
            },
            "type": "choropleth"
           }
          ],
          "contour": [
           {
            "colorbar": {
             "outlinewidth": 0,
             "ticks": ""
            },
            "colorscale": [
             [
              0,
              "#0d0887"
             ],
             [
              0.1111111111111111,
              "#46039f"
             ],
             [
              0.2222222222222222,
              "#7201a8"
             ],
             [
              0.3333333333333333,
              "#9c179e"
             ],
             [
              0.4444444444444444,
              "#bd3786"
             ],
             [
              0.5555555555555556,
              "#d8576b"
             ],
             [
              0.6666666666666666,
              "#ed7953"
             ],
             [
              0.7777777777777778,
              "#fb9f3a"
             ],
             [
              0.8888888888888888,
              "#fdca26"
             ],
             [
              1,
              "#f0f921"
             ]
            ],
            "type": "contour"
           }
          ],
          "contourcarpet": [
           {
            "colorbar": {
             "outlinewidth": 0,
             "ticks": ""
            },
            "type": "contourcarpet"
           }
          ],
          "heatmap": [
           {
            "colorbar": {
             "outlinewidth": 0,
             "ticks": ""
            },
            "colorscale": [
             [
              0,
              "#0d0887"
             ],
             [
              0.1111111111111111,
              "#46039f"
             ],
             [
              0.2222222222222222,
              "#7201a8"
             ],
             [
              0.3333333333333333,
              "#9c179e"
             ],
             [
              0.4444444444444444,
              "#bd3786"
             ],
             [
              0.5555555555555556,
              "#d8576b"
             ],
             [
              0.6666666666666666,
              "#ed7953"
             ],
             [
              0.7777777777777778,
              "#fb9f3a"
             ],
             [
              0.8888888888888888,
              "#fdca26"
             ],
             [
              1,
              "#f0f921"
             ]
            ],
            "type": "heatmap"
           }
          ],
          "heatmapgl": [
           {
            "colorbar": {
             "outlinewidth": 0,
             "ticks": ""
            },
            "colorscale": [
             [
              0,
              "#0d0887"
             ],
             [
              0.1111111111111111,
              "#46039f"
             ],
             [
              0.2222222222222222,
              "#7201a8"
             ],
             [
              0.3333333333333333,
              "#9c179e"
             ],
             [
              0.4444444444444444,
              "#bd3786"
             ],
             [
              0.5555555555555556,
              "#d8576b"
             ],
             [
              0.6666666666666666,
              "#ed7953"
             ],
             [
              0.7777777777777778,
              "#fb9f3a"
             ],
             [
              0.8888888888888888,
              "#fdca26"
             ],
             [
              1,
              "#f0f921"
             ]
            ],
            "type": "heatmapgl"
           }
          ],
          "histogram": [
           {
            "marker": {
             "pattern": {
              "fillmode": "overlay",
              "size": 10,
              "solidity": 0.2
             }
            },
            "type": "histogram"
           }
          ],
          "histogram2d": [
           {
            "colorbar": {
             "outlinewidth": 0,
             "ticks": ""
            },
            "colorscale": [
             [
              0,
              "#0d0887"
             ],
             [
              0.1111111111111111,
              "#46039f"
             ],
             [
              0.2222222222222222,
              "#7201a8"
             ],
             [
              0.3333333333333333,
              "#9c179e"
             ],
             [
              0.4444444444444444,
              "#bd3786"
             ],
             [
              0.5555555555555556,
              "#d8576b"
             ],
             [
              0.6666666666666666,
              "#ed7953"
             ],
             [
              0.7777777777777778,
              "#fb9f3a"
             ],
             [
              0.8888888888888888,
              "#fdca26"
             ],
             [
              1,
              "#f0f921"
             ]
            ],
            "type": "histogram2d"
           }
          ],
          "histogram2dcontour": [
           {
            "colorbar": {
             "outlinewidth": 0,
             "ticks": ""
            },
            "colorscale": [
             [
              0,
              "#0d0887"
             ],
             [
              0.1111111111111111,
              "#46039f"
             ],
             [
              0.2222222222222222,
              "#7201a8"
             ],
             [
              0.3333333333333333,
              "#9c179e"
             ],
             [
              0.4444444444444444,
              "#bd3786"
             ],
             [
              0.5555555555555556,
              "#d8576b"
             ],
             [
              0.6666666666666666,
              "#ed7953"
             ],
             [
              0.7777777777777778,
              "#fb9f3a"
             ],
             [
              0.8888888888888888,
              "#fdca26"
             ],
             [
              1,
              "#f0f921"
             ]
            ],
            "type": "histogram2dcontour"
           }
          ],
          "mesh3d": [
           {
            "colorbar": {
             "outlinewidth": 0,
             "ticks": ""
            },
            "type": "mesh3d"
           }
          ],
          "parcoords": [
           {
            "line": {
             "colorbar": {
              "outlinewidth": 0,
              "ticks": ""
             }
            },
            "type": "parcoords"
           }
          ],
          "pie": [
           {
            "automargin": true,
            "type": "pie"
           }
          ],
          "scatter": [
           {
            "fillpattern": {
             "fillmode": "overlay",
             "size": 10,
             "solidity": 0.2
            },
            "type": "scatter"
           }
          ],
          "scatter3d": [
           {
            "line": {
             "colorbar": {
              "outlinewidth": 0,
              "ticks": ""
             }
            },
            "marker": {
             "colorbar": {
              "outlinewidth": 0,
              "ticks": ""
             }
            },
            "type": "scatter3d"
           }
          ],
          "scattercarpet": [
           {
            "marker": {
             "colorbar": {
              "outlinewidth": 0,
              "ticks": ""
             }
            },
            "type": "scattercarpet"
           }
          ],
          "scattergeo": [
           {
            "marker": {
             "colorbar": {
              "outlinewidth": 0,
              "ticks": ""
             }
            },
            "type": "scattergeo"
           }
          ],
          "scattergl": [
           {
            "marker": {
             "colorbar": {
              "outlinewidth": 0,
              "ticks": ""
             }
            },
            "type": "scattergl"
           }
          ],
          "scattermapbox": [
           {
            "marker": {
             "colorbar": {
              "outlinewidth": 0,
              "ticks": ""
             }
            },
            "type": "scattermapbox"
           }
          ],
          "scatterpolar": [
           {
            "marker": {
             "colorbar": {
              "outlinewidth": 0,
              "ticks": ""
             }
            },
            "type": "scatterpolar"
           }
          ],
          "scatterpolargl": [
           {
            "marker": {
             "colorbar": {
              "outlinewidth": 0,
              "ticks": ""
             }
            },
            "type": "scatterpolargl"
           }
          ],
          "scatterternary": [
           {
            "marker": {
             "colorbar": {
              "outlinewidth": 0,
              "ticks": ""
             }
            },
            "type": "scatterternary"
           }
          ],
          "surface": [
           {
            "colorbar": {
             "outlinewidth": 0,
             "ticks": ""
            },
            "colorscale": [
             [
              0,
              "#0d0887"
             ],
             [
              0.1111111111111111,
              "#46039f"
             ],
             [
              0.2222222222222222,
              "#7201a8"
             ],
             [
              0.3333333333333333,
              "#9c179e"
             ],
             [
              0.4444444444444444,
              "#bd3786"
             ],
             [
              0.5555555555555556,
              "#d8576b"
             ],
             [
              0.6666666666666666,
              "#ed7953"
             ],
             [
              0.7777777777777778,
              "#fb9f3a"
             ],
             [
              0.8888888888888888,
              "#fdca26"
             ],
             [
              1,
              "#f0f921"
             ]
            ],
            "type": "surface"
           }
          ],
          "table": [
           {
            "cells": {
             "fill": {
              "color": "#EBF0F8"
             },
             "line": {
              "color": "white"
             }
            },
            "header": {
             "fill": {
              "color": "#C8D4E3"
             },
             "line": {
              "color": "white"
             }
            },
            "type": "table"
           }
          ]
         },
         "layout": {
          "annotationdefaults": {
           "arrowcolor": "#2a3f5f",
           "arrowhead": 0,
           "arrowwidth": 1
          },
          "autotypenumbers": "strict",
          "coloraxis": {
           "colorbar": {
            "outlinewidth": 0,
            "ticks": ""
           }
          },
          "colorscale": {
           "diverging": [
            [
             0,
             "#8e0152"
            ],
            [
             0.1,
             "#c51b7d"
            ],
            [
             0.2,
             "#de77ae"
            ],
            [
             0.3,
             "#f1b6da"
            ],
            [
             0.4,
             "#fde0ef"
            ],
            [
             0.5,
             "#f7f7f7"
            ],
            [
             0.6,
             "#e6f5d0"
            ],
            [
             0.7,
             "#b8e186"
            ],
            [
             0.8,
             "#7fbc41"
            ],
            [
             0.9,
             "#4d9221"
            ],
            [
             1,
             "#276419"
            ]
           ],
           "sequential": [
            [
             0,
             "#0d0887"
            ],
            [
             0.1111111111111111,
             "#46039f"
            ],
            [
             0.2222222222222222,
             "#7201a8"
            ],
            [
             0.3333333333333333,
             "#9c179e"
            ],
            [
             0.4444444444444444,
             "#bd3786"
            ],
            [
             0.5555555555555556,
             "#d8576b"
            ],
            [
             0.6666666666666666,
             "#ed7953"
            ],
            [
             0.7777777777777778,
             "#fb9f3a"
            ],
            [
             0.8888888888888888,
             "#fdca26"
            ],
            [
             1,
             "#f0f921"
            ]
           ],
           "sequentialminus": [
            [
             0,
             "#0d0887"
            ],
            [
             0.1111111111111111,
             "#46039f"
            ],
            [
             0.2222222222222222,
             "#7201a8"
            ],
            [
             0.3333333333333333,
             "#9c179e"
            ],
            [
             0.4444444444444444,
             "#bd3786"
            ],
            [
             0.5555555555555556,
             "#d8576b"
            ],
            [
             0.6666666666666666,
             "#ed7953"
            ],
            [
             0.7777777777777778,
             "#fb9f3a"
            ],
            [
             0.8888888888888888,
             "#fdca26"
            ],
            [
             1,
             "#f0f921"
            ]
           ]
          },
          "colorway": [
           "#636efa",
           "#EF553B",
           "#00cc96",
           "#ab63fa",
           "#FFA15A",
           "#19d3f3",
           "#FF6692",
           "#B6E880",
           "#FF97FF",
           "#FECB52"
          ],
          "font": {
           "color": "#2a3f5f"
          },
          "geo": {
           "bgcolor": "white",
           "lakecolor": "white",
           "landcolor": "#E5ECF6",
           "showlakes": true,
           "showland": true,
           "subunitcolor": "white"
          },
          "hoverlabel": {
           "align": "left"
          },
          "hovermode": "closest",
          "mapbox": {
           "style": "light"
          },
          "paper_bgcolor": "white",
          "plot_bgcolor": "#E5ECF6",
          "polar": {
           "angularaxis": {
            "gridcolor": "white",
            "linecolor": "white",
            "ticks": ""
           },
           "bgcolor": "#E5ECF6",
           "radialaxis": {
            "gridcolor": "white",
            "linecolor": "white",
            "ticks": ""
           }
          },
          "scene": {
           "xaxis": {
            "backgroundcolor": "#E5ECF6",
            "gridcolor": "white",
            "gridwidth": 2,
            "linecolor": "white",
            "showbackground": true,
            "ticks": "",
            "zerolinecolor": "white"
           },
           "yaxis": {
            "backgroundcolor": "#E5ECF6",
            "gridcolor": "white",
            "gridwidth": 2,
            "linecolor": "white",
            "showbackground": true,
            "ticks": "",
            "zerolinecolor": "white"
           },
           "zaxis": {
            "backgroundcolor": "#E5ECF6",
            "gridcolor": "white",
            "gridwidth": 2,
            "linecolor": "white",
            "showbackground": true,
            "ticks": "",
            "zerolinecolor": "white"
           }
          },
          "shapedefaults": {
           "line": {
            "color": "#2a3f5f"
           }
          },
          "ternary": {
           "aaxis": {
            "gridcolor": "white",
            "linecolor": "white",
            "ticks": ""
           },
           "baxis": {
            "gridcolor": "white",
            "linecolor": "white",
            "ticks": ""
           },
           "bgcolor": "#E5ECF6",
           "caxis": {
            "gridcolor": "white",
            "linecolor": "white",
            "ticks": ""
           }
          },
          "title": {
           "x": 0.05
          },
          "xaxis": {
           "automargin": true,
           "gridcolor": "white",
           "linecolor": "white",
           "ticks": "",
           "title": {
            "standoff": 15
           },
           "zerolinecolor": "white",
           "zerolinewidth": 2
          },
          "yaxis": {
           "automargin": true,
           "gridcolor": "white",
           "linecolor": "white",
           "ticks": "",
           "title": {
            "standoff": 15
           },
           "zerolinecolor": "white",
           "zerolinewidth": 2
          }
         }
        },
        "xaxis": {
         "anchor": "y",
         "constrain": "domain",
         "domain": [
          0,
          1
         ],
         "scaleanchor": "y",
         "tickfont": {
          "size": 15
         },
         "title": {
          "text": "Layer/Head"
         }
        },
        "yaxis": {
         "anchor": "x",
         "autorange": "reversed",
         "constrain": "domain",
         "domain": [
          0,
          1
         ],
         "title": {
          "text": "Position"
         }
        }
       }
      }
     },
     "metadata": {},
     "output_type": "display_data"
    },
    {
     "data": {
      "text/plain": [
       "'./interp_results//3/logit_lens/combined_variance_explained.png'"
      ]
     },
     "execution_count": 36,
     "metadata": {},
     "output_type": "execute_result"
    }
   ],
   "source": [
    "def metric(y, x):\n",
    "    return np.mean(abs(x[0] - y[0]))\n",
    "\n",
    "plot_metric(\n",
    "    labels=labels,\n",
    "    lens_results=logit_lens_results,\n",
    "    metric=metric,\n",
    "    metric_label=\"Mean Absolute Error\",\n",
    "    is_categorical=case.is_categorical(),\n",
    "    nodes_in_circuit= [],\n",
    "    abs_corr=True,\n",
    "    tuned_lens=tuned_lens,\n",
    "    case_name=case_name,\n",
    "    show=True\n",
    ")"
   ]
  },
  {
   "cell_type": "code",
   "execution_count": null,
   "metadata": {},
   "outputs": [
    {
     "data": {
      "text/plain": [
       "dict_keys(['embed', 'pos_embed', '0_mlp_out(IC)', '1_mlp_out', 'L0H0', 'L0H1', 'L0H2', 'L0H3', 'L1H0(IC)', 'L1H1', 'L1H2', 'L1H3'])"
      ]
     },
     "execution_count": 34,
     "metadata": {},
     "output_type": "execute_result"
    }
   ],
   "source": [
    "logit_lens_results.keys()"
   ]
  },
  {
   "cell_type": "code",
   "execution_count": 40,
   "metadata": {},
   "outputs": [
    {
     "data": {
      "application/vnd.plotly.v1+json": {
       "config": {
        "plotlyServerURL": "https://plot.ly"
       },
       "data": [
        {
         "mode": "markers",
         "name": "pos 0, corr: -0.99, p-value: 0.00",
         "type": "scatter",
         "x": [
          0.02635679394006729,
          0.034218233078718185,
          0.03549155965447426,
          0.02635679394006729,
          0.03549155965447426,
          0.03539325296878815,
          0.02635679394006729,
          0.03539325296878815,
          0.034218233078718185,
          0.034218233078718185,
          0.03539325296878815,
          0.02635679394006729,
          0.02635679394006729,
          0.02635679394006729,
          0.03539325296878815,
          0.03549155965447426,
          0.02635679394006729,
          0.034218233078718185,
          0.03549155965447426,
          0.034218233078718185,
          0.02635679394006729,
          0.034218233078718185,
          0.03549155965447426,
          0.03539325296878815,
          0.034218233078718185,
          0.03549155965447426,
          0.02635679394006729,
          0.02635679394006729,
          0.034218233078718185,
          0.03539325296878815,
          0.03539325296878815,
          0.03549155965447426,
          0.03539325296878815,
          0.03539325296878815,
          0.02635679394006729,
          0.034218233078718185,
          0.03549155965447426,
          0.034218233078718185,
          0.03549155965447426,
          0.03539325296878815,
          0.02635679394006729,
          0.03539325296878815,
          0.02635679394006729,
          0.03539325296878815,
          0.034218233078718185,
          0.03549155965447426,
          0.034218233078718185,
          0.03549155965447426,
          0.02635679394006729,
          0.02635679394006729,
          0.03539325296878815,
          0.034218233078718185,
          0.03539325296878815,
          0.03549155965447426,
          0.034218233078718185,
          0.02635679394006729,
          0.03549155965447426,
          0.03539325296878815,
          0.03549155965447426,
          0.034218233078718185,
          0.03549155965447426,
          0.03539325296878815,
          0.02635679394006729,
          0.03549155965447426,
          0.02635679394006729,
          0.03539325296878815,
          0.03549155965447426,
          0.03539325296878815,
          0.03549155965447426,
          0.03549155965447426,
          0.03539325296878815,
          0.03549155965447426,
          0.03539325296878815,
          0.03549155965447426,
          0.03549155965447426,
          0.02635679394006729,
          0.03549155965447426,
          0.02635679394006729,
          0.03549155965447426,
          0.034218233078718185,
          0.03539325296878815,
          0.03549155965447426,
          0.03549155965447426,
          0.034218233078718185,
          0.034218233078718185,
          0.03539325296878815,
          0.03539325296878815,
          0.03539325296878815,
          0.03549155965447426,
          0.03539325296878815,
          0.03549155965447426,
          0.02635679394006729,
          0.02635679394006729,
          0.034218233078718185,
          0.034218233078718185,
          0.034218233078718185,
          0.034218233078718185,
          0.034218233078718185,
          0.03549155965447426,
          0.034218233078718185,
          0.03549155965447426,
          0.03549155965447426,
          0.03539325296878815,
          0.02635679394006729,
          0.034218233078718185,
          0.02635679394006729,
          0.03549155965447426,
          0.03539325296878815,
          0.02635679394006729,
          0.03549155965447426,
          0.034218233078718185,
          0.03549155965447426,
          0.03539325296878815,
          0.03549155965447426,
          0.03539325296878815,
          0.034218233078718185,
          0.02635679394006729,
          0.03539325296878815,
          0.03549155965447426,
          0.02635679394006729,
          0.03539325296878815,
          0.034218233078718185,
          0.034218233078718185,
          0.03549155965447426,
          0.034218233078718185,
          0.03549155965447426,
          0.02635679394006729,
          0.03539325296878815,
          0.03539325296878815,
          0.02635679394006729,
          0.03549155965447426,
          0.034218233078718185,
          0.034218233078718185,
          0.02635679394006729,
          0.03539325296878815,
          0.034218233078718185,
          0.02635679394006729,
          0.02635679394006729,
          0.034218233078718185,
          0.02635679394006729,
          0.034218233078718185,
          0.03549155965447426,
          0.034218233078718185,
          0.03539325296878815,
          0.03539325296878815,
          0.03539325296878815,
          0.034218233078718185,
          0.03539325296878815,
          0.03539325296878815,
          0.02635679394006729,
          0.02635679394006729,
          0.03549155965447426,
          0.02635679394006729,
          0.03549155965447426,
          0.034218233078718185,
          0.03539325296878815,
          0.03539325296878815,
          0.034218233078718185,
          0.03549155965447426,
          0.03539325296878815,
          0.034218233078718185,
          0.02635679394006729,
          0.02635679394006729,
          0.03549155965447426,
          0.034218233078718185,
          0.02635679394006729,
          0.034218233078718185,
          0.03549155965447426,
          0.02635679394006729,
          0.03539325296878815,
          0.034218233078718185,
          0.03539325296878815,
          0.03539325296878815,
          0.034218233078718185,
          0.03549155965447426,
          0.034218233078718185,
          0.03539325296878815,
          0.02635679394006729,
          0.02635679394006729,
          0.02635679394006729,
          0.034218233078718185,
          0.03539325296878815,
          0.03549155965447426,
          0.034218233078718185,
          0.02635679394006729,
          0.034218233078718185,
          0.03539325296878815,
          0.02635679394006729,
          0.03549155965447426,
          0.03549155965447426,
          0.03549155965447426,
          0.02635679394006729,
          0.02635679394006729,
          0.03549155965447426,
          0.034218233078718185,
          0.034218233078718185,
          0.034218233078718185,
          0.02635679394006729,
          0.03539325296878815,
          0.034218233078718185,
          0.03539325296878815,
          0.03549155965447426,
          0.02635679394006729,
          0.03539325296878815,
          0.02635679394006729,
          0.02635679394006729,
          0.034218233078718185,
          0.034218233078718185,
          0.03549155965447426,
          0.034218233078718185,
          0.02635679394006729,
          0.03539325296878815,
          0.02635679394006729,
          0.03539325296878815,
          0.02635679394006729,
          0.02635679394006729,
          0.02635679394006729,
          0.03539325296878815,
          0.034218233078718185,
          0.02635679394006729,
          0.034218233078718185,
          0.03549155965447426,
          0.034218233078718185,
          0.034218233078718185,
          0.02635679394006729,
          0.03539325296878815,
          0.02635679394006729,
          0.03539325296878815,
          0.03539325296878815,
          0.03539325296878815,
          0.034218233078718185,
          0.03539325296878815,
          0.02635679394006729,
          0.034218233078718185,
          0.034218233078718185,
          0.03539325296878815,
          0.03539325296878815,
          0.03539325296878815,
          0.03549155965447426,
          0.03549155965447426,
          0.03549155965447426,
          0.03549155965447426,
          0.02635679394006729,
          0.03549155965447426,
          0.02635679394006729,
          0.02635679394006729,
          0.03549155965447426,
          0.02635679394006729,
          0.034218233078718185,
          0.03539325296878815,
          0.03549155965447426,
          0.03549155965447426,
          0.034218233078718185,
          0.03549155965447426,
          0.03539325296878815,
          0.03549155965447426
         ],
         "y": [
          1.0070081949234009,
          -0.00012375414371490479,
          -0.0003335997462272644,
          1.0070081949234009,
          -0.0003335997462272644,
          0.00022923201322555542,
          1.0070081949234009,
          0.00022923201322555542,
          -0.00012375414371490479,
          -0.00012375414371490479,
          0.00022923201322555542,
          1.0070081949234009,
          1.0070081949234009,
          1.0070081949234009,
          0.00022923201322555542,
          -0.0003335997462272644,
          1.0070081949234009,
          -0.00012375414371490479,
          -0.0003335997462272644,
          -0.00012375414371490479,
          1.0070081949234009,
          -0.00012375414371490479,
          -0.0003335997462272644,
          0.00022923201322555542,
          -0.00012375414371490479,
          -0.0003335997462272644,
          1.0070081949234009,
          1.0070081949234009,
          -0.00012375414371490479,
          0.00022923201322555542,
          0.00022923201322555542,
          -0.0003335997462272644,
          0.00022923201322555542,
          0.00022923201322555542,
          1.0070081949234009,
          -0.00012375414371490479,
          -0.0003335997462272644,
          -0.00012375414371490479,
          -0.0003335997462272644,
          0.00022923201322555542,
          1.0070081949234009,
          0.00022923201322555542,
          1.0070081949234009,
          0.00022923201322555542,
          -0.00012375414371490479,
          -0.0003335997462272644,
          -0.00012375414371490479,
          -0.0003335997462272644,
          1.0070081949234009,
          1.0070081949234009,
          0.00022923201322555542,
          -0.00012375414371490479,
          0.00022923201322555542,
          -0.0003335997462272644,
          -0.00012375414371490479,
          1.0070081949234009,
          -0.0003335997462272644,
          0.00022923201322555542,
          -0.0003335997462272644,
          -0.00012375414371490479,
          -0.0003335997462272644,
          0.00022923201322555542,
          1.0070081949234009,
          -0.0003335997462272644,
          1.0070081949234009,
          0.00022923201322555542,
          -0.0003335997462272644,
          0.00022923201322555542,
          -0.0003335997462272644,
          -0.0003335997462272644,
          0.00022923201322555542,
          -0.0003335997462272644,
          0.00022923201322555542,
          -0.0003335997462272644,
          -0.0003335997462272644,
          1.0070081949234009,
          -0.0003335997462272644,
          1.0070081949234009,
          -0.0003335997462272644,
          -0.00012375414371490479,
          0.00022923201322555542,
          -0.0003335997462272644,
          -0.0003335997462272644,
          -0.00012375414371490479,
          -0.00012375414371490479,
          0.00022923201322555542,
          0.00022923201322555542,
          0.00022923201322555542,
          -0.0003335997462272644,
          0.00022923201322555542,
          -0.0003335997462272644,
          1.0070081949234009,
          1.0070081949234009,
          -0.00012375414371490479,
          -0.00012375414371490479,
          -0.00012375414371490479,
          -0.00012375414371490479,
          -0.00012375414371490479,
          -0.0003335997462272644,
          -0.00012375414371490479,
          -0.0003335997462272644,
          -0.0003335997462272644,
          0.00022923201322555542,
          1.0070081949234009,
          -0.00012375414371490479,
          1.0070081949234009,
          -0.0003335997462272644,
          0.00022923201322555542,
          1.0070081949234009,
          -0.0003335997462272644,
          -0.00012375414371490479,
          -0.0003335997462272644,
          0.00022923201322555542,
          -0.0003335997462272644,
          0.00022923201322555542,
          -0.00012375414371490479,
          1.0070081949234009,
          0.00022923201322555542,
          -0.0003335997462272644,
          1.0070081949234009,
          0.00022923201322555542,
          -0.00012375414371490479,
          -0.00012375414371490479,
          -0.0003335997462272644,
          -0.00012375414371490479,
          -0.0003335997462272644,
          1.0070081949234009,
          0.00022923201322555542,
          0.00022923201322555542,
          1.0070081949234009,
          -0.0003335997462272644,
          -0.00012375414371490479,
          -0.00012375414371490479,
          1.0070081949234009,
          0.00022923201322555542,
          -0.00012375414371490479,
          1.0070081949234009,
          1.0070081949234009,
          -0.00012375414371490479,
          1.0070081949234009,
          -0.00012375414371490479,
          -0.0003335997462272644,
          -0.00012375414371490479,
          0.00022923201322555542,
          0.00022923201322555542,
          0.00022923201322555542,
          -0.00012375414371490479,
          0.00022923201322555542,
          0.00022923201322555542,
          1.0070081949234009,
          1.0070081949234009,
          -0.0003335997462272644,
          1.0070081949234009,
          -0.0003335997462272644,
          -0.00012375414371490479,
          0.00022923201322555542,
          0.00022923201322555542,
          -0.00012375414371490479,
          -0.0003335997462272644,
          0.00022923201322555542,
          -0.00012375414371490479,
          1.0070081949234009,
          1.0070081949234009,
          -0.0003335997462272644,
          -0.00012375414371490479,
          1.0070081949234009,
          -0.00012375414371490479,
          -0.0003335997462272644,
          1.0070081949234009,
          0.00022923201322555542,
          -0.00012375414371490479,
          0.00022923201322555542,
          0.00022923201322555542,
          -0.00012375414371490479,
          -0.0003335997462272644,
          -0.00012375414371490479,
          0.00022923201322555542,
          1.0070081949234009,
          1.0070081949234009,
          1.0070081949234009,
          -0.00012375414371490479,
          0.00022923201322555542,
          -0.0003335997462272644,
          -0.00012375414371490479,
          1.0070081949234009,
          -0.00012375414371490479,
          0.00022923201322555542,
          1.0070081949234009,
          -0.0003335997462272644,
          -0.0003335997462272644,
          -0.0003335997462272644,
          1.0070081949234009,
          1.0070081949234009,
          -0.0003335997462272644,
          -0.00012375414371490479,
          -0.00012375414371490479,
          -0.00012375414371490479,
          1.0070081949234009,
          0.00022923201322555542,
          -0.00012375414371490479,
          0.00022923201322555542,
          -0.0003335997462272644,
          1.0070081949234009,
          0.00022923201322555542,
          1.0070081949234009,
          1.0070081949234009,
          -0.00012375414371490479,
          -0.00012375414371490479,
          -0.0003335997462272644,
          -0.00012375414371490479,
          1.0070081949234009,
          0.00022923201322555542,
          1.0070081949234009,
          0.00022923201322555542,
          1.0070081949234009,
          1.0070081949234009,
          1.0070081949234009,
          0.00022923201322555542,
          -0.00012375414371490479,
          1.0070081949234009,
          -0.00012375414371490479,
          -0.0003335997462272644,
          -0.00012375414371490479,
          -0.00012375414371490479,
          1.0070081949234009,
          0.00022923201322555542,
          1.0070081949234009,
          0.00022923201322555542,
          0.00022923201322555542,
          0.00022923201322555542,
          -0.00012375414371490479,
          0.00022923201322555542,
          1.0070081949234009,
          -0.00012375414371490479,
          -0.00012375414371490479,
          0.00022923201322555542,
          0.00022923201322555542,
          0.00022923201322555542,
          -0.0003335997462272644,
          -0.0003335997462272644,
          -0.0003335997462272644,
          -0.0003335997462272644,
          1.0070081949234009,
          -0.0003335997462272644,
          1.0070081949234009,
          1.0070081949234009,
          -0.0003335997462272644,
          1.0070081949234009,
          -0.00012375414371490479,
          0.00022923201322555542,
          -0.0003335997462272644,
          -0.0003335997462272644,
          -0.00012375414371490479,
          -0.0003335997462272644,
          0.00022923201322555542,
          -0.0003335997462272644
         ]
        },
        {
         "mode": "markers",
         "name": "pos 1, corr: -0.12, p-value: 0.05",
         "type": "scatter",
         "x": [
          0.02719409205019474,
          0.02307438850402832,
          0.023087192326784134,
          0.026660049334168434,
          0.022008400410413742,
          0.02213803492486477,
          0.020189078524708748,
          0.023866936564445496,
          0.02307438850402832,
          0.024126462638378143,
          0.02213803492486477,
          0.02773827500641346,
          0.02719409205019474,
          0.02773827500641346,
          0.023391583934426308,
          0.023087192326784134,
          0.026660049334168434,
          0.02307438850402832,
          0.02357836626470089,
          0.024126462638378143,
          0.02719409205019474,
          0.024126462638378143,
          0.022008400410413742,
          0.0244344100356102,
          0.023556353524327278,
          0.022008400410413742,
          0.020189078524708748,
          0.02773827500641346,
          0.02307438850402832,
          0.023866936564445496,
          0.02213803492486477,
          0.02357836626470089,
          0.0244344100356102,
          0.02213803492486477,
          0.02773827500641346,
          0.024126462638378143,
          0.02414589375257492,
          0.024126462638378143,
          0.023087192326784134,
          0.023391583934426308,
          0.026660049334168434,
          0.02213803492486477,
          0.02719409205019474,
          0.02213803492486477,
          0.023556353524327278,
          0.023087192326784134,
          0.024126462638378143,
          0.023087192326784134,
          0.02773827500641346,
          0.026660049334168434,
          0.02213803492486477,
          0.023556353524327278,
          0.023391583934426308,
          0.02414589375257492,
          0.02214958146214485,
          0.02773827500641346,
          0.02357836626470089,
          0.023391583934426308,
          0.022008400410413742,
          0.02214958146214485,
          0.02357836626470089,
          0.023866936564445496,
          0.020189078524708748,
          0.022008400410413742,
          0.02719409205019474,
          0.0244344100356102,
          0.02357836626470089,
          0.02213803492486477,
          0.023087192326784134,
          0.022008400410413742,
          0.0244344100356102,
          0.023087192326784134,
          0.023391583934426308,
          0.02357836626470089,
          0.022008400410413742,
          0.020189078524708748,
          0.022008400410413742,
          0.020189078524708748,
          0.02414589375257492,
          0.024126462638378143,
          0.023866936564445496,
          0.02414589375257492,
          0.02357836626470089,
          0.02307438850402832,
          0.02214958146214485,
          0.023391583934426308,
          0.0244344100356102,
          0.023866936564445496,
          0.023087192326784134,
          0.02213803492486477,
          0.02414589375257492,
          0.02773827500641346,
          0.02719409205019474,
          0.024126462638378143,
          0.02307438850402832,
          0.023556353524327278,
          0.024126462638378143,
          0.023556353524327278,
          0.022008400410413742,
          0.024126462638378143,
          0.022008400410413742,
          0.02414589375257492,
          0.023866936564445496,
          0.020189078524708748,
          0.02214958146214485,
          0.020189078524708748,
          0.02414589375257492,
          0.0244344100356102,
          0.026660049334168434,
          0.023087192326784134,
          0.023556353524327278,
          0.022008400410413742,
          0.0244344100356102,
          0.023087192326784134,
          0.0244344100356102,
          0.024126462638378143,
          0.020189078524708748,
          0.023866936564445496,
          0.022008400410413742,
          0.026660049334168434,
          0.023391583934426308,
          0.02307438850402832,
          0.02307438850402832,
          0.023087192326784134,
          0.023556353524327278,
          0.02357836626470089,
          0.026660049334168434,
          0.0244344100356102,
          0.02213803492486477,
          0.020189078524708748,
          0.02357836626470089,
          0.023556353524327278,
          0.02214958146214485,
          0.026660049334168434,
          0.023391583934426308,
          0.02307438850402832,
          0.020189078524708748,
          0.02719409205019474,
          0.024126462638378143,
          0.02719409205019474,
          0.02307438850402832,
          0.022008400410413742,
          0.023556353524327278,
          0.0244344100356102,
          0.02213803492486477,
          0.023391583934426308,
          0.02214958146214485,
          0.023391583934426308,
          0.023391583934426308,
          0.02719409205019474,
          0.026660049334168434,
          0.023087192326784134,
          0.026660049334168434,
          0.023087192326784134,
          0.023556353524327278,
          0.023866936564445496,
          0.0244344100356102,
          0.023556353524327278,
          0.022008400410413742,
          0.0244344100356102,
          0.024126462638378143,
          0.026660049334168434,
          0.020189078524708748,
          0.02414589375257492,
          0.023556353524327278,
          0.020189078524708748,
          0.023556353524327278,
          0.02414589375257492,
          0.026660049334168434,
          0.023866936564445496,
          0.023556353524327278,
          0.0244344100356102,
          0.023866936564445496,
          0.02307438850402832,
          0.02357836626470089,
          0.02214958146214485,
          0.023391583934426308,
          0.02719409205019474,
          0.026660049334168434,
          0.02719409205019474,
          0.02214958146214485,
          0.023866936564445496,
          0.02414589375257492,
          0.023556353524327278,
          0.02773827500641346,
          0.02307438850402832,
          0.023866936564445496,
          0.02773827500641346,
          0.02357836626470089,
          0.02414589375257492,
          0.02414589375257492,
          0.02719409205019474,
          0.02719409205019474,
          0.02414589375257492,
          0.02307438850402832,
          0.02307438850402832,
          0.02214958146214485,
          0.02773827500641346,
          0.023391583934426308,
          0.024126462638378143,
          0.023866936564445496,
          0.023087192326784134,
          0.02719409205019474,
          0.023391583934426308,
          0.02773827500641346,
          0.02719409205019474,
          0.02214958146214485,
          0.02214958146214485,
          0.02357836626470089,
          0.02214958146214485,
          0.02773827500641346,
          0.023866936564445496,
          0.02773827500641346,
          0.02213803492486477,
          0.020189078524708748,
          0.026660049334168434,
          0.02719409205019474,
          0.023866936564445496,
          0.02214958146214485,
          0.02773827500641346,
          0.02214958146214485,
          0.02414589375257492,
          0.024126462638378143,
          0.02214958146214485,
          0.026660049334168434,
          0.023866936564445496,
          0.020189078524708748,
          0.02213803492486477,
          0.02213803492486477,
          0.023391583934426308,
          0.023556353524327278,
          0.0244344100356102,
          0.020189078524708748,
          0.02307438850402832,
          0.02214958146214485,
          0.0244344100356102,
          0.023391583934426308,
          0.0244344100356102,
          0.02357836626470089,
          0.02357836626470089,
          0.022008400410413742,
          0.02414589375257492,
          0.026660049334168434,
          0.023087192326784134,
          0.02773827500641346,
          0.02773827500641346,
          0.022008400410413742,
          0.020189078524708748,
          0.024126462638378143,
          0.02213803492486477,
          0.023087192326784134,
          0.02357836626470089,
          0.02307438850402832,
          0.02414589375257492,
          0.02213803492486477,
          0.02357836626470089
         ],
         "y": [
          0.5110741257667542,
          -0.0013264939188957214,
          -0.0013271644711494446,
          0.5106647610664368,
          0.5130897760391235,
          0.5158885717391968,
          1.0025819540023804,
          -0.001112617552280426,
          -0.0013264939188957214,
          -0.00136508047580719,
          0.5158885717391968,
          0.5100078582763672,
          0.5110741257667542,
          0.5100078582763672,
          -0.0016550496220588684,
          -0.0013271644711494446,
          0.5106647610664368,
          -0.0013264939188957214,
          -0.0007897093892097473,
          -0.00136508047580719,
          0.5110741257667542,
          -0.00136508047580719,
          0.5130897760391235,
          -0.0016919299960136414,
          -0.0007904022932052612,
          0.5130897760391235,
          1.0025819540023804,
          0.5100078582763672,
          -0.0013264939188957214,
          -0.001112617552280426,
          0.5158885717391968,
          -0.0007897093892097473,
          -0.0016919299960136414,
          0.5158885717391968,
          0.5100078582763672,
          -0.00136508047580719,
          -0.0013682693243026733,
          -0.00136508047580719,
          -0.0013271644711494446,
          -0.0016550496220588684,
          0.5106647610664368,
          0.5158885717391968,
          0.5110741257667542,
          0.5158885717391968,
          -0.0007904022932052612,
          -0.0013271644711494446,
          -0.00136508047580719,
          -0.0013271644711494446,
          0.5100078582763672,
          0.5106647610664368,
          0.5158885717391968,
          -0.0007904022932052612,
          -0.0016550496220588684,
          -0.0013682693243026733,
          0.5134320259094238,
          0.5100078582763672,
          -0.0007897093892097473,
          -0.0016550496220588684,
          0.5130897760391235,
          0.5134320259094238,
          -0.0007897093892097473,
          -0.001112617552280426,
          1.0025819540023804,
          0.5130897760391235,
          0.5110741257667542,
          -0.0016919299960136414,
          -0.0007897093892097473,
          0.5158885717391968,
          -0.0013271644711494446,
          0.5130897760391235,
          -0.0016919299960136414,
          -0.0013271644711494446,
          -0.0016550496220588684,
          -0.0007897093892097473,
          0.5130897760391235,
          1.0025819540023804,
          0.5130897760391235,
          1.0025819540023804,
          -0.0013682693243026733,
          -0.00136508047580719,
          -0.001112617552280426,
          -0.0013682693243026733,
          -0.0007897093892097473,
          -0.0013264939188957214,
          0.5134320259094238,
          -0.0016550496220588684,
          -0.0016919299960136414,
          -0.001112617552280426,
          -0.0013271644711494446,
          0.5158885717391968,
          -0.0013682693243026733,
          0.5100078582763672,
          0.5110741257667542,
          -0.00136508047580719,
          -0.0013264939188957214,
          -0.0007904022932052612,
          -0.00136508047580719,
          -0.0007904022932052612,
          0.5130897760391235,
          -0.00136508047580719,
          0.5130897760391235,
          -0.0013682693243026733,
          -0.001112617552280426,
          1.0025819540023804,
          0.5134320259094238,
          1.0025819540023804,
          -0.0013682693243026733,
          -0.0016919299960136414,
          0.5106647610664368,
          -0.0013271644711494446,
          -0.0007904022932052612,
          0.5130897760391235,
          -0.0016919299960136414,
          -0.0013271644711494446,
          -0.0016919299960136414,
          -0.00136508047580719,
          1.0025819540023804,
          -0.001112617552280426,
          0.5130897760391235,
          0.5106647610664368,
          -0.0016550496220588684,
          -0.0013264939188957214,
          -0.0013264939188957214,
          -0.0013271644711494446,
          -0.0007904022932052612,
          -0.0007897093892097473,
          0.5106647610664368,
          -0.0016919299960136414,
          0.5158885717391968,
          1.0025819540023804,
          -0.0007897093892097473,
          -0.0007904022932052612,
          0.5134320259094238,
          0.5106647610664368,
          -0.0016550496220588684,
          -0.0013264939188957214,
          1.0025819540023804,
          0.5110741257667542,
          -0.00136508047580719,
          0.5110741257667542,
          -0.0013264939188957214,
          0.5130897760391235,
          -0.0007904022932052612,
          -0.0016919299960136414,
          0.5158885717391968,
          -0.0016550496220588684,
          0.5134320259094238,
          -0.0016550496220588684,
          -0.0016550496220588684,
          0.5110741257667542,
          0.5106647610664368,
          -0.0013271644711494446,
          0.5106647610664368,
          -0.0013271644711494446,
          -0.0007904022932052612,
          -0.001112617552280426,
          -0.0016919299960136414,
          -0.0007904022932052612,
          0.5130897760391235,
          -0.0016919299960136414,
          -0.00136508047580719,
          0.5106647610664368,
          1.0025819540023804,
          -0.0013682693243026733,
          -0.0007904022932052612,
          1.0025819540023804,
          -0.0007904022932052612,
          -0.0013682693243026733,
          0.5106647610664368,
          -0.001112617552280426,
          -0.0007904022932052612,
          -0.0016919299960136414,
          -0.001112617552280426,
          -0.0013264939188957214,
          -0.0007897093892097473,
          0.5134320259094238,
          -0.0016550496220588684,
          0.5110741257667542,
          0.5106647610664368,
          0.5110741257667542,
          0.5134320259094238,
          -0.001112617552280426,
          -0.0013682693243026733,
          -0.0007904022932052612,
          0.5100078582763672,
          -0.0013264939188957214,
          -0.001112617552280426,
          0.5100078582763672,
          -0.0007897093892097473,
          -0.0013682693243026733,
          -0.0013682693243026733,
          0.5110741257667542,
          0.5110741257667542,
          -0.0013682693243026733,
          -0.0013264939188957214,
          -0.0013264939188957214,
          0.5134320259094238,
          0.5100078582763672,
          -0.0016550496220588684,
          -0.00136508047580719,
          -0.001112617552280426,
          -0.0013271644711494446,
          0.5110741257667542,
          -0.0016550496220588684,
          0.5100078582763672,
          0.5110741257667542,
          0.5134320259094238,
          0.5134320259094238,
          -0.0007897093892097473,
          0.5134320259094238,
          0.5100078582763672,
          -0.001112617552280426,
          0.5100078582763672,
          0.5158885717391968,
          1.0025819540023804,
          0.5106647610664368,
          0.5110741257667542,
          -0.001112617552280426,
          0.5134320259094238,
          0.5100078582763672,
          0.5134320259094238,
          -0.0013682693243026733,
          -0.00136508047580719,
          0.5134320259094238,
          0.5106647610664368,
          -0.001112617552280426,
          1.0025819540023804,
          0.5158885717391968,
          0.5158885717391968,
          -0.0016550496220588684,
          -0.0007904022932052612,
          -0.0016919299960136414,
          1.0025819540023804,
          -0.0013264939188957214,
          0.5134320259094238,
          -0.0016919299960136414,
          -0.0016550496220588684,
          -0.0016919299960136414,
          -0.0007897093892097473,
          -0.0007897093892097473,
          0.5130897760391235,
          -0.0013682693243026733,
          0.5106647610664368,
          -0.0013271644711494446,
          0.5100078582763672,
          0.5100078582763672,
          0.5130897760391235,
          1.0025819540023804,
          -0.00136508047580719,
          0.5158885717391968,
          -0.0013271644711494446,
          -0.0007897093892097473,
          -0.0013264939188957214,
          -0.0013682693243026733,
          0.5158885717391968,
          -0.0007897093892097473
         ]
        },
        {
         "mode": "markers",
         "name": "pos 2, corr: 0.88, p-value: 0.00",
         "type": "scatter",
         "x": [
          0.02947404980659485,
          0.025602273643016815,
          0.03248996287584305,
          0.03222724795341492,
          0.029932145029306412,
          0.029481196776032448,
          0.032156847417354584,
          0.026063337922096252,
          0.024778082966804504,
          0.0324946865439415,
          0.030166473239660263,
          0.0321534126996994,
          0.02947404980659485,
          0.02846796065568924,
          0.025021595880389214,
          0.025651410222053528,
          0.029250139370560646,
          0.032556451857089996,
          0.025451229885220528,
          0.02483506314456463,
          0.028665872290730476,
          0.02523442916572094,
          0.0292560663074255,
          0.02507908269762993,
          0.025405989959836006,
          0.032409943640232086,
          0.031891755759716034,
          0.02884766273200512,
          0.024778082966804504,
          0.026063337922096252,
          0.029481196776032448,
          0.025451229885220528,
          0.025902895256876945,
          0.032497845590114594,
          0.0321534126996994,
          0.02483506314456463,
          0.025706199929118156,
          0.02523442916572094,
          0.024828793480992317,
          0.025021595880389214,
          0.029250139370560646,
          0.029717545956373215,
          0.032240405678749084,
          0.030166473239660263,
          0.032592691481113434,
          0.025229092687368393,
          0.02523442916572094,
          0.025229092687368393,
          0.02927730232477188,
          0.028440022841095924,
          0.029717545956373215,
          0.02581816166639328,
          0.03258168697357178,
          0.025706199929118156,
          0.029915088787674904,
          0.0321534126996994,
          0.02505396492779255,
          0.025021595880389214,
          0.032409943640232086,
          0.032486215233802795,
          0.025867603719234467,
          0.032613739371299744,
          0.03261089697480202,
          0.032409943640232086,
          0.029052188619971275,
          0.025486119091510773,
          0.03252590075135231,
          0.029717545956373215,
          0.024828793480992317,
          0.029475299641489983,
          0.03251971676945686,
          0.025651410222053528,
          0.03258168697357178,
          0.03252590075135231,
          0.029475299641489983,
          0.03261089697480202,
          0.029475299641489983,
          0.032156847417354584,
          0.024885686114430428,
          0.0324946865439415,
          0.025246109813451767,
          0.02527918480336666,
          0.03252590075135231,
          0.025602273643016815,
          0.02923838049173355,
          0.02584744431078434,
          0.02507908269762993,
          0.025657260790467262,
          0.025229092687368393,
          0.029481196776032448,
          0.025706199929118156,
          0.02846796065568924,
          0.032240405678749084,
          0.0324946865439415,
          0.032556451857089996,
          0.025405989959836006,
          0.0324946865439415,
          0.025002919137477875,
          0.029475299641489983,
          0.02565721422433853,
          0.032409943640232086,
          0.03242753818631172,
          0.032613739371299744,
          0.03185489401221275,
          0.029461929574608803,
          0.032156847417354584,
          0.03242753818631172,
          0.025486119091510773,
          0.03222724795341492,
          0.03248996287584305,
          0.025002919137477875,
          0.029932145029306412,
          0.02507908269762993,
          0.03248996287584305,
          0.025902895256876945,
          0.02483506314456463,
          0.03261089697480202,
          0.025246109813451767,
          0.029932145029306412,
          0.028824448585510254,
          0.03258168697357178,
          0.02518417499959469,
          0.02518417499959469,
          0.03248996287584305,
          0.032592691481113434,
          0.025867603719234467,
          0.03222724795341492,
          0.03251971676945686,
          0.030166473239660263,
          0.031891755759716034,
          0.025451229885220528,
          0.02581816166639328,
          0.032486215233802795,
          0.028440022841095924,
          0.03258168697357178,
          0.024778082966804504,
          0.03185489401221275,
          0.029052188619971275,
          0.02483506314456463,
          0.02947404980659485,
          0.025602273643016815,
          0.0292560663074255,
          0.025405989959836006,
          0.025486119091510773,
          0.030166473239660263,
          0.025021595880389214,
          0.032486215233802795,
          0.02584744431078434,
          0.025435343384742737,
          0.028665872290730476,
          0.028824448585510254,
          0.025651410222053528,
          0.029250139370560646,
          0.025229092687368393,
          0.032592691481113434,
          0.026063337922096252,
          0.03251971676945686,
          0.025002919137477875,
          0.0292560663074255,
          0.02507908269762993,
          0.02565721422433853,
          0.028824448585510254,
          0.03185489401221275,
          0.02527918480336666,
          0.02581816166639328,
          0.03261089697480202,
          0.032592691481113434,
          0.03242753818631172,
          0.028824448585510254,
          0.025657260790467262,
          0.025002919137477875,
          0.025486119091510773,
          0.032613739371299744,
          0.02518417499959469,
          0.02505396492779255,
          0.029915088787674904,
          0.02584744431078434,
          0.028665872290730476,
          0.029250139370560646,
          0.032240405678749084,
          0.029461929574608803,
          0.025657260790467262,
          0.02527918480336666,
          0.025405989959836006,
          0.02884766273200512,
          0.025602273643016815,
          0.025246109813451767,
          0.02846796065568924,
          0.03252590075135231,
          0.024885686114430428,
          0.02527918480336666,
          0.02947404980659485,
          0.028665872290730476,
          0.024885686114430428,
          0.024778082966804504,
          0.032556451857089996,
          0.02923838049173355,
          0.0321534126996994,
          0.025435343384742737,
          0.02523442916572094,
          0.026063337922096252,
          0.024828793480992317,
          0.029052188619971275,
          0.02584744431078434,
          0.02884766273200512,
          0.032240405678749084,
          0.032486215233802795,
          0.029915088787674904,
          0.02505396492779255,
          0.029461929574608803,
          0.02927730232477188,
          0.032613739371299744,
          0.02927730232477188,
          0.032497845590114594,
          0.031891755759716034,
          0.03222724795341492,
          0.029052188619971275,
          0.025246109813451767,
          0.02923838049173355,
          0.02846796065568924,
          0.029461929574608803,
          0.024885686114430428,
          0.02565721422433853,
          0.02923838049173355,
          0.028440022841095924,
          0.025657260790467262,
          0.03185489401221275,
          0.029481196776032448,
          0.032497845590114594,
          0.025435343384742737,
          0.02581816166639328,
          0.03251971676945686,
          0.032156847417354584,
          0.02518417499959469,
          0.029915088787674904,
          0.025902895256876945,
          0.025435343384742737,
          0.025902895256876945,
          0.025867603719234467,
          0.025451229885220528,
          0.029932145029306412,
          0.025706199929118156,
          0.028440022841095924,
          0.024828793480992317,
          0.02927730232477188,
          0.02884766273200512,
          0.0292560663074255,
          0.031891755759716034,
          0.02565721422433853,
          0.032497845590114594,
          0.025651410222053528,
          0.02505396492779255,
          0.032556451857089996,
          0.03242753818631172,
          0.029717545956373215,
          0.025867603719234467
         ],
         "y": [
          0.33942312002182007,
          -0.003529675304889679,
          0.34083354473114014,
          0.6771351099014282,
          0.33632227778434753,
          0.33768612146377563,
          0.6762086153030396,
          -0.0039028674364089966,
          -0.0026671141386032104,
          0.3408810496330261,
          0.3374098241329193,
          0.677402138710022,
          0.33942312002182007,
          0.33878666162490845,
          -0.002852700650691986,
          -0.003491349518299103,
          0.3386743664741516,
          0.3408711552619934,
          -0.003230661153793335,
          -0.0025628209114074707,
          0.3394346237182617,
          -0.002962261438369751,
          0.33659037947654724,
          -0.002741195261478424,
          -0.003266960382461548,
          0.6773149967193604,
          1.00118088722229,
          0.33943185210227966,
          -0.0026671141386032104,
          -0.0039028674364089966,
          0.33768612146377563,
          -0.003230661153793335,
          -0.003601640462875366,
          0.6797211170196533,
          0.677402138710022,
          -0.0025628209114074707,
          -0.0033877044916152954,
          -0.002962261438369751,
          -0.0026292353868484497,
          -0.002852700650691986,
          0.3386743664741516,
          0.33750927448272705,
          0.6794822216033936,
          0.3374098241329193,
          0.3415984511375427,
          -0.0030288323760032654,
          -0.002962261438369751,
          -0.0030288323760032654,
          0.33877426385879517,
          0.33869805932044983,
          0.33750927448272705,
          -0.0037280842661857605,
          0.34150931239128113,
          -0.0033877044916152954,
          0.33633169531822205,
          0.677402138710022,
          -0.0028281286358833313,
          -0.002852700650691986,
          0.6773149967193604,
          0.6769737005233765,
          -0.0036908313632011414,
          0.34229016304016113,
          0.676140308380127,
          0.6773149967193604,
          0.34005075693130493,
          -0.003143690526485443,
          0.3415796756744385,
          0.33750927448272705,
          -0.0026292353868484497,
          0.336450457572937,
          0.34156763553619385,
          -0.003491349518299103,
          0.34150931239128113,
          0.3415796756744385,
          0.336450457572937,
          0.676140308380127,
          0.336450457572937,
          0.6762086153030396,
          -0.0025260597467422485,
          0.3408810496330261,
          -0.0030410364270210266,
          -0.0029260218143463135,
          0.3415796756744385,
          -0.003529675304889679,
          0.3366048336029053,
          -0.0037139132618904114,
          -0.002741195261478424,
          -0.0034461840987205505,
          -0.0030288323760032654,
          0.33768612146377563,
          -0.0033877044916152954,
          0.33878666162490845,
          0.6794822216033936,
          0.3408810496330261,
          0.3408711552619934,
          -0.003266960382461548,
          0.3408810496330261,
          -0.002864934504032135,
          0.336450457572937,
          -0.0034249499440193176,
          0.6773149967193604,
          0.34084540605545044,
          0.34229016304016113,
          0.6760408878326416,
          0.33646899461746216,
          0.6762086153030396,
          0.34084540605545044,
          -0.003143690526485443,
          0.6771351099014282,
          0.34083354473114014,
          -0.002864934504032135,
          0.33632227778434753,
          -0.002741195261478424,
          0.34083354473114014,
          -0.003601640462875366,
          -0.0025628209114074707,
          0.676140308380127,
          -0.0030410364270210266,
          0.33632227778434753,
          0.33933767676353455,
          0.34150931239128113,
          -0.003066152334213257,
          -0.003066152334213257,
          0.34083354473114014,
          0.3415984511375427,
          -0.0036908313632011414,
          0.6771351099014282,
          0.34156763553619385,
          0.3374098241329193,
          1.00118088722229,
          -0.003230661153793335,
          -0.0037280842661857605,
          0.6769737005233765,
          0.33869805932044983,
          0.34150931239128113,
          -0.0026671141386032104,
          0.6760408878326416,
          0.34005075693130493,
          -0.0025628209114074707,
          0.33942312002182007,
          -0.003529675304889679,
          0.33659037947654724,
          -0.003266960382461548,
          -0.003143690526485443,
          0.3374098241329193,
          -0.002852700650691986,
          0.6769737005233765,
          -0.0037139132618904114,
          -0.0032549425959587097,
          0.3394346237182617,
          0.33933767676353455,
          -0.003491349518299103,
          0.3386743664741516,
          -0.0030288323760032654,
          0.3415984511375427,
          -0.0039028674364089966,
          0.34156763553619385,
          -0.002864934504032135,
          0.33659037947654724,
          -0.002741195261478424,
          -0.0034249499440193176,
          0.33933767676353455,
          0.6760408878326416,
          -0.0029260218143463135,
          -0.0037280842661857605,
          0.676140308380127,
          0.3415984511375427,
          0.34084540605545044,
          0.33933767676353455,
          -0.0034461840987205505,
          -0.002864934504032135,
          -0.003143690526485443,
          0.34229016304016113,
          -0.003066152334213257,
          -0.0028281286358833313,
          0.33633169531822205,
          -0.0037139132618904114,
          0.3394346237182617,
          0.3386743664741516,
          0.6794822216033936,
          0.33646899461746216,
          -0.0034461840987205505,
          -0.0029260218143463135,
          -0.003266960382461548,
          0.33943185210227966,
          -0.003529675304889679,
          -0.0030410364270210266,
          0.33878666162490845,
          0.3415796756744385,
          -0.0025260597467422485,
          -0.0029260218143463135,
          0.33942312002182007,
          0.3394346237182617,
          -0.0025260597467422485,
          -0.0026671141386032104,
          0.3408711552619934,
          0.3366048336029053,
          0.677402138710022,
          -0.0032549425959587097,
          -0.002962261438369751,
          -0.0039028674364089966,
          -0.0026292353868484497,
          0.34005075693130493,
          -0.0037139132618904114,
          0.33943185210227966,
          0.6794822216033936,
          0.6769737005233765,
          0.33633169531822205,
          -0.0028281286358833313,
          0.33646899461746216,
          0.33877426385879517,
          0.34229016304016113,
          0.33877426385879517,
          0.6797211170196533,
          1.00118088722229,
          0.6771351099014282,
          0.34005075693130493,
          -0.0030410364270210266,
          0.3366048336029053,
          0.33878666162490845,
          0.33646899461746216,
          -0.0025260597467422485,
          -0.0034249499440193176,
          0.3366048336029053,
          0.33869805932044983,
          -0.0034461840987205505,
          0.6760408878326416,
          0.33768612146377563,
          0.6797211170196533,
          -0.0032549425959587097,
          -0.0037280842661857605,
          0.34156763553619385,
          0.6762086153030396,
          -0.003066152334213257,
          0.33633169531822205,
          -0.003601640462875366,
          -0.0032549425959587097,
          -0.003601640462875366,
          -0.0036908313632011414,
          -0.003230661153793335,
          0.33632227778434753,
          -0.0033877044916152954,
          0.33869805932044983,
          -0.0026292353868484497,
          0.33877426385879517,
          0.33943185210227966,
          0.33659037947654724,
          1.00118088722229,
          -0.0034249499440193176,
          0.6797211170196533,
          -0.003491349518299103,
          -0.0028281286358833313,
          0.3408711552619934,
          0.34084540605545044,
          0.33750927448272705,
          -0.0036908313632011414
         ]
        },
        {
         "mode": "markers",
         "name": "pos 3, corr: 0.02, p-value: 0.73",
         "type": "scatter",
         "x": [
          0.028098540380597115,
          0.025497522205114365,
          0.0235771331936121,
          0.03000577725470066,
          0.028684549033641815,
          0.028986856341362,
          0.03017694689333439,
          0.023756595328450203,
          0.026220059022307396,
          0.027998339384794235,
          0.0282521340996027,
          0.030000364407896996,
          0.028081845492124557,
          0.028669260442256927,
          0.025833021849393845,
          0.025557294487953186,
          0.02297384664416313,
          0.02367226779460907,
          0.02568298578262329,
          0.02566768415272236,
          0.022964265197515488,
          0.023803725838661194,
          0.028179440647363663,
          0.02584817446768284,
          0.02623913809657097,
          0.029872871935367584,
          0.03244493156671524,
          0.027952156960964203,
          0.025603048503398895,
          0.02586759440600872,
          0.028375450521707535,
          0.026253268122673035,
          0.02574239671230316,
          0.030281508341431618,
          0.022424845024943352,
          0.02623900957405567,
          0.025533435866236687,
          0.025499336421489716,
          0.02377667836844921,
          0.026393847540020943,
          0.027951721101999283,
          0.02825469709932804,
          0.022468136623501778,
          0.02887042798101902,
          0.028624478727579117,
          0.025494413450360298,
          0.025548668578267097,
          0.023797160014510155,
          0.022881949320435524,
          0.028664253652095795,
          0.02886919118463993,
          0.025639357045292854,
          0.023633774369955063,
          0.025571510195732117,
          0.023433441296219826,
          0.02990536205470562,
          0.025802206248044968,
          0.023831628262996674,
          0.023010162636637688,
          0.029890485107898712,
          0.026271020993590355,
          0.028202081099152565,
          0.030726579949259758,
          0.030089618638157845,
          0.02868567407131195,
          0.02572857402265072,
          0.02800923027098179,
          0.028351781889796257,
          0.026234082877635956,
          0.028173446655273438,
          0.028172433376312256,
          0.026136906817555428,
          0.028667565435171127,
          0.028621500357985497,
          0.023411191999912262,
          0.03017064370214939,
          0.028683839365839958,
          0.02233354188501835,
          0.025639604777097702,
          0.02849000133574009,
          0.02591737173497677,
          0.02551494538784027,
          0.02354535087943077,
          0.02612319588661194,
          0.02818680740892887,
          0.025727568194270134,
          0.02579646371304989,
          0.025792546570301056,
          0.026119299232959747,
          0.028475584462285042,
          0.026155222207307816,
          0.022920941933989525,
          0.03068588487803936,
          0.02358425036072731,
          0.027876079082489014,
          0.023858649656176567,
          0.027873869985342026,
          0.025744719430804253,
          0.02805974893271923,
          0.025518082082271576,
          0.030527768656611443,
          0.02848663553595543,
          0.028804754838347435,
          0.022277869284152985,
          0.02350788190960884,
          0.030103042721748352,
          0.023488856852054596,
          0.025671573355793953,
          0.02991536073386669,
          0.02786911651492119,
          0.026354053989052773,
          0.02333652786910534,
          0.023750009015202522,
          0.027993911877274513,
          0.025690624490380287,
          0.025623932480812073,
          0.02224784530699253,
          0.025973109528422356,
          0.02817457541823387,
          0.028543375432491302,
          0.028060806915163994,
          0.025533810257911682,
          0.025478504598140717,
          0.028485355898737907,
          0.028135869652032852,
          0.025696659460663795,
          0.030540533363819122,
          0.023545321077108383,
          0.02338859997689724,
          0.031918738037347794,
          0.025636224076151848,
          0.02568690851330757,
          0.0305415578186512,
          0.028075193986296654,
          0.028169384226202965,
          0.0238646250218153,
          0.03030378930270672,
          0.028097715228796005,
          0.023783329874277115,
          0.022927965968847275,
          0.025547653436660767,
          0.028296595439314842,
          0.025672921910881996,
          0.023773007094860077,
          0.02835342101752758,
          0.02577529288828373,
          0.030102020129561424,
          0.023785892874002457,
          0.025713440030813217,
          0.028222523629665375,
          0.027930855751037598,
          0.025513164699077606,
          0.028547920286655426,
          0.02554377354681492,
          0.02801615372300148,
          0.026431448757648468,
          0.028058798983693123,
          0.025792129337787628,
          0.023381797596812248,
          0.026413099840283394,
          0.023735176771879196,
          0.02795099839568138,
          0.030856842175126076,
          0.026137903332710266,
          0.023790115490555763,
          0.03009304590523243,
          0.023641034960746765,
          0.02799643576145172,
          0.0230502188205719,
          0.026413101702928543,
          0.023836243897676468,
          0.02629779279232025,
          0.023598698899149895,
          0.023884816095232964,
          0.02636820077896118,
          0.028688278049230576,
          0.026296768337488174,
          0.02880709432065487,
          0.027935799211263657,
          0.0301516130566597,
          0.028687244281172752,
          0.023825285956263542,
          0.025558287277817726,
          0.025620171800255775,
          0.02295844815671444,
          0.023816445842385292,
          0.023800242692232132,
          0.028076358139514923,
          0.02813437022268772,
          0.023695100098848343,
          0.023715803399682045,
          0.028690313920378685,
          0.028204038739204407,
          0.02625272423028946,
          0.025652799755334854,
          0.028488388285040855,
          0.023478953167796135,
          0.030534159392118454,
          0.023854399099946022,
          0.026124222204089165,
          0.02581201307475567,
          0.025662774220108986,
          0.028076786547899246,
          0.025669777765870094,
          0.02854837290942669,
          0.03006448782980442,
          0.023117324337363243,
          0.028176847845315933,
          0.023747872561216354,
          0.02817542478442192,
          0.027952585369348526,
          0.02831055037677288,
          0.028552627190947533,
          0.030730152502655983,
          0.0317857526242733,
          0.022527093067765236,
          0.023004654794931412,
          0.026528533548116684,
          0.02829855866730213,
          0.028063969686627388,
          0.028067074716091156,
          0.025677306577563286,
          0.02614183910191059,
          0.02880399115383625,
          0.023013098165392876,
          0.025853322818875313,
          0.0302295982837677,
          0.023430876433849335,
          0.023058636114001274,
          0.026278579607605934,
          0.026257188990712166,
          0.028669390827417374,
          0.030732998624444008,
          0.02610529400408268,
          0.028064318001270294,
          0.026315705850720406,
          0.025650465860962868,
          0.023704301565885544,
          0.023701824247837067,
          0.023770583793520927,
          0.028056645765900612,
          0.023647025227546692,
          0.028057752177119255,
          0.025619003921747208,
          0.027941733598709106,
          0.027937041595578194,
          0.028800562024116516,
          0.021460512652993202,
          0.025562213733792305,
          0.030084550380706787,
          0.02372858300805092,
          0.02576080709695816,
          0.02799549326300621,
          0.027866551652550697,
          0.023463323712348938,
          0.025655128061771393
         ],
         "y": [
          0.2508091926574707,
          -0.002869240939617157,
          0.5102484822273254,
          0.5056697130203247,
          0.2485446184873581,
          0.24958336353302002,
          0.5090782046318054,
          0.2561376392841339,
          -0.003748960793018341,
          0.24862061440944672,
          0.2489718496799469,
          0.5057879090309143,
          0.2501988410949707,
          0.2508546710014343,
          -0.0035666748881340027,
          -0.0032784566283226013,
          0.5143433809280396,
          0.5101374387741089,
          -0.0034219026565551758,
          -0.003368467092514038,
          0.5166105628013611,
          0.2557716965675354,
          0.24868762493133545,
          -0.003480866551399231,
          -0.0037543252110481262,
          0.5056731700897217,
          0.7574429512023926,
          0.25061285495758057,
          -0.0030066967010498047,
          -0.0035606324672698975,
          0.24933484196662903,
          -0.0037202462553977966,
          -0.0033435896039009094,
          0.5069047808647156,
          0.7581120729446411,
          -0.003668263554573059,
          -0.0027544572949409485,
          -0.002790004014968872,
          0.25609856843948364,
          -0.003864564001560211,
          0.25047552585601807,
          0.2490428239107132,
          0.7598087787628174,
          0.24921616911888123,
          0.248856320977211,
          -0.002837248146533966,
          -0.0032317936420440674,
          0.2557423710823059,
          0.5144686698913574,
          0.25072401762008667,
          0.24929006397724152,
          -0.003005675971508026,
          0.5110964775085449,
          -0.003199182450771332,
          0.5118467211723328,
          0.5061151385307312,
          -0.003552079200744629,
          0.2565040588378906,
          0.7580475807189941,
          0.5055043697357178,
          -0.0037173181772232056,
          0.24887819588184357,
          0.50943523645401,
          0.5057063102722168,
          0.25051000714302063,
          -0.0033481866121292114,
          0.24859967827796936,
          0.24920977652072906,
          -0.003714136779308319,
          0.2485554814338684,
          0.24899564683437347,
          -0.00357837975025177,
          0.24897904694080353,
          0.2489383965730667,
          0.511910080909729,
          0.5093854665756226,
          0.24863965809345245,
          0.7656030654907227,
          -0.0028918683528900146,
          0.2487034648656845,
          -0.0032531023025512695,
          -0.0027560070157051086,
          0.5110971927642822,
          -0.003613002598285675,
          0.24863837659358978,
          -0.003429628908634186,
          -0.003036879003047943,
          -0.0031283199787139893,
          -0.0035762935876846313,
          0.24950048327445984,
          -0.0034983977675437927,
          0.5156888961791992,
          0.5066850185394287,
          0.510157585144043,
          0.24829787015914917,
          0.2559952139854431,
          0.24837413430213928,
          -0.0031422004103660583,
          0.24841293692588806,
          -0.0027879849076271057,
          0.5056595802307129,
          0.24878422915935516,
          0.24923594295978546,
          0.7683349847793579,
          0.5117983818054199,
          0.5094916820526123,
          0.5102744102478027,
          -0.002905339002609253,
          0.5059971213340759,
          0.2483709156513214,
          -0.0038863420486450195,
          0.5119668245315552,
          0.25648027658462524,
          0.24861936271190643,
          -0.0028988197445869446,
          -0.0029256045818328857,
          0.7667719125747681,
          -0.0036968886852264404,
          0.24846945703029633,
          0.2501797378063202,
          0.248623788356781,
          -0.003312930464744568,
          -0.002872191369533539,
          0.24870729446411133,
          0.24877259135246277,
          -0.0034165456891059875,
          0.5057388544082642,
          0.5111485719680786,
          0.5133347511291504,
          0.757673978805542,
          -0.002979494631290436,
          -0.00344906747341156,
          0.5054792761802673,
          0.251028448343277,
          0.2488950937986374,
          0.256178617477417,
          0.5103504657745361,
          0.250796377658844,
          0.2561207711696625,
          0.515395998954773,
          -0.003311954438686371,
          0.24882851541042328,
          -0.003454864025115967,
          0.25610899925231934,
          0.24914462864398956,
          -0.0031237155199050903,
          0.505530834197998,
          0.2559201121330261,
          -0.0034351646900177,
          0.2513619363307953,
          0.24985407292842865,
          -0.002834804356098175,
          0.2501671314239502,
          -0.0032789334654808044,
          0.24852286279201508,
          -0.0038597434759140015,
          0.24872581660747528,
          -0.003584817051887512,
          0.5129581093788147,
          -0.00377780944108963,
          0.25552958250045776,
          0.2504866123199463,
          0.5104000568389893,
          -0.003495439887046814,
          0.2557762861251831,
          0.5097861289978027,
          0.5109665989875793,
          0.24869748950004578,
          0.5141085386276245,
          -0.00386771559715271,
          0.2563525438308716,
          -0.0036431849002838135,
          0.5119734406471252,
          0.2558334469795227,
          -0.0038524270057678223,
          0.2484932839870453,
          -0.0037280023097991943,
          0.25107839703559875,
          0.24984827637672424,
          0.5066268444061279,
          0.24859128892421722,
          0.25633111596107483,
          -0.003198765218257904,
          -0.003013424575328827,
          0.5142192840576172,
          0.25559157133102417,
          0.2567112147808075,
          0.2511596977710724,
          0.24885061383247375,
          0.2560409903526306,
          0.25568050146102905,
          0.25052183866500854,
          0.2507471442222595,
          -0.0036343038082122803,
          -0.003448493778705597,
          0.24862954020500183,
          0.5128229260444641,
          0.5058600902557373,
          0.25613731145858765,
          -0.0035296082496643066,
          -0.003116138279438019,
          -0.003414824604988098,
          0.25018057227134705,
          -0.0029858648777008057,
          0.2503049373626709,
          0.5069301128387451,
          0.7575259208679199,
          0.24842160940170288,
          0.2562822699546814,
          0.2485104501247406,
          0.2506055235862732,
          0.2491527944803238,
          0.2502964735031128,
          0.5068351030349731,
          0.7576266527175903,
          0.757872462272644,
          0.5151178240776062,
          -0.0039957016706466675,
          0.24877652525901794,
          0.25052669644355774,
          0.24837030470371246,
          -0.00333569198846817,
          -0.003532126545906067,
          0.24886026978492737,
          0.515556812286377,
          -0.003570929169654846,
          0.5107534527778625,
          0.5143209099769592,
          0.7600095272064209,
          -0.0037310123443603516,
          -0.0037509948015213013,
          0.24907851219177246,
          0.5091347694396973,
          -0.003611326217651367,
          0.24827557802200317,
          -0.0036410242319107056,
          -0.0029933154582977295,
          0.2558918297290802,
          0.25569701194763184,
          0.25591301918029785,
          0.24832089245319366,
          0.2554410696029663,
          0.2503962516784668,
          -0.0029720738530158997,
          0.24997729063034058,
          0.24997910857200623,
          0.24891582131385803,
          0.9984666109085083,
          -0.003231741487979889,
          0.5068346261978149,
          0.2555030584335327,
          -0.0031085386872291565,
          0.2485453337430954,
          0.24844981729984283,
          0.5132491588592529,
          -0.0029722005128860474
         ]
        }
       ],
       "layout": {
        "template": {
         "data": {
          "bar": [
           {
            "error_x": {
             "color": "#2a3f5f"
            },
            "error_y": {
             "color": "#2a3f5f"
            },
            "marker": {
             "line": {
              "color": "#E5ECF6",
              "width": 0.5
             },
             "pattern": {
              "fillmode": "overlay",
              "size": 10,
              "solidity": 0.2
             }
            },
            "type": "bar"
           }
          ],
          "barpolar": [
           {
            "marker": {
             "line": {
              "color": "#E5ECF6",
              "width": 0.5
             },
             "pattern": {
              "fillmode": "overlay",
              "size": 10,
              "solidity": 0.2
             }
            },
            "type": "barpolar"
           }
          ],
          "carpet": [
           {
            "aaxis": {
             "endlinecolor": "#2a3f5f",
             "gridcolor": "white",
             "linecolor": "white",
             "minorgridcolor": "white",
             "startlinecolor": "#2a3f5f"
            },
            "baxis": {
             "endlinecolor": "#2a3f5f",
             "gridcolor": "white",
             "linecolor": "white",
             "minorgridcolor": "white",
             "startlinecolor": "#2a3f5f"
            },
            "type": "carpet"
           }
          ],
          "choropleth": [
           {
            "colorbar": {
             "outlinewidth": 0,
             "ticks": ""
            },
            "type": "choropleth"
           }
          ],
          "contour": [
           {
            "colorbar": {
             "outlinewidth": 0,
             "ticks": ""
            },
            "colorscale": [
             [
              0,
              "#0d0887"
             ],
             [
              0.1111111111111111,
              "#46039f"
             ],
             [
              0.2222222222222222,
              "#7201a8"
             ],
             [
              0.3333333333333333,
              "#9c179e"
             ],
             [
              0.4444444444444444,
              "#bd3786"
             ],
             [
              0.5555555555555556,
              "#d8576b"
             ],
             [
              0.6666666666666666,
              "#ed7953"
             ],
             [
              0.7777777777777778,
              "#fb9f3a"
             ],
             [
              0.8888888888888888,
              "#fdca26"
             ],
             [
              1,
              "#f0f921"
             ]
            ],
            "type": "contour"
           }
          ],
          "contourcarpet": [
           {
            "colorbar": {
             "outlinewidth": 0,
             "ticks": ""
            },
            "type": "contourcarpet"
           }
          ],
          "heatmap": [
           {
            "colorbar": {
             "outlinewidth": 0,
             "ticks": ""
            },
            "colorscale": [
             [
              0,
              "#0d0887"
             ],
             [
              0.1111111111111111,
              "#46039f"
             ],
             [
              0.2222222222222222,
              "#7201a8"
             ],
             [
              0.3333333333333333,
              "#9c179e"
             ],
             [
              0.4444444444444444,
              "#bd3786"
             ],
             [
              0.5555555555555556,
              "#d8576b"
             ],
             [
              0.6666666666666666,
              "#ed7953"
             ],
             [
              0.7777777777777778,
              "#fb9f3a"
             ],
             [
              0.8888888888888888,
              "#fdca26"
             ],
             [
              1,
              "#f0f921"
             ]
            ],
            "type": "heatmap"
           }
          ],
          "heatmapgl": [
           {
            "colorbar": {
             "outlinewidth": 0,
             "ticks": ""
            },
            "colorscale": [
             [
              0,
              "#0d0887"
             ],
             [
              0.1111111111111111,
              "#46039f"
             ],
             [
              0.2222222222222222,
              "#7201a8"
             ],
             [
              0.3333333333333333,
              "#9c179e"
             ],
             [
              0.4444444444444444,
              "#bd3786"
             ],
             [
              0.5555555555555556,
              "#d8576b"
             ],
             [
              0.6666666666666666,
              "#ed7953"
             ],
             [
              0.7777777777777778,
              "#fb9f3a"
             ],
             [
              0.8888888888888888,
              "#fdca26"
             ],
             [
              1,
              "#f0f921"
             ]
            ],
            "type": "heatmapgl"
           }
          ],
          "histogram": [
           {
            "marker": {
             "pattern": {
              "fillmode": "overlay",
              "size": 10,
              "solidity": 0.2
             }
            },
            "type": "histogram"
           }
          ],
          "histogram2d": [
           {
            "colorbar": {
             "outlinewidth": 0,
             "ticks": ""
            },
            "colorscale": [
             [
              0,
              "#0d0887"
             ],
             [
              0.1111111111111111,
              "#46039f"
             ],
             [
              0.2222222222222222,
              "#7201a8"
             ],
             [
              0.3333333333333333,
              "#9c179e"
             ],
             [
              0.4444444444444444,
              "#bd3786"
             ],
             [
              0.5555555555555556,
              "#d8576b"
             ],
             [
              0.6666666666666666,
              "#ed7953"
             ],
             [
              0.7777777777777778,
              "#fb9f3a"
             ],
             [
              0.8888888888888888,
              "#fdca26"
             ],
             [
              1,
              "#f0f921"
             ]
            ],
            "type": "histogram2d"
           }
          ],
          "histogram2dcontour": [
           {
            "colorbar": {
             "outlinewidth": 0,
             "ticks": ""
            },
            "colorscale": [
             [
              0,
              "#0d0887"
             ],
             [
              0.1111111111111111,
              "#46039f"
             ],
             [
              0.2222222222222222,
              "#7201a8"
             ],
             [
              0.3333333333333333,
              "#9c179e"
             ],
             [
              0.4444444444444444,
              "#bd3786"
             ],
             [
              0.5555555555555556,
              "#d8576b"
             ],
             [
              0.6666666666666666,
              "#ed7953"
             ],
             [
              0.7777777777777778,
              "#fb9f3a"
             ],
             [
              0.8888888888888888,
              "#fdca26"
             ],
             [
              1,
              "#f0f921"
             ]
            ],
            "type": "histogram2dcontour"
           }
          ],
          "mesh3d": [
           {
            "colorbar": {
             "outlinewidth": 0,
             "ticks": ""
            },
            "type": "mesh3d"
           }
          ],
          "parcoords": [
           {
            "line": {
             "colorbar": {
              "outlinewidth": 0,
              "ticks": ""
             }
            },
            "type": "parcoords"
           }
          ],
          "pie": [
           {
            "automargin": true,
            "type": "pie"
           }
          ],
          "scatter": [
           {
            "fillpattern": {
             "fillmode": "overlay",
             "size": 10,
             "solidity": 0.2
            },
            "type": "scatter"
           }
          ],
          "scatter3d": [
           {
            "line": {
             "colorbar": {
              "outlinewidth": 0,
              "ticks": ""
             }
            },
            "marker": {
             "colorbar": {
              "outlinewidth": 0,
              "ticks": ""
             }
            },
            "type": "scatter3d"
           }
          ],
          "scattercarpet": [
           {
            "marker": {
             "colorbar": {
              "outlinewidth": 0,
              "ticks": ""
             }
            },
            "type": "scattercarpet"
           }
          ],
          "scattergeo": [
           {
            "marker": {
             "colorbar": {
              "outlinewidth": 0,
              "ticks": ""
             }
            },
            "type": "scattergeo"
           }
          ],
          "scattergl": [
           {
            "marker": {
             "colorbar": {
              "outlinewidth": 0,
              "ticks": ""
             }
            },
            "type": "scattergl"
           }
          ],
          "scattermapbox": [
           {
            "marker": {
             "colorbar": {
              "outlinewidth": 0,
              "ticks": ""
             }
            },
            "type": "scattermapbox"
           }
          ],
          "scatterpolar": [
           {
            "marker": {
             "colorbar": {
              "outlinewidth": 0,
              "ticks": ""
             }
            },
            "type": "scatterpolar"
           }
          ],
          "scatterpolargl": [
           {
            "marker": {
             "colorbar": {
              "outlinewidth": 0,
              "ticks": ""
             }
            },
            "type": "scatterpolargl"
           }
          ],
          "scatterternary": [
           {
            "marker": {
             "colorbar": {
              "outlinewidth": 0,
              "ticks": ""
             }
            },
            "type": "scatterternary"
           }
          ],
          "surface": [
           {
            "colorbar": {
             "outlinewidth": 0,
             "ticks": ""
            },
            "colorscale": [
             [
              0,
              "#0d0887"
             ],
             [
              0.1111111111111111,
              "#46039f"
             ],
             [
              0.2222222222222222,
              "#7201a8"
             ],
             [
              0.3333333333333333,
              "#9c179e"
             ],
             [
              0.4444444444444444,
              "#bd3786"
             ],
             [
              0.5555555555555556,
              "#d8576b"
             ],
             [
              0.6666666666666666,
              "#ed7953"
             ],
             [
              0.7777777777777778,
              "#fb9f3a"
             ],
             [
              0.8888888888888888,
              "#fdca26"
             ],
             [
              1,
              "#f0f921"
             ]
            ],
            "type": "surface"
           }
          ],
          "table": [
           {
            "cells": {
             "fill": {
              "color": "#EBF0F8"
             },
             "line": {
              "color": "white"
             }
            },
            "header": {
             "fill": {
              "color": "#C8D4E3"
             },
             "line": {
              "color": "white"
             }
            },
            "type": "table"
           }
          ]
         },
         "layout": {
          "annotationdefaults": {
           "arrowcolor": "#2a3f5f",
           "arrowhead": 0,
           "arrowwidth": 1
          },
          "autotypenumbers": "strict",
          "coloraxis": {
           "colorbar": {
            "outlinewidth": 0,
            "ticks": ""
           }
          },
          "colorscale": {
           "diverging": [
            [
             0,
             "#8e0152"
            ],
            [
             0.1,
             "#c51b7d"
            ],
            [
             0.2,
             "#de77ae"
            ],
            [
             0.3,
             "#f1b6da"
            ],
            [
             0.4,
             "#fde0ef"
            ],
            [
             0.5,
             "#f7f7f7"
            ],
            [
             0.6,
             "#e6f5d0"
            ],
            [
             0.7,
             "#b8e186"
            ],
            [
             0.8,
             "#7fbc41"
            ],
            [
             0.9,
             "#4d9221"
            ],
            [
             1,
             "#276419"
            ]
           ],
           "sequential": [
            [
             0,
             "#0d0887"
            ],
            [
             0.1111111111111111,
             "#46039f"
            ],
            [
             0.2222222222222222,
             "#7201a8"
            ],
            [
             0.3333333333333333,
             "#9c179e"
            ],
            [
             0.4444444444444444,
             "#bd3786"
            ],
            [
             0.5555555555555556,
             "#d8576b"
            ],
            [
             0.6666666666666666,
             "#ed7953"
            ],
            [
             0.7777777777777778,
             "#fb9f3a"
            ],
            [
             0.8888888888888888,
             "#fdca26"
            ],
            [
             1,
             "#f0f921"
            ]
           ],
           "sequentialminus": [
            [
             0,
             "#0d0887"
            ],
            [
             0.1111111111111111,
             "#46039f"
            ],
            [
             0.2222222222222222,
             "#7201a8"
            ],
            [
             0.3333333333333333,
             "#9c179e"
            ],
            [
             0.4444444444444444,
             "#bd3786"
            ],
            [
             0.5555555555555556,
             "#d8576b"
            ],
            [
             0.6666666666666666,
             "#ed7953"
            ],
            [
             0.7777777777777778,
             "#fb9f3a"
            ],
            [
             0.8888888888888888,
             "#fdca26"
            ],
            [
             1,
             "#f0f921"
            ]
           ]
          },
          "colorway": [
           "#636efa",
           "#EF553B",
           "#00cc96",
           "#ab63fa",
           "#FFA15A",
           "#19d3f3",
           "#FF6692",
           "#B6E880",
           "#FF97FF",
           "#FECB52"
          ],
          "font": {
           "color": "#2a3f5f"
          },
          "geo": {
           "bgcolor": "white",
           "lakecolor": "white",
           "landcolor": "#E5ECF6",
           "showlakes": true,
           "showland": true,
           "subunitcolor": "white"
          },
          "hoverlabel": {
           "align": "left"
          },
          "hovermode": "closest",
          "mapbox": {
           "style": "light"
          },
          "paper_bgcolor": "white",
          "plot_bgcolor": "#E5ECF6",
          "polar": {
           "angularaxis": {
            "gridcolor": "white",
            "linecolor": "white",
            "ticks": ""
           },
           "bgcolor": "#E5ECF6",
           "radialaxis": {
            "gridcolor": "white",
            "linecolor": "white",
            "ticks": ""
           }
          },
          "scene": {
           "xaxis": {
            "backgroundcolor": "#E5ECF6",
            "gridcolor": "white",
            "gridwidth": 2,
            "linecolor": "white",
            "showbackground": true,
            "ticks": "",
            "zerolinecolor": "white"
           },
           "yaxis": {
            "backgroundcolor": "#E5ECF6",
            "gridcolor": "white",
            "gridwidth": 2,
            "linecolor": "white",
            "showbackground": true,
            "ticks": "",
            "zerolinecolor": "white"
           },
           "zaxis": {
            "backgroundcolor": "#E5ECF6",
            "gridcolor": "white",
            "gridwidth": 2,
            "linecolor": "white",
            "showbackground": true,
            "ticks": "",
            "zerolinecolor": "white"
           }
          },
          "shapedefaults": {
           "line": {
            "color": "#2a3f5f"
           }
          },
          "ternary": {
           "aaxis": {
            "gridcolor": "white",
            "linecolor": "white",
            "ticks": ""
           },
           "baxis": {
            "gridcolor": "white",
            "linecolor": "white",
            "ticks": ""
           },
           "bgcolor": "#E5ECF6",
           "caxis": {
            "gridcolor": "white",
            "linecolor": "white",
            "ticks": ""
           }
          },
          "title": {
           "x": 0.05
          },
          "xaxis": {
           "automargin": true,
           "gridcolor": "white",
           "linecolor": "white",
           "ticks": "",
           "title": {
            "standoff": 15
           },
           "zerolinecolor": "white",
           "zerolinewidth": 2
          },
          "yaxis": {
           "automargin": true,
           "gridcolor": "white",
           "linecolor": "white",
           "ticks": "",
           "title": {
            "standoff": 15
           },
           "zerolinecolor": "white",
           "zerolinewidth": 2
          }
         }
        },
        "title": {
         "text": "Logit Lens Results for 0_mlp_out(IC) (in circuit)"
        },
        "xaxis": {
         "title": {
          "text": "Logit Lens Results"
         }
        },
        "yaxis": {
         "title": {
          "text": "True Logits"
         }
        }
       }
      }
     },
     "metadata": {},
     "output_type": "display_data"
    },
    {
     "data": {
      "text/plain": [
       "'./interp_results//3/logit_lens/0_mlp_out(IC)/pearson.png'"
      ]
     },
     "execution_count": 40,
     "metadata": {},
     "output_type": "execute_result"
    }
   ],
   "source": [
    "key = \"0_mlp_out(IC)\"\n",
    "plot_pearson(\n",
    "    key=key,\n",
    "    in_circuit= \"IC\" in key,\n",
    "    lens_results=logit_lens_results,\n",
    "    labels=labels,\n",
    "    case_name=case.get_name(),\n",
    "    show=True,\n",
    "    tuned_lens=tuned_lens,\n",
    "    is_categorical=case.is_categorical()\n",
    ")"
   ]
  },
  {
   "cell_type": "code",
   "execution_count": null,
   "metadata": {},
   "outputs": [],
   "source": []
  },
  {
   "cell_type": "code",
   "execution_count": null,
   "metadata": {},
   "outputs": [],
   "source": []
  }
 ],
 "metadata": {
  "kernelspec": {
   "display_name": "Python 3",
   "language": "python",
   "name": "python3"
  },
  "language_info": {
   "codemirror_mode": {
    "name": "ipython",
    "version": 3
   },
   "file_extension": ".py",
   "mimetype": "text/x-python",
   "name": "python",
   "nbconvert_exporter": "python",
   "pygments_lexer": "ipython3",
   "version": "3.11.4"
  }
 },
 "nbformat": 4,
 "nbformat_minor": 2
}
