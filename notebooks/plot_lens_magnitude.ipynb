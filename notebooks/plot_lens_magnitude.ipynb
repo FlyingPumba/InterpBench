{
 "cells": [
  {
   "cell_type": "code",
   "execution_count": 1,
   "metadata": {},
   "outputs": [],
   "source": [
    "# autoreload\n",
    "%load_ext autoreload\n",
    "%autoreload 2\n"
   ]
  },
  {
   "cell_type": "code",
   "execution_count": 2,
   "metadata": {},
   "outputs": [],
   "source": [
    "import json\n",
    "import torch\n",
    "\n",
    "def get_results_for_case(case_name, dir = \"./interp_results\", tuned_lens=False):\n",
    "    lens_str = \"tuned_lens\" if tuned_lens else \"logit_lens\"\n",
    "    file_path = f\"{dir}/{case_name}/{lens_str}/{lens_str}_results.json\"\n",
    "    with open(file_path, \"r\") as f:\n",
    "        results = json.load(f)\n",
    "        labels = torch.tensor(results[\"labels\"])\n",
    "        logit_lens_results = {k: torch.tensor(v) for k, v in results.items()}\n",
    "        # delete the \"labels\" key from logit_lens_results\n",
    "        del logit_lens_results[\"labels\"]\n",
    "        return labels, logit_lens_results"
   ]
  },
  {
   "cell_type": "code",
   "execution_count": 3,
   "metadata": {},
   "outputs": [],
   "source": [
    "from interp_utils.lens.plot_utils import *\n",
    "from circuits_benchmark.utils.get_cases import get_cases, get_names_of_working_cases\n",
    "\n",
    "case_name = \"20\"\n",
    "case = get_cases(indices=[case_name])[0]\n",
    "tuned_lens = False\n",
    "\n",
    "labels, logit_lens_results = get_results_for_case(case_name, tuned_lens=tuned_lens)"
   ]
  },
  {
   "cell_type": "code",
   "execution_count": 11,
   "metadata": {},
   "outputs": [
    {
     "data": {
      "text/plain": [
       "0.9997087717056274"
      ]
     },
     "execution_count": 11,
     "metadata": {},
     "output_type": "execute_result"
    }
   ],
   "source": [
    "from sklearn import metrics\n",
    "x = logit_lens_results[\"L1H2(IC)\"].detach().cpu().numpy().squeeze()\n",
    "y = labels.detach().cpu().numpy().squeeze()\n",
    "\n",
    "metrics.explained_variance_score(y[:, -1], x[:, -1])"
   ]
  },
  {
   "cell_type": "code",
   "execution_count": 4,
   "metadata": {},
   "outputs": [
    {
     "data": {
      "application/vnd.plotly.v1+json": {
       "config": {
        "plotlyServerURL": "https://plot.ly"
       },
       "data": [
        {
         "coloraxis": "coloraxis",
         "hovertemplate": "Layer/Head: %{x}<br>Position: %{y}<br>Variance Explained: %{z}<extra></extra>",
         "name": "0",
         "type": "heatmap",
         "x": [
          "embed",
          "pos_embed",
          "0_mlp_out(IC)",
          "1_mlp_out",
          "L0H0",
          "L0H1",
          "L0H2",
          "L0H3",
          "L1H0",
          "L1H1",
          "L1H2",
          "L1H3"
         ],
         "xaxis": "x",
         "y": [
          "0",
          "1",
          "2",
          "3",
          "4",
          "5",
          "6",
          "7",
          "8"
         ],
         "yaxis": "y",
         "z": [
          [
           0.0021144747734069824,
           -0.0004044771194458008,
           0.9999402165412903,
           -3.4787731170654297,
           0.025122106075286865,
           0.04847842454910278,
           0.03332328796386719,
           0.03901761770248413,
           -0.6796226501464844,
           0.9758679866790771,
           0.6315122842788696,
           0.20326870679855347
          ],
          [
           0.0018335580825805664,
           -0.00006461143493652344,
           0.7343042492866516,
           -3.9863638877868652,
           0.021635591983795166,
           0.04378914833068848,
           0.02986544370651245,
           0.03509247303009033,
           -0.6829984188079834,
           0.7597777247428894,
           0.5381520986557007,
           0.1795240044593811
          ],
          [
           0.0017504096031188965,
           0.00015920400619506836,
           0.5350582599639893,
           -5.201269149780273,
           0.02117311954498291,
           0.04505354166030884,
           0.02939695119857788,
           0.03592580556869507,
           -0.7117956876754761,
           0.6333752870559692,
           0.5143786072731018,
           0.17953675985336304
          ],
          [
           0.0017694830894470215,
           0.00037485361099243164,
           0.4003341794013977,
           -5.7844462394714355,
           0.02110898494720459,
           0.04310297966003418,
           0.028685569763183594,
           0.034856557846069336,
           -0.6920913457870483,
           0.5207638740539551,
           0.47812753915786743,
           0.17338740825653076
          ],
          [
           0.001970529556274414,
           -0.0005613565444946289,
           0.2609967589378357,
           -7.464085578918457,
           0.023519694805145264,
           0.04724252223968506,
           0.03220963478088379,
           0.038599371910095215,
           -0.7132863998413086,
           0.4618264436721802,
           0.5038573145866394,
           0.19005954265594482
          ],
          [
           0.0020670294761657715,
           0.0007258057594299316,
           0.15914255380630493,
           -8.441271781921387,
           0.02488255500793457,
           0.04885655641555786,
           0.032339394092559814,
           0.03913778066635132,
           -0.7078938484191895,
           0.3700750470161438,
           0.49650269746780396,
           0.19483274221420288
          ],
          [
           0.002317190170288086,
           0.00035858154296875,
           0.07945483922958374,
           -10.475837707519531,
           0.029649555683135986,
           0.05620753765106201,
           0.03741580247879028,
           0.044932544231414795,
           -0.7215524911880493,
           0.3484616279602051,
           0.5579369068145752,
           0.22455883026123047
          ],
          [
           0.0026873350143432617,
           -0.00011110305786132812,
           -0.07386326789855957,
           -12.98828125,
           0.03459197282791138,
           0.06354117393493652,
           0.04219973087310791,
           0.051061391830444336,
           -0.7405916452407837,
           0.26837843656539917,
           0.607720136642456,
           0.25430065393447876
          ],
          [
           0.002947568893432617,
           -0.0002262592315673828,
           -0.2215890884399414,
           -15.32982063293457,
           0.03907066583633423,
           0.0698900818824768,
           0.04693150520324707,
           0.0567011833190918,
           -0.7564090490341187,
           0.19114279747009277,
           0.6522055864334106,
           0.2812318801879883
          ]
         ]
        }
       ],
       "layout": {
        "coloraxis": {
         "colorbar": {
          "title": {
           "text": "Variance Explained"
          }
         },
         "colorscale": [
          [
           0,
           "#440154"
          ],
          [
           0.1111111111111111,
           "#482878"
          ],
          [
           0.2222222222222222,
           "#3e4989"
          ],
          [
           0.3333333333333333,
           "#31688e"
          ],
          [
           0.4444444444444444,
           "#26828e"
          ],
          [
           0.5555555555555556,
           "#1f9e89"
          ],
          [
           0.6666666666666666,
           "#35b779"
          ],
          [
           0.7777777777777778,
           "#6ece58"
          ],
          [
           0.8888888888888888,
           "#b5de2b"
          ],
          [
           1,
           "#fde725"
          ]
         ]
        },
        "margin": {
         "b": 0,
         "l": 0,
         "r": 0,
         "t": 1
        },
        "template": {
         "data": {
          "bar": [
           {
            "error_x": {
             "color": "#2a3f5f"
            },
            "error_y": {
             "color": "#2a3f5f"
            },
            "marker": {
             "line": {
              "color": "#E5ECF6",
              "width": 0.5
             },
             "pattern": {
              "fillmode": "overlay",
              "size": 10,
              "solidity": 0.2
             }
            },
            "type": "bar"
           }
          ],
          "barpolar": [
           {
            "marker": {
             "line": {
              "color": "#E5ECF6",
              "width": 0.5
             },
             "pattern": {
              "fillmode": "overlay",
              "size": 10,
              "solidity": 0.2
             }
            },
            "type": "barpolar"
           }
          ],
          "carpet": [
           {
            "aaxis": {
             "endlinecolor": "#2a3f5f",
             "gridcolor": "white",
             "linecolor": "white",
             "minorgridcolor": "white",
             "startlinecolor": "#2a3f5f"
            },
            "baxis": {
             "endlinecolor": "#2a3f5f",
             "gridcolor": "white",
             "linecolor": "white",
             "minorgridcolor": "white",
             "startlinecolor": "#2a3f5f"
            },
            "type": "carpet"
           }
          ],
          "choropleth": [
           {
            "colorbar": {
             "outlinewidth": 0,
             "ticks": ""
            },
            "type": "choropleth"
           }
          ],
          "contour": [
           {
            "colorbar": {
             "outlinewidth": 0,
             "ticks": ""
            },
            "colorscale": [
             [
              0,
              "#0d0887"
             ],
             [
              0.1111111111111111,
              "#46039f"
             ],
             [
              0.2222222222222222,
              "#7201a8"
             ],
             [
              0.3333333333333333,
              "#9c179e"
             ],
             [
              0.4444444444444444,
              "#bd3786"
             ],
             [
              0.5555555555555556,
              "#d8576b"
             ],
             [
              0.6666666666666666,
              "#ed7953"
             ],
             [
              0.7777777777777778,
              "#fb9f3a"
             ],
             [
              0.8888888888888888,
              "#fdca26"
             ],
             [
              1,
              "#f0f921"
             ]
            ],
            "type": "contour"
           }
          ],
          "contourcarpet": [
           {
            "colorbar": {
             "outlinewidth": 0,
             "ticks": ""
            },
            "type": "contourcarpet"
           }
          ],
          "heatmap": [
           {
            "colorbar": {
             "outlinewidth": 0,
             "ticks": ""
            },
            "colorscale": [
             [
              0,
              "#0d0887"
             ],
             [
              0.1111111111111111,
              "#46039f"
             ],
             [
              0.2222222222222222,
              "#7201a8"
             ],
             [
              0.3333333333333333,
              "#9c179e"
             ],
             [
              0.4444444444444444,
              "#bd3786"
             ],
             [
              0.5555555555555556,
              "#d8576b"
             ],
             [
              0.6666666666666666,
              "#ed7953"
             ],
             [
              0.7777777777777778,
              "#fb9f3a"
             ],
             [
              0.8888888888888888,
              "#fdca26"
             ],
             [
              1,
              "#f0f921"
             ]
            ],
            "type": "heatmap"
           }
          ],
          "heatmapgl": [
           {
            "colorbar": {
             "outlinewidth": 0,
             "ticks": ""
            },
            "colorscale": [
             [
              0,
              "#0d0887"
             ],
             [
              0.1111111111111111,
              "#46039f"
             ],
             [
              0.2222222222222222,
              "#7201a8"
             ],
             [
              0.3333333333333333,
              "#9c179e"
             ],
             [
              0.4444444444444444,
              "#bd3786"
             ],
             [
              0.5555555555555556,
              "#d8576b"
             ],
             [
              0.6666666666666666,
              "#ed7953"
             ],
             [
              0.7777777777777778,
              "#fb9f3a"
             ],
             [
              0.8888888888888888,
              "#fdca26"
             ],
             [
              1,
              "#f0f921"
             ]
            ],
            "type": "heatmapgl"
           }
          ],
          "histogram": [
           {
            "marker": {
             "pattern": {
              "fillmode": "overlay",
              "size": 10,
              "solidity": 0.2
             }
            },
            "type": "histogram"
           }
          ],
          "histogram2d": [
           {
            "colorbar": {
             "outlinewidth": 0,
             "ticks": ""
            },
            "colorscale": [
             [
              0,
              "#0d0887"
             ],
             [
              0.1111111111111111,
              "#46039f"
             ],
             [
              0.2222222222222222,
              "#7201a8"
             ],
             [
              0.3333333333333333,
              "#9c179e"
             ],
             [
              0.4444444444444444,
              "#bd3786"
             ],
             [
              0.5555555555555556,
              "#d8576b"
             ],
             [
              0.6666666666666666,
              "#ed7953"
             ],
             [
              0.7777777777777778,
              "#fb9f3a"
             ],
             [
              0.8888888888888888,
              "#fdca26"
             ],
             [
              1,
              "#f0f921"
             ]
            ],
            "type": "histogram2d"
           }
          ],
          "histogram2dcontour": [
           {
            "colorbar": {
             "outlinewidth": 0,
             "ticks": ""
            },
            "colorscale": [
             [
              0,
              "#0d0887"
             ],
             [
              0.1111111111111111,
              "#46039f"
             ],
             [
              0.2222222222222222,
              "#7201a8"
             ],
             [
              0.3333333333333333,
              "#9c179e"
             ],
             [
              0.4444444444444444,
              "#bd3786"
             ],
             [
              0.5555555555555556,
              "#d8576b"
             ],
             [
              0.6666666666666666,
              "#ed7953"
             ],
             [
              0.7777777777777778,
              "#fb9f3a"
             ],
             [
              0.8888888888888888,
              "#fdca26"
             ],
             [
              1,
              "#f0f921"
             ]
            ],
            "type": "histogram2dcontour"
           }
          ],
          "mesh3d": [
           {
            "colorbar": {
             "outlinewidth": 0,
             "ticks": ""
            },
            "type": "mesh3d"
           }
          ],
          "parcoords": [
           {
            "line": {
             "colorbar": {
              "outlinewidth": 0,
              "ticks": ""
             }
            },
            "type": "parcoords"
           }
          ],
          "pie": [
           {
            "automargin": true,
            "type": "pie"
           }
          ],
          "scatter": [
           {
            "fillpattern": {
             "fillmode": "overlay",
             "size": 10,
             "solidity": 0.2
            },
            "type": "scatter"
           }
          ],
          "scatter3d": [
           {
            "line": {
             "colorbar": {
              "outlinewidth": 0,
              "ticks": ""
             }
            },
            "marker": {
             "colorbar": {
              "outlinewidth": 0,
              "ticks": ""
             }
            },
            "type": "scatter3d"
           }
          ],
          "scattercarpet": [
           {
            "marker": {
             "colorbar": {
              "outlinewidth": 0,
              "ticks": ""
             }
            },
            "type": "scattercarpet"
           }
          ],
          "scattergeo": [
           {
            "marker": {
             "colorbar": {
              "outlinewidth": 0,
              "ticks": ""
             }
            },
            "type": "scattergeo"
           }
          ],
          "scattergl": [
           {
            "marker": {
             "colorbar": {
              "outlinewidth": 0,
              "ticks": ""
             }
            },
            "type": "scattergl"
           }
          ],
          "scattermapbox": [
           {
            "marker": {
             "colorbar": {
              "outlinewidth": 0,
              "ticks": ""
             }
            },
            "type": "scattermapbox"
           }
          ],
          "scatterpolar": [
           {
            "marker": {
             "colorbar": {
              "outlinewidth": 0,
              "ticks": ""
             }
            },
            "type": "scatterpolar"
           }
          ],
          "scatterpolargl": [
           {
            "marker": {
             "colorbar": {
              "outlinewidth": 0,
              "ticks": ""
             }
            },
            "type": "scatterpolargl"
           }
          ],
          "scatterternary": [
           {
            "marker": {
             "colorbar": {
              "outlinewidth": 0,
              "ticks": ""
             }
            },
            "type": "scatterternary"
           }
          ],
          "surface": [
           {
            "colorbar": {
             "outlinewidth": 0,
             "ticks": ""
            },
            "colorscale": [
             [
              0,
              "#0d0887"
             ],
             [
              0.1111111111111111,
              "#46039f"
             ],
             [
              0.2222222222222222,
              "#7201a8"
             ],
             [
              0.3333333333333333,
              "#9c179e"
             ],
             [
              0.4444444444444444,
              "#bd3786"
             ],
             [
              0.5555555555555556,
              "#d8576b"
             ],
             [
              0.6666666666666666,
              "#ed7953"
             ],
             [
              0.7777777777777778,
              "#fb9f3a"
             ],
             [
              0.8888888888888888,
              "#fdca26"
             ],
             [
              1,
              "#f0f921"
             ]
            ],
            "type": "surface"
           }
          ],
          "table": [
           {
            "cells": {
             "fill": {
              "color": "#EBF0F8"
             },
             "line": {
              "color": "white"
             }
            },
            "header": {
             "fill": {
              "color": "#C8D4E3"
             },
             "line": {
              "color": "white"
             }
            },
            "type": "table"
           }
          ]
         },
         "layout": {
          "annotationdefaults": {
           "arrowcolor": "#2a3f5f",
           "arrowhead": 0,
           "arrowwidth": 1
          },
          "autotypenumbers": "strict",
          "coloraxis": {
           "colorbar": {
            "outlinewidth": 0,
            "ticks": ""
           }
          },
          "colorscale": {
           "diverging": [
            [
             0,
             "#8e0152"
            ],
            [
             0.1,
             "#c51b7d"
            ],
            [
             0.2,
             "#de77ae"
            ],
            [
             0.3,
             "#f1b6da"
            ],
            [
             0.4,
             "#fde0ef"
            ],
            [
             0.5,
             "#f7f7f7"
            ],
            [
             0.6,
             "#e6f5d0"
            ],
            [
             0.7,
             "#b8e186"
            ],
            [
             0.8,
             "#7fbc41"
            ],
            [
             0.9,
             "#4d9221"
            ],
            [
             1,
             "#276419"
            ]
           ],
           "sequential": [
            [
             0,
             "#0d0887"
            ],
            [
             0.1111111111111111,
             "#46039f"
            ],
            [
             0.2222222222222222,
             "#7201a8"
            ],
            [
             0.3333333333333333,
             "#9c179e"
            ],
            [
             0.4444444444444444,
             "#bd3786"
            ],
            [
             0.5555555555555556,
             "#d8576b"
            ],
            [
             0.6666666666666666,
             "#ed7953"
            ],
            [
             0.7777777777777778,
             "#fb9f3a"
            ],
            [
             0.8888888888888888,
             "#fdca26"
            ],
            [
             1,
             "#f0f921"
            ]
           ],
           "sequentialminus": [
            [
             0,
             "#0d0887"
            ],
            [
             0.1111111111111111,
             "#46039f"
            ],
            [
             0.2222222222222222,
             "#7201a8"
            ],
            [
             0.3333333333333333,
             "#9c179e"
            ],
            [
             0.4444444444444444,
             "#bd3786"
            ],
            [
             0.5555555555555556,
             "#d8576b"
            ],
            [
             0.6666666666666666,
             "#ed7953"
            ],
            [
             0.7777777777777778,
             "#fb9f3a"
            ],
            [
             0.8888888888888888,
             "#fdca26"
            ],
            [
             1,
             "#f0f921"
            ]
           ]
          },
          "colorway": [
           "#636efa",
           "#EF553B",
           "#00cc96",
           "#ab63fa",
           "#FFA15A",
           "#19d3f3",
           "#FF6692",
           "#B6E880",
           "#FF97FF",
           "#FECB52"
          ],
          "font": {
           "color": "#2a3f5f"
          },
          "geo": {
           "bgcolor": "white",
           "lakecolor": "white",
           "landcolor": "#E5ECF6",
           "showlakes": true,
           "showland": true,
           "subunitcolor": "white"
          },
          "hoverlabel": {
           "align": "left"
          },
          "hovermode": "closest",
          "mapbox": {
           "style": "light"
          },
          "paper_bgcolor": "white",
          "plot_bgcolor": "#E5ECF6",
          "polar": {
           "angularaxis": {
            "gridcolor": "white",
            "linecolor": "white",
            "ticks": ""
           },
           "bgcolor": "#E5ECF6",
           "radialaxis": {
            "gridcolor": "white",
            "linecolor": "white",
            "ticks": ""
           }
          },
          "scene": {
           "xaxis": {
            "backgroundcolor": "#E5ECF6",
            "gridcolor": "white",
            "gridwidth": 2,
            "linecolor": "white",
            "showbackground": true,
            "ticks": "",
            "zerolinecolor": "white"
           },
           "yaxis": {
            "backgroundcolor": "#E5ECF6",
            "gridcolor": "white",
            "gridwidth": 2,
            "linecolor": "white",
            "showbackground": true,
            "ticks": "",
            "zerolinecolor": "white"
           },
           "zaxis": {
            "backgroundcolor": "#E5ECF6",
            "gridcolor": "white",
            "gridwidth": 2,
            "linecolor": "white",
            "showbackground": true,
            "ticks": "",
            "zerolinecolor": "white"
           }
          },
          "shapedefaults": {
           "line": {
            "color": "#2a3f5f"
           }
          },
          "ternary": {
           "aaxis": {
            "gridcolor": "white",
            "linecolor": "white",
            "ticks": ""
           },
           "baxis": {
            "gridcolor": "white",
            "linecolor": "white",
            "ticks": ""
           },
           "bgcolor": "#E5ECF6",
           "caxis": {
            "gridcolor": "white",
            "linecolor": "white",
            "ticks": ""
           }
          },
          "title": {
           "x": 0.05
          },
          "xaxis": {
           "automargin": true,
           "gridcolor": "white",
           "linecolor": "white",
           "ticks": "",
           "title": {
            "standoff": 15
           },
           "zerolinecolor": "white",
           "zerolinewidth": 2
          },
          "yaxis": {
           "automargin": true,
           "gridcolor": "white",
           "linecolor": "white",
           "ticks": "",
           "title": {
            "standoff": 15
           },
           "zerolinecolor": "white",
           "zerolinewidth": 2
          }
         }
        },
        "xaxis": {
         "anchor": "y",
         "constrain": "domain",
         "domain": [
          0,
          1
         ],
         "scaleanchor": "y",
         "tickfont": {
          "size": 15
         },
         "title": {
          "text": "Layer/Head"
         }
        },
        "yaxis": {
         "anchor": "x",
         "autorange": "reversed",
         "constrain": "domain",
         "domain": [
          0,
          1
         ],
         "title": {
          "text": "Position"
         }
        }
       }
      }
     },
     "metadata": {},
     "output_type": "display_data"
    },
    {
     "data": {
      "text/plain": [
       "'./interp_results/20/logit_lens/combined_variance_explained.png'"
      ]
     },
     "execution_count": 4,
     "metadata": {},
     "output_type": "execute_result"
    }
   ],
   "source": [
    "plot_explained_variance_combined(\n",
    "    labels=labels,\n",
    "    lens_results=logit_lens_results,\n",
    "    is_categorical=case.is_categorical(),\n",
    "    nodes_in_circuit= [],\n",
    "    abs_corr=False,\n",
    "    tuned_lens=tuned_lens,\n",
    "    case_name=case_name,\n",
    "    show=True\n",
    ")"
   ]
  },
  {
   "cell_type": "code",
   "execution_count": 5,
   "metadata": {},
   "outputs": [
    {
     "data": {
      "application/vnd.plotly.v1+json": {
       "config": {
        "plotlyServerURL": "https://plot.ly"
       },
       "data": [
        {
         "coloraxis": "coloraxis",
         "hovertemplate": "Layer/Head: %{x}<br>Position: %{y}<br>Mean Absolute Error: %{z}<extra></extra>",
         "name": "0",
         "type": "heatmap",
         "x": [
          "embed",
          "pos_embed",
          "0_mlp_out(IC)",
          "1_mlp_out",
          "L0H0",
          "L0H1",
          "L0H2",
          "L0H3",
          "L1H0",
          "L1H1",
          "L1H2",
          "L1H3"
         ],
         "xaxis": "x",
         "y": [
          "0",
          "1",
          "2",
          "3",
          "4",
          "5",
          "6",
          "7",
          "8"
         ],
         "yaxis": "y",
         "z": [
          [
           230.0507354736328,
           230.1946563720703,
           308.40655517578125,
           253.4935760498047,
           230.86672973632812,
           228.30809020996094,
           228.89303588867188,
           229.8158721923828,
           260.9335021972656,
           161.91867065429688,
           222.11459350585938,
           225.0485382080078
          ],
          [
           196.20977783203125,
           196.32723999023438,
           276.54315185546875,
           266.1782531738281,
           196.8355255126953,
           194.45025634765625,
           195.00665283203125,
           195.93984985351562,
           218.53086853027344,
           129.1236572265625,
           188.36581420898438,
           191.11659240722656
          ],
          [
           170.909912109375,
           171.0630340576172,
           255.98983764648438,
           280.3598327636719,
           171.55162048339844,
           169.3755340576172,
           169.81874084472656,
           170.82046508789062,
           187.662841796875,
           106.12755584716797,
           164.16293334960938,
           166.11154174804688
          ],
          [
           155.7179412841797,
           155.72891235351562,
           231.907958984375,
           275.992431640625,
           156.23538208007812,
           153.96812438964844,
           154.52362060546875,
           155.49111938476562,
           164.05050659179688,
           86.89663696289062,
           145.74009704589844,
           150.0547637939453
          ],
          [
           140.53038024902344,
           140.7272491455078,
           221.116943359375,
           285.07342529296875,
           141.0811309814453,
           138.9102783203125,
           139.4721221923828,
           140.43421936035156,
           146.8944091796875,
           74.42601776123047,
           131.81655883789062,
           135.24920654296875
          ],
          [
           134.5594940185547,
           134.5103759765625,
           206.55934143066406,
           278.8324279785156,
           134.9721221923828,
           132.73550415039062,
           133.31297302246094,
           134.26007080078125,
           133.87802124023438,
           63.71751403808594,
           122.9045639038086,
           128.4378662109375
          ],
          [
           122.81623077392578,
           122.9267349243164,
           205.73123168945312,
           289.71087646484375,
           123.35276794433594,
           121.24651336669922,
           121.73717498779297,
           122.71188354492188,
           123.56490325927734,
           61.38589096069336,
           115.56309509277344,
           117.88556671142578
          ],
          [
           116.2603530883789,
           116.23715209960938,
           200.33226013183594,
           292.4913635253906,
           116.82196807861328,
           114.75069427490234,
           115.22718811035156,
           116.21794891357422,
           114.75231170654297,
           55.88554382324219,
           109.54267883300781,
           111.4814224243164
          ],
          [
           113.61901092529297,
           113.57826232910156,
           193.95098876953125,
           290.7337646484375,
           114.12332153320312,
           112.01640319824219,
           112.54293823242188,
           113.51981353759766,
           109.41542053222656,
           50.135398864746094,
           105.38798522949219,
           108.42385864257812
          ]
         ]
        }
       ],
       "layout": {
        "coloraxis": {
         "colorbar": {
          "title": {
           "text": "Mean Absolute Error"
          }
         },
         "colorscale": [
          [
           0,
           "#440154"
          ],
          [
           0.1111111111111111,
           "#482878"
          ],
          [
           0.2222222222222222,
           "#3e4989"
          ],
          [
           0.3333333333333333,
           "#31688e"
          ],
          [
           0.4444444444444444,
           "#26828e"
          ],
          [
           0.5555555555555556,
           "#1f9e89"
          ],
          [
           0.6666666666666666,
           "#35b779"
          ],
          [
           0.7777777777777778,
           "#6ece58"
          ],
          [
           0.8888888888888888,
           "#b5de2b"
          ],
          [
           1,
           "#fde725"
          ]
         ]
        },
        "margin": {
         "b": 0,
         "l": 0,
         "r": 0,
         "t": 1
        },
        "template": {
         "data": {
          "bar": [
           {
            "error_x": {
             "color": "#2a3f5f"
            },
            "error_y": {
             "color": "#2a3f5f"
            },
            "marker": {
             "line": {
              "color": "#E5ECF6",
              "width": 0.5
             },
             "pattern": {
              "fillmode": "overlay",
              "size": 10,
              "solidity": 0.2
             }
            },
            "type": "bar"
           }
          ],
          "barpolar": [
           {
            "marker": {
             "line": {
              "color": "#E5ECF6",
              "width": 0.5
             },
             "pattern": {
              "fillmode": "overlay",
              "size": 10,
              "solidity": 0.2
             }
            },
            "type": "barpolar"
           }
          ],
          "carpet": [
           {
            "aaxis": {
             "endlinecolor": "#2a3f5f",
             "gridcolor": "white",
             "linecolor": "white",
             "minorgridcolor": "white",
             "startlinecolor": "#2a3f5f"
            },
            "baxis": {
             "endlinecolor": "#2a3f5f",
             "gridcolor": "white",
             "linecolor": "white",
             "minorgridcolor": "white",
             "startlinecolor": "#2a3f5f"
            },
            "type": "carpet"
           }
          ],
          "choropleth": [
           {
            "colorbar": {
             "outlinewidth": 0,
             "ticks": ""
            },
            "type": "choropleth"
           }
          ],
          "contour": [
           {
            "colorbar": {
             "outlinewidth": 0,
             "ticks": ""
            },
            "colorscale": [
             [
              0,
              "#0d0887"
             ],
             [
              0.1111111111111111,
              "#46039f"
             ],
             [
              0.2222222222222222,
              "#7201a8"
             ],
             [
              0.3333333333333333,
              "#9c179e"
             ],
             [
              0.4444444444444444,
              "#bd3786"
             ],
             [
              0.5555555555555556,
              "#d8576b"
             ],
             [
              0.6666666666666666,
              "#ed7953"
             ],
             [
              0.7777777777777778,
              "#fb9f3a"
             ],
             [
              0.8888888888888888,
              "#fdca26"
             ],
             [
              1,
              "#f0f921"
             ]
            ],
            "type": "contour"
           }
          ],
          "contourcarpet": [
           {
            "colorbar": {
             "outlinewidth": 0,
             "ticks": ""
            },
            "type": "contourcarpet"
           }
          ],
          "heatmap": [
           {
            "colorbar": {
             "outlinewidth": 0,
             "ticks": ""
            },
            "colorscale": [
             [
              0,
              "#0d0887"
             ],
             [
              0.1111111111111111,
              "#46039f"
             ],
             [
              0.2222222222222222,
              "#7201a8"
             ],
             [
              0.3333333333333333,
              "#9c179e"
             ],
             [
              0.4444444444444444,
              "#bd3786"
             ],
             [
              0.5555555555555556,
              "#d8576b"
             ],
             [
              0.6666666666666666,
              "#ed7953"
             ],
             [
              0.7777777777777778,
              "#fb9f3a"
             ],
             [
              0.8888888888888888,
              "#fdca26"
             ],
             [
              1,
              "#f0f921"
             ]
            ],
            "type": "heatmap"
           }
          ],
          "heatmapgl": [
           {
            "colorbar": {
             "outlinewidth": 0,
             "ticks": ""
            },
            "colorscale": [
             [
              0,
              "#0d0887"
             ],
             [
              0.1111111111111111,
              "#46039f"
             ],
             [
              0.2222222222222222,
              "#7201a8"
             ],
             [
              0.3333333333333333,
              "#9c179e"
             ],
             [
              0.4444444444444444,
              "#bd3786"
             ],
             [
              0.5555555555555556,
              "#d8576b"
             ],
             [
              0.6666666666666666,
              "#ed7953"
             ],
             [
              0.7777777777777778,
              "#fb9f3a"
             ],
             [
              0.8888888888888888,
              "#fdca26"
             ],
             [
              1,
              "#f0f921"
             ]
            ],
            "type": "heatmapgl"
           }
          ],
          "histogram": [
           {
            "marker": {
             "pattern": {
              "fillmode": "overlay",
              "size": 10,
              "solidity": 0.2
             }
            },
            "type": "histogram"
           }
          ],
          "histogram2d": [
           {
            "colorbar": {
             "outlinewidth": 0,
             "ticks": ""
            },
            "colorscale": [
             [
              0,
              "#0d0887"
             ],
             [
              0.1111111111111111,
              "#46039f"
             ],
             [
              0.2222222222222222,
              "#7201a8"
             ],
             [
              0.3333333333333333,
              "#9c179e"
             ],
             [
              0.4444444444444444,
              "#bd3786"
             ],
             [
              0.5555555555555556,
              "#d8576b"
             ],
             [
              0.6666666666666666,
              "#ed7953"
             ],
             [
              0.7777777777777778,
              "#fb9f3a"
             ],
             [
              0.8888888888888888,
              "#fdca26"
             ],
             [
              1,
              "#f0f921"
             ]
            ],
            "type": "histogram2d"
           }
          ],
          "histogram2dcontour": [
           {
            "colorbar": {
             "outlinewidth": 0,
             "ticks": ""
            },
            "colorscale": [
             [
              0,
              "#0d0887"
             ],
             [
              0.1111111111111111,
              "#46039f"
             ],
             [
              0.2222222222222222,
              "#7201a8"
             ],
             [
              0.3333333333333333,
              "#9c179e"
             ],
             [
              0.4444444444444444,
              "#bd3786"
             ],
             [
              0.5555555555555556,
              "#d8576b"
             ],
             [
              0.6666666666666666,
              "#ed7953"
             ],
             [
              0.7777777777777778,
              "#fb9f3a"
             ],
             [
              0.8888888888888888,
              "#fdca26"
             ],
             [
              1,
              "#f0f921"
             ]
            ],
            "type": "histogram2dcontour"
           }
          ],
          "mesh3d": [
           {
            "colorbar": {
             "outlinewidth": 0,
             "ticks": ""
            },
            "type": "mesh3d"
           }
          ],
          "parcoords": [
           {
            "line": {
             "colorbar": {
              "outlinewidth": 0,
              "ticks": ""
             }
            },
            "type": "parcoords"
           }
          ],
          "pie": [
           {
            "automargin": true,
            "type": "pie"
           }
          ],
          "scatter": [
           {
            "fillpattern": {
             "fillmode": "overlay",
             "size": 10,
             "solidity": 0.2
            },
            "type": "scatter"
           }
          ],
          "scatter3d": [
           {
            "line": {
             "colorbar": {
              "outlinewidth": 0,
              "ticks": ""
             }
            },
            "marker": {
             "colorbar": {
              "outlinewidth": 0,
              "ticks": ""
             }
            },
            "type": "scatter3d"
           }
          ],
          "scattercarpet": [
           {
            "marker": {
             "colorbar": {
              "outlinewidth": 0,
              "ticks": ""
             }
            },
            "type": "scattercarpet"
           }
          ],
          "scattergeo": [
           {
            "marker": {
             "colorbar": {
              "outlinewidth": 0,
              "ticks": ""
             }
            },
            "type": "scattergeo"
           }
          ],
          "scattergl": [
           {
            "marker": {
             "colorbar": {
              "outlinewidth": 0,
              "ticks": ""
             }
            },
            "type": "scattergl"
           }
          ],
          "scattermapbox": [
           {
            "marker": {
             "colorbar": {
              "outlinewidth": 0,
              "ticks": ""
             }
            },
            "type": "scattermapbox"
           }
          ],
          "scatterpolar": [
           {
            "marker": {
             "colorbar": {
              "outlinewidth": 0,
              "ticks": ""
             }
            },
            "type": "scatterpolar"
           }
          ],
          "scatterpolargl": [
           {
            "marker": {
             "colorbar": {
              "outlinewidth": 0,
              "ticks": ""
             }
            },
            "type": "scatterpolargl"
           }
          ],
          "scatterternary": [
           {
            "marker": {
             "colorbar": {
              "outlinewidth": 0,
              "ticks": ""
             }
            },
            "type": "scatterternary"
           }
          ],
          "surface": [
           {
            "colorbar": {
             "outlinewidth": 0,
             "ticks": ""
            },
            "colorscale": [
             [
              0,
              "#0d0887"
             ],
             [
              0.1111111111111111,
              "#46039f"
             ],
             [
              0.2222222222222222,
              "#7201a8"
             ],
             [
              0.3333333333333333,
              "#9c179e"
             ],
             [
              0.4444444444444444,
              "#bd3786"
             ],
             [
              0.5555555555555556,
              "#d8576b"
             ],
             [
              0.6666666666666666,
              "#ed7953"
             ],
             [
              0.7777777777777778,
              "#fb9f3a"
             ],
             [
              0.8888888888888888,
              "#fdca26"
             ],
             [
              1,
              "#f0f921"
             ]
            ],
            "type": "surface"
           }
          ],
          "table": [
           {
            "cells": {
             "fill": {
              "color": "#EBF0F8"
             },
             "line": {
              "color": "white"
             }
            },
            "header": {
             "fill": {
              "color": "#C8D4E3"
             },
             "line": {
              "color": "white"
             }
            },
            "type": "table"
           }
          ]
         },
         "layout": {
          "annotationdefaults": {
           "arrowcolor": "#2a3f5f",
           "arrowhead": 0,
           "arrowwidth": 1
          },
          "autotypenumbers": "strict",
          "coloraxis": {
           "colorbar": {
            "outlinewidth": 0,
            "ticks": ""
           }
          },
          "colorscale": {
           "diverging": [
            [
             0,
             "#8e0152"
            ],
            [
             0.1,
             "#c51b7d"
            ],
            [
             0.2,
             "#de77ae"
            ],
            [
             0.3,
             "#f1b6da"
            ],
            [
             0.4,
             "#fde0ef"
            ],
            [
             0.5,
             "#f7f7f7"
            ],
            [
             0.6,
             "#e6f5d0"
            ],
            [
             0.7,
             "#b8e186"
            ],
            [
             0.8,
             "#7fbc41"
            ],
            [
             0.9,
             "#4d9221"
            ],
            [
             1,
             "#276419"
            ]
           ],
           "sequential": [
            [
             0,
             "#0d0887"
            ],
            [
             0.1111111111111111,
             "#46039f"
            ],
            [
             0.2222222222222222,
             "#7201a8"
            ],
            [
             0.3333333333333333,
             "#9c179e"
            ],
            [
             0.4444444444444444,
             "#bd3786"
            ],
            [
             0.5555555555555556,
             "#d8576b"
            ],
            [
             0.6666666666666666,
             "#ed7953"
            ],
            [
             0.7777777777777778,
             "#fb9f3a"
            ],
            [
             0.8888888888888888,
             "#fdca26"
            ],
            [
             1,
             "#f0f921"
            ]
           ],
           "sequentialminus": [
            [
             0,
             "#0d0887"
            ],
            [
             0.1111111111111111,
             "#46039f"
            ],
            [
             0.2222222222222222,
             "#7201a8"
            ],
            [
             0.3333333333333333,
             "#9c179e"
            ],
            [
             0.4444444444444444,
             "#bd3786"
            ],
            [
             0.5555555555555556,
             "#d8576b"
            ],
            [
             0.6666666666666666,
             "#ed7953"
            ],
            [
             0.7777777777777778,
             "#fb9f3a"
            ],
            [
             0.8888888888888888,
             "#fdca26"
            ],
            [
             1,
             "#f0f921"
            ]
           ]
          },
          "colorway": [
           "#636efa",
           "#EF553B",
           "#00cc96",
           "#ab63fa",
           "#FFA15A",
           "#19d3f3",
           "#FF6692",
           "#B6E880",
           "#FF97FF",
           "#FECB52"
          ],
          "font": {
           "color": "#2a3f5f"
          },
          "geo": {
           "bgcolor": "white",
           "lakecolor": "white",
           "landcolor": "#E5ECF6",
           "showlakes": true,
           "showland": true,
           "subunitcolor": "white"
          },
          "hoverlabel": {
           "align": "left"
          },
          "hovermode": "closest",
          "mapbox": {
           "style": "light"
          },
          "paper_bgcolor": "white",
          "plot_bgcolor": "#E5ECF6",
          "polar": {
           "angularaxis": {
            "gridcolor": "white",
            "linecolor": "white",
            "ticks": ""
           },
           "bgcolor": "#E5ECF6",
           "radialaxis": {
            "gridcolor": "white",
            "linecolor": "white",
            "ticks": ""
           }
          },
          "scene": {
           "xaxis": {
            "backgroundcolor": "#E5ECF6",
            "gridcolor": "white",
            "gridwidth": 2,
            "linecolor": "white",
            "showbackground": true,
            "ticks": "",
            "zerolinecolor": "white"
           },
           "yaxis": {
            "backgroundcolor": "#E5ECF6",
            "gridcolor": "white",
            "gridwidth": 2,
            "linecolor": "white",
            "showbackground": true,
            "ticks": "",
            "zerolinecolor": "white"
           },
           "zaxis": {
            "backgroundcolor": "#E5ECF6",
            "gridcolor": "white",
            "gridwidth": 2,
            "linecolor": "white",
            "showbackground": true,
            "ticks": "",
            "zerolinecolor": "white"
           }
          },
          "shapedefaults": {
           "line": {
            "color": "#2a3f5f"
           }
          },
          "ternary": {
           "aaxis": {
            "gridcolor": "white",
            "linecolor": "white",
            "ticks": ""
           },
           "baxis": {
            "gridcolor": "white",
            "linecolor": "white",
            "ticks": ""
           },
           "bgcolor": "#E5ECF6",
           "caxis": {
            "gridcolor": "white",
            "linecolor": "white",
            "ticks": ""
           }
          },
          "title": {
           "x": 0.05
          },
          "xaxis": {
           "automargin": true,
           "gridcolor": "white",
           "linecolor": "white",
           "ticks": "",
           "title": {
            "standoff": 15
           },
           "zerolinecolor": "white",
           "zerolinewidth": 2
          },
          "yaxis": {
           "automargin": true,
           "gridcolor": "white",
           "linecolor": "white",
           "ticks": "",
           "title": {
            "standoff": 15
           },
           "zerolinecolor": "white",
           "zerolinewidth": 2
          }
         }
        },
        "xaxis": {
         "anchor": "y",
         "constrain": "domain",
         "domain": [
          0,
          1
         ],
         "scaleanchor": "y",
         "tickfont": {
          "size": 15
         },
         "title": {
          "text": "Layer/Head"
         }
        },
        "yaxis": {
         "anchor": "x",
         "autorange": "reversed",
         "constrain": "domain",
         "domain": [
          0,
          1
         ],
         "title": {
          "text": "Position"
         }
        }
       }
      }
     },
     "metadata": {},
     "output_type": "display_data"
    },
    {
     "data": {
      "text/plain": [
       "'./interp_results/20/logit_lens/combined_mean_absolute_error.png'"
      ]
     },
     "execution_count": 5,
     "metadata": {},
     "output_type": "execute_result"
    }
   ],
   "source": [
    "def metric(y, x):\n",
    "    return np.mean(abs(x - y))\n",
    "\n",
    "plot_metric(\n",
    "    labels=labels,\n",
    "    lens_results=logit_lens_results,\n",
    "    metric=metric,\n",
    "    metric_label=\"Mean Absolute Error\",\n",
    "    is_categorical=case.is_categorical(),\n",
    "    nodes_in_circuit= [],\n",
    "    abs_corr=True,\n",
    "    tuned_lens=tuned_lens,\n",
    "    case_name=case_name,\n",
    "    show=True\n",
    ")"
   ]
  },
  {
   "cell_type": "code",
   "execution_count": null,
   "metadata": {},
   "outputs": [
    {
     "data": {
      "text/plain": [
       "dict_keys(['embed', 'pos_embed', '0_mlp_out(IC)', '1_mlp_out', 'L0H0', 'L0H1', 'L0H2', 'L0H3', 'L1H0(IC)', 'L1H1', 'L1H2', 'L1H3'])"
      ]
     },
     "execution_count": 34,
     "metadata": {},
     "output_type": "execute_result"
    }
   ],
   "source": [
    "logit_lens_results.keys()"
   ]
  },
  {
   "cell_type": "code",
   "execution_count": 13,
   "metadata": {},
   "outputs": [
    {
     "data": {
      "application/vnd.plotly.v1+json": {
       "config": {
        "plotlyServerURL": "https://plot.ly"
       },
       "data": [
        {
         "mode": "markers",
         "name": "pos 0, corr: 1.00, p-value: 0.00",
         "type": "scatter",
         "x": [
          0.7416374683380127,
          -0.28726139664649963,
          -0.28822603821754456,
          0.7416374683380127,
          -0.28822603821754456,
          -0.28845012187957764,
          0.7416374683380127,
          -0.28845012187957764,
          -0.28726139664649963,
          -0.28726139664649963,
          -0.28845012187957764,
          0.7416374683380127,
          0.7416374683380127,
          0.7416374683380127,
          -0.28845012187957764,
          -0.28822603821754456,
          0.7416374683380127,
          -0.28726139664649963,
          -0.28822603821754456,
          -0.28726139664649963,
          0.7416374683380127,
          -0.28726139664649963,
          -0.28822603821754456,
          -0.28845012187957764,
          -0.28726139664649963,
          -0.28822603821754456,
          0.7416374683380127,
          0.7416374683380127,
          -0.28726139664649963,
          -0.28845012187957764,
          -0.28845012187957764,
          -0.28822603821754456,
          -0.28845012187957764,
          -0.28845012187957764,
          0.7416374683380127,
          -0.28726139664649963,
          -0.28822603821754456,
          -0.28726139664649963,
          -0.28822603821754456,
          -0.28845012187957764,
          0.7416374683380127,
          -0.28845012187957764,
          0.7416374683380127,
          -0.28845012187957764,
          -0.28726139664649963,
          -0.28822603821754456,
          -0.28726139664649963,
          -0.28822603821754456,
          0.7416374683380127,
          0.7416374683380127,
          -0.28845012187957764,
          -0.28726139664649963,
          -0.28845012187957764,
          -0.28822603821754456,
          -0.28726139664649963,
          0.7416374683380127,
          -0.28822603821754456,
          -0.28845012187957764,
          -0.28822603821754456,
          -0.28726139664649963,
          -0.28822603821754456,
          -0.28845012187957764,
          0.7416374683380127,
          -0.28822603821754456,
          0.7416374683380127,
          -0.28845012187957764,
          -0.28822603821754456,
          -0.28845012187957764,
          -0.28822603821754456,
          -0.28822603821754456,
          -0.28845012187957764,
          -0.28822603821754456,
          -0.28845012187957764,
          -0.28822603821754456,
          -0.28822603821754456,
          0.7416374683380127,
          -0.28822603821754456,
          0.7416374683380127,
          -0.28822603821754456,
          -0.28726139664649963,
          -0.28845012187957764,
          -0.28822603821754456,
          -0.28822603821754456,
          -0.28726139664649963,
          -0.28726139664649963,
          -0.28845012187957764,
          -0.28845012187957764,
          -0.28845012187957764,
          -0.28822603821754456,
          -0.28845012187957764,
          -0.28822603821754456,
          0.7416374683380127,
          0.7416374683380127,
          -0.28726139664649963,
          -0.28726139664649963,
          -0.28726139664649963,
          -0.28726139664649963,
          -0.28726139664649963,
          -0.28822603821754456,
          -0.28726139664649963,
          -0.28822603821754456,
          -0.28822603821754456,
          -0.28845012187957764,
          0.7416374683380127,
          -0.28726139664649963,
          0.7416374683380127,
          -0.28822603821754456,
          -0.28845012187957764,
          0.7416374683380127,
          -0.28822603821754456,
          -0.28726139664649963,
          -0.28822603821754456,
          -0.28845012187957764,
          -0.28822603821754456,
          -0.28845012187957764,
          -0.28726139664649963,
          0.7416374683380127,
          -0.28845012187957764,
          -0.28822603821754456,
          0.7416374683380127,
          -0.28845012187957764,
          -0.28726139664649963,
          -0.28726139664649963,
          -0.28822603821754456,
          -0.28726139664649963,
          -0.28822603821754456,
          0.7416374683380127,
          -0.28845012187957764,
          -0.28845012187957764,
          0.7416374683380127,
          -0.28822603821754456,
          -0.28726139664649963,
          -0.28726139664649963,
          0.7416374683380127,
          -0.28845012187957764,
          -0.28726139664649963,
          0.7416374683380127,
          0.7416374683380127,
          -0.28726139664649963,
          0.7416374683380127,
          -0.28726139664649963,
          -0.28822603821754456,
          -0.28726139664649963,
          -0.28845012187957764,
          -0.28845012187957764,
          -0.28845012187957764,
          -0.28726139664649963,
          -0.28845012187957764,
          -0.28845012187957764,
          0.7416374683380127,
          0.7416374683380127,
          -0.28822603821754456,
          0.7416374683380127,
          -0.28822603821754456,
          -0.28726139664649963,
          -0.28845012187957764,
          -0.28845012187957764,
          -0.28726139664649963,
          -0.28822603821754456,
          -0.28845012187957764,
          -0.28726139664649963,
          0.7416374683380127,
          0.7416374683380127,
          -0.28822603821754456,
          -0.28726139664649963,
          0.7416374683380127,
          -0.28726139664649963,
          -0.28822603821754456,
          0.7416374683380127,
          -0.28845012187957764,
          -0.28726139664649963,
          -0.28845012187957764,
          -0.28845012187957764,
          -0.28726139664649963,
          -0.28822603821754456,
          -0.28726139664649963,
          -0.28845012187957764,
          0.7416374683380127,
          0.7416374683380127,
          0.7416374683380127,
          -0.28726139664649963,
          -0.28845012187957764,
          -0.28822603821754456,
          -0.28726139664649963,
          0.7416374683380127,
          -0.28726139664649963,
          -0.28845012187957764,
          0.7416374683380127,
          -0.28822603821754456,
          -0.28822603821754456,
          -0.28822603821754456,
          0.7416374683380127,
          0.7416374683380127,
          -0.28822603821754456,
          -0.28726139664649963,
          -0.28726139664649963,
          -0.28726139664649963,
          0.7416374683380127,
          -0.28845012187957764,
          -0.28726139664649963,
          -0.28845012187957764,
          -0.28822603821754456,
          0.7416374683380127,
          -0.28845012187957764,
          0.7416374683380127,
          0.7416374683380127,
          -0.28726139664649963,
          -0.28726139664649963,
          -0.28822603821754456,
          -0.28726139664649963,
          0.7416374683380127,
          -0.28845012187957764,
          0.7416374683380127,
          -0.28845012187957764,
          0.7416374683380127,
          0.7416374683380127,
          0.7416374683380127,
          -0.28845012187957764,
          -0.28726139664649963,
          0.7416374683380127,
          -0.28726139664649963,
          -0.28822603821754456,
          -0.28726139664649963,
          -0.28726139664649963,
          0.7416374683380127,
          -0.28845012187957764,
          0.7416374683380127,
          -0.28845012187957764,
          -0.28845012187957764,
          -0.28845012187957764,
          -0.28726139664649963,
          -0.28845012187957764,
          0.7416374683380127,
          -0.28726139664649963,
          -0.28726139664649963,
          -0.28845012187957764,
          -0.28845012187957764,
          -0.28845012187957764,
          -0.28822603821754456,
          -0.28822603821754456,
          -0.28822603821754456,
          -0.28822603821754456,
          0.7416374683380127,
          -0.28822603821754456,
          0.7416374683380127,
          0.7416374683380127,
          -0.28822603821754456,
          0.7416374683380127,
          -0.28726139664649963,
          -0.28845012187957764,
          -0.28822603821754456,
          -0.28822603821754456,
          -0.28726139664649963,
          -0.28822603821754456,
          -0.28845012187957764,
          -0.28822603821754456
         ],
         "y": [
          1.0070081949234009,
          -0.00012375414371490479,
          -0.0003335997462272644,
          1.0070081949234009,
          -0.0003335997462272644,
          0.00022923201322555542,
          1.0070081949234009,
          0.00022923201322555542,
          -0.00012375414371490479,
          -0.00012375414371490479,
          0.00022923201322555542,
          1.0070081949234009,
          1.0070081949234009,
          1.0070081949234009,
          0.00022923201322555542,
          -0.0003335997462272644,
          1.0070081949234009,
          -0.00012375414371490479,
          -0.0003335997462272644,
          -0.00012375414371490479,
          1.0070081949234009,
          -0.00012375414371490479,
          -0.0003335997462272644,
          0.00022923201322555542,
          -0.00012375414371490479,
          -0.0003335997462272644,
          1.0070081949234009,
          1.0070081949234009,
          -0.00012375414371490479,
          0.00022923201322555542,
          0.00022923201322555542,
          -0.0003335997462272644,
          0.00022923201322555542,
          0.00022923201322555542,
          1.0070081949234009,
          -0.00012375414371490479,
          -0.0003335997462272644,
          -0.00012375414371490479,
          -0.0003335997462272644,
          0.00022923201322555542,
          1.0070081949234009,
          0.00022923201322555542,
          1.0070081949234009,
          0.00022923201322555542,
          -0.00012375414371490479,
          -0.0003335997462272644,
          -0.00012375414371490479,
          -0.0003335997462272644,
          1.0070081949234009,
          1.0070081949234009,
          0.00022923201322555542,
          -0.00012375414371490479,
          0.00022923201322555542,
          -0.0003335997462272644,
          -0.00012375414371490479,
          1.0070081949234009,
          -0.0003335997462272644,
          0.00022923201322555542,
          -0.0003335997462272644,
          -0.00012375414371490479,
          -0.0003335997462272644,
          0.00022923201322555542,
          1.0070081949234009,
          -0.0003335997462272644,
          1.0070081949234009,
          0.00022923201322555542,
          -0.0003335997462272644,
          0.00022923201322555542,
          -0.0003335997462272644,
          -0.0003335997462272644,
          0.00022923201322555542,
          -0.0003335997462272644,
          0.00022923201322555542,
          -0.0003335997462272644,
          -0.0003335997462272644,
          1.0070081949234009,
          -0.0003335997462272644,
          1.0070081949234009,
          -0.0003335997462272644,
          -0.00012375414371490479,
          0.00022923201322555542,
          -0.0003335997462272644,
          -0.0003335997462272644,
          -0.00012375414371490479,
          -0.00012375414371490479,
          0.00022923201322555542,
          0.00022923201322555542,
          0.00022923201322555542,
          -0.0003335997462272644,
          0.00022923201322555542,
          -0.0003335997462272644,
          1.0070081949234009,
          1.0070081949234009,
          -0.00012375414371490479,
          -0.00012375414371490479,
          -0.00012375414371490479,
          -0.00012375414371490479,
          -0.00012375414371490479,
          -0.0003335997462272644,
          -0.00012375414371490479,
          -0.0003335997462272644,
          -0.0003335997462272644,
          0.00022923201322555542,
          1.0070081949234009,
          -0.00012375414371490479,
          1.0070081949234009,
          -0.0003335997462272644,
          0.00022923201322555542,
          1.0070081949234009,
          -0.0003335997462272644,
          -0.00012375414371490479,
          -0.0003335997462272644,
          0.00022923201322555542,
          -0.0003335997462272644,
          0.00022923201322555542,
          -0.00012375414371490479,
          1.0070081949234009,
          0.00022923201322555542,
          -0.0003335997462272644,
          1.0070081949234009,
          0.00022923201322555542,
          -0.00012375414371490479,
          -0.00012375414371490479,
          -0.0003335997462272644,
          -0.00012375414371490479,
          -0.0003335997462272644,
          1.0070081949234009,
          0.00022923201322555542,
          0.00022923201322555542,
          1.0070081949234009,
          -0.0003335997462272644,
          -0.00012375414371490479,
          -0.00012375414371490479,
          1.0070081949234009,
          0.00022923201322555542,
          -0.00012375414371490479,
          1.0070081949234009,
          1.0070081949234009,
          -0.00012375414371490479,
          1.0070081949234009,
          -0.00012375414371490479,
          -0.0003335997462272644,
          -0.00012375414371490479,
          0.00022923201322555542,
          0.00022923201322555542,
          0.00022923201322555542,
          -0.00012375414371490479,
          0.00022923201322555542,
          0.00022923201322555542,
          1.0070081949234009,
          1.0070081949234009,
          -0.0003335997462272644,
          1.0070081949234009,
          -0.0003335997462272644,
          -0.00012375414371490479,
          0.00022923201322555542,
          0.00022923201322555542,
          -0.00012375414371490479,
          -0.0003335997462272644,
          0.00022923201322555542,
          -0.00012375414371490479,
          1.0070081949234009,
          1.0070081949234009,
          -0.0003335997462272644,
          -0.00012375414371490479,
          1.0070081949234009,
          -0.00012375414371490479,
          -0.0003335997462272644,
          1.0070081949234009,
          0.00022923201322555542,
          -0.00012375414371490479,
          0.00022923201322555542,
          0.00022923201322555542,
          -0.00012375414371490479,
          -0.0003335997462272644,
          -0.00012375414371490479,
          0.00022923201322555542,
          1.0070081949234009,
          1.0070081949234009,
          1.0070081949234009,
          -0.00012375414371490479,
          0.00022923201322555542,
          -0.0003335997462272644,
          -0.00012375414371490479,
          1.0070081949234009,
          -0.00012375414371490479,
          0.00022923201322555542,
          1.0070081949234009,
          -0.0003335997462272644,
          -0.0003335997462272644,
          -0.0003335997462272644,
          1.0070081949234009,
          1.0070081949234009,
          -0.0003335997462272644,
          -0.00012375414371490479,
          -0.00012375414371490479,
          -0.00012375414371490479,
          1.0070081949234009,
          0.00022923201322555542,
          -0.00012375414371490479,
          0.00022923201322555542,
          -0.0003335997462272644,
          1.0070081949234009,
          0.00022923201322555542,
          1.0070081949234009,
          1.0070081949234009,
          -0.00012375414371490479,
          -0.00012375414371490479,
          -0.0003335997462272644,
          -0.00012375414371490479,
          1.0070081949234009,
          0.00022923201322555542,
          1.0070081949234009,
          0.00022923201322555542,
          1.0070081949234009,
          1.0070081949234009,
          1.0070081949234009,
          0.00022923201322555542,
          -0.00012375414371490479,
          1.0070081949234009,
          -0.00012375414371490479,
          -0.0003335997462272644,
          -0.00012375414371490479,
          -0.00012375414371490479,
          1.0070081949234009,
          0.00022923201322555542,
          1.0070081949234009,
          0.00022923201322555542,
          0.00022923201322555542,
          0.00022923201322555542,
          -0.00012375414371490479,
          0.00022923201322555542,
          1.0070081949234009,
          -0.00012375414371490479,
          -0.00012375414371490479,
          0.00022923201322555542,
          0.00022923201322555542,
          0.00022923201322555542,
          -0.0003335997462272644,
          -0.0003335997462272644,
          -0.0003335997462272644,
          -0.0003335997462272644,
          1.0070081949234009,
          -0.0003335997462272644,
          1.0070081949234009,
          1.0070081949234009,
          -0.0003335997462272644,
          1.0070081949234009,
          -0.00012375414371490479,
          0.00022923201322555542,
          -0.0003335997462272644,
          -0.0003335997462272644,
          -0.00012375414371490479,
          -0.0003335997462272644,
          0.00022923201322555542,
          -0.0003335997462272644
         ]
        },
        {
         "mode": "markers",
         "name": "pos 1, corr: 1.00, p-value: 0.00",
         "type": "scatter",
         "x": [
          0.19557693600654602,
          -0.3121127188205719,
          -0.3128032088279724,
          0.19507424533367157,
          0.20239655673503876,
          0.2053542584180832,
          0.7072677612304688,
          -0.3125392198562622,
          -0.3121127188205719,
          -0.31121382117271423,
          0.2053542584180832,
          0.1940036416053772,
          0.19557693600654602,
          0.1940036416053772,
          -0.3133660554885864,
          -0.3128032088279724,
          0.19507424533367157,
          -0.3121127188205719,
          -0.31200945377349854,
          -0.31121382117271423,
          0.19557693600654602,
          -0.31121382117271423,
          0.20239655673503876,
          -0.3123916983604431,
          -0.31130197644233704,
          0.20239655673503876,
          0.7072677612304688,
          0.1940036416053772,
          -0.3121127188205719,
          -0.3125392198562622,
          0.2053542584180832,
          -0.31200945377349854,
          -0.3123916983604431,
          0.2053542584180832,
          0.1940036416053772,
          -0.31121382117271423,
          -0.3119356334209442,
          -0.31121382117271423,
          -0.3128032088279724,
          -0.3133660554885864,
          0.19507424533367157,
          0.2053542584180832,
          0.19557693600654602,
          0.2053542584180832,
          -0.31130197644233704,
          -0.3128032088279724,
          -0.31121382117271423,
          -0.3128032088279724,
          0.1940036416053772,
          0.19507424533367157,
          0.2053542584180832,
          -0.31130197644233704,
          -0.3133660554885864,
          -0.3119356334209442,
          0.20344188809394836,
          0.1940036416053772,
          -0.31200945377349854,
          -0.3133660554885864,
          0.20239655673503876,
          0.20344188809394836,
          -0.31200945377349854,
          -0.3125392198562622,
          0.7072677612304688,
          0.20239655673503876,
          0.19557693600654602,
          -0.3123916983604431,
          -0.31200945377349854,
          0.2053542584180832,
          -0.3128032088279724,
          0.20239655673503876,
          -0.3123916983604431,
          -0.3128032088279724,
          -0.3133660554885864,
          -0.31200945377349854,
          0.20239655673503876,
          0.7072677612304688,
          0.20239655673503876,
          0.7072677612304688,
          -0.3119356334209442,
          -0.31121382117271423,
          -0.3125392198562622,
          -0.3119356334209442,
          -0.31200945377349854,
          -0.3121127188205719,
          0.20344188809394836,
          -0.3133660554885864,
          -0.3123916983604431,
          -0.3125392198562622,
          -0.3128032088279724,
          0.2053542584180832,
          -0.3119356334209442,
          0.1940036416053772,
          0.19557693600654602,
          -0.31121382117271423,
          -0.3121127188205719,
          -0.31130197644233704,
          -0.31121382117271423,
          -0.31130197644233704,
          0.20239655673503876,
          -0.31121382117271423,
          0.20239655673503876,
          -0.3119356334209442,
          -0.3125392198562622,
          0.7072677612304688,
          0.20344188809394836,
          0.7072677612304688,
          -0.3119356334209442,
          -0.3123916983604431,
          0.19507424533367157,
          -0.3128032088279724,
          -0.31130197644233704,
          0.20239655673503876,
          -0.3123916983604431,
          -0.3128032088279724,
          -0.3123916983604431,
          -0.31121382117271423,
          0.7072677612304688,
          -0.3125392198562622,
          0.20239655673503876,
          0.19507424533367157,
          -0.3133660554885864,
          -0.3121127188205719,
          -0.3121127188205719,
          -0.3128032088279724,
          -0.31130197644233704,
          -0.31200945377349854,
          0.19507424533367157,
          -0.3123916983604431,
          0.2053542584180832,
          0.7072677612304688,
          -0.31200945377349854,
          -0.31130197644233704,
          0.20344188809394836,
          0.19507424533367157,
          -0.3133660554885864,
          -0.3121127188205719,
          0.7072677612304688,
          0.19557693600654602,
          -0.31121382117271423,
          0.19557693600654602,
          -0.3121127188205719,
          0.20239655673503876,
          -0.31130197644233704,
          -0.3123916983604431,
          0.2053542584180832,
          -0.3133660554885864,
          0.20344188809394836,
          -0.3133660554885864,
          -0.3133660554885864,
          0.19557693600654602,
          0.19507424533367157,
          -0.3128032088279724,
          0.19507424533367157,
          -0.3128032088279724,
          -0.31130197644233704,
          -0.3125392198562622,
          -0.3123916983604431,
          -0.31130197644233704,
          0.20239655673503876,
          -0.3123916983604431,
          -0.31121382117271423,
          0.19507424533367157,
          0.7072677612304688,
          -0.3119356334209442,
          -0.31130197644233704,
          0.7072677612304688,
          -0.31130197644233704,
          -0.3119356334209442,
          0.19507424533367157,
          -0.3125392198562622,
          -0.31130197644233704,
          -0.3123916983604431,
          -0.3125392198562622,
          -0.3121127188205719,
          -0.31200945377349854,
          0.20344188809394836,
          -0.3133660554885864,
          0.19557693600654602,
          0.19507424533367157,
          0.19557693600654602,
          0.20344188809394836,
          -0.3125392198562622,
          -0.3119356334209442,
          -0.31130197644233704,
          0.1940036416053772,
          -0.3121127188205719,
          -0.3125392198562622,
          0.1940036416053772,
          -0.31200945377349854,
          -0.3119356334209442,
          -0.3119356334209442,
          0.19557693600654602,
          0.19557693600654602,
          -0.3119356334209442,
          -0.3121127188205719,
          -0.3121127188205719,
          0.20344188809394836,
          0.1940036416053772,
          -0.3133660554885864,
          -0.31121382117271423,
          -0.3125392198562622,
          -0.3128032088279724,
          0.19557693600654602,
          -0.3133660554885864,
          0.1940036416053772,
          0.19557693600654602,
          0.20344188809394836,
          0.20344188809394836,
          -0.31200945377349854,
          0.20344188809394836,
          0.1940036416053772,
          -0.3125392198562622,
          0.1940036416053772,
          0.2053542584180832,
          0.7072677612304688,
          0.19507424533367157,
          0.19557693600654602,
          -0.3125392198562622,
          0.20344188809394836,
          0.1940036416053772,
          0.20344188809394836,
          -0.3119356334209442,
          -0.31121382117271423,
          0.20344188809394836,
          0.19507424533367157,
          -0.3125392198562622,
          0.7072677612304688,
          0.2053542584180832,
          0.2053542584180832,
          -0.3133660554885864,
          -0.31130197644233704,
          -0.3123916983604431,
          0.7072677612304688,
          -0.3121127188205719,
          0.20344188809394836,
          -0.3123916983604431,
          -0.3133660554885864,
          -0.3123916983604431,
          -0.31200945377349854,
          -0.31200945377349854,
          0.20239655673503876,
          -0.3119356334209442,
          0.19507424533367157,
          -0.3128032088279724,
          0.1940036416053772,
          0.1940036416053772,
          0.20239655673503876,
          0.7072677612304688,
          -0.31121382117271423,
          0.2053542584180832,
          -0.3128032088279724,
          -0.31200945377349854,
          -0.3121127188205719,
          -0.3119356334209442,
          0.2053542584180832,
          -0.31200945377349854
         ],
         "y": [
          0.5110741257667542,
          -0.0013264939188957214,
          -0.0013271644711494446,
          0.5106647610664368,
          0.5130897760391235,
          0.5158885717391968,
          1.0025819540023804,
          -0.001112617552280426,
          -0.0013264939188957214,
          -0.00136508047580719,
          0.5158885717391968,
          0.5100078582763672,
          0.5110741257667542,
          0.5100078582763672,
          -0.0016550496220588684,
          -0.0013271644711494446,
          0.5106647610664368,
          -0.0013264939188957214,
          -0.0007897093892097473,
          -0.00136508047580719,
          0.5110741257667542,
          -0.00136508047580719,
          0.5130897760391235,
          -0.0016919299960136414,
          -0.0007904022932052612,
          0.5130897760391235,
          1.0025819540023804,
          0.5100078582763672,
          -0.0013264939188957214,
          -0.001112617552280426,
          0.5158885717391968,
          -0.0007897093892097473,
          -0.0016919299960136414,
          0.5158885717391968,
          0.5100078582763672,
          -0.00136508047580719,
          -0.0013682693243026733,
          -0.00136508047580719,
          -0.0013271644711494446,
          -0.0016550496220588684,
          0.5106647610664368,
          0.5158885717391968,
          0.5110741257667542,
          0.5158885717391968,
          -0.0007904022932052612,
          -0.0013271644711494446,
          -0.00136508047580719,
          -0.0013271644711494446,
          0.5100078582763672,
          0.5106647610664368,
          0.5158885717391968,
          -0.0007904022932052612,
          -0.0016550496220588684,
          -0.0013682693243026733,
          0.5134320259094238,
          0.5100078582763672,
          -0.0007897093892097473,
          -0.0016550496220588684,
          0.5130897760391235,
          0.5134320259094238,
          -0.0007897093892097473,
          -0.001112617552280426,
          1.0025819540023804,
          0.5130897760391235,
          0.5110741257667542,
          -0.0016919299960136414,
          -0.0007897093892097473,
          0.5158885717391968,
          -0.0013271644711494446,
          0.5130897760391235,
          -0.0016919299960136414,
          -0.0013271644711494446,
          -0.0016550496220588684,
          -0.0007897093892097473,
          0.5130897760391235,
          1.0025819540023804,
          0.5130897760391235,
          1.0025819540023804,
          -0.0013682693243026733,
          -0.00136508047580719,
          -0.001112617552280426,
          -0.0013682693243026733,
          -0.0007897093892097473,
          -0.0013264939188957214,
          0.5134320259094238,
          -0.0016550496220588684,
          -0.0016919299960136414,
          -0.001112617552280426,
          -0.0013271644711494446,
          0.5158885717391968,
          -0.0013682693243026733,
          0.5100078582763672,
          0.5110741257667542,
          -0.00136508047580719,
          -0.0013264939188957214,
          -0.0007904022932052612,
          -0.00136508047580719,
          -0.0007904022932052612,
          0.5130897760391235,
          -0.00136508047580719,
          0.5130897760391235,
          -0.0013682693243026733,
          -0.001112617552280426,
          1.0025819540023804,
          0.5134320259094238,
          1.0025819540023804,
          -0.0013682693243026733,
          -0.0016919299960136414,
          0.5106647610664368,
          -0.0013271644711494446,
          -0.0007904022932052612,
          0.5130897760391235,
          -0.0016919299960136414,
          -0.0013271644711494446,
          -0.0016919299960136414,
          -0.00136508047580719,
          1.0025819540023804,
          -0.001112617552280426,
          0.5130897760391235,
          0.5106647610664368,
          -0.0016550496220588684,
          -0.0013264939188957214,
          -0.0013264939188957214,
          -0.0013271644711494446,
          -0.0007904022932052612,
          -0.0007897093892097473,
          0.5106647610664368,
          -0.0016919299960136414,
          0.5158885717391968,
          1.0025819540023804,
          -0.0007897093892097473,
          -0.0007904022932052612,
          0.5134320259094238,
          0.5106647610664368,
          -0.0016550496220588684,
          -0.0013264939188957214,
          1.0025819540023804,
          0.5110741257667542,
          -0.00136508047580719,
          0.5110741257667542,
          -0.0013264939188957214,
          0.5130897760391235,
          -0.0007904022932052612,
          -0.0016919299960136414,
          0.5158885717391968,
          -0.0016550496220588684,
          0.5134320259094238,
          -0.0016550496220588684,
          -0.0016550496220588684,
          0.5110741257667542,
          0.5106647610664368,
          -0.0013271644711494446,
          0.5106647610664368,
          -0.0013271644711494446,
          -0.0007904022932052612,
          -0.001112617552280426,
          -0.0016919299960136414,
          -0.0007904022932052612,
          0.5130897760391235,
          -0.0016919299960136414,
          -0.00136508047580719,
          0.5106647610664368,
          1.0025819540023804,
          -0.0013682693243026733,
          -0.0007904022932052612,
          1.0025819540023804,
          -0.0007904022932052612,
          -0.0013682693243026733,
          0.5106647610664368,
          -0.001112617552280426,
          -0.0007904022932052612,
          -0.0016919299960136414,
          -0.001112617552280426,
          -0.0013264939188957214,
          -0.0007897093892097473,
          0.5134320259094238,
          -0.0016550496220588684,
          0.5110741257667542,
          0.5106647610664368,
          0.5110741257667542,
          0.5134320259094238,
          -0.001112617552280426,
          -0.0013682693243026733,
          -0.0007904022932052612,
          0.5100078582763672,
          -0.0013264939188957214,
          -0.001112617552280426,
          0.5100078582763672,
          -0.0007897093892097473,
          -0.0013682693243026733,
          -0.0013682693243026733,
          0.5110741257667542,
          0.5110741257667542,
          -0.0013682693243026733,
          -0.0013264939188957214,
          -0.0013264939188957214,
          0.5134320259094238,
          0.5100078582763672,
          -0.0016550496220588684,
          -0.00136508047580719,
          -0.001112617552280426,
          -0.0013271644711494446,
          0.5110741257667542,
          -0.0016550496220588684,
          0.5100078582763672,
          0.5110741257667542,
          0.5134320259094238,
          0.5134320259094238,
          -0.0007897093892097473,
          0.5134320259094238,
          0.5100078582763672,
          -0.001112617552280426,
          0.5100078582763672,
          0.5158885717391968,
          1.0025819540023804,
          0.5106647610664368,
          0.5110741257667542,
          -0.001112617552280426,
          0.5134320259094238,
          0.5100078582763672,
          0.5134320259094238,
          -0.0013682693243026733,
          -0.00136508047580719,
          0.5134320259094238,
          0.5106647610664368,
          -0.001112617552280426,
          1.0025819540023804,
          0.5158885717391968,
          0.5158885717391968,
          -0.0016550496220588684,
          -0.0007904022932052612,
          -0.0016919299960136414,
          1.0025819540023804,
          -0.0013264939188957214,
          0.5134320259094238,
          -0.0016919299960136414,
          -0.0016550496220588684,
          -0.0016919299960136414,
          -0.0007897093892097473,
          -0.0007897093892097473,
          0.5130897760391235,
          -0.0013682693243026733,
          0.5106647610664368,
          -0.0013271644711494446,
          0.5100078582763672,
          0.5100078582763672,
          0.5130897760391235,
          1.0025819540023804,
          -0.00136508047580719,
          0.5158885717391968,
          -0.0013271644711494446,
          -0.0007897093892097473,
          -0.0013264939188957214,
          -0.0013682693243026733,
          0.5158885717391968,
          -0.0007897093892097473
         ]
        },
        {
         "mode": "markers",
         "name": "pos 2, corr: 1.00, p-value: 0.00",
         "type": "scatter",
         "x": [
          0.008272136561572552,
          -0.334561288356781,
          0.00720690144225955,
          0.3399343192577362,
          0.006038016173988581,
          0.008618602529168129,
          0.3416088819503784,
          -0.3359307050704956,
          -0.3334299921989441,
          0.007784347515553236,
          0.007216771598905325,
          0.34008389711380005,
          0.008272136561572552,
          0.008890647441148758,
          -0.33424806594848633,
          -0.334931343793869,
          0.007629883475601673,
          0.007694630417972803,
          -0.3353630602359772,
          -0.33330848813056946,
          0.009563334286212921,
          -0.3342473804950714,
          0.007448379881680012,
          -0.3340851664543152,
          -0.334991455078125,
          0.3454839587211609,
          0.6833336353302002,
          0.008650736883282661,
          -0.3334299921989441,
          -0.3359307050704956,
          0.008618602529168129,
          -0.3353630602359772,
          -0.3352031707763672,
          0.34787482023239136,
          0.34008389711380005,
          -0.33330848813056946,
          -0.3348320424556732,
          -0.3342473804950714,
          -0.3337928354740143,
          -0.33424806594848633,
          0.007629883475601673,
          0.0076204086653888226,
          0.3421788215637207,
          0.007216771598905325,
          0.008766571059823036,
          -0.3347339928150177,
          -0.3342473804950714,
          -0.3347339928150177,
          0.007584720384329557,
          0.008929053321480751,
          0.0076204086653888226,
          -0.3351506292819977,
          0.007930247113108635,
          -0.3348320424556732,
          0.00664243521168828,
          0.34008389711380005,
          -0.33441612124443054,
          -0.33424806594848633,
          0.3454839587211609,
          0.3459477126598358,
          -0.33553507924079895,
          0.00902624987065792,
          0.3403862714767456,
          0.3454839587211609,
          0.009296630509197712,
          -0.3350316882133484,
          0.00826757401227951,
          0.0076204086653888226,
          -0.3337928354740143,
          0.006481092888861895,
          0.008071883581578732,
          -0.334931343793869,
          0.007930247113108635,
          0.00826757401227951,
          0.006481092888861895,
          0.3403862714767456,
          0.006481092888861895,
          0.3416088819503784,
          -0.33368536829948425,
          0.007784347515553236,
          -0.3348415493965149,
          -0.33461859822273254,
          0.00826757401227951,
          -0.334561288356781,
          0.008048606105148792,
          -0.33535751700401306,
          -0.3340851664543152,
          -0.33580154180526733,
          -0.3347339928150177,
          0.008618602529168129,
          -0.3348320424556732,
          0.008890647441148758,
          0.3421788215637207,
          0.007784347515553236,
          0.007694630417972803,
          -0.334991455078125,
          0.007784347515553236,
          -0.33403897285461426,
          0.006481092888861895,
          -0.3344481885433197,
          0.3454839587211609,
          0.007278934121131897,
          0.00902624987065792,
          0.3421842157840729,
          0.0070720151998102665,
          0.3416088819503784,
          0.007278934121131897,
          -0.3350316882133484,
          0.3399343192577362,
          0.00720690144225955,
          -0.33403897285461426,
          0.006038016173988581,
          -0.3340851664543152,
          0.00720690144225955,
          -0.3352031707763672,
          -0.33330848813056946,
          0.3403862714767456,
          -0.3348415493965149,
          0.006038016173988581,
          0.008675171062350273,
          0.007930247113108635,
          -0.33437663316726685,
          -0.33437663316726685,
          0.00720690144225955,
          0.008766571059823036,
          -0.33553507924079895,
          0.3399343192577362,
          0.008071883581578732,
          0.007216771598905325,
          0.6833336353302002,
          -0.3353630602359772,
          -0.3351506292819977,
          0.3459477126598358,
          0.008929053321480751,
          0.007930247113108635,
          -0.3334299921989441,
          0.3421842157840729,
          0.009296630509197712,
          -0.33330848813056946,
          0.008272136561572552,
          -0.334561288356781,
          0.007448379881680012,
          -0.334991455078125,
          -0.3350316882133484,
          0.007216771598905325,
          -0.33424806594848633,
          0.3459477126598358,
          -0.33535751700401306,
          -0.33520230650901794,
          0.009563334286212921,
          0.008675171062350273,
          -0.334931343793869,
          0.007629883475601673,
          -0.3347339928150177,
          0.008766571059823036,
          -0.3359307050704956,
          0.008071883581578732,
          -0.33403897285461426,
          0.007448379881680012,
          -0.3340851664543152,
          -0.3344481885433197,
          0.008675171062350273,
          0.3421842157840729,
          -0.33461859822273254,
          -0.3351506292819977,
          0.3403862714767456,
          0.008766571059823036,
          0.007278934121131897,
          0.008675171062350273,
          -0.33580154180526733,
          -0.33403897285461426,
          -0.3350316882133484,
          0.00902624987065792,
          -0.33437663316726685,
          -0.33441612124443054,
          0.00664243521168828,
          -0.33535751700401306,
          0.009563334286212921,
          0.007629883475601673,
          0.3421788215637207,
          0.0070720151998102665,
          -0.33580154180526733,
          -0.33461859822273254,
          -0.334991455078125,
          0.008650736883282661,
          -0.334561288356781,
          -0.3348415493965149,
          0.008890647441148758,
          0.00826757401227951,
          -0.33368536829948425,
          -0.33461859822273254,
          0.008272136561572552,
          0.009563334286212921,
          -0.33368536829948425,
          -0.3334299921989441,
          0.007694630417972803,
          0.008048606105148792,
          0.34008389711380005,
          -0.33520230650901794,
          -0.3342473804950714,
          -0.3359307050704956,
          -0.3337928354740143,
          0.009296630509197712,
          -0.33535751700401306,
          0.008650736883282661,
          0.3421788215637207,
          0.3459477126598358,
          0.00664243521168828,
          -0.33441612124443054,
          0.0070720151998102665,
          0.007584720384329557,
          0.00902624987065792,
          0.007584720384329557,
          0.34787482023239136,
          0.6833336353302002,
          0.3399343192577362,
          0.009296630509197712,
          -0.3348415493965149,
          0.008048606105148792,
          0.008890647441148758,
          0.0070720151998102665,
          -0.33368536829948425,
          -0.3344481885433197,
          0.008048606105148792,
          0.008929053321480751,
          -0.33580154180526733,
          0.3421842157840729,
          0.008618602529168129,
          0.34787482023239136,
          -0.33520230650901794,
          -0.3351506292819977,
          0.008071883581578732,
          0.3416088819503784,
          -0.33437663316726685,
          0.00664243521168828,
          -0.3352031707763672,
          -0.33520230650901794,
          -0.3352031707763672,
          -0.33553507924079895,
          -0.3353630602359772,
          0.006038016173988581,
          -0.3348320424556732,
          0.008929053321480751,
          -0.3337928354740143,
          0.007584720384329557,
          0.008650736883282661,
          0.007448379881680012,
          0.6833336353302002,
          -0.3344481885433197,
          0.34787482023239136,
          -0.334931343793869,
          -0.33441612124443054,
          0.007694630417972803,
          0.007278934121131897,
          0.0076204086653888226,
          -0.33553507924079895
         ],
         "y": [
          0.33942312002182007,
          -0.003529675304889679,
          0.34083354473114014,
          0.6771351099014282,
          0.33632227778434753,
          0.33768612146377563,
          0.6762086153030396,
          -0.0039028674364089966,
          -0.0026671141386032104,
          0.3408810496330261,
          0.3374098241329193,
          0.677402138710022,
          0.33942312002182007,
          0.33878666162490845,
          -0.002852700650691986,
          -0.003491349518299103,
          0.3386743664741516,
          0.3408711552619934,
          -0.003230661153793335,
          -0.0025628209114074707,
          0.3394346237182617,
          -0.002962261438369751,
          0.33659037947654724,
          -0.002741195261478424,
          -0.003266960382461548,
          0.6773149967193604,
          1.00118088722229,
          0.33943185210227966,
          -0.0026671141386032104,
          -0.0039028674364089966,
          0.33768612146377563,
          -0.003230661153793335,
          -0.003601640462875366,
          0.6797211170196533,
          0.677402138710022,
          -0.0025628209114074707,
          -0.0033877044916152954,
          -0.002962261438369751,
          -0.0026292353868484497,
          -0.002852700650691986,
          0.3386743664741516,
          0.33750927448272705,
          0.6794822216033936,
          0.3374098241329193,
          0.3415984511375427,
          -0.0030288323760032654,
          -0.002962261438369751,
          -0.0030288323760032654,
          0.33877426385879517,
          0.33869805932044983,
          0.33750927448272705,
          -0.0037280842661857605,
          0.34150931239128113,
          -0.0033877044916152954,
          0.33633169531822205,
          0.677402138710022,
          -0.0028281286358833313,
          -0.002852700650691986,
          0.6773149967193604,
          0.6769737005233765,
          -0.0036908313632011414,
          0.34229016304016113,
          0.676140308380127,
          0.6773149967193604,
          0.34005075693130493,
          -0.003143690526485443,
          0.3415796756744385,
          0.33750927448272705,
          -0.0026292353868484497,
          0.336450457572937,
          0.34156763553619385,
          -0.003491349518299103,
          0.34150931239128113,
          0.3415796756744385,
          0.336450457572937,
          0.676140308380127,
          0.336450457572937,
          0.6762086153030396,
          -0.0025260597467422485,
          0.3408810496330261,
          -0.0030410364270210266,
          -0.0029260218143463135,
          0.3415796756744385,
          -0.003529675304889679,
          0.3366048336029053,
          -0.0037139132618904114,
          -0.002741195261478424,
          -0.0034461840987205505,
          -0.0030288323760032654,
          0.33768612146377563,
          -0.0033877044916152954,
          0.33878666162490845,
          0.6794822216033936,
          0.3408810496330261,
          0.3408711552619934,
          -0.003266960382461548,
          0.3408810496330261,
          -0.002864934504032135,
          0.336450457572937,
          -0.0034249499440193176,
          0.6773149967193604,
          0.34084540605545044,
          0.34229016304016113,
          0.6760408878326416,
          0.33646899461746216,
          0.6762086153030396,
          0.34084540605545044,
          -0.003143690526485443,
          0.6771351099014282,
          0.34083354473114014,
          -0.002864934504032135,
          0.33632227778434753,
          -0.002741195261478424,
          0.34083354473114014,
          -0.003601640462875366,
          -0.0025628209114074707,
          0.676140308380127,
          -0.0030410364270210266,
          0.33632227778434753,
          0.33933767676353455,
          0.34150931239128113,
          -0.003066152334213257,
          -0.003066152334213257,
          0.34083354473114014,
          0.3415984511375427,
          -0.0036908313632011414,
          0.6771351099014282,
          0.34156763553619385,
          0.3374098241329193,
          1.00118088722229,
          -0.003230661153793335,
          -0.0037280842661857605,
          0.6769737005233765,
          0.33869805932044983,
          0.34150931239128113,
          -0.0026671141386032104,
          0.6760408878326416,
          0.34005075693130493,
          -0.0025628209114074707,
          0.33942312002182007,
          -0.003529675304889679,
          0.33659037947654724,
          -0.003266960382461548,
          -0.003143690526485443,
          0.3374098241329193,
          -0.002852700650691986,
          0.6769737005233765,
          -0.0037139132618904114,
          -0.0032549425959587097,
          0.3394346237182617,
          0.33933767676353455,
          -0.003491349518299103,
          0.3386743664741516,
          -0.0030288323760032654,
          0.3415984511375427,
          -0.0039028674364089966,
          0.34156763553619385,
          -0.002864934504032135,
          0.33659037947654724,
          -0.002741195261478424,
          -0.0034249499440193176,
          0.33933767676353455,
          0.6760408878326416,
          -0.0029260218143463135,
          -0.0037280842661857605,
          0.676140308380127,
          0.3415984511375427,
          0.34084540605545044,
          0.33933767676353455,
          -0.0034461840987205505,
          -0.002864934504032135,
          -0.003143690526485443,
          0.34229016304016113,
          -0.003066152334213257,
          -0.0028281286358833313,
          0.33633169531822205,
          -0.0037139132618904114,
          0.3394346237182617,
          0.3386743664741516,
          0.6794822216033936,
          0.33646899461746216,
          -0.0034461840987205505,
          -0.0029260218143463135,
          -0.003266960382461548,
          0.33943185210227966,
          -0.003529675304889679,
          -0.0030410364270210266,
          0.33878666162490845,
          0.3415796756744385,
          -0.0025260597467422485,
          -0.0029260218143463135,
          0.33942312002182007,
          0.3394346237182617,
          -0.0025260597467422485,
          -0.0026671141386032104,
          0.3408711552619934,
          0.3366048336029053,
          0.677402138710022,
          -0.0032549425959587097,
          -0.002962261438369751,
          -0.0039028674364089966,
          -0.0026292353868484497,
          0.34005075693130493,
          -0.0037139132618904114,
          0.33943185210227966,
          0.6794822216033936,
          0.6769737005233765,
          0.33633169531822205,
          -0.0028281286358833313,
          0.33646899461746216,
          0.33877426385879517,
          0.34229016304016113,
          0.33877426385879517,
          0.6797211170196533,
          1.00118088722229,
          0.6771351099014282,
          0.34005075693130493,
          -0.0030410364270210266,
          0.3366048336029053,
          0.33878666162490845,
          0.33646899461746216,
          -0.0025260597467422485,
          -0.0034249499440193176,
          0.3366048336029053,
          0.33869805932044983,
          -0.0034461840987205505,
          0.6760408878326416,
          0.33768612146377563,
          0.6797211170196533,
          -0.0032549425959587097,
          -0.0037280842661857605,
          0.34156763553619385,
          0.6762086153030396,
          -0.003066152334213257,
          0.33633169531822205,
          -0.003601640462875366,
          -0.0032549425959587097,
          -0.003601640462875366,
          -0.0036908313632011414,
          -0.003230661153793335,
          0.33632227778434753,
          -0.0033877044916152954,
          0.33869805932044983,
          -0.0026292353868484497,
          0.33877426385879517,
          0.33943185210227966,
          0.33659037947654724,
          1.00118088722229,
          -0.0034249499440193176,
          0.6797211170196533,
          -0.003491349518299103,
          -0.0028281286358833313,
          0.3408711552619934,
          0.34084540605545044,
          0.33750927448272705,
          -0.0036908313632011414
         ]
        },
        {
         "mode": "markers",
         "name": "pos 3, corr: 1.00, p-value: 0.00",
         "type": "scatter",
         "x": [
          -0.09459084272384644,
          -0.3543942868709564,
          0.1651575118303299,
          0.1544712334871292,
          -0.09555288404226303,
          -0.09383115917444229,
          0.15795838832855225,
          -0.08817027509212494,
          -0.3543042540550232,
          -0.09563378244638443,
          -0.09494583308696747,
          0.15451480448246002,
          -0.0949382334947586,
          -0.09416700154542923,
          -0.35535910725593567,
          -0.35529643297195435,
          0.16344763338565826,
          0.16547220945358276,
          -0.35511964559555054,
          -0.3547689914703369,
          0.16640031337738037,
          -0.088065966963768,
          -0.09471461921930313,
          -0.3552006483078003,
          -0.3542965054512024,
          0.15561284124851227,
          0.405986487865448,
          -0.09434138983488083,
          -0.35421454906463623,
          -0.35587042570114136,
          -0.09400120377540588,
          -0.35453322529792786,
          -0.35537075996398926,
          0.15709535777568817,
          0.4132293164730072,
          -0.3541901111602783,
          -0.35450485348701477,
          -0.3537023067474365,
          -0.08784138411283493,
          -0.35473793745040894,
          -0.0949038490653038,
          -0.0944259911775589,
          0.41492170095443726,
          -0.09479871392250061,
          -0.0954558402299881,
          -0.35404878854751587,
          -0.3543855845928192,
          -0.0884617418050766,
          0.16346323490142822,
          -0.09420081228017807,
          -0.09426097571849823,
          -0.35475388169288635,
          0.16607041656970978,
          -0.35517844557762146,
          0.16601751744747162,
          0.1547578126192093,
          -0.3554895520210266,
          -0.08743821084499359,
          0.417827308177948,
          0.15595996379852295,
          -0.3550947308540344,
          -0.09561009705066681,
          0.15723618865013123,
          0.15578942000865936,
          -0.09444967657327652,
          -0.3548237681388855,
          -0.09602506458759308,
          -0.09406080842018127,
          -0.354536235332489,
          -0.0947757214307785,
          -0.09550338238477707,
          -0.3547486960887909,
          -0.09579170495271683,
          -0.09577558189630508,
          0.16603140532970428,
          0.15749725699424744,
          -0.09499185532331467,
          0.4173975884914398,
          -0.35432472825050354,
          -0.09583277255296707,
          -0.355017751455307,
          -0.3539295196533203,
          0.16632065176963806,
          -0.3545174300670624,
          -0.09436746686697006,
          -0.3555278778076172,
          -0.35452011227607727,
          -0.354654997587204,
          -0.35417094826698303,
          -0.09364870190620422,
          -0.35464492440223694,
          0.16543768346309662,
          0.15519461035728455,
          0.165585458278656,
          -0.0961531326174736,
          -0.08773324638605118,
          -0.09607238322496414,
          -0.35457542538642883,
          -0.09512273222208023,
          -0.35427218675613403,
          0.15542955696582794,
          -0.09615213423967361,
          -0.09532798826694489,
          0.41987374424934387,
          0.16641655564308167,
          0.15832769870758057,
          0.16525791585445404,
          -0.35413771867752075,
          0.15470071136951447,
          -0.09645220637321472,
          -0.3546406924724579,
          0.16562519967556,
          -0.08739162236452103,
          -0.09601243585348129,
          -0.3546903431415558,
          -0.35409125685691833,
          0.4172109365463257,
          -0.35570359230041504,
          -0.09532979130744934,
          -0.09476734697818756,
          -0.09606697410345078,
          -0.35451921820640564,
          -0.3538307547569275,
          -0.0962093248963356,
          -0.09527425467967987,
          -0.3556668758392334,
          0.15421883761882782,
          0.16622072458267212,
          0.16699278354644775,
          0.40650779008865356,
          -0.35443535447120667,
          -0.3554368019104004,
          0.15578815340995789,
          -0.09383174777030945,
          -0.09560874849557877,
          -0.0874575674533844,
          0.159139946103096,
          -0.0940973311662674,
          -0.08744345605373383,
          0.1644355207681656,
          -0.3550770878791809,
          -0.0943799838423729,
          -0.35489511489868164,
          -0.08802264928817749,
          -0.09459157288074493,
          -0.35467326641082764,
          0.1561480462551117,
          -0.0885535404086113,
          -0.3549872040748596,
          -0.09351892024278641,
          -0.09473294764757156,
          -0.35461774468421936,
          -0.09529539942741394,
          -0.35473304986953735,
          -0.09571570158004761,
          -0.355258584022522,
          -0.0959523618221283,
          -0.3552587330341339,
          0.1673978865146637,
          -0.35459399223327637,
          -0.0885767862200737,
          -0.09439408034086227,
          0.15890400111675262,
          -0.3540608286857605,
          -0.08821552246809006,
          0.15788519382476807,
          0.16664357483386993,
          -0.09595043212175369,
          0.1637982279062271,
          -0.3547200858592987,
          -0.08709463477134705,
          -0.3542366921901703,
          0.16726352274417877,
          -0.08808156847953796,
          -0.3548835217952728,
          -0.09519574791193008,
          -0.354940801858902,
          -0.09386701881885529,
          -0.09525579959154129,
          0.15543437004089355,
          -0.09464024752378464,
          -0.08770828694105148,
          -0.3546087145805359,
          -0.3542065918445587,
          0.16382019221782684,
          -0.08858446031808853,
          -0.08706160634756088,
          -0.09378230571746826,
          -0.0955914631485939,
          -0.08783936500549316,
          -0.08845803886651993,
          -0.09496162831783295,
          -0.09386930614709854,
          -0.3544313609600067,
          -0.3548975884914398,
          -0.09589982032775879,
          0.1677836775779724,
          0.1542586386203766,
          -0.08807045221328735,
          -0.35382580757141113,
          -0.35518473386764526,
          -0.3551175892353058,
          -0.09443149715662003,
          -0.35484227538108826,
          -0.09473029524087906,
          0.1556682586669922,
          0.41805997490882874,
          -0.09497608244419098,
          -0.08748926967382431,
          -0.09442763030529022,
          -0.0948568806052208,
          -0.09515790641307831,
          -0.09526403248310089,
          0.15674129128456116,
          0.40681883692741394,
          0.4130737781524658,
          0.16476604342460632,
          -0.3550575375556946,
          -0.09402579814195633,
          -0.09414626657962799,
          -0.09478159248828888,
          -0.354998379945755,
          -0.3544045090675354,
          -0.09422115981578827,
          0.16541269421577454,
          -0.35534635186195374,
          0.1595355123281479,
          0.16875611245632172,
          0.41977614164352417,
          -0.3543855845928192,
          -0.3548527657985687,
          -0.09569104015827179,
          0.15770165622234344,
          -0.3539450168609619,
          -0.09531931579113007,
          -0.3547981083393097,
          -0.35429590940475464,
          -0.08851363509893417,
          -0.0886138305068016,
          -0.08812420070171356,
          -0.0956660583615303,
          -0.08897624164819717,
          -0.09418652206659317,
          -0.3544387221336365,
          -0.09521801024675369,
          -0.09468942880630493,
          -0.09457863867282867,
          0.6734657883644104,
          -0.35494986176490784,
          0.15689541399478912,
          -0.08897193521261215,
          -0.3548104763031006,
          -0.09570565074682236,
          -0.09638141840696335,
          0.16737039387226105,
          -0.35498806834220886
         ],
         "y": [
          0.2508091926574707,
          -0.002869240939617157,
          0.5102484822273254,
          0.5056697130203247,
          0.2485446184873581,
          0.24958336353302002,
          0.5090782046318054,
          0.2561376392841339,
          -0.003748960793018341,
          0.24862061440944672,
          0.2489718496799469,
          0.5057879090309143,
          0.2501988410949707,
          0.2508546710014343,
          -0.0035666748881340027,
          -0.0032784566283226013,
          0.5143433809280396,
          0.5101374387741089,
          -0.0034219026565551758,
          -0.003368467092514038,
          0.5166105628013611,
          0.2557716965675354,
          0.24868762493133545,
          -0.003480866551399231,
          -0.0037543252110481262,
          0.5056731700897217,
          0.7574429512023926,
          0.25061285495758057,
          -0.0030066967010498047,
          -0.0035606324672698975,
          0.24933484196662903,
          -0.0037202462553977966,
          -0.0033435896039009094,
          0.5069047808647156,
          0.7581120729446411,
          -0.003668263554573059,
          -0.0027544572949409485,
          -0.002790004014968872,
          0.25609856843948364,
          -0.003864564001560211,
          0.25047552585601807,
          0.2490428239107132,
          0.7598087787628174,
          0.24921616911888123,
          0.248856320977211,
          -0.002837248146533966,
          -0.0032317936420440674,
          0.2557423710823059,
          0.5144686698913574,
          0.25072401762008667,
          0.24929006397724152,
          -0.003005675971508026,
          0.5110964775085449,
          -0.003199182450771332,
          0.5118467211723328,
          0.5061151385307312,
          -0.003552079200744629,
          0.2565040588378906,
          0.7580475807189941,
          0.5055043697357178,
          -0.0037173181772232056,
          0.24887819588184357,
          0.50943523645401,
          0.5057063102722168,
          0.25051000714302063,
          -0.0033481866121292114,
          0.24859967827796936,
          0.24920977652072906,
          -0.003714136779308319,
          0.2485554814338684,
          0.24899564683437347,
          -0.00357837975025177,
          0.24897904694080353,
          0.2489383965730667,
          0.511910080909729,
          0.5093854665756226,
          0.24863965809345245,
          0.7656030654907227,
          -0.0028918683528900146,
          0.2487034648656845,
          -0.0032531023025512695,
          -0.0027560070157051086,
          0.5110971927642822,
          -0.003613002598285675,
          0.24863837659358978,
          -0.003429628908634186,
          -0.003036879003047943,
          -0.0031283199787139893,
          -0.0035762935876846313,
          0.24950048327445984,
          -0.0034983977675437927,
          0.5156888961791992,
          0.5066850185394287,
          0.510157585144043,
          0.24829787015914917,
          0.2559952139854431,
          0.24837413430213928,
          -0.0031422004103660583,
          0.24841293692588806,
          -0.0027879849076271057,
          0.5056595802307129,
          0.24878422915935516,
          0.24923594295978546,
          0.7683349847793579,
          0.5117983818054199,
          0.5094916820526123,
          0.5102744102478027,
          -0.002905339002609253,
          0.5059971213340759,
          0.2483709156513214,
          -0.0038863420486450195,
          0.5119668245315552,
          0.25648027658462524,
          0.24861936271190643,
          -0.0028988197445869446,
          -0.0029256045818328857,
          0.7667719125747681,
          -0.0036968886852264404,
          0.24846945703029633,
          0.2501797378063202,
          0.248623788356781,
          -0.003312930464744568,
          -0.002872191369533539,
          0.24870729446411133,
          0.24877259135246277,
          -0.0034165456891059875,
          0.5057388544082642,
          0.5111485719680786,
          0.5133347511291504,
          0.757673978805542,
          -0.002979494631290436,
          -0.00344906747341156,
          0.5054792761802673,
          0.251028448343277,
          0.2488950937986374,
          0.256178617477417,
          0.5103504657745361,
          0.250796377658844,
          0.2561207711696625,
          0.515395998954773,
          -0.003311954438686371,
          0.24882851541042328,
          -0.003454864025115967,
          0.25610899925231934,
          0.24914462864398956,
          -0.0031237155199050903,
          0.505530834197998,
          0.2559201121330261,
          -0.0034351646900177,
          0.2513619363307953,
          0.24985407292842865,
          -0.002834804356098175,
          0.2501671314239502,
          -0.0032789334654808044,
          0.24852286279201508,
          -0.0038597434759140015,
          0.24872581660747528,
          -0.003584817051887512,
          0.5129581093788147,
          -0.00377780944108963,
          0.25552958250045776,
          0.2504866123199463,
          0.5104000568389893,
          -0.003495439887046814,
          0.2557762861251831,
          0.5097861289978027,
          0.5109665989875793,
          0.24869748950004578,
          0.5141085386276245,
          -0.00386771559715271,
          0.2563525438308716,
          -0.0036431849002838135,
          0.5119734406471252,
          0.2558334469795227,
          -0.0038524270057678223,
          0.2484932839870453,
          -0.0037280023097991943,
          0.25107839703559875,
          0.24984827637672424,
          0.5066268444061279,
          0.24859128892421722,
          0.25633111596107483,
          -0.003198765218257904,
          -0.003013424575328827,
          0.5142192840576172,
          0.25559157133102417,
          0.2567112147808075,
          0.2511596977710724,
          0.24885061383247375,
          0.2560409903526306,
          0.25568050146102905,
          0.25052183866500854,
          0.2507471442222595,
          -0.0036343038082122803,
          -0.003448493778705597,
          0.24862954020500183,
          0.5128229260444641,
          0.5058600902557373,
          0.25613731145858765,
          -0.0035296082496643066,
          -0.003116138279438019,
          -0.003414824604988098,
          0.25018057227134705,
          -0.0029858648777008057,
          0.2503049373626709,
          0.5069301128387451,
          0.7575259208679199,
          0.24842160940170288,
          0.2562822699546814,
          0.2485104501247406,
          0.2506055235862732,
          0.2491527944803238,
          0.2502964735031128,
          0.5068351030349731,
          0.7576266527175903,
          0.757872462272644,
          0.5151178240776062,
          -0.0039957016706466675,
          0.24877652525901794,
          0.25052669644355774,
          0.24837030470371246,
          -0.00333569198846817,
          -0.003532126545906067,
          0.24886026978492737,
          0.515556812286377,
          -0.003570929169654846,
          0.5107534527778625,
          0.5143209099769592,
          0.7600095272064209,
          -0.0037310123443603516,
          -0.0037509948015213013,
          0.24907851219177246,
          0.5091347694396973,
          -0.003611326217651367,
          0.24827557802200317,
          -0.0036410242319107056,
          -0.0029933154582977295,
          0.2558918297290802,
          0.25569701194763184,
          0.25591301918029785,
          0.24832089245319366,
          0.2554410696029663,
          0.2503962516784668,
          -0.0029720738530158997,
          0.24997729063034058,
          0.24997910857200623,
          0.24891582131385803,
          0.9984666109085083,
          -0.003231741487979889,
          0.5068346261978149,
          0.2555030584335327,
          -0.0031085386872291565,
          0.2485453337430954,
          0.24844981729984283,
          0.5132491588592529,
          -0.0029722005128860474
         ]
        }
       ],
       "layout": {
        "template": {
         "data": {
          "bar": [
           {
            "error_x": {
             "color": "#2a3f5f"
            },
            "error_y": {
             "color": "#2a3f5f"
            },
            "marker": {
             "line": {
              "color": "#E5ECF6",
              "width": 0.5
             },
             "pattern": {
              "fillmode": "overlay",
              "size": 10,
              "solidity": 0.2
             }
            },
            "type": "bar"
           }
          ],
          "barpolar": [
           {
            "marker": {
             "line": {
              "color": "#E5ECF6",
              "width": 0.5
             },
             "pattern": {
              "fillmode": "overlay",
              "size": 10,
              "solidity": 0.2
             }
            },
            "type": "barpolar"
           }
          ],
          "carpet": [
           {
            "aaxis": {
             "endlinecolor": "#2a3f5f",
             "gridcolor": "white",
             "linecolor": "white",
             "minorgridcolor": "white",
             "startlinecolor": "#2a3f5f"
            },
            "baxis": {
             "endlinecolor": "#2a3f5f",
             "gridcolor": "white",
             "linecolor": "white",
             "minorgridcolor": "white",
             "startlinecolor": "#2a3f5f"
            },
            "type": "carpet"
           }
          ],
          "choropleth": [
           {
            "colorbar": {
             "outlinewidth": 0,
             "ticks": ""
            },
            "type": "choropleth"
           }
          ],
          "contour": [
           {
            "colorbar": {
             "outlinewidth": 0,
             "ticks": ""
            },
            "colorscale": [
             [
              0,
              "#0d0887"
             ],
             [
              0.1111111111111111,
              "#46039f"
             ],
             [
              0.2222222222222222,
              "#7201a8"
             ],
             [
              0.3333333333333333,
              "#9c179e"
             ],
             [
              0.4444444444444444,
              "#bd3786"
             ],
             [
              0.5555555555555556,
              "#d8576b"
             ],
             [
              0.6666666666666666,
              "#ed7953"
             ],
             [
              0.7777777777777778,
              "#fb9f3a"
             ],
             [
              0.8888888888888888,
              "#fdca26"
             ],
             [
              1,
              "#f0f921"
             ]
            ],
            "type": "contour"
           }
          ],
          "contourcarpet": [
           {
            "colorbar": {
             "outlinewidth": 0,
             "ticks": ""
            },
            "type": "contourcarpet"
           }
          ],
          "heatmap": [
           {
            "colorbar": {
             "outlinewidth": 0,
             "ticks": ""
            },
            "colorscale": [
             [
              0,
              "#0d0887"
             ],
             [
              0.1111111111111111,
              "#46039f"
             ],
             [
              0.2222222222222222,
              "#7201a8"
             ],
             [
              0.3333333333333333,
              "#9c179e"
             ],
             [
              0.4444444444444444,
              "#bd3786"
             ],
             [
              0.5555555555555556,
              "#d8576b"
             ],
             [
              0.6666666666666666,
              "#ed7953"
             ],
             [
              0.7777777777777778,
              "#fb9f3a"
             ],
             [
              0.8888888888888888,
              "#fdca26"
             ],
             [
              1,
              "#f0f921"
             ]
            ],
            "type": "heatmap"
           }
          ],
          "heatmapgl": [
           {
            "colorbar": {
             "outlinewidth": 0,
             "ticks": ""
            },
            "colorscale": [
             [
              0,
              "#0d0887"
             ],
             [
              0.1111111111111111,
              "#46039f"
             ],
             [
              0.2222222222222222,
              "#7201a8"
             ],
             [
              0.3333333333333333,
              "#9c179e"
             ],
             [
              0.4444444444444444,
              "#bd3786"
             ],
             [
              0.5555555555555556,
              "#d8576b"
             ],
             [
              0.6666666666666666,
              "#ed7953"
             ],
             [
              0.7777777777777778,
              "#fb9f3a"
             ],
             [
              0.8888888888888888,
              "#fdca26"
             ],
             [
              1,
              "#f0f921"
             ]
            ],
            "type": "heatmapgl"
           }
          ],
          "histogram": [
           {
            "marker": {
             "pattern": {
              "fillmode": "overlay",
              "size": 10,
              "solidity": 0.2
             }
            },
            "type": "histogram"
           }
          ],
          "histogram2d": [
           {
            "colorbar": {
             "outlinewidth": 0,
             "ticks": ""
            },
            "colorscale": [
             [
              0,
              "#0d0887"
             ],
             [
              0.1111111111111111,
              "#46039f"
             ],
             [
              0.2222222222222222,
              "#7201a8"
             ],
             [
              0.3333333333333333,
              "#9c179e"
             ],
             [
              0.4444444444444444,
              "#bd3786"
             ],
             [
              0.5555555555555556,
              "#d8576b"
             ],
             [
              0.6666666666666666,
              "#ed7953"
             ],
             [
              0.7777777777777778,
              "#fb9f3a"
             ],
             [
              0.8888888888888888,
              "#fdca26"
             ],
             [
              1,
              "#f0f921"
             ]
            ],
            "type": "histogram2d"
           }
          ],
          "histogram2dcontour": [
           {
            "colorbar": {
             "outlinewidth": 0,
             "ticks": ""
            },
            "colorscale": [
             [
              0,
              "#0d0887"
             ],
             [
              0.1111111111111111,
              "#46039f"
             ],
             [
              0.2222222222222222,
              "#7201a8"
             ],
             [
              0.3333333333333333,
              "#9c179e"
             ],
             [
              0.4444444444444444,
              "#bd3786"
             ],
             [
              0.5555555555555556,
              "#d8576b"
             ],
             [
              0.6666666666666666,
              "#ed7953"
             ],
             [
              0.7777777777777778,
              "#fb9f3a"
             ],
             [
              0.8888888888888888,
              "#fdca26"
             ],
             [
              1,
              "#f0f921"
             ]
            ],
            "type": "histogram2dcontour"
           }
          ],
          "mesh3d": [
           {
            "colorbar": {
             "outlinewidth": 0,
             "ticks": ""
            },
            "type": "mesh3d"
           }
          ],
          "parcoords": [
           {
            "line": {
             "colorbar": {
              "outlinewidth": 0,
              "ticks": ""
             }
            },
            "type": "parcoords"
           }
          ],
          "pie": [
           {
            "automargin": true,
            "type": "pie"
           }
          ],
          "scatter": [
           {
            "fillpattern": {
             "fillmode": "overlay",
             "size": 10,
             "solidity": 0.2
            },
            "type": "scatter"
           }
          ],
          "scatter3d": [
           {
            "line": {
             "colorbar": {
              "outlinewidth": 0,
              "ticks": ""
             }
            },
            "marker": {
             "colorbar": {
              "outlinewidth": 0,
              "ticks": ""
             }
            },
            "type": "scatter3d"
           }
          ],
          "scattercarpet": [
           {
            "marker": {
             "colorbar": {
              "outlinewidth": 0,
              "ticks": ""
             }
            },
            "type": "scattercarpet"
           }
          ],
          "scattergeo": [
           {
            "marker": {
             "colorbar": {
              "outlinewidth": 0,
              "ticks": ""
             }
            },
            "type": "scattergeo"
           }
          ],
          "scattergl": [
           {
            "marker": {
             "colorbar": {
              "outlinewidth": 0,
              "ticks": ""
             }
            },
            "type": "scattergl"
           }
          ],
          "scattermapbox": [
           {
            "marker": {
             "colorbar": {
              "outlinewidth": 0,
              "ticks": ""
             }
            },
            "type": "scattermapbox"
           }
          ],
          "scatterpolar": [
           {
            "marker": {
             "colorbar": {
              "outlinewidth": 0,
              "ticks": ""
             }
            },
            "type": "scatterpolar"
           }
          ],
          "scatterpolargl": [
           {
            "marker": {
             "colorbar": {
              "outlinewidth": 0,
              "ticks": ""
             }
            },
            "type": "scatterpolargl"
           }
          ],
          "scatterternary": [
           {
            "marker": {
             "colorbar": {
              "outlinewidth": 0,
              "ticks": ""
             }
            },
            "type": "scatterternary"
           }
          ],
          "surface": [
           {
            "colorbar": {
             "outlinewidth": 0,
             "ticks": ""
            },
            "colorscale": [
             [
              0,
              "#0d0887"
             ],
             [
              0.1111111111111111,
              "#46039f"
             ],
             [
              0.2222222222222222,
              "#7201a8"
             ],
             [
              0.3333333333333333,
              "#9c179e"
             ],
             [
              0.4444444444444444,
              "#bd3786"
             ],
             [
              0.5555555555555556,
              "#d8576b"
             ],
             [
              0.6666666666666666,
              "#ed7953"
             ],
             [
              0.7777777777777778,
              "#fb9f3a"
             ],
             [
              0.8888888888888888,
              "#fdca26"
             ],
             [
              1,
              "#f0f921"
             ]
            ],
            "type": "surface"
           }
          ],
          "table": [
           {
            "cells": {
             "fill": {
              "color": "#EBF0F8"
             },
             "line": {
              "color": "white"
             }
            },
            "header": {
             "fill": {
              "color": "#C8D4E3"
             },
             "line": {
              "color": "white"
             }
            },
            "type": "table"
           }
          ]
         },
         "layout": {
          "annotationdefaults": {
           "arrowcolor": "#2a3f5f",
           "arrowhead": 0,
           "arrowwidth": 1
          },
          "autotypenumbers": "strict",
          "coloraxis": {
           "colorbar": {
            "outlinewidth": 0,
            "ticks": ""
           }
          },
          "colorscale": {
           "diverging": [
            [
             0,
             "#8e0152"
            ],
            [
             0.1,
             "#c51b7d"
            ],
            [
             0.2,
             "#de77ae"
            ],
            [
             0.3,
             "#f1b6da"
            ],
            [
             0.4,
             "#fde0ef"
            ],
            [
             0.5,
             "#f7f7f7"
            ],
            [
             0.6,
             "#e6f5d0"
            ],
            [
             0.7,
             "#b8e186"
            ],
            [
             0.8,
             "#7fbc41"
            ],
            [
             0.9,
             "#4d9221"
            ],
            [
             1,
             "#276419"
            ]
           ],
           "sequential": [
            [
             0,
             "#0d0887"
            ],
            [
             0.1111111111111111,
             "#46039f"
            ],
            [
             0.2222222222222222,
             "#7201a8"
            ],
            [
             0.3333333333333333,
             "#9c179e"
            ],
            [
             0.4444444444444444,
             "#bd3786"
            ],
            [
             0.5555555555555556,
             "#d8576b"
            ],
            [
             0.6666666666666666,
             "#ed7953"
            ],
            [
             0.7777777777777778,
             "#fb9f3a"
            ],
            [
             0.8888888888888888,
             "#fdca26"
            ],
            [
             1,
             "#f0f921"
            ]
           ],
           "sequentialminus": [
            [
             0,
             "#0d0887"
            ],
            [
             0.1111111111111111,
             "#46039f"
            ],
            [
             0.2222222222222222,
             "#7201a8"
            ],
            [
             0.3333333333333333,
             "#9c179e"
            ],
            [
             0.4444444444444444,
             "#bd3786"
            ],
            [
             0.5555555555555556,
             "#d8576b"
            ],
            [
             0.6666666666666666,
             "#ed7953"
            ],
            [
             0.7777777777777778,
             "#fb9f3a"
            ],
            [
             0.8888888888888888,
             "#fdca26"
            ],
            [
             1,
             "#f0f921"
            ]
           ]
          },
          "colorway": [
           "#636efa",
           "#EF553B",
           "#00cc96",
           "#ab63fa",
           "#FFA15A",
           "#19d3f3",
           "#FF6692",
           "#B6E880",
           "#FF97FF",
           "#FECB52"
          ],
          "font": {
           "color": "#2a3f5f"
          },
          "geo": {
           "bgcolor": "white",
           "lakecolor": "white",
           "landcolor": "#E5ECF6",
           "showlakes": true,
           "showland": true,
           "subunitcolor": "white"
          },
          "hoverlabel": {
           "align": "left"
          },
          "hovermode": "closest",
          "mapbox": {
           "style": "light"
          },
          "paper_bgcolor": "white",
          "plot_bgcolor": "#E5ECF6",
          "polar": {
           "angularaxis": {
            "gridcolor": "white",
            "linecolor": "white",
            "ticks": ""
           },
           "bgcolor": "#E5ECF6",
           "radialaxis": {
            "gridcolor": "white",
            "linecolor": "white",
            "ticks": ""
           }
          },
          "scene": {
           "xaxis": {
            "backgroundcolor": "#E5ECF6",
            "gridcolor": "white",
            "gridwidth": 2,
            "linecolor": "white",
            "showbackground": true,
            "ticks": "",
            "zerolinecolor": "white"
           },
           "yaxis": {
            "backgroundcolor": "#E5ECF6",
            "gridcolor": "white",
            "gridwidth": 2,
            "linecolor": "white",
            "showbackground": true,
            "ticks": "",
            "zerolinecolor": "white"
           },
           "zaxis": {
            "backgroundcolor": "#E5ECF6",
            "gridcolor": "white",
            "gridwidth": 2,
            "linecolor": "white",
            "showbackground": true,
            "ticks": "",
            "zerolinecolor": "white"
           }
          },
          "shapedefaults": {
           "line": {
            "color": "#2a3f5f"
           }
          },
          "ternary": {
           "aaxis": {
            "gridcolor": "white",
            "linecolor": "white",
            "ticks": ""
           },
           "baxis": {
            "gridcolor": "white",
            "linecolor": "white",
            "ticks": ""
           },
           "bgcolor": "#E5ECF6",
           "caxis": {
            "gridcolor": "white",
            "linecolor": "white",
            "ticks": ""
           }
          },
          "title": {
           "x": 0.05
          },
          "xaxis": {
           "automargin": true,
           "gridcolor": "white",
           "linecolor": "white",
           "ticks": "",
           "title": {
            "standoff": 15
           },
           "zerolinecolor": "white",
           "zerolinewidth": 2
          },
          "yaxis": {
           "automargin": true,
           "gridcolor": "white",
           "linecolor": "white",
           "ticks": "",
           "title": {
            "standoff": 15
           },
           "zerolinecolor": "white",
           "zerolinewidth": 2
          }
         }
        },
        "title": {
         "text": "Logit Lens Results for L1H2(IC) (in circuit)"
        },
        "xaxis": {
         "title": {
          "text": "Logit Lens Results"
         }
        },
        "yaxis": {
         "title": {
          "text": "True Logits"
         }
        }
       }
      }
     },
     "metadata": {},
     "output_type": "display_data"
    },
    {
     "data": {
      "text/plain": [
       "'./interp_results//3/logit_lens/L1H2(IC)/pearson.png'"
      ]
     },
     "execution_count": 13,
     "metadata": {},
     "output_type": "execute_result"
    }
   ],
   "source": [
    "key = \"L1H2(IC)\"\n",
    "plot_pearson(\n",
    "    key=key,\n",
    "    in_circuit= \"IC\" in key,\n",
    "    lens_results=logit_lens_results,\n",
    "    labels=labels,\n",
    "    case_name=case.get_name(),\n",
    "    show=True,\n",
    "    tuned_lens=tuned_lens,\n",
    "    is_categorical=case.is_categorical()\n",
    ")"
   ]
  },
  {
   "cell_type": "code",
   "execution_count": null,
   "metadata": {},
   "outputs": [],
   "source": []
  },
  {
   "cell_type": "code",
   "execution_count": null,
   "metadata": {},
   "outputs": [],
   "source": []
  }
 ],
 "metadata": {
  "kernelspec": {
   "display_name": "Python 3",
   "language": "python",
   "name": "python3"
  },
  "language_info": {
   "codemirror_mode": {
    "name": "ipython",
    "version": 3
   },
   "file_extension": ".py",
   "mimetype": "text/x-python",
   "name": "python",
   "nbconvert_exporter": "python",
   "pygments_lexer": "ipython3",
   "version": "3.11.4"
  }
 },
 "nbformat": 4,
 "nbformat_minor": 2
}
