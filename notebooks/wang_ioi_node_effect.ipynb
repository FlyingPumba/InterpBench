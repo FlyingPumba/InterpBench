{
 "cells": [
  {
   "cell_type": "code",
   "execution_count": 2,
   "metadata": {},
   "outputs": [
    {
     "name": "stdout",
     "output_type": "stream",
     "text": [
      "Loaded pretrained model gpt2-small into HookedTransformer\n"
     ]
    },
    {
     "data": {
      "text/plain": [
       "<torch.utils.data.dataloader.DataLoader at 0x2c99ba2d0>"
      ]
     },
     "execution_count": 2,
     "metadata": {},
     "output_type": "execute_result"
    }
   ],
   "source": [
    "%load_ext autoreload\n",
    "%autoreload 2"
   ]
  },
  {
   "cell_type": "code",
   "execution_count": 94,
   "metadata": {},
   "outputs": [],
   "source": [
    "from iit.model_pairs.nodes import LLNode\n",
    "from iit.utils.index import Ix\n",
    "\n",
    "def make_ll_node(layer, head=None):\n",
    "    if head is None:\n",
    "        return LLNode(\n",
    "            name=f\"blocks.{layer}.hook_mlp_out\",\n",
    "            index=None\n",
    "        )\n",
    "    else:\n",
    "        return LLNode(\n",
    "            name=f\"blocks.{layer}.attn.hook_result\",\n",
    "            index=Ix[:, :, head]\n",
    "        )\n",
    "\n",
    "nodes_in_circuit = [\n",
    "    # (0, None),\n",
    "    (2, 2), \n",
    "    (4, 11),\n",
    "\n",
    "    (0, 1),\n",
    "    (3, 0),\n",
    "    (0, 10),\n",
    "\n",
    "    (5, 5),\n",
    "    (6, 9),\n",
    "    (5, 8),\n",
    "    (5, 9),\n",
    "\n",
    "    (7, 3),\n",
    "    (7, 9),\n",
    "    (8, 6),\n",
    "    (8, 10),\n",
    "\n",
    "    (10, 7),\n",
    "    (11, 10),\n",
    "\n",
    "    (9, 9),\n",
    "    (9, 6),\n",
    "    (10, 0),\n",
    "\n",
    "    (9, 0),\n",
    "    (9, 7),\n",
    "    (10, 1),\n",
    "    (10, 2),\n",
    "    (10, 6),\n",
    "    (10, 10),\n",
    "    (11, 2),\n",
    "    (11, 9)\n",
    "]\n",
    "\n",
    "ll_nodes = [make_ll_node(*node) for node in nodes_in_circuit]"
   ]
  },
  {
   "cell_type": "code",
   "execution_count": 4,
   "metadata": {},
   "outputs": [],
   "source": [
    "from iit.utils.correspondence import Correspondence\n",
    "hl_ll_corr_dict = {\n",
    "    \"all_nodes_hook\" : ll_nodes\n",
    "}\n",
    "suffixes = {\n",
    "    \"attn\": \"attn.hook_z\",\n",
    "    \"mlp\": \"mlp.hook_post\",\n",
    "}\n",
    "\n",
    "\n",
    "corr = Correspondence.make_corr_from_dict(hl_ll_corr_dict, suffixes)"
   ]
  },
  {
   "cell_type": "code",
   "execution_count": null,
   "metadata": {},
   "outputs": [],
   "source": [
    "import transformer_lens as tl\n",
    "from iit.tasks.ioi import make_ioi_dataset_and_hl, ioi_config\n",
    "from iit.utils import IITDataset\n",
    "from iit.model_pairs import IOI_ModelPair\n",
    "import torch\n",
    "\n",
    "model = tl.HookedTransformer.from_pretrained('gpt2-small', device='cuda' if torch.cuda.is_available() else 'cpu')\n",
    "model.set_use_attn_result(True) # use attn.hook_result\n",
    "model.requires_grad_(False)\n",
    "torch.set_grad_enabled(False)\n",
    "ioi_dataset, hl_model = make_ioi_dataset_and_hl(\n",
    "    num_samples=10,\n",
    "    ll_model=model,\n",
    "    NAMES=ioi_config.NAMES\n",
    ")\n",
    "iit_dataset = IITDataset(ioi_dataset, ioi_dataset, seed=0)\n",
    "model_pair = IOI_ModelPair(\n",
    "    ll_model=model,\n",
    "    hl_model=hl_model,\n",
    "    corr=corr\n",
    ")"
   ]
  },
  {
   "cell_type": "code",
   "execution_count": 59,
   "metadata": {},
   "outputs": [],
   "source": [
    "# from iit.utils.eval_ablations import check_causal_effect, get_causal_effects_for_all_nodes, make_combined_dataframe_of_results\n",
    "\n",
    "\n",
    "# class IOI_single_dataset(torch.utils.data.Dataset):\n",
    "#     def __init__(self, ioi_dataset):\n",
    "#         self.ioi_dataset = ioi_dataset\n",
    "    \n",
    "#     def __getitem__(self, idx):\n",
    "#         return self.ioi_dataset[idx][0], self.ioi_dataset[idx][1]\n",
    "    \n",
    "#     def make_loader(self, batch_size, *args, **kwargs):\n",
    "#         return torch.utils.data.DataLoader(\n",
    "#             self.ioi_dataset,\n",
    "#             batch_size=batch_size,\n",
    "#             shuffle=False\n",
    "#         )\n",
    "    \n",
    "#     def __len__(self):\n",
    "#         return len(self.ioi_dataset)\n",
    "\n",
    "\n",
    "# results_in_circuit = check_causal_effect(\n",
    "#     model_pair=model_pair,\n",
    "#     dataset=iit_dataset,\n",
    "#     batch_size=32, \n",
    "#     node_type=\"individual_c\"\n",
    "# )\n",
    "# results_not_in_circuit = check_causal_effect(\n",
    "#     model_pair=model_pair,\n",
    "#     dataset=iit_dataset,\n",
    "#     batch_size=32, \n",
    "#     node_type=\"n\"\n",
    "# )\n",
    "\n",
    "# za_result_not_in_circuit, za_result_in_circuit = (\n",
    "#     get_causal_effects_for_all_nodes(\n",
    "#         model_pair,\n",
    "#         uni_test_set = IOI_single_dataset(ioi_dataset),\n",
    "#         batch_size=2,\n",
    "#         use_mean_cache=True,\n",
    "#     )\n",
    "# )\n",
    "\n",
    "# df = make_combined_dataframe_of_results(\n",
    "#     results_in_circuit,\n",
    "#     results_not_in_circuit,\n",
    "#     za_result_in_circuit,\n",
    "#     za_result_not_in_circuit,\n",
    "#     use_mean_cache=True\n",
    "# )\n",
    "\n",
    "# df.to_csv(\"results/wang_ioi_effect.csv\")"
   ]
  },
  {
   "cell_type": "code",
   "execution_count": 45,
   "metadata": {},
   "outputs": [],
   "source": [
    "# import pickle\n",
    "# results = pickle.load(open(\"./results/wang_ioi_results.pkl\", \"rb\"))"
   ]
  },
  {
   "cell_type": "code",
   "execution_count": 72,
   "metadata": {},
   "outputs": [],
   "source": [
    "import pandas as pd\n",
    "# from interp_utils.node_stats.plotting import append_row\n",
    "# combined_results_df = pd.DataFrame(\n",
    "#     columns=[\"node\", \"status\", \"resample_ablate_effect\"]\n",
    "# )\n",
    "\n",
    "# for node, res in results.items():\n",
    "#     node_layer = node.name.split(\".\")[1]\n",
    "#     try:\n",
    "#         node_head = node.index.as_index[2]\n",
    "#         node_in_circuit = (int(node_layer), node_head) in nodes_in_circuit\n",
    "#     except:\n",
    "#         node_in_circuit = False\n",
    "\n",
    "#     combined_results_df = append_row(\n",
    "#         combined_results_df, \n",
    "#         pd.Series({\n",
    "#             \"node\": node,\n",
    "#             \"status\": \"in_circuit\" if node_in_circuit else \"not_in_circuit\",\n",
    "#             \"resample_ablate_effect\": res\n",
    "#         })\n",
    "#     )\n",
    "combined_results_df = pd.read_csv(\"results/wang_ioi_effect.csv\")"
   ]
  },
  {
   "cell_type": "code",
   "execution_count": 127,
   "metadata": {},
   "outputs": [
    {
     "data": {
      "image/png": "[encoded data removed]",
      "text/plain": [
       "<Figure size 640x480 with 1 Axes>"
      ]
     },
     "metadata": {},
     "output_type": "display_data"
    }
   ],
   "source": [
    "import matplotlib.pyplot as plt\n",
    "combined_results_df.boxplot(\n",
    "    by=\"status\", \n",
    "    column=\"resample_ablate_effect\", \n",
    "    grid=False,\n",
    "    patch_artist=True\n",
    ")\n",
    "# reset title\n",
    "plt.suptitle(\"\")\n",
    "plt.title(\"\")\n",
    "\n",
    "# set all font size to 14 (tick labels, title, etc.)\n",
    "plt.rcParams.update({\n",
    "    'font.size': 16,\n",
    "    'axes.titlesize': 16,\n",
    "    'axes.labelsize': 16,\n",
    "    'xtick.labelsize': 16,\n",
    "    'ytick.labelsize': 14,\n",
    "    'legend.fontsize': 16,\n",
    "    'figure.titlesize': 14\n",
    "})\n",
    "plt.ylim(0, 0.2)\n",
    "plt.savefig(\"results/wang_ioi_effect.pdf\", bbox_inches=\"tight\")\n",
    "plt.xticks([1, 2], [\"In Circuit\", \"Not In Circuit\"], rotation=0)\n",
    "plt.xlabel(\"\")\n",
    "plt.ylabel(\"Resample Ablate Effect\")\n",
    "plt.savefig(\"results/wang_ioi_effect.pdf\", bbox_inches=\"tight\")"
   ]
  },
  {
   "cell_type": "code",
   "execution_count": 71,
   "metadata": {},
   "outputs": [
    {
     "data": {
      "text/html": [
       "<div>\n",
       "<style scoped>\n",
       "    .dataframe tbody tr th:only-of-type {\n",
       "        vertical-align: middle;\n",
       "    }\n",
       "\n",
       "    .dataframe tbody tr th {\n",
       "        vertical-align: top;\n",
       "    }\n",
       "\n",
       "    .dataframe thead th {\n",
       "        text-align: right;\n",
       "    }\n",
       "</style>\n",
       "<table border=\"1\" class=\"dataframe\">\n",
       "  <thead>\n",
       "    <tr style=\"text-align: right;\">\n",
       "      <th></th>\n",
       "      <th>node</th>\n",
       "      <th>status</th>\n",
       "      <th>resample_ablate_effect</th>\n",
       "    </tr>\n",
       "  </thead>\n",
       "  <tbody>\n",
       "    <tr>\n",
       "      <th>12</th>\n",
       "      <td>LLNode(name='blocks.0.mlp.hook_post', index=[:...</td>\n",
       "      <td>not_in_circuit</td>\n",
       "      <td>0.998922</td>\n",
       "    </tr>\n",
       "  </tbody>\n",
       "</table>\n",
       "</div>"
      ],
      "text/plain": [
       "                                                 node          status  \\\n",
       "12  LLNode(name='blocks.0.mlp.hook_post', index=[:...  not_in_circuit   \n",
       "\n",
       "    resample_ablate_effect  \n",
       "12                0.998922  "
      ]
     },
     "execution_count": 71,
     "metadata": {},
     "output_type": "execute_result"
    }
   ],
   "source": [
    "combined_results_df[combined_results_df['resample_ablate_effect'] > 0.5]"
   ]
  },
  {
   "cell_type": "code",
   "execution_count": null,
   "metadata": {},
   "outputs": [],
   "source": []
  },
  {
   "cell_type": "code",
   "execution_count": 116,
   "metadata": {},
   "outputs": [
    {
     "data": {
      "text/html": [
       "<div>\n",
       "<style scoped>\n",
       "    .dataframe tbody tr th:only-of-type {\n",
       "        vertical-align: middle;\n",
       "    }\n",
       "\n",
       "    .dataframe tbody tr th {\n",
       "        vertical-align: top;\n",
       "    }\n",
       "\n",
       "    .dataframe thead th {\n",
       "        text-align: right;\n",
       "    }\n",
       "</style>\n",
       "<table border=\"1\" class=\"dataframe\">\n",
       "  <thead>\n",
       "    <tr style=\"text-align: right;\">\n",
       "      <th></th>\n",
       "      <th>mean</th>\n",
       "      <th>std</th>\n",
       "      <th>median</th>\n",
       "      <th>25th</th>\n",
       "      <th>75th</th>\n",
       "      <th>min</th>\n",
       "      <th>max</th>\n",
       "    </tr>\n",
       "    <tr>\n",
       "      <th>status</th>\n",
       "      <th></th>\n",
       "      <th></th>\n",
       "      <th></th>\n",
       "      <th></th>\n",
       "      <th></th>\n",
       "      <th></th>\n",
       "      <th></th>\n",
       "    </tr>\n",
       "  </thead>\n",
       "  <tbody>\n",
       "    <tr>\n",
       "      <th>in_circuit</th>\n",
       "      <td>0.028</td>\n",
       "      <td>0.041</td>\n",
       "      <td>0.014</td>\n",
       "      <td>0.008</td>\n",
       "      <td>0.024</td>\n",
       "      <td>0.001</td>\n",
       "      <td>0.162</td>\n",
       "    </tr>\n",
       "    <tr>\n",
       "      <th>not_in_circuit</th>\n",
       "      <td>0.009</td>\n",
       "      <td>0.007</td>\n",
       "      <td>0.008</td>\n",
       "      <td>0.007</td>\n",
       "      <td>0.008</td>\n",
       "      <td>0.002</td>\n",
       "      <td>0.071</td>\n",
       "    </tr>\n",
       "  </tbody>\n",
       "</table>\n",
       "</div>"
      ],
      "text/plain": [
       "                 mean    std  median   25th   75th    min    max\n",
       "status                                                          \n",
       "in_circuit      0.028  0.041   0.014  0.008  0.024  0.001  0.162\n",
       "not_in_circuit  0.009  0.007   0.008  0.007  0.008  0.002  0.071"
      ]
     },
     "execution_count": 116,
     "metadata": {},
     "output_type": "execute_result"
    }
   ],
   "source": [
    "# get mean, std, median, quantiles, and min-max range\n",
    "stats = combined_results_df_without_mlp_0.groupby(\"status\").agg(\n",
    "    {\"resample_ablate_effect\": [\"mean\", \"std\", \"median\", lambda x: x.quantile(0.25), lambda x: x.quantile(0.75), \"min\", \"max\"]}\n",
    ").round(3)\n",
    "\n",
    "# change the columns to have Quantiles as a single column instead of median, 25th, and 75th percentile\n",
    "stats.columns = [\"mean\", \"std\", \"median\", \"25th\", \"75th\", \"min\", \"max\"]\n",
    "\n",
    "stats"
   ]
  },
  {
   "cell_type": "code",
   "execution_count": 110,
   "metadata": {},
   "outputs": [
    {
     "name": "stdout",
     "output_type": "stream",
     "text": [
      "\\begin{tabular}{lrrrrrrr}\n",
      "\\toprule\n",
      " & mean & std & median & 25th & 75th & min & max \\\\\n",
      "status &  &  &  &  &  &  &  \\\\\n",
      "\\midrule\n",
      "in_circuit & 0.028000 & 0.041000 & 0.014000 & 0.008000 & 0.024000 & 0.001000 & 0.162000 \\\\\n",
      "not_in_circuit & 0.009000 & 0.007000 & 0.008000 & 0.007000 & 0.008000 & 0.002000 & 0.071000 \\\\\n",
      "\\bottomrule\n",
      "\\end{tabular}\n",
      "\n"
     ]
    }
   ],
   "source": [
    "print(stats.to_latex())"
   ]
  },
  {
   "cell_type": "code",
   "execution_count": 111,
   "metadata": {},
   "outputs": [],
   "source": [
    "stats.to_csv(\"results/wang_ioi_effect_stats.csv\")"
   ]
  },
  {
   "cell_type": "code",
   "execution_count": 95,
   "metadata": {},
   "outputs": [],
   "source": [
    "for row in combined_results_df.itertuples():\n",
    "    node = row.node\n",
    "    layer = int(node.split(\".\")[1])\n",
    "    head = int(node[-1]) if \"attn\" in node else None\n",
    "    row_in_circuit = (layer, head) in nodes_in_circuit\n",
    "    # update the row\n",
    "    combined_results_df.at[row.Index, \"status\"] = \"in_circuit\" if row_in_circuit else \"not_in_circuit\""
   ]
  },
  {
   "cell_type": "code",
   "execution_count": 104,
   "metadata": {},
   "outputs": [
    {
     "data": {
      "text/html": [
       "<div>\n",
       "<style scoped>\n",
       "    .dataframe tbody tr th:only-of-type {\n",
       "        vertical-align: middle;\n",
       "    }\n",
       "\n",
       "    .dataframe tbody tr th {\n",
       "        vertical-align: top;\n",
       "    }\n",
       "\n",
       "    .dataframe thead th {\n",
       "        text-align: right;\n",
       "    }\n",
       "</style>\n",
       "<table border=\"1\" class=\"dataframe\">\n",
       "  <thead>\n",
       "    <tr style=\"text-align: right;\">\n",
       "      <th></th>\n",
       "      <th>Unnamed: 0</th>\n",
       "      <th>node</th>\n",
       "      <th>status</th>\n",
       "      <th>resample_ablate_effect</th>\n",
       "      <th>mean_ablate_effect</th>\n",
       "    </tr>\n",
       "  </thead>\n",
       "  <tbody>\n",
       "    <tr>\n",
       "      <th>111</th>\n",
       "      <td>12</td>\n",
       "      <td>blocks.0.mlp.hook_post</td>\n",
       "      <td>not_in_circuit</td>\n",
       "      <td>0.999292</td>\n",
       "      <td>0.26389</td>\n",
       "    </tr>\n",
       "  </tbody>\n",
       "</table>\n",
       "</div>"
      ],
      "text/plain": [
       "     Unnamed: 0                    node          status  \\\n",
       "111          12  blocks.0.mlp.hook_post  not_in_circuit   \n",
       "\n",
       "     resample_ablate_effect  mean_ablate_effect  \n",
       "111                0.999292             0.26389  "
      ]
     },
     "execution_count": 104,
     "metadata": {},
     "output_type": "execute_result"
    }
   ],
   "source": [
    "# get max effect\n",
    "combined_results_df[combined_results_df['resample_ablate_effect'] > 0.5]"
   ]
  },
  {
   "cell_type": "code",
   "execution_count": 105,
   "metadata": {},
   "outputs": [],
   "source": [
    "# delete blocks.0.mlp.hook_post node from the dataframe\n",
    "\n",
    "combined_results_df_without_mlp_0 = combined_results_df[~combined_results_df['node'].str.contains(\"blocks.0.mlp.hook_post\")]"
   ]
  }
 ],
 "metadata": {
  "kernelspec": {
   "display_name": ".iit",
   "language": "python",
   "name": "python3"
  },
  "language_info": {
   "codemirror_mode": {
    "name": "ipython",
    "version": 3
   },
   "file_extension": ".py",
   "mimetype": "text/x-python",
   "name": "python",
   "nbconvert_exporter": "python",
   "pygments_lexer": "ipython3",
   "version": "3.11.4"
  }
 },
 "nbformat": 4,
 "nbformat_minor": 2
}
