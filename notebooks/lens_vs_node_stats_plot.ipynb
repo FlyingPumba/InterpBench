{
 "cells": [
  {
   "cell_type": "code",
   "execution_count": 1,
   "metadata": {},
   "outputs": [],
   "source": [
    "%load_ext autoreload\n",
    "%autoreload 2"
   ]
  },
  {
   "cell_type": "code",
   "execution_count": 2,
   "metadata": {},
   "outputs": [
    {
     "name": "stdout",
     "output_type": "stream",
     "text": [
      "[11 13 18 19 20 21 26 29  3 33 34 35 36 37  4  8]\n"
     ]
    }
   ],
   "source": [
    "from interp_utils.node_stats.all_stats import make_all_stats\n",
    "from circuits_benchmark.utils.get_cases import get_names_of_working_cases, get_cases\n",
    "import pandas as pd\n",
    "from typing import Literal\n",
    "\n",
    "\n",
    "lens: Literal['logit_lens', 'tuned_lens'] = 'logit_lens'\n",
    "\n",
    "\n",
    "make = False\n",
    "csv_file = \"interp_results/siit_node_stats_all_cases.csv\"\n",
    "if make:\n",
    "    from interp_utils.node_stats.plotting import make_dict_from_stats, make_df_from_stats\n",
    "    cases = [ case for case in get_names_of_working_cases() if 'ioi' not in case ]\n",
    "    cases = get_cases(indices=cases)\n",
    "    all_stats = make_all_stats(\n",
    "        cases=cases,\n",
    "        only_siit=True,\n",
    "    )\n",
    "    siit_stats = make_df_from_stats(make_dict_from_stats(all_stats, \"siit\"))\n",
    "    for row in siit_stats.iterrows():\n",
    "        if row[1][\"node\"] == \"blocks.0.attn.hook_result, head  0\" and row[1][\"status\"] == \"in_circuit\" and row[1][\"run\"] == \"8\":\n",
    "            print(\"Removing case 8 constant node for siit_stats\")\n",
    "            siit_stats.loc[row[0], \"status\"] = \"not_in_circuit\"\n",
    "\n",
    "    siit_stats.to_csv(csv_file, index=False)\n",
    "else:\n",
    "    siit_stats = pd.read_csv(csv_file)\n",
    "    cases = siit_stats['run'].unique()\n",
    "\n",
    "\n",
    "print(cases)"
   ]
  },
  {
   "cell_type": "code",
   "execution_count": 3,
   "metadata": {},
   "outputs": [
    {
     "name": "stdout",
     "output_type": "stream",
     "text": [
      "dict_keys([11, 13, 18, 19, 20, 21, 26, 29, 3, 33, 34, 35, 36, 37, 4, 8])\n"
     ]
    }
   ],
   "source": [
    "lens_stats = {}\n",
    "\n",
    "for case in cases:\n",
    "    pearsons_for_case = pd.read_csv(f\"interp_results/{case}/{lens}/combined_pearson.csv\")\n",
    "    p_value_for_case = pd.read_csv(f\"interp_results/{case}/{lens}/combined_p_values.csv\")\n",
    "    var_explained_for_case = pd.read_csv(f\"interp_results/{case}/{lens}/combined_variance_explained.csv\")\n",
    "    lens_stats[case] = {\n",
    "        'pearsons': pearsons_for_case,\n",
    "        'p_values': p_value_for_case,\n",
    "        'var_explained': var_explained_for_case,\n",
    "    }\n",
    "\n",
    "print(lens_stats.keys())"
   ]
  },
  {
   "cell_type": "code",
   "execution_count": 5,
   "metadata": {},
   "outputs": [],
   "source": [
    "import re\n",
    "\n",
    "lens_node_templates = {\n",
    "    \"mlp\" : \"\"\"{layer}_mlp_out\"\"\",\n",
    "    \"attn\": \"\"\"L{layer}H{head}\"\"\",\n",
    "    \"in_circuit\": \"(IC)\"\n",
    "}\n",
    "\n",
    "siit_node_templates = {\n",
    "    \"mlp\": \"\"\"blocks.{layer}.mlp.hook_post\"\"\",\n",
    "    \"attn\": \"\"\"blocks.{layer}.attn.hook_result, head  {head}\"\"\",\n",
    "}\n",
    "\n",
    "def convert_lens_node_name_to_siit_node_name(lens_node_name: str) -> str:\n",
    "    # check if lens node matches the mlp template\n",
    "    lens_matches_mlp = re.match(r\"(\\d)_mlp_out\", lens_node_name)\n",
    "    # check if lens node matches the attn template\n",
    "    lens_matches_attn = re.match(r\"L(\\d)H(\\d)\", lens_node_name)\n",
    "\n",
    "    if lens_matches_mlp:\n",
    "        layer = lens_node_name.split(\"_\")[0]\n",
    "        return siit_node_templates[\"mlp\"].format(layer=layer)\n",
    "    \n",
    "    elif lens_matches_attn:\n",
    "        layer = lens_node_name[1]\n",
    "        head = lens_node_name[3]\n",
    "        return siit_node_templates[\"attn\"].format(layer=layer, head=head)\n",
    "    else:\n",
    "        return None\n",
    "    \n",
    "assert convert_lens_node_name_to_siit_node_name(\"3_mlp_out\") == \"blocks.3.mlp.hook_post\"\n",
    "assert convert_lens_node_name_to_siit_node_name(\"L3H2\") == \"blocks.3.attn.hook_result, head  2\"\n",
    "assert convert_lens_node_name_to_siit_node_name(\"L0H1(IC)\") == \"blocks.0.attn.hook_result, head  1\""
   ]
  },
  {
   "cell_type": "code",
   "execution_count": 6,
   "metadata": {},
   "outputs": [
    {
     "name": "stderr",
     "output_type": "stream",
     "text": [
      "/Users/cybershiptrooper/src/interpretability/MATS/circuits-benchmark/notebooks/interp_utils/common.py:4: FutureWarning: The behavior of DataFrame concatenation with empty or all-NA entries is deprecated. In a future version, this will no longer exclude empty or all-NA columns when determining the result dtypes. To retain the old behavior, exclude the relevant entries before the concat operation.\n",
      "  return pd.concat([\n"
     ]
    }
   ],
   "source": [
    "from interp_utils.common import append_row\n",
    "def make_lens_stats_df_for_case(\n",
    "    case: int | str,\n",
    "    lens_stats: dict,\n",
    ") -> pd.DataFrame:\n",
    "    pearson = lens_stats[case]['pearsons']\n",
    "    p_value = lens_stats[case]['p_values']\n",
    "    variance_explained = lens_stats[case]['var_explained']\n",
    "    \n",
    "    lens_stats_df = pd.DataFrame(\n",
    "        columns=[\"node\", \"pearson\", \"p_value\", \"variance_explained\"]\n",
    "    )\n",
    "\n",
    "    for node in pearson.columns:\n",
    "        siit_node_name = convert_lens_node_name_to_siit_node_name(node)\n",
    "        if siit_node_name is None:\n",
    "            continue\n",
    "\n",
    "        pearson_val = pearson[node].values.mean()\n",
    "        p_value_val = p_value[node].values.mean()\n",
    "        variance_explained_val = variance_explained[node].values.mean()\n",
    "\n",
    "        lens_stats_df_entry = {\n",
    "            \"node\": siit_node_name,\n",
    "            \"pearson\": pearson_val,\n",
    "            \"p_value\": p_value_val,\n",
    "            \"variance_explained\": variance_explained_val,\n",
    "        }\n",
    "\n",
    "        lens_stats_df = append_row(lens_stats_df, pd.Series(lens_stats_df_entry))\n",
    "    \n",
    "    return lens_stats_df\n",
    "\n",
    "for i, j in zip(sorted(siit_stats[siit_stats[\"run\"] == 3][\"node\"].values), sorted(make_lens_stats_df_for_case(3, lens_stats)[\"node\"].values)):\n",
    "    assert i == j, f\"{i} != {j}\""
   ]
  },
  {
   "cell_type": "code",
   "execution_count": 7,
   "metadata": {},
   "outputs": [],
   "source": [
    "def merge_siit_and_lens_df_for_case(\n",
    "    case: int | str,\n",
    "    siit_stats: pd.DataFrame,\n",
    "    lens_stats: dict,\n",
    ") -> pd.DataFrame:\n",
    "\n",
    "    siit_stats_for_case = siit_stats[siit_stats['run'] == case]\n",
    "\n",
    "    # make logit_lens_stats_df for case\n",
    "    lens_stats_df = make_lens_stats_df_for_case(\n",
    "        case=case,\n",
    "        lens_stats=lens_stats,\n",
    "    )\n",
    "    # merge with siit stats for case\n",
    "    merged_df = pd.merge(\n",
    "        siit_stats_for_case,\n",
    "        lens_stats_df,\n",
    "        on=\"node\",\n",
    "        how=\"inner\",\n",
    "    )\n",
    "    return merged_df"
   ]
  },
  {
   "cell_type": "code",
   "execution_count": 8,
   "metadata": {},
   "outputs": [
    {
     "name": "stderr",
     "output_type": "stream",
     "text": [
      "/Users/cybershiptrooper/src/interpretability/MATS/circuits-benchmark/notebooks/interp_utils/common.py:4: FutureWarning: The behavior of DataFrame concatenation with empty or all-NA entries is deprecated. In a future version, this will no longer exclude empty or all-NA columns when determining the result dtypes. To retain the old behavior, exclude the relevant entries before the concat operation.\n",
      "  return pd.concat([\n",
      "/Users/cybershiptrooper/src/interpretability/MATS/circuits-benchmark/notebooks/interp_utils/common.py:4: FutureWarning: The behavior of DataFrame concatenation with empty or all-NA entries is deprecated. In a future version, this will no longer exclude empty or all-NA columns when determining the result dtypes. To retain the old behavior, exclude the relevant entries before the concat operation.\n",
      "  return pd.concat([\n",
      "/Users/cybershiptrooper/src/interpretability/MATS/circuits-benchmark/notebooks/interp_utils/common.py:4: FutureWarning: The behavior of DataFrame concatenation with empty or all-NA entries is deprecated. In a future version, this will no longer exclude empty or all-NA columns when determining the result dtypes. To retain the old behavior, exclude the relevant entries before the concat operation.\n",
      "  return pd.concat([\n",
      "/Users/cybershiptrooper/src/interpretability/MATS/circuits-benchmark/notebooks/interp_utils/common.py:4: FutureWarning: The behavior of DataFrame concatenation with empty or all-NA entries is deprecated. In a future version, this will no longer exclude empty or all-NA columns when determining the result dtypes. To retain the old behavior, exclude the relevant entries before the concat operation.\n",
      "  return pd.concat([\n",
      "/Users/cybershiptrooper/src/interpretability/MATS/circuits-benchmark/notebooks/interp_utils/common.py:4: FutureWarning: The behavior of DataFrame concatenation with empty or all-NA entries is deprecated. In a future version, this will no longer exclude empty or all-NA columns when determining the result dtypes. To retain the old behavior, exclude the relevant entries before the concat operation.\n",
      "  return pd.concat([\n",
      "/Users/cybershiptrooper/src/interpretability/MATS/circuits-benchmark/notebooks/interp_utils/common.py:4: FutureWarning: The behavior of DataFrame concatenation with empty or all-NA entries is deprecated. In a future version, this will no longer exclude empty or all-NA columns when determining the result dtypes. To retain the old behavior, exclude the relevant entries before the concat operation.\n",
      "  return pd.concat([\n",
      "/Users/cybershiptrooper/src/interpretability/MATS/circuits-benchmark/notebooks/interp_utils/common.py:4: FutureWarning: The behavior of DataFrame concatenation with empty or all-NA entries is deprecated. In a future version, this will no longer exclude empty or all-NA columns when determining the result dtypes. To retain the old behavior, exclude the relevant entries before the concat operation.\n",
      "  return pd.concat([\n",
      "/Users/cybershiptrooper/src/interpretability/MATS/circuits-benchmark/notebooks/interp_utils/common.py:4: FutureWarning: The behavior of DataFrame concatenation with empty or all-NA entries is deprecated. In a future version, this will no longer exclude empty or all-NA columns when determining the result dtypes. To retain the old behavior, exclude the relevant entries before the concat operation.\n",
      "  return pd.concat([\n",
      "/Users/cybershiptrooper/src/interpretability/MATS/circuits-benchmark/notebooks/interp_utils/common.py:4: FutureWarning: The behavior of DataFrame concatenation with empty or all-NA entries is deprecated. In a future version, this will no longer exclude empty or all-NA columns when determining the result dtypes. To retain the old behavior, exclude the relevant entries before the concat operation.\n",
      "  return pd.concat([\n",
      "/Users/cybershiptrooper/src/interpretability/MATS/circuits-benchmark/notebooks/interp_utils/common.py:4: FutureWarning: The behavior of DataFrame concatenation with empty or all-NA entries is deprecated. In a future version, this will no longer exclude empty or all-NA columns when determining the result dtypes. To retain the old behavior, exclude the relevant entries before the concat operation.\n",
      "  return pd.concat([\n",
      "/Users/cybershiptrooper/src/interpretability/MATS/circuits-benchmark/notebooks/interp_utils/common.py:4: FutureWarning: The behavior of DataFrame concatenation with empty or all-NA entries is deprecated. In a future version, this will no longer exclude empty or all-NA columns when determining the result dtypes. To retain the old behavior, exclude the relevant entries before the concat operation.\n",
      "  return pd.concat([\n",
      "/Users/cybershiptrooper/src/interpretability/MATS/circuits-benchmark/notebooks/interp_utils/common.py:4: FutureWarning: The behavior of DataFrame concatenation with empty or all-NA entries is deprecated. In a future version, this will no longer exclude empty or all-NA columns when determining the result dtypes. To retain the old behavior, exclude the relevant entries before the concat operation.\n",
      "  return pd.concat([\n",
      "/Users/cybershiptrooper/src/interpretability/MATS/circuits-benchmark/notebooks/interp_utils/common.py:4: FutureWarning: The behavior of DataFrame concatenation with empty or all-NA entries is deprecated. In a future version, this will no longer exclude empty or all-NA columns when determining the result dtypes. To retain the old behavior, exclude the relevant entries before the concat operation.\n",
      "  return pd.concat([\n",
      "/Users/cybershiptrooper/src/interpretability/MATS/circuits-benchmark/notebooks/interp_utils/common.py:4: FutureWarning: The behavior of DataFrame concatenation with empty or all-NA entries is deprecated. In a future version, this will no longer exclude empty or all-NA columns when determining the result dtypes. To retain the old behavior, exclude the relevant entries before the concat operation.\n",
      "  return pd.concat([\n",
      "/Users/cybershiptrooper/src/interpretability/MATS/circuits-benchmark/notebooks/interp_utils/common.py:4: FutureWarning: The behavior of DataFrame concatenation with empty or all-NA entries is deprecated. In a future version, this will no longer exclude empty or all-NA columns when determining the result dtypes. To retain the old behavior, exclude the relevant entries before the concat operation.\n",
      "  return pd.concat([\n",
      "/Users/cybershiptrooper/src/interpretability/MATS/circuits-benchmark/notebooks/interp_utils/common.py:4: FutureWarning: The behavior of DataFrame concatenation with empty or all-NA entries is deprecated. In a future version, this will no longer exclude empty or all-NA columns when determining the result dtypes. To retain the old behavior, exclude the relevant entries before the concat operation.\n",
      "  return pd.concat([\n"
     ]
    }
   ],
   "source": [
    "combined_siit_stats_list_by_case = []\n",
    "\n",
    "for k, v in lens_stats.items():\n",
    "    combined_df = merge_siit_and_lens_df_for_case(\n",
    "        case=k,\n",
    "        siit_stats=siit_stats,\n",
    "        lens_stats=lens_stats,\n",
    "    )\n",
    "    combined_siit_stats_list_by_case.append(combined_df)\n",
    "\n",
    "for case in combined_siit_stats_list_by_case:\n",
    "    # check if the number of rows in the combined df is the same as the number of rows in the siit stats df\n",
    "    assert len(case) == len(siit_stats[siit_stats['run'] == case['run'].values[0]]), f\"{len(case)} != {len(siit_stats[siit_stats['run'] == case['run'].values[0]])}\""
   ]
  },
  {
   "cell_type": "code",
   "execution_count": 9,
   "metadata": {},
   "outputs": [
    {
     "data": {
      "text/html": [
       "<div>\n",
       "<style scoped>\n",
       "    .dataframe tbody tr th:only-of-type {\n",
       "        vertical-align: middle;\n",
       "    }\n",
       "\n",
       "    .dataframe tbody tr th {\n",
       "        vertical-align: top;\n",
       "    }\n",
       "\n",
       "    .dataframe thead th {\n",
       "        text-align: right;\n",
       "    }\n",
       "</style>\n",
       "<table border=\"1\" class=\"dataframe\">\n",
       "  <thead>\n",
       "    <tr style=\"text-align: right;\">\n",
       "      <th></th>\n",
       "      <th>run</th>\n",
       "      <th>node</th>\n",
       "      <th>status</th>\n",
       "      <th>resample_ablate_effect</th>\n",
       "      <th>zero_ablate_effect</th>\n",
       "      <th>norm_cache</th>\n",
       "      <th>norm_std</th>\n",
       "      <th>grad_norm</th>\n",
       "      <th>grad_std</th>\n",
       "      <th>pearson</th>\n",
       "      <th>p_value</th>\n",
       "      <th>variance_explained</th>\n",
       "    </tr>\n",
       "  </thead>\n",
       "  <tbody>\n",
       "    <tr>\n",
       "      <th>0</th>\n",
       "      <td>11</td>\n",
       "      <td>blocks.0.attn.hook_result, head  0</td>\n",
       "      <td>not_in_circuit</td>\n",
       "      <td>0.000000</td>\n",
       "      <td>0.000</td>\n",
       "      <td>1.262980</td>\n",
       "      <td>0.119411</td>\n",
       "      <td>8.499493e-13</td>\n",
       "      <td>3.875514e-14</td>\n",
       "      <td>0.176664</td>\n",
       "      <td>1.453244e-02</td>\n",
       "      <td>0.000162</td>\n",
       "    </tr>\n",
       "    <tr>\n",
       "      <th>1</th>\n",
       "      <td>11</td>\n",
       "      <td>blocks.0.attn.hook_result, head  1</td>\n",
       "      <td>not_in_circuit</td>\n",
       "      <td>0.000000</td>\n",
       "      <td>0.000</td>\n",
       "      <td>0.799124</td>\n",
       "      <td>0.081348</td>\n",
       "      <td>8.499493e-13</td>\n",
       "      <td>3.875514e-14</td>\n",
       "      <td>0.806619</td>\n",
       "      <td>1.155068e-202</td>\n",
       "      <td>0.002262</td>\n",
       "    </tr>\n",
       "    <tr>\n",
       "      <th>2</th>\n",
       "      <td>11</td>\n",
       "      <td>blocks.0.attn.hook_result, head  2</td>\n",
       "      <td>not_in_circuit</td>\n",
       "      <td>0.000000</td>\n",
       "      <td>0.000</td>\n",
       "      <td>0.338909</td>\n",
       "      <td>0.015247</td>\n",
       "      <td>8.499493e-13</td>\n",
       "      <td>3.875514e-14</td>\n",
       "      <td>0.505543</td>\n",
       "      <td>3.996870e-08</td>\n",
       "      <td>0.000586</td>\n",
       "    </tr>\n",
       "    <tr>\n",
       "      <th>3</th>\n",
       "      <td>11</td>\n",
       "      <td>blocks.0.attn.hook_result, head  3</td>\n",
       "      <td>not_in_circuit</td>\n",
       "      <td>0.000000</td>\n",
       "      <td>0.000</td>\n",
       "      <td>0.890073</td>\n",
       "      <td>0.077784</td>\n",
       "      <td>8.499493e-13</td>\n",
       "      <td>3.875514e-14</td>\n",
       "      <td>0.762649</td>\n",
       "      <td>2.231085e-129</td>\n",
       "      <td>0.003579</td>\n",
       "    </tr>\n",
       "    <tr>\n",
       "      <th>4</th>\n",
       "      <td>11</td>\n",
       "      <td>blocks.1.attn.hook_result, head  1</td>\n",
       "      <td>not_in_circuit</td>\n",
       "      <td>0.000000</td>\n",
       "      <td>0.000</td>\n",
       "      <td>68.908388</td>\n",
       "      <td>8.781318</td>\n",
       "      <td>1.294538e-14</td>\n",
       "      <td>5.751065e-16</td>\n",
       "      <td>0.580695</td>\n",
       "      <td>3.184719e-47</td>\n",
       "      <td>0.192616</td>\n",
       "    </tr>\n",
       "    <tr>\n",
       "      <th>...</th>\n",
       "      <td>...</td>\n",
       "      <td>...</td>\n",
       "      <td>...</td>\n",
       "      <td>...</td>\n",
       "      <td>...</td>\n",
       "      <td>...</td>\n",
       "      <td>...</td>\n",
       "      <td>...</td>\n",
       "      <td>...</td>\n",
       "      <td>...</td>\n",
       "      <td>...</td>\n",
       "      <td>...</td>\n",
       "    </tr>\n",
       "    <tr>\n",
       "      <th>5</th>\n",
       "      <td>8</td>\n",
       "      <td>blocks.1.attn.hook_result, head  2</td>\n",
       "      <td>not_in_circuit</td>\n",
       "      <td>0.001137</td>\n",
       "      <td>0.000</td>\n",
       "      <td>198.155608</td>\n",
       "      <td>31.158730</td>\n",
       "      <td>0.000000e+00</td>\n",
       "      <td>1.228670e-25</td>\n",
       "      <td>0.299936</td>\n",
       "      <td>3.861087e-14</td>\n",
       "      <td>13.705566</td>\n",
       "    </tr>\n",
       "    <tr>\n",
       "      <th>6</th>\n",
       "      <td>8</td>\n",
       "      <td>blocks.1.attn.hook_result, head  3</td>\n",
       "      <td>not_in_circuit</td>\n",
       "      <td>0.000000</td>\n",
       "      <td>0.000</td>\n",
       "      <td>121.960837</td>\n",
       "      <td>18.115889</td>\n",
       "      <td>0.000000e+00</td>\n",
       "      <td>1.228670e-25</td>\n",
       "      <td>0.489854</td>\n",
       "      <td>1.890862e-35</td>\n",
       "      <td>16.305117</td>\n",
       "    </tr>\n",
       "    <tr>\n",
       "      <th>7</th>\n",
       "      <td>8</td>\n",
       "      <td>blocks.1.mlp.hook_post</td>\n",
       "      <td>not_in_circuit</td>\n",
       "      <td>0.016370</td>\n",
       "      <td>0.000</td>\n",
       "      <td>735.897600</td>\n",
       "      <td>95.376083</td>\n",
       "      <td>0.000000e+00</td>\n",
       "      <td>3.470025e-26</td>\n",
       "      <td>0.657167</td>\n",
       "      <td>1.069579e-46</td>\n",
       "      <td>12.956226</td>\n",
       "    </tr>\n",
       "    <tr>\n",
       "      <th>8</th>\n",
       "      <td>8</td>\n",
       "      <td>blocks.0.attn.hook_result, head  0</td>\n",
       "      <td>not_in_circuit</td>\n",
       "      <td>0.000000</td>\n",
       "      <td>0.000</td>\n",
       "      <td>1.801120</td>\n",
       "      <td>0.390171</td>\n",
       "      <td>0.000000e+00</td>\n",
       "      <td>3.407970e-24</td>\n",
       "      <td>0.388273</td>\n",
       "      <td>6.159889e-15</td>\n",
       "      <td>18.107754</td>\n",
       "    </tr>\n",
       "    <tr>\n",
       "      <th>9</th>\n",
       "      <td>8</td>\n",
       "      <td>blocks.0.mlp.hook_post</td>\n",
       "      <td>in_circuit</td>\n",
       "      <td>1.000000</td>\n",
       "      <td>0.346</td>\n",
       "      <td>70.187706</td>\n",
       "      <td>3.023469</td>\n",
       "      <td>0.000000e+00</td>\n",
       "      <td>3.539760e-25</td>\n",
       "      <td>0.537892</td>\n",
       "      <td>1.291977e-31</td>\n",
       "      <td>2.804819</td>\n",
       "    </tr>\n",
       "  </tbody>\n",
       "</table>\n",
       "<p>170 rows × 12 columns</p>\n",
       "</div>"
      ],
      "text/plain": [
       "    run                                node          status  \\\n",
       "0    11  blocks.0.attn.hook_result, head  0  not_in_circuit   \n",
       "1    11  blocks.0.attn.hook_result, head  1  not_in_circuit   \n",
       "2    11  blocks.0.attn.hook_result, head  2  not_in_circuit   \n",
       "3    11  blocks.0.attn.hook_result, head  3  not_in_circuit   \n",
       "4    11  blocks.1.attn.hook_result, head  1  not_in_circuit   \n",
       "..  ...                                 ...             ...   \n",
       "5     8  blocks.1.attn.hook_result, head  2  not_in_circuit   \n",
       "6     8  blocks.1.attn.hook_result, head  3  not_in_circuit   \n",
       "7     8              blocks.1.mlp.hook_post  not_in_circuit   \n",
       "8     8  blocks.0.attn.hook_result, head  0  not_in_circuit   \n",
       "9     8              blocks.0.mlp.hook_post      in_circuit   \n",
       "\n",
       "    resample_ablate_effect  zero_ablate_effect  norm_cache   norm_std  \\\n",
       "0                 0.000000               0.000    1.262980   0.119411   \n",
       "1                 0.000000               0.000    0.799124   0.081348   \n",
       "2                 0.000000               0.000    0.338909   0.015247   \n",
       "3                 0.000000               0.000    0.890073   0.077784   \n",
       "4                 0.000000               0.000   68.908388   8.781318   \n",
       "..                     ...                 ...         ...        ...   \n",
       "5                 0.001137               0.000  198.155608  31.158730   \n",
       "6                 0.000000               0.000  121.960837  18.115889   \n",
       "7                 0.016370               0.000  735.897600  95.376083   \n",
       "8                 0.000000               0.000    1.801120   0.390171   \n",
       "9                 1.000000               0.346   70.187706   3.023469   \n",
       "\n",
       "       grad_norm      grad_std   pearson        p_value  variance_explained  \n",
       "0   8.499493e-13  3.875514e-14  0.176664   1.453244e-02            0.000162  \n",
       "1   8.499493e-13  3.875514e-14  0.806619  1.155068e-202            0.002262  \n",
       "2   8.499493e-13  3.875514e-14  0.505543   3.996870e-08            0.000586  \n",
       "3   8.499493e-13  3.875514e-14  0.762649  2.231085e-129            0.003579  \n",
       "4   1.294538e-14  5.751065e-16  0.580695   3.184719e-47            0.192616  \n",
       "..           ...           ...       ...            ...                 ...  \n",
       "5   0.000000e+00  1.228670e-25  0.299936   3.861087e-14           13.705566  \n",
       "6   0.000000e+00  1.228670e-25  0.489854   1.890862e-35           16.305117  \n",
       "7   0.000000e+00  3.470025e-26  0.657167   1.069579e-46           12.956226  \n",
       "8   0.000000e+00  3.407970e-24  0.388273   6.159889e-15           18.107754  \n",
       "9   0.000000e+00  3.539760e-25  0.537892   1.291977e-31            2.804819  \n",
       "\n",
       "[170 rows x 12 columns]"
      ]
     },
     "execution_count": 9,
     "metadata": {},
     "output_type": "execute_result"
    }
   ],
   "source": [
    "# append all dfs in the list\n",
    "combined_siit_stats = pd.concat(combined_siit_stats_list_by_case)\n",
    "combined_siit_stats = combined_siit_stats.loc[:, ~combined_siit_stats.columns.str.contains('^Unnamed')]\n",
    "# combined_siit_stats.to_csv(f\"interp_results/siit_{lens}_combined.csv\", index=False)\n",
    "combined_siit_stats"
   ]
  },
  {
   "cell_type": "code",
   "execution_count": 10,
   "metadata": {},
   "outputs": [
    {
     "name": "stderr",
     "output_type": "stream",
     "text": [
      "/var/folders/_k/_46xyqdj165bdcyw79k6758w0000gn/T/ipykernel_83322/3157591342.py:12: FutureWarning: The behavior of DataFrame concatenation with empty or all-NA entries is deprecated. In a future version, this will no longer exclude empty or all-NA columns when determining the result dtypes. To retain the old behavior, exclude the relevant entries before the concat operation.\n",
      "  new_df = pd.concat([new_df,\n"
     ]
    }
   ],
   "source": [
    "# normalise node norm and std per case\n",
    "def normalise_node_norm_and_std(\n",
    "    df: pd.DataFrame,\n",
    "    norm_col: str,\n",
    "    std_col: str,\n",
    ") -> pd.DataFrame:\n",
    "    new_df = pd.DataFrame(columns=df.columns)\n",
    "    for case in df['run'].unique():\n",
    "        case_df = df[df['run'] == case]\n",
    "        case_df.loc[:, norm_col] = (case_df[norm_col] - case_df[norm_col].median()) / case_df[norm_col].std()\n",
    "        case_df.loc[:, std_col] = (case_df[std_col] - case_df[std_col].median()) / case_df[std_col].std()\n",
    "        new_df = pd.concat([new_df,\n",
    "                            case_df])\n",
    "    return new_df\n",
    "\n",
    "normalised_siit_stats = normalise_node_norm_and_std(\n",
    "    df=combined_siit_stats,\n",
    "    norm_col=\"norm_cache\",\n",
    "    std_col=\"norm_std\",\n",
    ")"
   ]
  },
  {
   "cell_type": "code",
   "execution_count": 11,
   "metadata": {},
   "outputs": [
    {
     "data": {
      "application/vnd.plotly.v1+json": {
       "config": {
        "plotlyServerURL": "https://plot.ly"
       },
       "data": [
        {
         "hovertext": [
          "<br>- run : 11<br>- node : blocks.0.mlp.hook_post<br>- status : in_circuit<br>- resample ablate effect : 0.9999999999999998<br>- zero ablate effect : 0.778999999221<br>- norm cache : 0.018482940233987482<br>- norm std : -0.011006905312421206<br>- grad norm : 1.6244803083004938e-13<br>- grad std : 7.412064295935373e-15<br>- pearson : 0.357731249994094<br>- p value : 3.361863822227456e-20<br>- variance explained : 0.041568027602301674",
          "<br>- run : 11<br>- node : blocks.1.attn.hook_result, head  0<br>- status : in_circuit<br>- resample ablate effect : 0.9999999999999998<br>- zero ablate effect : 0.787999999212<br>- norm cache : 2.808890460731961<br>- norm std : 3.1274702041756317<br>- grad norm : 1.2945383256839344e-14<br>- grad std : 5.751064661863449e-16<br>- pearson : 0.9826220624701885<br>- p value : 0.0<br>- variance explained : 0.5287932819790311",
          "<br>- run : 13<br>- node : blocks.0.attn.hook_result, head  0<br>- status : in_circuit<br>- resample ablate effect : 0.2355835045258844<br>- zero ablate effect : 0.173999999826<br>- norm cache : 0.007265407436097863<br>- norm std : -0.2470742633910915<br>- grad norm : 3.642729229369479e-09<br>- grad std : 1.2852192921020134e-10<br>- pearson : 0.11213531920164607<br>- p value : 0.09473391836427805<br>- variance explained : 7.958233130290261",
          "<br>- run : 13<br>- node : blocks.0.attn.hook_result, head  1<br>- status : in_circuit<br>- resample ablate effect : 0.3387400731304154<br>- zero ablate effect : 0.268999999731<br>- norm cache : 0.03453624082925264<br>- norm std : -0.1869933859980579<br>- grad norm : 3.642729229369479e-09<br>- grad std : 1.2852192921020134e-10<br>- pearson : 0.10058008361559671<br>- p value : 0.1796795621517703<br>- variance explained : 8.002917372049378",
          "<br>- run : 13<br>- node : blocks.0.mlp.hook_post<br>- status : in_circuit<br>- resample ablate effect : 0.9999999999999996<br>- zero ablate effect : 0.673999999326<br>- norm cache : 0.5023060867757484<br>- norm std : 0.04465901616807198<br>- grad norm : 1.1190484094925066e-09<br>- grad std : 3.884232172013391e-11<br>- pearson : 0.29585514897895976<br>- p value : 1.478902199386689e-07<br>- variance explained : 7.286916974619604",
          "<br>- run : 13<br>- node : blocks.1.mlp.hook_post<br>- status : in_circuit<br>- resample ablate effect : 0.9999999999999996<br>- zero ablate effect : 0.798999999201<br>- norm cache : 3.1317332813587457<br>- norm std : 3.0043615042167966<br>- grad norm : 6.970677507434074e-11<br>- grad std : 2.463448065329055e-12<br>- pearson : 0.9808242532495469<br>- p value : 0.0<br>- variance explained : 0.9578558306750133",
          "<br>- run : 18<br>- node : blocks.0.attn.hook_result, head  0<br>- status : in_circuit<br>- resample ablate effect : 0.0097764905346907<br>- zero ablate effect : 0.042999999957<br>- norm cache : 0.16833720858613294<br>- norm std : 0.5299162051001789<br>- grad norm : 8.643802340557727e-11<br>- grad std : 2.6624700708022253e-12<br>- pearson : 0.16439862729026264<br>- p value : 1.0591745829447785e-05<br>- variance explained : 0.22752305847746893",
          "<br>- run : 18<br>- node : blocks.0.attn.hook_result, head  1<br>- status : in_circuit<br>- resample ablate effect : 0.0007862566950993<br>- zero ablate effect : 0.106999999893<br>- norm cache : 0.2725633770176598<br>- norm std : 0.33422135726277724<br>- grad norm : 8.643802340557727e-11<br>- grad std : 2.6624700708022253e-12<br>- pearson : 0.34901375971064946<br>- p value : 4.898848502474008e-22<br>- variance explained : 0.35416762629196025",
          "<br>- run : 18<br>- node : blocks.0.mlp.hook_post<br>- status : in_circuit<br>- resample ablate effect : 0.9999999999999996<br>- zero ablate effect : 0.404999999595<br>- norm cache : 0.36836997960325385<br>- norm std : 0.7141638321572199<br>- grad norm : 3.7707149902477255e-11<br>- grad std : 1.1596477901207325e-12<br>- pearson : 0.575757161611809<br>- p value : 1.3494635860234956e-77<br>- variance explained : 0.5307530740644032",
          "<br>- run : 18<br>- node : blocks.1.mlp.hook_post<br>- status : in_circuit<br>- resample ablate effect : 0.9999999999999996<br>- zero ablate effect : 0.544999999455<br>- norm cache : 2.0580535607051744<br>- norm std : 3.109829859332627<br>- grad norm : 1.0467895647514602e-11<br>- grad std : 3.205129304323373e-13<br>- pearson : 0.9183254906659266<br>- p value : 0.0<br>- variance explained : 0.8161629147452908",
          "<br>- run : 19<br>- node : blocks.0.attn.hook_result, head  0<br>- status : in_circuit<br>- resample ablate effect : 0.3691253402699715<br>- zero ablate effect : 0.3006666664662222<br>- norm cache : -0.3495541718653691<br>- norm std : -0.2869586064018038<br>- grad norm : 2.299024177005316e-19<br>- grad std : 5.23911925794401e-21<br>- pearson : 0.3217001273163436<br>- p value : 1.5661318124550504e-05<br>- variance explained : 25.821586030306765",
          "<br>- run : 19<br>- node : blocks.0.mlp.hook_post<br>- status : in_circuit<br>- resample ablate effect : 0.9999999999999998<br>- zero ablate effect : 0.3513333330991111<br>- norm cache : -0.11113853931703979<br>- norm std : -0.09673538219265726<br>- grad norm : 8.059167070611303e-20<br>- grad std : 1.839712892164547e-21<br>- pearson : 0.9113423604012948<br>- p value : 0.0<br>- variance explained : 12.20310653256311",
          "<br>- run : 21<br>- node : blocks.0.mlp.hook_post<br>- status : in_circuit<br>- resample ablate effect : 0.1553812779320157<br>- zero ablate effect : 0.1551551549998447<br>- norm cache : 0.5782712960757965<br>- norm std : 1.3045976806858133<br>- grad norm : 3.2261965543511906e-07<br>- grad std : 7.188031503346792e-09<br>- pearson : 0.39302543565350095<br>- p value : 0.045410482589813034<br>- variance explained : 3.5430062826766484",
          "<br>- run : 21<br>- node : blocks.1.mlp.hook_post<br>- status : in_circuit<br>- resample ablate effect : 0.1399725592338633<br>- zero ablate effect : 0.1211211209998787<br>- norm cache : 0.8013713297854799<br>- norm std : 0.9533235837663308<br>- grad norm : 2.40486826896813e-07<br>- grad std : 5.374350742215483e-09<br>- pearson : 0.1348066715982764<br>- p value : 0.3506791920713724<br>- variance explained : 2.699590231854893",
          "<br>- run : 21<br>- node : blocks.2.mlp.hook_post<br>- status : in_circuit<br>- resample ablate effect : 0.1404393807640801<br>- zero ablate effect : 0.1461461459998537<br>- norm cache : 1.1811097389213912<br>- norm std : 0.8430206467911933<br>- grad norm : 1.6300661798140936e-07<br>- grad std : 3.645657775663835e-09<br>- pearson : 0.38633381511661846<br>- p value : 0.008244544347853402<br>- variance explained : 4.163504801374085",
          "<br>- run : 21<br>- node : blocks.3.attn.hook_result, head  0<br>- status : in_circuit<br>- resample ablate effect : 0.9987912295129938<br>- zero ablate effect : 0.8238238229991753<br>- norm cache : 4.105731735175719<br>- norm std : 3.631157884420694<br>- grad norm : 1.8745407714959586e-07<br>- grad std : 4.187108437747611e-09<br>- pearson : 0.756742898399664<br>- p value : 1.3382915905528688e-124<br>- variance explained : 2.609041649817704",
          "<br>- run : 26<br>- node : blocks.0.mlp.hook_post<br>- status : in_circuit<br>- resample ablate effect : 0.9999999999999998<br>- zero ablate effect : 0.151999999848<br>- norm cache : 0.33714847999565833<br>- norm std : 0.23090257135850217<br>- grad norm : 0.0<br>- grad std : 5.5472914559295314e-27<br>- pearson : 0.5612952674659247<br>- p value : 8.364739107673069e-05<br>- variance explained : 20.564924381374414",
          "<br>- run : 29<br>- node : blocks.0.mlp.hook_post<br>- status : in_circuit<br>- resample ablate effect : 0.9999999999999998<br>- zero ablate effect : 0.616999999383<br>- norm cache : 3.101506697328886<br>- norm std : 1.48476361892501<br>- grad norm : 0.0<br>- grad std : 0.0<br>- pearson : 0.9787752229128139<br>- p value : 0.0<br>- variance explained : 0.905061864011164",
          "<br>- run : 3<br>- node : blocks.0.mlp.hook_post<br>- status : in_circuit<br>- resample ablate effect : 0.9999999999999968<br>- zero ablate effect : 0.967999998064<br>- norm cache : 0.7351236583164392<br>- norm std : 0.15391081262995465<br>- grad norm : 9.469271390116774e-06<br>- grad std : 6.119707336438296e-07<br>- pearson : 0.505070181732631<br>- p value : 0.1953901634360482<br>- variance explained : 0.49929779",
          "<br>- run : 3<br>- node : blocks.1.attn.hook_result, head  2<br>- status : in_circuit<br>- resample ablate effect : 0.9999999999999968<br>- zero ablate effect : 0.71999999856<br>- norm cache : 2.6799220933276366<br>- norm std : 3.1669042992782273<br>- grad norm : 4.931321200274397e-06<br>- grad std : 3.137148212317698e-07<br>- pearson : 0.9999357908285154<br>- p value : 0.0<br>- variance explained : 0.3143547375",
          "<br>- run : 33<br>- node : blocks.0.mlp.hook_post<br>- status : in_circuit<br>- resample ablate effect : 0.9999999999999994<br>- zero ablate effect : 0.2999999997<br>- norm cache : -0.1961948823907534<br>- norm std : -0.4309008487797702<br>- grad norm : 0.0<br>- grad std : 2.6682306468467536e-31<br>- pearson : 0.9903097202417841<br>- p value : 0.0<br>- variance explained : 7.002185619471333",
          "<br>- run : 34<br>- node : blocks.0.mlp.hook_post<br>- status : in_circuit<br>- resample ablate effect : 0.9999999999999996<br>- zero ablate effect : 0.435999999564<br>- norm cache : 1.6840310592257712<br>- norm std : 0.5265274958166748<br>- grad norm : 0.0<br>- grad std : 0.0<br>- pearson : 0.9631900176214394<br>- p value : 0.0<br>- variance explained : 0.7318351181725803",
          "<br>- run : 35<br>- node : blocks.0.mlp.hook_post<br>- status : in_circuit<br>- resample ablate effect : 0.9999999999999998<br>- zero ablate effect : 0.492999999507<br>- norm cache : 0.14395241118810784<br>- norm std : 0.40386173450867713<br>- grad norm : 7.988340891551537e-12<br>- grad std : 4.150371994866842e-13<br>- pearson : 0.3690153240071583<br>- p value : 1.8530023756323174e-16<br>- variance explained : 13.991405766870265",
          "<br>- run : 36<br>- node : blocks.0.mlp.hook_post<br>- status : in_circuit<br>- resample ablate effect : 0.9999999999999998<br>- zero ablate effect : 0.28999999971<br>- norm cache : 0.25627335896227454<br>- norm std : 0.4501571216022632<br>- grad norm : 0.0<br>- grad std : 3.254138141625414e-28<br>- pearson : 0.890421300855366<br>- p value : 1.973762230674061e-272<br>- variance explained : 2.6568835590611752",
          "<br>- run : 37<br>- node : blocks.0.mlp.hook_post<br>- status : in_circuit<br>- resample ablate effect : 0.9999999999999998<br>- zero ablate effect : 0.540999999459<br>- norm cache : -0.06276974614332881<br>- norm std : -0.15549217485923236<br>- grad norm : 8.851288469801256e-15<br>- grad std : 4.042771790214528e-16<br>- pearson : 0.549626630685296<br>- p value : 1.1648963045015358e-49<br>- variance explained : 5.953432250898227",
          "<br>- run : 4<br>- node : blocks.0.mlp.hook_post<br>- status : in_circuit<br>- resample ablate effect : 0.987727914778618<br>- zero ablate effect : 0.977999999022<br>- norm cache : 1.4993627049156621<br>- norm std : 0.49464819283950473<br>- grad norm : 5.1355476898606867e-05<br>- grad std : 1.8166326753998872e-06<br>- pearson : 0.38188580504359937<br>- p value : 2.978957862052968e-15<br>- variance explained : 1.6341751931015887",
          "<br>- run : 4<br>- node : blocks.1.attn.hook_result, head  0<br>- status : in_circuit<br>- resample ablate effect : 0.7379335288002845<br>- zero ablate effect : 0.820999999179<br>- norm cache : 0.07719865475737635<br>- norm std : 1.2686384821730292<br>- grad norm : 3.6503231967799366e-05<br>- grad std : 1.2912637430417815e-06<br>- pearson : 0.08769509811309625<br>- p value : 0.1878762671284027<br>- variance explained : 0.0070033034903058105",
          "<br>- run : 4<br>- node : blocks.1.attn.hook_result, head  1<br>- status : in_circuit<br>- resample ablate effect : 0.7222961727871011<br>- zero ablate effect : 0.891999999108<br>- norm cache : 0.20539248148590888<br>- norm std : 0.9454276544714588<br>- grad norm : 3.6503231967799366e-05<br>- grad std : 1.2912637430417815e-06<br>- pearson : 0.4888422357929969<br>- p value : 3.1049847203680844e-56<br>- variance explained : 0.025165724981814065",
          "<br>- run : 4<br>- node : blocks.1.mlp.hook_post<br>- status : in_circuit<br>- resample ablate effect : 0.987727914778618<br>- zero ablate effect : 0.976999999023<br>- norm cache : 2.7431688232886637<br>- norm std : 2.9377700211142215<br>- grad norm : 2.116069663316011e-05<br>- grad std : 7.484468369511887e-07<br>- pearson : 0.9998352582695296<br>- p value : 0.0<br>- variance explained : 5.185587596300991",
          "<br>- run : 8<br>- node : blocks.0.mlp.hook_post<br>- status : in_circuit<br>- resample ablate effect : 0.9999999999999998<br>- zero ablate effect : 0.345999999654<br>- norm cache : -0.11710068405374928<br>- norm std : -0.17586842360249216<br>- grad norm : 0.0<br>- grad std : 3.539760137132521e-25<br>- pearson : 0.5378923570273917<br>- p value : 1.2919767484096576e-31<br>- variance explained : 2.804819272207699"
         ],
         "marker": {
          "color": "rgba(0, 0, 0, 0)",
          "line": {
           "color": "darkcyan",
           "width": 1
          },
          "opacity": [
           0.7,
           0.7,
           0.2,
           0.2,
           0.6999985210978006,
           0.7,
           0.6998940825417055,
           0.7,
           0.7,
           0.7,
           0.6998433868187545,
           0.7,
           0.24589517410186962,
           0.2,
           0.617554556521466,
           0.7,
           0.6991635260892326,
           0.7,
           0.2,
           0.7,
           0.7,
           0.7,
           0.6999999999999981,
           0.7,
           0.7,
           0.6999999999999702,
           0.2,
           0.7,
           0.7,
           0.7
          ],
          "size": 15
         },
         "mode": "markers",
         "name": "in circuit",
         "type": "scatter",
         "x": [
          0.778999999221,
          0.787999999212,
          0.173999999826,
          0.268999999731,
          0.673999999326,
          0.798999999201,
          0.042999999957,
          0.106999999893,
          0.404999999595,
          0.544999999455,
          0.3006666664662222,
          0.3513333330991111,
          0.1551551549998447,
          0.1211211209998787,
          0.1461461459998537,
          0.8238238229991753,
          0.151999999848,
          0.616999999383,
          0.967999998064,
          0.71999999856,
          0.2999999997,
          0.435999999564,
          0.492999999507,
          0.28999999971,
          0.540999999459,
          0.977999999022,
          0.820999999179,
          0.891999999108,
          0.976999999023,
          0.345999999654
         ],
         "y": [
          0.018482940233987482,
          2.808890460731961,
          0.007265407436097863,
          0.03453624082925264,
          0.5023060867757484,
          3.1317332813587457,
          0.16833720858613294,
          0.2725633770176598,
          0.36836997960325385,
          2.0580535607051744,
          -0.3495541718653691,
          -0.11113853931703979,
          0.5782712960757965,
          0.8013713297854799,
          1.1811097389213912,
          4.105731735175719,
          0.33714847999565833,
          3.101506697328886,
          0.7351236583164392,
          2.6799220933276366,
          -0.1961948823907534,
          1.6840310592257712,
          0.14395241118810784,
          0.25627335896227454,
          -0.06276974614332881,
          1.4993627049156621,
          0.07719865475737635,
          0.20539248148590888,
          2.7431688232886637,
          -0.11710068405374928
         ]
        },
        {
         "hovertext": [
          "<br>- run : 11<br>- node : blocks.1.mlp.hook_post<br>- status : not_in_circuit<br>- resample ablate effect : 0.0<br>- zero ablate effect : 0.112999999887<br>- norm cache : 1.8007224902403416<br>- norm std : 0.989239056430968<br>- grad norm : 5.6613069097835155e-15<br>- grad std : 2.551382086440364e-16<br>- pearson : 0.8549269320523452<br>- p value : 3.800730967352922e-226<br>- variance explained : 1.1123993794123332",
          "<br>- run : 18<br>- node : blocks.0.attn.hook_result, head  2<br>- status : not_in_circuit<br>- resample ablate effect : 7.741231948283705e-05<br>- zero ablate effect : 0.111999999888<br>- norm cache : -0.16833720858613294<br>- norm std : -0.112080196723368<br>- grad norm : 8.643802340557727e-11<br>- grad std : 2.6624700708022253e-12<br>- pearson : 0.02641495939373689<br>- p value : 0.461607007491924<br>- variance explained : 0.11758872979697463",
          "<br>- run : 18<br>- node : blocks.0.attn.hook_result, head  3<br>- status : not_in_circuit<br>- resample ablate effect : 0.0010829877110178<br>- zero ablate effect : 0.094999999905<br>- norm cache : 0.7293407853541782<br>- norm std : -0.11942709067304204<br>- grad norm : 8.643802340557727e-11<br>- grad std : 2.6624700708022253e-12<br>- pearson : 0.06747738505281418<br>- p value : 0.14525013422218092<br>- variance explained : 1.2104851164832877",
          "<br>- run : 19<br>- node : blocks.1.attn.hook_result, head  0<br>- status : not_in_circuit<br>- resample ablate effect : 0.0<br>- zero ablate effect : 0.0666666666222222<br>- norm cache : 0.5364991368318222<br>- norm std : 0.6802591323913041<br>- grad norm : 3.8605973216270305e-20<br>- grad std : 8.794683833220916e-22<br>- pearson : 0.7033337221915062<br>- p value : 5.29351262145346e-100<br>- variance explained : 18.281654196227013",
          "<br>- run : 19<br>- node : blocks.1.attn.hook_result, head  1<br>- status : not_in_circuit<br>- resample ablate effect : 0.0<br>- zero ablate effect : 0.0666666666222222<br>- norm cache : 0.7434932040564703<br>- norm std : 0.09673538219265726<br>- grad norm : 3.8605973216270305e-20<br>- grad std : 8.794683833220916e-22<br>- pearson : 0.10968364127519885<br>- p value : 0.18224990460524806<br>- variance explained : 6.702032057815039",
          "<br>- run : 19<br>- node : blocks.1.mlp.hook_post<br>- status : not_in_circuit<br>- resample ablate effect : 0.0<br>- zero ablate effect : 0.0666666666222222<br>- norm cache : 2.8519994390527894<br>- norm std : 2.922089550866771<br>- grad norm : 2.324776086619939e-20<br>- grad std : 5.293725699172797e-22<br>- pearson : 0.6755719098162729<br>- p value : 1.4823378051176861e-80<br>- variance explained : 32.17984964513112",
          "<br>- run : 20<br>- node : blocks.1.mlp.hook_post<br>- status : not_in_circuit<br>- resample ablate effect : 0.0<br>- zero ablate effect : 0.0999999999<br>- norm cache : 2.9617885402724036<br>- norm std : 3.125039912978892<br>- grad norm : 0.0<br>- grad std : 0.0<br>- pearson : 0.5818907471509939<br>- p value : 4.850032146385237e-44<br>- variance explained : 8.259297848987194",
          "<br>- run : 21<br>- node : blocks.0.attn.hook_result, head  0<br>- status : not_in_circuit<br>- resample ablate effect : 0.0213677419939285<br>- zero ablate effect : 0.0070070069999929<br>- norm cache : -0.013802902924488861<br>- norm std : 0.14532429668869204<br>- grad norm : 8.410712553086341e-07<br>- grad std : 1.8806339596721955e-08<br>- pearson : 0.4145476400615269<br>- p value : 0.012988635226693574<br>- variance explained : 2.876535487928176",
          "<br>- run : 21<br>- node : blocks.0.attn.hook_result, head  1<br>- status : not_in_circuit<br>- resample ablate effect : 0.0119411171286106<br>- zero ablate effect : 0.0050050049999949<br>- norm cache : -0.03894204071089059<br>- norm std : -0.3022518025052989<br>- grad norm : 8.410712553086341e-07<br>- grad std : 1.8806339596721955e-08<br>- pearson : 0.6129371548225313<br>- p value : 8.601151711512087e-70<br>- variance explained : 2.9357072970158047",
          "<br>- run : 21<br>- node : blocks.0.attn.hook_result, head  3<br>- status : not_in_circuit<br>- resample ablate effect : 0.0274872413569969<br>- zero ablate effect : 0.1071071069998927<br>- norm cache : 0.0020170013913147133<br>- norm std : -0.0777518918214047<br>- grad norm : 8.410712553086341e-07<br>- grad std : 1.8806339596721955e-08<br>- pearson : 0.35227435067830076<br>- p value : 2.372166008715327e-07<br>- variance explained : 2.836127840215954",
          "<br>- run : 26<br>- node : blocks.1.mlp.hook_post<br>- status : not_in_circuit<br>- resample ablate effect : 0.0<br>- zero ablate effect : 0.012999999987<br>- norm cache : 3.074637363105239<br>- norm std : 3.0539005616783657<br>- grad norm : 0.0<br>- grad std : 6.359552602567843e-28<br>- pearson : 0.6295560104315474<br>- p value : 0.023514340605099906<br>- variance explained : 55.56656879812278",
          "<br>- run : 3<br>- node : blocks.1.attn.hook_result, head  3<br>- status : not_in_circuit<br>- resample ablate effect : 0.0<br>- zero ablate effect : 0.427999999144<br>- norm cache : 0.7848458097276243<br>- norm std : 0.0020895227818449494<br>- grad norm : 4.931321200274397e-06<br>- grad std : 3.137148212317698e-07<br>- pearson : 0.8968748527932043<br>- p value : 4.233529692263512e-71<br>- variance explained : 0.41707184499999994",
          "<br>- run : 4<br>- node : blocks.0.attn.hook_result, head  0<br>- status : not_in_circuit<br>- resample ablate effect : 4.212216776130561e-05<br>- zero ablate effect : 0.978999999021<br>- norm cache : -0.07719865475737626<br>- norm std : -0.04152673517565671<br>- grad norm : 8.355615864275023e-05<br>- grad std : 2.873757466659299e-06<br>- pearson : 0.6215799402827749<br>- p value : 1.0744960194053727e-78<br>- variance explained : 0.01662321422655428",
          "<br>- run : 4<br>- node : blocks.0.attn.hook_result, head  1<br>- status : not_in_circuit<br>- resample ablate effect : 0.0<br>- zero ablate effect : 0.999999999<br>- norm cache : -0.29404567029071216<br>- norm std : -0.2647704613591969<br>- grad norm : 8.355615864275023e-05<br>- grad std : 2.873757466659299e-06<br>- pearson : 0.790291779051048<br>- p value : 7.465899192112568e-192<br>- variance explained : 0.06090643032038418",
          "<br>- run : 4<br>- node : blocks.0.attn.hook_result, head  2<br>- status : not_in_circuit<br>- resample ablate effect : 0.0<br>- zero ablate effect : 0.026999999973<br>- norm cache : -0.2936158506384175<br>- norm std : -0.07684050950068463<br>- grad norm : 8.355615864275023e-05<br>- grad std : 2.873757466659299e-06<br>- pearson : 0.8335914923661262<br>- p value : 5.379952994432287e-243<br>- variance explained : 0.04196997342175856",
          "<br>- run : 4<br>- node : blocks.1.attn.hook_result, head  2<br>- status : not_in_circuit<br>- resample ablate effect : 0.0<br>- zero ablate effect : 0.904999999095<br>- norm cache : 0.13317892422586822<br>- norm std : -0.08767884408256768<br>- grad norm : 3.6503231967799366e-05<br>- grad std : 1.2912637430417815e-06<br>- pearson : 0.3053350264314418<br>- p value : 4.9723873171243584e-17<br>- variance explained : 0.02835459695725752",
          "<br>- run : 4<br>- node : blocks.1.attn.hook_result, head  3<br>- status : not_in_circuit<br>- resample ablate effect : 0.0<br>- zero ablate effect : 0.595999999404<br>- norm cache : -0.08639189591608333<br>- norm std : 0.04152673517565665<br>- grad norm : 3.6503231967799366e-05<br>- grad std : 1.2912637430417815e-06<br>- pearson : 0.6742825404229906<br>- p value : 1.4443569325302268e-107<br>- variance explained : 0.05622648734931942"
         ],
         "marker": {
          "color": "darkorange",
          "opacity": [
           0.7,
           0.2,
           0.2,
           0.7,
           0.2,
           0.7,
           0.7,
           0.5701136477330642,
           0.7,
           0.6999976278339912,
           0.4648565939490009,
           0.7,
           0.7,
           0.7,
           0.7,
           0.6999999999999995,
           0.7
          ],
          "size": 15
         },
         "mode": "markers",
         "name": "not in circuit",
         "type": "scatter",
         "x": [
          0.112999999887,
          0.111999999888,
          0.094999999905,
          0.0666666666222222,
          0.0666666666222222,
          0.0666666666222222,
          0.0999999999,
          0.0070070069999929,
          0.0050050049999949,
          0.1071071069998927,
          0.012999999987,
          0.427999999144,
          0.978999999021,
          0.999999999,
          0.026999999973,
          0.904999999095,
          0.595999999404
         ],
         "y": [
          1.8007224902403416,
          -0.16833720858613294,
          0.7293407853541782,
          0.5364991368318222,
          0.7434932040564703,
          2.8519994390527894,
          2.9617885402724036,
          -0.013802902924488861,
          -0.03894204071089059,
          0.0020170013913147133,
          3.074637363105239,
          0.7848458097276243,
          -0.07719865475737626,
          -0.29404567029071216,
          -0.2936158506384175,
          0.13317892422586822,
          -0.08639189591608333
         ]
        }
       ],
       "layout": {
        "font": {
         "size": 16
        },
        "legend": {
         "font": {
          "size": 16
         },
         "x": 0.01,
         "xanchor": "left",
         "y": 0.99,
         "yanchor": "top"
        },
        "plot_bgcolor": "white",
        "showlegend": true,
        "template": {
         "data": {
          "bar": [
           {
            "error_x": {
             "color": "#2a3f5f"
            },
            "error_y": {
             "color": "#2a3f5f"
            },
            "marker": {
             "line": {
              "color": "#E5ECF6",
              "width": 0.5
             },
             "pattern": {
              "fillmode": "overlay",
              "size": 10,
              "solidity": 0.2
             }
            },
            "type": "bar"
           }
          ],
          "barpolar": [
           {
            "marker": {
             "line": {
              "color": "#E5ECF6",
              "width": 0.5
             },
             "pattern": {
              "fillmode": "overlay",
              "size": 10,
              "solidity": 0.2
             }
            },
            "type": "barpolar"
           }
          ],
          "carpet": [
           {
            "aaxis": {
             "endlinecolor": "#2a3f5f",
             "gridcolor": "white",
             "linecolor": "white",
             "minorgridcolor": "white",
             "startlinecolor": "#2a3f5f"
            },
            "baxis": {
             "endlinecolor": "#2a3f5f",
             "gridcolor": "white",
             "linecolor": "white",
             "minorgridcolor": "white",
             "startlinecolor": "#2a3f5f"
            },
            "type": "carpet"
           }
          ],
          "choropleth": [
           {
            "colorbar": {
             "outlinewidth": 0,
             "ticks": ""
            },
            "type": "choropleth"
           }
          ],
          "contour": [
           {
            "colorbar": {
             "outlinewidth": 0,
             "ticks": ""
            },
            "colorscale": [
             [
              0,
              "#0d0887"
             ],
             [
              0.1111111111111111,
              "#46039f"
             ],
             [
              0.2222222222222222,
              "#7201a8"
             ],
             [
              0.3333333333333333,
              "#9c179e"
             ],
             [
              0.4444444444444444,
              "#bd3786"
             ],
             [
              0.5555555555555556,
              "#d8576b"
             ],
             [
              0.6666666666666666,
              "#ed7953"
             ],
             [
              0.7777777777777778,
              "#fb9f3a"
             ],
             [
              0.8888888888888888,
              "#fdca26"
             ],
             [
              1,
              "#f0f921"
             ]
            ],
            "type": "contour"
           }
          ],
          "contourcarpet": [
           {
            "colorbar": {
             "outlinewidth": 0,
             "ticks": ""
            },
            "type": "contourcarpet"
           }
          ],
          "heatmap": [
           {
            "colorbar": {
             "outlinewidth": 0,
             "ticks": ""
            },
            "colorscale": [
             [
              0,
              "#0d0887"
             ],
             [
              0.1111111111111111,
              "#46039f"
             ],
             [
              0.2222222222222222,
              "#7201a8"
             ],
             [
              0.3333333333333333,
              "#9c179e"
             ],
             [
              0.4444444444444444,
              "#bd3786"
             ],
             [
              0.5555555555555556,
              "#d8576b"
             ],
             [
              0.6666666666666666,
              "#ed7953"
             ],
             [
              0.7777777777777778,
              "#fb9f3a"
             ],
             [
              0.8888888888888888,
              "#fdca26"
             ],
             [
              1,
              "#f0f921"
             ]
            ],
            "type": "heatmap"
           }
          ],
          "heatmapgl": [
           {
            "colorbar": {
             "outlinewidth": 0,
             "ticks": ""
            },
            "colorscale": [
             [
              0,
              "#0d0887"
             ],
             [
              0.1111111111111111,
              "#46039f"
             ],
             [
              0.2222222222222222,
              "#7201a8"
             ],
             [
              0.3333333333333333,
              "#9c179e"
             ],
             [
              0.4444444444444444,
              "#bd3786"
             ],
             [
              0.5555555555555556,
              "#d8576b"
             ],
             [
              0.6666666666666666,
              "#ed7953"
             ],
             [
              0.7777777777777778,
              "#fb9f3a"
             ],
             [
              0.8888888888888888,
              "#fdca26"
             ],
             [
              1,
              "#f0f921"
             ]
            ],
            "type": "heatmapgl"
           }
          ],
          "histogram": [
           {
            "marker": {
             "pattern": {
              "fillmode": "overlay",
              "size": 10,
              "solidity": 0.2
             }
            },
            "type": "histogram"
           }
          ],
          "histogram2d": [
           {
            "colorbar": {
             "outlinewidth": 0,
             "ticks": ""
            },
            "colorscale": [
             [
              0,
              "#0d0887"
             ],
             [
              0.1111111111111111,
              "#46039f"
             ],
             [
              0.2222222222222222,
              "#7201a8"
             ],
             [
              0.3333333333333333,
              "#9c179e"
             ],
             [
              0.4444444444444444,
              "#bd3786"
             ],
             [
              0.5555555555555556,
              "#d8576b"
             ],
             [
              0.6666666666666666,
              "#ed7953"
             ],
             [
              0.7777777777777778,
              "#fb9f3a"
             ],
             [
              0.8888888888888888,
              "#fdca26"
             ],
             [
              1,
              "#f0f921"
             ]
            ],
            "type": "histogram2d"
           }
          ],
          "histogram2dcontour": [
           {
            "colorbar": {
             "outlinewidth": 0,
             "ticks": ""
            },
            "colorscale": [
             [
              0,
              "#0d0887"
             ],
             [
              0.1111111111111111,
              "#46039f"
             ],
             [
              0.2222222222222222,
              "#7201a8"
             ],
             [
              0.3333333333333333,
              "#9c179e"
             ],
             [
              0.4444444444444444,
              "#bd3786"
             ],
             [
              0.5555555555555556,
              "#d8576b"
             ],
             [
              0.6666666666666666,
              "#ed7953"
             ],
             [
              0.7777777777777778,
              "#fb9f3a"
             ],
             [
              0.8888888888888888,
              "#fdca26"
             ],
             [
              1,
              "#f0f921"
             ]
            ],
            "type": "histogram2dcontour"
           }
          ],
          "mesh3d": [
           {
            "colorbar": {
             "outlinewidth": 0,
             "ticks": ""
            },
            "type": "mesh3d"
           }
          ],
          "parcoords": [
           {
            "line": {
             "colorbar": {
              "outlinewidth": 0,
              "ticks": ""
             }
            },
            "type": "parcoords"
           }
          ],
          "pie": [
           {
            "automargin": true,
            "type": "pie"
           }
          ],
          "scatter": [
           {
            "fillpattern": {
             "fillmode": "overlay",
             "size": 10,
             "solidity": 0.2
            },
            "type": "scatter"
           }
          ],
          "scatter3d": [
           {
            "line": {
             "colorbar": {
              "outlinewidth": 0,
              "ticks": ""
             }
            },
            "marker": {
             "colorbar": {
              "outlinewidth": 0,
              "ticks": ""
             }
            },
            "type": "scatter3d"
           }
          ],
          "scattercarpet": [
           {
            "marker": {
             "colorbar": {
              "outlinewidth": 0,
              "ticks": ""
             }
            },
            "type": "scattercarpet"
           }
          ],
          "scattergeo": [
           {
            "marker": {
             "colorbar": {
              "outlinewidth": 0,
              "ticks": ""
             }
            },
            "type": "scattergeo"
           }
          ],
          "scattergl": [
           {
            "marker": {
             "colorbar": {
              "outlinewidth": 0,
              "ticks": ""
             }
            },
            "type": "scattergl"
           }
          ],
          "scattermapbox": [
           {
            "marker": {
             "colorbar": {
              "outlinewidth": 0,
              "ticks": ""
             }
            },
            "type": "scattermapbox"
           }
          ],
          "scatterpolar": [
           {
            "marker": {
             "colorbar": {
              "outlinewidth": 0,
              "ticks": ""
             }
            },
            "type": "scatterpolar"
           }
          ],
          "scatterpolargl": [
           {
            "marker": {
             "colorbar": {
              "outlinewidth": 0,
              "ticks": ""
             }
            },
            "type": "scatterpolargl"
           }
          ],
          "scatterternary": [
           {
            "marker": {
             "colorbar": {
              "outlinewidth": 0,
              "ticks": ""
             }
            },
            "type": "scatterternary"
           }
          ],
          "surface": [
           {
            "colorbar": {
             "outlinewidth": 0,
             "ticks": ""
            },
            "colorscale": [
             [
              0,
              "#0d0887"
             ],
             [
              0.1111111111111111,
              "#46039f"
             ],
             [
              0.2222222222222222,
              "#7201a8"
             ],
             [
              0.3333333333333333,
              "#9c179e"
             ],
             [
              0.4444444444444444,
              "#bd3786"
             ],
             [
              0.5555555555555556,
              "#d8576b"
             ],
             [
              0.6666666666666666,
              "#ed7953"
             ],
             [
              0.7777777777777778,
              "#fb9f3a"
             ],
             [
              0.8888888888888888,
              "#fdca26"
             ],
             [
              1,
              "#f0f921"
             ]
            ],
            "type": "surface"
           }
          ],
          "table": [
           {
            "cells": {
             "fill": {
              "color": "#EBF0F8"
             },
             "line": {
              "color": "white"
             }
            },
            "header": {
             "fill": {
              "color": "#C8D4E3"
             },
             "line": {
              "color": "white"
             }
            },
            "type": "table"
           }
          ]
         },
         "layout": {
          "annotationdefaults": {
           "arrowcolor": "#2a3f5f",
           "arrowhead": 0,
           "arrowwidth": 1
          },
          "autotypenumbers": "strict",
          "coloraxis": {
           "colorbar": {
            "outlinewidth": 0,
            "ticks": ""
           }
          },
          "colorscale": {
           "diverging": [
            [
             0,
             "#8e0152"
            ],
            [
             0.1,
             "#c51b7d"
            ],
            [
             0.2,
             "#de77ae"
            ],
            [
             0.3,
             "#f1b6da"
            ],
            [
             0.4,
             "#fde0ef"
            ],
            [
             0.5,
             "#f7f7f7"
            ],
            [
             0.6,
             "#e6f5d0"
            ],
            [
             0.7,
             "#b8e186"
            ],
            [
             0.8,
             "#7fbc41"
            ],
            [
             0.9,
             "#4d9221"
            ],
            [
             1,
             "#276419"
            ]
           ],
           "sequential": [
            [
             0,
             "#0d0887"
            ],
            [
             0.1111111111111111,
             "#46039f"
            ],
            [
             0.2222222222222222,
             "#7201a8"
            ],
            [
             0.3333333333333333,
             "#9c179e"
            ],
            [
             0.4444444444444444,
             "#bd3786"
            ],
            [
             0.5555555555555556,
             "#d8576b"
            ],
            [
             0.6666666666666666,
             "#ed7953"
            ],
            [
             0.7777777777777778,
             "#fb9f3a"
            ],
            [
             0.8888888888888888,
             "#fdca26"
            ],
            [
             1,
             "#f0f921"
            ]
           ],
           "sequentialminus": [
            [
             0,
             "#0d0887"
            ],
            [
             0.1111111111111111,
             "#46039f"
            ],
            [
             0.2222222222222222,
             "#7201a8"
            ],
            [
             0.3333333333333333,
             "#9c179e"
            ],
            [
             0.4444444444444444,
             "#bd3786"
            ],
            [
             0.5555555555555556,
             "#d8576b"
            ],
            [
             0.6666666666666666,
             "#ed7953"
            ],
            [
             0.7777777777777778,
             "#fb9f3a"
            ],
            [
             0.8888888888888888,
             "#fdca26"
            ],
            [
             1,
             "#f0f921"
            ]
           ]
          },
          "colorway": [
           "#636efa",
           "#EF553B",
           "#00cc96",
           "#ab63fa",
           "#FFA15A",
           "#19d3f3",
           "#FF6692",
           "#B6E880",
           "#FF97FF",
           "#FECB52"
          ],
          "font": {
           "color": "#2a3f5f"
          },
          "geo": {
           "bgcolor": "white",
           "lakecolor": "white",
           "landcolor": "#E5ECF6",
           "showlakes": true,
           "showland": true,
           "subunitcolor": "white"
          },
          "hoverlabel": {
           "align": "left"
          },
          "hovermode": "closest",
          "mapbox": {
           "style": "light"
          },
          "paper_bgcolor": "white",
          "plot_bgcolor": "#E5ECF6",
          "polar": {
           "angularaxis": {
            "gridcolor": "white",
            "linecolor": "white",
            "ticks": ""
           },
           "bgcolor": "#E5ECF6",
           "radialaxis": {
            "gridcolor": "white",
            "linecolor": "white",
            "ticks": ""
           }
          },
          "scene": {
           "xaxis": {
            "backgroundcolor": "#E5ECF6",
            "gridcolor": "white",
            "gridwidth": 2,
            "linecolor": "white",
            "showbackground": true,
            "ticks": "",
            "zerolinecolor": "white"
           },
           "yaxis": {
            "backgroundcolor": "#E5ECF6",
            "gridcolor": "white",
            "gridwidth": 2,
            "linecolor": "white",
            "showbackground": true,
            "ticks": "",
            "zerolinecolor": "white"
           },
           "zaxis": {
            "backgroundcolor": "#E5ECF6",
            "gridcolor": "white",
            "gridwidth": 2,
            "linecolor": "white",
            "showbackground": true,
            "ticks": "",
            "zerolinecolor": "white"
           }
          },
          "shapedefaults": {
           "line": {
            "color": "#2a3f5f"
           }
          },
          "ternary": {
           "aaxis": {
            "gridcolor": "white",
            "linecolor": "white",
            "ticks": ""
           },
           "baxis": {
            "gridcolor": "white",
            "linecolor": "white",
            "ticks": ""
           },
           "bgcolor": "#E5ECF6",
           "caxis": {
            "gridcolor": "white",
            "linecolor": "white",
            "ticks": ""
           }
          },
          "title": {
           "x": 0.05
          },
          "xaxis": {
           "automargin": true,
           "gridcolor": "white",
           "linecolor": "white",
           "ticks": "",
           "title": {
            "standoff": 15
           },
           "zerolinecolor": "white",
           "zerolinewidth": 2
          },
          "yaxis": {
           "automargin": true,
           "gridcolor": "white",
           "linecolor": "white",
           "ticks": "",
           "title": {
            "standoff": 15
           },
           "zerolinecolor": "white",
           "zerolinewidth": 2
          }
         }
        },
        "xaxis": {
         "dtick": 0.5,
         "gridcolor": "lightgrey",
         "linecolor": "black",
         "mirror": true,
         "showline": true,
         "ticks": "outside",
         "title": {
          "text": "zero ablate effect"
         }
        },
        "yaxis": {
         "dtick": 0.5,
         "gridcolor": "lightgrey",
         "linecolor": "black",
         "mirror": true,
         "showline": true,
         "ticks": "outside",
         "title": {
          "text": "norm cache"
         }
        }
       }
      }
     },
     "metadata": {},
     "output_type": "display_data"
    }
   ],
   "source": [
    "from interp_utils.node_stats.plotting import make_scatter_plot\n",
    "\n",
    "def make_alpha_col_for_id(row, smaller_is_better=True, row_id = \"p_value\", row_normalizer = 0.05):\n",
    "    if smaller_is_better:\n",
    "        if row[row_id] > 0.05:\n",
    "            return 0.2\n",
    "        return  0.7 - (row[row_id] / row_normalizer) * 0.5\n",
    "    else:\n",
    "        if row[row_id] < 0.05:\n",
    "            return 0.2\n",
    "        return  0.7 * (row[row_id] / row_normalizer)\n",
    "\n",
    "\n",
    "fig = make_scatter_plot(\n",
    "    df=normalised_siit_stats[normalised_siit_stats[\"zero_ablate_effect\"] != 0],\n",
    "    x=\"zero_ablate_effect\",\n",
    "    y=\"norm_cache\",\n",
    "    make_alpha_fn=make_alpha_col_for_id,\n",
    ")\n",
    "\n",
    "fig.update_layout(\n",
    "    showlegend=True,\n",
    "    legend=dict(\n",
    "        yanchor=\"top\",\n",
    "        y=0.99,\n",
    "        xanchor=\"left\",\n",
    "        x=0.01,\n",
    "        # font size\n",
    "        font=dict(size=16),\n",
    "    ),\n",
    "    # xaxis_title=\"Pearson Correlation Coefficient\",\n",
    "    # yaxis_title=\"Zero Ablation Effect\",\n",
    "    # font size\n",
    "    font=dict(size=16),\n",
    ")\n",
    "\n",
    "# fig.write_html(f\"interp_results/pearson_plots/siit_{lens}_pearson_vs_zero_ablate_effect.html\")\n",
    "# fig.write_image(f\"interp_results/pearson_plots/siit_{lens}_pearson_vs_norm_cache.pdf\")\n",
    "fig"
   ]
  },
  {
   "cell_type": "code",
   "execution_count": 13,
   "metadata": {},
   "outputs": [
    {
     "data": {
      "application/vnd.plotly.v1+json": {
       "config": {
        "plotlyServerURL": "https://plot.ly"
       },
       "data": [
        {
         "hovertext": [
          "<br>- run : 11<br>- node : blocks.0.mlp.hook_post<br>- status : in_circuit<br>- resample ablate effect : 0.9999999999999998<br>- zero ablate effect : 0.778999999221<br>- norm cache : 0.018482940233987482<br>- norm std : -0.011006905312421206<br>- grad norm : 1.6244803083004938e-13<br>- grad std : 7.412064295935373e-15<br>- pearson : 0.357731249994094<br>- p value : 3.361863822227456e-20<br>- variance explained : 0.041568027602301674",
          "<br>- run : 11<br>- node : blocks.1.attn.hook_result, head  0<br>- status : in_circuit<br>- resample ablate effect : 0.9999999999999998<br>- zero ablate effect : 0.787999999212<br>- norm cache : 2.808890460731961<br>- norm std : 3.1274702041756317<br>- grad norm : 1.2945383256839344e-14<br>- grad std : 5.751064661863449e-16<br>- pearson : 0.9826220624701885<br>- p value : 0.0<br>- variance explained : 0.5287932819790311",
          "<br>- run : 13<br>- node : blocks.0.attn.hook_result, head  0<br>- status : in_circuit<br>- resample ablate effect : 0.2355835045258844<br>- zero ablate effect : 0.173999999826<br>- norm cache : 0.007265407436097863<br>- norm std : -0.2470742633910915<br>- grad norm : 3.642729229369479e-09<br>- grad std : 1.2852192921020134e-10<br>- pearson : 0.11213531920164607<br>- p value : 0.09473391836427805<br>- variance explained : 7.958233130290261",
          "<br>- run : 13<br>- node : blocks.0.attn.hook_result, head  1<br>- status : in_circuit<br>- resample ablate effect : 0.3387400731304154<br>- zero ablate effect : 0.268999999731<br>- norm cache : 0.03453624082925264<br>- norm std : -0.1869933859980579<br>- grad norm : 3.642729229369479e-09<br>- grad std : 1.2852192921020134e-10<br>- pearson : 0.10058008361559671<br>- p value : 0.1796795621517703<br>- variance explained : 8.002917372049378",
          "<br>- run : 13<br>- node : blocks.0.mlp.hook_post<br>- status : in_circuit<br>- resample ablate effect : 0.9999999999999996<br>- zero ablate effect : 0.673999999326<br>- norm cache : 0.5023060867757484<br>- norm std : 0.04465901616807198<br>- grad norm : 1.1190484094925066e-09<br>- grad std : 3.884232172013391e-11<br>- pearson : 0.29585514897895976<br>- p value : 1.478902199386689e-07<br>- variance explained : 7.286916974619604",
          "<br>- run : 13<br>- node : blocks.1.mlp.hook_post<br>- status : in_circuit<br>- resample ablate effect : 0.9999999999999996<br>- zero ablate effect : 0.798999999201<br>- norm cache : 3.1317332813587457<br>- norm std : 3.0043615042167966<br>- grad norm : 6.970677507434074e-11<br>- grad std : 2.463448065329055e-12<br>- pearson : 0.9808242532495469<br>- p value : 0.0<br>- variance explained : 0.9578558306750133",
          "<br>- run : 18<br>- node : blocks.0.attn.hook_result, head  0<br>- status : in_circuit<br>- resample ablate effect : 0.0097764905346907<br>- zero ablate effect : 0.042999999957<br>- norm cache : 0.16833720858613294<br>- norm std : 0.5299162051001789<br>- grad norm : 8.643802340557727e-11<br>- grad std : 2.6624700708022253e-12<br>- pearson : 0.16439862729026264<br>- p value : 1.0591745829447785e-05<br>- variance explained : 0.22752305847746893",
          "<br>- run : 18<br>- node : blocks.0.attn.hook_result, head  1<br>- status : in_circuit<br>- resample ablate effect : 0.0007862566950993<br>- zero ablate effect : 0.106999999893<br>- norm cache : 0.2725633770176598<br>- norm std : 0.33422135726277724<br>- grad norm : 8.643802340557727e-11<br>- grad std : 2.6624700708022253e-12<br>- pearson : 0.34901375971064946<br>- p value : 4.898848502474008e-22<br>- variance explained : 0.35416762629196025",
          "<br>- run : 18<br>- node : blocks.0.mlp.hook_post<br>- status : in_circuit<br>- resample ablate effect : 0.9999999999999996<br>- zero ablate effect : 0.404999999595<br>- norm cache : 0.36836997960325385<br>- norm std : 0.7141638321572199<br>- grad norm : 3.7707149902477255e-11<br>- grad std : 1.1596477901207325e-12<br>- pearson : 0.575757161611809<br>- p value : 1.3494635860234956e-77<br>- variance explained : 0.5307530740644032",
          "<br>- run : 18<br>- node : blocks.1.mlp.hook_post<br>- status : in_circuit<br>- resample ablate effect : 0.9999999999999996<br>- zero ablate effect : 0.544999999455<br>- norm cache : 2.0580535607051744<br>- norm std : 3.109829859332627<br>- grad norm : 1.0467895647514602e-11<br>- grad std : 3.205129304323373e-13<br>- pearson : 0.9183254906659266<br>- p value : 0.0<br>- variance explained : 0.8161629147452908",
          "<br>- run : 19<br>- node : blocks.0.attn.hook_result, head  0<br>- status : in_circuit<br>- resample ablate effect : 0.3691253402699715<br>- zero ablate effect : 0.3006666664662222<br>- norm cache : -0.3495541718653691<br>- norm std : -0.2869586064018038<br>- grad norm : 2.299024177005316e-19<br>- grad std : 5.23911925794401e-21<br>- pearson : 0.3217001273163436<br>- p value : 1.5661318124550504e-05<br>- variance explained : 25.821586030306765",
          "<br>- run : 19<br>- node : blocks.0.mlp.hook_post<br>- status : in_circuit<br>- resample ablate effect : 0.9999999999999998<br>- zero ablate effect : 0.3513333330991111<br>- norm cache : -0.11113853931703979<br>- norm std : -0.09673538219265726<br>- grad norm : 8.059167070611303e-20<br>- grad std : 1.839712892164547e-21<br>- pearson : 0.9113423604012948<br>- p value : 0.0<br>- variance explained : 12.20310653256311",
          "<br>- run : 21<br>- node : blocks.0.mlp.hook_post<br>- status : in_circuit<br>- resample ablate effect : 0.1553812779320157<br>- zero ablate effect : 0.1551551549998447<br>- norm cache : 0.5782712960757965<br>- norm std : 1.3045976806858133<br>- grad norm : 3.2261965543511906e-07<br>- grad std : 7.188031503346792e-09<br>- pearson : 0.39302543565350095<br>- p value : 0.045410482589813034<br>- variance explained : 3.5430062826766484",
          "<br>- run : 21<br>- node : blocks.1.mlp.hook_post<br>- status : in_circuit<br>- resample ablate effect : 0.1399725592338633<br>- zero ablate effect : 0.1211211209998787<br>- norm cache : 0.8013713297854799<br>- norm std : 0.9533235837663308<br>- grad norm : 2.40486826896813e-07<br>- grad std : 5.374350742215483e-09<br>- pearson : 0.1348066715982764<br>- p value : 0.3506791920713724<br>- variance explained : 2.699590231854893",
          "<br>- run : 21<br>- node : blocks.2.mlp.hook_post<br>- status : in_circuit<br>- resample ablate effect : 0.1404393807640801<br>- zero ablate effect : 0.1461461459998537<br>- norm cache : 1.1811097389213912<br>- norm std : 0.8430206467911933<br>- grad norm : 1.6300661798140936e-07<br>- grad std : 3.645657775663835e-09<br>- pearson : 0.38633381511661846<br>- p value : 0.008244544347853402<br>- variance explained : 4.163504801374085",
          "<br>- run : 21<br>- node : blocks.3.attn.hook_result, head  0<br>- status : in_circuit<br>- resample ablate effect : 0.9987912295129938<br>- zero ablate effect : 0.8238238229991753<br>- norm cache : 4.105731735175719<br>- norm std : 3.631157884420694<br>- grad norm : 1.8745407714959586e-07<br>- grad std : 4.187108437747611e-09<br>- pearson : 0.756742898399664<br>- p value : 1.3382915905528688e-124<br>- variance explained : 2.609041649817704",
          "<br>- run : 26<br>- node : blocks.0.mlp.hook_post<br>- status : in_circuit<br>- resample ablate effect : 0.9999999999999998<br>- zero ablate effect : 0.151999999848<br>- norm cache : 0.33714847999565833<br>- norm std : 0.23090257135850217<br>- grad norm : 0.0<br>- grad std : 5.5472914559295314e-27<br>- pearson : 0.5612952674659247<br>- p value : 8.364739107673069e-05<br>- variance explained : 20.564924381374414",
          "<br>- run : 29<br>- node : blocks.0.mlp.hook_post<br>- status : in_circuit<br>- resample ablate effect : 0.9999999999999998<br>- zero ablate effect : 0.616999999383<br>- norm cache : 3.101506697328886<br>- norm std : 1.48476361892501<br>- grad norm : 0.0<br>- grad std : 0.0<br>- pearson : 0.9787752229128139<br>- p value : 0.0<br>- variance explained : 0.905061864011164",
          "<br>- run : 3<br>- node : blocks.0.mlp.hook_post<br>- status : in_circuit<br>- resample ablate effect : 0.9999999999999968<br>- zero ablate effect : 0.967999998064<br>- norm cache : 0.7351236583164392<br>- norm std : 0.15391081262995465<br>- grad norm : 9.469271390116774e-06<br>- grad std : 6.119707336438296e-07<br>- pearson : 0.505070181732631<br>- p value : 0.1953901634360482<br>- variance explained : 0.49929779",
          "<br>- run : 3<br>- node : blocks.1.attn.hook_result, head  2<br>- status : in_circuit<br>- resample ablate effect : 0.9999999999999968<br>- zero ablate effect : 0.71999999856<br>- norm cache : 2.6799220933276366<br>- norm std : 3.1669042992782273<br>- grad norm : 4.931321200274397e-06<br>- grad std : 3.137148212317698e-07<br>- pearson : 0.9999357908285154<br>- p value : 0.0<br>- variance explained : 0.3143547375",
          "<br>- run : 33<br>- node : blocks.0.mlp.hook_post<br>- status : in_circuit<br>- resample ablate effect : 0.9999999999999994<br>- zero ablate effect : 0.2999999997<br>- norm cache : -0.1961948823907534<br>- norm std : -0.4309008487797702<br>- grad norm : 0.0<br>- grad std : 2.6682306468467536e-31<br>- pearson : 0.9903097202417841<br>- p value : 0.0<br>- variance explained : 7.002185619471333",
          "<br>- run : 34<br>- node : blocks.0.mlp.hook_post<br>- status : in_circuit<br>- resample ablate effect : 0.9999999999999996<br>- zero ablate effect : 0.435999999564<br>- norm cache : 1.6840310592257712<br>- norm std : 0.5265274958166748<br>- grad norm : 0.0<br>- grad std : 0.0<br>- pearson : 0.9631900176214394<br>- p value : 0.0<br>- variance explained : 0.7318351181725803",
          "<br>- run : 35<br>- node : blocks.0.mlp.hook_post<br>- status : in_circuit<br>- resample ablate effect : 0.9999999999999998<br>- zero ablate effect : 0.492999999507<br>- norm cache : 0.14395241118810784<br>- norm std : 0.40386173450867713<br>- grad norm : 7.988340891551537e-12<br>- grad std : 4.150371994866842e-13<br>- pearson : 0.3690153240071583<br>- p value : 1.8530023756323174e-16<br>- variance explained : 13.991405766870265",
          "<br>- run : 36<br>- node : blocks.0.mlp.hook_post<br>- status : in_circuit<br>- resample ablate effect : 0.9999999999999998<br>- zero ablate effect : 0.28999999971<br>- norm cache : 0.25627335896227454<br>- norm std : 0.4501571216022632<br>- grad norm : 0.0<br>- grad std : 3.254138141625414e-28<br>- pearson : 0.890421300855366<br>- p value : 1.973762230674061e-272<br>- variance explained : 2.6568835590611752",
          "<br>- run : 37<br>- node : blocks.0.mlp.hook_post<br>- status : in_circuit<br>- resample ablate effect : 0.9999999999999998<br>- zero ablate effect : 0.540999999459<br>- norm cache : -0.06276974614332881<br>- norm std : -0.15549217485923236<br>- grad norm : 8.851288469801256e-15<br>- grad std : 4.042771790214528e-16<br>- pearson : 0.549626630685296<br>- p value : 1.1648963045015358e-49<br>- variance explained : 5.953432250898227",
          "<br>- run : 4<br>- node : blocks.0.mlp.hook_post<br>- status : in_circuit<br>- resample ablate effect : 0.987727914778618<br>- zero ablate effect : 0.977999999022<br>- norm cache : 1.4993627049156621<br>- norm std : 0.49464819283950473<br>- grad norm : 5.1355476898606867e-05<br>- grad std : 1.8166326753998872e-06<br>- pearson : 0.38188580504359937<br>- p value : 2.978957862052968e-15<br>- variance explained : 1.6341751931015887",
          "<br>- run : 4<br>- node : blocks.1.attn.hook_result, head  0<br>- status : in_circuit<br>- resample ablate effect : 0.7379335288002845<br>- zero ablate effect : 0.820999999179<br>- norm cache : 0.07719865475737635<br>- norm std : 1.2686384821730292<br>- grad norm : 3.6503231967799366e-05<br>- grad std : 1.2912637430417815e-06<br>- pearson : 0.08769509811309625<br>- p value : 0.1878762671284027<br>- variance explained : 0.0070033034903058105",
          "<br>- run : 4<br>- node : blocks.1.attn.hook_result, head  1<br>- status : in_circuit<br>- resample ablate effect : 0.7222961727871011<br>- zero ablate effect : 0.891999999108<br>- norm cache : 0.20539248148590888<br>- norm std : 0.9454276544714588<br>- grad norm : 3.6503231967799366e-05<br>- grad std : 1.2912637430417815e-06<br>- pearson : 0.4888422357929969<br>- p value : 3.1049847203680844e-56<br>- variance explained : 0.025165724981814065",
          "<br>- run : 4<br>- node : blocks.1.mlp.hook_post<br>- status : in_circuit<br>- resample ablate effect : 0.987727914778618<br>- zero ablate effect : 0.976999999023<br>- norm cache : 2.7431688232886637<br>- norm std : 2.9377700211142215<br>- grad norm : 2.116069663316011e-05<br>- grad std : 7.484468369511887e-07<br>- pearson : 0.9998352582695296<br>- p value : 0.0<br>- variance explained : 5.185587596300991",
          "<br>- run : 8<br>- node : blocks.0.mlp.hook_post<br>- status : in_circuit<br>- resample ablate effect : 0.9999999999999998<br>- zero ablate effect : 0.345999999654<br>- norm cache : -0.11710068405374928<br>- norm std : -0.17586842360249216<br>- grad norm : 0.0<br>- grad std : 3.539760137132521e-25<br>- pearson : 0.5378923570273917<br>- p value : 1.2919767484096576e-31<br>- variance explained : 2.804819272207699"
         ],
         "marker": {
          "color": "rgba(0, 0, 0, 0)",
          "line": {
           "color": "darkcyan",
           "width": 1
          },
          "opacity": [
           0.9060878128826755,
           0.9101549123224313,
           0,
           0,
           0.8567800237283714,
           0.9150943990052223,
           0.36589153074367603,
           0.46168683560989465,
           0.7091168821997558,
           0.7905929221140395,
           0.638664640173313,
           0.6741870234237026,
           0.5151179131688655,
           0,
           0.5058325251504594,
           0.9261179289340487,
           0.5118974188779382,
           0.8283947800587781,
           0,
           0.8788225092602631,
           0.6381780457850439,
           0.7282423683508925,
           0.7617116695284869,
           0.6308131843553537,
           0.7884216172556546,
           0.9911510597692959,
           0,
           0.9555660126217431,
           0.9907464823663272,
           0.6705741172000007
          ],
          "size": [
           17.91194475750063,
           43.019761633405054,
           16.023405892871267,
           16.50405291201554,
           18.357272129344576,
           42.03489203373437,
           22.23932964080143,
           20.673770858102216,
           23.713310657257757,
           42.878638874661014,
           15.70433114878557,
           17.22611694245874,
           28.436781445486506,
           25.626588670130644,
           24.744165174329545,
           47.04926307536555,
           19.847220570868018,
           29.87810895140008,
           19.231286501039637,
           43.33523439422582,
           14.552793209761838,
           22.212219966533397,
           21.230893876069416,
           21.601256972818106,
           16.756062601126143,
           21.957185542716037,
           28.149107857384234,
           25.56342123577167,
           41.502160168913775,
           16.593052611180063
          ]
         },
         "mode": "markers",
         "name": "in circuit",
         "type": "scatter",
         "x": [
          0.357731249994094,
          0.9826220624701885,
          0.11213531920164607,
          0.10058008361559671,
          0.29585514897895976,
          0.9808242532495469,
          0.16439862729026264,
          0.34901375971064946,
          0.575757161611809,
          0.9183254906659266,
          0.3217001273163436,
          0.9113423604012948,
          0.39302543565350095,
          0.1348066715982764,
          0.38633381511661846,
          0.756742898399664,
          0.5612952674659247,
          0.9787752229128139,
          0.505070181732631,
          0.9999357908285154,
          0.9903097202417841,
          0.9631900176214394,
          0.3690153240071583,
          0.890421300855366,
          0.549626630685296,
          0.38188580504359937,
          0.08769509811309625,
          0.4888422357929969,
          0.9998352582695296,
          0.5378923570273917
         ],
         "y": [
          0.018482940233987482,
          2.808890460731961,
          0.007265407436097863,
          0.03453624082925264,
          0.5023060867757484,
          3.1317332813587457,
          0.16833720858613294,
          0.2725633770176598,
          0.36836997960325385,
          2.0580535607051744,
          -0.3495541718653691,
          -0.11113853931703979,
          0.5782712960757965,
          0.8013713297854799,
          1.1811097389213912,
          4.105731735175719,
          0.33714847999565833,
          3.101506697328886,
          0.7351236583164392,
          2.6799220933276366,
          -0.1961948823907534,
          1.6840310592257712,
          0.14395241118810784,
          0.25627335896227454,
          -0.06276974614332881,
          1.4993627049156621,
          0.07719865475737635,
          0.20539248148590888,
          2.7431688232886637,
          -0.11710068405374928
         ]
        },
        {
         "hovertext": [
          "<br>- run : 11<br>- node : blocks.1.mlp.hook_post<br>- status : not_in_circuit<br>- resample ablate effect : 0.0<br>- zero ablate effect : 0.112999999887<br>- norm cache : 1.8007224902403416<br>- norm std : 0.989239056430968<br>- grad norm : 5.6613069097835155e-15<br>- grad std : 2.551382086440364e-16<br>- pearson : 0.8549269320523452<br>- p value : 3.800730967352922e-226<br>- variance explained : 1.1123993794123332",
          "<br>- run : 18<br>- node : blocks.0.attn.hook_result, head  2<br>- status : not_in_circuit<br>- resample ablate effect : 7.741231948283705e-05<br>- zero ablate effect : 0.111999999888<br>- norm cache : -0.16833720858613294<br>- norm std : -0.112080196723368<br>- grad norm : 8.643802340557727e-11<br>- grad std : 2.6624700708022253e-12<br>- pearson : 0.02641495939373689<br>- p value : 0.461607007491924<br>- variance explained : 0.11758872979697463",
          "<br>- run : 18<br>- node : blocks.0.attn.hook_result, head  3<br>- status : not_in_circuit<br>- resample ablate effect : 0.0010829877110178<br>- zero ablate effect : 0.094999999905<br>- norm cache : 0.7293407853541782<br>- norm std : -0.11942709067304204<br>- grad norm : 8.643802340557727e-11<br>- grad std : 2.6624700708022253e-12<br>- pearson : 0.06747738505281418<br>- p value : 0.14525013422218092<br>- variance explained : 1.2104851164832877",
          "<br>- run : 19<br>- node : blocks.1.attn.hook_result, head  0<br>- status : not_in_circuit<br>- resample ablate effect : 0.0<br>- zero ablate effect : 0.0666666666222222<br>- norm cache : 0.5364991368318222<br>- norm std : 0.6802591323913041<br>- grad norm : 3.8605973216270305e-20<br>- grad std : 8.794683833220916e-22<br>- pearson : 0.7033337221915062<br>- p value : 5.29351262145346e-100<br>- variance explained : 18.281654196227013",
          "<br>- run : 19<br>- node : blocks.1.attn.hook_result, head  1<br>- status : not_in_circuit<br>- resample ablate effect : 0.0<br>- zero ablate effect : 0.0666666666222222<br>- norm cache : 0.7434932040564703<br>- norm std : 0.09673538219265726<br>- grad norm : 3.8605973216270305e-20<br>- grad std : 8.794683833220916e-22<br>- pearson : 0.10968364127519885<br>- p value : 0.18224990460524806<br>- variance explained : 6.702032057815039",
          "<br>- run : 19<br>- node : blocks.1.mlp.hook_post<br>- status : not_in_circuit<br>- resample ablate effect : 0.0<br>- zero ablate effect : 0.0666666666222222<br>- norm cache : 2.8519994390527894<br>- norm std : 2.922089550866771<br>- grad norm : 2.324776086619939e-20<br>- grad std : 5.293725699172797e-22<br>- pearson : 0.6755719098162729<br>- p value : 1.4823378051176861e-80<br>- variance explained : 32.17984964513112",
          "<br>- run : 20<br>- node : blocks.1.mlp.hook_post<br>- status : not_in_circuit<br>- resample ablate effect : 0.0<br>- zero ablate effect : 0.0999999999<br>- norm cache : 2.9617885402724036<br>- norm std : 3.125039912978892<br>- grad norm : 0.0<br>- grad std : 0.0<br>- pearson : 0.5818907471509939<br>- p value : 4.850032146385237e-44<br>- variance explained : 8.259297848987194",
          "<br>- run : 21<br>- node : blocks.0.attn.hook_result, head  0<br>- status : not_in_circuit<br>- resample ablate effect : 0.0213677419939285<br>- zero ablate effect : 0.0070070069999929<br>- norm cache : -0.013802902924488861<br>- norm std : 0.14532429668869204<br>- grad norm : 8.410712553086341e-07<br>- grad std : 1.8806339596721955e-08<br>- pearson : 0.4145476400615269<br>- p value : 0.012988635226693574<br>- variance explained : 2.876535487928176",
          "<br>- run : 21<br>- node : blocks.0.attn.hook_result, head  1<br>- status : not_in_circuit<br>- resample ablate effect : 0.0119411171286106<br>- zero ablate effect : 0.0050050049999949<br>- norm cache : -0.03894204071089059<br>- norm std : -0.3022518025052989<br>- grad norm : 8.410712553086341e-07<br>- grad std : 1.8806339596721955e-08<br>- pearson : 0.6129371548225313<br>- p value : 8.601151711512087e-70<br>- variance explained : 2.9357072970158047",
          "<br>- run : 21<br>- node : blocks.0.attn.hook_result, head  3<br>- status : not_in_circuit<br>- resample ablate effect : 0.0274872413569969<br>- zero ablate effect : 0.1071071069998927<br>- norm cache : 0.0020170013913147133<br>- norm std : -0.0777518918214047<br>- grad norm : 8.410712553086341e-07<br>- grad std : 1.8806339596721955e-08<br>- pearson : 0.35227435067830076<br>- p value : 2.372166008715327e-07<br>- variance explained : 2.836127840215954",
          "<br>- run : 26<br>- node : blocks.1.mlp.hook_post<br>- status : not_in_circuit<br>- resample ablate effect : 0.0<br>- zero ablate effect : 0.012999999987<br>- norm cache : 3.074637363105239<br>- norm std : 3.0539005616783657<br>- grad norm : 0.0<br>- grad std : 6.359552602567843e-28<br>- pearson : 0.6295560104315474<br>- p value : 0.023514340605099906<br>- variance explained : 55.56656879812278",
          "<br>- run : 3<br>- node : blocks.1.attn.hook_result, head  3<br>- status : not_in_circuit<br>- resample ablate effect : 0.0<br>- zero ablate effect : 0.427999999144<br>- norm cache : 0.7848458097276243<br>- norm std : 0.0020895227818449494<br>- grad norm : 4.931321200274397e-06<br>- grad std : 3.137148212317698e-07<br>- pearson : 0.8968748527932043<br>- p value : 4.233529692263512e-71<br>- variance explained : 0.41707184499999994",
          "<br>- run : 4<br>- node : blocks.0.attn.hook_result, head  0<br>- status : not_in_circuit<br>- resample ablate effect : 4.212216776130561e-05<br>- zero ablate effect : 0.978999999021<br>- norm cache : -0.07719865475737626<br>- norm std : -0.04152673517565671<br>- grad norm : 8.355615864275023e-05<br>- grad std : 2.873757466659299e-06<br>- pearson : 0.6215799402827749<br>- p value : 1.0744960194053727e-78<br>- variance explained : 0.01662321422655428",
          "<br>- run : 4<br>- node : blocks.0.attn.hook_result, head  1<br>- status : not_in_circuit<br>- resample ablate effect : 0.0<br>- zero ablate effect : 0.999999999<br>- norm cache : -0.29404567029071216<br>- norm std : -0.2647704613591969<br>- grad norm : 8.355615864275023e-05<br>- grad std : 2.873757466659299e-06<br>- pearson : 0.790291779051048<br>- p value : 7.465899192112568e-192<br>- variance explained : 0.06090643032038418",
          "<br>- run : 4<br>- node : blocks.0.attn.hook_result, head  2<br>- status : not_in_circuit<br>- resample ablate effect : 0.0<br>- zero ablate effect : 0.026999999973<br>- norm cache : -0.2936158506384175<br>- norm std : -0.07684050950068463<br>- grad norm : 8.355615864275023e-05<br>- grad std : 2.873757466659299e-06<br>- pearson : 0.8335914923661262<br>- p value : 5.379952994432287e-243<br>- variance explained : 0.04196997342175856",
          "<br>- run : 4<br>- node : blocks.1.attn.hook_result, head  2<br>- status : not_in_circuit<br>- resample ablate effect : 0.0<br>- zero ablate effect : 0.904999999095<br>- norm cache : 0.13317892422586822<br>- norm std : -0.08767884408256768<br>- grad norm : 3.6503231967799366e-05<br>- grad std : 1.2912637430417815e-06<br>- pearson : 0.3053350264314418<br>- p value : 4.9723873171243584e-17<br>- variance explained : 0.02835459695725752",
          "<br>- run : 4<br>- node : blocks.1.attn.hook_result, head  3<br>- status : not_in_circuit<br>- resample ablate effect : 0.0<br>- zero ablate effect : 0.595999999404<br>- norm cache : -0.08639189591608333<br>- norm std : 0.04152673517565665<br>- grad norm : 3.6503231967799366e-05<br>- grad std : 1.2912637430417815e-06<br>- pearson : 0.6742825404229906<br>- p value : 1.4443569325302268e-107<br>- variance explained : 0.05622648734931942"
         ],
         "marker": {
          "color": "darkorange",
          "opacity": [
           0.46892378088908393,
           0,
           0,
           0.4065591117288758,
           0,
           0.4065591117288758,
           0.45298221268697925,
           0.266966293611006,
           0.2565968479687406,
           0.46181777724198053,
           0.29121403396232404,
           0.7233736709581025,
           0.9915554303859206,
           0.9999999996,
           0.3314534137355132,
           0.9610519032370919,
           0.8176082897909969
          ],
          "size": [
           25.913912451447743,
           17.103358426213056,
           17.044583274615665,
           23.442073059130433,
           18.77388305754126,
           41.376716406934165,
           43.000319303831134,
           19.162594373509535,
           15.581985579957609,
           17.37798486542876,
           42.431204493426925,
           18.01671618225476,
           17.667786118594748,
           15.881836309126424,
           17.385275923994524,
           17.298569247339458,
           18.332213881405252
          ]
         },
         "mode": "markers",
         "name": "not in circuit",
         "type": "scatter",
         "x": [
          0.8549269320523452,
          0.02641495939373689,
          0.06747738505281418,
          0.7033337221915062,
          0.10968364127519885,
          0.6755719098162729,
          0.5818907471509939,
          0.4145476400615269,
          0.6129371548225313,
          0.35227435067830076,
          0.6295560104315474,
          0.8968748527932043,
          0.6215799402827749,
          0.790291779051048,
          0.8335914923661262,
          0.3053350264314418,
          0.6742825404229906
         ],
         "y": [
          1.8007224902403416,
          -0.16833720858613294,
          0.7293407853541782,
          0.5364991368318222,
          0.7434932040564703,
          2.8519994390527894,
          2.9617885402724036,
          -0.013802902924488861,
          -0.03894204071089059,
          0.0020170013913147133,
          3.074637363105239,
          0.7848458097276243,
          -0.07719865475737626,
          -0.29404567029071216,
          -0.2936158506384175,
          0.13317892422586822,
          -0.08639189591608333
         ]
        }
       ],
       "layout": {
        "font": {
         "size": 16
        },
        "legend": {
         "font": {
          "size": 16
         },
         "x": 0.01,
         "xanchor": "left",
         "y": 0.99,
         "yanchor": "top"
        },
        "plot_bgcolor": "white",
        "shapes": [
         {
          "line": {
           "color": "red",
           "dash": "dash"
          },
          "name": "mean node norm line",
          "showlegend": true,
          "type": "line",
          "x0": 0,
          "x1": 1,
          "xref": "x domain",
          "y0": 0,
          "y1": 0,
          "yref": "y"
         }
        ],
        "showlegend": true,
        "template": {
         "data": {
          "bar": [
           {
            "error_x": {
             "color": "#2a3f5f"
            },
            "error_y": {
             "color": "#2a3f5f"
            },
            "marker": {
             "line": {
              "color": "#E5ECF6",
              "width": 0.5
             },
             "pattern": {
              "fillmode": "overlay",
              "size": 10,
              "solidity": 0.2
             }
            },
            "type": "bar"
           }
          ],
          "barpolar": [
           {
            "marker": {
             "line": {
              "color": "#E5ECF6",
              "width": 0.5
             },
             "pattern": {
              "fillmode": "overlay",
              "size": 10,
              "solidity": 0.2
             }
            },
            "type": "barpolar"
           }
          ],
          "carpet": [
           {
            "aaxis": {
             "endlinecolor": "#2a3f5f",
             "gridcolor": "white",
             "linecolor": "white",
             "minorgridcolor": "white",
             "startlinecolor": "#2a3f5f"
            },
            "baxis": {
             "endlinecolor": "#2a3f5f",
             "gridcolor": "white",
             "linecolor": "white",
             "minorgridcolor": "white",
             "startlinecolor": "#2a3f5f"
            },
            "type": "carpet"
           }
          ],
          "choropleth": [
           {
            "colorbar": {
             "outlinewidth": 0,
             "ticks": ""
            },
            "type": "choropleth"
           }
          ],
          "contour": [
           {
            "colorbar": {
             "outlinewidth": 0,
             "ticks": ""
            },
            "colorscale": [
             [
              0,
              "#0d0887"
             ],
             [
              0.1111111111111111,
              "#46039f"
             ],
             [
              0.2222222222222222,
              "#7201a8"
             ],
             [
              0.3333333333333333,
              "#9c179e"
             ],
             [
              0.4444444444444444,
              "#bd3786"
             ],
             [
              0.5555555555555556,
              "#d8576b"
             ],
             [
              0.6666666666666666,
              "#ed7953"
             ],
             [
              0.7777777777777778,
              "#fb9f3a"
             ],
             [
              0.8888888888888888,
              "#fdca26"
             ],
             [
              1,
              "#f0f921"
             ]
            ],
            "type": "contour"
           }
          ],
          "contourcarpet": [
           {
            "colorbar": {
             "outlinewidth": 0,
             "ticks": ""
            },
            "type": "contourcarpet"
           }
          ],
          "heatmap": [
           {
            "colorbar": {
             "outlinewidth": 0,
             "ticks": ""
            },
            "colorscale": [
             [
              0,
              "#0d0887"
             ],
             [
              0.1111111111111111,
              "#46039f"
             ],
             [
              0.2222222222222222,
              "#7201a8"
             ],
             [
              0.3333333333333333,
              "#9c179e"
             ],
             [
              0.4444444444444444,
              "#bd3786"
             ],
             [
              0.5555555555555556,
              "#d8576b"
             ],
             [
              0.6666666666666666,
              "#ed7953"
             ],
             [
              0.7777777777777778,
              "#fb9f3a"
             ],
             [
              0.8888888888888888,
              "#fdca26"
             ],
             [
              1,
              "#f0f921"
             ]
            ],
            "type": "heatmap"
           }
          ],
          "heatmapgl": [
           {
            "colorbar": {
             "outlinewidth": 0,
             "ticks": ""
            },
            "colorscale": [
             [
              0,
              "#0d0887"
             ],
             [
              0.1111111111111111,
              "#46039f"
             ],
             [
              0.2222222222222222,
              "#7201a8"
             ],
             [
              0.3333333333333333,
              "#9c179e"
             ],
             [
              0.4444444444444444,
              "#bd3786"
             ],
             [
              0.5555555555555556,
              "#d8576b"
             ],
             [
              0.6666666666666666,
              "#ed7953"
             ],
             [
              0.7777777777777778,
              "#fb9f3a"
             ],
             [
              0.8888888888888888,
              "#fdca26"
             ],
             [
              1,
              "#f0f921"
             ]
            ],
            "type": "heatmapgl"
           }
          ],
          "histogram": [
           {
            "marker": {
             "pattern": {
              "fillmode": "overlay",
              "size": 10,
              "solidity": 0.2
             }
            },
            "type": "histogram"
           }
          ],
          "histogram2d": [
           {
            "colorbar": {
             "outlinewidth": 0,
             "ticks": ""
            },
            "colorscale": [
             [
              0,
              "#0d0887"
             ],
             [
              0.1111111111111111,
              "#46039f"
             ],
             [
              0.2222222222222222,
              "#7201a8"
             ],
             [
              0.3333333333333333,
              "#9c179e"
             ],
             [
              0.4444444444444444,
              "#bd3786"
             ],
             [
              0.5555555555555556,
              "#d8576b"
             ],
             [
              0.6666666666666666,
              "#ed7953"
             ],
             [
              0.7777777777777778,
              "#fb9f3a"
             ],
             [
              0.8888888888888888,
              "#fdca26"
             ],
             [
              1,
              "#f0f921"
             ]
            ],
            "type": "histogram2d"
           }
          ],
          "histogram2dcontour": [
           {
            "colorbar": {
             "outlinewidth": 0,
             "ticks": ""
            },
            "colorscale": [
             [
              0,
              "#0d0887"
             ],
             [
              0.1111111111111111,
              "#46039f"
             ],
             [
              0.2222222222222222,
              "#7201a8"
             ],
             [
              0.3333333333333333,
              "#9c179e"
             ],
             [
              0.4444444444444444,
              "#bd3786"
             ],
             [
              0.5555555555555556,
              "#d8576b"
             ],
             [
              0.6666666666666666,
              "#ed7953"
             ],
             [
              0.7777777777777778,
              "#fb9f3a"
             ],
             [
              0.8888888888888888,
              "#fdca26"
             ],
             [
              1,
              "#f0f921"
             ]
            ],
            "type": "histogram2dcontour"
           }
          ],
          "mesh3d": [
           {
            "colorbar": {
             "outlinewidth": 0,
             "ticks": ""
            },
            "type": "mesh3d"
           }
          ],
          "parcoords": [
           {
            "line": {
             "colorbar": {
              "outlinewidth": 0,
              "ticks": ""
             }
            },
            "type": "parcoords"
           }
          ],
          "pie": [
           {
            "automargin": true,
            "type": "pie"
           }
          ],
          "scatter": [
           {
            "fillpattern": {
             "fillmode": "overlay",
             "size": 10,
             "solidity": 0.2
            },
            "type": "scatter"
           }
          ],
          "scatter3d": [
           {
            "line": {
             "colorbar": {
              "outlinewidth": 0,
              "ticks": ""
             }
            },
            "marker": {
             "colorbar": {
              "outlinewidth": 0,
              "ticks": ""
             }
            },
            "type": "scatter3d"
           }
          ],
          "scattercarpet": [
           {
            "marker": {
             "colorbar": {
              "outlinewidth": 0,
              "ticks": ""
             }
            },
            "type": "scattercarpet"
           }
          ],
          "scattergeo": [
           {
            "marker": {
             "colorbar": {
              "outlinewidth": 0,
              "ticks": ""
             }
            },
            "type": "scattergeo"
           }
          ],
          "scattergl": [
           {
            "marker": {
             "colorbar": {
              "outlinewidth": 0,
              "ticks": ""
             }
            },
            "type": "scattergl"
           }
          ],
          "scattermapbox": [
           {
            "marker": {
             "colorbar": {
              "outlinewidth": 0,
              "ticks": ""
             }
            },
            "type": "scattermapbox"
           }
          ],
          "scatterpolar": [
           {
            "marker": {
             "colorbar": {
              "outlinewidth": 0,
              "ticks": ""
             }
            },
            "type": "scatterpolar"
           }
          ],
          "scatterpolargl": [
           {
            "marker": {
             "colorbar": {
              "outlinewidth": 0,
              "ticks": ""
             }
            },
            "type": "scatterpolargl"
           }
          ],
          "scatterternary": [
           {
            "marker": {
             "colorbar": {
              "outlinewidth": 0,
              "ticks": ""
             }
            },
            "type": "scatterternary"
           }
          ],
          "surface": [
           {
            "colorbar": {
             "outlinewidth": 0,
             "ticks": ""
            },
            "colorscale": [
             [
              0,
              "#0d0887"
             ],
             [
              0.1111111111111111,
              "#46039f"
             ],
             [
              0.2222222222222222,
              "#7201a8"
             ],
             [
              0.3333333333333333,
              "#9c179e"
             ],
             [
              0.4444444444444444,
              "#bd3786"
             ],
             [
              0.5555555555555556,
              "#d8576b"
             ],
             [
              0.6666666666666666,
              "#ed7953"
             ],
             [
              0.7777777777777778,
              "#fb9f3a"
             ],
             [
              0.8888888888888888,
              "#fdca26"
             ],
             [
              1,
              "#f0f921"
             ]
            ],
            "type": "surface"
           }
          ],
          "table": [
           {
            "cells": {
             "fill": {
              "color": "#EBF0F8"
             },
             "line": {
              "color": "white"
             }
            },
            "header": {
             "fill": {
              "color": "#C8D4E3"
             },
             "line": {
              "color": "white"
             }
            },
            "type": "table"
           }
          ]
         },
         "layout": {
          "annotationdefaults": {
           "arrowcolor": "#2a3f5f",
           "arrowhead": 0,
           "arrowwidth": 1
          },
          "autotypenumbers": "strict",
          "coloraxis": {
           "colorbar": {
            "outlinewidth": 0,
            "ticks": ""
           }
          },
          "colorscale": {
           "diverging": [
            [
             0,
             "#8e0152"
            ],
            [
             0.1,
             "#c51b7d"
            ],
            [
             0.2,
             "#de77ae"
            ],
            [
             0.3,
             "#f1b6da"
            ],
            [
             0.4,
             "#fde0ef"
            ],
            [
             0.5,
             "#f7f7f7"
            ],
            [
             0.6,
             "#e6f5d0"
            ],
            [
             0.7,
             "#b8e186"
            ],
            [
             0.8,
             "#7fbc41"
            ],
            [
             0.9,
             "#4d9221"
            ],
            [
             1,
             "#276419"
            ]
           ],
           "sequential": [
            [
             0,
             "#0d0887"
            ],
            [
             0.1111111111111111,
             "#46039f"
            ],
            [
             0.2222222222222222,
             "#7201a8"
            ],
            [
             0.3333333333333333,
             "#9c179e"
            ],
            [
             0.4444444444444444,
             "#bd3786"
            ],
            [
             0.5555555555555556,
             "#d8576b"
            ],
            [
             0.6666666666666666,
             "#ed7953"
            ],
            [
             0.7777777777777778,
             "#fb9f3a"
            ],
            [
             0.8888888888888888,
             "#fdca26"
            ],
            [
             1,
             "#f0f921"
            ]
           ],
           "sequentialminus": [
            [
             0,
             "#0d0887"
            ],
            [
             0.1111111111111111,
             "#46039f"
            ],
            [
             0.2222222222222222,
             "#7201a8"
            ],
            [
             0.3333333333333333,
             "#9c179e"
            ],
            [
             0.4444444444444444,
             "#bd3786"
            ],
            [
             0.5555555555555556,
             "#d8576b"
            ],
            [
             0.6666666666666666,
             "#ed7953"
            ],
            [
             0.7777777777777778,
             "#fb9f3a"
            ],
            [
             0.8888888888888888,
             "#fdca26"
            ],
            [
             1,
             "#f0f921"
            ]
           ]
          },
          "colorway": [
           "#636efa",
           "#EF553B",
           "#00cc96",
           "#ab63fa",
           "#FFA15A",
           "#19d3f3",
           "#FF6692",
           "#B6E880",
           "#FF97FF",
           "#FECB52"
          ],
          "font": {
           "color": "#2a3f5f"
          },
          "geo": {
           "bgcolor": "white",
           "lakecolor": "white",
           "landcolor": "#E5ECF6",
           "showlakes": true,
           "showland": true,
           "subunitcolor": "white"
          },
          "hoverlabel": {
           "align": "left"
          },
          "hovermode": "closest",
          "mapbox": {
           "style": "light"
          },
          "paper_bgcolor": "white",
          "plot_bgcolor": "#E5ECF6",
          "polar": {
           "angularaxis": {
            "gridcolor": "white",
            "linecolor": "white",
            "ticks": ""
           },
           "bgcolor": "#E5ECF6",
           "radialaxis": {
            "gridcolor": "white",
            "linecolor": "white",
            "ticks": ""
           }
          },
          "scene": {
           "xaxis": {
            "backgroundcolor": "#E5ECF6",
            "gridcolor": "white",
            "gridwidth": 2,
            "linecolor": "white",
            "showbackground": true,
            "ticks": "",
            "zerolinecolor": "white"
           },
           "yaxis": {
            "backgroundcolor": "#E5ECF6",
            "gridcolor": "white",
            "gridwidth": 2,
            "linecolor": "white",
            "showbackground": true,
            "ticks": "",
            "zerolinecolor": "white"
           },
           "zaxis": {
            "backgroundcolor": "#E5ECF6",
            "gridcolor": "white",
            "gridwidth": 2,
            "linecolor": "white",
            "showbackground": true,
            "ticks": "",
            "zerolinecolor": "white"
           }
          },
          "shapedefaults": {
           "line": {
            "color": "#2a3f5f"
           }
          },
          "ternary": {
           "aaxis": {
            "gridcolor": "white",
            "linecolor": "white",
            "ticks": ""
           },
           "baxis": {
            "gridcolor": "white",
            "linecolor": "white",
            "ticks": ""
           },
           "bgcolor": "#E5ECF6",
           "caxis": {
            "gridcolor": "white",
            "linecolor": "white",
            "ticks": ""
           }
          },
          "title": {
           "x": 0.05
          },
          "xaxis": {
           "automargin": true,
           "gridcolor": "white",
           "linecolor": "white",
           "ticks": "",
           "title": {
            "standoff": 15
           },
           "zerolinecolor": "white",
           "zerolinewidth": 2
          },
          "yaxis": {
           "automargin": true,
           "gridcolor": "white",
           "linecolor": "white",
           "ticks": "",
           "title": {
            "standoff": 15
           },
           "zerolinecolor": "white",
           "zerolinewidth": 2
          }
         }
        },
        "xaxis": {
         "dtick": 0.5,
         "gridcolor": "lightgrey",
         "linecolor": "black",
         "mirror": true,
         "showline": true,
         "ticks": "outside",
         "title": {
          "text": "Pearson Correlation Coefficient"
         }
        },
        "yaxis": {
         "dtick": 0.5,
         "gridcolor": "lightgrey",
         "linecolor": "black",
         "mirror": true,
         "showline": true,
         "ticks": "outside",
         "title": {
          "text": "Normalised Node Norms"
         }
        }
       }
      }
     },
     "metadata": {},
     "output_type": "display_data"
    }
   ],
   "source": [
    "from functools import partial\n",
    "\n",
    "def make_size_col(row, row_id, row_normalizer):\n",
    "    return 18 + (row[row_id] / row_normalizer) * 8\n",
    "\n",
    "def make_alpha_col(row):\n",
    "    if row[\"zero_ablate_effect\"] == 0.0:\n",
    "        return 0.0\n",
    "    if row[\"p_value\"] > 0.05:\n",
    "        return 0.0\n",
    "    return 0.2 + (row[\"zero_ablate_effect\"]**0.5) * 0.8\n",
    "\n",
    "fig = make_scatter_plot(\n",
    "    df=normalised_siit_stats[normalised_siit_stats[\"zero_ablate_effect\"] != 0],\n",
    "    x=\"pearson\",\n",
    "    y=\"norm_cache\",\n",
    "    y_err=None,\n",
    "    make_alpha_fn=lambda row: make_alpha_col(row),\n",
    "    make_size_fn=partial(make_size_col, row_id=\"norm_std\", row_normalizer=1),\n",
    "    # ylog=True,\n",
    ")\n",
    "\n",
    "# add a red horizontal line at 0\n",
    "fig.add_hline(y=0, line_dash=\"dash\", line_color=\"red\", name=\"mean node norm line\", showlegend=True)\n",
    "fig.update_layout(\n",
    "    showlegend=True,\n",
    "    legend=dict(\n",
    "        yanchor=\"top\",\n",
    "        y=0.99,\n",
    "        xanchor=\"left\",\n",
    "        x=0.01,\n",
    "        # font size\n",
    "        font=dict(size=16),\n",
    "    ),\n",
    "    xaxis_title=\"Pearson Correlation Coefficient\",\n",
    "    yaxis_title=\"Normalised Node Norms\",\n",
    "    # font size\n",
    "    font=dict(size=16),\n",
    ")\n",
    "\n",
    "# fig.write_html(f\"interp_results/pearson_plots/siit_{lens}_pearson_vs_norm_cache.html\")\n",
    "# fig.write_image(f\"interp_results/pearson_plots/siit_{lens}_pearson_vs_norm_cache.pdf\")\n",
    "fig"
   ]
  },
  {
   "cell_type": "code",
   "execution_count": 16,
   "metadata": {},
   "outputs": [
    {
     "data": {
      "application/vnd.plotly.v1+json": {
       "config": {
        "plotlyServerURL": "https://plot.ly"
       },
       "data": [
        {
         "hovertext": [
          "<br>- run : 11<br>- node : blocks.0.mlp.hook_post<br>- status : in_circuit<br>- resample ablate effect : 0.9999999999999998<br>- zero ablate effect : 0.778999999221<br>- norm cache : 0.018482940233987482<br>- norm std : -0.011006905312421206<br>- grad norm : 1.6244803083004938e-13<br>- grad std : 7.412064295935373e-15<br>- pearson : 0.357731249994094<br>- p value : 3.361863822227456e-20<br>- variance explained : 0.041568027602301674",
          "<br>- run : 11<br>- node : blocks.1.attn.hook_result, head  0<br>- status : in_circuit<br>- resample ablate effect : 0.9999999999999998<br>- zero ablate effect : 0.787999999212<br>- norm cache : 2.808890460731961<br>- norm std : 3.1274702041756317<br>- grad norm : 1.2945383256839344e-14<br>- grad std : 5.751064661863449e-16<br>- pearson : 0.9826220624701885<br>- p value : 0.0<br>- variance explained : 0.5287932819790311",
          "<br>- run : 13<br>- node : blocks.0.attn.hook_result, head  0<br>- status : in_circuit<br>- resample ablate effect : 0.2355835045258844<br>- zero ablate effect : 0.173999999826<br>- norm cache : 0.007265407436097863<br>- norm std : -0.2470742633910915<br>- grad norm : 3.642729229369479e-09<br>- grad std : 1.2852192921020134e-10<br>- pearson : 0.11213531920164607<br>- p value : 0.09473391836427805<br>- variance explained : 7.958233130290261",
          "<br>- run : 13<br>- node : blocks.0.attn.hook_result, head  1<br>- status : in_circuit<br>- resample ablate effect : 0.3387400731304154<br>- zero ablate effect : 0.268999999731<br>- norm cache : 0.03453624082925264<br>- norm std : -0.1869933859980579<br>- grad norm : 3.642729229369479e-09<br>- grad std : 1.2852192921020134e-10<br>- pearson : 0.10058008361559671<br>- p value : 0.1796795621517703<br>- variance explained : 8.002917372049378",
          "<br>- run : 13<br>- node : blocks.0.mlp.hook_post<br>- status : in_circuit<br>- resample ablate effect : 0.9999999999999996<br>- zero ablate effect : 0.673999999326<br>- norm cache : 0.5023060867757484<br>- norm std : 0.04465901616807198<br>- grad norm : 1.1190484094925066e-09<br>- grad std : 3.884232172013391e-11<br>- pearson : 0.29585514897895976<br>- p value : 1.478902199386689e-07<br>- variance explained : 7.286916974619604",
          "<br>- run : 13<br>- node : blocks.1.mlp.hook_post<br>- status : in_circuit<br>- resample ablate effect : 0.9999999999999996<br>- zero ablate effect : 0.798999999201<br>- norm cache : 3.1317332813587457<br>- norm std : 3.0043615042167966<br>- grad norm : 6.970677507434074e-11<br>- grad std : 2.463448065329055e-12<br>- pearson : 0.9808242532495469<br>- p value : 0.0<br>- variance explained : 0.9578558306750133",
          "<br>- run : 18<br>- node : blocks.0.attn.hook_result, head  0<br>- status : in_circuit<br>- resample ablate effect : 0.0097764905346907<br>- zero ablate effect : 0.042999999957<br>- norm cache : 0.16833720858613294<br>- norm std : 0.5299162051001789<br>- grad norm : 8.643802340557727e-11<br>- grad std : 2.6624700708022253e-12<br>- pearson : 0.16439862729026264<br>- p value : 1.0591745829447785e-05<br>- variance explained : 0.22752305847746893",
          "<br>- run : 18<br>- node : blocks.0.attn.hook_result, head  1<br>- status : in_circuit<br>- resample ablate effect : 0.0007862566950993<br>- zero ablate effect : 0.106999999893<br>- norm cache : 0.2725633770176598<br>- norm std : 0.33422135726277724<br>- grad norm : 8.643802340557727e-11<br>- grad std : 2.6624700708022253e-12<br>- pearson : 0.34901375971064946<br>- p value : 4.898848502474008e-22<br>- variance explained : 0.35416762629196025",
          "<br>- run : 18<br>- node : blocks.0.mlp.hook_post<br>- status : in_circuit<br>- resample ablate effect : 0.9999999999999996<br>- zero ablate effect : 0.404999999595<br>- norm cache : 0.36836997960325385<br>- norm std : 0.7141638321572199<br>- grad norm : 3.7707149902477255e-11<br>- grad std : 1.1596477901207325e-12<br>- pearson : 0.575757161611809<br>- p value : 1.3494635860234956e-77<br>- variance explained : 0.5307530740644032",
          "<br>- run : 18<br>- node : blocks.1.mlp.hook_post<br>- status : in_circuit<br>- resample ablate effect : 0.9999999999999996<br>- zero ablate effect : 0.544999999455<br>- norm cache : 2.0580535607051744<br>- norm std : 3.109829859332627<br>- grad norm : 1.0467895647514602e-11<br>- grad std : 3.205129304323373e-13<br>- pearson : 0.9183254906659266<br>- p value : 0.0<br>- variance explained : 0.8161629147452908",
          "<br>- run : 19<br>- node : blocks.0.attn.hook_result, head  0<br>- status : in_circuit<br>- resample ablate effect : 0.3691253402699715<br>- zero ablate effect : 0.3006666664662222<br>- norm cache : -0.3495541718653691<br>- norm std : -0.2869586064018038<br>- grad norm : 2.299024177005316e-19<br>- grad std : 5.23911925794401e-21<br>- pearson : 0.3217001273163436<br>- p value : 1.5661318124550504e-05<br>- variance explained : 25.821586030306765",
          "<br>- run : 19<br>- node : blocks.0.mlp.hook_post<br>- status : in_circuit<br>- resample ablate effect : 0.9999999999999998<br>- zero ablate effect : 0.3513333330991111<br>- norm cache : -0.11113853931703979<br>- norm std : -0.09673538219265726<br>- grad norm : 8.059167070611303e-20<br>- grad std : 1.839712892164547e-21<br>- pearson : 0.9113423604012948<br>- p value : 0.0<br>- variance explained : 12.20310653256311",
          "<br>- run : 21<br>- node : blocks.0.mlp.hook_post<br>- status : in_circuit<br>- resample ablate effect : 0.1553812779320157<br>- zero ablate effect : 0.1551551549998447<br>- norm cache : 0.5782712960757965<br>- norm std : 1.3045976806858133<br>- grad norm : 3.2261965543511906e-07<br>- grad std : 7.188031503346792e-09<br>- pearson : 0.39302543565350095<br>- p value : 0.045410482589813034<br>- variance explained : 3.5430062826766484",
          "<br>- run : 21<br>- node : blocks.1.mlp.hook_post<br>- status : in_circuit<br>- resample ablate effect : 0.1399725592338633<br>- zero ablate effect : 0.1211211209998787<br>- norm cache : 0.8013713297854799<br>- norm std : 0.9533235837663308<br>- grad norm : 2.40486826896813e-07<br>- grad std : 5.374350742215483e-09<br>- pearson : 0.1348066715982764<br>- p value : 0.3506791920713724<br>- variance explained : 2.699590231854893",
          "<br>- run : 21<br>- node : blocks.2.mlp.hook_post<br>- status : in_circuit<br>- resample ablate effect : 0.1404393807640801<br>- zero ablate effect : 0.1461461459998537<br>- norm cache : 1.1811097389213912<br>- norm std : 0.8430206467911933<br>- grad norm : 1.6300661798140936e-07<br>- grad std : 3.645657775663835e-09<br>- pearson : 0.38633381511661846<br>- p value : 0.008244544347853402<br>- variance explained : 4.163504801374085",
          "<br>- run : 21<br>- node : blocks.3.attn.hook_result, head  0<br>- status : in_circuit<br>- resample ablate effect : 0.9987912295129938<br>- zero ablate effect : 0.8238238229991753<br>- norm cache : 4.105731735175719<br>- norm std : 3.631157884420694<br>- grad norm : 1.8745407714959586e-07<br>- grad std : 4.187108437747611e-09<br>- pearson : 0.756742898399664<br>- p value : 1.3382915905528688e-124<br>- variance explained : 2.609041649817704",
          "<br>- run : 26<br>- node : blocks.0.mlp.hook_post<br>- status : in_circuit<br>- resample ablate effect : 0.9999999999999998<br>- zero ablate effect : 0.151999999848<br>- norm cache : 0.33714847999565833<br>- norm std : 0.23090257135850217<br>- grad norm : 0.0<br>- grad std : 5.5472914559295314e-27<br>- pearson : 0.5612952674659247<br>- p value : 8.364739107673069e-05<br>- variance explained : 20.564924381374414",
          "<br>- run : 29<br>- node : blocks.0.mlp.hook_post<br>- status : in_circuit<br>- resample ablate effect : 0.9999999999999998<br>- zero ablate effect : 0.616999999383<br>- norm cache : 3.101506697328886<br>- norm std : 1.48476361892501<br>- grad norm : 0.0<br>- grad std : 0.0<br>- pearson : 0.9787752229128139<br>- p value : 0.0<br>- variance explained : 0.905061864011164",
          "<br>- run : 3<br>- node : blocks.0.mlp.hook_post<br>- status : in_circuit<br>- resample ablate effect : 0.9999999999999968<br>- zero ablate effect : 0.967999998064<br>- norm cache : 0.7351236583164392<br>- norm std : 0.15391081262995465<br>- grad norm : 9.469271390116774e-06<br>- grad std : 6.119707336438296e-07<br>- pearson : 0.505070181732631<br>- p value : 0.1953901634360482<br>- variance explained : 0.49929779",
          "<br>- run : 3<br>- node : blocks.1.attn.hook_result, head  2<br>- status : in_circuit<br>- resample ablate effect : 0.9999999999999968<br>- zero ablate effect : 0.71999999856<br>- norm cache : 2.6799220933276366<br>- norm std : 3.1669042992782273<br>- grad norm : 4.931321200274397e-06<br>- grad std : 3.137148212317698e-07<br>- pearson : 0.9999357908285154<br>- p value : 0.0<br>- variance explained : 0.3143547375",
          "<br>- run : 33<br>- node : blocks.0.mlp.hook_post<br>- status : in_circuit<br>- resample ablate effect : 0.9999999999999994<br>- zero ablate effect : 0.2999999997<br>- norm cache : -0.1961948823907534<br>- norm std : -0.4309008487797702<br>- grad norm : 0.0<br>- grad std : 2.6682306468467536e-31<br>- pearson : 0.9903097202417841<br>- p value : 0.0<br>- variance explained : 7.002185619471333",
          "<br>- run : 34<br>- node : blocks.0.mlp.hook_post<br>- status : in_circuit<br>- resample ablate effect : 0.9999999999999996<br>- zero ablate effect : 0.435999999564<br>- norm cache : 1.6840310592257712<br>- norm std : 0.5265274958166748<br>- grad norm : 0.0<br>- grad std : 0.0<br>- pearson : 0.9631900176214394<br>- p value : 0.0<br>- variance explained : 0.7318351181725803",
          "<br>- run : 35<br>- node : blocks.0.mlp.hook_post<br>- status : in_circuit<br>- resample ablate effect : 0.9999999999999998<br>- zero ablate effect : 0.492999999507<br>- norm cache : 0.14395241118810784<br>- norm std : 0.40386173450867713<br>- grad norm : 7.988340891551537e-12<br>- grad std : 4.150371994866842e-13<br>- pearson : 0.3690153240071583<br>- p value : 1.8530023756323174e-16<br>- variance explained : 13.991405766870265",
          "<br>- run : 36<br>- node : blocks.0.mlp.hook_post<br>- status : in_circuit<br>- resample ablate effect : 0.9999999999999998<br>- zero ablate effect : 0.28999999971<br>- norm cache : 0.25627335896227454<br>- norm std : 0.4501571216022632<br>- grad norm : 0.0<br>- grad std : 3.254138141625414e-28<br>- pearson : 0.890421300855366<br>- p value : 1.973762230674061e-272<br>- variance explained : 2.6568835590611752",
          "<br>- run : 37<br>- node : blocks.0.mlp.hook_post<br>- status : in_circuit<br>- resample ablate effect : 0.9999999999999998<br>- zero ablate effect : 0.540999999459<br>- norm cache : -0.06276974614332881<br>- norm std : -0.15549217485923236<br>- grad norm : 8.851288469801256e-15<br>- grad std : 4.042771790214528e-16<br>- pearson : 0.549626630685296<br>- p value : 1.1648963045015358e-49<br>- variance explained : 5.953432250898227",
          "<br>- run : 4<br>- node : blocks.0.mlp.hook_post<br>- status : in_circuit<br>- resample ablate effect : 0.987727914778618<br>- zero ablate effect : 0.977999999022<br>- norm cache : 1.4993627049156621<br>- norm std : 0.49464819283950473<br>- grad norm : 5.1355476898606867e-05<br>- grad std : 1.8166326753998872e-06<br>- pearson : 0.38188580504359937<br>- p value : 2.978957862052968e-15<br>- variance explained : 1.6341751931015887",
          "<br>- run : 4<br>- node : blocks.1.attn.hook_result, head  0<br>- status : in_circuit<br>- resample ablate effect : 0.7379335288002845<br>- zero ablate effect : 0.820999999179<br>- norm cache : 0.07719865475737635<br>- norm std : 1.2686384821730292<br>- grad norm : 3.6503231967799366e-05<br>- grad std : 1.2912637430417815e-06<br>- pearson : 0.08769509811309625<br>- p value : 0.1878762671284027<br>- variance explained : 0.0070033034903058105",
          "<br>- run : 4<br>- node : blocks.1.attn.hook_result, head  1<br>- status : in_circuit<br>- resample ablate effect : 0.7222961727871011<br>- zero ablate effect : 0.891999999108<br>- norm cache : 0.20539248148590888<br>- norm std : 0.9454276544714588<br>- grad norm : 3.6503231967799366e-05<br>- grad std : 1.2912637430417815e-06<br>- pearson : 0.4888422357929969<br>- p value : 3.1049847203680844e-56<br>- variance explained : 0.025165724981814065",
          "<br>- run : 4<br>- node : blocks.1.mlp.hook_post<br>- status : in_circuit<br>- resample ablate effect : 0.987727914778618<br>- zero ablate effect : 0.976999999023<br>- norm cache : 2.7431688232886637<br>- norm std : 2.9377700211142215<br>- grad norm : 2.116069663316011e-05<br>- grad std : 7.484468369511887e-07<br>- pearson : 0.9998352582695296<br>- p value : 0.0<br>- variance explained : 5.185587596300991",
          "<br>- run : 8<br>- node : blocks.0.mlp.hook_post<br>- status : in_circuit<br>- resample ablate effect : 0.9999999999999998<br>- zero ablate effect : 0.345999999654<br>- norm cache : -0.11710068405374928<br>- norm std : -0.17586842360249216<br>- grad norm : 0.0<br>- grad std : 3.539760137132521e-25<br>- pearson : 0.5378923570273917<br>- p value : 1.2919767484096576e-31<br>- variance explained : 2.804819272207699"
         ],
         "marker": {
          "color": "rgba(0, 0, 0, 0)",
          "line": {
           "color": "darkcyan",
           "width": 1
          },
          "opacity": [
           0,
           0,
           0,
           0,
           0,
           0,
           0,
           0,
           0,
           0,
           0,
           0,
           0,
           0,
           0,
           0,
           0,
           0,
           0,
           0,
           0,
           0,
           0,
           0,
           0,
           0,
           0,
           0,
           0,
           0
          ],
          "size": 15
         },
         "mode": "markers",
         "name": "in circuit",
         "type": "scatter",
         "x": [
          0.041568027602301674,
          0.5287932819790311,
          7.958233130290261,
          8.002917372049378,
          7.286916974619604,
          0.9578558306750133,
          0.22752305847746893,
          0.35416762629196025,
          0.5307530740644032,
          0.8161629147452908,
          25.821586030306765,
          12.20310653256311,
          3.5430062826766484,
          2.699590231854893,
          4.163504801374085,
          2.609041649817704,
          20.564924381374414,
          0.905061864011164,
          0.49929779,
          0.3143547375,
          7.002185619471333,
          0.7318351181725803,
          13.991405766870265,
          2.6568835590611752,
          5.953432250898227,
          1.6341751931015887,
          0.0070033034903058105,
          0.025165724981814065,
          5.185587596300991,
          2.804819272207699
         ],
         "y": [
          0.018482940233987482,
          2.808890460731961,
          0.007265407436097863,
          0.03453624082925264,
          0.5023060867757484,
          3.1317332813587457,
          0.16833720858613294,
          0.2725633770176598,
          0.36836997960325385,
          2.0580535607051744,
          -0.3495541718653691,
          -0.11113853931703979,
          0.5782712960757965,
          0.8013713297854799,
          1.1811097389213912,
          4.105731735175719,
          0.33714847999565833,
          3.101506697328886,
          0.7351236583164392,
          2.6799220933276366,
          -0.1961948823907534,
          1.6840310592257712,
          0.14395241118810784,
          0.25627335896227454,
          -0.06276974614332881,
          1.4993627049156621,
          0.07719865475737635,
          0.20539248148590888,
          2.7431688232886637,
          -0.11710068405374928
         ]
        },
        {
         "hovertext": [
          "<br>- run : 11<br>- node : blocks.1.mlp.hook_post<br>- status : not_in_circuit<br>- resample ablate effect : 0.0<br>- zero ablate effect : 0.112999999887<br>- norm cache : 1.8007224902403416<br>- norm std : 0.989239056430968<br>- grad norm : 5.6613069097835155e-15<br>- grad std : 2.551382086440364e-16<br>- pearson : 0.8549269320523452<br>- p value : 3.800730967352922e-226<br>- variance explained : 1.1123993794123332",
          "<br>- run : 18<br>- node : blocks.0.attn.hook_result, head  2<br>- status : not_in_circuit<br>- resample ablate effect : 7.741231948283705e-05<br>- zero ablate effect : 0.111999999888<br>- norm cache : -0.16833720858613294<br>- norm std : -0.112080196723368<br>- grad norm : 8.643802340557727e-11<br>- grad std : 2.6624700708022253e-12<br>- pearson : 0.02641495939373689<br>- p value : 0.461607007491924<br>- variance explained : 0.11758872979697463",
          "<br>- run : 18<br>- node : blocks.0.attn.hook_result, head  3<br>- status : not_in_circuit<br>- resample ablate effect : 0.0010829877110178<br>- zero ablate effect : 0.094999999905<br>- norm cache : 0.7293407853541782<br>- norm std : -0.11942709067304204<br>- grad norm : 8.643802340557727e-11<br>- grad std : 2.6624700708022253e-12<br>- pearson : 0.06747738505281418<br>- p value : 0.14525013422218092<br>- variance explained : 1.2104851164832877",
          "<br>- run : 19<br>- node : blocks.1.attn.hook_result, head  0<br>- status : not_in_circuit<br>- resample ablate effect : 0.0<br>- zero ablate effect : 0.0666666666222222<br>- norm cache : 0.5364991368318222<br>- norm std : 0.6802591323913041<br>- grad norm : 3.8605973216270305e-20<br>- grad std : 8.794683833220916e-22<br>- pearson : 0.7033337221915062<br>- p value : 5.29351262145346e-100<br>- variance explained : 18.281654196227013",
          "<br>- run : 19<br>- node : blocks.1.attn.hook_result, head  1<br>- status : not_in_circuit<br>- resample ablate effect : 0.0<br>- zero ablate effect : 0.0666666666222222<br>- norm cache : 0.7434932040564703<br>- norm std : 0.09673538219265726<br>- grad norm : 3.8605973216270305e-20<br>- grad std : 8.794683833220916e-22<br>- pearson : 0.10968364127519885<br>- p value : 0.18224990460524806<br>- variance explained : 6.702032057815039",
          "<br>- run : 19<br>- node : blocks.1.mlp.hook_post<br>- status : not_in_circuit<br>- resample ablate effect : 0.0<br>- zero ablate effect : 0.0666666666222222<br>- norm cache : 2.8519994390527894<br>- norm std : 2.922089550866771<br>- grad norm : 2.324776086619939e-20<br>- grad std : 5.293725699172797e-22<br>- pearson : 0.6755719098162729<br>- p value : 1.4823378051176861e-80<br>- variance explained : 32.17984964513112",
          "<br>- run : 20<br>- node : blocks.1.mlp.hook_post<br>- status : not_in_circuit<br>- resample ablate effect : 0.0<br>- zero ablate effect : 0.0999999999<br>- norm cache : 2.9617885402724036<br>- norm std : 3.125039912978892<br>- grad norm : 0.0<br>- grad std : 0.0<br>- pearson : 0.5818907471509939<br>- p value : 4.850032146385237e-44<br>- variance explained : 8.259297848987194",
          "<br>- run : 21<br>- node : blocks.0.attn.hook_result, head  0<br>- status : not_in_circuit<br>- resample ablate effect : 0.0213677419939285<br>- zero ablate effect : 0.0070070069999929<br>- norm cache : -0.013802902924488861<br>- norm std : 0.14532429668869204<br>- grad norm : 8.410712553086341e-07<br>- grad std : 1.8806339596721955e-08<br>- pearson : 0.4145476400615269<br>- p value : 0.012988635226693574<br>- variance explained : 2.876535487928176",
          "<br>- run : 21<br>- node : blocks.0.attn.hook_result, head  1<br>- status : not_in_circuit<br>- resample ablate effect : 0.0119411171286106<br>- zero ablate effect : 0.0050050049999949<br>- norm cache : -0.03894204071089059<br>- norm std : -0.3022518025052989<br>- grad norm : 8.410712553086341e-07<br>- grad std : 1.8806339596721955e-08<br>- pearson : 0.6129371548225313<br>- p value : 8.601151711512087e-70<br>- variance explained : 2.9357072970158047",
          "<br>- run : 21<br>- node : blocks.0.attn.hook_result, head  3<br>- status : not_in_circuit<br>- resample ablate effect : 0.0274872413569969<br>- zero ablate effect : 0.1071071069998927<br>- norm cache : 0.0020170013913147133<br>- norm std : -0.0777518918214047<br>- grad norm : 8.410712553086341e-07<br>- grad std : 1.8806339596721955e-08<br>- pearson : 0.35227435067830076<br>- p value : 2.372166008715327e-07<br>- variance explained : 2.836127840215954",
          "<br>- run : 26<br>- node : blocks.1.mlp.hook_post<br>- status : not_in_circuit<br>- resample ablate effect : 0.0<br>- zero ablate effect : 0.012999999987<br>- norm cache : 3.074637363105239<br>- norm std : 3.0539005616783657<br>- grad norm : 0.0<br>- grad std : 6.359552602567843e-28<br>- pearson : 0.6295560104315474<br>- p value : 0.023514340605099906<br>- variance explained : 55.56656879812278",
          "<br>- run : 3<br>- node : blocks.1.attn.hook_result, head  3<br>- status : not_in_circuit<br>- resample ablate effect : 0.0<br>- zero ablate effect : 0.427999999144<br>- norm cache : 0.7848458097276243<br>- norm std : 0.0020895227818449494<br>- grad norm : 4.931321200274397e-06<br>- grad std : 3.137148212317698e-07<br>- pearson : 0.8968748527932043<br>- p value : 4.233529692263512e-71<br>- variance explained : 0.41707184499999994",
          "<br>- run : 4<br>- node : blocks.0.attn.hook_result, head  0<br>- status : not_in_circuit<br>- resample ablate effect : 4.212216776130561e-05<br>- zero ablate effect : 0.978999999021<br>- norm cache : -0.07719865475737626<br>- norm std : -0.04152673517565671<br>- grad norm : 8.355615864275023e-05<br>- grad std : 2.873757466659299e-06<br>- pearson : 0.6215799402827749<br>- p value : 1.0744960194053727e-78<br>- variance explained : 0.01662321422655428",
          "<br>- run : 4<br>- node : blocks.0.attn.hook_result, head  1<br>- status : not_in_circuit<br>- resample ablate effect : 0.0<br>- zero ablate effect : 0.999999999<br>- norm cache : -0.29404567029071216<br>- norm std : -0.2647704613591969<br>- grad norm : 8.355615864275023e-05<br>- grad std : 2.873757466659299e-06<br>- pearson : 0.790291779051048<br>- p value : 7.465899192112568e-192<br>- variance explained : 0.06090643032038418",
          "<br>- run : 4<br>- node : blocks.0.attn.hook_result, head  2<br>- status : not_in_circuit<br>- resample ablate effect : 0.0<br>- zero ablate effect : 0.026999999973<br>- norm cache : -0.2936158506384175<br>- norm std : -0.07684050950068463<br>- grad norm : 8.355615864275023e-05<br>- grad std : 2.873757466659299e-06<br>- pearson : 0.8335914923661262<br>- p value : 5.379952994432287e-243<br>- variance explained : 0.04196997342175856",
          "<br>- run : 4<br>- node : blocks.1.attn.hook_result, head  2<br>- status : not_in_circuit<br>- resample ablate effect : 0.0<br>- zero ablate effect : 0.904999999095<br>- norm cache : 0.13317892422586822<br>- norm std : -0.08767884408256768<br>- grad norm : 3.6503231967799366e-05<br>- grad std : 1.2912637430417815e-06<br>- pearson : 0.3053350264314418<br>- p value : 4.9723873171243584e-17<br>- variance explained : 0.02835459695725752",
          "<br>- run : 4<br>- node : blocks.1.attn.hook_result, head  3<br>- status : not_in_circuit<br>- resample ablate effect : 0.0<br>- zero ablate effect : 0.595999999404<br>- norm cache : -0.08639189591608333<br>- norm std : 0.04152673517565665<br>- grad norm : 3.6503231967799366e-05<br>- grad std : 1.2912637430417815e-06<br>- pearson : 0.6742825404229906<br>- p value : 1.4443569325302268e-107<br>- variance explained : 0.05622648734931942"
         ],
         "marker": {
          "color": "darkorange",
          "opacity": [
           0.46892378088908393,
           0,
           0,
           0.4065591117288758,
           0,
           0.4065591117288758,
           0.45298221268697925,
           0.266966293611006,
           0.2565968479687406,
           0.46181777724198053,
           0.29121403396232404,
           0.7233736709581025,
           0.9915554303859206,
           0.9999999996,
           0.3314534137355132,
           0.9610519032370919,
           0.8176082897909969
          ],
          "size": 15
         },
         "mode": "markers",
         "name": "not in circuit",
         "type": "scatter",
         "x": [
          1.1123993794123332,
          0.11758872979697463,
          1.2104851164832877,
          18.281654196227013,
          6.702032057815039,
          32.17984964513112,
          8.259297848987194,
          2.876535487928176,
          2.9357072970158047,
          2.836127840215954,
          55.56656879812278,
          0.41707184499999994,
          0.01662321422655428,
          0.06090643032038418,
          0.04196997342175856,
          0.02835459695725752,
          0.05622648734931942
         ],
         "y": [
          1.8007224902403416,
          -0.16833720858613294,
          0.7293407853541782,
          0.5364991368318222,
          0.7434932040564703,
          2.8519994390527894,
          2.9617885402724036,
          -0.013802902924488861,
          -0.03894204071089059,
          0.0020170013913147133,
          3.074637363105239,
          0.7848458097276243,
          -0.07719865475737626,
          -0.29404567029071216,
          -0.2936158506384175,
          0.13317892422586822,
          -0.08639189591608333
         ]
        }
       ],
       "layout": {
        "font": {
         "size": 16
        },
        "legend": {
         "font": {
          "size": 16
         },
         "x": 0.01,
         "xanchor": "left",
         "y": 0.99,
         "yanchor": "top"
        },
        "plot_bgcolor": "white",
        "shapes": [
         {
          "line": {
           "color": "red",
           "dash": "dash"
          },
          "name": "mean node norm line",
          "showlegend": true,
          "type": "line",
          "x0": 0,
          "x1": 1,
          "xref": "x domain",
          "y0": 0,
          "y1": 0,
          "yref": "y"
         }
        ],
        "showlegend": true,
        "template": {
         "data": {
          "bar": [
           {
            "error_x": {
             "color": "#2a3f5f"
            },
            "error_y": {
             "color": "#2a3f5f"
            },
            "marker": {
             "line": {
              "color": "#E5ECF6",
              "width": 0.5
             },
             "pattern": {
              "fillmode": "overlay",
              "size": 10,
              "solidity": 0.2
             }
            },
            "type": "bar"
           }
          ],
          "barpolar": [
           {
            "marker": {
             "line": {
              "color": "#E5ECF6",
              "width": 0.5
             },
             "pattern": {
              "fillmode": "overlay",
              "size": 10,
              "solidity": 0.2
             }
            },
            "type": "barpolar"
           }
          ],
          "carpet": [
           {
            "aaxis": {
             "endlinecolor": "#2a3f5f",
             "gridcolor": "white",
             "linecolor": "white",
             "minorgridcolor": "white",
             "startlinecolor": "#2a3f5f"
            },
            "baxis": {
             "endlinecolor": "#2a3f5f",
             "gridcolor": "white",
             "linecolor": "white",
             "minorgridcolor": "white",
             "startlinecolor": "#2a3f5f"
            },
            "type": "carpet"
           }
          ],
          "choropleth": [
           {
            "colorbar": {
             "outlinewidth": 0,
             "ticks": ""
            },
            "type": "choropleth"
           }
          ],
          "contour": [
           {
            "colorbar": {
             "outlinewidth": 0,
             "ticks": ""
            },
            "colorscale": [
             [
              0,
              "#0d0887"
             ],
             [
              0.1111111111111111,
              "#46039f"
             ],
             [
              0.2222222222222222,
              "#7201a8"
             ],
             [
              0.3333333333333333,
              "#9c179e"
             ],
             [
              0.4444444444444444,
              "#bd3786"
             ],
             [
              0.5555555555555556,
              "#d8576b"
             ],
             [
              0.6666666666666666,
              "#ed7953"
             ],
             [
              0.7777777777777778,
              "#fb9f3a"
             ],
             [
              0.8888888888888888,
              "#fdca26"
             ],
             [
              1,
              "#f0f921"
             ]
            ],
            "type": "contour"
           }
          ],
          "contourcarpet": [
           {
            "colorbar": {
             "outlinewidth": 0,
             "ticks": ""
            },
            "type": "contourcarpet"
           }
          ],
          "heatmap": [
           {
            "colorbar": {
             "outlinewidth": 0,
             "ticks": ""
            },
            "colorscale": [
             [
              0,
              "#0d0887"
             ],
             [
              0.1111111111111111,
              "#46039f"
             ],
             [
              0.2222222222222222,
              "#7201a8"
             ],
             [
              0.3333333333333333,
              "#9c179e"
             ],
             [
              0.4444444444444444,
              "#bd3786"
             ],
             [
              0.5555555555555556,
              "#d8576b"
             ],
             [
              0.6666666666666666,
              "#ed7953"
             ],
             [
              0.7777777777777778,
              "#fb9f3a"
             ],
             [
              0.8888888888888888,
              "#fdca26"
             ],
             [
              1,
              "#f0f921"
             ]
            ],
            "type": "heatmap"
           }
          ],
          "heatmapgl": [
           {
            "colorbar": {
             "outlinewidth": 0,
             "ticks": ""
            },
            "colorscale": [
             [
              0,
              "#0d0887"
             ],
             [
              0.1111111111111111,
              "#46039f"
             ],
             [
              0.2222222222222222,
              "#7201a8"
             ],
             [
              0.3333333333333333,
              "#9c179e"
             ],
             [
              0.4444444444444444,
              "#bd3786"
             ],
             [
              0.5555555555555556,
              "#d8576b"
             ],
             [
              0.6666666666666666,
              "#ed7953"
             ],
             [
              0.7777777777777778,
              "#fb9f3a"
             ],
             [
              0.8888888888888888,
              "#fdca26"
             ],
             [
              1,
              "#f0f921"
             ]
            ],
            "type": "heatmapgl"
           }
          ],
          "histogram": [
           {
            "marker": {
             "pattern": {
              "fillmode": "overlay",
              "size": 10,
              "solidity": 0.2
             }
            },
            "type": "histogram"
           }
          ],
          "histogram2d": [
           {
            "colorbar": {
             "outlinewidth": 0,
             "ticks": ""
            },
            "colorscale": [
             [
              0,
              "#0d0887"
             ],
             [
              0.1111111111111111,
              "#46039f"
             ],
             [
              0.2222222222222222,
              "#7201a8"
             ],
             [
              0.3333333333333333,
              "#9c179e"
             ],
             [
              0.4444444444444444,
              "#bd3786"
             ],
             [
              0.5555555555555556,
              "#d8576b"
             ],
             [
              0.6666666666666666,
              "#ed7953"
             ],
             [
              0.7777777777777778,
              "#fb9f3a"
             ],
             [
              0.8888888888888888,
              "#fdca26"
             ],
             [
              1,
              "#f0f921"
             ]
            ],
            "type": "histogram2d"
           }
          ],
          "histogram2dcontour": [
           {
            "colorbar": {
             "outlinewidth": 0,
             "ticks": ""
            },
            "colorscale": [
             [
              0,
              "#0d0887"
             ],
             [
              0.1111111111111111,
              "#46039f"
             ],
             [
              0.2222222222222222,
              "#7201a8"
             ],
             [
              0.3333333333333333,
              "#9c179e"
             ],
             [
              0.4444444444444444,
              "#bd3786"
             ],
             [
              0.5555555555555556,
              "#d8576b"
             ],
             [
              0.6666666666666666,
              "#ed7953"
             ],
             [
              0.7777777777777778,
              "#fb9f3a"
             ],
             [
              0.8888888888888888,
              "#fdca26"
             ],
             [
              1,
              "#f0f921"
             ]
            ],
            "type": "histogram2dcontour"
           }
          ],
          "mesh3d": [
           {
            "colorbar": {
             "outlinewidth": 0,
             "ticks": ""
            },
            "type": "mesh3d"
           }
          ],
          "parcoords": [
           {
            "line": {
             "colorbar": {
              "outlinewidth": 0,
              "ticks": ""
             }
            },
            "type": "parcoords"
           }
          ],
          "pie": [
           {
            "automargin": true,
            "type": "pie"
           }
          ],
          "scatter": [
           {
            "fillpattern": {
             "fillmode": "overlay",
             "size": 10,
             "solidity": 0.2
            },
            "type": "scatter"
           }
          ],
          "scatter3d": [
           {
            "line": {
             "colorbar": {
              "outlinewidth": 0,
              "ticks": ""
             }
            },
            "marker": {
             "colorbar": {
              "outlinewidth": 0,
              "ticks": ""
             }
            },
            "type": "scatter3d"
           }
          ],
          "scattercarpet": [
           {
            "marker": {
             "colorbar": {
              "outlinewidth": 0,
              "ticks": ""
             }
            },
            "type": "scattercarpet"
           }
          ],
          "scattergeo": [
           {
            "marker": {
             "colorbar": {
              "outlinewidth": 0,
              "ticks": ""
             }
            },
            "type": "scattergeo"
           }
          ],
          "scattergl": [
           {
            "marker": {
             "colorbar": {
              "outlinewidth": 0,
              "ticks": ""
             }
            },
            "type": "scattergl"
           }
          ],
          "scattermapbox": [
           {
            "marker": {
             "colorbar": {
              "outlinewidth": 0,
              "ticks": ""
             }
            },
            "type": "scattermapbox"
           }
          ],
          "scatterpolar": [
           {
            "marker": {
             "colorbar": {
              "outlinewidth": 0,
              "ticks": ""
             }
            },
            "type": "scatterpolar"
           }
          ],
          "scatterpolargl": [
           {
            "marker": {
             "colorbar": {
              "outlinewidth": 0,
              "ticks": ""
             }
            },
            "type": "scatterpolargl"
           }
          ],
          "scatterternary": [
           {
            "marker": {
             "colorbar": {
              "outlinewidth": 0,
              "ticks": ""
             }
            },
            "type": "scatterternary"
           }
          ],
          "surface": [
           {
            "colorbar": {
             "outlinewidth": 0,
             "ticks": ""
            },
            "colorscale": [
             [
              0,
              "#0d0887"
             ],
             [
              0.1111111111111111,
              "#46039f"
             ],
             [
              0.2222222222222222,
              "#7201a8"
             ],
             [
              0.3333333333333333,
              "#9c179e"
             ],
             [
              0.4444444444444444,
              "#bd3786"
             ],
             [
              0.5555555555555556,
              "#d8576b"
             ],
             [
              0.6666666666666666,
              "#ed7953"
             ],
             [
              0.7777777777777778,
              "#fb9f3a"
             ],
             [
              0.8888888888888888,
              "#fdca26"
             ],
             [
              1,
              "#f0f921"
             ]
            ],
            "type": "surface"
           }
          ],
          "table": [
           {
            "cells": {
             "fill": {
              "color": "#EBF0F8"
             },
             "line": {
              "color": "white"
             }
            },
            "header": {
             "fill": {
              "color": "#C8D4E3"
             },
             "line": {
              "color": "white"
             }
            },
            "type": "table"
           }
          ]
         },
         "layout": {
          "annotationdefaults": {
           "arrowcolor": "#2a3f5f",
           "arrowhead": 0,
           "arrowwidth": 1
          },
          "autotypenumbers": "strict",
          "coloraxis": {
           "colorbar": {
            "outlinewidth": 0,
            "ticks": ""
           }
          },
          "colorscale": {
           "diverging": [
            [
             0,
             "#8e0152"
            ],
            [
             0.1,
             "#c51b7d"
            ],
            [
             0.2,
             "#de77ae"
            ],
            [
             0.3,
             "#f1b6da"
            ],
            [
             0.4,
             "#fde0ef"
            ],
            [
             0.5,
             "#f7f7f7"
            ],
            [
             0.6,
             "#e6f5d0"
            ],
            [
             0.7,
             "#b8e186"
            ],
            [
             0.8,
             "#7fbc41"
            ],
            [
             0.9,
             "#4d9221"
            ],
            [
             1,
             "#276419"
            ]
           ],
           "sequential": [
            [
             0,
             "#0d0887"
            ],
            [
             0.1111111111111111,
             "#46039f"
            ],
            [
             0.2222222222222222,
             "#7201a8"
            ],
            [
             0.3333333333333333,
             "#9c179e"
            ],
            [
             0.4444444444444444,
             "#bd3786"
            ],
            [
             0.5555555555555556,
             "#d8576b"
            ],
            [
             0.6666666666666666,
             "#ed7953"
            ],
            [
             0.7777777777777778,
             "#fb9f3a"
            ],
            [
             0.8888888888888888,
             "#fdca26"
            ],
            [
             1,
             "#f0f921"
            ]
           ],
           "sequentialminus": [
            [
             0,
             "#0d0887"
            ],
            [
             0.1111111111111111,
             "#46039f"
            ],
            [
             0.2222222222222222,
             "#7201a8"
            ],
            [
             0.3333333333333333,
             "#9c179e"
            ],
            [
             0.4444444444444444,
             "#bd3786"
            ],
            [
             0.5555555555555556,
             "#d8576b"
            ],
            [
             0.6666666666666666,
             "#ed7953"
            ],
            [
             0.7777777777777778,
             "#fb9f3a"
            ],
            [
             0.8888888888888888,
             "#fdca26"
            ],
            [
             1,
             "#f0f921"
            ]
           ]
          },
          "colorway": [
           "#636efa",
           "#EF553B",
           "#00cc96",
           "#ab63fa",
           "#FFA15A",
           "#19d3f3",
           "#FF6692",
           "#B6E880",
           "#FF97FF",
           "#FECB52"
          ],
          "font": {
           "color": "#2a3f5f"
          },
          "geo": {
           "bgcolor": "white",
           "lakecolor": "white",
           "landcolor": "#E5ECF6",
           "showlakes": true,
           "showland": true,
           "subunitcolor": "white"
          },
          "hoverlabel": {
           "align": "left"
          },
          "hovermode": "closest",
          "mapbox": {
           "style": "light"
          },
          "paper_bgcolor": "white",
          "plot_bgcolor": "#E5ECF6",
          "polar": {
           "angularaxis": {
            "gridcolor": "white",
            "linecolor": "white",
            "ticks": ""
           },
           "bgcolor": "#E5ECF6",
           "radialaxis": {
            "gridcolor": "white",
            "linecolor": "white",
            "ticks": ""
           }
          },
          "scene": {
           "xaxis": {
            "backgroundcolor": "#E5ECF6",
            "gridcolor": "white",
            "gridwidth": 2,
            "linecolor": "white",
            "showbackground": true,
            "ticks": "",
            "zerolinecolor": "white"
           },
           "yaxis": {
            "backgroundcolor": "#E5ECF6",
            "gridcolor": "white",
            "gridwidth": 2,
            "linecolor": "white",
            "showbackground": true,
            "ticks": "",
            "zerolinecolor": "white"
           },
           "zaxis": {
            "backgroundcolor": "#E5ECF6",
            "gridcolor": "white",
            "gridwidth": 2,
            "linecolor": "white",
            "showbackground": true,
            "ticks": "",
            "zerolinecolor": "white"
           }
          },
          "shapedefaults": {
           "line": {
            "color": "#2a3f5f"
           }
          },
          "ternary": {
           "aaxis": {
            "gridcolor": "white",
            "linecolor": "white",
            "ticks": ""
           },
           "baxis": {
            "gridcolor": "white",
            "linecolor": "white",
            "ticks": ""
           },
           "bgcolor": "#E5ECF6",
           "caxis": {
            "gridcolor": "white",
            "linecolor": "white",
            "ticks": ""
           }
          },
          "title": {
           "x": 0.05
          },
          "xaxis": {
           "automargin": true,
           "gridcolor": "white",
           "linecolor": "white",
           "ticks": "",
           "title": {
            "standoff": 15
           },
           "zerolinecolor": "white",
           "zerolinewidth": 2
          },
          "yaxis": {
           "automargin": true,
           "gridcolor": "white",
           "linecolor": "white",
           "ticks": "",
           "title": {
            "standoff": 15
           },
           "zerolinecolor": "white",
           "zerolinewidth": 2
          }
         }
        },
        "xaxis": {
         "dtick": 0,
         "gridcolor": "lightgrey",
         "linecolor": "black",
         "mirror": true,
         "showline": true,
         "ticks": "outside",
         "title": {
          "text": "Variance Explained"
         }
        },
        "yaxis": {
         "dtick": 0.5,
         "gridcolor": "lightgrey",
         "linecolor": "black",
         "mirror": true,
         "showline": true,
         "ticks": "outside",
         "title": {
          "text": "Normalised Node Norms"
         }
        }
       }
      }
     },
     "metadata": {},
     "output_type": "display_data"
    }
   ],
   "source": [
    "from functools import partial\n",
    "\n",
    "def make_size_col(row, row_id, row_normalizer):\n",
    "    return 18 + (row[row_id] / row_normalizer) * 8\n",
    "\n",
    "def make_alpha_col(row):\n",
    "    if row[\"zero_ablate_effect\"] == 0.0:\n",
    "        return 0.0\n",
    "    if row[\"p_value\"] > 0.05:\n",
    "        return 0.0\n",
    "    if row[\"status\"] == \"in_circuit\":\n",
    "        return 0.0\n",
    "    return 0.2 + (row[\"zero_ablate_effect\"]**0.5) * 0.8\n",
    "\n",
    "fig = make_scatter_plot(\n",
    "    df=normalised_siit_stats[normalised_siit_stats[\"zero_ablate_effect\"] != 0],\n",
    "    x=\"variance_explained\",\n",
    "    y=\"norm_cache\",\n",
    "    y_err=None,\n",
    "    make_alpha_fn=lambda row: make_alpha_col(row),\n",
    "    # make_size_fn=partial(make_size_col, row_id=\"norm_std\", row_normalizer=1),\n",
    "    # ylog=True,\n",
    ")\n",
    "\n",
    "# add a red horizontal line at 0\n",
    "fig.add_hline(y=0, line_dash=\"dash\", line_color=\"red\", name=\"mean node norm line\", showlegend=True)\n",
    "fig.update_layout(\n",
    "    showlegend=True,\n",
    "    legend=dict(\n",
    "        yanchor=\"top\",\n",
    "        y=0.99,\n",
    "        xanchor=\"left\",\n",
    "        x=0.01,\n",
    "        # font size\n",
    "        font=dict(size=16),\n",
    "    ),\n",
    "    xaxis_title=\"Variance Explained\",\n",
    "    yaxis_title=\"Normalised Node Norms\",\n",
    "    # font size\n",
    "    font=dict(size=16),\n",
    ")\n",
    "fig.update_xaxes(\n",
    "    mirror=True,\n",
    "    ticks='outside',\n",
    "    showline=True,\n",
    "    linecolor='black',\n",
    "    gridcolor='lightgrey',\n",
    "    # make tick gap 0.5\n",
    "    dtick=0.0\n",
    "\n",
    ")\n",
    "# fig.write_html(f\"interp_results/pearson_plots/siit_{lens}_pearson_vs_norm_cache.html\")\n",
    "# fig.write_image(f\"interp_results/pearson_plots/siit_{lens}_pearson_vs_norm_cache.pdf\")\n",
    "fig"
   ]
  },
  {
   "cell_type": "code",
   "execution_count": 12,
   "metadata": {},
   "outputs": [
    {
     "data": {
      "image/png": "[encoded data removed]",
      "text/plain": [
       "<Figure size 600x500 with 1 Axes>"
      ]
     },
     "metadata": {},
     "output_type": "display_data"
    }
   ],
   "source": [
    "pearson_df = pd.DataFrame({\n",
    "    \"pearson\": [pearson_vals for pearson_vals in normalised_siit_stats[\"pearson\"].values],\n",
    "    \"p_value\": normalised_siit_stats[\"p_value\"].values,\n",
    "    \"ones\": [1 if status == \"in_circuit\" else 0 for status in normalised_siit_stats[\"status\"].values],\n",
    "    \"status\": normalised_siit_stats[\"status\"].values\n",
    "})\n",
    "fig = pearson_df.boxplot(\n",
    "    column=\"pearson\", \n",
    "    by=\"status\",\n",
    "    patch_artist=True,\n",
    "    showfliers=True,\n",
    "    # whis=[5, 95],\n",
    ")\n",
    "import matplotlib.pyplot as plt\n",
    "\n",
    "plt.suptitle(\"\")\n",
    "plt.title(\"\")\n",
    "\n",
    "plt.xticks(\n",
    "    ticks=[1, 2],\n",
    "    labels=[\"not in circuit\", \"in circuit\"],\n",
    "    fontsize=16)\n",
    "plt.yticks(fontsize=16)\n",
    "plt.xlabel(\"\")\n",
    "plt.ylabel(\"Pearson correlation\", fontsize=16)\n",
    "fig.get_figure().set_size_inches(6, 5)\n",
    "\n",
    "plt.show()\n",
    "\n",
    "# save the figure\n",
    "fig.get_figure().savefig(f\"interp_results/pearson_plots/siit_{lens}_pearson_boxplot.pdf\", bbox_inches='tight')"
   ]
  },
  {
   "cell_type": "code",
   "execution_count": 29,
   "metadata": {},
   "outputs": [
    {
     "data": {
      "image/png": "[encoded data removed]",
      "text/plain": [
       "<Figure size 2000x500 with 1 Axes>"
      ]
     },
     "metadata": {},
     "output_type": "display_data"
    }
   ],
   "source": [
    "from interp_utils.node_stats.plotting import plot_stats_box_plot\n",
    "\n",
    "plot_stats_box_plot(\n",
    "    df_combined=normalised_siit_stats,\n",
    "    key = \"norm_cache\",\n",
    "    normalize_by_runs=False,\n",
    "    label=\"Node Norms\\n(normalised by case)\",\n",
    ")"
   ]
  },
  {
   "cell_type": "code",
   "execution_count": 36,
   "metadata": {},
   "outputs": [
    {
     "data": {
      "image/png": "[encoded data removed]",
      "text/plain": [
       "<Figure size 2000x500 with 1 Axes>"
      ]
     },
     "metadata": {},
     "output_type": "display_data"
    }
   ],
   "source": [
    "plot_stats_box_plot(\n",
    "    df_combined=normalised_siit_stats,\n",
    "    key = \"norm_std\",\n",
    "    normalize_by_runs=False,\n",
    "    label=\"Node Norms Var\\n(normalised by case)\",\n",
    ")"
   ]
  },
  {
   "cell_type": "code",
   "execution_count": 16,
   "metadata": {},
   "outputs": [
    {
     "data": {
      "text/html": [
       "<div>\n",
       "<style scoped>\n",
       "    .dataframe tbody tr th:only-of-type {\n",
       "        vertical-align: middle;\n",
       "    }\n",
       "\n",
       "    .dataframe tbody tr th {\n",
       "        vertical-align: top;\n",
       "    }\n",
       "\n",
       "    .dataframe thead th {\n",
       "        text-align: right;\n",
       "    }\n",
       "</style>\n",
       "<table border=\"1\" class=\"dataframe\">\n",
       "  <thead>\n",
       "    <tr style=\"text-align: right;\">\n",
       "      <th></th>\n",
       "      <th>run</th>\n",
       "      <th>node</th>\n",
       "      <th>status</th>\n",
       "      <th>resample_ablate_effect</th>\n",
       "      <th>zero_ablate_effect</th>\n",
       "      <th>norm_cache</th>\n",
       "      <th>norm_std</th>\n",
       "      <th>grad_norm</th>\n",
       "      <th>grad_std</th>\n",
       "    </tr>\n",
       "  </thead>\n",
       "  <tbody>\n",
       "    <tr>\n",
       "      <th>150</th>\n",
       "      <td>4</td>\n",
       "      <td>blocks.0.attn.hook_result, head  0</td>\n",
       "      <td>not_in_circuit</td>\n",
       "      <td>0.000042</td>\n",
       "      <td>0.979</td>\n",
       "      <td>0.762064</td>\n",
       "      <td>0.052615</td>\n",
       "      <td>0.000084</td>\n",
       "      <td>2.873757e-06</td>\n",
       "    </tr>\n",
       "    <tr>\n",
       "      <th>151</th>\n",
       "      <td>4</td>\n",
       "      <td>blocks.0.attn.hook_result, head  1</td>\n",
       "      <td>not_in_circuit</td>\n",
       "      <td>0.000000</td>\n",
       "      <td>1.000</td>\n",
       "      <td>0.500946</td>\n",
       "      <td>0.024056</td>\n",
       "      <td>0.000084</td>\n",
       "      <td>2.873757e-06</td>\n",
       "    </tr>\n",
       "    <tr>\n",
       "      <th>152</th>\n",
       "      <td>4</td>\n",
       "      <td>blocks.0.attn.hook_result, head  2</td>\n",
       "      <td>not_in_circuit</td>\n",
       "      <td>0.000000</td>\n",
       "      <td>0.027</td>\n",
       "      <td>0.501463</td>\n",
       "      <td>0.048098</td>\n",
       "      <td>0.000084</td>\n",
       "      <td>2.873757e-06</td>\n",
       "    </tr>\n",
       "    <tr>\n",
       "      <th>153</th>\n",
       "      <td>4</td>\n",
       "      <td>blocks.0.attn.hook_result, head  3</td>\n",
       "      <td>not_in_circuit</td>\n",
       "      <td>0.000000</td>\n",
       "      <td>0.000</td>\n",
       "      <td>0.337975</td>\n",
       "      <td>0.031287</td>\n",
       "      <td>0.000084</td>\n",
       "      <td>2.873757e-06</td>\n",
       "    </tr>\n",
       "    <tr>\n",
       "      <th>154</th>\n",
       "      <td>4</td>\n",
       "      <td>blocks.1.attn.hook_result, head  2</td>\n",
       "      <td>not_in_circuit</td>\n",
       "      <td>0.000000</td>\n",
       "      <td>0.905</td>\n",
       "      <td>1.015392</td>\n",
       "      <td>0.046711</td>\n",
       "      <td>0.000037</td>\n",
       "      <td>1.291264e-06</td>\n",
       "    </tr>\n",
       "    <tr>\n",
       "      <th>155</th>\n",
       "      <td>4</td>\n",
       "      <td>blocks.1.attn.hook_result, head  3</td>\n",
       "      <td>not_in_circuit</td>\n",
       "      <td>0.000000</td>\n",
       "      <td>0.596</td>\n",
       "      <td>0.750994</td>\n",
       "      <td>0.063240</td>\n",
       "      <td>0.000037</td>\n",
       "      <td>1.291264e-06</td>\n",
       "    </tr>\n",
       "    <tr>\n",
       "      <th>156</th>\n",
       "      <td>4</td>\n",
       "      <td>blocks.0.mlp.hook_post</td>\n",
       "      <td>in_circuit</td>\n",
       "      <td>0.987728</td>\n",
       "      <td>0.978</td>\n",
       "      <td>2.660494</td>\n",
       "      <td>0.121208</td>\n",
       "      <td>0.000051</td>\n",
       "      <td>1.816633e-06</td>\n",
       "    </tr>\n",
       "    <tr>\n",
       "      <th>157</th>\n",
       "      <td>4</td>\n",
       "      <td>blocks.1.attn.hook_result, head  0</td>\n",
       "      <td>in_circuit</td>\n",
       "      <td>0.737934</td>\n",
       "      <td>0.821</td>\n",
       "      <td>0.947983</td>\n",
       "      <td>0.220224</td>\n",
       "      <td>0.000037</td>\n",
       "      <td>1.291264e-06</td>\n",
       "    </tr>\n",
       "    <tr>\n",
       "      <th>158</th>\n",
       "      <td>4</td>\n",
       "      <td>blocks.1.attn.hook_result, head  1</td>\n",
       "      <td>in_circuit</td>\n",
       "      <td>0.722296</td>\n",
       "      <td>0.892</td>\n",
       "      <td>1.102349</td>\n",
       "      <td>0.178876</td>\n",
       "      <td>0.000037</td>\n",
       "      <td>1.291264e-06</td>\n",
       "    </tr>\n",
       "    <tr>\n",
       "      <th>159</th>\n",
       "      <td>4</td>\n",
       "      <td>blocks.1.mlp.hook_post</td>\n",
       "      <td>in_circuit</td>\n",
       "      <td>0.987728</td>\n",
       "      <td>0.977</td>\n",
       "      <td>4.158234</td>\n",
       "      <td>0.433755</td>\n",
       "      <td>0.000021</td>\n",
       "      <td>7.484468e-07</td>\n",
       "    </tr>\n",
       "  </tbody>\n",
       "</table>\n",
       "</div>"
      ],
      "text/plain": [
       "     run                                node          status  \\\n",
       "150    4  blocks.0.attn.hook_result, head  0  not_in_circuit   \n",
       "151    4  blocks.0.attn.hook_result, head  1  not_in_circuit   \n",
       "152    4  blocks.0.attn.hook_result, head  2  not_in_circuit   \n",
       "153    4  blocks.0.attn.hook_result, head  3  not_in_circuit   \n",
       "154    4  blocks.1.attn.hook_result, head  2  not_in_circuit   \n",
       "155    4  blocks.1.attn.hook_result, head  3  not_in_circuit   \n",
       "156    4              blocks.0.mlp.hook_post      in_circuit   \n",
       "157    4  blocks.1.attn.hook_result, head  0      in_circuit   \n",
       "158    4  blocks.1.attn.hook_result, head  1      in_circuit   \n",
       "159    4              blocks.1.mlp.hook_post      in_circuit   \n",
       "\n",
       "     resample_ablate_effect  zero_ablate_effect  norm_cache  norm_std  \\\n",
       "150                0.000042               0.979    0.762064  0.052615   \n",
       "151                0.000000               1.000    0.500946  0.024056   \n",
       "152                0.000000               0.027    0.501463  0.048098   \n",
       "153                0.000000               0.000    0.337975  0.031287   \n",
       "154                0.000000               0.905    1.015392  0.046711   \n",
       "155                0.000000               0.596    0.750994  0.063240   \n",
       "156                0.987728               0.978    2.660494  0.121208   \n",
       "157                0.737934               0.821    0.947983  0.220224   \n",
       "158                0.722296               0.892    1.102349  0.178876   \n",
       "159                0.987728               0.977    4.158234  0.433755   \n",
       "\n",
       "     grad_norm      grad_std  \n",
       "150   0.000084  2.873757e-06  \n",
       "151   0.000084  2.873757e-06  \n",
       "152   0.000084  2.873757e-06  \n",
       "153   0.000084  2.873757e-06  \n",
       "154   0.000037  1.291264e-06  \n",
       "155   0.000037  1.291264e-06  \n",
       "156   0.000051  1.816633e-06  \n",
       "157   0.000037  1.291264e-06  \n",
       "158   0.000037  1.291264e-06  \n",
       "159   0.000021  7.484468e-07  "
      ]
     },
     "execution_count": 16,
     "metadata": {},
     "output_type": "execute_result"
    }
   ],
   "source": [
    "siit_stats[siit_stats[\"run\"] == 4]"
   ]
  },
  {
   "cell_type": "code",
   "execution_count": null,
   "metadata": {},
   "outputs": [],
   "source": []
  }
 ],
 "metadata": {
  "kernelspec": {
   "display_name": ".iit",
   "language": "python",
   "name": "python3"
  },
  "language_info": {
   "codemirror_mode": {
    "name": "ipython",
    "version": 3
   },
   "file_extension": ".py",
   "mimetype": "text/x-python",
   "name": "python",
   "nbconvert_exporter": "python",
   "pygments_lexer": "ipython3",
   "version": "3.11.4"
  }
 },
 "nbformat": 4,
 "nbformat_minor": 2
}
