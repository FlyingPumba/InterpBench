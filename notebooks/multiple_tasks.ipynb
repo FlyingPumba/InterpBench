{
 "cells": [
  {
   "cell_type": "code",
   "execution_count": 1,
   "metadata": {},
   "outputs": [
    {
     "name": "stderr",
     "output_type": "stream",
     "text": [
      "/Users/cybershiptrooper/src/interpretability/MATS/.iit/lib/python3.11/site-packages/tqdm/auto.py:21: TqdmWarning: IProgress not found. Please update jupyter and ipywidgets. See https://ipywidgets.readthedocs.io/en/stable/user_install.html\n",
      "  from .autonotebook import tqdm as notebook_tqdm\n"
     ]
    }
   ],
   "source": [
    "import torch as t\n",
    "import numpy as np\n",
    "import wandb\n",
    "from transformer_lens import HookedTransformer\n",
    "import iit.model_pairs as mp\n",
    "import iit.utils.index as index\n",
    "from circuits_benchmark.utils.get_cases import get_cases\n",
    "from circuits_benchmark.commands.build_main_parser import build_main_parser\n",
    "from iit_utils import make_iit_hl_model, create_dataset\n",
    "import iit_utils.correspondence as correspondence\n",
    "import random\n",
    "from iit_utils.tracr_ll_corrs import get_tracr_ll_corr\n",
    "import argparse\n",
    "import os\n",
    "import json\n",
    "\n",
    "# seed everything\n",
    "t.manual_seed(0)\n",
    "np.random.seed(0)\n",
    "# t.use_deterministic_algorithms(True)\n",
    "random.seed(0)\n",
    "# DEVICE = t.device(\"cuda\" if t.cuda.is_available() else \"cpu\")\n",
    "WANDB_ENTITY = \"cybershiptrooper\"  # TODO make this an env var"
   ]
  },
  {
   "cell_type": "code",
   "execution_count": 2,
   "metadata": {},
   "outputs": [],
   "source": [
    "tasks = [3, 21]"
   ]
  },
  {
   "cell_type": "code",
   "execution_count": 3,
   "metadata": {},
   "outputs": [],
   "source": [
    "def get_case_outputs(task):\n",
    "    args, _ = build_main_parser().parse_known_args(\n",
    "            [\n",
    "                \"compile\",\n",
    "                f\"-i={task}\",\n",
    "                \"-f\",\n",
    "            ]\n",
    "        )\n",
    "    case = get_cases(args)[0]\n",
    "    assert case.get_index() == str(task), f\"Expected case {task}, got {case.get_index()}\"\n",
    "    if not case.supports_causal_masking():\n",
    "        raise NotImplementedError(f\"Case {case.get_index()} does not support causal masking\")\n",
    "    \n",
    "    tracr_output = case.build_tracr_model()\n",
    "    hl_model = case.build_transformer_lens_model()\n",
    "    # this is the graph node -> hl node correspondence\n",
    "    tracr_hl_corr = correspondence.TracrCorrespondence.from_output(tracr_output)\n",
    "    return case, hl_model, tracr_hl_corr"
   ]
  },
  {
   "cell_type": "code",
   "execution_count": 4,
   "metadata": {},
   "outputs": [],
   "source": [
    "cases =[]\n",
    "hl_models = []\n",
    "tracr_hl_corrs = []\n",
    "\n",
    "for t in tasks:\n",
    "    case, hl_model, tracr_hl_corr = get_case_outputs(t)\n",
    "    cases.append(case)\n",
    "    hl_models.append(hl_model)\n",
    "    tracr_hl_corrs.append(tracr_hl_corr)\n",
    "\n",
    "# get the tracr_ll_corrs\n",
    "tracr_ll_corrs = [get_tracr_ll_corr(case) for case in cases]\n",
    "\n",
    "# get train and test sets\n",
    "\n",
    "train_sets, test_sets = zip(*[create_dataset(case, hl_model) for case, hl_model in zip(cases, hl_models)])"
   ]
  },
  {
   "cell_type": "code",
   "execution_count": 5,
   "metadata": {},
   "outputs": [
    {
     "name": "stdout",
     "output_type": "stream",
     "text": [
      "10\n",
      "10\n"
     ]
    }
   ],
   "source": [
    "for i in cases:\n",
    "    print(i.get_max_seq_len())"
   ]
  },
  {
   "cell_type": "code",
   "execution_count": null,
   "metadata": {},
   "outputs": [],
   "source": []
  }
 ],
 "metadata": {
  "kernelspec": {
   "display_name": ".iit",
   "language": "python",
   "name": "python3"
  },
  "language_info": {
   "codemirror_mode": {
    "name": "ipython",
    "version": 3
   },
   "file_extension": ".py",
   "mimetype": "text/x-python",
   "name": "python",
   "nbconvert_exporter": "python",
   "pygments_lexer": "ipython3",
   "version": "3.11.4"
  }
 },
 "nbformat": 4,
 "nbformat_minor": 2
}
