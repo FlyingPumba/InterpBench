{
 "cells": [
  {
   "cell_type": "code",
   "execution_count": 1,
   "metadata": {},
   "outputs": [],
   "source": [
    "%load_ext autoreload\n",
    "%autoreload 2"
   ]
  },
  {
   "cell_type": "code",
   "execution_count": 2,
   "metadata": {},
   "outputs": [],
   "source": [
    "import os\n",
    "import subprocess\n",
    "from tqdm import tqdm\n",
    "from multiprocessing import Process\n",
    "os.chdir(\"/Users/cybershiptrooper/src/interpretability/MATS/circuits-benchmark\")"
   ]
  },
  {
   "cell_type": "code",
   "execution_count": 3,
   "metadata": {},
   "outputs": [],
   "source": [
    "train_command = \"\"\"python main.py train iit -i {task} --same-size -s {strict_weight} -iit {iit_weight} -o results_same_size\"\"\"\n",
    "acdc_command = \"\"\"python main.py run acdc -i {task} --load-from-wandb -w {siit_weight} -t {threshold} -o results_same_size\"\"\"\n",
    "eval_command = \"\"\"python main.py eval node_realism -i {task} --same-size -w {siit_weight} -t {threshold} --relative 1 -o results_same_size\"\"\"\n",
    "\n",
    "# tasks = ['3', '4', '11', '20', '34']\n",
    "s = 0.5\n",
    "siit_weight = \"510\"\n",
    "iit_weight = \"110\"\n",
    "# for task in tqdm(tasks):\n",
    "#     siit_train_command = train_command.format(task=task, strict_weight=s, iit_weight=1)\n",
    "#     iit_train_command = train_command.format(task=task, strict_weight=0, iit_weight=1)\n",
    "#     natural_train_command = train_command.format(task=task, strict_weight=0, iit_weight=0)\n",
    "\n",
    "#     # run all the training commands parallelly and wait for them to finish\n",
    "#     processes = []\n",
    "#     for c in [siit_train_command, iit_train_command, natural_train_command]:\n",
    "#         print(f\"Running command {c.split(' ')}\")\n",
    "#         # run silently\n",
    "#         p = subprocess.Popen(c.split(' '), stdout=subprocess.PIPE, stderr=subprocess.PIPE)\n",
    "#         processes.append(p)\n",
    "\n",
    "#     for p in processes:\n",
    "#         p.wait()"
   ]
  },
  {
   "cell_type": "code",
   "execution_count": 48,
   "metadata": {},
   "outputs": [
    {
     "name": "stdout",
     "output_type": "stream",
     "text": [
      "Running command python main.py eval node_realism -i 35 --same-size -w 1110 -t 0.01 --relative 1 -o results_same_size\n",
      "Running command python main.py eval node_realism -i 35 --same-size -w 110 -t 0.01 --relative 1 -o results_same_size\n",
      "Running command python main.py eval node_realism -i 35 --same-size -w 0 -t 0.01 --relative 1 -o results_same_size --natural\n",
      "Running command python main.py eval node_realism -i 35 --same-size -w 1110 -t 0.01 --relative 1 -o results_same_size --tracr\n",
      "--------------------------------------------------\n",
      "Running task 35 with threshold 0.025\n",
      "Running command ['python', 'main.py', 'run', 'acdc', '-i', '35', '--load-from-wandb', '-w', '1110', '-t', '0.025', '-o', 'results_same_size']\n",
      "Running command ['python', 'main.py', 'run', 'acdc', '-i', '35', '--load-from-wandb', '-w', '110', '-t', '0.025', '-o', 'results_same_size']\n",
      "Running command ['python', 'main.py', 'run', 'acdc', '-i', '35', '--load-from-wandb', '-w', '0', '-t', '0.025', '-o', 'results_same_size', '--natural']\n",
      "Running command ['python', 'main.py', 'run', 'acdc', '-i', '35', '--load-from-wandb', '-w', '1110', '-t', '0.025', '-o', 'results_same_size', '--tracr']\n",
      "Running command python main.py eval node_realism -i 35 --same-size -w 1110 -t 0.025 --relative 1 -o results_same_size\n",
      "Running command python main.py eval node_realism -i 35 --same-size -w 110 -t 0.025 --relative 1 -o results_same_size\n",
      "Running command python main.py eval node_realism -i 35 --same-size -w 0 -t 0.025 --relative 1 -o results_same_size --natural\n",
      "Running command python main.py eval node_realism -i 35 --same-size -w 1110 -t 0.025 --relative 1 -o results_same_size --tracr\n",
      "--------------------------------------------------\n",
      "Running task 35 with threshold 0.05\n",
      "Running command ['python', 'main.py', 'run', 'acdc', '-i', '35', '--load-from-wandb', '-w', '1110', '-t', '0.05', '-o', 'results_same_size']\n",
      "Running command ['python', 'main.py', 'run', 'acdc', '-i', '35', '--load-from-wandb', '-w', '110', '-t', '0.05', '-o', 'results_same_size']\n",
      "Running command ['python', 'main.py', 'run', 'acdc', '-i', '35', '--load-from-wandb', '-w', '0', '-t', '0.05', '-o', 'results_same_size', '--natural']\n",
      "Running command ['python', 'main.py', 'run', 'acdc', '-i', '35', '--load-from-wandb', '-w', '1110', '-t', '0.05', '-o', 'results_same_size', '--tracr']\n",
      "Running command python main.py eval node_realism -i 35 --same-size -w 1110 -t 0.05 --relative 1 -o results_same_size\n",
      "Running command python main.py eval node_realism -i 35 --same-size -w 110 -t 0.05 --relative 1 -o results_same_size\n",
      "Running command python main.py eval node_realism -i 35 --same-size -w 0 -t 0.05 --relative 1 -o results_same_size --natural\n",
      "Running command python main.py eval node_realism -i 35 --same-size -w 1110 -t 0.05 --relative 1 -o results_same_size --tracr\n",
      "--------------------------------------------------\n",
      "Running task 35 with threshold 0.1\n",
      "Running command ['python', 'main.py', 'run', 'acdc', '-i', '35', '--load-from-wandb', '-w', '1110', '-t', '0.1', '-o', 'results_same_size']\n",
      "Running command ['python', 'main.py', 'run', 'acdc', '-i', '35', '--load-from-wandb', '-w', '110', '-t', '0.1', '-o', 'results_same_size']\n",
      "Running command ['python', 'main.py', 'run', 'acdc', '-i', '35', '--load-from-wandb', '-w', '0', '-t', '0.1', '-o', 'results_same_size', '--natural']\n",
      "Running command ['python', 'main.py', 'run', 'acdc', '-i', '35', '--load-from-wandb', '-w', '1110', '-t', '0.1', '-o', 'results_same_size', '--tracr']\n",
      "Running command python main.py eval node_realism -i 35 --same-size -w 1110 -t 0.1 --relative 1 -o results_same_size\n",
      "Running command python main.py eval node_realism -i 35 --same-size -w 110 -t 0.1 --relative 1 -o results_same_size\n",
      "Running command python main.py eval node_realism -i 35 --same-size -w 0 -t 0.1 --relative 1 -o results_same_size --natural\n",
      "Running command python main.py eval node_realism -i 35 --same-size -w 1110 -t 0.1 --relative 1 -o results_same_size --tracr\n",
      "--------------------------------------------------\n",
      "Running task 35 with threshold 0.25\n",
      "Running command ['python', 'main.py', 'run', 'acdc', '-i', '35', '--load-from-wandb', '-w', '1110', '-t', '0.25', '-o', 'results_same_size']\n",
      "Running command ['python', 'main.py', 'run', 'acdc', '-i', '35', '--load-from-wandb', '-w', '110', '-t', '0.25', '-o', 'results_same_size']\n",
      "Running command ['python', 'main.py', 'run', 'acdc', '-i', '35', '--load-from-wandb', '-w', '0', '-t', '0.25', '-o', 'results_same_size', '--natural']\n",
      "Running command ['python', 'main.py', 'run', 'acdc', '-i', '35', '--load-from-wandb', '-w', '1110', '-t', '0.25', '-o', 'results_same_size', '--tracr']\n",
      "Running command python main.py eval node_realism -i 35 --same-size -w 1110 -t 0.25 --relative 1 -o results_same_size\n",
      "Running command python main.py eval node_realism -i 35 --same-size -w 110 -t 0.25 --relative 1 -o results_same_size\n",
      "Running command python main.py eval node_realism -i 35 --same-size -w 0 -t 0.25 --relative 1 -o results_same_size --natural\n",
      "Running command python main.py eval node_realism -i 35 --same-size -w 1110 -t 0.25 --relative 1 -o results_same_size --tracr\n",
      "--------------------------------------------------\n",
      "Running task 35 with threshold 0.5\n",
      "Running command ['python', 'main.py', 'run', 'acdc', '-i', '35', '--load-from-wandb', '-w', '1110', '-t', '0.5', '-o', 'results_same_size']\n",
      "Running command ['python', 'main.py', 'run', 'acdc', '-i', '35', '--load-from-wandb', '-w', '110', '-t', '0.5', '-o', 'results_same_size']\n",
      "Running command ['python', 'main.py', 'run', 'acdc', '-i', '35', '--load-from-wandb', '-w', '0', '-t', '0.5', '-o', 'results_same_size', '--natural']\n",
      "Running command ['python', 'main.py', 'run', 'acdc', '-i', '35', '--load-from-wandb', '-w', '1110', '-t', '0.5', '-o', 'results_same_size', '--tracr']\n",
      "Running command python main.py eval node_realism -i 35 --same-size -w 1110 -t 0.5 --relative 1 -o results_same_size\n",
      "Running command python main.py eval node_realism -i 35 --same-size -w 110 -t 0.5 --relative 1 -o results_same_size\n",
      "Running command python main.py eval node_realism -i 35 --same-size -w 0 -t 0.5 --relative 1 -o results_same_size --natural\n",
      "Running command python main.py eval node_realism -i 35 --same-size -w 1110 -t 0.5 --relative 1 -o results_same_size --tracr\n",
      "--------------------------------------------------\n",
      "Running task 35 with threshold 1\n",
      "Running command ['python', 'main.py', 'run', 'acdc', '-i', '35', '--load-from-wandb', '-w', '1110', '-t', '1', '-o', 'results_same_size']\n",
      "Running command ['python', 'main.py', 'run', 'acdc', '-i', '35', '--load-from-wandb', '-w', '110', '-t', '1', '-o', 'results_same_size']\n",
      "Running command ['python', 'main.py', 'run', 'acdc', '-i', '35', '--load-from-wandb', '-w', '0', '-t', '1', '-o', 'results_same_size', '--natural']\n",
      "Running command ['python', 'main.py', 'run', 'acdc', '-i', '35', '--load-from-wandb', '-w', '1110', '-t', '1', '-o', 'results_same_size', '--tracr']\n",
      "Running command python main.py eval node_realism -i 35 --same-size -w 1110 -t 1 --relative 1 -o results_same_size\n",
      "Running command python main.py eval node_realism -i 35 --same-size -w 110 -t 1 --relative 1 -o results_same_size\n",
      "Running command python main.py eval node_realism -i 35 --same-size -w 0 -t 1 --relative 1 -o results_same_size --natural\n",
      "Running command python main.py eval node_realism -i 35 --same-size -w 1110 -t 1 --relative 1 -o results_same_size --tracr\n",
      "--------------------------------------------------\n",
      "Running task 35 with threshold 2.5\n",
      "Running command ['python', 'main.py', 'run', 'acdc', '-i', '35', '--load-from-wandb', '-w', '1110', '-t', '2.5', '-o', 'results_same_size']\n",
      "Running command ['python', 'main.py', 'run', 'acdc', '-i', '35', '--load-from-wandb', '-w', '110', '-t', '2.5', '-o', 'results_same_size']\n",
      "Running command ['python', 'main.py', 'run', 'acdc', '-i', '35', '--load-from-wandb', '-w', '0', '-t', '2.5', '-o', 'results_same_size', '--natural']\n",
      "Running command ['python', 'main.py', 'run', 'acdc', '-i', '35', '--load-from-wandb', '-w', '1110', '-t', '2.5', '-o', 'results_same_size', '--tracr']\n",
      "Running command python main.py eval node_realism -i 35 --same-size -w 1110 -t 2.5 --relative 1 -o results_same_size\n",
      "Running command python main.py eval node_realism -i 35 --same-size -w 110 -t 2.5 --relative 1 -o results_same_size\n",
      "Running command python main.py eval node_realism -i 35 --same-size -w 0 -t 2.5 --relative 1 -o results_same_size --natural\n",
      "Running command python main.py eval node_realism -i 35 --same-size -w 1110 -t 2.5 --relative 1 -o results_same_size --tracr\n",
      "--------------------------------------------------\n",
      "Running task 35 with threshold 5\n",
      "Running command ['python', 'main.py', 'run', 'acdc', '-i', '35', '--load-from-wandb', '-w', '1110', '-t', '5', '-o', 'results_same_size']\n",
      "Running command ['python', 'main.py', 'run', 'acdc', '-i', '35', '--load-from-wandb', '-w', '110', '-t', '5', '-o', 'results_same_size']\n",
      "Running command ['python', 'main.py', 'run', 'acdc', '-i', '35', '--load-from-wandb', '-w', '0', '-t', '5', '-o', 'results_same_size', '--natural']\n",
      "Running command ['python', 'main.py', 'run', 'acdc', '-i', '35', '--load-from-wandb', '-w', '1110', '-t', '5', '-o', 'results_same_size', '--tracr']\n",
      "Running command python main.py eval node_realism -i 35 --same-size -w 1110 -t 5 --relative 1 -o results_same_size\n",
      "Running command python main.py eval node_realism -i 35 --same-size -w 110 -t 5 --relative 1 -o results_same_size\n",
      "Running command python main.py eval node_realism -i 35 --same-size -w 0 -t 5 --relative 1 -o results_same_size --natural\n",
      "Running command python main.py eval node_realism -i 35 --same-size -w 1110 -t 5 --relative 1 -o results_same_size --tracr\n",
      "--------------------------------------------------\n",
      "Running task 35 with threshold 10\n",
      "Running command ['python', 'main.py', 'run', 'acdc', '-i', '35', '--load-from-wandb', '-w', '1110', '-t', '10', '-o', 'results_same_size']\n",
      "Running command ['python', 'main.py', 'run', 'acdc', '-i', '35', '--load-from-wandb', '-w', '110', '-t', '10', '-o', 'results_same_size']\n",
      "Running command ['python', 'main.py', 'run', 'acdc', '-i', '35', '--load-from-wandb', '-w', '0', '-t', '10', '-o', 'results_same_size', '--natural']\n",
      "Running command ['python', 'main.py', 'run', 'acdc', '-i', '35', '--load-from-wandb', '-w', '1110', '-t', '10', '-o', 'results_same_size', '--tracr']\n",
      "Running command python main.py eval node_realism -i 35 --same-size -w 1110 -t 10 --relative 1 -o results_same_size\n",
      "Running command python main.py eval node_realism -i 35 --same-size -w 110 -t 10 --relative 1 -o results_same_size\n",
      "Running command python main.py eval node_realism -i 35 --same-size -w 0 -t 10 --relative 1 -o results_same_size --natural\n",
      "Running command python main.py eval node_realism -i 35 --same-size -w 1110 -t 10 --relative 1 -o results_same_size --tracr\n",
      "--------------------------------------------------\n",
      "Running task 35 with threshold 25\n",
      "Running command ['python', 'main.py', 'run', 'acdc', '-i', '35', '--load-from-wandb', '-w', '1110', '-t', '25', '-o', 'results_same_size']\n",
      "Running command ['python', 'main.py', 'run', 'acdc', '-i', '35', '--load-from-wandb', '-w', '110', '-t', '25', '-o', 'results_same_size']\n",
      "Running command ['python', 'main.py', 'run', 'acdc', '-i', '35', '--load-from-wandb', '-w', '0', '-t', '25', '-o', 'results_same_size', '--natural']\n",
      "Running command ['python', 'main.py', 'run', 'acdc', '-i', '35', '--load-from-wandb', '-w', '1110', '-t', '25', '-o', 'results_same_size', '--tracr']\n",
      "Running command python main.py eval node_realism -i 35 --same-size -w 1110 -t 25 --relative 1 -o results_same_size\n",
      "Running command python main.py eval node_realism -i 35 --same-size -w 110 -t 25 --relative 1 -o results_same_size\n",
      "Running command python main.py eval node_realism -i 35 --same-size -w 0 -t 25 --relative 1 -o results_same_size --natural\n",
      "Running command python main.py eval node_realism -i 35 --same-size -w 1110 -t 25 --relative 1 -o results_same_size --tracr\n",
      "--------------------------------------------------\n",
      "Running task 35 with threshold 50\n",
      "Running command ['python', 'main.py', 'run', 'acdc', '-i', '35', '--load-from-wandb', '-w', '1110', '-t', '50', '-o', 'results_same_size']\n",
      "Running command ['python', 'main.py', 'run', 'acdc', '-i', '35', '--load-from-wandb', '-w', '110', '-t', '50', '-o', 'results_same_size']\n",
      "Running command ['python', 'main.py', 'run', 'acdc', '-i', '35', '--load-from-wandb', '-w', '0', '-t', '50', '-o', 'results_same_size', '--natural']\n",
      "Running command ['python', 'main.py', 'run', 'acdc', '-i', '35', '--load-from-wandb', '-w', '1110', '-t', '50', '-o', 'results_same_size', '--tracr']\n",
      "Running command python main.py eval node_realism -i 35 --same-size -w 1110 -t 50 --relative 1 -o results_same_size\n",
      "Running command python main.py eval node_realism -i 35 --same-size -w 110 -t 50 --relative 1 -o results_same_size\n",
      "Running command python main.py eval node_realism -i 35 --same-size -w 0 -t 50 --relative 1 -o results_same_size --natural\n",
      "Running command python main.py eval node_realism -i 35 --same-size -w 1110 -t 50 --relative 1 -o results_same_size --tracr\n",
      "--------------------------------------------------\n",
      "Running task 35 with threshold 100\n",
      "Running command ['python', 'main.py', 'run', 'acdc', '-i', '35', '--load-from-wandb', '-w', '1110', '-t', '100', '-o', 'results_same_size']\n",
      "Running command ['python', 'main.py', 'run', 'acdc', '-i', '35', '--load-from-wandb', '-w', '110', '-t', '100', '-o', 'results_same_size']\n",
      "Running command ['python', 'main.py', 'run', 'acdc', '-i', '35', '--load-from-wandb', '-w', '0', '-t', '100', '-o', 'results_same_size', '--natural']\n",
      "Running command ['python', 'main.py', 'run', 'acdc', '-i', '35', '--load-from-wandb', '-w', '1110', '-t', '100', '-o', 'results_same_size', '--tracr']\n",
      "Running command python main.py eval node_realism -i 35 --same-size -w 1110 -t 100 --relative 1 -o results_same_size\n",
      "Running command python main.py eval node_realism -i 35 --same-size -w 110 -t 100 --relative 1 -o results_same_size\n",
      "Running command python main.py eval node_realism -i 35 --same-size -w 0 -t 100 --relative 1 -o results_same_size --natural\n",
      "Running command python main.py eval node_realism -i 35 --same-size -w 1110 -t 100 --relative 1 -o results_same_size --tracr\n"
     ]
    },
    {
     "name": "stderr",
     "output_type": "stream",
     "text": [
      "100%|██████████| 2/2 [08:25<00:00, 252.84s/it]\n"
     ]
    }
   ],
   "source": [
    "from circuits_benchmark.utils.ll_model_loader.best_weights import get_best_weight\n",
    "thresholds = [0.0, 0.01, 0.025, 0.05, 0.1, 0.25, 0.5, 1, 2.5, 5, 10, 25, 50, 100]\n",
    "tasks = ['11', '35']\n",
    "# thresholds = [0.01]\n",
    "for task in tqdm(tasks):\n",
    "    siit_weight = get_best_weight(task)\n",
    "    for t in thresholds:\n",
    "        print(\"-\"*50)\n",
    "        print(f\"Running task {task} with threshold {t}\")\n",
    "        siit_acdc_command = acdc_command.format(task=task, siit_weight=siit_weight, threshold=t)\n",
    "        iit_acdc_command = acdc_command.format(task=task, siit_weight=iit_weight, threshold=t)\n",
    "        natural_acdc_command = acdc_command.format(task=task, siit_weight=0, threshold=t) + \" --natural\"\n",
    "        tracr_acdc_command = acdc_command.format(task=task, siit_weight=siit_weight, threshold=t) + \" --tracr\"\n",
    "\n",
    "        # run all the acdc commands\n",
    "        processes = []\n",
    "        for c in [siit_acdc_command, iit_acdc_command, natural_acdc_command, tracr_acdc_command]:\n",
    "            print(f\"Running command {c.split(' ')}\")\n",
    "            p = subprocess.Popen(c.split(' '), stdout=subprocess.PIPE, stderr=subprocess.PIPE)\n",
    "            processes.append(p)\n",
    "            \n",
    "        for p in processes:\n",
    "            p.wait()\n",
    "        siit_eval_command = eval_command.format(task=task, siit_weight=siit_weight, threshold=t)\n",
    "        iit_eval_command = eval_command.format(task=task, siit_weight=iit_weight, threshold=t)\n",
    "        natural_eval_command = eval_command.format(task=task, siit_weight=0, threshold=t) + \" --natural\"\n",
    "        tracr_eval_command = eval_command.format(task=task, siit_weight=siit_weight, threshold=t) + \" --tracr\"\n",
    "\n",
    "        # run all the eval commands without waiting for them to finish\n",
    "        for c in [siit_eval_command, iit_eval_command, natural_eval_command, tracr_eval_command]:\n",
    "            print(f\"Running command {c}\")\n",
    "            p = subprocess.Popen(c.split(' '), stdout=subprocess.PIPE, stderr=subprocess.PIPE)\n",
    "            processes.append(p)\n",
    "            # p.wait()\n",
    "        \n",
    "        for p in processes:\n",
    "            p.wait()"
   ]
  },
  {
   "cell_type": "code",
   "execution_count": 49,
   "metadata": {},
   "outputs": [
    {
     "name": "stdout",
     "output_type": "stream",
     "text": [
      "Task 35 does not have results for all methods\n"
     ]
    }
   ],
   "source": [
    "import numpy as np\n",
    "\n",
    "tasks = [3, 4, 11, 35]\n",
    "confusion_matrices = np.zeros((len(tasks), 4, 4))\n",
    "\n",
    "for task_num, task in enumerate(tasks):\n",
    "    try:\n",
    "        iit_results = [\n",
    "            (float(s.split(\", \")[0]), float(s.split(\", \")[1].strip(\"\\n\")))\n",
    "            for s in open(f\"results_same_size/realism/{task}_iit_score.txt\", \"r\").readlines()\n",
    "        ]\n",
    "        siit_results =[\n",
    "            (float(s.split(\", \")[0]), float(s.split(\", \")[1].strip(\"\\n\")))\n",
    "            for s in open(f\"results_same_size/realism/{task}_siit_score.txt\", \"r\").readlines()\n",
    "        ]\n",
    "        tracr_results = [\n",
    "            (float(s.split(\", \")[0]), float(s.split(\", \")[1].strip(\"\\n\")))\n",
    "            for s in open(f\"results_same_size/realism/{task}_tracr_score.txt\", \"r\").readlines()\n",
    "        ]\n",
    "        natural_results = [\n",
    "            (float(s.split(\", \")[0]), float(s.split(\", \")[1].strip(\"\\n\")))\n",
    "            for s in open(f\"results_same_size/realism/{task}_natural_score.txt\", \"r\").readlines()\n",
    "        ]\n",
    "    except:\n",
    "        print(f\"Task {task} does not have results for all methods\")\n",
    "        continue\n",
    "    ls = [len(iit_results), len(siit_results), len(tracr_results), len(natural_results)]\n",
    "    if min(ls) != max(ls):\n",
    "        print(f\"Task {task} has different number of results for different methods\")\n",
    "        continue\n",
    "    iit_results = np.array(iit_results)[:, 1]\n",
    "    siit_results = np.array(siit_results)[:, 1]\n",
    "    tracr_results = np.array(tracr_results)[:, 1]\n",
    "    natural_results = np.array(natural_results)[:, 1]\n",
    "\n",
    "    confusion_matrix = np.zeros((4, 4))\n",
    "    results = [natural_results, tracr_results, siit_results, iit_results]\n",
    "    for i, r in enumerate(results):\n",
    "        for j, r2 in enumerate(results):\n",
    "            confusion_matrix[i, j] = np.corrcoef(r, r2)[0, 1]\n",
    "    confusion_matrices[task_num] = confusion_matrix"
   ]
  },
  {
   "cell_type": "code",
   "execution_count": 57,
   "metadata": {},
   "outputs": [
    {
     "data": {
      "text/plain": [
       "(3, 4, 4)"
      ]
     },
     "execution_count": 57,
     "metadata": {},
     "output_type": "execute_result"
    }
   ],
   "source": [
    "# remove confusion matrices with all zeros\n",
    "confusion_matrices = confusion_matrices[~np.all(confusion_matrices == 0, axis=(1, 2))]\n",
    "confusion_matrices.shape"
   ]
  },
  {
   "cell_type": "code",
   "execution_count": 58,
   "metadata": {},
   "outputs": [
    {
     "data": {
      "text/html": [
       "<div>\n",
       "<style scoped>\n",
       "    .dataframe tbody tr th:only-of-type {\n",
       "        vertical-align: middle;\n",
       "    }\n",
       "\n",
       "    .dataframe tbody tr th {\n",
       "        vertical-align: top;\n",
       "    }\n",
       "\n",
       "    .dataframe thead th {\n",
       "        text-align: right;\n",
       "    }\n",
       "</style>\n",
       "<table border=\"1\" class=\"dataframe\">\n",
       "  <thead>\n",
       "    <tr style=\"text-align: right;\">\n",
       "      <th></th>\n",
       "      <th>Natural</th>\n",
       "      <th>Tracr</th>\n",
       "      <th>SIIT</th>\n",
       "      <th>IIT</th>\n",
       "    </tr>\n",
       "  </thead>\n",
       "  <tbody>\n",
       "    <tr>\n",
       "      <th>Natural</th>\n",
       "      <td>1.00</td>\n",
       "      <td>NaN</td>\n",
       "      <td>NaN</td>\n",
       "      <td>NaN</td>\n",
       "    </tr>\n",
       "    <tr>\n",
       "      <th>Tracr</th>\n",
       "      <td>0.70</td>\n",
       "      <td>1.00</td>\n",
       "      <td>NaN</td>\n",
       "      <td>NaN</td>\n",
       "    </tr>\n",
       "    <tr>\n",
       "      <th>SIIT</th>\n",
       "      <td>0.95</td>\n",
       "      <td>0.65</td>\n",
       "      <td>1.00</td>\n",
       "      <td>NaN</td>\n",
       "    </tr>\n",
       "    <tr>\n",
       "      <th>IIT</th>\n",
       "      <td>0.83</td>\n",
       "      <td>0.66</td>\n",
       "      <td>0.75</td>\n",
       "      <td>1.0</td>\n",
       "    </tr>\n",
       "  </tbody>\n",
       "</table>\n",
       "</div>"
      ],
      "text/plain": [
       "         Natural  Tracr  SIIT  IIT\n",
       "Natural     1.00    NaN   NaN  NaN\n",
       "Tracr       0.70   1.00   NaN  NaN\n",
       "SIIT        0.95   0.65  1.00  NaN\n",
       "IIT         0.83   0.66  0.75  1.0"
      ]
     },
     "execution_count": 58,
     "metadata": {},
     "output_type": "execute_result"
    }
   ],
   "source": [
    "import pandas as pd\n",
    "\n",
    "def make_df(confusion_matrix):\n",
    "    df = pd.DataFrame(confusion_matrix, columns=[\"Natural\", \"Tracr\", \"SIIT\", \"IIT\"], index=[\"Natural\", \"Tracr\", \"SIIT\", \"IIT\"]).round(2)\n",
    "    # make top triangle of confusion matrix 0\n",
    "    df = df.where(np.tril(np.ones(df.shape)).astype(bool))\n",
    "    return df\n",
    "make_df(confusion_matrices[0])"
   ]
  },
  {
   "cell_type": "code",
   "execution_count": 59,
   "metadata": {},
   "outputs": [
    {
     "data": {
      "text/plain": [
       "array([[[1.        , 0.69718748, 0.94545063, 0.82857689],\n",
       "        [0.69718748, 1.        , 0.64526228, 0.66485594],\n",
       "        [0.94545063, 0.64526228, 1.        , 0.74898615],\n",
       "        [0.82857689, 0.66485594, 0.74898615, 1.        ]],\n",
       "\n",
       "       [[1.        , 0.61280262, 0.90472976, 0.95022405],\n",
       "        [0.61280262, 1.        , 0.84369661, 0.66076235],\n",
       "        [0.90472976, 0.84369661, 1.        , 0.95867848],\n",
       "        [0.95022405, 0.66076235, 0.95867848, 1.        ]],\n",
       "\n",
       "       [[1.        , 0.38924947, 0.54282985, 0.78878437],\n",
       "        [0.38924947, 1.        , 0.42491083, 0.34602818],\n",
       "        [0.54282985, 0.42491083, 1.        , 0.65909558],\n",
       "        [0.78878437, 0.34602818, 0.65909558, 1.        ]]])"
      ]
     },
     "execution_count": 59,
     "metadata": {},
     "output_type": "execute_result"
    }
   ],
   "source": [
    "confusion_matrices"
   ]
  },
  {
   "cell_type": "code",
   "execution_count": 60,
   "metadata": {},
   "outputs": [
    {
     "data": {
      "text/html": [
       "<div>\n",
       "<style scoped>\n",
       "    .dataframe tbody tr th:only-of-type {\n",
       "        vertical-align: middle;\n",
       "    }\n",
       "\n",
       "    .dataframe tbody tr th {\n",
       "        vertical-align: top;\n",
       "    }\n",
       "\n",
       "    .dataframe thead th {\n",
       "        text-align: right;\n",
       "    }\n",
       "</style>\n",
       "<table border=\"1\" class=\"dataframe\">\n",
       "  <thead>\n",
       "    <tr style=\"text-align: right;\">\n",
       "      <th></th>\n",
       "      <th>Natural</th>\n",
       "      <th>Tracr</th>\n",
       "      <th>SIIT</th>\n",
       "      <th>IIT</th>\n",
       "    </tr>\n",
       "  </thead>\n",
       "  <tbody>\n",
       "    <tr>\n",
       "      <th>Natural</th>\n",
       "      <td>1.00</td>\n",
       "      <td>NaN</td>\n",
       "      <td>NaN</td>\n",
       "      <td>NaN</td>\n",
       "    </tr>\n",
       "    <tr>\n",
       "      <th>Tracr</th>\n",
       "      <td>0.57</td>\n",
       "      <td>1.00</td>\n",
       "      <td>NaN</td>\n",
       "      <td>NaN</td>\n",
       "    </tr>\n",
       "    <tr>\n",
       "      <th>SIIT</th>\n",
       "      <td>0.80</td>\n",
       "      <td>0.64</td>\n",
       "      <td>1.00</td>\n",
       "      <td>NaN</td>\n",
       "    </tr>\n",
       "    <tr>\n",
       "      <th>IIT</th>\n",
       "      <td>0.86</td>\n",
       "      <td>0.56</td>\n",
       "      <td>0.79</td>\n",
       "      <td>1.0</td>\n",
       "    </tr>\n",
       "  </tbody>\n",
       "</table>\n",
       "</div>"
      ],
      "text/plain": [
       "         Natural  Tracr  SIIT  IIT\n",
       "Natural     1.00    NaN   NaN  NaN\n",
       "Tracr       0.57   1.00   NaN  NaN\n",
       "SIIT        0.80   0.64  1.00  NaN\n",
       "IIT         0.86   0.56  0.79  1.0"
      ]
     },
     "execution_count": 60,
     "metadata": {},
     "output_type": "execute_result"
    }
   ],
   "source": [
    "df = make_df(confusion_matrices.mean(axis=0))\n",
    "df"
   ]
  },
  {
   "cell_type": "code",
   "execution_count": 61,
   "metadata": {},
   "outputs": [
    {
     "name": "stdout",
     "output_type": "stream",
     "text": [
      "\\begin{tabular}{lrrrr}\n",
      "\\toprule\n",
      " & Natural & Tracr & SIIT & IIT \\\\\n",
      "\\midrule\n",
      "Natural & 1.00 & - & - & - \\\\\n",
      "Tracr & 0.57 & 1.00 & - & - \\\\\n",
      "SIIT & 0.80 & 0.64 & 1.00 & - \\\\\n",
      "IIT & 0.86 & 0.56 & 0.79 & 1.00 \\\\\n",
      "\\bottomrule\n",
      "\\end{tabular}\n",
      "\n"
     ]
    }
   ],
   "source": [
    "print(df.to_latex(\n",
    "    float_format=\"%.2f\",\n",
    "    na_rep=\"-\",\n",
    "))"
   ]
  },
  {
   "cell_type": "code",
   "execution_count": 34,
   "metadata": {},
   "outputs": [
    {
     "data": {
      "text/plain": [
       "<matplotlib.image.AxesImage at 0x11b904710>"
      ]
     },
     "execution_count": 34,
     "metadata": {},
     "output_type": "execute_result"
    },
    {
     "data": {
      "image/png": "[encoded data removed]",
      "text/plain": [
       "<Figure size 640x480 with 1 Axes>"
      ]
     },
     "metadata": {},
     "output_type": "display_data"
    }
   ],
   "source": [
    "import plotly as px\n",
    "\n"
   ]
  },
  {
   "cell_type": "code",
   "execution_count": null,
   "metadata": {},
   "outputs": [],
   "source": []
  }
 ],
 "metadata": {
  "kernelspec": {
   "display_name": ".iit",
   "language": "python",
   "name": "python3"
  },
  "language_info": {
   "codemirror_mode": {
    "name": "ipython",
    "version": 3
   },
   "file_extension": ".py",
   "mimetype": "text/x-python",
   "name": "python",
   "nbconvert_exporter": "python",
   "pygments_lexer": "ipython3",
   "version": "3.11.4"
  }
 },
 "nbformat": 4,
 "nbformat_minor": 2
}
