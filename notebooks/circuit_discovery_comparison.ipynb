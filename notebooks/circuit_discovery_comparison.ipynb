{
 "cells": [
  {
   "cell_type": "code",
   "execution_count": 3,
   "metadata": {},
   "outputs": [],
   "source": [
    "from utils.fetch_files_from_runs import fetch_files_from_runs\n",
    "import os\n",
    "import pandas as pd\n",
    "import pickle\n",
    "import shutil\n",
    "\n",
    "# for folder in os.listdir(\"./results/\"):\n",
    "#     if \"acdc\" in folder:# or \"sp\" in folder:\n",
    "#         shutil.rmtree(f\"./results/{folder}\")"
   ]
  },
  {
   "cell_type": "code",
   "execution_count": 2,
   "metadata": {},
   "outputs": [
    {
     "name": "stderr",
     "output_type": "stream",
     "text": [
      "100%|██████████| 3490/3490 [00:31<00:00, 111.27it/s]\n"
     ]
    }
   ],
   "source": [
    "project = \"circuit_discovery\"\n",
    "group = \"interp_bench\"\n",
    "files_to_fetch = [\"result.pkl\"]\n",
    "fetch_files_from_runs(project, group=group, files_to_download=files_to_fetch)"
   ]
  },
  {
   "cell_type": "code",
   "execution_count": 25,
   "metadata": {},
   "outputs": [
    {
     "name": "stderr",
     "output_type": "stream",
     "text": [
      "/var/folders/_k/_46xyqdj165bdcyw79k6758w0000gn/T/ipykernel_48058/4123716436.py:2: FutureWarning: The behavior of DataFrame concatenation with empty or all-NA entries is deprecated. In a future version, this will no longer exclude empty or all-NA columns when determining the result dtypes. To retain the old behavior, exclude the relevant entries before the concat operation.\n",
      "  return pd.concat([\n",
      "/var/folders/_k/_46xyqdj165bdcyw79k6758w0000gn/T/ipykernel_48058/4123716436.py:2: FutureWarning: The behavior of DataFrame concatenation with empty or all-NA entries is deprecated. In a future version, this will no longer exclude empty or all-NA columns when determining the result dtypes. To retain the old behavior, exclude the relevant entries before the concat operation.\n",
      "  return pd.concat([\n",
      "/var/folders/_k/_46xyqdj165bdcyw79k6758w0000gn/T/ipykernel_48058/4123716436.py:2: FutureWarning: The behavior of DataFrame concatenation with empty or all-NA entries is deprecated. In a future version, this will no longer exclude empty or all-NA columns when determining the result dtypes. To retain the old behavior, exclude the relevant entries before the concat operation.\n",
      "  return pd.concat([\n",
      "/var/folders/_k/_46xyqdj165bdcyw79k6758w0000gn/T/ipykernel_48058/4123716436.py:2: FutureWarning: The behavior of DataFrame concatenation with empty or all-NA entries is deprecated. In a future version, this will no longer exclude empty or all-NA columns when determining the result dtypes. To retain the old behavior, exclude the relevant entries before the concat operation.\n",
      "  return pd.concat([\n"
     ]
    }
   ],
   "source": [
    "def append_row(table, row):\n",
    "    return pd.concat([\n",
    "                table, \n",
    "                pd.DataFrame([row], columns=row.index)]\n",
    "        ).reset_index(drop=True)\n",
    "\n",
    "def get_results_for_case_algo(algo):\n",
    "    root_dir = f\"results/{algo}\"\n",
    "    df = pd.DataFrame(columns = [\"run\", \"threshold\", \"node_tpr\", \"node_fpr\", \"edge_tpr\", \"edge_fpr\"])\n",
    "    for run in os.listdir(root_dir):\n",
    "        run_dir = root_dir + \"/\" + run + \"/\" + \"interp_bench\"\n",
    "        for threshold in os.listdir(run_dir):\n",
    "            with open(run_dir + \"/\" + threshold + \"/result.pkl\", \"rb\") as f:\n",
    "                result = pickle.load(f)\n",
    "            entry = {\"run\": run, \n",
    "                     \"threshold\": threshold, \n",
    "                     \"node_tpr\": result.nodes.tpr, \n",
    "                     \"node_fpr\": result.nodes.fpr, \n",
    "                     \"edge_tpr\": result.edges.tpr, \n",
    "                     \"edge_fpr\": result.edges.fpr\n",
    "                    }\n",
    "            df = append_row(df, pd.Series(entry))\n",
    "    return df\n",
    "\n",
    "acdc_scores = get_results_for_case_algo(\"acdc\")\n",
    "node_sp_scores = get_results_for_case_algo(\"node_sp\")\n",
    "edge_sp_scores = get_results_for_case_algo(\"edge_sp\")\n",
    "eap_scores = get_results_for_case_algo(\"eap\")\n",
    "# integrated_grads_scores = get_results_for_case_algo(\"integrated_grads\")"
   ]
  },
  {
   "cell_type": "code",
   "execution_count": 26,
   "metadata": {},
   "outputs": [],
   "source": [
    "# from utils.plotter import pessimistic_auc as auc\n",
    "from sklearn.metrics import auc\n",
    "\n",
    "def make_fpr_tpr_monotonic(fpr_list, tpr_list):\n",
    "    # return sorted fpr and corresponding tpr  (i.e., if fpr[i] -> fpr[j] then tpr[i] -> tpr[j])\n",
    "    fpr_tpr = list(zip(fpr_list, tpr_list))\n",
    "    fpr_tpr = sorted(fpr_tpr, key=lambda x: x[0])\n",
    "    fpr_list, tpr_list = zip(*fpr_tpr)\n",
    "    return list(fpr_list), list(tpr_list)\n",
    "\n",
    "def get_ROCs(scores: pd.DataFrame, algorithm: str):\n",
    "    if algorithm in [\"acdc\", \"eap\", \"integrated_grads\"]:\n",
    "        sort_key = \"threshold\"\n",
    "        ascending = False\n",
    "    elif \"sp\" in algorithm:\n",
    "        sort_key = \"threshold\"\n",
    "        ascending = True\n",
    "    rocs = {} # run : {node: node_roc, edge: edge_roc}\n",
    "    scores_by_run = scores.groupby(\"run\")\n",
    "    for run, run_scores in scores_by_run:\n",
    "        run_scores = run_scores.sort_values(by=sort_key, ascending=ascending)\n",
    "        # get 'node_tpr', 'node_fpr', 'edge_tpr', 'edge_fpr' from run_scores\n",
    "        node_fpr = list(run_scores[\"node_fpr\"].values.copy())\n",
    "        node_tpr = list(run_scores[\"node_tpr\"].values.copy())\n",
    "        edge_fpr = list(run_scores[\"edge_fpr\"].values.copy())\n",
    "        edge_tpr = list(run_scores[\"edge_tpr\"].values.copy())\n",
    "        # print(node_fpr, node_tpr)\n",
    "        # make fpr and tpr lists monotonic\n",
    "        node_fpr, node_tpr = make_fpr_tpr_monotonic(node_fpr, node_tpr)\n",
    "        edge_fpr, edge_tpr = make_fpr_tpr_monotonic(edge_fpr, edge_tpr)\n",
    "\n",
    "        # calculate roc_auc for node and edge\n",
    "        try:\n",
    "            node_roc = auc(node_fpr, node_tpr)\n",
    "            edge_roc = auc(edge_fpr, edge_tpr)\n",
    "        except:\n",
    "            print(f\"error in run {run}\")\n",
    "            continue\n",
    "        rocs[run] = {\"node\": node_roc, \"edge\": edge_roc}\n",
    "    return rocs"
   ]
  },
  {
   "cell_type": "code",
   "execution_count": 27,
   "metadata": {},
   "outputs": [],
   "source": [
    "# make 2 combined dataframes: one for node_roc and one for edge_roc\n",
    "\n",
    "def get_combined_roc_df_from_list(list_of_rocs, list_of_names):\n",
    "    node_roc_df = pd.DataFrame()\n",
    "    edge_roc_df = pd.DataFrame()\n",
    "\n",
    "    for k, v in list_of_rocs[0].items():\n",
    "        run = k\n",
    "        node_roc = v[\"node\"]\n",
    "        edge_roc = v[\"edge\"]\n",
    "        node_entry = {\"run\": run, list_of_names[0]: node_roc}\n",
    "        edge_entry = {\"run\": run, list_of_names[0]: edge_roc}\n",
    "        for i, rocs in enumerate(list_of_rocs[1:]):\n",
    "            try:\n",
    "                node_roc = rocs[k][\"node\"]\n",
    "                edge_roc = rocs[k][\"edge\"]\n",
    "            except:\n",
    "                continue\n",
    "            node_entry[list_of_names[i+1]] = node_roc\n",
    "            edge_entry[list_of_names[i+1]] = edge_roc\n",
    "        node_roc_df = append_row(node_roc_df, pd.Series(node_entry))\n",
    "        edge_roc_df = append_row(edge_roc_df, pd.Series(edge_entry))\n",
    "\n",
    "    return node_roc_df, edge_roc_df"
   ]
  },
  {
   "cell_type": "code",
   "execution_count": 28,
   "metadata": {},
   "outputs": [],
   "source": [
    "# drop rows with N/A values\n",
    "def get_na_rows(df):\n",
    "    runs = []\n",
    "    for row in df.iterrows():\n",
    "        if row[1].isna().any() or 'N/A' in row[1].values:\n",
    "            # df = df.drop(row[0])\n",
    "            runs.append(row[1][\"run\"])\n",
    "    return set(runs)\n",
    "\n",
    "runs = get_na_rows(eap_scores)\n",
    "runs"
   ]
  },
  {
   "cell_type": "code",
   "execution_count": 33,
   "metadata": {},
   "outputs": [],
   "source": [
    "# # eap_scores\n",
    "# from circuits_benchmark.utils.circuit.circuit import Circuit\n",
    "# from huggingface_hub import hf_hub_download\n",
    "# import sys\n",
    "\n",
    "# # We artificially add the following modules to avoid import errors, since some of the files were pickled before the project was refactored \n",
    "# sys.modules[\"circuits_benchmark.transformers.circuit\"] = sys.modules[\"circuits_benchmark.utils.circuit.circuit\"]\n",
    "# sys.modules[\"circuits_benchmark.transformers.circuit_node\"] = sys.modules[\"circuits_benchmark.utils.circuit.circuit_node\"]\n",
    "\n",
    "# def make_gt_circuit(task_idx):\n",
    "#     edges_file = hf_hub_download(\"cybershiptrooper/InterpBench\", subfolder=task_idx, filename=\"edges.pkl\")\n",
    "#     print(edges_file)\n",
    "#     edges = pickle.load(open(edges_file, \"rb\"))\n",
    "\n",
    "#     gt_circuit = Circuit()\n",
    "#     for edge in edges:\n",
    "#         gt_circuit.add_edge(edge[0], edge[1])\n",
    "#     return gt_circuit\n",
    "# for run in runs:\n",
    "#     gtc = make_gt_circuit(task_idx=run)\n",
    "#     print(run, gtc.nodes, gtc.edges)"
   ]
  },
  {
   "cell_type": "code",
   "execution_count": 30,
   "metadata": {},
   "outputs": [],
   "source": [
    "acdc_rocs = get_ROCs(acdc_scores, \"acdc\")\n",
    "node_sp_rocs = get_ROCs(node_sp_scores, \"node_sp\")\n",
    "edge_sp_rocs = get_ROCs(edge_sp_scores, \"edge_sp\")\n",
    "eap_rocs = get_ROCs(eap_scores, \"eap\")"
   ]
  },
  {
   "cell_type": "markdown",
   "metadata": {},
   "source": [
    "Check integrated grads"
   ]
  },
  {
   "cell_type": "code",
   "execution_count": 34,
   "metadata": {},
   "outputs": [],
   "source": [
    "node_roc_df, edge_roc_df = get_combined_roc_df_from_list([acdc_rocs, node_sp_rocs, edge_sp_rocs, eap_rocs], [\"acdc\", \"node_sp\", \"edge_sp\", \"eap\"])"
   ]
  },
  {
   "cell_type": "code",
   "execution_count": 36,
   "metadata": {},
   "outputs": [
    {
     "data": {
      "image/png": "[encoded data removed]",
      "text/plain": [
       "<Figure size 1000x500 with 2 Axes>"
      ]
     },
     "metadata": {},
     "output_type": "display_data"
    }
   ],
   "source": [
    "# make box plots for node and edge roc_auc\n",
    "import matplotlib.pyplot as plt\n",
    "fig, ax = plt.subplots(1, 2, figsize=(10, 5))\n",
    "\n",
    "node_roc_df.boxplot(ax=ax[0], \n",
    "                    column=[\"acdc\", \"node_sp\", \"edge_sp\", \"eap\"],\n",
    "                    patch_artist=True,\n",
    "                    showfliers=True,\n",
    "                    # whis=[5, 95],\n",
    "                    )\n",
    "edge_roc_df.boxplot(ax=ax[1],\n",
    "                    column=[\"acdc\", \"node_sp\", \"edge_sp\", \"eap\"],\n",
    "                    patch_artist=True,\n",
    "                    showfliers=True,\n",
    "                    # whis=[5, 95],\n",
    "                    )\n",
    "# set title\n",
    "ax[0].set_title(\"Node ROC AUC\")\n",
    "ax[1].set_title(\"Edge ROC AUC\")\n",
    "plt.savefig(\"plots/acdc_vs_node_sp_vs_edge_sp_roc_auc_boxplot.pdf\", bbox_inches='tight', dpi=600, format='pdf')"
   ]
  },
  {
   "cell_type": "code",
   "execution_count": null,
   "metadata": {},
   "outputs": [],
   "source": []
  }
 ],
 "metadata": {
  "kernelspec": {
   "display_name": ".iit",
   "language": "python",
   "name": "python3"
  },
  "language_info": {
   "codemirror_mode": {
    "name": "ipython",
    "version": 3
   },
   "file_extension": ".py",
   "mimetype": "text/x-python",
   "name": "python",
   "nbconvert_exporter": "python",
   "pygments_lexer": "ipython3",
   "version": "3.11.4"
  }
 },
 "nbformat": 4,
 "nbformat_minor": 2
}
