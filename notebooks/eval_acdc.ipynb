{
 "cells": [
  {
   "cell_type": "code",
   "execution_count": 1,
   "metadata": {},
   "outputs": [],
   "source": [
    "task = 3"
   ]
  },
  {
   "cell_type": "code",
   "execution_count": 2,
   "metadata": {},
   "outputs": [
    {
     "name": "stderr",
     "output_type": "stream",
     "text": [
      "/Users/cybershiptrooper/src/interpretability/MATS/.iit/lib/python3.11/site-packages/tqdm/auto.py:21: TqdmWarning: IProgress not found. Please update jupyter and ipywidgets. See https://ipywidgets.readthedocs.io/en/stable/user_install.html\n",
      "  from .autonotebook import tqdm as notebook_tqdm\n"
     ]
    }
   ],
   "source": [
    "# from acdc.TLACDCExperiment import TLACDCExperiment\n",
    "import pickle\n",
    "corr = pickle.load(open(\"results/acdc_3/another_final_edges.pkl\", \"rb\"))"
   ]
  },
  {
   "cell_type": "code",
   "execution_count": 3,
   "metadata": {},
   "outputs": [],
   "source": [
    "import iit.utils.index as index"
   ]
  },
  {
   "cell_type": "code",
   "execution_count": 4,
   "metadata": {},
   "outputs": [
    {
     "data": {
      "text/plain": [
       "[:]"
      ]
     },
     "execution_count": 4,
     "metadata": {},
     "output_type": "execute_result"
    }
   ],
   "source": [
    "index.TorchIndex(corr[0][0][1].as_index)"
   ]
  },
  {
   "cell_type": "code",
   "execution_count": 5,
   "metadata": {},
   "outputs": [
    {
     "data": {
      "text/plain": [
       "[(('blocks.1.hook_resid_post', [:], 'blocks.1.attn.hook_result', [:, :, 2]),\n",
       "  0.0747578777372837),\n",
       " (('blocks.1.hook_resid_post', [:], 'blocks.1.attn.hook_result', [:, :, 1]),\n",
       "  0.09008875861763954),\n",
       " (('blocks.1.attn.hook_v', [:, :, 2], 'blocks.1.hook_v_input', [:, :, 2]),\n",
       "  0.03919454291462898),\n",
       " (('blocks.1.attn.hook_v', [:, :, 1], 'blocks.1.hook_v_input', [:, :, 1]),\n",
       "  0.061149172484874725),\n",
       " (('blocks.1.hook_v_input', [:, :, 2], 'blocks.0.hook_mlp_out', [:]),\n",
       "  0.05490947142243385),\n",
       " (('blocks.1.hook_v_input', [:, :, 1], 'blocks.0.hook_mlp_out', [:]),\n",
       "  0.03585419803857803),\n",
       " (('blocks.0.hook_mlp_in', [:], 'hook_embed', [:]), 0.15206416323781013)]"
      ]
     },
     "execution_count": 5,
     "metadata": {},
     "output_type": "execute_result"
    }
   ],
   "source": [
    "corr"
   ]
  },
  {
   "cell_type": "markdown",
   "metadata": {},
   "source": [
    "tracr graph"
   ]
  },
  {
   "cell_type": "code",
   "execution_count": 6,
   "metadata": {},
   "outputs": [],
   "source": [
    "from circuits_benchmark.commands.build_main_parser import build_main_parser\n",
    "from circuits_benchmark.utils.get_cases import get_cases\n",
    "from circuits_benchmark.transformers.tracr_circuits_builder import build_tracr_circuits\n",
    "from circuits_benchmark.transformers.acdc_circuit_builder import get_full_acdc_circuit\n",
    "from iit_utils._acdc_utils import get_gt_circuit, build_acdc_circuit_from_list_corr\n",
    "import iit_utils.correspondence as correspondence\n",
    "\n",
    "args, _ = build_main_parser().parse_known_args(\n",
    "    [\n",
    "        \"compile\",\n",
    "        f\"-i={task}\",\n",
    "        \"-f\",\n",
    "    ]\n",
    ")\n",
    "\n",
    "cases = get_cases(args)\n",
    "case = cases[0]"
   ]
  },
  {
   "cell_type": "code",
   "execution_count": 7,
   "metadata": {},
   "outputs": [],
   "source": [
    "tracr_output = case.build_tracr_model()"
   ]
  },
  {
   "cell_type": "code",
   "execution_count": 8,
   "metadata": {},
   "outputs": [],
   "source": [
    "hl_ll_corr = correspondence.TracrCorrespondence.from_output(case, tracr_output)"
   ]
  },
  {
   "cell_type": "code",
   "execution_count": 9,
   "metadata": {},
   "outputs": [
    {
     "data": {
      "text/plain": [
       "{TracrHLNode(name: blocks.0.mlp.hook_post,\n",
       "  label: is_x_3,\n",
       "  classes: 0,\n",
       "  index: [:]\n",
       " ): {LLNode(name='blocks.0.mlp.hook_post', index=[:], subspace=None)},\n",
       " TracrHLNode(name: blocks.1.attn.hook_result,\n",
       "  label: frac_prevs_1,\n",
       "  classes: 0,\n",
       "  index: [:, :, 0, :]\n",
       " ): {LLNode(name='blocks.1.attn.hook_result', index=[:, :, 1:3, :], subspace=None)}}"
      ]
     },
     "execution_count": 9,
     "metadata": {},
     "output_type": "execute_result"
    }
   ],
   "source": [
    "hl_ll_corr"
   ]
  },
  {
   "cell_type": "code",
   "execution_count": 10,
   "metadata": {},
   "outputs": [],
   "source": [
    "def hook_name(loc, style) -> str:\n",
    "        layer, attn_or_mlp, unit = loc\n",
    "        assert attn_or_mlp in [\"attn\", \"mlp\"], ValueError(f\"Unknown attn_or_mlp {attn_or_mlp}\")\n",
    "        if style == \"tl\":\n",
    "            return f\"blocks.{layer}.{attn_or_mlp}.{'hook_result' if attn_or_mlp == 'attn' else 'hook_post'}\"\n",
    "        elif style == \"wrapper\":\n",
    "            return f\"mod.blocks.{loc}.mod.{attn_or_mlp}.hook_point\"\n",
    "        else:\n",
    "            raise ValueError(f\"Unknown style {style}\")\n",
    "\n",
    "def idx(loc):\n",
    "    _, attn_or_mlp, unit = loc\n",
    "    if isinstance(unit, index.TorchIndex):\n",
    "        return unit\n",
    "    assert attn_or_mlp in [\"attn\", \"mlp\"], ValueError(f\"Unknown attn_or_mlp {attn_or_mlp}\")\n",
    "    if attn_or_mlp == \"attn\":\n",
    "        return index.Ix[:, :, unit, :]\n",
    "    assert unit is None\n",
    "    return index.Ix[[None]]"
   ]
  },
  {
   "cell_type": "code",
   "execution_count": 11,
   "metadata": {},
   "outputs": [
    {
     "data": {
      "text/plain": [
       "([('select_2', 'frac_prevs_1'),\n",
       "  ('is_x_3', 'frac_prevs_1'),\n",
       "  ('indices', 'select_2'),\n",
       "  ('tokens', 'is_x_3')],\n",
       " ['frac_prevs_1', 'select_2', 'is_x_3', 'indices', 'tokens'])"
      ]
     },
     "execution_count": 11,
     "metadata": {},
     "output_type": "execute_result"
    }
   ],
   "source": [
    "tracr_edges = list(tracr_output.graph.edges)\n",
    "tracr_nodes = list(tracr_output.graph.nodes)\n",
    "tracr_edges, tracr_nodes"
   ]
  },
  {
   "cell_type": "code",
   "execution_count": 12,
   "metadata": {},
   "outputs": [
    {
     "name": "stdout",
     "output_type": "stream",
     "text": [
      "[['blocks.0.mlp.hook_post', [:], 'blocks.1.attn.hook_result', [:, :, 1:3, :]]]\n"
     ]
    }
   ],
   "source": [
    "ll_edges = correspondence.make_edge_corr(tracr_edges, hl_ll_corr)\n",
    "print([list(ll_edge) for ll_edge in ll_edges])"
   ]
  },
  {
   "cell_type": "code",
   "execution_count": 13,
   "metadata": {},
   "outputs": [],
   "source": [
    "tracr_labels_circuit, tracr_circuit, tracr_alignment = build_tracr_circuits(tracr_output.graph, tracr_output.craft_model, granularity=\"acdc_hooks\")"
   ]
  },
  {
   "cell_type": "code",
   "execution_count": 14,
   "metadata": {},
   "outputs": [
    {
     "data": {
      "text/plain": [
       "('blocks.1.hook_q_input', 0)"
      ]
     },
     "execution_count": 14,
     "metadata": {},
     "output_type": "execute_result"
    }
   ],
   "source": [
    "list(tracr_circuit.edges)[5][0].name, list(tracr_circuit.edges)[5][0].index"
   ]
  },
  {
   "cell_type": "code",
   "execution_count": 15,
   "metadata": {},
   "outputs": [
    {
     "data": {
      "text/plain": [
       "[(hook_embed, blocks.0.hook_mlp_in),\n",
       " (hook_pos_embed, blocks.1.hook_q_input[0]),\n",
       " (hook_pos_embed, blocks.1.hook_k_input[0]),\n",
       " (blocks.0.hook_mlp_in, blocks.0.hook_mlp_out),\n",
       " (blocks.0.hook_mlp_out, blocks.1.hook_v_input[0]),\n",
       " (blocks.1.hook_q_input[0], blocks.1.attn.hook_q[0]),\n",
       " (blocks.1.hook_k_input[0], blocks.1.attn.hook_k[0]),\n",
       " (blocks.1.hook_v_input[0], blocks.1.attn.hook_v[0]),\n",
       " (blocks.1.attn.hook_q[0], blocks.1.attn.hook_result[0]),\n",
       " (blocks.1.attn.hook_k[0], blocks.1.attn.hook_result[0]),\n",
       " (blocks.1.attn.hook_v[0], blocks.1.attn.hook_result[0]),\n",
       " (blocks.1.attn.hook_result[0], blocks.1.hook_resid_post)]"
      ]
     },
     "execution_count": 15,
     "metadata": {},
     "output_type": "execute_result"
    }
   ],
   "source": [
    "list(tracr_circuit.edges)"
   ]
  },
  {
   "cell_type": "code",
   "execution_count": 16,
   "metadata": {},
   "outputs": [
    {
     "data": {
      "text/plain": [
       "([hook_embed,\n",
       "  hook_pos_embed,\n",
       "  blocks.0.hook_q_input[0],\n",
       "  blocks.0.attn.hook_q[0],\n",
       "  blocks.0.hook_k_input[0],\n",
       "  blocks.0.attn.hook_k[0],\n",
       "  blocks.0.hook_v_input[0],\n",
       "  blocks.0.attn.hook_v[0],\n",
       "  blocks.0.attn.hook_result[0],\n",
       "  blocks.0.hook_q_input[1],\n",
       "  blocks.0.attn.hook_q[1],\n",
       "  blocks.0.hook_k_input[1],\n",
       "  blocks.0.attn.hook_k[1],\n",
       "  blocks.0.hook_v_input[1],\n",
       "  blocks.0.attn.hook_v[1],\n",
       "  blocks.0.attn.hook_result[1],\n",
       "  blocks.0.hook_q_input[2],\n",
       "  blocks.0.attn.hook_q[2],\n",
       "  blocks.0.hook_k_input[2],\n",
       "  blocks.0.attn.hook_k[2],\n",
       "  blocks.0.hook_v_input[2],\n",
       "  blocks.0.attn.hook_v[2],\n",
       "  blocks.0.attn.hook_result[2],\n",
       "  blocks.0.hook_q_input[3],\n",
       "  blocks.0.attn.hook_q[3],\n",
       "  blocks.0.hook_k_input[3],\n",
       "  blocks.0.attn.hook_k[3],\n",
       "  blocks.0.hook_v_input[3],\n",
       "  blocks.0.attn.hook_v[3],\n",
       "  blocks.0.attn.hook_result[3],\n",
       "  blocks.0.hook_mlp_in,\n",
       "  blocks.0.hook_mlp_out,\n",
       "  blocks.1.hook_q_input[0],\n",
       "  blocks.1.attn.hook_q[0],\n",
       "  blocks.1.hook_k_input[0],\n",
       "  blocks.1.attn.hook_k[0],\n",
       "  blocks.1.hook_v_input[0],\n",
       "  blocks.1.attn.hook_v[0],\n",
       "  blocks.1.attn.hook_result[0],\n",
       "  blocks.1.hook_q_input[1],\n",
       "  blocks.1.attn.hook_q[1],\n",
       "  blocks.1.hook_k_input[1],\n",
       "  blocks.1.attn.hook_k[1],\n",
       "  blocks.1.hook_v_input[1],\n",
       "  blocks.1.attn.hook_v[1],\n",
       "  blocks.1.attn.hook_result[1],\n",
       "  blocks.1.hook_q_input[2],\n",
       "  blocks.1.attn.hook_q[2],\n",
       "  blocks.1.hook_k_input[2],\n",
       "  blocks.1.attn.hook_k[2],\n",
       "  blocks.1.hook_v_input[2],\n",
       "  blocks.1.attn.hook_v[2],\n",
       "  blocks.1.attn.hook_result[2],\n",
       "  blocks.1.hook_q_input[3],\n",
       "  blocks.1.attn.hook_q[3],\n",
       "  blocks.1.hook_k_input[3],\n",
       "  blocks.1.attn.hook_k[3],\n",
       "  blocks.1.hook_v_input[3],\n",
       "  blocks.1.attn.hook_v[3],\n",
       "  blocks.1.attn.hook_result[3],\n",
       "  blocks.1.hook_mlp_in,\n",
       "  blocks.1.hook_mlp_out,\n",
       "  blocks.1.hook_resid_post],\n",
       " [(hook_embed, blocks.0.hook_q_input[0]),\n",
       "  (hook_embed, blocks.0.hook_k_input[0]),\n",
       "  (hook_embed, blocks.0.hook_v_input[0]),\n",
       "  (hook_embed, blocks.0.hook_q_input[1]),\n",
       "  (hook_embed, blocks.0.hook_k_input[1]),\n",
       "  (hook_embed, blocks.0.hook_v_input[1]),\n",
       "  (hook_embed, blocks.0.hook_q_input[2]),\n",
       "  (hook_embed, blocks.0.hook_k_input[2]),\n",
       "  (hook_embed, blocks.0.hook_v_input[2]),\n",
       "  (hook_embed, blocks.0.hook_q_input[3]),\n",
       "  (hook_embed, blocks.0.hook_k_input[3]),\n",
       "  (hook_embed, blocks.0.hook_v_input[3]),\n",
       "  (hook_embed, blocks.0.hook_mlp_in),\n",
       "  (hook_embed, blocks.1.hook_q_input[0]),\n",
       "  (hook_embed, blocks.1.hook_k_input[0]),\n",
       "  (hook_embed, blocks.1.hook_v_input[0]),\n",
       "  (hook_embed, blocks.1.hook_q_input[1]),\n",
       "  (hook_embed, blocks.1.hook_k_input[1]),\n",
       "  (hook_embed, blocks.1.hook_v_input[1]),\n",
       "  (hook_embed, blocks.1.hook_q_input[2]),\n",
       "  (hook_embed, blocks.1.hook_k_input[2]),\n",
       "  (hook_embed, blocks.1.hook_v_input[2]),\n",
       "  (hook_embed, blocks.1.hook_q_input[3]),\n",
       "  (hook_embed, blocks.1.hook_k_input[3]),\n",
       "  (hook_embed, blocks.1.hook_v_input[3]),\n",
       "  (hook_embed, blocks.1.hook_mlp_in),\n",
       "  (hook_embed, blocks.1.hook_resid_post),\n",
       "  (hook_pos_embed, blocks.0.hook_q_input[0]),\n",
       "  (hook_pos_embed, blocks.0.hook_k_input[0]),\n",
       "  (hook_pos_embed, blocks.0.hook_v_input[0]),\n",
       "  (hook_pos_embed, blocks.0.hook_q_input[1]),\n",
       "  (hook_pos_embed, blocks.0.hook_k_input[1]),\n",
       "  (hook_pos_embed, blocks.0.hook_v_input[1]),\n",
       "  (hook_pos_embed, blocks.0.hook_q_input[2]),\n",
       "  (hook_pos_embed, blocks.0.hook_k_input[2]),\n",
       "  (hook_pos_embed, blocks.0.hook_v_input[2]),\n",
       "  (hook_pos_embed, blocks.0.hook_q_input[3]),\n",
       "  (hook_pos_embed, blocks.0.hook_k_input[3]),\n",
       "  (hook_pos_embed, blocks.0.hook_v_input[3]),\n",
       "  (hook_pos_embed, blocks.0.hook_mlp_in),\n",
       "  (hook_pos_embed, blocks.1.hook_q_input[0]),\n",
       "  (hook_pos_embed, blocks.1.hook_k_input[0]),\n",
       "  (hook_pos_embed, blocks.1.hook_v_input[0]),\n",
       "  (hook_pos_embed, blocks.1.hook_q_input[1]),\n",
       "  (hook_pos_embed, blocks.1.hook_k_input[1]),\n",
       "  (hook_pos_embed, blocks.1.hook_v_input[1]),\n",
       "  (hook_pos_embed, blocks.1.hook_q_input[2]),\n",
       "  (hook_pos_embed, blocks.1.hook_k_input[2]),\n",
       "  (hook_pos_embed, blocks.1.hook_v_input[2]),\n",
       "  (hook_pos_embed, blocks.1.hook_q_input[3]),\n",
       "  (hook_pos_embed, blocks.1.hook_k_input[3]),\n",
       "  (hook_pos_embed, blocks.1.hook_v_input[3]),\n",
       "  (hook_pos_embed, blocks.1.hook_mlp_in),\n",
       "  (hook_pos_embed, blocks.1.hook_resid_post),\n",
       "  (blocks.0.hook_q_input[0], blocks.0.attn.hook_q[0]),\n",
       "  (blocks.0.attn.hook_q[0], blocks.0.attn.hook_result[0]),\n",
       "  (blocks.0.hook_k_input[0], blocks.0.attn.hook_k[0]),\n",
       "  (blocks.0.attn.hook_k[0], blocks.0.attn.hook_result[0]),\n",
       "  (blocks.0.hook_v_input[0], blocks.0.attn.hook_v[0]),\n",
       "  (blocks.0.attn.hook_v[0], blocks.0.attn.hook_result[0]),\n",
       "  (blocks.0.attn.hook_result[0], blocks.0.hook_mlp_in),\n",
       "  (blocks.0.attn.hook_result[0], blocks.1.hook_q_input[0]),\n",
       "  (blocks.0.attn.hook_result[0], blocks.1.hook_k_input[0]),\n",
       "  (blocks.0.attn.hook_result[0], blocks.1.hook_v_input[0]),\n",
       "  (blocks.0.attn.hook_result[0], blocks.1.hook_q_input[1]),\n",
       "  (blocks.0.attn.hook_result[0], blocks.1.hook_k_input[1]),\n",
       "  (blocks.0.attn.hook_result[0], blocks.1.hook_v_input[1]),\n",
       "  (blocks.0.attn.hook_result[0], blocks.1.hook_q_input[2]),\n",
       "  (blocks.0.attn.hook_result[0], blocks.1.hook_k_input[2]),\n",
       "  (blocks.0.attn.hook_result[0], blocks.1.hook_v_input[2]),\n",
       "  (blocks.0.attn.hook_result[0], blocks.1.hook_q_input[3]),\n",
       "  (blocks.0.attn.hook_result[0], blocks.1.hook_k_input[3]),\n",
       "  (blocks.0.attn.hook_result[0], blocks.1.hook_v_input[3]),\n",
       "  (blocks.0.attn.hook_result[0], blocks.1.hook_mlp_in),\n",
       "  (blocks.0.attn.hook_result[0], blocks.1.hook_resid_post),\n",
       "  (blocks.0.hook_q_input[1], blocks.0.attn.hook_q[1]),\n",
       "  (blocks.0.attn.hook_q[1], blocks.0.attn.hook_result[1]),\n",
       "  (blocks.0.hook_k_input[1], blocks.0.attn.hook_k[1]),\n",
       "  (blocks.0.attn.hook_k[1], blocks.0.attn.hook_result[1]),\n",
       "  (blocks.0.hook_v_input[1], blocks.0.attn.hook_v[1]),\n",
       "  (blocks.0.attn.hook_v[1], blocks.0.attn.hook_result[1]),\n",
       "  (blocks.0.attn.hook_result[1], blocks.0.hook_mlp_in),\n",
       "  (blocks.0.attn.hook_result[1], blocks.1.hook_q_input[0]),\n",
       "  (blocks.0.attn.hook_result[1], blocks.1.hook_k_input[0]),\n",
       "  (blocks.0.attn.hook_result[1], blocks.1.hook_v_input[0]),\n",
       "  (blocks.0.attn.hook_result[1], blocks.1.hook_q_input[1]),\n",
       "  (blocks.0.attn.hook_result[1], blocks.1.hook_k_input[1]),\n",
       "  (blocks.0.attn.hook_result[1], blocks.1.hook_v_input[1]),\n",
       "  (blocks.0.attn.hook_result[1], blocks.1.hook_q_input[2]),\n",
       "  (blocks.0.attn.hook_result[1], blocks.1.hook_k_input[2]),\n",
       "  (blocks.0.attn.hook_result[1], blocks.1.hook_v_input[2]),\n",
       "  (blocks.0.attn.hook_result[1], blocks.1.hook_q_input[3]),\n",
       "  (blocks.0.attn.hook_result[1], blocks.1.hook_k_input[3]),\n",
       "  (blocks.0.attn.hook_result[1], blocks.1.hook_v_input[3]),\n",
       "  (blocks.0.attn.hook_result[1], blocks.1.hook_mlp_in),\n",
       "  (blocks.0.attn.hook_result[1], blocks.1.hook_resid_post),\n",
       "  (blocks.0.hook_q_input[2], blocks.0.attn.hook_q[2]),\n",
       "  (blocks.0.attn.hook_q[2], blocks.0.attn.hook_result[2]),\n",
       "  (blocks.0.hook_k_input[2], blocks.0.attn.hook_k[2]),\n",
       "  (blocks.0.attn.hook_k[2], blocks.0.attn.hook_result[2]),\n",
       "  (blocks.0.hook_v_input[2], blocks.0.attn.hook_v[2]),\n",
       "  (blocks.0.attn.hook_v[2], blocks.0.attn.hook_result[2]),\n",
       "  (blocks.0.attn.hook_result[2], blocks.0.hook_mlp_in),\n",
       "  (blocks.0.attn.hook_result[2], blocks.1.hook_q_input[0]),\n",
       "  (blocks.0.attn.hook_result[2], blocks.1.hook_k_input[0]),\n",
       "  (blocks.0.attn.hook_result[2], blocks.1.hook_v_input[0]),\n",
       "  (blocks.0.attn.hook_result[2], blocks.1.hook_q_input[1]),\n",
       "  (blocks.0.attn.hook_result[2], blocks.1.hook_k_input[1]),\n",
       "  (blocks.0.attn.hook_result[2], blocks.1.hook_v_input[1]),\n",
       "  (blocks.0.attn.hook_result[2], blocks.1.hook_q_input[2]),\n",
       "  (blocks.0.attn.hook_result[2], blocks.1.hook_k_input[2]),\n",
       "  (blocks.0.attn.hook_result[2], blocks.1.hook_v_input[2]),\n",
       "  (blocks.0.attn.hook_result[2], blocks.1.hook_q_input[3]),\n",
       "  (blocks.0.attn.hook_result[2], blocks.1.hook_k_input[3]),\n",
       "  (blocks.0.attn.hook_result[2], blocks.1.hook_v_input[3]),\n",
       "  (blocks.0.attn.hook_result[2], blocks.1.hook_mlp_in),\n",
       "  (blocks.0.attn.hook_result[2], blocks.1.hook_resid_post),\n",
       "  (blocks.0.hook_q_input[3], blocks.0.attn.hook_q[3]),\n",
       "  (blocks.0.attn.hook_q[3], blocks.0.attn.hook_result[3]),\n",
       "  (blocks.0.hook_k_input[3], blocks.0.attn.hook_k[3]),\n",
       "  (blocks.0.attn.hook_k[3], blocks.0.attn.hook_result[3]),\n",
       "  (blocks.0.hook_v_input[3], blocks.0.attn.hook_v[3]),\n",
       "  (blocks.0.attn.hook_v[3], blocks.0.attn.hook_result[3]),\n",
       "  (blocks.0.attn.hook_result[3], blocks.0.hook_mlp_in),\n",
       "  (blocks.0.attn.hook_result[3], blocks.1.hook_q_input[0]),\n",
       "  (blocks.0.attn.hook_result[3], blocks.1.hook_k_input[0]),\n",
       "  (blocks.0.attn.hook_result[3], blocks.1.hook_v_input[0]),\n",
       "  (blocks.0.attn.hook_result[3], blocks.1.hook_q_input[1]),\n",
       "  (blocks.0.attn.hook_result[3], blocks.1.hook_k_input[1]),\n",
       "  (blocks.0.attn.hook_result[3], blocks.1.hook_v_input[1]),\n",
       "  (blocks.0.attn.hook_result[3], blocks.1.hook_q_input[2]),\n",
       "  (blocks.0.attn.hook_result[3], blocks.1.hook_k_input[2]),\n",
       "  (blocks.0.attn.hook_result[3], blocks.1.hook_v_input[2]),\n",
       "  (blocks.0.attn.hook_result[3], blocks.1.hook_q_input[3]),\n",
       "  (blocks.0.attn.hook_result[3], blocks.1.hook_k_input[3]),\n",
       "  (blocks.0.attn.hook_result[3], blocks.1.hook_v_input[3]),\n",
       "  (blocks.0.attn.hook_result[3], blocks.1.hook_mlp_in),\n",
       "  (blocks.0.attn.hook_result[3], blocks.1.hook_resid_post),\n",
       "  (blocks.0.hook_mlp_in, blocks.0.hook_mlp_out),\n",
       "  (blocks.1.hook_q_input[0], blocks.1.attn.hook_q[0]),\n",
       "  (blocks.1.attn.hook_q[0], blocks.1.attn.hook_result[0]),\n",
       "  (blocks.1.hook_k_input[0], blocks.1.attn.hook_k[0]),\n",
       "  (blocks.1.attn.hook_k[0], blocks.1.attn.hook_result[0]),\n",
       "  (blocks.1.hook_v_input[0], blocks.1.attn.hook_v[0]),\n",
       "  (blocks.1.attn.hook_v[0], blocks.1.attn.hook_result[0]),\n",
       "  (blocks.1.attn.hook_result[0], blocks.1.hook_mlp_in),\n",
       "  (blocks.1.attn.hook_result[0], blocks.1.hook_resid_post),\n",
       "  (blocks.1.hook_q_input[1], blocks.1.attn.hook_q[1]),\n",
       "  (blocks.1.attn.hook_q[1], blocks.1.attn.hook_result[1]),\n",
       "  (blocks.1.hook_k_input[1], blocks.1.attn.hook_k[1]),\n",
       "  (blocks.1.attn.hook_k[1], blocks.1.attn.hook_result[1]),\n",
       "  (blocks.1.hook_v_input[1], blocks.1.attn.hook_v[1]),\n",
       "  (blocks.1.attn.hook_v[1], blocks.1.attn.hook_result[1]),\n",
       "  (blocks.1.attn.hook_result[1], blocks.1.hook_mlp_in),\n",
       "  (blocks.1.attn.hook_result[1], blocks.1.hook_resid_post),\n",
       "  (blocks.1.hook_q_input[2], blocks.1.attn.hook_q[2]),\n",
       "  (blocks.1.attn.hook_q[2], blocks.1.attn.hook_result[2]),\n",
       "  (blocks.1.hook_k_input[2], blocks.1.attn.hook_k[2]),\n",
       "  (blocks.1.attn.hook_k[2], blocks.1.attn.hook_result[2]),\n",
       "  (blocks.1.hook_v_input[2], blocks.1.attn.hook_v[2]),\n",
       "  (blocks.1.attn.hook_v[2], blocks.1.attn.hook_result[2]),\n",
       "  (blocks.1.attn.hook_result[2], blocks.1.hook_mlp_in),\n",
       "  (blocks.1.attn.hook_result[2], blocks.1.hook_resid_post),\n",
       "  (blocks.1.hook_q_input[3], blocks.1.attn.hook_q[3]),\n",
       "  (blocks.1.attn.hook_q[3], blocks.1.attn.hook_result[3]),\n",
       "  (blocks.1.hook_k_input[3], blocks.1.attn.hook_k[3]),\n",
       "  (blocks.1.attn.hook_k[3], blocks.1.attn.hook_result[3]),\n",
       "  (blocks.1.hook_v_input[3], blocks.1.attn.hook_v[3]),\n",
       "  (blocks.1.attn.hook_v[3], blocks.1.attn.hook_result[3]),\n",
       "  (blocks.1.attn.hook_result[3], blocks.1.hook_mlp_in),\n",
       "  (blocks.1.attn.hook_result[3], blocks.1.hook_resid_post),\n",
       "  (blocks.1.hook_mlp_in, blocks.1.hook_mlp_out)])"
      ]
     },
     "execution_count": 16,
     "metadata": {},
     "output_type": "execute_result"
    }
   ],
   "source": [
    "full_circuit = get_full_acdc_circuit(2, 4)\n",
    "list(full_circuit.nodes), list(full_circuit.edges)"
   ]
  },
  {
   "cell_type": "code",
   "execution_count": null,
   "metadata": {},
   "outputs": [],
   "source": []
  },
  {
   "cell_type": "code",
   "execution_count": 17,
   "metadata": {},
   "outputs": [
    {
     "data": {
      "text/plain": [
       "([hook_embed,\n",
       "  hook_pos_embed,\n",
       "  blocks.0.hook_mlp_in,\n",
       "  blocks.0.hook_mlp_out,\n",
       "  blocks.1.hook_q_input[1],\n",
       "  blocks.1.attn.hook_q[1],\n",
       "  blocks.1.hook_k_input[1],\n",
       "  blocks.1.attn.hook_k[1],\n",
       "  blocks.1.hook_v_input[1],\n",
       "  blocks.1.attn.hook_v[1],\n",
       "  blocks.1.attn.hook_result[1],\n",
       "  blocks.1.hook_q_input[2],\n",
       "  blocks.1.attn.hook_q[2],\n",
       "  blocks.1.hook_k_input[2],\n",
       "  blocks.1.attn.hook_k[2],\n",
       "  blocks.1.hook_v_input[2],\n",
       "  blocks.1.attn.hook_v[2],\n",
       "  blocks.1.attn.hook_result[2],\n",
       "  blocks.1.hook_resid_post],\n",
       " [(hook_embed, blocks.0.hook_mlp_in),\n",
       "  (hook_embed, blocks.1.hook_q_input[1]),\n",
       "  (hook_embed, blocks.1.hook_k_input[1]),\n",
       "  (hook_embed, blocks.1.hook_v_input[1]),\n",
       "  (hook_embed, blocks.1.hook_q_input[2]),\n",
       "  (hook_embed, blocks.1.hook_k_input[2]),\n",
       "  (hook_embed, blocks.1.hook_v_input[2]),\n",
       "  (hook_embed, blocks.1.hook_resid_post),\n",
       "  (hook_pos_embed, blocks.0.hook_mlp_in),\n",
       "  (hook_pos_embed, blocks.1.hook_q_input[1]),\n",
       "  (hook_pos_embed, blocks.1.hook_k_input[1]),\n",
       "  (hook_pos_embed, blocks.1.hook_v_input[1]),\n",
       "  (hook_pos_embed, blocks.1.hook_q_input[2]),\n",
       "  (hook_pos_embed, blocks.1.hook_k_input[2]),\n",
       "  (hook_pos_embed, blocks.1.hook_v_input[2]),\n",
       "  (hook_pos_embed, blocks.1.hook_resid_post),\n",
       "  (blocks.0.hook_mlp_in, blocks.0.hook_mlp_out),\n",
       "  (blocks.1.hook_q_input[1], blocks.1.attn.hook_q[1]),\n",
       "  (blocks.1.attn.hook_q[1], blocks.1.attn.hook_result[1]),\n",
       "  (blocks.1.hook_k_input[1], blocks.1.attn.hook_k[1]),\n",
       "  (blocks.1.attn.hook_k[1], blocks.1.attn.hook_result[1]),\n",
       "  (blocks.1.hook_v_input[1], blocks.1.attn.hook_v[1]),\n",
       "  (blocks.1.attn.hook_v[1], blocks.1.attn.hook_result[1]),\n",
       "  (blocks.1.attn.hook_result[1], blocks.1.hook_resid_post),\n",
       "  (blocks.1.hook_q_input[2], blocks.1.attn.hook_q[2]),\n",
       "  (blocks.1.attn.hook_q[2], blocks.1.attn.hook_result[2]),\n",
       "  (blocks.1.hook_k_input[2], blocks.1.attn.hook_k[2]),\n",
       "  (blocks.1.attn.hook_k[2], blocks.1.attn.hook_result[2]),\n",
       "  (blocks.1.hook_v_input[2], blocks.1.attn.hook_v[2]),\n",
       "  (blocks.1.attn.hook_v[2], blocks.1.attn.hook_result[2]),\n",
       "  (blocks.1.attn.hook_result[2], blocks.1.hook_resid_post)])"
      ]
     },
     "execution_count": 17,
     "metadata": {},
     "output_type": "execute_result"
    }
   ],
   "source": [
    "gt_circuit = get_gt_circuit(hl_ll_corr, full_circuit)\n",
    "list(gt_circuit.nodes), list(gt_circuit.edges)"
   ]
  },
  {
   "cell_type": "code",
   "execution_count": 18,
   "metadata": {},
   "outputs": [
    {
     "name": "stdout",
     "output_type": "stream",
     "text": [
      "\n",
      "Summary:\n",
      " - Nodes TP rate: 0.5263157894736842\n",
      " - Nodes FP rate: 0.0\n",
      " - Edges TP rate: 0.16129032258064516\n",
      " - Edges FP rate: 0.013986013986013986\n"
     ]
    }
   ],
   "source": [
    "from iit_utils.acdc_eval import calculate_fpr_and_tpr\n",
    "\n",
    "acdc_circuit = build_acdc_circuit_from_list_corr(corr)\n",
    "result = calculate_fpr_and_tpr(acdc_circuit, gt_circuit, full_circuit)"
   ]
  },
  {
   "cell_type": "code",
   "execution_count": 19,
   "metadata": {},
   "outputs": [
    {
     "data": {
      "text/plain": [
       "([(blocks.1.attn.hook_result[2], blocks.1.hook_resid_post),\n",
       "  (blocks.1.attn.hook_result[1], blocks.1.hook_resid_post),\n",
       "  (blocks.1.hook_v_input[2], blocks.1.attn.hook_v[2]),\n",
       "  (blocks.1.hook_v_input[1], blocks.1.attn.hook_v[1]),\n",
       "  (blocks.0.hook_mlp_out, blocks.1.hook_v_input[2]),\n",
       "  (blocks.0.hook_mlp_out, blocks.1.hook_v_input[1]),\n",
       "  (hook_embed, blocks.0.hook_mlp_in)],\n",
       " [(hook_embed, blocks.0.hook_mlp_in),\n",
       "  (hook_embed, blocks.1.hook_q_input[1]),\n",
       "  (hook_embed, blocks.1.hook_k_input[1]),\n",
       "  (hook_embed, blocks.1.hook_v_input[1]),\n",
       "  (hook_embed, blocks.1.hook_q_input[2]),\n",
       "  (hook_embed, blocks.1.hook_k_input[2]),\n",
       "  (hook_embed, blocks.1.hook_v_input[2]),\n",
       "  (hook_embed, blocks.1.hook_resid_post),\n",
       "  (hook_pos_embed, blocks.0.hook_mlp_in),\n",
       "  (hook_pos_embed, blocks.1.hook_q_input[1]),\n",
       "  (hook_pos_embed, blocks.1.hook_k_input[1]),\n",
       "  (hook_pos_embed, blocks.1.hook_v_input[1]),\n",
       "  (hook_pos_embed, blocks.1.hook_q_input[2]),\n",
       "  (hook_pos_embed, blocks.1.hook_k_input[2]),\n",
       "  (hook_pos_embed, blocks.1.hook_v_input[2]),\n",
       "  (hook_pos_embed, blocks.1.hook_resid_post),\n",
       "  (blocks.0.hook_mlp_in, blocks.0.hook_mlp_out),\n",
       "  (blocks.1.hook_q_input[1], blocks.1.attn.hook_q[1]),\n",
       "  (blocks.1.attn.hook_q[1], blocks.1.attn.hook_result[1]),\n",
       "  (blocks.1.hook_k_input[1], blocks.1.attn.hook_k[1]),\n",
       "  (blocks.1.attn.hook_k[1], blocks.1.attn.hook_result[1]),\n",
       "  (blocks.1.hook_v_input[1], blocks.1.attn.hook_v[1]),\n",
       "  (blocks.1.attn.hook_v[1], blocks.1.attn.hook_result[1]),\n",
       "  (blocks.1.attn.hook_result[1], blocks.1.hook_resid_post),\n",
       "  (blocks.1.hook_q_input[2], blocks.1.attn.hook_q[2]),\n",
       "  (blocks.1.attn.hook_q[2], blocks.1.attn.hook_result[2]),\n",
       "  (blocks.1.hook_k_input[2], blocks.1.attn.hook_k[2]),\n",
       "  (blocks.1.attn.hook_k[2], blocks.1.attn.hook_result[2]),\n",
       "  (blocks.1.hook_v_input[2], blocks.1.attn.hook_v[2]),\n",
       "  (blocks.1.attn.hook_v[2], blocks.1.attn.hook_result[2]),\n",
       "  (blocks.1.attn.hook_result[2], blocks.1.hook_resid_post)])"
      ]
     },
     "execution_count": 19,
     "metadata": {},
     "output_type": "execute_result"
    }
   ],
   "source": [
    "list(acdc_circuit.edges), list(gt_circuit.edges)"
   ]
  },
  {
   "cell_type": "code",
   "execution_count": null,
   "metadata": {},
   "outputs": [],
   "source": []
  }
 ],
 "metadata": {
  "kernelspec": {
   "display_name": ".iit",
   "language": "python",
   "name": "python3"
  },
  "language_info": {
   "codemirror_mode": {
    "name": "ipython",
    "version": 3
   },
   "file_extension": ".py",
   "mimetype": "text/x-python",
   "name": "python",
   "nbconvert_exporter": "python",
   "pygments_lexer": "ipython3",
   "version": "3.11.4"
  }
 },
 "nbformat": 4,
 "nbformat_minor": 2
}
