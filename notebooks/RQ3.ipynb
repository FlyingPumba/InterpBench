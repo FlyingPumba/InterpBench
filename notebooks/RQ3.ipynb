{
 "cells": [
  {
   "cell_type": "code",
   "execution_count": 4,
   "metadata": {},
   "outputs": [],
   "source": [
    "from utils.plotter import get_roc_curves_from_df\n",
    "from utils.wandb_calls import fetch_files_from_runs\n",
    "from utils import bad_runs\n",
    "import os\n",
    "import pandas as pd\n",
    "import pickle\n",
    "import shutil"
   ]
  },
  {
   "cell_type": "markdown",
   "metadata": {},
   "source": [
    "### Download"
   ]
  },
  {
   "cell_type": "code",
   "execution_count": 23,
   "metadata": {},
   "outputs": [],
   "source": [
    "for folder in os.listdir(\"./results/\"):\n",
    "    if \"acdc\" in folder or \"sp\" in folder:\n",
    "        shutil.rmtree(f\"./results/{folder}\")\n"
   ]
  },
  {
   "cell_type": "code",
   "execution_count": 24,
   "metadata": {},
   "outputs": [
    {
     "name": "stderr",
     "output_type": "stream",
     "text": [
      "100%|██████████| 735/735 [02:41<00:00,  4.56it/s]\n"
     ]
    }
   ],
   "source": [
    "project = \"circuit_discovery\"\n",
    "# group = \"acdc\"\n",
    "files_to_fetch = [\"result.pkl\"]\n",
    "fetch_files_from_runs(project, \"\", files_to_fetch)"
   ]
  },
  {
   "cell_type": "markdown",
   "metadata": {},
   "source": [
    "### Process"
   ]
  },
  {
   "cell_type": "code",
   "execution_count": 2,
   "metadata": {},
   "outputs": [
    {
     "name": "stdout",
     "output_type": "stream",
     "text": [
      "results/acdc_3/weight_510\n",
      "results/acdc_4/weight_510\n",
      "Skipping 4\n",
      "Skipping 4\n",
      "Skipping 4\n",
      "Skipping 4\n",
      "Skipping 4\n",
      "Skipping 4\n",
      "Skipping 4\n",
      "Skipping 4\n",
      "Skipping 4\n",
      "Skipping 4\n",
      "Skipping 4\n",
      "Skipping 4\n",
      "Skipping 4\n",
      "Skipping 4\n",
      "Skipping 4\n",
      "Skipping 4\n",
      "results/acdc_11/weight_510\n",
      "results/acdc_16/weight_510\n",
      "Skipping 16\n",
      "Skipping 16\n",
      "Skipping 16\n",
      "Skipping 16\n",
      "Skipping 16\n",
      "Skipping 16\n",
      "Skipping 16\n",
      "Skipping 16\n",
      "Skipping 16\n",
      "Skipping 16\n",
      "Skipping 16\n",
      "Skipping 16\n",
      "Skipping 16\n",
      "Skipping 16\n",
      "Skipping 16\n",
      "Skipping 16\n",
      "results/acdc_21/weight_510\n",
      "results/acdc_38/weight_510\n",
      "Skipping 38\n",
      "Skipping 38\n",
      "Skipping 38\n",
      "Skipping 38\n",
      "Skipping 38\n",
      "Skipping 38\n",
      "Skipping 38\n",
      "Skipping 38\n",
      "Skipping 38\n",
      "Skipping 38\n",
      "Skipping 38\n",
      "Skipping 38\n",
      "Skipping 38\n",
      "Skipping 38\n",
      "Skipping 38\n",
      "Skipping 38\n",
      "results/acdc_8/weight_510\n",
      "results/acdc_24/weight_510\n",
      "results/acdc_13/weight_510\n",
      "results/node_sp_8/weight_510\n",
      "results/node_sp_11/weight_510\n",
      "results/node_sp_16/weight_510\n",
      "Skipping 16\n",
      "Skipping 16\n",
      "Skipping 16\n",
      "Skipping 16\n",
      "Skipping 16\n",
      "Skipping 16\n",
      "Skipping 16\n",
      "Skipping 16\n",
      "Skipping 16\n",
      "Skipping 16\n",
      "Skipping 16\n",
      "Skipping 16\n",
      "Skipping 16\n",
      "Skipping 16\n",
      "Skipping 16\n",
      "Skipping 16\n",
      "results/node_sp_21/weight_510\n",
      "results/node_sp_38/weight_510\n",
      "Skipping 38\n",
      "Skipping 38\n",
      "Skipping 38\n",
      "Skipping 38\n",
      "Skipping 38\n",
      "Skipping 38\n",
      "Skipping 38\n",
      "Skipping 38\n",
      "Skipping 38\n",
      "Skipping 38\n",
      "Skipping 38\n",
      "Skipping 38\n",
      "Skipping 38\n",
      "Skipping 38\n",
      "Skipping 38\n",
      "Skipping 38\n",
      "results/node_sp_3/weight_510\n",
      "results/node_sp_24/weight_510\n",
      "results/node_sp_13/weight_510\n"
     ]
    },
    {
     "name": "stderr",
     "output_type": "stream",
     "text": [
      "/Users/cybershiptrooper/src/interpretability/MATS/circuits-benchmark/notebooks/utils/get_circuit_discovery_scores.py:21: FutureWarning: The behavior of DataFrame concatenation with empty or all-NA entries is deprecated. In a future version, this will no longer exclude empty or all-NA columns when determining the result dtypes. To retain the old behavior, exclude the relevant entries before the concat operation.\n",
      "  return pd.concat([\n",
      "/Users/cybershiptrooper/src/interpretability/MATS/circuits-benchmark/notebooks/utils/get_circuit_discovery_scores.py:21: FutureWarning: The behavior of DataFrame concatenation with empty or all-NA entries is deprecated. In a future version, this will no longer exclude empty or all-NA columns when determining the result dtypes. To retain the old behavior, exclude the relevant entries before the concat operation.\n",
      "  return pd.concat([\n"
     ]
    }
   ],
   "source": [
    "from utils.get_circuit_discovery_scores import walk_dirs_and_get_scores\n",
    "\n",
    "# walk_dirs_and_get_scores(\"acdc\")\n",
    "acdc_510_scores = walk_dirs_and_get_scores(weight=510, algorithm=\"acdc\")\n",
    "node_sp_510_scores = walk_dirs_and_get_scores(weight=510, algorithm=\"node_sp\")"
   ]
  },
  {
   "cell_type": "code",
   "execution_count": 6,
   "metadata": {},
   "outputs": [
    {
     "data": {
      "text/plain": [
       "(array(['8', '11', '21', '3', '24', '13'], dtype=object),\n",
       " array(['3', '11', '21', '8', '24', '13'], dtype=object))"
      ]
     },
     "execution_count": 6,
     "metadata": {},
     "output_type": "execute_result"
    }
   ],
   "source": [
    "node_sp_510_scores[\"run\"].unique(), acdc_510_scores[\"run\"].unique()"
   ]
  },
  {
   "cell_type": "code",
   "execution_count": 7,
   "metadata": {},
   "outputs": [],
   "source": [
    "from sklearn import metrics\n",
    "\n",
    "def make_fpr_tpr_monotonic(fpr_list, tpr_list):\n",
    "    tpr_indices = [idx for idx in range(1, len(tpr_list)) if tpr_list[idx] > tpr_list[idx-1]]\n",
    "    fpr_indices = [idx for idx in range(1, len(fpr_list)) if fpr_list[idx] > fpr_list[idx-1]]\n",
    "    all_indices = list(set(tpr_indices + fpr_indices))\n",
    "    # sort descending so we can remove from the end\n",
    "    all_indices.sort(reverse=True)\n",
    "    for idx in all_indices:\n",
    "        del tpr_list[idx]\n",
    "        del fpr_list[idx]\n",
    "    return fpr_list, tpr_list\n",
    "\n",
    "def get_ROCs(scores: pd.DataFrame, algorithm: str):\n",
    "    if algorithm == \"acdc\":\n",
    "        sort_key = \"threshold\"\n",
    "        ascending = False\n",
    "    elif \"sp\" in algorithm:\n",
    "        sort_key = \"lambda\"\n",
    "        ascending = True\n",
    "    rocs = {} # run : {node: node_roc, edge: edge_roc}\n",
    "    scores_by_run = scores.groupby(\"run\")\n",
    "    for run, run_scores in scores_by_run:\n",
    "        run_scores = run_scores.sort_values(by=sort_key, ascending=ascending)\n",
    "        # get 'node_tpr', 'node_fpr', 'edge_tpr', 'edge_fpr' from run_scores\n",
    "        node_fpr = list(run_scores[\"node_fpr\"].values.copy())\n",
    "        node_tpr = list(run_scores[\"node_tpr\"].values.copy())\n",
    "        edge_fpr = list(run_scores[\"edge_fpr\"].values.copy())\n",
    "        edge_tpr = list(run_scores[\"edge_tpr\"].values.copy())\n",
    "\n",
    "        # make fpr and tpr lists monotonic\n",
    "        node_fpr, node_tpr = make_fpr_tpr_monotonic(node_fpr, node_tpr)\n",
    "        edge_fpr, edge_tpr = make_fpr_tpr_monotonic(edge_fpr, edge_tpr)\n",
    "\n",
    "        \n",
    "        # calculate roc_auc for node and edge\n",
    "        node_roc = metrics.auc(node_fpr, node_tpr)\n",
    "        edge_roc = metrics.auc(edge_fpr, edge_tpr)\n",
    "        rocs[run] = {\"node\": node_roc, \"edge\": edge_roc}\n",
    "    return rocs"
   ]
  },
  {
   "cell_type": "code",
   "execution_count": 8,
   "metadata": {},
   "outputs": [
    {
     "data": {
      "text/plain": [
       "({'11': {'node': 0.125, 'edge': 0.0},\n",
       "  '13': {'node': 0.0, 'edge': 0.03260869565217391},\n",
       "  '21': {'node': 0.05555555555555555, 'edge': 0.004901960784313725},\n",
       "  '24': {'node': 0.05555555555555555, 'edge': 0.004901960784313725},\n",
       "  '3': {'node': 0.875, 'edge': 0.0},\n",
       "  '8': {'node': 0.3333333333333333, 'edge': 0.0}},\n",
       " {'11': {'node': 0.125, 'edge': 0.1568627450980392},\n",
       "  '13': {'node': 0.5, 'edge': 0.4782608695652174},\n",
       "  '21': {'node': 0.33333333333333337, 'edge': 0.47058823529411764},\n",
       "  '24': {'node': 0.33333333333333337, 'edge': 0.47058823529411764},\n",
       "  '3': {'node': 0.8571428571428572, 'edge': 0.8958333333333333},\n",
       "  '8': {'node': 0.0, 'edge': 0.0}})"
      ]
     },
     "execution_count": 8,
     "metadata": {},
     "output_type": "execute_result"
    }
   ],
   "source": [
    "get_ROCs(acdc_510_scores, \"acdc\"), get_ROCs(node_sp_510_scores, \"node_sp\")"
   ]
  },
  {
   "cell_type": "code",
   "execution_count": 11,
   "metadata": {},
   "outputs": [
    {
     "data": {
      "text/plain": [
       "(  run      acdc   node_sp\n",
       " 0  11  0.125000  0.125000\n",
       " 1  13  0.000000  0.500000\n",
       " 2  21  0.055556  0.333333\n",
       " 3  24  0.055556  0.333333\n",
       " 4   3  0.875000  0.857143\n",
       " 5   8  0.333333  0.000000,\n",
       "   run      acdc   node_sp\n",
       " 0  11  0.000000  0.156863\n",
       " 1  13  0.032609  0.478261\n",
       " 2  21  0.004902  0.470588\n",
       " 3  24  0.004902  0.470588\n",
       " 4   3  0.000000  0.895833\n",
       " 5   8  0.000000  0.000000)"
      ]
     },
     "execution_count": 11,
     "metadata": {},
     "output_type": "execute_result"
    }
   ],
   "source": [
    "from utils.get_circuit_discovery_scores import append_row\n",
    "\n",
    "acdc_rocs = get_ROCs(acdc_510_scores, \"acdc\")\n",
    "node_sp_rocs = get_ROCs(node_sp_510_scores, \"node_sp\")\n",
    "# make 2 combined dataframes: one for node_roc and one for edge_roc\n",
    "node_roc_df = pd.DataFrame()\n",
    "edge_roc_df = pd.DataFrame()\n",
    "\n",
    "for k, v in acdc_rocs.items():\n",
    "    run = k\n",
    "    acdc_node_roc = v[\"node\"]\n",
    "    acdc_edge_roc = v[\"edge\"]\n",
    "    node_sp_node_roc = node_sp_rocs[k][\"node\"]\n",
    "    node_sp_edge_roc = node_sp_rocs[k][\"edge\"]\n",
    "    node_entry = {\"run\": run, \"acdc\": acdc_node_roc, \"node_sp\": node_sp_node_roc}\n",
    "    edge_entry = {\"run\": run, \"acdc\": acdc_edge_roc, \"node_sp\": node_sp_edge_roc}\n",
    "    node_roc_df = append_row(node_roc_df, pd.Series(node_entry))\n",
    "    edge_roc_df = append_row(edge_roc_df, pd.Series(edge_entry))"
   ]
  },
  {
   "cell_type": "code",
   "execution_count": 12,
   "metadata": {},
   "outputs": [
    {
     "data": {
      "text/html": [
       "<div>\n",
       "<style scoped>\n",
       "    .dataframe tbody tr th:only-of-type {\n",
       "        vertical-align: middle;\n",
       "    }\n",
       "\n",
       "    .dataframe tbody tr th {\n",
       "        vertical-align: top;\n",
       "    }\n",
       "\n",
       "    .dataframe thead th {\n",
       "        text-align: right;\n",
       "    }\n",
       "</style>\n",
       "<table border=\"1\" class=\"dataframe\">\n",
       "  <thead>\n",
       "    <tr style=\"text-align: right;\">\n",
       "      <th></th>\n",
       "      <th>run</th>\n",
       "      <th>acdc</th>\n",
       "      <th>node_sp</th>\n",
       "    </tr>\n",
       "  </thead>\n",
       "  <tbody>\n",
       "    <tr>\n",
       "      <th>0</th>\n",
       "      <td>11</td>\n",
       "      <td>0.125000</td>\n",
       "      <td>0.125000</td>\n",
       "    </tr>\n",
       "    <tr>\n",
       "      <th>1</th>\n",
       "      <td>13</td>\n",
       "      <td>0.000000</td>\n",
       "      <td>0.500000</td>\n",
       "    </tr>\n",
       "    <tr>\n",
       "      <th>2</th>\n",
       "      <td>21</td>\n",
       "      <td>0.055556</td>\n",
       "      <td>0.333333</td>\n",
       "    </tr>\n",
       "    <tr>\n",
       "      <th>3</th>\n",
       "      <td>24</td>\n",
       "      <td>0.055556</td>\n",
       "      <td>0.333333</td>\n",
       "    </tr>\n",
       "    <tr>\n",
       "      <th>4</th>\n",
       "      <td>3</td>\n",
       "      <td>0.875000</td>\n",
       "      <td>0.857143</td>\n",
       "    </tr>\n",
       "    <tr>\n",
       "      <th>5</th>\n",
       "      <td>8</td>\n",
       "      <td>0.333333</td>\n",
       "      <td>0.000000</td>\n",
       "    </tr>\n",
       "  </tbody>\n",
       "</table>\n",
       "</div>"
      ],
      "text/plain": [
       "  run      acdc   node_sp\n",
       "0  11  0.125000  0.125000\n",
       "1  13  0.000000  0.500000\n",
       "2  21  0.055556  0.333333\n",
       "3  24  0.055556  0.333333\n",
       "4   3  0.875000  0.857143\n",
       "5   8  0.333333  0.000000"
      ]
     },
     "execution_count": 12,
     "metadata": {},
     "output_type": "execute_result"
    }
   ],
   "source": [
    "node_roc_df"
   ]
  },
  {
   "cell_type": "code",
   "execution_count": 13,
   "metadata": {},
   "outputs": [
    {
     "data": {
      "text/html": [
       "<div>\n",
       "<style scoped>\n",
       "    .dataframe tbody tr th:only-of-type {\n",
       "        vertical-align: middle;\n",
       "    }\n",
       "\n",
       "    .dataframe tbody tr th {\n",
       "        vertical-align: top;\n",
       "    }\n",
       "\n",
       "    .dataframe thead th {\n",
       "        text-align: right;\n",
       "    }\n",
       "</style>\n",
       "<table border=\"1\" class=\"dataframe\">\n",
       "  <thead>\n",
       "    <tr style=\"text-align: right;\">\n",
       "      <th></th>\n",
       "      <th>run</th>\n",
       "      <th>acdc</th>\n",
       "      <th>node_sp</th>\n",
       "    </tr>\n",
       "  </thead>\n",
       "  <tbody>\n",
       "    <tr>\n",
       "      <th>0</th>\n",
       "      <td>11</td>\n",
       "      <td>0.000000</td>\n",
       "      <td>0.156863</td>\n",
       "    </tr>\n",
       "    <tr>\n",
       "      <th>1</th>\n",
       "      <td>13</td>\n",
       "      <td>0.032609</td>\n",
       "      <td>0.478261</td>\n",
       "    </tr>\n",
       "    <tr>\n",
       "      <th>2</th>\n",
       "      <td>21</td>\n",
       "      <td>0.004902</td>\n",
       "      <td>0.470588</td>\n",
       "    </tr>\n",
       "    <tr>\n",
       "      <th>3</th>\n",
       "      <td>24</td>\n",
       "      <td>0.004902</td>\n",
       "      <td>0.470588</td>\n",
       "    </tr>\n",
       "    <tr>\n",
       "      <th>4</th>\n",
       "      <td>3</td>\n",
       "      <td>0.000000</td>\n",
       "      <td>0.895833</td>\n",
       "    </tr>\n",
       "    <tr>\n",
       "      <th>5</th>\n",
       "      <td>8</td>\n",
       "      <td>0.000000</td>\n",
       "      <td>0.000000</td>\n",
       "    </tr>\n",
       "  </tbody>\n",
       "</table>\n",
       "</div>"
      ],
      "text/plain": [
       "  run      acdc   node_sp\n",
       "0  11  0.000000  0.156863\n",
       "1  13  0.032609  0.478261\n",
       "2  21  0.004902  0.470588\n",
       "3  24  0.004902  0.470588\n",
       "4   3  0.000000  0.895833\n",
       "5   8  0.000000  0.000000"
      ]
     },
     "execution_count": 13,
     "metadata": {},
     "output_type": "execute_result"
    }
   ],
   "source": [
    "edge_roc_df"
   ]
  },
  {
   "cell_type": "markdown",
   "metadata": {},
   "source": [
    "### Realism"
   ]
  },
  {
   "cell_type": "code",
   "execution_count": 1,
   "metadata": {},
   "outputs": [
    {
     "name": "stderr",
     "output_type": "stream",
     "text": [
      "/Users/cybershiptrooper/src/interpretability/MATS/circuits-benchmark/notebooks/utils/get_circuit_discovery_scores.py:21: FutureWarning: The behavior of DataFrame concatenation with empty or all-NA entries is deprecated. In a future version, this will no longer exclude empty or all-NA columns when determining the result dtypes. To retain the old behavior, exclude the relevant entries before the concat operation.\n",
      "  return pd.concat([\n",
      "/Users/cybershiptrooper/src/interpretability/MATS/circuits-benchmark/notebooks/utils/get_circuit_discovery_scores.py:21: FutureWarning: The behavior of DataFrame concatenation with empty or all-NA entries is deprecated. In a future version, this will no longer exclude empty or all-NA columns when determining the result dtypes. To retain the old behavior, exclude the relevant entries before the concat operation.\n",
      "  return pd.concat([\n"
     ]
    }
   ],
   "source": [
    "from utils.get_circuit_discovery_scores import get_realism_scores\n",
    "acdc_510_realism = get_realism_scores(weight=510, algorithm=\"acdc\")\n",
    "node_sp_510_realism = get_realism_scores(weight=510, algorithm=\"node_sp\")"
   ]
  },
  {
   "cell_type": "code",
   "execution_count": 5,
   "metadata": {},
   "outputs": [],
   "source": [
    "def get_best_score(scores: pd.DataFrame):\n",
    "    best_scores = {}\n",
    "    scores_by_run = scores.groupby(\"run\")\n",
    "    for run, run_scores in scores_by_run:\n",
    "        best_score = run_scores['score'].max()\n",
    "        best_scores[run] = best_score\n",
    "    return best_scores\n",
    "\n",
    "acdc_510_best_realism = get_best_score(acdc_510_realism)\n",
    "node_sp_510_best_realism = get_best_score(node_sp_510_realism)"
   ]
  },
  {
   "cell_type": "code",
   "execution_count": 9,
   "metadata": {},
   "outputs": [
    {
     "data": {
      "text/html": [
       "<div>\n",
       "<style scoped>\n",
       "    .dataframe tbody tr th:only-of-type {\n",
       "        vertical-align: middle;\n",
       "    }\n",
       "\n",
       "    .dataframe tbody tr th {\n",
       "        vertical-align: top;\n",
       "    }\n",
       "\n",
       "    .dataframe thead th {\n",
       "        text-align: right;\n",
       "    }\n",
       "</style>\n",
       "<table border=\"1\" class=\"dataframe\">\n",
       "  <thead>\n",
       "    <tr style=\"text-align: right;\">\n",
       "      <th></th>\n",
       "      <th>run</th>\n",
       "      <th>acdc</th>\n",
       "      <th>node_sp</th>\n",
       "    </tr>\n",
       "  </thead>\n",
       "  <tbody>\n",
       "    <tr>\n",
       "      <th>0</th>\n",
       "      <td>11</td>\n",
       "      <td>0.474224</td>\n",
       "      <td>0.436851</td>\n",
       "    </tr>\n",
       "    <tr>\n",
       "      <th>1</th>\n",
       "      <td>13</td>\n",
       "      <td>0.674353</td>\n",
       "      <td>0.493942</td>\n",
       "    </tr>\n",
       "    <tr>\n",
       "      <th>2</th>\n",
       "      <td>21</td>\n",
       "      <td>1.000000</td>\n",
       "      <td>0.401581</td>\n",
       "    </tr>\n",
       "    <tr>\n",
       "      <th>3</th>\n",
       "      <td>24</td>\n",
       "      <td>1.000000</td>\n",
       "      <td>0.401581</td>\n",
       "    </tr>\n",
       "    <tr>\n",
       "      <th>4</th>\n",
       "      <td>3</td>\n",
       "      <td>0.357617</td>\n",
       "      <td>0.307617</td>\n",
       "    </tr>\n",
       "    <tr>\n",
       "      <th>5</th>\n",
       "      <td>8</td>\n",
       "      <td>0.269310</td>\n",
       "      <td>0.249977</td>\n",
       "    </tr>\n",
       "  </tbody>\n",
       "</table>\n",
       "</div>"
      ],
      "text/plain": [
       "  run      acdc   node_sp\n",
       "0  11  0.474224  0.436851\n",
       "1  13  0.674353  0.493942\n",
       "2  21  1.000000  0.401581\n",
       "3  24  1.000000  0.401581\n",
       "4   3  0.357617  0.307617\n",
       "5   8  0.269310  0.249977"
      ]
     },
     "execution_count": 9,
     "metadata": {},
     "output_type": "execute_result"
    }
   ],
   "source": [
    "combined_realism_df = pd.DataFrame()\n",
    "for k, v in acdc_510_best_realism.items():\n",
    "    run = k\n",
    "    acdc_realism = v\n",
    "    node_sp_realism = node_sp_510_best_realism[k]\n",
    "    entry = {\"run\": run, \"acdc\": acdc_realism, \"node_sp\": node_sp_realism}\n",
    "    combined_realism_df = append_row(combined_realism_df, pd.Series(entry))\n",
    "\n",
    "combined_realism_df"
   ]
  },
  {
   "cell_type": "code",
   "execution_count": null,
   "metadata": {},
   "outputs": [],
   "source": []
  }
 ],
 "metadata": {
  "kernelspec": {
   "display_name": ".iit",
   "language": "python",
   "name": "python3"
  },
  "language_info": {
   "codemirror_mode": {
    "name": "ipython",
    "version": 3
   },
   "file_extension": ".py",
   "mimetype": "text/x-python",
   "name": "python",
   "nbconvert_exporter": "python",
   "pygments_lexer": "ipython3",
   "version": "3.11.4"
  }
 },
 "nbformat": 4,
 "nbformat_minor": 2
}
