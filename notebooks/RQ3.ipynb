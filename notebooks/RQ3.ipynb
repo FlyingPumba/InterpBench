{
 "cells": [
  {
   "cell_type": "code",
   "execution_count": 5,
   "metadata": {},
   "outputs": [],
   "source": [
    "from utils.plotter import get_roc_curves_from_df\n",
    "from utils.wandb_calls import fetch_files_from_runs\n",
    "from utils import bad_runs\n",
    "import os\n",
    "import pandas as pd\n",
    "import pickle\n",
    "import shutil"
   ]
  },
  {
   "cell_type": "markdown",
   "metadata": {},
   "source": [
    "### Download"
   ]
  },
  {
   "cell_type": "code",
   "execution_count": 23,
   "metadata": {},
   "outputs": [],
   "source": [
    "for folder in os.listdir(\"./results/\"):\n",
    "    if \"acdc\" in folder or \"sp\" in folder:\n",
    "        shutil.rmtree(f\"./results/{folder}\")\n"
   ]
  },
  {
   "cell_type": "code",
   "execution_count": 24,
   "metadata": {},
   "outputs": [
    {
     "name": "stderr",
     "output_type": "stream",
     "text": [
      "100%|██████████| 735/735 [02:41<00:00,  4.56it/s]\n"
     ]
    }
   ],
   "source": [
    "project = \"circuit_discovery\"\n",
    "# group = \"acdc\"\n",
    "files_to_fetch = [\"result.pkl\"]\n",
    "fetch_files_from_runs(project, \"\", files_to_fetch)"
   ]
  },
  {
   "cell_type": "markdown",
   "metadata": {},
   "source": [
    "### ROC"
   ]
  },
  {
   "cell_type": "code",
   "execution_count": 1,
   "metadata": {},
   "outputs": [
    {
     "name": "stdout",
     "output_type": "stream",
     "text": [
      "results/acdc_3/weight_510\n",
      "results/acdc_4/weight_510\n",
      "Skipping 4\n",
      "Skipping 4\n",
      "Skipping 4\n",
      "Skipping 4\n",
      "Skipping 4\n",
      "Skipping 4\n",
      "Skipping 4\n",
      "Skipping 4\n",
      "Skipping 4\n",
      "Skipping 4\n",
      "Skipping 4\n",
      "Skipping 4\n",
      "Skipping 4\n",
      "Skipping 4\n",
      "Skipping 4\n",
      "Skipping 4\n",
      "results/acdc_11/weight_510\n",
      "results/acdc_16/weight_510\n",
      "Skipping 16\n",
      "Skipping 16\n",
      "Skipping 16\n",
      "Skipping 16\n",
      "Skipping 16\n",
      "Skipping 16\n",
      "Skipping 16\n",
      "Skipping 16\n",
      "Skipping 16\n",
      "Skipping 16\n",
      "Skipping 16\n",
      "Skipping 16\n",
      "Skipping 16\n",
      "Skipping 16\n",
      "Skipping 16\n",
      "Skipping 16\n",
      "results/acdc_21/weight_510\n",
      "results/acdc_38/weight_510\n",
      "Skipping 38\n",
      "Skipping 38\n",
      "Skipping 38\n",
      "Skipping 38\n",
      "Skipping 38\n",
      "Skipping 38\n",
      "Skipping 38\n",
      "Skipping 38\n",
      "Skipping 38\n",
      "Skipping 38\n",
      "Skipping 38\n",
      "Skipping 38\n",
      "Skipping 38\n",
      "Skipping 38\n",
      "Skipping 38\n",
      "Skipping 38\n",
      "results/acdc_8/weight_510\n",
      "results/acdc_24/weight_510\n",
      "results/acdc_13/weight_510\n",
      "results/node_sp_8/weight_510\n",
      "results/node_sp_11/weight_510\n",
      "results/node_sp_16/weight_510\n",
      "Skipping 16\n",
      "Skipping 16\n",
      "Skipping 16\n",
      "Skipping 16\n",
      "Skipping 16\n",
      "Skipping 16\n",
      "Skipping 16\n",
      "Skipping 16\n",
      "Skipping 16\n",
      "Skipping 16\n",
      "Skipping 16\n",
      "Skipping 16\n",
      "Skipping 16\n",
      "Skipping 16\n",
      "Skipping 16\n",
      "Skipping 16\n",
      "results/node_sp_21/weight_510\n",
      "results/node_sp_38/weight_510\n",
      "Skipping 38\n",
      "Skipping 38\n",
      "Skipping 38\n",
      "Skipping 38\n",
      "Skipping 38\n",
      "Skipping 38\n",
      "Skipping 38\n",
      "Skipping 38\n",
      "Skipping 38\n",
      "Skipping 38\n",
      "Skipping 38\n",
      "Skipping 38\n",
      "Skipping 38\n",
      "Skipping 38\n",
      "Skipping 38\n",
      "Skipping 38\n",
      "results/node_sp_3/weight_510\n",
      "results/node_sp_24/weight_510\n",
      "results/node_sp_13/weight_510\n",
      "results/edge_sp_24/weight_510\n",
      "results/edge_sp_13/weight_510\n",
      "results/edge_sp_3/weight_510\n",
      "results/edge_sp_38/weight_510\n",
      "Skipping 38\n",
      "Skipping 38\n",
      "Skipping 38\n",
      "Skipping 38\n",
      "Skipping 38\n",
      "Skipping 38\n",
      "Skipping 38\n",
      "Skipping 38\n",
      "Skipping 38\n",
      "Skipping 38\n",
      "Skipping 38\n",
      "Skipping 38\n",
      "Skipping 38\n",
      "Skipping 38\n",
      "Skipping 38\n",
      "results/edge_sp_16/weight_510\n",
      "Skipping 16\n",
      "Skipping 16\n",
      "Skipping 16\n",
      "Skipping 16\n",
      "Skipping 16\n",
      "Skipping 16\n",
      "Skipping 16\n",
      "Skipping 16\n",
      "Skipping 16\n",
      "Skipping 16\n",
      "Skipping 16\n",
      "Skipping 16\n",
      "Skipping 16\n",
      "Skipping 16\n",
      "results/edge_sp_11/weight_510\n",
      "results/edge_sp_21/weight_510\n",
      "results/edge_sp_8/weight_510\n"
     ]
    },
    {
     "name": "stderr",
     "output_type": "stream",
     "text": [
      "/Users/cybershiptrooper/src/interpretability/MATS/circuits-benchmark/notebooks/utils/get_circuit_discovery_scores.py:24: FutureWarning: The behavior of DataFrame concatenation with empty or all-NA entries is deprecated. In a future version, this will no longer exclude empty or all-NA columns when determining the result dtypes. To retain the old behavior, exclude the relevant entries before the concat operation.\n",
      "  return pd.concat([\n",
      "/Users/cybershiptrooper/src/interpretability/MATS/circuits-benchmark/notebooks/utils/get_circuit_discovery_scores.py:24: FutureWarning: The behavior of DataFrame concatenation with empty or all-NA entries is deprecated. In a future version, this will no longer exclude empty or all-NA columns when determining the result dtypes. To retain the old behavior, exclude the relevant entries before the concat operation.\n",
      "  return pd.concat([\n",
      "/Users/cybershiptrooper/src/interpretability/MATS/circuits-benchmark/notebooks/utils/get_circuit_discovery_scores.py:24: FutureWarning: The behavior of DataFrame concatenation with empty or all-NA entries is deprecated. In a future version, this will no longer exclude empty or all-NA columns when determining the result dtypes. To retain the old behavior, exclude the relevant entries before the concat operation.\n",
      "  return pd.concat([\n"
     ]
    }
   ],
   "source": [
    "from utils.get_circuit_discovery_scores import walk_dirs_and_get_scores\n",
    "from utils.plotter import get_roc_curves_from_df\n",
    "from utils.wandb_calls import fetch_files_from_runs\n",
    "from utils import bad_runs\n",
    "import os\n",
    "import pandas as pd\n",
    "import pickle\n",
    "import shutil\n",
    "# walk_dirs_and_get_scores(\"acdc\")\n",
    "acdc_510_scores = walk_dirs_and_get_scores(weight=510, algorithm=\"acdc\")\n",
    "node_sp_510_scores = walk_dirs_and_get_scores(weight=510, algorithm=\"node_sp\")\n",
    "edge_sp_510_scores = walk_dirs_and_get_scores(weight=510, algorithm=\"edge_sp\")"
   ]
  },
  {
   "cell_type": "code",
   "execution_count": 2,
   "metadata": {},
   "outputs": [
    {
     "data": {
      "text/html": [
       "<div>\n",
       "<style scoped>\n",
       "    .dataframe tbody tr th:only-of-type {\n",
       "        vertical-align: middle;\n",
       "    }\n",
       "\n",
       "    .dataframe tbody tr th {\n",
       "        vertical-align: top;\n",
       "    }\n",
       "\n",
       "    .dataframe thead th {\n",
       "        text-align: right;\n",
       "    }\n",
       "</style>\n",
       "<table border=\"1\" class=\"dataframe\">\n",
       "  <thead>\n",
       "    <tr style=\"text-align: right;\">\n",
       "      <th></th>\n",
       "      <th>run</th>\n",
       "      <th>lambda</th>\n",
       "      <th>node_tpr</th>\n",
       "      <th>node_fpr</th>\n",
       "      <th>edge_tpr</th>\n",
       "      <th>edge_fpr</th>\n",
       "    </tr>\n",
       "  </thead>\n",
       "  <tbody>\n",
       "    <tr>\n",
       "      <th>0</th>\n",
       "      <td>24</td>\n",
       "      <td>1.0000</td>\n",
       "      <td>1.0</td>\n",
       "      <td>1.000000</td>\n",
       "      <td>0.500000</td>\n",
       "      <td>0.705882</td>\n",
       "    </tr>\n",
       "    <tr>\n",
       "      <th>1</th>\n",
       "      <td>24</td>\n",
       "      <td>10.0000</td>\n",
       "      <td>1.0</td>\n",
       "      <td>0.888889</td>\n",
       "      <td>0.500000</td>\n",
       "      <td>0.529412</td>\n",
       "    </tr>\n",
       "    <tr>\n",
       "      <th>2</th>\n",
       "      <td>24</td>\n",
       "      <td>50.0000</td>\n",
       "      <td>1.0</td>\n",
       "      <td>0.777778</td>\n",
       "      <td>0.500000</td>\n",
       "      <td>0.333333</td>\n",
       "    </tr>\n",
       "    <tr>\n",
       "      <th>3</th>\n",
       "      <td>24</td>\n",
       "      <td>0.0100</td>\n",
       "      <td>1.0</td>\n",
       "      <td>1.000000</td>\n",
       "      <td>0.500000</td>\n",
       "      <td>0.803922</td>\n",
       "    </tr>\n",
       "    <tr>\n",
       "      <th>4</th>\n",
       "      <td>24</td>\n",
       "      <td>0.0001</td>\n",
       "      <td>1.0</td>\n",
       "      <td>1.000000</td>\n",
       "      <td>0.500000</td>\n",
       "      <td>0.803922</td>\n",
       "    </tr>\n",
       "    <tr>\n",
       "      <th>...</th>\n",
       "      <td>...</td>\n",
       "      <td>...</td>\n",
       "      <td>...</td>\n",
       "      <td>...</td>\n",
       "      <td>...</td>\n",
       "      <td>...</td>\n",
       "    </tr>\n",
       "    <tr>\n",
       "      <th>83</th>\n",
       "      <td>8</td>\n",
       "      <td>0.0000</td>\n",
       "      <td>1.0</td>\n",
       "      <td>1.000000</td>\n",
       "      <td>1.000000</td>\n",
       "      <td>1.000000</td>\n",
       "    </tr>\n",
       "    <tr>\n",
       "      <th>84</th>\n",
       "      <td>8</td>\n",
       "      <td>0.1000</td>\n",
       "      <td>1.0</td>\n",
       "      <td>1.000000</td>\n",
       "      <td>0.666667</td>\n",
       "      <td>0.820000</td>\n",
       "    </tr>\n",
       "    <tr>\n",
       "      <th>85</th>\n",
       "      <td>8</td>\n",
       "      <td>0.8000</td>\n",
       "      <td>1.0</td>\n",
       "      <td>1.000000</td>\n",
       "      <td>0.666667</td>\n",
       "      <td>0.820000</td>\n",
       "    </tr>\n",
       "    <tr>\n",
       "      <th>86</th>\n",
       "      <td>8</td>\n",
       "      <td>20.0000</td>\n",
       "      <td>1.0</td>\n",
       "      <td>1.000000</td>\n",
       "      <td>0.666667</td>\n",
       "      <td>0.800000</td>\n",
       "    </tr>\n",
       "    <tr>\n",
       "      <th>87</th>\n",
       "      <td>8</td>\n",
       "      <td>0.0010</td>\n",
       "      <td>1.0</td>\n",
       "      <td>1.000000</td>\n",
       "      <td>0.666667</td>\n",
       "      <td>0.820000</td>\n",
       "    </tr>\n",
       "  </tbody>\n",
       "</table>\n",
       "<p>88 rows × 6 columns</p>\n",
       "</div>"
      ],
      "text/plain": [
       "   run   lambda  node_tpr  node_fpr  edge_tpr  edge_fpr\n",
       "0   24   1.0000       1.0  1.000000  0.500000  0.705882\n",
       "1   24  10.0000       1.0  0.888889  0.500000  0.529412\n",
       "2   24  50.0000       1.0  0.777778  0.500000  0.333333\n",
       "3   24   0.0100       1.0  1.000000  0.500000  0.803922\n",
       "4   24   0.0001       1.0  1.000000  0.500000  0.803922\n",
       "..  ..      ...       ...       ...       ...       ...\n",
       "83   8   0.0000       1.0  1.000000  1.000000  1.000000\n",
       "84   8   0.1000       1.0  1.000000  0.666667  0.820000\n",
       "85   8   0.8000       1.0  1.000000  0.666667  0.820000\n",
       "86   8  20.0000       1.0  1.000000  0.666667  0.800000\n",
       "87   8   0.0010       1.0  1.000000  0.666667  0.820000\n",
       "\n",
       "[88 rows x 6 columns]"
      ]
     },
     "execution_count": 2,
     "metadata": {},
     "output_type": "execute_result"
    }
   ],
   "source": [
    "edge_sp_510_scores"
   ]
  },
  {
   "cell_type": "code",
   "execution_count": null,
   "metadata": {},
   "outputs": [],
   "source": []
  },
  {
   "cell_type": "code",
   "execution_count": 3,
   "metadata": {},
   "outputs": [
    {
     "data": {
      "text/plain": [
       "(array(['8', '11', '21', '3', '24', '13'], dtype=object),\n",
       " array(['3', '11', '21', '8', '24', '13'], dtype=object))"
      ]
     },
     "execution_count": 3,
     "metadata": {},
     "output_type": "execute_result"
    }
   ],
   "source": [
    "node_sp_510_scores[\"run\"].unique(), acdc_510_scores[\"run\"].unique()"
   ]
  },
  {
   "cell_type": "code",
   "execution_count": 4,
   "metadata": {},
   "outputs": [],
   "source": [
    "from sklearn import metrics\n",
    "\n",
    "def make_fpr_tpr_monotonic(fpr_list, tpr_list):\n",
    "    # return sorted fpr and corresponding tpr  (i.e., if fpr[i] -> fpr[j] then tpr[i] -> tpr[j])\n",
    "    fpr_tpr = list(zip(fpr_list, tpr_list))\n",
    "    fpr_tpr = sorted(fpr_tpr, key=lambda x: x[0])\n",
    "    fpr_list, tpr_list = zip(*fpr_tpr)\n",
    "    return list(fpr_list), list(tpr_list)\n",
    "\n",
    "def get_ROCs(scores: pd.DataFrame, algorithm: str):\n",
    "    if algorithm == \"acdc\":\n",
    "        sort_key = \"threshold\"\n",
    "        ascending = False\n",
    "    elif \"sp\" in algorithm:\n",
    "        sort_key = \"lambda\"\n",
    "        ascending = True\n",
    "    rocs = {} # run : {node: node_roc, edge: edge_roc}\n",
    "    scores_by_run = scores.groupby(\"run\")\n",
    "    for run, run_scores in scores_by_run:\n",
    "        run_scores = run_scores.sort_values(by=sort_key, ascending=ascending)\n",
    "        # get 'node_tpr', 'node_fpr', 'edge_tpr', 'edge_fpr' from run_scores\n",
    "        node_fpr = list(run_scores[\"node_fpr\"].values.copy())\n",
    "        node_tpr = list(run_scores[\"node_tpr\"].values.copy())\n",
    "        edge_fpr = list(run_scores[\"edge_fpr\"].values.copy())\n",
    "        edge_tpr = list(run_scores[\"edge_tpr\"].values.copy())\n",
    "        # print(node_fpr, node_tpr)\n",
    "        # make fpr and tpr lists monotonic\n",
    "        node_fpr, node_tpr = make_fpr_tpr_monotonic(node_fpr, node_tpr)\n",
    "        edge_fpr, edge_tpr = make_fpr_tpr_monotonic(edge_fpr, edge_tpr)\n",
    "\n",
    "        \n",
    "        # calculate roc_auc for node and edge\n",
    "        node_roc = metrics.auc(node_fpr, node_tpr)\n",
    "        edge_roc = metrics.auc(edge_fpr, edge_tpr)\n",
    "        rocs[run] = {\"node\": node_roc, \"edge\": edge_roc}\n",
    "    return rocs"
   ]
  },
  {
   "cell_type": "code",
   "execution_count": 5,
   "metadata": {},
   "outputs": [],
   "source": [
    "from utils.get_circuit_discovery_scores import append_row\n",
    "# make 2 combined dataframes: one for node_roc and one for edge_roc\n",
    "\n",
    "def get_combined_roc_dfs(acdc_rocs, node_sp_rocs):\n",
    "    node_roc_df = pd.DataFrame()\n",
    "    edge_roc_df = pd.DataFrame()\n",
    "\n",
    "    for k, v in acdc_rocs.items():\n",
    "        run = k\n",
    "        acdc_node_roc = v[\"node\"]\n",
    "        acdc_edge_roc = v[\"edge\"]\n",
    "        node_sp_node_roc = node_sp_rocs[k][\"node\"]\n",
    "        node_sp_edge_roc = node_sp_rocs[k][\"edge\"]\n",
    "        node_entry = {\"run\": run, \"acdc\": acdc_node_roc, \"node_sp\": node_sp_node_roc}\n",
    "        edge_entry = {\"run\": run, \"acdc\": acdc_edge_roc, \"node_sp\": node_sp_edge_roc}\n",
    "        node_roc_df = append_row(node_roc_df, pd.Series(node_entry))\n",
    "        edge_roc_df = append_row(edge_roc_df, pd.Series(edge_entry))\n",
    "\n",
    "    return node_roc_df, edge_roc_df\n",
    "\n",
    "\n",
    "def get_combined_roc_df_from_list(list_of_rocs, list_of_names):\n",
    "    node_roc_df = pd.DataFrame()\n",
    "    edge_roc_df = pd.DataFrame()\n",
    "\n",
    "    for k, v in list_of_rocs[0].items():\n",
    "        run = k\n",
    "        node_roc = v[\"node\"]\n",
    "        edge_roc = v[\"edge\"]\n",
    "        node_entry = {\"run\": run, list_of_names[0]: node_roc}\n",
    "        edge_entry = {\"run\": run, list_of_names[0]: edge_roc}\n",
    "        for i, rocs in enumerate(list_of_rocs[1:]):\n",
    "            node_roc = rocs[k][\"node\"]\n",
    "            edge_roc = rocs[k][\"edge\"]\n",
    "            node_entry[list_of_names[i+1]] = node_roc\n",
    "            edge_entry[list_of_names[i+1]] = edge_roc\n",
    "        node_roc_df = append_row(node_roc_df, pd.Series(node_entry))\n",
    "        edge_roc_df = append_row(edge_roc_df, pd.Series(edge_entry))\n",
    "    \n",
    "\n",
    "    return node_roc_df, edge_roc_df"
   ]
  },
  {
   "cell_type": "code",
   "execution_count": 6,
   "metadata": {},
   "outputs": [],
   "source": [
    "acdc_rocs = get_ROCs(acdc_510_scores, \"acdc\")\n",
    "node_sp_rocs = get_ROCs(node_sp_510_scores, \"node_sp\")\n",
    "edge_sp_rocs = get_ROCs(edge_sp_510_scores, \"edge_sp\")\n",
    "node_roc_df_510, edge_roc_df_510 = get_combined_roc_dfs(acdc_rocs, node_sp_rocs)"
   ]
  },
  {
   "cell_type": "code",
   "execution_count": 7,
   "metadata": {},
   "outputs": [],
   "source": [
    "node_roc_df, edge_roc_df = get_combined_roc_df_from_list([acdc_rocs, node_sp_rocs, edge_sp_rocs], [\"acdc\", \"node_sp\", \"edge_sp\"])"
   ]
  },
  {
   "cell_type": "code",
   "execution_count": 8,
   "metadata": {},
   "outputs": [
    {
     "data": {
      "text/html": [
       "<div>\n",
       "<style scoped>\n",
       "    .dataframe tbody tr th:only-of-type {\n",
       "        vertical-align: middle;\n",
       "    }\n",
       "\n",
       "    .dataframe tbody tr th {\n",
       "        vertical-align: top;\n",
       "    }\n",
       "\n",
       "    .dataframe thead th {\n",
       "        text-align: right;\n",
       "    }\n",
       "</style>\n",
       "<table border=\"1\" class=\"dataframe\">\n",
       "  <thead>\n",
       "    <tr style=\"text-align: right;\">\n",
       "      <th></th>\n",
       "      <th>run</th>\n",
       "      <th>acdc</th>\n",
       "      <th>node_sp</th>\n",
       "      <th>edge_sp</th>\n",
       "    </tr>\n",
       "  </thead>\n",
       "  <tbody>\n",
       "    <tr>\n",
       "      <th>0</th>\n",
       "      <td>11</td>\n",
       "      <td>1.000000</td>\n",
       "      <td>0.125000</td>\n",
       "      <td>0.000000</td>\n",
       "    </tr>\n",
       "    <tr>\n",
       "      <th>1</th>\n",
       "      <td>13</td>\n",
       "      <td>1.000000</td>\n",
       "      <td>0.500000</td>\n",
       "      <td>0.166667</td>\n",
       "    </tr>\n",
       "    <tr>\n",
       "      <th>2</th>\n",
       "      <td>21</td>\n",
       "      <td>0.944444</td>\n",
       "      <td>0.333333</td>\n",
       "      <td>0.222222</td>\n",
       "    </tr>\n",
       "    <tr>\n",
       "      <th>3</th>\n",
       "      <td>24</td>\n",
       "      <td>0.944444</td>\n",
       "      <td>0.333333</td>\n",
       "      <td>0.222222</td>\n",
       "    </tr>\n",
       "    <tr>\n",
       "      <th>4</th>\n",
       "      <td>3</td>\n",
       "      <td>0.910714</td>\n",
       "      <td>0.821429</td>\n",
       "      <td>0.928571</td>\n",
       "    </tr>\n",
       "    <tr>\n",
       "      <th>5</th>\n",
       "      <td>8</td>\n",
       "      <td>0.750000</td>\n",
       "      <td>0.000000</td>\n",
       "      <td>0.000000</td>\n",
       "    </tr>\n",
       "  </tbody>\n",
       "</table>\n",
       "</div>"
      ],
      "text/plain": [
       "  run      acdc   node_sp   edge_sp\n",
       "0  11  1.000000  0.125000  0.000000\n",
       "1  13  1.000000  0.500000  0.166667\n",
       "2  21  0.944444  0.333333  0.222222\n",
       "3  24  0.944444  0.333333  0.222222\n",
       "4   3  0.910714  0.821429  0.928571\n",
       "5   8  0.750000  0.000000  0.000000"
      ]
     },
     "execution_count": 8,
     "metadata": {},
     "output_type": "execute_result"
    }
   ],
   "source": [
    "node_roc_df"
   ]
  },
  {
   "cell_type": "code",
   "execution_count": null,
   "metadata": {},
   "outputs": [],
   "source": []
  },
  {
   "cell_type": "code",
   "execution_count": 9,
   "metadata": {},
   "outputs": [],
   "source": [
    "# acdc_tracr_scores.groupby(\"run\").get_group('3').sort_values(by=\"threshold\", ascending=False)"
   ]
  },
  {
   "cell_type": "code",
   "execution_count": 10,
   "metadata": {},
   "outputs": [
    {
     "data": {
      "text/plain": [
       "1.0"
      ]
     },
     "execution_count": 10,
     "metadata": {},
     "output_type": "execute_result"
    }
   ],
   "source": [
    "a =[0.0, 0.0, 0.0, 0.0, 0.0, 0.0, 0.0, 0.0, 0.0, 0.0, 0.0, 0.0, 0.0, 0.0, 0.0, 1.0] \n",
    "b= [0.0, 0.0, 0.0, 0.0, 0.0, 0.0, 0.0, 0.0, 0.0, 0.0, 1.0, 1.0, 1.0, 1.0, 1.0, 1.0]\n",
    "import sklearn\n",
    "sklearn.metrics.auc(a, b)"
   ]
  },
  {
   "cell_type": "code",
   "execution_count": 11,
   "metadata": {},
   "outputs": [
    {
     "name": "stdout",
     "output_type": "stream",
     "text": [
      "results/acdc_3/weight_tracr\n",
      "results/acdc_4/weight_tracr\n",
      "Skipping 4\n",
      "Skipping 4\n",
      "Skipping 4\n",
      "Skipping 4\n",
      "Skipping 4\n",
      "Skipping 4\n",
      "Skipping 4\n",
      "Skipping 4\n",
      "Skipping 4\n",
      "Skipping 4\n",
      "Skipping 4\n",
      "Skipping 4\n",
      "Skipping 4\n",
      "Skipping 4\n",
      "Skipping 4\n",
      "Skipping 4\n",
      "results/acdc_11/weight_tracr\n",
      "results/acdc_16/weight_tracr\n",
      "Skipping 16\n",
      "Skipping 16\n",
      "Skipping 16\n",
      "Skipping 16\n",
      "Skipping 16\n",
      "Skipping 16\n",
      "Skipping 16\n",
      "Skipping 16\n",
      "Skipping 16\n",
      "Skipping 16\n",
      "Skipping 16\n",
      "Skipping 16\n",
      "Skipping 16\n",
      "Skipping 16\n",
      "Skipping 16\n",
      "Skipping 16\n",
      "results/acdc_21/weight_tracr\n"
     ]
    },
    {
     "name": "stderr",
     "output_type": "stream",
     "text": [
      "/Users/cybershiptrooper/src/interpretability/MATS/circuits-benchmark/notebooks/utils/get_circuit_discovery_scores.py:24: FutureWarning: The behavior of DataFrame concatenation with empty or all-NA entries is deprecated. In a future version, this will no longer exclude empty or all-NA columns when determining the result dtypes. To retain the old behavior, exclude the relevant entries before the concat operation.\n",
      "  return pd.concat([\n"
     ]
    },
    {
     "name": "stdout",
     "output_type": "stream",
     "text": [
      "results/acdc_38/weight_tracr\n",
      "Skipping 38\n",
      "Skipping 38\n",
      "Skipping 38\n",
      "Skipping 38\n",
      "Skipping 38\n",
      "Skipping 38\n",
      "Skipping 38\n",
      "Skipping 38\n",
      "Skipping 38\n",
      "Skipping 38\n",
      "Skipping 38\n",
      "Skipping 38\n",
      "Skipping 38\n",
      "Skipping 38\n",
      "Skipping 38\n",
      "Skipping 38\n",
      "results/acdc_8/weight_tracr\n",
      "Skipping 8 0.0\n",
      "Skipping 8 0.1\n",
      "Skipping 8 0.8\n",
      "Skipping 8 1e-05\n",
      "Skipping 8 0.025\n",
      "Skipping 8 100.0\n",
      "Skipping 8 0.001\n",
      "Skipping 8 10.0\n",
      "Skipping 8 50.0\n",
      "Skipping 8 0.01\n",
      "Skipping 8 0.0001\n",
      "Skipping 8 0.2\n",
      "Skipping 8 0.5\n",
      "Skipping 8 20.0\n",
      "Skipping 8 1.0\n",
      "Skipping 8 0.05\n",
      "results/acdc_24/weight_tracr\n",
      "results/acdc_13/weight_tracr\n",
      "results/node_sp_8/weight_tracr\n",
      "Skipping 8 1.0\n",
      "Skipping 8 10.0\n",
      "Skipping 8 50.0\n",
      "Skipping 8 0.01\n",
      "Skipping 8 0.0001\n",
      "Skipping 8 0.5\n",
      "Skipping 8 0.2\n",
      "Skipping 8 100.0\n",
      "Skipping 8 1e-05\n",
      "Skipping 8 0.025\n",
      "Skipping 8 0.05\n",
      "Skipping 8 0.0\n",
      "Skipping 8 0.1\n",
      "Skipping 8 0.8\n",
      "Skipping 8 20.0\n",
      "Skipping 8 0.001\n",
      "results/node_sp_11/weight_tracr\n",
      "results/node_sp_16/weight_tracr\n",
      "Skipping 16\n",
      "Skipping 16\n",
      "Skipping 16\n",
      "Skipping 16\n",
      "Skipping 16\n",
      "Skipping 16\n",
      "Skipping 16\n",
      "Skipping 16\n",
      "Skipping 16\n",
      "Skipping 16\n",
      "Skipping 16\n",
      "Skipping 16\n",
      "Skipping 16\n",
      "Skipping 16\n",
      "Skipping 16\n",
      "Skipping 16\n",
      "results/node_sp_21/weight_tracr\n",
      "results/node_sp_38/weight_tracr\n",
      "Skipping 38\n",
      "Skipping 38\n",
      "Skipping 38\n",
      "Skipping 38\n",
      "Skipping 38\n",
      "Skipping 38\n",
      "Skipping 38\n",
      "Skipping 38\n",
      "Skipping 38\n",
      "Skipping 38\n",
      "Skipping 38\n",
      "Skipping 38\n",
      "Skipping 38\n",
      "Skipping 38\n",
      "Skipping 38\n",
      "Skipping 38\n",
      "results/node_sp_3/weight_tracr\n",
      "results/node_sp_24/weight_tracr\n",
      "results/node_sp_13/weight_tracr\n",
      "results/edge_sp_24/weight_tracr\n",
      "results/edge_sp_13/weight_tracr\n",
      "results/edge_sp_3/weight_tracr\n",
      "results/edge_sp_38/weight_tracr\n",
      "Skipping 38\n",
      "Skipping 38\n",
      "Skipping 38\n",
      "Skipping 38\n",
      "Skipping 38\n",
      "Skipping 38\n",
      "Skipping 38\n",
      "Skipping 38\n",
      "Skipping 38\n",
      "Skipping 38\n",
      "Skipping 38\n",
      "Skipping 38\n",
      "Skipping 38\n",
      "Skipping 38\n",
      "Skipping 38\n",
      "Skipping 38\n",
      "results/edge_sp_16/weight_tracr\n",
      "Skipping 16\n",
      "Skipping 16\n",
      "Skipping 16\n",
      "Skipping 16\n",
      "results/edge_sp_11/weight_tracr\n",
      "results/edge_sp_21/weight_tracr\n",
      "results/edge_sp_8/weight_tracr\n",
      "Skipping 8 1.0\n",
      "Skipping 8 10.0\n",
      "Skipping 8 50.0\n",
      "Skipping 8 0.01\n",
      "Skipping 8 0.0001\n",
      "Skipping 8 0.5\n",
      "Skipping 8 0.2\n",
      "Skipping 8 100.0\n",
      "Skipping 8 1e-05\n",
      "Skipping 8 0.025\n",
      "Skipping 8 0.05\n",
      "Skipping 8 0.0\n",
      "Skipping 8 0.1\n",
      "Skipping 8 0.8\n",
      "Skipping 8 20.0\n",
      "Skipping 8 0.001\n"
     ]
    },
    {
     "name": "stderr",
     "output_type": "stream",
     "text": [
      "/Users/cybershiptrooper/src/interpretability/MATS/circuits-benchmark/notebooks/utils/get_circuit_discovery_scores.py:24: FutureWarning: The behavior of DataFrame concatenation with empty or all-NA entries is deprecated. In a future version, this will no longer exclude empty or all-NA columns when determining the result dtypes. To retain the old behavior, exclude the relevant entries before the concat operation.\n",
      "  return pd.concat([\n",
      "/Users/cybershiptrooper/src/interpretability/MATS/circuits-benchmark/notebooks/utils/get_circuit_discovery_scores.py:24: FutureWarning: The behavior of DataFrame concatenation with empty or all-NA entries is deprecated. In a future version, this will no longer exclude empty or all-NA columns when determining the result dtypes. To retain the old behavior, exclude the relevant entries before the concat operation.\n",
      "  return pd.concat([\n"
     ]
    }
   ],
   "source": [
    "acdc_tracr_scores = walk_dirs_and_get_scores(weight=\"tracr\", algorithm=\"acdc\")\n",
    "node_sp_tracr_scores = walk_dirs_and_get_scores(weight=\"tracr\", algorithm=\"node_sp\")\n",
    "edge_sp_tracr_scores = walk_dirs_and_get_scores(weight=\"tracr\", algorithm=\"edge_sp\")"
   ]
  },
  {
   "cell_type": "code",
   "execution_count": 12,
   "metadata": {},
   "outputs": [],
   "source": [
    "acdc_tracr_rocs = get_ROCs(acdc_tracr_scores, \"acdc\")\n",
    "node_sp_tracr_rocs = get_ROCs(node_sp_tracr_scores, \"node_sp\")\n",
    "edge_sp_tracr_rocs = get_ROCs(edge_sp_tracr_scores, \"edge_sp\")"
   ]
  },
  {
   "cell_type": "code",
   "execution_count": 13,
   "metadata": {},
   "outputs": [],
   "source": [
    "node_roc_df_tracr, edge_roc_df_tracr = get_combined_roc_dfs(acdc_tracr_rocs, node_sp_tracr_rocs)"
   ]
  },
  {
   "cell_type": "code",
   "execution_count": 14,
   "metadata": {},
   "outputs": [
    {
     "data": {
      "text/html": [
       "<div>\n",
       "<style scoped>\n",
       "    .dataframe tbody tr th:only-of-type {\n",
       "        vertical-align: middle;\n",
       "    }\n",
       "\n",
       "    .dataframe tbody tr th {\n",
       "        vertical-align: top;\n",
       "    }\n",
       "\n",
       "    .dataframe thead th {\n",
       "        text-align: right;\n",
       "    }\n",
       "</style>\n",
       "<table border=\"1\" class=\"dataframe\">\n",
       "  <thead>\n",
       "    <tr style=\"text-align: right;\">\n",
       "      <th></th>\n",
       "      <th>run</th>\n",
       "      <th>acdc</th>\n",
       "      <th>node_sp</th>\n",
       "    </tr>\n",
       "  </thead>\n",
       "  <tbody>\n",
       "    <tr>\n",
       "      <th>0</th>\n",
       "      <td>11</td>\n",
       "      <td>1.0</td>\n",
       "      <td>0.416667</td>\n",
       "    </tr>\n",
       "    <tr>\n",
       "      <th>1</th>\n",
       "      <td>13</td>\n",
       "      <td>1.0</td>\n",
       "      <td>0.800000</td>\n",
       "    </tr>\n",
       "    <tr>\n",
       "      <th>2</th>\n",
       "      <td>21</td>\n",
       "      <td>1.0</td>\n",
       "      <td>0.000000</td>\n",
       "    </tr>\n",
       "    <tr>\n",
       "      <th>3</th>\n",
       "      <td>24</td>\n",
       "      <td>1.0</td>\n",
       "      <td>0.000000</td>\n",
       "    </tr>\n",
       "    <tr>\n",
       "      <th>4</th>\n",
       "      <td>3</td>\n",
       "      <td>1.0</td>\n",
       "      <td>0.416667</td>\n",
       "    </tr>\n",
       "  </tbody>\n",
       "</table>\n",
       "</div>"
      ],
      "text/plain": [
       "  run  acdc   node_sp\n",
       "0  11   1.0  0.416667\n",
       "1  13   1.0  0.800000\n",
       "2  21   1.0  0.000000\n",
       "3  24   1.0  0.000000\n",
       "4   3   1.0  0.416667"
      ]
     },
     "execution_count": 14,
     "metadata": {},
     "output_type": "execute_result"
    }
   ],
   "source": [
    "node_roc_df_tracr"
   ]
  },
  {
   "cell_type": "code",
   "execution_count": 15,
   "metadata": {},
   "outputs": [
    {
     "data": {
      "text/plain": [
       "Text(0.5, 1.0, 'Edge ROC AUC')"
      ]
     },
     "execution_count": 15,
     "metadata": {},
     "output_type": "execute_result"
    },
    {
     "data": {
      "image/png": "[encoded data removed]",
      "text/plain": [
       "<Figure size 1000x500 with 2 Axes>"
      ]
     },
     "metadata": {},
     "output_type": "display_data"
    }
   ],
   "source": [
    "# make box plots for node and edge roc_auc\n",
    "import matplotlib.pyplot as plt\n",
    "fig, ax = plt.subplots(1, 2, figsize=(10, 5))\n",
    "\n",
    "node_roc_df.boxplot(ax=ax[0], \n",
    "                    column=[\"acdc\", \"node_sp\", \"edge_sp\"],\n",
    "                    patch_artist=True,\n",
    "                    showfliers=True,\n",
    "                    # whis=[5, 95],\n",
    "                    )\n",
    "edge_roc_df.boxplot(ax=ax[1],\n",
    "                    column=[\"acdc\", \"node_sp\", \"edge_sp\"],\n",
    "                    patch_artist=True,\n",
    "                    showfliers=True,\n",
    "                    # whis=[5, 95],\n",
    "                    )\n",
    "# set title\n",
    "ax[0].set_title(\"Node ROC AUC\")\n",
    "ax[1].set_title(\"Edge ROC AUC\")"
   ]
  },
  {
   "cell_type": "code",
   "execution_count": 16,
   "metadata": {},
   "outputs": [
    {
     "data": {
      "text/plain": [
       "Text(0.5, 1.0, 'Edge ROC AUC')"
      ]
     },
     "execution_count": 16,
     "metadata": {},
     "output_type": "execute_result"
    },
    {
     "data": {
      "image/png": "[encoded data removed]",
      "text/plain": [
       "<Figure size 1000x500 with 2 Axes>"
      ]
     },
     "metadata": {},
     "output_type": "display_data"
    }
   ],
   "source": [
    "fig, ax = plt.subplots(1, 2, figsize=(10, 5))\n",
    "\n",
    "node_roc_df_510.boxplot(ax=ax[0],\n",
    "                    column=[\"acdc\", \"node_sp\"], \n",
    "                    patch_artist=True,\n",
    "                    showfliers=True,\n",
    "                    # whis=[5, 95],\n",
    "                    )\n",
    "\n",
    "edge_roc_df_510.boxplot(ax=ax[1],\n",
    "                    column=[\"acdc\", \"node_sp\"], \n",
    "                    patch_artist=True,\n",
    "                    showfliers=True,\n",
    "                    # whis=[5, 95],\n",
    "                    )\n",
    "# set title\n",
    "ax[0].set_title(\"Node ROC AUC\")\n",
    "ax[1].set_title(\"Edge ROC AUC\")\n"
   ]
  },
  {
   "cell_type": "code",
   "execution_count": 17,
   "metadata": {},
   "outputs": [
    {
     "data": {
      "text/plain": [
       "Text(0.5, 1.0, 'Node ROC AUC for TRACR')"
      ]
     },
     "execution_count": 17,
     "metadata": {},
     "output_type": "execute_result"
    },
    {
     "data": {
      "image/png": "[encoded data removed]",
      "text/plain": [
       "<Figure size 1000x500 with 2 Axes>"
      ]
     },
     "metadata": {},
     "output_type": "display_data"
    }
   ],
   "source": [
    "# make box plots for node and edge roc_auc\n",
    "import matplotlib.pyplot as plt\n",
    "\n",
    "combined_df_510_nodes, combined_df_510_edges = get_combined_roc_df_from_list([acdc_rocs, node_sp_rocs, edge_sp_rocs], [\"acdc\", \"node_sp\", \"edge_sp\"])\n",
    "combined_df_tracr_nodes, combined_df_tracr_edges = get_combined_roc_df_from_list([acdc_tracr_rocs, node_sp_tracr_rocs, edge_sp_tracr_rocs], [\"acdc\", \"node_sp\", \"edge_sp\"])\n",
    "\n",
    "fig, ax = plt.subplots(1, 2, figsize=(10, 5))\n",
    "combined_df_510_nodes.boxplot(ax=ax[0],\n",
    "                    column=[\"acdc\", \"node_sp\", \"edge_sp\"],\n",
    "                    patch_artist=True,\n",
    "                    showfliers=True,\n",
    "                    # whis=[5, 95],\n",
    "                    )\n",
    "combined_df_tracr_nodes.boxplot(ax=ax[1],\n",
    "                    column=[\"acdc\", \"node_sp\", \"edge_sp\"],\n",
    "                    patch_artist=True,\n",
    "                    showfliers=True,\n",
    "                    # whis=[5, 95],\n",
    "                    )\n",
    "\n",
    "\n",
    "ax[0].set_title(\"Node ROC AUC for SIIT\")\n",
    "ax[1].set_title(\"Node ROC AUC for TRACR\")\n"
   ]
  },
  {
   "cell_type": "code",
   "execution_count": 18,
   "metadata": {},
   "outputs": [
    {
     "data": {
      "text/plain": [
       "<Axes: >"
      ]
     },
     "execution_count": 18,
     "metadata": {},
     "output_type": "execute_result"
    },
    {
     "data": {
      "image/png": "[encoded data removed]",
      "text/plain": [
       "<Figure size 1000x500 with 2 Axes>"
      ]
     },
     "metadata": {},
     "output_type": "display_data"
    }
   ],
   "source": [
    "fig, ax = plt.subplots(1, 2, figsize=(10, 5))\n",
    "combined_df_510_edges.boxplot(ax=ax[0],\n",
    "                    column=[\"acdc\", \"node_sp\", \"edge_sp\"],\n",
    "                    patch_artist=True,\n",
    "                    showfliers=True,\n",
    "                    # whis=[5, 95],\n",
    "                    )\n",
    "combined_df_tracr_edges.boxplot(ax=ax[1],\n",
    "                    column=[\"acdc\", \"node_sp\", \"edge_sp\"],\n",
    "                    patch_artist=True,\n",
    "                    showfliers=True,\n",
    "                    # whis=[5, 95],\n",
    "                    )"
   ]
  },
  {
   "cell_type": "markdown",
   "metadata": {},
   "source": [
    "### Realism"
   ]
  },
  {
   "cell_type": "code",
   "execution_count": 19,
   "metadata": {},
   "outputs": [
    {
     "name": "stderr",
     "output_type": "stream",
     "text": [
      "/Users/cybershiptrooper/src/interpretability/MATS/circuits-benchmark/notebooks/utils/get_circuit_discovery_scores.py:24: FutureWarning: The behavior of DataFrame concatenation with empty or all-NA entries is deprecated. In a future version, this will no longer exclude empty or all-NA columns when determining the result dtypes. To retain the old behavior, exclude the relevant entries before the concat operation.\n",
      "  return pd.concat([\n",
      "/Users/cybershiptrooper/src/interpretability/MATS/circuits-benchmark/notebooks/utils/get_circuit_discovery_scores.py:24: FutureWarning: The behavior of DataFrame concatenation with empty or all-NA entries is deprecated. In a future version, this will no longer exclude empty or all-NA columns when determining the result dtypes. To retain the old behavior, exclude the relevant entries before the concat operation.\n",
      "  return pd.concat([\n",
      "/Users/cybershiptrooper/src/interpretability/MATS/circuits-benchmark/notebooks/utils/get_circuit_discovery_scores.py:24: FutureWarning: The behavior of DataFrame concatenation with empty or all-NA entries is deprecated. In a future version, this will no longer exclude empty or all-NA columns when determining the result dtypes. To retain the old behavior, exclude the relevant entries before the concat operation.\n",
      "  return pd.concat([\n"
     ]
    }
   ],
   "source": [
    "from utils.get_circuit_discovery_scores import get_realism_scores\n",
    "acdc_510_realism = get_realism_scores(weight=510, algorithm=\"acdc\")\n",
    "node_sp_510_realism = get_realism_scores(weight=510, algorithm=\"node_sp\")\n",
    "edge_sp_510_realism = get_realism_scores(weight=510, algorithm=\"edge_sp\")"
   ]
  },
  {
   "cell_type": "code",
   "execution_count": 20,
   "metadata": {},
   "outputs": [],
   "source": [
    "from utils.realism_helper import get_best_score, make_combined_realism_df"
   ]
  },
  {
   "cell_type": "code",
   "execution_count": 21,
   "metadata": {},
   "outputs": [],
   "source": [
    "acdc_510_best_realism = get_best_score(acdc_510_realism)\n",
    "node_sp_510_best_realism = get_best_score(node_sp_510_realism)\n",
    "edge_sp_510_best_realism = get_best_score(edge_sp_510_realism)"
   ]
  },
  {
   "cell_type": "code",
   "execution_count": 22,
   "metadata": {},
   "outputs": [
    {
     "data": {
      "text/html": [
       "<div>\n",
       "<style scoped>\n",
       "    .dataframe tbody tr th:only-of-type {\n",
       "        vertical-align: middle;\n",
       "    }\n",
       "\n",
       "    .dataframe tbody tr th {\n",
       "        vertical-align: top;\n",
       "    }\n",
       "\n",
       "    .dataframe thead th {\n",
       "        text-align: right;\n",
       "    }\n",
       "</style>\n",
       "<table border=\"1\" class=\"dataframe\">\n",
       "  <thead>\n",
       "    <tr style=\"text-align: right;\">\n",
       "      <th></th>\n",
       "      <th>run</th>\n",
       "      <th>acdc</th>\n",
       "      <th>node_sp</th>\n",
       "    </tr>\n",
       "  </thead>\n",
       "  <tbody>\n",
       "    <tr>\n",
       "      <th>0</th>\n",
       "      <td>11</td>\n",
       "      <td>0.474224</td>\n",
       "      <td>0.436851</td>\n",
       "    </tr>\n",
       "    <tr>\n",
       "      <th>1</th>\n",
       "      <td>13</td>\n",
       "      <td>0.492938</td>\n",
       "      <td>0.492940</td>\n",
       "    </tr>\n",
       "    <tr>\n",
       "      <th>2</th>\n",
       "      <td>21</td>\n",
       "      <td>0.590546</td>\n",
       "      <td>0.400278</td>\n",
       "    </tr>\n",
       "    <tr>\n",
       "      <th>3</th>\n",
       "      <td>24</td>\n",
       "      <td>0.590546</td>\n",
       "      <td>0.400278</td>\n",
       "    </tr>\n",
       "    <tr>\n",
       "      <th>4</th>\n",
       "      <td>3</td>\n",
       "      <td>0.307617</td>\n",
       "      <td>0.307617</td>\n",
       "    </tr>\n",
       "    <tr>\n",
       "      <th>5</th>\n",
       "      <td>8</td>\n",
       "      <td>0.269310</td>\n",
       "      <td>0.249977</td>\n",
       "    </tr>\n",
       "  </tbody>\n",
       "</table>\n",
       "</div>"
      ],
      "text/plain": [
       "  run      acdc   node_sp\n",
       "0  11  0.474224  0.436851\n",
       "1  13  0.492938  0.492940\n",
       "2  21  0.590546  0.400278\n",
       "3  24  0.590546  0.400278\n",
       "4   3  0.307617  0.307617\n",
       "5   8  0.269310  0.249977"
      ]
     },
     "execution_count": 22,
     "metadata": {},
     "output_type": "execute_result"
    }
   ],
   "source": [
    "combined_realism_df_510 = make_combined_realism_df(acdc_510_best_realism, node_sp_510_best_realism)\n",
    "combined_realism_df_510"
   ]
  },
  {
   "cell_type": "code",
   "execution_count": 23,
   "metadata": {},
   "outputs": [],
   "source": [
    "import pandas as pd\n",
    "from utils.get_circuit_discovery_scores import append_row\n",
    "def make_combined_realism_df_from_list(list_of_realism_dfs, list_of_labels):\n",
    "    # check if labels are unique\n",
    "    assert len(list_of_labels) == len(set(list_of_labels)), \"Labels are not unique\"\n",
    "    combined_realism_df = pd.DataFrame()\n",
    "    for k, v in list_of_realism_dfs[0].items():\n",
    "        run = k\n",
    "        realism_entry = v\n",
    "        realism_label = list_of_labels[0]\n",
    "        entry = {\"run\": run, realism_label: realism_entry}\n",
    "        for i in range(1, len(list_of_realism_dfs)):\n",
    "            realism_entry = list_of_realism_dfs[i][k]\n",
    "            realism_label = list_of_labels[i]\n",
    "            entry[realism_label] = realism_entry\n",
    "        \n",
    "        combined_realism_df = append_row(combined_realism_df, pd.Series(entry))\n",
    "    return combined_realism_df"
   ]
  },
  {
   "cell_type": "code",
   "execution_count": 24,
   "metadata": {},
   "outputs": [],
   "source": [
    "acdc_110_realism = get_realism_scores(weight=\"110\", algorithm=\"acdc\")"
   ]
  },
  {
   "cell_type": "code",
   "execution_count": 25,
   "metadata": {},
   "outputs": [
    {
     "name": "stderr",
     "output_type": "stream",
     "text": [
      "/Users/cybershiptrooper/src/interpretability/MATS/circuits-benchmark/notebooks/utils/get_circuit_discovery_scores.py:24: FutureWarning: The behavior of DataFrame concatenation with empty or all-NA entries is deprecated. In a future version, this will no longer exclude empty or all-NA columns when determining the result dtypes. To retain the old behavior, exclude the relevant entries before the concat operation.\n",
      "  return pd.concat([\n",
      "/Users/cybershiptrooper/src/interpretability/MATS/circuits-benchmark/notebooks/utils/get_circuit_discovery_scores.py:24: FutureWarning: The behavior of DataFrame concatenation with empty or all-NA entries is deprecated. In a future version, this will no longer exclude empty or all-NA columns when determining the result dtypes. To retain the old behavior, exclude the relevant entries before the concat operation.\n",
      "  return pd.concat([\n",
      "/Users/cybershiptrooper/src/interpretability/MATS/circuits-benchmark/notebooks/utils/get_circuit_discovery_scores.py:24: FutureWarning: The behavior of DataFrame concatenation with empty or all-NA entries is deprecated. In a future version, this will no longer exclude empty or all-NA columns when determining the result dtypes. To retain the old behavior, exclude the relevant entries before the concat operation.\n",
      "  return pd.concat([\n",
      "/Users/cybershiptrooper/src/interpretability/MATS/circuits-benchmark/notebooks/utils/get_circuit_discovery_scores.py:24: FutureWarning: The behavior of DataFrame concatenation with empty or all-NA entries is deprecated. In a future version, this will no longer exclude empty or all-NA columns when determining the result dtypes. To retain the old behavior, exclude the relevant entries before the concat operation.\n",
      "  return pd.concat([\n"
     ]
    }
   ],
   "source": [
    "acdc_100_realism = get_realism_scores(weight=\"100\", algorithm=\"acdc\")\n",
    "acdc_tracr_realism = get_realism_scores(weight=\"tracr\", algorithm=\"acdc\")\n",
    "acdc_100_best_realism = get_best_score(acdc_100_realism)\n",
    "acdc_tracr_best_realism = get_best_score(acdc_tracr_realism)\n",
    "\n",
    "node_sp_100_realism = get_realism_scores(weight=\"100\", algorithm=\"node_sp\")\n",
    "node_sp_tracr_realism = get_realism_scores(weight=\"tracr\", algorithm=\"node_sp\")\n",
    "node_sp_100_best_realism = get_best_score(node_sp_100_realism)\n",
    "node_sp_tracr_best_realism = get_best_score(node_sp_tracr_realism)\n",
    "\n",
    "edge_sp_100_realism = get_realism_scores(weight=\"100\", algorithm=\"edge_sp\")\n",
    "edge_sp_tracr_realism = get_realism_scores(weight=\"tracr\", algorithm=\"edge_sp\")\n",
    "edge_sp_100_best_realism = get_best_score(edge_sp_100_realism)\n",
    "edge_sp_tracr_best_realism = get_best_score(edge_sp_tracr_realism)\n"
   ]
  },
  {
   "cell_type": "code",
   "execution_count": 26,
   "metadata": {},
   "outputs": [
    {
     "data": {
      "text/html": [
       "<div>\n",
       "<style scoped>\n",
       "    .dataframe tbody tr th:only-of-type {\n",
       "        vertical-align: middle;\n",
       "    }\n",
       "\n",
       "    .dataframe tbody tr th {\n",
       "        vertical-align: top;\n",
       "    }\n",
       "\n",
       "    .dataframe thead th {\n",
       "        text-align: right;\n",
       "    }\n",
       "</style>\n",
       "<table border=\"1\" class=\"dataframe\">\n",
       "  <thead>\n",
       "    <tr style=\"text-align: right;\">\n",
       "      <th></th>\n",
       "      <th>run</th>\n",
       "      <th>SIIT</th>\n",
       "      <th>natural</th>\n",
       "      <th>tracr</th>\n",
       "    </tr>\n",
       "  </thead>\n",
       "  <tbody>\n",
       "    <tr>\n",
       "      <th>0</th>\n",
       "      <td>11</td>\n",
       "      <td>0.474224</td>\n",
       "      <td>0.449420</td>\n",
       "      <td>0.436851</td>\n",
       "    </tr>\n",
       "    <tr>\n",
       "      <th>1</th>\n",
       "      <td>13</td>\n",
       "      <td>0.492938</td>\n",
       "      <td>0.674353</td>\n",
       "      <td>0.493942</td>\n",
       "    </tr>\n",
       "    <tr>\n",
       "      <th>2</th>\n",
       "      <td>21</td>\n",
       "      <td>0.590546</td>\n",
       "      <td>0.587903</td>\n",
       "      <td>1.000000</td>\n",
       "    </tr>\n",
       "    <tr>\n",
       "      <th>3</th>\n",
       "      <td>24</td>\n",
       "      <td>0.590546</td>\n",
       "      <td>0.587903</td>\n",
       "      <td>1.000000</td>\n",
       "    </tr>\n",
       "    <tr>\n",
       "      <th>4</th>\n",
       "      <td>3</td>\n",
       "      <td>0.307617</td>\n",
       "      <td>0.357617</td>\n",
       "      <td>0.285938</td>\n",
       "    </tr>\n",
       "    <tr>\n",
       "      <th>5</th>\n",
       "      <td>8</td>\n",
       "      <td>0.269310</td>\n",
       "      <td>0.212377</td>\n",
       "      <td>0.214126</td>\n",
       "    </tr>\n",
       "  </tbody>\n",
       "</table>\n",
       "</div>"
      ],
      "text/plain": [
       "  run      SIIT   natural     tracr\n",
       "0  11  0.474224  0.449420  0.436851\n",
       "1  13  0.492938  0.674353  0.493942\n",
       "2  21  0.590546  0.587903  1.000000\n",
       "3  24  0.590546  0.587903  1.000000\n",
       "4   3  0.307617  0.357617  0.285938\n",
       "5   8  0.269310  0.212377  0.214126"
      ]
     },
     "execution_count": 26,
     "metadata": {},
     "output_type": "execute_result"
    }
   ],
   "source": [
    "combined_realism_df = make_combined_realism_df_from_list(\n",
    "    [acdc_510_best_realism, acdc_100_best_realism, acdc_tracr_best_realism],\n",
    "    [\"SIIT\", \"natural\", \"tracr\"]\n",
    ")\n",
    "\n",
    "combined_realism_df"
   ]
  },
  {
   "cell_type": "code",
   "execution_count": 27,
   "metadata": {},
   "outputs": [
    {
     "data": {
      "text/plain": [
       "Text(0.5, 1.0, 'Realism scores')"
      ]
     },
     "execution_count": 27,
     "metadata": {},
     "output_type": "execute_result"
    },
    {
     "data": {
      "image/png": "[encoded data removed]",
      "text/plain": [
       "<Figure size 640x480 with 1 Axes>"
      ]
     },
     "metadata": {},
     "output_type": "display_data"
    }
   ],
   "source": [
    "# plot realism score for 510, 100 and tracr\n",
    "import matplotlib.pyplot as plt\n",
    "\n",
    "combined_realism_df.boxplot(ax=plt.gca(),\n",
    "                    column=[\"SIIT\", \"natural\", \"tracr\"],\n",
    "                    patch_artist=True,\n",
    "                    showfliers=True,\n",
    "                    # whis=[5, 95],\n",
    "                    )\n",
    "\n",
    "plt.title(\"Realism scores\")\n"
   ]
  },
  {
   "cell_type": "code",
   "execution_count": 28,
   "metadata": {},
   "outputs": [
    {
     "ename": "KeyError",
     "evalue": "'11'",
     "output_type": "error",
     "traceback": [
      "\u001b[0;31m---------------------------------------------------------------------------\u001b[0m",
      "\u001b[0;31mKeyError\u001b[0m                                  Traceback (most recent call last)",
      "Cell \u001b[0;32mIn[28], line 6\u001b[0m\n\u001b[1;32m      3\u001b[0m node_sp_510_mean_realism \u001b[38;5;241m=\u001b[39m get_best_score(node_sp_510_realism, mean\u001b[38;5;241m=\u001b[39m\u001b[38;5;28;01mTrue\u001b[39;00m)\n\u001b[1;32m      4\u001b[0m acdc_510_mean_realism \u001b[38;5;241m=\u001b[39m get_best_score(acdc_510_realism, mean\u001b[38;5;241m=\u001b[39m\u001b[38;5;28;01mTrue\u001b[39;00m)\n\u001b[0;32m----> 6\u001b[0m combined_realism_df_100_mean \u001b[38;5;241m=\u001b[39m \u001b[43mmake_combined_realism_df\u001b[49m\u001b[43m(\u001b[49m\u001b[43macdc_100_mean_realism\u001b[49m\u001b[43m,\u001b[49m\u001b[43m \u001b[49m\u001b[43mnode_sp_100_mean_realism\u001b[49m\u001b[43m)\u001b[49m\n\u001b[1;32m      7\u001b[0m combined_realism_df_510_mean \u001b[38;5;241m=\u001b[39m make_combined_realism_df(acdc_510_mean_realism, node_sp_510_mean_realism)\n\u001b[1;32m      9\u001b[0m fig, ax \u001b[38;5;241m=\u001b[39m plt\u001b[38;5;241m.\u001b[39msubplots(\u001b[38;5;241m1\u001b[39m, \u001b[38;5;241m2\u001b[39m, figsize\u001b[38;5;241m=\u001b[39m(\u001b[38;5;241m10\u001b[39m, \u001b[38;5;241m5\u001b[39m))\n",
      "File \u001b[0;32m~/src/interpretability/MATS/circuits-benchmark/notebooks/utils/realism_helper.py:19\u001b[0m, in \u001b[0;36mmake_combined_realism_df\u001b[0;34m(acdc_realism, node_sp_realism)\u001b[0m\n\u001b[1;32m     17\u001b[0m run \u001b[38;5;241m=\u001b[39m k\n\u001b[1;32m     18\u001b[0m acdc_realism_entry \u001b[38;5;241m=\u001b[39m v\n\u001b[0;32m---> 19\u001b[0m node_sp_realism_entry \u001b[38;5;241m=\u001b[39m \u001b[43mnode_sp_realism\u001b[49m\u001b[43m[\u001b[49m\u001b[43mk\u001b[49m\u001b[43m]\u001b[49m\n\u001b[1;32m     20\u001b[0m entry \u001b[38;5;241m=\u001b[39m {\u001b[38;5;124m\"\u001b[39m\u001b[38;5;124mrun\u001b[39m\u001b[38;5;124m\"\u001b[39m: run, \u001b[38;5;124m\"\u001b[39m\u001b[38;5;124macdc\u001b[39m\u001b[38;5;124m\"\u001b[39m: acdc_realism_entry, \u001b[38;5;124m\"\u001b[39m\u001b[38;5;124mnode_sp\u001b[39m\u001b[38;5;124m\"\u001b[39m: node_sp_realism_entry}\n\u001b[1;32m     21\u001b[0m combined_realism_df \u001b[38;5;241m=\u001b[39m append_row(combined_realism_df, pd\u001b[38;5;241m.\u001b[39mSeries(entry))\n",
      "\u001b[0;31mKeyError\u001b[0m: '11'"
     ]
    }
   ],
   "source": [
    "node_sp_100_mean_realism = get_best_score(node_sp_100_realism, mean=True)\n",
    "acdc_100_mean_realism = get_best_score(acdc_100_realism, mean=True)\n",
    "node_sp_510_mean_realism = get_best_score(node_sp_510_realism, mean=True)\n",
    "acdc_510_mean_realism = get_best_score(acdc_510_realism, mean=True)\n",
    "\n",
    "combined_realism_df_100_mean = make_combined_realism_df(acdc_100_mean_realism, node_sp_100_mean_realism)\n",
    "combined_realism_df_510_mean = make_combined_realism_df(acdc_510_mean_realism, node_sp_510_mean_realism)\n",
    "\n",
    "fig, ax = plt.subplots(1, 2, figsize=(10, 5))\n",
    "\n",
    "combined_realism_df_510_mean.boxplot(ax=ax[0],\n",
    "                    column=[\"acdc\", \"node_sp\"], \n",
    "                    patch_artist=True,\n",
    "                    showfliers=True,\n",
    "                    # whis=[5, 95],\n",
    "                    )\n",
    "\n",
    "combined_realism_df_100_mean.boxplot(ax=ax[1],\n",
    "                    column=[\"acdc\", \"node_sp\"], \n",
    "                    patch_artist=True,\n",
    "                    showfliers=True,\n",
    "                    # whis=[5, 95],\n",
    "                    )\n",
    "\n",
    "ax[0].set_title(\"Mean Realism Scores for Weight SIIT\")\n",
    "ax[1].set_title(\"Mean Realism Scores for Weight Natural Model\")\n"
   ]
  },
  {
   "cell_type": "code",
   "execution_count": null,
   "metadata": {},
   "outputs": [
    {
     "data": {
      "text/plain": [
       "Text(0.5, 1.0, 'Realism Scores for Weight tracr')"
      ]
     },
     "execution_count": 60,
     "metadata": {},
     "output_type": "execute_result"
    },
    {
     "data": {
      "image/png": "[encoded data removed]",
      "text/plain": [
       "<Figure size 1500x500 with 2 Axes>"
      ]
     },
     "metadata": {},
     "output_type": "display_data"
    }
   ],
   "source": [
    "combined_realism_510 = make_combined_realism_df_from_list([\n",
    "    acdc_510_best_realism, node_sp_510_best_realism, edge_sp_510_best_realism\n",
    "], [\"acdc\", \"node_sp\", \"edge_sp\"])\n",
    "\n",
    "# combined_realism_100 = make_combined_realism_df_from_list([\n",
    "#     acdc_100_best_realism, node_sp_100_best_realism, edge_sp_100_best_realism\n",
    "# ], [\"acdc\", \"node_sp\", \"edge_sp\"])\n",
    "\n",
    "combined_realism_tracr = make_combined_realism_df_from_list([\n",
    "    acdc_tracr_best_realism, node_sp_tracr_best_realism, edge_sp_tracr_best_realism\n",
    "], [\"acdc\", \"node_sp\", \"edge_sp\"])\n",
    "\n",
    "fig, ax = plt.subplots(1, 2, figsize=(15, 5))\n",
    "\n",
    "combined_realism_510.boxplot(ax=ax[0],\n",
    "                    column=[\"acdc\", \"node_sp\", \"edge_sp\"],\n",
    "                    patch_artist=True,\n",
    "                    showfliers=True,\n",
    "                    # whis=[5, 95],\n",
    "                    )\n",
    "# combined_realism_100.boxplot(ax=ax[1],\n",
    "#                     column=[\"acdc\", \"node_sp\", \"edge_sp\"],\n",
    "#                     patch_artist=True,\n",
    "#                     showfliers=True,\n",
    "#                     # whis=[5, 95],\n",
    "#                     )\n",
    "combined_realism_tracr.boxplot(ax=ax[1],\n",
    "                    column=[\"acdc\", \"node_sp\", \"edge_sp\"],\n",
    "                    patch_artist=True,\n",
    "                    showfliers=True,\n",
    "                    # whis=[5, 95],\n",
    "                    )\n",
    "\n",
    "ax[0].set_title(\"Realism Scores for Weight 510\")\n",
    "ax[1].set_title(\"Realism Scores for Weight tracr\")\n",
    "# ax[2].set_title(\"Realism Scores for Weight tracr\")"
   ]
  },
  {
   "cell_type": "code",
   "execution_count": null,
   "metadata": {},
   "outputs": [
    {
     "data": {
      "text/plain": [
       "(  run      acdc   node_sp\n",
       " 0  11  0.474224  0.436851\n",
       " 1  13  0.492938  0.492940\n",
       " 2  21  0.590546  0.400278\n",
       " 3  24  0.590546  0.400278\n",
       " 4   3  0.307617  0.307617\n",
       " 5   8  0.269310  0.249977,\n",
       "   run      acdc   node_sp\n",
       " 0  11  0.474224  0.436851\n",
       " 1  13  0.492938  0.492940\n",
       " 2  21  0.590546  0.400278\n",
       " 3  24  0.590546  0.400278\n",
       " 4   3  0.307617  0.307617\n",
       " 5   8  0.269310  0.249977)"
      ]
     },
     "execution_count": 76,
     "metadata": {},
     "output_type": "execute_result"
    }
   ],
   "source": [
    "combined_realism_df_510_mean, combined_realism_df_100_mean"
   ]
  }
 ],
 "metadata": {
  "kernelspec": {
   "display_name": ".iit",
   "language": "python",
   "name": "python3"
  },
  "language_info": {
   "codemirror_mode": {
    "name": "ipython",
    "version": 3
   },
   "file_extension": ".py",
   "mimetype": "text/x-python",
   "name": "python",
   "nbconvert_exporter": "python",
   "pygments_lexer": "ipython3",
   "version": "3.11.4"
  }
 },
 "nbformat": 4,
 "nbformat_minor": 2
}
