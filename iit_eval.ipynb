{
 "cells": [
  {
   "cell_type": "markdown",
   "metadata": {},
   "source": [
    "### Setup"
   ]
  },
  {
   "cell_type": "code",
   "execution_count": 1,
   "metadata": {},
   "outputs": [
    {
     "name": "stderr",
     "output_type": "stream",
     "text": [
      "/Users/cybershiptrooper/src/interpretability/MATS/.iit/lib/python3.11/site-packages/tqdm/auto.py:21: TqdmWarning: IProgress not found. Please update jupyter and ipywidgets. See https://ipywidgets.readthedocs.io/en/stable/user_install.html\n",
      "  from .autonotebook import tqdm as notebook_tqdm\n"
     ]
    }
   ],
   "source": [
    "import sys\n",
    "import os\n",
    "import transformer_lens as tl\n",
    "from torch.utils.data import Dataset\n",
    "import torch as t\n",
    "from tqdm import tqdm\n",
    "from torch.utils.data import DataLoader\n",
    "import numpy as np\n",
    "import wandb\n",
    "from typing import List, Dict, Any, Optional\n",
    "\n",
    "from circuits_benchmark.benchmark.benchmark_case import BenchmarkCase, CaseDataset\n",
    "from circuits_benchmark.transformers.hooked_tracr_transformer import HookedTracrTransformer\n",
    "import iit.model_pairs as mp\n",
    "import iit.utils.index as index\n",
    "from iit_utils.dataset import create_dataset, TracrDataset, TracrIITDataset\n",
    "import iit_utils.correspondence as correspondence\n",
    "from circuits_benchmark.utils.get_cases import get_cases\n",
    "from circuits_benchmark.commands.build_main_parser import build_main_parser\n",
    "from iit_utils.iit_hl_model import make_iit_hl_model\n",
    "\n",
    "DEVICE = t.device(\"cuda\" if t.cuda.is_available() else \"cpu\")\n",
    "WANDB_ENTITY = \"cybershiptrooper\" # TODO make this an env var"
   ]
  },
  {
   "cell_type": "markdown",
   "metadata": {},
   "source": [
    "### Train Model"
   ]
  },
  {
   "cell_type": "code",
   "execution_count": 2,
   "metadata": {},
   "outputs": [
    {
     "data": {
      "text/plain": [
       "'StrictIITModelPair'"
      ]
     },
     "execution_count": 2,
     "metadata": {},
     "output_type": "execute_result"
    }
   ],
   "source": [
    "attn_idx = None\n",
    "atol = 5e-2\n",
    "losses = \"all\"\n",
    "tracr_model_class = mp.StrictIITModelPair\n",
    "case_num = 3\n",
    "train_model = True\n",
    "training_args = {\n",
    "    \"lr\" : 1e-3,\n",
    "    \"losses\" : losses,\n",
    "    \"atol\" : atol,\n",
    "    \"batch_size\" : 512,\n",
    "    \"use_single_loss\": False,\n",
    "    \"iit_weight\": 1.0,\n",
    "    \"behavior_weight\": 1.0,\n",
    "    \"strict_weight\": 0.4,\n",
    "    # \"scale\": 1.0,\n",
    "    # \"use_ln_hooks\": True,\n",
    "    \"clip_grad_norm\": 1,\n",
    "    # \"lr_scheduler\": None\n",
    "}\n",
    "tracr_model_class.__name__"
   ]
  },
  {
   "cell_type": "code",
   "execution_count": 3,
   "metadata": {},
   "outputs": [],
   "source": [
    "np.random.seed(0)\n",
    "t.manual_seed(0)\n",
    "\n",
    "args, _ = build_main_parser().parse_known_args([\"compile\",\n",
    "                                                f\"-i={case_num}\",\n",
    "                                                \"-f\",])\n",
    "cases = get_cases(args)\n",
    "case = cases[0]\n",
    "\n",
    "tracr_output = case.build_tracr_model()\n",
    "hl_model = case.build_transformer_lens_model()\n",
    "# this is the graph node -> hl node correspondence\n",
    "hl_ll_corr = correspondence.TracrCorrespondence.from_output(case, tracr_output)"
   ]
  },
  {
   "cell_type": "code",
   "execution_count": 4,
   "metadata": {},
   "outputs": [
    {
     "data": {
      "text/plain": [
       "[['BOS', 1.0, 0.5, 0.3333333432674408, 0.25]]"
      ]
     },
     "execution_count": 4,
     "metadata": {},
     "output_type": "execute_result"
    }
   ],
   "source": [
    "hl_model([['BOS', 'x', 'b', 'a', 'a']], return_type='decoded')"
   ]
  },
  {
   "cell_type": "code",
   "execution_count": 5,
   "metadata": {},
   "outputs": [],
   "source": [
    "# seed everything\n",
    "t.manual_seed(1)\n",
    "np.random.seed(1)\n",
    "import random\n",
    "random.seed(1)"
   ]
  },
  {
   "cell_type": "code",
   "execution_count": 6,
   "metadata": {},
   "outputs": [],
   "source": [
    "data = case.get_clean_data(count=15000)\n",
    "inputs = data.get_inputs().to_numpy()\n",
    "outputs = data.get_correct_outputs().to_numpy()\n",
    "\n",
    "train_inputs = inputs[:12000]\n",
    "test_inputs = inputs[12000:]\n",
    "train_outputs = outputs[:12000]\n",
    "test_outputs = outputs[12000:]\n",
    "\n",
    "train_set, test_set = create_dataset(case, hl_model)"
   ]
  },
  {
   "cell_type": "code",
   "execution_count": 7,
   "metadata": {},
   "outputs": [
    {
     "name": "stdout",
     "output_type": "stream",
     "text": [
      "{'n_layers': 2, 'd_model': 8, 'n_ctx': 5, 'd_head': 4, 'model_name': 'custom', 'n_heads': 4, 'd_mlp': 16, 'act_fn': 'gelu', 'd_vocab': 6, 'eps': 1e-05, 'use_attn_result': True, 'use_attn_scale': True, 'use_split_qkv_input': True, 'use_hook_mlp_in': True, 'use_attn_in': False, 'use_local_attn': False, 'original_architecture': None, 'from_checkpoint': False, 'checkpoint_index': None, 'checkpoint_label_type': None, 'checkpoint_value': None, 'tokenizer_name': None, 'window_size': None, 'attn_types': None, 'init_mode': 'gpt2', 'normalization_type': None, 'device': device(type='mps'), 'n_devices': 1, 'attention_dir': 'causal', 'attn_only': False, 'seed': None, 'initializer_range': 0.22188007849009167, 'init_weights': True, 'scale_attn_by_inverse_layer_idx': False, 'positional_embedding_type': 'standard', 'final_rms': False, 'd_vocab_out': 1, 'parallel_attn_mlp': False, 'rotary_dim': None, 'n_params': 676, 'use_hook_tokens': False, 'gated_mlp': False, 'default_prepend_bos': True, 'dtype': torch.float32, 'tokenizer_prepends_bos': None, 'n_key_value_heads': None, 'post_embedding_ln': False, 'rotary_base': 10000, 'trust_remote_code': False, 'rotary_adjacent_pairs': False}\n"
     ]
    }
   ],
   "source": [
    "from transformer_lens import HookedTransformer, HookedTransformerConfig\n",
    "\n",
    "cfg_dict = {\n",
    "    \"n_layers\": 2, \n",
    "    \"n_heads\": 4, \n",
    "    \"d_head\": 4,\n",
    "    \"d_model\": 8,\n",
    "    \"d_mlp\": 16,\n",
    "    \"act_fn\": \"gelu\",\n",
    "}\n",
    "ll_cfg = hl_model.cfg.to_dict().copy()\n",
    "ll_cfg.update(cfg_dict)\n",
    "\n",
    "\n",
    "print(ll_cfg)\n",
    "ll_cfg = HookedTransformerConfig.from_dict(ll_cfg)\n",
    "model = HookedTransformer(ll_cfg)\n"
   ]
  },
  {
   "cell_type": "code",
   "execution_count": 8,
   "metadata": {},
   "outputs": [
    {
     "name": "stdout",
     "output_type": "stream",
     "text": [
      "{'hook_embed': HookPoint(), 'hook_pos_embed': HookPoint(), 'blocks.0.attn.hook_k': HookPoint(), 'blocks.0.attn.hook_q': HookPoint(), 'blocks.0.attn.hook_v': HookPoint(), 'blocks.0.attn.hook_z': HookPoint(), 'blocks.0.attn.hook_attn_scores': HookPoint(), 'blocks.0.attn.hook_pattern': HookPoint(), 'blocks.0.attn.hook_result': HookPoint(), 'blocks.0.mlp.hook_pre': HookPoint(), 'blocks.0.mlp.hook_post': HookPoint(), 'blocks.0.hook_attn_in': HookPoint(), 'blocks.0.hook_q_input': HookPoint(), 'blocks.0.hook_k_input': HookPoint(), 'blocks.0.hook_v_input': HookPoint(), 'blocks.0.hook_mlp_in': HookPoint(), 'blocks.0.hook_attn_out': HookPoint(), 'blocks.0.hook_mlp_out': HookPoint(), 'blocks.0.hook_resid_pre': HookPoint(), 'blocks.0.hook_resid_mid': HookPoint(), 'blocks.0.hook_resid_post': HookPoint(), 'blocks.1.attn.hook_k': HookPoint(), 'blocks.1.attn.hook_q': HookPoint(), 'blocks.1.attn.hook_v': HookPoint(), 'blocks.1.attn.hook_z': HookPoint(), 'blocks.1.attn.hook_attn_scores': HookPoint(), 'blocks.1.attn.hook_pattern': HookPoint(), 'blocks.1.attn.hook_result': HookPoint(), 'blocks.1.mlp.hook_pre': HookPoint(), 'blocks.1.mlp.hook_post': HookPoint(), 'blocks.1.hook_attn_in': HookPoint(), 'blocks.1.hook_q_input': HookPoint(), 'blocks.1.hook_k_input': HookPoint(), 'blocks.1.hook_v_input': HookPoint(), 'blocks.1.hook_mlp_in': HookPoint(), 'blocks.1.hook_attn_out': HookPoint(), 'blocks.1.hook_mlp_out': HookPoint(), 'blocks.1.hook_resid_pre': HookPoint(), 'blocks.1.hook_resid_mid': HookPoint(), 'blocks.1.hook_resid_post': HookPoint()}\n",
      "dict_keys([TracrHLNode(name: blocks.0.mlp.hook_post,\n",
      " label: is_x_3,\n",
      " classes: 0,\n",
      " index: [:]\n",
      "), TracrHLNode(name: blocks.1.attn.hook_result,\n",
      " label: frac_prevs_1,\n",
      " classes: 0,\n",
      " index: [:, :, 0, :]\n",
      ")])\n"
     ]
    }
   ],
   "source": [
    "model_pair = tracr_model_class(\n",
    "    hl_model = make_iit_hl_model(hl_model),\n",
    "    ll_model = model,\n",
    "    corr = hl_ll_corr,\n",
    "    training_args=training_args,\n",
    ")"
   ]
  },
  {
   "cell_type": "code",
   "execution_count": 9,
   "metadata": {},
   "outputs": [],
   "source": [
    "\n",
    "ll_model = HookedTracrTransformer(\n",
    "    ll_cfg, hl_model.tracr_input_encoder, hl_model.tracr_output_encoder, hl_model.residual_stream_labels\n",
    ")\n"
   ]
  },
  {
   "cell_type": "code",
   "execution_count": 10,
   "metadata": {},
   "outputs": [
    {
     "name": "stdout",
     "output_type": "stream",
     "text": [
      "training_args={'batch_size': 512, 'lr': 0.001, 'num_workers': 0, 'early_stop': True, 'lr_scheduler': <class 'torch.optim.lr_scheduler.ReduceLROnPlateau'>, 'scheduler_val_metric': 'val/accuracy', 'scheduler_mode': 'max', 'clip_grad_norm': 1, 'atol': 0.05, 'use_single_loss': False, 'iit_weight': 1.0, 'behavior_weight': 1.0, 'strict_weight': 0.4, 'losses': 'all'}\n"
     ]
    },
    {
     "name": "stderr",
     "output_type": "stream",
     "text": [
      "  0%|          | 0/1000 [00:00<?, ?it/s]\n"
     ]
    },
    {
     "name": "stderr",
     "output_type": "stream",
     "text": [
      "100%|██████████| 24/24 [00:02<00:00,  8.76it/s]\n",
      "  0%|          | 1/1000 [00:03<51:16,  3.08s/it]"
     ]
    },
    {
     "name": "stdout",
     "output_type": "stream",
     "text": [
      "\n",
      "Epoch 0: train/iit_loss: 0.0791, train/behavior_loss: 0.0350, train/strict_loss: 0.0161, val/iit_loss: 0.0680, val/IIA: 32.34%, val/accuracy: 46.23%, \n"
     ]
    },
    {
     "name": "stderr",
     "output_type": "stream",
     "text": [
      "100%|██████████| 24/24 [00:02<00:00, 10.67it/s]\n",
      "  0%|          | 2/1000 [00:05<45:03,  2.71s/it]"
     ]
    },
    {
     "name": "stdout",
     "output_type": "stream",
     "text": [
      "\n",
      "Epoch 1: train/iit_loss: 0.0513, train/behavior_loss: 0.0048, train/strict_loss: 0.0044, val/iit_loss: 0.0238, val/IIA: 43.14%, val/accuracy: 72.28%, \n"
     ]
    },
    {
     "name": "stderr",
     "output_type": "stream",
     "text": [
      "100%|██████████| 24/24 [00:02<00:00, 10.74it/s]\n",
      "  0%|          | 3/1000 [00:07<42:58,  2.59s/it]"
     ]
    },
    {
     "name": "stdout",
     "output_type": "stream",
     "text": [
      "\n",
      "Epoch 2: train/iit_loss: 0.0104, train/behavior_loss: 0.0017, train/strict_loss: 0.0022, val/iit_loss: 0.0032, val/IIA: 75.15%, val/accuracy: 86.68%, \n"
     ]
    },
    {
     "name": "stderr",
     "output_type": "stream",
     "text": [
      "100%|██████████| 24/24 [00:02<00:00, 10.75it/s]\n",
      "  0%|          | 4/1000 [00:10<41:56,  2.53s/it]"
     ]
    },
    {
     "name": "stdout",
     "output_type": "stream",
     "text": [
      "\n",
      "Epoch 3: train/iit_loss: 0.0033, train/behavior_loss: 0.0010, train/strict_loss: 0.0021, val/iit_loss: 0.0020, val/IIA: 80.45%, val/accuracy: 95.70%, \n"
     ]
    },
    {
     "name": "stderr",
     "output_type": "stream",
     "text": [
      "100%|██████████| 24/24 [00:02<00:00, 10.72it/s]\n",
      "  0%|          | 5/1000 [00:12<41:22,  2.49s/it]"
     ]
    },
    {
     "name": "stdout",
     "output_type": "stream",
     "text": [
      "\n",
      "Epoch 4: train/iit_loss: 0.0016, train/behavior_loss: 0.0006, train/strict_loss: 0.0011, val/iit_loss: 0.0013, val/IIA: 86.18%, val/accuracy: 97.17%, \n"
     ]
    },
    {
     "name": "stderr",
     "output_type": "stream",
     "text": [
      "100%|██████████| 24/24 [00:02<00:00, 10.80it/s]\n",
      "  1%|          | 6/1000 [00:15<40:54,  2.47s/it]"
     ]
    },
    {
     "name": "stdout",
     "output_type": "stream",
     "text": [
      "\n",
      "Epoch 5: train/iit_loss: 0.0011, train/behavior_loss: 0.0004, train/strict_loss: 0.0009, val/iit_loss: 0.0017, val/IIA: 79.18%, val/accuracy: 97.92%, \n"
     ]
    },
    {
     "name": "stderr",
     "output_type": "stream",
     "text": [
      "100%|██████████| 24/24 [00:02<00:00, 10.63it/s]\n",
      "  1%|          | 7/1000 [00:17<40:48,  2.47s/it]"
     ]
    },
    {
     "name": "stdout",
     "output_type": "stream",
     "text": [
      "\n",
      "Epoch 6: train/iit_loss: 0.0008, train/behavior_loss: 0.0003, train/strict_loss: 0.0009, val/iit_loss: 0.0005, val/IIA: 96.74%, val/accuracy: 99.68%, \n"
     ]
    },
    {
     "name": "stderr",
     "output_type": "stream",
     "text": [
      "100%|██████████| 24/24 [00:02<00:00, 10.72it/s]\n",
      "  1%|          | 8/1000 [00:20<40:36,  2.46s/it]"
     ]
    },
    {
     "name": "stdout",
     "output_type": "stream",
     "text": [
      "\n",
      "Epoch 7: train/iit_loss: 0.0005, train/behavior_loss: 0.0003, train/strict_loss: 0.0005, val/iit_loss: 0.0010, val/IIA: 88.80%, val/accuracy: 99.92%, \n"
     ]
    },
    {
     "name": "stderr",
     "output_type": "stream",
     "text": [
      "100%|██████████| 24/24 [00:02<00:00, 10.60it/s]\n",
      "  1%|          | 9/1000 [00:22<40:35,  2.46s/it]"
     ]
    },
    {
     "name": "stdout",
     "output_type": "stream",
     "text": [
      "\n",
      "Epoch 8: train/iit_loss: 0.0008, train/behavior_loss: 0.0005, train/strict_loss: 0.0005, val/iit_loss: 0.0007, val/IIA: 92.37%, val/accuracy: 99.92%, \n"
     ]
    },
    {
     "name": "stderr",
     "output_type": "stream",
     "text": [
      "100%|██████████| 24/24 [00:02<00:00, 10.75it/s]\n",
      "  1%|          | 10/1000 [00:25<40:25,  2.45s/it]"
     ]
    },
    {
     "name": "stdout",
     "output_type": "stream",
     "text": [
      "\n",
      "Epoch 9: train/iit_loss: 0.0005, train/behavior_loss: 0.0001, train/strict_loss: 0.0003, val/iit_loss: 0.0007, val/IIA: 91.73%, val/accuracy: 99.92%, \n"
     ]
    },
    {
     "name": "stderr",
     "output_type": "stream",
     "text": [
      "100%|██████████| 24/24 [00:02<00:00, 10.59it/s]\n",
      "  1%|          | 11/1000 [00:27<40:27,  2.45s/it]"
     ]
    },
    {
     "name": "stdout",
     "output_type": "stream",
     "text": [
      "\n",
      "Epoch 10: train/iit_loss: 0.0007, train/behavior_loss: 0.0003, train/strict_loss: 0.0003, val/iit_loss: 0.0005, val/IIA: 94.45%, val/accuracy: 99.92%, \n"
     ]
    },
    {
     "name": "stderr",
     "output_type": "stream",
     "text": [
      "100%|██████████| 24/24 [00:02<00:00, 10.71it/s]\n",
      "  1%|          | 12/1000 [00:29<40:20,  2.45s/it]"
     ]
    },
    {
     "name": "stdout",
     "output_type": "stream",
     "text": [
      "\n",
      "Epoch 11: train/iit_loss: 0.0005, train/behavior_loss: 0.0002, train/strict_loss: 0.0003, val/iit_loss: 0.0005, val/IIA: 95.37%, val/accuracy: 100.00%, \n"
     ]
    },
    {
     "name": "stderr",
     "output_type": "stream",
     "text": [
      "100%|██████████| 24/24 [00:02<00:00, 10.65it/s]\n",
      "  1%|▏         | 13/1000 [00:32<40:20,  2.45s/it]"
     ]
    },
    {
     "name": "stdout",
     "output_type": "stream",
     "text": [
      "\n",
      "Epoch 12: train/iit_loss: 0.0004, train/behavior_loss: 0.0001, train/strict_loss: 0.0003, val/iit_loss: 0.0002, val/IIA: 98.37%, val/accuracy: 100.00%, \n"
     ]
    },
    {
     "name": "stderr",
     "output_type": "stream",
     "text": [
      "100%|██████████| 24/24 [00:02<00:00, 10.77it/s]\n",
      "  1%|▏         | 14/1000 [00:34<40:09,  2.44s/it]"
     ]
    },
    {
     "name": "stdout",
     "output_type": "stream",
     "text": [
      "\n",
      "Epoch 13: train/iit_loss: 0.0004, train/behavior_loss: 0.0002, train/strict_loss: 0.0002, val/iit_loss: 0.0006, val/IIA: 94.17%, val/accuracy: 99.92%, \n"
     ]
    },
    {
     "name": "stderr",
     "output_type": "stream",
     "text": [
      "100%|██████████| 24/24 [00:02<00:00, 10.74it/s]\n",
      "  2%|▏         | 15/1000 [00:37<40:04,  2.44s/it]"
     ]
    },
    {
     "name": "stdout",
     "output_type": "stream",
     "text": [
      "\n",
      "Epoch 14: train/iit_loss: 0.0003, train/behavior_loss: 0.0001, train/strict_loss: 0.0002, val/iit_loss: 0.0004, val/IIA: 95.23%, val/accuracy: 100.00%, \n"
     ]
    },
    {
     "name": "stderr",
     "output_type": "stream",
     "text": [
      "100%|██████████| 24/24 [00:02<00:00, 10.56it/s]\n",
      "  2%|▏         | 16/1000 [00:39<40:10,  2.45s/it]"
     ]
    },
    {
     "name": "stdout",
     "output_type": "stream",
     "text": [
      "\n",
      "Epoch 15: train/iit_loss: 0.0003, train/behavior_loss: 0.0001, train/strict_loss: 0.0002, val/iit_loss: 0.0004, val/IIA: 96.71%, val/accuracy: 100.00%, \n"
     ]
    },
    {
     "name": "stderr",
     "output_type": "stream",
     "text": [
      "100%|██████████| 24/24 [00:02<00:00, 10.62it/s]\n",
      "  2%|▏         | 17/1000 [00:42<40:10,  2.45s/it]"
     ]
    },
    {
     "name": "stdout",
     "output_type": "stream",
     "text": [
      "\n",
      "Epoch 16: train/iit_loss: 0.0003, train/behavior_loss: 0.0001, train/strict_loss: 0.0002, val/iit_loss: 0.0003, val/IIA: 97.50%, val/accuracy: 100.00%, \n"
     ]
    },
    {
     "name": "stderr",
     "output_type": "stream",
     "text": [
      "100%|██████████| 24/24 [00:02<00:00, 10.67it/s]\n",
      "  2%|▏         | 18/1000 [00:44<40:07,  2.45s/it]"
     ]
    },
    {
     "name": "stdout",
     "output_type": "stream",
     "text": [
      "\n",
      "Epoch 17: train/iit_loss: 0.0003, train/behavior_loss: 0.0002, train/strict_loss: 0.0002, val/iit_loss: 0.0001, val/IIA: 99.32%, val/accuracy: 100.00%, \n"
     ]
    },
    {
     "name": "stderr",
     "output_type": "stream",
     "text": [
      "100%|██████████| 24/24 [00:02<00:00, 10.75it/s]\n",
      "  2%|▏         | 19/1000 [00:47<39:58,  2.45s/it]"
     ]
    },
    {
     "name": "stdout",
     "output_type": "stream",
     "text": [
      "\n",
      "Epoch 18: train/iit_loss: 0.0003, train/behavior_loss: 0.0001, train/strict_loss: 0.0002, val/iit_loss: 0.0002, val/IIA: 98.74%, val/accuracy: 100.00%, \n"
     ]
    },
    {
     "name": "stderr",
     "output_type": "stream",
     "text": [
      "100%|██████████| 24/24 [00:02<00:00, 10.64it/s]\n",
      "  2%|▏         | 20/1000 [00:49<39:59,  2.45s/it]"
     ]
    },
    {
     "name": "stdout",
     "output_type": "stream",
     "text": [
      "\n",
      "Epoch 19: train/iit_loss: 0.0002, train/behavior_loss: 0.0001, train/strict_loss: 0.0001, val/iit_loss: 0.0003, val/IIA: 97.83%, val/accuracy: 100.00%, \n"
     ]
    },
    {
     "name": "stderr",
     "output_type": "stream",
     "text": [
      "100%|██████████| 24/24 [00:02<00:00, 10.68it/s]\n",
      "  2%|▏         | 21/1000 [00:51<39:56,  2.45s/it]"
     ]
    },
    {
     "name": "stdout",
     "output_type": "stream",
     "text": [
      "\n",
      "Epoch 20: train/iit_loss: 0.0002, train/behavior_loss: 0.0001, train/strict_loss: 0.0001, val/iit_loss: 0.0002, val/IIA: 98.99%, val/accuracy: 100.00%, \n"
     ]
    },
    {
     "name": "stderr",
     "output_type": "stream",
     "text": [
      "100%|██████████| 24/24 [00:02<00:00, 10.65it/s]\n",
      "  2%|▏         | 22/1000 [00:54<39:54,  2.45s/it]"
     ]
    },
    {
     "name": "stdout",
     "output_type": "stream",
     "text": [
      "\n",
      "Epoch 21: train/iit_loss: 0.0002, train/behavior_loss: 0.0001, train/strict_loss: 0.0001, val/iit_loss: 0.0002, val/IIA: 98.81%, val/accuracy: 100.00%, \n"
     ]
    },
    {
     "name": "stderr",
     "output_type": "stream",
     "text": [
      "100%|██████████| 24/24 [00:02<00:00, 10.59it/s]\n",
      "  2%|▏         | 23/1000 [00:56<39:57,  2.45s/it]"
     ]
    },
    {
     "name": "stdout",
     "output_type": "stream",
     "text": [
      "\n",
      "Epoch 22: train/iit_loss: 0.0002, train/behavior_loss: 0.0001, train/strict_loss: 0.0001, val/iit_loss: 0.0002, val/IIA: 99.00%, val/accuracy: 100.00%, \n"
     ]
    },
    {
     "name": "stderr",
     "output_type": "stream",
     "text": [
      "100%|██████████| 24/24 [00:02<00:00, 10.73it/s]\n",
      "  2%|▏         | 24/1000 [00:59<39:49,  2.45s/it]"
     ]
    },
    {
     "name": "stdout",
     "output_type": "stream",
     "text": [
      "\n",
      "Epoch 23: train/iit_loss: 0.0002, train/behavior_loss: 0.0000, train/strict_loss: 0.0001, val/iit_loss: 0.0002, val/IIA: 98.97%, val/accuracy: 100.00%, \n"
     ]
    },
    {
     "name": "stderr",
     "output_type": "stream",
     "text": [
      "100%|██████████| 24/24 [00:02<00:00, 10.60it/s]\n",
      "  2%|▎         | 25/1000 [01:01<39:51,  2.45s/it]"
     ]
    },
    {
     "name": "stdout",
     "output_type": "stream",
     "text": [
      "\n",
      "Epoch 24: train/iit_loss: 0.0002, train/behavior_loss: 0.0000, train/strict_loss: 0.0001, val/iit_loss: 0.0001, val/IIA: 99.28%, val/accuracy: 100.00%, \n"
     ]
    },
    {
     "name": "stderr",
     "output_type": "stream",
     "text": [
      "100%|██████████| 24/24 [00:02<00:00, 10.56it/s]\n",
      "  3%|▎         | 26/1000 [01:04<39:55,  2.46s/it]"
     ]
    },
    {
     "name": "stdout",
     "output_type": "stream",
     "text": [
      "\n",
      "Epoch 25: train/iit_loss: 0.0002, train/behavior_loss: 0.0000, train/strict_loss: 0.0001, val/iit_loss: 0.0002, val/IIA: 98.72%, val/accuracy: 100.00%, \n"
     ]
    },
    {
     "name": "stderr",
     "output_type": "stream",
     "text": [
      "100%|██████████| 24/24 [00:02<00:00, 10.70it/s]\n",
      "  3%|▎         | 27/1000 [01:06<39:48,  2.45s/it]"
     ]
    },
    {
     "name": "stdout",
     "output_type": "stream",
     "text": [
      "\n",
      "Epoch 26: train/iit_loss: 0.0001, train/behavior_loss: 0.0000, train/strict_loss: 0.0001, val/iit_loss: 0.0001, val/IIA: 99.68%, val/accuracy: 100.00%, \n"
     ]
    },
    {
     "name": "stderr",
     "output_type": "stream",
     "text": [
      "100%|██████████| 24/24 [00:02<00:00, 10.47it/s]\n",
      "  3%|▎         | 28/1000 [01:09<39:57,  2.47s/it]"
     ]
    },
    {
     "name": "stdout",
     "output_type": "stream",
     "text": [
      "\n",
      "Epoch 27: train/iit_loss: 0.0002, train/behavior_loss: 0.0000, train/strict_loss: 0.0001, val/iit_loss: 0.0001, val/IIA: 99.65%, val/accuracy: 100.00%, \n"
     ]
    },
    {
     "name": "stderr",
     "output_type": "stream",
     "text": [
      "100%|██████████| 24/24 [00:02<00:00, 10.34it/s]\n",
      "  3%|▎         | 29/1000 [01:11<40:13,  2.49s/it]"
     ]
    },
    {
     "name": "stdout",
     "output_type": "stream",
     "text": [
      "\n",
      "Epoch 28: train/iit_loss: 0.0002, train/behavior_loss: 0.0000, train/strict_loss: 0.0001, val/iit_loss: 0.0002, val/IIA: 98.67%, val/accuracy: 100.00%, \n"
     ]
    },
    {
     "name": "stderr",
     "output_type": "stream",
     "text": [
      "100%|██████████| 24/24 [00:02<00:00, 10.15it/s]\n",
      "  3%|▎         | 30/1000 [01:14<40:36,  2.51s/it]"
     ]
    },
    {
     "name": "stdout",
     "output_type": "stream",
     "text": [
      "\n",
      "Epoch 29: train/iit_loss: 0.0001, train/behavior_loss: 0.0000, train/strict_loss: 0.0001, val/iit_loss: 0.0002, val/IIA: 98.69%, val/accuracy: 100.00%, \n"
     ]
    },
    {
     "name": "stderr",
     "output_type": "stream",
     "text": [
      "100%|██████████| 24/24 [00:02<00:00, 10.13it/s]\n",
      "  3%|▎         | 31/1000 [01:16<40:50,  2.53s/it]"
     ]
    },
    {
     "name": "stdout",
     "output_type": "stream",
     "text": [
      "\n",
      "Epoch 30: train/iit_loss: 0.0002, train/behavior_loss: 0.0000, train/strict_loss: 0.0001, val/iit_loss: 0.0002, val/IIA: 98.41%, val/accuracy: 100.00%, \n"
     ]
    },
    {
     "name": "stderr",
     "output_type": "stream",
     "text": [
      "100%|██████████| 24/24 [00:02<00:00, 10.12it/s]\n",
      "  3%|▎         | 32/1000 [01:19<41:01,  2.54s/it]"
     ]
    },
    {
     "name": "stdout",
     "output_type": "stream",
     "text": [
      "\n",
      "Epoch 31: train/iit_loss: 0.0002, train/behavior_loss: 0.0000, train/strict_loss: 0.0001, val/iit_loss: 0.0002, val/IIA: 98.68%, val/accuracy: 100.00%, \n"
     ]
    },
    {
     "name": "stderr",
     "output_type": "stream",
     "text": [
      "100%|██████████| 24/24 [00:02<00:00, 10.45it/s]\n",
      "  3%|▎         | 33/1000 [01:21<40:45,  2.53s/it]"
     ]
    },
    {
     "name": "stdout",
     "output_type": "stream",
     "text": [
      "\n",
      "Epoch 32: train/iit_loss: 0.0001, train/behavior_loss: 0.0000, train/strict_loss: 0.0001, val/iit_loss: 0.0001, val/IIA: 99.28%, val/accuracy: 100.00%, \n"
     ]
    },
    {
     "name": "stderr",
     "output_type": "stream",
     "text": [
      "100%|██████████| 24/24 [00:02<00:00, 10.70it/s]\n",
      "  3%|▎         | 34/1000 [01:24<40:17,  2.50s/it]"
     ]
    },
    {
     "name": "stdout",
     "output_type": "stream",
     "text": [
      "\n",
      "Epoch 33: train/iit_loss: 0.0002, train/behavior_loss: 0.0000, train/strict_loss: 0.0001, val/iit_loss: 0.0002, val/IIA: 99.03%, val/accuracy: 100.00%, \n"
     ]
    },
    {
     "name": "stderr",
     "output_type": "stream",
     "text": [
      "100%|██████████| 24/24 [00:02<00:00, 10.61it/s]\n",
      "  4%|▎         | 35/1000 [01:26<40:02,  2.49s/it]"
     ]
    },
    {
     "name": "stdout",
     "output_type": "stream",
     "text": [
      "\n",
      "Epoch 34: train/iit_loss: 0.0001, train/behavior_loss: 0.0000, train/strict_loss: 0.0001, val/iit_loss: 0.0001, val/IIA: 99.38%, val/accuracy: 100.00%, \n"
     ]
    },
    {
     "name": "stderr",
     "output_type": "stream",
     "text": [
      "100%|██████████| 24/24 [00:02<00:00, 10.67it/s]\n",
      "  4%|▎         | 36/1000 [01:29<39:47,  2.48s/it]"
     ]
    },
    {
     "name": "stdout",
     "output_type": "stream",
     "text": [
      "\n",
      "Epoch 35: train/iit_loss: 0.0002, train/behavior_loss: 0.0000, train/strict_loss: 0.0001, val/iit_loss: 0.0001, val/IIA: 99.29%, val/accuracy: 100.00%, \n"
     ]
    },
    {
     "name": "stderr",
     "output_type": "stream",
     "text": [
      "100%|██████████| 24/24 [00:02<00:00, 10.67it/s]\n",
      "  4%|▎         | 37/1000 [01:31<39:36,  2.47s/it]"
     ]
    },
    {
     "name": "stdout",
     "output_type": "stream",
     "text": [
      "\n",
      "Epoch 36: train/iit_loss: 0.0002, train/behavior_loss: 0.0000, train/strict_loss: 0.0001, val/iit_loss: 0.0002, val/IIA: 98.42%, val/accuracy: 100.00%, \n"
     ]
    },
    {
     "name": "stderr",
     "output_type": "stream",
     "text": [
      "100%|██████████| 24/24 [00:02<00:00, 10.74it/s]\n",
      "  4%|▍         | 38/1000 [01:34<39:23,  2.46s/it]"
     ]
    },
    {
     "name": "stdout",
     "output_type": "stream",
     "text": [
      "\n",
      "Epoch 37: train/iit_loss: 0.0002, train/behavior_loss: 0.0000, train/strict_loss: 0.0001, val/iit_loss: 0.0002, val/IIA: 99.18%, val/accuracy: 100.00%, \n"
     ]
    },
    {
     "name": "stderr",
     "output_type": "stream",
     "text": [
      "100%|██████████| 24/24 [00:02<00:00, 10.71it/s]\n",
      "  4%|▍         | 39/1000 [01:36<39:14,  2.45s/it]"
     ]
    },
    {
     "name": "stdout",
     "output_type": "stream",
     "text": [
      "\n",
      "Epoch 38: train/iit_loss: 0.0001, train/behavior_loss: 0.0000, train/strict_loss: 0.0001, val/iit_loss: 0.0002, val/IIA: 99.14%, val/accuracy: 100.00%, \n"
     ]
    },
    {
     "name": "stderr",
     "output_type": "stream",
     "text": [
      "100%|██████████| 24/24 [00:02<00:00, 10.81it/s]\n",
      "  4%|▍         | 40/1000 [01:39<39:02,  2.44s/it]"
     ]
    },
    {
     "name": "stdout",
     "output_type": "stream",
     "text": [
      "\n",
      "Epoch 39: train/iit_loss: 0.0002, train/behavior_loss: 0.0000, train/strict_loss: 0.0001, val/iit_loss: 0.0001, val/IIA: 99.34%, val/accuracy: 100.00%, \n"
     ]
    },
    {
     "name": "stderr",
     "output_type": "stream",
     "text": [
      "100%|██████████| 24/24 [00:02<00:00, 10.73it/s]\n",
      "  4%|▍         | 41/1000 [01:41<38:59,  2.44s/it]"
     ]
    },
    {
     "name": "stdout",
     "output_type": "stream",
     "text": [
      "\n",
      "Epoch 40: train/iit_loss: 0.0002, train/behavior_loss: 0.0000, train/strict_loss: 0.0001, val/iit_loss: 0.0002, val/IIA: 99.14%, val/accuracy: 100.00%, \n"
     ]
    },
    {
     "name": "stderr",
     "output_type": "stream",
     "text": [
      "100%|██████████| 24/24 [00:02<00:00, 10.79it/s]\n",
      "  4%|▍         | 42/1000 [01:43<38:52,  2.43s/it]"
     ]
    },
    {
     "name": "stdout",
     "output_type": "stream",
     "text": [
      "\n",
      "Epoch 41: train/iit_loss: 0.0001, train/behavior_loss: 0.0000, train/strict_loss: 0.0001, val/iit_loss: 0.0001, val/IIA: 99.73%, val/accuracy: 100.00%, \n"
     ]
    },
    {
     "name": "stderr",
     "output_type": "stream",
     "text": [
      "100%|██████████| 24/24 [00:02<00:00, 10.74it/s]\n",
      "  4%|▍         | 43/1000 [01:46<38:49,  2.43s/it]"
     ]
    },
    {
     "name": "stdout",
     "output_type": "stream",
     "text": [
      "\n",
      "Epoch 42: train/iit_loss: 0.0001, train/behavior_loss: 0.0000, train/strict_loss: 0.0001, val/iit_loss: 0.0002, val/IIA: 99.11%, val/accuracy: 100.00%, \n"
     ]
    },
    {
     "name": "stderr",
     "output_type": "stream",
     "text": [
      "100%|██████████| 24/24 [00:02<00:00, 10.81it/s]\n",
      "  4%|▍         | 44/1000 [01:48<38:42,  2.43s/it]"
     ]
    },
    {
     "name": "stdout",
     "output_type": "stream",
     "text": [
      "\n",
      "Epoch 43: train/iit_loss: 0.0001, train/behavior_loss: 0.0000, train/strict_loss: 0.0001, val/iit_loss: 0.0002, val/IIA: 99.26%, val/accuracy: 100.00%, \n"
     ]
    },
    {
     "name": "stderr",
     "output_type": "stream",
     "text": [
      "100%|██████████| 24/24 [00:02<00:00, 10.73it/s]\n",
      "  4%|▍         | 45/1000 [01:51<38:41,  2.43s/it]"
     ]
    },
    {
     "name": "stdout",
     "output_type": "stream",
     "text": [
      "\n",
      "Epoch 44: train/iit_loss: 0.0001, train/behavior_loss: 0.0000, train/strict_loss: 0.0001, val/iit_loss: 0.0001, val/IIA: 99.77%, val/accuracy: 100.00%, \n"
     ]
    },
    {
     "name": "stderr",
     "output_type": "stream",
     "text": [
      "100%|██████████| 24/24 [00:02<00:00, 10.71it/s]\n",
      "  5%|▍         | 46/1000 [01:53<38:40,  2.43s/it]"
     ]
    },
    {
     "name": "stdout",
     "output_type": "stream",
     "text": [
      "\n",
      "Epoch 45: train/iit_loss: 0.0002, train/behavior_loss: 0.0000, train/strict_loss: 0.0001, val/iit_loss: 0.0002, val/IIA: 99.21%, val/accuracy: 100.00%, \n"
     ]
    },
    {
     "name": "stderr",
     "output_type": "stream",
     "text": [
      "100%|██████████| 24/24 [00:02<00:00, 10.99it/s]\n",
      "  5%|▍         | 47/1000 [01:55<38:22,  2.42s/it]"
     ]
    },
    {
     "name": "stdout",
     "output_type": "stream",
     "text": [
      "\n",
      "Epoch 46: train/iit_loss: 0.0001, train/behavior_loss: 0.0000, train/strict_loss: 0.0001, val/iit_loss: 0.0002, val/IIA: 99.15%, val/accuracy: 100.00%, \n"
     ]
    },
    {
     "name": "stderr",
     "output_type": "stream",
     "text": [
      "100%|██████████| 24/24 [00:02<00:00, 10.85it/s]\n",
      "  5%|▍         | 48/1000 [01:58<38:18,  2.41s/it]"
     ]
    },
    {
     "name": "stdout",
     "output_type": "stream",
     "text": [
      "\n",
      "Epoch 47: train/iit_loss: 0.0001, train/behavior_loss: 0.0000, train/strict_loss: 0.0001, val/iit_loss: 0.0002, val/IIA: 99.09%, val/accuracy: 100.00%, \n"
     ]
    },
    {
     "name": "stderr",
     "output_type": "stream",
     "text": [
      "100%|██████████| 24/24 [00:02<00:00, 10.90it/s]\n",
      "  5%|▍         | 49/1000 [02:00<38:11,  2.41s/it]"
     ]
    },
    {
     "name": "stdout",
     "output_type": "stream",
     "text": [
      "\n",
      "Epoch 48: train/iit_loss: 0.0002, train/behavior_loss: 0.0000, train/strict_loss: 0.0001, val/iit_loss: 0.0002, val/IIA: 98.78%, val/accuracy: 100.00%, \n"
     ]
    },
    {
     "name": "stderr",
     "output_type": "stream",
     "text": [
      "100%|██████████| 24/24 [00:02<00:00, 11.00it/s]\n",
      "  5%|▌         | 50/1000 [02:03<37:59,  2.40s/it]"
     ]
    },
    {
     "name": "stdout",
     "output_type": "stream",
     "text": [
      "\n",
      "Epoch 49: train/iit_loss: 0.0001, train/behavior_loss: 0.0000, train/strict_loss: 0.0001, val/iit_loss: 0.0002, val/IIA: 98.87%, val/accuracy: 100.00%, \n"
     ]
    },
    {
     "name": "stderr",
     "output_type": "stream",
     "text": [
      "100%|██████████| 24/24 [00:02<00:00, 10.95it/s]\n",
      "  5%|▌         | 51/1000 [02:05<37:54,  2.40s/it]"
     ]
    },
    {
     "name": "stdout",
     "output_type": "stream",
     "text": [
      "\n",
      "Epoch 50: train/iit_loss: 0.0002, train/behavior_loss: 0.0000, train/strict_loss: 0.0001, val/iit_loss: 0.0002, val/IIA: 99.05%, val/accuracy: 100.00%, \n"
     ]
    },
    {
     "name": "stderr",
     "output_type": "stream",
     "text": [
      "100%|██████████| 24/24 [00:02<00:00, 10.82it/s]\n",
      "  5%|▌         | 52/1000 [02:07<37:55,  2.40s/it]"
     ]
    },
    {
     "name": "stdout",
     "output_type": "stream",
     "text": [
      "\n",
      "Epoch 51: train/iit_loss: 0.0001, train/behavior_loss: 0.0000, train/strict_loss: 0.0001, val/iit_loss: 0.0002, val/IIA: 99.06%, val/accuracy: 100.00%, \n"
     ]
    },
    {
     "name": "stderr",
     "output_type": "stream",
     "text": [
      "100%|██████████| 24/24 [00:02<00:00, 11.00it/s]\n",
      "  5%|▌         | 53/1000 [02:10<37:46,  2.39s/it]"
     ]
    },
    {
     "name": "stdout",
     "output_type": "stream",
     "text": [
      "\n",
      "Epoch 52: train/iit_loss: 0.0002, train/behavior_loss: 0.0000, train/strict_loss: 0.0001, val/iit_loss: 0.0002, val/IIA: 98.85%, val/accuracy: 100.00%, \n"
     ]
    },
    {
     "name": "stderr",
     "output_type": "stream",
     "text": [
      "100%|██████████| 24/24 [00:02<00:00, 11.00it/s]\n",
      "  5%|▌         | 54/1000 [02:12<37:38,  2.39s/it]"
     ]
    },
    {
     "name": "stdout",
     "output_type": "stream",
     "text": [
      "\n",
      "Epoch 53: train/iit_loss: 0.0001, train/behavior_loss: 0.0000, train/strict_loss: 0.0001, val/iit_loss: 0.0002, val/IIA: 99.03%, val/accuracy: 100.00%, \n"
     ]
    },
    {
     "name": "stderr",
     "output_type": "stream",
     "text": [
      "100%|██████████| 24/24 [00:02<00:00, 10.93it/s]\n",
      "  6%|▌         | 55/1000 [02:15<37:37,  2.39s/it]"
     ]
    },
    {
     "name": "stdout",
     "output_type": "stream",
     "text": [
      "\n",
      "Epoch 54: train/iit_loss: 0.0001, train/behavior_loss: 0.0000, train/strict_loss: 0.0001, val/iit_loss: 0.0002, val/IIA: 98.76%, val/accuracy: 100.00%, \n"
     ]
    },
    {
     "name": "stderr",
     "output_type": "stream",
     "text": [
      "100%|██████████| 24/24 [00:02<00:00, 10.87it/s]\n",
      "  6%|▌         | 56/1000 [02:17<37:40,  2.39s/it]"
     ]
    },
    {
     "name": "stdout",
     "output_type": "stream",
     "text": [
      "\n",
      "Epoch 55: train/iit_loss: 0.0001, train/behavior_loss: 0.0000, train/strict_loss: 0.0001, val/iit_loss: 0.0002, val/IIA: 98.85%, val/accuracy: 100.00%, \n"
     ]
    },
    {
     "name": "stderr",
     "output_type": "stream",
     "text": [
      "100%|██████████| 24/24 [00:02<00:00, 11.04it/s]\n",
      "  6%|▌         | 57/1000 [02:19<37:30,  2.39s/it]"
     ]
    },
    {
     "name": "stdout",
     "output_type": "stream",
     "text": [
      "\n",
      "Epoch 56: train/iit_loss: 0.0001, train/behavior_loss: 0.0000, train/strict_loss: 0.0001, val/iit_loss: 0.0002, val/IIA: 98.78%, val/accuracy: 100.00%, \n"
     ]
    },
    {
     "name": "stderr",
     "output_type": "stream",
     "text": [
      "100%|██████████| 24/24 [00:02<00:00, 10.98it/s]\n",
      "  6%|▌         | 58/1000 [02:22<37:26,  2.38s/it]"
     ]
    },
    {
     "name": "stdout",
     "output_type": "stream",
     "text": [
      "\n",
      "Epoch 57: train/iit_loss: 0.0002, train/behavior_loss: 0.0000, train/strict_loss: 0.0001, val/iit_loss: 0.0002, val/IIA: 99.17%, val/accuracy: 100.00%, \n"
     ]
    },
    {
     "name": "stderr",
     "output_type": "stream",
     "text": [
      "100%|██████████| 24/24 [00:02<00:00, 10.85it/s]\n",
      "  6%|▌         | 59/1000 [02:24<37:31,  2.39s/it]"
     ]
    },
    {
     "name": "stdout",
     "output_type": "stream",
     "text": [
      "\n",
      "Epoch 58: train/iit_loss: 0.0002, train/behavior_loss: 0.0000, train/strict_loss: 0.0001, val/iit_loss: 0.0001, val/IIA: 99.77%, val/accuracy: 100.00%, \n"
     ]
    },
    {
     "name": "stderr",
     "output_type": "stream",
     "text": [
      "100%|██████████| 24/24 [00:02<00:00, 10.98it/s]\n",
      "  6%|▌         | 60/1000 [02:27<37:25,  2.39s/it]"
     ]
    },
    {
     "name": "stdout",
     "output_type": "stream",
     "text": [
      "\n",
      "Epoch 59: train/iit_loss: 0.0002, train/behavior_loss: 0.0000, train/strict_loss: 0.0001, val/iit_loss: 0.0002, val/IIA: 98.84%, val/accuracy: 100.00%, \n"
     ]
    },
    {
     "name": "stderr",
     "output_type": "stream",
     "text": [
      "100%|██████████| 24/24 [00:02<00:00, 11.01it/s]\n",
      "  6%|▌         | 61/1000 [02:29<37:18,  2.38s/it]"
     ]
    },
    {
     "name": "stdout",
     "output_type": "stream",
     "text": [
      "\n",
      "Epoch 60: train/iit_loss: 0.0002, train/behavior_loss: 0.0000, train/strict_loss: 0.0001, val/iit_loss: 0.0002, val/IIA: 98.84%, val/accuracy: 100.00%, \n"
     ]
    },
    {
     "name": "stderr",
     "output_type": "stream",
     "text": [
      "100%|██████████| 24/24 [00:02<00:00, 10.87it/s]\n",
      "  6%|▌         | 62/1000 [02:31<37:22,  2.39s/it]"
     ]
    },
    {
     "name": "stdout",
     "output_type": "stream",
     "text": [
      "\n",
      "Epoch 61: train/iit_loss: 0.0002, train/behavior_loss: 0.0000, train/strict_loss: 0.0001, val/iit_loss: 0.0002, val/IIA: 99.12%, val/accuracy: 100.00%, \n"
     ]
    },
    {
     "name": "stderr",
     "output_type": "stream",
     "text": [
      "100%|██████████| 24/24 [00:02<00:00, 10.95it/s]\n",
      "  6%|▋         | 63/1000 [02:34<37:19,  2.39s/it]"
     ]
    },
    {
     "name": "stdout",
     "output_type": "stream",
     "text": [
      "\n",
      "Epoch 62: train/iit_loss: 0.0001, train/behavior_loss: 0.0000, train/strict_loss: 0.0001, val/iit_loss: 0.0002, val/IIA: 98.84%, val/accuracy: 100.00%, \n"
     ]
    },
    {
     "name": "stderr",
     "output_type": "stream",
     "text": [
      "100%|██████████| 24/24 [00:02<00:00, 11.02it/s]\n",
      "  6%|▋         | 64/1000 [02:36<37:11,  2.38s/it]"
     ]
    },
    {
     "name": "stdout",
     "output_type": "stream",
     "text": [
      "\n",
      "Epoch 63: train/iit_loss: 0.0001, train/behavior_loss: 0.0000, train/strict_loss: 0.0001, val/iit_loss: 0.0002, val/IIA: 99.04%, val/accuracy: 100.00%, \n"
     ]
    },
    {
     "name": "stderr",
     "output_type": "stream",
     "text": [
      "100%|██████████| 24/24 [00:02<00:00, 10.95it/s]\n",
      "  6%|▋         | 65/1000 [02:38<37:10,  2.39s/it]"
     ]
    },
    {
     "name": "stdout",
     "output_type": "stream",
     "text": [
      "\n",
      "Epoch 64: train/iit_loss: 0.0001, train/behavior_loss: 0.0000, train/strict_loss: 0.0001, val/iit_loss: 0.0001, val/IIA: 99.39%, val/accuracy: 100.00%, \n"
     ]
    },
    {
     "name": "stderr",
     "output_type": "stream",
     "text": [
      "100%|██████████| 24/24 [00:02<00:00, 10.89it/s]\n",
      "  7%|▋         | 66/1000 [02:41<37:11,  2.39s/it]"
     ]
    },
    {
     "name": "stdout",
     "output_type": "stream",
     "text": [
      "\n",
      "Epoch 65: train/iit_loss: 0.0001, train/behavior_loss: 0.0000, train/strict_loss: 0.0001, val/iit_loss: 0.0002, val/IIA: 98.91%, val/accuracy: 100.00%, \n"
     ]
    },
    {
     "name": "stderr",
     "output_type": "stream",
     "text": [
      "100%|██████████| 24/24 [00:02<00:00, 11.01it/s]\n",
      "  7%|▋         | 67/1000 [02:43<37:04,  2.38s/it]"
     ]
    },
    {
     "name": "stdout",
     "output_type": "stream",
     "text": [
      "\n",
      "Epoch 66: train/iit_loss: 0.0001, train/behavior_loss: 0.0000, train/strict_loss: 0.0001, val/iit_loss: 0.0002, val/IIA: 98.82%, val/accuracy: 100.00%, \n"
     ]
    },
    {
     "name": "stderr",
     "output_type": "stream",
     "text": [
      "100%|██████████| 24/24 [00:02<00:00, 10.94it/s]\n",
      "  7%|▋         | 68/1000 [02:46<37:03,  2.39s/it]"
     ]
    },
    {
     "name": "stdout",
     "output_type": "stream",
     "text": [
      "\n",
      "Epoch 67: train/iit_loss: 0.0002, train/behavior_loss: 0.0000, train/strict_loss: 0.0001, val/iit_loss: 0.0003, val/IIA: 98.24%, val/accuracy: 100.00%, \n"
     ]
    },
    {
     "name": "stderr",
     "output_type": "stream",
     "text": [
      "100%|██████████| 24/24 [00:02<00:00, 10.95it/s]\n",
      "  7%|▋         | 69/1000 [02:48<37:02,  2.39s/it]"
     ]
    },
    {
     "name": "stdout",
     "output_type": "stream",
     "text": [
      "\n",
      "Epoch 68: train/iit_loss: 0.0001, train/behavior_loss: 0.0000, train/strict_loss: 0.0001, val/iit_loss: 0.0003, val/IIA: 98.23%, val/accuracy: 100.00%, \n"
     ]
    },
    {
     "name": "stderr",
     "output_type": "stream",
     "text": [
      "100%|██████████| 24/24 [00:02<00:00, 11.04it/s]\n",
      "  7%|▋         | 70/1000 [02:50<36:55,  2.38s/it]"
     ]
    },
    {
     "name": "stdout",
     "output_type": "stream",
     "text": [
      "\n",
      "Epoch 69: train/iit_loss: 0.0002, train/behavior_loss: 0.0000, train/strict_loss: 0.0001, val/iit_loss: 0.0002, val/IIA: 99.16%, val/accuracy: 100.00%, \n"
     ]
    },
    {
     "name": "stderr",
     "output_type": "stream",
     "text": [
      "100%|██████████| 24/24 [00:02<00:00, 10.97it/s]\n",
      "  7%|▋         | 71/1000 [02:53<36:53,  2.38s/it]"
     ]
    },
    {
     "name": "stdout",
     "output_type": "stream",
     "text": [
      "\n",
      "Epoch 70: train/iit_loss: 0.0002, train/behavior_loss: 0.0000, train/strict_loss: 0.0001, val/iit_loss: 0.0002, val/IIA: 98.50%, val/accuracy: 100.00%, \n"
     ]
    },
    {
     "name": "stderr",
     "output_type": "stream",
     "text": [
      "100%|██████████| 24/24 [00:02<00:00, 10.96it/s]\n",
      "  7%|▋         | 72/1000 [02:55<36:51,  2.38s/it]"
     ]
    },
    {
     "name": "stdout",
     "output_type": "stream",
     "text": [
      "\n",
      "Epoch 71: train/iit_loss: 0.0001, train/behavior_loss: 0.0000, train/strict_loss: 0.0001, val/iit_loss: 0.0002, val/IIA: 98.83%, val/accuracy: 100.00%, \n"
     ]
    },
    {
     "name": "stderr",
     "output_type": "stream",
     "text": [
      "100%|██████████| 24/24 [00:02<00:00, 10.85it/s]\n",
      "  7%|▋         | 73/1000 [02:58<36:54,  2.39s/it]"
     ]
    },
    {
     "name": "stdout",
     "output_type": "stream",
     "text": [
      "\n",
      "Epoch 72: train/iit_loss: 0.0002, train/behavior_loss: 0.0000, train/strict_loss: 0.0001, val/iit_loss: 0.0002, val/IIA: 98.88%, val/accuracy: 100.00%, \n"
     ]
    },
    {
     "name": "stderr",
     "output_type": "stream",
     "text": [
      "100%|██████████| 24/24 [00:02<00:00, 10.97it/s]\n",
      "  7%|▋         | 74/1000 [03:00<36:51,  2.39s/it]"
     ]
    },
    {
     "name": "stdout",
     "output_type": "stream",
     "text": [
      "\n",
      "Epoch 73: train/iit_loss: 0.0002, train/behavior_loss: 0.0000, train/strict_loss: 0.0001, val/iit_loss: 0.0002, val/IIA: 99.15%, val/accuracy: 100.00%, \n"
     ]
    },
    {
     "name": "stderr",
     "output_type": "stream",
     "text": [
      "100%|██████████| 24/24 [00:02<00:00, 11.00it/s]\n",
      "  8%|▊         | 75/1000 [03:02<36:45,  2.38s/it]"
     ]
    },
    {
     "name": "stdout",
     "output_type": "stream",
     "text": [
      "\n",
      "Epoch 74: train/iit_loss: 0.0001, train/behavior_loss: 0.0000, train/strict_loss: 0.0001, val/iit_loss: 0.0002, val/IIA: 99.09%, val/accuracy: 100.00%, \n"
     ]
    },
    {
     "name": "stderr",
     "output_type": "stream",
     "text": [
      "100%|██████████| 24/24 [00:02<00:00, 10.96it/s]\n",
      "  8%|▊         | 76/1000 [03:05<36:43,  2.38s/it]"
     ]
    },
    {
     "name": "stdout",
     "output_type": "stream",
     "text": [
      "\n",
      "Epoch 75: train/iit_loss: 0.0002, train/behavior_loss: 0.0000, train/strict_loss: 0.0001, val/iit_loss: 0.0002, val/IIA: 99.02%, val/accuracy: 100.00%, \n"
     ]
    },
    {
     "name": "stderr",
     "output_type": "stream",
     "text": [
      "100%|██████████| 24/24 [00:02<00:00, 10.45it/s]\n",
      "  8%|▊         | 77/1000 [03:07<37:12,  2.42s/it]"
     ]
    },
    {
     "name": "stdout",
     "output_type": "stream",
     "text": [
      "\n",
      "Epoch 76: train/iit_loss: 0.0002, train/behavior_loss: 0.0000, train/strict_loss: 0.0001, val/iit_loss: 0.0002, val/IIA: 98.55%, val/accuracy: 100.00%, \n"
     ]
    },
    {
     "name": "stderr",
     "output_type": "stream",
     "text": [
      "100%|██████████| 24/24 [00:02<00:00, 10.98it/s]\n",
      "  8%|▊         | 78/1000 [03:10<36:59,  2.41s/it]"
     ]
    },
    {
     "name": "stdout",
     "output_type": "stream",
     "text": [
      "\n",
      "Epoch 77: train/iit_loss: 0.0001, train/behavior_loss: 0.0000, train/strict_loss: 0.0001, val/iit_loss: 0.0002, val/IIA: 98.71%, val/accuracy: 100.00%, \n"
     ]
    },
    {
     "name": "stderr",
     "output_type": "stream",
     "text": [
      "100%|██████████| 24/24 [00:02<00:00, 10.92it/s]\n",
      "  8%|▊         | 79/1000 [03:12<36:52,  2.40s/it]"
     ]
    },
    {
     "name": "stdout",
     "output_type": "stream",
     "text": [
      "\n",
      "Epoch 78: train/iit_loss: 0.0002, train/behavior_loss: 0.0000, train/strict_loss: 0.0001, val/iit_loss: 0.0002, val/IIA: 99.18%, val/accuracy: 100.00%, \n"
     ]
    },
    {
     "name": "stderr",
     "output_type": "stream",
     "text": [
      "100%|██████████| 24/24 [00:02<00:00, 11.00it/s]\n",
      "  8%|▊         | 80/1000 [03:14<36:44,  2.40s/it]"
     ]
    },
    {
     "name": "stdout",
     "output_type": "stream",
     "text": [
      "\n",
      "Epoch 79: train/iit_loss: 0.0001, train/behavior_loss: 0.0000, train/strict_loss: 0.0001, val/iit_loss: 0.0002, val/IIA: 98.57%, val/accuracy: 100.00%, \n"
     ]
    },
    {
     "name": "stderr",
     "output_type": "stream",
     "text": [
      "100%|██████████| 24/24 [00:02<00:00, 10.97it/s]\n",
      "  8%|▊         | 81/1000 [03:17<36:39,  2.39s/it]"
     ]
    },
    {
     "name": "stdout",
     "output_type": "stream",
     "text": [
      "\n",
      "Epoch 80: train/iit_loss: 0.0002, train/behavior_loss: 0.0000, train/strict_loss: 0.0001, val/iit_loss: 0.0002, val/IIA: 98.88%, val/accuracy: 100.00%, \n"
     ]
    },
    {
     "name": "stderr",
     "output_type": "stream",
     "text": [
      "100%|██████████| 24/24 [00:02<00:00, 10.94it/s]\n",
      "  8%|▊         | 82/1000 [03:19<36:36,  2.39s/it]"
     ]
    },
    {
     "name": "stdout",
     "output_type": "stream",
     "text": [
      "\n",
      "Epoch 81: train/iit_loss: 0.0002, train/behavior_loss: 0.0000, train/strict_loss: 0.0001, val/iit_loss: 0.0002, val/IIA: 99.09%, val/accuracy: 100.00%, \n"
     ]
    },
    {
     "name": "stderr",
     "output_type": "stream",
     "text": [
      "100%|██████████| 24/24 [00:02<00:00, 10.95it/s]\n",
      "  8%|▊         | 83/1000 [03:22<36:32,  2.39s/it]"
     ]
    },
    {
     "name": "stdout",
     "output_type": "stream",
     "text": [
      "\n",
      "Epoch 82: train/iit_loss: 0.0002, train/behavior_loss: 0.0000, train/strict_loss: 0.0001, val/iit_loss: 0.0002, val/IIA: 98.74%, val/accuracy: 100.00%, \n"
     ]
    },
    {
     "name": "stderr",
     "output_type": "stream",
     "text": [
      "100%|██████████| 24/24 [00:02<00:00, 10.86it/s]\n",
      "  8%|▊         | 84/1000 [03:24<36:34,  2.40s/it]"
     ]
    },
    {
     "name": "stdout",
     "output_type": "stream",
     "text": [
      "\n",
      "Epoch 83: train/iit_loss: 0.0001, train/behavior_loss: 0.0000, train/strict_loss: 0.0001, val/iit_loss: 0.0002, val/IIA: 98.83%, val/accuracy: 100.00%, \n"
     ]
    },
    {
     "name": "stderr",
     "output_type": "stream",
     "text": [
      "100%|██████████| 24/24 [00:02<00:00, 10.97it/s]\n",
      "  8%|▊         | 85/1000 [03:26<36:28,  2.39s/it]"
     ]
    },
    {
     "name": "stdout",
     "output_type": "stream",
     "text": [
      "\n",
      "Epoch 84: train/iit_loss: 0.0002, train/behavior_loss: 0.0000, train/strict_loss: 0.0001, val/iit_loss: 0.0002, val/IIA: 99.20%, val/accuracy: 100.00%, \n"
     ]
    },
    {
     "name": "stderr",
     "output_type": "stream",
     "text": [
      "100%|██████████| 24/24 [00:02<00:00, 10.93it/s]\n",
      "  9%|▊         | 86/1000 [03:29<36:27,  2.39s/it]"
     ]
    },
    {
     "name": "stdout",
     "output_type": "stream",
     "text": [
      "\n",
      "Epoch 85: train/iit_loss: 0.0001, train/behavior_loss: 0.0000, train/strict_loss: 0.0001, val/iit_loss: 0.0002, val/IIA: 99.14%, val/accuracy: 100.00%, \n"
     ]
    },
    {
     "name": "stderr",
     "output_type": "stream",
     "text": [
      "100%|██████████| 24/24 [00:02<00:00, 10.59it/s]\n",
      "  9%|▊         | 87/1000 [03:31<36:44,  2.41s/it]"
     ]
    },
    {
     "name": "stdout",
     "output_type": "stream",
     "text": [
      "\n",
      "Epoch 86: train/iit_loss: 0.0002, train/behavior_loss: 0.0000, train/strict_loss: 0.0001, val/iit_loss: 0.0001, val/IIA: 99.79%, val/accuracy: 100.00%, \n"
     ]
    },
    {
     "name": "stderr",
     "output_type": "stream",
     "text": [
      "100%|██████████| 24/24 [00:02<00:00, 11.09it/s]\n",
      "  9%|▉         | 88/1000 [03:34<36:26,  2.40s/it]"
     ]
    },
    {
     "name": "stdout",
     "output_type": "stream",
     "text": [
      "\n",
      "Epoch 87: train/iit_loss: 0.0001, train/behavior_loss: 0.0000, train/strict_loss: 0.0001, val/iit_loss: 0.0002, val/IIA: 98.84%, val/accuracy: 100.00%, \n"
     ]
    },
    {
     "name": "stderr",
     "output_type": "stream",
     "text": [
      "100%|██████████| 24/24 [13:54<00:00, 34.77s/it]\n",
      "  9%|▉         | 89/1000 [17:28<63:47:29, 252.09s/it]"
     ]
    },
    {
     "name": "stdout",
     "output_type": "stream",
     "text": [
      "\n",
      "Epoch 88: train/iit_loss: 0.0002, train/behavior_loss: 0.0000, train/strict_loss: 0.0001, val/iit_loss: 0.0001, val/IIA: 99.41%, val/accuracy: 100.00%, \n"
     ]
    },
    {
     "name": "stderr",
     "output_type": "stream",
     "text": [
      "100%|██████████| 24/24 [00:02<00:00, 10.96it/s]\n",
      "  9%|▉         | 90/1000 [17:31<44:47:09, 177.17s/it]"
     ]
    },
    {
     "name": "stdout",
     "output_type": "stream",
     "text": [
      "\n",
      "Epoch 89: train/iit_loss: 0.0002, train/behavior_loss: 0.0000, train/strict_loss: 0.0001, val/iit_loss: 0.0001, val/IIA: 99.38%, val/accuracy: 100.00%, \n"
     ]
    },
    {
     "name": "stderr",
     "output_type": "stream",
     "text": [
      "100%|██████████| 24/24 [00:02<00:00, 10.94it/s]\n",
      "  9%|▉         | 91/1000 [17:33<31:29:47, 124.74s/it]"
     ]
    },
    {
     "name": "stdout",
     "output_type": "stream",
     "text": [
      "\n",
      "Epoch 90: train/iit_loss: 0.0002, train/behavior_loss: 0.0000, train/strict_loss: 0.0001, val/iit_loss: 0.0002, val/IIA: 99.13%, val/accuracy: 100.00%, \n"
     ]
    },
    {
     "name": "stderr",
     "output_type": "stream",
     "text": [
      "100%|██████████| 24/24 [00:02<00:00, 10.99it/s]\n",
      "  9%|▉         | 92/1000 [17:35<22:12:13, 88.03s/it] "
     ]
    },
    {
     "name": "stdout",
     "output_type": "stream",
     "text": [
      "\n",
      "Epoch 91: train/iit_loss: 0.0001, train/behavior_loss: 0.0000, train/strict_loss: 0.0001, val/iit_loss: 0.0002, val/IIA: 99.14%, val/accuracy: 100.00%, \n"
     ]
    },
    {
     "name": "stderr",
     "output_type": "stream",
     "text": [
      "100%|██████████| 24/24 [00:02<00:00, 10.56it/s]\n",
      "  9%|▉         | 93/1000 [17:38<15:42:45, 62.37s/it]"
     ]
    },
    {
     "name": "stdout",
     "output_type": "stream",
     "text": [
      "\n",
      "Epoch 92: train/iit_loss: 0.0002, train/behavior_loss: 0.0000, train/strict_loss: 0.0001, val/iit_loss: 0.0002, val/IIA: 99.10%, val/accuracy: 100.00%, \n"
     ]
    },
    {
     "name": "stderr",
     "output_type": "stream",
     "text": [
      "100%|██████████| 24/24 [00:02<00:00, 10.29it/s]\n",
      "  9%|▉         | 94/1000 [17:40<11:10:42, 44.42s/it]"
     ]
    },
    {
     "name": "stdout",
     "output_type": "stream",
     "text": [
      "\n",
      "Epoch 93: train/iit_loss: 0.0002, train/behavior_loss: 0.0000, train/strict_loss: 0.0001, val/iit_loss: 0.0002, val/IIA: 99.13%, val/accuracy: 100.00%, \n"
     ]
    },
    {
     "name": "stderr",
     "output_type": "stream",
     "text": [
      "100%|██████████| 24/24 [00:02<00:00, 10.83it/s]\n",
      " 10%|▉         | 95/1000 [17:43<7:59:53, 31.82s/it] "
     ]
    },
    {
     "name": "stdout",
     "output_type": "stream",
     "text": [
      "\n",
      "Epoch 94: train/iit_loss: 0.0001, train/behavior_loss: 0.0000, train/strict_loss: 0.0001, val/iit_loss: 0.0002, val/IIA: 99.15%, val/accuracy: 100.00%, \n"
     ]
    },
    {
     "name": "stderr",
     "output_type": "stream",
     "text": [
      "100%|██████████| 24/24 [00:02<00:00, 10.71it/s]\n",
      " 10%|▉         | 96/1000 [17:45<5:46:35, 23.00s/it]"
     ]
    },
    {
     "name": "stdout",
     "output_type": "stream",
     "text": [
      "\n",
      "Epoch 95: train/iit_loss: 0.0001, train/behavior_loss: 0.0000, train/strict_loss: 0.0001, val/iit_loss: 0.0002, val/IIA: 98.89%, val/accuracy: 100.00%, \n"
     ]
    },
    {
     "name": "stderr",
     "output_type": "stream",
     "text": [
      "100%|██████████| 24/24 [00:02<00:00, 10.91it/s]\n",
      " 10%|▉         | 97/1000 [17:48<4:13:10, 16.82s/it]"
     ]
    },
    {
     "name": "stdout",
     "output_type": "stream",
     "text": [
      "\n",
      "Epoch 96: train/iit_loss: 0.0002, train/behavior_loss: 0.0000, train/strict_loss: 0.0001, val/iit_loss: 0.0002, val/IIA: 99.07%, val/accuracy: 100.00%, \n"
     ]
    },
    {
     "name": "stderr",
     "output_type": "stream",
     "text": [
      "100%|██████████| 24/24 [00:02<00:00, 10.80it/s]\n",
      " 10%|▉         | 98/1000 [17:50<3:07:56, 12.50s/it]"
     ]
    },
    {
     "name": "stdout",
     "output_type": "stream",
     "text": [
      "\n",
      "Epoch 97: train/iit_loss: 0.0002, train/behavior_loss: 0.0000, train/strict_loss: 0.0001, val/iit_loss: 0.0002, val/IIA: 98.96%, val/accuracy: 100.00%, \n"
     ]
    },
    {
     "name": "stderr",
     "output_type": "stream",
     "text": [
      "100%|██████████| 24/24 [00:02<00:00, 10.93it/s]\n",
      " 10%|▉         | 99/1000 [17:52<2:22:10,  9.47s/it]"
     ]
    },
    {
     "name": "stdout",
     "output_type": "stream",
     "text": [
      "\n",
      "Epoch 98: train/iit_loss: 0.0002, train/behavior_loss: 0.0000, train/strict_loss: 0.0001, val/iit_loss: 0.0001, val/IIA: 99.42%, val/accuracy: 100.00%, \n"
     ]
    },
    {
     "name": "stderr",
     "output_type": "stream",
     "text": [
      "100%|██████████| 24/24 [00:02<00:00, 10.63it/s]\n",
      " 10%|█         | 100/1000 [17:55<1:50:27,  7.36s/it]"
     ]
    },
    {
     "name": "stdout",
     "output_type": "stream",
     "text": [
      "\n",
      "Epoch 99: train/iit_loss: 0.0001, train/behavior_loss: 0.0000, train/strict_loss: 0.0001, val/iit_loss: 0.0002, val/IIA: 98.84%, val/accuracy: 100.00%, \n"
     ]
    },
    {
     "name": "stderr",
     "output_type": "stream",
     "text": [
      "100%|██████████| 24/24 [00:02<00:00, 10.95it/s]\n",
      " 10%|█         | 101/1000 [17:57<1:27:57,  5.87s/it]"
     ]
    },
    {
     "name": "stdout",
     "output_type": "stream",
     "text": [
      "\n",
      "Epoch 100: train/iit_loss: 0.0001, train/behavior_loss: 0.0000, train/strict_loss: 0.0001, val/iit_loss: 0.0001, val/IIA: 99.70%, val/accuracy: 100.00%, \n"
     ]
    },
    {
     "name": "stderr",
     "output_type": "stream",
     "text": [
      "100%|██████████| 24/24 [00:02<00:00, 10.75it/s]\n",
      " 10%|█         | 102/1000 [18:00<1:12:24,  4.84s/it]"
     ]
    },
    {
     "name": "stdout",
     "output_type": "stream",
     "text": [
      "\n",
      "Epoch 101: train/iit_loss: 0.0002, train/behavior_loss: 0.0000, train/strict_loss: 0.0001, val/iit_loss: 0.0001, val/IIA: 99.33%, val/accuracy: 100.00%, \n"
     ]
    },
    {
     "name": "stderr",
     "output_type": "stream",
     "text": [
      "100%|██████████| 24/24 [00:02<00:00, 10.78it/s]\n",
      " 10%|█         | 103/1000 [18:02<1:01:31,  4.11s/it]"
     ]
    },
    {
     "name": "stdout",
     "output_type": "stream",
     "text": [
      "\n",
      "Epoch 102: train/iit_loss: 0.0001, train/behavior_loss: 0.0000, train/strict_loss: 0.0001, val/iit_loss: 0.0003, val/IIA: 98.23%, val/accuracy: 100.00%, \n"
     ]
    },
    {
     "name": "stderr",
     "output_type": "stream",
     "text": [
      "100%|██████████| 24/24 [00:02<00:00, 10.82it/s]\n",
      " 10%|█         | 104/1000 [18:05<53:50,  3.61s/it]  "
     ]
    },
    {
     "name": "stdout",
     "output_type": "stream",
     "text": [
      "\n",
      "Epoch 103: train/iit_loss: 0.0002, train/behavior_loss: 0.0000, train/strict_loss: 0.0001, val/iit_loss: 0.0002, val/IIA: 98.76%, val/accuracy: 100.00%, \n"
     ]
    },
    {
     "name": "stderr",
     "output_type": "stream",
     "text": [
      "100%|██████████| 24/24 [00:02<00:00, 10.77it/s]\n",
      " 10%|█         | 105/1000 [18:07<48:30,  3.25s/it]"
     ]
    },
    {
     "name": "stdout",
     "output_type": "stream",
     "text": [
      "\n",
      "Epoch 104: train/iit_loss: 0.0002, train/behavior_loss: 0.0000, train/strict_loss: 0.0001, val/iit_loss: 0.0002, val/IIA: 98.84%, val/accuracy: 100.00%, \n"
     ]
    },
    {
     "name": "stderr",
     "output_type": "stream",
     "text": [
      "100%|██████████| 24/24 [00:02<00:00, 10.92it/s]\n",
      " 11%|█         | 106/1000 [18:09<44:36,  2.99s/it]"
     ]
    },
    {
     "name": "stdout",
     "output_type": "stream",
     "text": [
      "\n",
      "Epoch 105: train/iit_loss: 0.0002, train/behavior_loss: 0.0000, train/strict_loss: 0.0001, val/iit_loss: 0.0002, val/IIA: 98.82%, val/accuracy: 100.00%, \n"
     ]
    },
    {
     "name": "stderr",
     "output_type": "stream",
     "text": [
      "100%|██████████| 24/24 [00:02<00:00, 10.93it/s]\n",
      " 11%|█         | 107/1000 [18:12<41:51,  2.81s/it]"
     ]
    },
    {
     "name": "stdout",
     "output_type": "stream",
     "text": [
      "\n",
      "Epoch 106: train/iit_loss: 0.0001, train/behavior_loss: 0.0000, train/strict_loss: 0.0001, val/iit_loss: 0.0002, val/IIA: 99.21%, val/accuracy: 100.00%, \n"
     ]
    },
    {
     "name": "stderr",
     "output_type": "stream",
     "text": [
      "100%|██████████| 24/24 [00:02<00:00, 10.93it/s]\n",
      " 11%|█         | 108/1000 [18:14<39:55,  2.69s/it]"
     ]
    },
    {
     "name": "stdout",
     "output_type": "stream",
     "text": [
      "\n",
      "Epoch 107: train/iit_loss: 0.0001, train/behavior_loss: 0.0000, train/strict_loss: 0.0001, val/iit_loss: 0.0002, val/IIA: 98.83%, val/accuracy: 100.00%, \n"
     ]
    },
    {
     "name": "stderr",
     "output_type": "stream",
     "text": [
      "100%|██████████| 24/24 [00:02<00:00, 10.54it/s]\n",
      " 11%|█         | 109/1000 [18:17<38:56,  2.62s/it]"
     ]
    },
    {
     "name": "stdout",
     "output_type": "stream",
     "text": [
      "\n",
      "Epoch 108: train/iit_loss: 0.0001, train/behavior_loss: 0.0000, train/strict_loss: 0.0001, val/iit_loss: 0.0002, val/IIA: 99.15%, val/accuracy: 100.00%, \n"
     ]
    },
    {
     "name": "stderr",
     "output_type": "stream",
     "text": [
      "100%|██████████| 24/24 [00:02<00:00, 10.55it/s]\n",
      " 11%|█         | 110/1000 [18:19<38:14,  2.58s/it]"
     ]
    },
    {
     "name": "stdout",
     "output_type": "stream",
     "text": [
      "\n",
      "Epoch 109: train/iit_loss: 0.0002, train/behavior_loss: 0.0000, train/strict_loss: 0.0001, val/iit_loss: 0.0001, val/IIA: 99.47%, val/accuracy: 100.00%, \n"
     ]
    },
    {
     "name": "stderr",
     "output_type": "stream",
     "text": [
      "100%|██████████| 24/24 [00:02<00:00, 10.87it/s]\n",
      " 11%|█         | 111/1000 [18:22<37:25,  2.53s/it]"
     ]
    },
    {
     "name": "stdout",
     "output_type": "stream",
     "text": [
      "\n",
      "Epoch 110: train/iit_loss: 0.0001, train/behavior_loss: 0.0000, train/strict_loss: 0.0001, val/iit_loss: 0.0001, val/IIA: 99.37%, val/accuracy: 100.00%, \n"
     ]
    },
    {
     "name": "stderr",
     "output_type": "stream",
     "text": [
      "100%|██████████| 24/24 [00:02<00:00, 10.85it/s]\n",
      " 11%|█         | 112/1000 [18:24<36:51,  2.49s/it]"
     ]
    },
    {
     "name": "stdout",
     "output_type": "stream",
     "text": [
      "\n",
      "Epoch 111: train/iit_loss: 0.0002, train/behavior_loss: 0.0000, train/strict_loss: 0.0001, val/iit_loss: 0.0002, val/IIA: 99.17%, val/accuracy: 100.00%, \n"
     ]
    },
    {
     "name": "stderr",
     "output_type": "stream",
     "text": [
      "100%|██████████| 24/24 [00:02<00:00, 10.89it/s]\n",
      " 11%|█▏        | 113/1000 [18:26<36:25,  2.46s/it]"
     ]
    },
    {
     "name": "stdout",
     "output_type": "stream",
     "text": [
      "\n",
      "Epoch 112: train/iit_loss: 0.0002, train/behavior_loss: 0.0000, train/strict_loss: 0.0001, val/iit_loss: 0.0002, val/IIA: 99.07%, val/accuracy: 100.00%, \n"
     ]
    },
    {
     "name": "stderr",
     "output_type": "stream",
     "text": [
      "100%|██████████| 24/24 [00:02<00:00, 10.88it/s]\n",
      " 11%|█▏        | 114/1000 [18:29<36:05,  2.44s/it]"
     ]
    },
    {
     "name": "stdout",
     "output_type": "stream",
     "text": [
      "\n",
      "Epoch 113: train/iit_loss: 0.0002, train/behavior_loss: 0.0000, train/strict_loss: 0.0001, val/iit_loss: 0.0001, val/IIA: 99.69%, val/accuracy: 100.00%, \n"
     ]
    },
    {
     "name": "stderr",
     "output_type": "stream",
     "text": [
      "100%|██████████| 24/24 [00:02<00:00, 10.86it/s]\n",
      " 12%|█▏        | 115/1000 [18:31<35:52,  2.43s/it]"
     ]
    },
    {
     "name": "stdout",
     "output_type": "stream",
     "text": [
      "\n",
      "Epoch 114: train/iit_loss: 0.0002, train/behavior_loss: 0.0000, train/strict_loss: 0.0001, val/iit_loss: 0.0002, val/IIA: 98.87%, val/accuracy: 100.00%, \n"
     ]
    },
    {
     "name": "stderr",
     "output_type": "stream",
     "text": [
      "100%|██████████| 24/24 [00:02<00:00, 10.84it/s]\n",
      " 12%|█▏        | 116/1000 [18:34<35:44,  2.43s/it]"
     ]
    },
    {
     "name": "stdout",
     "output_type": "stream",
     "text": [
      "\n",
      "Epoch 115: train/iit_loss: 0.0001, train/behavior_loss: 0.0000, train/strict_loss: 0.0001, val/iit_loss: 0.0001, val/IIA: 99.49%, val/accuracy: 100.00%, \n"
     ]
    },
    {
     "name": "stderr",
     "output_type": "stream",
     "text": [
      "100%|██████████| 24/24 [00:02<00:00, 10.31it/s]\n",
      " 12%|█▏        | 117/1000 [18:36<36:08,  2.46s/it]"
     ]
    },
    {
     "name": "stdout",
     "output_type": "stream",
     "text": [
      "\n",
      "Epoch 116: train/iit_loss: 0.0001, train/behavior_loss: 0.0000, train/strict_loss: 0.0001, val/iit_loss: 0.0002, val/IIA: 98.89%, val/accuracy: 100.00%, \n"
     ]
    },
    {
     "name": "stderr",
     "output_type": "stream",
     "text": [
      "100%|██████████| 24/24 [00:02<00:00, 10.24it/s]\n",
      " 12%|█▏        | 118/1000 [18:39<36:31,  2.49s/it]"
     ]
    },
    {
     "name": "stdout",
     "output_type": "stream",
     "text": [
      "\n",
      "Epoch 117: train/iit_loss: 0.0001, train/behavior_loss: 0.0000, train/strict_loss: 0.0001, val/iit_loss: 0.0002, val/IIA: 99.16%, val/accuracy: 100.00%, \n"
     ]
    },
    {
     "name": "stderr",
     "output_type": "stream",
     "text": [
      "100%|██████████| 24/24 [00:02<00:00,  9.43it/s]\n",
      " 12%|█▏        | 119/1000 [18:41<37:40,  2.57s/it]"
     ]
    },
    {
     "name": "stdout",
     "output_type": "stream",
     "text": [
      "\n",
      "Epoch 118: train/iit_loss: 0.0002, train/behavior_loss: 0.0000, train/strict_loss: 0.0001, val/iit_loss: 0.0002, val/IIA: 98.77%, val/accuracy: 100.00%, \n"
     ]
    },
    {
     "name": "stderr",
     "output_type": "stream",
     "text": [
      "100%|██████████| 24/24 [00:02<00:00,  9.21it/s]\n",
      " 12%|█▏        | 120/1000 [18:44<38:45,  2.64s/it]"
     ]
    },
    {
     "name": "stdout",
     "output_type": "stream",
     "text": [
      "\n",
      "Epoch 119: train/iit_loss: 0.0002, train/behavior_loss: 0.0000, train/strict_loss: 0.0001, val/iit_loss: 0.0001, val/IIA: 99.43%, val/accuracy: 100.00%, \n"
     ]
    },
    {
     "name": "stderr",
     "output_type": "stream",
     "text": [
      "100%|██████████| 24/24 [00:02<00:00,  9.87it/s]\n",
      " 12%|█▏        | 121/1000 [18:47<38:43,  2.64s/it]"
     ]
    },
    {
     "name": "stdout",
     "output_type": "stream",
     "text": [
      "\n",
      "Epoch 120: train/iit_loss: 0.0002, train/behavior_loss: 0.0000, train/strict_loss: 0.0001, val/iit_loss: 0.0002, val/IIA: 98.88%, val/accuracy: 100.00%, \n"
     ]
    },
    {
     "name": "stderr",
     "output_type": "stream",
     "text": [
      "100%|██████████| 24/24 [00:02<00:00,  9.80it/s]\n",
      " 12%|█▏        | 122/1000 [18:50<38:43,  2.65s/it]"
     ]
    },
    {
     "name": "stdout",
     "output_type": "stream",
     "text": [
      "\n",
      "Epoch 121: train/iit_loss: 0.0002, train/behavior_loss: 0.0000, train/strict_loss: 0.0001, val/iit_loss: 0.0002, val/IIA: 98.46%, val/accuracy: 100.00%, \n"
     ]
    },
    {
     "name": "stderr",
     "output_type": "stream",
     "text": [
      "100%|██████████| 24/24 [00:02<00:00, 10.46it/s]\n",
      " 12%|█▏        | 123/1000 [18:52<38:00,  2.60s/it]"
     ]
    },
    {
     "name": "stdout",
     "output_type": "stream",
     "text": [
      "\n",
      "Epoch 122: train/iit_loss: 0.0002, train/behavior_loss: 0.0000, train/strict_loss: 0.0001, val/iit_loss: 0.0002, val/IIA: 98.80%, val/accuracy: 100.00%, \n"
     ]
    },
    {
     "name": "stderr",
     "output_type": "stream",
     "text": [
      "100%|██████████| 24/24 [00:02<00:00,  9.78it/s]\n",
      " 12%|█▏        | 124/1000 [18:55<38:13,  2.62s/it]"
     ]
    },
    {
     "name": "stdout",
     "output_type": "stream",
     "text": [
      "\n",
      "Epoch 123: train/iit_loss: 0.0002, train/behavior_loss: 0.0000, train/strict_loss: 0.0001, val/iit_loss: 0.0002, val/IIA: 99.10%, val/accuracy: 100.00%, \n"
     ]
    },
    {
     "name": "stderr",
     "output_type": "stream",
     "text": [
      "100%|██████████| 24/24 [00:02<00:00, 10.70it/s]\n",
      " 12%|█▎        | 125/1000 [18:57<37:23,  2.56s/it]"
     ]
    },
    {
     "name": "stdout",
     "output_type": "stream",
     "text": [
      "\n",
      "Epoch 124: train/iit_loss: 0.0001, train/behavior_loss: 0.0000, train/strict_loss: 0.0001, val/iit_loss: 0.0002, val/IIA: 98.82%, val/accuracy: 100.00%, \n"
     ]
    },
    {
     "name": "stderr",
     "output_type": "stream",
     "text": [
      "100%|██████████| 24/24 [00:02<00:00, 10.90it/s]\n",
      " 13%|█▎        | 126/1000 [19:00<36:36,  2.51s/it]"
     ]
    },
    {
     "name": "stdout",
     "output_type": "stream",
     "text": [
      "\n",
      "Epoch 125: train/iit_loss: 0.0001, train/behavior_loss: 0.0000, train/strict_loss: 0.0001, val/iit_loss: 0.0001, val/IIA: 99.47%, val/accuracy: 100.00%, \n"
     ]
    },
    {
     "name": "stderr",
     "output_type": "stream",
     "text": [
      "100%|██████████| 24/24 [00:02<00:00, 10.89it/s]\n",
      " 13%|█▎        | 127/1000 [19:02<36:04,  2.48s/it]"
     ]
    },
    {
     "name": "stdout",
     "output_type": "stream",
     "text": [
      "\n",
      "Epoch 126: train/iit_loss: 0.0002, train/behavior_loss: 0.0000, train/strict_loss: 0.0001, val/iit_loss: 0.0001, val/IIA: 99.31%, val/accuracy: 100.00%, \n"
     ]
    },
    {
     "name": "stderr",
     "output_type": "stream",
     "text": [
      "100%|██████████| 24/24 [00:02<00:00, 10.89it/s]\n",
      " 13%|█▎        | 128/1000 [19:04<35:41,  2.46s/it]"
     ]
    },
    {
     "name": "stdout",
     "output_type": "stream",
     "text": [
      "\n",
      "Epoch 127: train/iit_loss: 0.0002, train/behavior_loss: 0.0000, train/strict_loss: 0.0001, val/iit_loss: 0.0001, val/IIA: 99.69%, val/accuracy: 100.00%, \n"
     ]
    },
    {
     "name": "stderr",
     "output_type": "stream",
     "text": [
      "100%|██████████| 24/24 [00:02<00:00, 10.93it/s]\n",
      " 13%|█▎        | 129/1000 [19:07<35:21,  2.44s/it]"
     ]
    },
    {
     "name": "stdout",
     "output_type": "stream",
     "text": [
      "\n",
      "Epoch 128: train/iit_loss: 0.0001, train/behavior_loss: 0.0000, train/strict_loss: 0.0001, val/iit_loss: 0.0001, val/IIA: 99.43%, val/accuracy: 100.00%, \n"
     ]
    },
    {
     "name": "stderr",
     "output_type": "stream",
     "text": [
      "100%|██████████| 24/24 [00:02<00:00, 10.40it/s]\n",
      " 13%|█▎        | 130/1000 [19:09<35:41,  2.46s/it]"
     ]
    },
    {
     "name": "stdout",
     "output_type": "stream",
     "text": [
      "\n",
      "Epoch 129: train/iit_loss: 0.0002, train/behavior_loss: 0.0000, train/strict_loss: 0.0001, val/iit_loss: 0.0002, val/IIA: 98.81%, val/accuracy: 100.00%, \n"
     ]
    },
    {
     "name": "stderr",
     "output_type": "stream",
     "text": [
      "100%|██████████| 24/24 [00:02<00:00, 10.00it/s]\n",
      " 13%|█▎        | 131/1000 [19:12<36:13,  2.50s/it]"
     ]
    },
    {
     "name": "stdout",
     "output_type": "stream",
     "text": [
      "\n",
      "Epoch 130: train/iit_loss: 0.0002, train/behavior_loss: 0.0000, train/strict_loss: 0.0001, val/iit_loss: 0.0002, val/IIA: 98.79%, val/accuracy: 100.00%, \n"
     ]
    },
    {
     "name": "stderr",
     "output_type": "stream",
     "text": [
      "100%|██████████| 24/24 [00:02<00:00, 10.40it/s]\n",
      " 13%|█▎        | 132/1000 [19:14<36:13,  2.50s/it]"
     ]
    },
    {
     "name": "stdout",
     "output_type": "stream",
     "text": [
      "\n",
      "Epoch 131: train/iit_loss: 0.0001, train/behavior_loss: 0.0000, train/strict_loss: 0.0001, val/iit_loss: 0.0002, val/IIA: 99.11%, val/accuracy: 100.00%, \n"
     ]
    },
    {
     "name": "stderr",
     "output_type": "stream",
     "text": [
      "100%|██████████| 24/24 [00:02<00:00, 10.41it/s]\n",
      " 13%|█▎        | 133/1000 [19:17<36:12,  2.51s/it]"
     ]
    },
    {
     "name": "stdout",
     "output_type": "stream",
     "text": [
      "\n",
      "Epoch 132: train/iit_loss: 0.0002, train/behavior_loss: 0.0000, train/strict_loss: 0.0001, val/iit_loss: 0.0002, val/IIA: 99.15%, val/accuracy: 100.00%, \n"
     ]
    },
    {
     "name": "stderr",
     "output_type": "stream",
     "text": [
      "100%|██████████| 24/24 [00:02<00:00, 10.17it/s]\n",
      " 13%|█▎        | 134/1000 [19:19<36:26,  2.52s/it]"
     ]
    },
    {
     "name": "stdout",
     "output_type": "stream",
     "text": [
      "\n",
      "Epoch 133: train/iit_loss: 0.0001, train/behavior_loss: 0.0000, train/strict_loss: 0.0001, val/iit_loss: 0.0002, val/IIA: 99.22%, val/accuracy: 100.00%, \n"
     ]
    },
    {
     "name": "stderr",
     "output_type": "stream",
     "text": [
      "100%|██████████| 24/24 [00:02<00:00, 10.13it/s]\n",
      " 14%|█▎        | 135/1000 [19:22<36:37,  2.54s/it]"
     ]
    },
    {
     "name": "stdout",
     "output_type": "stream",
     "text": [
      "\n",
      "Epoch 134: train/iit_loss: 0.0001, train/behavior_loss: 0.0000, train/strict_loss: 0.0001, val/iit_loss: 0.0001, val/IIA: 99.43%, val/accuracy: 100.00%, \n"
     ]
    },
    {
     "name": "stderr",
     "output_type": "stream",
     "text": [
      "100%|██████████| 24/24 [00:02<00:00, 10.30it/s]\n",
      " 14%|█▎        | 136/1000 [19:25<36:35,  2.54s/it]"
     ]
    },
    {
     "name": "stdout",
     "output_type": "stream",
     "text": [
      "\n",
      "Epoch 135: train/iit_loss: 0.0002, train/behavior_loss: 0.0000, train/strict_loss: 0.0001, val/iit_loss: 0.0001, val/IIA: 99.45%, val/accuracy: 100.00%, \n"
     ]
    },
    {
     "name": "stderr",
     "output_type": "stream",
     "text": [
      "100%|██████████| 24/24 [00:02<00:00, 10.08it/s]\n",
      " 14%|█▎        | 137/1000 [19:27<36:44,  2.55s/it]"
     ]
    },
    {
     "name": "stdout",
     "output_type": "stream",
     "text": [
      "\n",
      "Epoch 136: train/iit_loss: 0.0001, train/behavior_loss: 0.0000, train/strict_loss: 0.0001, val/iit_loss: 0.0002, val/IIA: 99.10%, val/accuracy: 100.00%, \n"
     ]
    },
    {
     "name": "stderr",
     "output_type": "stream",
     "text": [
      "100%|██████████| 24/24 [00:02<00:00, 10.25it/s]\n",
      " 14%|█▍        | 138/1000 [19:30<36:39,  2.55s/it]"
     ]
    },
    {
     "name": "stdout",
     "output_type": "stream",
     "text": [
      "\n",
      "Epoch 137: train/iit_loss: 0.0001, train/behavior_loss: 0.0000, train/strict_loss: 0.0001, val/iit_loss: 0.0002, val/IIA: 98.47%, val/accuracy: 100.00%, \n"
     ]
    },
    {
     "name": "stderr",
     "output_type": "stream",
     "text": [
      "100%|██████████| 24/24 [00:02<00:00, 10.29it/s]\n",
      " 14%|█▍        | 139/1000 [19:32<36:32,  2.55s/it]"
     ]
    },
    {
     "name": "stdout",
     "output_type": "stream",
     "text": [
      "\n",
      "Epoch 138: train/iit_loss: 0.0001, train/behavior_loss: 0.0000, train/strict_loss: 0.0001, val/iit_loss: 0.0001, val/IIA: 99.32%, val/accuracy: 100.00%, \n"
     ]
    },
    {
     "name": "stderr",
     "output_type": "stream",
     "text": [
      "100%|██████████| 24/24 [00:02<00:00, 10.35it/s]\n",
      " 14%|█▍        | 140/1000 [19:35<36:22,  2.54s/it]"
     ]
    },
    {
     "name": "stdout",
     "output_type": "stream",
     "text": [
      "\n",
      "Epoch 139: train/iit_loss: 0.0002, train/behavior_loss: 0.0000, train/strict_loss: 0.0001, val/iit_loss: 0.0002, val/IIA: 99.15%, val/accuracy: 100.00%, \n"
     ]
    },
    {
     "name": "stderr",
     "output_type": "stream",
     "text": [
      "100%|██████████| 24/24 [00:02<00:00, 10.39it/s]\n",
      " 14%|█▍        | 141/1000 [19:37<36:13,  2.53s/it]"
     ]
    },
    {
     "name": "stdout",
     "output_type": "stream",
     "text": [
      "\n",
      "Epoch 140: train/iit_loss: 0.0002, train/behavior_loss: 0.0000, train/strict_loss: 0.0001, val/iit_loss: 0.0002, val/IIA: 98.80%, val/accuracy: 100.00%, \n"
     ]
    },
    {
     "name": "stderr",
     "output_type": "stream",
     "text": [
      "100%|██████████| 24/24 [00:02<00:00, 10.46it/s]\n",
      " 14%|█▍        | 142/1000 [19:40<36:02,  2.52s/it]"
     ]
    },
    {
     "name": "stdout",
     "output_type": "stream",
     "text": [
      "\n",
      "Epoch 141: train/iit_loss: 0.0002, train/behavior_loss: 0.0000, train/strict_loss: 0.0001, val/iit_loss: 0.0001, val/IIA: 99.71%, val/accuracy: 100.00%, \n"
     ]
    },
    {
     "name": "stderr",
     "output_type": "stream",
     "text": [
      "100%|██████████| 24/24 [00:02<00:00, 10.44it/s]\n",
      " 14%|█▍        | 143/1000 [19:42<35:55,  2.52s/it]"
     ]
    },
    {
     "name": "stdout",
     "output_type": "stream",
     "text": [
      "\n",
      "Epoch 142: train/iit_loss: 0.0002, train/behavior_loss: 0.0000, train/strict_loss: 0.0001, val/iit_loss: 0.0002, val/IIA: 99.08%, val/accuracy: 100.00%, \n"
     ]
    },
    {
     "name": "stderr",
     "output_type": "stream",
     "text": [
      "100%|██████████| 24/24 [00:02<00:00, 10.26it/s]\n",
      " 14%|█▍        | 144/1000 [19:45<35:59,  2.52s/it]"
     ]
    },
    {
     "name": "stdout",
     "output_type": "stream",
     "text": [
      "\n",
      "Epoch 143: train/iit_loss: 0.0002, train/behavior_loss: 0.0000, train/strict_loss: 0.0001, val/iit_loss: 0.0002, val/IIA: 98.61%, val/accuracy: 100.00%, \n"
     ]
    },
    {
     "name": "stderr",
     "output_type": "stream",
     "text": [
      "100%|██████████| 24/24 [00:02<00:00, 10.53it/s]\n",
      " 14%|█▍        | 145/1000 [19:47<35:47,  2.51s/it]"
     ]
    },
    {
     "name": "stdout",
     "output_type": "stream",
     "text": [
      "\n",
      "Epoch 144: train/iit_loss: 0.0001, train/behavior_loss: 0.0000, train/strict_loss: 0.0001, val/iit_loss: 0.0001, val/IIA: 99.40%, val/accuracy: 100.00%, \n"
     ]
    },
    {
     "name": "stderr",
     "output_type": "stream",
     "text": [
      "100%|██████████| 24/24 [00:02<00:00, 10.29it/s]\n",
      " 15%|█▍        | 146/1000 [19:50<35:51,  2.52s/it]"
     ]
    },
    {
     "name": "stdout",
     "output_type": "stream",
     "text": [
      "\n",
      "Epoch 145: train/iit_loss: 0.0001, train/behavior_loss: 0.0000, train/strict_loss: 0.0001, val/iit_loss: 0.0001, val/IIA: 99.35%, val/accuracy: 100.00%, \n"
     ]
    },
    {
     "name": "stderr",
     "output_type": "stream",
     "text": [
      "100%|██████████| 24/24 [00:02<00:00, 10.29it/s]\n",
      " 15%|█▍        | 147/1000 [19:52<35:53,  2.52s/it]"
     ]
    },
    {
     "name": "stdout",
     "output_type": "stream",
     "text": [
      "\n",
      "Epoch 146: train/iit_loss: 0.0001, train/behavior_loss: 0.0000, train/strict_loss: 0.0001, val/iit_loss: 0.0001, val/IIA: 99.43%, val/accuracy: 100.00%, \n"
     ]
    },
    {
     "name": "stderr",
     "output_type": "stream",
     "text": [
      "100%|██████████| 24/24 [00:02<00:00,  9.77it/s]\n",
      " 15%|█▍        | 148/1000 [19:55<36:31,  2.57s/it]"
     ]
    },
    {
     "name": "stdout",
     "output_type": "stream",
     "text": [
      "\n",
      "Epoch 147: train/iit_loss: 0.0001, train/behavior_loss: 0.0000, train/strict_loss: 0.0001, val/iit_loss: 0.0001, val/IIA: 99.45%, val/accuracy: 100.00%, \n"
     ]
    },
    {
     "name": "stderr",
     "output_type": "stream",
     "text": [
      "100%|██████████| 24/24 [00:02<00:00,  9.46it/s]\n",
      " 15%|█▍        | 149/1000 [19:58<37:09,  2.62s/it]"
     ]
    },
    {
     "name": "stdout",
     "output_type": "stream",
     "text": [
      "\n",
      "Epoch 148: train/iit_loss: 0.0001, train/behavior_loss: 0.0000, train/strict_loss: 0.0001, val/iit_loss: 0.0002, val/IIA: 98.85%, val/accuracy: 100.00%, \n"
     ]
    },
    {
     "name": "stderr",
     "output_type": "stream",
     "text": [
      "100%|██████████| 24/24 [00:02<00:00, 10.24it/s]\n",
      " 15%|█▌        | 150/1000 [20:00<36:47,  2.60s/it]"
     ]
    },
    {
     "name": "stdout",
     "output_type": "stream",
     "text": [
      "\n",
      "Epoch 149: train/iit_loss: 0.0001, train/behavior_loss: 0.0000, train/strict_loss: 0.0001, val/iit_loss: 0.0002, val/IIA: 99.17%, val/accuracy: 100.00%, \n"
     ]
    },
    {
     "name": "stderr",
     "output_type": "stream",
     "text": [
      "100%|██████████| 24/24 [00:02<00:00, 10.30it/s]\n",
      " 15%|█▌        | 151/1000 [20:03<36:29,  2.58s/it]"
     ]
    },
    {
     "name": "stdout",
     "output_type": "stream",
     "text": [
      "\n",
      "Epoch 150: train/iit_loss: 0.0002, train/behavior_loss: 0.0000, train/strict_loss: 0.0001, val/iit_loss: 0.0001, val/IIA: 99.38%, val/accuracy: 100.00%, \n"
     ]
    },
    {
     "name": "stderr",
     "output_type": "stream",
     "text": [
      "100%|██████████| 24/24 [00:02<00:00, 10.38it/s]\n",
      " 15%|█▌        | 152/1000 [20:05<36:10,  2.56s/it]"
     ]
    },
    {
     "name": "stdout",
     "output_type": "stream",
     "text": [
      "\n",
      "Epoch 151: train/iit_loss: 0.0001, train/behavior_loss: 0.0000, train/strict_loss: 0.0001, val/iit_loss: 0.0002, val/IIA: 98.86%, val/accuracy: 100.00%, \n"
     ]
    },
    {
     "name": "stderr",
     "output_type": "stream",
     "text": [
      "100%|██████████| 24/24 [00:02<00:00, 10.20it/s]\n",
      " 15%|█▌        | 153/1000 [20:08<36:07,  2.56s/it]"
     ]
    },
    {
     "name": "stdout",
     "output_type": "stream",
     "text": [
      "\n",
      "Epoch 152: train/iit_loss: 0.0001, train/behavior_loss: 0.0000, train/strict_loss: 0.0001, val/iit_loss: 0.0001, val/IIA: 99.65%, val/accuracy: 100.00%, \n"
     ]
    },
    {
     "name": "stderr",
     "output_type": "stream",
     "text": [
      "100%|██████████| 24/24 [00:02<00:00,  9.45it/s]\n",
      " 15%|█▌        | 154/1000 [20:11<37:06,  2.63s/it]"
     ]
    },
    {
     "name": "stdout",
     "output_type": "stream",
     "text": [
      "\n",
      "Epoch 153: train/iit_loss: 0.0002, train/behavior_loss: 0.0000, train/strict_loss: 0.0001, val/iit_loss: 0.0001, val/IIA: 99.73%, val/accuracy: 100.00%, \n"
     ]
    },
    {
     "name": "stderr",
     "output_type": "stream",
     "text": [
      "100%|██████████| 24/24 [00:02<00:00, 10.15it/s]\n",
      " 16%|█▌        | 155/1000 [20:13<36:48,  2.61s/it]"
     ]
    },
    {
     "name": "stdout",
     "output_type": "stream",
     "text": [
      "\n",
      "Epoch 154: train/iit_loss: 0.0002, train/behavior_loss: 0.0000, train/strict_loss: 0.0001, val/iit_loss: 0.0002, val/IIA: 98.79%, val/accuracy: 100.00%, \n"
     ]
    },
    {
     "name": "stderr",
     "output_type": "stream",
     "text": [
      "100%|██████████| 24/24 [00:02<00:00,  9.39it/s]\n",
      " 16%|█▌        | 156/1000 [20:16<37:40,  2.68s/it]"
     ]
    },
    {
     "name": "stdout",
     "output_type": "stream",
     "text": [
      "\n",
      "Epoch 155: train/iit_loss: 0.0001, train/behavior_loss: 0.0000, train/strict_loss: 0.0001, val/iit_loss: 0.0002, val/IIA: 98.55%, val/accuracy: 100.00%, \n"
     ]
    },
    {
     "name": "stderr",
     "output_type": "stream",
     "text": [
      "100%|██████████| 24/24 [00:03<00:00,  7.15it/s]\n",
      " 16%|█▌        | 157/1000 [20:20<41:44,  2.97s/it]"
     ]
    },
    {
     "name": "stdout",
     "output_type": "stream",
     "text": [
      "\n",
      "Epoch 156: train/iit_loss: 0.0002, train/behavior_loss: 0.0000, train/strict_loss: 0.0001, val/iit_loss: 0.0002, val/IIA: 98.74%, val/accuracy: 100.00%, \n"
     ]
    },
    {
     "name": "stderr",
     "output_type": "stream",
     "text": [
      "100%|██████████| 24/24 [00:03<00:00,  7.86it/s]\n",
      " 16%|█▌        | 158/1000 [20:23<42:53,  3.06s/it]"
     ]
    },
    {
     "name": "stdout",
     "output_type": "stream",
     "text": [
      "\n",
      "Epoch 157: train/iit_loss: 0.0001, train/behavior_loss: 0.0000, train/strict_loss: 0.0001, val/iit_loss: 0.0001, val/IIA: 99.35%, val/accuracy: 100.00%, \n"
     ]
    },
    {
     "name": "stderr",
     "output_type": "stream",
     "text": [
      "100%|██████████| 24/24 [00:02<00:00, 10.10it/s]\n",
      " 16%|█▌        | 159/1000 [20:26<40:51,  2.91s/it]"
     ]
    },
    {
     "name": "stdout",
     "output_type": "stream",
     "text": [
      "\n",
      "Epoch 158: train/iit_loss: 0.0002, train/behavior_loss: 0.0000, train/strict_loss: 0.0001, val/iit_loss: 0.0002, val/IIA: 99.07%, val/accuracy: 100.00%, \n"
     ]
    },
    {
     "name": "stderr",
     "output_type": "stream",
     "text": [
      "100%|██████████| 24/24 [00:02<00:00, 10.34it/s]\n",
      " 16%|█▌        | 160/1000 [20:28<39:09,  2.80s/it]"
     ]
    },
    {
     "name": "stdout",
     "output_type": "stream",
     "text": [
      "\n",
      "Epoch 159: train/iit_loss: 0.0002, train/behavior_loss: 0.0000, train/strict_loss: 0.0001, val/iit_loss: 0.0002, val/IIA: 99.19%, val/accuracy: 100.00%, \n"
     ]
    },
    {
     "name": "stderr",
     "output_type": "stream",
     "text": [
      "100%|██████████| 24/24 [00:02<00:00, 10.13it/s]\n",
      " 16%|█▌        | 161/1000 [20:31<38:10,  2.73s/it]"
     ]
    },
    {
     "name": "stdout",
     "output_type": "stream",
     "text": [
      "\n",
      "Epoch 160: train/iit_loss: 0.0001, train/behavior_loss: 0.0000, train/strict_loss: 0.0001, val/iit_loss: 0.0001, val/IIA: 99.36%, val/accuracy: 100.00%, \n"
     ]
    },
    {
     "name": "stderr",
     "output_type": "stream",
     "text": [
      "100%|██████████| 24/24 [00:02<00:00,  9.76it/s]\n",
      " 16%|█▌        | 162/1000 [20:33<37:49,  2.71s/it]"
     ]
    },
    {
     "name": "stdout",
     "output_type": "stream",
     "text": [
      "\n",
      "Epoch 161: train/iit_loss: 0.0001, train/behavior_loss: 0.0000, train/strict_loss: 0.0001, val/iit_loss: 0.0002, val/IIA: 98.51%, val/accuracy: 100.00%, \n"
     ]
    },
    {
     "name": "stderr",
     "output_type": "stream",
     "text": [
      "100%|██████████| 24/24 [00:02<00:00,  9.88it/s]\n",
      " 16%|█▋        | 163/1000 [20:36<37:26,  2.68s/it]"
     ]
    },
    {
     "name": "stdout",
     "output_type": "stream",
     "text": [
      "\n",
      "Epoch 162: train/iit_loss: 0.0002, train/behavior_loss: 0.0000, train/strict_loss: 0.0001, val/iit_loss: 0.0002, val/IIA: 99.19%, val/accuracy: 100.00%, \n"
     ]
    },
    {
     "name": "stderr",
     "output_type": "stream",
     "text": [
      "100%|██████████| 24/24 [00:02<00:00, 10.15it/s]\n",
      " 16%|█▋        | 164/1000 [20:39<36:52,  2.65s/it]"
     ]
    },
    {
     "name": "stdout",
     "output_type": "stream",
     "text": [
      "\n",
      "Epoch 163: train/iit_loss: 0.0001, train/behavior_loss: 0.0000, train/strict_loss: 0.0001, val/iit_loss: 0.0002, val/IIA: 98.58%, val/accuracy: 100.00%, \n"
     ]
    },
    {
     "name": "stderr",
     "output_type": "stream",
     "text": [
      "100%|██████████| 24/24 [00:02<00:00,  9.70it/s]\n",
      " 16%|█▋        | 165/1000 [20:41<37:00,  2.66s/it]"
     ]
    },
    {
     "name": "stdout",
     "output_type": "stream",
     "text": [
      "\n",
      "Epoch 164: train/iit_loss: 0.0001, train/behavior_loss: 0.0000, train/strict_loss: 0.0001, val/iit_loss: 0.0002, val/IIA: 99.15%, val/accuracy: 100.00%, \n"
     ]
    },
    {
     "name": "stderr",
     "output_type": "stream",
     "text": [
      "100%|██████████| 24/24 [00:02<00:00,  9.87it/s]\n",
      " 17%|█▋        | 166/1000 [20:44<36:50,  2.65s/it]"
     ]
    },
    {
     "name": "stdout",
     "output_type": "stream",
     "text": [
      "\n",
      "Epoch 165: train/iit_loss: 0.0002, train/behavior_loss: 0.0000, train/strict_loss: 0.0001, val/iit_loss: 0.0002, val/IIA: 98.87%, val/accuracy: 100.00%, \n"
     ]
    },
    {
     "name": "stderr",
     "output_type": "stream",
     "text": [
      "100%|██████████| 24/24 [00:02<00:00, 10.46it/s]\n",
      " 17%|█▋        | 166/1000 [20:46<1:44:24,  7.51s/it]"
     ]
    },
    {
     "name": "stdout",
     "output_type": "stream",
     "text": [
      "\n",
      "Epoch 166: train/iit_loss: 0.0002, train/behavior_loss: 0.0000, train/strict_loss: 0.0001, val/iit_loss: 0.0000, val/IIA: 100.00%, val/accuracy: 100.00%, \n"
     ]
    },
    {
     "name": "stderr",
     "output_type": "stream",
     "text": [
      "\n"
     ]
    }
   ],
   "source": [
    "if train_model:\n",
    "    model_pair.train(\n",
    "        train_set,\n",
    "        test_set,\n",
    "        epochs=1000,\n",
    "        use_wandb=False,\n",
    "    )\n",
    "else:\n",
    "    ll_model.load_weights_from_file(f\"ll_models/{case_num}/ll_model_510.pth\")\n",
    "    model_pair.ll_model = ll_model"
   ]
  },
  {
   "cell_type": "markdown",
   "metadata": {},
   "source": [
    "### Setup Eval"
   ]
  },
  {
   "cell_type": "code",
   "execution_count": 11,
   "metadata": {},
   "outputs": [],
   "source": [
    "\"\"\"Create a new test set with unique inputs\"\"\"\n",
    "\n",
    "arr, idxs = np.unique([\", \".join(i) for i in np.array(test_inputs)], return_inverse=True)\n",
    "# create indices that point to the first unique input\n",
    "all_possible_inputs = np.arange(arr.shape[0])\n",
    "# find the first occurence of all_possible_inputs in idxs\n",
    "first_occurences = [np.where(idxs == i)[0][0] for i in all_possible_inputs]\n",
    "\n",
    "unique_test_inputs = test_inputs[first_occurences]\n",
    "unique_test_outputs = test_outputs[first_occurences]\n",
    "assert len(unique_test_inputs) == len(unique_test_outputs)\n",
    "assert len(unique_test_inputs) == len(np.unique([\", \".join(i) for i in np.array(test_inputs)]))\n",
    "assert len(np.unique([\", \".join(i) for i in np.array(unique_test_inputs)])) == len(unique_test_inputs)\n",
    "\n",
    "unique_test_data = TracrDataset(unique_test_inputs, unique_test_outputs)\n",
    "test_set = TracrIITDataset(unique_test_data, unique_test_data, hl_model, every_combination=True)\n",
    "test_loader = test_set.make_loader(batch_size=512, num_workers=0)"
   ]
  },
  {
   "cell_type": "code",
   "execution_count": 12,
   "metadata": {},
   "outputs": [],
   "source": [
    "def tokenise_data(batch, model: HookedTracrTransformer) -> t.Tensor:\n",
    "    x = list(map(list, zip(*batch)))\n",
    "    encoded_x = model.map_tracr_input_to_tl_input(x)\n",
    "    return encoded_x"
   ]
  },
  {
   "cell_type": "code",
   "execution_count": 13,
   "metadata": {},
   "outputs": [],
   "source": [
    "tensorised_base_data = []\n",
    "tensorised_ablation_data = []\n",
    "base_answer_tokens = []\n",
    "for base_in, ablation_in in test_loader:\n",
    "    base_x, base_y,  _ = base_in\n",
    "    ablation_x, ablation_y, _ = ablation_in\n",
    "\n",
    "    tensorised_base_data.append((base_x))\n",
    "    tensorised_ablation_data.append((ablation_x))\n",
    "    base_answer_tokens.append(base_y)\n",
    "\n",
    "base_tensor = t.cat(tensorised_base_data, dim=0)\n",
    "ablation_tensor = t.cat(tensorised_ablation_data, dim=0)\n",
    "base_answer_tokens = t.cat(base_answer_tokens, dim=0)"
   ]
  },
  {
   "cell_type": "code",
   "execution_count": 14,
   "metadata": {},
   "outputs": [
    {
     "name": "stdout",
     "output_type": "stream",
     "text": [
      "\n"
     ]
    }
   ],
   "source": [
    "model.requires_grad_(False)\n",
    "model.eval()\n",
    "hl_model.requires_grad_(False)\n",
    "hl_model.eval()\n",
    "print()"
   ]
  },
  {
   "cell_type": "code",
   "execution_count": 15,
   "metadata": {},
   "outputs": [],
   "source": [
    "original_logits, cache = model.run_with_cache(base_tensor)"
   ]
  },
  {
   "cell_type": "code",
   "execution_count": 16,
   "metadata": {},
   "outputs": [
    {
     "data": {
      "text/plain": [
       "(torch.Size([65536, 5, 1]),\n",
       " tensor([[0.0000],\n",
       "         [0.0000],\n",
       "         [0.0000],\n",
       "         [0.3333],\n",
       "         [0.2500]], device='mps:0'),\n",
       " tensor([0.0000, 0.0000, 0.0000, 0.3333, 0.2500], device='mps:0'))"
      ]
     },
     "execution_count": 16,
     "metadata": {},
     "output_type": "execute_result"
    }
   ],
   "source": [
    "hl_answers = hl_model(base_tensor)\n",
    "(hl_answers.shape), hl_answers[0], base_answer_tokens[0] # Wtf???"
   ]
  },
  {
   "cell_type": "code",
   "execution_count": 17,
   "metadata": {},
   "outputs": [
    {
     "data": {
      "text/plain": [
       "(torch.Size([65536, 5, 1]),\n",
       " tensor([[-1.0685e-05],\n",
       "         [ 1.0009e+00],\n",
       "         [ 5.0476e-01],\n",
       "         [ 3.3514e-01],\n",
       "         [ 2.4876e-01]], device='mps:0'),\n",
       " torch.Size([65536, 5, 1]),\n",
       " tensor([[0.0000],\n",
       "         [1.0000],\n",
       "         [0.5000],\n",
       "         [0.3333],\n",
       "         [0.2500]], device='mps:0'))"
      ]
     },
     "execution_count": 17,
     "metadata": {},
     "output_type": "execute_result"
    }
   ],
   "source": [
    "original_logits.shape, original_logits[3], hl_answers.shape, hl_answers[3]"
   ]
  },
  {
   "cell_type": "markdown",
   "metadata": {},
   "source": [
    "### Patch Attention Heads to see Causal Effect"
   ]
  },
  {
   "cell_type": "code",
   "execution_count": 18,
   "metadata": {},
   "outputs": [
    {
     "data": {
      "text/plain": [
       "([LLNode(name='blocks.0.attn.hook_result', index=[:, :, 0, :], subspace=None),\n",
       "  LLNode(name='blocks.0.attn.hook_result', index=[:, :, 1, :], subspace=None),\n",
       "  LLNode(name='blocks.0.attn.hook_result', index=[:, :, 2, :], subspace=None),\n",
       "  LLNode(name='blocks.0.attn.hook_result', index=[:, :, 3, :], subspace=None),\n",
       "  LLNode(name='blocks.1.attn.hook_result', index=[:, :, 2, :], subspace=None),\n",
       "  LLNode(name='blocks.1.attn.hook_result', index=[:, :, 3, :], subspace=None),\n",
       "  LLNode(name='blocks.1.mlp.hook_post', index=[:], subspace=None)],\n",
       " '---',\n",
       " [{LLNode(name='blocks.0.mlp.hook_post', index=[:], subspace=None)},\n",
       "  {LLNode(name='blocks.1.attn.hook_result', index=[:, :, :2, :], subspace=None)}])"
      ]
     },
     "execution_count": 18,
     "metadata": {},
     "output_type": "execute_result"
    }
   ],
   "source": [
    "from iit.utils.node_picker import get_nodes_not_in_circuit, get_nodes_in_circuit, get_all_nodes\n",
    "\n",
    "nodes_not_in_circuit = get_nodes_not_in_circuit(model_pair.ll_model, hl_ll_corr)\n",
    "nodes_not_in_circuit, \"---\", list(hl_ll_corr.values())"
   ]
  },
  {
   "cell_type": "code",
   "execution_count": 19,
   "metadata": {},
   "outputs": [],
   "source": [
    "from iit.utils.eval_ablations import check_causal_effect, make_dataframe_of_results"
   ]
  },
  {
   "cell_type": "code",
   "execution_count": 20,
   "metadata": {},
   "outputs": [
    {
     "name": "stderr",
     "output_type": "stream",
     "text": [
      "100%|██████████| 256/256 [00:22<00:00, 11.14it/s]\n",
      "100%|██████████| 256/256 [00:07<00:00, 35.81it/s]\n"
     ]
    }
   ],
   "source": [
    "np.random.seed(0)\n",
    "t.manual_seed(0)\n",
    "result_not_in_circuit = check_causal_effect(model_pair, test_set, node_type=\"n\", verbose=False)\n",
    "result_in_circuit = check_causal_effect(model_pair, test_set, node_type=\"c\", verbose=False)"
   ]
  },
  {
   "cell_type": "code",
   "execution_count": 21,
   "metadata": {},
   "outputs": [
    {
     "name": "stdout",
     "output_type": "stream",
     "text": [
      "None {'lr': 0.001, 'losses': 'all', 'atol': 0.05, 'batch_size': 512, 'use_single_loss': False, 'iit_weight': 1.0, 'behavior_weight': 1.0, 'strict_weight': 0.4, 'clip_grad_norm': 1} <class 'iit.model_pairs.strict_iit_model_pair.StrictIITModelPair'>\n"
     ]
    },
    {
     "data": {
      "text/html": [
       "<div>\n",
       "<style scoped>\n",
       "    .dataframe tbody tr th:only-of-type {\n",
       "        vertical-align: middle;\n",
       "    }\n",
       "\n",
       "    .dataframe tbody tr th {\n",
       "        vertical-align: top;\n",
       "    }\n",
       "\n",
       "    .dataframe thead th {\n",
       "        text-align: right;\n",
       "    }\n",
       "</style>\n",
       "<table border=\"1\" class=\"dataframe\">\n",
       "  <thead>\n",
       "    <tr style=\"text-align: right;\">\n",
       "      <th></th>\n",
       "      <th>node</th>\n",
       "      <th>status</th>\n",
       "      <th>causal effect</th>\n",
       "    </tr>\n",
       "  </thead>\n",
       "  <tbody>\n",
       "    <tr>\n",
       "      <th>0</th>\n",
       "      <td>blocks.0.attn.hook_result, head  0</td>\n",
       "      <td>not_in_circuit</td>\n",
       "      <td>0.002144</td>\n",
       "    </tr>\n",
       "    <tr>\n",
       "      <th>1</th>\n",
       "      <td>blocks.0.attn.hook_result, head  1</td>\n",
       "      <td>not_in_circuit</td>\n",
       "      <td>0.007174</td>\n",
       "    </tr>\n",
       "    <tr>\n",
       "      <th>2</th>\n",
       "      <td>blocks.0.attn.hook_result, head  2</td>\n",
       "      <td>not_in_circuit</td>\n",
       "      <td>0.000595</td>\n",
       "    </tr>\n",
       "    <tr>\n",
       "      <th>3</th>\n",
       "      <td>blocks.0.attn.hook_result, head  3</td>\n",
       "      <td>not_in_circuit</td>\n",
       "      <td>0.006195</td>\n",
       "    </tr>\n",
       "    <tr>\n",
       "      <th>4</th>\n",
       "      <td>blocks.1.attn.hook_result, head  2</td>\n",
       "      <td>not_in_circuit</td>\n",
       "      <td>0.011373</td>\n",
       "    </tr>\n",
       "    <tr>\n",
       "      <th>5</th>\n",
       "      <td>blocks.1.attn.hook_result, head  3</td>\n",
       "      <td>not_in_circuit</td>\n",
       "      <td>0.000119</td>\n",
       "    </tr>\n",
       "    <tr>\n",
       "      <th>6</th>\n",
       "      <td>blocks.1.mlp.hook_post</td>\n",
       "      <td>not_in_circuit</td>\n",
       "      <td>0.023031</td>\n",
       "    </tr>\n",
       "    <tr>\n",
       "      <th>7</th>\n",
       "      <td>blocks.1.attn.hook_result, head  :2</td>\n",
       "      <td>in_circuit</td>\n",
       "      <td>1.000000</td>\n",
       "    </tr>\n",
       "    <tr>\n",
       "      <th>8</th>\n",
       "      <td>blocks.0.mlp.hook_post</td>\n",
       "      <td>in_circuit</td>\n",
       "      <td>1.000000</td>\n",
       "    </tr>\n",
       "  </tbody>\n",
       "</table>\n",
       "</div>"
      ],
      "text/plain": [
       "                                  node          status  causal effect\n",
       "0   blocks.0.attn.hook_result, head  0  not_in_circuit       0.002144\n",
       "1   blocks.0.attn.hook_result, head  1  not_in_circuit       0.007174\n",
       "2   blocks.0.attn.hook_result, head  2  not_in_circuit       0.000595\n",
       "3   blocks.0.attn.hook_result, head  3  not_in_circuit       0.006195\n",
       "4   blocks.1.attn.hook_result, head  2  not_in_circuit       0.011373\n",
       "5   blocks.1.attn.hook_result, head  3  not_in_circuit       0.000119\n",
       "6               blocks.1.mlp.hook_post  not_in_circuit       0.023031\n",
       "7  blocks.1.attn.hook_result, head  :2      in_circuit       1.000000\n",
       "8               blocks.0.mlp.hook_post      in_circuit       1.000000"
      ]
     },
     "execution_count": 21,
     "metadata": {},
     "output_type": "execute_result"
    }
   ],
   "source": [
    "df = make_dataframe_of_results(result_not_in_circuit, result_in_circuit)\n",
    "# df.style.apply(color_table, subset=[\"status\"])\n",
    "print(attn_idx, training_args, tracr_model_class)\n",
    "df"
   ]
  },
  {
   "cell_type": "code",
   "execution_count": 22,
   "metadata": {},
   "outputs": [],
   "source": [
    "from iit.utils.metric import MetricStore\n",
    "def print_metrics(metrics: list[MetricStore]):\n",
    "    for metric in metrics:\n",
    "        print(f\"{metric.get_name()}: {metric.get_value()}\")\n",
    "\n",
    "metric_collection = model_pair._run_eval_epoch(test_loader, model_pair.loss_fn)"
   ]
  },
  {
   "cell_type": "code",
   "execution_count": 23,
   "metadata": {},
   "outputs": [
    {
     "name": "stdout",
     "output_type": "stream",
     "text": [
      "val/iit_loss: 0.00015295915579827124\n",
      "val/IIA: 99.14306686259806\n",
      "val/accuracy: 100.0\n"
     ]
    }
   ],
   "source": [
    "print_metrics(metric_collection.metrics)"
   ]
  },
  {
   "cell_type": "markdown",
   "metadata": {},
   "source": [
    "### Do the same with zero ablations"
   ]
  },
  {
   "cell_type": "code",
   "execution_count": 1,
   "metadata": {},
   "outputs": [
    {
     "name": "stderr",
     "output_type": "stream",
     "text": [
      "/Users/cybershiptrooper/src/interpretability/MATS/.iit/lib/python3.11/site-packages/tqdm/auto.py:21: TqdmWarning: IProgress not found. Please update jupyter and ipywidgets. See https://ipywidgets.readthedocs.io/en/stable/user_install.html\n",
      "  from .autonotebook import tqdm as notebook_tqdm\n"
     ]
    }
   ],
   "source": [
    "from iit.utils.eval_ablations import get_causal_effects_for_all_nodes\n",
    "from iit_utils.dataset import TracrUniqueDataset"
   ]
  },
  {
   "cell_type": "code",
   "execution_count": 25,
   "metadata": {},
   "outputs": [],
   "source": [
    "uni_test_set = TracrUniqueDataset(unique_test_data, unique_test_data, hl_model, every_combination=True)"
   ]
  },
  {
   "cell_type": "code",
   "execution_count": 26,
   "metadata": {},
   "outputs": [
    {
     "name": "stderr",
     "output_type": "stream",
     "text": [
      "100%|██████████| 32/32 [00:00<00:00, 74.20it/s]\n",
      "100%|██████████| 1/1 [00:00<00:00, 10.60it/s]\n",
      "100%|██████████| 32/32 [00:00<00:00, 100.41it/s]\n",
      "100%|██████████| 1/1 [00:00<00:00, 36.74it/s]\n"
     ]
    }
   ],
   "source": [
    "np.random.seed(0)\n",
    "t.manual_seed(0)\n",
    "use_mean_cache = True\n",
    "za_result_not_in_circuit, za_result_in_circuit = get_causal_effects_for_all_nodes(model_pair, uni_test_set, use_mean_cache=use_mean_cache, batch_size=len(uni_test_set))"
   ]
  },
  {
   "cell_type": "code",
   "execution_count": 27,
   "metadata": {},
   "outputs": [
    {
     "name": "stdout",
     "output_type": "stream",
     "text": [
      "None {'lr': 0.001, 'losses': 'all', 'atol': 0.05, 'batch_size': 512, 'use_single_loss': False, 'iit_weight': 1.0, 'behavior_weight': 1.0, 'strict_weight': 0.4, 'clip_grad_norm': 1} <class 'iit.model_pairs.strict_iit_model_pair.StrictIITModelPair'>\n"
     ]
    },
    {
     "data": {
      "text/html": [
       "<div>\n",
       "<style scoped>\n",
       "    .dataframe tbody tr th:only-of-type {\n",
       "        vertical-align: middle;\n",
       "    }\n",
       "\n",
       "    .dataframe tbody tr th {\n",
       "        vertical-align: top;\n",
       "    }\n",
       "\n",
       "    .dataframe thead th {\n",
       "        text-align: right;\n",
       "    }\n",
       "</style>\n",
       "<table border=\"1\" class=\"dataframe\">\n",
       "  <thead>\n",
       "    <tr style=\"text-align: right;\">\n",
       "      <th></th>\n",
       "      <th>node</th>\n",
       "      <th>status</th>\n",
       "      <th>causal effect</th>\n",
       "    </tr>\n",
       "  </thead>\n",
       "  <tbody>\n",
       "    <tr>\n",
       "      <th>0</th>\n",
       "      <td>blocks.0.attn.hook_result, head  0</td>\n",
       "      <td>not_in_circuit</td>\n",
       "      <td>0.000781</td>\n",
       "    </tr>\n",
       "    <tr>\n",
       "      <th>1</th>\n",
       "      <td>blocks.0.attn.hook_result, head  1</td>\n",
       "      <td>not_in_circuit</td>\n",
       "      <td>0.000000</td>\n",
       "    </tr>\n",
       "    <tr>\n",
       "      <th>2</th>\n",
       "      <td>blocks.0.attn.hook_result, head  2</td>\n",
       "      <td>not_in_circuit</td>\n",
       "      <td>0.000000</td>\n",
       "    </tr>\n",
       "    <tr>\n",
       "      <th>3</th>\n",
       "      <td>blocks.0.attn.hook_result, head  3</td>\n",
       "      <td>not_in_circuit</td>\n",
       "      <td>0.000000</td>\n",
       "    </tr>\n",
       "    <tr>\n",
       "      <th>4</th>\n",
       "      <td>blocks.1.attn.hook_result, head  2</td>\n",
       "      <td>not_in_circuit</td>\n",
       "      <td>0.000000</td>\n",
       "    </tr>\n",
       "    <tr>\n",
       "      <th>5</th>\n",
       "      <td>blocks.1.attn.hook_result, head  3</td>\n",
       "      <td>not_in_circuit</td>\n",
       "      <td>0.000000</td>\n",
       "    </tr>\n",
       "    <tr>\n",
       "      <th>6</th>\n",
       "      <td>blocks.1.mlp.hook_post</td>\n",
       "      <td>not_in_circuit</td>\n",
       "      <td>0.000781</td>\n",
       "    </tr>\n",
       "    <tr>\n",
       "      <th>7</th>\n",
       "      <td>blocks.1.attn.hook_result, head  :2</td>\n",
       "      <td>in_circuit</td>\n",
       "      <td>0.715625</td>\n",
       "    </tr>\n",
       "    <tr>\n",
       "      <th>8</th>\n",
       "      <td>blocks.0.mlp.hook_post</td>\n",
       "      <td>in_circuit</td>\n",
       "      <td>0.715625</td>\n",
       "    </tr>\n",
       "  </tbody>\n",
       "</table>\n",
       "</div>"
      ],
      "text/plain": [
       "                                  node          status  causal effect\n",
       "0   blocks.0.attn.hook_result, head  0  not_in_circuit       0.000781\n",
       "1   blocks.0.attn.hook_result, head  1  not_in_circuit       0.000000\n",
       "2   blocks.0.attn.hook_result, head  2  not_in_circuit       0.000000\n",
       "3   blocks.0.attn.hook_result, head  3  not_in_circuit       0.000000\n",
       "4   blocks.1.attn.hook_result, head  2  not_in_circuit       0.000000\n",
       "5   blocks.1.attn.hook_result, head  3  not_in_circuit       0.000000\n",
       "6               blocks.1.mlp.hook_post  not_in_circuit       0.000781\n",
       "7  blocks.1.attn.hook_result, head  :2      in_circuit       0.715625\n",
       "8               blocks.0.mlp.hook_post      in_circuit       0.715625"
      ]
     },
     "execution_count": 27,
     "metadata": {},
     "output_type": "execute_result"
    }
   ],
   "source": [
    "df = make_dataframe_of_results(za_result_not_in_circuit, za_result_in_circuit)\n",
    "# df.style.map(color_table, subset=[\"status\"])\n",
    "print(attn_idx, training_args, tracr_model_class)\n",
    "df"
   ]
  },
  {
   "cell_type": "markdown",
   "metadata": {},
   "source": [
    "### Combined table"
   ]
  },
  {
   "cell_type": "code",
   "execution_count": 28,
   "metadata": {},
   "outputs": [
    {
     "name": "stdout",
     "output_type": "stream",
     "text": [
      "None {'lr': 0.001, 'losses': 'all', 'atol': 0.05, 'batch_size': 512, 'use_single_loss': False, 'iit_weight': 1.0, 'behavior_weight': 1.0, 'strict_weight': 0.4, 'clip_grad_norm': 1} <class 'iit.model_pairs.strict_iit_model_pair.StrictIITModelPair'>\n"
     ]
    },
    {
     "data": {
      "text/html": [
       "<div>\n",
       "<style scoped>\n",
       "    .dataframe tbody tr th:only-of-type {\n",
       "        vertical-align: middle;\n",
       "    }\n",
       "\n",
       "    .dataframe tbody tr th {\n",
       "        vertical-align: top;\n",
       "    }\n",
       "\n",
       "    .dataframe thead th {\n",
       "        text-align: right;\n",
       "    }\n",
       "</style>\n",
       "<table border=\"1\" class=\"dataframe\">\n",
       "  <thead>\n",
       "    <tr style=\"text-align: right;\">\n",
       "      <th></th>\n",
       "      <th>node</th>\n",
       "      <th>status</th>\n",
       "      <th>resample_ablate_effect</th>\n",
       "      <th>mean_ablate_effect</th>\n",
       "    </tr>\n",
       "  </thead>\n",
       "  <tbody>\n",
       "    <tr>\n",
       "      <th>0</th>\n",
       "      <td>blocks.0.attn.hook_result, head  0</td>\n",
       "      <td>not_in_circuit</td>\n",
       "      <td>0.002144</td>\n",
       "      <td>0.000781</td>\n",
       "    </tr>\n",
       "    <tr>\n",
       "      <th>1</th>\n",
       "      <td>blocks.0.attn.hook_result, head  1</td>\n",
       "      <td>not_in_circuit</td>\n",
       "      <td>0.007174</td>\n",
       "      <td>0.000000</td>\n",
       "    </tr>\n",
       "    <tr>\n",
       "      <th>2</th>\n",
       "      <td>blocks.0.attn.hook_result, head  2</td>\n",
       "      <td>not_in_circuit</td>\n",
       "      <td>0.000595</td>\n",
       "      <td>0.000000</td>\n",
       "    </tr>\n",
       "    <tr>\n",
       "      <th>3</th>\n",
       "      <td>blocks.0.attn.hook_result, head  3</td>\n",
       "      <td>not_in_circuit</td>\n",
       "      <td>0.006195</td>\n",
       "      <td>0.000000</td>\n",
       "    </tr>\n",
       "    <tr>\n",
       "      <th>4</th>\n",
       "      <td>blocks.1.attn.hook_result, head  2</td>\n",
       "      <td>not_in_circuit</td>\n",
       "      <td>0.011373</td>\n",
       "      <td>0.000000</td>\n",
       "    </tr>\n",
       "    <tr>\n",
       "      <th>5</th>\n",
       "      <td>blocks.1.attn.hook_result, head  3</td>\n",
       "      <td>not_in_circuit</td>\n",
       "      <td>0.000119</td>\n",
       "      <td>0.000000</td>\n",
       "    </tr>\n",
       "    <tr>\n",
       "      <th>6</th>\n",
       "      <td>blocks.1.mlp.hook_post</td>\n",
       "      <td>not_in_circuit</td>\n",
       "      <td>0.023031</td>\n",
       "      <td>0.000781</td>\n",
       "    </tr>\n",
       "    <tr>\n",
       "      <th>7</th>\n",
       "      <td>blocks.1.attn.hook_result, head  :2</td>\n",
       "      <td>in_circuit</td>\n",
       "      <td>1.000000</td>\n",
       "      <td>0.715625</td>\n",
       "    </tr>\n",
       "    <tr>\n",
       "      <th>8</th>\n",
       "      <td>blocks.0.mlp.hook_post</td>\n",
       "      <td>in_circuit</td>\n",
       "      <td>1.000000</td>\n",
       "      <td>0.715625</td>\n",
       "    </tr>\n",
       "  </tbody>\n",
       "</table>\n",
       "</div>"
      ],
      "text/plain": [
       "                                  node          status  \\\n",
       "0   blocks.0.attn.hook_result, head  0  not_in_circuit   \n",
       "1   blocks.0.attn.hook_result, head  1  not_in_circuit   \n",
       "2   blocks.0.attn.hook_result, head  2  not_in_circuit   \n",
       "3   blocks.0.attn.hook_result, head  3  not_in_circuit   \n",
       "4   blocks.1.attn.hook_result, head  2  not_in_circuit   \n",
       "5   blocks.1.attn.hook_result, head  3  not_in_circuit   \n",
       "6               blocks.1.mlp.hook_post  not_in_circuit   \n",
       "7  blocks.1.attn.hook_result, head  :2      in_circuit   \n",
       "8               blocks.0.mlp.hook_post      in_circuit   \n",
       "\n",
       "   resample_ablate_effect  mean_ablate_effect  \n",
       "0                0.002144            0.000781  \n",
       "1                0.007174            0.000000  \n",
       "2                0.000595            0.000000  \n",
       "3                0.006195            0.000000  \n",
       "4                0.011373            0.000000  \n",
       "5                0.000119            0.000000  \n",
       "6                0.023031            0.000781  \n",
       "7                1.000000            0.715625  \n",
       "8                1.000000            0.715625  "
      ]
     },
     "execution_count": 28,
     "metadata": {},
     "output_type": "execute_result"
    }
   ],
   "source": [
    "from iit.utils.eval_ablations import make_combined_dataframe_of_results\n",
    "df = make_combined_dataframe_of_results(result_not_in_circuit, result_in_circuit, za_result_not_in_circuit, za_result_in_circuit, use_mean_cache=use_mean_cache)\n",
    "# df.style.apply(color_table, subset=[\"status\"], method = \"map\")   \n",
    "print(attn_idx, training_args, tracr_model_class)\n",
    "df"
   ]
  },
  {
   "cell_type": "code",
   "execution_count": 29,
   "metadata": {},
   "outputs": [],
   "source": [
    "# save the results\n",
    "# import time\n",
    "# save_dir = f\"results/{tracr_model_class.__name__}/{time.strftime('%d-%H-%M-%S')}\"\n",
    "# from iit.utils.eval_ablations import save_result\n",
    "# save_result(df, save_dir, model_pair)"
   ]
  },
  {
   "cell_type": "code",
   "execution_count": 30,
   "metadata": {},
   "outputs": [],
   "source": [
    "# batch = next(iter(test_loader))\n",
    "# base_in, ablation_in = batch\n",
    "# base_x, base_y, _ = base_in\n",
    "# ablation_x, ablation_y, _ = ablation_in\n",
    "# out, cache = model_pair.ll_model.run_with_cache(base_x)\n",
    "# base_x.shape, ablation_x.shape"
   ]
  },
  {
   "cell_type": "code",
   "execution_count": 31,
   "metadata": {},
   "outputs": [],
   "source": [
    "# get_nodes_not_in_circuit(model_pair.ll_model, hl_ll_corr)"
   ]
  },
  {
   "cell_type": "code",
   "execution_count": 32,
   "metadata": {},
   "outputs": [],
   "source": [
    "# cache['blocks.0.hook_attn_out'].shape, cache['blocks.0.attn.hook_result'].shape, model_pair.ll_model.cfg.n_heads"
   ]
  },
  {
   "cell_type": "code",
   "execution_count": 33,
   "metadata": {},
   "outputs": [],
   "source": [
    "# np.linalg.norm(cache['blocks.0.hook_attn_out'].cpu().detach().numpy(), axis=2)"
   ]
  },
  {
   "cell_type": "markdown",
   "metadata": {},
   "source": [
    "### Rough"
   ]
  },
  {
   "cell_type": "code",
   "execution_count": 34,
   "metadata": {},
   "outputs": [],
   "source": [
    "# def get_all_bad_examples(model_pair, loader, atol=5e-2):\n",
    "#     model_pair.ll_model.eval()\n",
    "#     model_pair.hl_model.eval()\n",
    "#     bad_io_examples = []\n",
    "#     bad_ii_examples = []\n",
    "\n",
    "#     for base_in, ablation_in in tqdm(loader):\n",
    "#         base_in = model_pair.get_encoded_input_from_torch_input(base_in)\n",
    "#         ablation_in = model_pair.get_encoded_input_from_torch_input(ablation_in)\n",
    "#         for node in model_pair.corr.keys():\n",
    "#             hl_node = node.name\n",
    "#             ll_out, hl_out = model_pair.do_intervention(base_in, ablation_in, hl_node)\n",
    "#             if model_pair.hl_model.is_categorical():\n",
    "#                 top1 = t.argmax(ll_out, dim=1)\n",
    "#                 correct = (top1 == hl_out).float()\n",
    "#             else:\n",
    "#                 correct = ((ll_out - hl_out).abs() < atol).float()\n",
    "            \n",
    "#             for i, c in enumerate(correct):\n",
    "#                 print(c)\n",
    "#                 if c == 0:\n",
    "#                     bad_ii_examples.append((base_in[i], ablation_in[i]))\n",
    "#         base_x, base_y = base_in\n",
    "#         ll_out = model_pair.ll_model(base_x)\n",
    "#         if model_pair.hl_model.is_categorical():\n",
    "#             top1 = t.argmax(ll_out, dim=1)\n",
    "#             correct = (top1 == base_y).float()\n",
    "#         else:\n",
    "#             correct = ((ll_out - base_y).abs() < atol).float()\n",
    "        \n",
    "#         for i, c in enumerate(correct):\n",
    "#             if c == 0:\n",
    "#                 if base_x[i] not in bad_io_examples:\n",
    "#                     bad_io_examples.append((base_x[i]))\n",
    "\n",
    "#     return bad_io_examples, bad_ii_examples\n",
    "\n",
    "# bad_io_examples, bad_ii_examples = get_all_bad_examples(model_pair, test_loader, atol)\n",
    "\n",
    "# bad_io_examples, bad_ii_examples"
   ]
  },
  {
   "cell_type": "code",
   "execution_count": 35,
   "metadata": {},
   "outputs": [],
   "source": [
    "# np.random.seed(0)\n",
    "# t.manual_seed(0)\n",
    "# test_loader = DataLoader(test_set, batch_size=2, shuffle=True)\n",
    "# base_in, ablation_in = next(iter(test_loader))\n",
    "\n",
    "# hooker = model_pair.make_ll_ablation_hook(nodes_not_in_circuit[2])\n",
    "# base_x, base_y = model_pair.get_encoded_input_from_torch_input(base_in)\n",
    "# ablation_x, ablation_y = model_pair.get_encoded_input_from_torch_input(ablation_in)\n",
    "# ll_out = do_intervention(model_pair.ll_model, base_x, ablation_x, nodes_not_in_circuit[2], hooker)\n",
    "# ll_base_out, ll_base_cache = model_pair.ll_model.run_with_cache(base_x)\n",
    "# ll_ablation_out, ll_ablation_cache = model_pair.ll_model.run_with_cache(ablation_x)\n",
    "# for i in range(2):\n",
    "#     print(\n",
    "#         \"---\",\n",
    "#         f\"example {i}\", \n",
    "#         \"base_y:\", base_y[i],\n",
    "#         \"ll_base_out:\", ll_base_out[i].T,\n",
    "#         \"\",\n",
    "#         \"ablation_y:\", ablation_y[i],\n",
    "#         \"ll_ablation_out:\", ll_ablation_out[i].T,\n",
    "#         \"\",\n",
    "#         \"ll_out:\", ll_out[i].T,\n",
    "#         sep=\"\\n\"\n",
    "#     )"
   ]
  },
  {
   "cell_type": "code",
   "execution_count": null,
   "metadata": {},
   "outputs": [],
   "source": []
  }
 ],
 "metadata": {
  "kernelspec": {
   "display_name": "Python 3 (ipykernel)",
   "language": "python",
   "name": "python3"
  },
  "language_info": {
   "codemirror_mode": {
    "name": "ipython",
    "version": 3
   },
   "file_extension": ".py",
   "mimetype": "text/x-python",
   "name": "python",
   "nbconvert_exporter": "python",
   "pygments_lexer": "ipython3",
   "version": "3.11.4"
  }
 },
 "nbformat": 4,
 "nbformat_minor": 4
}
