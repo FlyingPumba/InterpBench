{
 "cells": [
  {
   "cell_type": "markdown",
   "metadata": {},
   "source": [
    "### Setup"
   ]
  },
  {
   "cell_type": "code",
   "execution_count": 1,
   "metadata": {},
   "outputs": [
    {
     "name": "stderr",
     "output_type": "stream",
     "text": [
      "/Users/cybershiptrooper/src/interpretability/MATS/.iit/lib/python3.11/site-packages/tqdm/auto.py:21: TqdmWarning: IProgress not found. Please update jupyter and ipywidgets. See https://ipywidgets.readthedocs.io/en/stable/user_install.html\n",
      "  from .autonotebook import tqdm as notebook_tqdm\n"
     ]
    }
   ],
   "source": [
    "import sys\n",
    "import os\n",
    "import transformer_lens as tl\n",
    "from torch.utils.data import Dataset\n",
    "import torch as t\n",
    "from tqdm import tqdm\n",
    "from torch.utils.data import DataLoader\n",
    "import numpy as np\n",
    "import wandb\n",
    "from typing import List, Dict, Any, Optional\n",
    "\n",
    "from circuits_benchmark.benchmark.benchmark_case import BenchmarkCase, CaseDataset\n",
    "from circuits_benchmark.transformers.hooked_tracr_transformer import HookedTracrTransformer\n",
    "import iit.model_pairs as mp\n",
    "import iit.utils.index as index\n",
    "from iit_utils.dataset import create_dataset, TracrDataset, TracrIITDataset\n",
    "import iit_utils.correspondence as correspondence\n",
    "from circuits_benchmark.utils.get_cases import get_cases\n",
    "from circuits_benchmark.commands.build_main_parser import build_main_parser\n",
    "from iit_utils.iit_hl_model import make_iit_hl_model\n",
    "\n",
    "DEVICE = t.device(\"cuda\" if t.cuda.is_available() else \"cpu\")\n",
    "WANDB_ENTITY = \"cybershiptrooper\" # TODO make this an env var"
   ]
  },
  {
   "cell_type": "markdown",
   "metadata": {},
   "source": [
    "### Train Model"
   ]
  },
  {
   "cell_type": "code",
   "execution_count": 2,
   "metadata": {},
   "outputs": [
    {
     "data": {
      "text/plain": [
       "'StopGradModelPair'"
      ]
     },
     "execution_count": 2,
     "metadata": {},
     "output_type": "execute_result"
    }
   ],
   "source": [
    "attn_idx = None\n",
    "atol = 5e-2\n",
    "losses = \"all\"\n",
    "tracr_model_class = mp.StopGradModelPair\n",
    "case_num = 3\n",
    "train_model = True\n",
    "training_args = {\n",
    "    \"lr\" : 1e-3,\n",
    "    \"losses\" : losses,\n",
    "    \"atol\" : atol,\n",
    "    \"batch_size\" : 512,\n",
    "    \"use_single_loss\": False,\n",
    "    \"iit_weight\": 0.0,\n",
    "    \"behavior_weight\": 1.0,\n",
    "    \"strict_weight\": 0.0,\n",
    "    \"scale\": 1.0,\n",
    "    \"use_ln_hooks\": True,\n",
    "    \"clip_grad_norm\": 1,\n",
    "    # \"lr_scheduler\": None\n",
    "}\n",
    "tracr_model_class.__name__"
   ]
  },
  {
   "cell_type": "code",
   "execution_count": 3,
   "metadata": {},
   "outputs": [],
   "source": [
    "np.random.seed(0)\n",
    "t.manual_seed(0)\n",
    "\n",
    "args, _ = build_main_parser().parse_known_args([\"compile\",\n",
    "                                                f\"-i={case_num}\",\n",
    "                                                \"-f\",])\n",
    "cases = get_cases(args)\n",
    "case = cases[0]\n",
    "\n",
    "tracr_output = case.build_tracr_model()\n",
    "hl_model = case.build_transformer_lens_model()\n",
    "# this is the graph node -> hl node correspondence\n",
    "hl_ll_corr = correspondence.TracrCorrespondence.from_output(case, tracr_output)"
   ]
  },
  {
   "cell_type": "code",
   "execution_count": 4,
   "metadata": {},
   "outputs": [
    {
     "data": {
      "text/plain": [
       "[['BOS', 1.0, 0.5, 0.3333333432674408, 0.25]]"
      ]
     },
     "execution_count": 4,
     "metadata": {},
     "output_type": "execute_result"
    }
   ],
   "source": [
    "hl_model([['BOS', 'x', 'b', 'a', 'a']], return_type='decoded')"
   ]
  },
  {
   "cell_type": "code",
   "execution_count": 5,
   "metadata": {},
   "outputs": [],
   "source": [
    "# seed everything\n",
    "t.manual_seed(1)\n",
    "np.random.seed(1)\n",
    "import random\n",
    "random.seed(1)"
   ]
  },
  {
   "cell_type": "code",
   "execution_count": 6,
   "metadata": {},
   "outputs": [],
   "source": [
    "data = case.get_clean_data(count=15000)\n",
    "inputs = data.get_inputs().to_numpy()\n",
    "outputs = data.get_correct_outputs().to_numpy()\n",
    "\n",
    "train_inputs = inputs[:12000]\n",
    "test_inputs = inputs[12000:]\n",
    "train_outputs = outputs[:12000]\n",
    "test_outputs = outputs[12000:]\n",
    "\n",
    "train_set, test_set = create_dataset(case, hl_model)"
   ]
  },
  {
   "cell_type": "code",
   "execution_count": 7,
   "metadata": {},
   "outputs": [
    {
     "name": "stdout",
     "output_type": "stream",
     "text": [
      "{'n_layers': 2, 'd_model': 8, 'n_ctx': 5, 'd_head': 4, 'model_name': 'custom', 'n_heads': 4, 'd_mlp': 16, 'act_fn': 'gelu', 'd_vocab': 6, 'eps': 1e-05, 'use_attn_result': True, 'use_attn_scale': True, 'use_split_qkv_input': True, 'use_hook_mlp_in': True, 'use_attn_in': False, 'use_local_attn': False, 'original_architecture': None, 'from_checkpoint': False, 'checkpoint_index': None, 'checkpoint_label_type': None, 'checkpoint_value': None, 'tokenizer_name': None, 'window_size': None, 'attn_types': None, 'init_mode': 'gpt2', 'normalization_type': None, 'device': device(type='mps'), 'n_devices': 1, 'attention_dir': 'causal', 'attn_only': False, 'seed': None, 'initializer_range': 0.22188007849009167, 'init_weights': True, 'scale_attn_by_inverse_layer_idx': False, 'positional_embedding_type': 'standard', 'final_rms': False, 'd_vocab_out': 1, 'parallel_attn_mlp': False, 'rotary_dim': None, 'n_params': 676, 'use_hook_tokens': False, 'gated_mlp': False, 'default_prepend_bos': True, 'dtype': torch.float32, 'tokenizer_prepends_bos': None, 'n_key_value_heads': None, 'post_embedding_ln': False, 'rotary_base': 10000, 'trust_remote_code': False, 'rotary_adjacent_pairs': False}\n"
     ]
    }
   ],
   "source": [
    "from transformer_lens import HookedTransformer, HookedTransformerConfig\n",
    "\n",
    "cfg_dict = {\n",
    "    \"n_layers\": 2, \n",
    "    \"n_heads\": 4, \n",
    "    \"d_head\": 4,\n",
    "    \"d_model\": 8,\n",
    "    \"d_mlp\": 16,\n",
    "    \"act_fn\": \"gelu\",\n",
    "}\n",
    "ll_cfg = hl_model.cfg.to_dict().copy()\n",
    "ll_cfg.update(cfg_dict)\n",
    "\n",
    "\n",
    "print(ll_cfg)\n",
    "ll_cfg = HookedTransformerConfig.from_dict(ll_cfg)\n",
    "model = HookedTransformer(ll_cfg)\n"
   ]
  },
  {
   "cell_type": "code",
   "execution_count": 8,
   "metadata": {},
   "outputs": [
    {
     "name": "stdout",
     "output_type": "stream",
     "text": [
      "{'hook_embed': HookPoint(), 'hook_pos_embed': HookPoint(), 'blocks.0.attn.hook_k': HookPoint(), 'blocks.0.attn.hook_q': HookPoint(), 'blocks.0.attn.hook_v': HookPoint(), 'blocks.0.attn.hook_z': HookPoint(), 'blocks.0.attn.hook_attn_scores': HookPoint(), 'blocks.0.attn.hook_pattern': HookPoint(), 'blocks.0.attn.hook_result': HookPoint(), 'blocks.0.mlp.hook_pre': HookPoint(), 'blocks.0.mlp.hook_post': HookPoint(), 'blocks.0.hook_attn_in': HookPoint(), 'blocks.0.hook_q_input': HookPoint(), 'blocks.0.hook_k_input': HookPoint(), 'blocks.0.hook_v_input': HookPoint(), 'blocks.0.hook_mlp_in': HookPoint(), 'blocks.0.hook_attn_out': HookPoint(), 'blocks.0.hook_mlp_out': HookPoint(), 'blocks.0.hook_resid_pre': HookPoint(), 'blocks.0.hook_resid_mid': HookPoint(), 'blocks.0.hook_resid_post': HookPoint(), 'blocks.1.attn.hook_k': HookPoint(), 'blocks.1.attn.hook_q': HookPoint(), 'blocks.1.attn.hook_v': HookPoint(), 'blocks.1.attn.hook_z': HookPoint(), 'blocks.1.attn.hook_attn_scores': HookPoint(), 'blocks.1.attn.hook_pattern': HookPoint(), 'blocks.1.attn.hook_result': HookPoint(), 'blocks.1.mlp.hook_pre': HookPoint(), 'blocks.1.mlp.hook_post': HookPoint(), 'blocks.1.hook_attn_in': HookPoint(), 'blocks.1.hook_q_input': HookPoint(), 'blocks.1.hook_k_input': HookPoint(), 'blocks.1.hook_v_input': HookPoint(), 'blocks.1.hook_mlp_in': HookPoint(), 'blocks.1.hook_attn_out': HookPoint(), 'blocks.1.hook_mlp_out': HookPoint(), 'blocks.1.hook_resid_pre': HookPoint(), 'blocks.1.hook_resid_mid': HookPoint(), 'blocks.1.hook_resid_post': HookPoint()}\n",
      "dict_keys([TracrHLNode(name: blocks.0.mlp.hook_post,\n",
      " label: is_x_3,\n",
      " classes: 0,\n",
      " index: [:]\n",
      "), TracrHLNode(name: blocks.1.attn.hook_result,\n",
      " label: frac_prevs_1,\n",
      " classes: 0,\n",
      " index: [:, :, 0, :]\n",
      ")])\n",
      "WARNING: This doesn't work when switching individual heads on/off.\n"
     ]
    }
   ],
   "source": [
    "model_pair = tracr_model_class(\n",
    "    hl_model = make_iit_hl_model(hl_model),\n",
    "    ll_model = model,\n",
    "    corr = hl_ll_corr,\n",
    "    training_args=training_args,\n",
    ")"
   ]
  },
  {
   "cell_type": "code",
   "execution_count": 9,
   "metadata": {},
   "outputs": [],
   "source": [
    "\n",
    "ll_model = HookedTracrTransformer(\n",
    "    ll_cfg, hl_model.tracr_input_encoder, hl_model.tracr_output_encoder, hl_model.residual_stream_labels\n",
    ")\n"
   ]
  },
  {
   "cell_type": "code",
   "execution_count": 10,
   "metadata": {},
   "outputs": [
    {
     "name": "stderr",
     "output_type": "stream",
     "text": [
      "Failed to detect the name of this notebook, you can set it manually with the WANDB_NOTEBOOK_NAME environment variable to enable code saving.\n"
     ]
    },
    {
     "name": "stdout",
     "output_type": "stream",
     "text": [
      "training_args={'batch_size': 512, 'lr': 0.001, 'num_workers': 0, 'early_stop': True, 'lr_scheduler': <class 'torch.optim.lr_scheduler.ReduceLROnPlateau'>, 'scheduler_val_metric': 'val/accuracy', 'scheduler_mode': 'max', 'clip_grad_norm': 1, 'atol': 0.05, 'use_single_loss': False, 'iit_weight': 0.0, 'behavior_weight': 1.0, 'scale': 1.0, 'use_ln_hooks': True, 'losses': 'all', 'strict_weight': 0.0}\n"
     ]
    },
    {
     "name": "stderr",
     "output_type": "stream",
     "text": [
      "\u001b[34m\u001b[1mwandb\u001b[0m: Currently logged in as: \u001b[33mcybershiptrooper\u001b[0m. Use \u001b[1m`wandb login --relogin`\u001b[0m to force relogin\n"
     ]
    },
    {
     "data": {
      "text/html": [
       "wandb version 0.16.6 is available!  To upgrade, please run:\n",
       " $ pip install wandb --upgrade"
      ],
      "text/plain": [
       "<IPython.core.display.HTML object>"
      ]
     },
     "metadata": {},
     "output_type": "display_data"
    },
    {
     "data": {
      "text/html": [
       "Tracking run with wandb version 0.16.2"
      ],
      "text/plain": [
       "<IPython.core.display.HTML object>"
      ]
     },
     "metadata": {},
     "output_type": "display_data"
    },
    {
     "data": {
      "text/html": [
       "Run data is saved locally in <code>/Users/cybershiptrooper/src/interpretability/MATS/circuits-benchmark/wandb/run-20240418_183200-y60ms25u</code>"
      ],
      "text/plain": [
       "<IPython.core.display.HTML object>"
      ]
     },
     "metadata": {},
     "output_type": "display_data"
    },
    {
     "data": {
      "text/html": [
       "Syncing run <strong><a href='https://wandb.ai/cybershiptrooper/iit/runs/y60ms25u' target=\"_blank\">likely-feather-1433</a></strong> to <a href='https://wandb.ai/cybershiptrooper/iit' target=\"_blank\">Weights & Biases</a> (<a href='https://wandb.me/run' target=\"_blank\">docs</a>)<br/>"
      ],
      "text/plain": [
       "<IPython.core.display.HTML object>"
      ]
     },
     "metadata": {},
     "output_type": "display_data"
    },
    {
     "data": {
      "text/html": [
       " View project at <a href='https://wandb.ai/cybershiptrooper/iit' target=\"_blank\">https://wandb.ai/cybershiptrooper/iit</a>"
      ],
      "text/plain": [
       "<IPython.core.display.HTML object>"
      ]
     },
     "metadata": {},
     "output_type": "display_data"
    },
    {
     "data": {
      "text/html": [
       " View run at <a href='https://wandb.ai/cybershiptrooper/iit/runs/y60ms25u' target=\"_blank\">https://wandb.ai/cybershiptrooper/iit/runs/y60ms25u</a>"
      ],
      "text/plain": [
       "<IPython.core.display.HTML object>"
      ]
     },
     "metadata": {},
     "output_type": "display_data"
    },
    {
     "name": "stderr",
     "output_type": "stream",
     "text": [
      "100%|██████████| 24/24 [00:02<00:00, 11.07it/s]\n",
      "  0%|          | 1/1000 [00:02<41:04,  2.47s/it]"
     ]
    },
    {
     "name": "stdout",
     "output_type": "stream",
     "text": [
      "\n",
      "Epoch 0: train/iit_loss: 0.0000, train/behavior_loss: 0.0630, val/iit_loss: 0.0902, val/IIA: 6.24%, val/accuracy: 11.31%, \n"
     ]
    },
    {
     "name": "stderr",
     "output_type": "stream",
     "text": [
      "100%|██████████| 24/24 [00:01<00:00, 14.18it/s]\n",
      "  0%|          | 2/1000 [00:04<35:25,  2.13s/it]"
     ]
    },
    {
     "name": "stdout",
     "output_type": "stream",
     "text": [
      "\n",
      "Epoch 1: train/iit_loss: 0.0000, train/behavior_loss: 0.0324, val/iit_loss: 0.1079, val/IIA: 25.29%, val/accuracy: 30.45%, \n"
     ]
    },
    {
     "name": "stderr",
     "output_type": "stream",
     "text": [
      "100%|██████████| 24/24 [00:01<00:00, 14.49it/s]\n",
      "  0%|          | 3/1000 [00:06<33:12,  2.00s/it]"
     ]
    },
    {
     "name": "stdout",
     "output_type": "stream",
     "text": [
      "\n",
      "Epoch 2: train/iit_loss: 0.0000, train/behavior_loss: 0.0212, val/iit_loss: 0.1009, val/IIA: 27.61%, val/accuracy: 30.59%, \n"
     ]
    },
    {
     "name": "stderr",
     "output_type": "stream",
     "text": [
      "100%|██████████| 24/24 [00:01<00:00, 14.56it/s]\n",
      "  0%|          | 4/1000 [00:08<31:59,  1.93s/it]"
     ]
    },
    {
     "name": "stdout",
     "output_type": "stream",
     "text": [
      "\n",
      "Epoch 3: train/iit_loss: 0.0000, train/behavior_loss: 0.0149, val/iit_loss: 0.1011, val/IIA: 29.09%, val/accuracy: 38.98%, \n"
     ]
    },
    {
     "name": "stderr",
     "output_type": "stream",
     "text": [
      "100%|██████████| 24/24 [00:01<00:00, 14.16it/s]\n",
      "  0%|          | 5/1000 [00:09<31:34,  1.90s/it]"
     ]
    },
    {
     "name": "stdout",
     "output_type": "stream",
     "text": [
      "\n",
      "Epoch 4: train/iit_loss: 0.0000, train/behavior_loss: 0.0095, val/iit_loss: 0.0533, val/IIA: 34.51%, val/accuracy: 47.89%, \n"
     ]
    },
    {
     "name": "stderr",
     "output_type": "stream",
     "text": [
      "100%|██████████| 24/24 [00:01<00:00, 14.67it/s]\n",
      "  1%|          | 6/1000 [00:11<31:07,  1.88s/it]"
     ]
    },
    {
     "name": "stdout",
     "output_type": "stream",
     "text": [
      "\n",
      "Epoch 5: train/iit_loss: 0.0000, train/behavior_loss: 0.0052, val/iit_loss: 0.0866, val/IIA: 39.01%, val/accuracy: 62.78%, \n"
     ]
    },
    {
     "name": "stderr",
     "output_type": "stream",
     "text": [
      "100%|██████████| 24/24 [00:01<00:00, 14.19it/s]\n",
      "  1%|          | 7/1000 [00:13<31:01,  1.87s/it]"
     ]
    },
    {
     "name": "stdout",
     "output_type": "stream",
     "text": [
      "\n",
      "Epoch 6: train/iit_loss: 0.0000, train/behavior_loss: 0.0025, val/iit_loss: 0.1073, val/IIA: 43.64%, val/accuracy: 73.20%, \n"
     ]
    },
    {
     "name": "stderr",
     "output_type": "stream",
     "text": [
      "100%|██████████| 24/24 [00:01<00:00, 14.00it/s]\n",
      "  1%|          | 8/1000 [00:15<31:02,  1.88s/it]"
     ]
    },
    {
     "name": "stdout",
     "output_type": "stream",
     "text": [
      "\n",
      "Epoch 7: train/iit_loss: 0.0000, train/behavior_loss: 0.0012, val/iit_loss: 0.0688, val/IIA: 46.37%, val/accuracy: 90.82%, \n"
     ]
    },
    {
     "name": "stderr",
     "output_type": "stream",
     "text": [
      "100%|██████████| 24/24 [00:01<00:00, 14.37it/s]\n",
      "  1%|          | 9/1000 [00:17<30:54,  1.87s/it]"
     ]
    },
    {
     "name": "stdout",
     "output_type": "stream",
     "text": [
      "\n",
      "Epoch 8: train/iit_loss: 0.0000, train/behavior_loss: 0.0007, val/iit_loss: 0.0855, val/IIA: 49.38%, val/accuracy: 93.89%, \n"
     ]
    },
    {
     "name": "stderr",
     "output_type": "stream",
     "text": [
      "100%|██████████| 24/24 [00:01<00:00, 14.17it/s]\n",
      "  1%|          | 10/1000 [00:19<30:50,  1.87s/it]"
     ]
    },
    {
     "name": "stdout",
     "output_type": "stream",
     "text": [
      "\n",
      "Epoch 9: train/iit_loss: 0.0000, train/behavior_loss: 0.0005, val/iit_loss: 0.1256, val/IIA: 53.26%, val/accuracy: 96.22%, \n"
     ]
    },
    {
     "name": "stderr",
     "output_type": "stream",
     "text": [
      "100%|██████████| 24/24 [00:01<00:00, 14.16it/s]\n",
      "  1%|          | 11/1000 [00:21<30:48,  1.87s/it]"
     ]
    },
    {
     "name": "stdout",
     "output_type": "stream",
     "text": [
      "\n",
      "Epoch 10: train/iit_loss: 0.0000, train/behavior_loss: 0.0005, val/iit_loss: 0.0866, val/IIA: 50.54%, val/accuracy: 96.12%, \n"
     ]
    },
    {
     "name": "stderr",
     "output_type": "stream",
     "text": [
      "100%|██████████| 24/24 [00:01<00:00, 14.75it/s]\n",
      "  1%|          | 12/1000 [00:22<30:25,  1.85s/it]"
     ]
    },
    {
     "name": "stdout",
     "output_type": "stream",
     "text": [
      "\n",
      "Epoch 11: train/iit_loss: 0.0000, train/behavior_loss: 0.0004, val/iit_loss: 0.1421, val/IIA: 55.34%, val/accuracy: 97.60%, \n"
     ]
    },
    {
     "name": "stderr",
     "output_type": "stream",
     "text": [
      "100%|██████████| 24/24 [00:01<00:00, 14.31it/s]\n",
      "  1%|▏         | 13/1000 [00:24<30:23,  1.85s/it]"
     ]
    },
    {
     "name": "stdout",
     "output_type": "stream",
     "text": [
      "\n",
      "Epoch 12: train/iit_loss: 0.0000, train/behavior_loss: 0.0004, val/iit_loss: 0.1014, val/IIA: 52.81%, val/accuracy: 99.38%, \n"
     ]
    },
    {
     "name": "stderr",
     "output_type": "stream",
     "text": [
      "100%|██████████| 24/24 [00:01<00:00, 14.32it/s]\n",
      "  1%|▏         | 14/1000 [00:26<30:24,  1.85s/it]"
     ]
    },
    {
     "name": "stdout",
     "output_type": "stream",
     "text": [
      "\n",
      "Epoch 13: train/iit_loss: 0.0000, train/behavior_loss: 0.0004, val/iit_loss: 0.0855, val/IIA: 50.96%, val/accuracy: 99.11%, \n"
     ]
    },
    {
     "name": "stderr",
     "output_type": "stream",
     "text": [
      "100%|██████████| 24/24 [00:01<00:00, 14.69it/s]\n",
      "  2%|▏         | 15/1000 [00:28<30:08,  1.84s/it]"
     ]
    },
    {
     "name": "stdout",
     "output_type": "stream",
     "text": [
      "\n",
      "Epoch 14: train/iit_loss: 0.0000, train/behavior_loss: 0.0003, val/iit_loss: 0.0642, val/IIA: 49.75%, val/accuracy: 99.09%, \n"
     ]
    },
    {
     "name": "stderr",
     "output_type": "stream",
     "text": [
      "100%|██████████| 24/24 [00:01<00:00, 13.85it/s]\n",
      "  2%|▏         | 16/1000 [00:30<30:25,  1.86s/it]"
     ]
    },
    {
     "name": "stdout",
     "output_type": "stream",
     "text": [
      "\n",
      "Epoch 15: train/iit_loss: 0.0000, train/behavior_loss: 0.0003, val/iit_loss: 0.1222, val/IIA: 54.17%, val/accuracy: 99.11%, \n"
     ]
    },
    {
     "name": "stderr",
     "output_type": "stream",
     "text": [
      "100%|██████████| 24/24 [00:01<00:00, 13.00it/s]\n",
      "  2%|▏         | 17/1000 [00:32<31:14,  1.91s/it]"
     ]
    },
    {
     "name": "stdout",
     "output_type": "stream",
     "text": [
      "\n",
      "Epoch 16: train/iit_loss: 0.0000, train/behavior_loss: 0.0003, val/iit_loss: 0.0831, val/IIA: 51.24%, val/accuracy: 99.17%, \n"
     ]
    },
    {
     "name": "stderr",
     "output_type": "stream",
     "text": [
      "100%|██████████| 24/24 [00:01<00:00, 14.40it/s]\n",
      "  2%|▏         | 18/1000 [00:34<30:55,  1.89s/it]"
     ]
    },
    {
     "name": "stdout",
     "output_type": "stream",
     "text": [
      "\n",
      "Epoch 17: train/iit_loss: 0.0000, train/behavior_loss: 0.0003, val/iit_loss: 0.0632, val/IIA: 49.37%, val/accuracy: 99.60%, \n"
     ]
    },
    {
     "name": "stderr",
     "output_type": "stream",
     "text": [
      "100%|██████████| 24/24 [00:01<00:00, 13.85it/s]\n",
      "  2%|▏         | 19/1000 [00:36<30:56,  1.89s/it]"
     ]
    },
    {
     "name": "stdout",
     "output_type": "stream",
     "text": [
      "\n",
      "Epoch 18: train/iit_loss: 0.0000, train/behavior_loss: 0.0003, val/iit_loss: 0.0817, val/IIA: 51.03%, val/accuracy: 99.61%, \n"
     ]
    },
    {
     "name": "stderr",
     "output_type": "stream",
     "text": [
      "100%|██████████| 24/24 [00:01<00:00, 13.97it/s]\n",
      "  2%|▏         | 20/1000 [00:37<30:58,  1.90s/it]"
     ]
    },
    {
     "name": "stdout",
     "output_type": "stream",
     "text": [
      "\n",
      "Epoch 19: train/iit_loss: 0.0000, train/behavior_loss: 0.0003, val/iit_loss: 0.0826, val/IIA: 50.62%, val/accuracy: 99.61%, \n"
     ]
    },
    {
     "name": "stderr",
     "output_type": "stream",
     "text": [
      "100%|██████████| 24/24 [00:01<00:00, 13.77it/s]\n",
      "  2%|▏         | 21/1000 [00:39<31:10,  1.91s/it]"
     ]
    },
    {
     "name": "stdout",
     "output_type": "stream",
     "text": [
      "\n",
      "Epoch 20: train/iit_loss: 0.0000, train/behavior_loss: 0.0003, val/iit_loss: 0.1214, val/IIA: 53.93%, val/accuracy: 99.66%, \n"
     ]
    },
    {
     "name": "stderr",
     "output_type": "stream",
     "text": [
      "100%|██████████| 24/24 [00:01<00:00, 13.59it/s]\n",
      "  2%|▏         | 22/1000 [00:41<31:19,  1.92s/it]"
     ]
    },
    {
     "name": "stdout",
     "output_type": "stream",
     "text": [
      "\n",
      "Epoch 21: train/iit_loss: 0.0000, train/behavior_loss: 0.0003, val/iit_loss: 0.0834, val/IIA: 50.53%, val/accuracy: 99.65%, \n"
     ]
    },
    {
     "name": "stderr",
     "output_type": "stream",
     "text": [
      "100%|██████████| 24/24 [00:01<00:00, 14.20it/s]\n",
      "  2%|▏         | 23/1000 [00:43<31:01,  1.91s/it]"
     ]
    },
    {
     "name": "stdout",
     "output_type": "stream",
     "text": [
      "\n",
      "Epoch 22: train/iit_loss: 0.0000, train/behavior_loss: 0.0003, val/iit_loss: 0.1218, val/IIA: 54.04%, val/accuracy: 99.66%, \n"
     ]
    },
    {
     "name": "stderr",
     "output_type": "stream",
     "text": [
      "100%|██████████| 24/24 [00:01<00:00, 14.82it/s]\n",
      "  2%|▏         | 24/1000 [00:45<30:27,  1.87s/it]"
     ]
    },
    {
     "name": "stdout",
     "output_type": "stream",
     "text": [
      "\n",
      "Epoch 23: train/iit_loss: 0.0000, train/behavior_loss: 0.0002, val/iit_loss: 0.0418, val/IIA: 45.18%, val/accuracy: 99.91%, \n"
     ]
    },
    {
     "name": "stderr",
     "output_type": "stream",
     "text": [
      "100%|██████████| 24/24 [00:01<00:00, 14.19it/s]\n",
      "  2%|▎         | 25/1000 [00:47<30:22,  1.87s/it]"
     ]
    },
    {
     "name": "stdout",
     "output_type": "stream",
     "text": [
      "\n",
      "Epoch 24: train/iit_loss: 0.0000, train/behavior_loss: 0.0002, val/iit_loss: 0.1018, val/IIA: 51.32%, val/accuracy: 99.91%, \n"
     ]
    },
    {
     "name": "stderr",
     "output_type": "stream",
     "text": [
      "100%|██████████| 24/24 [00:01<00:00, 14.47it/s]\n",
      "  3%|▎         | 26/1000 [00:49<30:14,  1.86s/it]"
     ]
    },
    {
     "name": "stdout",
     "output_type": "stream",
     "text": [
      "\n",
      "Epoch 25: train/iit_loss: 0.0000, train/behavior_loss: 0.0002, val/iit_loss: 0.0806, val/IIA: 49.80%, val/accuracy: 99.91%, \n"
     ]
    },
    {
     "name": "stderr",
     "output_type": "stream",
     "text": [
      "100%|██████████| 24/24 [00:01<00:00, 13.52it/s]\n",
      "  3%|▎         | 27/1000 [00:51<30:48,  1.90s/it]"
     ]
    },
    {
     "name": "stdout",
     "output_type": "stream",
     "text": [
      "\n",
      "Epoch 26: train/iit_loss: 0.0000, train/behavior_loss: 0.0002, val/iit_loss: 0.0625, val/IIA: 46.50%, val/accuracy: 99.86%, \n"
     ]
    },
    {
     "name": "stderr",
     "output_type": "stream",
     "text": [
      "100%|██████████| 24/24 [00:01<00:00, 13.97it/s]\n",
      "  3%|▎         | 28/1000 [00:53<30:41,  1.89s/it]"
     ]
    },
    {
     "name": "stdout",
     "output_type": "stream",
     "text": [
      "\n",
      "Epoch 27: train/iit_loss: 0.0000, train/behavior_loss: 0.0002, val/iit_loss: 0.0617, val/IIA: 46.29%, val/accuracy: 99.94%, \n"
     ]
    },
    {
     "name": "stderr",
     "output_type": "stream",
     "text": [
      "100%|██████████| 24/24 [00:01<00:00, 14.66it/s]\n",
      "  3%|▎         | 29/1000 [00:54<30:25,  1.88s/it]"
     ]
    },
    {
     "name": "stdout",
     "output_type": "stream",
     "text": [
      "\n",
      "Epoch 28: train/iit_loss: 0.0000, train/behavior_loss: 0.0002, val/iit_loss: 0.1199, val/IIA: 53.84%, val/accuracy: 99.91%, \n"
     ]
    },
    {
     "name": "stderr",
     "output_type": "stream",
     "text": [
      "100%|██████████| 24/24 [00:01<00:00, 14.34it/s]\n",
      "  3%|▎         | 30/1000 [00:56<30:13,  1.87s/it]"
     ]
    },
    {
     "name": "stdout",
     "output_type": "stream",
     "text": [
      "\n",
      "Epoch 29: train/iit_loss: 0.0000, train/behavior_loss: 0.0002, val/iit_loss: 0.0617, val/IIA: 46.66%, val/accuracy: 99.91%, \n"
     ]
    },
    {
     "name": "stderr",
     "output_type": "stream",
     "text": [
      "100%|██████████| 24/24 [00:01<00:00, 14.13it/s]\n",
      "  3%|▎         | 31/1000 [00:58<30:12,  1.87s/it]"
     ]
    },
    {
     "name": "stdout",
     "output_type": "stream",
     "text": [
      "\n",
      "Epoch 30: train/iit_loss: 0.0000, train/behavior_loss: 0.0002, val/iit_loss: 0.0819, val/IIA: 48.98%, val/accuracy: 99.94%, \n"
     ]
    },
    {
     "name": "stderr",
     "output_type": "stream",
     "text": [
      "100%|██████████| 24/24 [00:01<00:00, 14.71it/s]\n",
      "  3%|▎         | 32/1000 [01:00<29:54,  1.85s/it]"
     ]
    },
    {
     "name": "stdout",
     "output_type": "stream",
     "text": [
      "\n",
      "Epoch 31: train/iit_loss: 0.0000, train/behavior_loss: 0.0002, val/iit_loss: 0.0421, val/IIA: 44.16%, val/accuracy: 99.91%, \n"
     ]
    },
    {
     "name": "stderr",
     "output_type": "stream",
     "text": [
      "100%|██████████| 24/24 [00:01<00:00, 14.40it/s]\n",
      "  3%|▎         | 33/1000 [01:02<29:48,  1.85s/it]"
     ]
    },
    {
     "name": "stdout",
     "output_type": "stream",
     "text": [
      "\n",
      "Epoch 32: train/iit_loss: 0.0000, train/behavior_loss: 0.0002, val/iit_loss: 0.1209, val/IIA: 53.61%, val/accuracy: 99.94%, \n"
     ]
    },
    {
     "name": "stderr",
     "output_type": "stream",
     "text": [
      "100%|██████████| 24/24 [00:01<00:00, 13.68it/s]\n",
      "  3%|▎         | 34/1000 [01:04<30:08,  1.87s/it]"
     ]
    },
    {
     "name": "stdout",
     "output_type": "stream",
     "text": [
      "\n",
      "Epoch 33: train/iit_loss: 0.0000, train/behavior_loss: 0.0002, val/iit_loss: 0.1193, val/IIA: 53.74%, val/accuracy: 99.90%, \n"
     ]
    },
    {
     "name": "stderr",
     "output_type": "stream",
     "text": [
      "100%|██████████| 24/24 [00:01<00:00, 14.78it/s]\n",
      "  4%|▎         | 35/1000 [01:06<29:45,  1.85s/it]"
     ]
    },
    {
     "name": "stdout",
     "output_type": "stream",
     "text": [
      "\n",
      "Epoch 34: train/iit_loss: 0.0000, train/behavior_loss: 0.0002, val/iit_loss: 0.0409, val/IIA: 44.50%, val/accuracy: 99.94%, \n"
     ]
    },
    {
     "name": "stderr",
     "output_type": "stream",
     "text": [
      "100%|██████████| 24/24 [00:01<00:00, 14.10it/s]\n",
      "  4%|▎         | 36/1000 [01:07<29:52,  1.86s/it]"
     ]
    },
    {
     "name": "stdout",
     "output_type": "stream",
     "text": [
      "\n",
      "Epoch 35: train/iit_loss: 0.0000, train/behavior_loss: 0.0002, val/iit_loss: 0.0616, val/IIA: 46.84%, val/accuracy: 99.94%, \n"
     ]
    },
    {
     "name": "stderr",
     "output_type": "stream",
     "text": [
      "100%|██████████| 24/24 [00:01<00:00, 13.76it/s]\n",
      "  4%|▎         | 37/1000 [01:09<30:10,  1.88s/it]"
     ]
    },
    {
     "name": "stdout",
     "output_type": "stream",
     "text": [
      "\n",
      "Epoch 36: train/iit_loss: 0.0000, train/behavior_loss: 0.0002, val/iit_loss: 0.0605, val/IIA: 47.05%, val/accuracy: 99.94%, \n"
     ]
    },
    {
     "name": "stderr",
     "output_type": "stream",
     "text": [
      "100%|██████████| 24/24 [00:01<00:00, 14.17it/s]\n",
      "  4%|▍         | 38/1000 [01:11<30:06,  1.88s/it]"
     ]
    },
    {
     "name": "stdout",
     "output_type": "stream",
     "text": [
      "\n",
      "Epoch 37: train/iit_loss: 0.0000, train/behavior_loss: 0.0002, val/iit_loss: 0.0627, val/IIA: 47.31%, val/accuracy: 99.94%, \n"
     ]
    },
    {
     "name": "stderr",
     "output_type": "stream",
     "text": [
      "100%|██████████| 24/24 [00:01<00:00, 14.14it/s]\n",
      "  4%|▍         | 39/1000 [01:13<30:00,  1.87s/it]"
     ]
    },
    {
     "name": "stdout",
     "output_type": "stream",
     "text": [
      "\n",
      "Epoch 38: train/iit_loss: 0.0000, train/behavior_loss: 0.0002, val/iit_loss: 0.0830, val/IIA: 49.50%, val/accuracy: 99.94%, \n"
     ]
    },
    {
     "name": "stderr",
     "output_type": "stream",
     "text": [
      "100%|██████████| 24/24 [00:01<00:00, 14.18it/s]\n",
      "  4%|▍         | 40/1000 [01:15<29:56,  1.87s/it]"
     ]
    },
    {
     "name": "stdout",
     "output_type": "stream",
     "text": [
      "\n",
      "Epoch 39: train/iit_loss: 0.0000, train/behavior_loss: 0.0002, val/iit_loss: 0.0615, val/IIA: 47.34%, val/accuracy: 99.94%, \n"
     ]
    },
    {
     "name": "stderr",
     "output_type": "stream",
     "text": [
      "100%|██████████| 24/24 [00:01<00:00, 14.85it/s]\n",
      "  4%|▍         | 41/1000 [01:17<29:29,  1.85s/it]"
     ]
    },
    {
     "name": "stdout",
     "output_type": "stream",
     "text": [
      "\n",
      "Epoch 40: train/iit_loss: 0.0000, train/behavior_loss: 0.0002, val/iit_loss: 0.0811, val/IIA: 49.82%, val/accuracy: 99.94%, \n"
     ]
    },
    {
     "name": "stderr",
     "output_type": "stream",
     "text": [
      "100%|██████████| 24/24 [00:01<00:00, 13.91it/s]\n",
      "  4%|▍         | 42/1000 [01:19<29:42,  1.86s/it]"
     ]
    },
    {
     "name": "stdout",
     "output_type": "stream",
     "text": [
      "\n",
      "Epoch 41: train/iit_loss: 0.0000, train/behavior_loss: 0.0002, val/iit_loss: 0.1025, val/IIA: 51.72%, val/accuracy: 99.94%, \n"
     ]
    },
    {
     "name": "stderr",
     "output_type": "stream",
     "text": [
      "100%|██████████| 24/24 [00:01<00:00, 14.26it/s]\n",
      "  4%|▍         | 43/1000 [01:20<29:41,  1.86s/it]"
     ]
    },
    {
     "name": "stdout",
     "output_type": "stream",
     "text": [
      "\n",
      "Epoch 42: train/iit_loss: 0.0000, train/behavior_loss: 0.0002, val/iit_loss: 0.0825, val/IIA: 49.36%, val/accuracy: 99.94%, \n"
     ]
    },
    {
     "name": "stderr",
     "output_type": "stream",
     "text": [
      "100%|██████████| 24/24 [00:01<00:00, 14.34it/s]\n",
      "  4%|▍         | 44/1000 [01:22<29:35,  1.86s/it]"
     ]
    },
    {
     "name": "stdout",
     "output_type": "stream",
     "text": [
      "\n",
      "Epoch 43: train/iit_loss: 0.0000, train/behavior_loss: 0.0002, val/iit_loss: 0.0423, val/IIA: 45.22%, val/accuracy: 99.94%, \n"
     ]
    },
    {
     "name": "stderr",
     "output_type": "stream",
     "text": [
      "100%|██████████| 24/24 [00:01<00:00, 13.89it/s]\n",
      "  4%|▍         | 45/1000 [01:24<29:46,  1.87s/it]"
     ]
    },
    {
     "name": "stdout",
     "output_type": "stream",
     "text": [
      "\n",
      "Epoch 44: train/iit_loss: 0.0000, train/behavior_loss: 0.0002, val/iit_loss: 0.1027, val/IIA: 51.66%, val/accuracy: 99.94%, \n"
     ]
    },
    {
     "name": "stderr",
     "output_type": "stream",
     "text": [
      "100%|██████████| 24/24 [00:01<00:00, 14.25it/s]\n",
      "  5%|▍         | 46/1000 [01:26<29:45,  1.87s/it]"
     ]
    },
    {
     "name": "stdout",
     "output_type": "stream",
     "text": [
      "\n",
      "Epoch 45: train/iit_loss: 0.0000, train/behavior_loss: 0.0002, val/iit_loss: 0.1003, val/IIA: 51.84%, val/accuracy: 99.94%, \n"
     ]
    },
    {
     "name": "stderr",
     "output_type": "stream",
     "text": [
      "100%|██████████| 24/24 [00:01<00:00, 14.18it/s]\n",
      "  5%|▍         | 47/1000 [01:28<29:41,  1.87s/it]"
     ]
    },
    {
     "name": "stdout",
     "output_type": "stream",
     "text": [
      "\n",
      "Epoch 46: train/iit_loss: 0.0000, train/behavior_loss: 0.0002, val/iit_loss: 0.0809, val/IIA: 50.24%, val/accuracy: 99.94%, \n"
     ]
    },
    {
     "name": "stderr",
     "output_type": "stream",
     "text": [
      "100%|██████████| 24/24 [00:01<00:00, 13.91it/s]\n",
      "  5%|▍         | 48/1000 [01:30<29:46,  1.88s/it]"
     ]
    },
    {
     "name": "stdout",
     "output_type": "stream",
     "text": [
      "\n",
      "Epoch 47: train/iit_loss: 0.0000, train/behavior_loss: 0.0002, val/iit_loss: 0.1003, val/IIA: 52.29%, val/accuracy: 99.94%, \n"
     ]
    },
    {
     "name": "stderr",
     "output_type": "stream",
     "text": [
      "100%|██████████| 24/24 [00:01<00:00, 14.36it/s]\n",
      "  5%|▍         | 49/1000 [01:32<29:37,  1.87s/it]"
     ]
    },
    {
     "name": "stdout",
     "output_type": "stream",
     "text": [
      "\n",
      "Epoch 48: train/iit_loss: 0.0000, train/behavior_loss: 0.0002, val/iit_loss: 0.1009, val/IIA: 52.16%, val/accuracy: 99.94%, \n"
     ]
    },
    {
     "name": "stderr",
     "output_type": "stream",
     "text": [
      "100%|██████████| 24/24 [00:01<00:00, 14.53it/s]\n",
      "  5%|▌         | 50/1000 [01:34<29:22,  1.86s/it]"
     ]
    },
    {
     "name": "stdout",
     "output_type": "stream",
     "text": [
      "\n",
      "Epoch 49: train/iit_loss: 0.0000, train/behavior_loss: 0.0002, val/iit_loss: 0.0613, val/IIA: 48.50%, val/accuracy: 99.94%, \n"
     ]
    },
    {
     "name": "stderr",
     "output_type": "stream",
     "text": [
      "100%|██████████| 24/24 [00:01<00:00, 14.05it/s]\n",
      "  5%|▌         | 51/1000 [01:35<29:27,  1.86s/it]"
     ]
    },
    {
     "name": "stdout",
     "output_type": "stream",
     "text": [
      "\n",
      "Epoch 50: train/iit_loss: 0.0000, train/behavior_loss: 0.0002, val/iit_loss: 0.0800, val/IIA: 50.93%, val/accuracy: 99.94%, \n"
     ]
    },
    {
     "name": "stderr",
     "output_type": "stream",
     "text": [
      "100%|██████████| 24/24 [00:01<00:00, 14.08it/s]\n",
      "  5%|▌         | 52/1000 [01:37<29:35,  1.87s/it]"
     ]
    },
    {
     "name": "stdout",
     "output_type": "stream",
     "text": [
      "\n",
      "Epoch 51: train/iit_loss: 0.0000, train/behavior_loss: 0.0002, val/iit_loss: 0.0410, val/IIA: 47.58%, val/accuracy: 99.94%, \n"
     ]
    },
    {
     "name": "stderr",
     "output_type": "stream",
     "text": [
      "100%|██████████| 24/24 [00:01<00:00, 14.03it/s]\n",
      "  5%|▌         | 53/1000 [01:39<29:34,  1.87s/it]"
     ]
    },
    {
     "name": "stdout",
     "output_type": "stream",
     "text": [
      "\n",
      "Epoch 52: train/iit_loss: 0.0000, train/behavior_loss: 0.0002, val/iit_loss: 0.1018, val/IIA: 52.72%, val/accuracy: 99.94%, \n"
     ]
    },
    {
     "name": "stderr",
     "output_type": "stream",
     "text": [
      "100%|██████████| 24/24 [00:01<00:00, 14.11it/s]\n",
      "  5%|▌         | 54/1000 [01:41<29:31,  1.87s/it]"
     ]
    },
    {
     "name": "stdout",
     "output_type": "stream",
     "text": [
      "\n",
      "Epoch 53: train/iit_loss: 0.0000, train/behavior_loss: 0.0002, val/iit_loss: 0.0597, val/IIA: 49.28%, val/accuracy: 99.94%, \n"
     ]
    },
    {
     "name": "stderr",
     "output_type": "stream",
     "text": [
      "100%|██████████| 24/24 [00:01<00:00, 14.66it/s]\n",
      "  6%|▌         | 55/1000 [01:43<29:14,  1.86s/it]"
     ]
    },
    {
     "name": "stdout",
     "output_type": "stream",
     "text": [
      "\n",
      "Epoch 54: train/iit_loss: 0.0000, train/behavior_loss: 0.0002, val/iit_loss: 0.0797, val/IIA: 51.07%, val/accuracy: 99.94%, \n"
     ]
    },
    {
     "name": "stderr",
     "output_type": "stream",
     "text": [
      "100%|██████████| 24/24 [00:01<00:00, 14.23it/s]\n",
      "  6%|▌         | 56/1000 [01:45<29:13,  1.86s/it]"
     ]
    },
    {
     "name": "stdout",
     "output_type": "stream",
     "text": [
      "\n",
      "Epoch 55: train/iit_loss: 0.0000, train/behavior_loss: 0.0002, val/iit_loss: 0.0820, val/IIA: 50.89%, val/accuracy: 99.94%, \n"
     ]
    },
    {
     "name": "stderr",
     "output_type": "stream",
     "text": [
      "100%|██████████| 24/24 [00:01<00:00, 14.07it/s]\n",
      "  6%|▌         | 57/1000 [01:47<29:19,  1.87s/it]"
     ]
    },
    {
     "name": "stdout",
     "output_type": "stream",
     "text": [
      "\n",
      "Epoch 56: train/iit_loss: 0.0000, train/behavior_loss: 0.0002, val/iit_loss: 0.0821, val/IIA: 50.81%, val/accuracy: 99.94%, \n"
     ]
    },
    {
     "name": "stderr",
     "output_type": "stream",
     "text": [
      "100%|██████████| 24/24 [00:01<00:00, 14.63it/s]\n",
      "  6%|▌         | 58/1000 [01:48<29:03,  1.85s/it]"
     ]
    },
    {
     "name": "stdout",
     "output_type": "stream",
     "text": [
      "\n",
      "Epoch 57: train/iit_loss: 0.0000, train/behavior_loss: 0.0002, val/iit_loss: 0.1013, val/IIA: 52.71%, val/accuracy: 99.94%, \n"
     ]
    },
    {
     "name": "stderr",
     "output_type": "stream",
     "text": [
      "100%|██████████| 24/24 [00:01<00:00, 13.70it/s]\n",
      "  6%|▌         | 59/1000 [01:50<29:21,  1.87s/it]"
     ]
    },
    {
     "name": "stdout",
     "output_type": "stream",
     "text": [
      "\n",
      "Epoch 58: train/iit_loss: 0.0000, train/behavior_loss: 0.0002, val/iit_loss: 0.1407, val/IIA: 56.10%, val/accuracy: 99.94%, \n"
     ]
    },
    {
     "name": "stderr",
     "output_type": "stream",
     "text": [
      "100%|██████████| 24/24 [00:01<00:00, 14.16it/s]\n",
      "  6%|▌         | 60/1000 [01:52<29:20,  1.87s/it]"
     ]
    },
    {
     "name": "stdout",
     "output_type": "stream",
     "text": [
      "\n",
      "Epoch 59: train/iit_loss: 0.0000, train/behavior_loss: 0.0002, val/iit_loss: 0.1000, val/IIA: 52.77%, val/accuracy: 99.94%, \n"
     ]
    },
    {
     "name": "stderr",
     "output_type": "stream",
     "text": [
      "100%|██████████| 24/24 [00:01<00:00, 14.30it/s]\n",
      "  6%|▌         | 61/1000 [01:54<29:11,  1.87s/it]"
     ]
    },
    {
     "name": "stdout",
     "output_type": "stream",
     "text": [
      "\n",
      "Epoch 60: train/iit_loss: 0.0000, train/behavior_loss: 0.0002, val/iit_loss: 0.1024, val/IIA: 52.73%, val/accuracy: 99.94%, \n"
     ]
    },
    {
     "name": "stderr",
     "output_type": "stream",
     "text": [
      "100%|██████████| 24/24 [00:01<00:00, 13.98it/s]\n",
      "  6%|▌         | 62/1000 [01:56<29:15,  1.87s/it]"
     ]
    },
    {
     "name": "stdout",
     "output_type": "stream",
     "text": [
      "\n",
      "Epoch 61: train/iit_loss: 0.0000, train/behavior_loss: 0.0002, val/iit_loss: 0.0998, val/IIA: 52.96%, val/accuracy: 99.94%, \n"
     ]
    },
    {
     "name": "stderr",
     "output_type": "stream",
     "text": [
      "100%|██████████| 24/24 [00:01<00:00, 14.24it/s]\n",
      "  6%|▋         | 63/1000 [01:58<29:12,  1.87s/it]"
     ]
    },
    {
     "name": "stdout",
     "output_type": "stream",
     "text": [
      "\n",
      "Epoch 62: train/iit_loss: 0.0000, train/behavior_loss: 0.0002, val/iit_loss: 0.1011, val/IIA: 52.82%, val/accuracy: 99.94%, \n"
     ]
    },
    {
     "name": "stderr",
     "output_type": "stream",
     "text": [
      "100%|██████████| 24/24 [00:01<00:00, 14.75it/s]\n",
      "  6%|▋         | 64/1000 [02:00<28:59,  1.86s/it]"
     ]
    },
    {
     "name": "stdout",
     "output_type": "stream",
     "text": [
      "\n",
      "Epoch 63: train/iit_loss: 0.0000, train/behavior_loss: 0.0002, val/iit_loss: 0.0807, val/IIA: 51.24%, val/accuracy: 99.94%, \n"
     ]
    },
    {
     "name": "stderr",
     "output_type": "stream",
     "text": [
      "100%|██████████| 24/24 [00:01<00:00, 13.90it/s]\n",
      "  6%|▋         | 65/1000 [02:02<29:09,  1.87s/it]"
     ]
    },
    {
     "name": "stdout",
     "output_type": "stream",
     "text": [
      "\n",
      "Epoch 64: train/iit_loss: 0.0000, train/behavior_loss: 0.0002, val/iit_loss: 0.1197, val/IIA: 54.41%, val/accuracy: 99.94%, \n"
     ]
    },
    {
     "name": "stderr",
     "output_type": "stream",
     "text": [
      "100%|██████████| 24/24 [00:01<00:00, 14.15it/s]\n",
      "  7%|▋         | 66/1000 [02:03<29:10,  1.87s/it]"
     ]
    },
    {
     "name": "stdout",
     "output_type": "stream",
     "text": [
      "\n",
      "Epoch 65: train/iit_loss: 0.0000, train/behavior_loss: 0.0002, val/iit_loss: 0.1036, val/IIA: 52.58%, val/accuracy: 99.94%, \n"
     ]
    },
    {
     "name": "stderr",
     "output_type": "stream",
     "text": [
      "100%|██████████| 24/24 [00:01<00:00, 14.56it/s]\n",
      "  7%|▋         | 67/1000 [02:05<28:54,  1.86s/it]"
     ]
    },
    {
     "name": "stdout",
     "output_type": "stream",
     "text": [
      "\n",
      "Epoch 66: train/iit_loss: 0.0000, train/behavior_loss: 0.0002, val/iit_loss: 0.0839, val/IIA: 50.76%, val/accuracy: 99.94%, \n"
     ]
    },
    {
     "name": "stderr",
     "output_type": "stream",
     "text": [
      "100%|██████████| 24/24 [00:01<00:00, 14.05it/s]\n",
      "  7%|▋         | 68/1000 [02:07<28:57,  1.86s/it]"
     ]
    },
    {
     "name": "stdout",
     "output_type": "stream",
     "text": [
      "\n",
      "Epoch 67: train/iit_loss: 0.0000, train/behavior_loss: 0.0002, val/iit_loss: 0.0817, val/IIA: 50.81%, val/accuracy: 99.94%, \n"
     ]
    },
    {
     "name": "stderr",
     "output_type": "stream",
     "text": [
      "100%|██████████| 24/24 [00:01<00:00, 14.52it/s]\n",
      "  7%|▋         | 69/1000 [02:09<28:48,  1.86s/it]"
     ]
    },
    {
     "name": "stdout",
     "output_type": "stream",
     "text": [
      "\n",
      "Epoch 68: train/iit_loss: 0.0000, train/behavior_loss: 0.0002, val/iit_loss: 0.1020, val/IIA: 52.76%, val/accuracy: 99.94%, \n"
     ]
    },
    {
     "name": "stderr",
     "output_type": "stream",
     "text": [
      "100%|██████████| 24/24 [00:01<00:00, 14.52it/s]\n",
      "  7%|▋         | 70/1000 [02:11<28:38,  1.85s/it]"
     ]
    },
    {
     "name": "stdout",
     "output_type": "stream",
     "text": [
      "\n",
      "Epoch 69: train/iit_loss: 0.0000, train/behavior_loss: 0.0002, val/iit_loss: 0.0421, val/IIA: 47.52%, val/accuracy: 99.94%, \n"
     ]
    },
    {
     "name": "stderr",
     "output_type": "stream",
     "text": []
    }
   ],
   "source": [
    "if train_model:\n",
    "    model_pair.train(\n",
    "        train_set,\n",
    "        test_set,\n",
    "        epochs=1000,\n",
    "        use_wandb=True,\n",
    "    )\n",
    "else:\n",
    "    ll_model.load_weights_from_file(f\"ll_models/{case_num}/ll_model_510.pth\")\n",
    "    model_pair.ll_model = ll_model"
   ]
  },
  {
   "cell_type": "markdown",
   "metadata": {},
   "source": [
    "### Setup Eval"
   ]
  },
  {
   "cell_type": "code",
   "execution_count": null,
   "metadata": {},
   "outputs": [],
   "source": [
    "\"\"\"Create a new test set with unique inputs\"\"\"\n",
    "\n",
    "arr, idxs = np.unique([\", \".join(i) for i in np.array(test_inputs)], return_inverse=True)\n",
    "# create indices that point to the first unique input\n",
    "all_possible_inputs = np.arange(arr.shape[0])\n",
    "# find the first occurence of all_possible_inputs in idxs\n",
    "first_occurences = [np.where(idxs == i)[0][0] for i in all_possible_inputs]\n",
    "\n",
    "unique_test_inputs = test_inputs[first_occurences]\n",
    "unique_test_outputs = test_outputs[first_occurences]\n",
    "assert len(unique_test_inputs) == len(unique_test_outputs)\n",
    "assert len(unique_test_inputs) == len(np.unique([\", \".join(i) for i in np.array(test_inputs)]))\n",
    "assert len(np.unique([\", \".join(i) for i in np.array(unique_test_inputs)])) == len(unique_test_inputs)\n",
    "\n",
    "unique_test_data = TracrDataset(unique_test_inputs, unique_test_outputs)\n",
    "test_set = TracrIITDataset(unique_test_data, unique_test_data, hl_model, every_combination=True)\n",
    "test_loader = test_set.make_loader(batch_size=512, num_workers=0)"
   ]
  },
  {
   "cell_type": "code",
   "execution_count": null,
   "metadata": {},
   "outputs": [],
   "source": [
    "def tokenise_data(batch, model: HookedTracrTransformer) -> t.Tensor:\n",
    "    x = list(map(list, zip(*batch)))\n",
    "    encoded_x = model.map_tracr_input_to_tl_input(x)\n",
    "    return encoded_x"
   ]
  },
  {
   "cell_type": "code",
   "execution_count": null,
   "metadata": {},
   "outputs": [],
   "source": [
    "tensorised_base_data = []\n",
    "tensorised_ablation_data = []\n",
    "base_answer_tokens = []\n",
    "for base_in, ablation_in in test_loader:\n",
    "    base_x, base_y,  _ = base_in\n",
    "    ablation_x, ablation_y, _ = ablation_in\n",
    "\n",
    "    tensorised_base_data.append((base_x))\n",
    "    tensorised_ablation_data.append((ablation_x))\n",
    "    base_answer_tokens.append(base_y)\n",
    "\n",
    "base_tensor = t.cat(tensorised_base_data, dim=0)\n",
    "ablation_tensor = t.cat(tensorised_ablation_data, dim=0)\n",
    "base_answer_tokens = t.cat(base_answer_tokens, dim=0)"
   ]
  },
  {
   "cell_type": "code",
   "execution_count": null,
   "metadata": {},
   "outputs": [
    {
     "name": "stdout",
     "output_type": "stream",
     "text": [
      "\n"
     ]
    }
   ],
   "source": [
    "model.requires_grad_(False)\n",
    "model.eval()\n",
    "hl_model.requires_grad_(False)\n",
    "hl_model.eval()\n",
    "print()"
   ]
  },
  {
   "cell_type": "code",
   "execution_count": null,
   "metadata": {},
   "outputs": [],
   "source": [
    "original_logits, cache = model.run_with_cache(base_tensor)"
   ]
  },
  {
   "cell_type": "code",
   "execution_count": null,
   "metadata": {},
   "outputs": [
    {
     "data": {
      "text/plain": [
       "(torch.Size([65536, 5, 1]),\n",
       " tensor([[0.0000],\n",
       "         [1.0000],\n",
       "         [0.5000],\n",
       "         [0.3333],\n",
       "         [0.2500]], device='mps:0'),\n",
       " tensor([0.0000, 1.0000, 0.5000, 0.3333, 0.2500], device='mps:0'))"
      ]
     },
     "execution_count": 16,
     "metadata": {},
     "output_type": "execute_result"
    }
   ],
   "source": [
    "hl_answers = hl_model(base_tensor)\n",
    "(hl_answers.shape), hl_answers[0], base_answer_tokens[0] # Wtf???"
   ]
  },
  {
   "cell_type": "code",
   "execution_count": null,
   "metadata": {},
   "outputs": [
    {
     "data": {
      "text/plain": [
       "(torch.Size([65536, 5, 1]),\n",
       " tensor([[-3.6373e-04],\n",
       "         [-3.6645e-02],\n",
       "         [ 5.0384e-01],\n",
       "         [ 7.0400e-01],\n",
       "         [ 4.5902e-01]], device='mps:0'),\n",
       " torch.Size([65536, 5, 1]),\n",
       " tensor([[0.0000],\n",
       "         [0.0000],\n",
       "         [0.5000],\n",
       "         [0.6667],\n",
       "         [0.5000]], device='mps:0'))"
      ]
     },
     "execution_count": 17,
     "metadata": {},
     "output_type": "execute_result"
    }
   ],
   "source": [
    "original_logits.shape, original_logits[3], hl_answers.shape, hl_answers[3]"
   ]
  },
  {
   "cell_type": "markdown",
   "metadata": {},
   "source": [
    "### Patch Attention Heads to see Causal Effect"
   ]
  },
  {
   "cell_type": "code",
   "execution_count": null,
   "metadata": {},
   "outputs": [
    {
     "data": {
      "text/plain": [
       "([LLNode(name='blocks.0.attn.hook_result', index=[:, :, 0, :], subspace=None),\n",
       "  LLNode(name='blocks.0.attn.hook_result', index=[:, :, 1, :], subspace=None),\n",
       "  LLNode(name='blocks.0.attn.hook_result', index=[:, :, 2, :], subspace=None),\n",
       "  LLNode(name='blocks.0.attn.hook_result', index=[:, :, 3, :], subspace=None),\n",
       "  LLNode(name='blocks.1.attn.hook_result', index=[:, :, 2, :], subspace=None),\n",
       "  LLNode(name='blocks.1.attn.hook_result', index=[:, :, 3, :], subspace=None),\n",
       "  LLNode(name='blocks.1.mlp.hook_post', index=[:], subspace=None)],\n",
       " '---',\n",
       " [{LLNode(name='blocks.0.mlp.hook_post', index=[:], subspace=None)},\n",
       "  {LLNode(name='blocks.1.attn.hook_result', index=[:, :, :2, :], subspace=None)}])"
      ]
     },
     "execution_count": 18,
     "metadata": {},
     "output_type": "execute_result"
    }
   ],
   "source": [
    "from iit.utils.node_picker import get_nodes_not_in_circuit, get_nodes_in_circuit, get_all_nodes\n",
    "\n",
    "nodes_not_in_circuit = get_nodes_not_in_circuit(model_pair.ll_model, hl_ll_corr)\n",
    "nodes_not_in_circuit, \"---\", list(hl_ll_corr.values())"
   ]
  },
  {
   "cell_type": "code",
   "execution_count": null,
   "metadata": {},
   "outputs": [],
   "source": [
    "from iit_utils.evals import check_causal_effect, make_dataframe_of_results"
   ]
  },
  {
   "cell_type": "code",
   "execution_count": null,
   "metadata": {},
   "outputs": [
    {
     "name": "stderr",
     "output_type": "stream",
     "text": [
      "  0%|          | 0/256 [00:00<?, ?it/s]"
     ]
    },
    {
     "name": "stderr",
     "output_type": "stream",
     "text": [
      "100%|██████████| 256/256 [00:57<00:00,  4.42it/s]\n",
      "100%|██████████| 256/256 [00:16<00:00, 15.46it/s]\n"
     ]
    }
   ],
   "source": [
    "np.random.seed(0)\n",
    "t.manual_seed(0)\n",
    "result_not_in_circuit = check_causal_effect(model_pair, test_set, node_type=\"n\", verbose=False)\n",
    "result_in_circuit = check_causal_effect(model_pair, test_set, node_type=\"c\", verbose=False)"
   ]
  },
  {
   "cell_type": "code",
   "execution_count": null,
   "metadata": {},
   "outputs": [
    {
     "name": "stdout",
     "output_type": "stream",
     "text": [
      "None {'lr': 0.0001, 'losses': 'all', 'atol': 0.05, 'batch_size': 512, 'use_single_loss': False, 'iit_weight': 1.0, 'behavior_weight': 1.0, 'strict_weight': 0.0, 'scale': 10.0, 'use_ln_hooks': False} <class 'iit.model_pairs.stop_grad_pair.StopGradModelPair'>\n"
     ]
    },
    {
     "data": {
      "text/html": [
       "<div>\n",
       "<style scoped>\n",
       "    .dataframe tbody tr th:only-of-type {\n",
       "        vertical-align: middle;\n",
       "    }\n",
       "\n",
       "    .dataframe tbody tr th {\n",
       "        vertical-align: top;\n",
       "    }\n",
       "\n",
       "    .dataframe thead th {\n",
       "        text-align: right;\n",
       "    }\n",
       "</style>\n",
       "<table border=\"1\" class=\"dataframe\">\n",
       "  <thead>\n",
       "    <tr style=\"text-align: right;\">\n",
       "      <th></th>\n",
       "      <th>node</th>\n",
       "      <th>status</th>\n",
       "      <th>causal effect</th>\n",
       "    </tr>\n",
       "  </thead>\n",
       "  <tbody>\n",
       "    <tr>\n",
       "      <th>0</th>\n",
       "      <td>blocks.0.attn.hook_result, head  0</td>\n",
       "      <td>not_in_circuit</td>\n",
       "      <td>0.823506</td>\n",
       "    </tr>\n",
       "    <tr>\n",
       "      <th>1</th>\n",
       "      <td>blocks.0.attn.hook_result, head  1</td>\n",
       "      <td>not_in_circuit</td>\n",
       "      <td>0.711860</td>\n",
       "    </tr>\n",
       "    <tr>\n",
       "      <th>2</th>\n",
       "      <td>blocks.0.attn.hook_result, head  2</td>\n",
       "      <td>not_in_circuit</td>\n",
       "      <td>0.866308</td>\n",
       "    </tr>\n",
       "    <tr>\n",
       "      <th>3</th>\n",
       "      <td>blocks.0.attn.hook_result, head  3</td>\n",
       "      <td>not_in_circuit</td>\n",
       "      <td>0.787053</td>\n",
       "    </tr>\n",
       "    <tr>\n",
       "      <th>4</th>\n",
       "      <td>blocks.1.attn.hook_result, head  2</td>\n",
       "      <td>not_in_circuit</td>\n",
       "      <td>0.818214</td>\n",
       "    </tr>\n",
       "    <tr>\n",
       "      <th>5</th>\n",
       "      <td>blocks.1.attn.hook_result, head  3</td>\n",
       "      <td>not_in_circuit</td>\n",
       "      <td>0.774200</td>\n",
       "    </tr>\n",
       "    <tr>\n",
       "      <th>6</th>\n",
       "      <td>blocks.1.mlp.hook_post</td>\n",
       "      <td>not_in_circuit</td>\n",
       "      <td>0.904683</td>\n",
       "    </tr>\n",
       "    <tr>\n",
       "      <th>7</th>\n",
       "      <td>blocks.1.attn.hook_result, head  :2</td>\n",
       "      <td>in_circuit</td>\n",
       "      <td>0.999641</td>\n",
       "    </tr>\n",
       "    <tr>\n",
       "      <th>8</th>\n",
       "      <td>blocks.0.mlp.hook_post</td>\n",
       "      <td>in_circuit</td>\n",
       "      <td>0.999891</td>\n",
       "    </tr>\n",
       "  </tbody>\n",
       "</table>\n",
       "</div>"
      ],
      "text/plain": [
       "                                  node          status  causal effect\n",
       "0   blocks.0.attn.hook_result, head  0  not_in_circuit       0.823506\n",
       "1   blocks.0.attn.hook_result, head  1  not_in_circuit       0.711860\n",
       "2   blocks.0.attn.hook_result, head  2  not_in_circuit       0.866308\n",
       "3   blocks.0.attn.hook_result, head  3  not_in_circuit       0.787053\n",
       "4   blocks.1.attn.hook_result, head  2  not_in_circuit       0.818214\n",
       "5   blocks.1.attn.hook_result, head  3  not_in_circuit       0.774200\n",
       "6               blocks.1.mlp.hook_post  not_in_circuit       0.904683\n",
       "7  blocks.1.attn.hook_result, head  :2      in_circuit       0.999641\n",
       "8               blocks.0.mlp.hook_post      in_circuit       0.999891"
      ]
     },
     "execution_count": 21,
     "metadata": {},
     "output_type": "execute_result"
    }
   ],
   "source": [
    "df = make_dataframe_of_results(result_not_in_circuit, result_in_circuit)\n",
    "# df.style.apply(color_table, subset=[\"status\"])\n",
    "print(attn_idx, training_args, tracr_model_class)\n",
    "df"
   ]
  },
  {
   "cell_type": "code",
   "execution_count": null,
   "metadata": {},
   "outputs": [],
   "source": [
    "from iit.utils.metric import MetricStore\n",
    "def print_metrics(metrics: list[MetricStore]):\n",
    "    for metric in metrics:\n",
    "        print(f\"{metric.get_name()}: {metric.get_value()}\")\n",
    "\n",
    "metric_collection = model_pair._run_eval_epoch(test_loader, model_pair.loss_fn)"
   ]
  },
  {
   "cell_type": "code",
   "execution_count": null,
   "metadata": {},
   "outputs": [
    {
     "name": "stdout",
     "output_type": "stream",
     "text": [
      "val/iit_loss: 0.0029948651190352393\n",
      "val/IIA: 68.0581680033356\n",
      "val/accuracy: 71.48437616415322\n"
     ]
    }
   ],
   "source": [
    "print_metrics(metric_collection.metrics)"
   ]
  },
  {
   "cell_type": "markdown",
   "metadata": {},
   "source": [
    "### Do the same with zero ablations"
   ]
  },
  {
   "cell_type": "code",
   "execution_count": null,
   "metadata": {},
   "outputs": [],
   "source": [
    "from iit_utils.evals import check_causal_effect_on_ablation\n",
    "from iit_utils.dataset import TracrUniqueDataset"
   ]
  },
  {
   "cell_type": "code",
   "execution_count": null,
   "metadata": {},
   "outputs": [],
   "source": [
    "uni_test_set = TracrUniqueDataset(unique_test_data, unique_test_data, hl_model, every_combination=True)"
   ]
  },
  {
   "cell_type": "code",
   "execution_count": null,
   "metadata": {},
   "outputs": [
    {
     "name": "stderr",
     "output_type": "stream",
     "text": [
      "  0%|          | 0/1 [00:00<?, ?it/s]"
     ]
    },
    {
     "name": "stderr",
     "output_type": "stream",
     "text": [
      "100%|██████████| 1/1 [00:00<00:00,  5.47it/s]\n",
      "100%|██████████| 1/1 [00:00<00:00, 18.11it/s]\n"
     ]
    }
   ],
   "source": [
    "np.random.seed(0)\n",
    "t.manual_seed(0)\n",
    "use_mean_cache = True\n",
    "za_result_not_in_circuit = check_causal_effect_on_ablation(model_pair, uni_test_set, node_type=\"n\", verbose=False,  use_mean_cache=use_mean_cache)\n",
    "za_result_in_circuit = check_causal_effect_on_ablation(model_pair, uni_test_set, node_type=\"c\", verbose=False,  use_mean_cache=use_mean_cache)"
   ]
  },
  {
   "cell_type": "code",
   "execution_count": null,
   "metadata": {},
   "outputs": [
    {
     "name": "stdout",
     "output_type": "stream",
     "text": [
      "None {'lr': 0.0001, 'losses': 'all', 'atol': 0.05, 'batch_size': 512, 'use_single_loss': False, 'iit_weight': 1.0, 'behavior_weight': 1.0, 'strict_weight': 0.0, 'scale': 10.0, 'use_ln_hooks': False} <class 'iit.model_pairs.stop_grad_pair.StopGradModelPair'>\n"
     ]
    },
    {
     "data": {
      "text/html": [
       "<div>\n",
       "<style scoped>\n",
       "    .dataframe tbody tr th:only-of-type {\n",
       "        vertical-align: middle;\n",
       "    }\n",
       "\n",
       "    .dataframe tbody tr th {\n",
       "        vertical-align: top;\n",
       "    }\n",
       "\n",
       "    .dataframe thead th {\n",
       "        text-align: right;\n",
       "    }\n",
       "</style>\n",
       "<table border=\"1\" class=\"dataframe\">\n",
       "  <thead>\n",
       "    <tr style=\"text-align: right;\">\n",
       "      <th></th>\n",
       "      <th>node</th>\n",
       "      <th>status</th>\n",
       "      <th>causal effect</th>\n",
       "    </tr>\n",
       "  </thead>\n",
       "  <tbody>\n",
       "    <tr>\n",
       "      <th>0</th>\n",
       "      <td>blocks.0.attn.hook_result, head  0</td>\n",
       "      <td>not_in_circuit</td>\n",
       "      <td>0.593443</td>\n",
       "    </tr>\n",
       "    <tr>\n",
       "      <th>1</th>\n",
       "      <td>blocks.0.attn.hook_result, head  1</td>\n",
       "      <td>not_in_circuit</td>\n",
       "      <td>0.504918</td>\n",
       "    </tr>\n",
       "    <tr>\n",
       "      <th>2</th>\n",
       "      <td>blocks.0.attn.hook_result, head  2</td>\n",
       "      <td>not_in_circuit</td>\n",
       "      <td>0.580328</td>\n",
       "    </tr>\n",
       "    <tr>\n",
       "      <th>3</th>\n",
       "      <td>blocks.0.attn.hook_result, head  3</td>\n",
       "      <td>not_in_circuit</td>\n",
       "      <td>0.502732</td>\n",
       "    </tr>\n",
       "    <tr>\n",
       "      <th>4</th>\n",
       "      <td>blocks.1.attn.hook_result, head  2</td>\n",
       "      <td>not_in_circuit</td>\n",
       "      <td>0.316940</td>\n",
       "    </tr>\n",
       "    <tr>\n",
       "      <th>5</th>\n",
       "      <td>blocks.1.attn.hook_result, head  3</td>\n",
       "      <td>not_in_circuit</td>\n",
       "      <td>0.290710</td>\n",
       "    </tr>\n",
       "    <tr>\n",
       "      <th>6</th>\n",
       "      <td>blocks.1.mlp.hook_post</td>\n",
       "      <td>not_in_circuit</td>\n",
       "      <td>0.568306</td>\n",
       "    </tr>\n",
       "    <tr>\n",
       "      <th>7</th>\n",
       "      <td>blocks.1.attn.hook_result, head  :2</td>\n",
       "      <td>in_circuit</td>\n",
       "      <td>0.660109</td>\n",
       "    </tr>\n",
       "    <tr>\n",
       "      <th>8</th>\n",
       "      <td>blocks.0.mlp.hook_post</td>\n",
       "      <td>in_circuit</td>\n",
       "      <td>0.660109</td>\n",
       "    </tr>\n",
       "  </tbody>\n",
       "</table>\n",
       "</div>"
      ],
      "text/plain": [
       "                                  node          status  causal effect\n",
       "0   blocks.0.attn.hook_result, head  0  not_in_circuit       0.593443\n",
       "1   blocks.0.attn.hook_result, head  1  not_in_circuit       0.504918\n",
       "2   blocks.0.attn.hook_result, head  2  not_in_circuit       0.580328\n",
       "3   blocks.0.attn.hook_result, head  3  not_in_circuit       0.502732\n",
       "4   blocks.1.attn.hook_result, head  2  not_in_circuit       0.316940\n",
       "5   blocks.1.attn.hook_result, head  3  not_in_circuit       0.290710\n",
       "6               blocks.1.mlp.hook_post  not_in_circuit       0.568306\n",
       "7  blocks.1.attn.hook_result, head  :2      in_circuit       0.660109\n",
       "8               blocks.0.mlp.hook_post      in_circuit       0.660109"
      ]
     },
     "execution_count": 27,
     "metadata": {},
     "output_type": "execute_result"
    }
   ],
   "source": [
    "df = make_dataframe_of_results(za_result_not_in_circuit, za_result_in_circuit)\n",
    "# df.style.map(color_table, subset=[\"status\"])\n",
    "print(attn_idx, training_args, tracr_model_class)\n",
    "df"
   ]
  },
  {
   "cell_type": "markdown",
   "metadata": {},
   "source": [
    "### Combined table"
   ]
  },
  {
   "cell_type": "code",
   "execution_count": null,
   "metadata": {},
   "outputs": [
    {
     "name": "stdout",
     "output_type": "stream",
     "text": [
      "None {'lr': 0.0001, 'losses': 'all', 'atol': 0.05, 'batch_size': 512, 'use_single_loss': False, 'iit_weight': 1.0, 'behavior_weight': 1.0, 'strict_weight': 0.0, 'scale': 10.0, 'use_ln_hooks': False} <class 'iit.model_pairs.stop_grad_pair.StopGradModelPair'>\n"
     ]
    },
    {
     "data": {
      "text/html": [
       "<div>\n",
       "<style scoped>\n",
       "    .dataframe tbody tr th:only-of-type {\n",
       "        vertical-align: middle;\n",
       "    }\n",
       "\n",
       "    .dataframe tbody tr th {\n",
       "        vertical-align: top;\n",
       "    }\n",
       "\n",
       "    .dataframe thead th {\n",
       "        text-align: right;\n",
       "    }\n",
       "</style>\n",
       "<table border=\"1\" class=\"dataframe\">\n",
       "  <thead>\n",
       "    <tr style=\"text-align: right;\">\n",
       "      <th></th>\n",
       "      <th>node</th>\n",
       "      <th>status</th>\n",
       "      <th>resample_ablate_effect</th>\n",
       "      <th>mean_ablate_effect</th>\n",
       "    </tr>\n",
       "  </thead>\n",
       "  <tbody>\n",
       "    <tr>\n",
       "      <th>0</th>\n",
       "      <td>blocks.0.attn.hook_result, head  0</td>\n",
       "      <td>not_in_circuit</td>\n",
       "      <td>0.823506</td>\n",
       "      <td>0.593443</td>\n",
       "    </tr>\n",
       "    <tr>\n",
       "      <th>1</th>\n",
       "      <td>blocks.0.attn.hook_result, head  1</td>\n",
       "      <td>not_in_circuit</td>\n",
       "      <td>0.711860</td>\n",
       "      <td>0.504918</td>\n",
       "    </tr>\n",
       "    <tr>\n",
       "      <th>2</th>\n",
       "      <td>blocks.0.attn.hook_result, head  2</td>\n",
       "      <td>not_in_circuit</td>\n",
       "      <td>0.866308</td>\n",
       "      <td>0.580328</td>\n",
       "    </tr>\n",
       "    <tr>\n",
       "      <th>3</th>\n",
       "      <td>blocks.0.attn.hook_result, head  3</td>\n",
       "      <td>not_in_circuit</td>\n",
       "      <td>0.787053</td>\n",
       "      <td>0.502732</td>\n",
       "    </tr>\n",
       "    <tr>\n",
       "      <th>4</th>\n",
       "      <td>blocks.1.attn.hook_result, head  2</td>\n",
       "      <td>not_in_circuit</td>\n",
       "      <td>0.818214</td>\n",
       "      <td>0.316940</td>\n",
       "    </tr>\n",
       "    <tr>\n",
       "      <th>5</th>\n",
       "      <td>blocks.1.attn.hook_result, head  3</td>\n",
       "      <td>not_in_circuit</td>\n",
       "      <td>0.774200</td>\n",
       "      <td>0.290710</td>\n",
       "    </tr>\n",
       "    <tr>\n",
       "      <th>6</th>\n",
       "      <td>blocks.1.mlp.hook_post</td>\n",
       "      <td>not_in_circuit</td>\n",
       "      <td>0.904683</td>\n",
       "      <td>0.568306</td>\n",
       "    </tr>\n",
       "    <tr>\n",
       "      <th>7</th>\n",
       "      <td>blocks.1.attn.hook_result, head  :2</td>\n",
       "      <td>in_circuit</td>\n",
       "      <td>0.999641</td>\n",
       "      <td>0.660109</td>\n",
       "    </tr>\n",
       "    <tr>\n",
       "      <th>8</th>\n",
       "      <td>blocks.0.mlp.hook_post</td>\n",
       "      <td>in_circuit</td>\n",
       "      <td>0.999891</td>\n",
       "      <td>0.660109</td>\n",
       "    </tr>\n",
       "  </tbody>\n",
       "</table>\n",
       "</div>"
      ],
      "text/plain": [
       "                                  node          status  \\\n",
       "0   blocks.0.attn.hook_result, head  0  not_in_circuit   \n",
       "1   blocks.0.attn.hook_result, head  1  not_in_circuit   \n",
       "2   blocks.0.attn.hook_result, head  2  not_in_circuit   \n",
       "3   blocks.0.attn.hook_result, head  3  not_in_circuit   \n",
       "4   blocks.1.attn.hook_result, head  2  not_in_circuit   \n",
       "5   blocks.1.attn.hook_result, head  3  not_in_circuit   \n",
       "6               blocks.1.mlp.hook_post  not_in_circuit   \n",
       "7  blocks.1.attn.hook_result, head  :2      in_circuit   \n",
       "8               blocks.0.mlp.hook_post      in_circuit   \n",
       "\n",
       "   resample_ablate_effect  mean_ablate_effect  \n",
       "0                0.823506            0.593443  \n",
       "1                0.711860            0.504918  \n",
       "2                0.866308            0.580328  \n",
       "3                0.787053            0.502732  \n",
       "4                0.818214            0.316940  \n",
       "5                0.774200            0.290710  \n",
       "6                0.904683            0.568306  \n",
       "7                0.999641            0.660109  \n",
       "8                0.999891            0.660109  "
      ]
     },
     "execution_count": 28,
     "metadata": {},
     "output_type": "execute_result"
    }
   ],
   "source": [
    "from iit_utils.evals import make_combined_dataframe_of_results\n",
    "df = make_combined_dataframe_of_results(result_not_in_circuit, result_in_circuit, za_result_not_in_circuit, za_result_in_circuit, use_mean_cache=use_mean_cache)\n",
    "# df.style.apply(color_table, subset=[\"status\"], method = \"map\")   \n",
    "print(attn_idx, training_args, tracr_model_class)\n",
    "df"
   ]
  },
  {
   "cell_type": "code",
   "execution_count": null,
   "metadata": {},
   "outputs": [],
   "source": [
    "# save the results\n",
    "import time\n",
    "save_dir = f\"results/{tracr_model_class.__name__}/{time.strftime('%d-%H-%M-%S')}\"\n",
    "from iit_utils.evals import save_result\n",
    "save_result(df, save_dir, model_pair)"
   ]
  },
  {
   "cell_type": "code",
   "execution_count": null,
   "metadata": {},
   "outputs": [],
   "source": [
    "# batch = next(iter(test_loader))\n",
    "# base_in, ablation_in = batch\n",
    "# base_x, base_y, _ = base_in\n",
    "# ablation_x, ablation_y, _ = ablation_in\n",
    "# out, cache = model_pair.ll_model.run_with_cache(base_x)\n",
    "# base_x.shape, ablation_x.shape"
   ]
  },
  {
   "cell_type": "code",
   "execution_count": null,
   "metadata": {},
   "outputs": [],
   "source": [
    "# get_nodes_not_in_circuit(model_pair.ll_model, hl_ll_corr)"
   ]
  },
  {
   "cell_type": "code",
   "execution_count": null,
   "metadata": {},
   "outputs": [],
   "source": [
    "# cache['blocks.0.hook_attn_out'].shape, cache['blocks.0.attn.hook_result'].shape, model_pair.ll_model.cfg.n_heads"
   ]
  },
  {
   "cell_type": "code",
   "execution_count": null,
   "metadata": {},
   "outputs": [],
   "source": [
    "# np.linalg.norm(cache['blocks.0.hook_attn_out'].cpu().detach().numpy(), axis=2)"
   ]
  },
  {
   "cell_type": "markdown",
   "metadata": {},
   "source": [
    "### Rough"
   ]
  },
  {
   "cell_type": "code",
   "execution_count": null,
   "metadata": {},
   "outputs": [],
   "source": [
    "# def get_all_bad_examples(model_pair, loader, atol=5e-2):\n",
    "#     model_pair.ll_model.eval()\n",
    "#     model_pair.hl_model.eval()\n",
    "#     bad_io_examples = []\n",
    "#     bad_ii_examples = []\n",
    "\n",
    "#     for base_in, ablation_in in tqdm(loader):\n",
    "#         base_in = model_pair.get_encoded_input_from_torch_input(base_in)\n",
    "#         ablation_in = model_pair.get_encoded_input_from_torch_input(ablation_in)\n",
    "#         for node in model_pair.corr.keys():\n",
    "#             hl_node = node.name\n",
    "#             ll_out, hl_out = model_pair.do_intervention(base_in, ablation_in, hl_node)\n",
    "#             if model_pair.hl_model.is_categorical():\n",
    "#                 top1 = t.argmax(ll_out, dim=1)\n",
    "#                 correct = (top1 == hl_out).float()\n",
    "#             else:\n",
    "#                 correct = ((ll_out - hl_out).abs() < atol).float()\n",
    "            \n",
    "#             for i, c in enumerate(correct):\n",
    "#                 print(c)\n",
    "#                 if c == 0:\n",
    "#                     bad_ii_examples.append((base_in[i], ablation_in[i]))\n",
    "#         base_x, base_y = base_in\n",
    "#         ll_out = model_pair.ll_model(base_x)\n",
    "#         if model_pair.hl_model.is_categorical():\n",
    "#             top1 = t.argmax(ll_out, dim=1)\n",
    "#             correct = (top1 == base_y).float()\n",
    "#         else:\n",
    "#             correct = ((ll_out - base_y).abs() < atol).float()\n",
    "        \n",
    "#         for i, c in enumerate(correct):\n",
    "#             if c == 0:\n",
    "#                 if base_x[i] not in bad_io_examples:\n",
    "#                     bad_io_examples.append((base_x[i]))\n",
    "\n",
    "#     return bad_io_examples, bad_ii_examples\n",
    "\n",
    "# bad_io_examples, bad_ii_examples = get_all_bad_examples(model_pair, test_loader, atol)\n",
    "\n",
    "# bad_io_examples, bad_ii_examples"
   ]
  },
  {
   "cell_type": "code",
   "execution_count": null,
   "metadata": {},
   "outputs": [],
   "source": [
    "# np.random.seed(0)\n",
    "# t.manual_seed(0)\n",
    "# test_loader = DataLoader(test_set, batch_size=2, shuffle=True)\n",
    "# base_in, ablation_in = next(iter(test_loader))\n",
    "\n",
    "# hooker = model_pair.make_ll_ablation_hook(nodes_not_in_circuit[2])\n",
    "# base_x, base_y = model_pair.get_encoded_input_from_torch_input(base_in)\n",
    "# ablation_x, ablation_y = model_pair.get_encoded_input_from_torch_input(ablation_in)\n",
    "# ll_out = do_intervention(model_pair.ll_model, base_x, ablation_x, nodes_not_in_circuit[2], hooker)\n",
    "# ll_base_out, ll_base_cache = model_pair.ll_model.run_with_cache(base_x)\n",
    "# ll_ablation_out, ll_ablation_cache = model_pair.ll_model.run_with_cache(ablation_x)\n",
    "# for i in range(2):\n",
    "#     print(\n",
    "#         \"---\",\n",
    "#         f\"example {i}\", \n",
    "#         \"base_y:\", base_y[i],\n",
    "#         \"ll_base_out:\", ll_base_out[i].T,\n",
    "#         \"\",\n",
    "#         \"ablation_y:\", ablation_y[i],\n",
    "#         \"ll_ablation_out:\", ll_ablation_out[i].T,\n",
    "#         \"\",\n",
    "#         \"ll_out:\", ll_out[i].T,\n",
    "#         sep=\"\\n\"\n",
    "#     )"
   ]
  },
  {
   "cell_type": "code",
   "execution_count": null,
   "metadata": {},
   "outputs": [],
   "source": []
  }
 ],
 "metadata": {
  "kernelspec": {
   "display_name": "Python 3 (ipykernel)",
   "language": "python",
   "name": "python3"
  },
  "language_info": {
   "codemirror_mode": {
    "name": "ipython",
    "version": 3
   },
   "file_extension": ".py",
   "mimetype": "text/x-python",
   "name": "python",
   "nbconvert_exporter": "python",
   "pygments_lexer": "ipython3",
   "version": "3.11.4"
  }
 },
 "nbformat": 4,
 "nbformat_minor": 4
}
