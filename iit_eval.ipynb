{
 "cells": [
  {
   "cell_type": "markdown",
   "metadata": {},
   "source": [
    "### Setup"
   ]
  },
  {
   "cell_type": "code",
   "execution_count": 1,
   "metadata": {},
   "outputs": [
    {
     "name": "stderr",
     "output_type": "stream",
     "text": [
      "/Users/cybershiptrooper/src/interpretability/MATS/.iit/lib/python3.11/site-packages/tqdm/auto.py:21: TqdmWarning: IProgress not found. Please update jupyter and ipywidgets. See https://ipywidgets.readthedocs.io/en/stable/user_install.html\n",
      "  from .autonotebook import tqdm as notebook_tqdm\n"
     ]
    }
   ],
   "source": [
    "import sys\n",
    "import os\n",
    "import transformer_lens as tl\n",
    "from torch.utils.data import Dataset\n",
    "import torch as t\n",
    "from tqdm import tqdm\n",
    "from torch.utils.data import DataLoader\n",
    "import numpy as np\n",
    "import wandb\n",
    "from typing import List, Dict, Any, Optional\n",
    "\n",
    "from circuits_benchmark.benchmark.benchmark_case import BenchmarkCase, CaseDataset\n",
    "from circuits_benchmark.transformers.hooked_tracr_transformer import HookedTracrTransformer\n",
    "import iit.model_pairs as mp\n",
    "import iit.utils.index as index\n",
    "from iit_utils.dataset import create_dataset, TracrDataset, TracrIITDataset\n",
    "import iit_utils.correspondence as correspondence\n",
    "from circuits_benchmark.utils.get_cases import get_cases\n",
    "from circuits_benchmark.commands.build_main_parser import build_main_parser\n",
    "from iit_utils.iit_hl_model import make_iit_hl_model\n",
    "\n",
    "DEVICE = t.device(\"cuda\" if t.cuda.is_available() else \"cpu\")\n",
    "WANDB_ENTITY = \"cybershiptrooper\" # TODO make this an env var"
   ]
  },
  {
   "cell_type": "markdown",
   "metadata": {},
   "source": [
    "### Train Model"
   ]
  },
  {
   "cell_type": "code",
   "execution_count": 2,
   "metadata": {},
   "outputs": [
    {
     "data": {
      "text/plain": [
       "'StrictIITModelPair'"
      ]
     },
     "execution_count": 2,
     "metadata": {},
     "output_type": "execute_result"
    }
   ],
   "source": [
    "attn_idx = None\n",
    "atol = 5e-2\n",
    "losses = \"all\"\n",
    "tracr_model_class = mp.StrictIITModelPair\n",
    "case_num = 3\n",
    "\n",
    "training_args = {\n",
    "    \"lr\" : 1e-2,\n",
    "    \"losses\" : losses,\n",
    "    \"atol\" : atol,\n",
    "    \"batch_size\" : 512,\n",
    "    \"use_single_loss\": False,\n",
    "    \"iit_weight\": 1.0,\n",
    "    \"behavior_weight\": 1.0,\n",
    "    \"strict_weight\": 1.0,\n",
    "}\n",
    "tracr_model_class.__name__"
   ]
  },
  {
   "cell_type": "code",
   "execution_count": 3,
   "metadata": {},
   "outputs": [],
   "source": [
    "np.random.seed(0)\n",
    "t.manual_seed(0)\n",
    "\n",
    "args, _ = build_main_parser().parse_known_args([\"compile\",\n",
    "                                                f\"-i={case_num}\",\n",
    "                                                \"-f\",])\n",
    "cases = get_cases(args)\n",
    "case = cases[0]\n",
    "\n",
    "tracr_output = case.build_tracr_model()\n",
    "hl_model = case.build_transformer_lens_model()\n",
    "# this is the graph node -> hl node correspondence\n",
    "hl_ll_corr = correspondence.TracrCorrespondence.from_output(case, tracr_output)"
   ]
  },
  {
   "cell_type": "code",
   "execution_count": 4,
   "metadata": {},
   "outputs": [
    {
     "data": {
      "text/plain": [
       "[['BOS', 1.0, 0.5, 0.3333333432674408, 0.25]]"
      ]
     },
     "execution_count": 4,
     "metadata": {},
     "output_type": "execute_result"
    }
   ],
   "source": [
    "hl_model([['BOS', 'x', 'b', 'a', 'a']], return_type='decoded')"
   ]
  },
  {
   "cell_type": "code",
   "execution_count": 5,
   "metadata": {},
   "outputs": [],
   "source": [
    "# seed everything\n",
    "t.manual_seed(0)\n",
    "np.random.seed(0)\n",
    "import random\n",
    "random.seed(0)"
   ]
  },
  {
   "cell_type": "code",
   "execution_count": 6,
   "metadata": {},
   "outputs": [],
   "source": [
    "data = case.get_clean_data(count=15000)\n",
    "inputs = data.get_inputs().to_numpy()\n",
    "outputs = data.get_correct_outputs().to_numpy()\n",
    "\n",
    "train_inputs = inputs[:12000]\n",
    "test_inputs = inputs[12000:]\n",
    "train_outputs = outputs[:12000]\n",
    "test_outputs = outputs[12000:]\n",
    "\n",
    "train_set, test_set = create_dataset(case, hl_model)"
   ]
  },
  {
   "cell_type": "code",
   "execution_count": 7,
   "metadata": {},
   "outputs": [
    {
     "name": "stdout",
     "output_type": "stream",
     "text": [
      "{'n_layers': 2, 'd_model': 8, 'n_ctx': 5, 'd_head': 4, 'model_name': 'custom', 'n_heads': 4, 'd_mlp': 16, 'act_fn': 'gelu', 'd_vocab': 6, 'eps': 1e-05, 'use_attn_result': True, 'use_attn_scale': True, 'use_split_qkv_input': True, 'use_hook_mlp_in': True, 'use_attn_in': False, 'use_local_attn': False, 'original_architecture': None, 'from_checkpoint': False, 'checkpoint_index': None, 'checkpoint_label_type': None, 'checkpoint_value': None, 'tokenizer_name': None, 'window_size': None, 'attn_types': None, 'init_mode': 'gpt2', 'normalization_type': None, 'device': device(type='mps'), 'n_devices': 1, 'attention_dir': 'causal', 'attn_only': False, 'seed': None, 'initializer_range': 0.22188007849009167, 'init_weights': True, 'scale_attn_by_inverse_layer_idx': False, 'positional_embedding_type': 'standard', 'final_rms': False, 'd_vocab_out': 1, 'parallel_attn_mlp': False, 'rotary_dim': None, 'n_params': 676, 'use_hook_tokens': False, 'gated_mlp': False, 'default_prepend_bos': True, 'dtype': torch.float32, 'tokenizer_prepends_bos': None, 'n_key_value_heads': None, 'post_embedding_ln': False, 'rotary_base': 10000, 'trust_remote_code': False, 'rotary_adjacent_pairs': False}\n"
     ]
    }
   ],
   "source": [
    "from transformer_lens import HookedTransformer, HookedTransformerConfig\n",
    "\n",
    "cfg_dict = {\n",
    "    \"n_layers\": 2, \n",
    "    \"n_heads\": 4, \n",
    "    \"d_head\": 4,\n",
    "    \"d_model\": 8,\n",
    "    \"d_mlp\": 16,\n",
    "    \"act_fn\": \"gelu\",\n",
    "}\n",
    "ll_cfg = hl_model.cfg.to_dict().copy()\n",
    "ll_cfg.update(cfg_dict)\n",
    "\n",
    "\n",
    "print(ll_cfg)\n",
    "ll_cfg = HookedTransformerConfig.from_dict(ll_cfg)\n",
    "model = HookedTransformer(ll_cfg)\n"
   ]
  },
  {
   "cell_type": "code",
   "execution_count": 8,
   "metadata": {},
   "outputs": [
    {
     "name": "stdout",
     "output_type": "stream",
     "text": [
      "{'hook_embed': HookPoint(), 'hook_pos_embed': HookPoint(), 'blocks.0.attn.hook_k': HookPoint(), 'blocks.0.attn.hook_q': HookPoint(), 'blocks.0.attn.hook_v': HookPoint(), 'blocks.0.attn.hook_z': HookPoint(), 'blocks.0.attn.hook_attn_scores': HookPoint(), 'blocks.0.attn.hook_pattern': HookPoint(), 'blocks.0.attn.hook_result': HookPoint(), 'blocks.0.mlp.hook_pre': HookPoint(), 'blocks.0.mlp.hook_post': HookPoint(), 'blocks.0.hook_attn_in': HookPoint(), 'blocks.0.hook_q_input': HookPoint(), 'blocks.0.hook_k_input': HookPoint(), 'blocks.0.hook_v_input': HookPoint(), 'blocks.0.hook_mlp_in': HookPoint(), 'blocks.0.hook_attn_out': HookPoint(), 'blocks.0.hook_mlp_out': HookPoint(), 'blocks.0.hook_resid_pre': HookPoint(), 'blocks.0.hook_resid_mid': HookPoint(), 'blocks.0.hook_resid_post': HookPoint(), 'blocks.1.attn.hook_k': HookPoint(), 'blocks.1.attn.hook_q': HookPoint(), 'blocks.1.attn.hook_v': HookPoint(), 'blocks.1.attn.hook_z': HookPoint(), 'blocks.1.attn.hook_attn_scores': HookPoint(), 'blocks.1.attn.hook_pattern': HookPoint(), 'blocks.1.attn.hook_result': HookPoint(), 'blocks.1.mlp.hook_pre': HookPoint(), 'blocks.1.mlp.hook_post': HookPoint(), 'blocks.1.hook_attn_in': HookPoint(), 'blocks.1.hook_q_input': HookPoint(), 'blocks.1.hook_k_input': HookPoint(), 'blocks.1.hook_v_input': HookPoint(), 'blocks.1.hook_mlp_in': HookPoint(), 'blocks.1.hook_attn_out': HookPoint(), 'blocks.1.hook_mlp_out': HookPoint(), 'blocks.1.hook_resid_pre': HookPoint(), 'blocks.1.hook_resid_mid': HookPoint(), 'blocks.1.hook_resid_post': HookPoint()}\n",
      "dict_keys([TracrHLNode(name: blocks.0.mlp.hook_post,\n",
      " label: is_x_3,\n",
      " classes: 0,\n",
      " index: [:]\n",
      "), TracrHLNode(name: blocks.1.attn.hook_result,\n",
      " label: frac_prevs_1,\n",
      " classes: 0,\n",
      " index: [:, :, 0, :]\n",
      ")])\n"
     ]
    }
   ],
   "source": [
    "model_pair = tracr_model_class(\n",
    "    hl_model = make_iit_hl_model(hl_model),\n",
    "    ll_model = model,\n",
    "    corr = hl_ll_corr,\n",
    "    training_args=training_args,\n",
    ")"
   ]
  },
  {
   "cell_type": "code",
   "execution_count": 9,
   "metadata": {},
   "outputs": [],
   "source": [
    "\n",
    "ll_model = HookedTracrTransformer(\n",
    "    ll_cfg, hl_model.tracr_input_encoder, hl_model.tracr_output_encoder, hl_model.residual_stream_labels\n",
    ")\n",
    "ll_model.load_weights_from_file(f\"ll_models/{case_num}/ll_model_510.pth\")\n",
    "model_pair.ll_model = ll_model"
   ]
  },
  {
   "cell_type": "code",
   "execution_count": 10,
   "metadata": {},
   "outputs": [],
   "source": [
    "# model_pair.train(\n",
    "#     train_set,\n",
    "#     test_set,\n",
    "#     epochs=50,\n",
    "#     use_wandb=False,\n",
    "# )"
   ]
  },
  {
   "cell_type": "markdown",
   "metadata": {},
   "source": [
    "### Setup Eval"
   ]
  },
  {
   "cell_type": "code",
   "execution_count": 11,
   "metadata": {},
   "outputs": [],
   "source": [
    "\"\"\"Create a new test set with unique inputs\"\"\"\n",
    "\n",
    "arr, idxs = np.unique([\", \".join(i) for i in np.array(test_inputs)], return_inverse=True)\n",
    "# create indices that point to the first unique input\n",
    "all_possible_inputs = np.arange(arr.shape[0])\n",
    "# find the first occurence of all_possible_inputs in idxs\n",
    "first_occurences = [np.where(idxs == i)[0][0] for i in all_possible_inputs]\n",
    "\n",
    "unique_test_inputs = test_inputs[first_occurences]\n",
    "unique_test_outputs = test_outputs[first_occurences]\n",
    "assert len(unique_test_inputs) == len(unique_test_outputs)\n",
    "assert len(unique_test_inputs) == len(np.unique([\", \".join(i) for i in np.array(test_inputs)]))\n",
    "assert len(np.unique([\", \".join(i) for i in np.array(unique_test_inputs)])) == len(unique_test_inputs)\n",
    "\n",
    "unique_test_data = TracrDataset(unique_test_inputs, unique_test_outputs)\n",
    "test_set = TracrIITDataset(unique_test_data, unique_test_data, hl_model, every_combination=True)\n",
    "test_loader = test_set.make_loader(batch_size=512, num_workers=0)"
   ]
  },
  {
   "cell_type": "code",
   "execution_count": 12,
   "metadata": {},
   "outputs": [],
   "source": [
    "def tokenise_data(batch, model: HookedTracrTransformer) -> t.Tensor:\n",
    "    x = list(map(list, zip(*batch)))\n",
    "    encoded_x = model.map_tracr_input_to_tl_input(x)\n",
    "    return encoded_x"
   ]
  },
  {
   "cell_type": "code",
   "execution_count": 13,
   "metadata": {},
   "outputs": [],
   "source": [
    "tensorised_base_data = []\n",
    "tensorised_ablation_data = []\n",
    "base_answer_tokens = []\n",
    "for base_in, ablation_in in test_loader:\n",
    "    base_x, base_y,  _ = base_in\n",
    "    ablation_x, ablation_y, _ = ablation_in\n",
    "\n",
    "    tensorised_base_data.append((base_x))\n",
    "    tensorised_ablation_data.append((ablation_x))\n",
    "    base_answer_tokens.append(base_y)\n",
    "\n",
    "base_tensor = t.cat(tensorised_base_data, dim=0)\n",
    "ablation_tensor = t.cat(tensorised_ablation_data, dim=0)\n",
    "base_answer_tokens = t.cat(base_answer_tokens, dim=0)"
   ]
  },
  {
   "cell_type": "code",
   "execution_count": 14,
   "metadata": {},
   "outputs": [
    {
     "name": "stdout",
     "output_type": "stream",
     "text": [
      "\n"
     ]
    }
   ],
   "source": [
    "model.requires_grad_(False)\n",
    "model.eval()\n",
    "hl_model.requires_grad_(False)\n",
    "hl_model.eval()\n",
    "print()"
   ]
  },
  {
   "cell_type": "code",
   "execution_count": 15,
   "metadata": {},
   "outputs": [],
   "source": [
    "original_logits, cache = model.run_with_cache(base_tensor)"
   ]
  },
  {
   "cell_type": "code",
   "execution_count": 16,
   "metadata": {},
   "outputs": [
    {
     "data": {
      "text/plain": [
       "(torch.Size([65536, 5, 1]),\n",
       " tensor([[0.0000],\n",
       "         [0.0000],\n",
       "         [0.0000],\n",
       "         [0.0000],\n",
       "         [0.2500]], device='mps:0'),\n",
       " tensor([0.0000, 0.0000, 0.0000, 0.0000, 0.2500], device='mps:0'))"
      ]
     },
     "execution_count": 16,
     "metadata": {},
     "output_type": "execute_result"
    }
   ],
   "source": [
    "hl_answers = hl_model(base_tensor)\n",
    "(hl_answers.shape), hl_answers[0], base_answer_tokens[0] # Wtf???"
   ]
  },
  {
   "cell_type": "code",
   "execution_count": 17,
   "metadata": {},
   "outputs": [
    {
     "data": {
      "text/plain": [
       "(torch.Size([65536, 5, 1]),\n",
       " tensor([[ 0.3080],\n",
       "         [ 0.3513],\n",
       "         [ 0.2932],\n",
       "         [ 0.1778],\n",
       "         [-0.0688]], device='mps:0'),\n",
       " torch.Size([65536, 5, 1]),\n",
       " tensor([[0.0000],\n",
       "         [0.0000],\n",
       "         [0.0000],\n",
       "         [0.3333],\n",
       "         [0.2500]], device='mps:0'))"
      ]
     },
     "execution_count": 17,
     "metadata": {},
     "output_type": "execute_result"
    }
   ],
   "source": [
    "original_logits.shape, original_logits[3], hl_answers.shape, hl_answers[3]"
   ]
  },
  {
   "cell_type": "markdown",
   "metadata": {},
   "source": [
    "### Patch Attention Heads to see Causal Effect"
   ]
  },
  {
   "cell_type": "code",
   "execution_count": 18,
   "metadata": {},
   "outputs": [
    {
     "data": {
      "text/plain": [
       "([LLNode(name='blocks.0.attn.hook_result', index=[:, :, 0, :], subspace=None),\n",
       "  LLNode(name='blocks.0.attn.hook_result', index=[:, :, 1, :], subspace=None),\n",
       "  LLNode(name='blocks.0.attn.hook_result', index=[:, :, 2, :], subspace=None),\n",
       "  LLNode(name='blocks.0.attn.hook_result', index=[:, :, 3, :], subspace=None),\n",
       "  LLNode(name='blocks.1.attn.hook_result', index=[:, :, 0, :], subspace=None),\n",
       "  LLNode(name='blocks.1.attn.hook_result', index=[:, :, 3, :], subspace=None),\n",
       "  LLNode(name='blocks.1.mlp.hook_post', index=[:], subspace=None)],\n",
       " '---',\n",
       " [{LLNode(name='blocks.0.mlp.hook_post', index=[:], subspace=None)},\n",
       "  {LLNode(name='blocks.1.attn.hook_result', index=[:, :, 1:3, :], subspace=None)}])"
      ]
     },
     "execution_count": 18,
     "metadata": {},
     "output_type": "execute_result"
    }
   ],
   "source": [
    "from iit.utils.node_picker import get_nodes_not_in_circuit, get_nodes_in_circuit, get_all_nodes\n",
    "\n",
    "nodes_not_in_circuit = get_nodes_not_in_circuit(model_pair.ll_model, hl_ll_corr)\n",
    "nodes_not_in_circuit, \"---\", list(hl_ll_corr.values())"
   ]
  },
  {
   "cell_type": "code",
   "execution_count": 19,
   "metadata": {},
   "outputs": [],
   "source": [
    "from iit_utils.evals import check_causal_effect, make_dataframe_of_results"
   ]
  },
  {
   "cell_type": "code",
   "execution_count": 20,
   "metadata": {},
   "outputs": [
    {
     "name": "stderr",
     "output_type": "stream",
     "text": [
      "100%|██████████| 256/256 [00:19<00:00, 13.19it/s]\n",
      "100%|██████████| 256/256 [00:05<00:00, 45.89it/s]\n"
     ]
    }
   ],
   "source": [
    "np.random.seed(0)\n",
    "t.manual_seed(0)\n",
    "result_not_in_circuit = check_causal_effect(model_pair, test_set, node_type=\"n\", verbose=False)\n",
    "result_in_circuit = check_causal_effect(model_pair, test_set, node_type=\"c\", verbose=False)"
   ]
  },
  {
   "cell_type": "code",
   "execution_count": 21,
   "metadata": {},
   "outputs": [
    {
     "name": "stdout",
     "output_type": "stream",
     "text": [
      "None {'lr': 0.01, 'losses': 'all', 'atol': 0.05, 'batch_size': 512, 'use_single_loss': False, 'iit_weight': 1.0, 'behavior_weight': 1.0, 'strict_weight': 1.0} <class 'iit.model_pairs.strict_iit_model_pair.StrictIITModelPair'>\n"
     ]
    },
    {
     "data": {
      "text/html": [
       "<div>\n",
       "<style scoped>\n",
       "    .dataframe tbody tr th:only-of-type {\n",
       "        vertical-align: middle;\n",
       "    }\n",
       "\n",
       "    .dataframe tbody tr th {\n",
       "        vertical-align: top;\n",
       "    }\n",
       "\n",
       "    .dataframe thead th {\n",
       "        text-align: right;\n",
       "    }\n",
       "</style>\n",
       "<table border=\"1\" class=\"dataframe\">\n",
       "  <thead>\n",
       "    <tr style=\"text-align: right;\">\n",
       "      <th></th>\n",
       "      <th>node</th>\n",
       "      <th>status</th>\n",
       "      <th>causal effect</th>\n",
       "    </tr>\n",
       "  </thead>\n",
       "  <tbody>\n",
       "    <tr>\n",
       "      <th>0</th>\n",
       "      <td>blocks.0.attn.hook_result, head  0</td>\n",
       "      <td>not_in_circuit</td>\n",
       "      <td>0.000013</td>\n",
       "    </tr>\n",
       "    <tr>\n",
       "      <th>1</th>\n",
       "      <td>blocks.0.attn.hook_result, head  1</td>\n",
       "      <td>not_in_circuit</td>\n",
       "      <td>0.002159</td>\n",
       "    </tr>\n",
       "    <tr>\n",
       "      <th>2</th>\n",
       "      <td>blocks.0.attn.hook_result, head  2</td>\n",
       "      <td>not_in_circuit</td>\n",
       "      <td>0.000000</td>\n",
       "    </tr>\n",
       "    <tr>\n",
       "      <th>3</th>\n",
       "      <td>blocks.0.attn.hook_result, head  3</td>\n",
       "      <td>not_in_circuit</td>\n",
       "      <td>0.000000</td>\n",
       "    </tr>\n",
       "    <tr>\n",
       "      <th>4</th>\n",
       "      <td>blocks.1.attn.hook_result, head  0</td>\n",
       "      <td>not_in_circuit</td>\n",
       "      <td>1.000000</td>\n",
       "    </tr>\n",
       "    <tr>\n",
       "      <th>5</th>\n",
       "      <td>blocks.1.attn.hook_result, head  3</td>\n",
       "      <td>not_in_circuit</td>\n",
       "      <td>0.010526</td>\n",
       "    </tr>\n",
       "    <tr>\n",
       "      <th>6</th>\n",
       "      <td>blocks.1.mlp.hook_post</td>\n",
       "      <td>not_in_circuit</td>\n",
       "      <td>0.207744</td>\n",
       "    </tr>\n",
       "    <tr>\n",
       "      <th>7</th>\n",
       "      <td>blocks.0.mlp.hook_post</td>\n",
       "      <td>in_circuit</td>\n",
       "      <td>1.000000</td>\n",
       "    </tr>\n",
       "    <tr>\n",
       "      <th>8</th>\n",
       "      <td>blocks.1.attn.hook_result, head  1:3</td>\n",
       "      <td>in_circuit</td>\n",
       "      <td>1.000000</td>\n",
       "    </tr>\n",
       "  </tbody>\n",
       "</table>\n",
       "</div>"
      ],
      "text/plain": [
       "                                   node          status  causal effect\n",
       "0    blocks.0.attn.hook_result, head  0  not_in_circuit       0.000013\n",
       "1    blocks.0.attn.hook_result, head  1  not_in_circuit       0.002159\n",
       "2    blocks.0.attn.hook_result, head  2  not_in_circuit       0.000000\n",
       "3    blocks.0.attn.hook_result, head  3  not_in_circuit       0.000000\n",
       "4    blocks.1.attn.hook_result, head  0  not_in_circuit       1.000000\n",
       "5    blocks.1.attn.hook_result, head  3  not_in_circuit       0.010526\n",
       "6                blocks.1.mlp.hook_post  not_in_circuit       0.207744\n",
       "7                blocks.0.mlp.hook_post      in_circuit       1.000000\n",
       "8  blocks.1.attn.hook_result, head  1:3      in_circuit       1.000000"
      ]
     },
     "execution_count": 21,
     "metadata": {},
     "output_type": "execute_result"
    }
   ],
   "source": [
    "df = make_dataframe_of_results(result_not_in_circuit, result_in_circuit)\n",
    "# df.style.apply(color_table, subset=[\"status\"])\n",
    "print(attn_idx, training_args, tracr_model_class)\n",
    "df"
   ]
  },
  {
   "cell_type": "code",
   "execution_count": 22,
   "metadata": {},
   "outputs": [],
   "source": [
    "from iit.utils.metric import MetricStore\n",
    "def print_metrics(metrics: list[MetricStore]):\n",
    "    for metric in metrics:\n",
    "        print(f\"{metric.get_name()}: {metric.get_value()}\")\n",
    "\n",
    "metric_collection = model_pair._run_eval_epoch(test_loader, model_pair.loss_fn)"
   ]
  },
  {
   "cell_type": "code",
   "execution_count": 23,
   "metadata": {},
   "outputs": [
    {
     "name": "stdout",
     "output_type": "stream",
     "text": [
      "val/iit_loss: 0.035202935819370396\n",
      "val/IIA: 74.02771129272878\n",
      "val/accuracy: 100.0\n"
     ]
    }
   ],
   "source": [
    "print_metrics(metric_collection.metrics)"
   ]
  },
  {
   "cell_type": "markdown",
   "metadata": {},
   "source": [
    "### Do the same with zero ablations"
   ]
  },
  {
   "cell_type": "code",
   "execution_count": 24,
   "metadata": {},
   "outputs": [],
   "source": [
    "from iit_utils.evals import check_causal_effect_on_ablation\n",
    "from iit_utils.dataset import TracrUniqueDataset"
   ]
  },
  {
   "cell_type": "code",
   "execution_count": 25,
   "metadata": {},
   "outputs": [],
   "source": [
    "uni_test_set = TracrUniqueDataset(unique_test_data, unique_test_data, hl_model, every_combination=True)"
   ]
  },
  {
   "cell_type": "code",
   "execution_count": 26,
   "metadata": {},
   "outputs": [
    {
     "name": "stderr",
     "output_type": "stream",
     "text": [
      "  0%|          | 0/1 [00:00<?, ?it/s]"
     ]
    },
    {
     "name": "stderr",
     "output_type": "stream",
     "text": [
      "100%|██████████| 1/1 [00:00<00:00, 12.58it/s]\n",
      "100%|██████████| 1/1 [00:00<00:00, 40.51it/s]\n"
     ]
    }
   ],
   "source": [
    "np.random.seed(0)\n",
    "t.manual_seed(0)\n",
    "use_mean_cache = True\n",
    "za_result_not_in_circuit = check_causal_effect_on_ablation(model_pair, uni_test_set, node_type=\"n\", verbose=False,  use_mean_cache=use_mean_cache)\n",
    "za_result_in_circuit = check_causal_effect_on_ablation(model_pair, uni_test_set, node_type=\"c\", verbose=False,  use_mean_cache=use_mean_cache)"
   ]
  },
  {
   "cell_type": "code",
   "execution_count": 27,
   "metadata": {},
   "outputs": [
    {
     "name": "stdout",
     "output_type": "stream",
     "text": [
      "None {'lr': 0.01, 'losses': 'all', 'atol': 0.05, 'batch_size': 512, 'use_single_loss': False, 'iit_weight': 1.0, 'behavior_weight': 1.0, 'strict_weight': 1.0} <class 'iit.model_pairs.strict_iit_model_pair.StrictIITModelPair'>\n"
     ]
    },
    {
     "data": {
      "text/html": [
       "<div>\n",
       "<style scoped>\n",
       "    .dataframe tbody tr th:only-of-type {\n",
       "        vertical-align: middle;\n",
       "    }\n",
       "\n",
       "    .dataframe tbody tr th {\n",
       "        vertical-align: top;\n",
       "    }\n",
       "\n",
       "    .dataframe thead th {\n",
       "        text-align: right;\n",
       "    }\n",
       "</style>\n",
       "<table border=\"1\" class=\"dataframe\">\n",
       "  <thead>\n",
       "    <tr style=\"text-align: right;\">\n",
       "      <th></th>\n",
       "      <th>node</th>\n",
       "      <th>status</th>\n",
       "      <th>causal effect</th>\n",
       "    </tr>\n",
       "  </thead>\n",
       "  <tbody>\n",
       "    <tr>\n",
       "      <th>0</th>\n",
       "      <td>blocks.0.attn.hook_result, head  0</td>\n",
       "      <td>not_in_circuit</td>\n",
       "      <td>0.000000</td>\n",
       "    </tr>\n",
       "    <tr>\n",
       "      <th>1</th>\n",
       "      <td>blocks.0.attn.hook_result, head  1</td>\n",
       "      <td>not_in_circuit</td>\n",
       "      <td>0.000000</td>\n",
       "    </tr>\n",
       "    <tr>\n",
       "      <th>2</th>\n",
       "      <td>blocks.0.attn.hook_result, head  2</td>\n",
       "      <td>not_in_circuit</td>\n",
       "      <td>0.000000</td>\n",
       "    </tr>\n",
       "    <tr>\n",
       "      <th>3</th>\n",
       "      <td>blocks.0.attn.hook_result, head  3</td>\n",
       "      <td>not_in_circuit</td>\n",
       "      <td>0.000000</td>\n",
       "    </tr>\n",
       "    <tr>\n",
       "      <th>4</th>\n",
       "      <td>blocks.1.attn.hook_result, head  0</td>\n",
       "      <td>not_in_circuit</td>\n",
       "      <td>0.715625</td>\n",
       "    </tr>\n",
       "    <tr>\n",
       "      <th>5</th>\n",
       "      <td>blocks.1.attn.hook_result, head  3</td>\n",
       "      <td>not_in_circuit</td>\n",
       "      <td>0.000000</td>\n",
       "    </tr>\n",
       "    <tr>\n",
       "      <th>6</th>\n",
       "      <td>blocks.1.mlp.hook_post</td>\n",
       "      <td>not_in_circuit</td>\n",
       "      <td>0.000000</td>\n",
       "    </tr>\n",
       "    <tr>\n",
       "      <th>7</th>\n",
       "      <td>blocks.0.mlp.hook_post</td>\n",
       "      <td>in_circuit</td>\n",
       "      <td>0.778906</td>\n",
       "    </tr>\n",
       "    <tr>\n",
       "      <th>8</th>\n",
       "      <td>blocks.1.attn.hook_result, head  1:3</td>\n",
       "      <td>in_circuit</td>\n",
       "      <td>0.631250</td>\n",
       "    </tr>\n",
       "  </tbody>\n",
       "</table>\n",
       "</div>"
      ],
      "text/plain": [
       "                                   node          status  causal effect\n",
       "0    blocks.0.attn.hook_result, head  0  not_in_circuit       0.000000\n",
       "1    blocks.0.attn.hook_result, head  1  not_in_circuit       0.000000\n",
       "2    blocks.0.attn.hook_result, head  2  not_in_circuit       0.000000\n",
       "3    blocks.0.attn.hook_result, head  3  not_in_circuit       0.000000\n",
       "4    blocks.1.attn.hook_result, head  0  not_in_circuit       0.715625\n",
       "5    blocks.1.attn.hook_result, head  3  not_in_circuit       0.000000\n",
       "6                blocks.1.mlp.hook_post  not_in_circuit       0.000000\n",
       "7                blocks.0.mlp.hook_post      in_circuit       0.778906\n",
       "8  blocks.1.attn.hook_result, head  1:3      in_circuit       0.631250"
      ]
     },
     "execution_count": 27,
     "metadata": {},
     "output_type": "execute_result"
    }
   ],
   "source": [
    "df = make_dataframe_of_results(za_result_not_in_circuit, za_result_in_circuit)\n",
    "# df.style.map(color_table, subset=[\"status\"])\n",
    "print(attn_idx, training_args, tracr_model_class)\n",
    "df"
   ]
  },
  {
   "cell_type": "markdown",
   "metadata": {},
   "source": [
    "### Combined table"
   ]
  },
  {
   "cell_type": "code",
   "execution_count": 28,
   "metadata": {},
   "outputs": [
    {
     "name": "stdout",
     "output_type": "stream",
     "text": [
      "None {'lr': 0.01, 'losses': 'all', 'atol': 0.05, 'batch_size': 512, 'use_single_loss': False, 'iit_weight': 1.0, 'behavior_weight': 1.0, 'strict_weight': 1.0} <class 'iit.model_pairs.strict_iit_model_pair.StrictIITModelPair'>\n"
     ]
    },
    {
     "data": {
      "text/html": [
       "<div>\n",
       "<style scoped>\n",
       "    .dataframe tbody tr th:only-of-type {\n",
       "        vertical-align: middle;\n",
       "    }\n",
       "\n",
       "    .dataframe tbody tr th {\n",
       "        vertical-align: top;\n",
       "    }\n",
       "\n",
       "    .dataframe thead th {\n",
       "        text-align: right;\n",
       "    }\n",
       "</style>\n",
       "<table border=\"1\" class=\"dataframe\">\n",
       "  <thead>\n",
       "    <tr style=\"text-align: right;\">\n",
       "      <th></th>\n",
       "      <th>node</th>\n",
       "      <th>status</th>\n",
       "      <th>resample_ablate_effect</th>\n",
       "      <th>mean_ablate_effect</th>\n",
       "    </tr>\n",
       "  </thead>\n",
       "  <tbody>\n",
       "    <tr>\n",
       "      <th>0</th>\n",
       "      <td>blocks.0.attn.hook_result, head  0</td>\n",
       "      <td>not_in_circuit</td>\n",
       "      <td>0.000013</td>\n",
       "      <td>0.000000</td>\n",
       "    </tr>\n",
       "    <tr>\n",
       "      <th>1</th>\n",
       "      <td>blocks.0.attn.hook_result, head  1</td>\n",
       "      <td>not_in_circuit</td>\n",
       "      <td>0.002159</td>\n",
       "      <td>0.000000</td>\n",
       "    </tr>\n",
       "    <tr>\n",
       "      <th>2</th>\n",
       "      <td>blocks.0.attn.hook_result, head  2</td>\n",
       "      <td>not_in_circuit</td>\n",
       "      <td>0.000000</td>\n",
       "      <td>0.000000</td>\n",
       "    </tr>\n",
       "    <tr>\n",
       "      <th>3</th>\n",
       "      <td>blocks.0.attn.hook_result, head  3</td>\n",
       "      <td>not_in_circuit</td>\n",
       "      <td>0.000000</td>\n",
       "      <td>0.000000</td>\n",
       "    </tr>\n",
       "    <tr>\n",
       "      <th>4</th>\n",
       "      <td>blocks.1.attn.hook_result, head  0</td>\n",
       "      <td>not_in_circuit</td>\n",
       "      <td>1.000000</td>\n",
       "      <td>0.715625</td>\n",
       "    </tr>\n",
       "    <tr>\n",
       "      <th>5</th>\n",
       "      <td>blocks.1.attn.hook_result, head  3</td>\n",
       "      <td>not_in_circuit</td>\n",
       "      <td>0.010526</td>\n",
       "      <td>0.000000</td>\n",
       "    </tr>\n",
       "    <tr>\n",
       "      <th>6</th>\n",
       "      <td>blocks.1.mlp.hook_post</td>\n",
       "      <td>not_in_circuit</td>\n",
       "      <td>0.207744</td>\n",
       "      <td>0.000000</td>\n",
       "    </tr>\n",
       "    <tr>\n",
       "      <th>7</th>\n",
       "      <td>blocks.0.mlp.hook_post</td>\n",
       "      <td>in_circuit</td>\n",
       "      <td>1.000000</td>\n",
       "      <td>0.778906</td>\n",
       "    </tr>\n",
       "    <tr>\n",
       "      <th>8</th>\n",
       "      <td>blocks.1.attn.hook_result, head  1:3</td>\n",
       "      <td>in_circuit</td>\n",
       "      <td>1.000000</td>\n",
       "      <td>0.631250</td>\n",
       "    </tr>\n",
       "  </tbody>\n",
       "</table>\n",
       "</div>"
      ],
      "text/plain": [
       "                                   node          status  \\\n",
       "0    blocks.0.attn.hook_result, head  0  not_in_circuit   \n",
       "1    blocks.0.attn.hook_result, head  1  not_in_circuit   \n",
       "2    blocks.0.attn.hook_result, head  2  not_in_circuit   \n",
       "3    blocks.0.attn.hook_result, head  3  not_in_circuit   \n",
       "4    blocks.1.attn.hook_result, head  0  not_in_circuit   \n",
       "5    blocks.1.attn.hook_result, head  3  not_in_circuit   \n",
       "6                blocks.1.mlp.hook_post  not_in_circuit   \n",
       "7                blocks.0.mlp.hook_post      in_circuit   \n",
       "8  blocks.1.attn.hook_result, head  1:3      in_circuit   \n",
       "\n",
       "   resample_ablate_effect  mean_ablate_effect  \n",
       "0                0.000013            0.000000  \n",
       "1                0.002159            0.000000  \n",
       "2                0.000000            0.000000  \n",
       "3                0.000000            0.000000  \n",
       "4                1.000000            0.715625  \n",
       "5                0.010526            0.000000  \n",
       "6                0.207744            0.000000  \n",
       "7                1.000000            0.778906  \n",
       "8                1.000000            0.631250  "
      ]
     },
     "execution_count": 28,
     "metadata": {},
     "output_type": "execute_result"
    }
   ],
   "source": [
    "from iit_utils.evals import make_combined_dataframe_of_results\n",
    "df = make_combined_dataframe_of_results(result_not_in_circuit, result_in_circuit, za_result_not_in_circuit, za_result_in_circuit, use_mean_cache=use_mean_cache)\n",
    "# df.style.apply(color_table, subset=[\"status\"], method = \"map\")   \n",
    "print(attn_idx, training_args, tracr_model_class)\n",
    "df"
   ]
  },
  {
   "cell_type": "code",
   "execution_count": 29,
   "metadata": {},
   "outputs": [],
   "source": [
    "# save the results\n",
    "import time\n",
    "save_dir = f\"results/{tracr_model_class.__name__}/{time.strftime('%d-%H-%M-%S')}\"\n",
    "from iit_utils.evals import save_result\n",
    "save_result(df, save_dir, model_pair)"
   ]
  },
  {
   "cell_type": "markdown",
   "metadata": {},
   "source": [
    "### Rough"
   ]
  },
  {
   "cell_type": "code",
   "execution_count": 30,
   "metadata": {},
   "outputs": [],
   "source": [
    "# def get_all_bad_examples(model_pair, loader, atol=5e-2):\n",
    "#     model_pair.ll_model.eval()\n",
    "#     model_pair.hl_model.eval()\n",
    "#     bad_io_examples = []\n",
    "#     bad_ii_examples = []\n",
    "\n",
    "#     for base_in, ablation_in in tqdm(loader):\n",
    "#         base_in = model_pair.get_encoded_input_from_torch_input(base_in)\n",
    "#         ablation_in = model_pair.get_encoded_input_from_torch_input(ablation_in)\n",
    "#         for node in model_pair.corr.keys():\n",
    "#             hl_node = node.name\n",
    "#             ll_out, hl_out = model_pair.do_intervention(base_in, ablation_in, hl_node)\n",
    "#             if model_pair.hl_model.is_categorical():\n",
    "#                 top1 = t.argmax(ll_out, dim=1)\n",
    "#                 correct = (top1 == hl_out).float()\n",
    "#             else:\n",
    "#                 correct = ((ll_out - hl_out).abs() < atol).float()\n",
    "            \n",
    "#             for i, c in enumerate(correct):\n",
    "#                 print(c)\n",
    "#                 if c == 0:\n",
    "#                     bad_ii_examples.append((base_in[i], ablation_in[i]))\n",
    "#         base_x, base_y = base_in\n",
    "#         ll_out = model_pair.ll_model(base_x)\n",
    "#         if model_pair.hl_model.is_categorical():\n",
    "#             top1 = t.argmax(ll_out, dim=1)\n",
    "#             correct = (top1 == base_y).float()\n",
    "#         else:\n",
    "#             correct = ((ll_out - base_y).abs() < atol).float()\n",
    "        \n",
    "#         for i, c in enumerate(correct):\n",
    "#             if c == 0:\n",
    "#                 if base_x[i] not in bad_io_examples:\n",
    "#                     bad_io_examples.append((base_x[i]))\n",
    "\n",
    "#     return bad_io_examples, bad_ii_examples\n",
    "\n",
    "# bad_io_examples, bad_ii_examples = get_all_bad_examples(model_pair, test_loader, atol)\n",
    "\n",
    "# bad_io_examples, bad_ii_examples"
   ]
  },
  {
   "cell_type": "code",
   "execution_count": 31,
   "metadata": {},
   "outputs": [],
   "source": [
    "# np.random.seed(0)\n",
    "# t.manual_seed(0)\n",
    "# test_loader = DataLoader(test_set, batch_size=2, shuffle=True)\n",
    "# base_in, ablation_in = next(iter(test_loader))\n",
    "\n",
    "# hooker = model_pair.make_ll_ablation_hook(nodes_not_in_circuit[2])\n",
    "# base_x, base_y = model_pair.get_encoded_input_from_torch_input(base_in)\n",
    "# ablation_x, ablation_y = model_pair.get_encoded_input_from_torch_input(ablation_in)\n",
    "# ll_out = do_intervention(model_pair.ll_model, base_x, ablation_x, nodes_not_in_circuit[2], hooker)\n",
    "# ll_base_out, ll_base_cache = model_pair.ll_model.run_with_cache(base_x)\n",
    "# ll_ablation_out, ll_ablation_cache = model_pair.ll_model.run_with_cache(ablation_x)\n",
    "# for i in range(2):\n",
    "#     print(\n",
    "#         \"---\",\n",
    "#         f\"example {i}\", \n",
    "#         \"base_y:\", base_y[i],\n",
    "#         \"ll_base_out:\", ll_base_out[i].T,\n",
    "#         \"\",\n",
    "#         \"ablation_y:\", ablation_y[i],\n",
    "#         \"ll_ablation_out:\", ll_ablation_out[i].T,\n",
    "#         \"\",\n",
    "#         \"ll_out:\", ll_out[i].T,\n",
    "#         sep=\"\\n\"\n",
    "#     )"
   ]
  },
  {
   "cell_type": "code",
   "execution_count": null,
   "metadata": {},
   "outputs": [],
   "source": []
  }
 ],
 "metadata": {
  "kernelspec": {
   "display_name": "Python 3 (ipykernel)",
   "language": "python",
   "name": "python3"
  },
  "language_info": {
   "codemirror_mode": {
    "name": "ipython",
    "version": 3
   },
   "file_extension": ".py",
   "mimetype": "text/x-python",
   "name": "python",
   "nbconvert_exporter": "python",
   "pygments_lexer": "ipython3",
   "version": "3.11.4"
  }
 },
 "nbformat": 4,
 "nbformat_minor": 4
}
